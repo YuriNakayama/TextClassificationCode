{
 "cells": [
  {
   "cell_type": "markdown",
   "id": "b95f9187",
   "metadata": {},
   "source": [
    "# Import"
   ]
  },
  {
   "cell_type": "code",
   "execution_count": 2,
   "id": "80a85ab5",
   "metadata": {
    "ExecuteTime": {
     "end_time": "2022-12-10T07:43:29.568197Z",
     "start_time": "2022-12-10T07:43:28.245919Z"
    }
   },
   "outputs": [],
   "source": [
    "import csv\n",
    "import os\n",
    "import sys\n",
    "\n",
    "import matplotlib.pyplot as plt\n",
    "import numpy as np\n",
    "import pandas as pd\n",
    "import seaborn as sns\n",
    "from nltk import word_tokenize\n",
    "from tqdm import tqdm"
   ]
  },
  {
   "cell_type": "markdown",
   "id": "2543f4e4",
   "metadata": {},
   "source": [
    "## Add configuration file"
   ]
  },
  {
   "cell_type": "code",
   "execution_count": 3,
   "id": "b62547de",
   "metadata": {
    "ExecuteTime": {
     "end_time": "2022-12-10T07:43:29.574118Z",
     "start_time": "2022-12-10T07:43:29.571429Z"
    }
   },
   "outputs": [],
   "source": [
    "sys.path.append(\"/home/jovyan/core/config/\")"
   ]
  },
  {
   "cell_type": "code",
   "execution_count": 4,
   "id": "84da401b",
   "metadata": {
    "ExecuteTime": {
     "end_time": "2022-12-10T07:43:29.581208Z",
     "start_time": "2022-12-10T07:43:29.576542Z"
    }
   },
   "outputs": [],
   "source": [
    "from ALL import config "
   ]
  },
  {
   "cell_type": "markdown",
   "id": "9330548e",
   "metadata": {},
   "source": [
    "## Set condition"
   ]
  },
  {
   "cell_type": "code",
   "execution_count": 5,
   "id": "a30f3623",
   "metadata": {
    "ExecuteTime": {
     "end_time": "2022-12-10T07:43:29.587864Z",
     "start_time": "2022-12-10T07:43:29.583884Z"
    }
   },
   "outputs": [],
   "source": [
    "tqdm.pandas()\n",
    "pd.set_option(\"display.max_columns\", 100)\n",
    "pd.set_option(\"display.max_rows\", 50)"
   ]
  },
  {
   "cell_type": "markdown",
   "id": "52c60a4f",
   "metadata": {},
   "source": [
    "# Read data"
   ]
  },
  {
   "cell_type": "code",
   "execution_count": 6,
   "id": "c81d3638",
   "metadata": {
    "ExecuteTime": {
     "end_time": "2022-12-10T07:43:31.216480Z",
     "start_time": "2022-12-10T07:43:29.589711Z"
    },
    "scrolled": true
   },
   "outputs": [],
   "source": [
    "newsgroups_df = pd.read_csv(\"../../../Preprocessing/data/20News/master.csv\", index_col=0)"
   ]
  },
  {
   "cell_type": "code",
   "execution_count": 7,
   "id": "95389cd0",
   "metadata": {
    "ExecuteTime": {
     "end_time": "2022-12-10T07:43:31.222446Z",
     "start_time": "2022-12-10T07:43:31.218598Z"
    }
   },
   "outputs": [],
   "source": [
    "with open(\"../../../Preprocessing/data/20News/class.csv\", mode=\"r\") as f:\n",
    "    reader = csv.reader(f)\n",
    "    class_labels = [label for label in reader]"
   ]
  },
  {
   "cell_type": "markdown",
   "id": "c629a055",
   "metadata": {},
   "source": [
    "# word count"
   ]
  },
  {
   "cell_type": "code",
   "execution_count": 8,
   "id": "a03bff10",
   "metadata": {
    "ExecuteTime": {
     "end_time": "2022-12-10T07:44:37.329399Z",
     "start_time": "2022-12-10T07:43:31.224415Z"
    }
   },
   "outputs": [
    {
     "name": "stderr",
     "output_type": "stream",
     "text": [
      "100%|██████████| 18846/18846 [00:50<00:00, 371.85it/s]\n",
      "100%|██████████| 18846/18846 [00:15<00:00, 1223.77it/s]\n"
     ]
    }
   ],
   "source": [
    "newsgroups_df[\"words\"] = newsgroups_df.words.progress_apply(lambda x: word_tokenize(x))\n",
    "newsgroups_df[\"words_nonstop\"] = newsgroups_df.words_nonstop.progress_apply(lambda x: word_tokenize(x))"
   ]
  },
  {
   "cell_type": "code",
   "execution_count": 10,
   "id": "38b45985",
   "metadata": {
    "ExecuteTime": {
     "end_time": "2022-12-10T07:44:37.428496Z",
     "start_time": "2022-12-10T07:44:37.347482Z"
    }
   },
   "outputs": [
    {
     "name": "stderr",
     "output_type": "stream",
     "text": [
      "100%|██████████| 18846/18846 [00:00<00:00, 524294.95it/s]\n",
      "100%|██████████| 18846/18846 [00:00<00:00, 535243.65it/s]\n"
     ]
    }
   ],
   "source": [
    "newsgroups_df[\"words_length\"] = newsgroups_df.words.progress_apply(lambda x: len(x))\n",
    "newsgroups_df[\"words_nonstop_length\"] = newsgroups_df.words_nonstop.progress_apply(lambda x: len(x))"
   ]
  },
  {
   "cell_type": "code",
   "execution_count": 11,
   "id": "c41abfac",
   "metadata": {
    "ExecuteTime": {
     "end_time": "2022-12-10T07:44:45.760892Z",
     "start_time": "2022-12-10T07:44:37.430607Z"
    }
   },
   "outputs": [
    {
     "data": {
      "text/plain": [
       "<AxesSubplot: xlabel='words_length', ylabel='Count'>"
      ]
     },
     "execution_count": 11,
     "metadata": {},
     "output_type": "execute_result"
    },
    {
     "data": {
      "image/png": "[encoded data removed]",
      "text/plain": [
       "<Figure size 800x800 with 1 Axes>"
      ]
     },
     "metadata": {},
     "output_type": "display_data"
    }
   ],
   "source": [
    "fig = plt.figure(figsize=(8, 8))\n",
    "ax = fig.add_subplot(111)\n",
    "sns.histplot(data=newsgroups_df[\"words_length\"], ax=ax)"
   ]
  },
  {
   "cell_type": "code",
   "execution_count": 12,
   "id": "049977e6",
   "metadata": {
    "ExecuteTime": {
     "end_time": "2022-12-10T07:44:45.772066Z",
     "start_time": "2022-12-10T07:44:45.762901Z"
    }
   },
   "outputs": [
    {
     "data": {
      "text/plain": [
       "count    18846.000000\n",
       "mean       406.420301\n",
       "std       1271.690949\n",
       "min         17.000000\n",
       "25%        150.000000\n",
       "50%        241.500000\n",
       "75%        390.000000\n",
       "max      79563.000000\n",
       "Name: words_length, dtype: float64"
      ]
     },
     "execution_count": 12,
     "metadata": {},
     "output_type": "execute_result"
    }
   ],
   "source": [
    "newsgroups_df[\"words_length\"].describe()"
   ]
  },
  {
   "cell_type": "code",
   "execution_count": 13,
   "id": "95fa18fc",
   "metadata": {
    "ExecuteTime": {
     "end_time": "2022-12-10T07:44:45.780051Z",
     "start_time": "2022-12-10T07:44:45.773996Z"
    }
   },
   "outputs": [
    {
     "data": {
      "text/plain": [
       "6135.299999999985"
      ]
     },
     "execution_count": 13,
     "metadata": {},
     "output_type": "execute_result"
    }
   ],
   "source": [
    "newsgroups_df[\"words_length\"].quantile(0.996)"
   ]
  },
  {
   "cell_type": "code",
   "execution_count": 14,
   "id": "7621bd00",
   "metadata": {
    "ExecuteTime": {
     "end_time": "2022-12-10T07:44:45.797611Z",
     "start_time": "2022-12-10T07:44:45.782193Z"
    }
   },
   "outputs": [
    {
     "data": {
      "text/plain": [
       "Int64Index([  492,   654,  1350,  1800,  1948,  2104,  2528,  2694,  2808,\n",
       "             2835,  3059,  3372,  3467,  3488,  3493,  3646,  3958,  4136,\n",
       "             4205,  4325,  4372,  4716,  4721,  4793,  4867,  5017,  5274,\n",
       "             5396,  5665,  5925,  6400,  6639,  6656,  6872,  7829,  7946,\n",
       "             8300,  8452,  8709,  8906,  9065,  9443,  9683, 10085, 10373,\n",
       "            10540, 10722, 11166, 11244, 11788, 11923, 12042, 12650, 13035,\n",
       "            13043, 13292, 13356, 13483, 14002, 14201, 14472, 15076, 15132,\n",
       "            15280, 15568, 15641, 16217, 16406, 16837, 16868, 16952, 17014,\n",
       "            18102, 18321, 18415, 18730],\n",
       "           dtype='int64')"
      ]
     },
     "execution_count": 14,
     "metadata": {},
     "output_type": "execute_result"
    }
   ],
   "source": [
    "newsgroups_df[\n",
    "    newsgroups_df[\"words_length\"] > newsgroups_df[\"words_length\"].quantile(0.996)\n",
    "].index"
   ]
  },
  {
   "cell_type": "code",
   "execution_count": null,
   "id": "28c4c004",
   "metadata": {},
   "outputs": [],
   "source": []
  },
  {
   "cell_type": "code",
   "execution_count": null,
   "id": "7456194d",
   "metadata": {},
   "outputs": [],
   "source": []
  },
  {
   "cell_type": "code",
   "execution_count": null,
   "id": "24fb47ee",
   "metadata": {},
   "outputs": [],
   "source": []
  }
 ],
 "metadata": {
  "kernelspec": {
   "display_name": "Python 3 (ipykernel)",
   "language": "python",
   "name": "python3"
  },
  "language_info": {
   "codemirror_mode": {
    "name": "ipython",
    "version": 3
   },
   "file_extension": ".py",
   "mimetype": "text/x-python",
   "name": "python",
   "nbconvert_exporter": "python",
   "pygments_lexer": "ipython3",
   "version": "3.10.8"
  },
  "toc": {
   "base_numbering": 1,
   "nav_menu": {},
   "number_sections": true,
   "sideBar": true,
   "skip_h1_title": false,
   "title_cell": "Table of Contents",
   "title_sidebar": "Contents",
   "toc_cell": false,
   "toc_position": {},
   "toc_section_display": true,
   "toc_window_display": false
  }
 },
 "nbformat": 4,
 "nbformat_minor": 5
}
