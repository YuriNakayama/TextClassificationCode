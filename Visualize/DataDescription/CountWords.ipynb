{
 "cells": [
  {
   "cell_type": "markdown",
   "id": "b95f9187",
   "metadata": {},
   "source": [
    "# Import"
   ]
  },
  {
   "cell_type": "code",
   "execution_count": 2,
   "id": "80a85ab5",
   "metadata": {
    "ExecuteTime": {
     "end_time": "2022-12-19T05:31:24.749924Z",
     "start_time": "2022-12-19T05:31:23.612320Z"
    }
   },
   "outputs": [],
   "source": [
    "import csv\n",
    "import os\n",
    "import pickle\n",
    "import sys\n",
    "\n",
    "import matplotlib.pyplot as plt\n",
    "import numpy as np\n",
    "import pandas as pd\n",
    "import seaborn as sns\n",
    "from gensim.corpora.dictionary import Dictionary\n",
    "from tqdm import tqdm"
   ]
  },
  {
   "cell_type": "markdown",
   "id": "2543f4e4",
   "metadata": {},
   "source": [
    "## Add configuration file"
   ]
  },
  {
   "cell_type": "code",
   "execution_count": 3,
   "id": "b62547de",
   "metadata": {
    "ExecuteTime": {
     "end_time": "2022-12-19T05:31:24.755451Z",
     "start_time": "2022-12-19T05:31:24.752726Z"
    }
   },
   "outputs": [],
   "source": [
    "sys.path.append(\"/home/jovyan/core/config/\")\n",
    "sys.path.append(\"/home/jovyan/core/util/\")"
   ]
  },
  {
   "cell_type": "code",
   "execution_count": 4,
   "id": "84da401b",
   "metadata": {
    "ExecuteTime": {
     "end_time": "2022-12-19T05:31:24.762953Z",
     "start_time": "2022-12-19T05:31:24.757749Z"
    }
   },
   "outputs": [],
   "source": [
    "from ALL import config\n",
    "from util import *"
   ]
  },
  {
   "cell_type": "markdown",
   "id": "9330548e",
   "metadata": {},
   "source": [
    "## Set condition"
   ]
  },
  {
   "cell_type": "code",
   "execution_count": 5,
   "id": "a30f3623",
   "metadata": {
    "ExecuteTime": {
     "end_time": "2022-12-19T05:31:24.769664Z",
     "start_time": "2022-12-19T05:31:24.765247Z"
    }
   },
   "outputs": [],
   "source": [
    "tqdm.pandas()\n",
    "pd.set_option(\"display.max_columns\", 100)\n",
    "pd.set_option(\"display.max_rows\", 50)"
   ]
  },
  {
   "cell_type": "markdown",
   "id": "52c60a4f",
   "metadata": {},
   "source": [
    "# Read data"
   ]
  },
  {
   "cell_type": "code",
   "execution_count": 7,
   "id": "cd8ec7b2",
   "metadata": {
    "ExecuteTime": {
     "end_time": "2022-12-19T05:31:29.937517Z",
     "start_time": "2022-12-19T05:31:29.934048Z"
    }
   },
   "outputs": [],
   "source": [
    "master_path = {\n",
    "    \"AgNews\": \"../../Preprocessing/data/AgNews/master.csv\",\n",
    "    \"20News\": \"../../Preprocessing/data/20News/master.csv\",\n",
    "    \"AgNewsTitle\": \"../../Preprocessing/data/AgNewsTitle/master.csv\"\n",
    "    }"
   ]
  },
  {
   "cell_type": "code",
   "execution_count": 8,
   "id": "bb39f7e1",
   "metadata": {
    "ExecuteTime": {
     "end_time": "2022-12-19T05:31:49.483798Z",
     "start_time": "2022-12-19T05:31:32.004666Z"
    }
   },
   "outputs": [
    {
     "name": "stderr",
     "output_type": "stream",
     "text": [
      "100%|██████████| 120000/120000 [00:00<00:00, 333089.45it/s]\n",
      "100%|██████████| 120000/120000 [00:00<00:00, 179819.85it/s]\n",
      "100%|██████████| 18770/18770 [00:00<00:00, 57140.58it/s]\n",
      "100%|██████████| 18770/18770 [00:00<00:00, 45566.35it/s]\n",
      "100%|██████████| 120000/120000 [00:00<00:00, 531126.25it/s]\n",
      "100%|██████████| 120000/120000 [00:00<00:00, 287142.28it/s]\n"
     ]
    }
   ],
   "source": [
    "counts = {}\n",
    "for df_name, df_path in master_path.items():\n",
    "    # 平均単語数\n",
    "    df = pd.read_csv(df_path, index_col=0)\n",
    "    df[\"word_length\"] = df.words.progress_apply(lambda x: len(x.split(\" \")))\n",
    "    mean_words_count = df.word_length.mean()\n",
    "\n",
    "    #　平均した出現単語の種類\n",
    "    dictionary = Dictionary(df.words.progress_apply(lambda x: x.split(\" \")).tolist())\n",
    "    mean_words_variation = len(dictionary) / len(df)\n",
    "    \n",
    "    # 出現単語の種類\n",
    "    words_variation = len(dictionary)\n",
    "    \n",
    "    # 文章数\n",
    "    document_count = len(df)\n",
    "    \n",
    "    counts[df_name] = {\n",
    "        \"mean_words_count\": mean_words_count,\n",
    "        \"mean_words_variation\": mean_words_variation,\n",
    "        \"words_variation\": words_variation,\n",
    "        \"document_count\": document_count,\n",
    "    }"
   ]
  },
  {
   "cell_type": "code",
   "execution_count": 9,
   "id": "9f672ef0",
   "metadata": {
    "ExecuteTime": {
     "end_time": "2022-12-19T05:31:49.489864Z",
     "start_time": "2022-12-19T05:31:49.486416Z"
    }
   },
   "outputs": [],
   "source": [
    "counts = pd.DataFrame(counts)"
   ]
  },
  {
   "cell_type": "code",
   "execution_count": 10,
   "id": "806bc785",
   "metadata": {
    "ExecuteTime": {
     "end_time": "2022-12-19T05:31:49.563663Z",
     "start_time": "2022-12-19T05:31:49.491992Z"
    }
   },
   "outputs": [
    {
     "data": {
      "text/html": [
       "<style type=\"text/css\">\n",
       "#T_4a7c6_row2_col1, #T_4a7c6_row3_col0, #T_4a7c6_row3_col2 {\n",
       "  background-color: yellow;\n",
       "}\n",
       "</style>\n",
       "<table id=\"T_4a7c6\">\n",
       "  <thead>\n",
       "    <tr>\n",
       "      <th class=\"blank level0\" >&nbsp;</th>\n",
       "      <th id=\"T_4a7c6_level0_col0\" class=\"col_heading level0 col0\" >AgNews</th>\n",
       "      <th id=\"T_4a7c6_level0_col1\" class=\"col_heading level0 col1\" >20News</th>\n",
       "      <th id=\"T_4a7c6_level0_col2\" class=\"col_heading level0 col2\" >AgNewsTitle</th>\n",
       "    </tr>\n",
       "  </thead>\n",
       "  <tbody>\n",
       "    <tr>\n",
       "      <th id=\"T_4a7c6_level0_row0\" class=\"row_heading level0 row0\" >mean_words_count</th>\n",
       "      <td id=\"T_4a7c6_row0_col0\" class=\"data row0 col0\" >35.890567</td>\n",
       "      <td id=\"T_4a7c6_row0_col1\" class=\"data row0 col1\" >344.703676</td>\n",
       "      <td id=\"T_4a7c6_row0_col2\" class=\"data row0 col2\" >8.055667</td>\n",
       "    </tr>\n",
       "    <tr>\n",
       "      <th id=\"T_4a7c6_level0_row1\" class=\"row_heading level0 row1\" >mean_words_variation</th>\n",
       "      <td id=\"T_4a7c6_row1_col0\" class=\"data row1 col0\" >0.868342</td>\n",
       "      <td id=\"T_4a7c6_row1_col1\" class=\"data row1 col1\" >10.245765</td>\n",
       "      <td id=\"T_4a7c6_row1_col2\" class=\"data row1 col2\" >0.468583</td>\n",
       "    </tr>\n",
       "    <tr>\n",
       "      <th id=\"T_4a7c6_level0_row2\" class=\"row_heading level0 row2\" >words_variation</th>\n",
       "      <td id=\"T_4a7c6_row2_col0\" class=\"data row2 col0\" >104201.000000</td>\n",
       "      <td id=\"T_4a7c6_row2_col1\" class=\"data row2 col1\" >192313.000000</td>\n",
       "      <td id=\"T_4a7c6_row2_col2\" class=\"data row2 col2\" >56230.000000</td>\n",
       "    </tr>\n",
       "    <tr>\n",
       "      <th id=\"T_4a7c6_level0_row3\" class=\"row_heading level0 row3\" >document_count</th>\n",
       "      <td id=\"T_4a7c6_row3_col0\" class=\"data row3 col0\" >120000.000000</td>\n",
       "      <td id=\"T_4a7c6_row3_col1\" class=\"data row3 col1\" >18770.000000</td>\n",
       "      <td id=\"T_4a7c6_row3_col2\" class=\"data row3 col2\" >120000.000000</td>\n",
       "    </tr>\n",
       "  </tbody>\n",
       "</table>\n"
      ],
      "text/plain": [
       "<pandas.io.formats.style.Styler at 0x7f870d233f10>"
      ]
     },
     "execution_count": 10,
     "metadata": {},
     "output_type": "execute_result"
    }
   ],
   "source": [
    "counts.style.highlight_max()"
   ]
  },
  {
   "cell_type": "code",
   "execution_count": 11,
   "id": "6bb182e7",
   "metadata": {
    "ExecuteTime": {
     "end_time": "2022-12-19T05:31:49.573024Z",
     "start_time": "2022-12-19T05:31:49.566755Z"
    }
   },
   "outputs": [
    {
     "data": {
      "text/html": [
       "<style type=\"text/css\">\n",
       "</style>\n",
       "<table id=\"T_0a42a\">\n",
       "  <thead>\n",
       "    <tr>\n",
       "      <th class=\"blank level0\" >&nbsp;</th>\n",
       "      <th id=\"T_0a42a_level0_col0\" class=\"col_heading level0 col0\" >mean_words_count</th>\n",
       "      <th id=\"T_0a42a_level0_col1\" class=\"col_heading level0 col1\" >mean_words_variation</th>\n",
       "      <th id=\"T_0a42a_level0_col2\" class=\"col_heading level0 col2\" >words_variation</th>\n",
       "      <th id=\"T_0a42a_level0_col3\" class=\"col_heading level0 col3\" >document_count</th>\n",
       "    </tr>\n",
       "  </thead>\n",
       "  <tbody>\n",
       "    <tr>\n",
       "      <th id=\"T_0a42a_level0_row0\" class=\"row_heading level0 row0\" >AgNews</th>\n",
       "      <td id=\"T_0a42a_row0_col0\" class=\"data row0 col0\" >35.890567</td>\n",
       "      <td id=\"T_0a42a_row0_col1\" class=\"data row0 col1\" >0.868342</td>\n",
       "      <td id=\"T_0a42a_row0_col2\" class=\"data row0 col2\" >104201.000000</td>\n",
       "      <td id=\"T_0a42a_row0_col3\" class=\"data row0 col3\" >120000</td>\n",
       "    </tr>\n",
       "    <tr>\n",
       "      <th id=\"T_0a42a_level0_row1\" class=\"row_heading level0 row1\" >20News</th>\n",
       "      <td id=\"T_0a42a_row1_col0\" class=\"data row1 col0\" >344.703676</td>\n",
       "      <td id=\"T_0a42a_row1_col1\" class=\"data row1 col1\" >10.245765</td>\n",
       "      <td id=\"T_0a42a_row1_col2\" class=\"data row1 col2\" >192313.000000</td>\n",
       "      <td id=\"T_0a42a_row1_col3\" class=\"data row1 col3\" >18770</td>\n",
       "    </tr>\n",
       "    <tr>\n",
       "      <th id=\"T_0a42a_level0_row2\" class=\"row_heading level0 row2\" >AgNewsTitle</th>\n",
       "      <td id=\"T_0a42a_row2_col0\" class=\"data row2 col0\" >8.055667</td>\n",
       "      <td id=\"T_0a42a_row2_col1\" class=\"data row2 col1\" >0.468583</td>\n",
       "      <td id=\"T_0a42a_row2_col2\" class=\"data row2 col2\" >56230.000000</td>\n",
       "      <td id=\"T_0a42a_row2_col3\" class=\"data row2 col3\" >120000</td>\n",
       "    </tr>\n",
       "  </tbody>\n",
       "</table>\n"
      ],
      "text/plain": [
       "<pandas.io.formats.style.Styler at 0x7f87055f0730>"
      ]
     },
     "execution_count": 11,
     "metadata": {},
     "output_type": "execute_result"
    }
   ],
   "source": [
    "counts.T.style.format(\n",
    "    escape=\"latex\", formatter={\"document_count\": \"{:.0f}\"}\n",
    ")"
   ]
  },
  {
   "cell_type": "markdown",
   "id": "3b7aee82",
   "metadata": {},
   "source": [
    "https://pandas.pydata.org/docs/reference/api/pandas.io.formats.style.Styler.to_latex.html"
   ]
  },
  {
   "cell_type": "code",
   "execution_count": 18,
   "id": "071c2453",
   "metadata": {
    "ExecuteTime": {
     "end_time": "2022-12-19T05:49:28.788692Z",
     "start_time": "2022-12-19T05:49:28.781441Z"
    }
   },
   "outputs": [
    {
     "name": "stdout",
     "output_type": "stream",
     "text": [
      "\\begin{table}[h]\n",
      "\\centering\n",
      "\\caption{データの統計値}\n",
      "\\label{table:1}\n",
      "\\begin{tabular}{rrr}\n",
      "\\toprule\n",
      " & mean_words_count & document_count \\\\\n",
      "\\midrule\n",
      "AgNews & 35.89 & 120000.00 \\\\\n",
      "20News & 344.70 & 18770.00 \\\\\n",
      "AgNewsTitle & 8.06 & 120000.00 \\\\\n",
      "\\bottomrule\n",
      "\\end{tabular}\n",
      "\\end{table}\n",
      "\n"
     ]
    }
   ],
   "source": [
    "print(\n",
    "    counts.T.loc[:, [\"mean_words_count\", \"document_count\"]].style.format(precision=2, escape=\"latex\").to_latex(\n",
    "        column_format=\"rrr\",\n",
    "        position=\"h\",\n",
    "        position_float=\"centering\",\n",
    "        hrules=True,\n",
    "        caption=\"データの統計値\",\n",
    "        label=\"table:1\", \n",
    "        multicol_align=\"r\"\n",
    "    )\n",
    ")"
   ]
  },
  {
   "cell_type": "code",
   "execution_count": null,
   "id": "ed05e20e",
   "metadata": {},
   "outputs": [],
   "source": []
  }
 ],
 "metadata": {
  "kernelspec": {
   "display_name": "Python 3 (ipykernel)",
   "language": "python",
   "name": "python3"
  },
  "language_info": {
   "codemirror_mode": {
    "name": "ipython",
    "version": 3
   },
   "file_extension": ".py",
   "mimetype": "text/x-python",
   "name": "python",
   "nbconvert_exporter": "python",
   "pygments_lexer": "ipython3",
   "version": "3.10.8"
  },
  "toc": {
   "base_numbering": 1,
   "nav_menu": {},
   "number_sections": true,
   "sideBar": true,
   "skip_h1_title": false,
   "title_cell": "Table of Contents",
   "title_sidebar": "Contents",
   "toc_cell": false,
   "toc_position": {},
   "toc_section_display": true,
   "toc_window_display": false
  }
 },
 "nbformat": 4,
 "nbformat_minor": 5
}
