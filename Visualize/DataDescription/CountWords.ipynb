{
 "cells": [
  {
   "cell_type": "markdown",
   "id": "b95f9187",
   "metadata": {},
   "source": [
    "# Import"
   ]
  },
  {
   "cell_type": "code",
   "execution_count": 1,
   "id": "80a85ab5",
   "metadata": {
    "ExecuteTime": {
     "end_time": "2023-01-20T14:41:50.082401Z",
     "start_time": "2023-01-20T14:41:48.920782Z"
    }
   },
   "outputs": [],
   "source": [
    "import csv\n",
    "import os\n",
    "import pickle\n",
    "import sys\n",
    "\n",
    "import matplotlib.pyplot as plt\n",
    "import numpy as np\n",
    "import pandas as pd\n",
    "import seaborn as sns\n",
    "from gensim.corpora.dictionary import Dictionary\n",
    "from tqdm import tqdm"
   ]
  },
  {
   "cell_type": "markdown",
   "id": "2543f4e4",
   "metadata": {},
   "source": [
    "## Add configuration file"
   ]
  },
  {
   "cell_type": "code",
   "execution_count": 2,
   "id": "b62547de",
   "metadata": {
    "ExecuteTime": {
     "end_time": "2023-01-20T14:41:50.087924Z",
     "start_time": "2023-01-20T14:41:50.085119Z"
    }
   },
   "outputs": [],
   "source": [
    "sys.path.append(\"/home/jovyan/core/config/\")\n",
    "sys.path.append(\"/home/jovyan/core/util/\")"
   ]
  },
  {
   "cell_type": "code",
   "execution_count": 3,
   "id": "84da401b",
   "metadata": {
    "ExecuteTime": {
     "end_time": "2023-01-20T14:41:50.513376Z",
     "start_time": "2023-01-20T14:41:50.090013Z"
    }
   },
   "outputs": [],
   "source": [
    "from ALL import config\n",
    "from util import *"
   ]
  },
  {
   "cell_type": "markdown",
   "id": "9330548e",
   "metadata": {},
   "source": [
    "## Set condition"
   ]
  },
  {
   "cell_type": "code",
   "execution_count": 4,
   "id": "a30f3623",
   "metadata": {
    "ExecuteTime": {
     "end_time": "2023-01-20T14:41:50.520053Z",
     "start_time": "2023-01-20T14:41:50.516471Z"
    }
   },
   "outputs": [],
   "source": [
    "tqdm.pandas()\n",
    "pd.set_option(\"display.max_columns\", 100)\n",
    "pd.set_option(\"display.max_rows\", 50)"
   ]
  },
  {
   "cell_type": "markdown",
   "id": "52c60a4f",
   "metadata": {},
   "source": [
    "# Read data"
   ]
  },
  {
   "cell_type": "code",
   "execution_count": 5,
   "id": "cd8ec7b2",
   "metadata": {
    "ExecuteTime": {
     "end_time": "2023-01-20T14:41:50.527429Z",
     "start_time": "2023-01-20T14:41:50.521977Z"
    }
   },
   "outputs": [],
   "source": [
    "master_path = {\n",
    "    \"AgNews\": \"../../Preprocessing/data/AgNews/master.csv\",\n",
    "    \"20News\": \"../../Preprocessing/data/20News/master.csv\",\n",
    "    \"AgNewsTitle\": \"../../Preprocessing/data/AgNewsTitle/master.csv\"\n",
    "    }"
   ]
  },
  {
   "cell_type": "code",
   "execution_count": 6,
   "id": "bb39f7e1",
   "metadata": {
    "ExecuteTime": {
     "end_time": "2023-01-20T14:42:07.644470Z",
     "start_time": "2023-01-20T14:41:50.529217Z"
    }
   },
   "outputs": [
    {
     "name": "stderr",
     "output_type": "stream",
     "text": [
      "100%|██████████| 120000/120000 [00:00<00:00, 335643.45it/s]\n",
      "100%|██████████| 120000/120000 [00:00<00:00, 165736.64it/s]\n",
      "100%|██████████| 18770/18770 [00:00<00:00, 58115.75it/s]\n",
      "100%|██████████| 18770/18770 [00:00<00:00, 48643.75it/s]\n",
      "100%|██████████| 120000/120000 [00:00<00:00, 525733.22it/s]\n",
      "100%|██████████| 120000/120000 [00:00<00:00, 346879.18it/s]\n"
     ]
    }
   ],
   "source": [
    "counts = {}\n",
    "for df_name, df_path in master_path.items():\n",
    "    # 平均単語数\n",
    "    df = pd.read_csv(df_path, index_col=0)\n",
    "    df[\"word_length\"] = df.words.progress_apply(lambda x: len(x.split(\" \")))\n",
    "    mean_words_count = df.word_length.mean()\n",
    "\n",
    "    #　平均した出現単語の種類\n",
    "    dictionary = Dictionary(df.words.progress_apply(lambda x: x.split(\" \")).tolist())\n",
    "    mean_words_variation = len(dictionary) / len(df)\n",
    "    \n",
    "    # 出現単語の種類\n",
    "    words_variation = len(dictionary)\n",
    "    \n",
    "    # 文章数\n",
    "    document_count = len(df)\n",
    "    \n",
    "    counts[df_name] = {\n",
    "        \"mean_words_count\": mean_words_count,\n",
    "        \"mean_words_variation\": mean_words_variation,\n",
    "        \"words_variation\": words_variation,\n",
    "        \"document_count\": document_count,\n",
    "    }"
   ]
  },
  {
   "cell_type": "code",
   "execution_count": 7,
   "id": "9f672ef0",
   "metadata": {
    "ExecuteTime": {
     "end_time": "2023-01-20T14:42:07.650326Z",
     "start_time": "2023-01-20T14:42:07.646909Z"
    }
   },
   "outputs": [],
   "source": [
    "counts = pd.DataFrame(counts)"
   ]
  },
  {
   "cell_type": "code",
   "execution_count": 8,
   "id": "806bc785",
   "metadata": {
    "ExecuteTime": {
     "end_time": "2023-01-20T14:42:07.726035Z",
     "start_time": "2023-01-20T14:42:07.652506Z"
    }
   },
   "outputs": [
    {
     "data": {
      "text/html": [
       "<style type=\"text/css\">\n",
       "#T_a0361_row2_col1, #T_a0361_row3_col0, #T_a0361_row3_col2 {\n",
       "  background-color: yellow;\n",
       "}\n",
       "</style>\n",
       "<table id=\"T_a0361\">\n",
       "  <thead>\n",
       "    <tr>\n",
       "      <th class=\"blank level0\" >&nbsp;</th>\n",
       "      <th id=\"T_a0361_level0_col0\" class=\"col_heading level0 col0\" >AgNews</th>\n",
       "      <th id=\"T_a0361_level0_col1\" class=\"col_heading level0 col1\" >20News</th>\n",
       "      <th id=\"T_a0361_level0_col2\" class=\"col_heading level0 col2\" >AgNewsTitle</th>\n",
       "    </tr>\n",
       "  </thead>\n",
       "  <tbody>\n",
       "    <tr>\n",
       "      <th id=\"T_a0361_level0_row0\" class=\"row_heading level0 row0\" >mean_words_count</th>\n",
       "      <td id=\"T_a0361_row0_col0\" class=\"data row0 col0\" >35.890567</td>\n",
       "      <td id=\"T_a0361_row0_col1\" class=\"data row0 col1\" >344.703676</td>\n",
       "      <td id=\"T_a0361_row0_col2\" class=\"data row0 col2\" >8.055667</td>\n",
       "    </tr>\n",
       "    <tr>\n",
       "      <th id=\"T_a0361_level0_row1\" class=\"row_heading level0 row1\" >mean_words_variation</th>\n",
       "      <td id=\"T_a0361_row1_col0\" class=\"data row1 col0\" >0.868342</td>\n",
       "      <td id=\"T_a0361_row1_col1\" class=\"data row1 col1\" >10.245765</td>\n",
       "      <td id=\"T_a0361_row1_col2\" class=\"data row1 col2\" >0.468583</td>\n",
       "    </tr>\n",
       "    <tr>\n",
       "      <th id=\"T_a0361_level0_row2\" class=\"row_heading level0 row2\" >words_variation</th>\n",
       "      <td id=\"T_a0361_row2_col0\" class=\"data row2 col0\" >104201.000000</td>\n",
       "      <td id=\"T_a0361_row2_col1\" class=\"data row2 col1\" >192313.000000</td>\n",
       "      <td id=\"T_a0361_row2_col2\" class=\"data row2 col2\" >56230.000000</td>\n",
       "    </tr>\n",
       "    <tr>\n",
       "      <th id=\"T_a0361_level0_row3\" class=\"row_heading level0 row3\" >document_count</th>\n",
       "      <td id=\"T_a0361_row3_col0\" class=\"data row3 col0\" >120000.000000</td>\n",
       "      <td id=\"T_a0361_row3_col1\" class=\"data row3 col1\" >18770.000000</td>\n",
       "      <td id=\"T_a0361_row3_col2\" class=\"data row3 col2\" >120000.000000</td>\n",
       "    </tr>\n",
       "  </tbody>\n",
       "</table>\n"
      ],
      "text/plain": [
       "<pandas.io.formats.style.Styler at 0x7fe19d641960>"
      ]
     },
     "execution_count": 8,
     "metadata": {},
     "output_type": "execute_result"
    }
   ],
   "source": [
    "counts.style.highlight_max()"
   ]
  },
  {
   "cell_type": "code",
   "execution_count": 9,
   "id": "6bb182e7",
   "metadata": {
    "ExecuteTime": {
     "end_time": "2023-01-20T14:42:07.734930Z",
     "start_time": "2023-01-20T14:42:07.728381Z"
    }
   },
   "outputs": [
    {
     "data": {
      "text/html": [
       "<style type=\"text/css\">\n",
       "</style>\n",
       "<table id=\"T_a527a\">\n",
       "  <thead>\n",
       "    <tr>\n",
       "      <th class=\"blank level0\" >&nbsp;</th>\n",
       "      <th id=\"T_a527a_level0_col0\" class=\"col_heading level0 col0\" >mean_words_count</th>\n",
       "      <th id=\"T_a527a_level0_col1\" class=\"col_heading level0 col1\" >mean_words_variation</th>\n",
       "      <th id=\"T_a527a_level0_col2\" class=\"col_heading level0 col2\" >words_variation</th>\n",
       "      <th id=\"T_a527a_level0_col3\" class=\"col_heading level0 col3\" >document_count</th>\n",
       "    </tr>\n",
       "  </thead>\n",
       "  <tbody>\n",
       "    <tr>\n",
       "      <th id=\"T_a527a_level0_row0\" class=\"row_heading level0 row0\" >AgNews</th>\n",
       "      <td id=\"T_a527a_row0_col0\" class=\"data row0 col0\" >35.890567</td>\n",
       "      <td id=\"T_a527a_row0_col1\" class=\"data row0 col1\" >0.868342</td>\n",
       "      <td id=\"T_a527a_row0_col2\" class=\"data row0 col2\" >104201.000000</td>\n",
       "      <td id=\"T_a527a_row0_col3\" class=\"data row0 col3\" >120000</td>\n",
       "    </tr>\n",
       "    <tr>\n",
       "      <th id=\"T_a527a_level0_row1\" class=\"row_heading level0 row1\" >20News</th>\n",
       "      <td id=\"T_a527a_row1_col0\" class=\"data row1 col0\" >344.703676</td>\n",
       "      <td id=\"T_a527a_row1_col1\" class=\"data row1 col1\" >10.245765</td>\n",
       "      <td id=\"T_a527a_row1_col2\" class=\"data row1 col2\" >192313.000000</td>\n",
       "      <td id=\"T_a527a_row1_col3\" class=\"data row1 col3\" >18770</td>\n",
       "    </tr>\n",
       "    <tr>\n",
       "      <th id=\"T_a527a_level0_row2\" class=\"row_heading level0 row2\" >AgNewsTitle</th>\n",
       "      <td id=\"T_a527a_row2_col0\" class=\"data row2 col0\" >8.055667</td>\n",
       "      <td id=\"T_a527a_row2_col1\" class=\"data row2 col1\" >0.468583</td>\n",
       "      <td id=\"T_a527a_row2_col2\" class=\"data row2 col2\" >56230.000000</td>\n",
       "      <td id=\"T_a527a_row2_col3\" class=\"data row2 col3\" >120000</td>\n",
       "    </tr>\n",
       "  </tbody>\n",
       "</table>\n"
      ],
      "text/plain": [
       "<pandas.io.formats.style.Styler at 0x7fe1952e4ca0>"
      ]
     },
     "execution_count": 9,
     "metadata": {},
     "output_type": "execute_result"
    }
   ],
   "source": [
    "counts.T.style.format(\n",
    "    escape=\"latex\", formatter={\"document_count\": \"{:.0f}\"}\n",
    ")"
   ]
  },
  {
   "cell_type": "markdown",
   "id": "3b7aee82",
   "metadata": {},
   "source": [
    "https://pandas.pydata.org/docs/reference/api/pandas.io.formats.style.Styler.to_latex.html"
   ]
  },
  {
   "cell_type": "code",
   "execution_count": 10,
   "id": "071c2453",
   "metadata": {
    "ExecuteTime": {
     "end_time": "2023-01-20T14:42:07.762346Z",
     "start_time": "2023-01-20T14:42:07.737915Z"
    },
    "scrolled": true
   },
   "outputs": [
    {
     "name": "stdout",
     "output_type": "stream",
     "text": [
      "\\begin{table}[h]\n",
      "\\centering\n",
      "\\caption{データの統計値}\n",
      "\\label{table:1}\n",
      "\\begin{tabular}{rrr}\n",
      "\\toprule\n",
      " & mean_words_count & document_count \\\\\n",
      "\\midrule\n",
      "AgNews & 35.89 & 120000.00 \\\\\n",
      "20News & 344.70 & 18770.00 \\\\\n",
      "AgNewsTitle & 8.06 & 120000.00 \\\\\n",
      "\\bottomrule\n",
      "\\end{tabular}\n",
      "\\end{table}\n",
      "\n"
     ]
    }
   ],
   "source": [
    "print(\n",
    "    counts.T.loc[:, [\"mean_words_count\", \"document_count\"]]\n",
    "    .style.format(precision=2, escape=\"latex\")\n",
    "    .to_latex(\n",
    "        column_format=\"rrr\",\n",
    "        position=\"h\",\n",
    "        position_float=\"centering\",\n",
    "        hrules=True,\n",
    "        caption=\"データの統計値\",\n",
    "        label=\"table:1\",\n",
    "        multicol_align=\"r\",\n",
    "    )\n",
    ")"
   ]
  },
  {
   "cell_type": "code",
   "execution_count": 18,
   "id": "b5e148db",
   "metadata": {
    "ExecuteTime": {
     "end_time": "2023-01-20T14:45:48.629963Z",
     "start_time": "2023-01-20T14:45:44.872220Z"
    },
    "scrolled": true
   },
   "outputs": [
    {
     "name": "stderr",
     "output_type": "stream",
     "text": [
      "100%|██████████| 120000/120000 [00:00<00:00, 338916.77it/s]\n",
      "100%|██████████| 120000/120000 [00:00<00:00, 414823.44it/s]\n",
      "100%|██████████| 18770/18770 [00:00<00:00, 65349.46it/s]\n",
      "100%|██████████| 18770/18770 [00:00<00:00, 121981.66it/s]\n",
      "100%|██████████| 120000/120000 [00:00<00:00, 527425.08it/s]\n",
      " 35%|███▍      | 41405/120000 [00:00<00:00, 485845.97it/s]\n"
     ]
    },
    {
     "ename": "AttributeError",
     "evalue": "'float' object has no attribute 'split'",
     "output_type": "error",
     "traceback": [
      "\u001b[0;31m---------------------------------------------------------------------------\u001b[0m",
      "\u001b[0;31mAttributeError\u001b[0m                            Traceback (most recent call last)",
      "Cell \u001b[0;32mIn[18], line 6\u001b[0m\n\u001b[1;32m      4\u001b[0m df[df_name] \u001b[38;5;241m=\u001b[39m pd\u001b[38;5;241m.\u001b[39mread_csv(df_path, index_col\u001b[38;5;241m=\u001b[39m\u001b[38;5;241m0\u001b[39m)\n\u001b[1;32m      5\u001b[0m df[df_name][\u001b[38;5;124m\"\u001b[39m\u001b[38;5;124mword_length\u001b[39m\u001b[38;5;124m\"\u001b[39m] \u001b[38;5;241m=\u001b[39m df[df_name]\u001b[38;5;241m.\u001b[39mwords\u001b[38;5;241m.\u001b[39mprogress_apply(\u001b[38;5;28;01mlambda\u001b[39;00m x: \u001b[38;5;28mlen\u001b[39m(x\u001b[38;5;241m.\u001b[39msplit(\u001b[38;5;124m\"\u001b[39m\u001b[38;5;124m \u001b[39m\u001b[38;5;124m\"\u001b[39m)))\n\u001b[0;32m----> 6\u001b[0m df[df_name][\u001b[38;5;124m\"\u001b[39m\u001b[38;5;124mword_length_nonstop\u001b[39m\u001b[38;5;124m\"\u001b[39m] \u001b[38;5;241m=\u001b[39m \u001b[43mdf\u001b[49m\u001b[43m[\u001b[49m\u001b[43mdf_name\u001b[49m\u001b[43m]\u001b[49m\u001b[38;5;241;43m.\u001b[39;49m\u001b[43mwords_nonstop\u001b[49m\u001b[38;5;241;43m.\u001b[39;49m\u001b[43mprogress_apply\u001b[49m\u001b[43m(\u001b[49m\u001b[38;5;28;43;01mlambda\u001b[39;49;00m\u001b[43m \u001b[49m\u001b[43mx\u001b[49m\u001b[43m:\u001b[49m\u001b[43m \u001b[49m\u001b[38;5;28;43mlen\u001b[39;49m\u001b[43m(\u001b[49m\u001b[43mx\u001b[49m\u001b[38;5;241;43m.\u001b[39;49m\u001b[43msplit\u001b[49m\u001b[43m(\u001b[49m\u001b[38;5;124;43m\"\u001b[39;49m\u001b[38;5;124;43m \u001b[39;49m\u001b[38;5;124;43m\"\u001b[39;49m\u001b[43m)\u001b[49m\u001b[43m \u001b[49m\u001b[38;5;28;43;01mif\u001b[39;49;00m\u001b[43m \u001b[49m\u001b[43mx\u001b[49m\u001b[43m \u001b[49m\u001b[38;5;241;43m!=\u001b[39;49m\u001b[43m \u001b[49m\u001b[43mnp\u001b[49m\u001b[38;5;241;43m.\u001b[39;49m\u001b[43mnan\u001b[49m\u001b[43m \u001b[49m\u001b[38;5;28;43;01melse\u001b[39;49;00m\u001b[43m \u001b[49m\u001b[38;5;241;43m0\u001b[39;49m\u001b[43m)\u001b[49m\u001b[43m)\u001b[49m\n",
      "File \u001b[0;32m/opt/conda/lib/python3.10/site-packages/tqdm/std.py:814\u001b[0m, in \u001b[0;36mtqdm.pandas.<locals>.inner_generator.<locals>.inner\u001b[0;34m(df, func, *args, **kwargs)\u001b[0m\n\u001b[1;32m    811\u001b[0m \u001b[38;5;66;03m# Apply the provided function (in **kwargs)\u001b[39;00m\n\u001b[1;32m    812\u001b[0m \u001b[38;5;66;03m# on the df using our wrapper (which provides bar updating)\u001b[39;00m\n\u001b[1;32m    813\u001b[0m \u001b[38;5;28;01mtry\u001b[39;00m:\n\u001b[0;32m--> 814\u001b[0m     \u001b[38;5;28;01mreturn\u001b[39;00m \u001b[38;5;28;43mgetattr\u001b[39;49m\u001b[43m(\u001b[49m\u001b[43mdf\u001b[49m\u001b[43m,\u001b[49m\u001b[43m \u001b[49m\u001b[43mdf_function\u001b[49m\u001b[43m)\u001b[49m\u001b[43m(\u001b[49m\u001b[43mwrapper\u001b[49m\u001b[43m,\u001b[49m\u001b[43m \u001b[49m\u001b[38;5;241;43m*\u001b[39;49m\u001b[38;5;241;43m*\u001b[39;49m\u001b[43mkwargs\u001b[49m\u001b[43m)\u001b[49m\n\u001b[1;32m    815\u001b[0m \u001b[38;5;28;01mfinally\u001b[39;00m:\n\u001b[1;32m    816\u001b[0m     t\u001b[38;5;241m.\u001b[39mclose()\n",
      "File \u001b[0;32m/opt/conda/lib/python3.10/site-packages/pandas/core/series.py:4771\u001b[0m, in \u001b[0;36mSeries.apply\u001b[0;34m(self, func, convert_dtype, args, **kwargs)\u001b[0m\n\u001b[1;32m   4661\u001b[0m \u001b[38;5;28;01mdef\u001b[39;00m \u001b[38;5;21mapply\u001b[39m(\n\u001b[1;32m   4662\u001b[0m     \u001b[38;5;28mself\u001b[39m,\n\u001b[1;32m   4663\u001b[0m     func: AggFuncType,\n\u001b[0;32m   (...)\u001b[0m\n\u001b[1;32m   4666\u001b[0m     \u001b[38;5;241m*\u001b[39m\u001b[38;5;241m*\u001b[39mkwargs,\n\u001b[1;32m   4667\u001b[0m ) \u001b[38;5;241m-\u001b[39m\u001b[38;5;241m>\u001b[39m DataFrame \u001b[38;5;241m|\u001b[39m Series:\n\u001b[1;32m   4668\u001b[0m     \u001b[38;5;124;03m\"\"\"\u001b[39;00m\n\u001b[1;32m   4669\u001b[0m \u001b[38;5;124;03m    Invoke function on values of Series.\u001b[39;00m\n\u001b[1;32m   4670\u001b[0m \n\u001b[0;32m   (...)\u001b[0m\n\u001b[1;32m   4769\u001b[0m \u001b[38;5;124;03m    dtype: float64\u001b[39;00m\n\u001b[1;32m   4770\u001b[0m \u001b[38;5;124;03m    \"\"\"\u001b[39;00m\n\u001b[0;32m-> 4771\u001b[0m     \u001b[38;5;28;01mreturn\u001b[39;00m \u001b[43mSeriesApply\u001b[49m\u001b[43m(\u001b[49m\u001b[38;5;28;43mself\u001b[39;49m\u001b[43m,\u001b[49m\u001b[43m \u001b[49m\u001b[43mfunc\u001b[49m\u001b[43m,\u001b[49m\u001b[43m \u001b[49m\u001b[43mconvert_dtype\u001b[49m\u001b[43m,\u001b[49m\u001b[43m \u001b[49m\u001b[43margs\u001b[49m\u001b[43m,\u001b[49m\u001b[43m \u001b[49m\u001b[43mkwargs\u001b[49m\u001b[43m)\u001b[49m\u001b[38;5;241;43m.\u001b[39;49m\u001b[43mapply\u001b[49m\u001b[43m(\u001b[49m\u001b[43m)\u001b[49m\n",
      "File \u001b[0;32m/opt/conda/lib/python3.10/site-packages/pandas/core/apply.py:1105\u001b[0m, in \u001b[0;36mSeriesApply.apply\u001b[0;34m(self)\u001b[0m\n\u001b[1;32m   1102\u001b[0m     \u001b[38;5;28;01mreturn\u001b[39;00m \u001b[38;5;28mself\u001b[39m\u001b[38;5;241m.\u001b[39mapply_str()\n\u001b[1;32m   1104\u001b[0m \u001b[38;5;66;03m# self.f is Callable\u001b[39;00m\n\u001b[0;32m-> 1105\u001b[0m \u001b[38;5;28;01mreturn\u001b[39;00m \u001b[38;5;28;43mself\u001b[39;49m\u001b[38;5;241;43m.\u001b[39;49m\u001b[43mapply_standard\u001b[49m\u001b[43m(\u001b[49m\u001b[43m)\u001b[49m\n",
      "File \u001b[0;32m/opt/conda/lib/python3.10/site-packages/pandas/core/apply.py:1156\u001b[0m, in \u001b[0;36mSeriesApply.apply_standard\u001b[0;34m(self)\u001b[0m\n\u001b[1;32m   1154\u001b[0m     \u001b[38;5;28;01melse\u001b[39;00m:\n\u001b[1;32m   1155\u001b[0m         values \u001b[38;5;241m=\u001b[39m obj\u001b[38;5;241m.\u001b[39mastype(\u001b[38;5;28mobject\u001b[39m)\u001b[38;5;241m.\u001b[39m_values\n\u001b[0;32m-> 1156\u001b[0m         mapped \u001b[38;5;241m=\u001b[39m \u001b[43mlib\u001b[49m\u001b[38;5;241;43m.\u001b[39;49m\u001b[43mmap_infer\u001b[49m\u001b[43m(\u001b[49m\n\u001b[1;32m   1157\u001b[0m \u001b[43m            \u001b[49m\u001b[43mvalues\u001b[49m\u001b[43m,\u001b[49m\n\u001b[1;32m   1158\u001b[0m \u001b[43m            \u001b[49m\u001b[43mf\u001b[49m\u001b[43m,\u001b[49m\n\u001b[1;32m   1159\u001b[0m \u001b[43m            \u001b[49m\u001b[43mconvert\u001b[49m\u001b[38;5;241;43m=\u001b[39;49m\u001b[38;5;28;43mself\u001b[39;49m\u001b[38;5;241;43m.\u001b[39;49m\u001b[43mconvert_dtype\u001b[49m\u001b[43m,\u001b[49m\n\u001b[1;32m   1160\u001b[0m \u001b[43m        \u001b[49m\u001b[43m)\u001b[49m\n\u001b[1;32m   1162\u001b[0m \u001b[38;5;28;01mif\u001b[39;00m \u001b[38;5;28mlen\u001b[39m(mapped) \u001b[38;5;129;01mand\u001b[39;00m \u001b[38;5;28misinstance\u001b[39m(mapped[\u001b[38;5;241m0\u001b[39m], ABCSeries):\n\u001b[1;32m   1163\u001b[0m     \u001b[38;5;66;03m# GH#43986 Need to do list(mapped) in order to get treated as nested\u001b[39;00m\n\u001b[1;32m   1164\u001b[0m     \u001b[38;5;66;03m#  See also GH#25959 regarding EA support\u001b[39;00m\n\u001b[1;32m   1165\u001b[0m     \u001b[38;5;28;01mreturn\u001b[39;00m obj\u001b[38;5;241m.\u001b[39m_constructor_expanddim(\u001b[38;5;28mlist\u001b[39m(mapped), index\u001b[38;5;241m=\u001b[39mobj\u001b[38;5;241m.\u001b[39mindex)\n",
      "File \u001b[0;32m/opt/conda/lib/python3.10/site-packages/pandas/_libs/lib.pyx:2918\u001b[0m, in \u001b[0;36mpandas._libs.lib.map_infer\u001b[0;34m()\u001b[0m\n",
      "File \u001b[0;32m/opt/conda/lib/python3.10/site-packages/tqdm/std.py:809\u001b[0m, in \u001b[0;36mtqdm.pandas.<locals>.inner_generator.<locals>.inner.<locals>.wrapper\u001b[0;34m(*args, **kwargs)\u001b[0m\n\u001b[1;32m    803\u001b[0m \u001b[38;5;28;01mdef\u001b[39;00m \u001b[38;5;21mwrapper\u001b[39m(\u001b[38;5;241m*\u001b[39margs, \u001b[38;5;241m*\u001b[39m\u001b[38;5;241m*\u001b[39mkwargs):\n\u001b[1;32m    804\u001b[0m     \u001b[38;5;66;03m# update tbar correctly\u001b[39;00m\n\u001b[1;32m    805\u001b[0m     \u001b[38;5;66;03m# it seems `pandas apply` calls `func` twice\u001b[39;00m\n\u001b[1;32m    806\u001b[0m     \u001b[38;5;66;03m# on the first column/row to decide whether it can\u001b[39;00m\n\u001b[1;32m    807\u001b[0m     \u001b[38;5;66;03m# take a fast or slow code path; so stop when t.total==t.n\u001b[39;00m\n\u001b[1;32m    808\u001b[0m     t\u001b[38;5;241m.\u001b[39mupdate(n\u001b[38;5;241m=\u001b[39m\u001b[38;5;241m1\u001b[39m \u001b[38;5;28;01mif\u001b[39;00m \u001b[38;5;129;01mnot\u001b[39;00m t\u001b[38;5;241m.\u001b[39mtotal \u001b[38;5;129;01mor\u001b[39;00m t\u001b[38;5;241m.\u001b[39mn \u001b[38;5;241m<\u001b[39m t\u001b[38;5;241m.\u001b[39mtotal \u001b[38;5;28;01melse\u001b[39;00m \u001b[38;5;241m0\u001b[39m)\n\u001b[0;32m--> 809\u001b[0m     \u001b[38;5;28;01mreturn\u001b[39;00m \u001b[43mfunc\u001b[49m\u001b[43m(\u001b[49m\u001b[38;5;241;43m*\u001b[39;49m\u001b[43margs\u001b[49m\u001b[43m,\u001b[49m\u001b[43m \u001b[49m\u001b[38;5;241;43m*\u001b[39;49m\u001b[38;5;241;43m*\u001b[39;49m\u001b[43mkwargs\u001b[49m\u001b[43m)\u001b[49m\n",
      "Cell \u001b[0;32mIn[18], line 6\u001b[0m, in \u001b[0;36m<lambda>\u001b[0;34m(x)\u001b[0m\n\u001b[1;32m      4\u001b[0m df[df_name] \u001b[38;5;241m=\u001b[39m pd\u001b[38;5;241m.\u001b[39mread_csv(df_path, index_col\u001b[38;5;241m=\u001b[39m\u001b[38;5;241m0\u001b[39m)\n\u001b[1;32m      5\u001b[0m df[df_name][\u001b[38;5;124m\"\u001b[39m\u001b[38;5;124mword_length\u001b[39m\u001b[38;5;124m\"\u001b[39m] \u001b[38;5;241m=\u001b[39m df[df_name]\u001b[38;5;241m.\u001b[39mwords\u001b[38;5;241m.\u001b[39mprogress_apply(\u001b[38;5;28;01mlambda\u001b[39;00m x: \u001b[38;5;28mlen\u001b[39m(x\u001b[38;5;241m.\u001b[39msplit(\u001b[38;5;124m\"\u001b[39m\u001b[38;5;124m \u001b[39m\u001b[38;5;124m\"\u001b[39m)))\n\u001b[0;32m----> 6\u001b[0m df[df_name][\u001b[38;5;124m\"\u001b[39m\u001b[38;5;124mword_length_nonstop\u001b[39m\u001b[38;5;124m\"\u001b[39m] \u001b[38;5;241m=\u001b[39m df[df_name]\u001b[38;5;241m.\u001b[39mwords_nonstop\u001b[38;5;241m.\u001b[39mprogress_apply(\u001b[38;5;28;01mlambda\u001b[39;00m x: \u001b[38;5;28mlen\u001b[39m(\u001b[43mx\u001b[49m\u001b[38;5;241;43m.\u001b[39;49m\u001b[43msplit\u001b[49m(\u001b[38;5;124m\"\u001b[39m\u001b[38;5;124m \u001b[39m\u001b[38;5;124m\"\u001b[39m) \u001b[38;5;28;01mif\u001b[39;00m x \u001b[38;5;241m!=\u001b[39m np\u001b[38;5;241m.\u001b[39mnan \u001b[38;5;28;01melse\u001b[39;00m \u001b[38;5;241m0\u001b[39m))\n",
      "\u001b[0;31mAttributeError\u001b[0m: 'float' object has no attribute 'split'"
     ]
    }
   ],
   "source": [
    "df = {}\n",
    "for df_name, df_path in master_path.items():\n",
    "    # 平均単語数\n",
    "    df[df_name] = pd.read_csv(df_path, index_col=0)\n",
    "    df[df_name][\"word_length\"] = df[df_name].words.progress_apply(lambda x: len(x.split(\" \")))\n",
    "    df[df_name][\"word_length_nonstop\"] = df[df_name].words_nonstop.progress_apply(lambda x: len(x.split(\" \") if x != np.nan else 0))"
   ]
  },
  {
   "cell_type": "code",
   "execution_count": 20,
   "id": "6131452d",
   "metadata": {
    "ExecuteTime": {
     "end_time": "2023-01-20T14:46:32.908933Z",
     "start_time": "2023-01-20T14:46:32.896641Z"
    }
   },
   "outputs": [
    {
     "data": {
      "text/html": [
       "<div>\n",
       "<style scoped>\n",
       "    .dataframe tbody tr th:only-of-type {\n",
       "        vertical-align: middle;\n",
       "    }\n",
       "\n",
       "    .dataframe tbody tr th {\n",
       "        vertical-align: top;\n",
       "    }\n",
       "\n",
       "    .dataframe thead th {\n",
       "        text-align: right;\n",
       "    }\n",
       "</style>\n",
       "<table border=\"1\" class=\"dataframe\">\n",
       "  <thead>\n",
       "    <tr style=\"text-align: right;\">\n",
       "      <th></th>\n",
       "      <th>class</th>\n",
       "      <th>text</th>\n",
       "      <th>_text</th>\n",
       "      <th>words</th>\n",
       "      <th>words_nonstop</th>\n",
       "      <th>word_length</th>\n",
       "    </tr>\n",
       "  </thead>\n",
       "  <tbody>\n",
       "    <tr>\n",
       "      <th>0</th>\n",
       "      <td>Business</td>\n",
       "      <td>Wall St. Bears Claw Back Into the Black (Reuters)</td>\n",
       "      <td>Reuters - Short-sellers, Wall Street's dwindli...</td>\n",
       "      <td>Wall St. Bears Claw Back Into the Black ( Reut...</td>\n",
       "      <td>Wall St. Bears Claw Back Black Reuters</td>\n",
       "      <td>11</td>\n",
       "    </tr>\n",
       "    <tr>\n",
       "      <th>1</th>\n",
       "      <td>Business</td>\n",
       "      <td>Carlyle Looks Toward Commercial Aerospace (Reu...</td>\n",
       "      <td>Reuters - Private investment firm Carlyle Grou...</td>\n",
       "      <td>Carlyle Looks Toward Commercial Aerospace ( Re...</td>\n",
       "      <td>Carlyle Looks Toward Commercial Aerospace Reuters</td>\n",
       "      <td>8</td>\n",
       "    </tr>\n",
       "    <tr>\n",
       "      <th>2</th>\n",
       "      <td>Business</td>\n",
       "      <td>Oil and Economy Cloud Stocks' Outlook (Reuters)</td>\n",
       "      <td>Reuters - Soaring crude prices plus worries\\ab...</td>\n",
       "      <td>Oil and Economy Cloud Stocks ' Outlook ( Reute...</td>\n",
       "      <td>Oil Economy Cloud Stocks Outlook Reuters</td>\n",
       "      <td>10</td>\n",
       "    </tr>\n",
       "    <tr>\n",
       "      <th>3</th>\n",
       "      <td>Business</td>\n",
       "      <td>Iraq Halts Oil Exports from Main Southern Pipe...</td>\n",
       "      <td>Reuters - Authorities have halted oil export\\f...</td>\n",
       "      <td>Iraq Halts Oil Exports from Main Southern Pipe...</td>\n",
       "      <td>Iraq Halts Oil Exports Main Southern Pipeline ...</td>\n",
       "      <td>11</td>\n",
       "    </tr>\n",
       "    <tr>\n",
       "      <th>4</th>\n",
       "      <td>Business</td>\n",
       "      <td>Oil prices soar to all-time record, posing new...</td>\n",
       "      <td>AFP - Tearaway world oil prices, toppling reco...</td>\n",
       "      <td>Oil prices soar to all-time record , posing ne...</td>\n",
       "      <td>Oil prices soar all-time record posing new men...</td>\n",
       "      <td>16</td>\n",
       "    </tr>\n",
       "    <tr>\n",
       "      <th>...</th>\n",
       "      <td>...</td>\n",
       "      <td>...</td>\n",
       "      <td>...</td>\n",
       "      <td>...</td>\n",
       "      <td>...</td>\n",
       "      <td>...</td>\n",
       "    </tr>\n",
       "    <tr>\n",
       "      <th>119995</th>\n",
       "      <td>World</td>\n",
       "      <td>Pakistan's Musharraf Says Won't Quit as Army C...</td>\n",
       "      <td>KARACHI (Reuters) - Pakistani President Perve...</td>\n",
       "      <td>Pakistan 's Musharraf Says Wo n't Quit as Army...</td>\n",
       "      <td>Pakistan Musharraf Says Wo Quit Army Chief</td>\n",
       "      <td>10</td>\n",
       "    </tr>\n",
       "    <tr>\n",
       "      <th>119996</th>\n",
       "      <td>Sports</td>\n",
       "      <td>Renteria signing a top-shelf deal</td>\n",
       "      <td>Red Sox general manager Theo Epstein acknowled...</td>\n",
       "      <td>Renteria signing a top-shelf deal</td>\n",
       "      <td>Renteria signing top-shelf deal</td>\n",
       "      <td>5</td>\n",
       "    </tr>\n",
       "    <tr>\n",
       "      <th>119997</th>\n",
       "      <td>Sports</td>\n",
       "      <td>Saban not going to Dolphins yet</td>\n",
       "      <td>The Miami Dolphins will put their courtship of...</td>\n",
       "      <td>Saban not going to Dolphins yet</td>\n",
       "      <td>Saban going Dolphins yet</td>\n",
       "      <td>6</td>\n",
       "    </tr>\n",
       "    <tr>\n",
       "      <th>119998</th>\n",
       "      <td>Sports</td>\n",
       "      <td>Today's NFL games</td>\n",
       "      <td>PITTSBURGH at NY GIANTS Time: 1:30 p.m. Line: ...</td>\n",
       "      <td>Today 's NFL games</td>\n",
       "      <td>Today NFL games</td>\n",
       "      <td>4</td>\n",
       "    </tr>\n",
       "    <tr>\n",
       "      <th>119999</th>\n",
       "      <td>Sports</td>\n",
       "      <td>Nets get Carter from Raptors</td>\n",
       "      <td>INDIANAPOLIS -- All-Star Vince Carter was trad...</td>\n",
       "      <td>Nets get Carter from Raptors</td>\n",
       "      <td>Nets get Carter Raptors</td>\n",
       "      <td>5</td>\n",
       "    </tr>\n",
       "  </tbody>\n",
       "</table>\n",
       "<p>120000 rows × 6 columns</p>\n",
       "</div>"
      ],
      "text/plain": [
       "           class                                               text  \\\n",
       "0       Business  Wall St. Bears Claw Back Into the Black (Reuters)   \n",
       "1       Business  Carlyle Looks Toward Commercial Aerospace (Reu...   \n",
       "2       Business    Oil and Economy Cloud Stocks' Outlook (Reuters)   \n",
       "3       Business  Iraq Halts Oil Exports from Main Southern Pipe...   \n",
       "4       Business  Oil prices soar to all-time record, posing new...   \n",
       "...          ...                                                ...   \n",
       "119995     World  Pakistan's Musharraf Says Won't Quit as Army C...   \n",
       "119996    Sports                  Renteria signing a top-shelf deal   \n",
       "119997    Sports                    Saban not going to Dolphins yet   \n",
       "119998    Sports                                  Today's NFL games   \n",
       "119999    Sports                       Nets get Carter from Raptors   \n",
       "\n",
       "                                                    _text  \\\n",
       "0       Reuters - Short-sellers, Wall Street's dwindli...   \n",
       "1       Reuters - Private investment firm Carlyle Grou...   \n",
       "2       Reuters - Soaring crude prices plus worries\\ab...   \n",
       "3       Reuters - Authorities have halted oil export\\f...   \n",
       "4       AFP - Tearaway world oil prices, toppling reco...   \n",
       "...                                                   ...   \n",
       "119995   KARACHI (Reuters) - Pakistani President Perve...   \n",
       "119996  Red Sox general manager Theo Epstein acknowled...   \n",
       "119997  The Miami Dolphins will put their courtship of...   \n",
       "119998  PITTSBURGH at NY GIANTS Time: 1:30 p.m. Line: ...   \n",
       "119999  INDIANAPOLIS -- All-Star Vince Carter was trad...   \n",
       "\n",
       "                                                    words  \\\n",
       "0       Wall St. Bears Claw Back Into the Black ( Reut...   \n",
       "1       Carlyle Looks Toward Commercial Aerospace ( Re...   \n",
       "2       Oil and Economy Cloud Stocks ' Outlook ( Reute...   \n",
       "3       Iraq Halts Oil Exports from Main Southern Pipe...   \n",
       "4       Oil prices soar to all-time record , posing ne...   \n",
       "...                                                   ...   \n",
       "119995  Pakistan 's Musharraf Says Wo n't Quit as Army...   \n",
       "119996                  Renteria signing a top-shelf deal   \n",
       "119997                    Saban not going to Dolphins yet   \n",
       "119998                                 Today 's NFL games   \n",
       "119999                       Nets get Carter from Raptors   \n",
       "\n",
       "                                            words_nonstop  word_length  \n",
       "0                  Wall St. Bears Claw Back Black Reuters           11  \n",
       "1       Carlyle Looks Toward Commercial Aerospace Reuters            8  \n",
       "2                Oil Economy Cloud Stocks Outlook Reuters           10  \n",
       "3       Iraq Halts Oil Exports Main Southern Pipeline ...           11  \n",
       "4       Oil prices soar all-time record posing new men...           16  \n",
       "...                                                   ...          ...  \n",
       "119995         Pakistan Musharraf Says Wo Quit Army Chief           10  \n",
       "119996                    Renteria signing top-shelf deal            5  \n",
       "119997                           Saban going Dolphins yet            6  \n",
       "119998                                    Today NFL games            4  \n",
       "119999                            Nets get Carter Raptors            5  \n",
       "\n",
       "[120000 rows x 6 columns]"
      ]
     },
     "execution_count": 20,
     "metadata": {},
     "output_type": "execute_result"
    }
   ],
   "source": [
    "df[df_name]"
   ]
  },
  {
   "cell_type": "code",
   "execution_count": null,
   "id": "735a1229",
   "metadata": {},
   "outputs": [],
   "source": []
  }
 ],
 "metadata": {
  "kernelspec": {
   "display_name": "Python 3 (ipykernel)",
   "language": "python",
   "name": "python3"
  },
  "language_info": {
   "codemirror_mode": {
    "name": "ipython",
    "version": 3
   },
   "file_extension": ".py",
   "mimetype": "text/x-python",
   "name": "python",
   "nbconvert_exporter": "python",
   "pygments_lexer": "ipython3",
   "version": "3.10.8"
  },
  "toc": {
   "base_numbering": 1,
   "nav_menu": {},
   "number_sections": true,
   "sideBar": true,
   "skip_h1_title": false,
   "title_cell": "Table of Contents",
   "title_sidebar": "Contents",
   "toc_cell": false,
   "toc_position": {},
   "toc_section_display": true,
   "toc_window_display": false
  }
 },
 "nbformat": 4,
 "nbformat_minor": 5
}
