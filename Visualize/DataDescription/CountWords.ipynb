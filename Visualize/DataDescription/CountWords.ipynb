{
 "cells": [
  {
   "cell_type": "markdown",
   "id": "b95f9187",
   "metadata": {},
   "source": [
    "# Import"
   ]
  },
  {
   "cell_type": "code",
   "execution_count": 3,
   "id": "80a85ab5",
   "metadata": {
    "ExecuteTime": {
     "end_time": "2022-12-17T07:58:16.090265Z",
     "start_time": "2022-12-17T07:58:14.929526Z"
    }
   },
   "outputs": [],
   "source": [
    "import csv\n",
    "import os\n",
    "import pickle\n",
    "import sys\n",
    "\n",
    "import matplotlib.pyplot as plt\n",
    "import numpy as np\n",
    "import pandas as pd\n",
    "import seaborn as sns\n",
    "from gensim.corpora.dictionary import Dictionary\n",
    "from tqdm import tqdm"
   ]
  },
  {
   "cell_type": "markdown",
   "id": "2543f4e4",
   "metadata": {},
   "source": [
    "## Add configuration file"
   ]
  },
  {
   "cell_type": "code",
   "execution_count": 9,
   "id": "b62547de",
   "metadata": {
    "ExecuteTime": {
     "end_time": "2022-12-17T07:58:29.856901Z",
     "start_time": "2022-12-17T07:58:29.853639Z"
    }
   },
   "outputs": [],
   "source": [
    "sys.path.append(\"/home/jovyan/core/config/\")\n",
    "sys.path.append(\"/home/jovyan/core/util/\")"
   ]
  },
  {
   "cell_type": "code",
   "execution_count": 12,
   "id": "84da401b",
   "metadata": {
    "ExecuteTime": {
     "end_time": "2022-12-17T07:58:36.678307Z",
     "start_time": "2022-12-17T07:58:36.674595Z"
    }
   },
   "outputs": [],
   "source": [
    "from ALL import config\n",
    "from util import *"
   ]
  },
  {
   "cell_type": "markdown",
   "id": "9330548e",
   "metadata": {},
   "source": [
    "## Set condition"
   ]
  },
  {
   "cell_type": "code",
   "execution_count": 13,
   "id": "a30f3623",
   "metadata": {
    "ExecuteTime": {
     "end_time": "2022-12-17T07:58:37.779469Z",
     "start_time": "2022-12-17T07:58:37.775750Z"
    }
   },
   "outputs": [],
   "source": [
    "tqdm.pandas()\n",
    "pd.set_option(\"display.max_columns\", 100)\n",
    "pd.set_option(\"display.max_rows\", 50)"
   ]
  },
  {
   "cell_type": "markdown",
   "id": "52c60a4f",
   "metadata": {},
   "source": [
    "# Read data"
   ]
  },
  {
   "cell_type": "code",
   "execution_count": 16,
   "id": "cd8ec7b2",
   "metadata": {
    "ExecuteTime": {
     "end_time": "2022-12-17T07:58:50.784915Z",
     "start_time": "2022-12-17T07:58:50.781934Z"
    }
   },
   "outputs": [],
   "source": [
    "master_path = {\n",
    "    \"AgNews\": \"../../Preprocessing/data/AgNews/master.csv\",\n",
    "    \"20News\": \"../../Preprocessing/data/20News/master.csv\"\n",
    "    }"
   ]
  },
  {
   "cell_type": "code",
   "execution_count": 77,
   "id": "bb39f7e1",
   "metadata": {
    "ExecuteTime": {
     "end_time": "2022-12-17T09:13:50.508531Z",
     "start_time": "2022-12-17T09:13:36.118736Z"
    }
   },
   "outputs": [
    {
     "name": "stderr",
     "output_type": "stream",
     "text": [
      "100%|██████████| 120000/120000 [00:00<00:00, 328882.26it/s]\n",
      "100%|██████████| 120000/120000 [00:00<00:00, 132979.85it/s]\n",
      "100%|██████████| 18770/18770 [00:00<00:00, 58552.39it/s]\n",
      "100%|██████████| 18770/18770 [00:00<00:00, 46930.19it/s]\n"
     ]
    }
   ],
   "source": [
    "counts = {}\n",
    "for df_name, df_path in master_path.items():\n",
    "    # 平均単語数\n",
    "    df = pd.read_csv(df_path, index_col=0)\n",
    "    df[\"word_length\"] = df.words.progress_apply(lambda x: len(x.split(\" \")))\n",
    "    mean_words_count = df.word_length.mean()\n",
    "\n",
    "    #　平均した出現単語の種類\n",
    "    dictionary = Dictionary(df.words.progress_apply(lambda x: x.split(\" \")).tolist())\n",
    "    mean_words_variation = len(dictionary) / len(df)\n",
    "    \n",
    "    # 出現単語の種類\n",
    "    words_variation = len(dictionary)\n",
    "    \n",
    "    # 文章数\n",
    "    document_count = len(df)\n",
    "    \n",
    "    counts[df_name] = {\n",
    "        \"mean_words_count\": mean_words_count,\n",
    "        \"mean_words_variation\": mean_words_variation,\n",
    "        \"words_variation\": words_variation,\n",
    "        \"document_count\": document_count,\n",
    "    }"
   ]
  },
  {
   "cell_type": "code",
   "execution_count": 78,
   "id": "9f672ef0",
   "metadata": {
    "ExecuteTime": {
     "end_time": "2022-12-17T09:13:50.514587Z",
     "start_time": "2022-12-17T09:13:50.511185Z"
    }
   },
   "outputs": [],
   "source": [
    "counts = pd.DataFrame(counts)"
   ]
  },
  {
   "cell_type": "code",
   "execution_count": 80,
   "id": "806bc785",
   "metadata": {
    "ExecuteTime": {
     "end_time": "2022-12-17T09:13:50.537136Z",
     "start_time": "2022-12-17T09:13:50.525397Z"
    }
   },
   "outputs": [
    {
     "data": {
      "text/html": [
       "<style type=\"text/css\">\n",
       "#T_4d97b_row2_col1, #T_4d97b_row3_col0 {\n",
       "  background-color: yellow;\n",
       "}\n",
       "</style>\n",
       "<table id=\"T_4d97b\">\n",
       "  <thead>\n",
       "    <tr>\n",
       "      <th class=\"blank level0\" >&nbsp;</th>\n",
       "      <th id=\"T_4d97b_level0_col0\" class=\"col_heading level0 col0\" >AgNews</th>\n",
       "      <th id=\"T_4d97b_level0_col1\" class=\"col_heading level0 col1\" >20News</th>\n",
       "    </tr>\n",
       "  </thead>\n",
       "  <tbody>\n",
       "    <tr>\n",
       "      <th id=\"T_4d97b_level0_row0\" class=\"row_heading level0 row0\" >mean_words_count</th>\n",
       "      <td id=\"T_4d97b_row0_col0\" class=\"data row0 col0\" >35.890567</td>\n",
       "      <td id=\"T_4d97b_row0_col1\" class=\"data row0 col1\" >344.703676</td>\n",
       "    </tr>\n",
       "    <tr>\n",
       "      <th id=\"T_4d97b_level0_row1\" class=\"row_heading level0 row1\" >mean_words_variation</th>\n",
       "      <td id=\"T_4d97b_row1_col0\" class=\"data row1 col0\" >0.868342</td>\n",
       "      <td id=\"T_4d97b_row1_col1\" class=\"data row1 col1\" >10.245765</td>\n",
       "    </tr>\n",
       "    <tr>\n",
       "      <th id=\"T_4d97b_level0_row2\" class=\"row_heading level0 row2\" >words_variation</th>\n",
       "      <td id=\"T_4d97b_row2_col0\" class=\"data row2 col0\" >104201.000000</td>\n",
       "      <td id=\"T_4d97b_row2_col1\" class=\"data row2 col1\" >192313.000000</td>\n",
       "    </tr>\n",
       "    <tr>\n",
       "      <th id=\"T_4d97b_level0_row3\" class=\"row_heading level0 row3\" >document_count</th>\n",
       "      <td id=\"T_4d97b_row3_col0\" class=\"data row3 col0\" >120000.000000</td>\n",
       "      <td id=\"T_4d97b_row3_col1\" class=\"data row3 col1\" >18770.000000</td>\n",
       "    </tr>\n",
       "  </tbody>\n",
       "</table>\n"
      ],
      "text/plain": [
       "<pandas.io.formats.style.Styler at 0x7f61dcf43580>"
      ]
     },
     "execution_count": 80,
     "metadata": {},
     "output_type": "execute_result"
    }
   ],
   "source": [
    "counts.style.highlight_max()"
   ]
  },
  {
   "cell_type": "code",
   "execution_count": 81,
   "id": "6bb182e7",
   "metadata": {
    "ExecuteTime": {
     "end_time": "2022-12-17T09:13:50.546527Z",
     "start_time": "2022-12-17T09:13:50.538883Z"
    }
   },
   "outputs": [
    {
     "data": {
      "text/html": [
       "<style type=\"text/css\">\n",
       "</style>\n",
       "<table id=\"T_1f935\">\n",
       "  <thead>\n",
       "    <tr>\n",
       "      <th class=\"blank level0\" >&nbsp;</th>\n",
       "      <th id=\"T_1f935_level0_col0\" class=\"col_heading level0 col0\" >mean_words_count</th>\n",
       "      <th id=\"T_1f935_level0_col1\" class=\"col_heading level0 col1\" >mean_words_variation</th>\n",
       "      <th id=\"T_1f935_level0_col2\" class=\"col_heading level0 col2\" >words_variation</th>\n",
       "      <th id=\"T_1f935_level0_col3\" class=\"col_heading level0 col3\" >document_count</th>\n",
       "    </tr>\n",
       "  </thead>\n",
       "  <tbody>\n",
       "    <tr>\n",
       "      <th id=\"T_1f935_level0_row0\" class=\"row_heading level0 row0\" >AgNews</th>\n",
       "      <td id=\"T_1f935_row0_col0\" class=\"data row0 col0\" >35.890567</td>\n",
       "      <td id=\"T_1f935_row0_col1\" class=\"data row0 col1\" >0.868342</td>\n",
       "      <td id=\"T_1f935_row0_col2\" class=\"data row0 col2\" >104201.000000</td>\n",
       "      <td id=\"T_1f935_row0_col3\" class=\"data row0 col3\" >120000</td>\n",
       "    </tr>\n",
       "    <tr>\n",
       "      <th id=\"T_1f935_level0_row1\" class=\"row_heading level0 row1\" >20News</th>\n",
       "      <td id=\"T_1f935_row1_col0\" class=\"data row1 col0\" >344.703676</td>\n",
       "      <td id=\"T_1f935_row1_col1\" class=\"data row1 col1\" >10.245765</td>\n",
       "      <td id=\"T_1f935_row1_col2\" class=\"data row1 col2\" >192313.000000</td>\n",
       "      <td id=\"T_1f935_row1_col3\" class=\"data row1 col3\" >18770</td>\n",
       "    </tr>\n",
       "  </tbody>\n",
       "</table>\n"
      ],
      "text/plain": [
       "<pandas.io.formats.style.Styler at 0x7f61dcf414b0>"
      ]
     },
     "execution_count": 81,
     "metadata": {},
     "output_type": "execute_result"
    }
   ],
   "source": [
    "counts.T.style.format(\n",
    "    escape=\"latex\", formatter={\"document_count\": \"{:.0f}\"}\n",
    ")"
   ]
  },
  {
   "cell_type": "markdown",
   "id": "3b7aee82",
   "metadata": {},
   "source": [
    "https://pandas.pydata.org/docs/reference/api/pandas.io.formats.style.Styler.to_latex.html"
   ]
  },
  {
   "cell_type": "code",
   "execution_count": 82,
   "id": "071c2453",
   "metadata": {
    "ExecuteTime": {
     "end_time": "2022-12-17T09:13:50.555378Z",
     "start_time": "2022-12-17T09:13:50.548096Z"
    }
   },
   "outputs": [
    {
     "name": "stdout",
     "output_type": "stream",
     "text": [
      "\\begin{table}[h]\n",
      "\\centering\n",
      "\\caption{データの統計値}\n",
      "\\label{table:1}\n",
      "\\begin{tabular}{rrr}\n",
      "\\toprule\n",
      " & AgNews & 20News \\\\\n",
      "\\midrule\n",
      "mean_words_count & 35.89 & 344.70 \\\\\n",
      "mean_words_variation & 0.87 & 10.25 \\\\\n",
      "words_variation & 104201.00 & 192313.00 \\\\\n",
      "document_count & 120000.00 & 18770.00 \\\\\n",
      "\\bottomrule\n",
      "\\end{tabular}\n",
      "\\end{table}\n",
      "\n"
     ]
    }
   ],
   "source": [
    "print(\n",
    "    counts.style.format(precision=2, escape=\"latex\").to_latex(\n",
    "        column_format=\"rrr\",\n",
    "        position=\"h\",\n",
    "        position_float=\"centering\",\n",
    "        hrules=True,\n",
    "        caption=\"データの統計値\",\n",
    "        label=\"table:1\", \n",
    "        multicol_align=\"r\"\n",
    "    )\n",
    ")"
   ]
  },
  {
   "cell_type": "code",
   "execution_count": null,
   "id": "ed05e20e",
   "metadata": {},
   "outputs": [],
   "source": []
  }
 ],
 "metadata": {
  "kernelspec": {
   "display_name": "Python 3 (ipykernel)",
   "language": "python",
   "name": "python3"
  },
  "language_info": {
   "codemirror_mode": {
    "name": "ipython",
    "version": 3
   },
   "file_extension": ".py",
   "mimetype": "text/x-python",
   "name": "python",
   "nbconvert_exporter": "python",
   "pygments_lexer": "ipython3",
   "version": "3.10.8"
  },
  "toc": {
   "base_numbering": 1,
   "nav_menu": {},
   "number_sections": true,
   "sideBar": true,
   "skip_h1_title": false,
   "title_cell": "Table of Contents",
   "title_sidebar": "Contents",
   "toc_cell": false,
   "toc_position": {},
   "toc_section_display": true,
   "toc_window_display": false
  }
 },
 "nbformat": 4,
 "nbformat_minor": 5
}
