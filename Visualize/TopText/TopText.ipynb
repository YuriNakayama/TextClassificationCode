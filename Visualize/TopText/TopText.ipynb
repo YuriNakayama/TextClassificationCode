{
 "cells": [
  {
   "cell_type": "markdown",
   "id": "b95f9187",
   "metadata": {},
   "source": [
    "# Import"
   ]
  },
  {
   "cell_type": "code",
   "execution_count": 1,
   "id": "80a85ab5",
   "metadata": {
    "ExecuteTime": {
     "end_time": "2022-12-22T15:28:20.512529Z",
     "start_time": "2022-12-22T15:28:18.955272Z"
    }
   },
   "outputs": [],
   "source": [
    "import csv\n",
    "import os\n",
    "import sys\n",
    "\n",
    "import matplotlib.pyplot as plt\n",
    "import numpy as np\n",
    "import pandas as pd\n",
    "import seaborn as sns\n",
    "from nltk import word_tokenize\n",
    "from tqdm import tqdm"
   ]
  },
  {
   "cell_type": "markdown",
   "id": "2543f4e4",
   "metadata": {},
   "source": [
    "## Add configuration file"
   ]
  },
  {
   "cell_type": "code",
   "execution_count": 2,
   "id": "b62547de",
   "metadata": {
    "ExecuteTime": {
     "end_time": "2022-12-22T15:28:20.520132Z",
     "start_time": "2022-12-22T15:28:20.515206Z"
    }
   },
   "outputs": [],
   "source": [
    "sys.path.append(\"/home/jovyan/core/config/\")"
   ]
  },
  {
   "cell_type": "code",
   "execution_count": 3,
   "id": "84da401b",
   "metadata": {
    "ExecuteTime": {
     "end_time": "2022-12-22T15:28:20.527976Z",
     "start_time": "2022-12-22T15:28:20.522248Z"
    }
   },
   "outputs": [],
   "source": [
    "from ALL import config "
   ]
  },
  {
   "cell_type": "markdown",
   "id": "9330548e",
   "metadata": {},
   "source": [
    "## Set condition"
   ]
  },
  {
   "cell_type": "code",
   "execution_count": 4,
   "id": "a30f3623",
   "metadata": {
    "ExecuteTime": {
     "end_time": "2022-12-22T15:28:20.781759Z",
     "start_time": "2022-12-22T15:28:20.777682Z"
    }
   },
   "outputs": [],
   "source": [
    "tqdm.pandas()\n",
    "pd.set_option(\"display.max_columns\", 100)\n",
    "pd.set_option(\"display.max_rows\", 50)"
   ]
  },
  {
   "cell_type": "code",
   "execution_count": 10,
   "id": "9d194edb",
   "metadata": {
    "ExecuteTime": {
     "end_time": "2022-12-22T15:32:04.792233Z",
     "start_time": "2022-12-22T15:32:04.789072Z"
    }
   },
   "outputs": [],
   "source": [
    "data_type = \"AgNewsTitle\"\n",
    "vectorize_type = \"sentenceBERT\""
   ]
  },
  {
   "cell_type": "markdown",
   "id": "52c60a4f",
   "metadata": {},
   "source": [
    "# Read data"
   ]
  },
  {
   "cell_type": "code",
   "execution_count": 8,
   "id": "c81d3638",
   "metadata": {
    "ExecuteTime": {
     "end_time": "2022-12-22T15:30:41.764962Z",
     "start_time": "2022-12-22T15:30:41.070590Z"
    },
    "scrolled": true
   },
   "outputs": [],
   "source": [
    "df = pd.read_csv(f\"../../Preprocessing/data/{data_type}/master.csv\", index_col=0)"
   ]
  },
  {
   "cell_type": "code",
   "execution_count": 7,
   "id": "95389cd0",
   "metadata": {
    "ExecuteTime": {
     "end_time": "2022-12-22T15:30:04.146369Z",
     "start_time": "2022-12-22T15:30:04.142526Z"
    }
   },
   "outputs": [],
   "source": [
    "with open(f\"../../Preprocessing/data/{data_type}/class.csv\", mode=\"r\") as f:\n",
    "    reader = csv.reader(f)\n",
    "    class_labels = [label for label in reader]"
   ]
  },
  {
   "cell_type": "markdown",
   "id": "c629a055",
   "metadata": {},
   "source": [
    "# Top Text"
   ]
  },
  {
   "cell_type": "code",
   "execution_count": 11,
   "id": "446565cc",
   "metadata": {
    "ExecuteTime": {
     "end_time": "2022-12-22T15:35:56.866354Z",
     "start_time": "2022-12-22T15:35:56.863363Z"
    }
   },
   "outputs": [],
   "source": [
    "vector_dim = 10\n",
    "covariance_type = \"full\"\n",
    "model_num = 0"
   ]
  },
  {
   "cell_type": "code",
   "execution_count": 14,
   "id": "28c4c004",
   "metadata": {
    "ExecuteTime": {
     "end_time": "2022-12-22T15:36:43.242032Z",
     "start_time": "2022-12-22T15:36:43.215447Z"
    }
   },
   "outputs": [],
   "source": [
    "dist = np.load(f\"../../Clustering/data/{data_type}/{vectorize_type}/GMM/dist/{vector_dim}/{covariance_type}/{model_num}.npy\")\n",
    "pred = np.load(f\"../../Clustering/data/{data_type}/{vectorize_type}/GMM/pred/{vector_dim}/{covariance_type}/{model_num}.npy\")"
   ]
  },
  {
   "cell_type": "code",
   "execution_count": 19,
   "id": "3be12904",
   "metadata": {
    "ExecuteTime": {
     "end_time": "2022-12-22T15:37:20.467960Z",
     "start_time": "2022-12-22T15:37:20.464484Z"
    }
   },
   "outputs": [],
   "source": [
    "class_num = 0"
   ]
  },
  {
   "cell_type": "code",
   "execution_count": 20,
   "id": "8b2a4326",
   "metadata": {
    "ExecuteTime": {
     "end_time": "2022-12-22T15:37:20.706614Z",
     "start_time": "2022-12-22T15:37:20.700990Z"
    }
   },
   "outputs": [
    {
     "data": {
      "text/plain": [
       "array([[  22.01504677, 1377.27933579,  767.78746517,    5.10613448],\n",
       "       [   6.55370885, 1350.24181469,  914.02532801,   15.58939669],\n",
       "       [   8.22558685, 1368.47217987,  600.34351745,   20.22288936],\n",
       "       ...,\n",
       "       [   3.70856592, 1360.41193776,  734.92588064,   13.81673197],\n",
       "       [   5.71578901, 1186.00441623,  929.91771179,   13.23705484],\n",
       "       [  10.00681977, 1290.83801936,  697.22435574,   12.2443531 ]])"
      ]
     },
     "execution_count": 20,
     "metadata": {},
     "output_type": "execute_result"
    }
   ],
   "source": [
    "dist[pred == class_num]"
   ]
  },
  {
   "cell_type": "code",
   "execution_count": null,
   "id": "24fb47ee",
   "metadata": {},
   "outputs": [],
   "source": []
  }
 ],
 "metadata": {
  "kernelspec": {
   "display_name": "Python 3 (ipykernel)",
   "language": "python",
   "name": "python3"
  },
  "language_info": {
   "codemirror_mode": {
    "name": "ipython",
    "version": 3
   },
   "file_extension": ".py",
   "mimetype": "text/x-python",
   "name": "python",
   "nbconvert_exporter": "python",
   "pygments_lexer": "ipython3",
   "version": "3.10.8"
  },
  "toc": {
   "base_numbering": 1,
   "nav_menu": {},
   "number_sections": true,
   "sideBar": true,
   "skip_h1_title": false,
   "title_cell": "Table of Contents",
   "title_sidebar": "Contents",
   "toc_cell": false,
   "toc_position": {},
   "toc_section_display": true,
   "toc_window_display": false
  }
 },
 "nbformat": 4,
 "nbformat_minor": 5
}
