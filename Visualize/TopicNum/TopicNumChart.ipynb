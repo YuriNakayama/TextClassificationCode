{
 "cells": [
  {
   "cell_type": "markdown",
   "id": "b95f9187",
   "metadata": {},
   "source": [
    "# Import"
   ]
  },
  {
   "cell_type": "code",
   "execution_count": 245,
   "id": "80a85ab5",
   "metadata": {
    "ExecuteTime": {
     "end_time": "2023-01-15T10:01:27.919684Z",
     "start_time": "2023-01-15T10:01:25.350070Z"
    }
   },
   "outputs": [],
   "source": [
    "import csv\n",
    "import os\n",
    "import pickle\n",
    "import sys\n",
    "import copy\n",
    "from collections import Counter\n",
    "\n",
    "import matplotlib.pyplot as plt\n",
    "import seaborn as sns\n",
    "import numpy as np\n",
    "import itertools\n",
    "import pandas as pd\n",
    "from tqdm import tqdm\n",
    "from sympy.combinatorics import Permutation"
   ]
  },
  {
   "cell_type": "markdown",
   "id": "2543f4e4",
   "metadata": {},
   "source": [
    "## Add configuration file"
   ]
  },
  {
   "cell_type": "code",
   "execution_count": 2,
   "id": "b62547de",
   "metadata": {
    "ExecuteTime": {
     "end_time": "2023-01-15T05:34:21.982883Z",
     "start_time": "2023-01-15T05:34:21.979557Z"
    }
   },
   "outputs": [],
   "source": [
    "sys.path.append(\"/home/jovyan/core/config/\")\n",
    "sys.path.append(\"/home/jovyan/core/util/\")\n",
    "sys.path.append(\"../PlotFunction/lineplot/\")\n",
    "sys.path.append(\"../PlotFunction/config/\")"
   ]
  },
  {
   "cell_type": "code",
   "execution_count": 3,
   "id": "84da401b",
   "metadata": {
    "ExecuteTime": {
     "end_time": "2023-01-15T05:34:22.334959Z",
     "start_time": "2023-01-15T05:34:21.985184Z"
    }
   },
   "outputs": [],
   "source": [
    "from ALL import config\n",
    "from line_plot_1 import line_plot_1\n",
    "from line_plot_error_1 import line_plot_error_1\n",
    "from line_plot_1_layout import layout\n",
    "from util import *"
   ]
  },
  {
   "cell_type": "markdown",
   "id": "9330548e",
   "metadata": {},
   "source": [
    "## Set condition"
   ]
  },
  {
   "cell_type": "code",
   "execution_count": 4,
   "id": "a30f3623",
   "metadata": {
    "ExecuteTime": {
     "end_time": "2023-01-15T05:34:22.341024Z",
     "start_time": "2023-01-15T05:34:22.337768Z"
    }
   },
   "outputs": [],
   "source": [
    "tqdm.pandas()\n",
    "pd.set_option(\"display.max_columns\", 100)\n",
    "pd.set_option(\"display.max_rows\", 50)"
   ]
  },
  {
   "cell_type": "code",
   "execution_count": 5,
   "id": "437dc5a7",
   "metadata": {
    "ExecuteTime": {
     "end_time": "2023-01-15T05:34:22.349091Z",
     "start_time": "2023-01-15T05:34:22.344436Z"
    }
   },
   "outputs": [],
   "source": [
    "data_types = [\"AgNews\"]\n",
    "vectorize_types = [\"sentenceBERT\"]"
   ]
  },
  {
   "cell_type": "code",
   "execution_count": 6,
   "id": "c112357f",
   "metadata": {
    "ExecuteTime": {
     "end_time": "2023-01-15T05:34:22.357845Z",
     "start_time": "2023-01-15T05:34:22.351510Z"
    }
   },
   "outputs": [],
   "source": [
    "# model_nums = config[\"clustering\"][\"gmm\"][\"max_model_num\"]\n",
    "model_nums = 10\n",
    "# covariance_types = config[\"clustering\"][\"gmm\"][\"covariance_types\"]\n",
    "normalization = \"normalized\"\n",
    "covariance_types = [\"spherical\"]\n",
    "vector_dims = {\n",
    "    \"sentenceBERT\": [20]\n",
    "}\n",
    "topic_nums = [2, 4, 8, 16, 32, 64, 128]"
   ]
  },
  {
   "cell_type": "code",
   "execution_count": 7,
   "id": "8847dbdc",
   "metadata": {
    "ExecuteTime": {
     "end_time": "2023-01-15T05:34:22.364223Z",
     "start_time": "2023-01-15T05:34:22.360350Z"
    }
   },
   "outputs": [],
   "source": [
    "stats_vals = [\"aic\", \"bic\", \"mi\", \"logl\"]"
   ]
  },
  {
   "cell_type": "markdown",
   "id": "296aba6f",
   "metadata": {},
   "source": [
    "# Stats"
   ]
  },
  {
   "cell_type": "markdown",
   "id": "52c60a4f",
   "metadata": {},
   "source": [
    "## Read data"
   ]
  },
  {
   "cell_type": "code",
   "execution_count": 8,
   "id": "b126627d",
   "metadata": {
    "ExecuteTime": {
     "end_time": "2023-01-15T05:34:22.374251Z",
     "start_time": "2023-01-15T05:34:22.369649Z"
    }
   },
   "outputs": [],
   "source": [
    "def load_stats_data(\n",
    "    vectorize_type, stats_vals, covariance_types, model_nums, topic_nums\n",
    "):\n",
    "    # データ型定義\n",
    "    stats = make_multilayer_dict(\n",
    "        [stats_vals, covariance_types, range(model_nums), topic_nums]\n",
    "    )\n",
    "\n",
    "    # データ取得\n",
    "    for stats_val in stats_vals:\n",
    "        for covariance_type in covariance_types:\n",
    "            for model_num in range(model_nums):\n",
    "                for topic_num in topic_nums:\n",
    "                    stats_path = f\"../../Postprocessing/data/{data_type}/{vectorize_type}/GMM/stats/{normalization}/{covariance_type}/{topic_num}/{model_num}.csv\"\n",
    "                    df = pd.read_csv(stats_path, index_col=0)\n",
    "                    stats[stats_val][covariance_type][model_num] = df.loc[:, stats_val]\n",
    "    return stats"
   ]
  },
  {
   "cell_type": "code",
   "execution_count": 8,
   "id": "f7feee05",
   "metadata": {
    "ExecuteTime": {
     "end_time": "2023-01-15T05:32:23.904661Z",
     "start_time": "2023-01-15T05:32:23.899036Z"
    },
    "code_folding": [],
    "deletable": false,
    "editable": false,
    "run_control": {
     "frozen": true
    }
   },
   "outputs": [],
   "source": [
    "def load_stats_data(vectorize_type, stats_vals, covariance_types, model_nums, topic_nums):\n",
    "    # データ型定義\n",
    "    stats = {\n",
    "        stats_val: {\n",
    "            covariance_type: {\n",
    "                model_num: {topic_num: pd.DataFrame for topic_num in topic_nums}\n",
    "                for model_num in range(model_nums)\n",
    "            }\n",
    "            for covariance_type in covariance_types\n",
    "        }\n",
    "        for stats_val in stats_vals\n",
    "    }\n",
    "\n",
    "    # データ取得\n",
    "    for stats_val in stats_vals:\n",
    "        for covariance_type in covariance_types:\n",
    "            for model_num in range(model_nums):\n",
    "                for topic_num in topic_nums:\n",
    "                    stats_path = f\"../../Postprocessing/data/{data_type}/{vectorize_type}/GMM/stats/{normalization}/{covariance_type}/{topic_num}/{model_num}.csv\"\n",
    "                    df = pd.read_csv(stats_path, index_col=0)\n",
    "                    stats[stats_val][covariance_type][model_num] = df.loc[:, stats_val]\n",
    "    return stats"
   ]
  },
  {
   "cell_type": "code",
   "execution_count": 9,
   "id": "409ccf32",
   "metadata": {
    "ExecuteTime": {
     "end_time": "2023-01-15T05:34:22.671033Z",
     "start_time": "2023-01-15T05:34:22.667189Z"
    }
   },
   "outputs": [],
   "source": [
    "def load_lda_mi(data_type):\n",
    "    lda_mi = pd.read_csv(\n",
    "        f\"../../Postprocessing/data/{data_type}/LDA/mi.csv\", index_col=0\n",
    "    )\n",
    "    describe_lda_mi, _ = get_describe(lda_mi, axis=0)\n",
    "    return describe_lda_mi"
   ]
  },
  {
   "cell_type": "code",
   "execution_count": 10,
   "id": "1af35966",
   "metadata": {
    "ExecuteTime": {
     "end_time": "2023-01-15T05:34:23.983598Z",
     "start_time": "2023-01-15T05:34:23.277481Z"
    },
    "scrolled": true
   },
   "outputs": [],
   "source": [
    "stats_dict = {}\n",
    "for vectorize_type in vectorize_types:\n",
    "    for data_type in data_types:\n",
    "        stats_dict[vectorize_type] = load_stats_data(\n",
    "            vectorize_type, stats_vals, covariance_types, model_nums, topic_nums\n",
    "        )"
   ]
  },
  {
   "cell_type": "code",
   "execution_count": 23,
   "id": "59a86bcc",
   "metadata": {
    "ExecuteTime": {
     "end_time": "2023-01-15T02:06:45.672608Z",
     "start_time": "2023-01-15T02:06:45.663939Z"
    }
   },
   "outputs": [],
   "source": [
    "describe_lda_mi = load_lda_mi(data_type)"
   ]
  },
  {
   "cell_type": "markdown",
   "id": "c963c854",
   "metadata": {},
   "source": [
    "## Data shaping"
   ]
  },
  {
   "cell_type": "code",
   "execution_count": 24,
   "id": "ee2c3cdf",
   "metadata": {
    "ExecuteTime": {
     "end_time": "2023-01-15T02:06:47.476875Z",
     "start_time": "2023-01-15T02:06:47.472927Z"
    },
    "code_folding": []
   },
   "outputs": [],
   "source": [
    "def shape_stats_df(stats):\n",
    "    stats_df = {\n",
    "        stats_val: {covariance_type: pd.DataFrame() for covariance_type in covariance_types}\n",
    "        for stats_val in stats_vals\n",
    "    }\n",
    "\n",
    "    for stats_val in stats_vals:\n",
    "        for covariance_type in covariance_types:\n",
    "            # model_numについて取得データstatsを結合\n",
    "            stats_df[stats_val][covariance_type] = pd.concat(\n",
    "                stats[stats_val][covariance_type], axis=1\n",
    "            )\n",
    "    return stats_df"
   ]
  },
  {
   "cell_type": "code",
   "execution_count": 25,
   "id": "ad3c2855",
   "metadata": {
    "ExecuteTime": {
     "end_time": "2023-01-15T02:06:48.116691Z",
     "start_time": "2023-01-15T02:06:48.112582Z"
    },
    "code_folding": []
   },
   "outputs": [],
   "source": [
    "def shape_describe(stats_df):\n",
    "    describe = {\n",
    "        stats_val: {covariance_type: dict() for covariance_type in covariance_types}\n",
    "        for stats_val in stats_vals\n",
    "    }\n",
    "\n",
    "    for stats_val in stats_vals:\n",
    "        for covariance_type in covariance_types:\n",
    "            describe[stats_val][covariance_type], describe_keys = get_describe(\n",
    "                stats_df[stats_val][covariance_type], axis=1\n",
    "            )\n",
    "    return describe, describe_keys"
   ]
  },
  {
   "cell_type": "code",
   "execution_count": 26,
   "id": "d4c180f0",
   "metadata": {
    "ExecuteTime": {
     "end_time": "2023-01-15T02:06:48.875798Z",
     "start_time": "2023-01-15T02:06:48.871121Z"
    },
    "code_folding": [
     0,
     1
    ]
   },
   "outputs": [],
   "source": [
    "def shape_data(describe, describe_keys):\n",
    "    data = {\n",
    "        stats_val: {describe_key: pd.DataFrame() for describe_key in describe_keys}\n",
    "        for stats_val in stats_vals\n",
    "    }\n",
    "    for stats_val in stats_vals:\n",
    "        for describe_key in describe_keys:\n",
    "            # covariance_typeについてデータを結合\n",
    "            _data = {\n",
    "                covariance_type: describe[stats_val][covariance_type][describe_key]\n",
    "                for covariance_type in covariance_types\n",
    "            }\n",
    "            data[stats_val][describe_key] = pd.concat(_data, axis=1)\n",
    "    return data"
   ]
  },
  {
   "cell_type": "code",
   "execution_count": 73,
   "id": "38cde593",
   "metadata": {
    "ExecuteTime": {
     "end_time": "2023-01-15T02:44:19.125727Z",
     "start_time": "2023-01-15T02:44:19.093210Z"
    },
    "scrolled": true
   },
   "outputs": [],
   "source": [
    "describes = {\n",
    "    vectorize_type: {\n",
    "        stats_val: {covariance_type: {} for covariance_type in covariance_types}\n",
    "        for stats_val in stats_vals\n",
    "    }\n",
    "    for vectorize_type in vectorize_types\n",
    "}\n",
    "\n",
    "for vectorize_type in vectorize_types:\n",
    "    for stats_val in stats_vals:\n",
    "        for covariance_type in covariance_types:\n",
    "            df[covariance_type] = pd.concat(\n",
    "                stats_dict[\"sentenceBERT\"][stats_val][covariance_type], axis=1\n",
    "            )\n",
    "            (\n",
    "                describes[vectorize_type][stats_val][covariance_type],\n",
    "                describe_key,\n",
    "            ) = get_describe(df[covariance_type], axis=1)"
   ]
  },
  {
   "cell_type": "code",
   "execution_count": 403,
   "id": "62a38081",
   "metadata": {
    "ExecuteTime": {
     "end_time": "2023-01-17T10:23:20.316837Z",
     "start_time": "2023-01-17T10:23:20.307615Z"
    },
    "code_folding": [
     51,
     61,
     79
    ]
   },
   "outputs": [],
   "source": [
    "class multilayer_dict:\n",
    "    def __init__(self, names_keys: dict):\n",
    "        self.dict = self.make_multilayer_dict(list(names_keys.values()))\n",
    "        self.names = list(names_keys.keys())\n",
    "        self.names_keys = names_keys\n",
    "\n",
    "    def make_multilayer_dict(self, keys: list):\n",
    "        def _multilayer_dict_recursive(_d: dict, _keys: list):\n",
    "            if not _keys:\n",
    "                return _d, []\n",
    "            else:\n",
    "                return _multilayer_dict_recursive(\n",
    "                    {_key: copy.deepcopy(_d) for _key in _keys[-1]}, _keys[:-1]\n",
    "                )\n",
    "\n",
    "        _multilayer_dict, _ = _multilayer_dict_recursive(dict(), keys)\n",
    "        return _multilayer_dict\n",
    "\n",
    "    def name_is_in(self, name):\n",
    "        return name in self.name\n",
    "\n",
    "    def loc(self, key_list: list):\n",
    "        def _loc_recursive(_val, _key_list: list):\n",
    "            if not _key_list:\n",
    "                return _val\n",
    "            else:\n",
    "                return _loc_recursive(_val[_key_list[0]], _key_list[1:])\n",
    "\n",
    "        return _loc_recursive(self.dict, key_list)\n",
    "\n",
    "    def update(self, key_list: list, val):\n",
    "        def _make_key_path_recursive(_key_path: dict, _key_list: list, val=None):\n",
    "            if not (_key_path == dict() or val is None):\n",
    "                raise ValueError(f\"_key_path or val mast be empty dict(or None).\")\n",
    "            if not _key_path:\n",
    "                _key_path = {_key_list[-1]: val}\n",
    "                return _make_key_path_recursive(_key_path, _key_list[:-1])\n",
    "            elif not _key_list:\n",
    "                return _key_path\n",
    "            else:\n",
    "                return _make_key_path_recursive(\n",
    "                    {_key_list[-1]: _key_path}, _key_list[:-1], val\n",
    "                )\n",
    "\n",
    "        _key_path = _make_key_path_recursive({}, key_list, val)\n",
    "        print(_key_path)\n",
    "\n",
    "        self.dict.update(_key_path)"
   ]
  },
  {
   "cell_type": "code",
   "execution_count": 404,
   "id": "2a2131ce",
   "metadata": {
    "ExecuteTime": {
     "end_time": "2023-01-17T10:23:20.483041Z",
     "start_time": "2023-01-17T10:23:20.474970Z"
    },
    "code_folding": [
     2,
     12,
     30
    ]
   },
   "outputs": [],
   "source": [
    "# 外部関数にした方がいい\n",
    "def swap_keys(old_multi_dict, new_names: list):\n",
    "    def index_to_num(index_lists):\n",
    "        def _make_index_list(_index_list):\n",
    "            return {_index: _num for _num, _index in enumerate(_index_list)}\n",
    "\n",
    "        _perm_dict = _make_index_list(index_lists[0])\n",
    "        return [\n",
    "            [_perm_dict[_index] for _index in _index_list]\n",
    "            for _index_list in index_lists\n",
    "        ]\n",
    "\n",
    "    def lists_to_permutation(two_row_perm: list):\n",
    "        if set(two_row_perm[0]) != set(two_row_perm[1]):\n",
    "            raise ValueError(\"Permutations do not match.\")\n",
    "        _two_row_perm = dict(zip(*two_row_perm))\n",
    "        _cycles = []\n",
    "        _done = set()\n",
    "        for _i in _two_row_perm.keys():\n",
    "            if _i not in _done:\n",
    "                _cycle = [_i]\n",
    "                _next_elem = _two_row_perm[_i]\n",
    "                _done.add(_next_elem)\n",
    "                while _next_elem != _i:\n",
    "                    _cycle.append(_next_elem)\n",
    "                    _next_elem = _two_row_perm[_next_elem]\n",
    "                    _done.add(_next_elem)\n",
    "                _cycles.append(_cycle)\n",
    "        return _cycles\n",
    "\n",
    "    if not (set(new_names) == set(old_multi_dict.names)):\n",
    "        raise KeyError(\n",
    "            f\"Keys {set(new_names).symmetric_difference(self.keys)} do not match.\"\n",
    "        )\n",
    "\n",
    "    _two_row_perm = index_to_num([old_multi_dict.names, new_names])\n",
    "    _cyclic_perm = lists_to_permutation(_two_row_perm)\n",
    "    _perm = Permutation(_cyclic_perm)\n",
    "\n",
    "    _new_keys_names = dict(\n",
    "        zip(\n",
    "            _perm(list(old_multi_dict.names_keys.keys())),\n",
    "            _perm(list(old_multi_dict.names_keys.values())),\n",
    "        )\n",
    "    )\n",
    "    _new_multilayer_dict = multilayer_dict(_new_keys_names)\n",
    "    for _index_keys in itertools.product(*old_multi_dict.names_keys.values()):\n",
    "        _new_multilayer_dict.update(_perm(_index_keys), old_multi_dict.loc(_index_keys))\n",
    "    return _new_multilayer_dict"
   ]
  },
  {
   "cell_type": "code",
   "execution_count": 405,
   "id": "b6c619d9",
   "metadata": {
    "ExecuteTime": {
     "end_time": "2023-01-17T10:23:20.682839Z",
     "start_time": "2023-01-17T10:23:20.643790Z"
    }
   },
   "outputs": [
    {
     "name": "stdout",
     "output_type": "stream",
     "text": [
      "('a', 'd', 'e', 'g')\n",
      "a\n",
      "('a', 'd', 'f', 'g')\n"
     ]
    },
    {
     "ename": "KeyError",
     "evalue": "'f'",
     "output_type": "error",
     "traceback": [
      "\u001b[0;31m---------------------------------------------------------------------------\u001b[0m",
      "\u001b[0;31mKeyError\u001b[0m                                  Traceback (most recent call last)",
      "Cell \u001b[0;32mIn[405], line 3\u001b[0m\n\u001b[1;32m      1\u001b[0m \u001b[38;5;28;01mfor\u001b[39;00m _index_keys \u001b[38;5;129;01min\u001b[39;00m itertools\u001b[38;5;241m.\u001b[39mproduct(\u001b[38;5;241m*\u001b[39mmulti_d\u001b[38;5;241m.\u001b[39mnames_keys\u001b[38;5;241m.\u001b[39mvalues()):\n\u001b[1;32m      2\u001b[0m     \u001b[38;5;28mprint\u001b[39m(_index_keys)\n\u001b[0;32m----> 3\u001b[0m     \u001b[38;5;28mprint\u001b[39m(\u001b[43mmulti_d\u001b[49m\u001b[38;5;241;43m.\u001b[39;49m\u001b[43mloc\u001b[49m\u001b[43m(\u001b[49m\u001b[43m_index_keys\u001b[49m\u001b[43m)\u001b[49m)\n",
      "Cell \u001b[0;32mIn[325], line 29\u001b[0m, in \u001b[0;36mmultilayer_dict.loc\u001b[0;34m(self, key_list)\u001b[0m\n\u001b[1;32m     26\u001b[0m     \u001b[38;5;28;01melse\u001b[39;00m:\n\u001b[1;32m     27\u001b[0m         \u001b[38;5;28;01mreturn\u001b[39;00m _loc_recursive(_val[_key_list[\u001b[38;5;241m0\u001b[39m]], _key_list[\u001b[38;5;241m1\u001b[39m:])\n\u001b[0;32m---> 29\u001b[0m \u001b[38;5;28;01mreturn\u001b[39;00m \u001b[43m_loc_recursive\u001b[49m\u001b[43m(\u001b[49m\u001b[38;5;28;43mself\u001b[39;49m\u001b[38;5;241;43m.\u001b[39;49m\u001b[43mdict\u001b[49m\u001b[43m,\u001b[49m\u001b[43m \u001b[49m\u001b[43mkey_list\u001b[49m\u001b[43m)\u001b[49m\n",
      "Cell \u001b[0;32mIn[325], line 27\u001b[0m, in \u001b[0;36mmultilayer_dict.loc.<locals>._loc_recursive\u001b[0;34m(_val, _key_list)\u001b[0m\n\u001b[1;32m     25\u001b[0m     \u001b[38;5;28;01mreturn\u001b[39;00m _val\n\u001b[1;32m     26\u001b[0m \u001b[38;5;28;01melse\u001b[39;00m:\n\u001b[0;32m---> 27\u001b[0m     \u001b[38;5;28;01mreturn\u001b[39;00m \u001b[43m_loc_recursive\u001b[49m\u001b[43m(\u001b[49m\u001b[43m_val\u001b[49m\u001b[43m[\u001b[49m\u001b[43m_key_list\u001b[49m\u001b[43m[\u001b[49m\u001b[38;5;241;43m0\u001b[39;49m\u001b[43m]\u001b[49m\u001b[43m]\u001b[49m\u001b[43m,\u001b[49m\u001b[43m \u001b[49m\u001b[43m_key_list\u001b[49m\u001b[43m[\u001b[49m\u001b[38;5;241;43m1\u001b[39;49m\u001b[43m:\u001b[49m\u001b[43m]\u001b[49m\u001b[43m)\u001b[49m\n",
      "Cell \u001b[0;32mIn[325], line 27\u001b[0m, in \u001b[0;36mmultilayer_dict.loc.<locals>._loc_recursive\u001b[0;34m(_val, _key_list)\u001b[0m\n\u001b[1;32m     25\u001b[0m     \u001b[38;5;28;01mreturn\u001b[39;00m _val\n\u001b[1;32m     26\u001b[0m \u001b[38;5;28;01melse\u001b[39;00m:\n\u001b[0;32m---> 27\u001b[0m     \u001b[38;5;28;01mreturn\u001b[39;00m \u001b[43m_loc_recursive\u001b[49m\u001b[43m(\u001b[49m\u001b[43m_val\u001b[49m\u001b[43m[\u001b[49m\u001b[43m_key_list\u001b[49m\u001b[43m[\u001b[49m\u001b[38;5;241;43m0\u001b[39;49m\u001b[43m]\u001b[49m\u001b[43m]\u001b[49m\u001b[43m,\u001b[49m\u001b[43m \u001b[49m\u001b[43m_key_list\u001b[49m\u001b[43m[\u001b[49m\u001b[38;5;241;43m1\u001b[39;49m\u001b[43m:\u001b[49m\u001b[43m]\u001b[49m\u001b[43m)\u001b[49m\n",
      "Cell \u001b[0;32mIn[325], line 27\u001b[0m, in \u001b[0;36mmultilayer_dict.loc.<locals>._loc_recursive\u001b[0;34m(_val, _key_list)\u001b[0m\n\u001b[1;32m     25\u001b[0m     \u001b[38;5;28;01mreturn\u001b[39;00m _val\n\u001b[1;32m     26\u001b[0m \u001b[38;5;28;01melse\u001b[39;00m:\n\u001b[0;32m---> 27\u001b[0m     \u001b[38;5;28;01mreturn\u001b[39;00m _loc_recursive(\u001b[43m_val\u001b[49m\u001b[43m[\u001b[49m\u001b[43m_key_list\u001b[49m\u001b[43m[\u001b[49m\u001b[38;5;241;43m0\u001b[39;49m\u001b[43m]\u001b[49m\u001b[43m]\u001b[49m, _key_list[\u001b[38;5;241m1\u001b[39m:])\n",
      "\u001b[0;31mKeyError\u001b[0m: 'f'"
     ]
    }
   ],
   "source": [
    "for _index_keys in itertools.product(*multi_d.names_keys.values()):\n",
    "    print(_index_keys)\n",
    "    print(multi_d.loc(_index_keys))"
   ]
  },
  {
   "cell_type": "code",
   "execution_count": 442,
   "id": "9bc8cc5f",
   "metadata": {
    "ExecuteTime": {
     "end_time": "2023-01-17T11:06:18.881822Z",
     "start_time": "2023-01-17T11:06:18.878463Z"
    }
   },
   "outputs": [],
   "source": [
    "data = {2: [\"a\", \"b\", \"c\"], 1: [\"d\", \"c\"], 3: [\"e\", \"f\"], 4: [\"g\"]}"
   ]
  },
  {
   "cell_type": "code",
   "execution_count": 443,
   "id": "8e99cb2f",
   "metadata": {
    "ExecuteTime": {
     "end_time": "2023-01-17T11:06:19.153534Z",
     "start_time": "2023-01-17T11:06:19.150620Z"
    }
   },
   "outputs": [],
   "source": [
    "multi_d = multilayer_dict(data)"
   ]
  },
  {
   "cell_type": "code",
   "execution_count": 444,
   "id": "4ac9f265",
   "metadata": {
    "ExecuteTime": {
     "end_time": "2023-01-17T11:06:19.406467Z",
     "start_time": "2023-01-17T11:06:19.403123Z"
    }
   },
   "outputs": [],
   "source": [
    "multi_d.dict[\"a\"][\"d\"][\"e\"][\"g\"] = \"\""
   ]
  },
  {
   "cell_type": "code",
   "execution_count": 445,
   "id": "d467beba",
   "metadata": {
    "ExecuteTime": {
     "end_time": "2023-01-17T11:06:19.628410Z",
     "start_time": "2023-01-17T11:06:19.625217Z"
    }
   },
   "outputs": [],
   "source": [
    "_d = multi_d.dict[\"a\"][\"d\"]"
   ]
  },
  {
   "cell_type": "code",
   "execution_count": 446,
   "id": "deaf32fc",
   "metadata": {
    "ExecuteTime": {
     "end_time": "2023-01-17T11:06:19.930539Z",
     "start_time": "2023-01-17T11:06:19.927313Z"
    }
   },
   "outputs": [],
   "source": [
    "__d = _d[\"e\"]"
   ]
  },
  {
   "cell_type": "code",
   "execution_count": 447,
   "id": "6a9f42a4",
   "metadata": {
    "ExecuteTime": {
     "end_time": "2023-01-17T11:06:20.111392Z",
     "start_time": "2023-01-17T11:06:20.108421Z"
    }
   },
   "outputs": [],
   "source": [
    "__d[\"g\"] = \"\""
   ]
  },
  {
   "cell_type": "code",
   "execution_count": 431,
   "id": "c0ffc7cf",
   "metadata": {
    "ExecuteTime": {
     "end_time": "2023-01-17T10:48:05.893288Z",
     "start_time": "2023-01-17T10:48:05.889400Z"
    }
   },
   "outputs": [
    {
     "name": "stdout",
     "output_type": "stream",
     "text": [
      "{'a': {'d': {'e': {'g': 'end'}}}}\n"
     ]
    }
   ],
   "source": [
    "multi_d.update([\"a\", \"d\", \"e\", \"g\"], \"end\")"
   ]
  },
  {
   "cell_type": "code",
   "execution_count": 441,
   "id": "16ff8e6e",
   "metadata": {
    "ExecuteTime": {
     "end_time": "2023-01-17T11:06:12.710265Z",
     "start_time": "2023-01-17T11:06:12.705368Z"
    }
   },
   "outputs": [
    {
     "data": {
      "text/plain": [
       "{'a': {'d': {'e': {'g': ''}}},\n",
       " 'b': {'d': {'e': {'g': {}}, 'f': {'g': {}}},\n",
       "  'c': {'e': {'g': {}}, 'f': {'g': {}}}},\n",
       " 'c': {'d': {'e': {'g': {}}, 'f': {'g': {}}},\n",
       "  'c': {'e': {'g': {}}, 'f': {'g': {}}}}}"
      ]
     },
     "execution_count": 441,
     "metadata": {},
     "output_type": "execute_result"
    }
   ],
   "source": [
    "multi_d.dict"
   ]
  },
  {
   "cell_type": "code",
   "execution_count": 388,
   "id": "e13ea459",
   "metadata": {
    "ExecuteTime": {
     "end_time": "2023-01-17T09:02:11.274150Z",
     "start_time": "2023-01-17T09:02:11.269558Z"
    }
   },
   "outputs": [
    {
     "data": {
      "text/plain": [
       "[2, 1, 3, 4]"
      ]
     },
     "execution_count": 388,
     "metadata": {},
     "output_type": "execute_result"
    }
   ],
   "source": [
    "multi_d.names"
   ]
  },
  {
   "cell_type": "code",
   "execution_count": 421,
   "id": "6026d094",
   "metadata": {
    "ExecuteTime": {
     "end_time": "2023-01-17T10:40:29.334590Z",
     "start_time": "2023-01-17T10:40:29.331495Z"
    }
   },
   "outputs": [],
   "source": [
    "_d = {1:{2:\"a\", 3: \"c\"}}"
   ]
  },
  {
   "cell_type": "code",
   "execution_count": 422,
   "id": "e4e2439f",
   "metadata": {
    "ExecuteTime": {
     "end_time": "2023-01-17T10:40:29.521686Z",
     "start_time": "2023-01-17T10:40:29.517166Z"
    }
   },
   "outputs": [
    {
     "data": {
      "text/plain": [
       "{1: {2: 'a', 3: 'c'}}"
      ]
     },
     "execution_count": 422,
     "metadata": {},
     "output_type": "execute_result"
    }
   ],
   "source": [
    "_d"
   ]
  },
  {
   "cell_type": "code",
   "execution_count": 423,
   "id": "87662e6d",
   "metadata": {
    "ExecuteTime": {
     "end_time": "2023-01-17T10:40:31.335049Z",
     "start_time": "2023-01-17T10:40:31.331746Z"
    }
   },
   "outputs": [],
   "source": [
    "_d.update({1: {2: \"b\"}})"
   ]
  },
  {
   "cell_type": "code",
   "execution_count": 424,
   "id": "1dd084b3",
   "metadata": {
    "ExecuteTime": {
     "end_time": "2023-01-17T10:40:32.124246Z",
     "start_time": "2023-01-17T10:40:32.119794Z"
    }
   },
   "outputs": [
    {
     "data": {
      "text/plain": [
       "{1: {2: 'b'}}"
      ]
     },
     "execution_count": 424,
     "metadata": {},
     "output_type": "execute_result"
    }
   ],
   "source": [
    "_d"
   ]
  },
  {
   "cell_type": "code",
   "execution_count": 389,
   "id": "d15ecd0c",
   "metadata": {
    "ExecuteTime": {
     "end_time": "2023-01-17T09:02:12.122774Z",
     "start_time": "2023-01-17T09:02:12.054214Z"
    }
   },
   "outputs": [
    {
     "ename": "KeyError",
     "evalue": "'f'",
     "output_type": "error",
     "traceback": [
      "\u001b[0;31m---------------------------------------------------------------------------\u001b[0m",
      "\u001b[0;31mKeyError\u001b[0m                                  Traceback (most recent call last)",
      "Cell \u001b[0;32mIn[389], line 1\u001b[0m\n\u001b[0;32m----> 1\u001b[0m \u001b[43mswap_keys\u001b[49m\u001b[43m(\u001b[49m\u001b[43mmulti_d\u001b[49m\u001b[43m,\u001b[49m\u001b[43m \u001b[49m\u001b[43m[\u001b[49m\u001b[38;5;241;43m1\u001b[39;49m\u001b[43m,\u001b[49m\u001b[43m \u001b[49m\u001b[38;5;241;43m2\u001b[39;49m\u001b[43m,\u001b[49m\u001b[43m \u001b[49m\u001b[38;5;241;43m3\u001b[39;49m\u001b[43m,\u001b[49m\u001b[43m \u001b[49m\u001b[38;5;241;43m4\u001b[39;49m\u001b[43m]\u001b[49m\u001b[43m)\u001b[49m\n",
      "Cell \u001b[0;32mIn[383], line 48\u001b[0m, in \u001b[0;36mswap_keys\u001b[0;34m(old_multi_dict, new_names)\u001b[0m\n\u001b[1;32m     46\u001b[0m _new_multilayer_dict \u001b[38;5;241m=\u001b[39m multilayer_dict(_new_keys_names)\n\u001b[1;32m     47\u001b[0m \u001b[38;5;28;01mfor\u001b[39;00m _index_keys \u001b[38;5;129;01min\u001b[39;00m itertools\u001b[38;5;241m.\u001b[39mproduct(\u001b[38;5;241m*\u001b[39mold_multi_dict\u001b[38;5;241m.\u001b[39mnames_keys\u001b[38;5;241m.\u001b[39mvalues()):\n\u001b[0;32m---> 48\u001b[0m     _new_multilayer_dict\u001b[38;5;241m.\u001b[39mupdate(_perm(_index_keys), \u001b[43mold_multi_dict\u001b[49m\u001b[38;5;241;43m.\u001b[39;49m\u001b[43mloc\u001b[49m\u001b[43m(\u001b[49m\u001b[43m_index_keys\u001b[49m\u001b[43m)\u001b[49m)\n\u001b[1;32m     49\u001b[0m \u001b[38;5;28;01mreturn\u001b[39;00m _new_multilayer_dict\n",
      "Cell \u001b[0;32mIn[325], line 29\u001b[0m, in \u001b[0;36mmultilayer_dict.loc\u001b[0;34m(self, key_list)\u001b[0m\n\u001b[1;32m     26\u001b[0m     \u001b[38;5;28;01melse\u001b[39;00m:\n\u001b[1;32m     27\u001b[0m         \u001b[38;5;28;01mreturn\u001b[39;00m _loc_recursive(_val[_key_list[\u001b[38;5;241m0\u001b[39m]], _key_list[\u001b[38;5;241m1\u001b[39m:])\n\u001b[0;32m---> 29\u001b[0m \u001b[38;5;28;01mreturn\u001b[39;00m \u001b[43m_loc_recursive\u001b[49m\u001b[43m(\u001b[49m\u001b[38;5;28;43mself\u001b[39;49m\u001b[38;5;241;43m.\u001b[39;49m\u001b[43mdict\u001b[49m\u001b[43m,\u001b[49m\u001b[43m \u001b[49m\u001b[43mkey_list\u001b[49m\u001b[43m)\u001b[49m\n",
      "Cell \u001b[0;32mIn[325], line 27\u001b[0m, in \u001b[0;36mmultilayer_dict.loc.<locals>._loc_recursive\u001b[0;34m(_val, _key_list)\u001b[0m\n\u001b[1;32m     25\u001b[0m     \u001b[38;5;28;01mreturn\u001b[39;00m _val\n\u001b[1;32m     26\u001b[0m \u001b[38;5;28;01melse\u001b[39;00m:\n\u001b[0;32m---> 27\u001b[0m     \u001b[38;5;28;01mreturn\u001b[39;00m \u001b[43m_loc_recursive\u001b[49m\u001b[43m(\u001b[49m\u001b[43m_val\u001b[49m\u001b[43m[\u001b[49m\u001b[43m_key_list\u001b[49m\u001b[43m[\u001b[49m\u001b[38;5;241;43m0\u001b[39;49m\u001b[43m]\u001b[49m\u001b[43m]\u001b[49m\u001b[43m,\u001b[49m\u001b[43m \u001b[49m\u001b[43m_key_list\u001b[49m\u001b[43m[\u001b[49m\u001b[38;5;241;43m1\u001b[39;49m\u001b[43m:\u001b[49m\u001b[43m]\u001b[49m\u001b[43m)\u001b[49m\n",
      "Cell \u001b[0;32mIn[325], line 27\u001b[0m, in \u001b[0;36mmultilayer_dict.loc.<locals>._loc_recursive\u001b[0;34m(_val, _key_list)\u001b[0m\n\u001b[1;32m     25\u001b[0m     \u001b[38;5;28;01mreturn\u001b[39;00m _val\n\u001b[1;32m     26\u001b[0m \u001b[38;5;28;01melse\u001b[39;00m:\n\u001b[0;32m---> 27\u001b[0m     \u001b[38;5;28;01mreturn\u001b[39;00m \u001b[43m_loc_recursive\u001b[49m\u001b[43m(\u001b[49m\u001b[43m_val\u001b[49m\u001b[43m[\u001b[49m\u001b[43m_key_list\u001b[49m\u001b[43m[\u001b[49m\u001b[38;5;241;43m0\u001b[39;49m\u001b[43m]\u001b[49m\u001b[43m]\u001b[49m\u001b[43m,\u001b[49m\u001b[43m \u001b[49m\u001b[43m_key_list\u001b[49m\u001b[43m[\u001b[49m\u001b[38;5;241;43m1\u001b[39;49m\u001b[43m:\u001b[49m\u001b[43m]\u001b[49m\u001b[43m)\u001b[49m\n",
      "Cell \u001b[0;32mIn[325], line 27\u001b[0m, in \u001b[0;36mmultilayer_dict.loc.<locals>._loc_recursive\u001b[0;34m(_val, _key_list)\u001b[0m\n\u001b[1;32m     25\u001b[0m     \u001b[38;5;28;01mreturn\u001b[39;00m _val\n\u001b[1;32m     26\u001b[0m \u001b[38;5;28;01melse\u001b[39;00m:\n\u001b[0;32m---> 27\u001b[0m     \u001b[38;5;28;01mreturn\u001b[39;00m _loc_recursive(\u001b[43m_val\u001b[49m\u001b[43m[\u001b[49m\u001b[43m_key_list\u001b[49m\u001b[43m[\u001b[49m\u001b[38;5;241;43m0\u001b[39;49m\u001b[43m]\u001b[49m\u001b[43m]\u001b[49m, _key_list[\u001b[38;5;241m1\u001b[39m:])\n",
      "\u001b[0;31mKeyError\u001b[0m: 'f'"
     ]
    }
   ],
   "source": [
    "swap_keys(multi_d, [1, 2, 3, 4])"
   ]
  },
  {
   "cell_type": "code",
   "execution_count": 344,
   "id": "5bf37366",
   "metadata": {
    "ExecuteTime": {
     "end_time": "2023-01-17T08:58:30.674069Z",
     "start_time": "2023-01-17T08:58:30.669474Z"
    }
   },
   "outputs": [
    {
     "data": {
      "text/plain": [
       "{2: ['a', 'b', 'c'], 1: ['d', 'c'], 3: ['e', 'f'], 4: ['g']}"
      ]
     },
     "execution_count": 344,
     "metadata": {},
     "output_type": "execute_result"
    }
   ],
   "source": [
    "multi_d.names_keys"
   ]
  },
  {
   "cell_type": "code",
   "execution_count": 248,
   "id": "71e6b5eb",
   "metadata": {
    "ExecuteTime": {
     "end_time": "2023-01-15T10:04:27.050205Z",
     "start_time": "2023-01-15T10:04:27.045886Z"
    }
   },
   "outputs": [],
   "source": [
    "l_ = list(itertools.product(*[[\"a\"], [\"b\"], [\"c\"], [\"d\" ,\"e\"]]))"
   ]
  },
  {
   "cell_type": "code",
   "execution_count": 251,
   "id": "6a3293bb",
   "metadata": {
    "ExecuteTime": {
     "end_time": "2023-01-15T10:04:58.016340Z",
     "start_time": "2023-01-15T10:04:58.012933Z"
    }
   },
   "outputs": [],
   "source": [
    "p = Permutation(1, 2, 3)"
   ]
  },
  {
   "cell_type": "code",
   "execution_count": 314,
   "id": "7ac9fc81",
   "metadata": {
    "ExecuteTime": {
     "end_time": "2023-01-15T17:07:25.661985Z",
     "start_time": "2023-01-15T17:07:25.658950Z"
    }
   },
   "outputs": [],
   "source": [
    "index_lists = [[\"a\", \"b\", \"c\", \"d\"], [\"a\", \"c\", \"b\", \"d\"]]"
   ]
  },
  {
   "cell_type": "code",
   "execution_count": 315,
   "id": "a9b19182",
   "metadata": {
    "ExecuteTime": {
     "end_time": "2023-01-15T17:07:25.823909Z",
     "start_time": "2023-01-15T17:07:25.819980Z"
    }
   },
   "outputs": [],
   "source": [
    "def index_to_num(index_lists):\n",
    "    def _make_index_list(_index_list):\n",
    "        return {_index: _num for _num, _index in enumerate(_index_list)}\n",
    "\n",
    "    _perm_dict = _make_index_list(index_lists[0])\n",
    "    return [[_perm_dict[_index] for _index in _index_list] for _index_list in index_lists]"
   ]
  },
  {
   "cell_type": "code",
   "execution_count": 316,
   "id": "0cabc004",
   "metadata": {
    "ExecuteTime": {
     "end_time": "2023-01-15T17:07:25.957911Z",
     "start_time": "2023-01-15T17:07:25.952913Z"
    }
   },
   "outputs": [],
   "source": [
    "def lists_to_permutation(two_row_perm: list):\n",
    "    if set(two_row_perm[0]) != set(two_row_perm[1]):\n",
    "        raise ValueError(\"Permutations do not match.\")\n",
    "    _two_row_perm = dict(zip(*two_row_perm))\n",
    "    _cycles = []\n",
    "    _done = set()\n",
    "    for _i in _two_row_perm.keys():\n",
    "        if _i not in _done:\n",
    "            _cycle = [_i]\n",
    "            _next_elem = _two_row_perm[_i]\n",
    "            _done.add(_next_elem)\n",
    "            while _next_elem != _i:\n",
    "                _cycle.append(_next_elem)\n",
    "                _next_elem = _two_row_perm[_next_elem]\n",
    "                _done.add(_next_elem)\n",
    "            _cycles.append(_cycle)\n",
    "    return _cycles"
   ]
  },
  {
   "cell_type": "code",
   "execution_count": 317,
   "id": "094a7ca7",
   "metadata": {
    "ExecuteTime": {
     "end_time": "2023-01-15T17:07:26.106823Z",
     "start_time": "2023-01-15T17:07:26.104018Z"
    }
   },
   "outputs": [],
   "source": [
    "two_row_perm = index_to_num(index_lists)"
   ]
  },
  {
   "cell_type": "code",
   "execution_count": 318,
   "id": "d509290b",
   "metadata": {
    "ExecuteTime": {
     "end_time": "2023-01-15T17:07:26.260491Z",
     "start_time": "2023-01-15T17:07:26.256112Z"
    }
   },
   "outputs": [
    {
     "data": {
      "text/plain": [
       "[[0, 1, 2, 3], [0, 2, 1, 3]]"
      ]
     },
     "execution_count": 318,
     "metadata": {},
     "output_type": "execute_result"
    }
   ],
   "source": [
    "two_row_perm"
   ]
  },
  {
   "cell_type": "code",
   "execution_count": 320,
   "id": "a276bede",
   "metadata": {
    "ExecuteTime": {
     "end_time": "2023-01-15T17:07:44.672607Z",
     "start_time": "2023-01-15T17:07:44.669433Z"
    }
   },
   "outputs": [],
   "source": [
    "cyclic_perm = lists_to_permutation(two_row_perm)"
   ]
  },
  {
   "cell_type": "code",
   "execution_count": 321,
   "id": "d953c9ec",
   "metadata": {
    "ExecuteTime": {
     "end_time": "2023-01-15T17:07:53.216907Z",
     "start_time": "2023-01-15T17:07:53.213566Z"
    }
   },
   "outputs": [],
   "source": [
    "p = Permutation(cyclic_perm)"
   ]
  },
  {
   "cell_type": "code",
   "execution_count": 337,
   "id": "f4dc0673",
   "metadata": {
    "ExecuteTime": {
     "end_time": "2023-01-17T08:53:49.776727Z",
     "start_time": "2023-01-17T08:53:49.771989Z"
    }
   },
   "outputs": [
    {
     "data": {
      "text/plain": [
       "['a', 'b', 'c', 'd']"
      ]
     },
     "execution_count": 337,
     "metadata": {},
     "output_type": "execute_result"
    }
   ],
   "source": [
    "p({0: \"a\", 2: \"b\", 1:\"c\", 3: \"d\"})"
   ]
  },
  {
   "cell_type": "code",
   "execution_count": 338,
   "id": "26216925",
   "metadata": {
    "ExecuteTime": {
     "end_time": "2023-01-17T08:54:09.825967Z",
     "start_time": "2023-01-17T08:54:09.821502Z"
    }
   },
   "outputs": [
    {
     "data": {
      "text/plain": [
       "['a', 'c', 'b', 'd']"
      ]
     },
     "execution_count": 338,
     "metadata": {},
     "output_type": "execute_result"
    }
   ],
   "source": [
    "p({0: \"a\", 1: \"b\", 2:\"c\", 3: \"d\"})"
   ]
  },
  {
   "cell_type": "code",
   "execution_count": 234,
   "id": "12e85f3c",
   "metadata": {
    "ExecuteTime": {
     "end_time": "2023-01-15T09:35:54.601610Z",
     "start_time": "2023-01-15T09:35:54.596822Z"
    }
   },
   "outputs": [
    {
     "data": {
      "text/plain": [
       "{}"
      ]
     },
     "execution_count": 234,
     "metadata": {},
     "output_type": "execute_result"
    }
   ],
   "source": [
    "multi_d.loc([\"a\", \"d\", \"e\", \"g\"])"
   ]
  },
  {
   "cell_type": "code",
   "execution_count": 142,
   "id": "44de6868",
   "metadata": {
    "ExecuteTime": {
     "end_time": "2023-01-15T07:46:41.937758Z",
     "start_time": "2023-01-15T07:46:41.934348Z"
    }
   },
   "outputs": [],
   "source": [
    "d = make_multilayer_dict([[\"a\", \"b\", \"c\"], [\"d\", \"c\"], [\"e\", \"f\"], [\"g\"]])"
   ]
  },
  {
   "cell_type": "code",
   "execution_count": 165,
   "id": "4f204381",
   "metadata": {
    "ExecuteTime": {
     "end_time": "2023-01-15T07:56:03.480836Z",
     "start_time": "2023-01-15T07:56:03.477546Z"
    }
   },
   "outputs": [],
   "source": [
    "_ = {1: {1: 2}}"
   ]
  },
  {
   "cell_type": "code",
   "execution_count": 167,
   "id": "71975277",
   "metadata": {
    "ExecuteTime": {
     "end_time": "2023-01-15T07:56:41.892967Z",
     "start_time": "2023-01-15T07:56:41.889711Z"
    }
   },
   "outputs": [],
   "source": [
    "_.update({1: {1: 3}})"
   ]
  },
  {
   "cell_type": "code",
   "execution_count": 168,
   "id": "cb5bbb44",
   "metadata": {
    "ExecuteTime": {
     "end_time": "2023-01-15T07:56:46.098420Z",
     "start_time": "2023-01-15T07:56:46.094404Z"
    }
   },
   "outputs": [
    {
     "data": {
      "text/plain": [
       "{1: {1: 3}}"
      ]
     },
     "execution_count": 168,
     "metadata": {},
     "output_type": "execute_result"
    }
   ],
   "source": [
    "_"
   ]
  },
  {
   "cell_type": "code",
   "execution_count": null,
   "id": "14b504db",
   "metadata": {},
   "outputs": [],
   "source": [
    "def to_DataFrame_recursive(d, keys):\n",
    "    if isinstance(d, pd.DataFrame):\n",
    "        return d\n",
    "    else:\n",
    "        for _k in keys:\n",
    "            d[k] = pd.concat({k: pd.DataFrame(v).T for k, v in _d.items()}, axis=0)\n",
    "        return (\n",
    "            to_DataFrame_recursive(\n",
    "                pd.concat({k: pd.DataFrame(v).T for k, v in _d.items()}, axis=0)\n",
    "            ),\n",
    "            [],\n",
    "        )"
   ]
  },
  {
   "cell_type": "code",
   "execution_count": 37,
   "id": "91a7dd95",
   "metadata": {
    "ExecuteTime": {
     "end_time": "2023-01-15T07:05:20.811297Z",
     "start_time": "2023-01-15T07:05:20.806900Z"
    }
   },
   "outputs": [
    {
     "data": {
      "text/plain": [
       "True"
      ]
     },
     "execution_count": 37,
     "metadata": {},
     "output_type": "execute_result"
    }
   ],
   "source": [
    "not {}"
   ]
  },
  {
   "cell_type": "code",
   "execution_count": 45,
   "id": "4f9af9f0",
   "metadata": {
    "ExecuteTime": {
     "end_time": "2023-01-15T07:12:02.377369Z",
     "start_time": "2023-01-15T07:12:02.371365Z"
    }
   },
   "outputs": [],
   "source": [
    "df = pd.concat({k: pd.DataFrame(v).T for k, v in d.items()}, axis=0)"
   ]
  },
  {
   "cell_type": "code",
   "execution_count": 48,
   "id": "266cf251",
   "metadata": {
    "ExecuteTime": {
     "end_time": "2023-01-15T07:12:22.844578Z",
     "start_time": "2023-01-15T07:12:22.831577Z"
    }
   },
   "outputs": [
    {
     "data": {
      "text/html": [
       "<div>\n",
       "<style scoped>\n",
       "    .dataframe tbody tr th:only-of-type {\n",
       "        vertical-align: middle;\n",
       "    }\n",
       "\n",
       "    .dataframe tbody tr th {\n",
       "        vertical-align: top;\n",
       "    }\n",
       "\n",
       "    .dataframe thead th {\n",
       "        text-align: right;\n",
       "    }\n",
       "</style>\n",
       "<table border=\"1\" class=\"dataframe\">\n",
       "  <thead>\n",
       "    <tr style=\"text-align: right;\">\n",
       "      <th></th>\n",
       "      <th></th>\n",
       "      <th>e</th>\n",
       "      <th>f</th>\n",
       "    </tr>\n",
       "  </thead>\n",
       "  <tbody>\n",
       "    <tr>\n",
       "      <th rowspan=\"2\" valign=\"top\">a</th>\n",
       "      <th>d</th>\n",
       "      <td>{'g': {}}</td>\n",
       "      <td>{'g': {}}</td>\n",
       "    </tr>\n",
       "    <tr>\n",
       "      <th>c</th>\n",
       "      <td>{'g': {}}</td>\n",
       "      <td>{'g': {}}</td>\n",
       "    </tr>\n",
       "    <tr>\n",
       "      <th rowspan=\"2\" valign=\"top\">b</th>\n",
       "      <th>d</th>\n",
       "      <td>{'g': {}}</td>\n",
       "      <td>{'g': {}}</td>\n",
       "    </tr>\n",
       "    <tr>\n",
       "      <th>c</th>\n",
       "      <td>{'g': {}}</td>\n",
       "      <td>{'g': {}}</td>\n",
       "    </tr>\n",
       "    <tr>\n",
       "      <th rowspan=\"2\" valign=\"top\">c</th>\n",
       "      <th>d</th>\n",
       "      <td>{'g': {}}</td>\n",
       "      <td>{'g': {}}</td>\n",
       "    </tr>\n",
       "    <tr>\n",
       "      <th>c</th>\n",
       "      <td>{'g': {}}</td>\n",
       "      <td>{'g': {}}</td>\n",
       "    </tr>\n",
       "  </tbody>\n",
       "</table>\n",
       "</div>"
      ],
      "text/plain": [
       "             e          f\n",
       "a d  {'g': {}}  {'g': {}}\n",
       "  c  {'g': {}}  {'g': {}}\n",
       "b d  {'g': {}}  {'g': {}}\n",
       "  c  {'g': {}}  {'g': {}}\n",
       "c d  {'g': {}}  {'g': {}}\n",
       "  c  {'g': {}}  {'g': {}}"
      ]
     },
     "execution_count": 48,
     "metadata": {},
     "output_type": "execute_result"
    }
   ],
   "source": [
    "df"
   ]
  },
  {
   "cell_type": "code",
   "execution_count": 51,
   "id": "4fdaa548",
   "metadata": {
    "ExecuteTime": {
     "end_time": "2023-01-15T07:13:06.273476Z",
     "start_time": "2023-01-15T07:13:06.267141Z"
    },
    "scrolled": true
   },
   "outputs": [
    {
     "name": "stderr",
     "output_type": "stream",
     "text": [
      "/tmp/ipykernel_1328808/1095793721.py:1: FutureWarning: The default value of numeric_only in DataFrame.mean is deprecated. In a future version, it will default to False. In addition, specifying 'numeric_only=None' is deprecated. Select only valid columns or specify the value of numeric_only to silence this warning.\n",
      "  df.swaplevel(0, 1).mean(axis=0)\n"
     ]
    },
    {
     "data": {
      "text/plain": [
       "Series([], dtype: float64)"
      ]
     },
     "execution_count": 51,
     "metadata": {},
     "output_type": "execute_result"
    }
   ],
   "source": [
    "df.swaplevel(0, 1).mean(axis=1)"
   ]
  },
  {
   "cell_type": "code",
   "execution_count": 43,
   "id": "48917833",
   "metadata": {
    "ExecuteTime": {
     "end_time": "2023-01-15T07:11:14.860667Z",
     "start_time": "2023-01-15T07:11:14.855694Z"
    }
   },
   "outputs": [
    {
     "data": {
      "text/plain": [
       "{'a': {'d': {'e': {'g': {}}, 'f': {'g': {}}},\n",
       "  'c': {'e': {'g': {}}, 'f': {'g': {}}}},\n",
       " 'b': {'d': {'e': {'g': {}}, 'f': {'g': {}}},\n",
       "  'c': {'e': {'g': {}}, 'f': {'g': {}}}},\n",
       " 'c': {'d': {'e': {'g': {}}, 'f': {'g': {}}},\n",
       "  'c': {'e': {'g': {}}, 'f': {'g': {}}}}}"
      ]
     },
     "execution_count": 43,
     "metadata": {},
     "output_type": "execute_result"
    }
   ],
   "source": [
    "d"
   ]
  },
  {
   "cell_type": "code",
   "execution_count": 44,
   "id": "f095773e",
   "metadata": {
    "ExecuteTime": {
     "end_time": "2023-01-15T07:11:15.112944Z",
     "start_time": "2023-01-15T07:11:15.102284Z"
    }
   },
   "outputs": [
    {
     "data": {
      "text/html": [
       "<div>\n",
       "<style scoped>\n",
       "    .dataframe tbody tr th:only-of-type {\n",
       "        vertical-align: middle;\n",
       "    }\n",
       "\n",
       "    .dataframe tbody tr th {\n",
       "        vertical-align: top;\n",
       "    }\n",
       "\n",
       "    .dataframe thead th {\n",
       "        text-align: right;\n",
       "    }\n",
       "</style>\n",
       "<table border=\"1\" class=\"dataframe\">\n",
       "  <thead>\n",
       "    <tr style=\"text-align: right;\">\n",
       "      <th></th>\n",
       "      <th>Unnamed: 0</th>\n",
       "      <th>Unnamed: 1</th>\n",
       "      <th>e</th>\n",
       "      <th>f</th>\n",
       "    </tr>\n",
       "  </thead>\n",
       "  <tbody>\n",
       "    <tr>\n",
       "      <th>0</th>\n",
       "      <td>a</td>\n",
       "      <td>d</td>\n",
       "      <td>{'g': {}}</td>\n",
       "      <td>{'g': {}}</td>\n",
       "    </tr>\n",
       "    <tr>\n",
       "      <th>1</th>\n",
       "      <td>a</td>\n",
       "      <td>c</td>\n",
       "      <td>{'g': {}}</td>\n",
       "      <td>{'g': {}}</td>\n",
       "    </tr>\n",
       "    <tr>\n",
       "      <th>2</th>\n",
       "      <td>b</td>\n",
       "      <td>d</td>\n",
       "      <td>{'g': {}}</td>\n",
       "      <td>{'g': {}}</td>\n",
       "    </tr>\n",
       "    <tr>\n",
       "      <th>3</th>\n",
       "      <td>b</td>\n",
       "      <td>c</td>\n",
       "      <td>{'g': {}}</td>\n",
       "      <td>{'g': {}}</td>\n",
       "    </tr>\n",
       "    <tr>\n",
       "      <th>4</th>\n",
       "      <td>c</td>\n",
       "      <td>d</td>\n",
       "      <td>{'g': {}}</td>\n",
       "      <td>{'g': {}}</td>\n",
       "    </tr>\n",
       "    <tr>\n",
       "      <th>5</th>\n",
       "      <td>c</td>\n",
       "      <td>c</td>\n",
       "      <td>{'g': {}}</td>\n",
       "      <td>{'g': {}}</td>\n",
       "    </tr>\n",
       "  </tbody>\n",
       "</table>\n",
       "</div>"
      ],
      "text/plain": [
       "  Unnamed: 0 Unnamed: 1          e          f\n",
       "0          a          d  {'g': {}}  {'g': {}}\n",
       "1          a          c  {'g': {}}  {'g': {}}\n",
       "2          b          d  {'g': {}}  {'g': {}}\n",
       "3          b          c  {'g': {}}  {'g': {}}\n",
       "4          c          d  {'g': {}}  {'g': {}}\n",
       "5          c          c  {'g': {}}  {'g': {}}"
      ]
     },
     "execution_count": 44,
     "metadata": {},
     "output_type": "execute_result"
    }
   ],
   "source": [
    "pd.read_csv(\"test.csv\")"
   ]
  },
  {
   "cell_type": "code",
   "execution_count": 23,
   "id": "1c815f83",
   "metadata": {
    "ExecuteTime": {
     "end_time": "2023-01-15T06:40:23.483334Z",
     "start_time": "2023-01-15T06:40:23.479185Z"
    }
   },
   "outputs": [
    {
     "data": {
      "text/plain": [
       "{}"
      ]
     },
     "execution_count": 23,
     "metadata": {},
     "output_type": "execute_result"
    }
   ],
   "source": [
    "flatten_dict(s)"
   ]
  },
  {
   "cell_type": "code",
   "execution_count": 21,
   "id": "3d18281d",
   "metadata": {
    "ExecuteTime": {
     "end_time": "2023-01-15T06:40:18.038449Z",
     "start_time": "2023-01-15T06:40:18.026149Z"
    }
   },
   "outputs": [
    {
     "data": {
      "text/html": [
       "<div>\n",
       "<style scoped>\n",
       "    .dataframe tbody tr th:only-of-type {\n",
       "        vertical-align: middle;\n",
       "    }\n",
       "\n",
       "    .dataframe tbody tr th {\n",
       "        vertical-align: top;\n",
       "    }\n",
       "\n",
       "    .dataframe thead th {\n",
       "        text-align: right;\n",
       "    }\n",
       "</style>\n",
       "<table border=\"1\" class=\"dataframe\">\n",
       "  <thead>\n",
       "    <tr style=\"text-align: right;\">\n",
       "      <th></th>\n",
       "      <th>a</th>\n",
       "      <th>b</th>\n",
       "      <th>c</th>\n",
       "    </tr>\n",
       "  </thead>\n",
       "  <tbody>\n",
       "    <tr>\n",
       "      <th>d</th>\n",
       "      <td>{'e': {}, 'f': {}}</td>\n",
       "      <td>{'e': {}, 'f': {}}</td>\n",
       "      <td>{'e': {}, 'f': {}}</td>\n",
       "    </tr>\n",
       "    <tr>\n",
       "      <th>c</th>\n",
       "      <td>{'e': {}, 'f': {}}</td>\n",
       "      <td>{'e': {}, 'f': {}}</td>\n",
       "      <td>{'e': {}, 'f': {}}</td>\n",
       "    </tr>\n",
       "  </tbody>\n",
       "</table>\n",
       "</div>"
      ],
      "text/plain": [
       "                    a                   b                   c\n",
       "d  {'e': {}, 'f': {}}  {'e': {}, 'f': {}}  {'e': {}, 'f': {}}\n",
       "c  {'e': {}, 'f': {}}  {'e': {}, 'f': {}}  {'e': {}, 'f': {}}"
      ]
     },
     "execution_count": 21,
     "metadata": {},
     "output_type": "execute_result"
    }
   ],
   "source": [
    "pd.DataFrame.from_dict(s)"
   ]
  },
  {
   "cell_type": "code",
   "execution_count": 27,
   "id": "ef827e1b",
   "metadata": {
    "ExecuteTime": {
     "end_time": "2023-01-15T02:06:49.670055Z",
     "start_time": "2023-01-15T02:06:49.633640Z"
    },
    "code_folding": []
   },
   "outputs": [],
   "source": [
    "data_stats = {}\n",
    "for stats_val in stats_vals:\n",
    "    for vectorize_type, stats in stats_dict[\"sentenceBERT\"][stats_val].items():\n",
    "        stats_df = shape_stats_df(stats)\n",
    "        describe, describe_keys = shape_describe(stats_df)\n",
    "        data_stats[vectorize_type] = shape_data(describe, describe_keys)"
   ]
  },
  {
   "cell_type": "code",
   "execution_count": 30,
   "id": "24493214",
   "metadata": {
    "ExecuteTime": {
     "end_time": "2023-01-15T02:07:22.954615Z",
     "start_time": "2023-01-15T02:07:22.880393Z"
    },
    "scrolled": false
   },
   "outputs": [
    {
     "data": {
      "text/html": [
       "<style type=\"text/css\">\n",
       "#T_88d0c_row0_col0, #T_88d0c_row0_col1, #T_88d0c_row0_col2, #T_88d0c_row0_col3, #T_88d0c_row0_col4, #T_88d0c_row0_col5, #T_88d0c_row0_col6, #T_88d0c_row0_col7, #T_88d0c_row0_col8, #T_88d0c_row0_col9 {\n",
       "  background-color: yellow;\n",
       "}\n",
       "</style>\n",
       "<table id=\"T_88d0c\">\n",
       "  <thead>\n",
       "    <tr>\n",
       "      <th class=\"blank level0\" >&nbsp;</th>\n",
       "      <th id=\"T_88d0c_level0_col0\" class=\"col_heading level0 col0\" >0</th>\n",
       "      <th id=\"T_88d0c_level0_col1\" class=\"col_heading level0 col1\" >1</th>\n",
       "      <th id=\"T_88d0c_level0_col2\" class=\"col_heading level0 col2\" >2</th>\n",
       "      <th id=\"T_88d0c_level0_col3\" class=\"col_heading level0 col3\" >3</th>\n",
       "      <th id=\"T_88d0c_level0_col4\" class=\"col_heading level0 col4\" >4</th>\n",
       "      <th id=\"T_88d0c_level0_col5\" class=\"col_heading level0 col5\" >5</th>\n",
       "      <th id=\"T_88d0c_level0_col6\" class=\"col_heading level0 col6\" >6</th>\n",
       "      <th id=\"T_88d0c_level0_col7\" class=\"col_heading level0 col7\" >7</th>\n",
       "      <th id=\"T_88d0c_level0_col8\" class=\"col_heading level0 col8\" >8</th>\n",
       "      <th id=\"T_88d0c_level0_col9\" class=\"col_heading level0 col9\" >9</th>\n",
       "    </tr>\n",
       "  </thead>\n",
       "  <tbody>\n",
       "    <tr>\n",
       "      <th id=\"T_88d0c_level0_row0\" class=\"row_heading level0 row0\" >20</th>\n",
       "      <td id=\"T_88d0c_row0_col0\" class=\"data row0 col0\" >0.341989</td>\n",
       "      <td id=\"T_88d0c_row0_col1\" class=\"data row0 col1\" >0.341835</td>\n",
       "      <td id=\"T_88d0c_row0_col2\" class=\"data row0 col2\" >0.341814</td>\n",
       "      <td id=\"T_88d0c_row0_col3\" class=\"data row0 col3\" >0.338648</td>\n",
       "      <td id=\"T_88d0c_row0_col4\" class=\"data row0 col4\" >0.343823</td>\n",
       "      <td id=\"T_88d0c_row0_col5\" class=\"data row0 col5\" >0.342038</td>\n",
       "      <td id=\"T_88d0c_row0_col6\" class=\"data row0 col6\" >0.343106</td>\n",
       "      <td id=\"T_88d0c_row0_col7\" class=\"data row0 col7\" >0.341574</td>\n",
       "      <td id=\"T_88d0c_row0_col8\" class=\"data row0 col8\" >0.344153</td>\n",
       "      <td id=\"T_88d0c_row0_col9\" class=\"data row0 col9\" >0.343050</td>\n",
       "    </tr>\n",
       "  </tbody>\n",
       "</table>\n"
      ],
      "text/plain": [
       "<pandas.io.formats.style.Styler at 0x7f66477ecdc0>"
      ]
     },
     "execution_count": 30,
     "metadata": {},
     "output_type": "execute_result"
    }
   ],
   "source": [
    "stats_df[\"mi\"][\"spherical\"].style.highlight_max(axis=0)"
   ]
  },
  {
   "cell_type": "markdown",
   "id": "5b7b6782",
   "metadata": {},
   "source": [
    "# Make Chart"
   ]
  },
  {
   "cell_type": "code",
   "execution_count": 32,
   "id": "f033721b",
   "metadata": {
    "ExecuteTime": {
     "end_time": "2023-01-15T02:08:25.524230Z",
     "start_time": "2023-01-15T02:08:24.520641Z"
    },
    "scrolled": true
   },
   "outputs": [
    {
     "ename": "KeyError",
     "evalue": "384",
     "output_type": "error",
     "traceback": [
      "\u001b[0;31m---------------------------------------------------------------------------\u001b[0m",
      "\u001b[0;31mKeyError\u001b[0m                                  Traceback (most recent call last)",
      "File \u001b[0;32m/opt/conda/lib/python3.10/site-packages/pandas/core/indexes/base.py:3803\u001b[0m, in \u001b[0;36mIndex.get_loc\u001b[0;34m(self, key, method, tolerance)\u001b[0m\n\u001b[1;32m   3802\u001b[0m \u001b[38;5;28;01mtry\u001b[39;00m:\n\u001b[0;32m-> 3803\u001b[0m     \u001b[38;5;28;01mreturn\u001b[39;00m \u001b[38;5;28;43mself\u001b[39;49m\u001b[38;5;241;43m.\u001b[39;49m\u001b[43m_engine\u001b[49m\u001b[38;5;241;43m.\u001b[39;49m\u001b[43mget_loc\u001b[49m\u001b[43m(\u001b[49m\u001b[43mcasted_key\u001b[49m\u001b[43m)\u001b[49m\n\u001b[1;32m   3804\u001b[0m \u001b[38;5;28;01mexcept\u001b[39;00m \u001b[38;5;167;01mKeyError\u001b[39;00m \u001b[38;5;28;01mas\u001b[39;00m err:\n",
      "File \u001b[0;32m/opt/conda/lib/python3.10/site-packages/pandas/_libs/index.pyx:138\u001b[0m, in \u001b[0;36mpandas._libs.index.IndexEngine.get_loc\u001b[0;34m()\u001b[0m\n",
      "File \u001b[0;32m/opt/conda/lib/python3.10/site-packages/pandas/_libs/index.pyx:165\u001b[0m, in \u001b[0;36mpandas._libs.index.IndexEngine.get_loc\u001b[0;34m()\u001b[0m\n",
      "File \u001b[0;32mpandas/_libs/hashtable_class_helper.pxi:2263\u001b[0m, in \u001b[0;36mpandas._libs.hashtable.Int64HashTable.get_item\u001b[0;34m()\u001b[0m\n",
      "File \u001b[0;32mpandas/_libs/hashtable_class_helper.pxi:2273\u001b[0m, in \u001b[0;36mpandas._libs.hashtable.Int64HashTable.get_item\u001b[0;34m()\u001b[0m\n",
      "\u001b[0;31mKeyError\u001b[0m: 384",
      "\nThe above exception was the direct cause of the following exception:\n",
      "\u001b[0;31mKeyError\u001b[0m                                  Traceback (most recent call last)",
      "Cell \u001b[0;32mIn[32], line 2\u001b[0m\n\u001b[1;32m      1\u001b[0m chart_data \u001b[38;5;241m=\u001b[39m {}\n\u001b[0;32m----> 2\u001b[0m chart_data[\u001b[38;5;124m\"\u001b[39m\u001b[38;5;124msentenceBERT\u001b[39m\u001b[38;5;124m\"\u001b[39m] \u001b[38;5;241m=\u001b[39m \u001b[43mdata_stats\u001b[49m\u001b[43m[\u001b[49m\u001b[38;5;124;43m\"\u001b[39;49m\u001b[38;5;124;43msentenceBERT\u001b[39;49m\u001b[38;5;124;43m\"\u001b[39;49m\u001b[43m]\u001b[49m\u001b[43m[\u001b[49m\u001b[38;5;124;43m\"\u001b[39;49m\u001b[38;5;124;43mmi\u001b[39;49m\u001b[38;5;124;43m\"\u001b[39;49m\u001b[43m]\u001b[49m\u001b[43m[\u001b[49m\u001b[38;5;124;43m\"\u001b[39;49m\u001b[38;5;124;43mmean\u001b[39;49m\u001b[38;5;124;43m\"\u001b[39;49m\u001b[43m]\u001b[49m\u001b[38;5;241;43m.\u001b[39;49m\u001b[43mloc\u001b[49m\u001b[43m[\u001b[49m\u001b[38;5;241;43m384\u001b[39;49m\u001b[43m,\u001b[49m\u001b[43m \u001b[49m\u001b[43m:\u001b[49m\u001b[43m]\u001b[49m\n",
      "File \u001b[0;32m/opt/conda/lib/python3.10/site-packages/pandas/core/indexing.py:1067\u001b[0m, in \u001b[0;36m_LocationIndexer.__getitem__\u001b[0;34m(self, key)\u001b[0m\n\u001b[1;32m   1065\u001b[0m     \u001b[38;5;28;01mif\u001b[39;00m \u001b[38;5;28mself\u001b[39m\u001b[38;5;241m.\u001b[39m_is_scalar_access(key):\n\u001b[1;32m   1066\u001b[0m         \u001b[38;5;28;01mreturn\u001b[39;00m \u001b[38;5;28mself\u001b[39m\u001b[38;5;241m.\u001b[39mobj\u001b[38;5;241m.\u001b[39m_get_value(\u001b[38;5;241m*\u001b[39mkey, takeable\u001b[38;5;241m=\u001b[39m\u001b[38;5;28mself\u001b[39m\u001b[38;5;241m.\u001b[39m_takeable)\n\u001b[0;32m-> 1067\u001b[0m     \u001b[38;5;28;01mreturn\u001b[39;00m \u001b[38;5;28;43mself\u001b[39;49m\u001b[38;5;241;43m.\u001b[39;49m\u001b[43m_getitem_tuple\u001b[49m\u001b[43m(\u001b[49m\u001b[43mkey\u001b[49m\u001b[43m)\u001b[49m\n\u001b[1;32m   1068\u001b[0m \u001b[38;5;28;01melse\u001b[39;00m:\n\u001b[1;32m   1069\u001b[0m     \u001b[38;5;66;03m# we by definition only have the 0th axis\u001b[39;00m\n\u001b[1;32m   1070\u001b[0m     axis \u001b[38;5;241m=\u001b[39m \u001b[38;5;28mself\u001b[39m\u001b[38;5;241m.\u001b[39maxis \u001b[38;5;129;01mor\u001b[39;00m \u001b[38;5;241m0\u001b[39m\n",
      "File \u001b[0;32m/opt/conda/lib/python3.10/site-packages/pandas/core/indexing.py:1247\u001b[0m, in \u001b[0;36m_LocIndexer._getitem_tuple\u001b[0;34m(self, tup)\u001b[0m\n\u001b[1;32m   1245\u001b[0m \u001b[38;5;28;01mwith\u001b[39;00m suppress(IndexingError):\n\u001b[1;32m   1246\u001b[0m     tup \u001b[38;5;241m=\u001b[39m \u001b[38;5;28mself\u001b[39m\u001b[38;5;241m.\u001b[39m_expand_ellipsis(tup)\n\u001b[0;32m-> 1247\u001b[0m     \u001b[38;5;28;01mreturn\u001b[39;00m \u001b[38;5;28;43mself\u001b[39;49m\u001b[38;5;241;43m.\u001b[39;49m\u001b[43m_getitem_lowerdim\u001b[49m\u001b[43m(\u001b[49m\u001b[43mtup\u001b[49m\u001b[43m)\u001b[49m\n\u001b[1;32m   1249\u001b[0m \u001b[38;5;66;03m# no multi-index, so validate all of the indexers\u001b[39;00m\n\u001b[1;32m   1250\u001b[0m tup \u001b[38;5;241m=\u001b[39m \u001b[38;5;28mself\u001b[39m\u001b[38;5;241m.\u001b[39m_validate_tuple_indexer(tup)\n",
      "File \u001b[0;32m/opt/conda/lib/python3.10/site-packages/pandas/core/indexing.py:967\u001b[0m, in \u001b[0;36m_LocationIndexer._getitem_lowerdim\u001b[0;34m(self, tup)\u001b[0m\n\u001b[1;32m    963\u001b[0m \u001b[38;5;28;01mfor\u001b[39;00m i, key \u001b[38;5;129;01min\u001b[39;00m \u001b[38;5;28menumerate\u001b[39m(tup):\n\u001b[1;32m    964\u001b[0m     \u001b[38;5;28;01mif\u001b[39;00m is_label_like(key):\n\u001b[1;32m    965\u001b[0m         \u001b[38;5;66;03m# We don't need to check for tuples here because those are\u001b[39;00m\n\u001b[1;32m    966\u001b[0m         \u001b[38;5;66;03m#  caught by the _is_nested_tuple_indexer check above.\u001b[39;00m\n\u001b[0;32m--> 967\u001b[0m         section \u001b[38;5;241m=\u001b[39m \u001b[38;5;28;43mself\u001b[39;49m\u001b[38;5;241;43m.\u001b[39;49m\u001b[43m_getitem_axis\u001b[49m\u001b[43m(\u001b[49m\u001b[43mkey\u001b[49m\u001b[43m,\u001b[49m\u001b[43m \u001b[49m\u001b[43maxis\u001b[49m\u001b[38;5;241;43m=\u001b[39;49m\u001b[43mi\u001b[49m\u001b[43m)\u001b[49m\n\u001b[1;32m    969\u001b[0m         \u001b[38;5;66;03m# We should never have a scalar section here, because\u001b[39;00m\n\u001b[1;32m    970\u001b[0m         \u001b[38;5;66;03m#  _getitem_lowerdim is only called after a check for\u001b[39;00m\n\u001b[1;32m    971\u001b[0m         \u001b[38;5;66;03m#  is_scalar_access, which that would be.\u001b[39;00m\n\u001b[1;32m    972\u001b[0m         \u001b[38;5;28;01mif\u001b[39;00m section\u001b[38;5;241m.\u001b[39mndim \u001b[38;5;241m==\u001b[39m \u001b[38;5;28mself\u001b[39m\u001b[38;5;241m.\u001b[39mndim:\n\u001b[1;32m    973\u001b[0m             \u001b[38;5;66;03m# we're in the middle of slicing through a MultiIndex\u001b[39;00m\n\u001b[1;32m    974\u001b[0m             \u001b[38;5;66;03m# revise the key wrt to `section` by inserting an _NS\u001b[39;00m\n",
      "File \u001b[0;32m/opt/conda/lib/python3.10/site-packages/pandas/core/indexing.py:1312\u001b[0m, in \u001b[0;36m_LocIndexer._getitem_axis\u001b[0;34m(self, key, axis)\u001b[0m\n\u001b[1;32m   1310\u001b[0m \u001b[38;5;66;03m# fall thru to straight lookup\u001b[39;00m\n\u001b[1;32m   1311\u001b[0m \u001b[38;5;28mself\u001b[39m\u001b[38;5;241m.\u001b[39m_validate_key(key, axis)\n\u001b[0;32m-> 1312\u001b[0m \u001b[38;5;28;01mreturn\u001b[39;00m \u001b[38;5;28;43mself\u001b[39;49m\u001b[38;5;241;43m.\u001b[39;49m\u001b[43m_get_label\u001b[49m\u001b[43m(\u001b[49m\u001b[43mkey\u001b[49m\u001b[43m,\u001b[49m\u001b[43m \u001b[49m\u001b[43maxis\u001b[49m\u001b[38;5;241;43m=\u001b[39;49m\u001b[43maxis\u001b[49m\u001b[43m)\u001b[49m\n",
      "File \u001b[0;32m/opt/conda/lib/python3.10/site-packages/pandas/core/indexing.py:1260\u001b[0m, in \u001b[0;36m_LocIndexer._get_label\u001b[0;34m(self, label, axis)\u001b[0m\n\u001b[1;32m   1258\u001b[0m \u001b[38;5;28;01mdef\u001b[39;00m \u001b[38;5;21m_get_label\u001b[39m(\u001b[38;5;28mself\u001b[39m, label, axis: \u001b[38;5;28mint\u001b[39m):\n\u001b[1;32m   1259\u001b[0m     \u001b[38;5;66;03m# GH#5567 this will fail if the label is not present in the axis.\u001b[39;00m\n\u001b[0;32m-> 1260\u001b[0m     \u001b[38;5;28;01mreturn\u001b[39;00m \u001b[38;5;28;43mself\u001b[39;49m\u001b[38;5;241;43m.\u001b[39;49m\u001b[43mobj\u001b[49m\u001b[38;5;241;43m.\u001b[39;49m\u001b[43mxs\u001b[49m\u001b[43m(\u001b[49m\u001b[43mlabel\u001b[49m\u001b[43m,\u001b[49m\u001b[43m \u001b[49m\u001b[43maxis\u001b[49m\u001b[38;5;241;43m=\u001b[39;49m\u001b[43maxis\u001b[49m\u001b[43m)\u001b[49m\n",
      "File \u001b[0;32m/opt/conda/lib/python3.10/site-packages/pandas/core/generic.py:4056\u001b[0m, in \u001b[0;36mNDFrame.xs\u001b[0;34m(self, key, axis, level, drop_level)\u001b[0m\n\u001b[1;32m   4054\u001b[0m             new_index \u001b[38;5;241m=\u001b[39m index[loc]\n\u001b[1;32m   4055\u001b[0m \u001b[38;5;28;01melse\u001b[39;00m:\n\u001b[0;32m-> 4056\u001b[0m     loc \u001b[38;5;241m=\u001b[39m \u001b[43mindex\u001b[49m\u001b[38;5;241;43m.\u001b[39;49m\u001b[43mget_loc\u001b[49m\u001b[43m(\u001b[49m\u001b[43mkey\u001b[49m\u001b[43m)\u001b[49m\n\u001b[1;32m   4058\u001b[0m     \u001b[38;5;28;01mif\u001b[39;00m \u001b[38;5;28misinstance\u001b[39m(loc, np\u001b[38;5;241m.\u001b[39mndarray):\n\u001b[1;32m   4059\u001b[0m         \u001b[38;5;28;01mif\u001b[39;00m loc\u001b[38;5;241m.\u001b[39mdtype \u001b[38;5;241m==\u001b[39m np\u001b[38;5;241m.\u001b[39mbool_:\n",
      "File \u001b[0;32m/opt/conda/lib/python3.10/site-packages/pandas/core/indexes/base.py:3805\u001b[0m, in \u001b[0;36mIndex.get_loc\u001b[0;34m(self, key, method, tolerance)\u001b[0m\n\u001b[1;32m   3803\u001b[0m     \u001b[38;5;28;01mreturn\u001b[39;00m \u001b[38;5;28mself\u001b[39m\u001b[38;5;241m.\u001b[39m_engine\u001b[38;5;241m.\u001b[39mget_loc(casted_key)\n\u001b[1;32m   3804\u001b[0m \u001b[38;5;28;01mexcept\u001b[39;00m \u001b[38;5;167;01mKeyError\u001b[39;00m \u001b[38;5;28;01mas\u001b[39;00m err:\n\u001b[0;32m-> 3805\u001b[0m     \u001b[38;5;28;01mraise\u001b[39;00m \u001b[38;5;167;01mKeyError\u001b[39;00m(key) \u001b[38;5;28;01mfrom\u001b[39;00m \u001b[38;5;21;01merr\u001b[39;00m\n\u001b[1;32m   3806\u001b[0m \u001b[38;5;28;01mexcept\u001b[39;00m \u001b[38;5;167;01mTypeError\u001b[39;00m:\n\u001b[1;32m   3807\u001b[0m     \u001b[38;5;66;03m# If we have a listlike key, _check_indexing_error will raise\u001b[39;00m\n\u001b[1;32m   3808\u001b[0m     \u001b[38;5;66;03m#  InvalidIndexError. Otherwise we fall through and re-raise\u001b[39;00m\n\u001b[1;32m   3809\u001b[0m     \u001b[38;5;66;03m#  the TypeError.\u001b[39;00m\n\u001b[1;32m   3810\u001b[0m     \u001b[38;5;28mself\u001b[39m\u001b[38;5;241m.\u001b[39m_check_indexing_error(key)\n",
      "\u001b[0;31mKeyError\u001b[0m: 384"
     ]
    }
   ],
   "source": [
    "chart_data = {}\n",
    "chart_data[\"sentenceBERT\"] = data_stats[\"sentenceBERT\"][\"mi\"][\"mean\"].loc[384, :]"
   ]
  },
  {
   "cell_type": "code",
   "execution_count": 33,
   "id": "cf4d8263",
   "metadata": {
    "ExecuteTime": {
     "end_time": "2023-01-15T02:08:31.863146Z",
     "start_time": "2023-01-15T02:08:31.856228Z"
    }
   },
   "outputs": [
    {
     "data": {
      "text/html": [
       "<div>\n",
       "<style scoped>\n",
       "    .dataframe tbody tr th:only-of-type {\n",
       "        vertical-align: middle;\n",
       "    }\n",
       "\n",
       "    .dataframe tbody tr th {\n",
       "        vertical-align: top;\n",
       "    }\n",
       "\n",
       "    .dataframe thead th {\n",
       "        text-align: right;\n",
       "    }\n",
       "</style>\n",
       "<table border=\"1\" class=\"dataframe\">\n",
       "  <thead>\n",
       "    <tr style=\"text-align: right;\">\n",
       "      <th></th>\n",
       "    </tr>\n",
       "  </thead>\n",
       "  <tbody>\n",
       "  </tbody>\n",
       "</table>\n",
       "</div>"
      ],
      "text/plain": [
       "Empty DataFrame\n",
       "Columns: []\n",
       "Index: []"
      ]
     },
     "execution_count": 33,
     "metadata": {},
     "output_type": "execute_result"
    }
   ],
   "source": [
    "pd.DataFrame(chart_data)"
   ]
  },
  {
   "cell_type": "code",
   "execution_count": 132,
   "id": "5c9dda3c",
   "metadata": {
    "ExecuteTime": {
     "end_time": "2023-01-04T10:46:51.790518Z",
     "start_time": "2023-01-04T10:46:51.784201Z"
    },
    "scrolled": true
   },
   "outputs": [],
   "source": [
    "chart_df = pd.DataFrame(chart_data)"
   ]
  },
  {
   "cell_type": "code",
   "execution_count": 133,
   "id": "16874164",
   "metadata": {
    "ExecuteTime": {
     "end_time": "2023-01-04T10:46:51.802284Z",
     "start_time": "2023-01-04T10:46:51.792830Z"
    }
   },
   "outputs": [
    {
     "data": {
      "text/html": [
       "<style type=\"text/css\">\n",
       "</style>\n",
       "<table id=\"T_0601c\">\n",
       "  <thead>\n",
       "    <tr>\n",
       "      <th class=\"blank level0\" >&nbsp;</th>\n",
       "      <th id=\"T_0601c_level0_col0\" class=\"col_heading level0 col0\" >spherical</th>\n",
       "      <th id=\"T_0601c_level0_col1\" class=\"col_heading level0 col1\" >diag</th>\n",
       "      <th id=\"T_0601c_level0_col2\" class=\"col_heading level0 col2\" >full</th>\n",
       "    </tr>\n",
       "  </thead>\n",
       "  <tbody>\n",
       "    <tr>\n",
       "      <th id=\"T_0601c_level0_row0\" class=\"row_heading level0 row0\" >doc2vec</th>\n",
       "      <td id=\"T_0601c_row0_col0\" class=\"data row0 col0\" >0.454906</td>\n",
       "      <td id=\"T_0601c_row0_col1\" class=\"data row0 col1\" >0.429935</td>\n",
       "      <td id=\"T_0601c_row0_col2\" class=\"data row0 col2\" >0.475413</td>\n",
       "    </tr>\n",
       "    <tr>\n",
       "      <th id=\"T_0601c_level0_row1\" class=\"row_heading level0 row1\" >sentenceBERT</th>\n",
       "      <td id=\"T_0601c_row1_col0\" class=\"data row1 col0\" >0.582227</td>\n",
       "      <td id=\"T_0601c_row1_col1\" class=\"data row1 col1\" >0.585635</td>\n",
       "      <td id=\"T_0601c_row1_col2\" class=\"data row1 col2\" >0.607587</td>\n",
       "    </tr>\n",
       "  </tbody>\n",
       "</table>\n"
      ],
      "text/plain": [
       "<pandas.io.formats.style.Styler at 0x7fb102dcaa70>"
      ]
     },
     "execution_count": 133,
     "metadata": {},
     "output_type": "execute_result"
    }
   ],
   "source": [
    "chart_df.T.style.format(\n",
    "    escape=\"latex\", formatter={\"document_count\": \"{:.0f}\"}\n",
    ")"
   ]
  },
  {
   "cell_type": "code",
   "execution_count": 134,
   "id": "38c2dd8e",
   "metadata": {
    "ExecuteTime": {
     "end_time": "2023-01-04T10:46:51.810044Z",
     "start_time": "2023-01-04T10:46:51.804470Z"
    },
    "scrolled": true
   },
   "outputs": [],
   "source": [
    "chart_df.to_csv(make_filepath(f\"../data/{data_type}/CovarianceChart.csv\"))"
   ]
  },
  {
   "cell_type": "code",
   "execution_count": 135,
   "id": "8aa6d62c",
   "metadata": {
    "ExecuteTime": {
     "end_time": "2023-01-04T10:46:51.820862Z",
     "start_time": "2023-01-04T10:46:51.812278Z"
    }
   },
   "outputs": [
    {
     "name": "stdout",
     "output_type": "stream",
     "text": [
      "\\begin{table}[h]\n",
      "\\centering\n",
      "\\caption{miの比較と埋め込み次元}\n",
      "\\label{table:1}\n",
      "\\begin{tabular}{rrrr}\n",
      "\\toprule\n",
      " & spherical & diag & full \\\\\n",
      "\\midrule\n",
      "doc2vec & 0.455 & 0.430 & 0.475 \\\\\n",
      "sentenceBERT & 0.582 & 0.586 & 0.608 \\\\\n",
      "\\bottomrule\n",
      "\\end{tabular}\n",
      "\\end{table}\n",
      "\n"
     ]
    }
   ],
   "source": [
    "print(\n",
    "    chart_df.T\n",
    "    .style.format(precision=3, escape=\"latex\")\n",
    "    .to_latex(\n",
    "        column_format=\"rrrr\",\n",
    "        position=\"h\",\n",
    "        position_float=\"centering\",\n",
    "        hrules=True,\n",
    "        caption=\"miの比較と埋め込み次元\",\n",
    "        label=\"table:1\",\n",
    "        multicol_align=\"r\",\n",
    "    )\n",
    ")"
   ]
  },
  {
   "cell_type": "code",
   "execution_count": null,
   "id": "f95c37c1",
   "metadata": {},
   "outputs": [],
   "source": []
  },
  {
   "cell_type": "code",
   "execution_count": null,
   "id": "d1e956bf",
   "metadata": {},
   "outputs": [],
   "source": []
  },
  {
   "cell_type": "code",
   "execution_count": null,
   "id": "0aee9277",
   "metadata": {},
   "outputs": [],
   "source": []
  }
 ],
 "metadata": {
  "kernelspec": {
   "display_name": "Python 3 (ipykernel)",
   "language": "python",
   "name": "python3"
  },
  "language_info": {
   "codemirror_mode": {
    "name": "ipython",
    "version": 3
   },
   "file_extension": ".py",
   "mimetype": "text/x-python",
   "name": "python",
   "nbconvert_exporter": "python",
   "pygments_lexer": "ipython3",
   "version": "3.10.8"
  },
  "toc": {
   "base_numbering": 1,
   "nav_menu": {},
   "number_sections": true,
   "sideBar": true,
   "skip_h1_title": false,
   "title_cell": "Table of Contents",
   "title_sidebar": "Contents",
   "toc_cell": false,
   "toc_position": {},
   "toc_section_display": true,
   "toc_window_display": false
  }
 },
 "nbformat": 4,
 "nbformat_minor": 5
}
