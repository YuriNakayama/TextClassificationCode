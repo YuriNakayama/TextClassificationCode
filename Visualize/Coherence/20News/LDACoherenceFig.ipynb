{
 "cells": [
  {
   "cell_type": "markdown",
   "id": "b95f9187",
   "metadata": {},
   "source": [
    "# Import"
   ]
  },
  {
   "cell_type": "code",
   "execution_count": 10,
   "id": "80a85ab5",
   "metadata": {
    "ExecuteTime": {
     "end_time": "2022-12-12T05:17:30.472074Z",
     "start_time": "2022-12-12T05:17:30.466378Z"
    }
   },
   "outputs": [],
   "source": [
    "import csv\n",
    "import os\n",
    "import sys\n",
    "\n",
    "import japanize_matplotlib\n",
    "import matplotlib.pyplot as plt\n",
    "import numpy as np\n",
    "import pandas as pd\n",
    "import seaborn as sns\n",
    "from tqdm import tqdm"
   ]
  },
  {
   "cell_type": "markdown",
   "id": "2543f4e4",
   "metadata": {},
   "source": [
    "## Add configuration file"
   ]
  },
  {
   "cell_type": "code",
   "execution_count": 11,
   "id": "b62547de",
   "metadata": {
    "ExecuteTime": {
     "end_time": "2022-12-12T05:17:31.115693Z",
     "start_time": "2022-12-12T05:17:31.112345Z"
    }
   },
   "outputs": [],
   "source": [
    "sys.path.append(\"/home/jovyan/core/config/\")\n",
    "sys.path.append(\"/home/jovyan/core/util/\")\n",
    "sys.path.append(\"../../PlotFunction/lineplot/\")\n",
    "sys.path.append(\"../../PlotFunction/config/\")"
   ]
  },
  {
   "cell_type": "code",
   "execution_count": 12,
   "id": "84da401b",
   "metadata": {
    "ExecuteTime": {
     "end_time": "2022-12-12T05:17:31.367515Z",
     "start_time": "2022-12-12T05:17:31.364103Z"
    }
   },
   "outputs": [],
   "source": [
    "from ALL import config\n",
    "from line_plot_1 import line_plot_1\n",
    "from line_plot_1_layout import layout\n",
    "from util import *"
   ]
  },
  {
   "cell_type": "markdown",
   "id": "9330548e",
   "metadata": {},
   "source": [
    "## Set condition"
   ]
  },
  {
   "cell_type": "code",
   "execution_count": 13,
   "id": "a30f3623",
   "metadata": {
    "ExecuteTime": {
     "end_time": "2022-12-12T05:17:32.015364Z",
     "start_time": "2022-12-12T05:17:32.011911Z"
    }
   },
   "outputs": [],
   "source": [
    "tqdm.pandas()\n",
    "pd.set_option(\"display.max_columns\", 100)\n",
    "pd.set_option(\"display.max_rows\", 50)"
   ]
  },
  {
   "cell_type": "markdown",
   "id": "52c60a4f",
   "metadata": {},
   "source": [
    "# Read data"
   ]
  },
  {
   "cell_type": "code",
   "execution_count": 14,
   "id": "c81d3638",
   "metadata": {
    "ExecuteTime": {
     "end_time": "2022-12-12T05:17:42.316392Z",
     "start_time": "2022-12-12T05:17:41.563371Z"
    },
    "scrolled": true
   },
   "outputs": [],
   "source": [
    "newsgroups_df = pd.read_csv(\"../../../Preprocessing/data/20News/master.csv\", index_col=0)"
   ]
  },
  {
   "cell_type": "code",
   "execution_count": 15,
   "id": "95389cd0",
   "metadata": {
    "ExecuteTime": {
     "end_time": "2022-12-12T05:17:42.322646Z",
     "start_time": "2022-12-12T05:17:42.318847Z"
    }
   },
   "outputs": [],
   "source": [
    "with open(\"../../../Preprocessing/data/20News/class.csv\", mode=\"r\") as f:\n",
    "    reader = csv.reader(f)\n",
    "    class_labels = [label for label in reader]"
   ]
  },
  {
   "cell_type": "code",
   "execution_count": 16,
   "id": "c112357f",
   "metadata": {
    "ExecuteTime": {
     "end_time": "2022-12-12T05:17:42.328696Z",
     "start_time": "2022-12-12T05:17:42.324504Z"
    }
   },
   "outputs": [],
   "source": [
    "vector_dims = config[\"vectorize\"][\"doc2vec\"][\"dims\"]\n",
    "model_nums = config[\"clustering\"][\"LDA\"][\"max_model_num\"]"
   ]
  },
  {
   "cell_type": "code",
   "execution_count": 18,
   "id": "582b24fb",
   "metadata": {
    "ExecuteTime": {
     "end_time": "2022-12-12T05:20:03.276690Z",
     "start_time": "2022-12-12T05:20:03.270347Z"
    }
   },
   "outputs": [],
   "source": [
    "coherences = {}\n",
    "\n",
    "coherence_path = f\"../../../Postprocessing/data/20News/LDA/coherence.csv\"\n",
    "coherence = pd.read_csv(coherence_path, index_col=0)"
   ]
  },
  {
   "cell_type": "code",
   "execution_count": 19,
   "id": "d9445d04",
   "metadata": {
    "ExecuteTime": {
     "end_time": "2022-12-12T05:20:17.119761Z",
     "start_time": "2022-12-12T05:20:17.102727Z"
    }
   },
   "outputs": [
    {
     "data": {
      "text/html": [
       "<div>\n",
       "<style scoped>\n",
       "    .dataframe tbody tr th:only-of-type {\n",
       "        vertical-align: middle;\n",
       "    }\n",
       "\n",
       "    .dataframe tbody tr th {\n",
       "        vertical-align: top;\n",
       "    }\n",
       "\n",
       "    .dataframe thead th {\n",
       "        text-align: right;\n",
       "    }\n",
       "</style>\n",
       "<table border=\"1\" class=\"dataframe\">\n",
       "  <thead>\n",
       "    <tr style=\"text-align: right;\">\n",
       "      <th></th>\n",
       "      <th>0</th>\n",
       "    </tr>\n",
       "  </thead>\n",
       "  <tbody>\n",
       "    <tr>\n",
       "      <th>count</th>\n",
       "      <td>30.000000</td>\n",
       "    </tr>\n",
       "    <tr>\n",
       "      <th>mean</th>\n",
       "      <td>0.538046</td>\n",
       "    </tr>\n",
       "    <tr>\n",
       "      <th>std</th>\n",
       "      <td>0.110141</td>\n",
       "    </tr>\n",
       "    <tr>\n",
       "      <th>min</th>\n",
       "      <td>0.357130</td>\n",
       "    </tr>\n",
       "    <tr>\n",
       "      <th>25%</th>\n",
       "      <td>0.451785</td>\n",
       "    </tr>\n",
       "    <tr>\n",
       "      <th>50%</th>\n",
       "      <td>0.520295</td>\n",
       "    </tr>\n",
       "    <tr>\n",
       "      <th>75%</th>\n",
       "      <td>0.604570</td>\n",
       "    </tr>\n",
       "    <tr>\n",
       "      <th>max</th>\n",
       "      <td>0.816231</td>\n",
       "    </tr>\n",
       "  </tbody>\n",
       "</table>\n",
       "</div>"
      ],
      "text/plain": [
       "               0\n",
       "count  30.000000\n",
       "mean    0.538046\n",
       "std     0.110141\n",
       "min     0.357130\n",
       "25%     0.451785\n",
       "50%     0.520295\n",
       "75%     0.604570\n",
       "max     0.816231"
      ]
     },
     "execution_count": 19,
     "metadata": {},
     "output_type": "execute_result"
    }
   ],
   "source": [
    "coherence.describe()"
   ]
  },
  {
   "cell_type": "code",
   "execution_count": null,
   "id": "77b5ea47",
   "metadata": {},
   "outputs": [],
   "source": []
  },
  {
   "cell_type": "code",
   "execution_count": null,
   "id": "f484a408",
   "metadata": {},
   "outputs": [],
   "source": []
  }
 ],
 "metadata": {
  "kernelspec": {
   "display_name": "Python 3 (ipykernel)",
   "language": "python",
   "name": "python3"
  },
  "language_info": {
   "codemirror_mode": {
    "name": "ipython",
    "version": 3
   },
   "file_extension": ".py",
   "mimetype": "text/x-python",
   "name": "python",
   "nbconvert_exporter": "python",
   "pygments_lexer": "ipython3",
   "version": "3.10.8"
  },
  "toc": {
   "base_numbering": 1,
   "nav_menu": {},
   "number_sections": true,
   "sideBar": true,
   "skip_h1_title": false,
   "title_cell": "Table of Contents",
   "title_sidebar": "Contents",
   "toc_cell": false,
   "toc_position": {},
   "toc_section_display": true,
   "toc_window_display": false
  }
 },
 "nbformat": 4,
 "nbformat_minor": 5
}
