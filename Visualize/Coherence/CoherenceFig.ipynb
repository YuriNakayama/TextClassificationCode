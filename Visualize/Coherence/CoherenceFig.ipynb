{
 "cells": [
  {
   "cell_type": "markdown",
   "id": "b95f9187",
   "metadata": {},
   "source": [
    "# Import"
   ]
  },
  {
   "cell_type": "code",
   "execution_count": 1,
   "id": "80a85ab5",
   "metadata": {
    "ExecuteTime": {
     "end_time": "2022-12-20T05:40:43.714089Z",
     "start_time": "2022-12-20T05:40:42.621194Z"
    }
   },
   "outputs": [],
   "source": [
    "import csv\n",
    "import os\n",
    "import sys\n",
    "\n",
    "import japanize_matplotlib\n",
    "import matplotlib.pyplot as plt\n",
    "import numpy as np\n",
    "import pandas as pd\n",
    "import seaborn as sns\n",
    "from tqdm import tqdm"
   ]
  },
  {
   "cell_type": "markdown",
   "id": "2543f4e4",
   "metadata": {},
   "source": [
    "## Add configuration file"
   ]
  },
  {
   "cell_type": "code",
   "execution_count": 2,
   "id": "b62547de",
   "metadata": {
    "ExecuteTime": {
     "end_time": "2022-12-20T05:40:43.719797Z",
     "start_time": "2022-12-20T05:40:43.716769Z"
    }
   },
   "outputs": [],
   "source": [
    "sys.path.append(\"/home/jovyan/core/config/\")\n",
    "sys.path.append(\"/home/jovyan/core/util/\")\n",
    "sys.path.append(\"../PlotFunction/lineplot/\")\n",
    "sys.path.append(\"../PlotFunction/config/\")"
   ]
  },
  {
   "cell_type": "code",
   "execution_count": 3,
   "id": "84da401b",
   "metadata": {
    "ExecuteTime": {
     "end_time": "2022-12-20T05:40:43.728384Z",
     "start_time": "2022-12-20T05:40:43.721772Z"
    }
   },
   "outputs": [],
   "source": [
    "from ALL import config\n",
    "from line_plot_1 import line_plot_1\n",
    "from line_plot_error_1 import line_plot_error_1\n",
    "from line_plot_error_1_layout import layout\n",
    "from util import *"
   ]
  },
  {
   "cell_type": "markdown",
   "id": "9330548e",
   "metadata": {},
   "source": [
    "## Set condition"
   ]
  },
  {
   "cell_type": "code",
   "execution_count": 4,
   "id": "a30f3623",
   "metadata": {
    "ExecuteTime": {
     "end_time": "2022-12-20T05:40:43.734167Z",
     "start_time": "2022-12-20T05:40:43.730140Z"
    }
   },
   "outputs": [],
   "source": [
    "tqdm.pandas()\n",
    "pd.set_option(\"display.max_columns\", 100)\n",
    "pd.set_option(\"display.max_rows\", 50)"
   ]
  },
  {
   "cell_type": "code",
   "execution_count": 5,
   "id": "ff00ff33",
   "metadata": {
    "ExecuteTime": {
     "end_time": "2022-12-20T05:40:43.741311Z",
     "start_time": "2022-12-20T05:40:43.737516Z"
    }
   },
   "outputs": [],
   "source": [
    "data_type = \"20News\"\n",
    "vectorize_type = \"sentenceBERT\""
   ]
  },
  {
   "cell_type": "markdown",
   "id": "52c60a4f",
   "metadata": {},
   "source": [
    "# Read data"
   ]
  },
  {
   "cell_type": "code",
   "execution_count": 6,
   "id": "c112357f",
   "metadata": {
    "ExecuteTime": {
     "end_time": "2022-12-20T05:40:43.749245Z",
     "start_time": "2022-12-20T05:40:43.745682Z"
    }
   },
   "outputs": [],
   "source": [
    "vector_dims = config[\"vectorize\"][\"doc2vec\"][\"dims\"]\n",
    "model_nums = config[\"clustering\"][\"gmm\"][\"max_model_num\"]\n",
    "vector_model_num = config[\"vectorize\"][\"doc2vec\"][\"max_model_num\"]\n",
    "covariance_types = config[\"clustering\"][\"gmm\"][\"covariance_types\"]"
   ]
  },
  {
   "cell_type": "code",
   "execution_count": 7,
   "id": "582b24fb",
   "metadata": {
    "ExecuteTime": {
     "end_time": "2022-12-20T05:40:43.780720Z",
     "start_time": "2022-12-20T05:40:43.751362Z"
    },
    "scrolled": true
   },
   "outputs": [
    {
     "name": "stderr",
     "output_type": "stream",
     "text": [
      "100%|██████████| 9/9 [00:00<00:00, 516.00it/s]\n"
     ]
    }
   ],
   "source": [
    "coherences = {}\n",
    "for vector_dim in tqdm(vector_dims):\n",
    "    coherence_path = f\"../../Postprocessing/data/{data_type}/{vectorize_type}/GMM/coherence/{vector_dim}.csv\"\n",
    "    coherence = pd.read_csv(coherence_path, index_col=0)\n",
    "    coherences[vector_dim] = coherence"
   ]
  },
  {
   "cell_type": "code",
   "execution_count": 8,
   "id": "7a38964a",
   "metadata": {
    "ExecuteTime": {
     "end_time": "2022-12-20T05:40:43.790825Z",
     "start_time": "2022-12-20T05:40:43.782688Z"
    }
   },
   "outputs": [],
   "source": [
    "coherence_lda_path = f\"../../Postprocessing/data/{data_type}/LDA/coherence.csv\"\n",
    "coherence_lda = pd.read_csv(coherence_lda_path, index_col=0)\n",
    "describe_lda, _ = get_describe(coherence_lda, axis=0)"
   ]
  },
  {
   "cell_type": "markdown",
   "id": "a571757f",
   "metadata": {},
   "source": [
    "# Data shaping"
   ]
  },
  {
   "cell_type": "code",
   "execution_count": 9,
   "id": "fea3743e",
   "metadata": {
    "ExecuteTime": {
     "end_time": "2022-12-20T05:40:43.806045Z",
     "start_time": "2022-12-20T05:40:43.792445Z"
    }
   },
   "outputs": [],
   "source": [
    "coherence_df = {covariance_type: pd.DataFrame() for covariance_type in covariance_types}\n",
    "for covariance_type in covariance_types:\n",
    "    _coherence_df = {\n",
    "        vector_dim: coherences[vector_dim].loc[:, covariance_type]\n",
    "        for vector_dim in vector_dims\n",
    "    }\n",
    "    coherence_df[covariance_type] = pd.concat(_coherence_df, axis=1)"
   ]
  },
  {
   "cell_type": "code",
   "execution_count": 10,
   "id": "d0f65464",
   "metadata": {
    "ExecuteTime": {
     "end_time": "2022-12-20T05:40:43.824951Z",
     "start_time": "2022-12-20T05:40:43.808202Z"
    }
   },
   "outputs": [],
   "source": [
    "# 統計値の計算\n",
    "describe = {covariance_type: pd.DataFrame() for covariance_type in covariance_types}\n",
    "for covariance_type in covariance_types:\n",
    "    describe[covariance_type], describe_keys = get_describe(\n",
    "        coherence_df[covariance_type], axis=0\n",
    "    )"
   ]
  },
  {
   "cell_type": "code",
   "execution_count": 11,
   "id": "d61aad0c",
   "metadata": {
    "ExecuteTime": {
     "end_time": "2022-12-20T05:40:43.837318Z",
     "start_time": "2022-12-20T05:40:43.826982Z"
    }
   },
   "outputs": [],
   "source": [
    "data = {describe_key: pd.DataFrame() for describe_key in describe_keys}\n",
    "\n",
    "for describe_key in describe_keys:\n",
    "    # covariance_typeについてデータを結合\n",
    "    _data = {\n",
    "        covariance_type: describe[covariance_type][describe_key]\n",
    "        for covariance_type in covariance_types\n",
    "    }\n",
    "    data[describe_key] = pd.concat(_data, axis=1)"
   ]
  },
  {
   "cell_type": "markdown",
   "id": "d3c7cbea",
   "metadata": {},
   "source": [
    "# Data plot"
   ]
  },
  {
   "cell_type": "code",
   "execution_count": 12,
   "id": "b7979571",
   "metadata": {
    "ExecuteTime": {
     "end_time": "2022-12-20T05:40:44.709403Z",
     "start_time": "2022-12-20T05:40:43.941062Z"
    },
    "scrolled": false
   },
   "outputs": [
    {
     "data": {
      "text/plain": [
       "<matplotlib.lines.Line2D at 0x7f8a31fc5ab0>"
      ]
     },
     "execution_count": 12,
     "metadata": {},
     "output_type": "execute_result"
    },
    {
     "data": {
      "image/png": "[encoded data removed]",
      "text/plain": [
       "<Figure size 800x800 with 1 Axes>"
      ]
     },
     "metadata": {},
     "output_type": "display_data"
    }
   ],
   "source": [
    "fig_path = f\"../data/figure/{data_type}/{vectorize_type}/GMM/coherence.pdf\"\n",
    "fig = plt.figure(**layout[\"figure\"])\n",
    "ax = fig.add_subplot(111)\n",
    "ax.set_xscale('log')\n",
    "line_plot_error_1(\n",
    "    data[\"mean\"],\n",
    "    error_low = data[\"std\"],\n",
    "    error_upper = data[\"std\"],\n",
    "    fig=fig,\n",
    "    ax=ax,\n",
    "    title=f\"{data_type}     ({vectorize_type})\",\n",
    "    layout=layout,\n",
    "    xlabel=\"埋め込み次元\",\n",
    "    ylabel=\"coherence\",\n",
    "    yticks=np.arange(0, 1.1, 0.1),\n",
    "    path=fig_path,\n",
    ")\n",
    "ax.axhline(y=describe_lda[\"mean\"].to_numpy(), linestyle=\"dashed\", color=\"gray\")"
   ]
  },
  {
   "cell_type": "code",
   "execution_count": null,
   "id": "c263ac9c",
   "metadata": {},
   "outputs": [],
   "source": []
  },
  {
   "cell_type": "code",
   "execution_count": null,
   "id": "38d331a5",
   "metadata": {},
   "outputs": [],
   "source": []
  },
  {
   "cell_type": "code",
   "execution_count": null,
   "id": "181bf0c2",
   "metadata": {},
   "outputs": [],
   "source": []
  },
  {
   "cell_type": "code",
   "execution_count": null,
   "id": "a843a4ee",
   "metadata": {},
   "outputs": [],
   "source": []
  }
 ],
 "metadata": {
  "kernelspec": {
   "display_name": "Python 3 (ipykernel)",
   "language": "python",
   "name": "python3"
  },
  "language_info": {
   "codemirror_mode": {
    "name": "ipython",
    "version": 3
   },
   "file_extension": ".py",
   "mimetype": "text/x-python",
   "name": "python",
   "nbconvert_exporter": "python",
   "pygments_lexer": "ipython3",
   "version": "3.10.8"
  },
  "toc": {
   "base_numbering": 1,
   "nav_menu": {},
   "number_sections": true,
   "sideBar": true,
   "skip_h1_title": false,
   "title_cell": "Table of Contents",
   "title_sidebar": "Contents",
   "toc_cell": false,
   "toc_position": {},
   "toc_section_display": true,
   "toc_window_display": false
  }
 },
 "nbformat": 4,
 "nbformat_minor": 5
}
