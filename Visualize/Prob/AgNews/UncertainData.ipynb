{
 "cells": [
  {
   "cell_type": "markdown",
   "id": "b95f9187",
   "metadata": {},
   "source": [
    "# Import"
   ]
  },
  {
   "cell_type": "code",
   "execution_count": 1,
   "id": "80a85ab5",
   "metadata": {
    "ExecuteTime": {
     "end_time": "2022-12-17T10:27:03.485991Z",
     "start_time": "2022-12-17T10:27:02.411308Z"
    }
   },
   "outputs": [],
   "source": [
    "import csv\n",
    "import os\n",
    "import pickle\n",
    "import sys\n",
    "\n",
    "import matplotlib.pyplot as plt\n",
    "import numpy as np\n",
    "import pandas as pd\n",
    "import scipy.stats as sps\n",
    "from sklearn.metrics import adjusted_mutual_info_score\n",
    "from sklearn.mixture import GaussianMixture\n",
    "from tqdm import tqdm"
   ]
  },
  {
   "cell_type": "markdown",
   "id": "2543f4e4",
   "metadata": {},
   "source": [
    "## Add configuration file"
   ]
  },
  {
   "cell_type": "code",
   "execution_count": 19,
   "id": "b62547de",
   "metadata": {
    "ExecuteTime": {
     "end_time": "2022-12-17T10:33:19.591315Z",
     "start_time": "2022-12-17T10:33:19.586034Z"
    }
   },
   "outputs": [],
   "source": [
    "sys.path.append(\"/home/jovyan/core/config/\")\n",
    "sys.path.append(\"/home/jovyan/core/util/\")\n",
    "sys.path.append(\"../../PlotFunction/lineplot/\")\n",
    "sys.path.append(\"../../PlotFunction/config/\")"
   ]
  },
  {
   "cell_type": "code",
   "execution_count": 20,
   "id": "84da401b",
   "metadata": {
    "ExecuteTime": {
     "end_time": "2022-12-17T10:33:19.860377Z",
     "start_time": "2022-12-17T10:33:19.774322Z"
    }
   },
   "outputs": [],
   "source": [
    "from ALL import config\n",
    "from line_plot_1 import line_plot_1\n",
    "from line_plot_error_1 import line_plot_error_1\n",
    "from line_plot_error_1_layout import layout\n",
    "from util import *"
   ]
  },
  {
   "cell_type": "markdown",
   "id": "9330548e",
   "metadata": {},
   "source": [
    "## Set condition"
   ]
  },
  {
   "cell_type": "code",
   "execution_count": 4,
   "id": "a30f3623",
   "metadata": {
    "ExecuteTime": {
     "end_time": "2022-12-17T10:27:03.506590Z",
     "start_time": "2022-12-17T10:27:03.501402Z"
    }
   },
   "outputs": [],
   "source": [
    "tqdm.pandas()\n",
    "pd.set_option(\"display.max_columns\", 100)\n",
    "pd.set_option(\"display.max_rows\", 50)"
   ]
  },
  {
   "cell_type": "markdown",
   "id": "52c60a4f",
   "metadata": {},
   "source": [
    "# Read data"
   ]
  },
  {
   "cell_type": "code",
   "execution_count": 5,
   "id": "c81d3638",
   "metadata": {
    "ExecuteTime": {
     "end_time": "2022-12-17T10:27:04.438019Z",
     "start_time": "2022-12-17T10:27:03.508385Z"
    },
    "scrolled": true
   },
   "outputs": [],
   "source": [
    "news_df = pd.read_csv(\"../../../Preprocessing/data/AgNews/master.csv\", index_col=0)"
   ]
  },
  {
   "cell_type": "code",
   "execution_count": 6,
   "id": "95389cd0",
   "metadata": {
    "ExecuteTime": {
     "end_time": "2022-12-17T10:27:08.794052Z",
     "start_time": "2022-12-17T10:27:08.790644Z"
    }
   },
   "outputs": [],
   "source": [
    "with open(\"../../../Preprocessing/data/AgNews/class.csv\", mode=\"r\") as f:\n",
    "    reader = csv.reader(f)\n",
    "    class_labels = [label for label in reader]"
   ]
  },
  {
   "cell_type": "code",
   "execution_count": 7,
   "id": "fec767ee",
   "metadata": {
    "ExecuteTime": {
     "end_time": "2022-12-17T10:27:10.261996Z",
     "start_time": "2022-12-17T10:27:10.256286Z"
    }
   },
   "outputs": [],
   "source": [
    "vector_dims = config[\"vectorize\"][\"doc2vec\"][\"dims\"]\n",
    "model_nums = config[\"clustering\"][\"gmm\"][\"max_model_num\"]\n",
    "vector_model_num = config[\"vectorize\"][\"doc2vec\"][\"max_model_num\"]\n",
    "covariance_types = config[\"clustering\"][\"gmm\"][\"covariance_types\"]"
   ]
  },
  {
   "cell_type": "code",
   "execution_count": 8,
   "id": "2cb7d0e6",
   "metadata": {
    "ExecuteTime": {
     "end_time": "2022-12-17T10:27:10.441919Z",
     "start_time": "2022-12-17T10:27:10.438785Z"
    }
   },
   "outputs": [],
   "source": [
    "label = news_df[\"class\"].to_numpy()"
   ]
  },
  {
   "cell_type": "markdown",
   "id": "fe1b2c45",
   "metadata": {},
   "source": [
    "# Data shaping"
   ]
  },
  {
   "cell_type": "code",
   "execution_count": 14,
   "id": "fc43270b",
   "metadata": {
    "ExecuteTime": {
     "end_time": "2022-12-17T10:29:09.182501Z",
     "start_time": "2022-12-17T10:29:09.179798Z"
    }
   },
   "outputs": [],
   "source": [
    "threshold = 0.95"
   ]
  },
  {
   "cell_type": "code",
   "execution_count": null,
   "id": "0f252747",
   "metadata": {},
   "outputs": [],
   "source": [
    "dist_path = \"../../../Clustering/data/AgNews/doc2vec/GMM/dist/\""
   ]
  },
  {
   "cell_type": "code",
   "execution_count": 23,
   "id": "a2b9cc43",
   "metadata": {
    "ExecuteTime": {
     "end_time": "2022-12-17T10:38:37.936825Z",
     "start_time": "2022-12-17T10:38:30.025363Z"
    },
    "scrolled": false
   },
   "outputs": [
    {
     "name": "stderr",
     "output_type": "stream",
     "text": [
      "100%|██████████| 4/4 [00:07<00:00,  1.98s/it]\n"
     ]
    }
   ],
   "source": [
    "# データ型定義\n",
    "low_confirm_counts = {\n",
    "    covariance_type: {\n",
    "        vector_dim: {model_num: pd.DataFrame for model_num in range(model_nums)}\n",
    "        for vector_dim in vector_dims\n",
    "    }\n",
    "    for covariance_type in covariance_types\n",
    "}\n",
    "\n",
    "# データ取得\n",
    "for covariance_type in tqdm(covariance_types):\n",
    "    for vector_dim in vector_dims:\n",
    "        for model_num in range(model_nums):\n",
    "            dist = np.load(\n",
    "                f\"{dist_path}{vector_dim}/{covariance_type}/{model_num}.npy\",\n",
    "            )\n",
    "            low_confirm_counts[covariance_type][vector_dim][model_num] = len(\n",
    "                news_df[dist.min(axis=1) > sps.chi2.ppf(q=threshold, df=vector_dim)]\n",
    "            )"
   ]
  },
  {
   "cell_type": "code",
   "execution_count": 32,
   "id": "9f4308a6",
   "metadata": {
    "ExecuteTime": {
     "end_time": "2022-12-17T10:42:31.018982Z",
     "start_time": "2022-12-17T10:42:30.996609Z"
    }
   },
   "outputs": [
    {
     "name": "stderr",
     "output_type": "stream",
     "text": [
      "100%|██████████| 4/4 [00:00<00:00, 264.57it/s]\n"
     ]
    }
   ],
   "source": [
    "describes = {covariance_type: pd.DataFrame() for covariance_type in covariance_types}\n",
    "for covariance_type in tqdm(covariance_types):\n",
    "    df = pd.DataFrame(low_confirm_counts[covariance_type])\n",
    "    describes[covariance_type], describe_keys = get_describe(df, axis=0)"
   ]
  },
  {
   "cell_type": "code",
   "execution_count": 33,
   "id": "b73891d4",
   "metadata": {
    "ExecuteTime": {
     "end_time": "2022-12-17T10:44:22.608008Z",
     "start_time": "2022-12-17T10:44:22.596657Z"
    }
   },
   "outputs": [],
   "source": [
    "data = {describe_key: pd.DataFrame() for describe_key in describe_keys}\n",
    "for describe_key in describe_keys:\n",
    "    _data = {\n",
    "        covariance_type: describes[covariance_type][describe_key]\n",
    "        for covariance_type in covariance_types\n",
    "    }\n",
    "    data[describe_key] = pd.concat(_data, axis=1)"
   ]
  },
  {
   "cell_type": "code",
   "execution_count": 40,
   "id": "76551ed5",
   "metadata": {
    "ExecuteTime": {
     "end_time": "2022-12-17T10:46:35.829051Z",
     "start_time": "2022-12-17T10:46:35.819389Z"
    }
   },
   "outputs": [
    {
     "data": {
      "text/html": [
       "<div>\n",
       "<style scoped>\n",
       "    .dataframe tbody tr th:only-of-type {\n",
       "        vertical-align: middle;\n",
       "    }\n",
       "\n",
       "    .dataframe tbody tr th {\n",
       "        vertical-align: top;\n",
       "    }\n",
       "\n",
       "    .dataframe thead th {\n",
       "        text-align: right;\n",
       "    }\n",
       "</style>\n",
       "<table border=\"1\" class=\"dataframe\">\n",
       "  <thead>\n",
       "    <tr style=\"text-align: right;\">\n",
       "      <th></th>\n",
       "      <th>spherical</th>\n",
       "      <th>diag</th>\n",
       "      <th>tied</th>\n",
       "      <th>full</th>\n",
       "    </tr>\n",
       "  </thead>\n",
       "  <tbody>\n",
       "    <tr>\n",
       "      <th>2</th>\n",
       "      <td>3204.830056</td>\n",
       "      <td>42.713547</td>\n",
       "      <td>1154.941571</td>\n",
       "      <td>2124.860450</td>\n",
       "    </tr>\n",
       "    <tr>\n",
       "      <th>4</th>\n",
       "      <td>126.490148</td>\n",
       "      <td>577.985642</td>\n",
       "      <td>52.156055</td>\n",
       "      <td>1569.258476</td>\n",
       "    </tr>\n",
       "    <tr>\n",
       "      <th>6</th>\n",
       "      <td>0.827682</td>\n",
       "      <td>3.032582</td>\n",
       "      <td>4.352434</td>\n",
       "      <td>3.438959</td>\n",
       "    </tr>\n",
       "    <tr>\n",
       "      <th>8</th>\n",
       "      <td>0.000000</td>\n",
       "      <td>1.165106</td>\n",
       "      <td>0.182574</td>\n",
       "      <td>2.490441</td>\n",
       "    </tr>\n",
       "    <tr>\n",
       "      <th>10</th>\n",
       "      <td>0.000000</td>\n",
       "      <td>0.000000</td>\n",
       "      <td>1.082781</td>\n",
       "      <td>2.377094</td>\n",
       "    </tr>\n",
       "    <tr>\n",
       "      <th>20</th>\n",
       "      <td>0.000000</td>\n",
       "      <td>0.000000</td>\n",
       "      <td>2.192201</td>\n",
       "      <td>15.135442</td>\n",
       "    </tr>\n",
       "    <tr>\n",
       "      <th>40</th>\n",
       "      <td>0.000000</td>\n",
       "      <td>0.000000</td>\n",
       "      <td>18.872500</td>\n",
       "      <td>51.088935</td>\n",
       "    </tr>\n",
       "    <tr>\n",
       "      <th>80</th>\n",
       "      <td>0.000000</td>\n",
       "      <td>0.000000</td>\n",
       "      <td>18.998155</td>\n",
       "      <td>74.893365</td>\n",
       "    </tr>\n",
       "    <tr>\n",
       "      <th>160</th>\n",
       "      <td>0.000000</td>\n",
       "      <td>0.000000</td>\n",
       "      <td>50.295049</td>\n",
       "      <td>139.515834</td>\n",
       "    </tr>\n",
       "  </tbody>\n",
       "</table>\n",
       "</div>"
      ],
      "text/plain": [
       "       spherical        diag         tied         full\n",
       "2    3204.830056   42.713547  1154.941571  2124.860450\n",
       "4     126.490148  577.985642    52.156055  1569.258476\n",
       "6       0.827682    3.032582     4.352434     3.438959\n",
       "8       0.000000    1.165106     0.182574     2.490441\n",
       "10      0.000000    0.000000     1.082781     2.377094\n",
       "20      0.000000    0.000000     2.192201    15.135442\n",
       "40      0.000000    0.000000    18.872500    51.088935\n",
       "80      0.000000    0.000000    18.998155    74.893365\n",
       "160     0.000000    0.000000    50.295049   139.515834"
      ]
     },
     "execution_count": 40,
     "metadata": {},
     "output_type": "execute_result"
    }
   ],
   "source": [
    "data[\"std\"]"
   ]
  },
  {
   "cell_type": "code",
   "execution_count": 42,
   "id": "566e3719",
   "metadata": {
    "ExecuteTime": {
     "end_time": "2022-12-17T10:47:04.601671Z",
     "start_time": "2022-12-17T10:47:03.842505Z"
    }
   },
   "outputs": [
    {
     "data": {
      "image/png": "[encoded data removed]",
      "text/plain": [
       "<Figure size 800x800 with 1 Axes>"
      ]
     },
     "metadata": {},
     "output_type": "display_data"
    }
   ],
   "source": [
    "fig = plt.figure(**layout[\"figure\"])\n",
    "ax = fig.add_subplot(111)\n",
    "# fig_path = f\"../../data/figure/AgNews/doc2vec/GMM/stats/{stats_val}.pdf\"\n",
    "ax.set_xscale('log')\n",
    "line_plot_error_1(\n",
    "    data[\"mean\"],\n",
    "    error_low=data[\"std\"],\n",
    "    error_upper=data[\"std\"],\n",
    "    fig=fig,\n",
    "    ax=ax,\n",
    "    layout=layout,\n",
    "    title=\"確信度の低いデータ数\",\n",
    "    xlabel=\"埋め込み次元\",\n",
    "    ylabel=\"データ数\",\n",
    "#     path=fig_path,\n",
    ")\n"
   ]
  },
  {
   "cell_type": "code",
   "execution_count": null,
   "id": "a96d35a8",
   "metadata": {},
   "outputs": [],
   "source": []
  }
 ],
 "metadata": {
  "kernelspec": {
   "display_name": "Python 3 (ipykernel)",
   "language": "python",
   "name": "python3"
  },
  "language_info": {
   "codemirror_mode": {
    "name": "ipython",
    "version": 3
   },
   "file_extension": ".py",
   "mimetype": "text/x-python",
   "name": "python",
   "nbconvert_exporter": "python",
   "pygments_lexer": "ipython3",
   "version": "3.10.8"
  },
  "toc": {
   "base_numbering": 1,
   "nav_menu": {},
   "number_sections": true,
   "sideBar": true,
   "skip_h1_title": false,
   "title_cell": "Table of Contents",
   "title_sidebar": "Contents",
   "toc_cell": false,
   "toc_position": {},
   "toc_section_display": true,
   "toc_window_display": false
  }
 },
 "nbformat": 4,
 "nbformat_minor": 5
}
