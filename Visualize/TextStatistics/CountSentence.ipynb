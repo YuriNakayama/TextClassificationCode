{
 "cells": [
  {
   "cell_type": "markdown",
   "id": "b95f9187",
   "metadata": {},
   "source": [
    "# Import"
   ]
  },
  {
   "cell_type": "code",
   "execution_count": 48,
   "id": "80a85ab5",
   "metadata": {
    "ExecuteTime": {
     "end_time": "2023-02-09T08:09:27.408113Z",
     "start_time": "2023-02-09T08:09:27.401347Z"
    }
   },
   "outputs": [],
   "source": [
    "import csv\n",
    "import os\n",
    "import sys\n",
    "\n",
    "import numpy as np\n",
    "import pandas as pd\n",
    "from nltk import word_tokenize, download\n",
    "from stop_words import get_stop_words\n",
    "from nltk.corpus import stopwords\n",
    "from nltk.tokenize import sent_tokenize\n",
    "from tqdm import tqdm\n",
    "import matplotlib.pyplot as plt"
   ]
  },
  {
   "cell_type": "markdown",
   "id": "2543f4e4",
   "metadata": {},
   "source": [
    "## Add configuration file"
   ]
  },
  {
   "cell_type": "code",
   "execution_count": 2,
   "id": "f0f02287",
   "metadata": {
    "ExecuteTime": {
     "end_time": "2023-02-09T06:50:25.752287Z",
     "start_time": "2023-02-09T06:50:25.749079Z"
    }
   },
   "outputs": [],
   "source": [
    "sys.path.append(\"/home/jovyan/core/config/\")\n",
    "sys.path.append(\"/home/jovyan/core/util/\")"
   ]
  },
  {
   "cell_type": "code",
   "execution_count": 3,
   "id": "08c511e8",
   "metadata": {
    "ExecuteTime": {
     "end_time": "2023-02-09T06:50:25.999627Z",
     "start_time": "2023-02-09T06:50:25.756048Z"
    }
   },
   "outputs": [],
   "source": [
    "from ALL import config \n",
    "from util import *"
   ]
  },
  {
   "cell_type": "markdown",
   "id": "e0cf6da0",
   "metadata": {},
   "source": [
    "## Set condition"
   ]
  },
  {
   "cell_type": "code",
   "execution_count": 4,
   "id": "9d870465",
   "metadata": {
    "ExecuteTime": {
     "end_time": "2023-02-09T06:50:26.007665Z",
     "start_time": "2023-02-09T06:50:26.004236Z"
    }
   },
   "outputs": [],
   "source": [
    "tqdm.pandas()\n",
    "pd.set_option(\"display.max_columns\", 100)\n",
    "pd.set_option(\"display.max_rows\", 50)"
   ]
  },
  {
   "cell_type": "code",
   "execution_count": 5,
   "id": "86817c2a",
   "metadata": {
    "ExecuteTime": {
     "end_time": "2023-02-09T06:50:26.014149Z",
     "start_time": "2023-02-09T06:50:26.009861Z"
    }
   },
   "outputs": [],
   "source": [
    "s3 = S3Manager()"
   ]
  },
  {
   "cell_type": "code",
   "execution_count": 6,
   "id": "8e7d662b",
   "metadata": {
    "ExecuteTime": {
     "end_time": "2023-02-09T06:50:26.019741Z",
     "start_time": "2023-02-09T06:50:26.016441Z"
    }
   },
   "outputs": [],
   "source": [
    "data_types = [\"AgNews\", \"AgNewsTitle\", \"20News\"]"
   ]
  },
  {
   "cell_type": "code",
   "execution_count": 28,
   "id": "ccbd6210",
   "metadata": {
    "ExecuteTime": {
     "end_time": "2023-02-09T07:12:47.887451Z",
     "start_time": "2023-02-09T07:12:47.312919Z"
    }
   },
   "outputs": [
    {
     "name": "stderr",
     "output_type": "stream",
     "text": [
      "[nltk_data] Downloading package punkt to /home/jovyan/nltk_data...\n",
      "[nltk_data]   Unzipping tokenizers/punkt.zip.\n"
     ]
    },
    {
     "data": {
      "text/plain": [
       "True"
      ]
     },
     "execution_count": 28,
     "metadata": {},
     "output_type": "execute_result"
    }
   ],
   "source": [
    "download('punkt')"
   ]
  },
  {
   "cell_type": "markdown",
   "id": "52c60a4f",
   "metadata": {},
   "source": [
    "# Read data"
   ]
  },
  {
   "cell_type": "code",
   "execution_count": 7,
   "id": "5bf91b89",
   "metadata": {
    "ExecuteTime": {
     "end_time": "2023-02-09T06:50:31.502597Z",
     "start_time": "2023-02-09T06:50:26.021937Z"
    }
   },
   "outputs": [],
   "source": [
    "df_paths = {\n",
    "    data_type: s3.download(f\"Preprocessing/{data_type}/master.csv\")[0]\n",
    "    for data_type in data_types\n",
    "}"
   ]
  },
  {
   "cell_type": "code",
   "execution_count": 9,
   "id": "c81d3638",
   "metadata": {
    "ExecuteTime": {
     "end_time": "2023-02-09T06:50:34.134019Z",
     "start_time": "2023-02-09T06:50:31.549544Z"
    },
    "scrolled": true
   },
   "outputs": [],
   "source": [
    "dfs = {data_type: pd.read_csv(df_path, index_col=0) for data_type, df_path in df_paths.items()}"
   ]
  },
  {
   "cell_type": "code",
   "execution_count": 10,
   "id": "511b29b4",
   "metadata": {
    "ExecuteTime": {
     "end_time": "2023-02-09T06:59:51.049616Z",
     "start_time": "2023-02-09T06:59:49.770418Z"
    }
   },
   "outputs": [],
   "source": [
    "labels_paths = {data_type: s3.download(f\"Preprocessing/{data_type}/class.csv\")[0] for data_type in data_types}"
   ]
  },
  {
   "cell_type": "code",
   "execution_count": 11,
   "id": "04e7ed11",
   "metadata": {
    "ExecuteTime": {
     "end_time": "2023-02-09T07:00:54.749535Z",
     "start_time": "2023-02-09T07:00:54.745310Z"
    }
   },
   "outputs": [],
   "source": [
    "class_labels = {}\n",
    "for data_type, labels_path in labels_paths.items():\n",
    "    with open(labels_path, mode=\"r\") as f:\n",
    "        reader = csv.reader(f)\n",
    "        class_labels[data_type] = [label for label in reader]"
   ]
  },
  {
   "cell_type": "markdown",
   "id": "a8d46dad",
   "metadata": {},
   "source": [
    "# Split texts"
   ]
  },
  {
   "cell_type": "code",
   "execution_count": 30,
   "id": "eac80786",
   "metadata": {
    "ExecuteTime": {
     "end_time": "2023-02-09T07:13:34.834593Z",
     "start_time": "2023-02-09T07:13:13.342145Z"
    },
    "scrolled": true
   },
   "outputs": [
    {
     "name": "stderr",
     "output_type": "stream",
     "text": [
      "100%|██████████| 120000/120000 [00:06<00:00, 18523.61it/s]\n",
      "100%|██████████| 120000/120000 [00:03<00:00, 36747.69it/s]\n",
      "100%|██████████| 18770/18770 [00:11<00:00, 1620.13it/s]\n"
     ]
    }
   ],
   "source": [
    "for data_type in data_types:\n",
    "    dfs[data_type][\"sentences\"] = dfs[data_type][\"text\"].progress_apply(sent_tokenize)\n",
    "    dfs[data_type][\"sentence_count\"] = dfs[data_type][\"sentences\"].apply(len)"
   ]
  },
  {
   "cell_type": "markdown",
   "id": "4d91187a",
   "metadata": {},
   "source": [
    "# Visualize"
   ]
  },
  {
   "cell_type": "markdown",
   "id": "affc270c",
   "metadata": {},
   "source": [
    "## Describe"
   ]
  },
  {
   "cell_type": "code",
   "execution_count": 31,
   "id": "d44e08f3",
   "metadata": {
    "ExecuteTime": {
     "end_time": "2023-02-09T07:13:34.854998Z",
     "start_time": "2023-02-09T07:13:34.838756Z"
    }
   },
   "outputs": [
    {
     "name": "stdout",
     "output_type": "stream",
     "text": [
      "AgNews\n",
      "count    120000.000000\n",
      "mean          1.286283\n",
      "std           0.616194\n",
      "min           1.000000\n",
      "25%           1.000000\n",
      "50%           1.000000\n",
      "75%           1.000000\n",
      "max          15.000000\n",
      "Name: sentence_count, dtype: float64\n",
      "AgNewsTitle\n",
      "count    120000.000000\n",
      "mean          1.020883\n",
      "std           0.153831\n",
      "min           1.000000\n",
      "25%           1.000000\n",
      "50%           1.000000\n",
      "75%           1.000000\n",
      "max           8.000000\n",
      "Name: sentence_count, dtype: float64\n",
      "20News\n",
      "count    18770.000000\n",
      "mean        14.927597\n",
      "std         19.045801\n",
      "min          1.000000\n",
      "25%          6.000000\n",
      "50%         10.000000\n",
      "75%         16.000000\n",
      "max        393.000000\n",
      "Name: sentence_count, dtype: float64\n"
     ]
    }
   ],
   "source": [
    "for data_type in data_types:\n",
    "    print(data_type)\n",
    "    print(dfs[data_type][\"sentence_count\"].describe())"
   ]
  },
  {
   "cell_type": "code",
   "execution_count": 46,
   "id": "b45b38cc",
   "metadata": {
    "ExecuteTime": {
     "end_time": "2023-02-09T08:08:54.511739Z",
     "start_time": "2023-02-09T08:08:54.504948Z"
    }
   },
   "outputs": [
    {
     "data": {
      "text/plain": [
       "95.0"
      ]
     },
     "execution_count": 46,
     "metadata": {},
     "output_type": "execute_result"
    }
   ],
   "source": [
    "dfs[\"20News\"][\"sentence_count\"].quantile(0.99)"
   ]
  },
  {
   "cell_type": "code",
   "execution_count": 47,
   "id": "fe3a4d43",
   "metadata": {
    "ExecuteTime": {
     "end_time": "2023-02-09T08:09:07.622704Z",
     "start_time": "2023-02-09T08:09:07.605422Z"
    }
   },
   "outputs": [
    {
     "data": {
      "text/plain": [
       "0        10\n",
       "1         7\n",
       "2        40\n",
       "3        30\n",
       "4         7\n",
       "         ..\n",
       "18841    16\n",
       "18842     7\n",
       "18843     8\n",
       "18844    13\n",
       "18845    13\n",
       "Name: sentence_count, Length: 18770, dtype: int64"
      ]
     },
     "execution_count": 47,
     "metadata": {},
     "output_type": "execute_result"
    }
   ],
   "source": [
    "dfs[\"20News\"][\"sentence_count\"]"
   ]
  },
  {
   "cell_type": "code",
   "execution_count": 53,
   "id": "d0b02459",
   "metadata": {
    "ExecuteTime": {
     "end_time": "2023-02-09T08:11:34.893490Z",
     "start_time": "2023-02-09T08:11:34.391274Z"
    },
    "scrolled": false
   },
   "outputs": [
    {
     "data": {
      "image/png": "[encoded data removed]",
      "text/plain": [
       "<Figure size 800x800 with 1 Axes>"
      ]
     },
     "metadata": {},
     "output_type": "display_data"
    }
   ],
   "source": [
    "fig = plt.figure(figsize=(8,8))\n",
    "ax = fig.add_subplot(111)\n",
    "ax.hist(dfs[\"20News\"][\"sentence_count\"], bins=100)\n",
    "plt.show()"
   ]
  },
  {
   "cell_type": "code",
   "execution_count": 25,
   "id": "f3b396c6",
   "metadata": {
    "ExecuteTime": {
     "end_time": "2023-02-07T11:31:47.786229Z",
     "start_time": "2023-02-07T11:31:47.769302Z"
    }
   },
   "outputs": [],
   "source": [
    "shutil.rmtree(\"../../nltk_data/\")"
   ]
  }
 ],
 "metadata": {
  "kernelspec": {
   "display_name": "Python 3 (ipykernel)",
   "language": "python",
   "name": "python3"
  },
  "language_info": {
   "codemirror_mode": {
    "name": "ipython",
    "version": 3
   },
   "file_extension": ".py",
   "mimetype": "text/x-python",
   "name": "python",
   "nbconvert_exporter": "python",
   "pygments_lexer": "ipython3",
   "version": "3.10.8"
  },
  "toc": {
   "base_numbering": 1,
   "nav_menu": {},
   "number_sections": true,
   "sideBar": true,
   "skip_h1_title": false,
   "title_cell": "Table of Contents",
   "title_sidebar": "Contents",
   "toc_cell": false,
   "toc_position": {},
   "toc_section_display": true,
   "toc_window_display": false
  }
 },
 "nbformat": 4,
 "nbformat_minor": 5
}
