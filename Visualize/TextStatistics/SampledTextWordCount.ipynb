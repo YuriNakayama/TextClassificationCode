{
 "cells": [
  {
   "cell_type": "markdown",
   "id": "b95f9187",
   "metadata": {},
   "source": [
    "# Import"
   ]
  },
  {
   "cell_type": "code",
   "execution_count": 14,
   "id": "80a85ab5",
   "metadata": {
    "ExecuteTime": {
     "end_time": "2023-02-09T12:07:30.246183Z",
     "start_time": "2023-02-09T12:07:30.221343Z"
    }
   },
   "outputs": [],
   "source": [
    "import csv\n",
    "import os\n",
    "import sys\n",
    "\n",
    "import numpy as np\n",
    "import pandas as pd\n",
    "from nltk import word_tokenize, download\n",
    "from stop_words import get_stop_words\n",
    "from nltk.corpus import stopwords\n",
    "from nltk.tokenize import sent_tokenize\n",
    "from tqdm import tqdm\n",
    "import matplotlib.pyplot as plt"
   ]
  },
  {
   "cell_type": "markdown",
   "id": "2543f4e4",
   "metadata": {},
   "source": [
    "## Add configuration file"
   ]
  },
  {
   "cell_type": "code",
   "execution_count": 15,
   "id": "f0f02287",
   "metadata": {
    "ExecuteTime": {
     "end_time": "2023-02-09T12:07:30.819317Z",
     "start_time": "2023-02-09T12:07:30.806563Z"
    }
   },
   "outputs": [],
   "source": [
    "sys.path.append(\"/home/jovyan/core/config/\")\n",
    "sys.path.append(\"/home/jovyan/core/util/\")"
   ]
  },
  {
   "cell_type": "code",
   "execution_count": 16,
   "id": "08c511e8",
   "metadata": {
    "ExecuteTime": {
     "end_time": "2023-02-09T12:07:30.898318Z",
     "start_time": "2023-02-09T12:07:30.887326Z"
    }
   },
   "outputs": [],
   "source": [
    "from ALL import config \n",
    "from util import *"
   ]
  },
  {
   "cell_type": "markdown",
   "id": "e0cf6da0",
   "metadata": {},
   "source": [
    "## Set condition"
   ]
  },
  {
   "cell_type": "code",
   "execution_count": 17,
   "id": "9d870465",
   "metadata": {
    "ExecuteTime": {
     "end_time": "2023-02-09T12:07:31.066347Z",
     "start_time": "2023-02-09T12:07:31.053291Z"
    }
   },
   "outputs": [],
   "source": [
    "tqdm.pandas()\n",
    "pd.set_option(\"display.max_columns\", 100)\n",
    "pd.set_option(\"display.max_rows\", 50)"
   ]
  },
  {
   "cell_type": "code",
   "execution_count": 18,
   "id": "86817c2a",
   "metadata": {
    "ExecuteTime": {
     "end_time": "2023-02-09T12:07:31.154210Z",
     "start_time": "2023-02-09T12:07:31.135586Z"
    }
   },
   "outputs": [],
   "source": [
    "s3 = S3Manager()"
   ]
  },
  {
   "cell_type": "code",
   "execution_count": 19,
   "id": "8e7d662b",
   "metadata": {
    "ExecuteTime": {
     "end_time": "2023-02-09T12:07:31.227405Z",
     "start_time": "2023-02-09T12:07:31.224181Z"
    }
   },
   "outputs": [],
   "source": [
    "data_type = \"20News\"\n",
    "sentence_counts = [2, 4, 8, 16, 32, 64, 128]"
   ]
  },
  {
   "cell_type": "markdown",
   "id": "52c60a4f",
   "metadata": {},
   "source": [
    "# Read data"
   ]
  },
  {
   "cell_type": "code",
   "execution_count": 20,
   "id": "5bf91b89",
   "metadata": {
    "ExecuteTime": {
     "end_time": "2023-02-09T12:08:00.457308Z",
     "start_time": "2023-02-09T12:07:31.382333Z"
    }
   },
   "outputs": [],
   "source": [
    "df_paths = {\n",
    "    sentence_count: s3.download(\n",
    "        f\"Preprocessing/{data_type}Sampled{sentence_count}/master.csv\"\n",
    "    )[0]\n",
    "    for sentence_count in sentence_counts\n",
    "}"
   ]
  },
  {
   "cell_type": "code",
   "execution_count": 21,
   "id": "c81d3638",
   "metadata": {
    "ExecuteTime": {
     "end_time": "2023-02-09T12:08:27.582570Z",
     "start_time": "2023-02-09T12:08:00.460324Z"
    },
    "scrolled": true
   },
   "outputs": [],
   "source": [
    "dfs = {sentence_count: pd.read_csv(df_path, index_col=0) for sentence_count, df_path in df_paths.items()}"
   ]
  },
  {
   "cell_type": "code",
   "execution_count": 22,
   "id": "511b29b4",
   "metadata": {
    "ExecuteTime": {
     "end_time": "2023-02-09T12:08:35.329977Z",
     "start_time": "2023-02-09T12:08:27.584468Z"
    }
   },
   "outputs": [],
   "source": [
    "labels_paths = {\n",
    "    sentence_count: s3.download(\n",
    "        f\"Preprocessing/{data_type}Sampled{sentence_count}/class.csv\"\n",
    "    )[0]\n",
    "    for sentence_count in sentence_counts\n",
    "}"
   ]
  },
  {
   "cell_type": "code",
   "execution_count": 23,
   "id": "04e7ed11",
   "metadata": {
    "ExecuteTime": {
     "end_time": "2023-02-09T12:08:35.357378Z",
     "start_time": "2023-02-09T12:08:35.333284Z"
    }
   },
   "outputs": [],
   "source": [
    "class_labels = {}\n",
    "for sentence_count, labels_path in labels_paths.items():\n",
    "    with open(labels_path, mode=\"r\") as f:\n",
    "        reader = csv.reader(f)\n",
    "        class_labels[sentence_count] = [label for label in reader]"
   ]
  },
  {
   "cell_type": "markdown",
   "id": "a8d46dad",
   "metadata": {},
   "source": [
    "# Split texts"
   ]
  },
  {
   "cell_type": "code",
   "execution_count": 27,
   "id": "310f2932",
   "metadata": {
    "ExecuteTime": {
     "end_time": "2023-02-09T12:10:10.153718Z",
     "start_time": "2023-02-09T12:10:10.115839Z"
    }
   },
   "outputs": [],
   "source": [
    "word_statistics = {\n",
    "    sentence_count: dfs[sentence_count][\"words_length\"].describe()\n",
    "    for sentence_count in sentence_counts\n",
    "}"
   ]
  },
  {
   "cell_type": "code",
   "execution_count": 30,
   "id": "9f52398c",
   "metadata": {
    "ExecuteTime": {
     "end_time": "2023-02-09T12:10:33.431054Z",
     "start_time": "2023-02-09T12:10:33.416753Z"
    }
   },
   "outputs": [
    {
     "data": {
      "text/html": [
       "<div>\n",
       "<style scoped>\n",
       "    .dataframe tbody tr th:only-of-type {\n",
       "        vertical-align: middle;\n",
       "    }\n",
       "\n",
       "    .dataframe tbody tr th {\n",
       "        vertical-align: top;\n",
       "    }\n",
       "\n",
       "    .dataframe thead th {\n",
       "        text-align: right;\n",
       "    }\n",
       "</style>\n",
       "<table border=\"1\" class=\"dataframe\">\n",
       "  <thead>\n",
       "    <tr style=\"text-align: right;\">\n",
       "      <th></th>\n",
       "      <th>2</th>\n",
       "      <th>4</th>\n",
       "      <th>8</th>\n",
       "      <th>16</th>\n",
       "      <th>32</th>\n",
       "      <th>64</th>\n",
       "      <th>128</th>\n",
       "    </tr>\n",
       "  </thead>\n",
       "  <tbody>\n",
       "    <tr>\n",
       "      <th>count</th>\n",
       "      <td>18770.000000</td>\n",
       "      <td>18770.000000</td>\n",
       "      <td>18770.000000</td>\n",
       "      <td>18694.000000</td>\n",
       "      <td>18693.000000</td>\n",
       "      <td>18694.000000</td>\n",
       "      <td>18694.000000</td>\n",
       "    </tr>\n",
       "    <tr>\n",
       "      <th>mean</th>\n",
       "      <td>51.570538</td>\n",
       "      <td>98.614172</td>\n",
       "      <td>171.392488</td>\n",
       "      <td>242.818123</td>\n",
       "      <td>289.045579</td>\n",
       "      <td>313.568257</td>\n",
       "      <td>322.731839</td>\n",
       "    </tr>\n",
       "    <tr>\n",
       "      <th>std</th>\n",
       "      <td>32.785106</td>\n",
       "      <td>45.578389</td>\n",
       "      <td>69.260900</td>\n",
       "      <td>118.734389</td>\n",
       "      <td>190.421324</td>\n",
       "      <td>260.053213</td>\n",
       "      <td>303.003753</td>\n",
       "    </tr>\n",
       "    <tr>\n",
       "      <th>min</th>\n",
       "      <td>4.000000</td>\n",
       "      <td>16.000000</td>\n",
       "      <td>17.000000</td>\n",
       "      <td>17.000000</td>\n",
       "      <td>17.000000</td>\n",
       "      <td>17.000000</td>\n",
       "      <td>17.000000</td>\n",
       "    </tr>\n",
       "    <tr>\n",
       "      <th>25%</th>\n",
       "      <td>29.000000</td>\n",
       "      <td>67.000000</td>\n",
       "      <td>125.000000</td>\n",
       "      <td>148.000000</td>\n",
       "      <td>148.000000</td>\n",
       "      <td>148.000000</td>\n",
       "      <td>148.000000</td>\n",
       "    </tr>\n",
       "    <tr>\n",
       "      <th>50%</th>\n",
       "      <td>43.000000</td>\n",
       "      <td>90.000000</td>\n",
       "      <td>164.000000</td>\n",
       "      <td>232.000000</td>\n",
       "      <td>237.000000</td>\n",
       "      <td>237.000000</td>\n",
       "      <td>237.000000</td>\n",
       "    </tr>\n",
       "    <tr>\n",
       "      <th>75%</th>\n",
       "      <td>65.000000</td>\n",
       "      <td>120.000000</td>\n",
       "      <td>209.000000</td>\n",
       "      <td>325.000000</td>\n",
       "      <td>380.000000</td>\n",
       "      <td>381.000000</td>\n",
       "      <td>381.000000</td>\n",
       "    </tr>\n",
       "    <tr>\n",
       "      <th>max</th>\n",
       "      <td>288.000000</td>\n",
       "      <td>444.000000</td>\n",
       "      <td>617.000000</td>\n",
       "      <td>656.000000</td>\n",
       "      <td>1009.000000</td>\n",
       "      <td>1614.000000</td>\n",
       "      <td>2482.000000</td>\n",
       "    </tr>\n",
       "  </tbody>\n",
       "</table>\n",
       "</div>"
      ],
      "text/plain": [
       "                2             4             8             16            32   \\\n",
       "count  18770.000000  18770.000000  18770.000000  18694.000000  18693.000000   \n",
       "mean      51.570538     98.614172    171.392488    242.818123    289.045579   \n",
       "std       32.785106     45.578389     69.260900    118.734389    190.421324   \n",
       "min        4.000000     16.000000     17.000000     17.000000     17.000000   \n",
       "25%       29.000000     67.000000    125.000000    148.000000    148.000000   \n",
       "50%       43.000000     90.000000    164.000000    232.000000    237.000000   \n",
       "75%       65.000000    120.000000    209.000000    325.000000    380.000000   \n",
       "max      288.000000    444.000000    617.000000    656.000000   1009.000000   \n",
       "\n",
       "                64            128  \n",
       "count  18694.000000  18694.000000  \n",
       "mean     313.568257    322.731839  \n",
       "std      260.053213    303.003753  \n",
       "min       17.000000     17.000000  \n",
       "25%      148.000000    148.000000  \n",
       "50%      237.000000    237.000000  \n",
       "75%      381.000000    381.000000  \n",
       "max     1614.000000   2482.000000  "
      ]
     },
     "execution_count": 30,
     "metadata": {},
     "output_type": "execute_result"
    }
   ],
   "source": [
    "pd.concat(word_statistics, axis=1)"
   ]
  },
  {
   "cell_type": "markdown",
   "id": "4d91187a",
   "metadata": {},
   "source": [
    "# Visualize"
   ]
  },
  {
   "cell_type": "markdown",
   "id": "affc270c",
   "metadata": {},
   "source": [
    "## Describe"
   ]
  },
  {
   "cell_type": "code",
   "execution_count": 26,
   "id": "d44e08f3",
   "metadata": {
    "ExecuteTime": {
     "end_time": "2023-02-09T12:08:35.583156Z",
     "start_time": "2023-02-09T12:08:35.491818Z"
    }
   },
   "outputs": [
    {
     "ename": "NameError",
     "evalue": "name 'data_types' is not defined",
     "output_type": "error",
     "traceback": [
      "\u001b[0;31m---------------------------------------------------------------------------\u001b[0m",
      "\u001b[0;31mNameError\u001b[0m                                 Traceback (most recent call last)",
      "Cell \u001b[0;32mIn[26], line 1\u001b[0m\n\u001b[0;32m----> 1\u001b[0m \u001b[38;5;28;01mfor\u001b[39;00m data_type \u001b[38;5;129;01min\u001b[39;00m \u001b[43mdata_types\u001b[49m:\n\u001b[1;32m      2\u001b[0m     \u001b[38;5;28mprint\u001b[39m(data_type)\n\u001b[1;32m      3\u001b[0m     \u001b[38;5;28mprint\u001b[39m(dfs[data_type][\u001b[38;5;124m\"\u001b[39m\u001b[38;5;124msentence_count\u001b[39m\u001b[38;5;124m\"\u001b[39m]\u001b[38;5;241m.\u001b[39mdescribe())\n",
      "\u001b[0;31mNameError\u001b[0m: name 'data_types' is not defined"
     ]
    }
   ],
   "source": [
    "for data_type in data_types:\n",
    "    print(data_type)\n",
    "    print(dfs[data_type][\"sentence_count\"].describe())"
   ]
  },
  {
   "cell_type": "code",
   "execution_count": null,
   "id": "b45b38cc",
   "metadata": {
    "ExecuteTime": {
     "end_time": "2023-02-09T12:08:35.585495Z",
     "start_time": "2023-02-09T12:08:35.585473Z"
    }
   },
   "outputs": [],
   "source": [
    "dfs[\"20News\"][\"sentence_count\"].quantile(0.99)"
   ]
  },
  {
   "cell_type": "code",
   "execution_count": null,
   "id": "fe3a4d43",
   "metadata": {
    "ExecuteTime": {
     "end_time": "2023-02-09T12:08:35.586936Z",
     "start_time": "2023-02-09T12:08:35.586914Z"
    }
   },
   "outputs": [],
   "source": [
    "dfs[\"20News\"][\"sentence_count\"]"
   ]
  },
  {
   "cell_type": "code",
   "execution_count": null,
   "id": "d0b02459",
   "metadata": {
    "ExecuteTime": {
     "end_time": "2023-02-09T12:08:35.588259Z",
     "start_time": "2023-02-09T12:08:35.588239Z"
    },
    "scrolled": false
   },
   "outputs": [],
   "source": [
    "fig = plt.figure(figsize=(8,8))\n",
    "ax = fig.add_subplot(111)\n",
    "ax.hist(dfs[\"20News\"][\"sentence_count\"], bins=100)\n",
    "plt.show()"
   ]
  },
  {
   "cell_type": "code",
   "execution_count": null,
   "id": "f3b396c6",
   "metadata": {
    "ExecuteTime": {
     "end_time": "2023-02-09T12:08:35.610137Z",
     "start_time": "2023-02-09T12:08:35.610110Z"
    }
   },
   "outputs": [],
   "source": [
    "shutil.rmtree(\"../../nltk_data/\")"
   ]
  },
  {
   "cell_type": "code",
   "execution_count": null,
   "id": "bfe9814d",
   "metadata": {},
   "outputs": [],
   "source": []
  }
 ],
 "metadata": {
  "kernelspec": {
   "display_name": "Python 3 (ipykernel)",
   "language": "python",
   "name": "python3"
  },
  "language_info": {
   "codemirror_mode": {
    "name": "ipython",
    "version": 3
   },
   "file_extension": ".py",
   "mimetype": "text/x-python",
   "name": "python",
   "nbconvert_exporter": "python",
   "pygments_lexer": "ipython3",
   "version": "3.10.8"
  },
  "toc": {
   "base_numbering": 1,
   "nav_menu": {},
   "number_sections": true,
   "sideBar": true,
   "skip_h1_title": false,
   "title_cell": "Table of Contents",
   "title_sidebar": "Contents",
   "toc_cell": false,
   "toc_position": {},
   "toc_section_display": true,
   "toc_window_display": false
  }
 },
 "nbformat": 4,
 "nbformat_minor": 5
}
