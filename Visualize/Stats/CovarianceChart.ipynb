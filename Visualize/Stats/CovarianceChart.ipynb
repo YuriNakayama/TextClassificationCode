{
 "cells": [
  {
   "cell_type": "markdown",
   "id": "b95f9187",
   "metadata": {},
   "source": [
    "# Import"
   ]
  },
  {
   "cell_type": "code",
   "execution_count": 1,
   "id": "80a85ab5",
   "metadata": {
    "ExecuteTime": {
     "end_time": "2023-01-20T20:33:01.989864Z",
     "start_time": "2023-01-20T20:33:00.907599Z"
    }
   },
   "outputs": [],
   "source": [
    "import csv\n",
    "import os\n",
    "import pickle\n",
    "import sys\n",
    "\n",
    "import matplotlib.pyplot as plt\n",
    "import seaborn as sns\n",
    "import numpy as np\n",
    "import pandas as pd\n",
    "from tqdm import tqdm"
   ]
  },
  {
   "cell_type": "markdown",
   "id": "2543f4e4",
   "metadata": {},
   "source": [
    "## Add configuration file"
   ]
  },
  {
   "cell_type": "code",
   "execution_count": 2,
   "id": "b62547de",
   "metadata": {
    "ExecuteTime": {
     "end_time": "2023-01-20T20:33:01.998619Z",
     "start_time": "2023-01-20T20:33:01.992623Z"
    }
   },
   "outputs": [],
   "source": [
    "sys.path.append(\"/home/jovyan/core/config/\")\n",
    "sys.path.append(\"/home/jovyan/core/util/\")\n",
    "sys.path.append(\"../PlotFunction/lineplot/\")\n",
    "sys.path.append(\"../PlotFunction/config/\")"
   ]
  },
  {
   "cell_type": "code",
   "execution_count": 3,
   "id": "84da401b",
   "metadata": {
    "ExecuteTime": {
     "end_time": "2023-01-20T20:33:02.409292Z",
     "start_time": "2023-01-20T20:33:02.000427Z"
    }
   },
   "outputs": [],
   "source": [
    "from ALL import config\n",
    "from line_plot_1 import line_plot_1\n",
    "from line_plot_error_1 import line_plot_error_1\n",
    "from line_plot_1_layout import layout\n",
    "from util import *"
   ]
  },
  {
   "cell_type": "markdown",
   "id": "9330548e",
   "metadata": {},
   "source": [
    "## Set condition"
   ]
  },
  {
   "cell_type": "code",
   "execution_count": 80,
   "id": "a30f3623",
   "metadata": {
    "ExecuteTime": {
     "end_time": "2023-01-20T21:01:16.262282Z",
     "start_time": "2023-01-20T21:01:16.258068Z"
    }
   },
   "outputs": [],
   "source": [
    "tqdm.pandas()\n",
    "pd.set_option(\"display.max_columns\", 100)\n",
    "pd.set_option(\"display.max_rows\", 50)"
   ]
  },
  {
   "cell_type": "code",
   "execution_count": 101,
   "id": "437dc5a7",
   "metadata": {
    "ExecuteTime": {
     "end_time": "2023-01-22T20:09:24.710094Z",
     "start_time": "2023-01-22T20:09:24.706811Z"
    }
   },
   "outputs": [],
   "source": [
    "data_type = \"AgNewsTitle\"\n",
    "vectorize_types = [\"doc2vec\", \"sentenceBERT\"]"
   ]
  },
  {
   "cell_type": "code",
   "execution_count": 102,
   "id": "c112357f",
   "metadata": {
    "ExecuteTime": {
     "end_time": "2023-01-22T20:09:24.866360Z",
     "start_time": "2023-01-22T20:09:24.862357Z"
    }
   },
   "outputs": [],
   "source": [
    "model_nums = config[\"clustering\"][\"gmm\"][\"max_model_num\"]\n",
    "covariance_types = config[\"clustering\"][\"gmm\"][\"covariance_types\"]\n",
    "normalization = \"normalized\"\n",
    "covariance_types = [\"spherical\", \"diag\", \"full\"]\n",
    "vector_dims = {\n",
    "    \"doc2vec\": config[\"vectorize\"][\"doc2vec\"][\"dims\"],\n",
    "    \"sentenceBERT\": config[\"vectorize\"][\"sentenceBERT\"][\"dims\"] + [384],\n",
    "}"
   ]
  },
  {
   "cell_type": "code",
   "execution_count": 103,
   "id": "8847dbdc",
   "metadata": {
    "ExecuteTime": {
     "end_time": "2023-01-22T20:09:25.018081Z",
     "start_time": "2023-01-22T20:09:25.015176Z"
    }
   },
   "outputs": [],
   "source": [
    "stats_vals = [\"aic\", \"bic\", \"mi\", \"logl\"]"
   ]
  },
  {
   "cell_type": "markdown",
   "id": "296aba6f",
   "metadata": {},
   "source": [
    "# Stats"
   ]
  },
  {
   "cell_type": "markdown",
   "id": "52c60a4f",
   "metadata": {},
   "source": [
    "## Read data"
   ]
  },
  {
   "cell_type": "code",
   "execution_count": 104,
   "id": "f7feee05",
   "metadata": {
    "ExecuteTime": {
     "end_time": "2023-01-22T20:09:25.465586Z",
     "start_time": "2023-01-22T20:09:25.460502Z"
    },
    "code_folding": [
     0
    ]
   },
   "outputs": [],
   "source": [
    "def load_stats_data(vectorize_type, stats_vals, covariance_types, model_nums):\n",
    "    # データ型定義\n",
    "    stats = {\n",
    "        stats_val: {\n",
    "            covariance_type: {\n",
    "                model_num: pd.DataFrame for model_num in range(model_nums)\n",
    "            }\n",
    "            for covariance_type in covariance_types\n",
    "        }\n",
    "        for stats_val in stats_vals\n",
    "    }\n",
    "\n",
    "    # データ取得\n",
    "    for stats_val in stats_vals:\n",
    "        for covariance_type in covariance_types:\n",
    "            for model_num in range(model_nums):\n",
    "                stats_path = f\"../../Postprocessing/data/{data_type}/{vectorize_type}/GMM/stats/{normalization}/{covariance_type}/{model_num}.csv\"\n",
    "                df = pd.read_csv(stats_path, index_col=0)\n",
    "                stats[stats_val][covariance_type][model_num] = df.loc[:, stats_val]\n",
    "    return stats"
   ]
  },
  {
   "cell_type": "code",
   "execution_count": 105,
   "id": "409ccf32",
   "metadata": {
    "ExecuteTime": {
     "end_time": "2023-01-22T20:09:25.596046Z",
     "start_time": "2023-01-22T20:09:25.592398Z"
    }
   },
   "outputs": [],
   "source": [
    "def load_lda_mi(data_type):\n",
    "    lda_mi = pd.read_csv(\n",
    "        f\"../../Postprocessing/data/{data_type}/LDA/mi.csv\", index_col=0\n",
    "    )\n",
    "    describe_lda_mi, _ = get_describe(lda_mi, axis=0)\n",
    "    return describe_lda_mi"
   ]
  },
  {
   "cell_type": "code",
   "execution_count": 106,
   "id": "1af35966",
   "metadata": {
    "ExecuteTime": {
     "end_time": "2023-01-22T20:09:27.076425Z",
     "start_time": "2023-01-22T20:09:25.745947Z"
    }
   },
   "outputs": [],
   "source": [
    "stats_dict = {}\n",
    "for vectorize_type in vectorize_types:\n",
    "    stats_dict[vectorize_type] = load_stats_data(\n",
    "        vectorize_type, stats_vals, covariance_types, model_nums\n",
    "    )"
   ]
  },
  {
   "cell_type": "code",
   "execution_count": 107,
   "id": "59a86bcc",
   "metadata": {
    "ExecuteTime": {
     "end_time": "2023-01-22T20:09:27.087443Z",
     "start_time": "2023-01-22T20:09:27.079487Z"
    }
   },
   "outputs": [],
   "source": [
    "describe_lda_mi = load_lda_mi(data_type)"
   ]
  },
  {
   "cell_type": "markdown",
   "id": "c963c854",
   "metadata": {},
   "source": [
    "## Data shaping"
   ]
  },
  {
   "cell_type": "code",
   "execution_count": 108,
   "id": "ee2c3cdf",
   "metadata": {
    "ExecuteTime": {
     "end_time": "2023-01-22T20:09:27.093687Z",
     "start_time": "2023-01-22T20:09:27.089403Z"
    },
    "code_folding": [
     0
    ]
   },
   "outputs": [],
   "source": [
    "def shape_stats_df(stats):\n",
    "    stats_df = {\n",
    "        stats_val: {covariance_type: pd.DataFrame() for covariance_type in covariance_types}\n",
    "        for stats_val in stats_vals\n",
    "    }\n",
    "\n",
    "    for stats_val in stats_vals:\n",
    "        for covariance_type in covariance_types:\n",
    "            # model_numについて取得データstatsを結合\n",
    "            stats_df[stats_val][covariance_type] = pd.concat(\n",
    "                stats[stats_val][covariance_type], axis=1\n",
    "            )\n",
    "    return stats_df"
   ]
  },
  {
   "cell_type": "code",
   "execution_count": 109,
   "id": "ad3c2855",
   "metadata": {
    "ExecuteTime": {
     "end_time": "2023-01-22T20:09:27.100774Z",
     "start_time": "2023-01-22T20:09:27.096830Z"
    },
    "code_folding": [
     0
    ]
   },
   "outputs": [],
   "source": [
    "def shape_describe(stats_df):\n",
    "    describe = {\n",
    "        stats_val: {covariance_type: dict() for covariance_type in covariance_types}\n",
    "        for stats_val in stats_vals\n",
    "    }\n",
    "\n",
    "    for stats_val in stats_vals:\n",
    "        for covariance_type in covariance_types:\n",
    "            describe[stats_val][covariance_type], describe_keys = get_describe(\n",
    "                stats_df[stats_val][covariance_type], axis=1\n",
    "            )\n",
    "    return describe, describe_keys"
   ]
  },
  {
   "cell_type": "code",
   "execution_count": 110,
   "id": "d4c180f0",
   "metadata": {
    "ExecuteTime": {
     "end_time": "2023-01-22T20:09:27.110176Z",
     "start_time": "2023-01-22T20:09:27.102944Z"
    },
    "code_folding": [
     0,
     1
    ]
   },
   "outputs": [],
   "source": [
    "def shape_data(describe, describe_keys):\n",
    "    data = {\n",
    "        stats_val: {describe_key: pd.DataFrame() for describe_key in describe_keys}\n",
    "        for stats_val in stats_vals\n",
    "    }\n",
    "    for stats_val in stats_vals:\n",
    "        for describe_key in describe_keys:\n",
    "            # covariance_typeについてデータを結合\n",
    "            _data = {\n",
    "                covariance_type: describe[stats_val][covariance_type][describe_key]\n",
    "                for covariance_type in covariance_types\n",
    "            }\n",
    "            data[stats_val][describe_key] = pd.concat(_data, axis=1)\n",
    "    return data"
   ]
  },
  {
   "cell_type": "code",
   "execution_count": 111,
   "id": "ef827e1b",
   "metadata": {
    "ExecuteTime": {
     "end_time": "2023-01-22T20:09:27.326354Z",
     "start_time": "2023-01-22T20:09:27.112065Z"
    },
    "code_folding": []
   },
   "outputs": [],
   "source": [
    "data_stats = {}\n",
    "for vectorize_type, stats in stats_dict.items():\n",
    "    stats_df = shape_stats_df(stats)\n",
    "    describe, describe_keys = shape_describe(stats_df)\n",
    "    data_stats[vectorize_type] = shape_data(describe, describe_keys)"
   ]
  },
  {
   "cell_type": "code",
   "execution_count": 112,
   "id": "24493214",
   "metadata": {
    "ExecuteTime": {
     "end_time": "2023-01-22T20:09:27.366525Z",
     "start_time": "2023-01-22T20:09:27.328403Z"
    },
    "scrolled": true
   },
   "outputs": [
    {
     "data": {
      "text/html": [
       "<style type=\"text/css\">\n",
       "#T_ad224_row2_col0, #T_ad224_row2_col1, #T_ad224_row2_col2, #T_ad224_row2_col6, #T_ad224_row2_col7, #T_ad224_row2_col8, #T_ad224_row2_col9, #T_ad224_row2_col10, #T_ad224_row2_col11, #T_ad224_row2_col12, #T_ad224_row2_col13, #T_ad224_row2_col14, #T_ad224_row2_col15, #T_ad224_row2_col17, #T_ad224_row2_col18, #T_ad224_row2_col19, #T_ad224_row2_col20, #T_ad224_row2_col21, #T_ad224_row2_col22, #T_ad224_row2_col23, #T_ad224_row2_col24, #T_ad224_row2_col26, #T_ad224_row2_col27, #T_ad224_row2_col28, #T_ad224_row2_col29, #T_ad224_row4_col3, #T_ad224_row4_col4, #T_ad224_row4_col5, #T_ad224_row4_col16, #T_ad224_row4_col25 {\n",
       "  background-color: yellow;\n",
       "}\n",
       "</style>\n",
       "<table id=\"T_ad224\">\n",
       "  <thead>\n",
       "    <tr>\n",
       "      <th class=\"blank level0\" >&nbsp;</th>\n",
       "      <th id=\"T_ad224_level0_col0\" class=\"col_heading level0 col0\" >0</th>\n",
       "      <th id=\"T_ad224_level0_col1\" class=\"col_heading level0 col1\" >1</th>\n",
       "      <th id=\"T_ad224_level0_col2\" class=\"col_heading level0 col2\" >2</th>\n",
       "      <th id=\"T_ad224_level0_col3\" class=\"col_heading level0 col3\" >3</th>\n",
       "      <th id=\"T_ad224_level0_col4\" class=\"col_heading level0 col4\" >4</th>\n",
       "      <th id=\"T_ad224_level0_col5\" class=\"col_heading level0 col5\" >5</th>\n",
       "      <th id=\"T_ad224_level0_col6\" class=\"col_heading level0 col6\" >6</th>\n",
       "      <th id=\"T_ad224_level0_col7\" class=\"col_heading level0 col7\" >7</th>\n",
       "      <th id=\"T_ad224_level0_col8\" class=\"col_heading level0 col8\" >8</th>\n",
       "      <th id=\"T_ad224_level0_col9\" class=\"col_heading level0 col9\" >9</th>\n",
       "      <th id=\"T_ad224_level0_col10\" class=\"col_heading level0 col10\" >10</th>\n",
       "      <th id=\"T_ad224_level0_col11\" class=\"col_heading level0 col11\" >11</th>\n",
       "      <th id=\"T_ad224_level0_col12\" class=\"col_heading level0 col12\" >12</th>\n",
       "      <th id=\"T_ad224_level0_col13\" class=\"col_heading level0 col13\" >13</th>\n",
       "      <th id=\"T_ad224_level0_col14\" class=\"col_heading level0 col14\" >14</th>\n",
       "      <th id=\"T_ad224_level0_col15\" class=\"col_heading level0 col15\" >15</th>\n",
       "      <th id=\"T_ad224_level0_col16\" class=\"col_heading level0 col16\" >16</th>\n",
       "      <th id=\"T_ad224_level0_col17\" class=\"col_heading level0 col17\" >17</th>\n",
       "      <th id=\"T_ad224_level0_col18\" class=\"col_heading level0 col18\" >18</th>\n",
       "      <th id=\"T_ad224_level0_col19\" class=\"col_heading level0 col19\" >19</th>\n",
       "      <th id=\"T_ad224_level0_col20\" class=\"col_heading level0 col20\" >20</th>\n",
       "      <th id=\"T_ad224_level0_col21\" class=\"col_heading level0 col21\" >21</th>\n",
       "      <th id=\"T_ad224_level0_col22\" class=\"col_heading level0 col22\" >22</th>\n",
       "      <th id=\"T_ad224_level0_col23\" class=\"col_heading level0 col23\" >23</th>\n",
       "      <th id=\"T_ad224_level0_col24\" class=\"col_heading level0 col24\" >24</th>\n",
       "      <th id=\"T_ad224_level0_col25\" class=\"col_heading level0 col25\" >25</th>\n",
       "      <th id=\"T_ad224_level0_col26\" class=\"col_heading level0 col26\" >26</th>\n",
       "      <th id=\"T_ad224_level0_col27\" class=\"col_heading level0 col27\" >27</th>\n",
       "      <th id=\"T_ad224_level0_col28\" class=\"col_heading level0 col28\" >28</th>\n",
       "      <th id=\"T_ad224_level0_col29\" class=\"col_heading level0 col29\" >29</th>\n",
       "    </tr>\n",
       "  </thead>\n",
       "  <tbody>\n",
       "    <tr>\n",
       "      <th id=\"T_ad224_level0_row0\" class=\"row_heading level0 row0\" >2</th>\n",
       "      <td id=\"T_ad224_row0_col0\" class=\"data row0 col0\" >0.311385</td>\n",
       "      <td id=\"T_ad224_row0_col1\" class=\"data row0 col1\" >0.364783</td>\n",
       "      <td id=\"T_ad224_row0_col2\" class=\"data row0 col2\" >0.356637</td>\n",
       "      <td id=\"T_ad224_row0_col3\" class=\"data row0 col3\" >0.311357</td>\n",
       "      <td id=\"T_ad224_row0_col4\" class=\"data row0 col4\" >0.311312</td>\n",
       "      <td id=\"T_ad224_row0_col5\" class=\"data row0 col5\" >0.362891</td>\n",
       "      <td id=\"T_ad224_row0_col6\" class=\"data row0 col6\" >0.356646</td>\n",
       "      <td id=\"T_ad224_row0_col7\" class=\"data row0 col7\" >0.365019</td>\n",
       "      <td id=\"T_ad224_row0_col8\" class=\"data row0 col8\" >0.311309</td>\n",
       "      <td id=\"T_ad224_row0_col9\" class=\"data row0 col9\" >0.364783</td>\n",
       "      <td id=\"T_ad224_row0_col10\" class=\"data row0 col10\" >0.355033</td>\n",
       "      <td id=\"T_ad224_row0_col11\" class=\"data row0 col11\" >0.311323</td>\n",
       "      <td id=\"T_ad224_row0_col12\" class=\"data row0 col12\" >0.355048</td>\n",
       "      <td id=\"T_ad224_row0_col13\" class=\"data row0 col13\" >0.320320</td>\n",
       "      <td id=\"T_ad224_row0_col14\" class=\"data row0 col14\" >0.311323</td>\n",
       "      <td id=\"T_ad224_row0_col15\" class=\"data row0 col15\" >0.311385</td>\n",
       "      <td id=\"T_ad224_row0_col16\" class=\"data row0 col16\" >0.365925</td>\n",
       "      <td id=\"T_ad224_row0_col17\" class=\"data row0 col17\" >0.311312</td>\n",
       "      <td id=\"T_ad224_row0_col18\" class=\"data row0 col18\" >0.311323</td>\n",
       "      <td id=\"T_ad224_row0_col19\" class=\"data row0 col19\" >0.311312</td>\n",
       "      <td id=\"T_ad224_row0_col20\" class=\"data row0 col20\" >0.365009</td>\n",
       "      <td id=\"T_ad224_row0_col21\" class=\"data row0 col21\" >0.356618</td>\n",
       "      <td id=\"T_ad224_row0_col22\" class=\"data row0 col22\" >0.311302</td>\n",
       "      <td id=\"T_ad224_row0_col23\" class=\"data row0 col23\" >0.355032</td>\n",
       "      <td id=\"T_ad224_row0_col24\" class=\"data row0 col24\" >0.311323</td>\n",
       "      <td id=\"T_ad224_row0_col25\" class=\"data row0 col25\" >0.311334</td>\n",
       "      <td id=\"T_ad224_row0_col26\" class=\"data row0 col26\" >0.311323</td>\n",
       "      <td id=\"T_ad224_row0_col27\" class=\"data row0 col27\" >0.355038</td>\n",
       "      <td id=\"T_ad224_row0_col28\" class=\"data row0 col28\" >0.364783</td>\n",
       "      <td id=\"T_ad224_row0_col29\" class=\"data row0 col29\" >0.364928</td>\n",
       "    </tr>\n",
       "    <tr>\n",
       "      <th id=\"T_ad224_level0_row1\" class=\"row_heading level0 row1\" >4</th>\n",
       "      <td id=\"T_ad224_row1_col0\" class=\"data row1 col0\" >0.488087</td>\n",
       "      <td id=\"T_ad224_row1_col1\" class=\"data row1 col1\" >0.474213</td>\n",
       "      <td id=\"T_ad224_row1_col2\" class=\"data row1 col2\" >0.488007</td>\n",
       "      <td id=\"T_ad224_row1_col3\" class=\"data row1 col3\" >0.474213</td>\n",
       "      <td id=\"T_ad224_row1_col4\" class=\"data row1 col4\" >0.474213</td>\n",
       "      <td id=\"T_ad224_row1_col5\" class=\"data row1 col5\" >0.488043</td>\n",
       "      <td id=\"T_ad224_row1_col6\" class=\"data row1 col6\" >0.474213</td>\n",
       "      <td id=\"T_ad224_row1_col7\" class=\"data row1 col7\" >0.474229</td>\n",
       "      <td id=\"T_ad224_row1_col8\" class=\"data row1 col8\" >0.488016</td>\n",
       "      <td id=\"T_ad224_row1_col9\" class=\"data row1 col9\" >0.488001</td>\n",
       "      <td id=\"T_ad224_row1_col10\" class=\"data row1 col10\" >0.488001</td>\n",
       "      <td id=\"T_ad224_row1_col11\" class=\"data row1 col11\" >0.488001</td>\n",
       "      <td id=\"T_ad224_row1_col12\" class=\"data row1 col12\" >0.488006</td>\n",
       "      <td id=\"T_ad224_row1_col13\" class=\"data row1 col13\" >0.474213</td>\n",
       "      <td id=\"T_ad224_row1_col14\" class=\"data row1 col14\" >0.488001</td>\n",
       "      <td id=\"T_ad224_row1_col15\" class=\"data row1 col15\" >0.488016</td>\n",
       "      <td id=\"T_ad224_row1_col16\" class=\"data row1 col16\" >0.474264</td>\n",
       "      <td id=\"T_ad224_row1_col17\" class=\"data row1 col17\" >0.488017</td>\n",
       "      <td id=\"T_ad224_row1_col18\" class=\"data row1 col18\" >0.488016</td>\n",
       "      <td id=\"T_ad224_row1_col19\" class=\"data row1 col19\" >0.474196</td>\n",
       "      <td id=\"T_ad224_row1_col20\" class=\"data row1 col20\" >0.488001</td>\n",
       "      <td id=\"T_ad224_row1_col21\" class=\"data row1 col21\" >0.487976</td>\n",
       "      <td id=\"T_ad224_row1_col22\" class=\"data row1 col22\" >0.474264</td>\n",
       "      <td id=\"T_ad224_row1_col23\" class=\"data row1 col23\" >0.488011</td>\n",
       "      <td id=\"T_ad224_row1_col24\" class=\"data row1 col24\" >0.474264</td>\n",
       "      <td id=\"T_ad224_row1_col25\" class=\"data row1 col25\" >0.487999</td>\n",
       "      <td id=\"T_ad224_row1_col26\" class=\"data row1 col26\" >0.474256</td>\n",
       "      <td id=\"T_ad224_row1_col27\" class=\"data row1 col27\" >0.488082</td>\n",
       "      <td id=\"T_ad224_row1_col28\" class=\"data row1 col28\" >0.488001</td>\n",
       "      <td id=\"T_ad224_row1_col29\" class=\"data row1 col29\" >0.487976</td>\n",
       "    </tr>\n",
       "    <tr>\n",
       "      <th id=\"T_ad224_level0_row2\" class=\"row_heading level0 row2\" >6</th>\n",
       "      <td id=\"T_ad224_row2_col0\" class=\"data row2 col0\" >0.506245</td>\n",
       "      <td id=\"T_ad224_row2_col1\" class=\"data row2 col1\" >0.506267</td>\n",
       "      <td id=\"T_ad224_row2_col2\" class=\"data row2 col2\" >0.506228</td>\n",
       "      <td id=\"T_ad224_row2_col3\" class=\"data row2 col3\" >0.483480</td>\n",
       "      <td id=\"T_ad224_row2_col4\" class=\"data row2 col4\" >0.483470</td>\n",
       "      <td id=\"T_ad224_row2_col5\" class=\"data row2 col5\" >0.483480</td>\n",
       "      <td id=\"T_ad224_row2_col6\" class=\"data row2 col6\" >0.506175</td>\n",
       "      <td id=\"T_ad224_row2_col7\" class=\"data row2 col7\" >0.506191</td>\n",
       "      <td id=\"T_ad224_row2_col8\" class=\"data row2 col8\" >0.506141</td>\n",
       "      <td id=\"T_ad224_row2_col9\" class=\"data row2 col9\" >0.506395</td>\n",
       "      <td id=\"T_ad224_row2_col10\" class=\"data row2 col10\" >0.506228</td>\n",
       "      <td id=\"T_ad224_row2_col11\" class=\"data row2 col11\" >0.506141</td>\n",
       "      <td id=\"T_ad224_row2_col12\" class=\"data row2 col12\" >0.506184</td>\n",
       "      <td id=\"T_ad224_row2_col13\" class=\"data row2 col13\" >0.506228</td>\n",
       "      <td id=\"T_ad224_row2_col14\" class=\"data row2 col14\" >0.506136</td>\n",
       "      <td id=\"T_ad224_row2_col15\" class=\"data row2 col15\" >0.506314</td>\n",
       "      <td id=\"T_ad224_row2_col16\" class=\"data row2 col16\" >0.483480</td>\n",
       "      <td id=\"T_ad224_row2_col17\" class=\"data row2 col17\" >0.506141</td>\n",
       "      <td id=\"T_ad224_row2_col18\" class=\"data row2 col18\" >0.506188</td>\n",
       "      <td id=\"T_ad224_row2_col19\" class=\"data row2 col19\" >0.506228</td>\n",
       "      <td id=\"T_ad224_row2_col20\" class=\"data row2 col20\" >0.506141</td>\n",
       "      <td id=\"T_ad224_row2_col21\" class=\"data row2 col21\" >0.506228</td>\n",
       "      <td id=\"T_ad224_row2_col22\" class=\"data row2 col22\" >0.506314</td>\n",
       "      <td id=\"T_ad224_row2_col23\" class=\"data row2 col23\" >0.506228</td>\n",
       "      <td id=\"T_ad224_row2_col24\" class=\"data row2 col24\" >0.506430</td>\n",
       "      <td id=\"T_ad224_row2_col25\" class=\"data row2 col25\" >0.483480</td>\n",
       "      <td id=\"T_ad224_row2_col26\" class=\"data row2 col26\" >0.506415</td>\n",
       "      <td id=\"T_ad224_row2_col27\" class=\"data row2 col27\" >0.506141</td>\n",
       "      <td id=\"T_ad224_row2_col28\" class=\"data row2 col28\" >0.506319</td>\n",
       "      <td id=\"T_ad224_row2_col29\" class=\"data row2 col29\" >0.506133</td>\n",
       "    </tr>\n",
       "    <tr>\n",
       "      <th id=\"T_ad224_level0_row3\" class=\"row_heading level0 row3\" >8</th>\n",
       "      <td id=\"T_ad224_row3_col0\" class=\"data row3 col0\" >0.491490</td>\n",
       "      <td id=\"T_ad224_row3_col1\" class=\"data row3 col1\" >0.491514</td>\n",
       "      <td id=\"T_ad224_row3_col2\" class=\"data row3 col2\" >0.483398</td>\n",
       "      <td id=\"T_ad224_row3_col3\" class=\"data row3 col3\" >0.491449</td>\n",
       "      <td id=\"T_ad224_row3_col4\" class=\"data row3 col4\" >0.491412</td>\n",
       "      <td id=\"T_ad224_row3_col5\" class=\"data row3 col5\" >0.491218</td>\n",
       "      <td id=\"T_ad224_row3_col6\" class=\"data row3 col6\" >0.491427</td>\n",
       "      <td id=\"T_ad224_row3_col7\" class=\"data row3 col7\" >0.491487</td>\n",
       "      <td id=\"T_ad224_row3_col8\" class=\"data row3 col8\" >0.491498</td>\n",
       "      <td id=\"T_ad224_row3_col9\" class=\"data row3 col9\" >0.491554</td>\n",
       "      <td id=\"T_ad224_row3_col10\" class=\"data row3 col10\" >0.491514</td>\n",
       "      <td id=\"T_ad224_row3_col11\" class=\"data row3 col11\" >0.491420</td>\n",
       "      <td id=\"T_ad224_row3_col12\" class=\"data row3 col12\" >0.491517</td>\n",
       "      <td id=\"T_ad224_row3_col13\" class=\"data row3 col13\" >0.491554</td>\n",
       "      <td id=\"T_ad224_row3_col14\" class=\"data row3 col14\" >0.491514</td>\n",
       "      <td id=\"T_ad224_row3_col15\" class=\"data row3 col15\" >0.491424</td>\n",
       "      <td id=\"T_ad224_row3_col16\" class=\"data row3 col16\" >0.483398</td>\n",
       "      <td id=\"T_ad224_row3_col17\" class=\"data row3 col17\" >0.491228</td>\n",
       "      <td id=\"T_ad224_row3_col18\" class=\"data row3 col18\" >0.491424</td>\n",
       "      <td id=\"T_ad224_row3_col19\" class=\"data row3 col19\" >0.491499</td>\n",
       "      <td id=\"T_ad224_row3_col20\" class=\"data row3 col20\" >0.483398</td>\n",
       "      <td id=\"T_ad224_row3_col21\" class=\"data row3 col21\" >0.491505</td>\n",
       "      <td id=\"T_ad224_row3_col22\" class=\"data row3 col22\" >0.491228</td>\n",
       "      <td id=\"T_ad224_row3_col23\" class=\"data row3 col23\" >0.491198</td>\n",
       "      <td id=\"T_ad224_row3_col24\" class=\"data row3 col24\" >0.491517</td>\n",
       "      <td id=\"T_ad224_row3_col25\" class=\"data row3 col25\" >0.491514</td>\n",
       "      <td id=\"T_ad224_row3_col26\" class=\"data row3 col26\" >0.491488</td>\n",
       "      <td id=\"T_ad224_row3_col27\" class=\"data row3 col27\" >0.491228</td>\n",
       "      <td id=\"T_ad224_row3_col28\" class=\"data row3 col28\" >0.491424</td>\n",
       "      <td id=\"T_ad224_row3_col29\" class=\"data row3 col29\" >0.491424</td>\n",
       "    </tr>\n",
       "    <tr>\n",
       "      <th id=\"T_ad224_level0_row4\" class=\"row_heading level0 row4\" >10</th>\n",
       "      <td id=\"T_ad224_row4_col0\" class=\"data row4 col0\" >0.505320</td>\n",
       "      <td id=\"T_ad224_row4_col1\" class=\"data row4 col1\" >0.505320</td>\n",
       "      <td id=\"T_ad224_row4_col2\" class=\"data row4 col2\" >0.434075</td>\n",
       "      <td id=\"T_ad224_row4_col3\" class=\"data row4 col3\" >0.505320</td>\n",
       "      <td id=\"T_ad224_row4_col4\" class=\"data row4 col4\" >0.505320</td>\n",
       "      <td id=\"T_ad224_row4_col5\" class=\"data row4 col5\" >0.505320</td>\n",
       "      <td id=\"T_ad224_row4_col6\" class=\"data row4 col6\" >0.505320</td>\n",
       "      <td id=\"T_ad224_row4_col7\" class=\"data row4 col7\" >0.434075</td>\n",
       "      <td id=\"T_ad224_row4_col8\" class=\"data row4 col8\" >0.505320</td>\n",
       "      <td id=\"T_ad224_row4_col9\" class=\"data row4 col9\" >0.505320</td>\n",
       "      <td id=\"T_ad224_row4_col10\" class=\"data row4 col10\" >0.434075</td>\n",
       "      <td id=\"T_ad224_row4_col11\" class=\"data row4 col11\" >0.505320</td>\n",
       "      <td id=\"T_ad224_row4_col12\" class=\"data row4 col12\" >0.434075</td>\n",
       "      <td id=\"T_ad224_row4_col13\" class=\"data row4 col13\" >0.505320</td>\n",
       "      <td id=\"T_ad224_row4_col14\" class=\"data row4 col14\" >0.505320</td>\n",
       "      <td id=\"T_ad224_row4_col15\" class=\"data row4 col15\" >0.505320</td>\n",
       "      <td id=\"T_ad224_row4_col16\" class=\"data row4 col16\" >0.505320</td>\n",
       "      <td id=\"T_ad224_row4_col17\" class=\"data row4 col17\" >0.422667</td>\n",
       "      <td id=\"T_ad224_row4_col18\" class=\"data row4 col18\" >0.505320</td>\n",
       "      <td id=\"T_ad224_row4_col19\" class=\"data row4 col19\" >0.434075</td>\n",
       "      <td id=\"T_ad224_row4_col20\" class=\"data row4 col20\" >0.505320</td>\n",
       "      <td id=\"T_ad224_row4_col21\" class=\"data row4 col21\" >0.505320</td>\n",
       "      <td id=\"T_ad224_row4_col22\" class=\"data row4 col22\" >0.505320</td>\n",
       "      <td id=\"T_ad224_row4_col23\" class=\"data row4 col23\" >0.422639</td>\n",
       "      <td id=\"T_ad224_row4_col24\" class=\"data row4 col24\" >0.505320</td>\n",
       "      <td id=\"T_ad224_row4_col25\" class=\"data row4 col25\" >0.505320</td>\n",
       "      <td id=\"T_ad224_row4_col26\" class=\"data row4 col26\" >0.505320</td>\n",
       "      <td id=\"T_ad224_row4_col27\" class=\"data row4 col27\" >0.505320</td>\n",
       "      <td id=\"T_ad224_row4_col28\" class=\"data row4 col28\" >0.505320</td>\n",
       "      <td id=\"T_ad224_row4_col29\" class=\"data row4 col29\" >0.505320</td>\n",
       "    </tr>\n",
       "    <tr>\n",
       "      <th id=\"T_ad224_level0_row5\" class=\"row_heading level0 row5\" >20</th>\n",
       "      <td id=\"T_ad224_row5_col0\" class=\"data row5 col0\" >0.483216</td>\n",
       "      <td id=\"T_ad224_row5_col1\" class=\"data row5 col1\" >0.483358</td>\n",
       "      <td id=\"T_ad224_row5_col2\" class=\"data row5 col2\" >0.483239</td>\n",
       "      <td id=\"T_ad224_row5_col3\" class=\"data row5 col3\" >0.483276</td>\n",
       "      <td id=\"T_ad224_row5_col4\" class=\"data row5 col4\" >0.483298</td>\n",
       "      <td id=\"T_ad224_row5_col5\" class=\"data row5 col5\" >0.483276</td>\n",
       "      <td id=\"T_ad224_row5_col6\" class=\"data row5 col6\" >0.483174</td>\n",
       "      <td id=\"T_ad224_row5_col7\" class=\"data row5 col7\" >0.483276</td>\n",
       "      <td id=\"T_ad224_row5_col8\" class=\"data row5 col8\" >0.483276</td>\n",
       "      <td id=\"T_ad224_row5_col9\" class=\"data row5 col9\" >0.483386</td>\n",
       "      <td id=\"T_ad224_row5_col10\" class=\"data row5 col10\" >0.483276</td>\n",
       "      <td id=\"T_ad224_row5_col11\" class=\"data row5 col11\" >0.483216</td>\n",
       "      <td id=\"T_ad224_row5_col12\" class=\"data row5 col12\" >0.483287</td>\n",
       "      <td id=\"T_ad224_row5_col13\" class=\"data row5 col13\" >0.483276</td>\n",
       "      <td id=\"T_ad224_row5_col14\" class=\"data row5 col14\" >0.483435</td>\n",
       "      <td id=\"T_ad224_row5_col15\" class=\"data row5 col15\" >0.483276</td>\n",
       "      <td id=\"T_ad224_row5_col16\" class=\"data row5 col16\" >0.483230</td>\n",
       "      <td id=\"T_ad224_row5_col17\" class=\"data row5 col17\" >0.483276</td>\n",
       "      <td id=\"T_ad224_row5_col18\" class=\"data row5 col18\" >0.483276</td>\n",
       "      <td id=\"T_ad224_row5_col19\" class=\"data row5 col19\" >0.483174</td>\n",
       "      <td id=\"T_ad224_row5_col20\" class=\"data row5 col20\" >0.483240</td>\n",
       "      <td id=\"T_ad224_row5_col21\" class=\"data row5 col21\" >0.483240</td>\n",
       "      <td id=\"T_ad224_row5_col22\" class=\"data row5 col22\" >0.483276</td>\n",
       "      <td id=\"T_ad224_row5_col23\" class=\"data row5 col23\" >0.483340</td>\n",
       "      <td id=\"T_ad224_row5_col24\" class=\"data row5 col24\" >0.483276</td>\n",
       "      <td id=\"T_ad224_row5_col25\" class=\"data row5 col25\" >0.449003</td>\n",
       "      <td id=\"T_ad224_row5_col26\" class=\"data row5 col26\" >0.448974</td>\n",
       "      <td id=\"T_ad224_row5_col27\" class=\"data row5 col27\" >0.483239</td>\n",
       "      <td id=\"T_ad224_row5_col28\" class=\"data row5 col28\" >0.483276</td>\n",
       "      <td id=\"T_ad224_row5_col29\" class=\"data row5 col29\" >0.483276</td>\n",
       "    </tr>\n",
       "    <tr>\n",
       "      <th id=\"T_ad224_level0_row6\" class=\"row_heading level0 row6\" >40</th>\n",
       "      <td id=\"T_ad224_row6_col0\" class=\"data row6 col0\" >0.460044</td>\n",
       "      <td id=\"T_ad224_row6_col1\" class=\"data row6 col1\" >0.480637</td>\n",
       "      <td id=\"T_ad224_row6_col2\" class=\"data row6 col2\" >0.480637</td>\n",
       "      <td id=\"T_ad224_row6_col3\" class=\"data row6 col3\" >0.460043</td>\n",
       "      <td id=\"T_ad224_row6_col4\" class=\"data row6 col4\" >0.480637</td>\n",
       "      <td id=\"T_ad224_row6_col5\" class=\"data row6 col5\" >0.460044</td>\n",
       "      <td id=\"T_ad224_row6_col6\" class=\"data row6 col6\" >0.480637</td>\n",
       "      <td id=\"T_ad224_row6_col7\" class=\"data row6 col7\" >0.480637</td>\n",
       "      <td id=\"T_ad224_row6_col8\" class=\"data row6 col8\" >0.480637</td>\n",
       "      <td id=\"T_ad224_row6_col9\" class=\"data row6 col9\" >0.480637</td>\n",
       "      <td id=\"T_ad224_row6_col10\" class=\"data row6 col10\" >0.480637</td>\n",
       "      <td id=\"T_ad224_row6_col11\" class=\"data row6 col11\" >0.480637</td>\n",
       "      <td id=\"T_ad224_row6_col12\" class=\"data row6 col12\" >0.480637</td>\n",
       "      <td id=\"T_ad224_row6_col13\" class=\"data row6 col13\" >0.460043</td>\n",
       "      <td id=\"T_ad224_row6_col14\" class=\"data row6 col14\" >0.480637</td>\n",
       "      <td id=\"T_ad224_row6_col15\" class=\"data row6 col15\" >0.480637</td>\n",
       "      <td id=\"T_ad224_row6_col16\" class=\"data row6 col16\" >0.480637</td>\n",
       "      <td id=\"T_ad224_row6_col17\" class=\"data row6 col17\" >0.480637</td>\n",
       "      <td id=\"T_ad224_row6_col18\" class=\"data row6 col18\" >0.480637</td>\n",
       "      <td id=\"T_ad224_row6_col19\" class=\"data row6 col19\" >0.480637</td>\n",
       "      <td id=\"T_ad224_row6_col20\" class=\"data row6 col20\" >0.480637</td>\n",
       "      <td id=\"T_ad224_row6_col21\" class=\"data row6 col21\" >0.480637</td>\n",
       "      <td id=\"T_ad224_row6_col22\" class=\"data row6 col22\" >0.480637</td>\n",
       "      <td id=\"T_ad224_row6_col23\" class=\"data row6 col23\" >0.480637</td>\n",
       "      <td id=\"T_ad224_row6_col24\" class=\"data row6 col24\" >0.460044</td>\n",
       "      <td id=\"T_ad224_row6_col25\" class=\"data row6 col25\" >0.480637</td>\n",
       "      <td id=\"T_ad224_row6_col26\" class=\"data row6 col26\" >0.480637</td>\n",
       "      <td id=\"T_ad224_row6_col27\" class=\"data row6 col27\" >0.460044</td>\n",
       "      <td id=\"T_ad224_row6_col28\" class=\"data row6 col28\" >0.480637</td>\n",
       "      <td id=\"T_ad224_row6_col29\" class=\"data row6 col29\" >0.480637</td>\n",
       "    </tr>\n",
       "    <tr>\n",
       "      <th id=\"T_ad224_level0_row7\" class=\"row_heading level0 row7\" >80</th>\n",
       "      <td id=\"T_ad224_row7_col0\" class=\"data row7 col0\" >0.482401</td>\n",
       "      <td id=\"T_ad224_row7_col1\" class=\"data row7 col1\" >0.482401</td>\n",
       "      <td id=\"T_ad224_row7_col2\" class=\"data row7 col2\" >0.482401</td>\n",
       "      <td id=\"T_ad224_row7_col3\" class=\"data row7 col3\" >0.481962</td>\n",
       "      <td id=\"T_ad224_row7_col4\" class=\"data row7 col4\" >0.482401</td>\n",
       "      <td id=\"T_ad224_row7_col5\" class=\"data row7 col5\" >0.482378</td>\n",
       "      <td id=\"T_ad224_row7_col6\" class=\"data row7 col6\" >0.481962</td>\n",
       "      <td id=\"T_ad224_row7_col7\" class=\"data row7 col7\" >0.482401</td>\n",
       "      <td id=\"T_ad224_row7_col8\" class=\"data row7 col8\" >0.481962</td>\n",
       "      <td id=\"T_ad224_row7_col9\" class=\"data row7 col9\" >0.481962</td>\n",
       "      <td id=\"T_ad224_row7_col10\" class=\"data row7 col10\" >0.481962</td>\n",
       "      <td id=\"T_ad224_row7_col11\" class=\"data row7 col11\" >0.481962</td>\n",
       "      <td id=\"T_ad224_row7_col12\" class=\"data row7 col12\" >0.481962</td>\n",
       "      <td id=\"T_ad224_row7_col13\" class=\"data row7 col13\" >0.482401</td>\n",
       "      <td id=\"T_ad224_row7_col14\" class=\"data row7 col14\" >0.456301</td>\n",
       "      <td id=\"T_ad224_row7_col15\" class=\"data row7 col15\" >0.482401</td>\n",
       "      <td id=\"T_ad224_row7_col16\" class=\"data row7 col16\" >0.482401</td>\n",
       "      <td id=\"T_ad224_row7_col17\" class=\"data row7 col17\" >0.456301</td>\n",
       "      <td id=\"T_ad224_row7_col18\" class=\"data row7 col18\" >0.482378</td>\n",
       "      <td id=\"T_ad224_row7_col19\" class=\"data row7 col19\" >0.482401</td>\n",
       "      <td id=\"T_ad224_row7_col20\" class=\"data row7 col20\" >0.482378</td>\n",
       "      <td id=\"T_ad224_row7_col21\" class=\"data row7 col21\" >0.482378</td>\n",
       "      <td id=\"T_ad224_row7_col22\" class=\"data row7 col22\" >0.481962</td>\n",
       "      <td id=\"T_ad224_row7_col23\" class=\"data row7 col23\" >0.482401</td>\n",
       "      <td id=\"T_ad224_row7_col24\" class=\"data row7 col24\" >0.482401</td>\n",
       "      <td id=\"T_ad224_row7_col25\" class=\"data row7 col25\" >0.482401</td>\n",
       "      <td id=\"T_ad224_row7_col26\" class=\"data row7 col26\" >0.482401</td>\n",
       "      <td id=\"T_ad224_row7_col27\" class=\"data row7 col27\" >0.482401</td>\n",
       "      <td id=\"T_ad224_row7_col28\" class=\"data row7 col28\" >0.482401</td>\n",
       "      <td id=\"T_ad224_row7_col29\" class=\"data row7 col29\" >0.481962</td>\n",
       "    </tr>\n",
       "    <tr>\n",
       "      <th id=\"T_ad224_level0_row8\" class=\"row_heading level0 row8\" >160</th>\n",
       "      <td id=\"T_ad224_row8_col0\" class=\"data row8 col0\" >0.479265</td>\n",
       "      <td id=\"T_ad224_row8_col1\" class=\"data row8 col1\" >0.488163</td>\n",
       "      <td id=\"T_ad224_row8_col2\" class=\"data row8 col2\" >0.488159</td>\n",
       "      <td id=\"T_ad224_row8_col3\" class=\"data row8 col3\" >0.488159</td>\n",
       "      <td id=\"T_ad224_row8_col4\" class=\"data row8 col4\" >0.479265</td>\n",
       "      <td id=\"T_ad224_row8_col5\" class=\"data row8 col5\" >0.488159</td>\n",
       "      <td id=\"T_ad224_row8_col6\" class=\"data row8 col6\" >0.488159</td>\n",
       "      <td id=\"T_ad224_row8_col7\" class=\"data row8 col7\" >0.488163</td>\n",
       "      <td id=\"T_ad224_row8_col8\" class=\"data row8 col8\" >0.488163</td>\n",
       "      <td id=\"T_ad224_row8_col9\" class=\"data row8 col9\" >0.488159</td>\n",
       "      <td id=\"T_ad224_row8_col10\" class=\"data row8 col10\" >0.488155</td>\n",
       "      <td id=\"T_ad224_row8_col11\" class=\"data row8 col11\" >0.488159</td>\n",
       "      <td id=\"T_ad224_row8_col12\" class=\"data row8 col12\" >0.488159</td>\n",
       "      <td id=\"T_ad224_row8_col13\" class=\"data row8 col13\" >0.488163</td>\n",
       "      <td id=\"T_ad224_row8_col14\" class=\"data row8 col14\" >0.488163</td>\n",
       "      <td id=\"T_ad224_row8_col15\" class=\"data row8 col15\" >0.488159</td>\n",
       "      <td id=\"T_ad224_row8_col16\" class=\"data row8 col16\" >0.488163</td>\n",
       "      <td id=\"T_ad224_row8_col17\" class=\"data row8 col17\" >0.479265</td>\n",
       "      <td id=\"T_ad224_row8_col18\" class=\"data row8 col18\" >0.488159</td>\n",
       "      <td id=\"T_ad224_row8_col19\" class=\"data row8 col19\" >0.463153</td>\n",
       "      <td id=\"T_ad224_row8_col20\" class=\"data row8 col20\" >0.488163</td>\n",
       "      <td id=\"T_ad224_row8_col21\" class=\"data row8 col21\" >0.488159</td>\n",
       "      <td id=\"T_ad224_row8_col22\" class=\"data row8 col22\" >0.488163</td>\n",
       "      <td id=\"T_ad224_row8_col23\" class=\"data row8 col23\" >0.488159</td>\n",
       "      <td id=\"T_ad224_row8_col24\" class=\"data row8 col24\" >0.488159</td>\n",
       "      <td id=\"T_ad224_row8_col25\" class=\"data row8 col25\" >0.488159</td>\n",
       "      <td id=\"T_ad224_row8_col26\" class=\"data row8 col26\" >0.488159</td>\n",
       "      <td id=\"T_ad224_row8_col27\" class=\"data row8 col27\" >0.488163</td>\n",
       "      <td id=\"T_ad224_row8_col28\" class=\"data row8 col28\" >0.488159</td>\n",
       "      <td id=\"T_ad224_row8_col29\" class=\"data row8 col29\" >0.479265</td>\n",
       "    </tr>\n",
       "    <tr>\n",
       "      <th id=\"T_ad224_level0_row9\" class=\"row_heading level0 row9\" >384</th>\n",
       "      <td id=\"T_ad224_row9_col0\" class=\"data row9 col0\" >0.501512</td>\n",
       "      <td id=\"T_ad224_row9_col1\" class=\"data row9 col1\" >0.500649</td>\n",
       "      <td id=\"T_ad224_row9_col2\" class=\"data row9 col2\" >0.501232</td>\n",
       "      <td id=\"T_ad224_row9_col3\" class=\"data row9 col3\" >0.501080</td>\n",
       "      <td id=\"T_ad224_row9_col4\" class=\"data row9 col4\" >0.500549</td>\n",
       "      <td id=\"T_ad224_row9_col5\" class=\"data row9 col5\" >0.500931</td>\n",
       "      <td id=\"T_ad224_row9_col6\" class=\"data row9 col6\" >0.500962</td>\n",
       "      <td id=\"T_ad224_row9_col7\" class=\"data row9 col7\" >0.501652</td>\n",
       "      <td id=\"T_ad224_row9_col8\" class=\"data row9 col8\" >0.501403</td>\n",
       "      <td id=\"T_ad224_row9_col9\" class=\"data row9 col9\" >0.501475</td>\n",
       "      <td id=\"T_ad224_row9_col10\" class=\"data row9 col10\" >0.501097</td>\n",
       "      <td id=\"T_ad224_row9_col11\" class=\"data row9 col11\" >0.501146</td>\n",
       "      <td id=\"T_ad224_row9_col12\" class=\"data row9 col12\" >0.501376</td>\n",
       "      <td id=\"T_ad224_row9_col13\" class=\"data row9 col13\" >0.501428</td>\n",
       "      <td id=\"T_ad224_row9_col14\" class=\"data row9 col14\" >0.501003</td>\n",
       "      <td id=\"T_ad224_row9_col15\" class=\"data row9 col15\" >0.501626</td>\n",
       "      <td id=\"T_ad224_row9_col16\" class=\"data row9 col16\" >0.500991</td>\n",
       "      <td id=\"T_ad224_row9_col17\" class=\"data row9 col17\" >0.501550</td>\n",
       "      <td id=\"T_ad224_row9_col18\" class=\"data row9 col18\" >0.501249</td>\n",
       "      <td id=\"T_ad224_row9_col19\" class=\"data row9 col19\" >0.500579</td>\n",
       "      <td id=\"T_ad224_row9_col20\" class=\"data row9 col20\" >0.501502</td>\n",
       "      <td id=\"T_ad224_row9_col21\" class=\"data row9 col21\" >0.501120</td>\n",
       "      <td id=\"T_ad224_row9_col22\" class=\"data row9 col22\" >0.501400</td>\n",
       "      <td id=\"T_ad224_row9_col23\" class=\"data row9 col23\" >0.501162</td>\n",
       "      <td id=\"T_ad224_row9_col24\" class=\"data row9 col24\" >0.501607</td>\n",
       "      <td id=\"T_ad224_row9_col25\" class=\"data row9 col25\" >0.501393</td>\n",
       "      <td id=\"T_ad224_row9_col26\" class=\"data row9 col26\" >0.500539</td>\n",
       "      <td id=\"T_ad224_row9_col27\" class=\"data row9 col27\" >0.501558</td>\n",
       "      <td id=\"T_ad224_row9_col28\" class=\"data row9 col28\" >0.500586</td>\n",
       "      <td id=\"T_ad224_row9_col29\" class=\"data row9 col29\" >0.501231</td>\n",
       "    </tr>\n",
       "  </tbody>\n",
       "</table>\n"
      ],
      "text/plain": [
       "<pandas.io.formats.style.Styler at 0x7f8f0caaf940>"
      ]
     },
     "execution_count": 112,
     "metadata": {},
     "output_type": "execute_result"
    }
   ],
   "source": [
    "stats_df[\"mi\"][\"full\"].style.highlight_max(axis=0)"
   ]
  },
  {
   "cell_type": "code",
   "execution_count": 119,
   "id": "d527b244",
   "metadata": {
    "ExecuteTime": {
     "end_time": "2023-01-22T20:10:47.656590Z",
     "start_time": "2023-01-22T20:10:47.647920Z"
    }
   },
   "outputs": [
    {
     "data": {
      "text/plain": [
       "0.5024390241159054"
      ]
     },
     "execution_count": 119,
     "metadata": {},
     "output_type": "execute_result"
    }
   ],
   "source": [
    "get_describe(stats_df[\"mi\"][\"full\"], axis=1)[0][\"mean\"].max()"
   ]
  },
  {
   "cell_type": "markdown",
   "id": "5b7b6782",
   "metadata": {},
   "source": [
    "# Make Chart"
   ]
  },
  {
   "cell_type": "code",
   "execution_count": 114,
   "id": "03741ab6",
   "metadata": {
    "ExecuteTime": {
     "end_time": "2023-01-22T20:09:28.564154Z",
     "start_time": "2023-01-22T20:09:28.561228Z"
    }
   },
   "outputs": [],
   "source": [
    "best_dim = {\"AgNews\": 8, \"20News\": 80}"
   ]
  },
  {
   "cell_type": "code",
   "execution_count": 115,
   "id": "f033721b",
   "metadata": {
    "ExecuteTime": {
     "end_time": "2023-01-22T20:09:28.800340Z",
     "start_time": "2023-01-22T20:09:28.783957Z"
    },
    "scrolled": true
   },
   "outputs": [
    {
     "ename": "KeyError",
     "evalue": "'AgNewsTitle'",
     "output_type": "error",
     "traceback": [
      "\u001b[0;31m---------------------------------------------------------------------------\u001b[0m",
      "\u001b[0;31mKeyError\u001b[0m                                  Traceback (most recent call last)",
      "Cell \u001b[0;32mIn[115], line 2\u001b[0m\n\u001b[1;32m      1\u001b[0m chart_data \u001b[38;5;241m=\u001b[39m {}\n\u001b[0;32m----> 2\u001b[0m chart_data[\u001b[38;5;124m\"\u001b[39m\u001b[38;5;124mdoc2vec\u001b[39m\u001b[38;5;124m\"\u001b[39m] \u001b[38;5;241m=\u001b[39m data_stats[\u001b[38;5;124m\"\u001b[39m\u001b[38;5;124mdoc2vec\u001b[39m\u001b[38;5;124m\"\u001b[39m][\u001b[38;5;124m\"\u001b[39m\u001b[38;5;124mmi\u001b[39m\u001b[38;5;124m\"\u001b[39m][\u001b[38;5;124m\"\u001b[39m\u001b[38;5;124mmean\u001b[39m\u001b[38;5;124m\"\u001b[39m]\u001b[38;5;241m.\u001b[39mloc[\u001b[43mbest_dim\u001b[49m\u001b[43m[\u001b[49m\u001b[43mdata_type\u001b[49m\u001b[43m]\u001b[49m, :]\n\u001b[1;32m      3\u001b[0m chart_data[\u001b[38;5;124m\"\u001b[39m\u001b[38;5;124msentenceBERT\u001b[39m\u001b[38;5;124m\"\u001b[39m] \u001b[38;5;241m=\u001b[39m data_stats[\u001b[38;5;124m\"\u001b[39m\u001b[38;5;124msentenceBERT\u001b[39m\u001b[38;5;124m\"\u001b[39m][\u001b[38;5;124m\"\u001b[39m\u001b[38;5;124mmi\u001b[39m\u001b[38;5;124m\"\u001b[39m][\u001b[38;5;124m\"\u001b[39m\u001b[38;5;124mmean\u001b[39m\u001b[38;5;124m\"\u001b[39m]\u001b[38;5;241m.\u001b[39mloc[\u001b[38;5;241m384\u001b[39m, :]\n",
      "\u001b[0;31mKeyError\u001b[0m: 'AgNewsTitle'"
     ]
    }
   ],
   "source": [
    "chart_data = {}\n",
    "chart_data[\"doc2vec\"] = data_stats[\"doc2vec\"][\"mi\"][\"mean\"].loc[best_dim[data_type], :]\n",
    "chart_data[\"sentenceBERT\"] = data_stats[\"sentenceBERT\"][\"mi\"][\"mean\"].loc[384, :]"
   ]
  },
  {
   "cell_type": "code",
   "execution_count": 116,
   "id": "cf4d8263",
   "metadata": {
    "ExecuteTime": {
     "end_time": "2023-01-22T20:09:28.980647Z",
     "start_time": "2023-01-22T20:09:28.973868Z"
    }
   },
   "outputs": [
    {
     "data": {
      "text/html": [
       "<div>\n",
       "<style scoped>\n",
       "    .dataframe tbody tr th:only-of-type {\n",
       "        vertical-align: middle;\n",
       "    }\n",
       "\n",
       "    .dataframe tbody tr th {\n",
       "        vertical-align: top;\n",
       "    }\n",
       "\n",
       "    .dataframe thead th {\n",
       "        text-align: right;\n",
       "    }\n",
       "</style>\n",
       "<table border=\"1\" class=\"dataframe\">\n",
       "  <thead>\n",
       "    <tr style=\"text-align: right;\">\n",
       "      <th></th>\n",
       "    </tr>\n",
       "  </thead>\n",
       "  <tbody>\n",
       "  </tbody>\n",
       "</table>\n",
       "</div>"
      ],
      "text/plain": [
       "Empty DataFrame\n",
       "Columns: []\n",
       "Index: []"
      ]
     },
     "execution_count": 116,
     "metadata": {},
     "output_type": "execute_result"
    }
   ],
   "source": [
    "pd.DataFrame(chart_data)"
   ]
  },
  {
   "cell_type": "code",
   "execution_count": 97,
   "id": "5c9dda3c",
   "metadata": {
    "ExecuteTime": {
     "end_time": "2023-01-20T21:01:19.560966Z",
     "start_time": "2023-01-20T21:01:19.557338Z"
    },
    "scrolled": true
   },
   "outputs": [],
   "source": [
    "chart_df = pd.DataFrame(chart_data)"
   ]
  },
  {
   "cell_type": "code",
   "execution_count": 98,
   "id": "16874164",
   "metadata": {
    "ExecuteTime": {
     "end_time": "2023-01-20T21:01:19.774546Z",
     "start_time": "2023-01-20T21:01:19.767708Z"
    }
   },
   "outputs": [
    {
     "data": {
      "text/html": [
       "<style type=\"text/css\">\n",
       "</style>\n",
       "<table id=\"T_78505\">\n",
       "  <thead>\n",
       "    <tr>\n",
       "      <th class=\"blank level0\" >&nbsp;</th>\n",
       "      <th id=\"T_78505_level0_col0\" class=\"col_heading level0 col0\" >spherical</th>\n",
       "      <th id=\"T_78505_level0_col1\" class=\"col_heading level0 col1\" >diag</th>\n",
       "      <th id=\"T_78505_level0_col2\" class=\"col_heading level0 col2\" >full</th>\n",
       "    </tr>\n",
       "  </thead>\n",
       "  <tbody>\n",
       "    <tr>\n",
       "      <th id=\"T_78505_level0_row0\" class=\"row_heading level0 row0\" >doc2vec</th>\n",
       "      <td id=\"T_78505_row0_col0\" class=\"data row0 col0\" >0.535979</td>\n",
       "      <td id=\"T_78505_row0_col1\" class=\"data row0 col1\" >0.535291</td>\n",
       "      <td id=\"T_78505_row0_col2\" class=\"data row0 col2\" >0.522142</td>\n",
       "    </tr>\n",
       "    <tr>\n",
       "      <th id=\"T_78505_level0_row1\" class=\"row_heading level0 row1\" >sentenceBERT</th>\n",
       "      <td id=\"T_78505_row1_col0\" class=\"data row1 col0\" >0.582425</td>\n",
       "      <td id=\"T_78505_row1_col1\" class=\"data row1 col1\" >0.590015</td>\n",
       "      <td id=\"T_78505_row1_col2\" class=\"data row1 col2\" >0.593456</td>\n",
       "    </tr>\n",
       "  </tbody>\n",
       "</table>\n"
      ],
      "text/plain": [
       "<pandas.io.formats.style.Styler at 0x7f8f0cb883d0>"
      ]
     },
     "execution_count": 98,
     "metadata": {},
     "output_type": "execute_result"
    }
   ],
   "source": [
    "chart_df.T.style.format(\n",
    "    escape=\"latex\", formatter={\"document_count\": \"{:.0f}\"}\n",
    ")"
   ]
  },
  {
   "cell_type": "code",
   "execution_count": 99,
   "id": "38c2dd8e",
   "metadata": {
    "ExecuteTime": {
     "end_time": "2023-01-20T21:01:20.051988Z",
     "start_time": "2023-01-20T21:01:20.047411Z"
    },
    "scrolled": true
   },
   "outputs": [],
   "source": [
    "chart_df.to_csv(make_filepath(f\"../data/{data_type}/CovarianceChart.csv\"))"
   ]
  },
  {
   "cell_type": "code",
   "execution_count": 100,
   "id": "8aa6d62c",
   "metadata": {
    "ExecuteTime": {
     "end_time": "2023-01-20T21:01:20.848266Z",
     "start_time": "2023-01-20T21:01:20.842226Z"
    }
   },
   "outputs": [
    {
     "name": "stdout",
     "output_type": "stream",
     "text": [
      "\\begin{table}[h]\n",
      "\\centering\n",
      "\\caption{miの比較と埋め込み次元}\n",
      "\\label{table:1}\n",
      "\\begin{tabular}{rrrr}\n",
      "\\toprule\n",
      " & spherical & diag & full \\\\\n",
      "\\midrule\n",
      "doc2vec & 0.536 & 0.535 & 0.522 \\\\\n",
      "sentenceBERT & 0.582 & 0.590 & 0.593 \\\\\n",
      "\\bottomrule\n",
      "\\end{tabular}\n",
      "\\end{table}\n",
      "\n"
     ]
    }
   ],
   "source": [
    "print(\n",
    "    chart_df.T\n",
    "    .style.format(precision=3, escape=\"latex\")\n",
    "    .to_latex(\n",
    "        column_format=\"rrrr\",\n",
    "        position=\"h\",\n",
    "        position_float=\"centering\",\n",
    "        hrules=True,\n",
    "        caption=\"miの比較と埋め込み次元\",\n",
    "        label=\"table:1\",\n",
    "        multicol_align=\"r\",\n",
    "    )\n",
    ")"
   ]
  },
  {
   "cell_type": "code",
   "execution_count": null,
   "id": "f95c37c1",
   "metadata": {},
   "outputs": [],
   "source": []
  },
  {
   "cell_type": "code",
   "execution_count": null,
   "id": "d1e956bf",
   "metadata": {},
   "outputs": [],
   "source": []
  },
  {
   "cell_type": "code",
   "execution_count": null,
   "id": "0aee9277",
   "metadata": {},
   "outputs": [],
   "source": []
  }
 ],
 "metadata": {
  "kernelspec": {
   "display_name": "Python 3 (ipykernel)",
   "language": "python",
   "name": "python3"
  },
  "language_info": {
   "codemirror_mode": {
    "name": "ipython",
    "version": 3
   },
   "file_extension": ".py",
   "mimetype": "text/x-python",
   "name": "python",
   "nbconvert_exporter": "python",
   "pygments_lexer": "ipython3",
   "version": "3.10.8"
  },
  "toc": {
   "base_numbering": 1,
   "nav_menu": {},
   "number_sections": true,
   "sideBar": true,
   "skip_h1_title": false,
   "title_cell": "Table of Contents",
   "title_sidebar": "Contents",
   "toc_cell": false,
   "toc_position": {},
   "toc_section_display": true,
   "toc_window_display": false
  }
 },
 "nbformat": 4,
 "nbformat_minor": 5
}
