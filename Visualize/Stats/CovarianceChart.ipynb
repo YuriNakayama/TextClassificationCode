{
 "cells": [
  {
   "cell_type": "markdown",
   "id": "b95f9187",
   "metadata": {},
   "source": [
    "# Import"
   ]
  },
  {
   "cell_type": "code",
   "execution_count": 113,
   "id": "80a85ab5",
   "metadata": {
    "ExecuteTime": {
     "end_time": "2023-01-04T10:46:50.100967Z",
     "start_time": "2023-01-04T10:46:50.097574Z"
    }
   },
   "outputs": [],
   "source": [
    "import csv\n",
    "import os\n",
    "import pickle\n",
    "import sys\n",
    "\n",
    "import matplotlib.pyplot as plt\n",
    "import seaborn as sns\n",
    "import numpy as np\n",
    "import pandas as pd\n",
    "from tqdm import tqdm"
   ]
  },
  {
   "cell_type": "markdown",
   "id": "2543f4e4",
   "metadata": {},
   "source": [
    "## Add configuration file"
   ]
  },
  {
   "cell_type": "code",
   "execution_count": 114,
   "id": "b62547de",
   "metadata": {
    "ExecuteTime": {
     "end_time": "2023-01-04T10:46:50.112679Z",
     "start_time": "2023-01-04T10:46:50.103653Z"
    }
   },
   "outputs": [],
   "source": [
    "sys.path.append(\"/home/jovyan/core/config/\")\n",
    "sys.path.append(\"/home/jovyan/core/util/\")\n",
    "sys.path.append(\"../PlotFunction/lineplot/\")\n",
    "sys.path.append(\"../PlotFunction/config/\")"
   ]
  },
  {
   "cell_type": "code",
   "execution_count": 115,
   "id": "84da401b",
   "metadata": {
    "ExecuteTime": {
     "end_time": "2023-01-04T10:46:50.120439Z",
     "start_time": "2023-01-04T10:46:50.115628Z"
    }
   },
   "outputs": [],
   "source": [
    "from ALL import config\n",
    "from line_plot_1 import line_plot_1\n",
    "from line_plot_error_1 import line_plot_error_1\n",
    "from line_plot_1_layout import layout\n",
    "from util import *"
   ]
  },
  {
   "cell_type": "markdown",
   "id": "9330548e",
   "metadata": {},
   "source": [
    "## Set condition"
   ]
  },
  {
   "cell_type": "code",
   "execution_count": 116,
   "id": "a30f3623",
   "metadata": {
    "ExecuteTime": {
     "end_time": "2023-01-04T10:46:50.128708Z",
     "start_time": "2023-01-04T10:46:50.122876Z"
    }
   },
   "outputs": [],
   "source": [
    "tqdm.pandas()\n",
    "pd.set_option(\"display.max_columns\", 100)\n",
    "pd.set_option(\"display.max_rows\", 50)"
   ]
  },
  {
   "cell_type": "code",
   "execution_count": 117,
   "id": "437dc5a7",
   "metadata": {
    "ExecuteTime": {
     "end_time": "2023-01-04T10:46:50.136286Z",
     "start_time": "2023-01-04T10:46:50.131893Z"
    }
   },
   "outputs": [],
   "source": [
    "data_type = \"AgNews\"\n",
    "vectorize_types = [\"doc2vec\", \"sentenceBERT\"]"
   ]
  },
  {
   "cell_type": "code",
   "execution_count": 118,
   "id": "c112357f",
   "metadata": {
    "ExecuteTime": {
     "end_time": "2023-01-04T10:46:50.144968Z",
     "start_time": "2023-01-04T10:46:50.138651Z"
    }
   },
   "outputs": [],
   "source": [
    "model_nums = config[\"clustering\"][\"gmm\"][\"max_model_num\"]\n",
    "covariance_types = config[\"clustering\"][\"gmm\"][\"covariance_types\"]\n",
    "normalization = \"normalized\"\n",
    "covariance_types = [\"spherical\", \"diag\", \"full\"]\n",
    "vector_dims = {\n",
    "    \"doc2vec\": config[\"vectorize\"][\"doc2vec\"][\"dims\"],\n",
    "    \"sentenceBERT\": config[\"vectorize\"][\"sentenceBERT\"][\"dims\"] + [384],\n",
    "}"
   ]
  },
  {
   "cell_type": "code",
   "execution_count": 119,
   "id": "8847dbdc",
   "metadata": {
    "ExecuteTime": {
     "end_time": "2023-01-04T10:46:50.152342Z",
     "start_time": "2023-01-04T10:46:50.147454Z"
    }
   },
   "outputs": [],
   "source": [
    "stats_vals = [\"aic\", \"bic\", \"mi\", \"logl\"]"
   ]
  },
  {
   "cell_type": "markdown",
   "id": "296aba6f",
   "metadata": {},
   "source": [
    "# Stats"
   ]
  },
  {
   "cell_type": "markdown",
   "id": "52c60a4f",
   "metadata": {},
   "source": [
    "## Read data"
   ]
  },
  {
   "cell_type": "code",
   "execution_count": 120,
   "id": "f7feee05",
   "metadata": {
    "ExecuteTime": {
     "end_time": "2023-01-04T10:46:50.161855Z",
     "start_time": "2023-01-04T10:46:50.156502Z"
    },
    "code_folding": [
     0
    ]
   },
   "outputs": [],
   "source": [
    "def load_stats_data(vectorize_type, stats_vals, covariance_types, model_nums):\n",
    "    # データ型定義\n",
    "    stats = {\n",
    "        stats_val: {\n",
    "            covariance_type: {\n",
    "                model_num: pd.DataFrame for model_num in range(model_nums)\n",
    "            }\n",
    "            for covariance_type in covariance_types\n",
    "        }\n",
    "        for stats_val in stats_vals\n",
    "    }\n",
    "\n",
    "    # データ取得\n",
    "    for stats_val in stats_vals:\n",
    "        for covariance_type in covariance_types:\n",
    "            for model_num in range(model_nums):\n",
    "                stats_path = f\"../../Postprocessing/data/{data_type}/{vectorize_type}/GMM/stats/{normalization}/{covariance_type}/{model_num}.csv\"\n",
    "                df = pd.read_csv(stats_path, index_col=0)\n",
    "                stats[stats_val][covariance_type][model_num] = df.loc[:, stats_val]\n",
    "    return stats"
   ]
  },
  {
   "cell_type": "code",
   "execution_count": 121,
   "id": "409ccf32",
   "metadata": {
    "ExecuteTime": {
     "end_time": "2023-01-04T10:46:50.171603Z",
     "start_time": "2023-01-04T10:46:50.163979Z"
    }
   },
   "outputs": [],
   "source": [
    "def load_lda_mi(data_type):\n",
    "    lda_mi = pd.read_csv(\n",
    "        f\"../../Postprocessing/data/{data_type}/LDA/mi.csv\", index_col=0\n",
    "    )\n",
    "    describe_lda_mi, _ = get_describe(lda_mi, axis=0)\n",
    "    return describe_lda_mi"
   ]
  },
  {
   "cell_type": "code",
   "execution_count": 122,
   "id": "1af35966",
   "metadata": {
    "ExecuteTime": {
     "end_time": "2023-01-04T10:46:51.465784Z",
     "start_time": "2023-01-04T10:46:50.174075Z"
    }
   },
   "outputs": [],
   "source": [
    "stats_dict = {}\n",
    "for vectorize_type in vectorize_types:\n",
    "    stats_dict[vectorize_type] = load_stats_data(\n",
    "        vectorize_type, stats_vals, covariance_types, model_nums\n",
    "    )"
   ]
  },
  {
   "cell_type": "code",
   "execution_count": 123,
   "id": "59a86bcc",
   "metadata": {
    "ExecuteTime": {
     "end_time": "2023-01-04T10:46:51.478994Z",
     "start_time": "2023-01-04T10:46:51.469485Z"
    }
   },
   "outputs": [],
   "source": [
    "describe_lda_mi = load_lda_mi(data_type)"
   ]
  },
  {
   "cell_type": "markdown",
   "id": "c963c854",
   "metadata": {},
   "source": [
    "## Data shaping"
   ]
  },
  {
   "cell_type": "code",
   "execution_count": 124,
   "id": "ee2c3cdf",
   "metadata": {
    "ExecuteTime": {
     "end_time": "2023-01-04T10:46:51.488303Z",
     "start_time": "2023-01-04T10:46:51.483487Z"
    },
    "code_folding": [
     0
    ]
   },
   "outputs": [],
   "source": [
    "def shape_stats_df(stats):\n",
    "    stats_df = {\n",
    "        stats_val: {covariance_type: pd.DataFrame() for covariance_type in covariance_types}\n",
    "        for stats_val in stats_vals\n",
    "    }\n",
    "\n",
    "    for stats_val in stats_vals:\n",
    "        for covariance_type in covariance_types:\n",
    "            # model_numについて取得データstatsを結合\n",
    "            stats_df[stats_val][covariance_type] = pd.concat(\n",
    "                stats[stats_val][covariance_type], axis=1\n",
    "            )\n",
    "    return stats_df"
   ]
  },
  {
   "cell_type": "code",
   "execution_count": 125,
   "id": "ad3c2855",
   "metadata": {
    "ExecuteTime": {
     "end_time": "2023-01-04T10:46:51.496496Z",
     "start_time": "2023-01-04T10:46:51.490827Z"
    },
    "code_folding": [
     0
    ]
   },
   "outputs": [],
   "source": [
    "def shape_describe(stats_df):\n",
    "    describe = {\n",
    "        stats_val: {covariance_type: dict() for covariance_type in covariance_types}\n",
    "        for stats_val in stats_vals\n",
    "    }\n",
    "\n",
    "    for stats_val in stats_vals:\n",
    "        for covariance_type in covariance_types:\n",
    "            describe[stats_val][covariance_type], describe_keys = get_describe(\n",
    "                stats_df[stats_val][covariance_type], axis=1\n",
    "            )\n",
    "    return describe, describe_keys"
   ]
  },
  {
   "cell_type": "code",
   "execution_count": 126,
   "id": "d4c180f0",
   "metadata": {
    "ExecuteTime": {
     "end_time": "2023-01-04T10:46:51.507882Z",
     "start_time": "2023-01-04T10:46:51.498592Z"
    },
    "code_folding": [
     0,
     1
    ]
   },
   "outputs": [],
   "source": [
    "def shape_data(describe, describe_keys):\n",
    "    data = {\n",
    "        stats_val: {describe_key: pd.DataFrame() for describe_key in describe_keys}\n",
    "        for stats_val in stats_vals\n",
    "    }\n",
    "    for stats_val in stats_vals:\n",
    "        for describe_key in describe_keys:\n",
    "            # covariance_typeについてデータを結合\n",
    "            _data = {\n",
    "                covariance_type: describe[stats_val][covariance_type][describe_key]\n",
    "                for covariance_type in covariance_types\n",
    "            }\n",
    "            data[stats_val][describe_key] = pd.concat(_data, axis=1)\n",
    "    return data"
   ]
  },
  {
   "cell_type": "code",
   "execution_count": 127,
   "id": "ef827e1b",
   "metadata": {
    "ExecuteTime": {
     "end_time": "2023-01-04T10:46:51.713726Z",
     "start_time": "2023-01-04T10:46:51.510291Z"
    },
    "code_folding": []
   },
   "outputs": [],
   "source": [
    "data_stats = {}\n",
    "for vectorize_type, stats in stats_dict.items():\n",
    "    stats_df = shape_stats_df(stats)\n",
    "    describe, describe_keys = shape_describe(stats_df)\n",
    "    data_stats[vectorize_type] = shape_data(describe, describe_keys)"
   ]
  },
  {
   "cell_type": "code",
   "execution_count": 128,
   "id": "24493214",
   "metadata": {
    "ExecuteTime": {
     "end_time": "2023-01-04T10:46:51.754818Z",
     "start_time": "2023-01-04T10:46:51.716149Z"
    },
    "scrolled": true
   },
   "outputs": [
    {
     "data": {
      "text/html": [
       "<style type=\"text/css\">\n",
       "#T_43054_row1_col26, #T_43054_row2_col1, #T_43054_row2_col2, #T_43054_row2_col3, #T_43054_row2_col4, #T_43054_row2_col5, #T_43054_row2_col6, #T_43054_row2_col8, #T_43054_row2_col9, #T_43054_row2_col12, #T_43054_row2_col13, #T_43054_row2_col14, #T_43054_row2_col15, #T_43054_row2_col16, #T_43054_row2_col17, #T_43054_row2_col18, #T_43054_row2_col21, #T_43054_row2_col22, #T_43054_row2_col23, #T_43054_row2_col24, #T_43054_row2_col25, #T_43054_row2_col27, #T_43054_row2_col28, #T_43054_row2_col29, #T_43054_row3_col7, #T_43054_row3_col10, #T_43054_row3_col11, #T_43054_row3_col19, #T_43054_row3_col20, #T_43054_row9_col0 {\n",
       "  background-color: yellow;\n",
       "}\n",
       "</style>\n",
       "<table id=\"T_43054\">\n",
       "  <thead>\n",
       "    <tr>\n",
       "      <th class=\"blank level0\" >&nbsp;</th>\n",
       "      <th id=\"T_43054_level0_col0\" class=\"col_heading level0 col0\" >0</th>\n",
       "      <th id=\"T_43054_level0_col1\" class=\"col_heading level0 col1\" >1</th>\n",
       "      <th id=\"T_43054_level0_col2\" class=\"col_heading level0 col2\" >2</th>\n",
       "      <th id=\"T_43054_level0_col3\" class=\"col_heading level0 col3\" >3</th>\n",
       "      <th id=\"T_43054_level0_col4\" class=\"col_heading level0 col4\" >4</th>\n",
       "      <th id=\"T_43054_level0_col5\" class=\"col_heading level0 col5\" >5</th>\n",
       "      <th id=\"T_43054_level0_col6\" class=\"col_heading level0 col6\" >6</th>\n",
       "      <th id=\"T_43054_level0_col7\" class=\"col_heading level0 col7\" >7</th>\n",
       "      <th id=\"T_43054_level0_col8\" class=\"col_heading level0 col8\" >8</th>\n",
       "      <th id=\"T_43054_level0_col9\" class=\"col_heading level0 col9\" >9</th>\n",
       "      <th id=\"T_43054_level0_col10\" class=\"col_heading level0 col10\" >10</th>\n",
       "      <th id=\"T_43054_level0_col11\" class=\"col_heading level0 col11\" >11</th>\n",
       "      <th id=\"T_43054_level0_col12\" class=\"col_heading level0 col12\" >12</th>\n",
       "      <th id=\"T_43054_level0_col13\" class=\"col_heading level0 col13\" >13</th>\n",
       "      <th id=\"T_43054_level0_col14\" class=\"col_heading level0 col14\" >14</th>\n",
       "      <th id=\"T_43054_level0_col15\" class=\"col_heading level0 col15\" >15</th>\n",
       "      <th id=\"T_43054_level0_col16\" class=\"col_heading level0 col16\" >16</th>\n",
       "      <th id=\"T_43054_level0_col17\" class=\"col_heading level0 col17\" >17</th>\n",
       "      <th id=\"T_43054_level0_col18\" class=\"col_heading level0 col18\" >18</th>\n",
       "      <th id=\"T_43054_level0_col19\" class=\"col_heading level0 col19\" >19</th>\n",
       "      <th id=\"T_43054_level0_col20\" class=\"col_heading level0 col20\" >20</th>\n",
       "      <th id=\"T_43054_level0_col21\" class=\"col_heading level0 col21\" >21</th>\n",
       "      <th id=\"T_43054_level0_col22\" class=\"col_heading level0 col22\" >22</th>\n",
       "      <th id=\"T_43054_level0_col23\" class=\"col_heading level0 col23\" >23</th>\n",
       "      <th id=\"T_43054_level0_col24\" class=\"col_heading level0 col24\" >24</th>\n",
       "      <th id=\"T_43054_level0_col25\" class=\"col_heading level0 col25\" >25</th>\n",
       "      <th id=\"T_43054_level0_col26\" class=\"col_heading level0 col26\" >26</th>\n",
       "      <th id=\"T_43054_level0_col27\" class=\"col_heading level0 col27\" >27</th>\n",
       "      <th id=\"T_43054_level0_col28\" class=\"col_heading level0 col28\" >28</th>\n",
       "      <th id=\"T_43054_level0_col29\" class=\"col_heading level0 col29\" >29</th>\n",
       "    </tr>\n",
       "  </thead>\n",
       "  <tbody>\n",
       "    <tr>\n",
       "      <th id=\"T_43054_level0_row0\" class=\"row_heading level0 row0\" >2</th>\n",
       "      <td id=\"T_43054_row0_col0\" class=\"data row0 col0\" >0.411392</td>\n",
       "      <td id=\"T_43054_row0_col1\" class=\"data row0 col1\" >0.369643</td>\n",
       "      <td id=\"T_43054_row0_col2\" class=\"data row0 col2\" >0.369701</td>\n",
       "      <td id=\"T_43054_row0_col3\" class=\"data row0 col3\" >0.369692</td>\n",
       "      <td id=\"T_43054_row0_col4\" class=\"data row0 col4\" >0.369743</td>\n",
       "      <td id=\"T_43054_row0_col5\" class=\"data row0 col5\" >0.379131</td>\n",
       "      <td id=\"T_43054_row0_col6\" class=\"data row0 col6\" >0.369695</td>\n",
       "      <td id=\"T_43054_row0_col7\" class=\"data row0 col7\" >0.411385</td>\n",
       "      <td id=\"T_43054_row0_col8\" class=\"data row0 col8\" >0.369695</td>\n",
       "      <td id=\"T_43054_row0_col9\" class=\"data row0 col9\" >0.369630</td>\n",
       "      <td id=\"T_43054_row0_col10\" class=\"data row0 col10\" >0.411392</td>\n",
       "      <td id=\"T_43054_row0_col11\" class=\"data row0 col11\" >0.378910</td>\n",
       "      <td id=\"T_43054_row0_col12\" class=\"data row0 col12\" >0.411392</td>\n",
       "      <td id=\"T_43054_row0_col13\" class=\"data row0 col13\" >0.369675</td>\n",
       "      <td id=\"T_43054_row0_col14\" class=\"data row0 col14\" >0.379047</td>\n",
       "      <td id=\"T_43054_row0_col15\" class=\"data row0 col15\" >0.369643</td>\n",
       "      <td id=\"T_43054_row0_col16\" class=\"data row0 col16\" >0.369695</td>\n",
       "      <td id=\"T_43054_row0_col17\" class=\"data row0 col17\" >0.383159</td>\n",
       "      <td id=\"T_43054_row0_col18\" class=\"data row0 col18\" >0.378996</td>\n",
       "      <td id=\"T_43054_row0_col19\" class=\"data row0 col19\" >0.378952</td>\n",
       "      <td id=\"T_43054_row0_col20\" class=\"data row0 col20\" >0.383186</td>\n",
       "      <td id=\"T_43054_row0_col21\" class=\"data row0 col21\" >0.369701</td>\n",
       "      <td id=\"T_43054_row0_col22\" class=\"data row0 col22\" >0.369695</td>\n",
       "      <td id=\"T_43054_row0_col23\" class=\"data row0 col23\" >0.369695</td>\n",
       "      <td id=\"T_43054_row0_col24\" class=\"data row0 col24\" >0.369630</td>\n",
       "      <td id=\"T_43054_row0_col25\" class=\"data row0 col25\" >0.369695</td>\n",
       "      <td id=\"T_43054_row0_col26\" class=\"data row0 col26\" >0.411392</td>\n",
       "      <td id=\"T_43054_row0_col27\" class=\"data row0 col27\" >0.369690</td>\n",
       "      <td id=\"T_43054_row0_col28\" class=\"data row0 col28\" >0.379256</td>\n",
       "      <td id=\"T_43054_row0_col29\" class=\"data row0 col29\" >0.379014</td>\n",
       "    </tr>\n",
       "    <tr>\n",
       "      <th id=\"T_43054_level0_row1\" class=\"row_heading level0 row1\" >4</th>\n",
       "      <td id=\"T_43054_row1_col0\" class=\"data row1 col0\" >0.609050</td>\n",
       "      <td id=\"T_43054_row1_col1\" class=\"data row1 col1\" >0.609050</td>\n",
       "      <td id=\"T_43054_row1_col2\" class=\"data row1 col2\" >0.609073</td>\n",
       "      <td id=\"T_43054_row1_col3\" class=\"data row1 col3\" >0.611119</td>\n",
       "      <td id=\"T_43054_row1_col4\" class=\"data row1 col4\" >0.611101</td>\n",
       "      <td id=\"T_43054_row1_col5\" class=\"data row1 col5\" >0.609050</td>\n",
       "      <td id=\"T_43054_row1_col6\" class=\"data row1 col6\" >0.609050</td>\n",
       "      <td id=\"T_43054_row1_col7\" class=\"data row1 col7\" >0.611101</td>\n",
       "      <td id=\"T_43054_row1_col8\" class=\"data row1 col8\" >0.611114</td>\n",
       "      <td id=\"T_43054_row1_col9\" class=\"data row1 col9\" >0.609080</td>\n",
       "      <td id=\"T_43054_row1_col10\" class=\"data row1 col10\" >0.609073</td>\n",
       "      <td id=\"T_43054_row1_col11\" class=\"data row1 col11\" >0.609050</td>\n",
       "      <td id=\"T_43054_row1_col12\" class=\"data row1 col12\" >0.609050</td>\n",
       "      <td id=\"T_43054_row1_col13\" class=\"data row1 col13\" >0.609050</td>\n",
       "      <td id=\"T_43054_row1_col14\" class=\"data row1 col14\" >0.609050</td>\n",
       "      <td id=\"T_43054_row1_col15\" class=\"data row1 col15\" >0.609058</td>\n",
       "      <td id=\"T_43054_row1_col16\" class=\"data row1 col16\" >0.609058</td>\n",
       "      <td id=\"T_43054_row1_col17\" class=\"data row1 col17\" >0.609080</td>\n",
       "      <td id=\"T_43054_row1_col18\" class=\"data row1 col18\" >0.611101</td>\n",
       "      <td id=\"T_43054_row1_col19\" class=\"data row1 col19\" >0.609050</td>\n",
       "      <td id=\"T_43054_row1_col20\" class=\"data row1 col20\" >0.609058</td>\n",
       "      <td id=\"T_43054_row1_col21\" class=\"data row1 col21\" >0.609058</td>\n",
       "      <td id=\"T_43054_row1_col22\" class=\"data row1 col22\" >0.609050</td>\n",
       "      <td id=\"T_43054_row1_col23\" class=\"data row1 col23\" >0.609073</td>\n",
       "      <td id=\"T_43054_row1_col24\" class=\"data row1 col24\" >0.609050</td>\n",
       "      <td id=\"T_43054_row1_col25\" class=\"data row1 col25\" >0.609050</td>\n",
       "      <td id=\"T_43054_row1_col26\" class=\"data row1 col26\" >0.611114</td>\n",
       "      <td id=\"T_43054_row1_col27\" class=\"data row1 col27\" >0.609058</td>\n",
       "      <td id=\"T_43054_row1_col28\" class=\"data row1 col28\" >0.609050</td>\n",
       "      <td id=\"T_43054_row1_col29\" class=\"data row1 col29\" >0.609058</td>\n",
       "    </tr>\n",
       "    <tr>\n",
       "      <th id=\"T_43054_level0_row2\" class=\"row_heading level0 row2\" >6</th>\n",
       "      <td id=\"T_43054_row2_col0\" class=\"data row2 col0\" >0.591362</td>\n",
       "      <td id=\"T_43054_row2_col1\" class=\"data row2 col1\" >0.619362</td>\n",
       "      <td id=\"T_43054_row2_col2\" class=\"data row2 col2\" >0.619400</td>\n",
       "      <td id=\"T_43054_row2_col3\" class=\"data row2 col3\" >0.619362</td>\n",
       "      <td id=\"T_43054_row2_col4\" class=\"data row2 col4\" >0.619362</td>\n",
       "      <td id=\"T_43054_row2_col5\" class=\"data row2 col5\" >0.619400</td>\n",
       "      <td id=\"T_43054_row2_col6\" class=\"data row2 col6\" >0.619407</td>\n",
       "      <td id=\"T_43054_row2_col7\" class=\"data row2 col7\" >0.575024</td>\n",
       "      <td id=\"T_43054_row2_col8\" class=\"data row2 col8\" >0.619400</td>\n",
       "      <td id=\"T_43054_row2_col9\" class=\"data row2 col9\" >0.619392</td>\n",
       "      <td id=\"T_43054_row2_col10\" class=\"data row2 col10\" >0.539264</td>\n",
       "      <td id=\"T_43054_row2_col11\" class=\"data row2 col11\" >0.591353</td>\n",
       "      <td id=\"T_43054_row2_col12\" class=\"data row2 col12\" >0.619362</td>\n",
       "      <td id=\"T_43054_row2_col13\" class=\"data row2 col13\" >0.619362</td>\n",
       "      <td id=\"T_43054_row2_col14\" class=\"data row2 col14\" >0.619377</td>\n",
       "      <td id=\"T_43054_row2_col15\" class=\"data row2 col15\" >0.619370</td>\n",
       "      <td id=\"T_43054_row2_col16\" class=\"data row2 col16\" >0.619362</td>\n",
       "      <td id=\"T_43054_row2_col17\" class=\"data row2 col17\" >0.619400</td>\n",
       "      <td id=\"T_43054_row2_col18\" class=\"data row2 col18\" >0.619400</td>\n",
       "      <td id=\"T_43054_row2_col19\" class=\"data row2 col19\" >0.539264</td>\n",
       "      <td id=\"T_43054_row2_col20\" class=\"data row2 col20\" >0.591353</td>\n",
       "      <td id=\"T_43054_row2_col21\" class=\"data row2 col21\" >0.619385</td>\n",
       "      <td id=\"T_43054_row2_col22\" class=\"data row2 col22\" >0.619362</td>\n",
       "      <td id=\"T_43054_row2_col23\" class=\"data row2 col23\" >0.619392</td>\n",
       "      <td id=\"T_43054_row2_col24\" class=\"data row2 col24\" >0.619400</td>\n",
       "      <td id=\"T_43054_row2_col25\" class=\"data row2 col25\" >0.619400</td>\n",
       "      <td id=\"T_43054_row2_col26\" class=\"data row2 col26\" >0.591285</td>\n",
       "      <td id=\"T_43054_row2_col27\" class=\"data row2 col27\" >0.619392</td>\n",
       "      <td id=\"T_43054_row2_col28\" class=\"data row2 col28\" >0.619392</td>\n",
       "      <td id=\"T_43054_row2_col29\" class=\"data row2 col29\" >0.619392</td>\n",
       "    </tr>\n",
       "    <tr>\n",
       "      <th id=\"T_43054_level0_row3\" class=\"row_heading level0 row3\" >8</th>\n",
       "      <td id=\"T_43054_row3_col0\" class=\"data row3 col0\" >0.585515</td>\n",
       "      <td id=\"T_43054_row3_col1\" class=\"data row3 col1\" >0.525922</td>\n",
       "      <td id=\"T_43054_row3_col2\" class=\"data row3 col2\" >0.583474</td>\n",
       "      <td id=\"T_43054_row3_col3\" class=\"data row3 col3\" >0.612870</td>\n",
       "      <td id=\"T_43054_row3_col4\" class=\"data row3 col4\" >0.591226</td>\n",
       "      <td id=\"T_43054_row3_col5\" class=\"data row3 col5\" >0.583474</td>\n",
       "      <td id=\"T_43054_row3_col6\" class=\"data row3 col6\" >0.612870</td>\n",
       "      <td id=\"T_43054_row3_col7\" class=\"data row3 col7\" >0.612361</td>\n",
       "      <td id=\"T_43054_row3_col8\" class=\"data row3 col8\" >0.612878</td>\n",
       "      <td id=\"T_43054_row3_col9\" class=\"data row3 col9\" >0.612870</td>\n",
       "      <td id=\"T_43054_row3_col10\" class=\"data row3 col10\" >0.612361</td>\n",
       "      <td id=\"T_43054_row3_col11\" class=\"data row3 col11\" >0.612870</td>\n",
       "      <td id=\"T_43054_row3_col12\" class=\"data row3 col12\" >0.591302</td>\n",
       "      <td id=\"T_43054_row3_col13\" class=\"data row3 col13\" >0.575703</td>\n",
       "      <td id=\"T_43054_row3_col14\" class=\"data row3 col14\" >0.575649</td>\n",
       "      <td id=\"T_43054_row3_col15\" class=\"data row3 col15\" >0.612368</td>\n",
       "      <td id=\"T_43054_row3_col16\" class=\"data row3 col16\" >0.612368</td>\n",
       "      <td id=\"T_43054_row3_col17\" class=\"data row3 col17\" >0.612811</td>\n",
       "      <td id=\"T_43054_row3_col18\" class=\"data row3 col18\" >0.583439</td>\n",
       "      <td id=\"T_43054_row3_col19\" class=\"data row3 col19\" >0.612805</td>\n",
       "      <td id=\"T_43054_row3_col20\" class=\"data row3 col20\" >0.612870</td>\n",
       "      <td id=\"T_43054_row3_col21\" class=\"data row3 col21\" >0.612781</td>\n",
       "      <td id=\"T_43054_row3_col22\" class=\"data row3 col22\" >0.583393</td>\n",
       "      <td id=\"T_43054_row3_col23\" class=\"data row3 col23\" >0.612368</td>\n",
       "      <td id=\"T_43054_row3_col24\" class=\"data row3 col24\" >0.612844</td>\n",
       "      <td id=\"T_43054_row3_col25\" class=\"data row3 col25\" >0.612376</td>\n",
       "      <td id=\"T_43054_row3_col26\" class=\"data row3 col26\" >0.575697</td>\n",
       "      <td id=\"T_43054_row3_col27\" class=\"data row3 col27\" >0.585238</td>\n",
       "      <td id=\"T_43054_row3_col28\" class=\"data row3 col28\" >0.525922</td>\n",
       "      <td id=\"T_43054_row3_col29\" class=\"data row3 col29\" >0.525922</td>\n",
       "    </tr>\n",
       "    <tr>\n",
       "      <th id=\"T_43054_level0_row4\" class=\"row_heading level0 row4\" >10</th>\n",
       "      <td id=\"T_43054_row4_col0\" class=\"data row4 col0\" >0.523871</td>\n",
       "      <td id=\"T_43054_row4_col1\" class=\"data row4 col1\" >0.585483</td>\n",
       "      <td id=\"T_43054_row4_col2\" class=\"data row4 col2\" >0.607121</td>\n",
       "      <td id=\"T_43054_row4_col3\" class=\"data row4 col3\" >0.579297</td>\n",
       "      <td id=\"T_43054_row4_col4\" class=\"data row4 col4\" >0.554333</td>\n",
       "      <td id=\"T_43054_row4_col5\" class=\"data row4 col5\" >0.523871</td>\n",
       "      <td id=\"T_43054_row4_col6\" class=\"data row4 col6\" >0.607135</td>\n",
       "      <td id=\"T_43054_row4_col7\" class=\"data row4 col7\" >0.607106</td>\n",
       "      <td id=\"T_43054_row4_col8\" class=\"data row4 col8\" >0.607092</td>\n",
       "      <td id=\"T_43054_row4_col9\" class=\"data row4 col9\" >0.579297</td>\n",
       "      <td id=\"T_43054_row4_col10\" class=\"data row4 col10\" >0.607106</td>\n",
       "      <td id=\"T_43054_row4_col11\" class=\"data row4 col11\" >0.607121</td>\n",
       "      <td id=\"T_43054_row4_col12\" class=\"data row4 col12\" >0.585279</td>\n",
       "      <td id=\"T_43054_row4_col13\" class=\"data row4 col13\" >0.607121</td>\n",
       "      <td id=\"T_43054_row4_col14\" class=\"data row4 col14\" >0.607121</td>\n",
       "      <td id=\"T_43054_row4_col15\" class=\"data row4 col15\" >0.607135</td>\n",
       "      <td id=\"T_43054_row4_col16\" class=\"data row4 col16\" >0.585472</td>\n",
       "      <td id=\"T_43054_row4_col17\" class=\"data row4 col17\" >0.523871</td>\n",
       "      <td id=\"T_43054_row4_col18\" class=\"data row4 col18\" >0.607121</td>\n",
       "      <td id=\"T_43054_row4_col19\" class=\"data row4 col19\" >0.585483</td>\n",
       "      <td id=\"T_43054_row4_col20\" class=\"data row4 col20\" >0.607121</td>\n",
       "      <td id=\"T_43054_row4_col21\" class=\"data row4 col21\" >0.607121</td>\n",
       "      <td id=\"T_43054_row4_col22\" class=\"data row4 col22\" >0.607091</td>\n",
       "      <td id=\"T_43054_row4_col23\" class=\"data row4 col23\" >0.607106</td>\n",
       "      <td id=\"T_43054_row4_col24\" class=\"data row4 col24\" >0.579206</td>\n",
       "      <td id=\"T_43054_row4_col25\" class=\"data row4 col25\" >0.607106</td>\n",
       "      <td id=\"T_43054_row4_col26\" class=\"data row4 col26\" >0.579267</td>\n",
       "      <td id=\"T_43054_row4_col27\" class=\"data row4 col27\" >0.607135</td>\n",
       "      <td id=\"T_43054_row4_col28\" class=\"data row4 col28\" >0.607121</td>\n",
       "      <td id=\"T_43054_row4_col29\" class=\"data row4 col29\" >0.585472</td>\n",
       "    </tr>\n",
       "    <tr>\n",
       "      <th id=\"T_43054_level0_row5\" class=\"row_heading level0 row5\" >20</th>\n",
       "      <td id=\"T_43054_row5_col0\" class=\"data row5 col0\" >0.599257</td>\n",
       "      <td id=\"T_43054_row5_col1\" class=\"data row5 col1\" >0.586119</td>\n",
       "      <td id=\"T_43054_row5_col2\" class=\"data row5 col2\" >0.599252</td>\n",
       "      <td id=\"T_43054_row5_col3\" class=\"data row5 col3\" >0.582847</td>\n",
       "      <td id=\"T_43054_row5_col4\" class=\"data row5 col4\" >0.599248</td>\n",
       "      <td id=\"T_43054_row5_col5\" class=\"data row5 col5\" >0.545441</td>\n",
       "      <td id=\"T_43054_row5_col6\" class=\"data row5 col6\" >0.599248</td>\n",
       "      <td id=\"T_43054_row5_col7\" class=\"data row5 col7\" >0.545441</td>\n",
       "      <td id=\"T_43054_row5_col8\" class=\"data row5 col8\" >0.599252</td>\n",
       "      <td id=\"T_43054_row5_col9\" class=\"data row5 col9\" >0.545441</td>\n",
       "      <td id=\"T_43054_row5_col10\" class=\"data row5 col10\" >0.599248</td>\n",
       "      <td id=\"T_43054_row5_col11\" class=\"data row5 col11\" >0.545441</td>\n",
       "      <td id=\"T_43054_row5_col12\" class=\"data row5 col12\" >0.586095</td>\n",
       "      <td id=\"T_43054_row5_col13\" class=\"data row5 col13\" >0.545441</td>\n",
       "      <td id=\"T_43054_row5_col14\" class=\"data row5 col14\" >0.599257</td>\n",
       "      <td id=\"T_43054_row5_col15\" class=\"data row5 col15\" >0.586095</td>\n",
       "      <td id=\"T_43054_row5_col16\" class=\"data row5 col16\" >0.599252</td>\n",
       "      <td id=\"T_43054_row5_col17\" class=\"data row5 col17\" >0.599248</td>\n",
       "      <td id=\"T_43054_row5_col18\" class=\"data row5 col18\" >0.599244</td>\n",
       "      <td id=\"T_43054_row5_col19\" class=\"data row5 col19\" >0.545441</td>\n",
       "      <td id=\"T_43054_row5_col20\" class=\"data row5 col20\" >0.582847</td>\n",
       "      <td id=\"T_43054_row5_col21\" class=\"data row5 col21\" >0.599252</td>\n",
       "      <td id=\"T_43054_row5_col22\" class=\"data row5 col22\" >0.586095</td>\n",
       "      <td id=\"T_43054_row5_col23\" class=\"data row5 col23\" >0.545441</td>\n",
       "      <td id=\"T_43054_row5_col24\" class=\"data row5 col24\" >0.545441</td>\n",
       "      <td id=\"T_43054_row5_col25\" class=\"data row5 col25\" >0.599257</td>\n",
       "      <td id=\"T_43054_row5_col26\" class=\"data row5 col26\" >0.599229</td>\n",
       "      <td id=\"T_43054_row5_col27\" class=\"data row5 col27\" >0.599252</td>\n",
       "      <td id=\"T_43054_row5_col28\" class=\"data row5 col28\" >0.599248</td>\n",
       "      <td id=\"T_43054_row5_col29\" class=\"data row5 col29\" >0.545441</td>\n",
       "    </tr>\n",
       "    <tr>\n",
       "      <th id=\"T_43054_level0_row6\" class=\"row_heading level0 row6\" >40</th>\n",
       "      <td id=\"T_43054_row6_col0\" class=\"data row6 col0\" >0.595410</td>\n",
       "      <td id=\"T_43054_row6_col1\" class=\"data row6 col1\" >0.542874</td>\n",
       "      <td id=\"T_43054_row6_col2\" class=\"data row6 col2\" >0.595410</td>\n",
       "      <td id=\"T_43054_row6_col3\" class=\"data row6 col3\" >0.579093</td>\n",
       "      <td id=\"T_43054_row6_col4\" class=\"data row6 col4\" >0.595410</td>\n",
       "      <td id=\"T_43054_row6_col5\" class=\"data row6 col5\" >0.542874</td>\n",
       "      <td id=\"T_43054_row6_col6\" class=\"data row6 col6\" >0.595410</td>\n",
       "      <td id=\"T_43054_row6_col7\" class=\"data row6 col7\" >0.595410</td>\n",
       "      <td id=\"T_43054_row6_col8\" class=\"data row6 col8\" >0.595410</td>\n",
       "      <td id=\"T_43054_row6_col9\" class=\"data row6 col9\" >0.579093</td>\n",
       "      <td id=\"T_43054_row6_col10\" class=\"data row6 col10\" >0.595410</td>\n",
       "      <td id=\"T_43054_row6_col11\" class=\"data row6 col11\" >0.595410</td>\n",
       "      <td id=\"T_43054_row6_col12\" class=\"data row6 col12\" >0.595410</td>\n",
       "      <td id=\"T_43054_row6_col13\" class=\"data row6 col13\" >0.595410</td>\n",
       "      <td id=\"T_43054_row6_col14\" class=\"data row6 col14\" >0.542874</td>\n",
       "      <td id=\"T_43054_row6_col15\" class=\"data row6 col15\" >0.595410</td>\n",
       "      <td id=\"T_43054_row6_col16\" class=\"data row6 col16\" >0.595410</td>\n",
       "      <td id=\"T_43054_row6_col17\" class=\"data row6 col17\" >0.542874</td>\n",
       "      <td id=\"T_43054_row6_col18\" class=\"data row6 col18\" >0.542874</td>\n",
       "      <td id=\"T_43054_row6_col19\" class=\"data row6 col19\" >0.542874</td>\n",
       "      <td id=\"T_43054_row6_col20\" class=\"data row6 col20\" >0.542874</td>\n",
       "      <td id=\"T_43054_row6_col21\" class=\"data row6 col21\" >0.579093</td>\n",
       "      <td id=\"T_43054_row6_col22\" class=\"data row6 col22\" >0.595410</td>\n",
       "      <td id=\"T_43054_row6_col23\" class=\"data row6 col23\" >0.595410</td>\n",
       "      <td id=\"T_43054_row6_col24\" class=\"data row6 col24\" >0.595410</td>\n",
       "      <td id=\"T_43054_row6_col25\" class=\"data row6 col25\" >0.595410</td>\n",
       "      <td id=\"T_43054_row6_col26\" class=\"data row6 col26\" >0.595410</td>\n",
       "      <td id=\"T_43054_row6_col27\" class=\"data row6 col27\" >0.595410</td>\n",
       "      <td id=\"T_43054_row6_col28\" class=\"data row6 col28\" >0.595410</td>\n",
       "      <td id=\"T_43054_row6_col29\" class=\"data row6 col29\" >0.595410</td>\n",
       "    </tr>\n",
       "    <tr>\n",
       "      <th id=\"T_43054_level0_row7\" class=\"row_heading level0 row7\" >80</th>\n",
       "      <td id=\"T_43054_row7_col0\" class=\"data row7 col0\" >0.578202</td>\n",
       "      <td id=\"T_43054_row7_col1\" class=\"data row7 col1\" >0.578202</td>\n",
       "      <td id=\"T_43054_row7_col2\" class=\"data row7 col2\" >0.578202</td>\n",
       "      <td id=\"T_43054_row7_col3\" class=\"data row7 col3\" >0.541331</td>\n",
       "      <td id=\"T_43054_row7_col4\" class=\"data row7 col4\" >0.578202</td>\n",
       "      <td id=\"T_43054_row7_col5\" class=\"data row7 col5\" >0.578202</td>\n",
       "      <td id=\"T_43054_row7_col6\" class=\"data row7 col6\" >0.578202</td>\n",
       "      <td id=\"T_43054_row7_col7\" class=\"data row7 col7\" >0.578202</td>\n",
       "      <td id=\"T_43054_row7_col8\" class=\"data row7 col8\" >0.578616</td>\n",
       "      <td id=\"T_43054_row7_col9\" class=\"data row7 col9\" >0.578209</td>\n",
       "      <td id=\"T_43054_row7_col10\" class=\"data row7 col10\" >0.578616</td>\n",
       "      <td id=\"T_43054_row7_col11\" class=\"data row7 col11\" >0.578222</td>\n",
       "      <td id=\"T_43054_row7_col12\" class=\"data row7 col12\" >0.578202</td>\n",
       "      <td id=\"T_43054_row7_col13\" class=\"data row7 col13\" >0.578202</td>\n",
       "      <td id=\"T_43054_row7_col14\" class=\"data row7 col14\" >0.578209</td>\n",
       "      <td id=\"T_43054_row7_col15\" class=\"data row7 col15\" >0.578202</td>\n",
       "      <td id=\"T_43054_row7_col16\" class=\"data row7 col16\" >0.578202</td>\n",
       "      <td id=\"T_43054_row7_col17\" class=\"data row7 col17\" >0.578202</td>\n",
       "      <td id=\"T_43054_row7_col18\" class=\"data row7 col18\" >0.578202</td>\n",
       "      <td id=\"T_43054_row7_col19\" class=\"data row7 col19\" >0.541331</td>\n",
       "      <td id=\"T_43054_row7_col20\" class=\"data row7 col20\" >0.578202</td>\n",
       "      <td id=\"T_43054_row7_col21\" class=\"data row7 col21\" >0.541331</td>\n",
       "      <td id=\"T_43054_row7_col22\" class=\"data row7 col22\" >0.578616</td>\n",
       "      <td id=\"T_43054_row7_col23\" class=\"data row7 col23\" >0.578202</td>\n",
       "      <td id=\"T_43054_row7_col24\" class=\"data row7 col24\" >0.578202</td>\n",
       "      <td id=\"T_43054_row7_col25\" class=\"data row7 col25\" >0.578202</td>\n",
       "      <td id=\"T_43054_row7_col26\" class=\"data row7 col26\" >0.578202</td>\n",
       "      <td id=\"T_43054_row7_col27\" class=\"data row7 col27\" >0.578202</td>\n",
       "      <td id=\"T_43054_row7_col28\" class=\"data row7 col28\" >0.578202</td>\n",
       "      <td id=\"T_43054_row7_col29\" class=\"data row7 col29\" >0.541331</td>\n",
       "    </tr>\n",
       "    <tr>\n",
       "      <th id=\"T_43054_level0_row8\" class=\"row_heading level0 row8\" >160</th>\n",
       "      <td id=\"T_43054_row8_col0\" class=\"data row8 col0\" >0.580713</td>\n",
       "      <td id=\"T_43054_row8_col1\" class=\"data row8 col1\" >0.580488</td>\n",
       "      <td id=\"T_43054_row8_col2\" class=\"data row8 col2\" >0.583348</td>\n",
       "      <td id=\"T_43054_row8_col3\" class=\"data row8 col3\" >0.544790</td>\n",
       "      <td id=\"T_43054_row8_col4\" class=\"data row8 col4\" >0.544790</td>\n",
       "      <td id=\"T_43054_row8_col5\" class=\"data row8 col5\" >0.580713</td>\n",
       "      <td id=\"T_43054_row8_col6\" class=\"data row8 col6\" >0.580713</td>\n",
       "      <td id=\"T_43054_row8_col7\" class=\"data row8 col7\" >0.583348</td>\n",
       "      <td id=\"T_43054_row8_col8\" class=\"data row8 col8\" >0.580713</td>\n",
       "      <td id=\"T_43054_row8_col9\" class=\"data row8 col9\" >0.583348</td>\n",
       "      <td id=\"T_43054_row8_col10\" class=\"data row8 col10\" >0.580936</td>\n",
       "      <td id=\"T_43054_row8_col11\" class=\"data row8 col11\" >0.580713</td>\n",
       "      <td id=\"T_43054_row8_col12\" class=\"data row8 col12\" >0.583348</td>\n",
       "      <td id=\"T_43054_row8_col13\" class=\"data row8 col13\" >0.583348</td>\n",
       "      <td id=\"T_43054_row8_col14\" class=\"data row8 col14\" >0.580713</td>\n",
       "      <td id=\"T_43054_row8_col15\" class=\"data row8 col15\" >0.580713</td>\n",
       "      <td id=\"T_43054_row8_col16\" class=\"data row8 col16\" >0.580713</td>\n",
       "      <td id=\"T_43054_row8_col17\" class=\"data row8 col17\" >0.544790</td>\n",
       "      <td id=\"T_43054_row8_col18\" class=\"data row8 col18\" >0.580713</td>\n",
       "      <td id=\"T_43054_row8_col19\" class=\"data row8 col19\" >0.580713</td>\n",
       "      <td id=\"T_43054_row8_col20\" class=\"data row8 col20\" >0.580713</td>\n",
       "      <td id=\"T_43054_row8_col21\" class=\"data row8 col21\" >0.580713</td>\n",
       "      <td id=\"T_43054_row8_col22\" class=\"data row8 col22\" >0.544790</td>\n",
       "      <td id=\"T_43054_row8_col23\" class=\"data row8 col23\" >0.580713</td>\n",
       "      <td id=\"T_43054_row8_col24\" class=\"data row8 col24\" >0.580713</td>\n",
       "      <td id=\"T_43054_row8_col25\" class=\"data row8 col25\" >0.580713</td>\n",
       "      <td id=\"T_43054_row8_col26\" class=\"data row8 col26\" >0.580936</td>\n",
       "      <td id=\"T_43054_row8_col27\" class=\"data row8 col27\" >0.580713</td>\n",
       "      <td id=\"T_43054_row8_col28\" class=\"data row8 col28\" >0.580713</td>\n",
       "      <td id=\"T_43054_row8_col29\" class=\"data row8 col29\" >0.580713</td>\n",
       "    </tr>\n",
       "    <tr>\n",
       "      <th id=\"T_43054_level0_row9\" class=\"row_heading level0 row9\" >384</th>\n",
       "      <td id=\"T_43054_row9_col0\" class=\"data row9 col0\" >0.610895</td>\n",
       "      <td id=\"T_43054_row9_col1\" class=\"data row9 col1\" >0.610894</td>\n",
       "      <td id=\"T_43054_row9_col2\" class=\"data row9 col2\" >0.610836</td>\n",
       "      <td id=\"T_43054_row9_col3\" class=\"data row9 col3\" >0.610859</td>\n",
       "      <td id=\"T_43054_row9_col4\" class=\"data row9 col4\" >0.610857</td>\n",
       "      <td id=\"T_43054_row9_col5\" class=\"data row9 col5\" >0.610907</td>\n",
       "      <td id=\"T_43054_row9_col6\" class=\"data row9 col6\" >0.610860</td>\n",
       "      <td id=\"T_43054_row9_col7\" class=\"data row9 col7\" >0.512121</td>\n",
       "      <td id=\"T_43054_row9_col8\" class=\"data row9 col8\" >0.610834</td>\n",
       "      <td id=\"T_43054_row9_col9\" class=\"data row9 col9\" >0.610920</td>\n",
       "      <td id=\"T_43054_row9_col10\" class=\"data row9 col10\" >0.610868</td>\n",
       "      <td id=\"T_43054_row9_col11\" class=\"data row9 col11\" >0.610875</td>\n",
       "      <td id=\"T_43054_row9_col12\" class=\"data row9 col12\" >0.610905</td>\n",
       "      <td id=\"T_43054_row9_col13\" class=\"data row9 col13\" >0.610857</td>\n",
       "      <td id=\"T_43054_row9_col14\" class=\"data row9 col14\" >0.610867</td>\n",
       "      <td id=\"T_43054_row9_col15\" class=\"data row9 col15\" >0.610973</td>\n",
       "      <td id=\"T_43054_row9_col16\" class=\"data row9 col16\" >0.610914</td>\n",
       "      <td id=\"T_43054_row9_col17\" class=\"data row9 col17\" >0.610844</td>\n",
       "      <td id=\"T_43054_row9_col18\" class=\"data row9 col18\" >0.610834</td>\n",
       "      <td id=\"T_43054_row9_col19\" class=\"data row9 col19\" >0.610875</td>\n",
       "      <td id=\"T_43054_row9_col20\" class=\"data row9 col20\" >0.610911</td>\n",
       "      <td id=\"T_43054_row9_col21\" class=\"data row9 col21\" >0.610891</td>\n",
       "      <td id=\"T_43054_row9_col22\" class=\"data row9 col22\" >0.610857</td>\n",
       "      <td id=\"T_43054_row9_col23\" class=\"data row9 col23\" >0.610834</td>\n",
       "      <td id=\"T_43054_row9_col24\" class=\"data row9 col24\" >0.610891</td>\n",
       "      <td id=\"T_43054_row9_col25\" class=\"data row9 col25\" >0.610857</td>\n",
       "      <td id=\"T_43054_row9_col26\" class=\"data row9 col26\" >0.610926</td>\n",
       "      <td id=\"T_43054_row9_col27\" class=\"data row9 col27\" >0.610861</td>\n",
       "      <td id=\"T_43054_row9_col28\" class=\"data row9 col28\" >0.610894</td>\n",
       "      <td id=\"T_43054_row9_col29\" class=\"data row9 col29\" >0.610896</td>\n",
       "    </tr>\n",
       "  </tbody>\n",
       "</table>\n"
      ],
      "text/plain": [
       "<pandas.io.formats.style.Styler at 0x7fb102a2f310>"
      ]
     },
     "execution_count": 128,
     "metadata": {},
     "output_type": "execute_result"
    }
   ],
   "source": [
    "stats_df[\"mi\"][\"full\"].style.highlight_max(axis=0)"
   ]
  },
  {
   "cell_type": "markdown",
   "id": "5b7b6782",
   "metadata": {},
   "source": [
    "# Make Chart"
   ]
  },
  {
   "cell_type": "code",
   "execution_count": 129,
   "id": "03741ab6",
   "metadata": {
    "ExecuteTime": {
     "end_time": "2023-01-04T10:46:51.760680Z",
     "start_time": "2023-01-04T10:46:51.757338Z"
    }
   },
   "outputs": [],
   "source": [
    "best_dim = {\"AgNews\": 8, \"20News\": 80}"
   ]
  },
  {
   "cell_type": "code",
   "execution_count": 130,
   "id": "f033721b",
   "metadata": {
    "ExecuteTime": {
     "end_time": "2023-01-04T10:46:51.769853Z",
     "start_time": "2023-01-04T10:46:51.762851Z"
    },
    "scrolled": true
   },
   "outputs": [],
   "source": [
    "chart_data = {}\n",
    "chart_data[\"doc2vec\"] = data_stats[\"doc2vec\"][\"mi\"][\"mean\"].loc[best_dim[data_type], :]\n",
    "chart_data[\"sentenceBERT\"] = data_stats[\"sentenceBERT\"][\"mi\"][\"mean\"].loc[384, :]"
   ]
  },
  {
   "cell_type": "code",
   "execution_count": 131,
   "id": "cf4d8263",
   "metadata": {
    "ExecuteTime": {
     "end_time": "2023-01-04T10:46:51.781833Z",
     "start_time": "2023-01-04T10:46:51.771776Z"
    }
   },
   "outputs": [
    {
     "data": {
      "text/html": [
       "<div>\n",
       "<style scoped>\n",
       "    .dataframe tbody tr th:only-of-type {\n",
       "        vertical-align: middle;\n",
       "    }\n",
       "\n",
       "    .dataframe tbody tr th {\n",
       "        vertical-align: top;\n",
       "    }\n",
       "\n",
       "    .dataframe thead th {\n",
       "        text-align: right;\n",
       "    }\n",
       "</style>\n",
       "<table border=\"1\" class=\"dataframe\">\n",
       "  <thead>\n",
       "    <tr style=\"text-align: right;\">\n",
       "      <th></th>\n",
       "      <th>doc2vec</th>\n",
       "      <th>sentenceBERT</th>\n",
       "    </tr>\n",
       "  </thead>\n",
       "  <tbody>\n",
       "    <tr>\n",
       "      <th>spherical</th>\n",
       "      <td>0.454906</td>\n",
       "      <td>0.582227</td>\n",
       "    </tr>\n",
       "    <tr>\n",
       "      <th>diag</th>\n",
       "      <td>0.429935</td>\n",
       "      <td>0.585635</td>\n",
       "    </tr>\n",
       "    <tr>\n",
       "      <th>full</th>\n",
       "      <td>0.475413</td>\n",
       "      <td>0.607587</td>\n",
       "    </tr>\n",
       "  </tbody>\n",
       "</table>\n",
       "</div>"
      ],
      "text/plain": [
       "            doc2vec  sentenceBERT\n",
       "spherical  0.454906      0.582227\n",
       "diag       0.429935      0.585635\n",
       "full       0.475413      0.607587"
      ]
     },
     "execution_count": 131,
     "metadata": {},
     "output_type": "execute_result"
    }
   ],
   "source": [
    "pd.DataFrame(chart_data)"
   ]
  },
  {
   "cell_type": "code",
   "execution_count": 132,
   "id": "5c9dda3c",
   "metadata": {
    "ExecuteTime": {
     "end_time": "2023-01-04T10:46:51.790518Z",
     "start_time": "2023-01-04T10:46:51.784201Z"
    },
    "scrolled": true
   },
   "outputs": [],
   "source": [
    "chart_df = pd.DataFrame(chart_data)"
   ]
  },
  {
   "cell_type": "code",
   "execution_count": 133,
   "id": "16874164",
   "metadata": {
    "ExecuteTime": {
     "end_time": "2023-01-04T10:46:51.802284Z",
     "start_time": "2023-01-04T10:46:51.792830Z"
    }
   },
   "outputs": [
    {
     "data": {
      "text/html": [
       "<style type=\"text/css\">\n",
       "</style>\n",
       "<table id=\"T_0601c\">\n",
       "  <thead>\n",
       "    <tr>\n",
       "      <th class=\"blank level0\" >&nbsp;</th>\n",
       "      <th id=\"T_0601c_level0_col0\" class=\"col_heading level0 col0\" >spherical</th>\n",
       "      <th id=\"T_0601c_level0_col1\" class=\"col_heading level0 col1\" >diag</th>\n",
       "      <th id=\"T_0601c_level0_col2\" class=\"col_heading level0 col2\" >full</th>\n",
       "    </tr>\n",
       "  </thead>\n",
       "  <tbody>\n",
       "    <tr>\n",
       "      <th id=\"T_0601c_level0_row0\" class=\"row_heading level0 row0\" >doc2vec</th>\n",
       "      <td id=\"T_0601c_row0_col0\" class=\"data row0 col0\" >0.454906</td>\n",
       "      <td id=\"T_0601c_row0_col1\" class=\"data row0 col1\" >0.429935</td>\n",
       "      <td id=\"T_0601c_row0_col2\" class=\"data row0 col2\" >0.475413</td>\n",
       "    </tr>\n",
       "    <tr>\n",
       "      <th id=\"T_0601c_level0_row1\" class=\"row_heading level0 row1\" >sentenceBERT</th>\n",
       "      <td id=\"T_0601c_row1_col0\" class=\"data row1 col0\" >0.582227</td>\n",
       "      <td id=\"T_0601c_row1_col1\" class=\"data row1 col1\" >0.585635</td>\n",
       "      <td id=\"T_0601c_row1_col2\" class=\"data row1 col2\" >0.607587</td>\n",
       "    </tr>\n",
       "  </tbody>\n",
       "</table>\n"
      ],
      "text/plain": [
       "<pandas.io.formats.style.Styler at 0x7fb102dcaa70>"
      ]
     },
     "execution_count": 133,
     "metadata": {},
     "output_type": "execute_result"
    }
   ],
   "source": [
    "chart_df.T.style.format(\n",
    "    escape=\"latex\", formatter={\"document_count\": \"{:.0f}\"}\n",
    ")"
   ]
  },
  {
   "cell_type": "code",
   "execution_count": 134,
   "id": "38c2dd8e",
   "metadata": {
    "ExecuteTime": {
     "end_time": "2023-01-04T10:46:51.810044Z",
     "start_time": "2023-01-04T10:46:51.804470Z"
    },
    "scrolled": true
   },
   "outputs": [],
   "source": [
    "chart_df.to_csv(make_filepath(f\"../data/{data_type}/CovarianceChart.csv\"))"
   ]
  },
  {
   "cell_type": "code",
   "execution_count": 135,
   "id": "8aa6d62c",
   "metadata": {
    "ExecuteTime": {
     "end_time": "2023-01-04T10:46:51.820862Z",
     "start_time": "2023-01-04T10:46:51.812278Z"
    }
   },
   "outputs": [
    {
     "name": "stdout",
     "output_type": "stream",
     "text": [
      "\\begin{table}[h]\n",
      "\\centering\n",
      "\\caption{miの比較と埋め込み次元}\n",
      "\\label{table:1}\n",
      "\\begin{tabular}{rrrr}\n",
      "\\toprule\n",
      " & spherical & diag & full \\\\\n",
      "\\midrule\n",
      "doc2vec & 0.455 & 0.430 & 0.475 \\\\\n",
      "sentenceBERT & 0.582 & 0.586 & 0.608 \\\\\n",
      "\\bottomrule\n",
      "\\end{tabular}\n",
      "\\end{table}\n",
      "\n"
     ]
    }
   ],
   "source": [
    "print(\n",
    "    chart_df.T\n",
    "    .style.format(precision=3, escape=\"latex\")\n",
    "    .to_latex(\n",
    "        column_format=\"rrrr\",\n",
    "        position=\"h\",\n",
    "        position_float=\"centering\",\n",
    "        hrules=True,\n",
    "        caption=\"miの比較と埋め込み次元\",\n",
    "        label=\"table:1\",\n",
    "        multicol_align=\"r\",\n",
    "    )\n",
    ")"
   ]
  },
  {
   "cell_type": "code",
   "execution_count": null,
   "id": "f95c37c1",
   "metadata": {},
   "outputs": [],
   "source": []
  },
  {
   "cell_type": "code",
   "execution_count": null,
   "id": "d1e956bf",
   "metadata": {},
   "outputs": [],
   "source": []
  },
  {
   "cell_type": "code",
   "execution_count": null,
   "id": "0aee9277",
   "metadata": {},
   "outputs": [],
   "source": []
  }
 ],
 "metadata": {
  "kernelspec": {
   "display_name": "Python 3 (ipykernel)",
   "language": "python",
   "name": "python3"
  },
  "language_info": {
   "codemirror_mode": {
    "name": "ipython",
    "version": 3
   },
   "file_extension": ".py",
   "mimetype": "text/x-python",
   "name": "python",
   "nbconvert_exporter": "python",
   "pygments_lexer": "ipython3",
   "version": "3.10.8"
  },
  "toc": {
   "base_numbering": 1,
   "nav_menu": {},
   "number_sections": true,
   "sideBar": true,
   "skip_h1_title": false,
   "title_cell": "Table of Contents",
   "title_sidebar": "Contents",
   "toc_cell": false,
   "toc_position": {},
   "toc_section_display": true,
   "toc_window_display": false
  }
 },
 "nbformat": 4,
 "nbformat_minor": 5
}
