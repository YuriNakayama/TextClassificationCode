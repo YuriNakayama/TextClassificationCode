{
 "cells": [
  {
   "cell_type": "markdown",
   "id": "b95f9187",
   "metadata": {},
   "source": [
    "# Import"
   ]
  },
  {
   "cell_type": "code",
   "execution_count": 80,
   "id": "80a85ab5",
   "metadata": {
    "ExecuteTime": {
     "end_time": "2023-01-20T22:43:29.035950Z",
     "start_time": "2023-01-20T22:43:29.032121Z"
    }
   },
   "outputs": [],
   "source": [
    "import csv\n",
    "import os\n",
    "import pickle\n",
    "import sys\n",
    "\n",
    "import matplotlib.pyplot as plt\n",
    "import seaborn as sns\n",
    "import numpy as np\n",
    "import pandas as pd\n",
    "from tqdm import tqdm"
   ]
  },
  {
   "cell_type": "markdown",
   "id": "2543f4e4",
   "metadata": {},
   "source": [
    "## Add configuration file"
   ]
  },
  {
   "cell_type": "code",
   "execution_count": 81,
   "id": "b62547de",
   "metadata": {
    "ExecuteTime": {
     "end_time": "2023-01-20T22:43:29.450018Z",
     "start_time": "2023-01-20T22:43:29.446473Z"
    }
   },
   "outputs": [],
   "source": [
    "sys.path.append(\"/home/jovyan/core/config/\")\n",
    "sys.path.append(\"/home/jovyan/core/util/\")\n",
    "sys.path.append(\"../PlotFunction/lineplot/\")\n",
    "sys.path.append(\"../PlotFunction/config/\")"
   ]
  },
  {
   "cell_type": "code",
   "execution_count": 82,
   "id": "84da401b",
   "metadata": {
    "ExecuteTime": {
     "end_time": "2023-01-20T22:43:29.644682Z",
     "start_time": "2023-01-20T22:43:29.641275Z"
    }
   },
   "outputs": [],
   "source": [
    "from ALL import config\n",
    "from line_plot_1 import line_plot_1\n",
    "from line_plot_error_1 import line_plot_error_1\n",
    "from line_plot_1_layout import layout\n",
    "# from line_plot_error_1_layout import layout\n",
    "from util import *"
   ]
  },
  {
   "cell_type": "markdown",
   "id": "9330548e",
   "metadata": {},
   "source": [
    "## Set condition"
   ]
  },
  {
   "cell_type": "code",
   "execution_count": 83,
   "id": "a30f3623",
   "metadata": {
    "ExecuteTime": {
     "end_time": "2023-01-20T22:43:29.973134Z",
     "start_time": "2023-01-20T22:43:29.968713Z"
    }
   },
   "outputs": [],
   "source": [
    "tqdm.pandas()\n",
    "pd.set_option(\"display.max_columns\", 100)\n",
    "pd.set_option(\"display.max_rows\", 50)"
   ]
  },
  {
   "cell_type": "code",
   "execution_count": 84,
   "id": "ee9bf4ad",
   "metadata": {
    "ExecuteTime": {
     "end_time": "2023-01-20T22:43:30.134383Z",
     "start_time": "2023-01-20T22:43:30.130992Z"
    }
   },
   "outputs": [],
   "source": [
    "data_types = [\"AgNews\", \"20News\", \"AgNewsTitle\"]\n",
    "vectorize_types = [\"doc2vec\", \"sentenceBERT\"]"
   ]
  },
  {
   "cell_type": "markdown",
   "id": "52c60a4f",
   "metadata": {},
   "source": [
    "# Read data"
   ]
  },
  {
   "cell_type": "code",
   "execution_count": 85,
   "id": "c112357f",
   "metadata": {
    "ExecuteTime": {
     "end_time": "2023-01-20T22:43:30.493170Z",
     "start_time": "2023-01-20T22:43:30.489170Z"
    }
   },
   "outputs": [],
   "source": [
    "vector_dims = {\"doc2vec\": config[\"vectorize\"][\"doc2vec\"][\"dims\"], \"sentenceBERT\": [384]}\n",
    "model_nums = config[\"clustering\"][\"gmm\"][\"max_model_num\"]\n",
    "vector_model_num = config[\"vectorize\"][\"doc2vec\"][\"max_model_num\"]\n",
    "normalizations = [\"centralized\", \"normalized\"]\n",
    "covariance_type = \"spherical\""
   ]
  },
  {
   "cell_type": "code",
   "execution_count": 86,
   "id": "8847dbdc",
   "metadata": {
    "ExecuteTime": {
     "end_time": "2023-01-20T22:43:30.733577Z",
     "start_time": "2023-01-20T22:43:30.730374Z"
    }
   },
   "outputs": [],
   "source": [
    "stats_vals = [\"mi\"]"
   ]
  },
  {
   "cell_type": "code",
   "execution_count": 87,
   "id": "d6278852",
   "metadata": {
    "ExecuteTime": {
     "end_time": "2023-01-20T22:43:30.946152Z",
     "start_time": "2023-01-20T22:43:30.941044Z"
    },
    "code_folding": [
     0,
     2
    ],
    "scrolled": true
   },
   "outputs": [],
   "source": [
    "def get_stats_vals(\n",
    "    data_type, vectorize_type, covariance_type, normalizations, stats_vals\n",
    "):\n",
    "    # データ型定義\n",
    "    stats = {\n",
    "        stats_val: {\n",
    "            normalization: {model_num: pd.DataFrame for model_num in range(model_nums)}\n",
    "            for normalization in normalizations\n",
    "        }\n",
    "        for stats_val in stats_vals\n",
    "    }\n",
    "\n",
    "    # データ取得\n",
    "    for stats_val in stats_vals:\n",
    "        for normalization in normalizations:\n",
    "            for model_num in range(model_nums):\n",
    "                stats_path = f\"../../Postprocessing/data/{data_type}/{vectorize_type}/GMM/stats/{normalization}/{covariance_type}/{model_num}.csv\"\n",
    "                df = pd.read_csv(stats_path, index_col=0)\n",
    "                stats[stats_val][normalization][model_num] = df.loc[:, stats_val]\n",
    "    return stats"
   ]
  },
  {
   "cell_type": "code",
   "execution_count": 88,
   "id": "17558240",
   "metadata": {
    "ExecuteTime": {
     "end_time": "2023-01-20T22:43:33.287089Z",
     "start_time": "2023-01-20T22:43:32.630816Z"
    },
    "code_folding": [
     0,
     1
    ]
   },
   "outputs": [],
   "source": [
    "stats = {\n",
    "    data_type: {\n",
    "        vectorize_type: get_stats_vals(\n",
    "            data_type, vectorize_type, covariance_type, normalizations, stats_vals\n",
    "        )\n",
    "        for vectorize_type in vectorize_types\n",
    "    }\n",
    "    for data_type in data_types\n",
    "}"
   ]
  },
  {
   "cell_type": "code",
   "execution_count": 89,
   "id": "64d1c1ff",
   "metadata": {
    "ExecuteTime": {
     "end_time": "2023-01-20T22:43:34.698477Z",
     "start_time": "2023-01-20T22:43:34.048048Z"
    },
    "code_folding": []
   },
   "outputs": [],
   "source": [
    "stats_const = {\n",
    "    data_type: {\n",
    "        vectorize_type: get_stats_vals(\n",
    "            data_type, vectorize_type, covariance_type, normalizations, stats_vals\n",
    "        )\n",
    "        for vectorize_type in vectorize_types\n",
    "    }\n",
    "    for data_type in data_types\n",
    "}"
   ]
  },
  {
   "cell_type": "code",
   "execution_count": 90,
   "id": "de0abf8c",
   "metadata": {
    "ExecuteTime": {
     "end_time": "2023-01-20T22:43:34.709709Z",
     "start_time": "2023-01-20T22:43:34.701245Z"
    }
   },
   "outputs": [],
   "source": [
    "lda_mi = {\n",
    "    data_type: pd.read_csv(\n",
    "        f\"../../Postprocessing/data/{data_type}/LDA/mi.csv\", index_col=0\n",
    "    )\n",
    "    for data_type in data_types\n",
    "}"
   ]
  },
  {
   "cell_type": "code",
   "execution_count": 92,
   "id": "5d9a3d9b",
   "metadata": {
    "ExecuteTime": {
     "end_time": "2023-01-20T22:45:18.464939Z",
     "start_time": "2023-01-20T22:45:18.451593Z"
    }
   },
   "outputs": [],
   "source": [
    "describe_lda_mi = {}\n",
    "for data_type in data_types:\n",
    "    describe_lda_mi[data_type], describe_keys = get_describe(lda_mi[data_type], axis=0)"
   ]
  },
  {
   "cell_type": "markdown",
   "id": "cdcd9c68",
   "metadata": {},
   "source": [
    "# Data shaping"
   ]
  },
  {
   "cell_type": "code",
   "execution_count": 93,
   "id": "ee2c3cdf",
   "metadata": {
    "ExecuteTime": {
     "end_time": "2023-01-20T22:45:24.810571Z",
     "start_time": "2023-01-20T22:45:24.806463Z"
    },
    "code_folding": []
   },
   "outputs": [],
   "source": [
    "def make_stats_df(stats, normalizations, stats_vals):\n",
    "    stats_df = {\n",
    "        stats_val: {normalization: pd.DataFrame() for normalization in normalizations}\n",
    "        for stats_val in stats_vals\n",
    "    }\n",
    "\n",
    "    for stats_val in stats_vals:\n",
    "        for normalization in normalizations:\n",
    "            # model_numについて取得データstatsを結合\n",
    "            stats_df[stats_val][normalization] = pd.concat(\n",
    "                stats[stats_val][normalization], axis=1\n",
    "            )\n",
    "    return stats_df"
   ]
  },
  {
   "cell_type": "code",
   "execution_count": 94,
   "id": "3b8c1c28",
   "metadata": {
    "ExecuteTime": {
     "end_time": "2023-01-20T22:45:25.234472Z",
     "start_time": "2023-01-20T22:45:25.176887Z"
    },
    "code_folding": []
   },
   "outputs": [],
   "source": [
    "stats_df = {\n",
    "    data_type: {\n",
    "        vectorize_type: make_stats_df(stats[data_type][vectorize_type], normalizations, stats_vals)\n",
    "        for vectorize_type in vectorize_types\n",
    "    }\n",
    "    for data_type in data_types\n",
    "}"
   ]
  },
  {
   "cell_type": "code",
   "execution_count": 95,
   "id": "c8ff0afb",
   "metadata": {
    "ExecuteTime": {
     "end_time": "2023-01-20T22:45:25.933254Z",
     "start_time": "2023-01-20T22:45:25.928992Z"
    },
    "code_folding": []
   },
   "outputs": [],
   "source": [
    "def make_describe(stats_df, normalization, stats_vals):\n",
    "    describe = {\n",
    "        stats_val: {normalization: dict() for normalization in normalizations}\n",
    "        for stats_val in stats_vals\n",
    "    }\n",
    "\n",
    "    for stats_val in stats_vals:\n",
    "        for normalization in normalizations:\n",
    "            describe[stats_val][normalization], describe_keys = get_describe(\n",
    "                stats_df[stats_val][normalization], axis=1\n",
    "            )\n",
    "    return describe, describe_keys"
   ]
  },
  {
   "cell_type": "code",
   "execution_count": 96,
   "id": "c87c2689",
   "metadata": {
    "ExecuteTime": {
     "end_time": "2023-01-20T22:45:26.573803Z",
     "start_time": "2023-01-20T22:45:26.539162Z"
    },
    "code_folding": []
   },
   "outputs": [],
   "source": [
    "describe = {data_type: {vectorize_type: {} for vectorize_type in vectorize_types} for data_type in data_types}\n",
    "for data_type in data_types:\n",
    "    for vectorize_type in vectorize_types:\n",
    "        _describe, describe_keys = make_describe(stats_df[data_type][vectorize_type], normalizations, stats_vals)\n",
    "        describe[data_type][vectorize_type] = _describe"
   ]
  },
  {
   "cell_type": "code",
   "execution_count": 97,
   "id": "3624d9a0",
   "metadata": {
    "ExecuteTime": {
     "end_time": "2023-01-20T22:45:27.191575Z",
     "start_time": "2023-01-20T22:45:27.186111Z"
    },
    "code_folding": []
   },
   "outputs": [],
   "source": [
    "def make_data(describe, normalizations, stats_vals, describe_keys):\n",
    "    data = {\n",
    "        stats_val: {describe_key: pd.DataFrame() for describe_key in describe_keys}\n",
    "        for stats_val in stats_vals\n",
    "    }\n",
    "    for stats_val in stats_vals:\n",
    "        for describe_key in describe_keys:\n",
    "            # normalizationについてデータを結合\n",
    "            _data = {\n",
    "                normalization: describe[stats_val][normalization][describe_key]\n",
    "                for normalization in normalizations\n",
    "            }\n",
    "            data[stats_val][describe_key] = pd.concat(_data, axis=1)\n",
    "    return data"
   ]
  },
  {
   "cell_type": "code",
   "execution_count": 98,
   "id": "b0c5dd64",
   "metadata": {
    "ExecuteTime": {
     "end_time": "2023-01-20T22:45:27.902463Z",
     "start_time": "2023-01-20T22:45:27.868760Z"
    },
    "code_folding": []
   },
   "outputs": [],
   "source": [
    "data = {\n",
    "    data_type: {\n",
    "        vectorize_type: make_data(\n",
    "            describe[data_type][vectorize_type],\n",
    "            normalizations,\n",
    "            stats_vals,\n",
    "            describe_keys,\n",
    "        )\n",
    "        for vectorize_type in vectorize_types\n",
    "    }\n",
    "    for data_type in data_types\n",
    "}"
   ]
  },
  {
   "cell_type": "code",
   "execution_count": null,
   "id": "0faabe2b",
   "metadata": {},
   "outputs": [],
   "source": []
  },
  {
   "cell_type": "code",
   "execution_count": 99,
   "id": "a12f88d2",
   "metadata": {
    "ExecuteTime": {
     "end_time": "2023-01-20T22:45:29.373892Z",
     "start_time": "2023-01-20T22:45:29.369953Z"
    }
   },
   "outputs": [],
   "source": [
    "chart_data = {\n",
    "    data_type: data[data_type][\"sentenceBERT\"][\"mi\"][\"mean\"].loc[384, :]\n",
    "    for data_type in data_types\n",
    "}"
   ]
  },
  {
   "cell_type": "code",
   "execution_count": 100,
   "id": "8f003ea8",
   "metadata": {
    "ExecuteTime": {
     "end_time": "2023-01-20T22:45:30.222891Z",
     "start_time": "2023-01-20T22:45:30.218408Z"
    }
   },
   "outputs": [],
   "source": [
    "chart_df = pd.concat(chart_data, axis=1)"
   ]
  },
  {
   "cell_type": "code",
   "execution_count": 101,
   "id": "bde6a760",
   "metadata": {
    "ExecuteTime": {
     "end_time": "2023-01-20T22:45:31.049083Z",
     "start_time": "2023-01-20T22:45:31.040915Z"
    }
   },
   "outputs": [
    {
     "data": {
      "text/html": [
       "<div>\n",
       "<style scoped>\n",
       "    .dataframe tbody tr th:only-of-type {\n",
       "        vertical-align: middle;\n",
       "    }\n",
       "\n",
       "    .dataframe tbody tr th {\n",
       "        vertical-align: top;\n",
       "    }\n",
       "\n",
       "    .dataframe thead th {\n",
       "        text-align: right;\n",
       "    }\n",
       "</style>\n",
       "<table border=\"1\" class=\"dataframe\">\n",
       "  <thead>\n",
       "    <tr style=\"text-align: right;\">\n",
       "      <th></th>\n",
       "      <th>AgNews</th>\n",
       "      <th>20News</th>\n",
       "      <th>AgNewsTitle</th>\n",
       "    </tr>\n",
       "  </thead>\n",
       "  <tbody>\n",
       "    <tr>\n",
       "      <th>centralized</th>\n",
       "      <td>0.578525</td>\n",
       "      <td>0.576343</td>\n",
       "      <td>0.463959</td>\n",
       "    </tr>\n",
       "    <tr>\n",
       "      <th>normalized</th>\n",
       "      <td>0.582227</td>\n",
       "      <td>0.582425</td>\n",
       "      <td>0.465284</td>\n",
       "    </tr>\n",
       "  </tbody>\n",
       "</table>\n",
       "</div>"
      ],
      "text/plain": [
       "               AgNews    20News  AgNewsTitle\n",
       "centralized  0.578525  0.576343     0.463959\n",
       "normalized   0.582227  0.582425     0.465284"
      ]
     },
     "execution_count": 101,
     "metadata": {},
     "output_type": "execute_result"
    }
   ],
   "source": [
    "chart_df"
   ]
  },
  {
   "cell_type": "code",
   "execution_count": 103,
   "id": "8ef396cf",
   "metadata": {
    "ExecuteTime": {
     "end_time": "2023-01-20T22:45:49.519626Z",
     "start_time": "2023-01-20T22:45:49.512940Z"
    }
   },
   "outputs": [
    {
     "name": "stdout",
     "output_type": "stream",
     "text": [
      "\\begin{table}[h]\n",
      "\\centering\n",
      "\\caption{miの比較と埋め込み次元}\n",
      "\\label{table:1}\n",
      "\\begin{tabular}{rrrr}\n",
      "\\toprule\n",
      " & centralized & normalized \\\\\n",
      "\\midrule\n",
      "AgNews & 0.579 & 0.582 \\\\\n",
      "20News & 0.576 & 0.582 \\\\\n",
      "AgNewsTitle & 0.464 & 0.465 \\\\\n",
      "\\bottomrule\n",
      "\\end{tabular}\n",
      "\\end{table}\n",
      "\n"
     ]
    }
   ],
   "source": [
    "print(\n",
    "    chart_df.T\n",
    "    .style.format(precision=3, escape=\"latex\")\n",
    "    .to_latex(\n",
    "        column_format=\"rrrr\",\n",
    "        position=\"h\",\n",
    "        position_float=\"centering\",\n",
    "        hrules=True,\n",
    "        caption=\"miの比較と埋め込み次元\",\n",
    "        label=\"table:1\",\n",
    "        multicol_align=\"r\",\n",
    "    )\n",
    ")"
   ]
  },
  {
   "cell_type": "code",
   "execution_count": null,
   "id": "ffb13eb4",
   "metadata": {},
   "outputs": [],
   "source": []
  }
 ],
 "metadata": {
  "kernelspec": {
   "display_name": "Python 3 (ipykernel)",
   "language": "python",
   "name": "python3"
  },
  "language_info": {
   "codemirror_mode": {
    "name": "ipython",
    "version": 3
   },
   "file_extension": ".py",
   "mimetype": "text/x-python",
   "name": "python",
   "nbconvert_exporter": "python",
   "pygments_lexer": "ipython3",
   "version": "3.10.8"
  },
  "toc": {
   "base_numbering": 1,
   "nav_menu": {},
   "number_sections": true,
   "sideBar": true,
   "skip_h1_title": false,
   "title_cell": "Table of Contents",
   "title_sidebar": "Contents",
   "toc_cell": false,
   "toc_position": {},
   "toc_section_display": true,
   "toc_window_display": false
  }
 },
 "nbformat": 4,
 "nbformat_minor": 5
}
