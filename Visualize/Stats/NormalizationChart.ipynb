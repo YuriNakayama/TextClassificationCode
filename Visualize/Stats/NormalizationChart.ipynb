{
 "cells": [
  {
   "cell_type": "markdown",
   "id": "b95f9187",
   "metadata": {},
   "source": [
    "# Import"
   ]
  },
  {
   "cell_type": "code",
   "execution_count": 24,
   "id": "80a85ab5",
   "metadata": {
    "ExecuteTime": {
     "end_time": "2023-01-10T18:27:04.843053Z",
     "start_time": "2023-01-10T18:27:04.837278Z"
    }
   },
   "outputs": [],
   "source": [
    "import csv\n",
    "import os\n",
    "import pickle\n",
    "import sys\n",
    "\n",
    "import matplotlib.pyplot as plt\n",
    "import seaborn as sns\n",
    "import numpy as np\n",
    "import pandas as pd\n",
    "from tqdm import tqdm"
   ]
  },
  {
   "cell_type": "markdown",
   "id": "2543f4e4",
   "metadata": {},
   "source": [
    "## Add configuration file"
   ]
  },
  {
   "cell_type": "code",
   "execution_count": 25,
   "id": "b62547de",
   "metadata": {
    "ExecuteTime": {
     "end_time": "2023-01-10T18:27:05.253520Z",
     "start_time": "2023-01-10T18:27:05.249952Z"
    }
   },
   "outputs": [],
   "source": [
    "sys.path.append(\"/home/jovyan/core/config/\")\n",
    "sys.path.append(\"/home/jovyan/core/util/\")\n",
    "sys.path.append(\"../PlotFunction/lineplot/\")\n",
    "sys.path.append(\"../PlotFunction/config/\")"
   ]
  },
  {
   "cell_type": "code",
   "execution_count": 26,
   "id": "84da401b",
   "metadata": {
    "ExecuteTime": {
     "end_time": "2023-01-10T18:27:05.458215Z",
     "start_time": "2023-01-10T18:27:05.454331Z"
    }
   },
   "outputs": [],
   "source": [
    "from ALL import config\n",
    "from line_plot_1 import line_plot_1\n",
    "from line_plot_error_1 import line_plot_error_1\n",
    "from line_plot_1_layout import layout\n",
    "# from line_plot_error_1_layout import layout\n",
    "from util import *"
   ]
  },
  {
   "cell_type": "markdown",
   "id": "9330548e",
   "metadata": {},
   "source": [
    "## Set condition"
   ]
  },
  {
   "cell_type": "code",
   "execution_count": 27,
   "id": "a30f3623",
   "metadata": {
    "ExecuteTime": {
     "end_time": "2023-01-10T18:27:05.869448Z",
     "start_time": "2023-01-10T18:27:05.865825Z"
    }
   },
   "outputs": [],
   "source": [
    "tqdm.pandas()\n",
    "pd.set_option(\"display.max_columns\", 100)\n",
    "pd.set_option(\"display.max_rows\", 50)"
   ]
  },
  {
   "cell_type": "code",
   "execution_count": 49,
   "id": "ee9bf4ad",
   "metadata": {
    "ExecuteTime": {
     "end_time": "2023-01-10T18:30:08.014910Z",
     "start_time": "2023-01-10T18:30:08.011961Z"
    }
   },
   "outputs": [],
   "source": [
    "data_types = [\"AgNews\", \"20News\"]\n",
    "vectorize_types = [\"doc2vec\", \"sentenceBERT\"]"
   ]
  },
  {
   "cell_type": "markdown",
   "id": "52c60a4f",
   "metadata": {},
   "source": [
    "# Read data"
   ]
  },
  {
   "cell_type": "code",
   "execution_count": 51,
   "id": "c112357f",
   "metadata": {
    "ExecuteTime": {
     "end_time": "2023-01-10T18:30:56.117848Z",
     "start_time": "2023-01-10T18:30:56.113750Z"
    }
   },
   "outputs": [],
   "source": [
    "vector_dims = {\"doc2vec\": config[\"vectorize\"][\"doc2vec\"][\"dims\"], \"sentenceBERT\": [384]}\n",
    "model_nums = config[\"clustering\"][\"gmm\"][\"max_model_num\"]\n",
    "vector_model_num = config[\"vectorize\"][\"doc2vec\"][\"max_model_num\"]\n",
    "normalizations = [\"centralized\", \"normalized\"]\n",
    "covariance_type = \"spherical\""
   ]
  },
  {
   "cell_type": "code",
   "execution_count": 53,
   "id": "8847dbdc",
   "metadata": {
    "ExecuteTime": {
     "end_time": "2023-01-10T18:31:01.446914Z",
     "start_time": "2023-01-10T18:31:01.443605Z"
    }
   },
   "outputs": [],
   "source": [
    "stats_vals = [\"mi\"]"
   ]
  },
  {
   "cell_type": "code",
   "execution_count": 54,
   "id": "d6278852",
   "metadata": {
    "ExecuteTime": {
     "end_time": "2023-01-10T18:31:18.891431Z",
     "start_time": "2023-01-10T18:31:18.886487Z"
    },
    "code_folding": [
     0,
     2
    ],
    "scrolled": true
   },
   "outputs": [],
   "source": [
    "def get_stats_vals(\n",
    "    data_type, vectorize_type, covariance_type, normalizations, stats_vals\n",
    "):\n",
    "    # データ型定義\n",
    "    stats = {\n",
    "        stats_val: {\n",
    "            normalization: {model_num: pd.DataFrame for model_num in range(model_nums)}\n",
    "            for normalization in normalizations\n",
    "        }\n",
    "        for stats_val in stats_vals\n",
    "    }\n",
    "\n",
    "    # データ取得\n",
    "    for stats_val in stats_vals:\n",
    "        for normalization in normalizations:\n",
    "            for model_num in range(model_nums):\n",
    "                stats_path = f\"../../Postprocessing/data/{data_type}/{vectorize_type}/GMM/stats/{normalization}/{covariance_type}/{model_num}.csv\"\n",
    "                df = pd.read_csv(stats_path, index_col=0)\n",
    "                stats[stats_val][normalization][model_num] = df.loc[:, stats_val]\n",
    "    return stats"
   ]
  },
  {
   "cell_type": "code",
   "execution_count": 55,
   "id": "17558240",
   "metadata": {
    "ExecuteTime": {
     "end_time": "2023-01-10T18:31:49.539659Z",
     "start_time": "2023-01-10T18:31:49.079944Z"
    },
    "code_folding": [
     0,
     1
    ]
   },
   "outputs": [],
   "source": [
    "stats = {\n",
    "    data_type: {\n",
    "        vectorize_type: get_stats_vals(\n",
    "            data_type, vectorize_type, covariance_type, normalizations, stats_vals\n",
    "        )\n",
    "        for vectorize_type in vectorize_types\n",
    "    }\n",
    "    for data_type in data_types\n",
    "}"
   ]
  },
  {
   "cell_type": "code",
   "execution_count": 56,
   "id": "64d1c1ff",
   "metadata": {
    "ExecuteTime": {
     "end_time": "2023-01-10T18:33:12.040111Z",
     "start_time": "2023-01-10T18:33:11.572395Z"
    },
    "code_folding": []
   },
   "outputs": [],
   "source": [
    "stats_const = {\n",
    "    data_type: {\n",
    "        vectorize_type: get_stats_vals(\n",
    "            data_type, vectorize_type, covariance_type, normalizations, stats_vals\n",
    "        )\n",
    "        for vectorize_type in vectorize_types\n",
    "    }\n",
    "    for data_type in data_types\n",
    "}"
   ]
  },
  {
   "cell_type": "code",
   "execution_count": 59,
   "id": "de0abf8c",
   "metadata": {
    "ExecuteTime": {
     "end_time": "2023-01-10T18:35:00.555645Z",
     "start_time": "2023-01-10T18:35:00.547972Z"
    }
   },
   "outputs": [],
   "source": [
    "lda_mi = {\n",
    "    data_type: pd.read_csv(\n",
    "        f\"../../Postprocessing/data/{data_type}/LDA/mi.csv\", index_col=0\n",
    "    )\n",
    "    for data_type in data_types\n",
    "}"
   ]
  },
  {
   "cell_type": "code",
   "execution_count": 60,
   "id": "5d9a3d9b",
   "metadata": {
    "ExecuteTime": {
     "end_time": "2023-01-10T18:35:00.722423Z",
     "start_time": "2023-01-10T18:35:00.711991Z"
    }
   },
   "outputs": [],
   "source": [
    "describe_lda_mi, _ = {data_type :get_describe(lda_mi[data_type], axis=0) for data_type in data_types}"
   ]
  },
  {
   "cell_type": "markdown",
   "id": "cdcd9c68",
   "metadata": {},
   "source": [
    "# Data shaping"
   ]
  },
  {
   "cell_type": "code",
   "execution_count": 63,
   "id": "ee2c3cdf",
   "metadata": {
    "ExecuteTime": {
     "end_time": "2023-01-10T18:35:39.400903Z",
     "start_time": "2023-01-10T18:35:39.396891Z"
    },
    "code_folding": []
   },
   "outputs": [],
   "source": [
    "def make_stats_df(stats, normalizations, stats_vals):\n",
    "    stats_df = {\n",
    "        stats_val: {normalization: pd.DataFrame() for normalization in normalizations}\n",
    "        for stats_val in stats_vals\n",
    "    }\n",
    "\n",
    "    for stats_val in stats_vals:\n",
    "        for normalization in normalizations:\n",
    "            # model_numについて取得データstatsを結合\n",
    "            stats_df[stats_val][normalization] = pd.concat(\n",
    "                stats[stats_val][normalization], axis=1\n",
    "            )\n",
    "    return stats_df"
   ]
  },
  {
   "cell_type": "code",
   "execution_count": 65,
   "id": "3b8c1c28",
   "metadata": {
    "ExecuteTime": {
     "end_time": "2023-01-10T18:35:53.581339Z",
     "start_time": "2023-01-10T18:35:53.542023Z"
    },
    "code_folding": []
   },
   "outputs": [],
   "source": [
    "stats_df = {\n",
    "    data_type: {\n",
    "        vectorize_type: make_stats_df(stats[data_type][vectorize_type], normalizations, stats_vals)\n",
    "        for vectorize_type in vectorize_types\n",
    "    }\n",
    "    for data_type in data_types\n",
    "}"
   ]
  },
  {
   "cell_type": "code",
   "execution_count": 66,
   "id": "c8ff0afb",
   "metadata": {
    "ExecuteTime": {
     "end_time": "2023-01-10T18:35:55.507778Z",
     "start_time": "2023-01-10T18:35:55.503354Z"
    },
    "code_folding": []
   },
   "outputs": [],
   "source": [
    "def make_describe(stats_df, normalization, stats_vals):\n",
    "    describe = {\n",
    "        stats_val: {normalization: dict() for normalization in normalizations}\n",
    "        for stats_val in stats_vals\n",
    "    }\n",
    "\n",
    "    for stats_val in stats_vals:\n",
    "        for normalization in normalizations:\n",
    "            describe[stats_val][normalization], describe_keys = get_describe(\n",
    "                stats_df[stats_val][normalization], axis=1\n",
    "            )\n",
    "    return describe, describe_keys"
   ]
  },
  {
   "cell_type": "code",
   "execution_count": 67,
   "id": "c87c2689",
   "metadata": {
    "ExecuteTime": {
     "end_time": "2023-01-10T18:36:48.813845Z",
     "start_time": "2023-01-10T18:36:48.788382Z"
    },
    "code_folding": []
   },
   "outputs": [],
   "source": [
    "describe = {data_type: {vectorize_type: {} for vectorize_type in vectorize_types} for data_type in data_types}\n",
    "for data_type in data_types:\n",
    "    for vectorize_type in vectorize_types:\n",
    "        _describe, describe_keys = make_describe(stats_df[data_type][vectorize_type], normalizations, stats_vals)\n",
    "        describe[data_type][vectorize_type] = _describe"
   ]
  },
  {
   "cell_type": "code",
   "execution_count": 68,
   "id": "3624d9a0",
   "metadata": {
    "ExecuteTime": {
     "end_time": "2023-01-10T18:36:50.499117Z",
     "start_time": "2023-01-10T18:36:50.492491Z"
    },
    "code_folding": []
   },
   "outputs": [],
   "source": [
    "def make_data(describe, normalizations, stats_vals, describe_keys):\n",
    "    data = {\n",
    "        stats_val: {describe_key: pd.DataFrame() for describe_key in describe_keys}\n",
    "        for stats_val in stats_vals\n",
    "    }\n",
    "    for stats_val in stats_vals:\n",
    "        for describe_key in describe_keys:\n",
    "            # normalizationについてデータを結合\n",
    "            _data = {\n",
    "                normalization: describe[stats_val][normalization][describe_key]\n",
    "                for normalization in normalizations\n",
    "            }\n",
    "            data[stats_val][describe_key] = pd.concat(_data, axis=1)\n",
    "    return data"
   ]
  },
  {
   "cell_type": "code",
   "execution_count": 71,
   "id": "b0c5dd64",
   "metadata": {
    "ExecuteTime": {
     "end_time": "2023-01-10T18:37:27.466825Z",
     "start_time": "2023-01-10T18:37:27.440352Z"
    },
    "code_folding": []
   },
   "outputs": [],
   "source": [
    "data = {\n",
    "    data_type: {\n",
    "        vectorize_type: make_data(\n",
    "            describe[data_type][vectorize_type],\n",
    "            normalizations,\n",
    "            stats_vals,\n",
    "            describe_keys,\n",
    "        )\n",
    "        for vectorize_type in vectorize_types\n",
    "    }\n",
    "    for data_type in data_types\n",
    "}"
   ]
  },
  {
   "cell_type": "code",
   "execution_count": null,
   "id": "0faabe2b",
   "metadata": {},
   "outputs": [],
   "source": []
  },
  {
   "cell_type": "code",
   "execution_count": 74,
   "id": "a12f88d2",
   "metadata": {
    "ExecuteTime": {
     "end_time": "2023-01-10T18:38:26.817800Z",
     "start_time": "2023-01-10T18:38:26.814129Z"
    }
   },
   "outputs": [],
   "source": [
    "chart_data = {\n",
    "    data_type: data[data_type][\"sentenceBERT\"][\"mi\"][\"mean\"].loc[384, :]\n",
    "    for data_type in data_types\n",
    "}"
   ]
  },
  {
   "cell_type": "code",
   "execution_count": 77,
   "id": "8f003ea8",
   "metadata": {
    "ExecuteTime": {
     "end_time": "2023-01-10T18:39:30.309796Z",
     "start_time": "2023-01-10T18:39:30.305883Z"
    }
   },
   "outputs": [],
   "source": [
    "chart_df = pd.concat(chart_data, axis=1)"
   ]
  },
  {
   "cell_type": "code",
   "execution_count": 79,
   "id": "bde6a760",
   "metadata": {
    "ExecuteTime": {
     "end_time": "2023-01-10T18:39:49.930104Z",
     "start_time": "2023-01-10T18:39:49.922628Z"
    }
   },
   "outputs": [
    {
     "data": {
      "text/html": [
       "<div>\n",
       "<style scoped>\n",
       "    .dataframe tbody tr th:only-of-type {\n",
       "        vertical-align: middle;\n",
       "    }\n",
       "\n",
       "    .dataframe tbody tr th {\n",
       "        vertical-align: top;\n",
       "    }\n",
       "\n",
       "    .dataframe thead th {\n",
       "        text-align: right;\n",
       "    }\n",
       "</style>\n",
       "<table border=\"1\" class=\"dataframe\">\n",
       "  <thead>\n",
       "    <tr style=\"text-align: right;\">\n",
       "      <th></th>\n",
       "      <th>AgNews</th>\n",
       "      <th>20News</th>\n",
       "    </tr>\n",
       "  </thead>\n",
       "  <tbody>\n",
       "    <tr>\n",
       "      <th>centralized</th>\n",
       "      <td>0.578525</td>\n",
       "      <td>0.576343</td>\n",
       "    </tr>\n",
       "    <tr>\n",
       "      <th>normalized</th>\n",
       "      <td>0.582227</td>\n",
       "      <td>0.582425</td>\n",
       "    </tr>\n",
       "  </tbody>\n",
       "</table>\n",
       "</div>"
      ],
      "text/plain": [
       "               AgNews    20News\n",
       "centralized  0.578525  0.576343\n",
       "normalized   0.582227  0.582425"
      ]
     },
     "execution_count": 79,
     "metadata": {},
     "output_type": "execute_result"
    }
   ],
   "source": [
    "chart_df"
   ]
  },
  {
   "cell_type": "code",
   "execution_count": 78,
   "id": "8ef396cf",
   "metadata": {
    "ExecuteTime": {
     "end_time": "2023-01-10T18:39:37.181554Z",
     "start_time": "2023-01-10T18:39:37.157529Z"
    }
   },
   "outputs": [
    {
     "name": "stdout",
     "output_type": "stream",
     "text": [
      "\\begin{table}[h]\n",
      "\\centering\n",
      "\\caption{miの比較と埋め込み次元}\n",
      "\\label{table:1}\n",
      "\\begin{tabular}{rrrr}\n",
      "\\toprule\n",
      " & centralized & normalized \\\\\n",
      "\\midrule\n",
      "AgNews & 0.579 & 0.582 \\\\\n",
      "20News & 0.576 & 0.582 \\\\\n",
      "\\bottomrule\n",
      "\\end{tabular}\n",
      "\\end{table}\n",
      "\n"
     ]
    }
   ],
   "source": [
    "print(\n",
    "    chart_df\n",
    "    .style.format(precision=3, escape=\"latex\")\n",
    "    .to_latex(\n",
    "        column_format=\"rrrr\",\n",
    "        position=\"h\",\n",
    "        position_float=\"centering\",\n",
    "        hrules=True,\n",
    "        caption=\"miの比較と埋め込み次元\",\n",
    "        label=\"table:1\",\n",
    "        multicol_align=\"r\",\n",
    "    )\n",
    ")"
   ]
  },
  {
   "cell_type": "code",
   "execution_count": null,
   "id": "ffb13eb4",
   "metadata": {},
   "outputs": [],
   "source": []
  }
 ],
 "metadata": {
  "kernelspec": {
   "display_name": "Python 3 (ipykernel)",
   "language": "python",
   "name": "python3"
  },
  "language_info": {
   "codemirror_mode": {
    "name": "ipython",
    "version": 3
   },
   "file_extension": ".py",
   "mimetype": "text/x-python",
   "name": "python",
   "nbconvert_exporter": "python",
   "pygments_lexer": "ipython3",
   "version": "3.10.8"
  },
  "toc": {
   "base_numbering": 1,
   "nav_menu": {},
   "number_sections": true,
   "sideBar": true,
   "skip_h1_title": false,
   "title_cell": "Table of Contents",
   "title_sidebar": "Contents",
   "toc_cell": false,
   "toc_position": {},
   "toc_section_display": true,
   "toc_window_display": false
  }
 },
 "nbformat": 4,
 "nbformat_minor": 5
}
