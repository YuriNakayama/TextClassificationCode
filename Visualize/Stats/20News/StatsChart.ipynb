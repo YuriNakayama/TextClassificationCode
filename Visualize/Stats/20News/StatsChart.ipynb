{
 "cells": [
  {
   "cell_type": "markdown",
   "id": "b95f9187",
   "metadata": {},
   "source": [
    "# Import"
   ]
  },
  {
   "cell_type": "code",
   "execution_count": 2,
   "id": "80a85ab5",
   "metadata": {
    "ExecuteTime": {
     "end_time": "2022-12-16T05:14:32.405694Z",
     "start_time": "2022-12-16T05:14:31.320375Z"
    }
   },
   "outputs": [],
   "source": [
    "import csv\n",
    "import os\n",
    "import pickle\n",
    "import sys\n",
    "\n",
    "import matplotlib.pyplot as plt\n",
    "import seaborn as sns\n",
    "import numpy as np\n",
    "import pandas as pd\n",
    "from tqdm import tqdm"
   ]
  },
  {
   "cell_type": "markdown",
   "id": "2543f4e4",
   "metadata": {},
   "source": [
    "## Add configuration file"
   ]
  },
  {
   "cell_type": "code",
   "execution_count": 3,
   "id": "b62547de",
   "metadata": {
    "ExecuteTime": {
     "end_time": "2022-12-16T05:14:32.411856Z",
     "start_time": "2022-12-16T05:14:32.408687Z"
    }
   },
   "outputs": [],
   "source": [
    "sys.path.append(\"/home/jovyan/core/config/\")\n",
    "sys.path.append(\"/home/jovyan/core/util/\")\n",
    "sys.path.append(\"../../PlotFunction/lineplot/\")\n",
    "sys.path.append(\"../../PlotFunction/config/\")"
   ]
  },
  {
   "cell_type": "code",
   "execution_count": 4,
   "id": "84da401b",
   "metadata": {
    "ExecuteTime": {
     "end_time": "2022-12-16T05:14:32.436772Z",
     "start_time": "2022-12-16T05:14:32.413677Z"
    }
   },
   "outputs": [],
   "source": [
    "from ALL import config\n",
    "from line_plot_1 import line_plot_1\n",
    "from line_plot_error_1 import line_plot_error_1\n",
    "from line_plot_1_layout import layout\n",
    "from util import *"
   ]
  },
  {
   "cell_type": "markdown",
   "id": "9330548e",
   "metadata": {},
   "source": [
    "## Set condition"
   ]
  },
  {
   "cell_type": "code",
   "execution_count": 5,
   "id": "a30f3623",
   "metadata": {
    "ExecuteTime": {
     "end_time": "2022-12-16T05:14:32.442817Z",
     "start_time": "2022-12-16T05:14:32.439329Z"
    }
   },
   "outputs": [],
   "source": [
    "tqdm.pandas()\n",
    "pd.set_option(\"display.max_columns\", 100)\n",
    "pd.set_option(\"display.max_rows\", 50)"
   ]
  },
  {
   "cell_type": "markdown",
   "id": "52c60a4f",
   "metadata": {},
   "source": [
    "# Read data"
   ]
  },
  {
   "cell_type": "code",
   "execution_count": 6,
   "id": "c81d3638",
   "metadata": {
    "ExecuteTime": {
     "end_time": "2022-12-16T05:14:33.691581Z",
     "start_time": "2022-12-16T05:14:32.444838Z"
    },
    "scrolled": true
   },
   "outputs": [],
   "source": [
    "newsgroups_df = pd.read_csv(\"../../../Preprocessing/data/20News//master.csv\", index_col=0)"
   ]
  },
  {
   "cell_type": "code",
   "execution_count": 7,
   "id": "95389cd0",
   "metadata": {
    "ExecuteTime": {
     "end_time": "2022-12-16T05:14:33.698927Z",
     "start_time": "2022-12-16T05:14:33.693928Z"
    }
   },
   "outputs": [],
   "source": [
    "with open(\"../../../Preprocessing/data/20News/class.csv\", mode=\"r\") as f:\n",
    "    reader = csv.reader(f)\n",
    "    class_labels = [label for label in reader]"
   ]
  },
  {
   "cell_type": "code",
   "execution_count": 8,
   "id": "c112357f",
   "metadata": {
    "ExecuteTime": {
     "end_time": "2022-12-16T05:14:33.707513Z",
     "start_time": "2022-12-16T05:14:33.701740Z"
    }
   },
   "outputs": [],
   "source": [
    "vector_dims = config[\"vectorize\"][\"doc2vec\"][\"dims\"]\n",
    "model_nums = config[\"clustering\"][\"gmm\"][\"max_model_num\"]\n",
    "vector_model_num = config[\"vectorize\"][\"doc2vec\"][\"max_model_num\"]\n",
    "covariance_types = config[\"clustering\"][\"gmm\"][\"covariance_types\"]"
   ]
  },
  {
   "cell_type": "code",
   "execution_count": 9,
   "id": "8847dbdc",
   "metadata": {
    "ExecuteTime": {
     "end_time": "2022-12-16T05:14:33.715353Z",
     "start_time": "2022-12-16T05:14:33.709445Z"
    }
   },
   "outputs": [],
   "source": [
    "stats_vals = [\"aic\", \"bic\", \"mi\", \"logl\"]"
   ]
  },
  {
   "cell_type": "code",
   "execution_count": 10,
   "id": "d6278852",
   "metadata": {
    "ExecuteTime": {
     "end_time": "2022-12-16T05:14:34.593257Z",
     "start_time": "2022-12-16T05:14:33.717220Z"
    }
   },
   "outputs": [],
   "source": [
    "# データ型定義\n",
    "stats = {\n",
    "    stats_val: {\n",
    "        covariance_type: {model_num: pd.DataFrame for model_num in range(model_nums)}\n",
    "        for covariance_type in covariance_types\n",
    "    }\n",
    "    for stats_val in stats_vals\n",
    "}\n",
    "\n",
    "# データ取得\n",
    "for stats_val in stats_vals:\n",
    "    for covariance_type in covariance_types:\n",
    "        for model_num in range(model_nums):\n",
    "            stats_path = f\"../../../Postprocessing/data/20News/doc2vec/GMM/stats/{covariance_type}/{model_num}.csv\"\n",
    "            df = pd.read_csv(stats_path, index_col=0)\n",
    "            stats[stats_val][covariance_type][model_num] = df.loc[:, stats_val]"
   ]
  },
  {
   "cell_type": "code",
   "execution_count": 11,
   "id": "7647317d",
   "metadata": {
    "ExecuteTime": {
     "end_time": "2022-12-16T05:14:34.600773Z",
     "start_time": "2022-12-16T05:14:34.595356Z"
    }
   },
   "outputs": [],
   "source": [
    "lda_mi = pd.read_csv(\"../../../Postprocessing/data/20News/LDA/mi.csv\", index_col=0)"
   ]
  },
  {
   "cell_type": "code",
   "execution_count": 12,
   "id": "24b77ae0",
   "metadata": {
    "ExecuteTime": {
     "end_time": "2022-12-16T05:14:34.611769Z",
     "start_time": "2022-12-16T05:14:34.602986Z"
    }
   },
   "outputs": [],
   "source": [
    "describe_lda_mi, _ = get_describe(lda_mi, axis=0)"
   ]
  },
  {
   "cell_type": "code",
   "execution_count": 32,
   "id": "8275115d",
   "metadata": {
    "ExecuteTime": {
     "end_time": "2022-12-16T06:59:14.419366Z",
     "start_time": "2022-12-16T06:59:14.411749Z"
    }
   },
   "outputs": [
    {
     "data": {
      "text/plain": [
       "{'mean': 0    0.332196\n",
       " dtype: float64,\n",
       " 'median': 0    0.332461\n",
       " dtype: float64,\n",
       " 'std': 0    0.016865\n",
       " dtype: float64,\n",
       " 'var': 0    0.000284\n",
       " dtype: float64,\n",
       " '75': 0    0.344277\n",
       " Name: 0.75, dtype: float64,\n",
       " '25': 0    0.318369\n",
       " Name: 0.25, dtype: float64}"
      ]
     },
     "execution_count": 32,
     "metadata": {},
     "output_type": "execute_result"
    }
   ],
   "source": [
    "describe_lda_mi"
   ]
  },
  {
   "cell_type": "markdown",
   "id": "c963c854",
   "metadata": {},
   "source": [
    "# Data shaping"
   ]
  },
  {
   "cell_type": "code",
   "execution_count": 13,
   "id": "ee2c3cdf",
   "metadata": {
    "ExecuteTime": {
     "end_time": "2022-12-16T05:14:34.683995Z",
     "start_time": "2022-12-16T05:14:34.613871Z"
    }
   },
   "outputs": [],
   "source": [
    "stats_df = {\n",
    "    stats_val: {covariance_type: pd.DataFrame() for covariance_type in covariance_types}\n",
    "    for stats_val in stats_vals\n",
    "}\n",
    "\n",
    "for stats_val in stats_vals:\n",
    "    for covariance_type in covariance_types:\n",
    "        # model_numについて取得データstatsを結合\n",
    "        stats_df[stats_val][covariance_type] = pd.concat(\n",
    "            stats[stats_val][covariance_type], axis=1\n",
    "        )"
   ]
  },
  {
   "cell_type": "code",
   "execution_count": 14,
   "id": "ad3c2855",
   "metadata": {
    "ExecuteTime": {
     "end_time": "2022-12-16T05:14:34.729674Z",
     "start_time": "2022-12-16T05:14:34.686368Z"
    }
   },
   "outputs": [],
   "source": [
    "describe = {\n",
    "    stats_val: {covariance_type: dict() for covariance_type in covariance_types}\n",
    "    for stats_val in stats_vals\n",
    "}\n",
    "\n",
    "for stats_val in stats_vals:\n",
    "    for covariance_type in covariance_types:\n",
    "        describe[stats_val][covariance_type], describe_keys = get_describe(\n",
    "            stats_df[stats_val][covariance_type], axis=1\n",
    "        )"
   ]
  },
  {
   "cell_type": "code",
   "execution_count": 15,
   "id": "d4c180f0",
   "metadata": {
    "ExecuteTime": {
     "end_time": "2022-12-16T05:14:34.763224Z",
     "start_time": "2022-12-16T05:14:34.733032Z"
    }
   },
   "outputs": [],
   "source": [
    "data = {\n",
    "    stats_val: {describe_key: pd.DataFrame() for describe_key in describe_keys}\n",
    "    for stats_val in stats_vals\n",
    "}\n",
    "for stats_val in stats_vals:\n",
    "    for describe_key in describe_keys:\n",
    "        # covariance_typeについてデータを結合\n",
    "        _data = {\n",
    "            covariance_type: describe[stats_val][covariance_type][describe_key]\n",
    "            for covariance_type in covariance_types\n",
    "        }\n",
    "        data[stats_val][describe_key] = pd.concat(_data, axis=1)"
   ]
  },
  {
   "cell_type": "code",
   "execution_count": 16,
   "id": "d03c7775",
   "metadata": {
    "ExecuteTime": {
     "end_time": "2022-12-16T05:14:34.767931Z",
     "start_time": "2022-12-16T05:14:34.765104Z"
    }
   },
   "outputs": [],
   "source": [
    "for stats_val in stats_vals:\n",
    "    _data = data[stats_val][\"mean\"]"
   ]
  },
  {
   "cell_type": "markdown",
   "id": "5b7b6782",
   "metadata": {},
   "source": [
    "# Make Chart"
   ]
  },
  {
   "cell_type": "code",
   "execution_count": 31,
   "id": "1008a55d",
   "metadata": {
    "ExecuteTime": {
     "end_time": "2022-12-16T05:18:57.587097Z",
     "start_time": "2022-12-16T05:18:57.581005Z"
    }
   },
   "outputs": [
    {
     "data": {
      "text/plain": [
       "spherical     80\n",
       "diag          80\n",
       "tied         160\n",
       "full         160\n",
       "dtype: int64"
      ]
     },
     "execution_count": 31,
     "metadata": {},
     "output_type": "execute_result"
    }
   ],
   "source": [
    "data[\"mi\"][\"mean\"].idxmax()"
   ]
  },
  {
   "cell_type": "code",
   "execution_count": 27,
   "id": "8ee72967",
   "metadata": {
    "ExecuteTime": {
     "end_time": "2022-12-16T05:17:57.098638Z",
     "start_time": "2022-12-16T05:17:57.088541Z"
    }
   },
   "outputs": [
    {
     "data": {
      "text/html": [
       "<div>\n",
       "<style scoped>\n",
       "    .dataframe tbody tr th:only-of-type {\n",
       "        vertical-align: middle;\n",
       "    }\n",
       "\n",
       "    .dataframe tbody tr th {\n",
       "        vertical-align: top;\n",
       "    }\n",
       "\n",
       "    .dataframe thead th {\n",
       "        text-align: right;\n",
       "    }\n",
       "</style>\n",
       "<table border=\"1\" class=\"dataframe\">\n",
       "  <thead>\n",
       "    <tr style=\"text-align: right;\">\n",
       "      <th></th>\n",
       "      <th>spherical</th>\n",
       "      <th>diag</th>\n",
       "      <th>tied</th>\n",
       "      <th>full</th>\n",
       "    </tr>\n",
       "  </thead>\n",
       "  <tbody>\n",
       "    <tr>\n",
       "      <th>80</th>\n",
       "      <td>0.005220</td>\n",
       "      <td>0.005102</td>\n",
       "      <td>0.005088</td>\n",
       "      <td>0.008136</td>\n",
       "    </tr>\n",
       "    <tr>\n",
       "      <th>80</th>\n",
       "      <td>0.005220</td>\n",
       "      <td>0.005102</td>\n",
       "      <td>0.005088</td>\n",
       "      <td>0.008136</td>\n",
       "    </tr>\n",
       "    <tr>\n",
       "      <th>160</th>\n",
       "      <td>0.007952</td>\n",
       "      <td>0.008268</td>\n",
       "      <td>0.008690</td>\n",
       "      <td>0.008906</td>\n",
       "    </tr>\n",
       "    <tr>\n",
       "      <th>160</th>\n",
       "      <td>0.007952</td>\n",
       "      <td>0.008268</td>\n",
       "      <td>0.008690</td>\n",
       "      <td>0.008906</td>\n",
       "    </tr>\n",
       "  </tbody>\n",
       "</table>\n",
       "</div>"
      ],
      "text/plain": [
       "     spherical      diag      tied      full\n",
       "80    0.005220  0.005102  0.005088  0.008136\n",
       "80    0.005220  0.005102  0.005088  0.008136\n",
       "160   0.007952  0.008268  0.008690  0.008906\n",
       "160   0.007952  0.008268  0.008690  0.008906"
      ]
     },
     "execution_count": 27,
     "metadata": {},
     "output_type": "execute_result"
    }
   ],
   "source": [
    "data[\"mi\"][\"std\"].loc[data[\"mi\"][\"mean\"].idxmax()]"
   ]
  },
  {
   "cell_type": "code",
   "execution_count": 17,
   "id": "35be683c",
   "metadata": {
    "ExecuteTime": {
     "end_time": "2022-12-16T05:14:34.780001Z",
     "start_time": "2022-12-16T05:14:34.769668Z"
    }
   },
   "outputs": [],
   "source": [
    "chart_data = {\n",
    "    \"埋め込み次元\": data[\"mi\"][\"mean\"].idxmax(),\n",
    "    \"mutual information\": data[\"mi\"][\"mean\"].max(),\n",
    "    \"分散\": data[\"mi\"][\"std\"]\n",
    "}"
   ]
  },
  {
   "cell_type": "code",
   "execution_count": 18,
   "id": "5c9dda3c",
   "metadata": {
    "ExecuteTime": {
     "end_time": "2022-12-16T05:14:34.788265Z",
     "start_time": "2022-12-16T05:14:34.781876Z"
    }
   },
   "outputs": [],
   "source": [
    "chart_df = pd.DataFrame(chart_data).T"
   ]
  },
  {
   "cell_type": "code",
   "execution_count": 19,
   "id": "b6e558f5",
   "metadata": {
    "ExecuteTime": {
     "end_time": "2022-12-16T05:14:34.795357Z",
     "start_time": "2022-12-16T05:14:34.790014Z"
    }
   },
   "outputs": [],
   "source": [
    "chart_df[\"LDA\"] = [\n",
    "    np.NaN,\n",
    "    describe_lda_mi[\"mean\"].to_numpy()[0],\n",
    "    describe_lda_mi[\"std\"].to_numpy()[0],\n",
    "]"
   ]
  },
  {
   "cell_type": "code",
   "execution_count": 20,
   "id": "f62f868a",
   "metadata": {
    "ExecuteTime": {
     "end_time": "2022-12-16T05:14:34.818793Z",
     "start_time": "2022-12-16T05:14:34.797199Z"
    }
   },
   "outputs": [
    {
     "data": {
      "text/plain": [
       "spherical     80.0\n",
       "diag          80.0\n",
       "tied         160.0\n",
       "full         160.0\n",
       "LDA            NaN\n",
       "Name: 埋め込み次元, dtype: float64"
      ]
     },
     "execution_count": 20,
     "metadata": {},
     "output_type": "execute_result"
    }
   ],
   "source": [
    "chart_df.loc[\"埋め込み次元\", :].apply(lambda x: round(x, 0))"
   ]
  },
  {
   "cell_type": "code",
   "execution_count": 21,
   "id": "345d63b8",
   "metadata": {
    "ExecuteTime": {
     "end_time": "2022-12-16T05:14:34.827674Z",
     "start_time": "2022-12-16T05:14:34.820849Z"
    }
   },
   "outputs": [
    {
     "data": {
      "text/plain": [
       "spherical    0.536\n",
       "diag         0.535\n",
       "tied         0.565\n",
       "full         0.531\n",
       "LDA          0.332\n",
       "Name: mutual information, dtype: float64"
      ]
     },
     "execution_count": 21,
     "metadata": {},
     "output_type": "execute_result"
    }
   ],
   "source": [
    "chart_df.loc[\"mutual information\", :].apply(lambda x: round(x, 3))"
   ]
  },
  {
   "cell_type": "code",
   "execution_count": 24,
   "id": "779b116d",
   "metadata": {
    "ExecuteTime": {
     "end_time": "2022-12-16T05:14:53.380210Z",
     "start_time": "2022-12-16T05:14:53.374444Z"
    },
    "scrolled": true
   },
   "outputs": [
    {
     "name": "stdout",
     "output_type": "stream",
     "text": [
      "\\begin{tabular}{lrrrrr}\n",
      " & spherical & diag & tied & full & LDA \\\\\n",
      "埋め込み次元 & 80.000000 & 80.000000 & 160.000000 & 160.000000 & nan \\\\\n",
      "mutual information & 0.535979 & 0.535291 & 0.565293 & 0.531171 & 0.332196 \\\\\n",
      "\\end{tabular}\n",
      "\n"
     ]
    }
   ],
   "source": [
    "print(chart_df.style.to_latex())"
   ]
  },
  {
   "cell_type": "code",
   "execution_count": null,
   "id": "f95c37c1",
   "metadata": {},
   "outputs": [],
   "source": []
  },
  {
   "cell_type": "code",
   "execution_count": null,
   "id": "d1e956bf",
   "metadata": {},
   "outputs": [],
   "source": []
  },
  {
   "cell_type": "code",
   "execution_count": null,
   "id": "1f7d2bfa",
   "metadata": {},
   "outputs": [],
   "source": []
  },
  {
   "cell_type": "code",
   "execution_count": null,
   "id": "f9285899",
   "metadata": {},
   "outputs": [],
   "source": []
  }
 ],
 "metadata": {
  "kernelspec": {
   "display_name": "Python 3 (ipykernel)",
   "language": "python",
   "name": "python3"
  },
  "language_info": {
   "codemirror_mode": {
    "name": "ipython",
    "version": 3
   },
   "file_extension": ".py",
   "mimetype": "text/x-python",
   "name": "python",
   "nbconvert_exporter": "python",
   "pygments_lexer": "ipython3",
   "version": "3.10.8"
  },
  "toc": {
   "base_numbering": 1,
   "nav_menu": {},
   "number_sections": true,
   "sideBar": true,
   "skip_h1_title": false,
   "title_cell": "Table of Contents",
   "title_sidebar": "Contents",
   "toc_cell": false,
   "toc_position": {},
   "toc_section_display": true,
   "toc_window_display": false
  }
 },
 "nbformat": 4,
 "nbformat_minor": 5
}
