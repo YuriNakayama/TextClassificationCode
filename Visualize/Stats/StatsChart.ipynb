{
 "cells": [
  {
   "cell_type": "markdown",
   "id": "b95f9187",
   "metadata": {},
   "source": [
    "# Import"
   ]
  },
  {
   "cell_type": "code",
   "execution_count": 1,
   "id": "80a85ab5",
   "metadata": {
    "ExecuteTime": {
     "end_time": "2022-12-22T17:03:31.264201Z",
     "start_time": "2022-12-22T17:03:30.251649Z"
    }
   },
   "outputs": [],
   "source": [
    "import csv\n",
    "import os\n",
    "import pickle\n",
    "import sys\n",
    "\n",
    "import matplotlib.pyplot as plt\n",
    "import seaborn as sns\n",
    "import numpy as np\n",
    "import pandas as pd\n",
    "from tqdm import tqdm"
   ]
  },
  {
   "cell_type": "markdown",
   "id": "2543f4e4",
   "metadata": {},
   "source": [
    "## Add configuration file"
   ]
  },
  {
   "cell_type": "code",
   "execution_count": 2,
   "id": "b62547de",
   "metadata": {
    "ExecuteTime": {
     "end_time": "2022-12-22T17:03:31.396322Z",
     "start_time": "2022-12-22T17:03:31.393254Z"
    }
   },
   "outputs": [],
   "source": [
    "sys.path.append(\"/home/jovyan/core/config/\")\n",
    "sys.path.append(\"/home/jovyan/core/util/\")\n",
    "sys.path.append(\"../PlotFunction/lineplot/\")\n",
    "sys.path.append(\"../PlotFunction/config/\")"
   ]
  },
  {
   "cell_type": "code",
   "execution_count": 3,
   "id": "84da401b",
   "metadata": {
    "ExecuteTime": {
     "end_time": "2022-12-22T17:03:31.408351Z",
     "start_time": "2022-12-22T17:03:31.398377Z"
    }
   },
   "outputs": [],
   "source": [
    "from ALL import config\n",
    "from line_plot_1 import line_plot_1\n",
    "from line_plot_error_1 import line_plot_error_1\n",
    "from line_plot_1_layout import layout\n",
    "from util import *"
   ]
  },
  {
   "cell_type": "markdown",
   "id": "9330548e",
   "metadata": {},
   "source": [
    "## Set condition"
   ]
  },
  {
   "cell_type": "code",
   "execution_count": 4,
   "id": "a30f3623",
   "metadata": {
    "ExecuteTime": {
     "end_time": "2022-12-22T17:03:31.811978Z",
     "start_time": "2022-12-22T17:03:31.808263Z"
    }
   },
   "outputs": [],
   "source": [
    "tqdm.pandas()\n",
    "pd.set_option(\"display.max_columns\", 100)\n",
    "pd.set_option(\"display.max_rows\", 50)"
   ]
  },
  {
   "cell_type": "code",
   "execution_count": 30,
   "id": "437dc5a7",
   "metadata": {
    "ExecuteTime": {
     "end_time": "2022-12-22T18:26:05.332321Z",
     "start_time": "2022-12-22T18:26:05.329085Z"
    }
   },
   "outputs": [],
   "source": [
    "data_type = \"AgNewsTitle\"\n",
    "vectorize_types = [\"doc2vec\", \"sentenceBERT\"]"
   ]
  },
  {
   "cell_type": "markdown",
   "id": "52c60a4f",
   "metadata": {},
   "source": [
    "# Read data"
   ]
  },
  {
   "cell_type": "code",
   "execution_count": 31,
   "id": "c112357f",
   "metadata": {
    "ExecuteTime": {
     "end_time": "2022-12-22T18:26:06.304693Z",
     "start_time": "2022-12-22T18:26:06.301426Z"
    }
   },
   "outputs": [],
   "source": [
    "model_nums = config[\"clustering\"][\"gmm\"][\"max_model_num\"]\n",
    "covariance_types = config[\"clustering\"][\"gmm\"][\"covariance_types\"]"
   ]
  },
  {
   "cell_type": "code",
   "execution_count": 32,
   "id": "8847dbdc",
   "metadata": {
    "ExecuteTime": {
     "end_time": "2022-12-22T18:26:06.383475Z",
     "start_time": "2022-12-22T18:26:06.380433Z"
    }
   },
   "outputs": [],
   "source": [
    "stats_vals = [\"aic\", \"bic\", \"mi\", \"logl\"]"
   ]
  },
  {
   "cell_type": "code",
   "execution_count": 33,
   "id": "f7feee05",
   "metadata": {
    "ExecuteTime": {
     "end_time": "2022-12-22T18:26:06.472048Z",
     "start_time": "2022-12-22T18:26:06.464763Z"
    }
   },
   "outputs": [],
   "source": [
    "def load_stats_data(vectorize_type, stats_vals, covariance_types, model_nums):\n",
    "    # データ型定義\n",
    "    stats = {\n",
    "        stats_val: {\n",
    "            covariance_type: {\n",
    "                model_num: pd.DataFrame for model_num in range(model_nums)\n",
    "            }\n",
    "            for covariance_type in covariance_types\n",
    "        }\n",
    "        for stats_val in stats_vals\n",
    "    }\n",
    "\n",
    "    # データ取得\n",
    "    for stats_val in stats_vals:\n",
    "        for covariance_type in covariance_types:\n",
    "            for model_num in range(model_nums):\n",
    "                stats_path = f\"../../Postprocessing/data/{data_type}/{vectorize_type}/GMM/stats/{covariance_type}/{model_num}.csv\"\n",
    "                df = pd.read_csv(stats_path, index_col=0)\n",
    "                stats[stats_val][covariance_type][model_num] = df.loc[:, stats_val]\n",
    "    return stats"
   ]
  },
  {
   "cell_type": "code",
   "execution_count": 34,
   "id": "409ccf32",
   "metadata": {
    "ExecuteTime": {
     "end_time": "2022-12-22T18:26:06.552301Z",
     "start_time": "2022-12-22T18:26:06.546162Z"
    }
   },
   "outputs": [],
   "source": [
    "def load_lda_mi(data_type):\n",
    "    lda_mi = pd.read_csv(\n",
    "        f\"../../Postprocessing/data/{data_type}/LDA/mi.csv\", index_col=0\n",
    "    )\n",
    "    describe_lda_mi, _ = get_describe(lda_mi, axis=0)\n",
    "    return describe_lda_mi"
   ]
  },
  {
   "cell_type": "code",
   "execution_count": 35,
   "id": "1af35966",
   "metadata": {
    "ExecuteTime": {
     "end_time": "2022-12-22T18:26:08.377178Z",
     "start_time": "2022-12-22T18:26:06.631627Z"
    }
   },
   "outputs": [],
   "source": [
    "stats_dict = {}\n",
    "for vectorize_type in vectorize_types:\n",
    "    stats_dict[vectorize_type] = load_stats_data(\n",
    "        vectorize_type, stats_vals, covariance_types, model_nums\n",
    "    )"
   ]
  },
  {
   "cell_type": "code",
   "execution_count": 36,
   "id": "59a86bcc",
   "metadata": {
    "ExecuteTime": {
     "end_time": "2022-12-22T18:26:08.387513Z",
     "start_time": "2022-12-22T18:26:08.379667Z"
    }
   },
   "outputs": [],
   "source": [
    "describe_lda_mi = load_lda_mi(data_type)"
   ]
  },
  {
   "cell_type": "markdown",
   "id": "c963c854",
   "metadata": {},
   "source": [
    "# Data shaping"
   ]
  },
  {
   "cell_type": "code",
   "execution_count": 37,
   "id": "ee2c3cdf",
   "metadata": {
    "ExecuteTime": {
     "end_time": "2022-12-22T18:26:08.394856Z",
     "start_time": "2022-12-22T18:26:08.389999Z"
    },
    "code_folding": [
     0
    ]
   },
   "outputs": [],
   "source": [
    "def shape_stats_df(stats):\n",
    "    stats_df = {\n",
    "        stats_val: {covariance_type: pd.DataFrame() for covariance_type in covariance_types}\n",
    "        for stats_val in stats_vals\n",
    "    }\n",
    "\n",
    "    for stats_val in stats_vals:\n",
    "        for covariance_type in covariance_types:\n",
    "            # model_numについて取得データstatsを結合\n",
    "            stats_df[stats_val][covariance_type] = pd.concat(\n",
    "                stats[stats_val][covariance_type], axis=1\n",
    "            )\n",
    "    return stats_df"
   ]
  },
  {
   "cell_type": "code",
   "execution_count": 38,
   "id": "ad3c2855",
   "metadata": {
    "ExecuteTime": {
     "end_time": "2022-12-22T18:26:08.402102Z",
     "start_time": "2022-12-22T18:26:08.397641Z"
    },
    "code_folding": [
     0,
     1
    ]
   },
   "outputs": [],
   "source": [
    "def shape_describe(stats_df):\n",
    "    describe = {\n",
    "        stats_val: {covariance_type: dict() for covariance_type in covariance_types}\n",
    "        for stats_val in stats_vals\n",
    "    }\n",
    "\n",
    "    for stats_val in stats_vals:\n",
    "        for covariance_type in covariance_types:\n",
    "            describe[stats_val][covariance_type], describe_keys = get_describe(\n",
    "                stats_df[stats_val][covariance_type], axis=1\n",
    "            )\n",
    "    return describe, describe_keys"
   ]
  },
  {
   "cell_type": "code",
   "execution_count": 39,
   "id": "d4c180f0",
   "metadata": {
    "ExecuteTime": {
     "end_time": "2022-12-22T18:26:08.411162Z",
     "start_time": "2022-12-22T18:26:08.403937Z"
    },
    "code_folding": [
     0,
     1
    ]
   },
   "outputs": [],
   "source": [
    "def shape_data(describe, describe_keys):\n",
    "    data = {\n",
    "        stats_val: {describe_key: pd.DataFrame() for describe_key in describe_keys}\n",
    "        for stats_val in stats_vals\n",
    "    }\n",
    "    for stats_val in stats_vals:\n",
    "        for describe_key in describe_keys:\n",
    "            # covariance_typeについてデータを結合\n",
    "            _data = {\n",
    "                covariance_type: describe[stats_val][covariance_type][describe_key]\n",
    "                for covariance_type in covariance_types\n",
    "            }\n",
    "            data[stats_val][describe_key] = pd.concat(_data, axis=1)\n",
    "    return data"
   ]
  },
  {
   "cell_type": "code",
   "execution_count": 40,
   "id": "ef827e1b",
   "metadata": {
    "ExecuteTime": {
     "end_time": "2022-12-22T18:26:08.665300Z",
     "start_time": "2022-12-22T18:26:08.415262Z"
    }
   },
   "outputs": [],
   "source": [
    "data = {}\n",
    "for vectorize_type, stats in stats_dict.items():\n",
    "    stats_df = shape_stats_df(stats)\n",
    "    describe, describe_keys = shape_describe(stats_df)\n",
    "    data[vectorize_type] = shape_data(describe, describe_keys)"
   ]
  },
  {
   "cell_type": "code",
   "execution_count": 41,
   "id": "24493214",
   "metadata": {
    "ExecuteTime": {
     "end_time": "2022-12-22T18:26:08.691541Z",
     "start_time": "2022-12-22T18:26:08.668721Z"
    }
   },
   "outputs": [
    {
     "data": {
      "text/html": [
       "<style type=\"text/css\">\n",
       "#T_a5888_row0_col26, #T_a5888_row1_col2, #T_a5888_row1_col23, #T_a5888_row2_col0, #T_a5888_row3_col1, #T_a5888_row3_col3, #T_a5888_row3_col4, #T_a5888_row3_col7, #T_a5888_row3_col14, #T_a5888_row3_col15, #T_a5888_row3_col18, #T_a5888_row3_col19, #T_a5888_row3_col21, #T_a5888_row3_col25, #T_a5888_row3_col28, #T_a5888_row3_col29, #T_a5888_row4_col7, #T_a5888_row5_col25, #T_a5888_row6_col0, #T_a5888_row6_col5, #T_a5888_row6_col24, #T_a5888_row6_col27, #T_a5888_row7_col14, #T_a5888_row7_col17, #T_a5888_row8_col0, #T_a5888_row8_col4, #T_a5888_row8_col17, #T_a5888_row8_col19, #T_a5888_row8_col29 {\n",
       "  background-color: yellow;\n",
       "}\n",
       "</style>\n",
       "<table id=\"T_a5888\">\n",
       "  <thead>\n",
       "    <tr>\n",
       "      <th class=\"blank level0\" >&nbsp;</th>\n",
       "      <th id=\"T_a5888_level0_col0\" class=\"col_heading level0 col0\" >0</th>\n",
       "      <th id=\"T_a5888_level0_col1\" class=\"col_heading level0 col1\" >1</th>\n",
       "      <th id=\"T_a5888_level0_col2\" class=\"col_heading level0 col2\" >2</th>\n",
       "      <th id=\"T_a5888_level0_col3\" class=\"col_heading level0 col3\" >3</th>\n",
       "      <th id=\"T_a5888_level0_col4\" class=\"col_heading level0 col4\" >4</th>\n",
       "      <th id=\"T_a5888_level0_col5\" class=\"col_heading level0 col5\" >5</th>\n",
       "      <th id=\"T_a5888_level0_col6\" class=\"col_heading level0 col6\" >6</th>\n",
       "      <th id=\"T_a5888_level0_col7\" class=\"col_heading level0 col7\" >7</th>\n",
       "      <th id=\"T_a5888_level0_col8\" class=\"col_heading level0 col8\" >8</th>\n",
       "      <th id=\"T_a5888_level0_col9\" class=\"col_heading level0 col9\" >9</th>\n",
       "      <th id=\"T_a5888_level0_col10\" class=\"col_heading level0 col10\" >10</th>\n",
       "      <th id=\"T_a5888_level0_col11\" class=\"col_heading level0 col11\" >11</th>\n",
       "      <th id=\"T_a5888_level0_col12\" class=\"col_heading level0 col12\" >12</th>\n",
       "      <th id=\"T_a5888_level0_col13\" class=\"col_heading level0 col13\" >13</th>\n",
       "      <th id=\"T_a5888_level0_col14\" class=\"col_heading level0 col14\" >14</th>\n",
       "      <th id=\"T_a5888_level0_col15\" class=\"col_heading level0 col15\" >15</th>\n",
       "      <th id=\"T_a5888_level0_col16\" class=\"col_heading level0 col16\" >16</th>\n",
       "      <th id=\"T_a5888_level0_col17\" class=\"col_heading level0 col17\" >17</th>\n",
       "      <th id=\"T_a5888_level0_col18\" class=\"col_heading level0 col18\" >18</th>\n",
       "      <th id=\"T_a5888_level0_col19\" class=\"col_heading level0 col19\" >19</th>\n",
       "      <th id=\"T_a5888_level0_col20\" class=\"col_heading level0 col20\" >20</th>\n",
       "      <th id=\"T_a5888_level0_col21\" class=\"col_heading level0 col21\" >21</th>\n",
       "      <th id=\"T_a5888_level0_col22\" class=\"col_heading level0 col22\" >22</th>\n",
       "      <th id=\"T_a5888_level0_col23\" class=\"col_heading level0 col23\" >23</th>\n",
       "      <th id=\"T_a5888_level0_col24\" class=\"col_heading level0 col24\" >24</th>\n",
       "      <th id=\"T_a5888_level0_col25\" class=\"col_heading level0 col25\" >25</th>\n",
       "      <th id=\"T_a5888_level0_col26\" class=\"col_heading level0 col26\" >26</th>\n",
       "      <th id=\"T_a5888_level0_col27\" class=\"col_heading level0 col27\" >27</th>\n",
       "      <th id=\"T_a5888_level0_col28\" class=\"col_heading level0 col28\" >28</th>\n",
       "      <th id=\"T_a5888_level0_col29\" class=\"col_heading level0 col29\" >29</th>\n",
       "    </tr>\n",
       "  </thead>\n",
       "  <tbody>\n",
       "    <tr>\n",
       "      <th id=\"T_a5888_level0_row0\" class=\"row_heading level0 row0\" >2</th>\n",
       "      <td id=\"T_a5888_row0_col0\" class=\"data row0 col0\" >0.314672</td>\n",
       "      <td id=\"T_a5888_row0_col1\" class=\"data row0 col1\" >0.314310</td>\n",
       "      <td id=\"T_a5888_row0_col2\" class=\"data row0 col2\" >0.314344</td>\n",
       "      <td id=\"T_a5888_row0_col3\" class=\"data row0 col3\" >0.314664</td>\n",
       "      <td id=\"T_a5888_row0_col4\" class=\"data row0 col4\" >0.314676</td>\n",
       "      <td id=\"T_a5888_row0_col5\" class=\"data row0 col5\" >0.314345</td>\n",
       "      <td id=\"T_a5888_row0_col6\" class=\"data row0 col6\" >0.314336</td>\n",
       "      <td id=\"T_a5888_row0_col7\" class=\"data row0 col7\" >0.314284</td>\n",
       "      <td id=\"T_a5888_row0_col8\" class=\"data row0 col8\" >0.314685</td>\n",
       "      <td id=\"T_a5888_row0_col9\" class=\"data row0 col9\" >0.314310</td>\n",
       "      <td id=\"T_a5888_row0_col10\" class=\"data row0 col10\" >0.314416</td>\n",
       "      <td id=\"T_a5888_row0_col11\" class=\"data row0 col11\" >0.314676</td>\n",
       "      <td id=\"T_a5888_row0_col12\" class=\"data row0 col12\" >0.314409</td>\n",
       "      <td id=\"T_a5888_row0_col13\" class=\"data row0 col13\" >0.314385</td>\n",
       "      <td id=\"T_a5888_row0_col14\" class=\"data row0 col14\" >0.314680</td>\n",
       "      <td id=\"T_a5888_row0_col15\" class=\"data row0 col15\" >0.314672</td>\n",
       "      <td id=\"T_a5888_row0_col16\" class=\"data row0 col16\" >0.314453</td>\n",
       "      <td id=\"T_a5888_row0_col17\" class=\"data row0 col17\" >0.314676</td>\n",
       "      <td id=\"T_a5888_row0_col18\" class=\"data row0 col18\" >0.314680</td>\n",
       "      <td id=\"T_a5888_row0_col19\" class=\"data row0 col19\" >0.314676</td>\n",
       "      <td id=\"T_a5888_row0_col20\" class=\"data row0 col20\" >0.314284</td>\n",
       "      <td id=\"T_a5888_row0_col21\" class=\"data row0 col21\" >0.314484</td>\n",
       "      <td id=\"T_a5888_row0_col22\" class=\"data row0 col22\" >0.314685</td>\n",
       "      <td id=\"T_a5888_row0_col23\" class=\"data row0 col23\" >0.314409</td>\n",
       "      <td id=\"T_a5888_row0_col24\" class=\"data row0 col24\" >0.314680</td>\n",
       "      <td id=\"T_a5888_row0_col25\" class=\"data row0 col25\" >0.314670</td>\n",
       "      <td id=\"T_a5888_row0_col26\" class=\"data row0 col26\" >0.314688</td>\n",
       "      <td id=\"T_a5888_row0_col27\" class=\"data row0 col27\" >0.314416</td>\n",
       "      <td id=\"T_a5888_row0_col28\" class=\"data row0 col28\" >0.314310</td>\n",
       "      <td id=\"T_a5888_row0_col29\" class=\"data row0 col29\" >0.314279</td>\n",
       "    </tr>\n",
       "    <tr>\n",
       "      <th id=\"T_a5888_level0_row1\" class=\"row_heading level0 row1\" >4</th>\n",
       "      <td id=\"T_a5888_row1_col0\" class=\"data row1 col0\" >0.503743</td>\n",
       "      <td id=\"T_a5888_row1_col1\" class=\"data row1 col1\" >0.484292</td>\n",
       "      <td id=\"T_a5888_row1_col2\" class=\"data row1 col2\" >0.503763</td>\n",
       "      <td id=\"T_a5888_row1_col3\" class=\"data row1 col3\" >0.484272</td>\n",
       "      <td id=\"T_a5888_row1_col4\" class=\"data row1 col4\" >0.484292</td>\n",
       "      <td id=\"T_a5888_row1_col5\" class=\"data row1 col5\" >0.503743</td>\n",
       "      <td id=\"T_a5888_row1_col6\" class=\"data row1 col6\" >0.484272</td>\n",
       "      <td id=\"T_a5888_row1_col7\" class=\"data row1 col7\" >0.484339</td>\n",
       "      <td id=\"T_a5888_row1_col8\" class=\"data row1 col8\" >0.503717</td>\n",
       "      <td id=\"T_a5888_row1_col9\" class=\"data row1 col9\" >0.503717</td>\n",
       "      <td id=\"T_a5888_row1_col10\" class=\"data row1 col10\" >0.503743</td>\n",
       "      <td id=\"T_a5888_row1_col11\" class=\"data row1 col11\" >0.503743</td>\n",
       "      <td id=\"T_a5888_row1_col12\" class=\"data row1 col12\" >0.503743</td>\n",
       "      <td id=\"T_a5888_row1_col13\" class=\"data row1 col13\" >0.484272</td>\n",
       "      <td id=\"T_a5888_row1_col14\" class=\"data row1 col14\" >0.503743</td>\n",
       "      <td id=\"T_a5888_row1_col15\" class=\"data row1 col15\" >0.503733</td>\n",
       "      <td id=\"T_a5888_row1_col16\" class=\"data row1 col16\" >0.484421</td>\n",
       "      <td id=\"T_a5888_row1_col17\" class=\"data row1 col17\" >0.503733</td>\n",
       "      <td id=\"T_a5888_row1_col18\" class=\"data row1 col18\" >0.503717</td>\n",
       "      <td id=\"T_a5888_row1_col19\" class=\"data row1 col19\" >0.484269</td>\n",
       "      <td id=\"T_a5888_row1_col20\" class=\"data row1 col20\" >0.503743</td>\n",
       "      <td id=\"T_a5888_row1_col21\" class=\"data row1 col21\" >0.503753</td>\n",
       "      <td id=\"T_a5888_row1_col22\" class=\"data row1 col22\" >0.484421</td>\n",
       "      <td id=\"T_a5888_row1_col23\" class=\"data row1 col23\" >0.503763</td>\n",
       "      <td id=\"T_a5888_row1_col24\" class=\"data row1 col24\" >0.484421</td>\n",
       "      <td id=\"T_a5888_row1_col25\" class=\"data row1 col25\" >0.503723</td>\n",
       "      <td id=\"T_a5888_row1_col26\" class=\"data row1 col26\" >0.484410</td>\n",
       "      <td id=\"T_a5888_row1_col27\" class=\"data row1 col27\" >0.503733</td>\n",
       "      <td id=\"T_a5888_row1_col28\" class=\"data row1 col28\" >0.503743</td>\n",
       "      <td id=\"T_a5888_row1_col29\" class=\"data row1 col29\" >0.503753</td>\n",
       "    </tr>\n",
       "    <tr>\n",
       "      <th id=\"T_a5888_level0_row2\" class=\"row_heading level0 row2\" >6</th>\n",
       "      <td id=\"T_a5888_row2_col0\" class=\"data row2 col0\" >0.509858</td>\n",
       "      <td id=\"T_a5888_row2_col1\" class=\"data row2 col1\" >0.509705</td>\n",
       "      <td id=\"T_a5888_row2_col2\" class=\"data row2 col2\" >0.509712</td>\n",
       "      <td id=\"T_a5888_row2_col3\" class=\"data row2 col3\" >0.488431</td>\n",
       "      <td id=\"T_a5888_row2_col4\" class=\"data row2 col4\" >0.488431</td>\n",
       "      <td id=\"T_a5888_row2_col5\" class=\"data row2 col5\" >0.488431</td>\n",
       "      <td id=\"T_a5888_row2_col6\" class=\"data row2 col6\" >0.509802</td>\n",
       "      <td id=\"T_a5888_row2_col7\" class=\"data row2 col7\" >0.490024</td>\n",
       "      <td id=\"T_a5888_row2_col8\" class=\"data row2 col8\" >0.490089</td>\n",
       "      <td id=\"T_a5888_row2_col9\" class=\"data row2 col9\" >0.509674</td>\n",
       "      <td id=\"T_a5888_row2_col10\" class=\"data row2 col10\" >0.509712</td>\n",
       "      <td id=\"T_a5888_row2_col11\" class=\"data row2 col11\" >0.490111</td>\n",
       "      <td id=\"T_a5888_row2_col12\" class=\"data row2 col12\" >0.489811</td>\n",
       "      <td id=\"T_a5888_row2_col13\" class=\"data row2 col13\" >0.509712</td>\n",
       "      <td id=\"T_a5888_row2_col14\" class=\"data row2 col14\" >0.490138</td>\n",
       "      <td id=\"T_a5888_row2_col15\" class=\"data row2 col15\" >0.509714</td>\n",
       "      <td id=\"T_a5888_row2_col16\" class=\"data row2 col16\" >0.488431</td>\n",
       "      <td id=\"T_a5888_row2_col17\" class=\"data row2 col17\" >0.490141</td>\n",
       "      <td id=\"T_a5888_row2_col18\" class=\"data row2 col18\" >0.509682</td>\n",
       "      <td id=\"T_a5888_row2_col19\" class=\"data row2 col19\" >0.509712</td>\n",
       "      <td id=\"T_a5888_row2_col20\" class=\"data row2 col20\" >0.490140</td>\n",
       "      <td id=\"T_a5888_row2_col21\" class=\"data row2 col21\" >0.509712</td>\n",
       "      <td id=\"T_a5888_row2_col22\" class=\"data row2 col22\" >0.509714</td>\n",
       "      <td id=\"T_a5888_row2_col23\" class=\"data row2 col23\" >0.509712</td>\n",
       "      <td id=\"T_a5888_row2_col24\" class=\"data row2 col24\" >0.509661</td>\n",
       "      <td id=\"T_a5888_row2_col25\" class=\"data row2 col25\" >0.488431</td>\n",
       "      <td id=\"T_a5888_row2_col26\" class=\"data row2 col26\" >0.509674</td>\n",
       "      <td id=\"T_a5888_row2_col27\" class=\"data row2 col27\" >0.490134</td>\n",
       "      <td id=\"T_a5888_row2_col28\" class=\"data row2 col28\" >0.509718</td>\n",
       "      <td id=\"T_a5888_row2_col29\" class=\"data row2 col29\" >0.490187</td>\n",
       "    </tr>\n",
       "    <tr>\n",
       "      <th id=\"T_a5888_level0_row3\" class=\"row_heading level0 row3\" >8</th>\n",
       "      <td id=\"T_a5888_row3_col0\" class=\"data row3 col0\" >0.509863</td>\n",
       "      <td id=\"T_a5888_row3_col1\" class=\"data row3 col1\" >0.509937</td>\n",
       "      <td id=\"T_a5888_row3_col2\" class=\"data row3 col2\" >0.478602</td>\n",
       "      <td id=\"T_a5888_row3_col3\" class=\"data row3 col3\" >0.509937</td>\n",
       "      <td id=\"T_a5888_row3_col4\" class=\"data row3 col4\" >0.509937</td>\n",
       "      <td id=\"T_a5888_row3_col5\" class=\"data row3 col5\" >0.509857</td>\n",
       "      <td id=\"T_a5888_row3_col6\" class=\"data row3 col6\" >0.509926</td>\n",
       "      <td id=\"T_a5888_row3_col7\" class=\"data row3 col7\" >0.509937</td>\n",
       "      <td id=\"T_a5888_row3_col8\" class=\"data row3 col8\" >0.509863</td>\n",
       "      <td id=\"T_a5888_row3_col9\" class=\"data row3 col9\" >0.509863</td>\n",
       "      <td id=\"T_a5888_row3_col10\" class=\"data row3 col10\" >0.509863</td>\n",
       "      <td id=\"T_a5888_row3_col11\" class=\"data row3 col11\" >0.509863</td>\n",
       "      <td id=\"T_a5888_row3_col12\" class=\"data row3 col12\" >0.509863</td>\n",
       "      <td id=\"T_a5888_row3_col13\" class=\"data row3 col13\" >0.509863</td>\n",
       "      <td id=\"T_a5888_row3_col14\" class=\"data row3 col14\" >0.509937</td>\n",
       "      <td id=\"T_a5888_row3_col15\" class=\"data row3 col15\" >0.509937</td>\n",
       "      <td id=\"T_a5888_row3_col16\" class=\"data row3 col16\" >0.478602</td>\n",
       "      <td id=\"T_a5888_row3_col17\" class=\"data row3 col17\" >0.509857</td>\n",
       "      <td id=\"T_a5888_row3_col18\" class=\"data row3 col18\" >0.509937</td>\n",
       "      <td id=\"T_a5888_row3_col19\" class=\"data row3 col19\" >0.509937</td>\n",
       "      <td id=\"T_a5888_row3_col20\" class=\"data row3 col20\" >0.478602</td>\n",
       "      <td id=\"T_a5888_row3_col21\" class=\"data row3 col21\" >0.509937</td>\n",
       "      <td id=\"T_a5888_row3_col22\" class=\"data row3 col22\" >0.509857</td>\n",
       "      <td id=\"T_a5888_row3_col23\" class=\"data row3 col23\" >0.509857</td>\n",
       "      <td id=\"T_a5888_row3_col24\" class=\"data row3 col24\" >0.509863</td>\n",
       "      <td id=\"T_a5888_row3_col25\" class=\"data row3 col25\" >0.509937</td>\n",
       "      <td id=\"T_a5888_row3_col26\" class=\"data row3 col26\" >0.509863</td>\n",
       "      <td id=\"T_a5888_row3_col27\" class=\"data row3 col27\" >0.509857</td>\n",
       "      <td id=\"T_a5888_row3_col28\" class=\"data row3 col28\" >0.509937</td>\n",
       "      <td id=\"T_a5888_row3_col29\" class=\"data row3 col29\" >0.509937</td>\n",
       "    </tr>\n",
       "    <tr>\n",
       "      <th id=\"T_a5888_level0_row4\" class=\"row_heading level0 row4\" >10</th>\n",
       "      <td id=\"T_a5888_row4_col0\" class=\"data row4 col0\" >0.470327</td>\n",
       "      <td id=\"T_a5888_row4_col1\" class=\"data row4 col1\" >0.470327</td>\n",
       "      <td id=\"T_a5888_row4_col2\" class=\"data row4 col2\" >0.496485</td>\n",
       "      <td id=\"T_a5888_row4_col3\" class=\"data row4 col3\" >0.470327</td>\n",
       "      <td id=\"T_a5888_row4_col4\" class=\"data row4 col4\" >0.470327</td>\n",
       "      <td id=\"T_a5888_row4_col5\" class=\"data row4 col5\" >0.470327</td>\n",
       "      <td id=\"T_a5888_row4_col6\" class=\"data row4 col6\" >0.470327</td>\n",
       "      <td id=\"T_a5888_row4_col7\" class=\"data row4 col7\" >0.496485</td>\n",
       "      <td id=\"T_a5888_row4_col8\" class=\"data row4 col8\" >0.470327</td>\n",
       "      <td id=\"T_a5888_row4_col9\" class=\"data row4 col9\" >0.470327</td>\n",
       "      <td id=\"T_a5888_row4_col10\" class=\"data row4 col10\" >0.496454</td>\n",
       "      <td id=\"T_a5888_row4_col11\" class=\"data row4 col11\" >0.470327</td>\n",
       "      <td id=\"T_a5888_row4_col12\" class=\"data row4 col12\" >0.496485</td>\n",
       "      <td id=\"T_a5888_row4_col13\" class=\"data row4 col13\" >0.470327</td>\n",
       "      <td id=\"T_a5888_row4_col14\" class=\"data row4 col14\" >0.470327</td>\n",
       "      <td id=\"T_a5888_row4_col15\" class=\"data row4 col15\" >0.470332</td>\n",
       "      <td id=\"T_a5888_row4_col16\" class=\"data row4 col16\" >0.470327</td>\n",
       "      <td id=\"T_a5888_row4_col17\" class=\"data row4 col17\" >0.450864</td>\n",
       "      <td id=\"T_a5888_row4_col18\" class=\"data row4 col18\" >0.470332</td>\n",
       "      <td id=\"T_a5888_row4_col19\" class=\"data row4 col19\" >0.496454</td>\n",
       "      <td id=\"T_a5888_row4_col20\" class=\"data row4 col20\" >0.470327</td>\n",
       "      <td id=\"T_a5888_row4_col21\" class=\"data row4 col21\" >0.470327</td>\n",
       "      <td id=\"T_a5888_row4_col22\" class=\"data row4 col22\" >0.470327</td>\n",
       "      <td id=\"T_a5888_row4_col23\" class=\"data row4 col23\" >0.450864</td>\n",
       "      <td id=\"T_a5888_row4_col24\" class=\"data row4 col24\" >0.470327</td>\n",
       "      <td id=\"T_a5888_row4_col25\" class=\"data row4 col25\" >0.470327</td>\n",
       "      <td id=\"T_a5888_row4_col26\" class=\"data row4 col26\" >0.470327</td>\n",
       "      <td id=\"T_a5888_row4_col27\" class=\"data row4 col27\" >0.470327</td>\n",
       "      <td id=\"T_a5888_row4_col28\" class=\"data row4 col28\" >0.470327</td>\n",
       "      <td id=\"T_a5888_row4_col29\" class=\"data row4 col29\" >0.470327</td>\n",
       "    </tr>\n",
       "    <tr>\n",
       "      <th id=\"T_a5888_level0_row5\" class=\"row_heading level0 row5\" >20</th>\n",
       "      <td id=\"T_a5888_row5_col0\" class=\"data row5 col0\" >0.462238</td>\n",
       "      <td id=\"T_a5888_row5_col1\" class=\"data row5 col1\" >0.462152</td>\n",
       "      <td id=\"T_a5888_row5_col2\" class=\"data row5 col2\" >0.462227</td>\n",
       "      <td id=\"T_a5888_row5_col3\" class=\"data row5 col3\" >0.462077</td>\n",
       "      <td id=\"T_a5888_row5_col4\" class=\"data row5 col4\" >0.462209</td>\n",
       "      <td id=\"T_a5888_row5_col5\" class=\"data row5 col5\" >0.462077</td>\n",
       "      <td id=\"T_a5888_row5_col6\" class=\"data row5 col6\" >0.462248</td>\n",
       "      <td id=\"T_a5888_row5_col7\" class=\"data row5 col7\" >0.462077</td>\n",
       "      <td id=\"T_a5888_row5_col8\" class=\"data row5 col8\" >0.462088</td>\n",
       "      <td id=\"T_a5888_row5_col9\" class=\"data row5 col9\" >0.462164</td>\n",
       "      <td id=\"T_a5888_row5_col10\" class=\"data row5 col10\" >0.462082</td>\n",
       "      <td id=\"T_a5888_row5_col11\" class=\"data row5 col11\" >0.462244</td>\n",
       "      <td id=\"T_a5888_row5_col12\" class=\"data row5 col12\" >0.462077</td>\n",
       "      <td id=\"T_a5888_row5_col13\" class=\"data row5 col13\" >0.462093</td>\n",
       "      <td id=\"T_a5888_row5_col14\" class=\"data row5 col14\" >0.462141</td>\n",
       "      <td id=\"T_a5888_row5_col15\" class=\"data row5 col15\" >0.462093</td>\n",
       "      <td id=\"T_a5888_row5_col16\" class=\"data row5 col16\" >0.462236</td>\n",
       "      <td id=\"T_a5888_row5_col17\" class=\"data row5 col17\" >0.462077</td>\n",
       "      <td id=\"T_a5888_row5_col18\" class=\"data row5 col18\" >0.462088</td>\n",
       "      <td id=\"T_a5888_row5_col19\" class=\"data row5 col19\" >0.462248</td>\n",
       "      <td id=\"T_a5888_row5_col20\" class=\"data row5 col20\" >0.462236</td>\n",
       "      <td id=\"T_a5888_row5_col21\" class=\"data row5 col21\" >0.462236</td>\n",
       "      <td id=\"T_a5888_row5_col22\" class=\"data row5 col22\" >0.462077</td>\n",
       "      <td id=\"T_a5888_row5_col23\" class=\"data row5 col23\" >0.462180</td>\n",
       "      <td id=\"T_a5888_row5_col24\" class=\"data row5 col24\" >0.462088</td>\n",
       "      <td id=\"T_a5888_row5_col25\" class=\"data row5 col25\" >0.489393</td>\n",
       "      <td id=\"T_a5888_row5_col26\" class=\"data row5 col26\" >0.489374</td>\n",
       "      <td id=\"T_a5888_row5_col27\" class=\"data row5 col27\" >0.462232</td>\n",
       "      <td id=\"T_a5888_row5_col28\" class=\"data row5 col28\" >0.462088</td>\n",
       "      <td id=\"T_a5888_row5_col29\" class=\"data row5 col29\" >0.462093</td>\n",
       "    </tr>\n",
       "    <tr>\n",
       "      <th id=\"T_a5888_level0_row6\" class=\"row_heading level0 row6\" >40</th>\n",
       "      <td id=\"T_a5888_row6_col0\" class=\"data row6 col0\" >0.480800</td>\n",
       "      <td id=\"T_a5888_row6_col1\" class=\"data row6 col1\" >0.466008</td>\n",
       "      <td id=\"T_a5888_row6_col2\" class=\"data row6 col2\" >0.466008</td>\n",
       "      <td id=\"T_a5888_row6_col3\" class=\"data row6 col3\" >0.480800</td>\n",
       "      <td id=\"T_a5888_row6_col4\" class=\"data row6 col4\" >0.466008</td>\n",
       "      <td id=\"T_a5888_row6_col5\" class=\"data row6 col5\" >0.480800</td>\n",
       "      <td id=\"T_a5888_row6_col6\" class=\"data row6 col6\" >0.466008</td>\n",
       "      <td id=\"T_a5888_row6_col7\" class=\"data row6 col7\" >0.466005</td>\n",
       "      <td id=\"T_a5888_row6_col8\" class=\"data row6 col8\" >0.466005</td>\n",
       "      <td id=\"T_a5888_row6_col9\" class=\"data row6 col9\" >0.466008</td>\n",
       "      <td id=\"T_a5888_row6_col10\" class=\"data row6 col10\" >0.466008</td>\n",
       "      <td id=\"T_a5888_row6_col11\" class=\"data row6 col11\" >0.466008</td>\n",
       "      <td id=\"T_a5888_row6_col12\" class=\"data row6 col12\" >0.466008</td>\n",
       "      <td id=\"T_a5888_row6_col13\" class=\"data row6 col13\" >0.480800</td>\n",
       "      <td id=\"T_a5888_row6_col14\" class=\"data row6 col14\" >0.466008</td>\n",
       "      <td id=\"T_a5888_row6_col15\" class=\"data row6 col15\" >0.466008</td>\n",
       "      <td id=\"T_a5888_row6_col16\" class=\"data row6 col16\" >0.466008</td>\n",
       "      <td id=\"T_a5888_row6_col17\" class=\"data row6 col17\" >0.466008</td>\n",
       "      <td id=\"T_a5888_row6_col18\" class=\"data row6 col18\" >0.466005</td>\n",
       "      <td id=\"T_a5888_row6_col19\" class=\"data row6 col19\" >0.466005</td>\n",
       "      <td id=\"T_a5888_row6_col20\" class=\"data row6 col20\" >0.466005</td>\n",
       "      <td id=\"T_a5888_row6_col21\" class=\"data row6 col21\" >0.466008</td>\n",
       "      <td id=\"T_a5888_row6_col22\" class=\"data row6 col22\" >0.466008</td>\n",
       "      <td id=\"T_a5888_row6_col23\" class=\"data row6 col23\" >0.466008</td>\n",
       "      <td id=\"T_a5888_row6_col24\" class=\"data row6 col24\" >0.480800</td>\n",
       "      <td id=\"T_a5888_row6_col25\" class=\"data row6 col25\" >0.466008</td>\n",
       "      <td id=\"T_a5888_row6_col26\" class=\"data row6 col26\" >0.466005</td>\n",
       "      <td id=\"T_a5888_row6_col27\" class=\"data row6 col27\" >0.480800</td>\n",
       "      <td id=\"T_a5888_row6_col28\" class=\"data row6 col28\" >0.466008</td>\n",
       "      <td id=\"T_a5888_row6_col29\" class=\"data row6 col29\" >0.466008</td>\n",
       "    </tr>\n",
       "    <tr>\n",
       "      <th id=\"T_a5888_level0_row7\" class=\"row_heading level0 row7\" >80</th>\n",
       "      <td id=\"T_a5888_row7_col0\" class=\"data row7 col0\" >0.475201</td>\n",
       "      <td id=\"T_a5888_row7_col1\" class=\"data row7 col1\" >0.475201</td>\n",
       "      <td id=\"T_a5888_row7_col2\" class=\"data row7 col2\" >0.475201</td>\n",
       "      <td id=\"T_a5888_row7_col3\" class=\"data row7 col3\" >0.475201</td>\n",
       "      <td id=\"T_a5888_row7_col4\" class=\"data row7 col4\" >0.475201</td>\n",
       "      <td id=\"T_a5888_row7_col5\" class=\"data row7 col5\" >0.475201</td>\n",
       "      <td id=\"T_a5888_row7_col6\" class=\"data row7 col6\" >0.475201</td>\n",
       "      <td id=\"T_a5888_row7_col7\" class=\"data row7 col7\" >0.475201</td>\n",
       "      <td id=\"T_a5888_row7_col8\" class=\"data row7 col8\" >0.475201</td>\n",
       "      <td id=\"T_a5888_row7_col9\" class=\"data row7 col9\" >0.475201</td>\n",
       "      <td id=\"T_a5888_row7_col10\" class=\"data row7 col10\" >0.475201</td>\n",
       "      <td id=\"T_a5888_row7_col11\" class=\"data row7 col11\" >0.475201</td>\n",
       "      <td id=\"T_a5888_row7_col12\" class=\"data row7 col12\" >0.475201</td>\n",
       "      <td id=\"T_a5888_row7_col13\" class=\"data row7 col13\" >0.475201</td>\n",
       "      <td id=\"T_a5888_row7_col14\" class=\"data row7 col14\" >0.491251</td>\n",
       "      <td id=\"T_a5888_row7_col15\" class=\"data row7 col15\" >0.475201</td>\n",
       "      <td id=\"T_a5888_row7_col16\" class=\"data row7 col16\" >0.475201</td>\n",
       "      <td id=\"T_a5888_row7_col17\" class=\"data row7 col17\" >0.491251</td>\n",
       "      <td id=\"T_a5888_row7_col18\" class=\"data row7 col18\" >0.475201</td>\n",
       "      <td id=\"T_a5888_row7_col19\" class=\"data row7 col19\" >0.475201</td>\n",
       "      <td id=\"T_a5888_row7_col20\" class=\"data row7 col20\" >0.475201</td>\n",
       "      <td id=\"T_a5888_row7_col21\" class=\"data row7 col21\" >0.475201</td>\n",
       "      <td id=\"T_a5888_row7_col22\" class=\"data row7 col22\" >0.475201</td>\n",
       "      <td id=\"T_a5888_row7_col23\" class=\"data row7 col23\" >0.475201</td>\n",
       "      <td id=\"T_a5888_row7_col24\" class=\"data row7 col24\" >0.475201</td>\n",
       "      <td id=\"T_a5888_row7_col25\" class=\"data row7 col25\" >0.475201</td>\n",
       "      <td id=\"T_a5888_row7_col26\" class=\"data row7 col26\" >0.475201</td>\n",
       "      <td id=\"T_a5888_row7_col27\" class=\"data row7 col27\" >0.475201</td>\n",
       "      <td id=\"T_a5888_row7_col28\" class=\"data row7 col28\" >0.475201</td>\n",
       "      <td id=\"T_a5888_row7_col29\" class=\"data row7 col29\" >0.475201</td>\n",
       "    </tr>\n",
       "    <tr>\n",
       "      <th id=\"T_a5888_level0_row8\" class=\"row_heading level0 row8\" >160</th>\n",
       "      <td id=\"T_a5888_row8_col0\" class=\"data row8 col0\" >0.494554</td>\n",
       "      <td id=\"T_a5888_row8_col1\" class=\"data row8 col1\" >0.477805</td>\n",
       "      <td id=\"T_a5888_row8_col2\" class=\"data row8 col2\" >0.477805</td>\n",
       "      <td id=\"T_a5888_row8_col3\" class=\"data row8 col3\" >0.477805</td>\n",
       "      <td id=\"T_a5888_row8_col4\" class=\"data row8 col4\" >0.494554</td>\n",
       "      <td id=\"T_a5888_row8_col5\" class=\"data row8 col5\" >0.477805</td>\n",
       "      <td id=\"T_a5888_row8_col6\" class=\"data row8 col6\" >0.477805</td>\n",
       "      <td id=\"T_a5888_row8_col7\" class=\"data row8 col7\" >0.477805</td>\n",
       "      <td id=\"T_a5888_row8_col8\" class=\"data row8 col8\" >0.477805</td>\n",
       "      <td id=\"T_a5888_row8_col9\" class=\"data row8 col9\" >0.477805</td>\n",
       "      <td id=\"T_a5888_row8_col10\" class=\"data row8 col10\" >0.477805</td>\n",
       "      <td id=\"T_a5888_row8_col11\" class=\"data row8 col11\" >0.477805</td>\n",
       "      <td id=\"T_a5888_row8_col12\" class=\"data row8 col12\" >0.477805</td>\n",
       "      <td id=\"T_a5888_row8_col13\" class=\"data row8 col13\" >0.477805</td>\n",
       "      <td id=\"T_a5888_row8_col14\" class=\"data row8 col14\" >0.477805</td>\n",
       "      <td id=\"T_a5888_row8_col15\" class=\"data row8 col15\" >0.477805</td>\n",
       "      <td id=\"T_a5888_row8_col16\" class=\"data row8 col16\" >0.477805</td>\n",
       "      <td id=\"T_a5888_row8_col17\" class=\"data row8 col17\" >0.494554</td>\n",
       "      <td id=\"T_a5888_row8_col18\" class=\"data row8 col18\" >0.477805</td>\n",
       "      <td id=\"T_a5888_row8_col19\" class=\"data row8 col19\" >0.494554</td>\n",
       "      <td id=\"T_a5888_row8_col20\" class=\"data row8 col20\" >0.477805</td>\n",
       "      <td id=\"T_a5888_row8_col21\" class=\"data row8 col21\" >0.477805</td>\n",
       "      <td id=\"T_a5888_row8_col22\" class=\"data row8 col22\" >0.477805</td>\n",
       "      <td id=\"T_a5888_row8_col23\" class=\"data row8 col23\" >0.477805</td>\n",
       "      <td id=\"T_a5888_row8_col24\" class=\"data row8 col24\" >0.477805</td>\n",
       "      <td id=\"T_a5888_row8_col25\" class=\"data row8 col25\" >0.477805</td>\n",
       "      <td id=\"T_a5888_row8_col26\" class=\"data row8 col26\" >0.477805</td>\n",
       "      <td id=\"T_a5888_row8_col27\" class=\"data row8 col27\" >0.477805</td>\n",
       "      <td id=\"T_a5888_row8_col28\" class=\"data row8 col28\" >0.477805</td>\n",
       "      <td id=\"T_a5888_row8_col29\" class=\"data row8 col29\" >0.494554</td>\n",
       "    </tr>\n",
       "  </tbody>\n",
       "</table>\n"
      ],
      "text/plain": [
       "<pandas.io.formats.style.Styler at 0x7f67eadc7ca0>"
      ]
     },
     "execution_count": 41,
     "metadata": {},
     "output_type": "execute_result"
    }
   ],
   "source": [
    "stats_df[\"mi\"][\"diag\"].style.highlight_max(axis=1)"
   ]
  },
  {
   "cell_type": "markdown",
   "id": "5b7b6782",
   "metadata": {},
   "source": [
    "# Make Chart"
   ]
  },
  {
   "cell_type": "code",
   "execution_count": 42,
   "id": "1dbc03c0",
   "metadata": {
    "ExecuteTime": {
     "end_time": "2022-12-22T18:26:08.702551Z",
     "start_time": "2022-12-22T18:26:08.693526Z"
    }
   },
   "outputs": [],
   "source": [
    "chart_data = {}\n",
    "for vectorize_type, _data in data.items():\n",
    "    mi_max_idx = _data[\"mi\"][\"mean\"].stack().idxmax()\n",
    "    chart_data[vectorize_type] = {\n",
    "        \"埋め込み次元\": mi_max_idx[0],\n",
    "        \"mutual information\": _data[\"mi\"][\"mean\"].loc[mi_max_idx],\n",
    "        \"分散\": _data[\"mi\"][\"std\"].loc[mi_max_idx],\n",
    "    }"
   ]
  },
  {
   "cell_type": "code",
   "execution_count": 43,
   "id": "f6c35395",
   "metadata": {
    "ExecuteTime": {
     "end_time": "2022-12-22T18:26:08.709893Z",
     "start_time": "2022-12-22T18:26:08.704522Z"
    }
   },
   "outputs": [
    {
     "data": {
      "text/plain": [
       "{'doc2vec': {'埋め込み次元': 6,\n",
       "  'mutual information': 0.216079607330899,\n",
       "  '分散': 0.0005672788329092607},\n",
       " 'sentenceBERT': {'埋め込み次元': 80,\n",
       "  'mutual information': 0.5200915147894267,\n",
       "  '分散': 4.230357428712255e-05}}"
      ]
     },
     "execution_count": 43,
     "metadata": {},
     "output_type": "execute_result"
    }
   ],
   "source": [
    "chart_data"
   ]
  },
  {
   "cell_type": "code",
   "execution_count": 44,
   "id": "5c9dda3c",
   "metadata": {
    "ExecuteTime": {
     "end_time": "2022-12-22T18:26:08.717352Z",
     "start_time": "2022-12-22T18:26:08.712742Z"
    },
    "scrolled": true
   },
   "outputs": [],
   "source": [
    "chart_df = pd.DataFrame(chart_data)"
   ]
  },
  {
   "cell_type": "code",
   "execution_count": 45,
   "id": "b6e558f5",
   "metadata": {
    "ExecuteTime": {
     "end_time": "2022-12-22T18:26:08.755668Z",
     "start_time": "2022-12-22T18:26:08.751815Z"
    }
   },
   "outputs": [],
   "source": [
    "chart_df[\"LDA\"] = [\n",
    "    np.NaN,\n",
    "    describe_lda_mi[\"mean\"].to_numpy()[0],\n",
    "    describe_lda_mi[\"std\"].to_numpy()[0],\n",
    "]"
   ]
  },
  {
   "cell_type": "code",
   "execution_count": 46,
   "id": "16874164",
   "metadata": {
    "ExecuteTime": {
     "end_time": "2022-12-22T18:26:09.323043Z",
     "start_time": "2022-12-22T18:26:09.313453Z"
    }
   },
   "outputs": [
    {
     "data": {
      "text/html": [
       "<style type=\"text/css\">\n",
       "</style>\n",
       "<table id=\"T_90b6a\">\n",
       "  <thead>\n",
       "    <tr>\n",
       "      <th class=\"blank level0\" >&nbsp;</th>\n",
       "      <th id=\"T_90b6a_level0_col0\" class=\"col_heading level0 col0\" >埋め込み次元</th>\n",
       "      <th id=\"T_90b6a_level0_col1\" class=\"col_heading level0 col1\" >mutual information</th>\n",
       "      <th id=\"T_90b6a_level0_col2\" class=\"col_heading level0 col2\" >分散</th>\n",
       "    </tr>\n",
       "  </thead>\n",
       "  <tbody>\n",
       "    <tr>\n",
       "      <th id=\"T_90b6a_level0_row0\" class=\"row_heading level0 row0\" >doc2vec</th>\n",
       "      <td id=\"T_90b6a_row0_col0\" class=\"data row0 col0\" >6.000000</td>\n",
       "      <td id=\"T_90b6a_row0_col1\" class=\"data row0 col1\" >0.216080</td>\n",
       "      <td id=\"T_90b6a_row0_col2\" class=\"data row0 col2\" >0.000567</td>\n",
       "    </tr>\n",
       "    <tr>\n",
       "      <th id=\"T_90b6a_level0_row1\" class=\"row_heading level0 row1\" >sentenceBERT</th>\n",
       "      <td id=\"T_90b6a_row1_col0\" class=\"data row1 col0\" >80.000000</td>\n",
       "      <td id=\"T_90b6a_row1_col1\" class=\"data row1 col1\" >0.520092</td>\n",
       "      <td id=\"T_90b6a_row1_col2\" class=\"data row1 col2\" >0.000042</td>\n",
       "    </tr>\n",
       "    <tr>\n",
       "      <th id=\"T_90b6a_level0_row2\" class=\"row_heading level0 row2\" >LDA</th>\n",
       "      <td id=\"T_90b6a_row2_col0\" class=\"data row2 col0\" >nan</td>\n",
       "      <td id=\"T_90b6a_row2_col1\" class=\"data row2 col1\" >0.022580</td>\n",
       "      <td id=\"T_90b6a_row2_col2\" class=\"data row2 col2\" >0.008628</td>\n",
       "    </tr>\n",
       "  </tbody>\n",
       "</table>\n"
      ],
      "text/plain": [
       "<pandas.io.formats.style.Styler at 0x7f67eae0c370>"
      ]
     },
     "execution_count": 46,
     "metadata": {},
     "output_type": "execute_result"
    }
   ],
   "source": [
    "chart_df.T.style.format(\n",
    "    escape=\"latex\", formatter={\"document_count\": \"{:.0f}\"}\n",
    ")"
   ]
  },
  {
   "cell_type": "code",
   "execution_count": 48,
   "id": "8aa6d62c",
   "metadata": {
    "ExecuteTime": {
     "end_time": "2022-12-23T05:54:46.214137Z",
     "start_time": "2022-12-23T05:54:46.207488Z"
    }
   },
   "outputs": [
    {
     "name": "stdout",
     "output_type": "stream",
     "text": [
      "\\begin{table}[h]\n",
      "\\centering\n",
      "\\caption{miの比較と埋め込み次元}\n",
      "\\label{table:1}\n",
      "\\begin{tabular}{rrrr}\n",
      "\\toprule\n",
      " & 埋め込み次元 & mutual information & 分散 \\\\\n",
      "\\midrule\n",
      "doc2vec & 6.000 & 0.216 & 0.001 \\\\\n",
      "sentenceBERT & 80.000 & 0.520 & 0.000 \\\\\n",
      "LDA & nan & 0.023 & 0.009 \\\\\n",
      "\\bottomrule\n",
      "\\end{tabular}\n",
      "\\end{table}\n",
      "\n"
     ]
    }
   ],
   "source": [
    "print(\n",
    "    chart_df.T.style.format(precision=3, escape=\"latex\").to_latex(\n",
    "        column_format=\"rrrr\",\n",
    "        position=\"h\",\n",
    "        position_float=\"centering\",\n",
    "        hrules=True,\n",
    "        caption=\"miの比較と埋め込み次元\",\n",
    "        label=\"table:1\",\n",
    "        multicol_align=\"r\",\n",
    "    )\n",
    ")"
   ]
  },
  {
   "cell_type": "code",
   "execution_count": null,
   "id": "f95c37c1",
   "metadata": {},
   "outputs": [],
   "source": []
  },
  {
   "cell_type": "code",
   "execution_count": null,
   "id": "d1e956bf",
   "metadata": {},
   "outputs": [],
   "source": []
  },
  {
   "cell_type": "code",
   "execution_count": null,
   "id": "1f7d2bfa",
   "metadata": {},
   "outputs": [],
   "source": []
  },
  {
   "cell_type": "code",
   "execution_count": null,
   "id": "f9285899",
   "metadata": {},
   "outputs": [],
   "source": []
  }
 ],
 "metadata": {
  "kernelspec": {
   "display_name": "Python 3 (ipykernel)",
   "language": "python",
   "name": "python3"
  },
  "language_info": {
   "codemirror_mode": {
    "name": "ipython",
    "version": 3
   },
   "file_extension": ".py",
   "mimetype": "text/x-python",
   "name": "python",
   "nbconvert_exporter": "python",
   "pygments_lexer": "ipython3",
   "version": "3.10.8"
  },
  "toc": {
   "base_numbering": 1,
   "nav_menu": {},
   "number_sections": true,
   "sideBar": true,
   "skip_h1_title": false,
   "title_cell": "Table of Contents",
   "title_sidebar": "Contents",
   "toc_cell": false,
   "toc_position": {},
   "toc_section_display": true,
   "toc_window_display": false
  }
 },
 "nbformat": 4,
 "nbformat_minor": 5
}
