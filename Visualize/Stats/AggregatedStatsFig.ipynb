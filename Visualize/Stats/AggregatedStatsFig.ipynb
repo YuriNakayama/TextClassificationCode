{
 "cells": [
  {
   "cell_type": "markdown",
   "id": "b95f9187",
   "metadata": {},
   "source": [
    "# Import"
   ]
  },
  {
   "cell_type": "code",
   "execution_count": 73,
   "id": "80a85ab5",
   "metadata": {
    "ExecuteTime": {
     "end_time": "2022-12-27T14:36:39.990533Z",
     "start_time": "2022-12-27T14:36:39.987255Z"
    }
   },
   "outputs": [],
   "source": [
    "import csv\n",
    "import os\n",
    "import pickle\n",
    "import sys\n",
    "\n",
    "import matplotlib.pyplot as plt\n",
    "import seaborn as sns\n",
    "import numpy as np\n",
    "import pandas as pd\n",
    "from tqdm import tqdm"
   ]
  },
  {
   "cell_type": "markdown",
   "id": "2543f4e4",
   "metadata": {},
   "source": [
    "## Add configuration file"
   ]
  },
  {
   "cell_type": "code",
   "execution_count": 74,
   "id": "b62547de",
   "metadata": {
    "ExecuteTime": {
     "end_time": "2022-12-27T14:36:40.564365Z",
     "start_time": "2022-12-27T14:36:40.561135Z"
    }
   },
   "outputs": [],
   "source": [
    "sys.path.append(\"/home/jovyan/core/config/\")\n",
    "sys.path.append(\"/home/jovyan/core/util/\")\n",
    "sys.path.append(\"../PlotFunction/lineplot/\")\n",
    "sys.path.append(\"../PlotFunction/config/\")"
   ]
  },
  {
   "cell_type": "code",
   "execution_count": 75,
   "id": "84da401b",
   "metadata": {
    "ExecuteTime": {
     "end_time": "2022-12-27T14:36:40.648720Z",
     "start_time": "2022-12-27T14:36:40.645507Z"
    }
   },
   "outputs": [],
   "source": [
    "from ALL import config\n",
    "from line_plot_1 import line_plot_1\n",
    "from line_plot_error_1 import line_plot_error_1\n",
    "from line_plot_error_1_layout import layout\n",
    "from util import *"
   ]
  },
  {
   "cell_type": "markdown",
   "id": "9330548e",
   "metadata": {},
   "source": [
    "## Set condition"
   ]
  },
  {
   "cell_type": "code",
   "execution_count": 76,
   "id": "a30f3623",
   "metadata": {
    "ExecuteTime": {
     "end_time": "2022-12-27T14:36:40.813715Z",
     "start_time": "2022-12-27T14:36:40.809551Z"
    }
   },
   "outputs": [],
   "source": [
    "tqdm.pandas()\n",
    "pd.set_option(\"display.max_columns\", 100)\n",
    "pd.set_option(\"display.max_rows\", 50)"
   ]
  },
  {
   "cell_type": "code",
   "execution_count": 77,
   "id": "ee9bf4ad",
   "metadata": {
    "ExecuteTime": {
     "end_time": "2022-12-27T14:36:40.897450Z",
     "start_time": "2022-12-27T14:36:40.894489Z"
    }
   },
   "outputs": [],
   "source": [
    "data_type = \"AgNews\"\n",
    "vectorize_types = [\"doc2vec\", \"sentenceBERT\"]"
   ]
  },
  {
   "cell_type": "markdown",
   "id": "52c60a4f",
   "metadata": {},
   "source": [
    "# Read data"
   ]
  },
  {
   "cell_type": "code",
   "execution_count": 78,
   "id": "c81d3638",
   "metadata": {
    "ExecuteTime": {
     "end_time": "2022-12-27T14:36:42.357187Z",
     "start_time": "2022-12-27T14:36:41.062091Z"
    },
    "scrolled": true
   },
   "outputs": [],
   "source": [
    "df = pd.read_csv(\n",
    "    f\"../../Preprocessing/data/{data_type}/master.csv\", index_col=0\n",
    ")"
   ]
  },
  {
   "cell_type": "code",
   "execution_count": 79,
   "id": "95389cd0",
   "metadata": {
    "ExecuteTime": {
     "end_time": "2022-12-27T14:36:42.363438Z",
     "start_time": "2022-12-27T14:36:42.360222Z"
    }
   },
   "outputs": [],
   "source": [
    "with open(f\"../../Preprocessing/data/{data_type}/class.csv\", mode=\"r\") as f:\n",
    "    reader = csv.reader(f)\n",
    "    class_labels = [label for label in reader]"
   ]
  },
  {
   "cell_type": "code",
   "execution_count": 80,
   "id": "c112357f",
   "metadata": {
    "ExecuteTime": {
     "end_time": "2022-12-27T14:36:42.372268Z",
     "start_time": "2022-12-27T14:36:42.365915Z"
    }
   },
   "outputs": [],
   "source": [
    "vector_dims = config[\"vectorize\"][\"doc2vec\"][\"dims\"]\n",
    "model_nums = config[\"clustering\"][\"gmm\"][\"max_model_num\"]\n",
    "vector_model_num = config[\"vectorize\"][\"doc2vec\"][\"max_model_num\"]\n",
    "normalization = \"centralized\"\n",
    "covariance_types = ['spherical', 'diag', 'full']"
   ]
  },
  {
   "cell_type": "code",
   "execution_count": 81,
   "id": "8847dbdc",
   "metadata": {
    "ExecuteTime": {
     "end_time": "2022-12-27T14:36:42.378639Z",
     "start_time": "2022-12-27T14:36:42.375537Z"
    }
   },
   "outputs": [],
   "source": [
    "stats_vals = [\"mi\"]"
   ]
  },
  {
   "cell_type": "code",
   "execution_count": 82,
   "id": "d6278852",
   "metadata": {
    "ExecuteTime": {
     "end_time": "2022-12-27T14:36:42.386975Z",
     "start_time": "2022-12-27T14:36:42.381198Z"
    },
    "scrolled": true
   },
   "outputs": [],
   "source": [
    "def get_stats_vals(\n",
    "    data_type, vectorize_type, covariance_types, normalization, stats_vals\n",
    "):\n",
    "    # データ型定義\n",
    "    stats = {\n",
    "        stats_val: {\n",
    "            covariance_type: {\n",
    "                model_num: pd.DataFrame for model_num in range(model_nums)\n",
    "            }\n",
    "            for covariance_type in covariance_types\n",
    "        }\n",
    "        for stats_val in stats_vals\n",
    "    }\n",
    "\n",
    "    # データ取得\n",
    "    for stats_val in stats_vals:\n",
    "        for covariance_type in covariance_types:\n",
    "            for model_num in range(model_nums):\n",
    "                stats_path = f\"../../Postprocessing/data/{data_type}/{vectorize_type}/GMM/stats/{normalization}/{covariance_type}/{model_num}.csv\"\n",
    "                df = pd.read_csv(stats_path, index_col=0)\n",
    "                stats[stats_val][covariance_type][model_num] = df.loc[:, stats_val]\n",
    "    return stats"
   ]
  },
  {
   "cell_type": "code",
   "execution_count": 83,
   "id": "17558240",
   "metadata": {
    "ExecuteTime": {
     "end_time": "2022-12-27T14:36:42.797012Z",
     "start_time": "2022-12-27T14:36:42.389364Z"
    }
   },
   "outputs": [],
   "source": [
    "stats = {\n",
    "    vectorize_type: get_stats_vals(\n",
    "        data_type, vectorize_type, covariance_types, normalization, stats_vals\n",
    "    )\n",
    "    for vectorize_type in vectorize_types\n",
    "}"
   ]
  },
  {
   "cell_type": "code",
   "execution_count": 84,
   "id": "de0abf8c",
   "metadata": {
    "ExecuteTime": {
     "end_time": "2022-12-27T14:36:42.813332Z",
     "start_time": "2022-12-27T14:36:42.803046Z"
    }
   },
   "outputs": [],
   "source": [
    "lda_mi = pd.read_csv(f\"../../Postprocessing/data/{data_type}/LDA/mi.csv\", index_col=0)"
   ]
  },
  {
   "cell_type": "code",
   "execution_count": 85,
   "id": "5d9a3d9b",
   "metadata": {
    "ExecuteTime": {
     "end_time": "2022-12-27T14:36:42.830366Z",
     "start_time": "2022-12-27T14:36:42.818848Z"
    }
   },
   "outputs": [],
   "source": [
    "describe_lda_mi, _ = get_describe(lda_mi, axis=0)"
   ]
  },
  {
   "cell_type": "markdown",
   "id": "cdcd9c68",
   "metadata": {},
   "source": [
    "# Data shaping"
   ]
  },
  {
   "cell_type": "code",
   "execution_count": 86,
   "id": "ee2c3cdf",
   "metadata": {
    "ExecuteTime": {
     "end_time": "2022-12-27T14:36:42.844716Z",
     "start_time": "2022-12-27T14:36:42.836252Z"
    },
    "code_folding": [
     0
    ]
   },
   "outputs": [],
   "source": [
    "def make_stats_df(stats, covariance_types, stats_vals):\n",
    "    stats_df = {\n",
    "        stats_val: {covariance_type: pd.DataFrame() for covariance_type in covariance_types}\n",
    "        for stats_val in stats_vals\n",
    "    }\n",
    "\n",
    "    for stats_val in stats_vals:\n",
    "        for covariance_type in covariance_types:\n",
    "            # model_numについて取得データstatsを結合\n",
    "            stats_df[stats_val][covariance_type] = pd.concat(\n",
    "                stats[stats_val][covariance_type], axis=1\n",
    "            )\n",
    "    return stats_df"
   ]
  },
  {
   "cell_type": "code",
   "execution_count": 87,
   "id": "3b8c1c28",
   "metadata": {
    "ExecuteTime": {
     "end_time": "2022-12-27T14:36:42.896764Z",
     "start_time": "2022-12-27T14:36:42.852723Z"
    }
   },
   "outputs": [],
   "source": [
    "stats_df = {\n",
    "    vectorize_type: make_stats_df(stats[vectorize_type], covariance_types, stats_vals)\n",
    "    for vectorize_type in vectorize_types\n",
    "}"
   ]
  },
  {
   "cell_type": "code",
   "execution_count": 88,
   "id": "c8ff0afb",
   "metadata": {
    "ExecuteTime": {
     "end_time": "2022-12-27T14:36:42.904690Z",
     "start_time": "2022-12-27T14:36:42.898774Z"
    },
    "code_folding": []
   },
   "outputs": [],
   "source": [
    "def make_describe(stats_df, covariance_type, stats_vals):\n",
    "    describe = {\n",
    "        stats_val: {covariance_type: dict() for covariance_type in covariance_types}\n",
    "        for stats_val in stats_vals\n",
    "    }\n",
    "\n",
    "    for stats_val in stats_vals:\n",
    "        for covariance_type in covariance_types:\n",
    "            describe[stats_val][covariance_type], describe_keys = get_describe(\n",
    "                stats_df[stats_val][covariance_type], axis=1\n",
    "            )\n",
    "    return describe, describe_keys"
   ]
  },
  {
   "cell_type": "code",
   "execution_count": 89,
   "id": "c87c2689",
   "metadata": {
    "ExecuteTime": {
     "end_time": "2022-12-27T14:36:42.933683Z",
     "start_time": "2022-12-27T14:36:42.906512Z"
    }
   },
   "outputs": [],
   "source": [
    "describe = {vectorize_type: {} for vectorize_type in vectorize_types}\n",
    "for vectorize_type in vectorize_types:\n",
    "    _describe, describe_keys = make_describe(stats_df[vectorize_type], covariance_types, stats_vals)\n",
    "    describe[vectorize_type] = _describe"
   ]
  },
  {
   "cell_type": "code",
   "execution_count": 90,
   "id": "3624d9a0",
   "metadata": {
    "ExecuteTime": {
     "end_time": "2022-12-27T14:36:42.940674Z",
     "start_time": "2022-12-27T14:36:42.935776Z"
    },
    "code_folding": []
   },
   "outputs": [],
   "source": [
    "def make_data(describe, covariance_types, stats_vals, describe_keys):\n",
    "    data = {\n",
    "        stats_val: {describe_key: pd.DataFrame() for describe_key in describe_keys}\n",
    "        for stats_val in stats_vals\n",
    "    }\n",
    "    for stats_val in stats_vals:\n",
    "        for describe_key in describe_keys:\n",
    "            # covariance_typeについてデータを結合\n",
    "            _data = {\n",
    "                covariance_type: describe[stats_val][covariance_type][describe_key]\n",
    "                for covariance_type in covariance_types\n",
    "            }\n",
    "            data[stats_val][describe_key] = pd.concat(_data, axis=1)\n",
    "    return data"
   ]
  },
  {
   "cell_type": "code",
   "execution_count": 91,
   "id": "b0c5dd64",
   "metadata": {
    "ExecuteTime": {
     "end_time": "2022-12-27T14:36:43.052088Z",
     "start_time": "2022-12-27T14:36:43.026128Z"
    }
   },
   "outputs": [],
   "source": [
    "data = {\n",
    "    vectorize_type: make_data(\n",
    "        describe[vectorize_type], covariance_types, stats_vals, describe_keys\n",
    "    )\n",
    "    for vectorize_type in vectorize_types\n",
    "}"
   ]
  },
  {
   "cell_type": "code",
   "execution_count": 92,
   "id": "d8660cfb",
   "metadata": {
    "ExecuteTime": {
     "end_time": "2022-12-27T14:36:43.223364Z",
     "start_time": "2022-12-27T14:36:43.217136Z"
    }
   },
   "outputs": [],
   "source": [
    "error_low = {\n",
    "    vectorize_type: data[vectorize_type][\"mi\"][\"std\"]\n",
    "    for vectorize_type in vectorize_types\n",
    "}\n",
    "error_upper = {\n",
    "    vectorize_type: data[vectorize_type][\"mi\"][\"std\"]\n",
    "    for vectorize_type in vectorize_types\n",
    "}\n",
    "title = f\"{data_type}    ({vectorize_type})\"\n",
    "xlabel = \"埋め込み次元\"\n",
    "ylabel = \"mi\"\n",
    "yticks = np.arange(0, 1.1, 0.1)\n",
    "# path = fig_path"
   ]
  },
  {
   "cell_type": "code",
   "execution_count": 93,
   "id": "b6f35e4a",
   "metadata": {
    "ExecuteTime": {
     "end_time": "2022-12-27T14:36:44.438091Z",
     "start_time": "2022-12-27T14:36:43.436956Z"
    }
   },
   "outputs": [
    {
     "data": {
      "image/png": "[encoded data removed]",
      "text/plain": [
       "<Figure size 800x800 with 1 Axes>"
      ]
     },
     "metadata": {},
     "output_type": "display_data"
    }
   ],
   "source": [
    "fig = plt.figure(**layout[\"figure\"])\n",
    "ax = fig.add_subplot(111)\n",
    "fig_path = f\"../data/figure/{data_type}/{vectorize_type}/GMM/stats/mi.pdf\"\n",
    "ax.set_xscale(\"log\")\n",
    "\n",
    "ax.spines[\"top\"].set_visible(False)\n",
    "ax.spines[\"right\"].set_visible(False)\n",
    "for vectorize_type in vectorize_types:\n",
    "    for column in data[vectorize_type][\"mi\"][\"mean\"].columns:\n",
    "        ax.errorbar(\n",
    "            x=data[vectorize_type][\"mi\"][\"mean\"].index.to_numpy(),\n",
    "            y=data[vectorize_type][\"mi\"][\"mean\"].loc[:, column].to_numpy(),\n",
    "            yerr=np.stack(\n",
    "                [\n",
    "                    error_low[vectorize_type].loc[:, column].to_numpy(),\n",
    "                    error_upper[vectorize_type].loc[:, column].to_numpy(),\n",
    "                ],\n",
    "            ),\n",
    "            label=column,\n",
    "            **layout[\"plot\"],\n",
    "        )\n",
    "\n",
    "# ax.axhline(\n",
    "#     y=describe_lda_mi[\"mean\"].to_numpy(), linestyle=\"dashed\", color=\"gray\", label=\"LDA\"\n",
    "# )\n",
    "\n",
    "ax.set_title(title, **layout[\"title\"])\n",
    "\n",
    "ax.set_xlabel(xlabel, **layout[\"label\"])\n",
    "ax.set_ylabel(ylabel, **layout[\"label\"])\n",
    "ax.set_yticks(ticks=yticks, **layout[\"ticks\"])\n",
    "ax.legend(**layout[\"legend\"])\n",
    "\n",
    "fig.savefig(make_filepath(fig_path))"
   ]
  },
  {
   "cell_type": "code",
   "execution_count": 94,
   "id": "d03c7775",
   "metadata": {
    "ExecuteTime": {
     "end_time": "2022-12-27T14:36:44.814642Z",
     "start_time": "2022-12-27T14:36:44.441287Z"
    },
    "scrolled": false
   },
   "outputs": [
    {
     "ename": "KeyError",
     "evalue": "'mi'",
     "output_type": "error",
     "traceback": [
      "\u001b[0;31m---------------------------------------------------------------------------\u001b[0m",
      "\u001b[0;31mKeyError\u001b[0m                                  Traceback (most recent call last)",
      "Cell \u001b[0;32mIn[94], line 6\u001b[0m\n\u001b[1;32m      3\u001b[0m fig_path \u001b[38;5;241m=\u001b[39m \u001b[38;5;124mf\u001b[39m\u001b[38;5;124m\"\u001b[39m\u001b[38;5;124m../data/figure/\u001b[39m\u001b[38;5;132;01m{\u001b[39;00mdata_type\u001b[38;5;132;01m}\u001b[39;00m\u001b[38;5;124m/\u001b[39m\u001b[38;5;132;01m{\u001b[39;00mvectorize_type\u001b[38;5;132;01m}\u001b[39;00m\u001b[38;5;124m/GMM/stats/mi.pdf\u001b[39m\u001b[38;5;124m\"\u001b[39m\n\u001b[1;32m      4\u001b[0m ax\u001b[38;5;241m.\u001b[39mset_xscale(\u001b[38;5;124m\"\u001b[39m\u001b[38;5;124mlog\u001b[39m\u001b[38;5;124m\"\u001b[39m)\n\u001b[1;32m      5\u001b[0m line_plot_error_1(\n\u001b[0;32m----> 6\u001b[0m     \u001b[43mdata\u001b[49m\u001b[43m[\u001b[49m\u001b[38;5;124;43m\"\u001b[39;49m\u001b[38;5;124;43mmi\u001b[39;49m\u001b[38;5;124;43m\"\u001b[39;49m\u001b[43m]\u001b[49m[\u001b[38;5;124m\"\u001b[39m\u001b[38;5;124mmean\u001b[39m\u001b[38;5;124m\"\u001b[39m],\n\u001b[1;32m      7\u001b[0m     error_low\u001b[38;5;241m=\u001b[39mdata[\u001b[38;5;124m\"\u001b[39m\u001b[38;5;124mmi\u001b[39m\u001b[38;5;124m\"\u001b[39m][\u001b[38;5;124m\"\u001b[39m\u001b[38;5;124mstd\u001b[39m\u001b[38;5;124m\"\u001b[39m],\n\u001b[1;32m      8\u001b[0m     error_upper\u001b[38;5;241m=\u001b[39mdata[\u001b[38;5;124m\"\u001b[39m\u001b[38;5;124mmi\u001b[39m\u001b[38;5;124m\"\u001b[39m][\u001b[38;5;124m\"\u001b[39m\u001b[38;5;124mstd\u001b[39m\u001b[38;5;124m\"\u001b[39m],\n\u001b[1;32m      9\u001b[0m     fig\u001b[38;5;241m=\u001b[39mfig,\n\u001b[1;32m     10\u001b[0m     ax\u001b[38;5;241m=\u001b[39max,\n\u001b[1;32m     11\u001b[0m     layout\u001b[38;5;241m=\u001b[39mlayout,\n\u001b[1;32m     12\u001b[0m     title\u001b[38;5;241m=\u001b[39m\u001b[38;5;124mf\u001b[39m\u001b[38;5;124m\"\u001b[39m\u001b[38;5;132;01m{\u001b[39;00mdata_type\u001b[38;5;132;01m}\u001b[39;00m\u001b[38;5;124m    (\u001b[39m\u001b[38;5;132;01m{\u001b[39;00mvectorize_type\u001b[38;5;132;01m}\u001b[39;00m\u001b[38;5;124m)\u001b[39m\u001b[38;5;124m\"\u001b[39m,\n\u001b[1;32m     13\u001b[0m     xlabel\u001b[38;5;241m=\u001b[39m\u001b[38;5;124m\"\u001b[39m\u001b[38;5;124m埋め込み次元\u001b[39m\u001b[38;5;124m\"\u001b[39m,\n\u001b[1;32m     14\u001b[0m     ylabel\u001b[38;5;241m=\u001b[39m\u001b[38;5;124m\"\u001b[39m\u001b[38;5;124mmi\u001b[39m\u001b[38;5;124m\"\u001b[39m,\n\u001b[1;32m     15\u001b[0m     yticks\u001b[38;5;241m=\u001b[39mnp\u001b[38;5;241m.\u001b[39marange(\u001b[38;5;241m0.5\u001b[39m, \u001b[38;5;241m0.8\u001b[39m, \u001b[38;5;241m0.02\u001b[39m),\n\u001b[1;32m     16\u001b[0m     path\u001b[38;5;241m=\u001b[39mfig_path,\n\u001b[1;32m     17\u001b[0m )\n\u001b[1;32m     19\u001b[0m \u001b[38;5;66;03m# ax.axhline(\u001b[39;00m\n\u001b[1;32m     20\u001b[0m \u001b[38;5;66;03m#     y=describe_lda_mi[\"mean\"].to_numpy(), linestyle=\"dashed\", color=\"gray\"\u001b[39;00m\n\u001b[1;32m     21\u001b[0m \u001b[38;5;66;03m# )\u001b[39;00m\n",
      "\u001b[0;31mKeyError\u001b[0m: 'mi'"
     ]
    },
    {
     "data": {
      "image/png": "[encoded data removed]",
      "text/plain": [
       "<Figure size 800x800 with 1 Axes>"
      ]
     },
     "metadata": {},
     "output_type": "display_data"
    }
   ],
   "source": [
    "fig = plt.figure(**layout[\"figure\"])\n",
    "ax = fig.add_subplot(111)\n",
    "fig_path = f\"../data/figure/{data_type}/{vectorize_type}/GMM/stats/mi.pdf\"\n",
    "ax.set_xscale(\"log\")\n",
    "line_plot_error_1(\n",
    "    data[\"mi\"][\"mean\"],\n",
    "    error_low=data[\"mi\"][\"std\"],\n",
    "    error_upper=data[\"mi\"][\"std\"],\n",
    "    fig=fig,\n",
    "    ax=ax,\n",
    "    layout=layout,\n",
    "    title=f\"{data_type}    ({vectorize_type})\",\n",
    "    xlabel=\"埋め込み次元\",\n",
    "    ylabel=\"mi\",\n",
    "    yticks=np.arange(0.5, 0.8, 0.02),\n",
    "    path=fig_path,\n",
    ")\n",
    "\n",
    "# ax.axhline(\n",
    "#     y=describe_lda_mi[\"mean\"].to_numpy(), linestyle=\"dashed\", color=\"gray\"\n",
    "# )"
   ]
  },
  {
   "cell_type": "code",
   "execution_count": null,
   "id": "0fdb5012",
   "metadata": {},
   "outputs": [],
   "source": []
  }
 ],
 "metadata": {
  "kernelspec": {
   "display_name": "Python 3 (ipykernel)",
   "language": "python",
   "name": "python3"
  },
  "language_info": {
   "codemirror_mode": {
    "name": "ipython",
    "version": 3
   },
   "file_extension": ".py",
   "mimetype": "text/x-python",
   "name": "python",
   "nbconvert_exporter": "python",
   "pygments_lexer": "ipython3",
   "version": "3.10.8"
  },
  "toc": {
   "base_numbering": 1,
   "nav_menu": {},
   "number_sections": true,
   "sideBar": true,
   "skip_h1_title": false,
   "title_cell": "Table of Contents",
   "title_sidebar": "Contents",
   "toc_cell": false,
   "toc_position": {},
   "toc_section_display": true,
   "toc_window_display": false
  }
 },
 "nbformat": 4,
 "nbformat_minor": 5
}
