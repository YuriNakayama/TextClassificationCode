{
 "cells": [
  {
   "cell_type": "markdown",
   "id": "b95f9187",
   "metadata": {},
   "source": [
    "# Import"
   ]
  },
  {
   "cell_type": "code",
   "execution_count": 1,
   "id": "80a85ab5",
   "metadata": {
    "ExecuteTime": {
     "end_time": "2022-12-22T16:31:17.974903Z",
     "start_time": "2022-12-22T16:31:16.984278Z"
    }
   },
   "outputs": [],
   "source": [
    "import csv\n",
    "import os\n",
    "import pickle\n",
    "import sys\n",
    "\n",
    "import matplotlib.pyplot as plt\n",
    "import seaborn as sns\n",
    "import numpy as np\n",
    "import pandas as pd\n",
    "from tqdm import tqdm"
   ]
  },
  {
   "cell_type": "markdown",
   "id": "2543f4e4",
   "metadata": {},
   "source": [
    "## Add configuration file"
   ]
  },
  {
   "cell_type": "code",
   "execution_count": 2,
   "id": "b62547de",
   "metadata": {
    "ExecuteTime": {
     "end_time": "2022-12-22T16:31:17.981162Z",
     "start_time": "2022-12-22T16:31:17.977879Z"
    }
   },
   "outputs": [],
   "source": [
    "sys.path.append(\"/home/jovyan/core/config/\")\n",
    "sys.path.append(\"/home/jovyan/core/util/\")\n",
    "sys.path.append(\"../PlotFunction/lineplot/\")\n",
    "sys.path.append(\"../PlotFunction/config/\")"
   ]
  },
  {
   "cell_type": "code",
   "execution_count": 3,
   "id": "84da401b",
   "metadata": {
    "ExecuteTime": {
     "end_time": "2022-12-22T16:31:18.105200Z",
     "start_time": "2022-12-22T16:31:17.983408Z"
    }
   },
   "outputs": [],
   "source": [
    "from ALL import config\n",
    "from line_plot_1 import line_plot_1\n",
    "from line_plot_error_1 import line_plot_error_1\n",
    "from line_plot_1_layout import layout\n",
    "from util import *"
   ]
  },
  {
   "cell_type": "markdown",
   "id": "9330548e",
   "metadata": {},
   "source": [
    "## Set condition"
   ]
  },
  {
   "cell_type": "code",
   "execution_count": 4,
   "id": "a30f3623",
   "metadata": {
    "ExecuteTime": {
     "end_time": "2022-12-22T16:31:18.110870Z",
     "start_time": "2022-12-22T16:31:18.107264Z"
    }
   },
   "outputs": [],
   "source": [
    "tqdm.pandas()\n",
    "pd.set_option(\"display.max_columns\", 100)\n",
    "pd.set_option(\"display.max_rows\", 50)"
   ]
  },
  {
   "cell_type": "code",
   "execution_count": 23,
   "id": "390719d4",
   "metadata": {
    "ExecuteTime": {
     "end_time": "2022-12-22T16:32:19.480331Z",
     "start_time": "2022-12-22T16:32:19.477096Z"
    }
   },
   "outputs": [],
   "source": [
    "data_type = \"20News\"\n",
    "vectorize_types = [\"doc2vec\", \"sentenceBERT\"]"
   ]
  },
  {
   "cell_type": "markdown",
   "id": "52c60a4f",
   "metadata": {},
   "source": [
    "# Read data"
   ]
  },
  {
   "cell_type": "code",
   "execution_count": 24,
   "id": "c112357f",
   "metadata": {
    "ExecuteTime": {
     "end_time": "2022-12-22T16:32:23.108662Z",
     "start_time": "2022-12-22T16:32:23.105335Z"
    }
   },
   "outputs": [],
   "source": [
    "model_nums = config[\"clustering\"][\"gmm\"][\"max_model_num\"]\n",
    "covariance_types = config[\"clustering\"][\"gmm\"][\"covariance_types\"]"
   ]
  },
  {
   "cell_type": "code",
   "execution_count": 25,
   "id": "8847dbdc",
   "metadata": {
    "ExecuteTime": {
     "end_time": "2022-12-22T16:32:23.299611Z",
     "start_time": "2022-12-22T16:32:23.296512Z"
    }
   },
   "outputs": [],
   "source": [
    "stats_vals = [\"aic\", \"bic\", \"mi\", \"logl\"]"
   ]
  },
  {
   "cell_type": "code",
   "execution_count": 10,
   "id": "d6278852",
   "metadata": {
    "ExecuteTime": {
     "end_time": "2022-12-22T16:31:18.991835Z",
     "start_time": "2022-12-22T16:31:18.146651Z"
    }
   },
   "outputs": [],
   "source": [
    "# データ型定義\n",
    "stats = {\n",
    "    stats_val: {\n",
    "        covariance_type: {model_num: pd.DataFrame for model_num in range(model_nums)}\n",
    "        for covariance_type in covariance_types\n",
    "    }\n",
    "    for stats_val in stats_vals\n",
    "}\n",
    "\n",
    "# データ取得\n",
    "for stats_val in stats_vals:\n",
    "    for covariance_type in covariance_types:\n",
    "        for model_num in range(model_nums):\n",
    "            stats_path = f\"../../Postprocessing/data/{data_type}/{vectorize_type}/GMM/stats/{covariance_type}/{model_num}.csv\"\n",
    "            df = pd.read_csv(stats_path, index_col=0)\n",
    "            stats[stats_val][covariance_type][model_num] = df.loc[:, stats_val]"
   ]
  },
  {
   "cell_type": "code",
   "execution_count": 11,
   "id": "7647317d",
   "metadata": {
    "ExecuteTime": {
     "end_time": "2022-12-22T16:31:18.999134Z",
     "start_time": "2022-12-22T16:31:18.993935Z"
    }
   },
   "outputs": [],
   "source": [
    "lda_mi = pd.read_csv(f\"../../Postprocessing/data/{data_type}/LDA/mi.csv\", index_col=0)"
   ]
  },
  {
   "cell_type": "code",
   "execution_count": 12,
   "id": "24b77ae0",
   "metadata": {
    "ExecuteTime": {
     "end_time": "2022-12-22T16:31:19.009233Z",
     "start_time": "2022-12-22T16:31:19.001160Z"
    }
   },
   "outputs": [],
   "source": [
    "describe_lda_mi, _ = get_describe(lda_mi, axis=0)"
   ]
  },
  {
   "cell_type": "markdown",
   "id": "c963c854",
   "metadata": {},
   "source": [
    "# Data shaping"
   ]
  },
  {
   "cell_type": "code",
   "execution_count": 13,
   "id": "ee2c3cdf",
   "metadata": {
    "ExecuteTime": {
     "end_time": "2022-12-22T16:31:19.081720Z",
     "start_time": "2022-12-22T16:31:19.011112Z"
    }
   },
   "outputs": [],
   "source": [
    "stats_df = {\n",
    "    stats_val: {covariance_type: pd.DataFrame() for covariance_type in covariance_types}\n",
    "    for stats_val in stats_vals\n",
    "}\n",
    "\n",
    "for stats_val in stats_vals:\n",
    "    for covariance_type in covariance_types:\n",
    "        # model_numについて取得データstatsを結合\n",
    "        stats_df[stats_val][covariance_type] = pd.concat(\n",
    "            stats[stats_val][covariance_type], axis=1\n",
    "        )"
   ]
  },
  {
   "cell_type": "code",
   "execution_count": 14,
   "id": "ad3c2855",
   "metadata": {
    "ExecuteTime": {
     "end_time": "2022-12-22T16:31:19.128254Z",
     "start_time": "2022-12-22T16:31:19.085928Z"
    }
   },
   "outputs": [],
   "source": [
    "describe = {\n",
    "    stats_val: {covariance_type: dict() for covariance_type in covariance_types}\n",
    "    for stats_val in stats_vals\n",
    "}\n",
    "\n",
    "for stats_val in stats_vals:\n",
    "    for covariance_type in covariance_types:\n",
    "        describe[stats_val][covariance_type], describe_keys = get_describe(\n",
    "            stats_df[stats_val][covariance_type], axis=1\n",
    "        )"
   ]
  },
  {
   "cell_type": "code",
   "execution_count": 15,
   "id": "d4c180f0",
   "metadata": {
    "ExecuteTime": {
     "end_time": "2022-12-22T16:31:19.159871Z",
     "start_time": "2022-12-22T16:31:19.130541Z"
    }
   },
   "outputs": [],
   "source": [
    "data = {\n",
    "    stats_val: {describe_key: pd.DataFrame() for describe_key in describe_keys}\n",
    "    for stats_val in stats_vals\n",
    "}\n",
    "for stats_val in stats_vals:\n",
    "    for describe_key in describe_keys:\n",
    "        # covariance_typeについてデータを結合\n",
    "        _data = {\n",
    "            covariance_type: describe[stats_val][covariance_type][describe_key]\n",
    "            for covariance_type in covariance_types\n",
    "        }\n",
    "        data[stats_val][describe_key] = pd.concat(_data, axis=1)"
   ]
  },
  {
   "cell_type": "code",
   "execution_count": 16,
   "id": "d03c7775",
   "metadata": {
    "ExecuteTime": {
     "end_time": "2022-12-22T16:31:19.166839Z",
     "start_time": "2022-12-22T16:31:19.164196Z"
    }
   },
   "outputs": [],
   "source": [
    "for stats_val in stats_vals:\n",
    "    _data = data[stats_val][\"mean\"]"
   ]
  },
  {
   "cell_type": "markdown",
   "id": "5b7b6782",
   "metadata": {},
   "source": [
    "# Make Chart"
   ]
  },
  {
   "cell_type": "code",
   "execution_count": 17,
   "id": "d1d52974",
   "metadata": {
    "ExecuteTime": {
     "end_time": "2022-12-22T16:31:19.178902Z",
     "start_time": "2022-12-22T16:31:19.168943Z"
    },
    "scrolled": true
   },
   "outputs": [],
   "source": [
    "mi_max_idx = data[\"mi\"][\"mean\"].stack().idxmax()"
   ]
  },
  {
   "cell_type": "code",
   "execution_count": 18,
   "id": "35be683c",
   "metadata": {
    "ExecuteTime": {
     "end_time": "2022-12-22T16:31:19.184664Z",
     "start_time": "2022-12-22T16:31:19.180803Z"
    }
   },
   "outputs": [],
   "source": [
    "chart_data = {vectorize_type: {\n",
    "    \"埋め込み次元\": mi_max_idx[0],\n",
    "    \"mutual information\": data[\"mi\"][\"mean\"].loc[mi_max_idx],\n",
    "    \"分散\": data[\"mi\"][\"std\"].loc[mi_max_idx]\n",
    "}}"
   ]
  },
  {
   "cell_type": "code",
   "execution_count": 19,
   "id": "5c6e344c",
   "metadata": {
    "ExecuteTime": {
     "end_time": "2022-12-22T16:31:19.202174Z",
     "start_time": "2022-12-22T16:31:19.186787Z"
    }
   },
   "outputs": [
    {
     "data": {
      "text/plain": [
       "{'sentenceBERT': {'埋め込み次元': 10,\n",
       "  'mutual information': 0.6328436557631199,\n",
       "  '分散': 0.009302632150168468}}"
      ]
     },
     "execution_count": 19,
     "metadata": {},
     "output_type": "execute_result"
    }
   ],
   "source": [
    "chart_data"
   ]
  },
  {
   "cell_type": "code",
   "execution_count": 20,
   "id": "5c9dda3c",
   "metadata": {
    "ExecuteTime": {
     "end_time": "2022-12-22T16:31:19.208713Z",
     "start_time": "2022-12-22T16:31:19.204340Z"
    },
    "scrolled": true
   },
   "outputs": [],
   "source": [
    "chart_df = pd.DataFrame(chart_data)"
   ]
  },
  {
   "cell_type": "code",
   "execution_count": 21,
   "id": "b6e558f5",
   "metadata": {
    "ExecuteTime": {
     "end_time": "2022-12-22T16:31:19.215831Z",
     "start_time": "2022-12-22T16:31:19.212190Z"
    }
   },
   "outputs": [],
   "source": [
    "chart_df[\"LDA\"] = [\n",
    "    describe_lda_mi[\"mean\"].to_numpy()[0],\n",
    "    describe_lda_mi[\"std\"].to_numpy()[0],\n",
    "        np.NaN,\n",
    "]"
   ]
  },
  {
   "cell_type": "code",
   "execution_count": 96,
   "id": "925bad0c",
   "metadata": {
    "ExecuteTime": {
     "end_time": "2022-12-22T16:29:37.051656Z",
     "start_time": "2022-12-22T16:29:37.044188Z"
    }
   },
   "outputs": [
    {
     "data": {
      "text/html": [
       "<style type=\"text/css\">\n",
       "</style>\n",
       "<table id=\"T_30492\">\n",
       "  <thead>\n",
       "    <tr>\n",
       "      <th class=\"blank level0\" >&nbsp;</th>\n",
       "      <th id=\"T_30492_level0_col0\" class=\"col_heading level0 col0\" >mutual information</th>\n",
       "      <th id=\"T_30492_level0_col1\" class=\"col_heading level0 col1\" >分散</th>\n",
       "      <th id=\"T_30492_level0_col2\" class=\"col_heading level0 col2\" >埋め込み次元</th>\n",
       "    </tr>\n",
       "  </thead>\n",
       "  <tbody>\n",
       "    <tr>\n",
       "      <th id=\"T_30492_level0_row0\" class=\"row_heading level0 row0\" >sentenceBERT</th>\n",
       "      <td id=\"T_30492_row0_col0\" class=\"data row0 col0\" >0.632844</td>\n",
       "      <td id=\"T_30492_row0_col1\" class=\"data row0 col1\" >0.009303</td>\n",
       "      <td id=\"T_30492_row0_col2\" class=\"data row0 col2\" >10.000000</td>\n",
       "    </tr>\n",
       "    <tr>\n",
       "      <th id=\"T_30492_level0_row1\" class=\"row_heading level0 row1\" >LDA</th>\n",
       "      <td id=\"T_30492_row1_col0\" class=\"data row1 col0\" >0.332196</td>\n",
       "      <td id=\"T_30492_row1_col1\" class=\"data row1 col1\" >0.016865</td>\n",
       "      <td id=\"T_30492_row1_col2\" class=\"data row1 col2\" >nan</td>\n",
       "    </tr>\n",
       "  </tbody>\n",
       "</table>\n"
      ],
      "text/plain": [
       "<pandas.io.formats.style.Styler at 0x7f818d2bbe50>"
      ]
     },
     "execution_count": 96,
     "metadata": {},
     "output_type": "execute_result"
    }
   ],
   "source": [
    "chart_df.T.style.format(\n",
    "    escape=\"latex\", formatter={\"document_count\": \"{:.0f}\"}\n",
    ")"
   ]
  },
  {
   "cell_type": "code",
   "execution_count": 97,
   "id": "831eb65a",
   "metadata": {
    "ExecuteTime": {
     "end_time": "2022-12-22T16:29:38.713734Z",
     "start_time": "2022-12-22T16:29:38.707769Z"
    }
   },
   "outputs": [
    {
     "name": "stdout",
     "output_type": "stream",
     "text": [
      "\\begin{table}[h]\n",
      "\\centering\n",
      "\\caption{データの統計値}\n",
      "\\label{table:1}\n",
      "\\begin{tabular}{rrr}\n",
      "\\toprule\n",
      " & sentenceBERT & LDA \\\\\n",
      "\\midrule\n",
      "mutual information & 0.63 & 0.33 \\\\\n",
      "分散 & 0.01 & 0.02 \\\\\n",
      "埋め込み次元 & 10.00 & nan \\\\\n",
      "\\bottomrule\n",
      "\\end{tabular}\n",
      "\\end{table}\n",
      "\n"
     ]
    }
   ],
   "source": [
    "print(\n",
    "    chart_df.style.format(precision=2, escape=\"latex\").to_latex(\n",
    "        column_format=\"rrr\",\n",
    "        position=\"h\",\n",
    "        position_float=\"centering\",\n",
    "        hrules=True,\n",
    "        caption=\"データの統計値\",\n",
    "        label=\"table:1\",\n",
    "        multicol_align=\"r\",\n",
    "    )\n",
    ")"
   ]
  },
  {
   "cell_type": "code",
   "execution_count": null,
   "id": "f95c37c1",
   "metadata": {},
   "outputs": [],
   "source": []
  },
  {
   "cell_type": "code",
   "execution_count": null,
   "id": "d1e956bf",
   "metadata": {},
   "outputs": [],
   "source": []
  },
  {
   "cell_type": "code",
   "execution_count": null,
   "id": "1f7d2bfa",
   "metadata": {},
   "outputs": [],
   "source": []
  },
  {
   "cell_type": "code",
   "execution_count": null,
   "id": "f9285899",
   "metadata": {},
   "outputs": [],
   "source": []
  }
 ],
 "metadata": {
  "kernelspec": {
   "display_name": "Python 3 (ipykernel)",
   "language": "python",
   "name": "python3"
  },
  "language_info": {
   "codemirror_mode": {
    "name": "ipython",
    "version": 3
   },
   "file_extension": ".py",
   "mimetype": "text/x-python",
   "name": "python",
   "nbconvert_exporter": "python",
   "pygments_lexer": "ipython3",
   "version": "3.10.8"
  },
  "toc": {
   "base_numbering": 1,
   "nav_menu": {},
   "number_sections": true,
   "sideBar": true,
   "skip_h1_title": false,
   "title_cell": "Table of Contents",
   "title_sidebar": "Contents",
   "toc_cell": false,
   "toc_position": {},
   "toc_section_display": true,
   "toc_window_display": false
  }
 },
 "nbformat": 4,
 "nbformat_minor": 5
}
