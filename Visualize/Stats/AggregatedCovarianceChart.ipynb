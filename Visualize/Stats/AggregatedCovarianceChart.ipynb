{
 "cells": [
  {
   "cell_type": "markdown",
   "id": "b95f9187",
   "metadata": {},
   "source": [
    "# Import"
   ]
  },
  {
   "cell_type": "code",
   "execution_count": 1,
   "id": "80a85ab5",
   "metadata": {
    "ExecuteTime": {
     "end_time": "2023-01-11T13:15:55.728930Z",
     "start_time": "2023-01-11T13:15:54.604650Z"
    }
   },
   "outputs": [],
   "source": [
    "import csv\n",
    "import os\n",
    "import pickle\n",
    "import sys\n",
    "\n",
    "import matplotlib.pyplot as plt\n",
    "import seaborn as sns\n",
    "import numpy as np\n",
    "import pandas as pd\n",
    "from tqdm import tqdm"
   ]
  },
  {
   "cell_type": "markdown",
   "id": "2543f4e4",
   "metadata": {},
   "source": [
    "## Add configuration file"
   ]
  },
  {
   "cell_type": "code",
   "execution_count": 2,
   "id": "b62547de",
   "metadata": {
    "ExecuteTime": {
     "end_time": "2023-01-11T13:15:55.734864Z",
     "start_time": "2023-01-11T13:15:55.731557Z"
    }
   },
   "outputs": [],
   "source": [
    "sys.path.append(\"/home/jovyan/core/config/\")\n",
    "sys.path.append(\"/home/jovyan/core/util/\")\n",
    "sys.path.append(\"../PlotFunction/lineplot/\")\n",
    "sys.path.append(\"../PlotFunction/config/\")"
   ]
  },
  {
   "cell_type": "code",
   "execution_count": 3,
   "id": "84da401b",
   "metadata": {
    "ExecuteTime": {
     "end_time": "2023-01-11T13:15:55.799839Z",
     "start_time": "2023-01-11T13:15:55.736884Z"
    }
   },
   "outputs": [],
   "source": [
    "from ALL import config\n",
    "from line_plot_1 import line_plot_1\n",
    "from line_plot_error_1 import line_plot_error_1\n",
    "from line_plot_1_layout import layout\n",
    "from util import *"
   ]
  },
  {
   "cell_type": "markdown",
   "id": "9330548e",
   "metadata": {},
   "source": [
    "## Set condition"
   ]
  },
  {
   "cell_type": "code",
   "execution_count": 4,
   "id": "a30f3623",
   "metadata": {
    "ExecuteTime": {
     "end_time": "2023-01-11T13:15:55.806150Z",
     "start_time": "2023-01-11T13:15:55.802715Z"
    }
   },
   "outputs": [],
   "source": [
    "tqdm.pandas()\n",
    "pd.set_option(\"display.max_columns\", 100)\n",
    "pd.set_option(\"display.max_rows\", 50)"
   ]
  },
  {
   "cell_type": "code",
   "execution_count": 5,
   "id": "437dc5a7",
   "metadata": {
    "ExecuteTime": {
     "end_time": "2023-01-11T13:15:55.812959Z",
     "start_time": "2023-01-11T13:15:55.808005Z"
    }
   },
   "outputs": [],
   "source": [
    "data_types = [\"20News\", \"AgNews\"]\n",
    "vectorize_types = [\"doc2vec\", \"sentenceBERT\"]"
   ]
  },
  {
   "cell_type": "code",
   "execution_count": 6,
   "id": "c112357f",
   "metadata": {
    "ExecuteTime": {
     "end_time": "2023-01-11T13:15:55.820240Z",
     "start_time": "2023-01-11T13:15:55.815289Z"
    }
   },
   "outputs": [],
   "source": [
    "model_nums = config[\"clustering\"][\"gmm\"][\"max_model_num\"]\n",
    "# covariance_types = config[\"clustering\"][\"gmm\"][\"covariance_types\"]\n",
    "normalization = \"normalized\"\n",
    "covariance_types = [\"spherical\", \"diag\", \"full\"]\n",
    "vector_dims = {\n",
    "    \"doc2vec\": config[\"vectorize\"][\"doc2vec\"][\"dims\"],\n",
    "    \"sentenceBERT\": config[\"vectorize\"][\"sentenceBERT\"][\"dims\"] + [384],\n",
    "}"
   ]
  },
  {
   "cell_type": "code",
   "execution_count": 7,
   "id": "8847dbdc",
   "metadata": {
    "ExecuteTime": {
     "end_time": "2023-01-11T13:15:55.826911Z",
     "start_time": "2023-01-11T13:15:55.822002Z"
    }
   },
   "outputs": [],
   "source": [
    "stats_vals = [\"aic\", \"bic\", \"mi\", \"logl\"]"
   ]
  },
  {
   "cell_type": "markdown",
   "id": "296aba6f",
   "metadata": {},
   "source": [
    "# Stats"
   ]
  },
  {
   "cell_type": "markdown",
   "id": "52c60a4f",
   "metadata": {},
   "source": [
    "## Read data"
   ]
  },
  {
   "cell_type": "code",
   "execution_count": 8,
   "id": "a4efa5d6",
   "metadata": {
    "ExecuteTime": {
     "end_time": "2023-01-11T13:15:55.939396Z",
     "start_time": "2023-01-11T13:15:55.928571Z"
    }
   },
   "outputs": [],
   "source": [
    "chart_dict = {\n",
    "    data_type: pd.read_csv(f\"../data/{data_type}/CovarianceChart.csv\", index_col=0)\n",
    "    for data_type in data_types\n",
    "}"
   ]
  },
  {
   "cell_type": "markdown",
   "id": "c963c854",
   "metadata": {},
   "source": [
    "## Data shaping"
   ]
  },
  {
   "cell_type": "code",
   "execution_count": 9,
   "id": "bb895e6b",
   "metadata": {
    "ExecuteTime": {
     "end_time": "2023-01-11T13:15:56.100804Z",
     "start_time": "2023-01-11T13:15:56.093855Z"
    }
   },
   "outputs": [],
   "source": [
    "chart_df = pd.concat(chart_dict).T"
   ]
  },
  {
   "cell_type": "markdown",
   "id": "5b7b6782",
   "metadata": {},
   "source": [
    "# Make Chart"
   ]
  },
  {
   "cell_type": "code",
   "execution_count": 10,
   "id": "16874164",
   "metadata": {
    "ExecuteTime": {
     "end_time": "2023-01-11T13:15:56.331376Z",
     "start_time": "2023-01-11T13:15:56.263070Z"
    }
   },
   "outputs": [
    {
     "data": {
      "text/html": [
       "<style type=\"text/css\">\n",
       "</style>\n",
       "<table id=\"T_e56d4\">\n",
       "  <thead>\n",
       "    <tr>\n",
       "      <th class=\"blank level0\" >&nbsp;</th>\n",
       "      <th id=\"T_e56d4_level0_col0\" class=\"col_heading level0 col0\" colspan=\"3\">20News</th>\n",
       "      <th id=\"T_e56d4_level0_col3\" class=\"col_heading level0 col3\" colspan=\"3\">AgNews</th>\n",
       "    </tr>\n",
       "    <tr>\n",
       "      <th class=\"blank level1\" >&nbsp;</th>\n",
       "      <th id=\"T_e56d4_level1_col0\" class=\"col_heading level1 col0\" >spherical</th>\n",
       "      <th id=\"T_e56d4_level1_col1\" class=\"col_heading level1 col1\" >diag</th>\n",
       "      <th id=\"T_e56d4_level1_col2\" class=\"col_heading level1 col2\" >full</th>\n",
       "      <th id=\"T_e56d4_level1_col3\" class=\"col_heading level1 col3\" >spherical</th>\n",
       "      <th id=\"T_e56d4_level1_col4\" class=\"col_heading level1 col4\" >diag</th>\n",
       "      <th id=\"T_e56d4_level1_col5\" class=\"col_heading level1 col5\" >full</th>\n",
       "    </tr>\n",
       "  </thead>\n",
       "  <tbody>\n",
       "    <tr>\n",
       "      <th id=\"T_e56d4_level0_row0\" class=\"row_heading level0 row0\" >doc2vec</th>\n",
       "      <td id=\"T_e56d4_row0_col0\" class=\"data row0 col0\" >0.535979</td>\n",
       "      <td id=\"T_e56d4_row0_col1\" class=\"data row0 col1\" >0.535291</td>\n",
       "      <td id=\"T_e56d4_row0_col2\" class=\"data row0 col2\" >0.522142</td>\n",
       "      <td id=\"T_e56d4_row0_col3\" class=\"data row0 col3\" >0.454906</td>\n",
       "      <td id=\"T_e56d4_row0_col4\" class=\"data row0 col4\" >0.429935</td>\n",
       "      <td id=\"T_e56d4_row0_col5\" class=\"data row0 col5\" >0.475413</td>\n",
       "    </tr>\n",
       "    <tr>\n",
       "      <th id=\"T_e56d4_level0_row1\" class=\"row_heading level0 row1\" >sentenceBERT</th>\n",
       "      <td id=\"T_e56d4_row1_col0\" class=\"data row1 col0\" >0.582425</td>\n",
       "      <td id=\"T_e56d4_row1_col1\" class=\"data row1 col1\" >0.590015</td>\n",
       "      <td id=\"T_e56d4_row1_col2\" class=\"data row1 col2\" >0.593456</td>\n",
       "      <td id=\"T_e56d4_row1_col3\" class=\"data row1 col3\" >0.582227</td>\n",
       "      <td id=\"T_e56d4_row1_col4\" class=\"data row1 col4\" >0.585635</td>\n",
       "      <td id=\"T_e56d4_row1_col5\" class=\"data row1 col5\" >0.607587</td>\n",
       "    </tr>\n",
       "  </tbody>\n",
       "</table>\n"
      ],
      "text/plain": [
       "<pandas.io.formats.style.Styler at 0x7f6a268e00d0>"
      ]
     },
     "execution_count": 10,
     "metadata": {},
     "output_type": "execute_result"
    }
   ],
   "source": [
    "chart_df.style.format(\n",
    "    escape=\"latex\", formatter={\"document_count\": \"{:.0f}\"}\n",
    ")"
   ]
  },
  {
   "cell_type": "code",
   "execution_count": 11,
   "id": "8aa6d62c",
   "metadata": {
    "ExecuteTime": {
     "end_time": "2023-01-11T13:15:56.368390Z",
     "start_time": "2023-01-11T13:15:56.344990Z"
    }
   },
   "outputs": [
    {
     "name": "stdout",
     "output_type": "stream",
     "text": [
      "\\begin{table}[h]\n",
      "\\centering\n",
      "\\caption{miの比較と埋め込み次元}\n",
      "\\label{table:1}\n",
      "\\begin{tabular}{rrrr}\n",
      "\\toprule\n",
      " & \\multicolumn{3}{r}{20News} & \\multicolumn{3}{r}{AgNews} \\\\\n",
      " & spherical & diag & full & spherical & diag & full \\\\\n",
      "\\midrule\n",
      "doc2vec & 0.536 & 0.535 & 0.522 & 0.455 & 0.430 & 0.475 \\\\\n",
      "sentenceBERT & 0.582 & 0.590 & 0.593 & 0.582 & 0.586 & 0.608 \\\\\n",
      "\\bottomrule\n",
      "\\end{tabular}\n",
      "\\end{table}\n",
      "\n"
     ]
    }
   ],
   "source": [
    "print(\n",
    "    chart_df\n",
    "    .style.format(precision=3, escape=\"latex\")\n",
    "    .to_latex(\n",
    "        column_format=\"rrrr\",\n",
    "        position=\"h\",\n",
    "        position_float=\"centering\",\n",
    "        hrules=True,\n",
    "        caption=\"miの比較と埋め込み次元\",\n",
    "        label=\"table:1\",\n",
    "        multicol_align=\"r\",\n",
    "    )\n",
    ")"
   ]
  },
  {
   "cell_type": "code",
   "execution_count": null,
   "id": "f95c37c1",
   "metadata": {},
   "outputs": [],
   "source": []
  },
  {
   "cell_type": "code",
   "execution_count": null,
   "id": "d1e956bf",
   "metadata": {},
   "outputs": [],
   "source": []
  },
  {
   "cell_type": "code",
   "execution_count": null,
   "id": "0aee9277",
   "metadata": {},
   "outputs": [],
   "source": []
  }
 ],
 "metadata": {
  "kernelspec": {
   "display_name": "Python 3 (ipykernel)",
   "language": "python",
   "name": "python3"
  },
  "language_info": {
   "codemirror_mode": {
    "name": "ipython",
    "version": 3
   },
   "file_extension": ".py",
   "mimetype": "text/x-python",
   "name": "python",
   "nbconvert_exporter": "python",
   "pygments_lexer": "ipython3",
   "version": "3.10.8"
  },
  "toc": {
   "base_numbering": 1,
   "nav_menu": {},
   "number_sections": true,
   "sideBar": true,
   "skip_h1_title": false,
   "title_cell": "Table of Contents",
   "title_sidebar": "Contents",
   "toc_cell": false,
   "toc_position": {},
   "toc_section_display": true,
   "toc_window_display": false
  }
 },
 "nbformat": 4,
 "nbformat_minor": 5
}
