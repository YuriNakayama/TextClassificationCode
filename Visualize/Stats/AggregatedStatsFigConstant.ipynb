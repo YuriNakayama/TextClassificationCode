{
 "cells": [
  {
   "cell_type": "markdown",
   "id": "b95f9187",
   "metadata": {},
   "source": [
    "# Import"
   ]
  },
  {
   "cell_type": "code",
   "execution_count": 1,
   "id": "80a85ab5",
   "metadata": {
    "ExecuteTime": {
     "end_time": "2023-01-09T06:25:19.160386Z",
     "start_time": "2023-01-09T06:25:17.708212Z"
    }
   },
   "outputs": [],
   "source": [
    "import csv\n",
    "import os\n",
    "import pickle\n",
    "import sys\n",
    "\n",
    "import matplotlib.pyplot as plt\n",
    "import seaborn as sns\n",
    "import numpy as np\n",
    "import pandas as pd\n",
    "from tqdm import tqdm"
   ]
  },
  {
   "cell_type": "markdown",
   "id": "2543f4e4",
   "metadata": {},
   "source": [
    "## Add configuration file"
   ]
  },
  {
   "cell_type": "code",
   "execution_count": 2,
   "id": "b62547de",
   "metadata": {
    "ExecuteTime": {
     "end_time": "2023-01-09T06:25:19.168243Z",
     "start_time": "2023-01-09T06:25:19.163490Z"
    }
   },
   "outputs": [],
   "source": [
    "sys.path.append(\"/home/jovyan/core/config/\")\n",
    "sys.path.append(\"/home/jovyan/core/util/\")\n",
    "sys.path.append(\"../PlotFunction/lineplot/\")\n",
    "sys.path.append(\"../PlotFunction/config/\")"
   ]
  },
  {
   "cell_type": "code",
   "execution_count": 3,
   "id": "84da401b",
   "metadata": {
    "ExecuteTime": {
     "end_time": "2023-01-09T06:25:19.238054Z",
     "start_time": "2023-01-09T06:25:19.170176Z"
    }
   },
   "outputs": [],
   "source": [
    "from ALL import config\n",
    "from line_plot_1 import line_plot_1\n",
    "from line_plot_error_1 import line_plot_error_1\n",
    "from line_plot_1_layout import layout\n",
    "from util import *"
   ]
  },
  {
   "cell_type": "markdown",
   "id": "9330548e",
   "metadata": {},
   "source": [
    "## Set condition"
   ]
  },
  {
   "cell_type": "code",
   "execution_count": 4,
   "id": "a30f3623",
   "metadata": {
    "ExecuteTime": {
     "end_time": "2023-01-09T06:25:19.244314Z",
     "start_time": "2023-01-09T06:25:19.240714Z"
    }
   },
   "outputs": [],
   "source": [
    "tqdm.pandas()\n",
    "pd.set_option(\"display.max_columns\", 100)\n",
    "pd.set_option(\"display.max_rows\", 50)"
   ]
  },
  {
   "cell_type": "code",
   "execution_count": 5,
   "id": "ee9bf4ad",
   "metadata": {
    "ExecuteTime": {
     "end_time": "2023-01-09T06:25:19.298509Z",
     "start_time": "2023-01-09T06:25:19.295247Z"
    }
   },
   "outputs": [],
   "source": [
    "data_type = \"20News\"\n",
    "vectorize_types = [\"doc2vec\", \"sentenceBERT\"]"
   ]
  },
  {
   "cell_type": "markdown",
   "id": "52c60a4f",
   "metadata": {},
   "source": [
    "# Read data"
   ]
  },
  {
   "cell_type": "code",
   "execution_count": 6,
   "id": "c81d3638",
   "metadata": {
    "ExecuteTime": {
     "end_time": "2023-01-09T06:25:21.778204Z",
     "start_time": "2023-01-09T06:25:20.839842Z"
    },
    "scrolled": true
   },
   "outputs": [],
   "source": [
    "df = pd.read_csv(\n",
    "    f\"../../Preprocessing/data/{data_type}/master.csv\", index_col=0\n",
    ")"
   ]
  },
  {
   "cell_type": "code",
   "execution_count": 7,
   "id": "95389cd0",
   "metadata": {
    "ExecuteTime": {
     "end_time": "2023-01-09T06:25:21.928796Z",
     "start_time": "2023-01-09T06:25:21.925327Z"
    }
   },
   "outputs": [],
   "source": [
    "with open(f\"../../Preprocessing/data/{data_type}/class.csv\", mode=\"r\") as f:\n",
    "    reader = csv.reader(f)\n",
    "    class_labels = [label for label in reader]"
   ]
  },
  {
   "cell_type": "code",
   "execution_count": 9,
   "id": "c112357f",
   "metadata": {
    "ExecuteTime": {
     "end_time": "2023-01-04T10:24:16.322402Z",
     "start_time": "2023-01-04T10:24:16.317371Z"
    }
   },
   "outputs": [],
   "source": [
    "vector_dims = {\"doc2vec\": config[\"vectorize\"][\"doc2vec\"][\"dims\"], \"sentenceBERT\": [384]}\n",
    "model_nums = config[\"clustering\"][\"gmm\"][\"max_model_num\"]\n",
    "vector_model_num = config[\"vectorize\"][\"doc2vec\"][\"max_model_num\"]\n",
    "normalization = \"centralized\"\n",
    "covariance_types = [\"spherical\", \"diag\", \"full\"]"
   ]
  },
  {
   "cell_type": "code",
   "execution_count": 10,
   "id": "8847dbdc",
   "metadata": {
    "ExecuteTime": {
     "end_time": "2023-01-04T10:24:16.333846Z",
     "start_time": "2023-01-04T10:24:16.324835Z"
    }
   },
   "outputs": [],
   "source": [
    "stats_vals = [\"mi\"]"
   ]
  },
  {
   "cell_type": "code",
   "execution_count": 11,
   "id": "d6278852",
   "metadata": {
    "ExecuteTime": {
     "end_time": "2023-01-04T10:24:16.343332Z",
     "start_time": "2023-01-04T10:24:16.337900Z"
    },
    "code_folding": [
     0,
     2
    ],
    "scrolled": true
   },
   "outputs": [],
   "source": [
    "def get_stats_vals(\n",
    "    data_type, vectorize_type, covariance_types, normalization, stats_vals\n",
    "):\n",
    "    # データ型定義\n",
    "    stats = {\n",
    "        stats_val: {\n",
    "            covariance_type: {\n",
    "                model_num: pd.DataFrame for model_num in range(model_nums)\n",
    "            }\n",
    "            for covariance_type in covariance_types\n",
    "        }\n",
    "        for stats_val in stats_vals\n",
    "    }\n",
    "\n",
    "    # データ取得\n",
    "    for stats_val in stats_vals:\n",
    "        for covariance_type in covariance_types:\n",
    "            for model_num in range(model_nums):\n",
    "                stats_path = f\"../../Postprocessing/data/{data_type}/{vectorize_type}/GMM/stats/{normalization}/{covariance_type}/{model_num}.csv\"\n",
    "                df = pd.read_csv(stats_path, index_col=0)\n",
    "                stats[stats_val][covariance_type][model_num] = df.loc[:, stats_val]\n",
    "    return stats"
   ]
  },
  {
   "cell_type": "code",
   "execution_count": 12,
   "id": "17558240",
   "metadata": {
    "ExecuteTime": {
     "end_time": "2023-01-04T10:24:16.672328Z",
     "start_time": "2023-01-04T10:24:16.345534Z"
    },
    "code_folding": [
     0,
     1
    ]
   },
   "outputs": [],
   "source": [
    "stats = {\n",
    "    vectorize_type: get_stats_vals(\n",
    "        data_type, vectorize_type, covariance_types, normalization, stats_vals\n",
    "    )\n",
    "    for vectorize_type in vectorize_types\n",
    "}"
   ]
  },
  {
   "cell_type": "code",
   "execution_count": 13,
   "id": "6e20a73d",
   "metadata": {
    "ExecuteTime": {
     "end_time": "2023-01-04T10:24:16.999638Z",
     "start_time": "2023-01-04T10:24:16.674605Z"
    },
    "code_folding": [
     0,
     1
    ]
   },
   "outputs": [],
   "source": [
    "stats_const = {\n",
    "    vectorize_type: get_stats_vals(\n",
    "        data_type, vectorize_type, covariance_types, normalization, stats_vals\n",
    "    )\n",
    "    for vectorize_type in vectorize_types\n",
    "}"
   ]
  },
  {
   "cell_type": "code",
   "execution_count": 14,
   "id": "de0abf8c",
   "metadata": {
    "ExecuteTime": {
     "end_time": "2023-01-04T10:24:17.008982Z",
     "start_time": "2023-01-04T10:24:17.001811Z"
    }
   },
   "outputs": [],
   "source": [
    "lda_mi = pd.read_csv(f\"../../Postprocessing/data/{data_type}/LDA/mi.csv\", index_col=0)"
   ]
  },
  {
   "cell_type": "code",
   "execution_count": 15,
   "id": "5d9a3d9b",
   "metadata": {
    "ExecuteTime": {
     "end_time": "2023-01-04T10:24:17.019831Z",
     "start_time": "2023-01-04T10:24:17.010986Z"
    }
   },
   "outputs": [],
   "source": [
    "describe_lda_mi, _ = get_describe(lda_mi, axis=0)"
   ]
  },
  {
   "cell_type": "markdown",
   "id": "cdcd9c68",
   "metadata": {},
   "source": [
    "# Data shaping"
   ]
  },
  {
   "cell_type": "code",
   "execution_count": 16,
   "id": "ee2c3cdf",
   "metadata": {
    "ExecuteTime": {
     "end_time": "2023-01-04T10:24:17.026864Z",
     "start_time": "2023-01-04T10:24:17.021780Z"
    },
    "code_folding": [
     0
    ]
   },
   "outputs": [],
   "source": [
    "def make_stats_df(stats, covariance_types, stats_vals):\n",
    "    stats_df = {\n",
    "        stats_val: {covariance_type: pd.DataFrame() for covariance_type in covariance_types}\n",
    "        for stats_val in stats_vals\n",
    "    }\n",
    "\n",
    "    for stats_val in stats_vals:\n",
    "        for covariance_type in covariance_types:\n",
    "            # model_numについて取得データstatsを結合\n",
    "            stats_df[stats_val][covariance_type] = pd.concat(\n",
    "                stats[stats_val][covariance_type], axis=1\n",
    "            )\n",
    "    return stats_df"
   ]
  },
  {
   "cell_type": "code",
   "execution_count": 17,
   "id": "3b8c1c28",
   "metadata": {
    "ExecuteTime": {
     "end_time": "2023-01-04T10:24:17.063860Z",
     "start_time": "2023-01-04T10:24:17.028991Z"
    },
    "code_folding": [
     0
    ]
   },
   "outputs": [],
   "source": [
    "stats_df = {\n",
    "    vectorize_type: make_stats_df(stats[vectorize_type], covariance_types, stats_vals)\n",
    "    for vectorize_type in vectorize_types\n",
    "}"
   ]
  },
  {
   "cell_type": "code",
   "execution_count": 18,
   "id": "c8ff0afb",
   "metadata": {
    "ExecuteTime": {
     "end_time": "2023-01-04T10:24:17.069993Z",
     "start_time": "2023-01-04T10:24:17.065895Z"
    },
    "code_folding": [
     0
    ]
   },
   "outputs": [],
   "source": [
    "def make_describe(stats_df, covariance_type, stats_vals):\n",
    "    describe = {\n",
    "        stats_val: {covariance_type: dict() for covariance_type in covariance_types}\n",
    "        for stats_val in stats_vals\n",
    "    }\n",
    "\n",
    "    for stats_val in stats_vals:\n",
    "        for covariance_type in covariance_types:\n",
    "            describe[stats_val][covariance_type], describe_keys = get_describe(\n",
    "                stats_df[stats_val][covariance_type], axis=1\n",
    "            )\n",
    "    return describe, describe_keys"
   ]
  },
  {
   "cell_type": "code",
   "execution_count": 19,
   "id": "c87c2689",
   "metadata": {
    "ExecuteTime": {
     "end_time": "2023-01-04T10:24:17.094638Z",
     "start_time": "2023-01-04T10:24:17.072222Z"
    },
    "code_folding": [
     1
    ]
   },
   "outputs": [],
   "source": [
    "describe = {vectorize_type: {} for vectorize_type in vectorize_types}\n",
    "for vectorize_type in vectorize_types:\n",
    "    _describe, describe_keys = make_describe(stats_df[vectorize_type], covariance_types, stats_vals)\n",
    "    describe[vectorize_type] = _describe"
   ]
  },
  {
   "cell_type": "code",
   "execution_count": 20,
   "id": "3624d9a0",
   "metadata": {
    "ExecuteTime": {
     "end_time": "2023-01-04T10:24:17.101600Z",
     "start_time": "2023-01-04T10:24:17.097021Z"
    },
    "code_folding": [
     0
    ]
   },
   "outputs": [],
   "source": [
    "def make_data(describe, covariance_types, stats_vals, describe_keys):\n",
    "    data = {\n",
    "        stats_val: {describe_key: pd.DataFrame() for describe_key in describe_keys}\n",
    "        for stats_val in stats_vals\n",
    "    }\n",
    "    for stats_val in stats_vals:\n",
    "        for describe_key in describe_keys:\n",
    "            # covariance_typeについてデータを結合\n",
    "            _data = {\n",
    "                covariance_type: describe[stats_val][covariance_type][describe_key]\n",
    "                for covariance_type in covariance_types\n",
    "            }\n",
    "            data[stats_val][describe_key] = pd.concat(_data, axis=1)\n",
    "    return data"
   ]
  },
  {
   "cell_type": "code",
   "execution_count": 21,
   "id": "b0c5dd64",
   "metadata": {
    "ExecuteTime": {
     "end_time": "2023-01-04T10:24:17.121437Z",
     "start_time": "2023-01-04T10:24:17.103813Z"
    },
    "code_folding": [
     0
    ]
   },
   "outputs": [],
   "source": [
    "data = {\n",
    "    vectorize_type: make_data(\n",
    "        describe[vectorize_type], covariance_types, stats_vals, describe_keys\n",
    "    )\n",
    "    for vectorize_type in vectorize_types\n",
    "}"
   ]
  },
  {
   "cell_type": "code",
   "execution_count": 22,
   "id": "bfabc479",
   "metadata": {
    "ExecuteTime": {
     "end_time": "2023-01-04T10:24:17.132131Z",
     "start_time": "2023-01-04T10:24:17.125124Z"
    },
    "scrolled": true
   },
   "outputs": [],
   "source": [
    "for covariance_type in covariance_types:\n",
    "    data[\"sentenceBERT\"][\"mi\"][\"mean\"].loc[384, covariance_type]"
   ]
  },
  {
   "cell_type": "code",
   "execution_count": 23,
   "id": "d8660cfb",
   "metadata": {
    "ExecuteTime": {
     "end_time": "2023-01-04T10:24:17.139192Z",
     "start_time": "2023-01-04T10:24:17.134742Z"
    },
    "code_folding": [
     0,
     4
    ]
   },
   "outputs": [],
   "source": [
    "error_low = {\n",
    "    vectorize_type: data[vectorize_type][\"mi\"][\"std\"]\n",
    "    for vectorize_type in vectorize_types\n",
    "}\n",
    "error_upper = {\n",
    "    vectorize_type: data[vectorize_type][\"mi\"][\"std\"]\n",
    "    for vectorize_type in vectorize_types\n",
    "}\n",
    "title = f\"{data_type}    ({vectorize_type})\"\n",
    "xlabel = \"埋め込み次元\"\n",
    "ylabel = \"mi\"\n",
    "yticks = np.arange(0, 0.7, 0.1)\n",
    "# path = fig_path"
   ]
  },
  {
   "cell_type": "code",
   "execution_count": 24,
   "id": "61118549",
   "metadata": {
    "ExecuteTime": {
     "end_time": "2023-01-04T10:24:17.145273Z",
     "start_time": "2023-01-04T10:24:17.141266Z"
    }
   },
   "outputs": [],
   "source": [
    "cycler = {\n",
    "    \"color\":\n",
    "    [\n",
    "        \"#1f77b4\",\n",
    "        \"#ff7f0e\",\n",
    "        \"#2ca02c\",\n",
    "        \"#d62728\",\n",
    "        \"#9467bd\",\n",
    "        \"#8c564b\",\n",
    "        \"#e377c2\",\n",
    "        \"#7f7f7f\",\n",
    "        \"#bcbd22\",\n",
    "        \"#17becf\",\n",
    "    ],\n",
    "}"
   ]
  },
  {
   "cell_type": "code",
   "execution_count": 25,
   "id": "486d4358",
   "metadata": {
    "ExecuteTime": {
     "end_time": "2023-01-04T10:24:17.152726Z",
     "start_time": "2023-01-04T10:24:17.147253Z"
    }
   },
   "outputs": [],
   "source": [
    "vectorize_labels = {\n",
    "    \"doc2vec\": \"doc2vec\",\n",
    "    \"sentenceBERT\": \"SBERT\"\n",
    "}"
   ]
  },
  {
   "cell_type": "code",
   "execution_count": 26,
   "id": "b6f35e4a",
   "metadata": {
    "ExecuteTime": {
     "end_time": "2023-01-04T10:24:17.912687Z",
     "start_time": "2023-01-04T10:24:17.154597Z"
    },
    "scrolled": false
   },
   "outputs": [
    {
     "data": {
      "image/png": "[encoded data removed]",
      "text/plain": [
       "<Figure size 800x800 with 1 Axes>"
      ]
     },
     "metadata": {},
     "output_type": "display_data"
    }
   ],
   "source": [
    "fig = plt.figure(**layout[\"figure\"])\n",
    "ax = fig.add_subplot(111)\n",
    "fig_path = f\"../data/figure/{data_type}/StatsCovariance{data_type}.pdf\"\n",
    "ax.set_xscale(\"log\")\n",
    "\n",
    "ax.spines[\"top\"].set_visible(False)\n",
    "ax.spines[\"right\"].set_visible(False)\n",
    "\n",
    "for column in data[\"doc2vec\"][\"mi\"][\"mean\"].columns:\n",
    "    ax.plot(\n",
    "        data[\"doc2vec\"][\"mi\"][\"mean\"].index.to_numpy(),\n",
    "        data[\"doc2vec\"][\"mi\"][\"mean\"].loc[:, column].to_numpy(),\n",
    "        label=f\"doc2vec ({column})\",\n",
    "        **layout[\"plot\"],\n",
    "    )\n",
    "\n",
    "for i, covariance_type in enumerate(covariance_types):\n",
    "    ax.axhline(\n",
    "        y=data[\"sentenceBERT\"][\"mi\"][\"mean\"].loc[384, covariance_type],\n",
    "        label=f\"SBERT ({covariance_type})\",\n",
    "        color=cycler[\"color\"][i + 3],\n",
    "        **layout[\"plot\"]\n",
    "    )\n",
    "\n",
    "# ax.set_title(title, **layout[\"title\"])\n",
    "\n",
    "ax.set_xlabel(xlabel, **layout[\"label\"])\n",
    "ax.set_ylabel(ylabel, **layout[\"label\"])\n",
    "ax.set_yticks(ticks=yticks, **layout[\"ticks\"])\n",
    "ax.legend(**layout[\"legend\"])\n",
    "\n",
    "fig.savefig(make_filepath(fig_path))"
   ]
  },
  {
   "cell_type": "code",
   "execution_count": null,
   "id": "1743ec02",
   "metadata": {},
   "outputs": [],
   "source": []
  },
  {
   "cell_type": "code",
   "execution_count": null,
   "id": "0fdb5012",
   "metadata": {},
   "outputs": [],
   "source": []
  },
  {
   "cell_type": "code",
   "execution_count": null,
   "id": "bf2d84ed",
   "metadata": {},
   "outputs": [],
   "source": []
  },
  {
   "cell_type": "code",
   "execution_count": null,
   "id": "b94ec289",
   "metadata": {},
   "outputs": [],
   "source": []
  },
  {
   "cell_type": "code",
   "execution_count": null,
   "id": "34a03899",
   "metadata": {},
   "outputs": [],
   "source": []
  }
 ],
 "metadata": {
  "kernelspec": {
   "display_name": "Python 3 (ipykernel)",
   "language": "python",
   "name": "python3"
  },
  "language_info": {
   "codemirror_mode": {
    "name": "ipython",
    "version": 3
   },
   "file_extension": ".py",
   "mimetype": "text/x-python",
   "name": "python",
   "nbconvert_exporter": "python",
   "pygments_lexer": "ipython3",
   "version": "3.10.8"
  },
  "toc": {
   "base_numbering": 1,
   "nav_menu": {},
   "number_sections": true,
   "sideBar": true,
   "skip_h1_title": false,
   "title_cell": "Table of Contents",
   "title_sidebar": "Contents",
   "toc_cell": false,
   "toc_position": {},
   "toc_section_display": true,
   "toc_window_display": false
  }
 },
 "nbformat": 4,
 "nbformat_minor": 5
}
