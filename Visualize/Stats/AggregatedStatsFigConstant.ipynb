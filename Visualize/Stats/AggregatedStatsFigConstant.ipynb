{
 "cells": [
  {
   "cell_type": "markdown",
   "id": "b95f9187",
   "metadata": {},
   "source": [
    "# Import"
   ]
  },
  {
   "cell_type": "code",
   "execution_count": 1,
   "id": "80a85ab5",
   "metadata": {
    "ExecuteTime": {
     "end_time": "2023-01-01T04:33:39.107282Z",
     "start_time": "2023-01-01T04:33:37.535557Z"
    }
   },
   "outputs": [],
   "source": [
    "import csv\n",
    "import os\n",
    "import pickle\n",
    "import sys\n",
    "\n",
    "import matplotlib.pyplot as plt\n",
    "import seaborn as sns\n",
    "import numpy as np\n",
    "import pandas as pd\n",
    "from tqdm import tqdm"
   ]
  },
  {
   "cell_type": "markdown",
   "id": "2543f4e4",
   "metadata": {},
   "source": [
    "## Add configuration file"
   ]
  },
  {
   "cell_type": "code",
   "execution_count": 2,
   "id": "b62547de",
   "metadata": {
    "ExecuteTime": {
     "end_time": "2023-01-01T04:33:39.113046Z",
     "start_time": "2023-01-01T04:33:39.109828Z"
    }
   },
   "outputs": [],
   "source": [
    "sys.path.append(\"/home/jovyan/core/config/\")\n",
    "sys.path.append(\"/home/jovyan/core/util/\")\n",
    "sys.path.append(\"../PlotFunction/lineplot/\")\n",
    "sys.path.append(\"../PlotFunction/config/\")"
   ]
  },
  {
   "cell_type": "code",
   "execution_count": 3,
   "id": "84da401b",
   "metadata": {
    "ExecuteTime": {
     "end_time": "2023-01-01T04:33:39.180128Z",
     "start_time": "2023-01-01T04:33:39.114900Z"
    }
   },
   "outputs": [],
   "source": [
    "from ALL import config\n",
    "from line_plot_1 import line_plot_1\n",
    "from line_plot_error_1 import line_plot_error_1\n",
    "from line_plot_1_layout import layout\n",
    "from util import *"
   ]
  },
  {
   "cell_type": "markdown",
   "id": "9330548e",
   "metadata": {},
   "source": [
    "## Set condition"
   ]
  },
  {
   "cell_type": "code",
   "execution_count": 4,
   "id": "a30f3623",
   "metadata": {
    "ExecuteTime": {
     "end_time": "2023-01-01T04:33:39.186796Z",
     "start_time": "2023-01-01T04:33:39.183411Z"
    }
   },
   "outputs": [],
   "source": [
    "tqdm.pandas()\n",
    "pd.set_option(\"display.max_columns\", 100)\n",
    "pd.set_option(\"display.max_rows\", 50)"
   ]
  },
  {
   "cell_type": "code",
   "execution_count": 5,
   "id": "ee9bf4ad",
   "metadata": {
    "ExecuteTime": {
     "end_time": "2023-01-01T04:33:39.194617Z",
     "start_time": "2023-01-01T04:33:39.188794Z"
    }
   },
   "outputs": [],
   "source": [
    "data_type = \"AgNews\"\n",
    "vectorize_types = [\"doc2vec\", \"sentenceBERT\"]"
   ]
  },
  {
   "cell_type": "markdown",
   "id": "52c60a4f",
   "metadata": {},
   "source": [
    "# Read data"
   ]
  },
  {
   "cell_type": "code",
   "execution_count": 6,
   "id": "c81d3638",
   "metadata": {
    "ExecuteTime": {
     "end_time": "2023-01-01T04:33:40.285810Z",
     "start_time": "2023-01-01T04:33:39.196412Z"
    },
    "scrolled": true
   },
   "outputs": [],
   "source": [
    "df = pd.read_csv(\n",
    "    f\"../../Preprocessing/data/{data_type}/master.csv\", index_col=0\n",
    ")"
   ]
  },
  {
   "cell_type": "code",
   "execution_count": 7,
   "id": "95389cd0",
   "metadata": {
    "ExecuteTime": {
     "end_time": "2023-01-01T04:33:40.291598Z",
     "start_time": "2023-01-01T04:33:40.288052Z"
    }
   },
   "outputs": [],
   "source": [
    "with open(f\"../../Preprocessing/data/{data_type}/class.csv\", mode=\"r\") as f:\n",
    "    reader = csv.reader(f)\n",
    "    class_labels = [label for label in reader]"
   ]
  },
  {
   "cell_type": "code",
   "execution_count": 8,
   "id": "c112357f",
   "metadata": {
    "ExecuteTime": {
     "end_time": "2023-01-01T04:33:40.299230Z",
     "start_time": "2023-01-01T04:33:40.293539Z"
    }
   },
   "outputs": [],
   "source": [
    "vector_dims = {\"doc2vec\": config[\"vectorize\"][\"doc2vec\"][\"dims\"], \"sentenceBERT\": [384]}\n",
    "model_nums = config[\"clustering\"][\"gmm\"][\"max_model_num\"]\n",
    "vector_model_num = config[\"vectorize\"][\"doc2vec\"][\"max_model_num\"]\n",
    "normalization = \"centralized\"\n",
    "covariance_types = [\"spherical\", \"diag\", \"full\"]"
   ]
  },
  {
   "cell_type": "code",
   "execution_count": 9,
   "id": "8847dbdc",
   "metadata": {
    "ExecuteTime": {
     "end_time": "2023-01-01T04:33:40.308463Z",
     "start_time": "2023-01-01T04:33:40.301250Z"
    }
   },
   "outputs": [],
   "source": [
    "stats_vals = [\"mi\"]"
   ]
  },
  {
   "cell_type": "code",
   "execution_count": 10,
   "id": "d6278852",
   "metadata": {
    "ExecuteTime": {
     "end_time": "2023-01-01T04:33:40.316667Z",
     "start_time": "2023-01-01T04:33:40.311833Z"
    },
    "code_folding": [
     0,
     2
    ],
    "scrolled": true
   },
   "outputs": [],
   "source": [
    "def get_stats_vals(\n",
    "    data_type, vectorize_type, covariance_types, normalization, stats_vals\n",
    "):\n",
    "    # データ型定義\n",
    "    stats = {\n",
    "        stats_val: {\n",
    "            covariance_type: {\n",
    "                model_num: pd.DataFrame for model_num in range(model_nums)\n",
    "            }\n",
    "            for covariance_type in covariance_types\n",
    "        }\n",
    "        for stats_val in stats_vals\n",
    "    }\n",
    "\n",
    "    # データ取得\n",
    "    for stats_val in stats_vals:\n",
    "        for covariance_type in covariance_types:\n",
    "            for model_num in range(model_nums):\n",
    "                stats_path = f\"../../Postprocessing/data/{data_type}/{vectorize_type}/GMM/stats/{normalization}/{covariance_type}/{model_num}.csv\"\n",
    "                df = pd.read_csv(stats_path, index_col=0)\n",
    "                stats[stats_val][covariance_type][model_num] = df.loc[:, stats_val]\n",
    "    return stats"
   ]
  },
  {
   "cell_type": "code",
   "execution_count": 11,
   "id": "17558240",
   "metadata": {
    "ExecuteTime": {
     "end_time": "2023-01-01T04:33:40.646808Z",
     "start_time": "2023-01-01T04:33:40.318934Z"
    },
    "code_folding": [
     0,
     1
    ]
   },
   "outputs": [],
   "source": [
    "stats = {\n",
    "    vectorize_type: get_stats_vals(\n",
    "        data_type, vectorize_type, covariance_types, normalization, stats_vals\n",
    "    )\n",
    "    for vectorize_type in vectorize_types\n",
    "}"
   ]
  },
  {
   "cell_type": "code",
   "execution_count": 12,
   "id": "6e20a73d",
   "metadata": {
    "ExecuteTime": {
     "end_time": "2023-01-01T04:33:41.055338Z",
     "start_time": "2023-01-01T04:33:40.649271Z"
    },
    "code_folding": [
     0,
     1
    ]
   },
   "outputs": [],
   "source": [
    "stats_const = {\n",
    "    vectorize_type: get_stats_vals(\n",
    "        data_type, vectorize_type, covariance_types, normalization, stats_vals\n",
    "    )\n",
    "    for vectorize_type in vectorize_types\n",
    "}"
   ]
  },
  {
   "cell_type": "code",
   "execution_count": 13,
   "id": "de0abf8c",
   "metadata": {
    "ExecuteTime": {
     "end_time": "2023-01-01T04:33:41.062571Z",
     "start_time": "2023-01-01T04:33:41.057247Z"
    }
   },
   "outputs": [],
   "source": [
    "lda_mi = pd.read_csv(f\"../../Postprocessing/data/{data_type}/LDA/mi.csv\", index_col=0)"
   ]
  },
  {
   "cell_type": "code",
   "execution_count": 14,
   "id": "5d9a3d9b",
   "metadata": {
    "ExecuteTime": {
     "end_time": "2023-01-01T04:33:41.073837Z",
     "start_time": "2023-01-01T04:33:41.064317Z"
    }
   },
   "outputs": [],
   "source": [
    "describe_lda_mi, _ = get_describe(lda_mi, axis=0)"
   ]
  },
  {
   "cell_type": "markdown",
   "id": "cdcd9c68",
   "metadata": {},
   "source": [
    "# Data shaping"
   ]
  },
  {
   "cell_type": "code",
   "execution_count": 15,
   "id": "ee2c3cdf",
   "metadata": {
    "ExecuteTime": {
     "end_time": "2023-01-01T04:33:41.081258Z",
     "start_time": "2023-01-01T04:33:41.077228Z"
    },
    "code_folding": [
     0
    ]
   },
   "outputs": [],
   "source": [
    "def make_stats_df(stats, covariance_types, stats_vals):\n",
    "    stats_df = {\n",
    "        stats_val: {covariance_type: pd.DataFrame() for covariance_type in covariance_types}\n",
    "        for stats_val in stats_vals\n",
    "    }\n",
    "\n",
    "    for stats_val in stats_vals:\n",
    "        for covariance_type in covariance_types:\n",
    "            # model_numについて取得データstatsを結合\n",
    "            stats_df[stats_val][covariance_type] = pd.concat(\n",
    "                stats[stats_val][covariance_type], axis=1\n",
    "            )\n",
    "    return stats_df"
   ]
  },
  {
   "cell_type": "code",
   "execution_count": 16,
   "id": "3b8c1c28",
   "metadata": {
    "ExecuteTime": {
     "end_time": "2023-01-01T04:33:41.115177Z",
     "start_time": "2023-01-01T04:33:41.083323Z"
    },
    "code_folding": [
     0
    ]
   },
   "outputs": [],
   "source": [
    "stats_df = {\n",
    "    vectorize_type: make_stats_df(stats[vectorize_type], covariance_types, stats_vals)\n",
    "    for vectorize_type in vectorize_types\n",
    "}"
   ]
  },
  {
   "cell_type": "code",
   "execution_count": 17,
   "id": "c8ff0afb",
   "metadata": {
    "ExecuteTime": {
     "end_time": "2023-01-01T04:33:41.123194Z",
     "start_time": "2023-01-01T04:33:41.117148Z"
    },
    "code_folding": [
     0
    ]
   },
   "outputs": [],
   "source": [
    "def make_describe(stats_df, covariance_type, stats_vals):\n",
    "    describe = {\n",
    "        stats_val: {covariance_type: dict() for covariance_type in covariance_types}\n",
    "        for stats_val in stats_vals\n",
    "    }\n",
    "\n",
    "    for stats_val in stats_vals:\n",
    "        for covariance_type in covariance_types:\n",
    "            describe[stats_val][covariance_type], describe_keys = get_describe(\n",
    "                stats_df[stats_val][covariance_type], axis=1\n",
    "            )\n",
    "    return describe, describe_keys"
   ]
  },
  {
   "cell_type": "code",
   "execution_count": 18,
   "id": "c87c2689",
   "metadata": {
    "ExecuteTime": {
     "end_time": "2023-01-01T04:33:41.159465Z",
     "start_time": "2023-01-01T04:33:41.125241Z"
    },
    "code_folding": [
     1
    ]
   },
   "outputs": [],
   "source": [
    "describe = {vectorize_type: {} for vectorize_type in vectorize_types}\n",
    "for vectorize_type in vectorize_types:\n",
    "    _describe, describe_keys = make_describe(stats_df[vectorize_type], covariance_types, stats_vals)\n",
    "    describe[vectorize_type] = _describe"
   ]
  },
  {
   "cell_type": "code",
   "execution_count": 19,
   "id": "3624d9a0",
   "metadata": {
    "ExecuteTime": {
     "end_time": "2023-01-01T04:33:41.169121Z",
     "start_time": "2023-01-01T04:33:41.161647Z"
    },
    "code_folding": [
     0
    ]
   },
   "outputs": [],
   "source": [
    "def make_data(describe, covariance_types, stats_vals, describe_keys):\n",
    "    data = {\n",
    "        stats_val: {describe_key: pd.DataFrame() for describe_key in describe_keys}\n",
    "        for stats_val in stats_vals\n",
    "    }\n",
    "    for stats_val in stats_vals:\n",
    "        for describe_key in describe_keys:\n",
    "            # covariance_typeについてデータを結合\n",
    "            _data = {\n",
    "                covariance_type: describe[stats_val][covariance_type][describe_key]\n",
    "                for covariance_type in covariance_types\n",
    "            }\n",
    "            data[stats_val][describe_key] = pd.concat(_data, axis=1)\n",
    "    return data"
   ]
  },
  {
   "cell_type": "code",
   "execution_count": 20,
   "id": "b0c5dd64",
   "metadata": {
    "ExecuteTime": {
     "end_time": "2023-01-01T04:33:41.196936Z",
     "start_time": "2023-01-01T04:33:41.171137Z"
    },
    "code_folding": [
     0
    ]
   },
   "outputs": [],
   "source": [
    "data = {\n",
    "    vectorize_type: make_data(\n",
    "        describe[vectorize_type], covariance_types, stats_vals, describe_keys\n",
    "    )\n",
    "    for vectorize_type in vectorize_types\n",
    "}"
   ]
  },
  {
   "cell_type": "code",
   "execution_count": 21,
   "id": "bfabc479",
   "metadata": {
    "ExecuteTime": {
     "end_time": "2023-01-01T04:33:41.203780Z",
     "start_time": "2023-01-01T04:33:41.198754Z"
    },
    "scrolled": true
   },
   "outputs": [],
   "source": [
    "for covariance_type in covariance_types:\n",
    "    data[\"sentenceBERT\"][\"mi\"][\"mean\"].loc[384, covariance_type]"
   ]
  },
  {
   "cell_type": "code",
   "execution_count": 22,
   "id": "d8660cfb",
   "metadata": {
    "ExecuteTime": {
     "end_time": "2023-01-01T04:33:41.213168Z",
     "start_time": "2023-01-01T04:33:41.207952Z"
    },
    "code_folding": [
     0,
     4
    ]
   },
   "outputs": [],
   "source": [
    "error_low = {\n",
    "    vectorize_type: data[vectorize_type][\"mi\"][\"std\"]\n",
    "    for vectorize_type in vectorize_types\n",
    "}\n",
    "error_upper = {\n",
    "    vectorize_type: data[vectorize_type][\"mi\"][\"std\"]\n",
    "    for vectorize_type in vectorize_types\n",
    "}\n",
    "title = f\"{data_type}    ({vectorize_type})\"\n",
    "xlabel = \"埋め込み次元\"\n",
    "ylabel = \"mi\"\n",
    "yticks = np.arange(0, 1.1, 0.1)\n",
    "# path = fig_path"
   ]
  },
  {
   "cell_type": "code",
   "execution_count": 29,
   "id": "61118549",
   "metadata": {
    "ExecuteTime": {
     "end_time": "2023-01-01T04:38:46.481056Z",
     "start_time": "2023-01-01T04:38:46.477798Z"
    }
   },
   "outputs": [],
   "source": [
    "cycler = {\n",
    "    \"color\":\n",
    "    [\n",
    "        \"#1f77b4\",\n",
    "        \"#ff7f0e\",\n",
    "        \"#2ca02c\",\n",
    "        \"#d62728\",\n",
    "        \"#9467bd\",\n",
    "        \"#8c564b\",\n",
    "        \"#e377c2\",\n",
    "        \"#7f7f7f\",\n",
    "        \"#bcbd22\",\n",
    "        \"#17becf\",\n",
    "    ],\n",
    "}"
   ]
  },
  {
   "cell_type": "code",
   "execution_count": 31,
   "id": "b6f35e4a",
   "metadata": {
    "ExecuteTime": {
     "end_time": "2023-01-02T05:21:41.995456Z",
     "start_time": "2023-01-02T05:21:41.127007Z"
    }
   },
   "outputs": [
    {
     "data": {
      "image/png": "[encoded data removed]",
      "text/plain": [
       "<Figure size 800x800 with 1 Axes>"
      ]
     },
     "metadata": {},
     "output_type": "display_data"
    }
   ],
   "source": [
    "fig = plt.figure(**layout[\"figure\"])\n",
    "ax = fig.add_subplot(111)\n",
    "fig_path = f\"../data/figure/{data_type}/{vectorize_type}/GMM/stats/mi.pdf\"\n",
    "ax.set_xscale(\"log\")\n",
    "\n",
    "ax.spines[\"top\"].set_visible(False)\n",
    "ax.spines[\"right\"].set_visible(False)\n",
    "\n",
    "for column in data[\"doc2vec\"][\"mi\"][\"mean\"].columns:\n",
    "    ax.plot(\n",
    "        data[\"doc2vec\"][\"mi\"][\"mean\"].index.to_numpy(),\n",
    "        data[\"doc2vec\"][\"mi\"][\"mean\"].loc[:, column].to_numpy(),\n",
    "        label=f\"doc2vec ({column})\",\n",
    "        **layout[\"plot\"],\n",
    "    )\n",
    "\n",
    "for i, covariance_type in enumerate(covariance_types):\n",
    "    ax.axhline(\n",
    "        y=data[\"sentenceBERT\"][\"mi\"][\"mean\"].loc[384, covariance_type],\n",
    "        label=f\"sentenceBERT ({covariance_type})\",\n",
    "        color=cycler[\"color\"][i + 3],\n",
    "        **layout[\"plot\"]\n",
    "    )\n",
    "\n",
    "ax.set_title(title, **layout[\"title\"])\n",
    "\n",
    "ax.set_xlabel(xlabel, **layout[\"label\"])\n",
    "ax.set_ylabel(ylabel, **layout[\"label\"])\n",
    "ax.set_yticks(ticks=yticks, **layout[\"ticks\"])\n",
    "ax.legend(**layout[\"legend\"])\n",
    "\n",
    "fig.savefig(make_filepath(fig_path))"
   ]
  },
  {
   "cell_type": "code",
   "execution_count": null,
   "id": "0fdb5012",
   "metadata": {},
   "outputs": [],
   "source": []
  },
  {
   "cell_type": "code",
   "execution_count": null,
   "id": "bf2d84ed",
   "metadata": {},
   "outputs": [],
   "source": []
  }
 ],
 "metadata": {
  "kernelspec": {
   "display_name": "Python 3 (ipykernel)",
   "language": "python",
   "name": "python3"
  },
  "language_info": {
   "codemirror_mode": {
    "name": "ipython",
    "version": 3
   },
   "file_extension": ".py",
   "mimetype": "text/x-python",
   "name": "python",
   "nbconvert_exporter": "python",
   "pygments_lexer": "ipython3",
   "version": "3.10.8"
  },
  "toc": {
   "base_numbering": 1,
   "nav_menu": {},
   "number_sections": true,
   "sideBar": true,
   "skip_h1_title": false,
   "title_cell": "Table of Contents",
   "title_sidebar": "Contents",
   "toc_cell": false,
   "toc_position": {},
   "toc_section_display": true,
   "toc_window_display": false
  }
 },
 "nbformat": 4,
 "nbformat_minor": 5
}
