{
 "cells": [
  {
   "cell_type": "markdown",
   "id": "b95f9187",
   "metadata": {},
   "source": [
    "# Import"
   ]
  },
  {
   "cell_type": "code",
   "execution_count": 79,
   "id": "80a85ab5",
   "metadata": {
    "ExecuteTime": {
     "end_time": "2023-01-20T20:15:17.855787Z",
     "start_time": "2023-01-20T20:15:17.851600Z"
    }
   },
   "outputs": [],
   "source": [
    "import csv\n",
    "import os\n",
    "import pickle\n",
    "import sys\n",
    "\n",
    "import matplotlib.pyplot as plt\n",
    "import seaborn as sns\n",
    "import numpy as np\n",
    "import pandas as pd\n",
    "from tqdm import tqdm"
   ]
  },
  {
   "cell_type": "markdown",
   "id": "2543f4e4",
   "metadata": {},
   "source": [
    "## Add configuration file"
   ]
  },
  {
   "cell_type": "code",
   "execution_count": 80,
   "id": "b62547de",
   "metadata": {
    "ExecuteTime": {
     "end_time": "2023-01-20T20:15:18.438312Z",
     "start_time": "2023-01-20T20:15:18.434614Z"
    }
   },
   "outputs": [],
   "source": [
    "sys.path.append(\"/home/jovyan/core/config/\")\n",
    "sys.path.append(\"/home/jovyan/core/util/\")\n",
    "sys.path.append(\"../PlotFunction/lineplot/\")\n",
    "sys.path.append(\"../PlotFunction/config/\")"
   ]
  },
  {
   "cell_type": "code",
   "execution_count": 81,
   "id": "84da401b",
   "metadata": {
    "ExecuteTime": {
     "end_time": "2023-01-20T20:15:18.520301Z",
     "start_time": "2023-01-20T20:15:18.517234Z"
    }
   },
   "outputs": [],
   "source": [
    "from ALL import config\n",
    "from line_plot_1 import line_plot_1\n",
    "from line_plot_error_1 import line_plot_error_1\n",
    "from line_plot_1_layout import layout\n",
    "from util import *"
   ]
  },
  {
   "cell_type": "markdown",
   "id": "9330548e",
   "metadata": {},
   "source": [
    "## Set condition"
   ]
  },
  {
   "cell_type": "code",
   "execution_count": 82,
   "id": "a30f3623",
   "metadata": {
    "ExecuteTime": {
     "end_time": "2023-01-20T20:15:18.687947Z",
     "start_time": "2023-01-20T20:15:18.684146Z"
    }
   },
   "outputs": [],
   "source": [
    "tqdm.pandas()\n",
    "pd.set_option(\"display.max_columns\", 100)\n",
    "pd.set_option(\"display.max_rows\", 50)"
   ]
  },
  {
   "cell_type": "code",
   "execution_count": 83,
   "id": "437dc5a7",
   "metadata": {
    "ExecuteTime": {
     "end_time": "2023-01-20T20:15:18.770764Z",
     "start_time": "2023-01-20T20:15:18.768106Z"
    }
   },
   "outputs": [],
   "source": [
    "data_type = \"AgNews\"\n",
    "vectorize_types = [\"doc2vec\"]"
   ]
  },
  {
   "cell_type": "code",
   "execution_count": 84,
   "id": "c112357f",
   "metadata": {
    "ExecuteTime": {
     "end_time": "2023-01-20T20:15:18.854988Z",
     "start_time": "2023-01-20T20:15:18.851285Z"
    }
   },
   "outputs": [],
   "source": [
    "model_nums = config[\"clustering\"][\"gmm\"][\"max_model_num\"]\n",
    "covariance_types = config[\"clustering\"][\"gmm\"][\"covariance_types\"]\n",
    "normalization = \"normalized\"\n",
    "covariance_types = [\"spherical\", \"diag\", \"full\"]\n",
    "vector_dims = {\n",
    "    \"doc2vec\": config[\"vectorize\"][\"doc2vec\"][\"dims\"],\n",
    "    \"sentenceBERT\": config[\"vectorize\"][\"doc2vec\"][\"dims\"]\n",
    "}"
   ]
  },
  {
   "cell_type": "code",
   "execution_count": 85,
   "id": "8847dbdc",
   "metadata": {
    "ExecuteTime": {
     "end_time": "2023-01-20T20:15:18.940663Z",
     "start_time": "2023-01-20T20:15:18.937463Z"
    }
   },
   "outputs": [],
   "source": [
    "stats_vals = [\"aic\", \"bic\", \"mi\", \"logl\"]"
   ]
  },
  {
   "cell_type": "markdown",
   "id": "296aba6f",
   "metadata": {},
   "source": [
    "# Stats"
   ]
  },
  {
   "cell_type": "markdown",
   "id": "52c60a4f",
   "metadata": {},
   "source": [
    "## Read data"
   ]
  },
  {
   "cell_type": "code",
   "execution_count": 86,
   "id": "f7feee05",
   "metadata": {
    "ExecuteTime": {
     "end_time": "2023-01-20T20:15:19.193653Z",
     "start_time": "2023-01-20T20:15:19.187909Z"
    },
    "code_folding": [
     0
    ]
   },
   "outputs": [],
   "source": [
    "def load_stats_data(vectorize_type, stats_vals, covariance_types, model_nums):\n",
    "    # データ型定義\n",
    "    stats = {\n",
    "        stats_val: {\n",
    "            covariance_type: {\n",
    "                model_num: pd.DataFrame for model_num in range(model_nums)\n",
    "            }\n",
    "            for covariance_type in covariance_types\n",
    "        }\n",
    "        for stats_val in stats_vals\n",
    "    }\n",
    "\n",
    "    # データ取得\n",
    "    for stats_val in stats_vals:\n",
    "        for covariance_type in covariance_types:\n",
    "            for model_num in range(model_nums):\n",
    "                stats_path = f\"../../Postprocessing/data/{data_type}/{vectorize_type}/GMM/stats/{normalization}/{covariance_type}/{model_num}.csv\"\n",
    "                df = pd.read_csv(stats_path, index_col=0)\n",
    "                stats[stats_val][covariance_type][model_num] = df.loc[:, stats_val]\n",
    "    return stats"
   ]
  },
  {
   "cell_type": "code",
   "execution_count": 87,
   "id": "409ccf32",
   "metadata": {
    "ExecuteTime": {
     "end_time": "2023-01-20T20:15:19.274433Z",
     "start_time": "2023-01-20T20:15:19.271140Z"
    }
   },
   "outputs": [],
   "source": [
    "def load_lda_mi(data_type):\n",
    "    lda_mi = pd.read_csv(\n",
    "        f\"../../Postprocessing/data/{data_type}/LDA/mi.csv\", index_col=0\n",
    "    )\n",
    "    describe_lda_mi, _ = get_describe(lda_mi, axis=0)\n",
    "    return describe_lda_mi"
   ]
  },
  {
   "cell_type": "code",
   "execution_count": 88,
   "id": "1af35966",
   "metadata": {
    "ExecuteTime": {
     "end_time": "2023-01-20T20:15:19.992789Z",
     "start_time": "2023-01-20T20:15:19.356507Z"
    }
   },
   "outputs": [],
   "source": [
    "stats_dict = {}\n",
    "for vectorize_type in vectorize_types:\n",
    "    stats_dict[vectorize_type] = load_stats_data(\n",
    "        vectorize_type, stats_vals, covariance_types, model_nums\n",
    "    )"
   ]
  },
  {
   "cell_type": "code",
   "execution_count": 89,
   "id": "59a86bcc",
   "metadata": {
    "ExecuteTime": {
     "end_time": "2023-01-20T20:15:20.004746Z",
     "start_time": "2023-01-20T20:15:19.995571Z"
    }
   },
   "outputs": [],
   "source": [
    "describe_lda_mi = load_lda_mi(data_type)"
   ]
  },
  {
   "cell_type": "markdown",
   "id": "c963c854",
   "metadata": {},
   "source": [
    "## Data shaping"
   ]
  },
  {
   "cell_type": "code",
   "execution_count": 90,
   "id": "ee2c3cdf",
   "metadata": {
    "ExecuteTime": {
     "end_time": "2023-01-20T20:15:20.011127Z",
     "start_time": "2023-01-20T20:15:20.006474Z"
    },
    "code_folding": [
     0
    ]
   },
   "outputs": [],
   "source": [
    "def shape_stats_df(stats):\n",
    "    stats_df = {\n",
    "        stats_val: {covariance_type: pd.DataFrame() for covariance_type in covariance_types}\n",
    "        for stats_val in stats_vals\n",
    "    }\n",
    "\n",
    "    for stats_val in stats_vals:\n",
    "        for covariance_type in covariance_types:\n",
    "            # model_numについて取得データstatsを結合\n",
    "            stats_df[stats_val][covariance_type] = pd.concat(\n",
    "                stats[stats_val][covariance_type], axis=1\n",
    "            )\n",
    "    return stats_df"
   ]
  },
  {
   "cell_type": "code",
   "execution_count": 91,
   "id": "ad3c2855",
   "metadata": {
    "ExecuteTime": {
     "end_time": "2023-01-20T20:15:20.019200Z",
     "start_time": "2023-01-20T20:15:20.014031Z"
    },
    "code_folding": [
     0
    ]
   },
   "outputs": [],
   "source": [
    "def shape_describe(stats_df):\n",
    "    describe = {\n",
    "        stats_val: {covariance_type: dict() for covariance_type in covariance_types}\n",
    "        for stats_val in stats_vals\n",
    "    }\n",
    "\n",
    "    for stats_val in stats_vals:\n",
    "        for covariance_type in covariance_types:\n",
    "            describe[stats_val][covariance_type], describe_keys = get_describe(\n",
    "                stats_df[stats_val][covariance_type], axis=1\n",
    "            )\n",
    "    return describe, describe_keys"
   ]
  },
  {
   "cell_type": "code",
   "execution_count": 92,
   "id": "d4c180f0",
   "metadata": {
    "ExecuteTime": {
     "end_time": "2023-01-20T20:15:20.032138Z",
     "start_time": "2023-01-20T20:15:20.021053Z"
    },
    "code_folding": [
     0,
     1
    ]
   },
   "outputs": [],
   "source": [
    "def shape_data(describe, describe_keys):\n",
    "    data = {\n",
    "        stats_val: {describe_key: pd.DataFrame() for describe_key in describe_keys}\n",
    "        for stats_val in stats_vals\n",
    "    }\n",
    "    for stats_val in stats_vals:\n",
    "        for describe_key in describe_keys:\n",
    "            # covariance_typeについてデータを結合\n",
    "            _data = {\n",
    "                covariance_type: describe[stats_val][covariance_type][describe_key]\n",
    "                for covariance_type in covariance_types\n",
    "            }\n",
    "            data[stats_val][describe_key] = pd.concat(_data, axis=1)\n",
    "    return data"
   ]
  },
  {
   "cell_type": "code",
   "execution_count": 93,
   "id": "ef827e1b",
   "metadata": {
    "ExecuteTime": {
     "end_time": "2023-01-20T20:15:20.142623Z",
     "start_time": "2023-01-20T20:15:20.033853Z"
    },
    "code_folding": []
   },
   "outputs": [],
   "source": [
    "data_stats = {}\n",
    "for vectorize_type, stats in stats_dict.items():\n",
    "    stats_df = shape_stats_df(stats)\n",
    "    describe, describe_keys = shape_describe(stats_df)\n",
    "    data_stats[vectorize_type] = shape_data(describe, describe_keys)"
   ]
  },
  {
   "cell_type": "code",
   "execution_count": 94,
   "id": "24493214",
   "metadata": {
    "ExecuteTime": {
     "end_time": "2023-01-20T20:15:20.180157Z",
     "start_time": "2023-01-20T20:15:20.144545Z"
    },
    "scrolled": false
   },
   "outputs": [
    {
     "data": {
      "text/html": [
       "<style type=\"text/css\">\n",
       "#T_11cac_row3_col0, #T_11cac_row3_col1, #T_11cac_row3_col2, #T_11cac_row3_col3, #T_11cac_row3_col4, #T_11cac_row3_col5, #T_11cac_row3_col6, #T_11cac_row3_col7, #T_11cac_row3_col8, #T_11cac_row3_col9, #T_11cac_row3_col10, #T_11cac_row3_col11, #T_11cac_row3_col12, #T_11cac_row3_col13, #T_11cac_row3_col14, #T_11cac_row3_col15, #T_11cac_row3_col16, #T_11cac_row3_col17, #T_11cac_row3_col18, #T_11cac_row3_col19, #T_11cac_row3_col20, #T_11cac_row3_col21, #T_11cac_row3_col22, #T_11cac_row3_col23, #T_11cac_row3_col24, #T_11cac_row3_col25, #T_11cac_row3_col26, #T_11cac_row3_col27, #T_11cac_row3_col28, #T_11cac_row3_col29 {\n",
       "  background-color: yellow;\n",
       "}\n",
       "</style>\n",
       "<table id=\"T_11cac\">\n",
       "  <thead>\n",
       "    <tr>\n",
       "      <th class=\"blank level0\" >&nbsp;</th>\n",
       "      <th id=\"T_11cac_level0_col0\" class=\"col_heading level0 col0\" >0</th>\n",
       "      <th id=\"T_11cac_level0_col1\" class=\"col_heading level0 col1\" >1</th>\n",
       "      <th id=\"T_11cac_level0_col2\" class=\"col_heading level0 col2\" >2</th>\n",
       "      <th id=\"T_11cac_level0_col3\" class=\"col_heading level0 col3\" >3</th>\n",
       "      <th id=\"T_11cac_level0_col4\" class=\"col_heading level0 col4\" >4</th>\n",
       "      <th id=\"T_11cac_level0_col5\" class=\"col_heading level0 col5\" >5</th>\n",
       "      <th id=\"T_11cac_level0_col6\" class=\"col_heading level0 col6\" >6</th>\n",
       "      <th id=\"T_11cac_level0_col7\" class=\"col_heading level0 col7\" >7</th>\n",
       "      <th id=\"T_11cac_level0_col8\" class=\"col_heading level0 col8\" >8</th>\n",
       "      <th id=\"T_11cac_level0_col9\" class=\"col_heading level0 col9\" >9</th>\n",
       "      <th id=\"T_11cac_level0_col10\" class=\"col_heading level0 col10\" >10</th>\n",
       "      <th id=\"T_11cac_level0_col11\" class=\"col_heading level0 col11\" >11</th>\n",
       "      <th id=\"T_11cac_level0_col12\" class=\"col_heading level0 col12\" >12</th>\n",
       "      <th id=\"T_11cac_level0_col13\" class=\"col_heading level0 col13\" >13</th>\n",
       "      <th id=\"T_11cac_level0_col14\" class=\"col_heading level0 col14\" >14</th>\n",
       "      <th id=\"T_11cac_level0_col15\" class=\"col_heading level0 col15\" >15</th>\n",
       "      <th id=\"T_11cac_level0_col16\" class=\"col_heading level0 col16\" >16</th>\n",
       "      <th id=\"T_11cac_level0_col17\" class=\"col_heading level0 col17\" >17</th>\n",
       "      <th id=\"T_11cac_level0_col18\" class=\"col_heading level0 col18\" >18</th>\n",
       "      <th id=\"T_11cac_level0_col19\" class=\"col_heading level0 col19\" >19</th>\n",
       "      <th id=\"T_11cac_level0_col20\" class=\"col_heading level0 col20\" >20</th>\n",
       "      <th id=\"T_11cac_level0_col21\" class=\"col_heading level0 col21\" >21</th>\n",
       "      <th id=\"T_11cac_level0_col22\" class=\"col_heading level0 col22\" >22</th>\n",
       "      <th id=\"T_11cac_level0_col23\" class=\"col_heading level0 col23\" >23</th>\n",
       "      <th id=\"T_11cac_level0_col24\" class=\"col_heading level0 col24\" >24</th>\n",
       "      <th id=\"T_11cac_level0_col25\" class=\"col_heading level0 col25\" >25</th>\n",
       "      <th id=\"T_11cac_level0_col26\" class=\"col_heading level0 col26\" >26</th>\n",
       "      <th id=\"T_11cac_level0_col27\" class=\"col_heading level0 col27\" >27</th>\n",
       "      <th id=\"T_11cac_level0_col28\" class=\"col_heading level0 col28\" >28</th>\n",
       "      <th id=\"T_11cac_level0_col29\" class=\"col_heading level0 col29\" >29</th>\n",
       "    </tr>\n",
       "  </thead>\n",
       "  <tbody>\n",
       "    <tr>\n",
       "      <th id=\"T_11cac_level0_row0\" class=\"row_heading level0 row0\" >2</th>\n",
       "      <td id=\"T_11cac_row0_col0\" class=\"data row0 col0\" >0.206147</td>\n",
       "      <td id=\"T_11cac_row0_col1\" class=\"data row0 col1\" >0.224451</td>\n",
       "      <td id=\"T_11cac_row0_col2\" class=\"data row0 col2\" >0.206176</td>\n",
       "      <td id=\"T_11cac_row0_col3\" class=\"data row0 col3\" >0.224563</td>\n",
       "      <td id=\"T_11cac_row0_col4\" class=\"data row0 col4\" >0.209122</td>\n",
       "      <td id=\"T_11cac_row0_col5\" class=\"data row0 col5\" >0.206145</td>\n",
       "      <td id=\"T_11cac_row0_col6\" class=\"data row0 col6\" >0.224594</td>\n",
       "      <td id=\"T_11cac_row0_col7\" class=\"data row0 col7\" >0.224439</td>\n",
       "      <td id=\"T_11cac_row0_col8\" class=\"data row0 col8\" >0.224601</td>\n",
       "      <td id=\"T_11cac_row0_col9\" class=\"data row0 col9\" >0.224387</td>\n",
       "      <td id=\"T_11cac_row0_col10\" class=\"data row0 col10\" >0.206448</td>\n",
       "      <td id=\"T_11cac_row0_col11\" class=\"data row0 col11\" >0.206235</td>\n",
       "      <td id=\"T_11cac_row0_col12\" class=\"data row0 col12\" >0.209340</td>\n",
       "      <td id=\"T_11cac_row0_col13\" class=\"data row0 col13\" >0.224553</td>\n",
       "      <td id=\"T_11cac_row0_col14\" class=\"data row0 col14\" >0.224584</td>\n",
       "      <td id=\"T_11cac_row0_col15\" class=\"data row0 col15\" >0.207830</td>\n",
       "      <td id=\"T_11cac_row0_col16\" class=\"data row0 col16\" >0.224583</td>\n",
       "      <td id=\"T_11cac_row0_col17\" class=\"data row0 col17\" >0.224503</td>\n",
       "      <td id=\"T_11cac_row0_col18\" class=\"data row0 col18\" >0.207811</td>\n",
       "      <td id=\"T_11cac_row0_col19\" class=\"data row0 col19\" >0.206198</td>\n",
       "      <td id=\"T_11cac_row0_col20\" class=\"data row0 col20\" >0.224485</td>\n",
       "      <td id=\"T_11cac_row0_col21\" class=\"data row0 col21\" >0.209182</td>\n",
       "      <td id=\"T_11cac_row0_col22\" class=\"data row0 col22\" >0.206518</td>\n",
       "      <td id=\"T_11cac_row0_col23\" class=\"data row0 col23\" >0.206175</td>\n",
       "      <td id=\"T_11cac_row0_col24\" class=\"data row0 col24\" >0.224551</td>\n",
       "      <td id=\"T_11cac_row0_col25\" class=\"data row0 col25\" >0.206209</td>\n",
       "      <td id=\"T_11cac_row0_col26\" class=\"data row0 col26\" >0.224515</td>\n",
       "      <td id=\"T_11cac_row0_col27\" class=\"data row0 col27\" >0.209990</td>\n",
       "      <td id=\"T_11cac_row0_col28\" class=\"data row0 col28\" >0.206198</td>\n",
       "      <td id=\"T_11cac_row0_col29\" class=\"data row0 col29\" >0.209587</td>\n",
       "    </tr>\n",
       "    <tr>\n",
       "      <th id=\"T_11cac_level0_row1\" class=\"row_heading level0 row1\" >4</th>\n",
       "      <td id=\"T_11cac_row1_col0\" class=\"data row1 col0\" >0.377064</td>\n",
       "      <td id=\"T_11cac_row1_col1\" class=\"data row1 col1\" >0.377571</td>\n",
       "      <td id=\"T_11cac_row1_col2\" class=\"data row1 col2\" >0.376098</td>\n",
       "      <td id=\"T_11cac_row1_col3\" class=\"data row1 col3\" >0.371511</td>\n",
       "      <td id=\"T_11cac_row1_col4\" class=\"data row1 col4\" >0.369713</td>\n",
       "      <td id=\"T_11cac_row1_col5\" class=\"data row1 col5\" >0.371551</td>\n",
       "      <td id=\"T_11cac_row1_col6\" class=\"data row1 col6\" >0.370426</td>\n",
       "      <td id=\"T_11cac_row1_col7\" class=\"data row1 col7\" >0.377537</td>\n",
       "      <td id=\"T_11cac_row1_col8\" class=\"data row1 col8\" >0.371401</td>\n",
       "      <td id=\"T_11cac_row1_col9\" class=\"data row1 col9\" >0.371330</td>\n",
       "      <td id=\"T_11cac_row1_col10\" class=\"data row1 col10\" >0.371200</td>\n",
       "      <td id=\"T_11cac_row1_col11\" class=\"data row1 col11\" >0.377069</td>\n",
       "      <td id=\"T_11cac_row1_col12\" class=\"data row1 col12\" >0.377392</td>\n",
       "      <td id=\"T_11cac_row1_col13\" class=\"data row1 col13\" >0.377735</td>\n",
       "      <td id=\"T_11cac_row1_col14\" class=\"data row1 col14\" >0.371301</td>\n",
       "      <td id=\"T_11cac_row1_col15\" class=\"data row1 col15\" >0.371597</td>\n",
       "      <td id=\"T_11cac_row1_col16\" class=\"data row1 col16\" >0.370404</td>\n",
       "      <td id=\"T_11cac_row1_col17\" class=\"data row1 col17\" >0.377064</td>\n",
       "      <td id=\"T_11cac_row1_col18\" class=\"data row1 col18\" >0.370823</td>\n",
       "      <td id=\"T_11cac_row1_col19\" class=\"data row1 col19\" >0.397174</td>\n",
       "      <td id=\"T_11cac_row1_col20\" class=\"data row1 col20\" >0.370388</td>\n",
       "      <td id=\"T_11cac_row1_col21\" class=\"data row1 col21\" >0.377061</td>\n",
       "      <td id=\"T_11cac_row1_col22\" class=\"data row1 col22\" >0.371335</td>\n",
       "      <td id=\"T_11cac_row1_col23\" class=\"data row1 col23\" >0.398037</td>\n",
       "      <td id=\"T_11cac_row1_col24\" class=\"data row1 col24\" >0.371324</td>\n",
       "      <td id=\"T_11cac_row1_col25\" class=\"data row1 col25\" >0.370965</td>\n",
       "      <td id=\"T_11cac_row1_col26\" class=\"data row1 col26\" >0.377667</td>\n",
       "      <td id=\"T_11cac_row1_col27\" class=\"data row1 col27\" >0.371508</td>\n",
       "      <td id=\"T_11cac_row1_col28\" class=\"data row1 col28\" >0.376995</td>\n",
       "      <td id=\"T_11cac_row1_col29\" class=\"data row1 col29\" >0.377523</td>\n",
       "    </tr>\n",
       "    <tr>\n",
       "      <th id=\"T_11cac_level0_row2\" class=\"row_heading level0 row2\" >6</th>\n",
       "      <td id=\"T_11cac_row2_col0\" class=\"data row2 col0\" >0.461595</td>\n",
       "      <td id=\"T_11cac_row2_col1\" class=\"data row2 col1\" >0.461896</td>\n",
       "      <td id=\"T_11cac_row2_col2\" class=\"data row2 col2\" >0.461678</td>\n",
       "      <td id=\"T_11cac_row2_col3\" class=\"data row2 col3\" >0.461761</td>\n",
       "      <td id=\"T_11cac_row2_col4\" class=\"data row2 col4\" >0.461704</td>\n",
       "      <td id=\"T_11cac_row2_col5\" class=\"data row2 col5\" >0.461822</td>\n",
       "      <td id=\"T_11cac_row2_col6\" class=\"data row2 col6\" >0.461648</td>\n",
       "      <td id=\"T_11cac_row2_col7\" class=\"data row2 col7\" >0.461935</td>\n",
       "      <td id=\"T_11cac_row2_col8\" class=\"data row2 col8\" >0.461876</td>\n",
       "      <td id=\"T_11cac_row2_col9\" class=\"data row2 col9\" >0.461748</td>\n",
       "      <td id=\"T_11cac_row2_col10\" class=\"data row2 col10\" >0.461749</td>\n",
       "      <td id=\"T_11cac_row2_col11\" class=\"data row2 col11\" >0.461892</td>\n",
       "      <td id=\"T_11cac_row2_col12\" class=\"data row2 col12\" >0.461676</td>\n",
       "      <td id=\"T_11cac_row2_col13\" class=\"data row2 col13\" >0.461542</td>\n",
       "      <td id=\"T_11cac_row2_col14\" class=\"data row2 col14\" >0.461690</td>\n",
       "      <td id=\"T_11cac_row2_col15\" class=\"data row2 col15\" >0.461762</td>\n",
       "      <td id=\"T_11cac_row2_col16\" class=\"data row2 col16\" >0.461809</td>\n",
       "      <td id=\"T_11cac_row2_col17\" class=\"data row2 col17\" >0.461748</td>\n",
       "      <td id=\"T_11cac_row2_col18\" class=\"data row2 col18\" >0.461628</td>\n",
       "      <td id=\"T_11cac_row2_col19\" class=\"data row2 col19\" >0.461655</td>\n",
       "      <td id=\"T_11cac_row2_col20\" class=\"data row2 col20\" >0.461432</td>\n",
       "      <td id=\"T_11cac_row2_col21\" class=\"data row2 col21\" >0.461751</td>\n",
       "      <td id=\"T_11cac_row2_col22\" class=\"data row2 col22\" >0.461663</td>\n",
       "      <td id=\"T_11cac_row2_col23\" class=\"data row2 col23\" >0.461861</td>\n",
       "      <td id=\"T_11cac_row2_col24\" class=\"data row2 col24\" >0.461725</td>\n",
       "      <td id=\"T_11cac_row2_col25\" class=\"data row2 col25\" >0.461487</td>\n",
       "      <td id=\"T_11cac_row2_col26\" class=\"data row2 col26\" >0.461932</td>\n",
       "      <td id=\"T_11cac_row2_col27\" class=\"data row2 col27\" >0.461884</td>\n",
       "      <td id=\"T_11cac_row2_col28\" class=\"data row2 col28\" >0.461830</td>\n",
       "      <td id=\"T_11cac_row2_col29\" class=\"data row2 col29\" >0.461645</td>\n",
       "    </tr>\n",
       "    <tr>\n",
       "      <th id=\"T_11cac_level0_row3\" class=\"row_heading level0 row3\" >8</th>\n",
       "      <td id=\"T_11cac_row3_col0\" class=\"data row3 col0\" >0.475559</td>\n",
       "      <td id=\"T_11cac_row3_col1\" class=\"data row3 col1\" >0.475696</td>\n",
       "      <td id=\"T_11cac_row3_col2\" class=\"data row3 col2\" >0.475272</td>\n",
       "      <td id=\"T_11cac_row3_col3\" class=\"data row3 col3\" >0.475604</td>\n",
       "      <td id=\"T_11cac_row3_col4\" class=\"data row3 col4\" >0.475562</td>\n",
       "      <td id=\"T_11cac_row3_col5\" class=\"data row3 col5\" >0.475105</td>\n",
       "      <td id=\"T_11cac_row3_col6\" class=\"data row3 col6\" >0.475159</td>\n",
       "      <td id=\"T_11cac_row3_col7\" class=\"data row3 col7\" >0.475629</td>\n",
       "      <td id=\"T_11cac_row3_col8\" class=\"data row3 col8\" >0.475222</td>\n",
       "      <td id=\"T_11cac_row3_col9\" class=\"data row3 col9\" >0.475280</td>\n",
       "      <td id=\"T_11cac_row3_col10\" class=\"data row3 col10\" >0.475255</td>\n",
       "      <td id=\"T_11cac_row3_col11\" class=\"data row3 col11\" >0.475173</td>\n",
       "      <td id=\"T_11cac_row3_col12\" class=\"data row3 col12\" >0.475654</td>\n",
       "      <td id=\"T_11cac_row3_col13\" class=\"data row3 col13\" >0.475316</td>\n",
       "      <td id=\"T_11cac_row3_col14\" class=\"data row3 col14\" >0.475591</td>\n",
       "      <td id=\"T_11cac_row3_col15\" class=\"data row3 col15\" >0.475403</td>\n",
       "      <td id=\"T_11cac_row3_col16\" class=\"data row3 col16\" >0.475078</td>\n",
       "      <td id=\"T_11cac_row3_col17\" class=\"data row3 col17\" >0.475756</td>\n",
       "      <td id=\"T_11cac_row3_col18\" class=\"data row3 col18\" >0.475197</td>\n",
       "      <td id=\"T_11cac_row3_col19\" class=\"data row3 col19\" >0.475587</td>\n",
       "      <td id=\"T_11cac_row3_col20\" class=\"data row3 col20\" >0.475188</td>\n",
       "      <td id=\"T_11cac_row3_col21\" class=\"data row3 col21\" >0.475689</td>\n",
       "      <td id=\"T_11cac_row3_col22\" class=\"data row3 col22\" >0.475053</td>\n",
       "      <td id=\"T_11cac_row3_col23\" class=\"data row3 col23\" >0.475353</td>\n",
       "      <td id=\"T_11cac_row3_col24\" class=\"data row3 col24\" >0.475762</td>\n",
       "      <td id=\"T_11cac_row3_col25\" class=\"data row3 col25\" >0.475603</td>\n",
       "      <td id=\"T_11cac_row3_col26\" class=\"data row3 col26\" >0.475291</td>\n",
       "      <td id=\"T_11cac_row3_col27\" class=\"data row3 col27\" >0.475526</td>\n",
       "      <td id=\"T_11cac_row3_col28\" class=\"data row3 col28\" >0.475577</td>\n",
       "      <td id=\"T_11cac_row3_col29\" class=\"data row3 col29\" >0.475259</td>\n",
       "    </tr>\n",
       "    <tr>\n",
       "      <th id=\"T_11cac_level0_row4\" class=\"row_heading level0 row4\" >10</th>\n",
       "      <td id=\"T_11cac_row4_col0\" class=\"data row4 col0\" >0.466255</td>\n",
       "      <td id=\"T_11cac_row4_col1\" class=\"data row4 col1\" >0.466761</td>\n",
       "      <td id=\"T_11cac_row4_col2\" class=\"data row4 col2\" >0.466328</td>\n",
       "      <td id=\"T_11cac_row4_col3\" class=\"data row4 col3\" >0.466695</td>\n",
       "      <td id=\"T_11cac_row4_col4\" class=\"data row4 col4\" >0.466783</td>\n",
       "      <td id=\"T_11cac_row4_col5\" class=\"data row4 col5\" >0.466204</td>\n",
       "      <td id=\"T_11cac_row4_col6\" class=\"data row4 col6\" >0.466310</td>\n",
       "      <td id=\"T_11cac_row4_col7\" class=\"data row4 col7\" >0.466221</td>\n",
       "      <td id=\"T_11cac_row4_col8\" class=\"data row4 col8\" >0.466728</td>\n",
       "      <td id=\"T_11cac_row4_col9\" class=\"data row4 col9\" >0.466721</td>\n",
       "      <td id=\"T_11cac_row4_col10\" class=\"data row4 col10\" >0.466737</td>\n",
       "      <td id=\"T_11cac_row4_col11\" class=\"data row4 col11\" >0.466839</td>\n",
       "      <td id=\"T_11cac_row4_col12\" class=\"data row4 col12\" >0.466473</td>\n",
       "      <td id=\"T_11cac_row4_col13\" class=\"data row4 col13\" >0.466427</td>\n",
       "      <td id=\"T_11cac_row4_col14\" class=\"data row4 col14\" >0.466288</td>\n",
       "      <td id=\"T_11cac_row4_col15\" class=\"data row4 col15\" >0.466277</td>\n",
       "      <td id=\"T_11cac_row4_col16\" class=\"data row4 col16\" >0.466755</td>\n",
       "      <td id=\"T_11cac_row4_col17\" class=\"data row4 col17\" >0.466696</td>\n",
       "      <td id=\"T_11cac_row4_col18\" class=\"data row4 col18\" >0.466796</td>\n",
       "      <td id=\"T_11cac_row4_col19\" class=\"data row4 col19\" >0.466746</td>\n",
       "      <td id=\"T_11cac_row4_col20\" class=\"data row4 col20\" >0.466300</td>\n",
       "      <td id=\"T_11cac_row4_col21\" class=\"data row4 col21\" >0.466261</td>\n",
       "      <td id=\"T_11cac_row4_col22\" class=\"data row4 col22\" >0.466291</td>\n",
       "      <td id=\"T_11cac_row4_col23\" class=\"data row4 col23\" >0.466239</td>\n",
       "      <td id=\"T_11cac_row4_col24\" class=\"data row4 col24\" >0.466447</td>\n",
       "      <td id=\"T_11cac_row4_col25\" class=\"data row4 col25\" >0.466232</td>\n",
       "      <td id=\"T_11cac_row4_col26\" class=\"data row4 col26\" >0.466240</td>\n",
       "      <td id=\"T_11cac_row4_col27\" class=\"data row4 col27\" >0.466716</td>\n",
       "      <td id=\"T_11cac_row4_col28\" class=\"data row4 col28\" >0.466814</td>\n",
       "      <td id=\"T_11cac_row4_col29\" class=\"data row4 col29\" >0.466555</td>\n",
       "    </tr>\n",
       "    <tr>\n",
       "      <th id=\"T_11cac_level0_row5\" class=\"row_heading level0 row5\" >20</th>\n",
       "      <td id=\"T_11cac_row5_col0\" class=\"data row5 col0\" >0.364962</td>\n",
       "      <td id=\"T_11cac_row5_col1\" class=\"data row5 col1\" >0.365826</td>\n",
       "      <td id=\"T_11cac_row5_col2\" class=\"data row5 col2\" >0.422305</td>\n",
       "      <td id=\"T_11cac_row5_col3\" class=\"data row5 col3\" >0.422213</td>\n",
       "      <td id=\"T_11cac_row5_col4\" class=\"data row5 col4\" >0.365870</td>\n",
       "      <td id=\"T_11cac_row5_col5\" class=\"data row5 col5\" >0.420865</td>\n",
       "      <td id=\"T_11cac_row5_col6\" class=\"data row5 col6\" >0.365722</td>\n",
       "      <td id=\"T_11cac_row5_col7\" class=\"data row5 col7\" >0.365897</td>\n",
       "      <td id=\"T_11cac_row5_col8\" class=\"data row5 col8\" >0.363434</td>\n",
       "      <td id=\"T_11cac_row5_col9\" class=\"data row5 col9\" >0.423359</td>\n",
       "      <td id=\"T_11cac_row5_col10\" class=\"data row5 col10\" >0.365623</td>\n",
       "      <td id=\"T_11cac_row5_col11\" class=\"data row5 col11\" >0.365929</td>\n",
       "      <td id=\"T_11cac_row5_col12\" class=\"data row5 col12\" >0.365738</td>\n",
       "      <td id=\"T_11cac_row5_col13\" class=\"data row5 col13\" >0.363284</td>\n",
       "      <td id=\"T_11cac_row5_col14\" class=\"data row5 col14\" >0.365949</td>\n",
       "      <td id=\"T_11cac_row5_col15\" class=\"data row5 col15\" >0.365864</td>\n",
       "      <td id=\"T_11cac_row5_col16\" class=\"data row5 col16\" >0.420852</td>\n",
       "      <td id=\"T_11cac_row5_col17\" class=\"data row5 col17\" >0.420732</td>\n",
       "      <td id=\"T_11cac_row5_col18\" class=\"data row5 col18\" >0.365896</td>\n",
       "      <td id=\"T_11cac_row5_col19\" class=\"data row5 col19\" >0.365880</td>\n",
       "      <td id=\"T_11cac_row5_col20\" class=\"data row5 col20\" >0.420931</td>\n",
       "      <td id=\"T_11cac_row5_col21\" class=\"data row5 col21\" >0.363286</td>\n",
       "      <td id=\"T_11cac_row5_col22\" class=\"data row5 col22\" >0.363394</td>\n",
       "      <td id=\"T_11cac_row5_col23\" class=\"data row5 col23\" >0.363507</td>\n",
       "      <td id=\"T_11cac_row5_col24\" class=\"data row5 col24\" >0.365318</td>\n",
       "      <td id=\"T_11cac_row5_col25\" class=\"data row5 col25\" >0.363251</td>\n",
       "      <td id=\"T_11cac_row5_col26\" class=\"data row5 col26\" >0.363864</td>\n",
       "      <td id=\"T_11cac_row5_col27\" class=\"data row5 col27\" >0.363288</td>\n",
       "      <td id=\"T_11cac_row5_col28\" class=\"data row5 col28\" >0.420811</td>\n",
       "      <td id=\"T_11cac_row5_col29\" class=\"data row5 col29\" >0.363292</td>\n",
       "    </tr>\n",
       "    <tr>\n",
       "      <th id=\"T_11cac_level0_row6\" class=\"row_heading level0 row6\" >40</th>\n",
       "      <td id=\"T_11cac_row6_col0\" class=\"data row6 col0\" >0.248066</td>\n",
       "      <td id=\"T_11cac_row6_col1\" class=\"data row6 col1\" >0.249053</td>\n",
       "      <td id=\"T_11cac_row6_col2\" class=\"data row6 col2\" >0.168275</td>\n",
       "      <td id=\"T_11cac_row6_col3\" class=\"data row6 col3\" >0.248076</td>\n",
       "      <td id=\"T_11cac_row6_col4\" class=\"data row6 col4\" >0.249054</td>\n",
       "      <td id=\"T_11cac_row6_col5\" class=\"data row6 col5\" >0.248592</td>\n",
       "      <td id=\"T_11cac_row6_col6\" class=\"data row6 col6\" >0.128117</td>\n",
       "      <td id=\"T_11cac_row6_col7\" class=\"data row6 col7\" >0.226124</td>\n",
       "      <td id=\"T_11cac_row6_col8\" class=\"data row6 col8\" >0.248673</td>\n",
       "      <td id=\"T_11cac_row6_col9\" class=\"data row6 col9\" >0.135946</td>\n",
       "      <td id=\"T_11cac_row6_col10\" class=\"data row6 col10\" >0.249407</td>\n",
       "      <td id=\"T_11cac_row6_col11\" class=\"data row6 col11\" >0.226144</td>\n",
       "      <td id=\"T_11cac_row6_col12\" class=\"data row6 col12\" >0.226190</td>\n",
       "      <td id=\"T_11cac_row6_col13\" class=\"data row6 col13\" >0.161694</td>\n",
       "      <td id=\"T_11cac_row6_col14\" class=\"data row6 col14\" >0.136762</td>\n",
       "      <td id=\"T_11cac_row6_col15\" class=\"data row6 col15\" >0.137336</td>\n",
       "      <td id=\"T_11cac_row6_col16\" class=\"data row6 col16\" >0.133687</td>\n",
       "      <td id=\"T_11cac_row6_col17\" class=\"data row6 col17\" >0.248744</td>\n",
       "      <td id=\"T_11cac_row6_col18\" class=\"data row6 col18\" >0.161278</td>\n",
       "      <td id=\"T_11cac_row6_col19\" class=\"data row6 col19\" >0.222001</td>\n",
       "      <td id=\"T_11cac_row6_col20\" class=\"data row6 col20\" >0.141630</td>\n",
       "      <td id=\"T_11cac_row6_col21\" class=\"data row6 col21\" >0.146191</td>\n",
       "      <td id=\"T_11cac_row6_col22\" class=\"data row6 col22\" >0.226719</td>\n",
       "      <td id=\"T_11cac_row6_col23\" class=\"data row6 col23\" >0.248278</td>\n",
       "      <td id=\"T_11cac_row6_col24\" class=\"data row6 col24\" >0.248400</td>\n",
       "      <td id=\"T_11cac_row6_col25\" class=\"data row6 col25\" >0.248153</td>\n",
       "      <td id=\"T_11cac_row6_col26\" class=\"data row6 col26\" >0.248747</td>\n",
       "      <td id=\"T_11cac_row6_col27\" class=\"data row6 col27\" >0.134372</td>\n",
       "      <td id=\"T_11cac_row6_col28\" class=\"data row6 col28\" >0.248747</td>\n",
       "      <td id=\"T_11cac_row6_col29\" class=\"data row6 col29\" >0.221618</td>\n",
       "    </tr>\n",
       "    <tr>\n",
       "      <th id=\"T_11cac_level0_row7\" class=\"row_heading level0 row7\" >80</th>\n",
       "      <td id=\"T_11cac_row7_col0\" class=\"data row7 col0\" >0.167101</td>\n",
       "      <td id=\"T_11cac_row7_col1\" class=\"data row7 col1\" >0.162621</td>\n",
       "      <td id=\"T_11cac_row7_col2\" class=\"data row7 col2\" >0.112291</td>\n",
       "      <td id=\"T_11cac_row7_col3\" class=\"data row7 col3\" >0.159192</td>\n",
       "      <td id=\"T_11cac_row7_col4\" class=\"data row7 col4\" >0.165566</td>\n",
       "      <td id=\"T_11cac_row7_col5\" class=\"data row7 col5\" >0.159577</td>\n",
       "      <td id=\"T_11cac_row7_col6\" class=\"data row7 col6\" >0.165789</td>\n",
       "      <td id=\"T_11cac_row7_col7\" class=\"data row7 col7\" >0.107233</td>\n",
       "      <td id=\"T_11cac_row7_col8\" class=\"data row7 col8\" >0.160808</td>\n",
       "      <td id=\"T_11cac_row7_col9\" class=\"data row7 col9\" >0.167496</td>\n",
       "      <td id=\"T_11cac_row7_col10\" class=\"data row7 col10\" >0.159787</td>\n",
       "      <td id=\"T_11cac_row7_col11\" class=\"data row7 col11\" >0.164433</td>\n",
       "      <td id=\"T_11cac_row7_col12\" class=\"data row7 col12\" >0.160037</td>\n",
       "      <td id=\"T_11cac_row7_col13\" class=\"data row7 col13\" >0.168099</td>\n",
       "      <td id=\"T_11cac_row7_col14\" class=\"data row7 col14\" >0.164949</td>\n",
       "      <td id=\"T_11cac_row7_col15\" class=\"data row7 col15\" >0.168080</td>\n",
       "      <td id=\"T_11cac_row7_col16\" class=\"data row7 col16\" >0.165615</td>\n",
       "      <td id=\"T_11cac_row7_col17\" class=\"data row7 col17\" >0.106506</td>\n",
       "      <td id=\"T_11cac_row7_col18\" class=\"data row7 col18\" >0.161668</td>\n",
       "      <td id=\"T_11cac_row7_col19\" class=\"data row7 col19\" >0.160379</td>\n",
       "      <td id=\"T_11cac_row7_col20\" class=\"data row7 col20\" >0.161014</td>\n",
       "      <td id=\"T_11cac_row7_col21\" class=\"data row7 col21\" >0.165623</td>\n",
       "      <td id=\"T_11cac_row7_col22\" class=\"data row7 col22\" >0.160312</td>\n",
       "      <td id=\"T_11cac_row7_col23\" class=\"data row7 col23\" >0.109950</td>\n",
       "      <td id=\"T_11cac_row7_col24\" class=\"data row7 col24\" >0.164392</td>\n",
       "      <td id=\"T_11cac_row7_col25\" class=\"data row7 col25\" >0.161464</td>\n",
       "      <td id=\"T_11cac_row7_col26\" class=\"data row7 col26\" >0.164896</td>\n",
       "      <td id=\"T_11cac_row7_col27\" class=\"data row7 col27\" >0.165262</td>\n",
       "      <td id=\"T_11cac_row7_col28\" class=\"data row7 col28\" >0.165010</td>\n",
       "      <td id=\"T_11cac_row7_col29\" class=\"data row7 col29\" >0.109952</td>\n",
       "    </tr>\n",
       "    <tr>\n",
       "      <th id=\"T_11cac_level0_row8\" class=\"row_heading level0 row8\" >160</th>\n",
       "      <td id=\"T_11cac_row8_col0\" class=\"data row8 col0\" >0.179601</td>\n",
       "      <td id=\"T_11cac_row8_col1\" class=\"data row8 col1\" >0.129257</td>\n",
       "      <td id=\"T_11cac_row8_col2\" class=\"data row8 col2\" >0.139067</td>\n",
       "      <td id=\"T_11cac_row8_col3\" class=\"data row8 col3\" >0.180066</td>\n",
       "      <td id=\"T_11cac_row8_col4\" class=\"data row8 col4\" >0.140153</td>\n",
       "      <td id=\"T_11cac_row8_col5\" class=\"data row8 col5\" >0.178273</td>\n",
       "      <td id=\"T_11cac_row8_col6\" class=\"data row8 col6\" >0.179868</td>\n",
       "      <td id=\"T_11cac_row8_col7\" class=\"data row8 col7\" >0.179521</td>\n",
       "      <td id=\"T_11cac_row8_col8\" class=\"data row8 col8\" >0.140289</td>\n",
       "      <td id=\"T_11cac_row8_col9\" class=\"data row8 col9\" >0.129439</td>\n",
       "      <td id=\"T_11cac_row8_col10\" class=\"data row8 col10\" >0.178763</td>\n",
       "      <td id=\"T_11cac_row8_col11\" class=\"data row8 col11\" >0.129593</td>\n",
       "      <td id=\"T_11cac_row8_col12\" class=\"data row8 col12\" >0.129605</td>\n",
       "      <td id=\"T_11cac_row8_col13\" class=\"data row8 col13\" >0.140091</td>\n",
       "      <td id=\"T_11cac_row8_col14\" class=\"data row8 col14\" >0.122426</td>\n",
       "      <td id=\"T_11cac_row8_col15\" class=\"data row8 col15\" >0.177502</td>\n",
       "      <td id=\"T_11cac_row8_col16\" class=\"data row8 col16\" >0.128077</td>\n",
       "      <td id=\"T_11cac_row8_col17\" class=\"data row8 col17\" >0.119829</td>\n",
       "      <td id=\"T_11cac_row8_col18\" class=\"data row8 col18\" >0.126690</td>\n",
       "      <td id=\"T_11cac_row8_col19\" class=\"data row8 col19\" >0.179722</td>\n",
       "      <td id=\"T_11cac_row8_col20\" class=\"data row8 col20\" >0.178466</td>\n",
       "      <td id=\"T_11cac_row8_col21\" class=\"data row8 col21\" >0.140501</td>\n",
       "      <td id=\"T_11cac_row8_col22\" class=\"data row8 col22\" >0.130081</td>\n",
       "      <td id=\"T_11cac_row8_col23\" class=\"data row8 col23\" >0.126348</td>\n",
       "      <td id=\"T_11cac_row8_col24\" class=\"data row8 col24\" >0.126648</td>\n",
       "      <td id=\"T_11cac_row8_col25\" class=\"data row8 col25\" >0.138860</td>\n",
       "      <td id=\"T_11cac_row8_col26\" class=\"data row8 col26\" >0.129223</td>\n",
       "      <td id=\"T_11cac_row8_col27\" class=\"data row8 col27\" >0.130292</td>\n",
       "      <td id=\"T_11cac_row8_col28\" class=\"data row8 col28\" >0.178950</td>\n",
       "      <td id=\"T_11cac_row8_col29\" class=\"data row8 col29\" >0.139763</td>\n",
       "    </tr>\n",
       "  </tbody>\n",
       "</table>\n"
      ],
      "text/plain": [
       "<pandas.io.formats.style.Styler at 0x7f91ece33af0>"
      ]
     },
     "execution_count": 94,
     "metadata": {},
     "output_type": "execute_result"
    }
   ],
   "source": [
    "stats_df[\"mi\"][\"full\"].style.highlight_max(axis=0)"
   ]
  },
  {
   "cell_type": "markdown",
   "id": "5b7b6782",
   "metadata": {},
   "source": [
    "# Make Chart"
   ]
  },
  {
   "cell_type": "code",
   "execution_count": 95,
   "id": "681212a3",
   "metadata": {
    "ExecuteTime": {
     "end_time": "2023-01-20T20:15:20.194288Z",
     "start_time": "2023-01-20T20:15:20.183177Z"
    }
   },
   "outputs": [],
   "source": [
    "describe = {}\n",
    "for covariance_type in covariance_types:\n",
    "    describe[covariance_type], describe_keys = get_describe(stats_df[\"mi\"][covariance_type], axis=1)"
   ]
  },
  {
   "cell_type": "code",
   "execution_count": 96,
   "id": "c5317444",
   "metadata": {
    "ExecuteTime": {
     "end_time": "2023-01-20T20:15:20.201254Z",
     "start_time": "2023-01-20T20:15:20.196682Z"
    }
   },
   "outputs": [
    {
     "data": {
      "text/plain": [
       "2      0.214804\n",
       "4      0.375292\n",
       "6      0.461734\n",
       "8      0.475413\n",
       "10     0.466504\n",
       "20     0.379905\n",
       "40     0.205536\n",
       "80     0.154503\n",
       "160    0.147565\n",
       "dtype: float64"
      ]
     },
     "execution_count": 96,
     "metadata": {},
     "output_type": "execute_result"
    }
   ],
   "source": [
    "describe[covariance_type][\"mean\"]"
   ]
  },
  {
   "cell_type": "code",
   "execution_count": 97,
   "id": "fe464f25",
   "metadata": {
    "ExecuteTime": {
     "end_time": "2023-01-20T20:15:20.275828Z",
     "start_time": "2023-01-20T20:15:20.272335Z"
    }
   },
   "outputs": [],
   "source": [
    "line_labels = {\"spherical\": \"scalar\", \"diag\": \"diag\", \"full\": \"full\"}\n",
    "xlabel = \"埋め込み次元\"\n",
    "ylabel=\"AMI\"\n",
    "title = {\"20News\": \"A\", \"AgNews\": \"B\", \"AgNewsTitle\": \"C\"}\n",
    "legend_loc = {\"20News\": \"lower right\", \"AgNews\": \"upper right\", \"AgNewsTitle\": \"upper right\"}"
   ]
  },
  {
   "cell_type": "code",
   "execution_count": 98,
   "id": "e2c03f82",
   "metadata": {
    "ExecuteTime": {
     "end_time": "2023-01-20T20:15:20.871079Z",
     "start_time": "2023-01-20T20:15:20.356407Z"
    }
   },
   "outputs": [
    {
     "data": {
      "image/png": "[encoded data removed]",
      "text/plain": [
       "<Figure size 1400x1200 with 1 Axes>"
      ]
     },
     "metadata": {},
     "output_type": "display_data"
    }
   ],
   "source": [
    "fig = plt.figure(figsize=(14, 12))\n",
    "ax = fig.add_subplot(111)\n",
    "fig.subplots_adjust(left=0.2, bottom=0.15)\n",
    "fig_path = f\"../data/figure/{data_type}/Covariance{data_type}.pdf\"\n",
    "ax.set_xscale(\"log\")\n",
    "\n",
    "ax.spines[\"top\"].set_visible(False)\n",
    "ax.spines[\"right\"].set_visible(False)\n",
    "\n",
    "for covariance_type in covariance_types:\n",
    "    ax.plot(\n",
    "        describe[covariance_type][\"mean\"].index.to_numpy(),\n",
    "        describe[covariance_type][\"mean\"].to_numpy(),\n",
    "        label=f\"{line_labels[covariance_type]}\",\n",
    "        alpha=0.6,\n",
    "        linewidth=6.0,\n",
    "    )\n",
    "\n",
    "ax.set_title(title[data_type], fontsize=60, loc=\"left\")\n",
    "\n",
    "ax.tick_params(which=\"both\", width=1.5, length=8, size=10, direction=\"out\")\n",
    "ax.xaxis.set_tick_params(labelsize=30, pad=10)\n",
    "ax.yaxis.set_tick_params(labelsize=30, pad=10)\n",
    "\n",
    "ax.set_xlabel(xlabel, fontsize=50, labelpad=27, fontweight=\"black\")\n",
    "ax.set_ylabel(ylabel, fontsize=50, labelpad=27, fontweight=\"black\")\n",
    "ax.set_yticks(np.arange(0, 0.7, 0.1))\n",
    "ax.legend(fontsize=30, framealpha=0, loc=legend_loc[data_type])\n",
    "\n",
    "fig.savefig(make_filepath(fig_path))"
   ]
  },
  {
   "cell_type": "code",
   "execution_count": 101,
   "id": "f95c37c1",
   "metadata": {
    "ExecuteTime": {
     "end_time": "2023-01-20T20:16:34.365170Z",
     "start_time": "2023-01-20T20:16:34.357655Z"
    }
   },
   "outputs": [
    {
     "data": {
      "text/plain": [
       "{'mean': 2      0.221859\n",
       " 4      0.369106\n",
       " 6      0.450841\n",
       " 8      0.429935\n",
       " 10     0.427972\n",
       " 20     0.259902\n",
       " 40     0.025050\n",
       " 80     0.001967\n",
       " 160    0.004030\n",
       " dtype: float64,\n",
       " 'median': 2      0.220890\n",
       " 4      0.363299\n",
       " 6      0.450795\n",
       " 8      0.429950\n",
       " 10     0.427955\n",
       " 20     0.258360\n",
       " 40     0.024221\n",
       " 80     0.001918\n",
       " 160    0.003981\n",
       " dtype: float64,\n",
       " 'std': 2      0.002289\n",
       " 4      0.006800\n",
       " 6      0.000123\n",
       " 8      0.000089\n",
       " 10     0.000223\n",
       " 20     0.005221\n",
       " 40     0.002584\n",
       " 80     0.000348\n",
       " 160    0.000312\n",
       " dtype: float64,\n",
       " 'var': 2      5.240869e-06\n",
       " 4      4.624334e-05\n",
       " 6      1.509232e-08\n",
       " 8      7.964743e-09\n",
       " 10     4.988487e-08\n",
       " 20     2.725807e-05\n",
       " 40     6.679447e-06\n",
       " 80     1.212871e-07\n",
       " 160    9.743102e-08\n",
       " dtype: float64,\n",
       " '75': 2      0.221088\n",
       " 4      0.376288\n",
       " 6      0.450948\n",
       " 8      0.430009\n",
       " 10     0.428199\n",
       " 20     0.264217\n",
       " 40     0.024374\n",
       " 80     0.002019\n",
       " 160    0.004005\n",
       " Name: 0.75, dtype: float64,\n",
       " '25': 2      0.220247\n",
       " 4      0.362753\n",
       " 6      0.450769\n",
       " 8      0.429889\n",
       " 10     0.427777\n",
       " 20     0.255454\n",
       " 40     0.023902\n",
       " 80     0.001796\n",
       " 160    0.003947\n",
       " Name: 0.25, dtype: float64}"
      ]
     },
     "execution_count": 101,
     "metadata": {},
     "output_type": "execute_result"
    }
   ],
   "source": [
    "describe[\"diag\"]"
   ]
  },
  {
   "cell_type": "code",
   "execution_count": null,
   "id": "d1e956bf",
   "metadata": {},
   "outputs": [],
   "source": []
  },
  {
   "cell_type": "code",
   "execution_count": null,
   "id": "0aee9277",
   "metadata": {},
   "outputs": [],
   "source": []
  },
  {
   "cell_type": "code",
   "execution_count": null,
   "id": "84b36562",
   "metadata": {},
   "outputs": [],
   "source": []
  },
  {
   "cell_type": "code",
   "execution_count": null,
   "id": "a0073c4c",
   "metadata": {},
   "outputs": [],
   "source": []
  },
  {
   "cell_type": "code",
   "execution_count": null,
   "id": "102452ed",
   "metadata": {},
   "outputs": [],
   "source": []
  }
 ],
 "metadata": {
  "kernelspec": {
   "display_name": "Python 3 (ipykernel)",
   "language": "python",
   "name": "python3"
  },
  "language_info": {
   "codemirror_mode": {
    "name": "ipython",
    "version": 3
   },
   "file_extension": ".py",
   "mimetype": "text/x-python",
   "name": "python",
   "nbconvert_exporter": "python",
   "pygments_lexer": "ipython3",
   "version": "3.10.8"
  },
  "toc": {
   "base_numbering": 1,
   "nav_menu": {},
   "number_sections": true,
   "sideBar": true,
   "skip_h1_title": false,
   "title_cell": "Table of Contents",
   "title_sidebar": "Contents",
   "toc_cell": false,
   "toc_position": {},
   "toc_section_display": true,
   "toc_window_display": false
  }
 },
 "nbformat": 4,
 "nbformat_minor": 5
}
