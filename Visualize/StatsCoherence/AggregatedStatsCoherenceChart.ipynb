{
 "cells": [
  {
   "cell_type": "markdown",
   "id": "b95f9187",
   "metadata": {},
   "source": [
    "# Import"
   ]
  },
  {
   "cell_type": "code",
   "execution_count": 1,
   "id": "80a85ab5",
   "metadata": {
    "ExecuteTime": {
     "end_time": "2023-01-11T07:23:09.765896Z",
     "start_time": "2023-01-11T07:23:08.503619Z"
    }
   },
   "outputs": [],
   "source": [
    "import csv\n",
    "import os\n",
    "import pickle\n",
    "import sys\n",
    "\n",
    "import matplotlib.pyplot as plt\n",
    "import seaborn as sns\n",
    "import numpy as np\n",
    "import pandas as pd\n",
    "from tqdm import tqdm"
   ]
  },
  {
   "cell_type": "markdown",
   "id": "2543f4e4",
   "metadata": {},
   "source": [
    "## Add configuration file"
   ]
  },
  {
   "cell_type": "code",
   "execution_count": 2,
   "id": "b62547de",
   "metadata": {
    "ExecuteTime": {
     "end_time": "2023-01-11T07:23:11.407985Z",
     "start_time": "2023-01-11T07:23:11.403882Z"
    }
   },
   "outputs": [],
   "source": [
    "sys.path.append(\"/home/jovyan/core/config/\")\n",
    "sys.path.append(\"/home/jovyan/core/util/\")\n",
    "sys.path.append(\"../PlotFunction/lineplot/\")\n",
    "sys.path.append(\"../PlotFunction/config/\")"
   ]
  },
  {
   "cell_type": "code",
   "execution_count": 3,
   "id": "84da401b",
   "metadata": {
    "ExecuteTime": {
     "end_time": "2023-01-11T07:23:11.688678Z",
     "start_time": "2023-01-11T07:23:11.545068Z"
    }
   },
   "outputs": [],
   "source": [
    "from ALL import config\n",
    "from line_plot_1 import line_plot_1\n",
    "from line_plot_error_1 import line_plot_error_1\n",
    "from line_plot_1_layout import layout\n",
    "from util import *"
   ]
  },
  {
   "cell_type": "markdown",
   "id": "9330548e",
   "metadata": {},
   "source": [
    "## Set condition"
   ]
  },
  {
   "cell_type": "code",
   "execution_count": 4,
   "id": "a30f3623",
   "metadata": {
    "ExecuteTime": {
     "end_time": "2023-01-11T07:23:13.088305Z",
     "start_time": "2023-01-11T07:23:13.081860Z"
    }
   },
   "outputs": [],
   "source": [
    "tqdm.pandas()\n",
    "pd.set_option(\"display.max_columns\", 100)\n",
    "pd.set_option(\"display.max_rows\", 50)"
   ]
  },
  {
   "cell_type": "code",
   "execution_count": 5,
   "id": "437dc5a7",
   "metadata": {
    "ExecuteTime": {
     "end_time": "2023-01-11T07:23:13.284002Z",
     "start_time": "2023-01-11T07:23:13.280557Z"
    }
   },
   "outputs": [],
   "source": [
    "data_types = [\"AgNews\", \"AgNewsTitle\", \"20News\"]\n",
    "vectorize_types = [\"doc2vec\", \"sentenceBERT\"]"
   ]
  },
  {
   "cell_type": "code",
   "execution_count": 7,
   "id": "c112357f",
   "metadata": {
    "ExecuteTime": {
     "end_time": "2023-01-11T07:23:35.138900Z",
     "start_time": "2023-01-11T07:23:35.133693Z"
    }
   },
   "outputs": [],
   "source": [
    "model_nums = config[\"clustering\"][\"gmm\"][\"max_model_num\"]\n",
    "covariance_types = {\n",
    "    \"AgNews\": {\"doc2vec\": [\"full\"], \"sentenceBERT\": [\"full\"]},\n",
    "    \"20News\": {\"doc2vec\": [\"full\"], \"sentenceBERT\": [\"full\"]},\n",
    "    \"AgNewsTitle\": {\n",
    "        \"doc2vec\": [\"full\"],\n",
    "        \"sentenceBERT\": [\"full\"],\n",
    "    },\n",
    "}\n",
    "normalization = {\n",
    "    \"AgNews\": {\"doc2vec\": \"centralized\", \"sentenceBERT\": \"normalized\"},\n",
    "    \"20News\": {\"doc2vec\": \"centralized\", \"sentenceBERT\": \"normalized\"},\n",
    "    \"AgNewsTitle\": {\"doc2vec\": \"centralized\", \"sentenceBERT\": \"normalized\"},\n",
    "}\n",
    "vector_dims = {\n",
    "    \"AgNews\": {\"doc2vec\": [8], \"sentenceBERT\": [384]},\n",
    "    \"20News\": {\"doc2vec\": [80], \"sentenceBERT\": [384]},\n",
    "    \"AgNewsTitle\": {\n",
    "        \"doc2vec\": [2, 4, 6, 8, 10, 20, 40, 80, 160],\n",
    "        \"sentenceBERT\": [384],\n",
    "    },\n",
    "}"
   ]
  },
  {
   "cell_type": "code",
   "execution_count": 8,
   "id": "8847dbdc",
   "metadata": {
    "ExecuteTime": {
     "end_time": "2023-01-11T07:23:35.771984Z",
     "start_time": "2023-01-11T07:23:35.768800Z"
    }
   },
   "outputs": [],
   "source": [
    "stats_vals = [\"aic\", \"bic\", \"mi\", \"logl\"]"
   ]
  },
  {
   "cell_type": "markdown",
   "id": "31bca53e",
   "metadata": {},
   "source": [
    "# Stats"
   ]
  },
  {
   "cell_type": "markdown",
   "id": "52c60a4f",
   "metadata": {},
   "source": [
    "## Read data"
   ]
  },
  {
   "cell_type": "code",
   "execution_count": 9,
   "id": "f7feee05",
   "metadata": {
    "ExecuteTime": {
     "end_time": "2023-01-11T07:23:36.293750Z",
     "start_time": "2023-01-11T07:23:36.288666Z"
    },
    "code_folding": [
     2
    ]
   },
   "outputs": [],
   "source": [
    "def load_stats_data(\n",
    "    data_type, vectorize_type, stats_vals, covariance_types, model_nums, normalization\n",
    "):\n",
    "    # データ型定義\n",
    "    stats = {\n",
    "        stats_val: {\n",
    "            covariance_type: {\n",
    "                model_num: pd.DataFrame for model_num in range(model_nums)\n",
    "            }\n",
    "            for covariance_type in covariance_types\n",
    "        }\n",
    "        for stats_val in stats_vals\n",
    "    }\n",
    "\n",
    "    # データ取得\n",
    "    for stats_val in stats_vals:\n",
    "        for covariance_type in covariance_types:\n",
    "            for model_num in range(model_nums):\n",
    "                stats_path = f\"../../Postprocessing/data/{data_type}/{vectorize_type}/GMM/stats/{normalization}/{covariance_type}/{model_num}.csv\"\n",
    "                df = pd.read_csv(stats_path, index_col=0)\n",
    "                stats[stats_val][covariance_type][model_num] = df.loc[:, stats_val]\n",
    "    return stats"
   ]
  },
  {
   "cell_type": "code",
   "execution_count": 10,
   "id": "409ccf32",
   "metadata": {
    "ExecuteTime": {
     "end_time": "2023-01-11T07:23:36.444789Z",
     "start_time": "2023-01-11T07:23:36.441211Z"
    },
    "code_folding": []
   },
   "outputs": [],
   "source": [
    "def load_lda_mi(data_type):\n",
    "    lda_mi = pd.read_csv(\n",
    "        f\"../../Postprocessing/data/{data_type}/LDA/mi.csv\", index_col=0\n",
    "    )\n",
    "    describe_lda_mi, _ = get_describe(lda_mi, axis=0)\n",
    "    return describe_lda_mi"
   ]
  },
  {
   "cell_type": "code",
   "execution_count": 11,
   "id": "1af35966",
   "metadata": {
    "ExecuteTime": {
     "end_time": "2023-01-11T07:23:37.908217Z",
     "start_time": "2023-01-11T07:23:36.581285Z"
    }
   },
   "outputs": [],
   "source": [
    "stats_dict = {data_type: {} for data_type in data_types}\n",
    "for data_type in data_types:\n",
    "    for vectorize_type in vectorize_types:\n",
    "        stats_dict[data_type][vectorize_type] = load_stats_data(\n",
    "            data_type,\n",
    "            vectorize_type,\n",
    "            stats_vals,\n",
    "            covariance_types[data_type][vectorize_type],\n",
    "            model_nums,\n",
    "            normalization[data_type][vectorize_type]\n",
    "        )"
   ]
  },
  {
   "cell_type": "code",
   "execution_count": 12,
   "id": "59a86bcc",
   "metadata": {
    "ExecuteTime": {
     "end_time": "2023-01-11T07:23:37.927547Z",
     "start_time": "2023-01-11T07:23:37.910989Z"
    }
   },
   "outputs": [],
   "source": [
    "describe_lda_mi = {}\n",
    "for data_type in data_types:\n",
    "    describe_lda_mi[data_type] = load_lda_mi(data_type)"
   ]
  },
  {
   "cell_type": "markdown",
   "id": "c963c854",
   "metadata": {},
   "source": [
    "## Data shaping"
   ]
  },
  {
   "cell_type": "code",
   "execution_count": 13,
   "id": "ee2c3cdf",
   "metadata": {
    "ExecuteTime": {
     "end_time": "2023-01-11T07:23:37.933781Z",
     "start_time": "2023-01-11T07:23:37.929273Z"
    },
    "code_folding": [
     0
    ]
   },
   "outputs": [],
   "source": [
    "def shape_stats_df(stats, covariance_types):\n",
    "    stats_df = {\n",
    "        stats_val: {covariance_type: pd.DataFrame() for covariance_type in covariance_types}\n",
    "        for stats_val in stats_vals\n",
    "    }\n",
    "\n",
    "    for stats_val in stats_vals:\n",
    "        for covariance_type in covariance_types:\n",
    "            # model_numについて取得データstatsを結合\n",
    "            stats_df[stats_val][covariance_type] = pd.concat(\n",
    "                stats[stats_val][covariance_type], axis=1\n",
    "            )\n",
    "    return stats_df"
   ]
  },
  {
   "cell_type": "code",
   "execution_count": 14,
   "id": "ad3c2855",
   "metadata": {
    "ExecuteTime": {
     "end_time": "2023-01-11T07:23:37.948857Z",
     "start_time": "2023-01-11T07:23:37.936621Z"
    },
    "code_folding": [
     0
    ]
   },
   "outputs": [],
   "source": [
    "def shape_describe(stats_df, covariance_types):\n",
    "    describe = {\n",
    "        stats_val: {covariance_type: dict() for covariance_type in covariance_types}\n",
    "        for stats_val in stats_vals\n",
    "    }\n",
    "\n",
    "    for stats_val in stats_vals:\n",
    "        for covariance_type in covariance_types:\n",
    "            describe[stats_val][covariance_type], describe_keys = get_describe(\n",
    "                stats_df[stats_val][covariance_type], axis=1\n",
    "            )\n",
    "    return describe, describe_keys"
   ]
  },
  {
   "cell_type": "code",
   "execution_count": 15,
   "id": "d4c180f0",
   "metadata": {
    "ExecuteTime": {
     "end_time": "2023-01-11T07:23:37.960341Z",
     "start_time": "2023-01-11T07:23:37.950829Z"
    },
    "code_folding": [
     0,
     1
    ]
   },
   "outputs": [],
   "source": [
    "def shape_data(describe, describe_keys, covariance_types):\n",
    "    data = {\n",
    "        stats_val: {describe_key: pd.DataFrame() for describe_key in describe_keys}\n",
    "        for stats_val in stats_vals\n",
    "    }\n",
    "    for stats_val in stats_vals:\n",
    "        for describe_key in describe_keys:\n",
    "            # covariance_typeについてデータを結合\n",
    "            _data = {\n",
    "                covariance_type: describe[stats_val][covariance_type][describe_key]\n",
    "                for covariance_type in covariance_types\n",
    "            }\n",
    "            data[stats_val][describe_key] = pd.concat(_data, axis=1)\n",
    "    return data"
   ]
  },
  {
   "cell_type": "code",
   "execution_count": 16,
   "id": "ef827e1b",
   "metadata": {
    "ExecuteTime": {
     "end_time": "2023-01-11T07:23:38.228661Z",
     "start_time": "2023-01-11T07:23:37.962237Z"
    },
    "code_folding": []
   },
   "outputs": [],
   "source": [
    "data_stats = {data_type: {} for data_type in data_types}\n",
    "for data_type in data_types:\n",
    "    for vectorize_type, stats in stats_dict[data_type].items():\n",
    "        stats_df = shape_stats_df(\n",
    "            stats, covariance_types=covariance_types[data_type][vectorize_type]\n",
    "        )\n",
    "        describe, describe_keys = shape_describe(\n",
    "            stats_df, covariance_types=covariance_types[data_type][vectorize_type]\n",
    "        )\n",
    "        data_stats[data_type][vectorize_type] = shape_data(\n",
    "            describe,\n",
    "            describe_keys,\n",
    "            covariance_types=covariance_types[data_type][vectorize_type],\n",
    "        )"
   ]
  },
  {
   "cell_type": "markdown",
   "id": "ded3b08e",
   "metadata": {},
   "source": [
    "# Coherence"
   ]
  },
  {
   "cell_type": "markdown",
   "id": "81e2f284",
   "metadata": {},
   "source": [
    "## Read Data"
   ]
  },
  {
   "cell_type": "code",
   "execution_count": 17,
   "id": "fcfa1b6c",
   "metadata": {
    "ExecuteTime": {
     "end_time": "2023-01-11T07:23:38.235405Z",
     "start_time": "2023-01-11T07:23:38.231547Z"
    },
    "code_folding": [
     0
    ]
   },
   "outputs": [],
   "source": [
    "def load_coherence(data_type, vectorize_type, vector_dims, normalization):\n",
    "    coherences = {}\n",
    "    for vector_dim in vector_dims:\n",
    "        coherence_path = f\"../../Postprocessing/data/{data_type}/{vectorize_type}/GMM/coherence/{normalization}/{vector_dim}.csv\"\n",
    "        coherence = pd.read_csv(coherence_path, index_col=0)\n",
    "        coherences[vector_dim] = coherence\n",
    "    return coherences"
   ]
  },
  {
   "cell_type": "code",
   "execution_count": 18,
   "id": "0a5b252b",
   "metadata": {
    "ExecuteTime": {
     "end_time": "2023-01-11T07:23:38.284012Z",
     "start_time": "2023-01-11T07:23:38.237017Z"
    }
   },
   "outputs": [],
   "source": [
    "coherences = {data_type: {} for data_type in data_types}\n",
    "for data_type in data_types:\n",
    "    for vectorize_type in vectorize_types:\n",
    "        coherences[data_type][vectorize_type] = load_coherence(\n",
    "            data_type,\n",
    "            vectorize_type,\n",
    "            vector_dims[data_type][vectorize_type],\n",
    "            normalization[data_type][vectorize_type],\n",
    "        )"
   ]
  },
  {
   "cell_type": "code",
   "execution_count": 19,
   "id": "3c10a00f",
   "metadata": {
    "ExecuteTime": {
     "end_time": "2023-01-11T07:23:38.306624Z",
     "start_time": "2023-01-11T07:23:38.286652Z"
    }
   },
   "outputs": [],
   "source": [
    "describe_lda_coherence = {}\n",
    "for data_type in data_types:\n",
    "    coherence_lda_path = f\"../../Postprocessing/data/{data_type}/LDA/coherence.csv\"\n",
    "    coherence_lda = pd.read_csv(coherence_lda_path, index_col=0)\n",
    "    describe_lda_coherence[data_type], _ = get_describe(coherence_lda, axis=0)"
   ]
  },
  {
   "cell_type": "markdown",
   "id": "b524e147",
   "metadata": {},
   "source": [
    "## Data shaping"
   ]
  },
  {
   "cell_type": "code",
   "execution_count": 20,
   "id": "148491e6",
   "metadata": {
    "ExecuteTime": {
     "end_time": "2023-01-11T07:23:38.509917Z",
     "start_time": "2023-01-11T07:23:38.505816Z"
    },
    "code_folding": [
     0
    ]
   },
   "outputs": [],
   "source": [
    "def shape_coherence_df(coherences, covariance_types, vector_dims):\n",
    "    coherence_df = {\n",
    "        covariance_type: pd.DataFrame() for covariance_type in covariance_types\n",
    "    }\n",
    "    for covariance_type in covariance_types:\n",
    "        _coherence_df = {\n",
    "            vector_dim: coherences[vector_dim].loc[:, covariance_type]\n",
    "            for vector_dim in vector_dims\n",
    "        }\n",
    "        coherence_df[covariance_type] = pd.concat(_coherence_df, axis=1)\n",
    "    return coherence_df"
   ]
  },
  {
   "cell_type": "code",
   "execution_count": 21,
   "id": "869e4b1e",
   "metadata": {
    "ExecuteTime": {
     "end_time": "2023-01-11T07:23:38.692256Z",
     "start_time": "2023-01-11T07:23:38.680964Z"
    }
   },
   "outputs": [],
   "source": [
    "coherence_df = {data_type: {} for data_type in data_types}\n",
    "for data_type in data_types:\n",
    "    for vectorize_type in vectorize_types:\n",
    "        coherence_df[data_type][vectorize_type] = shape_coherence_df(\n",
    "            coherences[data_type][vectorize_type], covariance_types[data_type][vectorize_type], vector_dims[data_type][vectorize_type]\n",
    "        )"
   ]
  },
  {
   "cell_type": "code",
   "execution_count": 22,
   "id": "681215ba",
   "metadata": {
    "ExecuteTime": {
     "end_time": "2023-01-11T07:23:38.836659Z",
     "start_time": "2023-01-11T07:23:38.831763Z"
    },
    "code_folding": [
     0
    ]
   },
   "outputs": [],
   "source": [
    "def shape_coherence_describe(coherence_df, covariance_types):\n",
    "    # 統計値の計算\n",
    "    describe = {covariance_type: pd.DataFrame() for covariance_type in covariance_types}\n",
    "    for covariance_type in covariance_types:\n",
    "        describe[covariance_type], describe_keys = get_describe(\n",
    "            coherence_df[covariance_type], axis=0\n",
    "        )\n",
    "    return describe, describe_keys"
   ]
  },
  {
   "cell_type": "code",
   "execution_count": 23,
   "id": "7d0c3640",
   "metadata": {
    "ExecuteTime": {
     "end_time": "2023-01-11T07:23:39.451201Z",
     "start_time": "2023-01-11T07:23:39.422712Z"
    }
   },
   "outputs": [],
   "source": [
    "coherence_describe = {data_type: {} for data_type in data_types}\n",
    "for data_type in data_types:\n",
    "    for vectorize_type in vectorize_types:\n",
    "        coherence_describe[data_type][vectorize_type], describe_keys = shape_coherence_describe(\n",
    "            coherence_df[data_type][vectorize_type], covariance_types[data_type][vectorize_type]\n",
    "        )"
   ]
  },
  {
   "cell_type": "code",
   "execution_count": 24,
   "id": "877b99ff",
   "metadata": {
    "ExecuteTime": {
     "end_time": "2023-01-11T07:23:39.853270Z",
     "start_time": "2023-01-11T07:23:39.847233Z"
    },
    "code_folding": [
     0
    ]
   },
   "outputs": [],
   "source": [
    "def shape_coherence_data(describe, describe_keys, covariance_types):\n",
    "    data = {describe_key: pd.DataFrame() for describe_key in describe_keys}\n",
    "\n",
    "    for describe_key in describe_keys:\n",
    "        # covariance_typeについてデータを結合\n",
    "        _data = {\n",
    "            covariance_type: describe[covariance_type][describe_key]\n",
    "            for covariance_type in covariance_types\n",
    "        }\n",
    "        data[describe_key] = pd.concat(_data, axis=1)\n",
    "    return data"
   ]
  },
  {
   "cell_type": "code",
   "execution_count": 25,
   "id": "eb7370c4",
   "metadata": {
    "ExecuteTime": {
     "end_time": "2023-01-11T07:23:40.108884Z",
     "start_time": "2023-01-11T07:23:40.082025Z"
    }
   },
   "outputs": [],
   "source": [
    "coherence_data = {data_type: {} for data_type in data_types}\n",
    "for data_type in data_types:\n",
    "    for vectorize_type in vectorize_types:\n",
    "        coherence_data[data_type][vectorize_type] = shape_coherence_data(\n",
    "            coherence_describe[data_type][vectorize_type],\n",
    "            describe_keys,\n",
    "            covariance_types[data_type][vectorize_type],\n",
    "        )"
   ]
  },
  {
   "cell_type": "markdown",
   "id": "5b7b6782",
   "metadata": {},
   "source": [
    "# Make Chart"
   ]
  },
  {
   "cell_type": "code",
   "execution_count": 27,
   "id": "1dbc03c0",
   "metadata": {
    "ExecuteTime": {
     "end_time": "2023-01-11T07:23:42.124899Z",
     "start_time": "2023-01-11T07:23:42.107383Z"
    },
    "code_folding": [],
    "scrolled": true
   },
   "outputs": [],
   "source": [
    "chart_data = {data_type: {} for data_type in data_types}\n",
    "for data_type in data_types:\n",
    "    for vectorize_type in vectorize_types:\n",
    "        mi_max_idx = (\n",
    "            data_stats[data_type][vectorize_type][\"mi\"][\"mean\"]\n",
    "            .loc[\n",
    "                vector_dims[data_type][vectorize_type],\n",
    "                covariance_types[data_type][vectorize_type],\n",
    "            ]\n",
    "            .stack()\n",
    "            .idxmax()\n",
    "        )\n",
    "        chart_data[data_type][vectorize_type] = {\n",
    "            \"埋め込み次元\": mi_max_idx[0],\n",
    "            \"mutual information\": data_stats[data_type][vectorize_type][\"mi\"][\n",
    "                \"mean\"\n",
    "            ].loc[mi_max_idx],\n",
    "            \"分散\": data_stats[data_type][vectorize_type][\"mi\"][\"std\"].loc[mi_max_idx],\n",
    "            \"coherence\": coherence_data[data_type][vectorize_type][\"mean\"].loc[\n",
    "                mi_max_idx\n",
    "            ],\n",
    "        }\n",
    "    chart_data[data_type][\"LDA\"] = {\n",
    "        \"埋め込み次元\": np.NaN,\n",
    "        \"mutual information\": describe_lda_mi[data_type][\"mean\"].to_numpy()[0],\n",
    "        \"分散\": describe_lda_mi[data_type][\"std\"].to_numpy()[0],\n",
    "        \"coherence\": describe_lda_coherence[data_type][\"mean\"].to_numpy()[0],\n",
    "    }"
   ]
  },
  {
   "cell_type": "code",
   "execution_count": 28,
   "id": "0377d2ef",
   "metadata": {
    "ExecuteTime": {
     "end_time": "2023-01-11T07:23:42.874354Z",
     "start_time": "2023-01-11T07:23:42.867556Z"
    }
   },
   "outputs": [],
   "source": [
    "chart_df = pd.concat(\n",
    "    {\n",
    "        data_type: pd.DataFrame(_chart_data).T\n",
    "        for data_type, _chart_data in chart_data.items()\n",
    "    }\n",
    ")"
   ]
  },
  {
   "cell_type": "code",
   "execution_count": 29,
   "id": "dbeeaa10",
   "metadata": {
    "ExecuteTime": {
     "end_time": "2023-01-11T07:23:43.654002Z",
     "start_time": "2023-01-11T07:23:43.649857Z"
    },
    "code_folding": [
     0
    ]
   },
   "outputs": [],
   "source": [
    "def highlight_edge(Series: pd.Series, highlight_type=\"bold\", max_min=\"max\", axis=0):\n",
    "    if max_min == \"max\":\n",
    "        highlight_idx = Series.idxmax(axis)\n",
    "    elif max_min == \"min\":\n",
    "        highlight_idx = Series.idxmax(axis)\n",
    "    else:\n",
    "        raise NotImplementedError\n",
    "    return [\n",
    "        \"font-weight: %s\" % highlight_type if _id == highlight_idx else \"font-weight: \"\n",
    "        for _id in Series.index\n",
    "    ]"
   ]
  },
  {
   "cell_type": "code",
   "execution_count": 30,
   "id": "34a500db",
   "metadata": {
    "ExecuteTime": {
     "end_time": "2023-01-11T07:23:43.893627Z",
     "start_time": "2023-01-11T07:23:43.887262Z"
    },
    "code_folding": [
     0
    ]
   },
   "outputs": [],
   "source": [
    "def find_edge(Series: pd.Series, max_min=\"max\", axis=0):\n",
    "    if max_min == \"max\":\n",
    "        highlight_idx = Series.idxmax(axis)\n",
    "    elif max_min == \"min\":\n",
    "        highlight_idx = Series.idxmax(axis)\n",
    "    else:\n",
    "        raise NotImplementedError\n",
    "    return [True if _id ==highlight_idx else False for _id in Series.index]"
   ]
  },
  {
   "cell_type": "code",
   "execution_count": 31,
   "id": "2057ef75",
   "metadata": {
    "ExecuteTime": {
     "end_time": "2023-01-11T07:23:44.110146Z",
     "start_time": "2023-01-11T07:23:44.097507Z"
    }
   },
   "outputs": [],
   "source": [
    "max_val = chart_df.groupby(level=0).transform(find_edge , axis=0)"
   ]
  },
  {
   "cell_type": "code",
   "execution_count": 32,
   "id": "a9bbdf4a",
   "metadata": {
    "ExecuteTime": {
     "end_time": "2023-01-11T07:23:44.318318Z",
     "start_time": "2023-01-11T07:23:44.258224Z"
    },
    "scrolled": true
   },
   "outputs": [],
   "source": [
    "max_style = chart_df.where(max_val, \"nan\").style.applymap(\n",
    "    lambda x: \"font-weight: bold\" if x != \"nan\" else \"font-weight:\"\n",
    ")"
   ]
  },
  {
   "cell_type": "code",
   "execution_count": 33,
   "id": "52bb78b4",
   "metadata": {
    "ExecuteTime": {
     "end_time": "2023-01-11T07:23:44.850895Z",
     "start_time": "2023-01-11T07:23:44.839386Z"
    }
   },
   "outputs": [
    {
     "data": {
      "text/html": [
       "<style type=\"text/css\">\n",
       "#T_bbd9f_row0_col0, #T_bbd9f_row0_col1, #T_bbd9f_row0_col2, #T_bbd9f_row0_col3, #T_bbd9f_row1_col2, #T_bbd9f_row2_col0, #T_bbd9f_row2_col1, #T_bbd9f_row2_col3, #T_bbd9f_row3_col0, #T_bbd9f_row3_col1, #T_bbd9f_row3_col2, #T_bbd9f_row3_col3, #T_bbd9f_row4_col2, #T_bbd9f_row5_col0, #T_bbd9f_row5_col1, #T_bbd9f_row5_col3, #T_bbd9f_row6_col0, #T_bbd9f_row6_col1, #T_bbd9f_row6_col2, #T_bbd9f_row6_col3, #T_bbd9f_row7_col2, #T_bbd9f_row8_col0, #T_bbd9f_row8_col1, #T_bbd9f_row8_col3 {\n",
       "  font-weight: ;\n",
       "}\n",
       "#T_bbd9f_row1_col0, #T_bbd9f_row1_col1, #T_bbd9f_row1_col3, #T_bbd9f_row2_col2, #T_bbd9f_row4_col0, #T_bbd9f_row4_col1, #T_bbd9f_row4_col3, #T_bbd9f_row5_col2, #T_bbd9f_row7_col0, #T_bbd9f_row7_col1, #T_bbd9f_row7_col3, #T_bbd9f_row8_col2 {\n",
       "  font-weight: bold;\n",
       "}\n",
       "</style>\n",
       "<table id=\"T_bbd9f\">\n",
       "  <thead>\n",
       "    <tr>\n",
       "      <th class=\"blank\" >&nbsp;</th>\n",
       "      <th class=\"blank level0\" >&nbsp;</th>\n",
       "      <th id=\"T_bbd9f_level0_col0\" class=\"col_heading level0 col0\" >埋め込み次元</th>\n",
       "      <th id=\"T_bbd9f_level0_col1\" class=\"col_heading level0 col1\" >mutual information</th>\n",
       "      <th id=\"T_bbd9f_level0_col2\" class=\"col_heading level0 col2\" >分散</th>\n",
       "      <th id=\"T_bbd9f_level0_col3\" class=\"col_heading level0 col3\" >coherence</th>\n",
       "    </tr>\n",
       "  </thead>\n",
       "  <tbody>\n",
       "    <tr>\n",
       "      <th id=\"T_bbd9f_level0_row0\" class=\"row_heading level0 row0\" rowspan=\"3\">AgNews</th>\n",
       "      <th id=\"T_bbd9f_level1_row0\" class=\"row_heading level1 row0\" >doc2vec</th>\n",
       "      <td id=\"T_bbd9f_row0_col0\" class=\"data row0 col0\" >nan</td>\n",
       "      <td id=\"T_bbd9f_row0_col1\" class=\"data row0 col1\" >nan</td>\n",
       "      <td id=\"T_bbd9f_row0_col2\" class=\"data row0 col2\" >nan</td>\n",
       "      <td id=\"T_bbd9f_row0_col3\" class=\"data row0 col3\" >nan</td>\n",
       "    </tr>\n",
       "    <tr>\n",
       "      <th id=\"T_bbd9f_level1_row1\" class=\"row_heading level1 row1\" >sentenceBERT</th>\n",
       "      <td id=\"T_bbd9f_row1_col0\" class=\"data row1 col0\" >384.000000</td>\n",
       "      <td id=\"T_bbd9f_row1_col1\" class=\"data row1 col1\" >0.607587</td>\n",
       "      <td id=\"T_bbd9f_row1_col2\" class=\"data row1 col2\" >nan</td>\n",
       "      <td id=\"T_bbd9f_row1_col3\" class=\"data row1 col3\" >0.957356</td>\n",
       "    </tr>\n",
       "    <tr>\n",
       "      <th id=\"T_bbd9f_level1_row2\" class=\"row_heading level1 row2\" >LDA</th>\n",
       "      <td id=\"T_bbd9f_row2_col0\" class=\"data row2 col0\" >nan</td>\n",
       "      <td id=\"T_bbd9f_row2_col1\" class=\"data row2 col1\" >nan</td>\n",
       "      <td id=\"T_bbd9f_row2_col2\" class=\"data row2 col2\" >0.072550</td>\n",
       "      <td id=\"T_bbd9f_row2_col3\" class=\"data row2 col3\" >nan</td>\n",
       "    </tr>\n",
       "    <tr>\n",
       "      <th id=\"T_bbd9f_level0_row3\" class=\"row_heading level0 row3\" rowspan=\"3\">AgNewsTitle</th>\n",
       "      <th id=\"T_bbd9f_level1_row3\" class=\"row_heading level1 row3\" >doc2vec</th>\n",
       "      <td id=\"T_bbd9f_row3_col0\" class=\"data row3 col0\" >nan</td>\n",
       "      <td id=\"T_bbd9f_row3_col1\" class=\"data row3 col1\" >nan</td>\n",
       "      <td id=\"T_bbd9f_row3_col2\" class=\"data row3 col2\" >nan</td>\n",
       "      <td id=\"T_bbd9f_row3_col3\" class=\"data row3 col3\" >nan</td>\n",
       "    </tr>\n",
       "    <tr>\n",
       "      <th id=\"T_bbd9f_level1_row4\" class=\"row_heading level1 row4\" >sentenceBERT</th>\n",
       "      <td id=\"T_bbd9f_row4_col0\" class=\"data row4 col0\" >384.000000</td>\n",
       "      <td id=\"T_bbd9f_row4_col1\" class=\"data row4 col1\" >0.501186</td>\n",
       "      <td id=\"T_bbd9f_row4_col2\" class=\"data row4 col2\" >nan</td>\n",
       "      <td id=\"T_bbd9f_row4_col3\" class=\"data row4 col3\" >0.836579</td>\n",
       "    </tr>\n",
       "    <tr>\n",
       "      <th id=\"T_bbd9f_level1_row5\" class=\"row_heading level1 row5\" >LDA</th>\n",
       "      <td id=\"T_bbd9f_row5_col0\" class=\"data row5 col0\" >nan</td>\n",
       "      <td id=\"T_bbd9f_row5_col1\" class=\"data row5 col1\" >nan</td>\n",
       "      <td id=\"T_bbd9f_row5_col2\" class=\"data row5 col2\" >0.008628</td>\n",
       "      <td id=\"T_bbd9f_row5_col3\" class=\"data row5 col3\" >nan</td>\n",
       "    </tr>\n",
       "    <tr>\n",
       "      <th id=\"T_bbd9f_level0_row6\" class=\"row_heading level0 row6\" rowspan=\"3\">20News</th>\n",
       "      <th id=\"T_bbd9f_level1_row6\" class=\"row_heading level1 row6\" >doc2vec</th>\n",
       "      <td id=\"T_bbd9f_row6_col0\" class=\"data row6 col0\" >nan</td>\n",
       "      <td id=\"T_bbd9f_row6_col1\" class=\"data row6 col1\" >nan</td>\n",
       "      <td id=\"T_bbd9f_row6_col2\" class=\"data row6 col2\" >nan</td>\n",
       "      <td id=\"T_bbd9f_row6_col3\" class=\"data row6 col3\" >nan</td>\n",
       "    </tr>\n",
       "    <tr>\n",
       "      <th id=\"T_bbd9f_level1_row7\" class=\"row_heading level1 row7\" >sentenceBERT</th>\n",
       "      <td id=\"T_bbd9f_row7_col0\" class=\"data row7 col0\" >384.000000</td>\n",
       "      <td id=\"T_bbd9f_row7_col1\" class=\"data row7 col1\" >0.593456</td>\n",
       "      <td id=\"T_bbd9f_row7_col2\" class=\"data row7 col2\" >nan</td>\n",
       "      <td id=\"T_bbd9f_row7_col3\" class=\"data row7 col3\" >0.591931</td>\n",
       "    </tr>\n",
       "    <tr>\n",
       "      <th id=\"T_bbd9f_level1_row8\" class=\"row_heading level1 row8\" >LDA</th>\n",
       "      <td id=\"T_bbd9f_row8_col0\" class=\"data row8 col0\" >nan</td>\n",
       "      <td id=\"T_bbd9f_row8_col1\" class=\"data row8 col1\" >nan</td>\n",
       "      <td id=\"T_bbd9f_row8_col2\" class=\"data row8 col2\" >0.016865</td>\n",
       "      <td id=\"T_bbd9f_row8_col3\" class=\"data row8 col3\" >nan</td>\n",
       "    </tr>\n",
       "  </tbody>\n",
       "</table>\n"
      ],
      "text/plain": [
       "<pandas.io.formats.style.Styler at 0x7f296c2d7820>"
      ]
     },
     "execution_count": 33,
     "metadata": {},
     "output_type": "execute_result"
    }
   ],
   "source": [
    "max_style"
   ]
  },
  {
   "cell_type": "code",
   "execution_count": 34,
   "id": "d136f522",
   "metadata": {
    "ExecuteTime": {
     "end_time": "2023-01-11T07:23:45.816823Z",
     "start_time": "2023-01-11T07:23:45.805884Z"
    }
   },
   "outputs": [
    {
     "data": {
      "text/html": [
       "<style type=\"text/css\">\n",
       "#T_46238_row0_col0, #T_46238_row0_col1, #T_46238_row0_col2, #T_46238_row0_col3, #T_46238_row1_col0, #T_46238_row1_col1, #T_46238_row1_col2, #T_46238_row1_col3, #T_46238_row2_col0, #T_46238_row2_col1, #T_46238_row2_col2, #T_46238_row2_col3, #T_46238_row3_col0, #T_46238_row3_col1, #T_46238_row3_col2, #T_46238_row3_col3, #T_46238_row4_col0, #T_46238_row4_col1, #T_46238_row4_col2, #T_46238_row4_col3, #T_46238_row5_col0, #T_46238_row5_col1, #T_46238_row5_col2, #T_46238_row5_col3, #T_46238_row6_col0, #T_46238_row6_col1, #T_46238_row6_col2, #T_46238_row6_col3, #T_46238_row7_col0, #T_46238_row7_col1, #T_46238_row7_col2, #T_46238_row7_col3, #T_46238_row8_col0, #T_46238_row8_col1, #T_46238_row8_col2, #T_46238_row8_col3 {\n",
       "  font-weight: bold;\n",
       "}\n",
       "</style>\n",
       "<table id=\"T_46238\">\n",
       "  <thead>\n",
       "    <tr>\n",
       "      <th class=\"blank\" >&nbsp;</th>\n",
       "      <th class=\"blank level0\" >&nbsp;</th>\n",
       "      <th id=\"T_46238_level0_col0\" class=\"col_heading level0 col0\" >埋め込み次元</th>\n",
       "      <th id=\"T_46238_level0_col1\" class=\"col_heading level0 col1\" >mutual information</th>\n",
       "      <th id=\"T_46238_level0_col2\" class=\"col_heading level0 col2\" >分散</th>\n",
       "      <th id=\"T_46238_level0_col3\" class=\"col_heading level0 col3\" >coherence</th>\n",
       "    </tr>\n",
       "  </thead>\n",
       "  <tbody>\n",
       "    <tr>\n",
       "      <th id=\"T_46238_level0_row0\" class=\"row_heading level0 row0\" rowspan=\"3\">AgNews</th>\n",
       "      <th id=\"T_46238_level1_row0\" class=\"row_heading level1 row0\" >doc2vec</th>\n",
       "      <td id=\"T_46238_row0_col0\" class=\"data row0 col0\" >8.000000</td>\n",
       "      <td id=\"T_46238_row0_col1\" class=\"data row0 col1\" >0.407223</td>\n",
       "      <td id=\"T_46238_row0_col2\" class=\"data row0 col2\" >0.000126</td>\n",
       "      <td id=\"T_46238_row0_col3\" class=\"data row0 col3\" >0.797720</td>\n",
       "    </tr>\n",
       "    <tr>\n",
       "      <th id=\"T_46238_level1_row1\" class=\"row_heading level1 row1\" >sentenceBERT</th>\n",
       "      <td id=\"T_46238_row1_col0\" class=\"data row1 col0\" >384.000000</td>\n",
       "      <td id=\"T_46238_row1_col1\" class=\"data row1 col1\" >0.607587</td>\n",
       "      <td id=\"T_46238_row1_col2\" class=\"data row1 col2\" >0.018031</td>\n",
       "      <td id=\"T_46238_row1_col3\" class=\"data row1 col3\" >0.957356</td>\n",
       "    </tr>\n",
       "    <tr>\n",
       "      <th id=\"T_46238_level1_row2\" class=\"row_heading level1 row2\" >LDA</th>\n",
       "      <td id=\"T_46238_row2_col0\" class=\"data row2 col0\" >nan</td>\n",
       "      <td id=\"T_46238_row2_col1\" class=\"data row2 col1\" >0.407566</td>\n",
       "      <td id=\"T_46238_row2_col2\" class=\"data row2 col2\" >0.072550</td>\n",
       "      <td id=\"T_46238_row2_col3\" class=\"data row2 col3\" >0.806057</td>\n",
       "    </tr>\n",
       "    <tr>\n",
       "      <th id=\"T_46238_level0_row3\" class=\"row_heading level0 row3\" rowspan=\"3\">AgNewsTitle</th>\n",
       "      <th id=\"T_46238_level1_row3\" class=\"row_heading level1 row3\" >doc2vec</th>\n",
       "      <td id=\"T_46238_row3_col0\" class=\"data row3 col0\" >4.000000</td>\n",
       "      <td id=\"T_46238_row3_col1\" class=\"data row3 col1\" >0.194729</td>\n",
       "      <td id=\"T_46238_row3_col2\" class=\"data row3 col2\" >0.000500</td>\n",
       "      <td id=\"T_46238_row3_col3\" class=\"data row3 col3\" >0.747001</td>\n",
       "    </tr>\n",
       "    <tr>\n",
       "      <th id=\"T_46238_level1_row4\" class=\"row_heading level1 row4\" >sentenceBERT</th>\n",
       "      <td id=\"T_46238_row4_col0\" class=\"data row4 col0\" >384.000000</td>\n",
       "      <td id=\"T_46238_row4_col1\" class=\"data row4 col1\" >0.501186</td>\n",
       "      <td id=\"T_46238_row4_col2\" class=\"data row4 col2\" >0.000344</td>\n",
       "      <td id=\"T_46238_row4_col3\" class=\"data row4 col3\" >0.836579</td>\n",
       "    </tr>\n",
       "    <tr>\n",
       "      <th id=\"T_46238_level1_row5\" class=\"row_heading level1 row5\" >LDA</th>\n",
       "      <td id=\"T_46238_row5_col0\" class=\"data row5 col0\" >nan</td>\n",
       "      <td id=\"T_46238_row5_col1\" class=\"data row5 col1\" >0.022580</td>\n",
       "      <td id=\"T_46238_row5_col2\" class=\"data row5 col2\" >0.008628</td>\n",
       "      <td id=\"T_46238_row5_col3\" class=\"data row5 col3\" >0.704813</td>\n",
       "    </tr>\n",
       "    <tr>\n",
       "      <th id=\"T_46238_level0_row6\" class=\"row_heading level0 row6\" rowspan=\"3\">20News</th>\n",
       "      <th id=\"T_46238_level1_row6\" class=\"row_heading level1 row6\" >doc2vec</th>\n",
       "      <td id=\"T_46238_row6_col0\" class=\"data row6 col0\" >80.000000</td>\n",
       "      <td id=\"T_46238_row6_col1\" class=\"data row6 col1\" >0.372417</td>\n",
       "      <td id=\"T_46238_row6_col2\" class=\"data row6 col2\" >0.007156</td>\n",
       "      <td id=\"T_46238_row6_col3\" class=\"data row6 col3\" >0.587233</td>\n",
       "    </tr>\n",
       "    <tr>\n",
       "      <th id=\"T_46238_level1_row7\" class=\"row_heading level1 row7\" >sentenceBERT</th>\n",
       "      <td id=\"T_46238_row7_col0\" class=\"data row7 col0\" >384.000000</td>\n",
       "      <td id=\"T_46238_row7_col1\" class=\"data row7 col1\" >0.593456</td>\n",
       "      <td id=\"T_46238_row7_col2\" class=\"data row7 col2\" >0.011134</td>\n",
       "      <td id=\"T_46238_row7_col3\" class=\"data row7 col3\" >0.591931</td>\n",
       "    </tr>\n",
       "    <tr>\n",
       "      <th id=\"T_46238_level1_row8\" class=\"row_heading level1 row8\" >LDA</th>\n",
       "      <td id=\"T_46238_row8_col0\" class=\"data row8 col0\" >nan</td>\n",
       "      <td id=\"T_46238_row8_col1\" class=\"data row8 col1\" >0.332196</td>\n",
       "      <td id=\"T_46238_row8_col2\" class=\"data row8 col2\" >0.016865</td>\n",
       "      <td id=\"T_46238_row8_col3\" class=\"data row8 col3\" >0.538046</td>\n",
       "    </tr>\n",
       "  </tbody>\n",
       "</table>\n"
      ],
      "text/plain": [
       "<pandas.io.formats.style.Styler at 0x7f296c2d7b80>"
      ]
     },
     "execution_count": 34,
     "metadata": {},
     "output_type": "execute_result"
    }
   ],
   "source": [
    "chart_df.style.use(max_style.export())"
   ]
  },
  {
   "cell_type": "code",
   "execution_count": 35,
   "id": "3c16b697",
   "metadata": {
    "ExecuteTime": {
     "end_time": "2023-01-11T07:23:56.027078Z",
     "start_time": "2023-01-11T07:23:56.016753Z"
    }
   },
   "outputs": [
    {
     "data": {
      "text/html": [
       "<div>\n",
       "<style scoped>\n",
       "    .dataframe tbody tr th:only-of-type {\n",
       "        vertical-align: middle;\n",
       "    }\n",
       "\n",
       "    .dataframe tbody tr th {\n",
       "        vertical-align: top;\n",
       "    }\n",
       "\n",
       "    .dataframe thead th {\n",
       "        text-align: right;\n",
       "    }\n",
       "</style>\n",
       "<table border=\"1\" class=\"dataframe\">\n",
       "  <thead>\n",
       "    <tr style=\"text-align: right;\">\n",
       "      <th></th>\n",
       "      <th></th>\n",
       "      <th>mutual information</th>\n",
       "      <th>coherence</th>\n",
       "    </tr>\n",
       "  </thead>\n",
       "  <tbody>\n",
       "    <tr>\n",
       "      <th rowspan=\"3\" valign=\"top\">AgNews</th>\n",
       "      <th>doc2vec</th>\n",
       "      <td>0.407223</td>\n",
       "      <td>0.797720</td>\n",
       "    </tr>\n",
       "    <tr>\n",
       "      <th>sentenceBERT</th>\n",
       "      <td>0.607587</td>\n",
       "      <td>0.957356</td>\n",
       "    </tr>\n",
       "    <tr>\n",
       "      <th>LDA</th>\n",
       "      <td>0.407566</td>\n",
       "      <td>0.806057</td>\n",
       "    </tr>\n",
       "  </tbody>\n",
       "</table>\n",
       "</div>"
      ],
      "text/plain": [
       "                     mutual information  coherence\n",
       "AgNews doc2vec                 0.407223   0.797720\n",
       "       sentenceBERT            0.607587   0.957356\n",
       "       LDA                     0.407566   0.806057"
      ]
     },
     "execution_count": 35,
     "metadata": {},
     "output_type": "execute_result"
    }
   ],
   "source": [
    "chart_df.loc[:, [\"mutual information\", \"coherence\"]].loc[pd.IndexSlice[ \"AgNews\", :], :]"
   ]
  },
  {
   "cell_type": "code",
   "execution_count": 39,
   "id": "0fa3dce5",
   "metadata": {
    "ExecuteTime": {
     "end_time": "2023-01-11T07:25:50.509003Z",
     "start_time": "2023-01-11T07:25:50.486409Z"
    }
   },
   "outputs": [
    {
     "name": "stdout",
     "output_type": "stream",
     "text": [
      "\\begin{table}[ht]\n",
      "\\centering\n",
      "\\caption{提案手法と既存手法のAMIと$C_v$の比較}\n",
      "\\label{table:1}\n",
      "\\begin{tabular}{rrrr}\n",
      "\\toprule\n",
      " &  & mutual information & coherence \\\\\n",
      "\\midrule\n",
      "\\multirow[c]{3}{*}{AgNews} & doc2vec & 0.407 & 0.798 \\\\\n",
      " & sentenceBERT & \\bfseries 0.608 & \\bfseries 0.957 \\\\\n",
      " & LDA & 0.408 & 0.806 \\\\\n",
      "\\multirow[c]{3}{*}{AgNewsTitle} & doc2vec & 0.195 & 0.747 \\\\\n",
      " & sentenceBERT & \\bfseries 0.501 & \\bfseries 0.837 \\\\\n",
      " & LDA & 0.023 & 0.705 \\\\\n",
      "\\multirow[c]{3}{*}{20News} & doc2vec & 0.372 & 0.587 \\\\\n",
      " & sentenceBERT & \\bfseries 0.593 & \\bfseries 0.592 \\\\\n",
      " & LDA & 0.332 & 0.538 \\\\\n",
      "\\bottomrule\n",
      "\\end{tabular}\n",
      "\\end{table}\n",
      "\n"
     ]
    }
   ],
   "source": [
    "print(\n",
    "    chart_df.loc[:, [\"mutual information\", \"coherence\"]]\n",
    "    .style\n",
    "    .highlight_max(subset=pd.IndexSlice[\"AgNews\", :], props=\"font-weight: bold\")\n",
    "    .highlight_max(subset=pd.IndexSlice[\"20News\", :], props=\"font-weight: bold\")\n",
    "    .highlight_max(subset=pd.IndexSlice[\"AgNewsTitle\", :], props=\"font-weight: bold\")\n",
    "    .format(precision=3, escape=\"latex\")\n",
    "    .to_latex(\n",
    "        column_format=\"rrrr\",\n",
    "        position=\"ht\",\n",
    "        position_float=\"centering\",\n",
    "        hrules=True,\n",
    "        caption=\"提案手法と既存手法のAMIと$C_v$の比較\",\n",
    "        label=\"table:1\",\n",
    "        multicol_align=\"r\",\n",
    "        convert_css=True,\n",
    "    )\n",
    ")"
   ]
  },
  {
   "cell_type": "code",
   "execution_count": 41,
   "id": "ce2f5f55",
   "metadata": {
    "ExecuteTime": {
     "end_time": "2023-01-11T07:28:17.928289Z",
     "start_time": "2023-01-11T07:28:17.907056Z"
    },
    "code_folding": []
   },
   "outputs": [
    {
     "name": "stdout",
     "output_type": "stream",
     "text": [
      "\\begin{table}[ht]\n",
      "\\centering\n",
      "\\caption{提案手法と既存手法のAMIと$C_v$の比較}\n",
      "\\label{table:1}\n",
      "\\begin{tabular}{rrrr}\n",
      "\\toprule\n",
      " &  & mutual information & coherence \\\\\n",
      "\\midrule\n",
      "\\multirow[t]{3}{*}{AgNews} & doc2vec & 0.407 & 0.798 \\\\\n",
      " & sentenceBERT & \\bfseries 0.608 & \\bfseries 0.957 \\\\\n",
      " & LDA & 0.408 & 0.806 \\\\\n",
      "\\multirow[t]{3}{*}{AgNewsTitle} & doc2vec & 0.195 & 0.747 \\\\\n",
      " & sentenceBERT & \\bfseries 0.501 & \\bfseries 0.837 \\\\\n",
      " & LDA & 0.023 & 0.705 \\\\\n",
      "\\multirow[t]{3}{*}{20News} & doc2vec & 0.372 & 0.587 \\\\\n",
      " & sentenceBERT & \\bfseries 0.593 & \\bfseries 0.592 \\\\\n",
      " & LDA & 0.332 & 0.538 \\\\\n",
      "\\bottomrule\n",
      "\\end{tabular}\n",
      "\\end{table}\n",
      "\n"
     ]
    }
   ],
   "source": [
    "print(\n",
    "    chart_df.loc[:, [\"mutual information\", \"coherence\"]]\n",
    "    .style\n",
    "    .highlight_max(subset=pd.IndexSlice[\"AgNews\", :], props=\"font-weight: bold\")\n",
    "    .highlight_max(subset=pd.IndexSlice[\"20News\", :], props=\"font-weight: bold\")\n",
    "    .highlight_max(subset=pd.IndexSlice[\"AgNewsTitle\", :], props=\"font-weight: bold\")\n",
    "    .format(precision=3, escape=\"latex\")\n",
    "    .to_latex(\n",
    "        column_format=\"rrrr\",\n",
    "        position=\"ht\",\n",
    "        position_float=\"centering\",\n",
    "        hrules=True,\n",
    "        caption=\"提案手法と既存手法のAMIと$C_v$の比較\",\n",
    "        label=\"table:1\",\n",
    "        multicol_align=\"c\",\n",
    "        multirow_align=\"t\",\n",
    "        convert_css=True,\n",
    "    )\n",
    ")"
   ]
  },
  {
   "cell_type": "code",
   "execution_count": 84,
   "id": "8aa6d62c",
   "metadata": {
    "ExecuteTime": {
     "end_time": "2023-01-08T02:30:27.794936Z",
     "start_time": "2023-01-08T02:30:27.786755Z"
    },
    "collapsed": true,
    "deletable": false,
    "editable": false,
    "run_control": {
     "frozen": true
    }
   },
   "outputs": [
    {
     "name": "stdout",
     "output_type": "stream",
     "text": [
      "\\begin{table}[h]\n",
      "\\centering\n",
      "\\caption{miの比較と埋め込み次元}\n",
      "\\label{table:1}\n",
      "\\begin{tabular}{llrr}\n",
      "\\toprule\n",
      " &  & mutual information & coherence \\\\\n",
      "\\midrule\n",
      "\\multirow[c]{3}{*}{AgNews} & doc2vec & 0.431 & 0.783 \\\\\n",
      " & sentenceBERT & 0.610 & 0.925 \\\\\n",
      " & LDA & 0.408 & 0.806 \\\\\n",
      "\\multirow[c]{3}{*}{AgNewsTitle} & doc2vec & 0.195 & 0.747 \\\\\n",
      " & sentenceBERT & 0.518 & 1.000 \\\\\n",
      " & LDA & 0.023 & 0.705 \\\\\n",
      "\\multirow[c]{3}{*}{20News} & doc2vec & 0.440 & 0.587 \\\\\n",
      " & sentenceBERT & 0.649 & 0.599 \\\\\n",
      " & LDA & 0.332 & 0.538 \\\\\n",
      "\\bottomrule\n",
      "\\end{tabular}\n",
      "\\end{table}\n",
      "\n"
     ]
    }
   ],
   "source": [
    "print(\n",
    "    chart_df.loc[:, [\"mutual information\", \"coherence\"]]\n",
    "    .style.format(precision=3, escape=\"latex\")\n",
    "    .to_latex(\n",
    "#         column_format=\"rrrrrrr\",\n",
    "        position=\"h\",\n",
    "        position_float=\"centering\",\n",
    "        hrules=True,\n",
    "        caption=\"miの比較と埋め込み次元\",\n",
    "        label=\"table:1\",\n",
    "        multicol_align=\"r\",\n",
    "    )\n",
    ")"
   ]
  },
  {
   "cell_type": "code",
   "execution_count": null,
   "id": "f95c37c1",
   "metadata": {},
   "outputs": [],
   "source": []
  },
  {
   "cell_type": "code",
   "execution_count": null,
   "id": "d1e956bf",
   "metadata": {},
   "outputs": [],
   "source": []
  },
  {
   "cell_type": "code",
   "execution_count": null,
   "id": "1f7d2bfa",
   "metadata": {},
   "outputs": [],
   "source": []
  },
  {
   "cell_type": "code",
   "execution_count": null,
   "id": "f9285899",
   "metadata": {},
   "outputs": [],
   "source": []
  }
 ],
 "metadata": {
  "kernelspec": {
   "display_name": "Python 3 (ipykernel)",
   "language": "python",
   "name": "python3"
  },
  "language_info": {
   "codemirror_mode": {
    "name": "ipython",
    "version": 3
   },
   "file_extension": ".py",
   "mimetype": "text/x-python",
   "name": "python",
   "nbconvert_exporter": "python",
   "pygments_lexer": "ipython3",
   "version": "3.10.8"
  },
  "toc": {
   "base_numbering": 1,
   "nav_menu": {},
   "number_sections": true,
   "sideBar": true,
   "skip_h1_title": false,
   "title_cell": "Table of Contents",
   "title_sidebar": "Contents",
   "toc_cell": false,
   "toc_position": {},
   "toc_section_display": true,
   "toc_window_display": false
  }
 },
 "nbformat": 4,
 "nbformat_minor": 5
}
