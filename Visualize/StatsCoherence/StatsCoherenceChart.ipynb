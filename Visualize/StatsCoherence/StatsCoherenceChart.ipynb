{
 "cells": [
  {
   "cell_type": "markdown",
   "id": "b95f9187",
   "metadata": {},
   "source": [
    "# Import"
   ]
  },
  {
   "cell_type": "code",
   "execution_count": 31,
   "id": "80a85ab5",
   "metadata": {
    "ExecuteTime": {
     "end_time": "2023-01-02T12:49:48.757518Z",
     "start_time": "2023-01-02T12:49:48.753956Z"
    }
   },
   "outputs": [],
   "source": [
    "import csv\n",
    "import os\n",
    "import pickle\n",
    "import sys\n",
    "\n",
    "import matplotlib.pyplot as plt\n",
    "import seaborn as sns\n",
    "import numpy as np\n",
    "import pandas as pd\n",
    "from tqdm import tqdm"
   ]
  },
  {
   "cell_type": "markdown",
   "id": "2543f4e4",
   "metadata": {},
   "source": [
    "## Add configuration file"
   ]
  },
  {
   "cell_type": "code",
   "execution_count": 32,
   "id": "b62547de",
   "metadata": {
    "ExecuteTime": {
     "end_time": "2023-01-02T12:49:49.294492Z",
     "start_time": "2023-01-02T12:49:49.291473Z"
    }
   },
   "outputs": [],
   "source": [
    "sys.path.append(\"/home/jovyan/core/config/\")\n",
    "sys.path.append(\"/home/jovyan/core/util/\")\n",
    "sys.path.append(\"../PlotFunction/lineplot/\")\n",
    "sys.path.append(\"../PlotFunction/config/\")"
   ]
  },
  {
   "cell_type": "code",
   "execution_count": 33,
   "id": "84da401b",
   "metadata": {
    "ExecuteTime": {
     "end_time": "2023-01-02T12:49:49.354459Z",
     "start_time": "2023-01-02T12:49:49.350891Z"
    }
   },
   "outputs": [],
   "source": [
    "from ALL import config\n",
    "from line_plot_1 import line_plot_1\n",
    "from line_plot_error_1 import line_plot_error_1\n",
    "from line_plot_1_layout import layout\n",
    "from util import *"
   ]
  },
  {
   "cell_type": "markdown",
   "id": "9330548e",
   "metadata": {},
   "source": [
    "## Set condition"
   ]
  },
  {
   "cell_type": "code",
   "execution_count": 34,
   "id": "a30f3623",
   "metadata": {
    "ExecuteTime": {
     "end_time": "2023-01-02T12:49:49.535828Z",
     "start_time": "2023-01-02T12:49:49.531835Z"
    }
   },
   "outputs": [],
   "source": [
    "tqdm.pandas()\n",
    "pd.set_option(\"display.max_columns\", 100)\n",
    "pd.set_option(\"display.max_rows\", 50)"
   ]
  },
  {
   "cell_type": "code",
   "execution_count": 35,
   "id": "437dc5a7",
   "metadata": {
    "ExecuteTime": {
     "end_time": "2023-01-02T12:49:49.633758Z",
     "start_time": "2023-01-02T12:49:49.630781Z"
    }
   },
   "outputs": [],
   "source": [
    "data_type = \"AgNewsTitle\"\n",
    "vectorize_types = [\"doc2vec\", \"sentenceBERT\"]"
   ]
  },
  {
   "cell_type": "code",
   "execution_count": 36,
   "id": "c112357f",
   "metadata": {
    "ExecuteTime": {
     "end_time": "2023-01-02T12:49:49.717606Z",
     "start_time": "2023-01-02T12:49:49.711736Z"
    }
   },
   "outputs": [],
   "source": [
    "model_nums = config[\"clustering\"][\"gmm\"][\"max_model_num\"]\n",
    "covariance_types = config[\"clustering\"][\"gmm\"][\"covariance_types\"]\n",
    "normalization = \"centralized\"\n",
    "covariance_types = [\"spherical\", \"diag\", \"full\"]\n",
    "vector_dims = {\n",
    "    \"doc2vec\": config[\"vectorize\"][\"doc2vec\"][\"dims\"],\n",
    "    \"sentenceBERT\": config[\"vectorize\"][\"sentenceBERT\"][\"dims\"] + [384],\n",
    "}"
   ]
  },
  {
   "cell_type": "code",
   "execution_count": 37,
   "id": "8847dbdc",
   "metadata": {
    "ExecuteTime": {
     "end_time": "2023-01-02T12:49:49.801385Z",
     "start_time": "2023-01-02T12:49:49.798188Z"
    }
   },
   "outputs": [],
   "source": [
    "stats_vals = [\"aic\", \"bic\", \"mi\", \"logl\"]"
   ]
  },
  {
   "cell_type": "markdown",
   "id": "31bca53e",
   "metadata": {},
   "source": [
    "# Stats"
   ]
  },
  {
   "cell_type": "markdown",
   "id": "52c60a4f",
   "metadata": {},
   "source": [
    "## Read data"
   ]
  },
  {
   "cell_type": "code",
   "execution_count": 38,
   "id": "f7feee05",
   "metadata": {
    "ExecuteTime": {
     "end_time": "2023-01-02T12:49:50.024194Z",
     "start_time": "2023-01-02T12:49:50.019230Z"
    },
    "code_folding": [
     0
    ]
   },
   "outputs": [],
   "source": [
    "def load_stats_data(vectorize_type, stats_vals, covariance_types, model_nums):\n",
    "    # データ型定義\n",
    "    stats = {\n",
    "        stats_val: {\n",
    "            covariance_type: {\n",
    "                model_num: pd.DataFrame for model_num in range(model_nums)\n",
    "            }\n",
    "            for covariance_type in covariance_types\n",
    "        }\n",
    "        for stats_val in stats_vals\n",
    "    }\n",
    "\n",
    "    # データ取得\n",
    "    for stats_val in stats_vals:\n",
    "        for covariance_type in covariance_types:\n",
    "            for model_num in range(model_nums):\n",
    "                stats_path = f\"../../Postprocessing/data/{data_type}/{vectorize_type}/GMM/stats/{normalization}/{covariance_type}/{model_num}.csv\"\n",
    "                df = pd.read_csv(stats_path, index_col=0)\n",
    "                stats[stats_val][covariance_type][model_num] = df.loc[:, stats_val]\n",
    "    return stats"
   ]
  },
  {
   "cell_type": "code",
   "execution_count": 39,
   "id": "409ccf32",
   "metadata": {
    "ExecuteTime": {
     "end_time": "2023-01-02T12:49:50.150259Z",
     "start_time": "2023-01-02T12:49:50.146675Z"
    }
   },
   "outputs": [],
   "source": [
    "def load_lda_mi(data_type):\n",
    "    lda_mi = pd.read_csv(\n",
    "        f\"../../Postprocessing/data/{data_type}/LDA/mi.csv\", index_col=0\n",
    "    )\n",
    "    describe_lda_mi, _ = get_describe(lda_mi, axis=0)\n",
    "    return describe_lda_mi"
   ]
  },
  {
   "cell_type": "code",
   "execution_count": 40,
   "id": "1af35966",
   "metadata": {
    "ExecuteTime": {
     "end_time": "2023-01-02T12:49:51.504202Z",
     "start_time": "2023-01-02T12:49:50.210225Z"
    }
   },
   "outputs": [],
   "source": [
    "stats_dict = {}\n",
    "for vectorize_type in vectorize_types:\n",
    "    stats_dict[vectorize_type] = load_stats_data(\n",
    "        vectorize_type, stats_vals, covariance_types, model_nums\n",
    "    )"
   ]
  },
  {
   "cell_type": "code",
   "execution_count": 41,
   "id": "59a86bcc",
   "metadata": {
    "ExecuteTime": {
     "end_time": "2023-01-02T12:49:51.515372Z",
     "start_time": "2023-01-02T12:49:51.507043Z"
    }
   },
   "outputs": [],
   "source": [
    "describe_lda_mi = load_lda_mi(data_type)"
   ]
  },
  {
   "cell_type": "markdown",
   "id": "c963c854",
   "metadata": {},
   "source": [
    "## Data shaping"
   ]
  },
  {
   "cell_type": "code",
   "execution_count": 42,
   "id": "ee2c3cdf",
   "metadata": {
    "ExecuteTime": {
     "end_time": "2023-01-02T12:49:51.528456Z",
     "start_time": "2023-01-02T12:49:51.517679Z"
    },
    "code_folding": [
     0
    ]
   },
   "outputs": [],
   "source": [
    "def shape_stats_df(stats):\n",
    "    stats_df = {\n",
    "        stats_val: {covariance_type: pd.DataFrame() for covariance_type in covariance_types}\n",
    "        for stats_val in stats_vals\n",
    "    }\n",
    "\n",
    "    for stats_val in stats_vals:\n",
    "        for covariance_type in covariance_types:\n",
    "            # model_numについて取得データstatsを結合\n",
    "            stats_df[stats_val][covariance_type] = pd.concat(\n",
    "                stats[stats_val][covariance_type], axis=1\n",
    "            )\n",
    "    return stats_df"
   ]
  },
  {
   "cell_type": "code",
   "execution_count": 43,
   "id": "ad3c2855",
   "metadata": {
    "ExecuteTime": {
     "end_time": "2023-01-02T12:49:51.536079Z",
     "start_time": "2023-01-02T12:49:51.531595Z"
    },
    "code_folding": [
     0,
     1
    ]
   },
   "outputs": [],
   "source": [
    "def shape_describe(stats_df):\n",
    "    describe = {\n",
    "        stats_val: {covariance_type: dict() for covariance_type in covariance_types}\n",
    "        for stats_val in stats_vals\n",
    "    }\n",
    "\n",
    "    for stats_val in stats_vals:\n",
    "        for covariance_type in covariance_types:\n",
    "            describe[stats_val][covariance_type], describe_keys = get_describe(\n",
    "                stats_df[stats_val][covariance_type], axis=1\n",
    "            )\n",
    "    return describe, describe_keys"
   ]
  },
  {
   "cell_type": "code",
   "execution_count": 44,
   "id": "d4c180f0",
   "metadata": {
    "ExecuteTime": {
     "end_time": "2023-01-02T12:49:51.544474Z",
     "start_time": "2023-01-02T12:49:51.538214Z"
    },
    "code_folding": [
     0,
     1
    ]
   },
   "outputs": [],
   "source": [
    "def shape_data(describe, describe_keys):\n",
    "    data = {\n",
    "        stats_val: {describe_key: pd.DataFrame() for describe_key in describe_keys}\n",
    "        for stats_val in stats_vals\n",
    "    }\n",
    "    for stats_val in stats_vals:\n",
    "        for describe_key in describe_keys:\n",
    "            # covariance_typeについてデータを結合\n",
    "            _data = {\n",
    "                covariance_type: describe[stats_val][covariance_type][describe_key]\n",
    "                for covariance_type in covariance_types\n",
    "            }\n",
    "            data[stats_val][describe_key] = pd.concat(_data, axis=1)\n",
    "    return data"
   ]
  },
  {
   "cell_type": "code",
   "execution_count": 45,
   "id": "ef827e1b",
   "metadata": {
    "ExecuteTime": {
     "end_time": "2023-01-02T12:49:51.740477Z",
     "start_time": "2023-01-02T12:49:51.546282Z"
    },
    "code_folding": [
     1
    ]
   },
   "outputs": [],
   "source": [
    "data_stats = {}\n",
    "for vectorize_type, stats in stats_dict.items():\n",
    "    stats_df = shape_stats_df(stats)\n",
    "    describe, describe_keys = shape_describe(stats_df)\n",
    "    data_stats[vectorize_type] = shape_data(describe, describe_keys)"
   ]
  },
  {
   "cell_type": "code",
   "execution_count": 46,
   "id": "24493214",
   "metadata": {
    "ExecuteTime": {
     "end_time": "2023-01-02T12:49:51.779399Z",
     "start_time": "2023-01-02T12:49:51.743099Z"
    }
   },
   "outputs": [
    {
     "data": {
      "text/html": [
       "<style type=\"text/css\">\n",
       "#T_b00a2_row4_col0, #T_b00a2_row4_col1, #T_b00a2_row4_col2, #T_b00a2_row4_col4, #T_b00a2_row4_col5, #T_b00a2_row4_col6, #T_b00a2_row4_col7, #T_b00a2_row4_col8, #T_b00a2_row4_col9, #T_b00a2_row4_col10, #T_b00a2_row4_col11, #T_b00a2_row4_col12, #T_b00a2_row4_col13, #T_b00a2_row4_col14, #T_b00a2_row4_col15, #T_b00a2_row4_col16, #T_b00a2_row4_col17, #T_b00a2_row4_col18, #T_b00a2_row4_col19, #T_b00a2_row4_col20, #T_b00a2_row4_col22, #T_b00a2_row4_col23, #T_b00a2_row4_col24, #T_b00a2_row4_col25, #T_b00a2_row4_col26, #T_b00a2_row4_col27, #T_b00a2_row4_col28, #T_b00a2_row4_col29, #T_b00a2_row5_col21, #T_b00a2_row6_col3 {\n",
       "  background-color: yellow;\n",
       "}\n",
       "</style>\n",
       "<table id=\"T_b00a2\">\n",
       "  <thead>\n",
       "    <tr>\n",
       "      <th class=\"blank level0\" >&nbsp;</th>\n",
       "      <th id=\"T_b00a2_level0_col0\" class=\"col_heading level0 col0\" >0</th>\n",
       "      <th id=\"T_b00a2_level0_col1\" class=\"col_heading level0 col1\" >1</th>\n",
       "      <th id=\"T_b00a2_level0_col2\" class=\"col_heading level0 col2\" >2</th>\n",
       "      <th id=\"T_b00a2_level0_col3\" class=\"col_heading level0 col3\" >3</th>\n",
       "      <th id=\"T_b00a2_level0_col4\" class=\"col_heading level0 col4\" >4</th>\n",
       "      <th id=\"T_b00a2_level0_col5\" class=\"col_heading level0 col5\" >5</th>\n",
       "      <th id=\"T_b00a2_level0_col6\" class=\"col_heading level0 col6\" >6</th>\n",
       "      <th id=\"T_b00a2_level0_col7\" class=\"col_heading level0 col7\" >7</th>\n",
       "      <th id=\"T_b00a2_level0_col8\" class=\"col_heading level0 col8\" >8</th>\n",
       "      <th id=\"T_b00a2_level0_col9\" class=\"col_heading level0 col9\" >9</th>\n",
       "      <th id=\"T_b00a2_level0_col10\" class=\"col_heading level0 col10\" >10</th>\n",
       "      <th id=\"T_b00a2_level0_col11\" class=\"col_heading level0 col11\" >11</th>\n",
       "      <th id=\"T_b00a2_level0_col12\" class=\"col_heading level0 col12\" >12</th>\n",
       "      <th id=\"T_b00a2_level0_col13\" class=\"col_heading level0 col13\" >13</th>\n",
       "      <th id=\"T_b00a2_level0_col14\" class=\"col_heading level0 col14\" >14</th>\n",
       "      <th id=\"T_b00a2_level0_col15\" class=\"col_heading level0 col15\" >15</th>\n",
       "      <th id=\"T_b00a2_level0_col16\" class=\"col_heading level0 col16\" >16</th>\n",
       "      <th id=\"T_b00a2_level0_col17\" class=\"col_heading level0 col17\" >17</th>\n",
       "      <th id=\"T_b00a2_level0_col18\" class=\"col_heading level0 col18\" >18</th>\n",
       "      <th id=\"T_b00a2_level0_col19\" class=\"col_heading level0 col19\" >19</th>\n",
       "      <th id=\"T_b00a2_level0_col20\" class=\"col_heading level0 col20\" >20</th>\n",
       "      <th id=\"T_b00a2_level0_col21\" class=\"col_heading level0 col21\" >21</th>\n",
       "      <th id=\"T_b00a2_level0_col22\" class=\"col_heading level0 col22\" >22</th>\n",
       "      <th id=\"T_b00a2_level0_col23\" class=\"col_heading level0 col23\" >23</th>\n",
       "      <th id=\"T_b00a2_level0_col24\" class=\"col_heading level0 col24\" >24</th>\n",
       "      <th id=\"T_b00a2_level0_col25\" class=\"col_heading level0 col25\" >25</th>\n",
       "      <th id=\"T_b00a2_level0_col26\" class=\"col_heading level0 col26\" >26</th>\n",
       "      <th id=\"T_b00a2_level0_col27\" class=\"col_heading level0 col27\" >27</th>\n",
       "      <th id=\"T_b00a2_level0_col28\" class=\"col_heading level0 col28\" >28</th>\n",
       "      <th id=\"T_b00a2_level0_col29\" class=\"col_heading level0 col29\" >29</th>\n",
       "    </tr>\n",
       "  </thead>\n",
       "  <tbody>\n",
       "    <tr>\n",
       "      <th id=\"T_b00a2_level0_row0\" class=\"row_heading level0 row0\" >2</th>\n",
       "      <td id=\"T_b00a2_row0_col0\" class=\"data row0 col0\" >0.387009</td>\n",
       "      <td id=\"T_b00a2_row0_col1\" class=\"data row0 col1\" >0.387105</td>\n",
       "      <td id=\"T_b00a2_row0_col2\" class=\"data row0 col2\" >0.386822</td>\n",
       "      <td id=\"T_b00a2_row0_col3\" class=\"data row0 col3\" >0.385757</td>\n",
       "      <td id=\"T_b00a2_row0_col4\" class=\"data row0 col4\" >0.306069</td>\n",
       "      <td id=\"T_b00a2_row0_col5\" class=\"data row0 col5\" >0.387086</td>\n",
       "      <td id=\"T_b00a2_row0_col6\" class=\"data row0 col6\" >0.387101</td>\n",
       "      <td id=\"T_b00a2_row0_col7\" class=\"data row0 col7\" >0.387111</td>\n",
       "      <td id=\"T_b00a2_row0_col8\" class=\"data row0 col8\" >0.387086</td>\n",
       "      <td id=\"T_b00a2_row0_col9\" class=\"data row0 col9\" >0.387064</td>\n",
       "      <td id=\"T_b00a2_row0_col10\" class=\"data row0 col10\" >0.387074</td>\n",
       "      <td id=\"T_b00a2_row0_col11\" class=\"data row0 col11\" >0.306107</td>\n",
       "      <td id=\"T_b00a2_row0_col12\" class=\"data row0 col12\" >0.386398</td>\n",
       "      <td id=\"T_b00a2_row0_col13\" class=\"data row0 col13\" >0.386927</td>\n",
       "      <td id=\"T_b00a2_row0_col14\" class=\"data row0 col14\" >0.386989</td>\n",
       "      <td id=\"T_b00a2_row0_col15\" class=\"data row0 col15\" >0.385715</td>\n",
       "      <td id=\"T_b00a2_row0_col16\" class=\"data row0 col16\" >0.387094</td>\n",
       "      <td id=\"T_b00a2_row0_col17\" class=\"data row0 col17\" >0.386986</td>\n",
       "      <td id=\"T_b00a2_row0_col18\" class=\"data row0 col18\" >0.387111</td>\n",
       "      <td id=\"T_b00a2_row0_col19\" class=\"data row0 col19\" >0.387074</td>\n",
       "      <td id=\"T_b00a2_row0_col20\" class=\"data row0 col20\" >0.333532</td>\n",
       "      <td id=\"T_b00a2_row0_col21\" class=\"data row0 col21\" >0.387094</td>\n",
       "      <td id=\"T_b00a2_row0_col22\" class=\"data row0 col22\" >0.387034</td>\n",
       "      <td id=\"T_b00a2_row0_col23\" class=\"data row0 col23\" >0.387082</td>\n",
       "      <td id=\"T_b00a2_row0_col24\" class=\"data row0 col24\" >0.387057</td>\n",
       "      <td id=\"T_b00a2_row0_col25\" class=\"data row0 col25\" >0.385620</td>\n",
       "      <td id=\"T_b00a2_row0_col26\" class=\"data row0 col26\" >0.386947</td>\n",
       "      <td id=\"T_b00a2_row0_col27\" class=\"data row0 col27\" >0.387101</td>\n",
       "      <td id=\"T_b00a2_row0_col28\" class=\"data row0 col28\" >0.387060</td>\n",
       "      <td id=\"T_b00a2_row0_col29\" class=\"data row0 col29\" >0.385746</td>\n",
       "    </tr>\n",
       "    <tr>\n",
       "      <th id=\"T_b00a2_level0_row1\" class=\"row_heading level0 row1\" >4</th>\n",
       "      <td id=\"T_b00a2_row1_col0\" class=\"data row1 col0\" >0.492016</td>\n",
       "      <td id=\"T_b00a2_row1_col1\" class=\"data row1 col1\" >0.492024</td>\n",
       "      <td id=\"T_b00a2_row1_col2\" class=\"data row1 col2\" >0.492592</td>\n",
       "      <td id=\"T_b00a2_row1_col3\" class=\"data row1 col3\" >0.478820</td>\n",
       "      <td id=\"T_b00a2_row1_col4\" class=\"data row1 col4\" >0.492418</td>\n",
       "      <td id=\"T_b00a2_row1_col5\" class=\"data row1 col5\" >0.492449</td>\n",
       "      <td id=\"T_b00a2_row1_col6\" class=\"data row1 col6\" >0.492418</td>\n",
       "      <td id=\"T_b00a2_row1_col7\" class=\"data row1 col7\" >0.492463</td>\n",
       "      <td id=\"T_b00a2_row1_col8\" class=\"data row1 col8\" >0.492024</td>\n",
       "      <td id=\"T_b00a2_row1_col9\" class=\"data row1 col9\" >0.492617</td>\n",
       "      <td id=\"T_b00a2_row1_col10\" class=\"data row1 col10\" >0.478843</td>\n",
       "      <td id=\"T_b00a2_row1_col11\" class=\"data row1 col11\" >0.492420</td>\n",
       "      <td id=\"T_b00a2_row1_col12\" class=\"data row1 col12\" >0.478838</td>\n",
       "      <td id=\"T_b00a2_row1_col13\" class=\"data row1 col13\" >0.492385</td>\n",
       "      <td id=\"T_b00a2_row1_col14\" class=\"data row1 col14\" >0.492375</td>\n",
       "      <td id=\"T_b00a2_row1_col15\" class=\"data row1 col15\" >0.492552</td>\n",
       "      <td id=\"T_b00a2_row1_col16\" class=\"data row1 col16\" >0.492036</td>\n",
       "      <td id=\"T_b00a2_row1_col17\" class=\"data row1 col17\" >0.492407</td>\n",
       "      <td id=\"T_b00a2_row1_col18\" class=\"data row1 col18\" >0.492024</td>\n",
       "      <td id=\"T_b00a2_row1_col19\" class=\"data row1 col19\" >0.492391</td>\n",
       "      <td id=\"T_b00a2_row1_col20\" class=\"data row1 col20\" >0.478798</td>\n",
       "      <td id=\"T_b00a2_row1_col21\" class=\"data row1 col21\" >0.492592</td>\n",
       "      <td id=\"T_b00a2_row1_col22\" class=\"data row1 col22\" >0.492592</td>\n",
       "      <td id=\"T_b00a2_row1_col23\" class=\"data row1 col23\" >0.492013</td>\n",
       "      <td id=\"T_b00a2_row1_col24\" class=\"data row1 col24\" >0.492596</td>\n",
       "      <td id=\"T_b00a2_row1_col25\" class=\"data row1 col25\" >0.478822</td>\n",
       "      <td id=\"T_b00a2_row1_col26\" class=\"data row1 col26\" >0.478787</td>\n",
       "      <td id=\"T_b00a2_row1_col27\" class=\"data row1 col27\" >0.487707</td>\n",
       "      <td id=\"T_b00a2_row1_col28\" class=\"data row1 col28\" >0.492375</td>\n",
       "      <td id=\"T_b00a2_row1_col29\" class=\"data row1 col29\" >0.492596</td>\n",
       "    </tr>\n",
       "    <tr>\n",
       "      <th id=\"T_b00a2_level0_row2\" class=\"row_heading level0 row2\" >6</th>\n",
       "      <td id=\"T_b00a2_row2_col0\" class=\"data row2 col0\" >0.496961</td>\n",
       "      <td id=\"T_b00a2_row2_col1\" class=\"data row2 col1\" >0.496981</td>\n",
       "      <td id=\"T_b00a2_row2_col2\" class=\"data row2 col2\" >0.497080</td>\n",
       "      <td id=\"T_b00a2_row2_col3\" class=\"data row2 col3\" >0.496981</td>\n",
       "      <td id=\"T_b00a2_row2_col4\" class=\"data row2 col4\" >0.496961</td>\n",
       "      <td id=\"T_b00a2_row2_col5\" class=\"data row2 col5\" >0.496973</td>\n",
       "      <td id=\"T_b00a2_row2_col6\" class=\"data row2 col6\" >0.496968</td>\n",
       "      <td id=\"T_b00a2_row2_col7\" class=\"data row2 col7\" >0.496968</td>\n",
       "      <td id=\"T_b00a2_row2_col8\" class=\"data row2 col8\" >0.496961</td>\n",
       "      <td id=\"T_b00a2_row2_col9\" class=\"data row2 col9\" >0.496968</td>\n",
       "      <td id=\"T_b00a2_row2_col10\" class=\"data row2 col10\" >0.496961</td>\n",
       "      <td id=\"T_b00a2_row2_col11\" class=\"data row2 col11\" >0.496961</td>\n",
       "      <td id=\"T_b00a2_row2_col12\" class=\"data row2 col12\" >0.496974</td>\n",
       "      <td id=\"T_b00a2_row2_col13\" class=\"data row2 col13\" >0.496961</td>\n",
       "      <td id=\"T_b00a2_row2_col14\" class=\"data row2 col14\" >0.496981</td>\n",
       "      <td id=\"T_b00a2_row2_col15\" class=\"data row2 col15\" >0.496974</td>\n",
       "      <td id=\"T_b00a2_row2_col16\" class=\"data row2 col16\" >0.496961</td>\n",
       "      <td id=\"T_b00a2_row2_col17\" class=\"data row2 col17\" >0.496981</td>\n",
       "      <td id=\"T_b00a2_row2_col18\" class=\"data row2 col18\" >0.449132</td>\n",
       "      <td id=\"T_b00a2_row2_col19\" class=\"data row2 col19\" >0.496959</td>\n",
       "      <td id=\"T_b00a2_row2_col20\" class=\"data row2 col20\" >0.496961</td>\n",
       "      <td id=\"T_b00a2_row2_col21\" class=\"data row2 col21\" >0.496961</td>\n",
       "      <td id=\"T_b00a2_row2_col22\" class=\"data row2 col22\" >0.496970</td>\n",
       "      <td id=\"T_b00a2_row2_col23\" class=\"data row2 col23\" >0.496968</td>\n",
       "      <td id=\"T_b00a2_row2_col24\" class=\"data row2 col24\" >0.496959</td>\n",
       "      <td id=\"T_b00a2_row2_col25\" class=\"data row2 col25\" >0.496968</td>\n",
       "      <td id=\"T_b00a2_row2_col26\" class=\"data row2 col26\" >0.496974</td>\n",
       "      <td id=\"T_b00a2_row2_col27\" class=\"data row2 col27\" >0.497064</td>\n",
       "      <td id=\"T_b00a2_row2_col28\" class=\"data row2 col28\" >0.496961</td>\n",
       "      <td id=\"T_b00a2_row2_col29\" class=\"data row2 col29\" >0.496959</td>\n",
       "    </tr>\n",
       "    <tr>\n",
       "      <th id=\"T_b00a2_level0_row3\" class=\"row_heading level0 row3\" >8</th>\n",
       "      <td id=\"T_b00a2_row3_col0\" class=\"data row3 col0\" >0.502793</td>\n",
       "      <td id=\"T_b00a2_row3_col1\" class=\"data row3 col1\" >0.501973</td>\n",
       "      <td id=\"T_b00a2_row3_col2\" class=\"data row3 col2\" >0.502022</td>\n",
       "      <td id=\"T_b00a2_row3_col3\" class=\"data row3 col3\" >0.502959</td>\n",
       "      <td id=\"T_b00a2_row3_col4\" class=\"data row3 col4\" >0.502772</td>\n",
       "      <td id=\"T_b00a2_row3_col5\" class=\"data row3 col5\" >0.501721</td>\n",
       "      <td id=\"T_b00a2_row3_col6\" class=\"data row3 col6\" >0.502772</td>\n",
       "      <td id=\"T_b00a2_row3_col7\" class=\"data row3 col7\" >0.502606</td>\n",
       "      <td id=\"T_b00a2_row3_col8\" class=\"data row3 col8\" >0.501863</td>\n",
       "      <td id=\"T_b00a2_row3_col9\" class=\"data row3 col9\" >0.501936</td>\n",
       "      <td id=\"T_b00a2_row3_col10\" class=\"data row3 col10\" >0.502772</td>\n",
       "      <td id=\"T_b00a2_row3_col11\" class=\"data row3 col11\" >0.502772</td>\n",
       "      <td id=\"T_b00a2_row3_col12\" class=\"data row3 col12\" >0.501739</td>\n",
       "      <td id=\"T_b00a2_row3_col13\" class=\"data row3 col13\" >0.501717</td>\n",
       "      <td id=\"T_b00a2_row3_col14\" class=\"data row3 col14\" >0.501672</td>\n",
       "      <td id=\"T_b00a2_row3_col15\" class=\"data row3 col15\" >0.501739</td>\n",
       "      <td id=\"T_b00a2_row3_col16\" class=\"data row3 col16\" >0.501755</td>\n",
       "      <td id=\"T_b00a2_row3_col17\" class=\"data row3 col17\" >0.501751</td>\n",
       "      <td id=\"T_b00a2_row3_col18\" class=\"data row3 col18\" >0.501775</td>\n",
       "      <td id=\"T_b00a2_row3_col19\" class=\"data row3 col19\" >0.502612</td>\n",
       "      <td id=\"T_b00a2_row3_col20\" class=\"data row3 col20\" >0.501672</td>\n",
       "      <td id=\"T_b00a2_row3_col21\" class=\"data row3 col21\" >0.501672</td>\n",
       "      <td id=\"T_b00a2_row3_col22\" class=\"data row3 col22\" >0.501746</td>\n",
       "      <td id=\"T_b00a2_row3_col23\" class=\"data row3 col23\" >0.501672</td>\n",
       "      <td id=\"T_b00a2_row3_col24\" class=\"data row3 col24\" >0.501705</td>\n",
       "      <td id=\"T_b00a2_row3_col25\" class=\"data row3 col25\" >0.501717</td>\n",
       "      <td id=\"T_b00a2_row3_col26\" class=\"data row3 col26\" >0.502629</td>\n",
       "      <td id=\"T_b00a2_row3_col27\" class=\"data row3 col27\" >0.502154</td>\n",
       "      <td id=\"T_b00a2_row3_col28\" class=\"data row3 col28\" >0.501672</td>\n",
       "      <td id=\"T_b00a2_row3_col29\" class=\"data row3 col29\" >0.502793</td>\n",
       "    </tr>\n",
       "    <tr>\n",
       "      <th id=\"T_b00a2_level0_row4\" class=\"row_heading level0 row4\" >10</th>\n",
       "      <td id=\"T_b00a2_row4_col0\" class=\"data row4 col0\" >0.509529</td>\n",
       "      <td id=\"T_b00a2_row4_col1\" class=\"data row4 col1\" >0.509548</td>\n",
       "      <td id=\"T_b00a2_row4_col2\" class=\"data row4 col2\" >0.509505</td>\n",
       "      <td id=\"T_b00a2_row4_col3\" class=\"data row4 col3\" >0.462207</td>\n",
       "      <td id=\"T_b00a2_row4_col4\" class=\"data row4 col4\" >0.509516</td>\n",
       "      <td id=\"T_b00a2_row4_col5\" class=\"data row4 col5\" >0.509579</td>\n",
       "      <td id=\"T_b00a2_row4_col6\" class=\"data row4 col6\" >0.509261</td>\n",
       "      <td id=\"T_b00a2_row4_col7\" class=\"data row4 col7\" >0.509405</td>\n",
       "      <td id=\"T_b00a2_row4_col8\" class=\"data row4 col8\" >0.509524</td>\n",
       "      <td id=\"T_b00a2_row4_col9\" class=\"data row4 col9\" >0.509597</td>\n",
       "      <td id=\"T_b00a2_row4_col10\" class=\"data row4 col10\" >0.509579</td>\n",
       "      <td id=\"T_b00a2_row4_col11\" class=\"data row4 col11\" >0.510040</td>\n",
       "      <td id=\"T_b00a2_row4_col12\" class=\"data row4 col12\" >0.509516</td>\n",
       "      <td id=\"T_b00a2_row4_col13\" class=\"data row4 col13\" >0.509394</td>\n",
       "      <td id=\"T_b00a2_row4_col14\" class=\"data row4 col14\" >0.509597</td>\n",
       "      <td id=\"T_b00a2_row4_col15\" class=\"data row4 col15\" >0.509348</td>\n",
       "      <td id=\"T_b00a2_row4_col16\" class=\"data row4 col16\" >0.509997</td>\n",
       "      <td id=\"T_b00a2_row4_col17\" class=\"data row4 col17\" >0.509523</td>\n",
       "      <td id=\"T_b00a2_row4_col18\" class=\"data row4 col18\" >0.509516</td>\n",
       "      <td id=\"T_b00a2_row4_col19\" class=\"data row4 col19\" >0.509529</td>\n",
       "      <td id=\"T_b00a2_row4_col20\" class=\"data row4 col20\" >0.509955</td>\n",
       "      <td id=\"T_b00a2_row4_col21\" class=\"data row4 col21\" >0.509597</td>\n",
       "      <td id=\"T_b00a2_row4_col22\" class=\"data row4 col22\" >0.509597</td>\n",
       "      <td id=\"T_b00a2_row4_col23\" class=\"data row4 col23\" >0.509529</td>\n",
       "      <td id=\"T_b00a2_row4_col24\" class=\"data row4 col24\" >0.509579</td>\n",
       "      <td id=\"T_b00a2_row4_col25\" class=\"data row4 col25\" >0.510017</td>\n",
       "      <td id=\"T_b00a2_row4_col26\" class=\"data row4 col26\" >0.510065</td>\n",
       "      <td id=\"T_b00a2_row4_col27\" class=\"data row4 col27\" >0.509597</td>\n",
       "      <td id=\"T_b00a2_row4_col28\" class=\"data row4 col28\" >0.509597</td>\n",
       "      <td id=\"T_b00a2_row4_col29\" class=\"data row4 col29\" >0.509955</td>\n",
       "    </tr>\n",
       "    <tr>\n",
       "      <th id=\"T_b00a2_level0_row5\" class=\"row_heading level0 row5\" >20</th>\n",
       "      <td id=\"T_b00a2_row5_col0\" class=\"data row5 col0\" >0.482147</td>\n",
       "      <td id=\"T_b00a2_row5_col1\" class=\"data row5 col1\" >0.501295</td>\n",
       "      <td id=\"T_b00a2_row5_col2\" class=\"data row5 col2\" >0.481539</td>\n",
       "      <td id=\"T_b00a2_row5_col3\" class=\"data row5 col3\" >0.466976</td>\n",
       "      <td id=\"T_b00a2_row5_col4\" class=\"data row5 col4\" >0.470794</td>\n",
       "      <td id=\"T_b00a2_row5_col5\" class=\"data row5 col5\" >0.401461</td>\n",
       "      <td id=\"T_b00a2_row5_col6\" class=\"data row5 col6\" >0.462896</td>\n",
       "      <td id=\"T_b00a2_row5_col7\" class=\"data row5 col7\" >0.477781</td>\n",
       "      <td id=\"T_b00a2_row5_col8\" class=\"data row5 col8\" >0.455748</td>\n",
       "      <td id=\"T_b00a2_row5_col9\" class=\"data row5 col9\" >0.387262</td>\n",
       "      <td id=\"T_b00a2_row5_col10\" class=\"data row5 col10\" >0.419348</td>\n",
       "      <td id=\"T_b00a2_row5_col11\" class=\"data row5 col11\" >0.465241</td>\n",
       "      <td id=\"T_b00a2_row5_col12\" class=\"data row5 col12\" >0.474764</td>\n",
       "      <td id=\"T_b00a2_row5_col13\" class=\"data row5 col13\" >0.462857</td>\n",
       "      <td id=\"T_b00a2_row5_col14\" class=\"data row5 col14\" >0.463184</td>\n",
       "      <td id=\"T_b00a2_row5_col15\" class=\"data row5 col15\" >0.498162</td>\n",
       "      <td id=\"T_b00a2_row5_col16\" class=\"data row5 col16\" >0.441803</td>\n",
       "      <td id=\"T_b00a2_row5_col17\" class=\"data row5 col17\" >0.459765</td>\n",
       "      <td id=\"T_b00a2_row5_col18\" class=\"data row5 col18\" >0.465833</td>\n",
       "      <td id=\"T_b00a2_row5_col19\" class=\"data row5 col19\" >0.441571</td>\n",
       "      <td id=\"T_b00a2_row5_col20\" class=\"data row5 col20\" >0.501339</td>\n",
       "      <td id=\"T_b00a2_row5_col21\" class=\"data row5 col21\" >0.511805</td>\n",
       "      <td id=\"T_b00a2_row5_col22\" class=\"data row5 col22\" >0.479277</td>\n",
       "      <td id=\"T_b00a2_row5_col23\" class=\"data row5 col23\" >0.497783</td>\n",
       "      <td id=\"T_b00a2_row5_col24\" class=\"data row5 col24\" >0.470426</td>\n",
       "      <td id=\"T_b00a2_row5_col25\" class=\"data row5 col25\" >0.477706</td>\n",
       "      <td id=\"T_b00a2_row5_col26\" class=\"data row5 col26\" >0.462621</td>\n",
       "      <td id=\"T_b00a2_row5_col27\" class=\"data row5 col27\" >0.472803</td>\n",
       "      <td id=\"T_b00a2_row5_col28\" class=\"data row5 col28\" >0.497738</td>\n",
       "      <td id=\"T_b00a2_row5_col29\" class=\"data row5 col29\" >0.491264</td>\n",
       "    </tr>\n",
       "    <tr>\n",
       "      <th id=\"T_b00a2_level0_row6\" class=\"row_heading level0 row6\" >40</th>\n",
       "      <td id=\"T_b00a2_row6_col0\" class=\"data row6 col0\" >0.505198</td>\n",
       "      <td id=\"T_b00a2_row6_col1\" class=\"data row6 col1\" >0.505198</td>\n",
       "      <td id=\"T_b00a2_row6_col2\" class=\"data row6 col2\" >0.505198</td>\n",
       "      <td id=\"T_b00a2_row6_col3\" class=\"data row6 col3\" >0.505198</td>\n",
       "      <td id=\"T_b00a2_row6_col4\" class=\"data row6 col4\" >0.505198</td>\n",
       "      <td id=\"T_b00a2_row6_col5\" class=\"data row6 col5\" >0.505198</td>\n",
       "      <td id=\"T_b00a2_row6_col6\" class=\"data row6 col6\" >0.505198</td>\n",
       "      <td id=\"T_b00a2_row6_col7\" class=\"data row6 col7\" >0.505198</td>\n",
       "      <td id=\"T_b00a2_row6_col8\" class=\"data row6 col8\" >0.505198</td>\n",
       "      <td id=\"T_b00a2_row6_col9\" class=\"data row6 col9\" >0.505198</td>\n",
       "      <td id=\"T_b00a2_row6_col10\" class=\"data row6 col10\" >0.505198</td>\n",
       "      <td id=\"T_b00a2_row6_col11\" class=\"data row6 col11\" >0.505198</td>\n",
       "      <td id=\"T_b00a2_row6_col12\" class=\"data row6 col12\" >0.505198</td>\n",
       "      <td id=\"T_b00a2_row6_col13\" class=\"data row6 col13\" >0.505198</td>\n",
       "      <td id=\"T_b00a2_row6_col14\" class=\"data row6 col14\" >0.505198</td>\n",
       "      <td id=\"T_b00a2_row6_col15\" class=\"data row6 col15\" >0.505198</td>\n",
       "      <td id=\"T_b00a2_row6_col16\" class=\"data row6 col16\" >0.505198</td>\n",
       "      <td id=\"T_b00a2_row6_col17\" class=\"data row6 col17\" >0.505198</td>\n",
       "      <td id=\"T_b00a2_row6_col18\" class=\"data row6 col18\" >0.505198</td>\n",
       "      <td id=\"T_b00a2_row6_col19\" class=\"data row6 col19\" >0.505198</td>\n",
       "      <td id=\"T_b00a2_row6_col20\" class=\"data row6 col20\" >0.505198</td>\n",
       "      <td id=\"T_b00a2_row6_col21\" class=\"data row6 col21\" >0.505198</td>\n",
       "      <td id=\"T_b00a2_row6_col22\" class=\"data row6 col22\" >0.505198</td>\n",
       "      <td id=\"T_b00a2_row6_col23\" class=\"data row6 col23\" >0.505198</td>\n",
       "      <td id=\"T_b00a2_row6_col24\" class=\"data row6 col24\" >0.505198</td>\n",
       "      <td id=\"T_b00a2_row6_col25\" class=\"data row6 col25\" >0.505654</td>\n",
       "      <td id=\"T_b00a2_row6_col26\" class=\"data row6 col26\" >0.505654</td>\n",
       "      <td id=\"T_b00a2_row6_col27\" class=\"data row6 col27\" >0.505198</td>\n",
       "      <td id=\"T_b00a2_row6_col28\" class=\"data row6 col28\" >0.505198</td>\n",
       "      <td id=\"T_b00a2_row6_col29\" class=\"data row6 col29\" >0.505198</td>\n",
       "    </tr>\n",
       "    <tr>\n",
       "      <th id=\"T_b00a2_level0_row7\" class=\"row_heading level0 row7\" >80</th>\n",
       "      <td id=\"T_b00a2_row7_col0\" class=\"data row7 col0\" >0.502734</td>\n",
       "      <td id=\"T_b00a2_row7_col1\" class=\"data row7 col1\" >0.502734</td>\n",
       "      <td id=\"T_b00a2_row7_col2\" class=\"data row7 col2\" >0.502734</td>\n",
       "      <td id=\"T_b00a2_row7_col3\" class=\"data row7 col3\" >0.502734</td>\n",
       "      <td id=\"T_b00a2_row7_col4\" class=\"data row7 col4\" >0.502734</td>\n",
       "      <td id=\"T_b00a2_row7_col5\" class=\"data row7 col5\" >0.502734</td>\n",
       "      <td id=\"T_b00a2_row7_col6\" class=\"data row7 col6\" >0.502734</td>\n",
       "      <td id=\"T_b00a2_row7_col7\" class=\"data row7 col7\" >0.502734</td>\n",
       "      <td id=\"T_b00a2_row7_col8\" class=\"data row7 col8\" >0.502734</td>\n",
       "      <td id=\"T_b00a2_row7_col9\" class=\"data row7 col9\" >0.502734</td>\n",
       "      <td id=\"T_b00a2_row7_col10\" class=\"data row7 col10\" >0.502734</td>\n",
       "      <td id=\"T_b00a2_row7_col11\" class=\"data row7 col11\" >0.502734</td>\n",
       "      <td id=\"T_b00a2_row7_col12\" class=\"data row7 col12\" >0.502734</td>\n",
       "      <td id=\"T_b00a2_row7_col13\" class=\"data row7 col13\" >0.502734</td>\n",
       "      <td id=\"T_b00a2_row7_col14\" class=\"data row7 col14\" >0.502734</td>\n",
       "      <td id=\"T_b00a2_row7_col15\" class=\"data row7 col15\" >0.502734</td>\n",
       "      <td id=\"T_b00a2_row7_col16\" class=\"data row7 col16\" >0.502734</td>\n",
       "      <td id=\"T_b00a2_row7_col17\" class=\"data row7 col17\" >0.502734</td>\n",
       "      <td id=\"T_b00a2_row7_col18\" class=\"data row7 col18\" >0.502734</td>\n",
       "      <td id=\"T_b00a2_row7_col19\" class=\"data row7 col19\" >0.502734</td>\n",
       "      <td id=\"T_b00a2_row7_col20\" class=\"data row7 col20\" >0.502740</td>\n",
       "      <td id=\"T_b00a2_row7_col21\" class=\"data row7 col21\" >0.502734</td>\n",
       "      <td id=\"T_b00a2_row7_col22\" class=\"data row7 col22\" >0.502734</td>\n",
       "      <td id=\"T_b00a2_row7_col23\" class=\"data row7 col23\" >0.502734</td>\n",
       "      <td id=\"T_b00a2_row7_col24\" class=\"data row7 col24\" >0.502734</td>\n",
       "      <td id=\"T_b00a2_row7_col25\" class=\"data row7 col25\" >0.502734</td>\n",
       "      <td id=\"T_b00a2_row7_col26\" class=\"data row7 col26\" >0.502734</td>\n",
       "      <td id=\"T_b00a2_row7_col27\" class=\"data row7 col27\" >0.502734</td>\n",
       "      <td id=\"T_b00a2_row7_col28\" class=\"data row7 col28\" >0.502734</td>\n",
       "      <td id=\"T_b00a2_row7_col29\" class=\"data row7 col29\" >0.502734</td>\n",
       "    </tr>\n",
       "    <tr>\n",
       "      <th id=\"T_b00a2_level0_row8\" class=\"row_heading level0 row8\" >160</th>\n",
       "      <td id=\"T_b00a2_row8_col0\" class=\"data row8 col0\" >0.502740</td>\n",
       "      <td id=\"T_b00a2_row8_col1\" class=\"data row8 col1\" >0.503151</td>\n",
       "      <td id=\"T_b00a2_row8_col2\" class=\"data row8 col2\" >0.502902</td>\n",
       "      <td id=\"T_b00a2_row8_col3\" class=\"data row8 col3\" >0.504264</td>\n",
       "      <td id=\"T_b00a2_row8_col4\" class=\"data row8 col4\" >0.503151</td>\n",
       "      <td id=\"T_b00a2_row8_col5\" class=\"data row8 col5\" >0.503151</td>\n",
       "      <td id=\"T_b00a2_row8_col6\" class=\"data row8 col6\" >0.504264</td>\n",
       "      <td id=\"T_b00a2_row8_col7\" class=\"data row8 col7\" >0.503151</td>\n",
       "      <td id=\"T_b00a2_row8_col8\" class=\"data row8 col8\" >0.503169</td>\n",
       "      <td id=\"T_b00a2_row8_col9\" class=\"data row8 col9\" >0.503169</td>\n",
       "      <td id=\"T_b00a2_row8_col10\" class=\"data row8 col10\" >0.503151</td>\n",
       "      <td id=\"T_b00a2_row8_col11\" class=\"data row8 col11\" >0.503169</td>\n",
       "      <td id=\"T_b00a2_row8_col12\" class=\"data row8 col12\" >0.503172</td>\n",
       "      <td id=\"T_b00a2_row8_col13\" class=\"data row8 col13\" >0.504106</td>\n",
       "      <td id=\"T_b00a2_row8_col14\" class=\"data row8 col14\" >0.504288</td>\n",
       "      <td id=\"T_b00a2_row8_col15\" class=\"data row8 col15\" >0.502902</td>\n",
       "      <td id=\"T_b00a2_row8_col16\" class=\"data row8 col16\" >0.503169</td>\n",
       "      <td id=\"T_b00a2_row8_col17\" class=\"data row8 col17\" >0.504264</td>\n",
       "      <td id=\"T_b00a2_row8_col18\" class=\"data row8 col18\" >0.503169</td>\n",
       "      <td id=\"T_b00a2_row8_col19\" class=\"data row8 col19\" >0.504264</td>\n",
       "      <td id=\"T_b00a2_row8_col20\" class=\"data row8 col20\" >0.502716</td>\n",
       "      <td id=\"T_b00a2_row8_col21\" class=\"data row8 col21\" >0.502902</td>\n",
       "      <td id=\"T_b00a2_row8_col22\" class=\"data row8 col22\" >0.502742</td>\n",
       "      <td id=\"T_b00a2_row8_col23\" class=\"data row8 col23\" >0.502902</td>\n",
       "      <td id=\"T_b00a2_row8_col24\" class=\"data row8 col24\" >0.502739</td>\n",
       "      <td id=\"T_b00a2_row8_col25\" class=\"data row8 col25\" >0.504264</td>\n",
       "      <td id=\"T_b00a2_row8_col26\" class=\"data row8 col26\" >0.504239</td>\n",
       "      <td id=\"T_b00a2_row8_col27\" class=\"data row8 col27\" >0.503169</td>\n",
       "      <td id=\"T_b00a2_row8_col28\" class=\"data row8 col28\" >0.504264</td>\n",
       "      <td id=\"T_b00a2_row8_col29\" class=\"data row8 col29\" >0.503169</td>\n",
       "    </tr>\n",
       "    <tr>\n",
       "      <th id=\"T_b00a2_level0_row9\" class=\"row_heading level0 row9\" >384</th>\n",
       "      <td id=\"T_b00a2_row9_col0\" class=\"data row9 col0\" >0.500618</td>\n",
       "      <td id=\"T_b00a2_row9_col1\" class=\"data row9 col1\" >0.500739</td>\n",
       "      <td id=\"T_b00a2_row9_col2\" class=\"data row9 col2\" >0.500823</td>\n",
       "      <td id=\"T_b00a2_row9_col3\" class=\"data row9 col3\" >0.500821</td>\n",
       "      <td id=\"T_b00a2_row9_col4\" class=\"data row9 col4\" >0.500974</td>\n",
       "      <td id=\"T_b00a2_row9_col5\" class=\"data row9 col5\" >0.500898</td>\n",
       "      <td id=\"T_b00a2_row9_col6\" class=\"data row9 col6\" >0.500746</td>\n",
       "      <td id=\"T_b00a2_row9_col7\" class=\"data row9 col7\" >0.500734</td>\n",
       "      <td id=\"T_b00a2_row9_col8\" class=\"data row9 col8\" >0.501613</td>\n",
       "      <td id=\"T_b00a2_row9_col9\" class=\"data row9 col9\" >0.500642</td>\n",
       "      <td id=\"T_b00a2_row9_col10\" class=\"data row9 col10\" >0.501549</td>\n",
       "      <td id=\"T_b00a2_row9_col11\" class=\"data row9 col11\" >0.500877</td>\n",
       "      <td id=\"T_b00a2_row9_col12\" class=\"data row9 col12\" >0.500850</td>\n",
       "      <td id=\"T_b00a2_row9_col13\" class=\"data row9 col13\" >0.500700</td>\n",
       "      <td id=\"T_b00a2_row9_col14\" class=\"data row9 col14\" >0.501681</td>\n",
       "      <td id=\"T_b00a2_row9_col15\" class=\"data row9 col15\" >0.500768</td>\n",
       "      <td id=\"T_b00a2_row9_col16\" class=\"data row9 col16\" >0.500801</td>\n",
       "      <td id=\"T_b00a2_row9_col17\" class=\"data row9 col17\" >0.500863</td>\n",
       "      <td id=\"T_b00a2_row9_col18\" class=\"data row9 col18\" >0.500758</td>\n",
       "      <td id=\"T_b00a2_row9_col19\" class=\"data row9 col19\" >0.501108</td>\n",
       "      <td id=\"T_b00a2_row9_col20\" class=\"data row9 col20\" >0.501463</td>\n",
       "      <td id=\"T_b00a2_row9_col21\" class=\"data row9 col21\" >0.501314</td>\n",
       "      <td id=\"T_b00a2_row9_col22\" class=\"data row9 col22\" >0.500766</td>\n",
       "      <td id=\"T_b00a2_row9_col23\" class=\"data row9 col23\" >0.500633</td>\n",
       "      <td id=\"T_b00a2_row9_col24\" class=\"data row9 col24\" >0.501418</td>\n",
       "      <td id=\"T_b00a2_row9_col25\" class=\"data row9 col25\" >0.500740</td>\n",
       "      <td id=\"T_b00a2_row9_col26\" class=\"data row9 col26\" >0.500862</td>\n",
       "      <td id=\"T_b00a2_row9_col27\" class=\"data row9 col27\" >0.500771</td>\n",
       "      <td id=\"T_b00a2_row9_col28\" class=\"data row9 col28\" >0.501277</td>\n",
       "      <td id=\"T_b00a2_row9_col29\" class=\"data row9 col29\" >0.501626</td>\n",
       "    </tr>\n",
       "  </tbody>\n",
       "</table>\n"
      ],
      "text/plain": [
       "<pandas.io.formats.style.Styler at 0x7fae79203c40>"
      ]
     },
     "execution_count": 46,
     "metadata": {},
     "output_type": "execute_result"
    }
   ],
   "source": [
    "stats_df[\"mi\"][\"full\"].style.highlight_max(axis=0)"
   ]
  },
  {
   "cell_type": "markdown",
   "id": "ded3b08e",
   "metadata": {},
   "source": [
    "# Coherence"
   ]
  },
  {
   "cell_type": "markdown",
   "id": "81e2f284",
   "metadata": {},
   "source": [
    "## Read Data"
   ]
  },
  {
   "cell_type": "code",
   "execution_count": 47,
   "id": "fcfa1b6c",
   "metadata": {
    "ExecuteTime": {
     "end_time": "2023-01-02T12:49:51.786434Z",
     "start_time": "2023-01-02T12:49:51.782461Z"
    }
   },
   "outputs": [],
   "source": [
    "def load_coherence(data_type, vectorize_type, vector_dims, normalization):\n",
    "    coherences = {}\n",
    "    for vector_dim in vector_dims:\n",
    "        coherence_path = f\"../../Postprocessing/data/{data_type}/{vectorize_type}/GMM/coherence/{normalization}/{vector_dim}.csv\"\n",
    "        coherence = pd.read_csv(coherence_path, index_col=0)\n",
    "        coherences[vector_dim] = coherence\n",
    "    return coherences"
   ]
  },
  {
   "cell_type": "code",
   "execution_count": 48,
   "id": "0a5b252b",
   "metadata": {
    "ExecuteTime": {
     "end_time": "2023-01-02T12:49:51.848545Z",
     "start_time": "2023-01-02T12:49:51.810082Z"
    }
   },
   "outputs": [],
   "source": [
    "coherences = {}\n",
    "for vectorize_type in vectorize_types:\n",
    "    coherences[vectorize_type] = load_coherence(\n",
    "        data_type, vectorize_type, vector_dims[vectorize_type], normalization\n",
    "    )"
   ]
  },
  {
   "cell_type": "code",
   "execution_count": 49,
   "id": "3c10a00f",
   "metadata": {
    "ExecuteTime": {
     "end_time": "2023-01-02T12:49:51.988566Z",
     "start_time": "2023-01-02T12:49:51.979215Z"
    }
   },
   "outputs": [],
   "source": [
    "coherence_lda_path = f\"../../Postprocessing/data/{data_type}/LDA/coherence.csv\"\n",
    "coherence_lda = pd.read_csv(coherence_lda_path, index_col=0)\n",
    "describe_lda_coherence, _ = get_describe(coherence_lda, axis=0)"
   ]
  },
  {
   "cell_type": "markdown",
   "id": "b524e147",
   "metadata": {},
   "source": [
    "## Data shaping"
   ]
  },
  {
   "cell_type": "code",
   "execution_count": 50,
   "id": "148491e6",
   "metadata": {
    "ExecuteTime": {
     "end_time": "2023-01-02T12:49:52.294845Z",
     "start_time": "2023-01-02T12:49:52.290458Z"
    }
   },
   "outputs": [],
   "source": [
    "def shape_coherence_df(coherences, covariance_types, vector_dims):\n",
    "    coherence_df = {\n",
    "        covariance_type: pd.DataFrame() for covariance_type in covariance_types\n",
    "    }\n",
    "    for covariance_type in covariance_types:\n",
    "        _coherence_df = {\n",
    "            vector_dim: coherences[vector_dim].loc[:, covariance_type]\n",
    "            for vector_dim in vector_dims\n",
    "        }\n",
    "        coherence_df[covariance_type] = pd.concat(_coherence_df, axis=1)\n",
    "    return coherence_df"
   ]
  },
  {
   "cell_type": "code",
   "execution_count": 51,
   "id": "869e4b1e",
   "metadata": {
    "ExecuteTime": {
     "end_time": "2023-01-02T12:49:52.429669Z",
     "start_time": "2023-01-02T12:49:52.410993Z"
    }
   },
   "outputs": [],
   "source": [
    "coherence_df = {}\n",
    "for vectorize_type in vectorize_types:\n",
    "    coherence_df[vectorize_type] = shape_coherence_df(\n",
    "        coherences[vectorize_type], covariance_types, vector_dims[vectorize_type]\n",
    "    )"
   ]
  },
  {
   "cell_type": "code",
   "execution_count": 52,
   "id": "681215ba",
   "metadata": {
    "ExecuteTime": {
     "end_time": "2023-01-02T12:49:52.590791Z",
     "start_time": "2023-01-02T12:49:52.587019Z"
    }
   },
   "outputs": [],
   "source": [
    "def shape_coherence_describe(coherence_df, covariance_types):\n",
    "    # 統計値の計算\n",
    "    describe = {covariance_type: pd.DataFrame() for covariance_type in covariance_types}\n",
    "    for covariance_type in covariance_types:\n",
    "        describe[covariance_type], describe_keys = get_describe(\n",
    "            coherence_df[covariance_type], axis=0\n",
    "        )\n",
    "    return describe, describe_keys"
   ]
  },
  {
   "cell_type": "code",
   "execution_count": 53,
   "id": "7d0c3640",
   "metadata": {
    "ExecuteTime": {
     "end_time": "2023-01-02T12:49:52.773088Z",
     "start_time": "2023-01-02T12:49:52.751169Z"
    }
   },
   "outputs": [],
   "source": [
    "coherence_describe = {}\n",
    "for vectorize_type in vectorize_types:\n",
    "    coherence_describe[vectorize_type], describe_keys = shape_coherence_describe(\n",
    "        coherence_df[vectorize_type], covariance_types\n",
    "    )"
   ]
  },
  {
   "cell_type": "code",
   "execution_count": 54,
   "id": "877b99ff",
   "metadata": {
    "ExecuteTime": {
     "end_time": "2023-01-02T12:49:52.976696Z",
     "start_time": "2023-01-02T12:49:52.972089Z"
    }
   },
   "outputs": [],
   "source": [
    "def shape_coherence_data(describe, describe_keys):\n",
    "    data = {describe_key: pd.DataFrame() for describe_key in describe_keys}\n",
    "\n",
    "    for describe_key in describe_keys:\n",
    "        # covariance_typeについてデータを結合\n",
    "        _data = {\n",
    "            covariance_type: describe[covariance_type][describe_key]\n",
    "            for covariance_type in covariance_types\n",
    "        }\n",
    "        data[describe_key] = pd.concat(_data, axis=1)\n",
    "    return data"
   ]
  },
  {
   "cell_type": "code",
   "execution_count": 55,
   "id": "eb7370c4",
   "metadata": {
    "ExecuteTime": {
     "end_time": "2023-01-02T12:49:53.105596Z",
     "start_time": "2023-01-02T12:49:53.090653Z"
    }
   },
   "outputs": [],
   "source": [
    "coherence_data = {}\n",
    "for vectorize_type in vectorize_types:\n",
    "    coherence_data[vectorize_type] = shape_coherence_data(\n",
    "        coherence_describe[vectorize_type], describe_keys\n",
    "    )"
   ]
  },
  {
   "cell_type": "markdown",
   "id": "5b7b6782",
   "metadata": {},
   "source": [
    "# Make Chart"
   ]
  },
  {
   "cell_type": "code",
   "execution_count": 56,
   "id": "1dbc03c0",
   "metadata": {
    "ExecuteTime": {
     "end_time": "2023-01-02T12:49:53.521607Z",
     "start_time": "2023-01-02T12:49:53.450887Z"
    }
   },
   "outputs": [],
   "source": [
    "chart_data = {}\n",
    "for vectorize_type in vectorize_types:\n",
    "    mi_max_idx = data_stats[vectorize_type][\"mi\"][\"mean\"].stack().idxmax()\n",
    "    chart_data[vectorize_type] = {\n",
    "        \"埋め込み次元\": mi_max_idx[0],\n",
    "        \"mutual information\": data_stats[vectorize_type][\"mi\"][\"mean\"].loc[mi_max_idx],\n",
    "        \"分散\": data_stats[vectorize_type][\"mi\"][\"std\"].loc[mi_max_idx],\n",
    "        \"coherence\": coherence_data[vectorize_type][\"mean\"].loc[mi_max_idx],\n",
    "    }"
   ]
  },
  {
   "cell_type": "code",
   "execution_count": 57,
   "id": "5c9dda3c",
   "metadata": {
    "ExecuteTime": {
     "end_time": "2023-01-02T12:49:53.614347Z",
     "start_time": "2023-01-02T12:49:53.610598Z"
    },
    "scrolled": true
   },
   "outputs": [],
   "source": [
    "chart_df = pd.DataFrame(chart_data)"
   ]
  },
  {
   "cell_type": "code",
   "execution_count": 58,
   "id": "b6e558f5",
   "metadata": {
    "ExecuteTime": {
     "end_time": "2023-01-02T12:49:53.774508Z",
     "start_time": "2023-01-02T12:49:53.770784Z"
    }
   },
   "outputs": [],
   "source": [
    "chart_df[\"LDA\"] = [\n",
    "    np.NaN,\n",
    "    describe_lda_mi[\"mean\"].to_numpy()[0],\n",
    "    describe_lda_mi[\"std\"].to_numpy()[0],\n",
    "    describe_lda_coherence[\"mean\"].to_numpy()[0]\n",
    "]"
   ]
  },
  {
   "cell_type": "code",
   "execution_count": 59,
   "id": "16874164",
   "metadata": {
    "ExecuteTime": {
     "end_time": "2023-01-02T12:49:53.934847Z",
     "start_time": "2023-01-02T12:49:53.927183Z"
    }
   },
   "outputs": [
    {
     "data": {
      "text/html": [
       "<style type=\"text/css\">\n",
       "</style>\n",
       "<table id=\"T_18102\">\n",
       "  <thead>\n",
       "    <tr>\n",
       "      <th class=\"blank level0\" >&nbsp;</th>\n",
       "      <th id=\"T_18102_level0_col0\" class=\"col_heading level0 col0\" >mutual information</th>\n",
       "      <th id=\"T_18102_level0_col1\" class=\"col_heading level0 col1\" >coherence</th>\n",
       "    </tr>\n",
       "  </thead>\n",
       "  <tbody>\n",
       "    <tr>\n",
       "      <th id=\"T_18102_level0_row0\" class=\"row_heading level0 row0\" >doc2vec</th>\n",
       "      <td id=\"T_18102_row0_col0\" class=\"data row0 col0\" >0.194729</td>\n",
       "      <td id=\"T_18102_row0_col1\" class=\"data row0 col1\" >0.747001</td>\n",
       "    </tr>\n",
       "    <tr>\n",
       "      <th id=\"T_18102_level0_row1\" class=\"row_heading level0 row1\" >sentenceBERT</th>\n",
       "      <td id=\"T_18102_row1_col0\" class=\"data row1 col0\" >0.517748</td>\n",
       "      <td id=\"T_18102_row1_col1\" class=\"data row1 col1\" >1.000000</td>\n",
       "    </tr>\n",
       "    <tr>\n",
       "      <th id=\"T_18102_level0_row2\" class=\"row_heading level0 row2\" >LDA</th>\n",
       "      <td id=\"T_18102_row2_col0\" class=\"data row2 col0\" >0.022580</td>\n",
       "      <td id=\"T_18102_row2_col1\" class=\"data row2 col1\" >0.704813</td>\n",
       "    </tr>\n",
       "  </tbody>\n",
       "</table>\n"
      ],
      "text/plain": [
       "<pandas.io.formats.style.Styler at 0x7fae78dd5330>"
      ]
     },
     "execution_count": 59,
     "metadata": {},
     "output_type": "execute_result"
    }
   ],
   "source": [
    "chart_df.T.loc[:, [\"mutual information\", \"coherence\"]].style.format(\n",
    "    escape=\"latex\", formatter={\"document_count\": \"{:.0f}\"}\n",
    ")"
   ]
  },
  {
   "cell_type": "code",
   "execution_count": 60,
   "id": "8aa6d62c",
   "metadata": {
    "ExecuteTime": {
     "end_time": "2023-01-02T12:49:54.078458Z",
     "start_time": "2023-01-02T12:49:54.070948Z"
    }
   },
   "outputs": [
    {
     "name": "stdout",
     "output_type": "stream",
     "text": [
      "\\begin{table}[h]\n",
      "\\centering\n",
      "\\caption{miの比較と埋め込み次元}\n",
      "\\label{table:1}\n",
      "\\begin{tabular}{rrrr}\n",
      "\\toprule\n",
      " & mutual information & coherence \\\\\n",
      "\\midrule\n",
      "doc2vec & 0.195 & 0.747 \\\\\n",
      "sentenceBERT & 0.518 & 1.000 \\\\\n",
      "LDA & 0.023 & 0.705 \\\\\n",
      "\\bottomrule\n",
      "\\end{tabular}\n",
      "\\end{table}\n",
      "\n"
     ]
    }
   ],
   "source": [
    "print(\n",
    "    chart_df.T.loc[:, [\"mutual information\", \"coherence\"]]\n",
    "    .style.format(precision=3, escape=\"latex\")\n",
    "    .to_latex(\n",
    "        column_format=\"rrrr\",\n",
    "        position=\"h\",\n",
    "        position_float=\"centering\",\n",
    "        hrules=True,\n",
    "        caption=\"miの比較と埋め込み次元\",\n",
    "        label=\"table:1\",\n",
    "        multicol_align=\"r\",\n",
    "    )\n",
    ")"
   ]
  },
  {
   "cell_type": "code",
   "execution_count": null,
   "id": "f95c37c1",
   "metadata": {},
   "outputs": [],
   "source": []
  },
  {
   "cell_type": "code",
   "execution_count": null,
   "id": "d1e956bf",
   "metadata": {},
   "outputs": [],
   "source": []
  },
  {
   "cell_type": "code",
   "execution_count": null,
   "id": "1f7d2bfa",
   "metadata": {},
   "outputs": [],
   "source": []
  },
  {
   "cell_type": "code",
   "execution_count": null,
   "id": "f9285899",
   "metadata": {},
   "outputs": [],
   "source": []
  }
 ],
 "metadata": {
  "kernelspec": {
   "display_name": "Python 3 (ipykernel)",
   "language": "python",
   "name": "python3"
  },
  "language_info": {
   "codemirror_mode": {
    "name": "ipython",
    "version": 3
   },
   "file_extension": ".py",
   "mimetype": "text/x-python",
   "name": "python",
   "nbconvert_exporter": "python",
   "pygments_lexer": "ipython3",
   "version": "3.10.8"
  },
  "toc": {
   "base_numbering": 1,
   "nav_menu": {},
   "number_sections": true,
   "sideBar": true,
   "skip_h1_title": false,
   "title_cell": "Table of Contents",
   "title_sidebar": "Contents",
   "toc_cell": false,
   "toc_position": {},
   "toc_section_display": true,
   "toc_window_display": false
  }
 },
 "nbformat": 4,
 "nbformat_minor": 5
}
