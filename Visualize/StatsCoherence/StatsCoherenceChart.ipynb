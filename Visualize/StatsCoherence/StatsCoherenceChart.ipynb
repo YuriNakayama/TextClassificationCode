{
 "cells": [
  {
   "cell_type": "markdown",
   "id": "b95f9187",
   "metadata": {},
   "source": [
    "# Import"
   ]
  },
  {
   "cell_type": "code",
   "execution_count": 1,
   "id": "80a85ab5",
   "metadata": {
    "ExecuteTime": {
     "end_time": "2023-01-02T12:46:59.743884Z",
     "start_time": "2023-01-02T12:46:58.740649Z"
    }
   },
   "outputs": [],
   "source": [
    "import csv\n",
    "import os\n",
    "import pickle\n",
    "import sys\n",
    "\n",
    "import matplotlib.pyplot as plt\n",
    "import seaborn as sns\n",
    "import numpy as np\n",
    "import pandas as pd\n",
    "from tqdm import tqdm"
   ]
  },
  {
   "cell_type": "markdown",
   "id": "2543f4e4",
   "metadata": {},
   "source": [
    "## Add configuration file"
   ]
  },
  {
   "cell_type": "code",
   "execution_count": 2,
   "id": "b62547de",
   "metadata": {
    "ExecuteTime": {
     "end_time": "2023-01-02T12:46:59.751555Z",
     "start_time": "2023-01-02T12:46:59.746916Z"
    }
   },
   "outputs": [],
   "source": [
    "sys.path.append(\"/home/jovyan/core/config/\")\n",
    "sys.path.append(\"/home/jovyan/core/util/\")\n",
    "sys.path.append(\"../PlotFunction/lineplot/\")\n",
    "sys.path.append(\"../PlotFunction/config/\")"
   ]
  },
  {
   "cell_type": "code",
   "execution_count": 3,
   "id": "84da401b",
   "metadata": {
    "ExecuteTime": {
     "end_time": "2023-01-02T12:46:59.921990Z",
     "start_time": "2023-01-02T12:46:59.756286Z"
    }
   },
   "outputs": [],
   "source": [
    "from ALL import config\n",
    "from line_plot_1 import line_plot_1\n",
    "from line_plot_error_1 import line_plot_error_1\n",
    "from line_plot_1_layout import layout\n",
    "from util import *"
   ]
  },
  {
   "cell_type": "markdown",
   "id": "9330548e",
   "metadata": {},
   "source": [
    "## Set condition"
   ]
  },
  {
   "cell_type": "code",
   "execution_count": 4,
   "id": "a30f3623",
   "metadata": {
    "ExecuteTime": {
     "end_time": "2023-01-02T12:46:59.928939Z",
     "start_time": "2023-01-02T12:46:59.925531Z"
    }
   },
   "outputs": [],
   "source": [
    "tqdm.pandas()\n",
    "pd.set_option(\"display.max_columns\", 100)\n",
    "pd.set_option(\"display.max_rows\", 50)"
   ]
  },
  {
   "cell_type": "code",
   "execution_count": 5,
   "id": "437dc5a7",
   "metadata": {
    "ExecuteTime": {
     "end_time": "2023-01-02T12:46:59.936776Z",
     "start_time": "2023-01-02T12:46:59.930999Z"
    }
   },
   "outputs": [],
   "source": [
    "data_type = \"AgNews\"\n",
    "vectorize_types = [\"doc2vec\", \"sentenceBERT\"]"
   ]
  },
  {
   "cell_type": "code",
   "execution_count": 6,
   "id": "c112357f",
   "metadata": {
    "ExecuteTime": {
     "end_time": "2023-01-02T12:46:59.945537Z",
     "start_time": "2023-01-02T12:46:59.938560Z"
    }
   },
   "outputs": [],
   "source": [
    "model_nums = config[\"clustering\"][\"gmm\"][\"max_model_num\"]\n",
    "covariance_types = config[\"clustering\"][\"gmm\"][\"covariance_types\"]\n",
    "normalization = \"centralized\"\n",
    "covariance_types = [\"spherical\", \"diag\", \"full\"]\n",
    "vector_dims = {\n",
    "    \"doc2vec\": config[\"vectorize\"][\"doc2vec\"][\"dims\"],\n",
    "    \"sentenceBERT\": config[\"vectorize\"][\"sentenceBERT\"][\"dims\"] + [384],\n",
    "}"
   ]
  },
  {
   "cell_type": "code",
   "execution_count": 7,
   "id": "8847dbdc",
   "metadata": {
    "ExecuteTime": {
     "end_time": "2023-01-02T12:46:59.952397Z",
     "start_time": "2023-01-02T12:46:59.947553Z"
    }
   },
   "outputs": [],
   "source": [
    "stats_vals = [\"aic\", \"bic\", \"mi\", \"logl\"]"
   ]
  },
  {
   "cell_type": "markdown",
   "id": "78f497e0",
   "metadata": {},
   "source": [
    "# Stats"
   ]
  },
  {
   "cell_type": "markdown",
   "id": "52c60a4f",
   "metadata": {},
   "source": [
    "## Read data"
   ]
  },
  {
   "cell_type": "code",
   "execution_count": 8,
   "id": "f7feee05",
   "metadata": {
    "ExecuteTime": {
     "end_time": "2023-01-02T12:46:59.960170Z",
     "start_time": "2023-01-02T12:46:59.954546Z"
    },
    "code_folding": [
     0
    ]
   },
   "outputs": [],
   "source": [
    "def load_stats_data(vectorize_type, stats_vals, covariance_types, model_nums):\n",
    "    # データ型定義\n",
    "    stats = {\n",
    "        stats_val: {\n",
    "            covariance_type: {\n",
    "                model_num: pd.DataFrame for model_num in range(model_nums)\n",
    "            }\n",
    "            for covariance_type in covariance_types\n",
    "        }\n",
    "        for stats_val in stats_vals\n",
    "    }\n",
    "\n",
    "    # データ取得\n",
    "    for stats_val in stats_vals:\n",
    "        for covariance_type in covariance_types:\n",
    "            for model_num in range(model_nums):\n",
    "                stats_path = f\"../../Postprocessing/data/{data_type}/{vectorize_type}/GMM/stats/{normalization}/{covariance_type}/{model_num}.csv\"\n",
    "                df = pd.read_csv(stats_path, index_col=0)\n",
    "                stats[stats_val][covariance_type][model_num] = df.loc[:, stats_val]\n",
    "    return stats"
   ]
  },
  {
   "cell_type": "code",
   "execution_count": 9,
   "id": "409ccf32",
   "metadata": {
    "ExecuteTime": {
     "end_time": "2023-01-02T12:46:59.967205Z",
     "start_time": "2023-01-02T12:46:59.961957Z"
    }
   },
   "outputs": [],
   "source": [
    "def load_lda_mi(data_type):\n",
    "    lda_mi = pd.read_csv(\n",
    "        f\"../../Postprocessing/data/{data_type}/LDA/mi.csv\", index_col=0\n",
    "    )\n",
    "    describe_lda_mi, _ = get_describe(lda_mi, axis=0)\n",
    "    return describe_lda_mi"
   ]
  },
  {
   "cell_type": "code",
   "execution_count": 10,
   "id": "1af35966",
   "metadata": {
    "ExecuteTime": {
     "end_time": "2023-01-02T12:47:01.234522Z",
     "start_time": "2023-01-02T12:46:59.969752Z"
    }
   },
   "outputs": [],
   "source": [
    "stats_dict = {}\n",
    "for vectorize_type in vectorize_types:\n",
    "    stats_dict[vectorize_type] = load_stats_data(\n",
    "        vectorize_type, stats_vals, covariance_types, model_nums\n",
    "    )"
   ]
  },
  {
   "cell_type": "code",
   "execution_count": 11,
   "id": "59a86bcc",
   "metadata": {
    "ExecuteTime": {
     "end_time": "2023-01-02T12:47:01.245595Z",
     "start_time": "2023-01-02T12:47:01.236729Z"
    }
   },
   "outputs": [],
   "source": [
    "describe_lda_mi = load_lda_mi(data_type)"
   ]
  },
  {
   "cell_type": "markdown",
   "id": "c963c854",
   "metadata": {},
   "source": [
    "## Data shaping"
   ]
  },
  {
   "cell_type": "code",
   "execution_count": 12,
   "id": "ee2c3cdf",
   "metadata": {
    "ExecuteTime": {
     "end_time": "2023-01-02T12:47:01.256063Z",
     "start_time": "2023-01-02T12:47:01.252131Z"
    },
    "code_folding": [
     0
    ]
   },
   "outputs": [],
   "source": [
    "def shape_stats_df(stats):\n",
    "    stats_df = {\n",
    "        stats_val: {covariance_type: pd.DataFrame() for covariance_type in covariance_types}\n",
    "        for stats_val in stats_vals\n",
    "    }\n",
    "\n",
    "    for stats_val in stats_vals:\n",
    "        for covariance_type in covariance_types:\n",
    "            # model_numについて取得データstatsを結合\n",
    "            stats_df[stats_val][covariance_type] = pd.concat(\n",
    "                stats[stats_val][covariance_type], axis=1\n",
    "            )\n",
    "    return stats_df"
   ]
  },
  {
   "cell_type": "code",
   "execution_count": 13,
   "id": "ad3c2855",
   "metadata": {
    "ExecuteTime": {
     "end_time": "2023-01-02T12:47:01.267999Z",
     "start_time": "2023-01-02T12:47:01.257902Z"
    },
    "code_folding": [
     0,
     1
    ]
   },
   "outputs": [],
   "source": [
    "def shape_describe(stats_df):\n",
    "    describe = {\n",
    "        stats_val: {covariance_type: dict() for covariance_type in covariance_types}\n",
    "        for stats_val in stats_vals\n",
    "    }\n",
    "\n",
    "    for stats_val in stats_vals:\n",
    "        for covariance_type in covariance_types:\n",
    "            describe[stats_val][covariance_type], describe_keys = get_describe(\n",
    "                stats_df[stats_val][covariance_type], axis=1\n",
    "            )\n",
    "    return describe, describe_keys"
   ]
  },
  {
   "cell_type": "code",
   "execution_count": 14,
   "id": "d4c180f0",
   "metadata": {
    "ExecuteTime": {
     "end_time": "2023-01-02T12:47:01.276636Z",
     "start_time": "2023-01-02T12:47:01.270165Z"
    },
    "code_folding": [
     0,
     1
    ]
   },
   "outputs": [],
   "source": [
    "def shape_data(describe, describe_keys):\n",
    "    data = {\n",
    "        stats_val: {describe_key: pd.DataFrame() for describe_key in describe_keys}\n",
    "        for stats_val in stats_vals\n",
    "    }\n",
    "    for stats_val in stats_vals:\n",
    "        for describe_key in describe_keys:\n",
    "            # covariance_typeについてデータを結合\n",
    "            _data = {\n",
    "                covariance_type: describe[stats_val][covariance_type][describe_key]\n",
    "                for covariance_type in covariance_types\n",
    "            }\n",
    "            data[stats_val][describe_key] = pd.concat(_data, axis=1)\n",
    "    return data"
   ]
  },
  {
   "cell_type": "code",
   "execution_count": 15,
   "id": "ef827e1b",
   "metadata": {
    "ExecuteTime": {
     "end_time": "2023-01-02T12:47:01.475744Z",
     "start_time": "2023-01-02T12:47:01.278397Z"
    },
    "code_folding": [
     1
    ]
   },
   "outputs": [],
   "source": [
    "data_stats = {}\n",
    "for vectorize_type, stats in stats_dict.items():\n",
    "    stats_df = shape_stats_df(stats)\n",
    "    describe, describe_keys = shape_describe(stats_df)\n",
    "    data_stats[vectorize_type] = shape_data(describe, describe_keys)"
   ]
  },
  {
   "cell_type": "code",
   "execution_count": 16,
   "id": "24493214",
   "metadata": {
    "ExecuteTime": {
     "end_time": "2023-01-02T12:47:01.576118Z",
     "start_time": "2023-01-02T12:47:01.478017Z"
    }
   },
   "outputs": [
    {
     "data": {
      "text/html": [
       "<style type=\"text/css\">\n",
       "#T_9e188_row1_col6, #T_9e188_row1_col7, #T_9e188_row1_col10, #T_9e188_row1_col13, #T_9e188_row1_col14, #T_9e188_row1_col19, #T_9e188_row1_col20, #T_9e188_row1_col21, #T_9e188_row1_col23, #T_9e188_row1_col25, #T_9e188_row2_col0, #T_9e188_row2_col1, #T_9e188_row2_col2, #T_9e188_row2_col5, #T_9e188_row2_col11, #T_9e188_row2_col12, #T_9e188_row2_col15, #T_9e188_row2_col16, #T_9e188_row2_col17, #T_9e188_row2_col22, #T_9e188_row2_col24, #T_9e188_row2_col26, #T_9e188_row2_col27, #T_9e188_row2_col28, #T_9e188_row2_col29, #T_9e188_row9_col3, #T_9e188_row9_col4, #T_9e188_row9_col8, #T_9e188_row9_col9, #T_9e188_row9_col18 {\n",
       "  background-color: yellow;\n",
       "}\n",
       "</style>\n",
       "<table id=\"T_9e188\">\n",
       "  <thead>\n",
       "    <tr>\n",
       "      <th class=\"blank level0\" >&nbsp;</th>\n",
       "      <th id=\"T_9e188_level0_col0\" class=\"col_heading level0 col0\" >0</th>\n",
       "      <th id=\"T_9e188_level0_col1\" class=\"col_heading level0 col1\" >1</th>\n",
       "      <th id=\"T_9e188_level0_col2\" class=\"col_heading level0 col2\" >2</th>\n",
       "      <th id=\"T_9e188_level0_col3\" class=\"col_heading level0 col3\" >3</th>\n",
       "      <th id=\"T_9e188_level0_col4\" class=\"col_heading level0 col4\" >4</th>\n",
       "      <th id=\"T_9e188_level0_col5\" class=\"col_heading level0 col5\" >5</th>\n",
       "      <th id=\"T_9e188_level0_col6\" class=\"col_heading level0 col6\" >6</th>\n",
       "      <th id=\"T_9e188_level0_col7\" class=\"col_heading level0 col7\" >7</th>\n",
       "      <th id=\"T_9e188_level0_col8\" class=\"col_heading level0 col8\" >8</th>\n",
       "      <th id=\"T_9e188_level0_col9\" class=\"col_heading level0 col9\" >9</th>\n",
       "      <th id=\"T_9e188_level0_col10\" class=\"col_heading level0 col10\" >10</th>\n",
       "      <th id=\"T_9e188_level0_col11\" class=\"col_heading level0 col11\" >11</th>\n",
       "      <th id=\"T_9e188_level0_col12\" class=\"col_heading level0 col12\" >12</th>\n",
       "      <th id=\"T_9e188_level0_col13\" class=\"col_heading level0 col13\" >13</th>\n",
       "      <th id=\"T_9e188_level0_col14\" class=\"col_heading level0 col14\" >14</th>\n",
       "      <th id=\"T_9e188_level0_col15\" class=\"col_heading level0 col15\" >15</th>\n",
       "      <th id=\"T_9e188_level0_col16\" class=\"col_heading level0 col16\" >16</th>\n",
       "      <th id=\"T_9e188_level0_col17\" class=\"col_heading level0 col17\" >17</th>\n",
       "      <th id=\"T_9e188_level0_col18\" class=\"col_heading level0 col18\" >18</th>\n",
       "      <th id=\"T_9e188_level0_col19\" class=\"col_heading level0 col19\" >19</th>\n",
       "      <th id=\"T_9e188_level0_col20\" class=\"col_heading level0 col20\" >20</th>\n",
       "      <th id=\"T_9e188_level0_col21\" class=\"col_heading level0 col21\" >21</th>\n",
       "      <th id=\"T_9e188_level0_col22\" class=\"col_heading level0 col22\" >22</th>\n",
       "      <th id=\"T_9e188_level0_col23\" class=\"col_heading level0 col23\" >23</th>\n",
       "      <th id=\"T_9e188_level0_col24\" class=\"col_heading level0 col24\" >24</th>\n",
       "      <th id=\"T_9e188_level0_col25\" class=\"col_heading level0 col25\" >25</th>\n",
       "      <th id=\"T_9e188_level0_col26\" class=\"col_heading level0 col26\" >26</th>\n",
       "      <th id=\"T_9e188_level0_col27\" class=\"col_heading level0 col27\" >27</th>\n",
       "      <th id=\"T_9e188_level0_col28\" class=\"col_heading level0 col28\" >28</th>\n",
       "      <th id=\"T_9e188_level0_col29\" class=\"col_heading level0 col29\" >29</th>\n",
       "    </tr>\n",
       "  </thead>\n",
       "  <tbody>\n",
       "    <tr>\n",
       "      <th id=\"T_9e188_level0_row0\" class=\"row_heading level0 row0\" >2</th>\n",
       "      <td id=\"T_9e188_row0_col0\" class=\"data row0 col0\" >0.559034</td>\n",
       "      <td id=\"T_9e188_row0_col1\" class=\"data row0 col1\" >0.558680</td>\n",
       "      <td id=\"T_9e188_row0_col2\" class=\"data row0 col2\" >0.501671</td>\n",
       "      <td id=\"T_9e188_row0_col3\" class=\"data row0 col3\" >0.559035</td>\n",
       "      <td id=\"T_9e188_row0_col4\" class=\"data row0 col4\" >0.558948</td>\n",
       "      <td id=\"T_9e188_row0_col5\" class=\"data row0 col5\" >0.559038</td>\n",
       "      <td id=\"T_9e188_row0_col6\" class=\"data row0 col6\" >0.559023</td>\n",
       "      <td id=\"T_9e188_row0_col7\" class=\"data row0 col7\" >0.559086</td>\n",
       "      <td id=\"T_9e188_row0_col8\" class=\"data row0 col8\" >0.501823</td>\n",
       "      <td id=\"T_9e188_row0_col9\" class=\"data row0 col9\" >0.559021</td>\n",
       "      <td id=\"T_9e188_row0_col10\" class=\"data row0 col10\" >0.558667</td>\n",
       "      <td id=\"T_9e188_row0_col11\" class=\"data row0 col11\" >0.559075</td>\n",
       "      <td id=\"T_9e188_row0_col12\" class=\"data row0 col12\" >0.501833</td>\n",
       "      <td id=\"T_9e188_row0_col13\" class=\"data row0 col13\" >0.559021</td>\n",
       "      <td id=\"T_9e188_row0_col14\" class=\"data row0 col14\" >0.559039</td>\n",
       "      <td id=\"T_9e188_row0_col15\" class=\"data row0 col15\" >0.558888</td>\n",
       "      <td id=\"T_9e188_row0_col16\" class=\"data row0 col16\" >0.501684</td>\n",
       "      <td id=\"T_9e188_row0_col17\" class=\"data row0 col17\" >0.559030</td>\n",
       "      <td id=\"T_9e188_row0_col18\" class=\"data row0 col18\" >0.559023</td>\n",
       "      <td id=\"T_9e188_row0_col19\" class=\"data row0 col19\" >0.501936</td>\n",
       "      <td id=\"T_9e188_row0_col20\" class=\"data row0 col20\" >0.559044</td>\n",
       "      <td id=\"T_9e188_row0_col21\" class=\"data row0 col21\" >0.558915</td>\n",
       "      <td id=\"T_9e188_row0_col22\" class=\"data row0 col22\" >0.501779</td>\n",
       "      <td id=\"T_9e188_row0_col23\" class=\"data row0 col23\" >0.559023</td>\n",
       "      <td id=\"T_9e188_row0_col24\" class=\"data row0 col24\" >0.558948</td>\n",
       "      <td id=\"T_9e188_row0_col25\" class=\"data row0 col25\" >0.558724</td>\n",
       "      <td id=\"T_9e188_row0_col26\" class=\"data row0 col26\" >0.559023</td>\n",
       "      <td id=\"T_9e188_row0_col27\" class=\"data row0 col27\" >0.558979</td>\n",
       "      <td id=\"T_9e188_row0_col28\" class=\"data row0 col28\" >0.559044</td>\n",
       "      <td id=\"T_9e188_row0_col29\" class=\"data row0 col29\" >0.558970</td>\n",
       "    </tr>\n",
       "    <tr>\n",
       "      <th id=\"T_9e188_level0_row1\" class=\"row_heading level0 row1\" >4</th>\n",
       "      <td id=\"T_9e188_row1_col0\" class=\"data row1 col0\" >0.609963</td>\n",
       "      <td id=\"T_9e188_row1_col1\" class=\"data row1 col1\" >0.609998</td>\n",
       "      <td id=\"T_9e188_row1_col2\" class=\"data row1 col2\" >0.610009</td>\n",
       "      <td id=\"T_9e188_row1_col3\" class=\"data row1 col3\" >0.554481</td>\n",
       "      <td id=\"T_9e188_row1_col4\" class=\"data row1 col4\" >0.554599</td>\n",
       "      <td id=\"T_9e188_row1_col5\" class=\"data row1 col5\" >0.609963</td>\n",
       "      <td id=\"T_9e188_row1_col6\" class=\"data row1 col6\" >0.610034</td>\n",
       "      <td id=\"T_9e188_row1_col7\" class=\"data row1 col7\" >0.610004</td>\n",
       "      <td id=\"T_9e188_row1_col8\" class=\"data row1 col8\" >0.554481</td>\n",
       "      <td id=\"T_9e188_row1_col9\" class=\"data row1 col9\" >0.554498</td>\n",
       "      <td id=\"T_9e188_row1_col10\" class=\"data row1 col10\" >0.609999</td>\n",
       "      <td id=\"T_9e188_row1_col11\" class=\"data row1 col11\" >0.610018</td>\n",
       "      <td id=\"T_9e188_row1_col12\" class=\"data row1 col12\" >0.609963</td>\n",
       "      <td id=\"T_9e188_row1_col13\" class=\"data row1 col13\" >0.610020</td>\n",
       "      <td id=\"T_9e188_row1_col14\" class=\"data row1 col14\" >0.609999</td>\n",
       "      <td id=\"T_9e188_row1_col15\" class=\"data row1 col15\" >0.609990</td>\n",
       "      <td id=\"T_9e188_row1_col16\" class=\"data row1 col16\" >0.554524</td>\n",
       "      <td id=\"T_9e188_row1_col17\" class=\"data row1 col17\" >0.610020</td>\n",
       "      <td id=\"T_9e188_row1_col18\" class=\"data row1 col18\" >0.554498</td>\n",
       "      <td id=\"T_9e188_row1_col19\" class=\"data row1 col19\" >0.609999</td>\n",
       "      <td id=\"T_9e188_row1_col20\" class=\"data row1 col20\" >0.610034</td>\n",
       "      <td id=\"T_9e188_row1_col21\" class=\"data row1 col21\" >0.609998</td>\n",
       "      <td id=\"T_9e188_row1_col22\" class=\"data row1 col22\" >0.554498</td>\n",
       "      <td id=\"T_9e188_row1_col23\" class=\"data row1 col23\" >0.610006</td>\n",
       "      <td id=\"T_9e188_row1_col24\" class=\"data row1 col24\" >0.609999</td>\n",
       "      <td id=\"T_9e188_row1_col25\" class=\"data row1 col25\" >0.610005</td>\n",
       "      <td id=\"T_9e188_row1_col26\" class=\"data row1 col26\" >0.609999</td>\n",
       "      <td id=\"T_9e188_row1_col27\" class=\"data row1 col27\" >0.610005</td>\n",
       "      <td id=\"T_9e188_row1_col28\" class=\"data row1 col28\" >0.610020</td>\n",
       "      <td id=\"T_9e188_row1_col29\" class=\"data row1 col29\" >0.610039</td>\n",
       "    </tr>\n",
       "    <tr>\n",
       "      <th id=\"T_9e188_level0_row2\" class=\"row_heading level0 row2\" >6</th>\n",
       "      <td id=\"T_9e188_row2_col0\" class=\"data row2 col0\" >0.611221</td>\n",
       "      <td id=\"T_9e188_row2_col1\" class=\"data row2 col1\" >0.611243</td>\n",
       "      <td id=\"T_9e188_row2_col2\" class=\"data row2 col2\" >0.611288</td>\n",
       "      <td id=\"T_9e188_row2_col3\" class=\"data row2 col3\" >0.525048</td>\n",
       "      <td id=\"T_9e188_row2_col4\" class=\"data row2 col4\" >0.525040</td>\n",
       "      <td id=\"T_9e188_row2_col5\" class=\"data row2 col5\" >0.611300</td>\n",
       "      <td id=\"T_9e188_row2_col6\" class=\"data row2 col6\" >0.590708</td>\n",
       "      <td id=\"T_9e188_row2_col7\" class=\"data row2 col7\" >0.590425</td>\n",
       "      <td id=\"T_9e188_row2_col8\" class=\"data row2 col8\" >0.525040</td>\n",
       "      <td id=\"T_9e188_row2_col9\" class=\"data row2 col9\" >0.525040</td>\n",
       "      <td id=\"T_9e188_row2_col10\" class=\"data row2 col10\" >0.525040</td>\n",
       "      <td id=\"T_9e188_row2_col11\" class=\"data row2 col11\" >0.611408</td>\n",
       "      <td id=\"T_9e188_row2_col12\" class=\"data row2 col12\" >0.611305</td>\n",
       "      <td id=\"T_9e188_row2_col13\" class=\"data row2 col13\" >0.525048</td>\n",
       "      <td id=\"T_9e188_row2_col14\" class=\"data row2 col14\" >0.590685</td>\n",
       "      <td id=\"T_9e188_row2_col15\" class=\"data row2 col15\" >0.611288</td>\n",
       "      <td id=\"T_9e188_row2_col16\" class=\"data row2 col16\" >0.611403</td>\n",
       "      <td id=\"T_9e188_row2_col17\" class=\"data row2 col17\" >0.611403</td>\n",
       "      <td id=\"T_9e188_row2_col18\" class=\"data row2 col18\" >0.525048</td>\n",
       "      <td id=\"T_9e188_row2_col19\" class=\"data row2 col19\" >0.525040</td>\n",
       "      <td id=\"T_9e188_row2_col20\" class=\"data row2 col20\" >0.590712</td>\n",
       "      <td id=\"T_9e188_row2_col21\" class=\"data row2 col21\" >0.590712</td>\n",
       "      <td id=\"T_9e188_row2_col22\" class=\"data row2 col22\" >0.611280</td>\n",
       "      <td id=\"T_9e188_row2_col23\" class=\"data row2 col23\" >0.525048</td>\n",
       "      <td id=\"T_9e188_row2_col24\" class=\"data row2 col24\" >0.611401</td>\n",
       "      <td id=\"T_9e188_row2_col25\" class=\"data row2 col25\" >0.590708</td>\n",
       "      <td id=\"T_9e188_row2_col26\" class=\"data row2 col26\" >0.611222</td>\n",
       "      <td id=\"T_9e188_row2_col27\" class=\"data row2 col27\" >0.611403</td>\n",
       "      <td id=\"T_9e188_row2_col28\" class=\"data row2 col28\" >0.611408</td>\n",
       "      <td id=\"T_9e188_row2_col29\" class=\"data row2 col29\" >0.611408</td>\n",
       "    </tr>\n",
       "    <tr>\n",
       "      <th id=\"T_9e188_level0_row3\" class=\"row_heading level0 row3\" >8</th>\n",
       "      <td id=\"T_9e188_row3_col0\" class=\"data row3 col0\" >0.597040</td>\n",
       "      <td id=\"T_9e188_row3_col1\" class=\"data row3 col1\" >0.544894</td>\n",
       "      <td id=\"T_9e188_row3_col2\" class=\"data row3 col2\" >0.597040</td>\n",
       "      <td id=\"T_9e188_row3_col3\" class=\"data row3 col3\" >0.545506</td>\n",
       "      <td id=\"T_9e188_row3_col4\" class=\"data row3 col4\" >0.544894</td>\n",
       "      <td id=\"T_9e188_row3_col5\" class=\"data row3 col5\" >0.544854</td>\n",
       "      <td id=\"T_9e188_row3_col6\" class=\"data row3 col6\" >0.597040</td>\n",
       "      <td id=\"T_9e188_row3_col7\" class=\"data row3 col7\" >0.597040</td>\n",
       "      <td id=\"T_9e188_row3_col8\" class=\"data row3 col8\" >0.597040</td>\n",
       "      <td id=\"T_9e188_row3_col9\" class=\"data row3 col9\" >0.597030</td>\n",
       "      <td id=\"T_9e188_row3_col10\" class=\"data row3 col10\" >0.596973</td>\n",
       "      <td id=\"T_9e188_row3_col11\" class=\"data row3 col11\" >0.545506</td>\n",
       "      <td id=\"T_9e188_row3_col12\" class=\"data row3 col12\" >0.596980</td>\n",
       "      <td id=\"T_9e188_row3_col13\" class=\"data row3 col13\" >0.597008</td>\n",
       "      <td id=\"T_9e188_row3_col14\" class=\"data row3 col14\" >0.597040</td>\n",
       "      <td id=\"T_9e188_row3_col15\" class=\"data row3 col15\" >0.597040</td>\n",
       "      <td id=\"T_9e188_row3_col16\" class=\"data row3 col16\" >0.545536</td>\n",
       "      <td id=\"T_9e188_row3_col17\" class=\"data row3 col17\" >0.544884</td>\n",
       "      <td id=\"T_9e188_row3_col18\" class=\"data row3 col18\" >0.597040</td>\n",
       "      <td id=\"T_9e188_row3_col19\" class=\"data row3 col19\" >0.545536</td>\n",
       "      <td id=\"T_9e188_row3_col20\" class=\"data row3 col20\" >0.597052</td>\n",
       "      <td id=\"T_9e188_row3_col21\" class=\"data row3 col21\" >0.597029</td>\n",
       "      <td id=\"T_9e188_row3_col22\" class=\"data row3 col22\" >0.597040</td>\n",
       "      <td id=\"T_9e188_row3_col23\" class=\"data row3 col23\" >0.597033</td>\n",
       "      <td id=\"T_9e188_row3_col24\" class=\"data row3 col24\" >0.544892</td>\n",
       "      <td id=\"T_9e188_row3_col25\" class=\"data row3 col25\" >0.596980</td>\n",
       "      <td id=\"T_9e188_row3_col26\" class=\"data row3 col26\" >0.596980</td>\n",
       "      <td id=\"T_9e188_row3_col27\" class=\"data row3 col27\" >0.597047</td>\n",
       "      <td id=\"T_9e188_row3_col28\" class=\"data row3 col28\" >0.597030</td>\n",
       "      <td id=\"T_9e188_row3_col29\" class=\"data row3 col29\" >0.544894</td>\n",
       "    </tr>\n",
       "    <tr>\n",
       "      <th id=\"T_9e188_level0_row4\" class=\"row_heading level0 row4\" >10</th>\n",
       "      <td id=\"T_9e188_row4_col0\" class=\"data row4 col0\" >0.521723</td>\n",
       "      <td id=\"T_9e188_row4_col1\" class=\"data row4 col1\" >0.521723</td>\n",
       "      <td id=\"T_9e188_row4_col2\" class=\"data row4 col2\" >0.565478</td>\n",
       "      <td id=\"T_9e188_row4_col3\" class=\"data row4 col3\" >0.521723</td>\n",
       "      <td id=\"T_9e188_row4_col4\" class=\"data row4 col4\" >0.565525</td>\n",
       "      <td id=\"T_9e188_row4_col5\" class=\"data row4 col5\" >0.565493</td>\n",
       "      <td id=\"T_9e188_row4_col6\" class=\"data row4 col6\" >0.521723</td>\n",
       "      <td id=\"T_9e188_row4_col7\" class=\"data row4 col7\" >0.521723</td>\n",
       "      <td id=\"T_9e188_row4_col8\" class=\"data row4 col8\" >0.565512</td>\n",
       "      <td id=\"T_9e188_row4_col9\" class=\"data row4 col9\" >0.521723</td>\n",
       "      <td id=\"T_9e188_row4_col10\" class=\"data row4 col10\" >0.521723</td>\n",
       "      <td id=\"T_9e188_row4_col11\" class=\"data row4 col11\" >0.521723</td>\n",
       "      <td id=\"T_9e188_row4_col12\" class=\"data row4 col12\" >0.565471</td>\n",
       "      <td id=\"T_9e188_row4_col13\" class=\"data row4 col13\" >0.565474</td>\n",
       "      <td id=\"T_9e188_row4_col14\" class=\"data row4 col14\" >0.521723</td>\n",
       "      <td id=\"T_9e188_row4_col15\" class=\"data row4 col15\" >0.521723</td>\n",
       "      <td id=\"T_9e188_row4_col16\" class=\"data row4 col16\" >0.521723</td>\n",
       "      <td id=\"T_9e188_row4_col17\" class=\"data row4 col17\" >0.521723</td>\n",
       "      <td id=\"T_9e188_row4_col18\" class=\"data row4 col18\" >0.521723</td>\n",
       "      <td id=\"T_9e188_row4_col19\" class=\"data row4 col19\" >0.565512</td>\n",
       "      <td id=\"T_9e188_row4_col20\" class=\"data row4 col20\" >0.565478</td>\n",
       "      <td id=\"T_9e188_row4_col21\" class=\"data row4 col21\" >0.521723</td>\n",
       "      <td id=\"T_9e188_row4_col22\" class=\"data row4 col22\" >0.565483</td>\n",
       "      <td id=\"T_9e188_row4_col23\" class=\"data row4 col23\" >0.565512</td>\n",
       "      <td id=\"T_9e188_row4_col24\" class=\"data row4 col24\" >0.521723</td>\n",
       "      <td id=\"T_9e188_row4_col25\" class=\"data row4 col25\" >0.565465</td>\n",
       "      <td id=\"T_9e188_row4_col26\" class=\"data row4 col26\" >0.521723</td>\n",
       "      <td id=\"T_9e188_row4_col27\" class=\"data row4 col27\" >0.565493</td>\n",
       "      <td id=\"T_9e188_row4_col28\" class=\"data row4 col28\" >0.521723</td>\n",
       "      <td id=\"T_9e188_row4_col29\" class=\"data row4 col29\" >0.521723</td>\n",
       "    </tr>\n",
       "    <tr>\n",
       "      <th id=\"T_9e188_level0_row5\" class=\"row_heading level0 row5\" >20</th>\n",
       "      <td id=\"T_9e188_row5_col0\" class=\"data row5 col0\" >0.565719</td>\n",
       "      <td id=\"T_9e188_row5_col1\" class=\"data row5 col1\" >0.565687</td>\n",
       "      <td id=\"T_9e188_row5_col2\" class=\"data row5 col2\" >0.579595</td>\n",
       "      <td id=\"T_9e188_row5_col3\" class=\"data row5 col3\" >0.565706</td>\n",
       "      <td id=\"T_9e188_row5_col4\" class=\"data row5 col4\" >0.579564</td>\n",
       "      <td id=\"T_9e188_row5_col5\" class=\"data row5 col5\" >0.565730</td>\n",
       "      <td id=\"T_9e188_row5_col6\" class=\"data row5 col6\" >0.579552</td>\n",
       "      <td id=\"T_9e188_row5_col7\" class=\"data row5 col7\" >0.579552</td>\n",
       "      <td id=\"T_9e188_row5_col8\" class=\"data row5 col8\" >0.579570</td>\n",
       "      <td id=\"T_9e188_row5_col9\" class=\"data row5 col9\" >0.565724</td>\n",
       "      <td id=\"T_9e188_row5_col10\" class=\"data row5 col10\" >0.579552</td>\n",
       "      <td id=\"T_9e188_row5_col11\" class=\"data row5 col11\" >0.565730</td>\n",
       "      <td id=\"T_9e188_row5_col12\" class=\"data row5 col12\" >0.565670</td>\n",
       "      <td id=\"T_9e188_row5_col13\" class=\"data row5 col13\" >0.565719</td>\n",
       "      <td id=\"T_9e188_row5_col14\" class=\"data row5 col14\" >0.565719</td>\n",
       "      <td id=\"T_9e188_row5_col15\" class=\"data row5 col15\" >0.565654</td>\n",
       "      <td id=\"T_9e188_row5_col16\" class=\"data row5 col16\" >0.579552</td>\n",
       "      <td id=\"T_9e188_row5_col17\" class=\"data row5 col17\" >0.565654</td>\n",
       "      <td id=\"T_9e188_row5_col18\" class=\"data row5 col18\" >0.565719</td>\n",
       "      <td id=\"T_9e188_row5_col19\" class=\"data row5 col19\" >0.565670</td>\n",
       "      <td id=\"T_9e188_row5_col20\" class=\"data row5 col20\" >0.565730</td>\n",
       "      <td id=\"T_9e188_row5_col21\" class=\"data row5 col21\" >0.565654</td>\n",
       "      <td id=\"T_9e188_row5_col22\" class=\"data row5 col22\" >0.579595</td>\n",
       "      <td id=\"T_9e188_row5_col23\" class=\"data row5 col23\" >0.565719</td>\n",
       "      <td id=\"T_9e188_row5_col24\" class=\"data row5 col24\" >0.565654</td>\n",
       "      <td id=\"T_9e188_row5_col25\" class=\"data row5 col25\" >0.579552</td>\n",
       "      <td id=\"T_9e188_row5_col26\" class=\"data row5 col26\" >0.579583</td>\n",
       "      <td id=\"T_9e188_row5_col27\" class=\"data row5 col27\" >0.579563</td>\n",
       "      <td id=\"T_9e188_row5_col28\" class=\"data row5 col28\" >0.579552</td>\n",
       "      <td id=\"T_9e188_row5_col29\" class=\"data row5 col29\" >0.579587</td>\n",
       "    </tr>\n",
       "    <tr>\n",
       "      <th id=\"T_9e188_level0_row6\" class=\"row_heading level0 row6\" >40</th>\n",
       "      <td id=\"T_9e188_row6_col0\" class=\"data row6 col0\" >0.542845</td>\n",
       "      <td id=\"T_9e188_row6_col1\" class=\"data row6 col1\" >0.559191</td>\n",
       "      <td id=\"T_9e188_row6_col2\" class=\"data row6 col2\" >0.590087</td>\n",
       "      <td id=\"T_9e188_row6_col3\" class=\"data row6 col3\" >0.590087</td>\n",
       "      <td id=\"T_9e188_row6_col4\" class=\"data row6 col4\" >0.590087</td>\n",
       "      <td id=\"T_9e188_row6_col5\" class=\"data row6 col5\" >0.542845</td>\n",
       "      <td id=\"T_9e188_row6_col6\" class=\"data row6 col6\" >0.542832</td>\n",
       "      <td id=\"T_9e188_row6_col7\" class=\"data row6 col7\" >0.590087</td>\n",
       "      <td id=\"T_9e188_row6_col8\" class=\"data row6 col8\" >0.559203</td>\n",
       "      <td id=\"T_9e188_row6_col9\" class=\"data row6 col9\" >0.559203</td>\n",
       "      <td id=\"T_9e188_row6_col10\" class=\"data row6 col10\" >0.559203</td>\n",
       "      <td id=\"T_9e188_row6_col11\" class=\"data row6 col11\" >0.542832</td>\n",
       "      <td id=\"T_9e188_row6_col12\" class=\"data row6 col12\" >0.590087</td>\n",
       "      <td id=\"T_9e188_row6_col13\" class=\"data row6 col13\" >0.559191</td>\n",
       "      <td id=\"T_9e188_row6_col14\" class=\"data row6 col14\" >0.542832</td>\n",
       "      <td id=\"T_9e188_row6_col15\" class=\"data row6 col15\" >0.590087</td>\n",
       "      <td id=\"T_9e188_row6_col16\" class=\"data row6 col16\" >0.559191</td>\n",
       "      <td id=\"T_9e188_row6_col17\" class=\"data row6 col17\" >0.559203</td>\n",
       "      <td id=\"T_9e188_row6_col18\" class=\"data row6 col18\" >0.559191</td>\n",
       "      <td id=\"T_9e188_row6_col19\" class=\"data row6 col19\" >0.590087</td>\n",
       "      <td id=\"T_9e188_row6_col20\" class=\"data row6 col20\" >0.542832</td>\n",
       "      <td id=\"T_9e188_row6_col21\" class=\"data row6 col21\" >0.590092</td>\n",
       "      <td id=\"T_9e188_row6_col22\" class=\"data row6 col22\" >0.590087</td>\n",
       "      <td id=\"T_9e188_row6_col23\" class=\"data row6 col23\" >0.542832</td>\n",
       "      <td id=\"T_9e188_row6_col24\" class=\"data row6 col24\" >0.559191</td>\n",
       "      <td id=\"T_9e188_row6_col25\" class=\"data row6 col25\" >0.590087</td>\n",
       "      <td id=\"T_9e188_row6_col26\" class=\"data row6 col26\" >0.590087</td>\n",
       "      <td id=\"T_9e188_row6_col27\" class=\"data row6 col27\" >0.590087</td>\n",
       "      <td id=\"T_9e188_row6_col28\" class=\"data row6 col28\" >0.590087</td>\n",
       "      <td id=\"T_9e188_row6_col29\" class=\"data row6 col29\" >0.590092</td>\n",
       "    </tr>\n",
       "    <tr>\n",
       "      <th id=\"T_9e188_level0_row7\" class=\"row_heading level0 row7\" >80</th>\n",
       "      <td id=\"T_9e188_row7_col0\" class=\"data row7 col0\" >0.590857</td>\n",
       "      <td id=\"T_9e188_row7_col1\" class=\"data row7 col1\" >0.558812</td>\n",
       "      <td id=\"T_9e188_row7_col2\" class=\"data row7 col2\" >0.542162</td>\n",
       "      <td id=\"T_9e188_row7_col3\" class=\"data row7 col3\" >0.587414</td>\n",
       "      <td id=\"T_9e188_row7_col4\" class=\"data row7 col4\" >0.591112</td>\n",
       "      <td id=\"T_9e188_row7_col5\" class=\"data row7 col5\" >0.540588</td>\n",
       "      <td id=\"T_9e188_row7_col6\" class=\"data row7 col6\" >0.556944</td>\n",
       "      <td id=\"T_9e188_row7_col7\" class=\"data row7 col7\" >0.540588</td>\n",
       "      <td id=\"T_9e188_row7_col8\" class=\"data row7 col8\" >0.540588</td>\n",
       "      <td id=\"T_9e188_row7_col9\" class=\"data row7 col9\" >0.540588</td>\n",
       "      <td id=\"T_9e188_row7_col10\" class=\"data row7 col10\" >0.542162</td>\n",
       "      <td id=\"T_9e188_row7_col11\" class=\"data row7 col11\" >0.591129</td>\n",
       "      <td id=\"T_9e188_row7_col12\" class=\"data row7 col12\" >0.587414</td>\n",
       "      <td id=\"T_9e188_row7_col13\" class=\"data row7 col13\" >0.540588</td>\n",
       "      <td id=\"T_9e188_row7_col14\" class=\"data row7 col14\" >0.590852</td>\n",
       "      <td id=\"T_9e188_row7_col15\" class=\"data row7 col15\" >0.557532</td>\n",
       "      <td id=\"T_9e188_row7_col16\" class=\"data row7 col16\" >0.558812</td>\n",
       "      <td id=\"T_9e188_row7_col17\" class=\"data row7 col17\" >0.540588</td>\n",
       "      <td id=\"T_9e188_row7_col18\" class=\"data row7 col18\" >0.558812</td>\n",
       "      <td id=\"T_9e188_row7_col19\" class=\"data row7 col19\" >0.587418</td>\n",
       "      <td id=\"T_9e188_row7_col20\" class=\"data row7 col20\" >0.540588</td>\n",
       "      <td id=\"T_9e188_row7_col21\" class=\"data row7 col21\" >0.590869</td>\n",
       "      <td id=\"T_9e188_row7_col22\" class=\"data row7 col22\" >0.540588</td>\n",
       "      <td id=\"T_9e188_row7_col23\" class=\"data row7 col23\" >0.591068</td>\n",
       "      <td id=\"T_9e188_row7_col24\" class=\"data row7 col24\" >0.590853</td>\n",
       "      <td id=\"T_9e188_row7_col25\" class=\"data row7 col25\" >0.591068</td>\n",
       "      <td id=\"T_9e188_row7_col26\" class=\"data row7 col26\" >0.587414</td>\n",
       "      <td id=\"T_9e188_row7_col27\" class=\"data row7 col27\" >0.591116</td>\n",
       "      <td id=\"T_9e188_row7_col28\" class=\"data row7 col28\" >0.590852</td>\n",
       "      <td id=\"T_9e188_row7_col29\" class=\"data row7 col29\" >0.587414</td>\n",
       "    </tr>\n",
       "    <tr>\n",
       "      <th id=\"T_9e188_level0_row8\" class=\"row_heading level0 row8\" >160</th>\n",
       "      <td id=\"T_9e188_row8_col0\" class=\"data row8 col0\" >0.563133</td>\n",
       "      <td id=\"T_9e188_row8_col1\" class=\"data row8 col1\" >0.585039</td>\n",
       "      <td id=\"T_9e188_row8_col2\" class=\"data row8 col2\" >0.551310</td>\n",
       "      <td id=\"T_9e188_row8_col3\" class=\"data row8 col3\" >0.551310</td>\n",
       "      <td id=\"T_9e188_row8_col4\" class=\"data row8 col4\" >0.585154</td>\n",
       "      <td id=\"T_9e188_row8_col5\" class=\"data row8 col5\" >0.585043</td>\n",
       "      <td id=\"T_9e188_row8_col6\" class=\"data row8 col6\" >0.551310</td>\n",
       "      <td id=\"T_9e188_row8_col7\" class=\"data row8 col7\" >0.551310</td>\n",
       "      <td id=\"T_9e188_row8_col8\" class=\"data row8 col8\" >0.563133</td>\n",
       "      <td id=\"T_9e188_row8_col9\" class=\"data row8 col9\" >0.585154</td>\n",
       "      <td id=\"T_9e188_row8_col10\" class=\"data row8 col10\" >0.551310</td>\n",
       "      <td id=\"T_9e188_row8_col11\" class=\"data row8 col11\" >0.563133</td>\n",
       "      <td id=\"T_9e188_row8_col12\" class=\"data row8 col12\" >0.585154</td>\n",
       "      <td id=\"T_9e188_row8_col13\" class=\"data row8 col13\" >0.585154</td>\n",
       "      <td id=\"T_9e188_row8_col14\" class=\"data row8 col14\" >0.585154</td>\n",
       "      <td id=\"T_9e188_row8_col15\" class=\"data row8 col15\" >0.585154</td>\n",
       "      <td id=\"T_9e188_row8_col16\" class=\"data row8 col16\" >0.585154</td>\n",
       "      <td id=\"T_9e188_row8_col17\" class=\"data row8 col17\" >0.585154</td>\n",
       "      <td id=\"T_9e188_row8_col18\" class=\"data row8 col18\" >0.563133</td>\n",
       "      <td id=\"T_9e188_row8_col19\" class=\"data row8 col19\" >0.563133</td>\n",
       "      <td id=\"T_9e188_row8_col20\" class=\"data row8 col20\" >0.585154</td>\n",
       "      <td id=\"T_9e188_row8_col21\" class=\"data row8 col21\" >0.585154</td>\n",
       "      <td id=\"T_9e188_row8_col22\" class=\"data row8 col22\" >0.551310</td>\n",
       "      <td id=\"T_9e188_row8_col23\" class=\"data row8 col23\" >0.563133</td>\n",
       "      <td id=\"T_9e188_row8_col24\" class=\"data row8 col24\" >0.550576</td>\n",
       "      <td id=\"T_9e188_row8_col25\" class=\"data row8 col25\" >0.585154</td>\n",
       "      <td id=\"T_9e188_row8_col26\" class=\"data row8 col26\" >0.585154</td>\n",
       "      <td id=\"T_9e188_row8_col27\" class=\"data row8 col27\" >0.551310</td>\n",
       "      <td id=\"T_9e188_row8_col28\" class=\"data row8 col28\" >0.585154</td>\n",
       "      <td id=\"T_9e188_row8_col29\" class=\"data row8 col29\" >0.585154</td>\n",
       "    </tr>\n",
       "    <tr>\n",
       "      <th id=\"T_9e188_level0_row9\" class=\"row_heading level0 row9\" >384</th>\n",
       "      <td id=\"T_9e188_row9_col0\" class=\"data row9 col0\" >0.608797</td>\n",
       "      <td id=\"T_9e188_row9_col1\" class=\"data row9 col1\" >0.608700</td>\n",
       "      <td id=\"T_9e188_row9_col2\" class=\"data row9 col2\" >0.608813</td>\n",
       "      <td id=\"T_9e188_row9_col3\" class=\"data row9 col3\" >0.608788</td>\n",
       "      <td id=\"T_9e188_row9_col4\" class=\"data row9 col4\" >0.608793</td>\n",
       "      <td id=\"T_9e188_row9_col5\" class=\"data row9 col5\" >0.608793</td>\n",
       "      <td id=\"T_9e188_row9_col6\" class=\"data row9 col6\" >0.608640</td>\n",
       "      <td id=\"T_9e188_row9_col7\" class=\"data row9 col7\" >0.608759</td>\n",
       "      <td id=\"T_9e188_row9_col8\" class=\"data row9 col8\" >0.608665</td>\n",
       "      <td id=\"T_9e188_row9_col9\" class=\"data row9 col9\" >0.608722</td>\n",
       "      <td id=\"T_9e188_row9_col10\" class=\"data row9 col10\" >0.608857</td>\n",
       "      <td id=\"T_9e188_row9_col11\" class=\"data row9 col11\" >0.608665</td>\n",
       "      <td id=\"T_9e188_row9_col12\" class=\"data row9 col12\" >0.608813</td>\n",
       "      <td id=\"T_9e188_row9_col13\" class=\"data row9 col13\" >0.608734</td>\n",
       "      <td id=\"T_9e188_row9_col14\" class=\"data row9 col14\" >0.608632</td>\n",
       "      <td id=\"T_9e188_row9_col15\" class=\"data row9 col15\" >0.608777</td>\n",
       "      <td id=\"T_9e188_row9_col16\" class=\"data row9 col16\" >0.608665</td>\n",
       "      <td id=\"T_9e188_row9_col17\" class=\"data row9 col17\" >0.608811</td>\n",
       "      <td id=\"T_9e188_row9_col18\" class=\"data row9 col18\" >0.608822</td>\n",
       "      <td id=\"T_9e188_row9_col19\" class=\"data row9 col19\" >0.608580</td>\n",
       "      <td id=\"T_9e188_row9_col20\" class=\"data row9 col20\" >0.510852</td>\n",
       "      <td id=\"T_9e188_row9_col21\" class=\"data row9 col21\" >0.608772</td>\n",
       "      <td id=\"T_9e188_row9_col22\" class=\"data row9 col22\" >0.608797</td>\n",
       "      <td id=\"T_9e188_row9_col23\" class=\"data row9 col23\" >0.608757</td>\n",
       "      <td id=\"T_9e188_row9_col24\" class=\"data row9 col24\" >0.608157</td>\n",
       "      <td id=\"T_9e188_row9_col25\" class=\"data row9 col25\" >0.608769</td>\n",
       "      <td id=\"T_9e188_row9_col26\" class=\"data row9 col26\" >0.608750</td>\n",
       "      <td id=\"T_9e188_row9_col27\" class=\"data row9 col27\" >0.510756</td>\n",
       "      <td id=\"T_9e188_row9_col28\" class=\"data row9 col28\" >0.608743</td>\n",
       "      <td id=\"T_9e188_row9_col29\" class=\"data row9 col29\" >0.608801</td>\n",
       "    </tr>\n",
       "  </tbody>\n",
       "</table>\n"
      ],
      "text/plain": [
       "<pandas.io.formats.style.Styler at 0x7fae7901eb90>"
      ]
     },
     "execution_count": 16,
     "metadata": {},
     "output_type": "execute_result"
    }
   ],
   "source": [
    "stats_df[\"mi\"][\"full\"].style.highlight_max(axis=0)"
   ]
  },
  {
   "cell_type": "markdown",
   "id": "60c36c4e",
   "metadata": {},
   "source": [
    "# Coherence"
   ]
  },
  {
   "cell_type": "markdown",
   "id": "2ac1b32d",
   "metadata": {},
   "source": [
    "## Read Data"
   ]
  },
  {
   "cell_type": "code",
   "execution_count": 17,
   "id": "e4e976f3",
   "metadata": {
    "ExecuteTime": {
     "end_time": "2023-01-02T12:47:01.582163Z",
     "start_time": "2023-01-02T12:47:01.578650Z"
    }
   },
   "outputs": [],
   "source": [
    "def load_coherence(data_type, vectorize_type, vector_dims, normalization):\n",
    "    coherences = {}\n",
    "    for vector_dim in vector_dims:\n",
    "        coherence_path = f\"../../Postprocessing/data/{data_type}/{vectorize_type}/GMM/coherence/{normalization}/{vector_dim}.csv\"\n",
    "        coherence = pd.read_csv(coherence_path, index_col=0)\n",
    "        coherences[vector_dim] = coherence\n",
    "    return coherences"
   ]
  },
  {
   "cell_type": "code",
   "execution_count": 18,
   "id": "995bf67f",
   "metadata": {
    "ExecuteTime": {
     "end_time": "2023-01-02T12:47:01.627181Z",
     "start_time": "2023-01-02T12:47:01.584296Z"
    }
   },
   "outputs": [],
   "source": [
    "coherences = {}\n",
    "for vectorize_type in vectorize_types:\n",
    "    coherences[vectorize_type] = load_coherence(\n",
    "        data_type, vectorize_type, vector_dims[vectorize_type], normalization\n",
    "    )"
   ]
  },
  {
   "cell_type": "code",
   "execution_count": 19,
   "id": "6aac8d82",
   "metadata": {
    "ExecuteTime": {
     "end_time": "2023-01-02T12:47:01.638571Z",
     "start_time": "2023-01-02T12:47:01.628995Z"
    }
   },
   "outputs": [],
   "source": [
    "coherence_lda_path = f\"../../Postprocessing/data/{data_type}/LDA/coherence.csv\"\n",
    "coherence_lda = pd.read_csv(coherence_lda_path, index_col=0)\n",
    "describe_lda_coherence, _ = get_describe(coherence_lda, axis=0)"
   ]
  },
  {
   "cell_type": "markdown",
   "id": "c256ddec",
   "metadata": {},
   "source": [
    "## Data shaping"
   ]
  },
  {
   "cell_type": "code",
   "execution_count": 20,
   "id": "2dcfe7d7",
   "metadata": {
    "ExecuteTime": {
     "end_time": "2023-01-02T12:47:01.644837Z",
     "start_time": "2023-01-02T12:47:01.640468Z"
    }
   },
   "outputs": [],
   "source": [
    "def shape_coherence_df(coherences, covariance_types, vector_dims):\n",
    "    coherence_df = {\n",
    "        covariance_type: pd.DataFrame() for covariance_type in covariance_types\n",
    "    }\n",
    "    for covariance_type in covariance_types:\n",
    "        _coherence_df = {\n",
    "            vector_dim: coherences[vector_dim].loc[:, covariance_type]\n",
    "            for vector_dim in vector_dims\n",
    "        }\n",
    "        coherence_df[covariance_type] = pd.concat(_coherence_df, axis=1)\n",
    "    return coherence_df"
   ]
  },
  {
   "cell_type": "code",
   "execution_count": 21,
   "id": "fec49d00",
   "metadata": {
    "ExecuteTime": {
     "end_time": "2023-01-02T12:47:01.669068Z",
     "start_time": "2023-01-02T12:47:01.646692Z"
    }
   },
   "outputs": [],
   "source": [
    "coherence_df = {}\n",
    "for vectorize_type in vectorize_types:\n",
    "    coherence_df[vectorize_type] = shape_coherence_df(\n",
    "        coherences[vectorize_type], covariance_types, vector_dims[vectorize_type]\n",
    "    )"
   ]
  },
  {
   "cell_type": "code",
   "execution_count": 22,
   "id": "b59a0ee3",
   "metadata": {
    "ExecuteTime": {
     "end_time": "2023-01-02T12:47:01.677163Z",
     "start_time": "2023-01-02T12:47:01.671451Z"
    }
   },
   "outputs": [],
   "source": [
    "def shape_coherence_describe(coherence_df, covariance_types):\n",
    "    # 統計値の計算\n",
    "    describe = {covariance_type: pd.DataFrame() for covariance_type in covariance_types}\n",
    "    for covariance_type in covariance_types:\n",
    "        describe[covariance_type], describe_keys = get_describe(\n",
    "            coherence_df[covariance_type], axis=0\n",
    "        )\n",
    "    return describe, describe_keys"
   ]
  },
  {
   "cell_type": "code",
   "execution_count": 23,
   "id": "3b80827b",
   "metadata": {
    "ExecuteTime": {
     "end_time": "2023-01-02T12:47:01.708951Z",
     "start_time": "2023-01-02T12:47:01.678953Z"
    }
   },
   "outputs": [],
   "source": [
    "coherence_describe = {}\n",
    "for vectorize_type in vectorize_types:\n",
    "    coherence_describe[vectorize_type], describe_keys = shape_coherence_describe(\n",
    "        coherence_df[vectorize_type], covariance_types\n",
    "    )"
   ]
  },
  {
   "cell_type": "code",
   "execution_count": 24,
   "id": "ae827caa",
   "metadata": {
    "ExecuteTime": {
     "end_time": "2023-01-02T12:47:01.715009Z",
     "start_time": "2023-01-02T12:47:01.711297Z"
    }
   },
   "outputs": [],
   "source": [
    "def shape_coherence_data(describe, describe_keys):\n",
    "    data = {describe_key: pd.DataFrame() for describe_key in describe_keys}\n",
    "\n",
    "    for describe_key in describe_keys:\n",
    "        # covariance_typeについてデータを結合\n",
    "        _data = {\n",
    "            covariance_type: describe[covariance_type][describe_key]\n",
    "            for covariance_type in covariance_types\n",
    "        }\n",
    "        data[describe_key] = pd.concat(_data, axis=1)\n",
    "    return data"
   ]
  },
  {
   "cell_type": "code",
   "execution_count": 25,
   "id": "16b7a8d6",
   "metadata": {
    "ExecuteTime": {
     "end_time": "2023-01-02T12:47:01.734573Z",
     "start_time": "2023-01-02T12:47:01.716811Z"
    }
   },
   "outputs": [],
   "source": [
    "coherence_data = {}\n",
    "for vectorize_type in vectorize_types:\n",
    "    coherence_data[vectorize_type] = shape_coherence_data(\n",
    "        coherence_describe[vectorize_type], describe_keys\n",
    "    )"
   ]
  },
  {
   "cell_type": "markdown",
   "id": "5b7b6782",
   "metadata": {},
   "source": [
    "# Make Chart"
   ]
  },
  {
   "cell_type": "code",
   "execution_count": 26,
   "id": "1dbc03c0",
   "metadata": {
    "ExecuteTime": {
     "end_time": "2023-01-02T12:47:01.745789Z",
     "start_time": "2023-01-02T12:47:01.738769Z"
    }
   },
   "outputs": [],
   "source": [
    "chart_data = {}\n",
    "for vectorize_type in vectorize_types:\n",
    "    mi_max_idx = data_stats[vectorize_type][\"mi\"][\"mean\"].stack().idxmax()\n",
    "    chart_data[vectorize_type] = {\n",
    "        \"埋め込み次元\": mi_max_idx[0],\n",
    "        \"mutual information\": data_stats[vectorize_type][\"mi\"][\"mean\"].loc[mi_max_idx],\n",
    "        \"分散\": data_stats[vectorize_type][\"mi\"][\"std\"].loc[mi_max_idx],\n",
    "        \"coherence\": coherence_data[vectorize_type][\"mean\"].loc[mi_max_idx],\n",
    "    }"
   ]
  },
  {
   "cell_type": "code",
   "execution_count": 27,
   "id": "5c9dda3c",
   "metadata": {
    "ExecuteTime": {
     "end_time": "2023-01-02T12:47:01.766385Z",
     "start_time": "2023-01-02T12:47:01.763291Z"
    },
    "scrolled": true
   },
   "outputs": [],
   "source": [
    "chart_df = pd.DataFrame(chart_data)"
   ]
  },
  {
   "cell_type": "code",
   "execution_count": 28,
   "id": "b6e558f5",
   "metadata": {
    "ExecuteTime": {
     "end_time": "2023-01-02T12:47:01.777324Z",
     "start_time": "2023-01-02T12:47:01.768972Z"
    }
   },
   "outputs": [],
   "source": [
    "chart_df[\"LDA\"] = [\n",
    "    np.NaN,\n",
    "    describe_lda_mi[\"mean\"].to_numpy()[0],\n",
    "    describe_lda_mi[\"std\"].to_numpy()[0],\n",
    "    describe_lda_coherence[\"mean\"].to_numpy()[0]\n",
    "]"
   ]
  },
  {
   "cell_type": "code",
   "execution_count": 29,
   "id": "16874164",
   "metadata": {
    "ExecuteTime": {
     "end_time": "2023-01-02T12:47:02.180208Z",
     "start_time": "2023-01-02T12:47:02.171842Z"
    }
   },
   "outputs": [
    {
     "data": {
      "text/html": [
       "<style type=\"text/css\">\n",
       "</style>\n",
       "<table id=\"T_f58de\">\n",
       "  <thead>\n",
       "    <tr>\n",
       "      <th class=\"blank level0\" >&nbsp;</th>\n",
       "      <th id=\"T_f58de_level0_col0\" class=\"col_heading level0 col0\" >mutual information</th>\n",
       "      <th id=\"T_f58de_level0_col1\" class=\"col_heading level0 col1\" >coherence</th>\n",
       "    </tr>\n",
       "  </thead>\n",
       "  <tbody>\n",
       "    <tr>\n",
       "      <th id=\"T_f58de_level0_row0\" class=\"row_heading level0 row0\" >doc2vec</th>\n",
       "      <td id=\"T_f58de_row0_col0\" class=\"data row0 col0\" >0.430702</td>\n",
       "      <td id=\"T_f58de_row0_col1\" class=\"data row0 col1\" >0.783172</td>\n",
       "    </tr>\n",
       "    <tr>\n",
       "      <th id=\"T_f58de_level0_row1\" class=\"row_heading level0 row1\" >sentenceBERT</th>\n",
       "      <td id=\"T_f58de_row1_col0\" class=\"data row1 col0\" >0.609755</td>\n",
       "      <td id=\"T_f58de_row1_col1\" class=\"data row1 col1\" >0.925091</td>\n",
       "    </tr>\n",
       "    <tr>\n",
       "      <th id=\"T_f58de_level0_row2\" class=\"row_heading level0 row2\" >LDA</th>\n",
       "      <td id=\"T_f58de_row2_col0\" class=\"data row2 col0\" >0.407566</td>\n",
       "      <td id=\"T_f58de_row2_col1\" class=\"data row2 col1\" >0.806057</td>\n",
       "    </tr>\n",
       "  </tbody>\n",
       "</table>\n"
      ],
      "text/plain": [
       "<pandas.io.formats.style.Styler at 0x7fae78fbb790>"
      ]
     },
     "execution_count": 29,
     "metadata": {},
     "output_type": "execute_result"
    }
   ],
   "source": [
    "chart_df.T.loc[:, [\"mutual information\", \"coherence\"]].style.format(\n",
    "    escape=\"latex\", formatter={\"document_count\": \"{:.0f}\"}\n",
    ")"
   ]
  },
  {
   "cell_type": "code",
   "execution_count": 30,
   "id": "8aa6d62c",
   "metadata": {
    "ExecuteTime": {
     "end_time": "2023-01-02T12:47:02.642289Z",
     "start_time": "2023-01-02T12:47:02.616028Z"
    }
   },
   "outputs": [
    {
     "name": "stdout",
     "output_type": "stream",
     "text": [
      "\\begin{table}[h]\n",
      "\\centering\n",
      "\\caption{miの比較と埋め込み次元}\n",
      "\\label{table:1}\n",
      "\\begin{tabular}{rrrr}\n",
      "\\toprule\n",
      " & mutual information & coherence \\\\\n",
      "\\midrule\n",
      "doc2vec & 0.431 & 0.783 \\\\\n",
      "sentenceBERT & 0.610 & 0.925 \\\\\n",
      "LDA & 0.408 & 0.806 \\\\\n",
      "\\bottomrule\n",
      "\\end{tabular}\n",
      "\\end{table}\n",
      "\n"
     ]
    }
   ],
   "source": [
    "print(\n",
    "    chart_df.T.loc[:, [\"mutual information\", \"coherence\"]]\n",
    "    .style.format(precision=3, escape=\"latex\")\n",
    "    .to_latex(\n",
    "        column_format=\"rrrr\",\n",
    "        position=\"h\",\n",
    "        position_float=\"centering\",\n",
    "        hrules=True,\n",
    "        caption=\"miの比較と埋め込み次元\",\n",
    "        label=\"table:1\",\n",
    "        multicol_align=\"r\",\n",
    "    )\n",
    ")"
   ]
  },
  {
   "cell_type": "code",
   "execution_count": null,
   "id": "f95c37c1",
   "metadata": {},
   "outputs": [],
   "source": []
  },
  {
   "cell_type": "code",
   "execution_count": null,
   "id": "d1e956bf",
   "metadata": {},
   "outputs": [],
   "source": []
  },
  {
   "cell_type": "code",
   "execution_count": null,
   "id": "1f7d2bfa",
   "metadata": {},
   "outputs": [],
   "source": []
  },
  {
   "cell_type": "code",
   "execution_count": null,
   "id": "f9285899",
   "metadata": {},
   "outputs": [],
   "source": []
  }
 ],
 "metadata": {
  "kernelspec": {
   "display_name": "Python 3 (ipykernel)",
   "language": "python",
   "name": "python3"
  },
  "language_info": {
   "codemirror_mode": {
    "name": "ipython",
    "version": 3
   },
   "file_extension": ".py",
   "mimetype": "text/x-python",
   "name": "python",
   "nbconvert_exporter": "python",
   "pygments_lexer": "ipython3",
   "version": "3.10.8"
  },
  "toc": {
   "base_numbering": 1,
   "nav_menu": {},
   "number_sections": true,
   "sideBar": true,
   "skip_h1_title": false,
   "title_cell": "Table of Contents",
   "title_sidebar": "Contents",
   "toc_cell": false,
   "toc_position": {},
   "toc_section_display": true,
   "toc_window_display": false
  }
 },
 "nbformat": 4,
 "nbformat_minor": 5
}
