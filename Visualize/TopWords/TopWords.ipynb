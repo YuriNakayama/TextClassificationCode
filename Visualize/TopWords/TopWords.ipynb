{
 "cells": [
  {
   "cell_type": "markdown",
   "id": "b95f9187",
   "metadata": {},
   "source": [
    "# Import"
   ]
  },
  {
   "cell_type": "code",
   "execution_count": 63,
   "id": "80a85ab5",
   "metadata": {
    "ExecuteTime": {
     "end_time": "2023-01-21T03:42:42.913323Z",
     "start_time": "2023-01-21T03:42:42.909373Z"
    }
   },
   "outputs": [],
   "source": [
    "import csv\n",
    "import os\n",
    "import pickle\n",
    "import sys\n",
    "\n",
    "import matplotlib.pyplot as plt\n",
    "import numpy as np\n",
    "import pandas as pd\n",
    "import scipy.stats as sps\n",
    "from sklearn.metrics import adjusted_mutual_info_score\n",
    "from sklearn.mixture import GaussianMixture\n",
    "from tqdm import tqdm"
   ]
  },
  {
   "cell_type": "markdown",
   "id": "2543f4e4",
   "metadata": {},
   "source": [
    "## Add configuration file"
   ]
  },
  {
   "cell_type": "code",
   "execution_count": 2,
   "id": "b62547de",
   "metadata": {
    "ExecuteTime": {
     "end_time": "2023-01-18T18:02:44.813083Z",
     "start_time": "2023-01-18T18:02:44.809806Z"
    }
   },
   "outputs": [],
   "source": [
    "sys.path.append(\"/home/jovyan/core/config/\")\n",
    "sys.path.append(\"/home/jovyan/core/util/\")\n",
    "sys.path.append(\"../../Visualize/PlotFunction/lineplot/\")\n",
    "sys.path.append(\"../../Visualize/PlotFunction/config/\")"
   ]
  },
  {
   "cell_type": "code",
   "execution_count": 3,
   "id": "84da401b",
   "metadata": {
    "ExecuteTime": {
     "end_time": "2023-01-18T18:02:45.351116Z",
     "start_time": "2023-01-18T18:02:44.814959Z"
    }
   },
   "outputs": [],
   "source": [
    "from ALL import config\n",
    "from line_plot_1 import line_plot_1\n",
    "from line_plot_error_1 import line_plot_error_1\n",
    "from line_plot_error_1_layout import layout\n",
    "from util import *"
   ]
  },
  {
   "cell_type": "markdown",
   "id": "9330548e",
   "metadata": {},
   "source": [
    "## Set condition"
   ]
  },
  {
   "cell_type": "code",
   "execution_count": 4,
   "id": "a30f3623",
   "metadata": {
    "ExecuteTime": {
     "end_time": "2023-01-18T18:02:45.357590Z",
     "start_time": "2023-01-18T18:02:45.354271Z"
    }
   },
   "outputs": [],
   "source": [
    "tqdm.pandas()\n",
    "pd.set_option(\"display.max_columns\", 100)\n",
    "pd.set_option(\"display.max_rows\", 50)"
   ]
  },
  {
   "cell_type": "code",
   "execution_count": 13,
   "id": "1303c666",
   "metadata": {
    "ExecuteTime": {
     "end_time": "2023-01-18T18:04:06.093690Z",
     "start_time": "2023-01-18T18:04:06.090815Z"
    }
   },
   "outputs": [],
   "source": [
    "data_type = \"AgNewsTitle\"\n",
    "vectorize_type = \"sentenceBERT\"\n",
    "normalization = \"normalized\""
   ]
  },
  {
   "cell_type": "markdown",
   "id": "52c60a4f",
   "metadata": {},
   "source": [
    "# Read data"
   ]
  },
  {
   "cell_type": "code",
   "execution_count": 14,
   "id": "c81d3638",
   "metadata": {
    "ExecuteTime": {
     "end_time": "2023-01-18T18:04:07.020306Z",
     "start_time": "2023-01-18T18:04:06.400225Z"
    },
    "scrolled": true
   },
   "outputs": [],
   "source": [
    "df = pd.read_csv(f\"../../Preprocessing/data/{data_type}/master.csv\", index_col=0)"
   ]
  },
  {
   "cell_type": "code",
   "execution_count": 15,
   "id": "95389cd0",
   "metadata": {
    "ExecuteTime": {
     "end_time": "2023-01-18T18:04:07.026622Z",
     "start_time": "2023-01-18T18:04:07.023034Z"
    }
   },
   "outputs": [],
   "source": [
    "with open(f\"../../Preprocessing/data/{data_type}/class.csv\", mode=\"r\") as f:\n",
    "    reader = csv.reader(f)\n",
    "    class_labels = [label for label in reader]"
   ]
  },
  {
   "cell_type": "code",
   "execution_count": 32,
   "id": "fec767ee",
   "metadata": {
    "ExecuteTime": {
     "end_time": "2023-01-18T18:06:02.510111Z",
     "start_time": "2023-01-18T18:06:02.506509Z"
    }
   },
   "outputs": [],
   "source": [
    "# vector_dims = config[\"vectorize\"][vectorize_type][\"dims\"]\n",
    "vector_dims = [384]\n",
    "model_nums = config[\"clustering\"][\"gmm\"][\"max_model_num\"]\n",
    "vector_model_num = config[\"vectorize\"][vectorize_type][\"max_model_num\"]\n",
    "# covariance_types = config[\"clustering\"][\"gmm\"][\"covariance_types\"]\n",
    "covariance_types = [\"full\"]"
   ]
  },
  {
   "cell_type": "code",
   "execution_count": 33,
   "id": "2cb7d0e6",
   "metadata": {
    "ExecuteTime": {
     "end_time": "2023-01-18T18:06:02.848846Z",
     "start_time": "2023-01-18T18:06:02.845937Z"
    }
   },
   "outputs": [],
   "source": [
    "label = df[\"class\"].to_numpy()"
   ]
  },
  {
   "cell_type": "markdown",
   "id": "fe1b2c45",
   "metadata": {},
   "source": [
    "# Data shaping"
   ]
  },
  {
   "cell_type": "code",
   "execution_count": 56,
   "id": "fc43270b",
   "metadata": {
    "ExecuteTime": {
     "end_time": "2023-01-18T18:12:32.567704Z",
     "start_time": "2023-01-18T18:12:32.564591Z"
    }
   },
   "outputs": [],
   "source": [
    "threshold = 0.005"
   ]
  },
  {
   "cell_type": "code",
   "execution_count": 57,
   "id": "0f252747",
   "metadata": {
    "ExecuteTime": {
     "end_time": "2023-01-18T18:12:33.102342Z",
     "start_time": "2023-01-18T18:12:33.099150Z"
    }
   },
   "outputs": [],
   "source": [
    "dist_path = f\"../../Clustering/data/{data_type}/{vectorize_type}/GMM/dist\""
   ]
  },
  {
   "cell_type": "code",
   "execution_count": 58,
   "id": "a2b9cc43",
   "metadata": {
    "ExecuteTime": {
     "end_time": "2023-01-18T18:12:34.053518Z",
     "start_time": "2023-01-18T18:12:33.721692Z"
    },
    "scrolled": false
   },
   "outputs": [
    {
     "name": "stderr",
     "output_type": "stream",
     "text": [
      "100%|██████████| 1/1 [00:00<00:00,  3.08it/s]\n"
     ]
    }
   ],
   "source": [
    "# データ型定義\n",
    "high_confirm_index = {\n",
    "    covariance_type: {\n",
    "        vector_dim: {model_num: pd.DataFrame for model_num in range(model_nums)}\n",
    "        for vector_dim in vector_dims\n",
    "    }\n",
    "    for covariance_type in covariance_types\n",
    "}\n",
    "\n",
    "# データ取得\n",
    "for covariance_type in tqdm(covariance_types):\n",
    "    for vector_dim in vector_dims:\n",
    "        for model_num in range(model_nums):\n",
    "            dist = np.load(\n",
    "                f\"{dist_path}/{vector_dim}/{normalization}/{covariance_type}/{model_num}.npy\",\n",
    "            )\n",
    "            high_confirm_index[covariance_type][vector_dim][model_num] = df[\n",
    "                dist.min(axis=1) < sps.chi2.ppf(q=threshold, df=vector_dim)\n",
    "            ].index"
   ]
  },
  {
   "cell_type": "code",
   "execution_count": 62,
   "id": "f66323e6",
   "metadata": {
    "ExecuteTime": {
     "end_time": "2023-01-18T18:14:17.457518Z",
     "start_time": "2023-01-18T18:14:17.453663Z"
    }
   },
   "outputs": [],
   "source": [
    "def getmax_rev(series, topnum=100, getmin=False, getindex=False):\n",
    "    out = series.nsmallest(topnum) if getmin else series.nlargest(topnum)\n",
    "    return out.index if getindex else out.set_axis(pd.RangeIndex(1, topnum+1))"
   ]
  },
  {
   "cell_type": "code",
   "execution_count": 64,
   "id": "b2b474ba",
   "metadata": {
    "ExecuteTime": {
     "end_time": "2023-01-21T03:43:02.583869Z",
     "start_time": "2023-01-21T03:43:02.572688Z"
    }
   },
   "outputs": [
    {
     "data": {
      "text/plain": [
       "{'full': {384: {0: Int64Index([     4,      5,      6,     14,     27,     79,     80,     81,\n",
       "                   83,     86,\n",
       "               ...\n",
       "               119971, 119974, 119975, 119978, 119982, 119983, 119993, 119994,\n",
       "               119998, 119999],\n",
       "              dtype='int64', length=28971),\n",
       "   1: Int64Index([     4,      5,      6,     14,     27,     79,     80,     81,\n",
       "                   83,     86,\n",
       "               ...\n",
       "               119971, 119974, 119975, 119978, 119982, 119983, 119993, 119994,\n",
       "               119998, 119999],\n",
       "              dtype='int64', length=28995),\n",
       "   2: Int64Index([     4,      5,      6,     14,     27,     79,     80,     81,\n",
       "                   83,     86,\n",
       "               ...\n",
       "               119971, 119974, 119975, 119978, 119982, 119983, 119993, 119994,\n",
       "               119998, 119999],\n",
       "              dtype='int64', length=28948),\n",
       "   3: Int64Index([     4,      5,      6,     14,     27,     79,     80,     81,\n",
       "                   83,     86,\n",
       "               ...\n",
       "               119971, 119974, 119975, 119978, 119982, 119983, 119993, 119994,\n",
       "               119998, 119999],\n",
       "              dtype='int64', length=28949),\n",
       "   4: Int64Index([     4,      5,      6,     14,     27,     79,     80,     81,\n",
       "                   83,     86,\n",
       "               ...\n",
       "               119971, 119974, 119975, 119978, 119982, 119983, 119993, 119994,\n",
       "               119998, 119999],\n",
       "              dtype='int64', length=29003),\n",
       "   5: Int64Index([     4,      5,      6,     14,     27,     79,     80,     81,\n",
       "                   83,     86,\n",
       "               ...\n",
       "               119971, 119974, 119975, 119978, 119982, 119983, 119993, 119994,\n",
       "               119998, 119999],\n",
       "              dtype='int64', length=28978),\n",
       "   6: Int64Index([     4,      5,      6,     14,     27,     79,     80,     81,\n",
       "                   83,     86,\n",
       "               ...\n",
       "               119971, 119974, 119975, 119978, 119982, 119983, 119993, 119994,\n",
       "               119998, 119999],\n",
       "              dtype='int64', length=28977),\n",
       "   7: Int64Index([     4,      5,      6,     14,     27,     79,     80,     81,\n",
       "                   83,     86,\n",
       "               ...\n",
       "               119971, 119974, 119975, 119978, 119982, 119983, 119993, 119994,\n",
       "               119998, 119999],\n",
       "              dtype='int64', length=28958),\n",
       "   8: Int64Index([     4,      5,      6,     14,     27,     79,     80,     81,\n",
       "                   83,     86,\n",
       "               ...\n",
       "               119971, 119974, 119975, 119978, 119982, 119983, 119993, 119994,\n",
       "               119998, 119999],\n",
       "              dtype='int64', length=28952),\n",
       "   9: Int64Index([     4,      5,      6,     14,     27,     79,     80,     81,\n",
       "                   83,     86,\n",
       "               ...\n",
       "               119971, 119974, 119975, 119978, 119982, 119983, 119993, 119994,\n",
       "               119998, 119999],\n",
       "              dtype='int64', length=28974),\n",
       "   10: Int64Index([     4,      5,      6,     14,     27,     79,     80,     81,\n",
       "                   83,     86,\n",
       "               ...\n",
       "               119971, 119974, 119975, 119978, 119982, 119983, 119993, 119994,\n",
       "               119998, 119999],\n",
       "              dtype='int64', length=28949),\n",
       "   11: Int64Index([     4,      5,      6,     14,     27,     79,     80,     81,\n",
       "                   83,     86,\n",
       "               ...\n",
       "               119971, 119974, 119975, 119978, 119982, 119983, 119993, 119994,\n",
       "               119998, 119999],\n",
       "              dtype='int64', length=28955),\n",
       "   12: Int64Index([     4,      5,      6,     14,     27,     79,     80,     81,\n",
       "                   83,     86,\n",
       "               ...\n",
       "               119971, 119974, 119975, 119978, 119982, 119983, 119993, 119994,\n",
       "               119998, 119999],\n",
       "              dtype='int64', length=28981),\n",
       "   13: Int64Index([     4,      5,      6,     14,     27,     79,     80,     81,\n",
       "                   83,     86,\n",
       "               ...\n",
       "               119971, 119974, 119975, 119978, 119982, 119983, 119993, 119994,\n",
       "               119998, 119999],\n",
       "              dtype='int64', length=28970),\n",
       "   14: Int64Index([     4,      5,      6,     14,     27,     79,     80,     81,\n",
       "                   83,     86,\n",
       "               ...\n",
       "               119971, 119974, 119975, 119978, 119982, 119983, 119993, 119994,\n",
       "               119998, 119999],\n",
       "              dtype='int64', length=28985),\n",
       "   15: Int64Index([     4,      5,      6,     14,     27,     79,     80,     81,\n",
       "                   83,     86,\n",
       "               ...\n",
       "               119971, 119974, 119975, 119978, 119982, 119983, 119993, 119994,\n",
       "               119998, 119999],\n",
       "              dtype='int64', length=28968),\n",
       "   16: Int64Index([     4,      5,      6,     14,     27,     79,     80,     81,\n",
       "                   83,     86,\n",
       "               ...\n",
       "               119971, 119974, 119975, 119978, 119982, 119983, 119993, 119994,\n",
       "               119998, 119999],\n",
       "              dtype='int64', length=28984),\n",
       "   17: Int64Index([     4,      5,      6,     14,     27,     79,     80,     81,\n",
       "                   83,     86,\n",
       "               ...\n",
       "               119971, 119974, 119975, 119978, 119982, 119983, 119993, 119994,\n",
       "               119998, 119999],\n",
       "              dtype='int64', length=28970),\n",
       "   18: Int64Index([     4,      5,      6,     14,     27,     79,     80,     81,\n",
       "                   83,     86,\n",
       "               ...\n",
       "               119971, 119974, 119975, 119978, 119982, 119983, 119993, 119994,\n",
       "               119998, 119999],\n",
       "              dtype='int64', length=28941),\n",
       "   19: Int64Index([     4,      5,      6,     14,     27,     79,     80,     81,\n",
       "                   83,     86,\n",
       "               ...\n",
       "               119971, 119974, 119975, 119978, 119982, 119983, 119993, 119994,\n",
       "               119998, 119999],\n",
       "              dtype='int64', length=28997),\n",
       "   20: Int64Index([     4,      5,      6,     14,     27,     79,     80,     81,\n",
       "                   83,     86,\n",
       "               ...\n",
       "               119971, 119974, 119975, 119978, 119982, 119983, 119993, 119994,\n",
       "               119998, 119999],\n",
       "              dtype='int64', length=28972),\n",
       "   21: Int64Index([     4,      5,      6,     14,     27,     79,     80,     81,\n",
       "                   83,     86,\n",
       "               ...\n",
       "               119971, 119974, 119975, 119978, 119982, 119983, 119993, 119994,\n",
       "               119998, 119999],\n",
       "              dtype='int64', length=28953),\n",
       "   22: Int64Index([     4,      5,      6,     14,     27,     79,     80,     81,\n",
       "                   83,     86,\n",
       "               ...\n",
       "               119971, 119974, 119975, 119978, 119982, 119983, 119993, 119994,\n",
       "               119998, 119999],\n",
       "              dtype='int64', length=28972),\n",
       "   23: Int64Index([     4,      5,      6,     14,     27,     79,     80,     81,\n",
       "                   83,     86,\n",
       "               ...\n",
       "               119971, 119974, 119975, 119978, 119982, 119983, 119993, 119994,\n",
       "               119998, 119999],\n",
       "              dtype='int64', length=28952),\n",
       "   24: Int64Index([     4,      5,      6,     14,     27,     79,     80,     81,\n",
       "                   83,     86,\n",
       "               ...\n",
       "               119971, 119974, 119975, 119978, 119982, 119983, 119993, 119994,\n",
       "               119998, 119999],\n",
       "              dtype='int64', length=28958),\n",
       "   25: Int64Index([     4,      5,      6,     14,     27,     79,     80,     81,\n",
       "                   83,     86,\n",
       "               ...\n",
       "               119971, 119974, 119975, 119978, 119982, 119983, 119993, 119994,\n",
       "               119998, 119999],\n",
       "              dtype='int64', length=28949),\n",
       "   26: Int64Index([     4,      5,      6,     14,     27,     79,     80,     81,\n",
       "                   83,     86,\n",
       "               ...\n",
       "               119971, 119974, 119975, 119978, 119982, 119983, 119993, 119994,\n",
       "               119998, 119999],\n",
       "              dtype='int64', length=29002),\n",
       "   27: Int64Index([     4,      5,      6,     14,     27,     79,     80,     81,\n",
       "                   83,     86,\n",
       "               ...\n",
       "               119971, 119974, 119975, 119978, 119982, 119983, 119993, 119994,\n",
       "               119998, 119999],\n",
       "              dtype='int64', length=28971),\n",
       "   28: Int64Index([     4,      5,      6,     14,     27,     79,     80,     81,\n",
       "                   83,     86,\n",
       "               ...\n",
       "               119971, 119974, 119975, 119978, 119982, 119983, 119993, 119994,\n",
       "               119998, 119999],\n",
       "              dtype='int64', length=28996),\n",
       "   29: Int64Index([     4,      5,      6,     14,     27,     79,     80,     81,\n",
       "                   83,     86,\n",
       "               ...\n",
       "               119971, 119974, 119975, 119978, 119982, 119983, 119993, 119994,\n",
       "               119998, 119999],\n",
       "              dtype='int64', length=28955)}}}"
      ]
     },
     "execution_count": 64,
     "metadata": {},
     "output_type": "execute_result"
    }
   ],
   "source": [
    "high_confirm_index"
   ]
  },
  {
   "cell_type": "code",
   "execution_count": null,
   "id": "c162a0a7",
   "metadata": {},
   "outputs": [],
   "source": []
  }
 ],
 "metadata": {
  "kernelspec": {
   "display_name": "Python 3 (ipykernel)",
   "language": "python",
   "name": "python3"
  },
  "language_info": {
   "codemirror_mode": {
    "name": "ipython",
    "version": 3
   },
   "file_extension": ".py",
   "mimetype": "text/x-python",
   "name": "python",
   "nbconvert_exporter": "python",
   "pygments_lexer": "ipython3",
   "version": "3.10.8"
  },
  "toc": {
   "base_numbering": 1,
   "nav_menu": {},
   "number_sections": true,
   "sideBar": true,
   "skip_h1_title": false,
   "title_cell": "Table of Contents",
   "title_sidebar": "Contents",
   "toc_cell": false,
   "toc_position": {},
   "toc_section_display": true,
   "toc_window_display": false
  }
 },
 "nbformat": 4,
 "nbformat_minor": 5
}
