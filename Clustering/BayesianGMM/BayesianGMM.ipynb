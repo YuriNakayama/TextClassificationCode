{
 "cells": [
  {
   "cell_type": "markdown",
   "id": "b95f9187",
   "metadata": {},
   "source": [
    "# Import"
   ]
  },
  {
   "cell_type": "code",
   "execution_count": 1,
   "id": "80a85ab5",
   "metadata": {
    "ExecuteTime": {
     "end_time": "2023-01-10T11:49:16.767960Z",
     "start_time": "2023-01-10T11:49:16.011672Z"
    }
   },
   "outputs": [],
   "source": [
    "import csv\n",
    "import os\n",
    "import pickle\n",
    "import sys\n",
    "\n",
    "import numpy as np\n",
    "import pandas as pd\n",
    "from sklearn.mixture import BayesianGaussianMixture\n",
    "from tqdm import tqdm"
   ]
  },
  {
   "cell_type": "markdown",
   "id": "6f4f62bd",
   "metadata": {},
   "source": [
    "## Add configuration file"
   ]
  },
  {
   "cell_type": "code",
   "execution_count": 2,
   "id": "d5ff7059",
   "metadata": {
    "ExecuteTime": {
     "end_time": "2023-01-10T11:49:16.773905Z",
     "start_time": "2023-01-10T11:49:16.770626Z"
    }
   },
   "outputs": [],
   "source": [
    "sys.path.append(\"/home/jovyan/core/config/\")\n",
    "sys.path.append(\"/home/jovyan/core/util/\")"
   ]
  },
  {
   "cell_type": "code",
   "execution_count": 3,
   "id": "157ce92a",
   "metadata": {
    "ExecuteTime": {
     "end_time": "2023-01-10T11:49:16.832642Z",
     "start_time": "2023-01-10T11:49:16.775844Z"
    }
   },
   "outputs": [],
   "source": [
    "from ALL import config \n",
    "from util import *"
   ]
  },
  {
   "cell_type": "markdown",
   "id": "b07ac6af",
   "metadata": {},
   "source": [
    "## Set condition"
   ]
  },
  {
   "cell_type": "code",
   "execution_count": 4,
   "id": "9d870465",
   "metadata": {
    "ExecuteTime": {
     "end_time": "2023-01-10T11:49:16.841374Z",
     "start_time": "2023-01-10T11:49:16.837826Z"
    }
   },
   "outputs": [],
   "source": [
    "tqdm.pandas()\n",
    "pd.set_option(\"display.max_columns\", 100)\n",
    "pd.set_option(\"display.max_rows\", 50)"
   ]
  },
  {
   "cell_type": "code",
   "execution_count": 5,
   "id": "ce45d384",
   "metadata": {
    "ExecuteTime": {
     "end_time": "2023-01-10T11:49:16.848004Z",
     "start_time": "2023-01-10T11:49:16.843613Z"
    }
   },
   "outputs": [],
   "source": [
    "data_type=\"AgNewsTitle\"\n",
    "vectorize_type = \"sentenceBERT\""
   ]
  },
  {
   "cell_type": "markdown",
   "id": "52c60a4f",
   "metadata": {},
   "source": [
    "# Read data"
   ]
  },
  {
   "cell_type": "code",
   "execution_count": 6,
   "id": "c81d3638",
   "metadata": {
    "ExecuteTime": {
     "end_time": "2023-01-10T11:49:17.478241Z",
     "start_time": "2023-01-10T11:49:16.849941Z"
    },
    "scrolled": true
   },
   "outputs": [],
   "source": [
    "df = pd.read_csv(\n",
    "    f\"../../Preprocessing/data/{data_type}/master.csv\", index_col=0\n",
    ")"
   ]
  },
  {
   "cell_type": "code",
   "execution_count": 7,
   "id": "95389cd0",
   "metadata": {
    "ExecuteTime": {
     "end_time": "2023-01-10T11:49:17.485184Z",
     "start_time": "2023-01-10T11:49:17.481318Z"
    }
   },
   "outputs": [],
   "source": [
    "with open(f\"../../Preprocessing/data/{data_type}/class.csv\", mode=\"r\") as f:\n",
    "    reader = csv.reader(f)\n",
    "    class_labels = [label for label in reader]"
   ]
  },
  {
   "cell_type": "code",
   "execution_count": 19,
   "id": "fec767ee",
   "metadata": {
    "ExecuteTime": {
     "end_time": "2023-01-10T11:52:06.096582Z",
     "start_time": "2023-01-10T11:52:06.092639Z"
    }
   },
   "outputs": [],
   "source": [
    "max_vector_model_num = config[\"vectorize\"][vectorize_type][\"max_model_num\"]\n",
    "# vector_dims = config[\"vectorize\"][vectorize_type][\"dims\"]\n",
    "vector_dims = [2]\n",
    "normalization = config[\"vectorize\"][vectorize_type][\"normalization\"]\n",
    "# model_nums = config[\"clustering\"][\"gmm\"][\"max_model_num\"]\n",
    "model_nums = 1\n",
    "# covariance_types = config[\"clustering\"][\"gmm\"][\"covariance_types\"]\n",
    "covariance_types = [\"spherical\"]\n",
    "weight_concentration_priors = [10e-12, 10e-20, 10e-40, 10e-80]"
   ]
  },
  {
   "cell_type": "code",
   "execution_count": 20,
   "id": "8a44baa8",
   "metadata": {
    "ExecuteTime": {
     "end_time": "2023-01-10T11:52:06.593818Z",
     "start_time": "2023-01-10T11:52:06.590975Z"
    }
   },
   "outputs": [],
   "source": [
    "n_components = config[\"data\"][data_type][\"class_num\"]"
   ]
  },
  {
   "cell_type": "markdown",
   "id": "c0d606a3",
   "metadata": {},
   "source": [
    "# Clustering"
   ]
  },
  {
   "cell_type": "code",
   "execution_count": 21,
   "id": "f1eb668d",
   "metadata": {
    "ExecuteTime": {
     "end_time": "2023-01-10T11:52:06.761543Z",
     "start_time": "2023-01-10T11:52:06.756808Z"
    },
    "code_folding": []
   },
   "outputs": [],
   "source": [
    "def getGMM(\n",
    "    vectors, n_components, covariance_type, weight_concentration_prior, seed, path\n",
    "):\n",
    "    gmm = BayesianGaussianMixture(\n",
    "        n_components=n_components,\n",
    "        covariance_type=covariance_type,\n",
    "        random_state=seed,\n",
    "        max_iter=1000,\n",
    "        init_params=\"k-means++\",\n",
    "        weight_concentration_prior_type=\"dirichlet_process\",\n",
    "        n_init=1,\n",
    "        weight_concentration_prior=weight_concentration_prior,\n",
    "    )\n",
    "    gmm.fit(vectors)\n",
    "    # save model\n",
    "    os.makedirs(os.path.dirname(path), exist_ok=True)\n",
    "    pickle.dump(gmm, open(path, \"wb\"))\n",
    "    pred = gmm.predict(vectors)\n",
    "    return pred"
   ]
  },
  {
   "cell_type": "code",
   "execution_count": 22,
   "id": "40b3355f",
   "metadata": {
    "ExecuteTime": {
     "end_time": "2023-01-10T11:52:06.846145Z",
     "start_time": "2023-01-10T11:52:06.842707Z"
    }
   },
   "outputs": [],
   "source": [
    "vectors_path = f\"../data/{data_type}/{vectorize_type}/vector\"\n",
    "models_path = f\"../data/{data_type}/{vectorize_type}/BayesianGMM/model\"\n",
    "pred_path = f\"../data/{data_type}/{vectorize_type}/BayesianGMM/pred\""
   ]
  },
  {
   "cell_type": "code",
   "execution_count": 44,
   "id": "8ff6c10b",
   "metadata": {
    "ExecuteTime": {
     "end_time": "2023-01-10T12:01:06.702541Z",
     "start_time": "2023-01-10T12:01:03.640938Z"
    },
    "code_folding": [],
    "scrolled": true
   },
   "outputs": [
    {
     "name": "stderr",
     "output_type": "stream",
     "text": [
      "100%|██████████| 4/4 [00:03<00:00,  1.31it/s]\n"
     ]
    }
   ],
   "source": [
    "preds = {}\n",
    "for vector_model_num in range(max_vector_model_num):\n",
    "    for vector_dim in vector_dims:\n",
    "        for model_num in range(model_nums):\n",
    "            for covariance_type in covariance_types:\n",
    "                for weight_concentration_prior in tqdm(weight_concentration_priors):\n",
    "                    vectors = np.load(\n",
    "                        f\"{vectors_path}/{vector_dim}/{normalization}/{vector_model_num}.npy\"\n",
    "                    )\n",
    "                    vectors = vectors[2000:3000]\n",
    "                    pred = getGMM(\n",
    "                        vectors,\n",
    "                        seed=model_num,\n",
    "                        n_components=100,\n",
    "                        covariance_type=covariance_type,\n",
    "                        weight_concentration_prior=weight_concentration_prior,\n",
    "                        path=f\"{models_path}/{vector_dim}/{normalization}/{covariance_type}/{model_num}.sav\",\n",
    "                    )\n",
    "                    preds[weight_concentration_prior] = pred\n",
    "                    # save prediction\n",
    "                    np.save(\n",
    "                        make_filepath(\n",
    "                            f\"{pred_path}/{vector_dim}/{normalization}/{covariance_type}/{model_num}.npy\"\n",
    "                        ),\n",
    "                        pred,\n",
    "                    )"
   ]
  },
  {
   "cell_type": "code",
   "execution_count": 45,
   "id": "241183e2",
   "metadata": {
    "ExecuteTime": {
     "end_time": "2023-01-10T12:01:06.965783Z",
     "start_time": "2023-01-10T12:01:06.961989Z"
    }
   },
   "outputs": [
    {
     "name": "stdout",
     "output_type": "stream",
     "text": [
      "1e-11 10\n",
      "1e-19 10\n",
      "1e-39 10\n",
      "1e-79 10\n"
     ]
    }
   ],
   "source": [
    "for prior, pred in preds.items():\n",
    "    print(prior, len(set(pred)))"
   ]
  },
  {
   "cell_type": "code",
   "execution_count": 30,
   "id": "ec49b098",
   "metadata": {
    "ExecuteTime": {
     "end_time": "2023-01-07T04:38:38.168950Z",
     "start_time": "2023-01-07T04:38:37.597928Z"
    },
    "deletable": false,
    "editable": false,
    "run_control": {
     "frozen": true
    }
   },
   "outputs": [],
   "source": [
    "send_line_notify(f\"end {data_type} {vectorize_type}\")"
   ]
  },
  {
   "cell_type": "code",
   "execution_count": 46,
   "id": "97811f3d",
   "metadata": {
    "ExecuteTime": {
     "end_time": "2023-01-10T12:01:08.842067Z",
     "start_time": "2023-01-10T12:01:08.839073Z"
    }
   },
   "outputs": [],
   "source": [
    "import matplotlib.pyplot as plt"
   ]
  },
  {
   "cell_type": "code",
   "execution_count": 47,
   "id": "31bfe1df",
   "metadata": {
    "ExecuteTime": {
     "end_time": "2023-01-10T12:01:10.514617Z",
     "start_time": "2023-01-10T12:01:09.569789Z"
    },
    "scrolled": false
   },
   "outputs": [
    {
     "data": {
      "image/png": "[encoded data removed]",
      "text/plain": [
       "<Figure size 640x480 with 1 Axes>"
      ]
     },
     "metadata": {},
     "output_type": "display_data"
    },
    {
     "data": {
      "image/png": "[encoded data removed]",
      "text/plain": [
       "<Figure size 640x480 with 1 Axes>"
      ]
     },
     "metadata": {},
     "output_type": "display_data"
    },
    {
     "data": {
      "image/png": "[encoded data removed]",
      "text/plain": [
       "<Figure size 640x480 with 1 Axes>"
      ]
     },
     "metadata": {},
     "output_type": "display_data"
    },
    {
     "data": {
      "image/png": "[encoded data removed]",
      "text/plain": [
       "<Figure size 640x480 with 1 Axes>"
      ]
     },
     "metadata": {},
     "output_type": "display_data"
    }
   ],
   "source": [
    "for prior, pred in preds.items():\n",
    "    fig = plt.figure()\n",
    "    ax = fig.add_subplot()\n",
    "    ax.hist(pred, bins= len(set(pred)))\n",
    "    ax.set_title(prior)"
   ]
  },
  {
   "cell_type": "code",
   "execution_count": 27,
   "id": "faded999",
   "metadata": {
    "ExecuteTime": {
     "end_time": "2023-01-10T11:54:11.933807Z",
     "start_time": "2023-01-10T11:54:11.341000Z"
    }
   },
   "outputs": [],
   "source": [
    "send_line_notify(f\"Bayesian {data_type} {vectorize_type}\")"
   ]
  },
  {
   "cell_type": "code",
   "execution_count": null,
   "id": "fab45b76",
   "metadata": {},
   "outputs": [],
   "source": []
  },
  {
   "cell_type": "code",
   "execution_count": null,
   "id": "698719da",
   "metadata": {},
   "outputs": [],
   "source": []
  },
  {
   "cell_type": "code",
   "execution_count": null,
   "id": "1ea1797e",
   "metadata": {},
   "outputs": [],
   "source": []
  },
  {
   "cell_type": "code",
   "execution_count": null,
   "id": "c948772a",
   "metadata": {},
   "outputs": [],
   "source": []
  }
 ],
 "metadata": {
  "kernelspec": {
   "display_name": "Python 3 (ipykernel)",
   "language": "python",
   "name": "python3"
  },
  "language_info": {
   "codemirror_mode": {
    "name": "ipython",
    "version": 3
   },
   "file_extension": ".py",
   "mimetype": "text/x-python",
   "name": "python",
   "nbconvert_exporter": "python",
   "pygments_lexer": "ipython3",
   "version": "3.10.8"
  },
  "toc": {
   "base_numbering": 1,
   "nav_menu": {},
   "number_sections": true,
   "sideBar": true,
   "skip_h1_title": false,
   "title_cell": "Table of Contents",
   "title_sidebar": "Contents",
   "toc_cell": false,
   "toc_position": {},
   "toc_section_display": true,
   "toc_window_display": false
  }
 },
 "nbformat": 4,
 "nbformat_minor": 5
}
