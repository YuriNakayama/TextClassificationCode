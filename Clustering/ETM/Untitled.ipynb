{
 "cells": [
  {
   "cell_type": "markdown",
   "id": "b95f9187",
   "metadata": {},
   "source": [
    "# Import"
   ]
  },
  {
   "cell_type": "code",
   "execution_count": 2,
   "id": "80a85ab5",
   "metadata": {
    "ExecuteTime": {
     "end_time": "2023-02-28T08:12:16.497595Z",
     "start_time": "2023-02-28T08:12:09.281306Z"
    }
   },
   "outputs": [
    {
     "ename": "ModuleNotFoundError",
     "evalue": "No module named 'embedded_topic_model'",
     "output_type": "error",
     "traceback": [
      "\u001b[0;31m---------------------------------------------------------------------------\u001b[0m",
      "\u001b[0;31mModuleNotFoundError\u001b[0m                       Traceback (most recent call last)",
      "Cell \u001b[0;32mIn[2], line 10\u001b[0m\n\u001b[1;32m      7\u001b[0m \u001b[38;5;28;01mfrom\u001b[39;00m \u001b[38;5;21;01mbertopic\u001b[39;00m \u001b[38;5;28;01mimport\u001b[39;00m BERTopic\n\u001b[1;32m      8\u001b[0m \u001b[38;5;28;01mfrom\u001b[39;00m \u001b[38;5;21;01mtqdm\u001b[39;00m \u001b[38;5;28;01mimport\u001b[39;00m tqdm\n\u001b[0;32m---> 10\u001b[0m \u001b[38;5;28;01mfrom\u001b[39;00m \u001b[38;5;21;01membedded_topic_model\u001b[39;00m\u001b[38;5;21;01m.\u001b[39;00m\u001b[38;5;21;01mutils\u001b[39;00m \u001b[38;5;28;01mimport\u001b[39;00m preprocessing\n",
      "\u001b[0;31mModuleNotFoundError\u001b[0m: No module named 'embedded_topic_model'"
     ]
    }
   ],
   "source": [
    "import csv\n",
    "import os\n",
    "import sys\n",
    "\n",
    "import numpy as np\n",
    "import pandas as pd\n",
    "from bertopic import BERTopic\n",
    "from tqdm import tqdm\n",
    "\n",
    "from embedded_topic_model.utils import preprocessing, embedding\n",
    "from embedded_topic_model.models.etm import ETM\n"
   ]
  },
  {
   "cell_type": "markdown",
   "id": "2543f4e4",
   "metadata": {},
   "source": [
    "## Add configuration file"
   ]
  },
  {
   "cell_type": "code",
   "execution_count": null,
   "id": "b62547de",
   "metadata": {
    "ExecuteTime": {
     "end_time": "2023-02-28T08:12:16.516034Z",
     "start_time": "2023-02-28T08:12:16.515989Z"
    }
   },
   "outputs": [],
   "source": [
    "sys.path.append(\"/home/jovyan/core/config/\")\n",
    "sys.path.append(\"/home/jovyan/core/util/\")"
   ]
  },
  {
   "cell_type": "code",
   "execution_count": null,
   "id": "84da401b",
   "metadata": {
    "ExecuteTime": {
     "end_time": "2023-02-28T08:12:16.524053Z",
     "start_time": "2023-02-28T08:12:16.524016Z"
    }
   },
   "outputs": [],
   "source": [
    "from ALL import config\n",
    "import MultilayerDict as md\n",
    "from util import *"
   ]
  },
  {
   "cell_type": "markdown",
   "id": "9330548e",
   "metadata": {},
   "source": [
    "## Set condition"
   ]
  },
  {
   "cell_type": "code",
   "execution_count": null,
   "id": "a30f3623",
   "metadata": {
    "ExecuteTime": {
     "end_time": "2023-02-28T08:12:16.528695Z",
     "start_time": "2023-02-28T08:12:16.528666Z"
    }
   },
   "outputs": [],
   "source": [
    "tqdm.pandas()\n",
    "pd.set_option(\"display.max_columns\", 100)\n",
    "pd.set_option(\"display.max_rows\", 50)"
   ]
  },
  {
   "cell_type": "code",
   "execution_count": null,
   "id": "52475e08",
   "metadata": {
    "ExecuteTime": {
     "end_time": "2023-02-28T08:12:16.530470Z",
     "start_time": "2023-02-28T08:12:16.530447Z"
    }
   },
   "outputs": [],
   "source": [
    "s3 = S3Manager()"
   ]
  },
  {
   "cell_type": "code",
   "execution_count": null,
   "id": "fa2ddf7e",
   "metadata": {
    "ExecuteTime": {
     "end_time": "2023-02-28T08:12:16.533161Z",
     "start_time": "2023-02-28T08:12:16.533137Z"
    }
   },
   "outputs": [],
   "source": [
    "sampling_nums = [1, 2, 4, 8, 16, 32, 64, 128]"
   ]
  },
  {
   "cell_type": "code",
   "execution_count": 3,
   "id": "ee9bf4ad",
   "metadata": {
    "ExecuteTime": {
     "end_time": "2023-02-28T08:12:21.661969Z",
     "start_time": "2023-02-28T08:12:21.658720Z"
    }
   },
   "outputs": [],
   "source": [
    "# data_types = [f\"20NewsSampled{sampling_num}\" for sampling_num in sampling_nums]\n",
    "data_types = [\"TweetTopic\", \"TweetFinance\"]\n",
    "clustering_model = \"ETM\""
   ]
  },
  {
   "cell_type": "code",
   "execution_count": 45,
   "id": "8b74176e",
   "metadata": {
    "ExecuteTime": {
     "end_time": "2023-02-28T07:27:38.444521Z",
     "start_time": "2023-02-28T07:27:38.440937Z"
    }
   },
   "outputs": [],
   "source": [
    "data_type = data_types[0]"
   ]
  },
  {
   "cell_type": "code",
   "execution_count": 46,
   "id": "5860eb60",
   "metadata": {
    "ExecuteTime": {
     "end_time": "2023-02-28T07:27:38.526479Z",
     "start_time": "2023-02-28T07:27:38.521754Z"
    }
   },
   "outputs": [],
   "source": [
    "model_nums = config[\"clustering\"][clustering_model][\"max_model_num\"]\n",
    "topic_nums = {\n",
    "    data_type: config[\"data\"][data_type_classifier(data_type)][\"class_num\"]\n",
    "    for data_type in data_types\n",
    "}"
   ]
  },
  {
   "cell_type": "markdown",
   "id": "52c60a4f",
   "metadata": {},
   "source": [
    "# Read data"
   ]
  },
  {
   "cell_type": "code",
   "execution_count": 47,
   "id": "25a24ba9",
   "metadata": {
    "ExecuteTime": {
     "end_time": "2023-02-28T07:27:39.060313Z",
     "start_time": "2023-02-28T07:27:38.688217Z"
    }
   },
   "outputs": [],
   "source": [
    "df_path = s3.download(f\"Preprocessing/{data_type}/master.csv\")"
   ]
  },
  {
   "cell_type": "code",
   "execution_count": 48,
   "id": "043b8c0b",
   "metadata": {
    "ExecuteTime": {
     "end_time": "2023-02-28T07:27:39.149068Z",
     "start_time": "2023-02-28T07:27:39.064444Z"
    }
   },
   "outputs": [],
   "source": [
    "df = pd.read_csv(df_path[0], index_col=0)"
   ]
  },
  {
   "cell_type": "code",
   "execution_count": 49,
   "id": "6782bdb1",
   "metadata": {
    "ExecuteTime": {
     "end_time": "2023-02-28T07:27:39.491455Z",
     "start_time": "2023-02-28T07:27:39.153059Z"
    }
   },
   "outputs": [],
   "source": [
    "labels_path = s3.download(f\"Preprocessing/{data_type}/class.csv\")"
   ]
  },
  {
   "cell_type": "code",
   "execution_count": 50,
   "id": "2e2aae46",
   "metadata": {
    "ExecuteTime": {
     "end_time": "2023-02-28T07:27:39.501708Z",
     "start_time": "2023-02-28T07:27:39.496737Z"
    }
   },
   "outputs": [],
   "source": [
    "label = df[\"class\"].to_numpy()"
   ]
  },
  {
   "cell_type": "code",
   "execution_count": 51,
   "id": "ffa22ff8",
   "metadata": {
    "ExecuteTime": {
     "end_time": "2023-02-28T07:27:39.509127Z",
     "start_time": "2023-02-28T07:27:39.504417Z"
    }
   },
   "outputs": [],
   "source": [
    "with open(labels_path[0], mode=\"r\") as f:\n",
    "    reader = csv.reader(f)\n",
    "    class_labels = [label for label in reader]"
   ]
  },
  {
   "cell_type": "code",
   "execution_count": 52,
   "id": "d356598f",
   "metadata": {
    "ExecuteTime": {
     "end_time": "2023-02-28T07:27:39.515810Z",
     "start_time": "2023-02-28T07:27:39.511775Z"
    }
   },
   "outputs": [],
   "source": [
    "base_pred_path = f\"Clustering/{data_type}/BERTopic/pred\"\n",
    "base_model_path = f\"Clustering/{data_type}BERTopic/model\"\n",
    "base_prob_path = f\"Postprocessing/{data_type}/BERTopic/prob\""
   ]
  },
  {
   "cell_type": "code",
   "execution_count": null,
   "id": "7c07b166",
   "metadata": {},
   "outputs": [],
   "source": []
  }
 ],
 "metadata": {
  "kernelspec": {
   "display_name": "Python 3 (ipykernel)",
   "language": "python",
   "name": "python3"
  },
  "language_info": {
   "codemirror_mode": {
    "name": "ipython",
    "version": 3
   },
   "file_extension": ".py",
   "mimetype": "text/x-python",
   "name": "python",
   "nbconvert_exporter": "python",
   "pygments_lexer": "ipython3",
   "version": "3.10.9"
  },
  "toc": {
   "base_numbering": 1,
   "nav_menu": {},
   "number_sections": true,
   "sideBar": true,
   "skip_h1_title": false,
   "title_cell": "Table of Contents",
   "title_sidebar": "Contents",
   "toc_cell": false,
   "toc_position": {},
   "toc_section_display": true,
   "toc_window_display": false
  }
 },
 "nbformat": 4,
 "nbformat_minor": 5
}
