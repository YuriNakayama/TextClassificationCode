{
 "cells": [
  {
   "cell_type": "markdown",
   "id": "b95f9187",
   "metadata": {},
   "source": [
    "# Import"
   ]
  },
  {
   "cell_type": "code",
   "execution_count": 1,
   "id": "80a85ab5",
   "metadata": {
    "ExecuteTime": {
     "end_time": "2022-12-10T11:10:12.867987Z",
     "start_time": "2022-12-10T11:10:11.733543Z"
    }
   },
   "outputs": [
    {
     "name": "stderr",
     "output_type": "stream",
     "text": [
      "/opt/conda/lib/python3.10/site-packages/past/builtins/misc.py:45: DeprecationWarning: the imp module is deprecated in favour of importlib and slated for removal in Python 3.12; see the module's documentation for alternative uses\n",
      "  from imp import reload\n",
      "/opt/conda/lib/python3.10/site-packages/gensim/matutils.py:22: DeprecationWarning: Please use `triu` from the `scipy.linalg` namespace, the `scipy.linalg.special_matrices` namespace is deprecated.\n",
      "  from scipy.linalg.special_matrices import triu\n"
     ]
    }
   ],
   "source": [
    "import csv\n",
    "import os\n",
    "import pickle\n",
    "import sys\n",
    "\n",
    "import numpy as np\n",
    "import pandas as pd\n",
    "import pyLDAvis\n",
    "import pyLDAvis.gensim_models as gensimvis\n",
    "from gensim.corpora.dictionary import Dictionary\n",
    "from gensim.models.ldamodel import LdaModel\n",
    "from smart_open import open\n",
    "from tqdm import tqdm"
   ]
  },
  {
   "cell_type": "markdown",
   "id": "6f4f62bd",
   "metadata": {},
   "source": [
    "## Add configuration file"
   ]
  },
  {
   "cell_type": "code",
   "execution_count": 2,
   "id": "d5ff7059",
   "metadata": {
    "ExecuteTime": {
     "end_time": "2022-12-10T11:10:23.223739Z",
     "start_time": "2022-12-10T11:10:23.218465Z"
    }
   },
   "outputs": [],
   "source": [
    "sys.path.append(\"/home/jovyan/core/config/\")"
   ]
  },
  {
   "cell_type": "code",
   "execution_count": 3,
   "id": "157ce92a",
   "metadata": {
    "ExecuteTime": {
     "end_time": "2022-12-10T11:10:23.298975Z",
     "start_time": "2022-12-10T11:10:23.295653Z"
    }
   },
   "outputs": [],
   "source": [
    "from ALL import config "
   ]
  },
  {
   "cell_type": "markdown",
   "id": "b07ac6af",
   "metadata": {},
   "source": [
    "## Set condition"
   ]
  },
  {
   "cell_type": "code",
   "execution_count": 4,
   "id": "9d870465",
   "metadata": {
    "ExecuteTime": {
     "end_time": "2022-12-10T11:10:23.467469Z",
     "start_time": "2022-12-10T11:10:23.464152Z"
    }
   },
   "outputs": [],
   "source": [
    "tqdm.pandas()\n",
    "pd.set_option(\"display.max_columns\", 100)\n",
    "pd.set_option(\"display.max_rows\", 50)"
   ]
  },
  {
   "cell_type": "markdown",
   "id": "52c60a4f",
   "metadata": {},
   "source": [
    "# Read data"
   ]
  },
  {
   "cell_type": "code",
   "execution_count": 5,
   "id": "c81d3638",
   "metadata": {
    "ExecuteTime": {
     "end_time": "2022-12-10T11:10:24.653332Z",
     "start_time": "2022-12-10T11:10:23.629365Z"
    },
    "scrolled": true
   },
   "outputs": [],
   "source": [
    "newsgroups_df = pd.read_csv(\"../../../Preprocessing/data/20News/master.csv\", index_col=0)"
   ]
  },
  {
   "cell_type": "code",
   "execution_count": 6,
   "id": "95389cd0",
   "metadata": {
    "ExecuteTime": {
     "end_time": "2022-12-10T11:10:24.664488Z",
     "start_time": "2022-12-10T11:10:24.659895Z"
    }
   },
   "outputs": [],
   "source": [
    "with open(\"../../../Preprocessing/data/20News/class.csv\", mode=\"r\") as f:\n",
    "    reader = csv.reader(f)\n",
    "    class_labels = [label for label in reader]"
   ]
  },
  {
   "cell_type": "code",
   "execution_count": 7,
   "id": "fec767ee",
   "metadata": {
    "ExecuteTime": {
     "end_time": "2022-12-10T11:10:24.674829Z",
     "start_time": "2022-12-10T11:10:24.670052Z"
    }
   },
   "outputs": [],
   "source": [
    "model_nums = config[\"clustering\"][\"LDA\"][\"max_model_num\"]"
   ]
  },
  {
   "cell_type": "code",
   "execution_count": 8,
   "id": "36fc6a58",
   "metadata": {
    "ExecuteTime": {
     "end_time": "2022-12-10T11:10:24.686126Z",
     "start_time": "2022-12-10T11:10:24.680388Z"
    }
   },
   "outputs": [],
   "source": [
    "class Corpus:\n",
    "    def __init__(self, path=None, texts=None):\n",
    "        self.path = path\n",
    "        self.texts = texts\n",
    "        self.dictionary = Dictionary(texts)\n",
    "        self.dictionary.filter_extremes()\n",
    "\n",
    "    def __iter__(self):\n",
    "        if self.path is not None:\n",
    "            for line in open(self.path):\n",
    "                # assume there's one document per line, tokens separated by whitespace\n",
    "                yield self.dictionary.doc2bow(line.lower().split())\n",
    "        else:\n",
    "            for line in self.texts:\n",
    "                yield self.dictionary.doc2bow(line)\n",
    "                \n",
    "    def __len__(self):\n",
    "        return len(self.texts)"
   ]
  },
  {
   "cell_type": "code",
   "execution_count": 9,
   "id": "7e901138",
   "metadata": {
    "ExecuteTime": {
     "end_time": "2022-12-10T11:10:35.185680Z",
     "start_time": "2022-12-10T11:10:24.691380Z"
    }
   },
   "outputs": [
    {
     "name": "stderr",
     "output_type": "stream",
     "text": [
      "100%|██████████| 18770/18770 [00:00<00:00, 27595.00it/s]\n"
     ]
    }
   ],
   "source": [
    "texts = newsgroups_df.words_nonstop.progress_apply(lambda x: x.split(' ')).tolist()\n",
    "corpus = Corpus(texts=texts)\n",
    "dictionary = Dictionary(texts)\n",
    "dictionary.filter_extremes()"
   ]
  },
  {
   "cell_type": "code",
   "execution_count": 10,
   "id": "bf77c727",
   "metadata": {
    "ExecuteTime": {
     "end_time": "2022-12-10T11:10:36.136426Z",
     "start_time": "2022-12-10T11:10:35.188420Z"
    }
   },
   "outputs": [],
   "source": [
    "os.makedirs(os.path.dirname(\"../../data/20News/LDA/\"), exist_ok=True)\n",
    "pickle.dump(dictionary, open(\"../../data/20News/LDA/dictionary.sav\", \"wb\"))\n",
    "pickle.dump(corpus, open(\"../../data/20News/LDA/corpus.sav\", \"wb\"))"
   ]
  },
  {
   "cell_type": "code",
   "execution_count": 11,
   "id": "bcd8b1b9",
   "metadata": {
    "ExecuteTime": {
     "end_time": "2022-12-10T11:10:36.141618Z",
     "start_time": "2022-12-10T11:10:36.138185Z"
    }
   },
   "outputs": [],
   "source": [
    "label = newsgroups_df[\"class\"].to_numpy()"
   ]
  },
  {
   "cell_type": "code",
   "execution_count": 12,
   "id": "d6be3a0f",
   "metadata": {
    "ExecuteTime": {
     "end_time": "2022-12-10T11:10:36.150037Z",
     "start_time": "2022-12-10T11:10:36.143089Z"
    }
   },
   "outputs": [],
   "source": [
    "def getLDA(corpus,dictionary, n_components, seed, path):\n",
    "    lda = LdaModel(\n",
    "        corpus=corpus,\n",
    "        id2word=dictionary,\n",
    "        num_topics=n_components,\n",
    "        alpha=\"auto\",\n",
    "        eval_every=5,\n",
    "        random_state=seed,\n",
    "    )\n",
    "    # save model\n",
    "    os.makedirs(os.path.dirname(path), exist_ok=True)\n",
    "    lda.save(path)\n",
    "    pred = [lda[docBow] for docBow in corpus]\n",
    "    return pred, lda"
   ]
  },
  {
   "cell_type": "code",
   "execution_count": 13,
   "id": "d41f65cc",
   "metadata": {
    "ExecuteTime": {
     "end_time": "2022-12-10T11:10:36.155663Z",
     "start_time": "2022-12-10T11:10:36.152029Z"
    }
   },
   "outputs": [],
   "source": [
    "n_conmponents=20"
   ]
  },
  {
   "cell_type": "code",
   "execution_count": null,
   "id": "d13c343e",
   "metadata": {
    "ExecuteTime": {
     "start_time": "2022-12-10T11:10:28.186Z"
    }
   },
   "outputs": [
    {
     "name": "stderr",
     "output_type": "stream",
     "text": [
      " 47%|████▋     | 14/30 [12:20<13:59, 52.50s/it]"
     ]
    }
   ],
   "source": [
    "models_path = \"../../data/20News/LDA/model/\"\n",
    "pred_path = \"../../data/20News/LDA/pred/\"\n",
    "\n",
    "for model_num in tqdm(range(model_nums)):\n",
    "    prob, lda = getLDA(\n",
    "        corpus=corpus,\n",
    "        dictionary=dictionary,\n",
    "        n_components=n_conmponents,\n",
    "        seed=model_num,\n",
    "        path=f\"{models_path}{model_num}\"\n",
    "    )\n",
    "#     save prediction\n",
    "    probDf = pd.DataFrame([dict(row) for row in prob]).fillna(0)\n",
    "    pred = probDf.idxmax(axis=1).to_numpy()\n",
    "    os.makedirs(f\"{pred_path}\", exist_ok=True)\n",
    "    with open(\n",
    "        f\"{pred_path}{model_num}.csv\", \"w\"\n",
    "    ) as f:\n",
    "        writer = csv.writer(f)\n",
    "        writer.writerow(pred)"
   ]
  },
  {
   "cell_type": "code",
   "execution_count": null,
   "id": "b18f1f29",
   "metadata": {
    "ExecuteTime": {
     "start_time": "2022-12-10T11:10:28.972Z"
    }
   },
   "outputs": [],
   "source": [
    "pyLDAvis.enable_notebook()\n",
    "\n",
    "vis = gensimvis.prepare(\n",
    "      lda, corpus, dictionary, n_jobs = 1, sort_topics = False\n",
    "      )\n",
    "\n",
    "pyLDAvis.display(vis)"
   ]
  },
  {
   "cell_type": "code",
   "execution_count": null,
   "id": "c04f3257",
   "metadata": {
    "ExecuteTime": {
     "start_time": "2022-12-10T11:10:31.237Z"
    }
   },
   "outputs": [],
   "source": [
    "newsgroups_df[\"pred\"]  = pred"
   ]
  },
  {
   "cell_type": "code",
   "execution_count": null,
   "id": "90e63579",
   "metadata": {
    "ExecuteTime": {
     "start_time": "2022-12-10T11:10:31.500Z"
    }
   },
   "outputs": [],
   "source": [
    "newsgroups_df[newsgroups_df[\"words_nonstop\"].str.contains(\"'AX\")]"
   ]
  },
  {
   "cell_type": "code",
   "execution_count": null,
   "id": "4cea3b25",
   "metadata": {},
   "outputs": [],
   "source": []
  }
 ],
 "metadata": {
  "kernelspec": {
   "display_name": "Python 3 (ipykernel)",
   "language": "python",
   "name": "python3"
  },
  "language_info": {
   "codemirror_mode": {
    "name": "ipython",
    "version": 3
   },
   "file_extension": ".py",
   "mimetype": "text/x-python",
   "name": "python",
   "nbconvert_exporter": "python",
   "pygments_lexer": "ipython3",
   "version": "3.10.8"
  },
  "toc": {
   "base_numbering": 1,
   "nav_menu": {},
   "number_sections": true,
   "sideBar": true,
   "skip_h1_title": false,
   "title_cell": "Table of Contents",
   "title_sidebar": "Contents",
   "toc_cell": false,
   "toc_position": {},
   "toc_section_display": true,
   "toc_window_display": false
  }
 },
 "nbformat": 4,
 "nbformat_minor": 5
}
