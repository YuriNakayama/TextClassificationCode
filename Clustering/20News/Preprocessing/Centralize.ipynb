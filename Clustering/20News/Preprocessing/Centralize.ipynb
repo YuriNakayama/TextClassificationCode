{
 "cells": [
  {
   "cell_type": "markdown",
   "id": "b95f9187",
   "metadata": {},
   "source": [
    "# Import"
   ]
  },
  {
   "cell_type": "code",
   "execution_count": 1,
   "id": "80a85ab5",
   "metadata": {
    "ExecuteTime": {
     "end_time": "2022-12-10T11:08:32.859155Z",
     "start_time": "2022-12-10T11:08:32.568966Z"
    }
   },
   "outputs": [],
   "source": [
    "import csv\n",
    "import os\n",
    "\n",
    "import numpy as np\n",
    "import pandas as pd\n",
    "from glob import glob\n",
    "from tqdm import tqdm"
   ]
  },
  {
   "cell_type": "code",
   "execution_count": 2,
   "id": "9d870465",
   "metadata": {
    "ExecuteTime": {
     "end_time": "2022-12-10T11:08:32.865029Z",
     "start_time": "2022-12-10T11:08:32.861741Z"
    }
   },
   "outputs": [],
   "source": [
    "tqdm.pandas()"
   ]
  },
  {
   "cell_type": "markdown",
   "id": "52c60a4f",
   "metadata": {},
   "source": [
    "# Read data"
   ]
  },
  {
   "cell_type": "code",
   "execution_count": 3,
   "id": "c81d3638",
   "metadata": {
    "ExecuteTime": {
     "end_time": "2022-12-10T11:08:33.616156Z",
     "start_time": "2022-12-10T11:08:32.867096Z"
    },
    "scrolled": true
   },
   "outputs": [],
   "source": [
    "newsgroups_df = pd.read_csv(\"../../../Preprocessing/data/20News/master.csv\", index_col=0)"
   ]
  },
  {
   "cell_type": "code",
   "execution_count": 4,
   "id": "95389cd0",
   "metadata": {
    "ExecuteTime": {
     "end_time": "2022-12-10T11:08:33.622655Z",
     "start_time": "2022-12-10T11:08:33.618987Z"
    }
   },
   "outputs": [],
   "source": [
    "with open(\"../../../Preprocessing/data/20News/class.csv\", mode=\"r\") as f:\n",
    "    reader = csv.reader(f)\n",
    "    class_labels = [label for label in reader]"
   ]
  },
  {
   "cell_type": "code",
   "execution_count": 5,
   "id": "fec767ee",
   "metadata": {
    "ExecuteTime": {
     "end_time": "2022-12-10T11:08:33.631235Z",
     "start_time": "2022-12-10T11:08:33.624501Z"
    }
   },
   "outputs": [],
   "source": [
    "vector_sizes = [2, 3, 4, 6, 7, 8, 9, 10, 20, 40, 80, 160, 320, 640]"
   ]
  },
  {
   "cell_type": "markdown",
   "id": "a2df58ce",
   "metadata": {},
   "source": [
    "# Functions"
   ]
  },
  {
   "cell_type": "code",
   "execution_count": 6,
   "id": "68b65fff",
   "metadata": {
    "ExecuteTime": {
     "end_time": "2022-12-10T11:08:33.637929Z",
     "start_time": "2022-12-10T11:08:33.633270Z"
    }
   },
   "outputs": [],
   "source": [
    "def centralize_array(array):\n",
    "    return array - np.mean(array, axis=0)"
   ]
  },
  {
   "cell_type": "code",
   "execution_count": 7,
   "id": "9479c965",
   "metadata": {
    "ExecuteTime": {
     "end_time": "2022-12-10T11:08:33.645281Z",
     "start_time": "2022-12-10T11:08:33.639635Z"
    }
   },
   "outputs": [],
   "source": [
    "def normarize_array(array):\n",
    "    return array / np.sqrt(np.sum(array * array, axis=1).reshape(-1, 1))"
   ]
  },
  {
   "cell_type": "code",
   "execution_count": 8,
   "id": "033a6224",
   "metadata": {
    "ExecuteTime": {
     "end_time": "2022-12-10T11:08:33.655462Z",
     "start_time": "2022-12-10T11:08:33.647986Z"
    }
   },
   "outputs": [],
   "source": [
    "def normarize_vector(vector):\n",
    "    return vector / np.sqrt(np.sum(vector * vector))"
   ]
  },
  {
   "cell_type": "code",
   "execution_count": 9,
   "id": "b934f994",
   "metadata": {
    "ExecuteTime": {
     "end_time": "2022-12-10T11:08:33.852741Z",
     "start_time": "2022-12-10T11:08:33.849270Z"
    }
   },
   "outputs": [],
   "source": [
    "def get_average_vector(vectors):\n",
    "    sum_vector = np.sum(vectors, axis=0)\n",
    "    return normarize_vector(sum_vector)"
   ]
  },
  {
   "cell_type": "markdown",
   "id": "25d197b9",
   "metadata": {},
   "source": [
    "# Centralize"
   ]
  },
  {
   "cell_type": "code",
   "execution_count": 10,
   "id": "c6680ee2",
   "metadata": {
    "ExecuteTime": {
     "end_time": "2022-12-10T11:09:34.962591Z",
     "start_time": "2022-12-10T11:08:34.836376Z"
    }
   },
   "outputs": [
    {
     "name": "stderr",
     "output_type": "stream",
     "text": [
      "100%|██████████| 14/14 [01:00<00:00,  4.29s/it]\n"
     ]
    }
   ],
   "source": [
    "vectors_path = \"../../../Vectorize/data/20News/doc2vec/vector/\"\n",
    "converted_vectors_path = \"../../data/20News/doc2vec/vector/\"\n",
    "for vector_size in tqdm(vector_sizes):\n",
    "    vector_path = f\"{vectors_path}{vector_size}/\"\n",
    "    for _path in glob(vector_path + \"*\"):\n",
    "        vector = np.loadtxt(_path, delimiter=\",\")\n",
    "        centralized_vector = centralize_array(vector)\n",
    "        normarized_vector = normarize_array(centralized_vector)\n",
    "\n",
    "        model_num = os.path.splitext(os.path.basename(_path))[0]\n",
    "        converted_vector_path = f\"{converted_vectors_path}/{vector_size}/\"\n",
    "\n",
    "        centralized_path = f\"{converted_vector_path}centralized/\"\n",
    "        os.makedirs(centralized_path, exist_ok=True)\n",
    "        np.savetxt(\n",
    "            f\"{centralized_path}{model_num}.csv\", centralized_vector, delimiter=\",\"\n",
    "        )\n",
    "\n",
    "        normarized_path = f\"{converted_vector_path}normalized/\"\n",
    "        os.makedirs(normarized_path, exist_ok=True)\n",
    "        np.savetxt(\n",
    "            f\"{normarized_path}{model_num}.csv\", normarized_vector, delimiter=\",\"\n",
    "        )"
   ]
  },
  {
   "cell_type": "code",
   "execution_count": null,
   "id": "7bef18bb",
   "metadata": {},
   "outputs": [],
   "source": []
  },
  {
   "cell_type": "code",
   "execution_count": null,
   "id": "3326a5cc",
   "metadata": {},
   "outputs": [],
   "source": []
  }
 ],
 "metadata": {
  "kernelspec": {
   "display_name": "Python 3 (ipykernel)",
   "language": "python",
   "name": "python3"
  },
  "language_info": {
   "codemirror_mode": {
    "name": "ipython",
    "version": 3
   },
   "file_extension": ".py",
   "mimetype": "text/x-python",
   "name": "python",
   "nbconvert_exporter": "python",
   "pygments_lexer": "ipython3",
   "version": "3.10.8"
  },
  "toc": {
   "base_numbering": 1,
   "nav_menu": {},
   "number_sections": true,
   "sideBar": true,
   "skip_h1_title": false,
   "title_cell": "Table of Contents",
   "title_sidebar": "Contents",
   "toc_cell": false,
   "toc_position": {},
   "toc_section_display": true,
   "toc_window_display": false
  }
 },
 "nbformat": 4,
 "nbformat_minor": 5
}
