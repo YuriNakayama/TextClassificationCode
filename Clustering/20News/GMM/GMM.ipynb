{
 "cells": [
  {
   "cell_type": "markdown",
   "id": "b95f9187",
   "metadata": {},
   "source": [
    "# Import"
   ]
  },
  {
   "cell_type": "code",
   "execution_count": 1,
   "id": "80a85ab5",
   "metadata": {
    "ExecuteTime": {
     "end_time": "2022-12-02T03:05:57.750750Z",
     "start_time": "2022-12-02T03:05:54.239028Z"
    }
   },
   "outputs": [
    {
     "name": "stderr",
     "output_type": "stream",
     "text": [
      "<jemalloc>: MADV_DONTNEED does not work (memset will be used instead)\n",
      "<jemalloc>: (This is the expected behaviour if you are running under QEMU)\n"
     ]
    }
   ],
   "source": [
    "import csv\n",
    "import os\n",
    "import pickle\n",
    "\n",
    "import numpy as np\n",
    "import pandas as pd\n",
    "from sklearn.mixture import GaussianMixture\n",
    "from tqdm import tqdm"
   ]
  },
  {
   "cell_type": "code",
   "execution_count": 2,
   "id": "9d870465",
   "metadata": {
    "ExecuteTime": {
     "end_time": "2022-12-02T03:05:57.780318Z",
     "start_time": "2022-12-02T03:05:57.762321Z"
    }
   },
   "outputs": [],
   "source": [
    "tqdm.pandas()"
   ]
  },
  {
   "cell_type": "markdown",
   "id": "52c60a4f",
   "metadata": {},
   "source": [
    "# Read data"
   ]
  },
  {
   "cell_type": "code",
   "execution_count": 3,
   "id": "c81d3638",
   "metadata": {
    "ExecuteTime": {
     "end_time": "2022-12-02T03:06:08.073851Z",
     "start_time": "2022-12-02T03:05:57.798499Z"
    },
    "scrolled": true
   },
   "outputs": [],
   "source": [
    "newsgroups_df = pd.read_csv(\"../../../Preprocessing/data/20News/master.csv\", index_col=0)"
   ]
  },
  {
   "cell_type": "code",
   "execution_count": 4,
   "id": "95389cd0",
   "metadata": {
    "ExecuteTime": {
     "end_time": "2022-12-02T03:06:08.125779Z",
     "start_time": "2022-12-02T03:06:08.089982Z"
    }
   },
   "outputs": [],
   "source": [
    "with open(\"../../../Preprocessing/data/20News/class.csv\", mode=\"r\") as f:\n",
    "    reader = csv.reader(f)\n",
    "    class_labels = [label for label in reader]"
   ]
  },
  {
   "cell_type": "code",
   "execution_count": 5,
   "id": "fec767ee",
   "metadata": {
    "ExecuteTime": {
     "end_time": "2022-12-02T03:06:08.183219Z",
     "start_time": "2022-12-02T03:06:08.156583Z"
    }
   },
   "outputs": [],
   "source": [
    "vector_sizes = [2, 3, 4, 6, 7, 8, 9, 10, 20, 40, 80, 160, 320, 640]"
   ]
  },
  {
   "cell_type": "code",
   "execution_count": 18,
   "id": "4c10a865",
   "metadata": {
    "ExecuteTime": {
     "end_time": "2022-12-02T03:09:10.860735Z",
     "start_time": "2022-12-02T03:09:10.849472Z"
    }
   },
   "outputs": [],
   "source": [
    "n_class = len(class_labels[0])"
   ]
  },
  {
   "cell_type": "code",
   "execution_count": 20,
   "id": "e73c9732",
   "metadata": {
    "ExecuteTime": {
     "end_time": "2022-12-02T03:09:24.926849Z",
     "start_time": "2022-12-02T03:09:24.902588Z"
    }
   },
   "outputs": [],
   "source": [
    "model_nums = 2\n",
    "vector_model_num = 0"
   ]
  },
  {
   "cell_type": "code",
   "execution_count": 19,
   "id": "f1eb668d",
   "metadata": {
    "ExecuteTime": {
     "end_time": "2022-12-02T03:09:23.296684Z",
     "start_time": "2022-12-02T03:09:23.276853Z"
    }
   },
   "outputs": [],
   "source": [
    "def getGMM(vectors, n_class, seed, path):\n",
    "    gmm = GaussianMixture(\n",
    "        n_components=n_class, covariance_type=\"full\", random_state=seed\n",
    "    )\n",
    "    gmm.fit(vectors)\n",
    "    pickle.dump(gmm, open(path, \"wb\"))\n",
    "    pred = gmm.predict(vectors)\n",
    "    return pred"
   ]
  },
  {
   "cell_type": "code",
   "execution_count": 21,
   "id": "8ff6c10b",
   "metadata": {
    "ExecuteTime": {
     "end_time": "2022-12-02T07:12:51.125100Z",
     "start_time": "2022-12-02T03:09:49.573483Z"
    },
    "code_folding": [],
    "scrolled": true
   },
   "outputs": [
    {
     "name": "stderr",
     "output_type": "stream",
     "text": [
      "100%|██████████| 14/14 [4:03:01<00:00, 1041.54s/it]\n"
     ]
    }
   ],
   "source": [
    "vectors_path = \"../../data/20News/doc2vec/vector/\"\n",
    "models_path = \"../../data/20News/doc2vec/GMM/model/\"\n",
    "pred_path = \"../../data/20News/doc2vec/GMM/pred/\"\n",
    "for vector_size in tqdm(vector_sizes):\n",
    "    for model_num in range(model_nums):\n",
    "        vector_path = f\"{vectors_path}{vector_size}/normalized/{vector_model_num}.csv\"\n",
    "        vectors = np.loadtxt(vector_path, delimiter=\",\")\n",
    "        \n",
    "        os.makedirs(f\"{models_path}{vector_size}\", exist_ok=True)\n",
    "        pred = getGMM(vectors,n_class=n_class, seed=model_num, path=f\"{models_path}{vector_size}/{model_num}.sav\")\n",
    "        \n",
    "        # save prediction\n",
    "        os.makedirs(f\"{pred_path}{vector_size}\", exist_ok=True)\n",
    "        with open(f\"{pred_path}{vector_size}/{model_num}.csv\", \"w\") as f:\n",
    "            writer = csv.writer(f)\n",
    "            writer.writerow(pred)"
   ]
  },
  {
   "cell_type": "code",
   "execution_count": null,
   "id": "027ee276",
   "metadata": {},
   "outputs": [],
   "source": []
  }
 ],
 "metadata": {
  "kernelspec": {
   "display_name": "Python 3 (ipykernel)",
   "language": "python",
   "name": "python3"
  },
  "language_info": {
   "codemirror_mode": {
    "name": "ipython",
    "version": 3
   },
   "file_extension": ".py",
   "mimetype": "text/x-python",
   "name": "python",
   "nbconvert_exporter": "python",
   "pygments_lexer": "ipython3",
   "version": "3.10.6"
  },
  "toc": {
   "base_numbering": 1,
   "nav_menu": {},
   "number_sections": true,
   "sideBar": true,
   "skip_h1_title": false,
   "title_cell": "Table of Contents",
   "title_sidebar": "Contents",
   "toc_cell": false,
   "toc_position": {},
   "toc_section_display": true,
   "toc_window_display": false
  }
 },
 "nbformat": 4,
 "nbformat_minor": 5
}
