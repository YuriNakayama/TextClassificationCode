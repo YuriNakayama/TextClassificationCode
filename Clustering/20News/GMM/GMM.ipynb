{
 "cells": [
  {
   "cell_type": "markdown",
   "id": "b95f9187",
   "metadata": {},
   "source": [
    "# Import"
   ]
  },
  {
   "cell_type": "code",
   "execution_count": 2,
   "id": "80a85ab5",
   "metadata": {
    "ExecuteTime": {
     "end_time": "2022-12-05T12:19:12.596092Z",
     "start_time": "2022-12-05T12:19:11.648752Z"
    }
   },
   "outputs": [],
   "source": [
    "import csv\n",
    "import os\n",
    "import pickle\n",
    "import sys\n",
    "\n",
    "import numpy as np\n",
    "import pandas as pd\n",
    "from sklearn.mixture import GaussianMixture\n",
    "from tqdm import tqdm"
   ]
  },
  {
   "cell_type": "markdown",
   "id": "2543f4e4",
   "metadata": {},
   "source": [
    "## Add configuration file"
   ]
  },
  {
   "cell_type": "code",
   "execution_count": 3,
   "id": "b62547de",
   "metadata": {
    "ExecuteTime": {
     "end_time": "2022-12-05T12:19:12.601634Z",
     "start_time": "2022-12-05T12:19:12.598574Z"
    }
   },
   "outputs": [],
   "source": [
    "sys.path.append(\"/home/jovyan/core/config/\")"
   ]
  },
  {
   "cell_type": "code",
   "execution_count": 4,
   "id": "84da401b",
   "metadata": {
    "ExecuteTime": {
     "end_time": "2022-12-05T12:19:12.608297Z",
     "start_time": "2022-12-05T12:19:12.603695Z"
    }
   },
   "outputs": [],
   "source": [
    "from ALL import config "
   ]
  },
  {
   "cell_type": "markdown",
   "id": "9330548e",
   "metadata": {},
   "source": [
    "## Set condition"
   ]
  },
  {
   "cell_type": "code",
   "execution_count": 5,
   "id": "a30f3623",
   "metadata": {
    "ExecuteTime": {
     "end_time": "2022-12-05T12:19:12.614520Z",
     "start_time": "2022-12-05T12:19:12.611096Z"
    }
   },
   "outputs": [],
   "source": [
    "tqdm.pandas()\n",
    "pd.set_option(\"display.max_columns\", 100)\n",
    "pd.set_option(\"display.max_rows\", 50)"
   ]
  },
  {
   "cell_type": "markdown",
   "id": "52c60a4f",
   "metadata": {},
   "source": [
    "# Read data"
   ]
  },
  {
   "cell_type": "code",
   "execution_count": 6,
   "id": "c81d3638",
   "metadata": {
    "ExecuteTime": {
     "end_time": "2022-12-05T12:19:14.003846Z",
     "start_time": "2022-12-05T12:19:12.646919Z"
    },
    "scrolled": true
   },
   "outputs": [],
   "source": [
    "newsgroups_df = pd.read_csv(\"../../../Preprocessing/data/20News/master.csv\", index_col=0)"
   ]
  },
  {
   "cell_type": "code",
   "execution_count": 7,
   "id": "95389cd0",
   "metadata": {
    "ExecuteTime": {
     "end_time": "2022-12-05T12:19:14.010339Z",
     "start_time": "2022-12-05T12:19:14.006465Z"
    }
   },
   "outputs": [],
   "source": [
    "with open(\"../../../Preprocessing/data/20News/class.csv\", mode=\"r\") as f:\n",
    "    reader = csv.reader(f)\n",
    "    class_labels = [label for label in reader]"
   ]
  },
  {
   "cell_type": "code",
   "execution_count": 8,
   "id": "c52fe843",
   "metadata": {
    "ExecuteTime": {
     "end_time": "2022-12-05T12:19:14.016414Z",
     "start_time": "2022-12-05T12:19:14.012275Z"
    }
   },
   "outputs": [],
   "source": [
    "vector_dims = config[\"vectorize\"][\"doc2vec\"][\"dims\"]\n",
    "model_nums = config[\"clustering\"][\"gmm\"][\"max_model_num\"]\n",
    "vector_model_num = config[\"vectorize\"][\"doc2vec\"][\"max_model_num\"]\n",
    "covariance_types = config[\"clustering\"][\"gmm\"][\"covariance_types\"]"
   ]
  },
  {
   "cell_type": "code",
   "execution_count": 9,
   "id": "320119c8",
   "metadata": {
    "ExecuteTime": {
     "end_time": "2022-12-05T12:19:14.022949Z",
     "start_time": "2022-12-05T12:19:14.019295Z"
    }
   },
   "outputs": [],
   "source": [
    "n_components = 20"
   ]
  },
  {
   "cell_type": "code",
   "execution_count": 10,
   "id": "f1eb668d",
   "metadata": {
    "ExecuteTime": {
     "end_time": "2022-12-05T12:19:14.028967Z",
     "start_time": "2022-12-05T12:19:14.025151Z"
    }
   },
   "outputs": [],
   "source": [
    "def getGMM(vectors, n_components, covariance_type, seed, path):\n",
    "    gmm = GaussianMixture(\n",
    "        n_components=n_components, covariance_type=covariance_type, random_state=seed\n",
    "    )\n",
    "    gmm.fit(vectors)\n",
    "    # save model\n",
    "    os.makedirs(os.path.dirname(path), exist_ok=True)\n",
    "    pickle.dump(gmm, open(path, \"wb\"))\n",
    "    pred = gmm.predict(vectors)\n",
    "    return pred"
   ]
  },
  {
   "cell_type": "code",
   "execution_count": 11,
   "id": "8ff6c10b",
   "metadata": {
    "ExecuteTime": {
     "end_time": "2022-12-05T12:39:55.910192Z",
     "start_time": "2022-12-05T12:19:14.031109Z"
    },
    "code_folding": [],
    "scrolled": true
   },
   "outputs": [
    {
     "name": "stderr",
     "output_type": "stream",
     "text": [
      "100%|██████████| 14/14 [20:41<00:00, 88.70s/it] \n"
     ]
    }
   ],
   "source": [
    "vectors_path = \"../../data/20News/doc2vec/vector/\"\n",
    "models_path = \"../../data/20News/doc2vec/GMM/model/\"\n",
    "pred_path = \"../../data/20News/doc2vec/GMM/pred/\"\n",
    "for vector_dim in tqdm(vector_dims):\n",
    "    for model_num in range(model_nums):\n",
    "        for covariance_type in covariance_types:\n",
    "            vector_path = (\n",
    "                f\"{vectors_path}{vector_dim}/normalized/{vector_model_num}.csv\"\n",
    "            )\n",
    "            vectors = np.loadtxt(vector_path, delimiter=\",\")\n",
    "\n",
    "            pred = getGMM(\n",
    "                vectors,\n",
    "                seed=model_num,\n",
    "                n_components=n_components,\n",
    "                covariance_type=covariance_type,\n",
    "                path=f\"{models_path}{vector_dim}/{covariance_type}/{model_num}.sav\",\n",
    "            )\n",
    "\n",
    "            # save prediction\n",
    "            os.makedirs(f\"{pred_path}{vector_dim}/{covariance_type}\", exist_ok=True)\n",
    "            with open(\n",
    "                f\"{pred_path}{vector_dim}/{covariance_type}/{model_num}.csv\", \"w\"\n",
    "            ) as f:\n",
    "                writer = csv.writer(f)\n",
    "                writer.writerow(pred)"
   ]
  },
  {
   "cell_type": "code",
   "execution_count": null,
   "id": "027ee276",
   "metadata": {},
   "outputs": [],
   "source": []
  },
  {
   "cell_type": "code",
   "execution_count": null,
   "id": "42002252",
   "metadata": {},
   "outputs": [],
   "source": []
  },
  {
   "cell_type": "code",
   "execution_count": null,
   "id": "2e063a8f",
   "metadata": {},
   "outputs": [],
   "source": []
  }
 ],
 "metadata": {
  "kernelspec": {
   "display_name": "Python 3 (ipykernel)",
   "language": "python",
   "name": "python3"
  },
  "language_info": {
   "codemirror_mode": {
    "name": "ipython",
    "version": 3
   },
   "file_extension": ".py",
   "mimetype": "text/x-python",
   "name": "python",
   "nbconvert_exporter": "python",
   "pygments_lexer": "ipython3",
   "version": "3.10.8"
  },
  "toc": {
   "base_numbering": 1,
   "nav_menu": {},
   "number_sections": true,
   "sideBar": true,
   "skip_h1_title": false,
   "title_cell": "Table of Contents",
   "title_sidebar": "Contents",
   "toc_cell": false,
   "toc_position": {},
   "toc_section_display": true,
   "toc_window_display": false
  }
 },
 "nbformat": 4,
 "nbformat_minor": 5
}
