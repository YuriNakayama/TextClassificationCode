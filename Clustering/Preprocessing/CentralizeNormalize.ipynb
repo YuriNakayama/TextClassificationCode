{
 "cells": [
  {
   "cell_type": "markdown",
   "id": "b95f9187",
   "metadata": {},
   "source": [
    "# Import"
   ]
  },
  {
   "cell_type": "code",
   "execution_count": 1,
   "id": "80a85ab5",
   "metadata": {
    "ExecuteTime": {
     "end_time": "2023-02-09T06:00:28.007796Z",
     "start_time": "2023-02-09T06:00:27.585686Z"
    }
   },
   "outputs": [],
   "source": [
    "import csv\n",
    "import os\n",
    "import sys\n",
    "\n",
    "import numpy as np\n",
    "import pandas as pd\n",
    "from glob import glob\n",
    "from tqdm import tqdm"
   ]
  },
  {
   "cell_type": "markdown",
   "id": "6f4f62bd",
   "metadata": {},
   "source": [
    "## Add configuration file"
   ]
  },
  {
   "cell_type": "code",
   "execution_count": 2,
   "id": "d5ff7059",
   "metadata": {
    "ExecuteTime": {
     "end_time": "2023-02-09T06:00:28.729108Z",
     "start_time": "2023-02-09T06:00:28.725866Z"
    }
   },
   "outputs": [],
   "source": [
    "sys.path.append(\"/home/jovyan/core/config/\")\n",
    "sys.path.append(\"/home/jovyan/core/util/\")"
   ]
  },
  {
   "cell_type": "code",
   "execution_count": 3,
   "id": "157ce92a",
   "metadata": {
    "ExecuteTime": {
     "end_time": "2023-02-09T06:00:29.166399Z",
     "start_time": "2023-02-09T06:00:28.937384Z"
    }
   },
   "outputs": [],
   "source": [
    "from ALL import config \n",
    "from util import *"
   ]
  },
  {
   "cell_type": "markdown",
   "id": "b07ac6af",
   "metadata": {},
   "source": [
    "## Set condition"
   ]
  },
  {
   "cell_type": "code",
   "execution_count": 4,
   "id": "9d870465",
   "metadata": {
    "ExecuteTime": {
     "end_time": "2023-02-09T06:00:29.396464Z",
     "start_time": "2023-02-09T06:00:29.389653Z"
    }
   },
   "outputs": [],
   "source": [
    "tqdm.pandas()\n",
    "pd.set_option(\"display.max_columns\", 100)\n",
    "pd.set_option(\"display.max_rows\", 50)"
   ]
  },
  {
   "cell_type": "code",
   "execution_count": 5,
   "id": "4848626f",
   "metadata": {
    "ExecuteTime": {
     "end_time": "2023-02-09T06:00:29.837227Z",
     "start_time": "2023-02-09T06:00:29.831616Z"
    }
   },
   "outputs": [],
   "source": [
    "s3 = S3Manager()"
   ]
  },
  {
   "cell_type": "code",
   "execution_count": 24,
   "id": "ce45d384",
   "metadata": {
    "ExecuteTime": {
     "end_time": "2023-02-09T06:33:49.318274Z",
     "start_time": "2023-02-09T06:33:49.315011Z"
    }
   },
   "outputs": [],
   "source": [
    "data_type=\"AgNews\"\n",
    "vectorize_type = \"doc2vec\""
   ]
  },
  {
   "cell_type": "code",
   "execution_count": 25,
   "id": "65929071",
   "metadata": {
    "ExecuteTime": {
     "end_time": "2023-02-09T06:33:49.498368Z",
     "start_time": "2023-02-09T06:33:49.495118Z"
    }
   },
   "outputs": [],
   "source": [
    "transformer_model = \"sentence-transformers/all-MiniLM-L6-v2\""
   ]
  },
  {
   "cell_type": "markdown",
   "id": "52c60a4f",
   "metadata": {},
   "source": [
    "# Read data"
   ]
  },
  {
   "cell_type": "code",
   "execution_count": 26,
   "id": "ec62ade9",
   "metadata": {
    "ExecuteTime": {
     "end_time": "2023-02-09T06:33:51.312101Z",
     "start_time": "2023-02-09T06:33:49.816900Z"
    }
   },
   "outputs": [],
   "source": [
    "df_path = s3.download(f\"Preprocessing/{data_type}/master.csv\")"
   ]
  },
  {
   "cell_type": "code",
   "execution_count": 27,
   "id": "c81d3638",
   "metadata": {
    "ExecuteTime": {
     "end_time": "2023-02-09T06:33:52.389987Z",
     "start_time": "2023-02-09T06:33:51.318598Z"
    },
    "scrolled": true
   },
   "outputs": [],
   "source": [
    "df = pd.read_csv(df_path[0], index_col=0)"
   ]
  },
  {
   "cell_type": "code",
   "execution_count": 28,
   "id": "be11d928",
   "metadata": {
    "ExecuteTime": {
     "end_time": "2023-02-09T06:33:52.713274Z",
     "start_time": "2023-02-09T06:33:52.392215Z"
    }
   },
   "outputs": [],
   "source": [
    "labels_path = s3.download(f\"Preprocessing/{data_type}/class.csv\")"
   ]
  },
  {
   "cell_type": "code",
   "execution_count": 29,
   "id": "95389cd0",
   "metadata": {
    "ExecuteTime": {
     "end_time": "2023-02-09T06:33:52.724895Z",
     "start_time": "2023-02-09T06:33:52.720083Z"
    }
   },
   "outputs": [],
   "source": [
    "with open(labels_path[0], mode=\"r\") as f:\n",
    "    reader = csv.reader(f)\n",
    "    class_labels = [label for label in reader]"
   ]
  },
  {
   "cell_type": "code",
   "execution_count": 30,
   "id": "fec767ee",
   "metadata": {
    "ExecuteTime": {
     "end_time": "2023-02-09T06:33:52.744286Z",
     "start_time": "2023-02-09T06:33:52.731004Z"
    }
   },
   "outputs": [],
   "source": [
    "max_vector_model_nums = config[\"vectorize\"][vectorize_type][\"max_model_num\"]\n",
    "vector_dims = config[\"vectorize\"][vectorize_type][\"dims\"]"
   ]
  },
  {
   "cell_type": "code",
   "execution_count": 31,
   "id": "37b6fc51",
   "metadata": {
    "ExecuteTime": {
     "end_time": "2023-02-09T06:33:52.754491Z",
     "start_time": "2023-02-09T06:33:52.748658Z"
    }
   },
   "outputs": [],
   "source": [
    "if vectorize_type == \"doc2vec\":\n",
    "    vector_object = f\"Vectorize/{data_type}/{vectorize_type}/vector/\"\n",
    "elif vectorize_type == \"sentenceBERT\":\n",
    "    vector_object = f\"Vectorize/{data_type}/{vectorize_type}/{transformer_model}/vector\"\n",
    "else:\n",
    "    raise NotImplementedError"
   ]
  },
  {
   "cell_type": "code",
   "execution_count": 32,
   "id": "6ca3b438",
   "metadata": {
    "ExecuteTime": {
     "end_time": "2023-02-09T06:34:40.592746Z",
     "start_time": "2023-02-09T06:33:52.756264Z"
    },
    "scrolled": true
   },
   "outputs": [
    {
     "data": {
      "text/plain": [
       "['/home/jovyan/temporary/Vectorize/AgNews/doc2vec/vector/10/0.csv',\n",
       " '/home/jovyan/temporary/Vectorize/AgNews/doc2vec/vector/10/1.csv',\n",
       " '/home/jovyan/temporary/Vectorize/AgNews/doc2vec/vector/160/0.csv',\n",
       " '/home/jovyan/temporary/Vectorize/AgNews/doc2vec/vector/160/1.csv',\n",
       " '/home/jovyan/temporary/Vectorize/AgNews/doc2vec/vector/2/0.csv',\n",
       " '/home/jovyan/temporary/Vectorize/AgNews/doc2vec/vector/2/1.csv',\n",
       " '/home/jovyan/temporary/Vectorize/AgNews/doc2vec/vector/2/2.csv',\n",
       " '/home/jovyan/temporary/Vectorize/AgNews/doc2vec/vector/2/3.csv',\n",
       " '/home/jovyan/temporary/Vectorize/AgNews/doc2vec/vector/2/4.csv',\n",
       " '/home/jovyan/temporary/Vectorize/AgNews/doc2vec/vector/2/5.csv',\n",
       " '/home/jovyan/temporary/Vectorize/AgNews/doc2vec/vector/2/6.csv',\n",
       " '/home/jovyan/temporary/Vectorize/AgNews/doc2vec/vector/20/0.csv',\n",
       " '/home/jovyan/temporary/Vectorize/AgNews/doc2vec/vector/20/1.csv',\n",
       " '/home/jovyan/temporary/Vectorize/AgNews/doc2vec/vector/3/0.csv',\n",
       " '/home/jovyan/temporary/Vectorize/AgNews/doc2vec/vector/3/1.csv',\n",
       " '/home/jovyan/temporary/Vectorize/AgNews/doc2vec/vector/320/0.csv',\n",
       " '/home/jovyan/temporary/Vectorize/AgNews/doc2vec/vector/320/1.csv',\n",
       " '/home/jovyan/temporary/Vectorize/AgNews/doc2vec/vector/4/0.csv',\n",
       " '/home/jovyan/temporary/Vectorize/AgNews/doc2vec/vector/4/1.csv',\n",
       " '/home/jovyan/temporary/Vectorize/AgNews/doc2vec/vector/40/0.csv',\n",
       " '/home/jovyan/temporary/Vectorize/AgNews/doc2vec/vector/40/1.csv',\n",
       " '/home/jovyan/temporary/Vectorize/AgNews/doc2vec/vector/6/0.csv',\n",
       " '/home/jovyan/temporary/Vectorize/AgNews/doc2vec/vector/6/1.csv',\n",
       " '/home/jovyan/temporary/Vectorize/AgNews/doc2vec/vector/640/0.csv',\n",
       " '/home/jovyan/temporary/Vectorize/AgNews/doc2vec/vector/640/1.csv',\n",
       " '/home/jovyan/temporary/Vectorize/AgNews/doc2vec/vector/7/0.csv',\n",
       " '/home/jovyan/temporary/Vectorize/AgNews/doc2vec/vector/7/1.csv',\n",
       " '/home/jovyan/temporary/Vectorize/AgNews/doc2vec/vector/8/0.csv',\n",
       " '/home/jovyan/temporary/Vectorize/AgNews/doc2vec/vector/8/1.csv',\n",
       " '/home/jovyan/temporary/Vectorize/AgNews/doc2vec/vector/80/0.csv',\n",
       " '/home/jovyan/temporary/Vectorize/AgNews/doc2vec/vector/80/1.csv',\n",
       " '/home/jovyan/temporary/Vectorize/AgNews/doc2vec/vector/9/0.csv',\n",
       " '/home/jovyan/temporary/Vectorize/AgNews/doc2vec/vector/9/1.csv']"
      ]
     },
     "execution_count": 32,
     "metadata": {},
     "output_type": "execute_result"
    }
   ],
   "source": [
    "s3.download(vector_object)"
   ]
  },
  {
   "cell_type": "markdown",
   "id": "a2df58ce",
   "metadata": {
    "heading_collapsed": true
   },
   "source": [
    "# Functions"
   ]
  },
  {
   "cell_type": "code",
   "execution_count": 33,
   "id": "68b65fff",
   "metadata": {
    "ExecuteTime": {
     "end_time": "2023-02-09T06:36:33.047589Z",
     "start_time": "2023-02-09T06:36:33.042533Z"
    },
    "hidden": true
   },
   "outputs": [],
   "source": [
    "def centralize_array(array):\n",
    "    return array - np.mean(array, axis=0)"
   ]
  },
  {
   "cell_type": "code",
   "execution_count": 34,
   "id": "9479c965",
   "metadata": {
    "ExecuteTime": {
     "end_time": "2023-02-09T06:36:33.256866Z",
     "start_time": "2023-02-09T06:36:33.252682Z"
    },
    "hidden": true
   },
   "outputs": [],
   "source": [
    "def normarize_array(array):\n",
    "    return array / np.sqrt(np.sum(array * array, axis=1).reshape(-1, 1))"
   ]
  },
  {
   "cell_type": "code",
   "execution_count": 35,
   "id": "033a6224",
   "metadata": {
    "ExecuteTime": {
     "end_time": "2023-02-09T06:36:33.432545Z",
     "start_time": "2023-02-09T06:36:33.426913Z"
    },
    "hidden": true
   },
   "outputs": [],
   "source": [
    "def normarize_vector(vector):\n",
    "    return vector / np.sqrt(np.sum(vector * vector))"
   ]
  },
  {
   "cell_type": "code",
   "execution_count": 36,
   "id": "b934f994",
   "metadata": {
    "ExecuteTime": {
     "end_time": "2023-02-09T06:36:33.596305Z",
     "start_time": "2023-02-09T06:36:33.590646Z"
    },
    "hidden": true
   },
   "outputs": [],
   "source": [
    "def get_average_vector(vectors):\n",
    "    sum_vector = np.sum(vectors, axis=0)\n",
    "    return normarize_vector(sum_vector)"
   ]
  },
  {
   "cell_type": "markdown",
   "id": "25d197b9",
   "metadata": {},
   "source": [
    "# Centralize Normalize"
   ]
  },
  {
   "cell_type": "code",
   "execution_count": null,
   "id": "ed2b23ca",
   "metadata": {},
   "outputs": [],
   "source": [
    "vectors_path = f\"../../temporary/Vectorize/data/{data_type}/{vectorize_type}/vector\"\n",
    "converted_vectors_path = f\"../data/{data_type}/{vectorize_type}/vector\""
   ]
  },
  {
   "cell_type": "code",
   "execution_count": 13,
   "id": "c6680ee2",
   "metadata": {
    "ExecuteTime": {
     "end_time": "2022-12-27T10:24:55.335673Z",
     "start_time": "2022-12-27T10:24:32.881098Z"
    },
    "scrolled": true
   },
   "outputs": [
    {
     "name": "stderr",
     "output_type": "stream",
     "text": [
      "100%|██████████| 9/9 [00:22<00:00,  2.49s/it]\n"
     ]
    }
   ],
   "source": [
    "for vector_model_num in range(max_vector_model_nums):\n",
    "    for vector_dim in tqdm(vector_dims):\n",
    "        vector = np.loadtxt(\n",
    "            f\"{vectors_path}/{vector_dim}/{vector_model_num}.csv\",\n",
    "            delimiter=\",\",\n",
    "        )\n",
    "        centralized_vector = centralize_array(vector)\n",
    "        normarized_vector = normarize_array(centralized_vector)\n",
    "\n",
    "        np.save(\n",
    "            make_filepath(\n",
    "                f\"{converted_vectors_path}/{vector_dim}/centralized/{vector_model_num}.npy\"\n",
    "            ),\n",
    "            centralized_vector,\n",
    "        )\n",
    "        np.save(\n",
    "            make_filepath(\n",
    "                f\"{converted_vectors_path}/{vector_dim}/normalized/{vector_model_num}.npy\"\n",
    "            ),\n",
    "            normarized_vector,\n",
    "        )"
   ]
  },
  {
   "cell_type": "markdown",
   "id": "a82f573a",
   "metadata": {},
   "source": [
    "# Normalize"
   ]
  },
  {
   "cell_type": "code",
   "execution_count": null,
   "id": "a8e5fb9b",
   "metadata": {},
   "outputs": [],
   "source": []
  },
  {
   "cell_type": "code",
   "execution_count": null,
   "id": "cb27a380",
   "metadata": {},
   "outputs": [],
   "source": []
  }
 ],
 "metadata": {
  "kernelspec": {
   "display_name": "Python 3 (ipykernel)",
   "language": "python",
   "name": "python3"
  },
  "language_info": {
   "codemirror_mode": {
    "name": "ipython",
    "version": 3
   },
   "file_extension": ".py",
   "mimetype": "text/x-python",
   "name": "python",
   "nbconvert_exporter": "python",
   "pygments_lexer": "ipython3",
   "version": "3.10.8"
  },
  "toc": {
   "base_numbering": 1,
   "nav_menu": {},
   "number_sections": true,
   "sideBar": true,
   "skip_h1_title": false,
   "title_cell": "Table of Contents",
   "title_sidebar": "Contents",
   "toc_cell": false,
   "toc_position": {},
   "toc_section_display": true,
   "toc_window_display": false
  }
 },
 "nbformat": 4,
 "nbformat_minor": 5
}
