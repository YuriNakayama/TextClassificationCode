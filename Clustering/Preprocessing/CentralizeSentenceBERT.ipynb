{
 "cells": [
  {
   "cell_type": "markdown",
   "id": "b95f9187",
   "metadata": {},
   "source": [
    "# Import"
   ]
  },
  {
   "cell_type": "code",
   "execution_count": 1,
   "id": "80a85ab5",
   "metadata": {
    "ExecuteTime": {
     "end_time": "2022-12-20T02:28:03.666061Z",
     "start_time": "2022-12-20T02:28:03.110086Z"
    }
   },
   "outputs": [],
   "source": [
    "import csv\n",
    "import os\n",
    "import sys\n",
    "\n",
    "import numpy as np\n",
    "import pandas as pd\n",
    "from glob import glob\n",
    "from tqdm import tqdm"
   ]
  },
  {
   "cell_type": "markdown",
   "id": "6f4f62bd",
   "metadata": {},
   "source": [
    "## Add configuration file"
   ]
  },
  {
   "cell_type": "code",
   "execution_count": 2,
   "id": "d5ff7059",
   "metadata": {
    "ExecuteTime": {
     "end_time": "2022-12-20T02:28:03.691982Z",
     "start_time": "2022-12-20T02:28:03.689059Z"
    }
   },
   "outputs": [],
   "source": [
    "sys.path.append(\"/home/jovyan/core/config/\")\n",
    "sys.path.append(\"/home/jovyan/core/util/\")"
   ]
  },
  {
   "cell_type": "code",
   "execution_count": 3,
   "id": "157ce92a",
   "metadata": {
    "ExecuteTime": {
     "end_time": "2022-12-20T02:28:03.776651Z",
     "start_time": "2022-12-20T02:28:03.772849Z"
    }
   },
   "outputs": [],
   "source": [
    "from ALL import config \n",
    "from util import *"
   ]
  },
  {
   "cell_type": "markdown",
   "id": "b07ac6af",
   "metadata": {},
   "source": [
    "## Set condition"
   ]
  },
  {
   "cell_type": "code",
   "execution_count": 4,
   "id": "9d870465",
   "metadata": {
    "ExecuteTime": {
     "end_time": "2022-12-20T02:28:03.943135Z",
     "start_time": "2022-12-20T02:28:03.939013Z"
    }
   },
   "outputs": [],
   "source": [
    "tqdm.pandas()\n",
    "pd.set_option(\"display.max_columns\", 100)\n",
    "pd.set_option(\"display.max_rows\", 50)"
   ]
  },
  {
   "cell_type": "code",
   "execution_count": 5,
   "id": "ce45d384",
   "metadata": {
    "ExecuteTime": {
     "end_time": "2022-12-20T02:28:04.025923Z",
     "start_time": "2022-12-20T02:28:04.023093Z"
    }
   },
   "outputs": [],
   "source": [
    "data_type=\"20News\"\n",
    "vectorize_type = \"sentenceBERT\""
   ]
  },
  {
   "cell_type": "markdown",
   "id": "52c60a4f",
   "metadata": {},
   "source": [
    "# Read data"
   ]
  },
  {
   "cell_type": "code",
   "execution_count": 6,
   "id": "c81d3638",
   "metadata": {
    "ExecuteTime": {
     "end_time": "2022-12-20T02:28:05.092167Z",
     "start_time": "2022-12-20T02:28:04.189243Z"
    },
    "scrolled": true
   },
   "outputs": [],
   "source": [
    "df = pd.read_csv(\n",
    "    f\"../../Preprocessing/data/{data_type}/master.csv\", index_col=0\n",
    ")"
   ]
  },
  {
   "cell_type": "code",
   "execution_count": 7,
   "id": "95389cd0",
   "metadata": {
    "ExecuteTime": {
     "end_time": "2022-12-20T02:28:05.099952Z",
     "start_time": "2022-12-20T02:28:05.094847Z"
    }
   },
   "outputs": [],
   "source": [
    "with open(f\"../../Preprocessing/data/{data_type}/class.csv\", mode=\"r\") as f:\n",
    "    reader = csv.reader(f)\n",
    "    class_labels = [label for label in reader]"
   ]
  },
  {
   "cell_type": "code",
   "execution_count": 8,
   "id": "fec767ee",
   "metadata": {
    "ExecuteTime": {
     "end_time": "2022-12-20T02:28:05.104761Z",
     "start_time": "2022-12-20T02:28:05.101827Z"
    }
   },
   "outputs": [],
   "source": [
    "max_vector_model_nums = config[\"vectorize\"][vectorize_type][\"max_model_num\"]\n",
    "vector_dims = config[\"vectorize\"][vectorize_type][\"dims\"]"
   ]
  },
  {
   "cell_type": "markdown",
   "id": "a2df58ce",
   "metadata": {},
   "source": [
    "# Functions"
   ]
  },
  {
   "cell_type": "code",
   "execution_count": 9,
   "id": "68b65fff",
   "metadata": {
    "ExecuteTime": {
     "end_time": "2022-12-20T02:28:05.117704Z",
     "start_time": "2022-12-20T02:28:05.107281Z"
    }
   },
   "outputs": [],
   "source": [
    "def centralize_array(array):\n",
    "    return array - np.mean(array, axis=0)"
   ]
  },
  {
   "cell_type": "code",
   "execution_count": 10,
   "id": "9479c965",
   "metadata": {
    "ExecuteTime": {
     "end_time": "2022-12-20T02:28:05.125095Z",
     "start_time": "2022-12-20T02:28:05.119686Z"
    }
   },
   "outputs": [],
   "source": [
    "def normarize_array(array):\n",
    "    return array / np.sqrt(np.sum(array * array, axis=1).reshape(-1, 1))"
   ]
  },
  {
   "cell_type": "code",
   "execution_count": 11,
   "id": "033a6224",
   "metadata": {
    "ExecuteTime": {
     "end_time": "2022-12-20T02:28:05.230759Z",
     "start_time": "2022-12-20T02:28:05.227326Z"
    }
   },
   "outputs": [],
   "source": [
    "def normarize_vector(vector):\n",
    "    return vector / np.sqrt(np.sum(vector * vector))"
   ]
  },
  {
   "cell_type": "code",
   "execution_count": 12,
   "id": "b934f994",
   "metadata": {
    "ExecuteTime": {
     "end_time": "2022-12-20T02:28:05.581362Z",
     "start_time": "2022-12-20T02:28:05.578172Z"
    }
   },
   "outputs": [],
   "source": [
    "def get_average_vector(vectors):\n",
    "    sum_vector = np.sum(vectors, axis=0)\n",
    "    return normarize_vector(sum_vector)"
   ]
  },
  {
   "cell_type": "markdown",
   "id": "25d197b9",
   "metadata": {},
   "source": [
    "# Centralize"
   ]
  },
  {
   "cell_type": "code",
   "execution_count": 13,
   "id": "c6680ee2",
   "metadata": {
    "ExecuteTime": {
     "end_time": "2022-12-20T02:28:06.283453Z",
     "start_time": "2022-12-20T02:28:06.159268Z"
    },
    "scrolled": true
   },
   "outputs": [
    {
     "name": "stderr",
     "output_type": "stream",
     "text": [
      "100%|██████████| 9/9 [00:00<00:00, 80.02it/s]\n"
     ]
    }
   ],
   "source": [
    "vectors_path = f\"../../Vectorize/data/{data_type}/{vectorize_type}/vector/umap\"\n",
    "converted_vectors_path = f\"../data/{data_type}/{vectorize_type}/vector\"\n",
    "for vector_model_num in range(max_vector_model_nums):\n",
    "    for vector_dim in tqdm(vector_dims):\n",
    "        vector = np.load(\n",
    "            f\"{vectors_path}/{vector_dim}/{vector_model_num}.npy\",\n",
    "        )\n",
    "        centralized_vector = centralize_array(vector)\n",
    "        normarized_vector = normarize_array(centralized_vector)\n",
    "\n",
    "        np.save(\n",
    "            make_filepath(\n",
    "                f\"{converted_vectors_path}/{vector_dim}/centralized/{vector_model_num}.npy\"\n",
    "            ),\n",
    "            centralized_vector,\n",
    "        )\n",
    "        np.save(\n",
    "            make_filepath(\n",
    "                f\"{converted_vectors_path}/{vector_dim}/normalized/{vector_model_num}.npy\"\n",
    "            ),\n",
    "            normarized_vector,\n",
    "        )"
   ]
  },
  {
   "cell_type": "code",
   "execution_count": null,
   "id": "58b1f9cf",
   "metadata": {},
   "outputs": [],
   "source": []
  },
  {
   "cell_type": "code",
   "execution_count": null,
   "id": "61eebb16",
   "metadata": {},
   "outputs": [],
   "source": []
  },
  {
   "cell_type": "code",
   "execution_count": null,
   "id": "437dc20b",
   "metadata": {},
   "outputs": [],
   "source": []
  }
 ],
 "metadata": {
  "kernelspec": {
   "display_name": "Python 3 (ipykernel)",
   "language": "python",
   "name": "python3"
  },
  "language_info": {
   "codemirror_mode": {
    "name": "ipython",
    "version": 3
   },
   "file_extension": ".py",
   "mimetype": "text/x-python",
   "name": "python",
   "nbconvert_exporter": "python",
   "pygments_lexer": "ipython3",
   "version": "3.10.8"
  },
  "toc": {
   "base_numbering": 1,
   "nav_menu": {},
   "number_sections": true,
   "sideBar": true,
   "skip_h1_title": false,
   "title_cell": "Table of Contents",
   "title_sidebar": "Contents",
   "toc_cell": false,
   "toc_position": {},
   "toc_section_display": true,
   "toc_window_display": false
  }
 },
 "nbformat": 4,
 "nbformat_minor": 5
}
