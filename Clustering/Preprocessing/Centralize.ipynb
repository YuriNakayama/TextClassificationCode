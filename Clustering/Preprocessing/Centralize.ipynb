{
 "cells": [
  {
   "cell_type": "markdown",
   "id": "b95f9187",
   "metadata": {},
   "source": [
    "# Import"
   ]
  },
  {
   "cell_type": "code",
   "execution_count": null,
   "id": "80a85ab5",
   "metadata": {
    "ExecuteTime": {
     "start_time": "2022-12-18T12:03:37.165Z"
    }
   },
   "outputs": [],
   "source": [
    "import csv\n",
    "import os\n",
    "import sys\n",
    "\n",
    "import numpy as np\n",
    "import pandas as pd\n",
    "from glob import glob\n",
    "from tqdm import tqdm"
   ]
  },
  {
   "cell_type": "markdown",
   "id": "6f4f62bd",
   "metadata": {},
   "source": [
    "## Add configuration file"
   ]
  },
  {
   "cell_type": "code",
   "execution_count": null,
   "id": "d5ff7059",
   "metadata": {
    "ExecuteTime": {
     "start_time": "2022-12-18T12:03:41.785Z"
    }
   },
   "outputs": [],
   "source": [
    "sys.path.append(\"/home/jovyan/core/config/\")\n",
    "sys.path.append(\"/home/jovyan/core/util/\")"
   ]
  },
  {
   "cell_type": "code",
   "execution_count": null,
   "id": "157ce92a",
   "metadata": {
    "ExecuteTime": {
     "start_time": "2022-12-18T12:03:41.980Z"
    }
   },
   "outputs": [],
   "source": [
    "from ALL import config \n",
    "from util import *"
   ]
  },
  {
   "cell_type": "markdown",
   "id": "b07ac6af",
   "metadata": {},
   "source": [
    "## Set condition"
   ]
  },
  {
   "cell_type": "code",
   "execution_count": null,
   "id": "9d870465",
   "metadata": {
    "ExecuteTime": {
     "start_time": "2022-12-18T12:03:42.225Z"
    }
   },
   "outputs": [],
   "source": [
    "tqdm.pandas()\n",
    "pd.set_option(\"display.max_columns\", 100)\n",
    "pd.set_option(\"display.max_rows\", 50)"
   ]
  },
  {
   "cell_type": "code",
   "execution_count": null,
   "id": "ce45d384",
   "metadata": {
    "ExecuteTime": {
     "start_time": "2022-12-18T12:03:42.459Z"
    }
   },
   "outputs": [],
   "source": [
    "data_type=\"AgNewsTitle\"\n",
    "vectorize_type = \"doc2vec\""
   ]
  },
  {
   "cell_type": "markdown",
   "id": "52c60a4f",
   "metadata": {},
   "source": [
    "# Read data"
   ]
  },
  {
   "cell_type": "code",
   "execution_count": null,
   "id": "c81d3638",
   "metadata": {
    "ExecuteTime": {
     "start_time": "2022-12-18T12:03:44.511Z"
    },
    "scrolled": true
   },
   "outputs": [],
   "source": [
    "df = pd.read_csv(\n",
    "    f\"../../Preprocessing/data/{data_type}/master.csv\", index_col=0\n",
    ")"
   ]
  },
  {
   "cell_type": "code",
   "execution_count": null,
   "id": "95389cd0",
   "metadata": {
    "ExecuteTime": {
     "start_time": "2022-12-18T12:03:45.316Z"
    }
   },
   "outputs": [],
   "source": [
    "with open(f\"../../Preprocessing/data/{data_type}/class.csv\", mode=\"r\") as f:\n",
    "    reader = csv.reader(f)\n",
    "    class_labels = [label for label in reader]"
   ]
  },
  {
   "cell_type": "code",
   "execution_count": null,
   "id": "fec767ee",
   "metadata": {
    "ExecuteTime": {
     "start_time": "2022-12-18T12:03:46.709Z"
    }
   },
   "outputs": [],
   "source": [
    "max_vector_model_nums = config[\"vectorize\"][vectorize_type][\"max_model_num\"]\n",
    "vector_dims = config[\"vectorize\"][vectorize_type][\"dims\"]"
   ]
  },
  {
   "cell_type": "markdown",
   "id": "a2df58ce",
   "metadata": {},
   "source": [
    "# Functions"
   ]
  },
  {
   "cell_type": "code",
   "execution_count": null,
   "id": "68b65fff",
   "metadata": {
    "ExecuteTime": {
     "start_time": "2022-12-18T12:03:47.904Z"
    }
   },
   "outputs": [],
   "source": [
    "def centralize_array(array):\n",
    "    return array - np.mean(array, axis=0)"
   ]
  },
  {
   "cell_type": "code",
   "execution_count": null,
   "id": "9479c965",
   "metadata": {
    "ExecuteTime": {
     "start_time": "2022-12-18T12:03:48.172Z"
    }
   },
   "outputs": [],
   "source": [
    "def normarize_array(array):\n",
    "    return array / np.sqrt(np.sum(array * array, axis=1).reshape(-1, 1))"
   ]
  },
  {
   "cell_type": "code",
   "execution_count": null,
   "id": "033a6224",
   "metadata": {
    "ExecuteTime": {
     "start_time": "2022-12-18T12:03:48.386Z"
    }
   },
   "outputs": [],
   "source": [
    "def normarize_vector(vector):\n",
    "    return vector / np.sqrt(np.sum(vector * vector))"
   ]
  },
  {
   "cell_type": "code",
   "execution_count": null,
   "id": "b934f994",
   "metadata": {
    "ExecuteTime": {
     "start_time": "2022-12-18T12:03:48.787Z"
    }
   },
   "outputs": [],
   "source": [
    "def get_average_vector(vectors):\n",
    "    sum_vector = np.sum(vectors, axis=0)\n",
    "    return normarize_vector(sum_vector)"
   ]
  },
  {
   "cell_type": "markdown",
   "id": "25d197b9",
   "metadata": {},
   "source": [
    "# Centralize"
   ]
  },
  {
   "cell_type": "code",
   "execution_count": null,
   "id": "c6680ee2",
   "metadata": {
    "ExecuteTime": {
     "start_time": "2022-12-18T12:03:53.361Z"
    }
   },
   "outputs": [],
   "source": [
    "vectors_path = f\"../../Vectorize/data/{data_type}/{vectorize_type}/vector\"\n",
    "converted_vectors_path = f\"../data/{data_type}/{vectorize_type}/vector\"\n",
    "for vector_model_num in range(max_vector_model_nums):\n",
    "    for vector_dim in tqdm(vector_dims):\n",
    "        vector = np.loadtxt(\n",
    "            f\"{vectors_path}/{vector_dim}/{vector_model_num}.csv\",\n",
    "            delimiter=\",\",\n",
    "        )\n",
    "        centralized_vector = centralize_array(vector)\n",
    "        normarized_vector = normarize_array(centralized_vector)\n",
    "\n",
    "        np.save(\n",
    "            make_filepath(\n",
    "                f\"{converted_vectors_path}/{vector_dim}/centralized/{vector_model_num}.npy\"\n",
    "            ),\n",
    "            centralized_vector,\n",
    "        )\n",
    "        np.save(\n",
    "            make_filepath(\n",
    "                f\"{converted_vectors_path}/{vector_dim}/normalized/{vector_model_num}.npy\"\n",
    "            ),\n",
    "            normarized_vector,\n",
    "        )"
   ]
  },
  {
   "cell_type": "code",
   "execution_count": null,
   "id": "f843683e",
   "metadata": {},
   "outputs": [],
   "source": []
  }
 ],
 "metadata": {
  "kernelspec": {
   "display_name": "Python 3 (ipykernel)",
   "language": "python",
   "name": "python3"
  },
  "language_info": {
   "codemirror_mode": {
    "name": "ipython",
    "version": 3
   },
   "file_extension": ".py",
   "mimetype": "text/x-python",
   "name": "python",
   "nbconvert_exporter": "python",
   "pygments_lexer": "ipython3",
   "version": "3.10.8"
  },
  "toc": {
   "base_numbering": 1,
   "nav_menu": {},
   "number_sections": true,
   "sideBar": true,
   "skip_h1_title": false,
   "title_cell": "Table of Contents",
   "title_sidebar": "Contents",
   "toc_cell": false,
   "toc_position": {},
   "toc_section_display": true,
   "toc_window_display": false
  }
 },
 "nbformat": 4,
 "nbformat_minor": 5
}
