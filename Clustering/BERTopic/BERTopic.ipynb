{
 "cells": [
  {
   "cell_type": "markdown",
   "id": "b95f9187",
   "metadata": {},
   "source": [
    "# Import"
   ]
  },
  {
   "cell_type": "code",
   "execution_count": 38,
   "id": "80a85ab5",
   "metadata": {
    "ExecuteTime": {
     "end_time": "2023-02-28T07:27:37.284544Z",
     "start_time": "2023-02-28T07:27:37.280927Z"
    }
   },
   "outputs": [],
   "source": [
    "import csv\n",
    "import os\n",
    "import sys\n",
    "\n",
    "import numpy as np\n",
    "import pandas as pd\n",
    "from bertopic import BERTopic\n",
    "from tqdm import tqdm"
   ]
  },
  {
   "cell_type": "markdown",
   "id": "2543f4e4",
   "metadata": {},
   "source": [
    "## Add configuration file"
   ]
  },
  {
   "cell_type": "code",
   "execution_count": 39,
   "id": "b62547de",
   "metadata": {
    "ExecuteTime": {
     "end_time": "2023-02-28T07:27:37.859562Z",
     "start_time": "2023-02-28T07:27:37.856075Z"
    }
   },
   "outputs": [],
   "source": [
    "sys.path.append(\"/home/jovyan/core/config/\")\n",
    "sys.path.append(\"/home/jovyan/core/util/\")"
   ]
  },
  {
   "cell_type": "code",
   "execution_count": 40,
   "id": "84da401b",
   "metadata": {
    "ExecuteTime": {
     "end_time": "2023-02-28T07:27:37.941221Z",
     "start_time": "2023-02-28T07:27:37.938126Z"
    }
   },
   "outputs": [],
   "source": [
    "from ALL import config\n",
    "import MultilayerDict as md\n",
    "from util import *"
   ]
  },
  {
   "cell_type": "markdown",
   "id": "9330548e",
   "metadata": {},
   "source": [
    "## Set condition"
   ]
  },
  {
   "cell_type": "code",
   "execution_count": 41,
   "id": "a30f3623",
   "metadata": {
    "ExecuteTime": {
     "end_time": "2023-02-28T07:27:38.110580Z",
     "start_time": "2023-02-28T07:27:38.106091Z"
    }
   },
   "outputs": [],
   "source": [
    "tqdm.pandas()\n",
    "pd.set_option(\"display.max_columns\", 100)\n",
    "pd.set_option(\"display.max_rows\", 50)"
   ]
  },
  {
   "cell_type": "code",
   "execution_count": 42,
   "id": "52475e08",
   "metadata": {
    "ExecuteTime": {
     "end_time": "2023-02-28T07:27:38.191113Z",
     "start_time": "2023-02-28T07:27:38.188055Z"
    }
   },
   "outputs": [],
   "source": [
    "s3 = S3Manager()"
   ]
  },
  {
   "cell_type": "code",
   "execution_count": 43,
   "id": "fa2ddf7e",
   "metadata": {
    "ExecuteTime": {
     "end_time": "2023-02-28T07:27:38.275080Z",
     "start_time": "2023-02-28T07:27:38.272128Z"
    }
   },
   "outputs": [],
   "source": [
    "sampling_nums = [1, 2, 4, 8, 16, 32, 64, 128]"
   ]
  },
  {
   "cell_type": "code",
   "execution_count": 44,
   "id": "ee9bf4ad",
   "metadata": {
    "ExecuteTime": {
     "end_time": "2023-02-28T07:27:38.362689Z",
     "start_time": "2023-02-28T07:27:38.355640Z"
    }
   },
   "outputs": [],
   "source": [
    "# data_types = [f\"20NewsSampled{sampling_num}\" for sampling_num in sampling_nums]\n",
    "data_types = [\"TweetTopic\", \"TweetFinance\"]\n",
    "clustering_model = \"BERTopic\""
   ]
  },
  {
   "cell_type": "code",
   "execution_count": 45,
   "id": "8b74176e",
   "metadata": {
    "ExecuteTime": {
     "end_time": "2023-02-28T07:27:38.444521Z",
     "start_time": "2023-02-28T07:27:38.440937Z"
    }
   },
   "outputs": [],
   "source": [
    "data_type = data_types[0]"
   ]
  },
  {
   "cell_type": "code",
   "execution_count": 46,
   "id": "5860eb60",
   "metadata": {
    "ExecuteTime": {
     "end_time": "2023-02-28T07:27:38.526479Z",
     "start_time": "2023-02-28T07:27:38.521754Z"
    }
   },
   "outputs": [],
   "source": [
    "model_nums = config[\"clustering\"][clustering_model][\"max_model_num\"]\n",
    "topic_nums = {\n",
    "    data_type: config[\"data\"][data_type_classifier(data_type)][\"class_num\"]\n",
    "    for data_type in data_types\n",
    "}"
   ]
  },
  {
   "cell_type": "markdown",
   "id": "52c60a4f",
   "metadata": {},
   "source": [
    "# Read data"
   ]
  },
  {
   "cell_type": "code",
   "execution_count": 47,
   "id": "25a24ba9",
   "metadata": {
    "ExecuteTime": {
     "end_time": "2023-02-28T07:27:39.060313Z",
     "start_time": "2023-02-28T07:27:38.688217Z"
    }
   },
   "outputs": [],
   "source": [
    "df_path = s3.download(f\"Preprocessing/{data_type}/master.csv\")"
   ]
  },
  {
   "cell_type": "code",
   "execution_count": 48,
   "id": "043b8c0b",
   "metadata": {
    "ExecuteTime": {
     "end_time": "2023-02-28T07:27:39.149068Z",
     "start_time": "2023-02-28T07:27:39.064444Z"
    }
   },
   "outputs": [],
   "source": [
    "df = pd.read_csv(df_path[0], index_col=0)"
   ]
  },
  {
   "cell_type": "code",
   "execution_count": 49,
   "id": "6782bdb1",
   "metadata": {
    "ExecuteTime": {
     "end_time": "2023-02-28T07:27:39.491455Z",
     "start_time": "2023-02-28T07:27:39.153059Z"
    }
   },
   "outputs": [],
   "source": [
    "labels_path = s3.download(f\"Preprocessing/{data_type}/class.csv\")"
   ]
  },
  {
   "cell_type": "code",
   "execution_count": 50,
   "id": "2e2aae46",
   "metadata": {
    "ExecuteTime": {
     "end_time": "2023-02-28T07:27:39.501708Z",
     "start_time": "2023-02-28T07:27:39.496737Z"
    }
   },
   "outputs": [],
   "source": [
    "label = df[\"class\"].to_numpy()"
   ]
  },
  {
   "cell_type": "code",
   "execution_count": 51,
   "id": "ffa22ff8",
   "metadata": {
    "ExecuteTime": {
     "end_time": "2023-02-28T07:27:39.509127Z",
     "start_time": "2023-02-28T07:27:39.504417Z"
    }
   },
   "outputs": [],
   "source": [
    "with open(labels_path[0], mode=\"r\") as f:\n",
    "    reader = csv.reader(f)\n",
    "    class_labels = [label for label in reader]"
   ]
  },
  {
   "cell_type": "code",
   "execution_count": 52,
   "id": "d356598f",
   "metadata": {
    "ExecuteTime": {
     "end_time": "2023-02-28T07:27:39.515810Z",
     "start_time": "2023-02-28T07:27:39.511775Z"
    }
   },
   "outputs": [],
   "source": [
    "base_pred_path = f\"Clustering/{data_type}/BERTopic/pred\"\n",
    "base_model_path = f\"Clustering/{data_type}BERTopic/model\"\n",
    "base_prob_path = f\"Postprocessing/{data_type}/BERTopic/prob\""
   ]
  },
  {
   "cell_type": "markdown",
   "id": "72caa181",
   "metadata": {},
   "source": [
    "# Clustering"
   ]
  },
  {
   "cell_type": "code",
   "execution_count": 53,
   "id": "9d2a040c",
   "metadata": {
    "ExecuteTime": {
     "end_time": "2023-02-28T07:30:32.086617Z",
     "start_time": "2023-02-28T07:27:39.518291Z"
    }
   },
   "outputs": [
    {
     "name": "stderr",
     "output_type": "stream",
     "text": [
      "100%|██████████| 1/1 [02:52<00:00, 172.55s/it]\n"
     ]
    }
   ],
   "source": [
    "for model_num in tqdm(range(model_nums)):\n",
    "    topic_model = BERTopic()\n",
    "    topics, probs = topic_model.fit_transform(df.text)\n",
    "    topic_model.save(\n",
    "        make_filepath(f\"{root_path_temporary}{base_model_path}/{model_nums}.npy\")\n",
    "    )\n",
    "    np.save(\n",
    "        make_filepath(f\"{root_path_temporary}{base_pred_path}/{model_num}.npy\"), topics\n",
    "    )\n",
    "    np.save(\n",
    "        make_filepath(f\"{root_path_temporary}{base_prob_path}/{model_num}.npy\"), probs\n",
    "    )"
   ]
  },
  {
   "cell_type": "markdown",
   "id": "f3b26352",
   "metadata": {},
   "source": [
    "## upload file"
   ]
  },
  {
   "cell_type": "code",
   "execution_count": 54,
   "id": "a212baf9",
   "metadata": {
    "ExecuteTime": {
     "end_time": "2023-02-28T07:30:33.865701Z",
     "start_time": "2023-02-28T07:30:32.089572Z"
    },
    "scrolled": true
   },
   "outputs": [
    {
     "data": {
      "text/plain": [
       "'/home/jovyan/temporary/Clustering/TweetTopicBERTopic/model'"
      ]
     },
     "execution_count": 54,
     "metadata": {},
     "output_type": "execute_result"
    }
   ],
   "source": [
    "s3.upload(f\"{root_path_temporary}{base_pred_path}\")\n",
    "s3.upload(f\"{root_path_temporary}{base_prob_path}\")\n",
    "s3.upload(f\"{root_path_temporary}{base_model_path}\")"
   ]
  },
  {
   "cell_type": "code",
   "execution_count": 55,
   "id": "0aef5374",
   "metadata": {
    "ExecuteTime": {
     "end_time": "2023-02-28T07:30:33.916176Z",
     "start_time": "2023-02-28T07:30:33.868860Z"
    }
   },
   "outputs": [
    {
     "name": "stdout",
     "output_type": "stream",
     "text": [
      "/home/jovyan/temporary/Clustering/TweetTopic/BERTopic/pred\n",
      "/home/jovyan/temporary/Postprocessing/TweetTopic/BERTopic/prob\n",
      "/home/jovyan/temporary/Clustering/TweetTopicBERTopic/model\n",
      "/home/jovyan/temporary/Preprocessing/TweetTopic/master.csv\n",
      "/home/jovyan/temporary/Preprocessing/TweetTopic/class.csv\n"
     ]
    }
   ],
   "source": [
    "s3.delete_local_all()"
   ]
  },
  {
   "cell_type": "code",
   "execution_count": 56,
   "id": "2cddf594",
   "metadata": {
    "ExecuteTime": {
     "end_time": "2023-02-28T07:30:34.518474Z",
     "start_time": "2023-02-28T07:30:33.919349Z"
    }
   },
   "outputs": [],
   "source": [
    "send_line_notify(f\"BERTopic.ipynb {data_type} \")"
   ]
  },
  {
   "cell_type": "code",
   "execution_count": null,
   "id": "6ef7adf3",
   "metadata": {},
   "outputs": [],
   "source": []
  }
 ],
 "metadata": {
  "kernelspec": {
   "display_name": "Python 3 (ipykernel)",
   "language": "python",
   "name": "python3"
  },
  "language_info": {
   "codemirror_mode": {
    "name": "ipython",
    "version": 3
   },
   "file_extension": ".py",
   "mimetype": "text/x-python",
   "name": "python",
   "nbconvert_exporter": "python",
   "pygments_lexer": "ipython3",
   "version": "3.10.9"
  },
  "toc": {
   "base_numbering": 1,
   "nav_menu": {},
   "number_sections": true,
   "sideBar": true,
   "skip_h1_title": false,
   "title_cell": "Table of Contents",
   "title_sidebar": "Contents",
   "toc_cell": false,
   "toc_position": {},
   "toc_section_display": true,
   "toc_window_display": false
  }
 },
 "nbformat": 4,
 "nbformat_minor": 5
}
