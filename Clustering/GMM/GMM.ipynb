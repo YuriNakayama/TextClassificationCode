{
 "cells": [
  {
   "cell_type": "markdown",
   "id": "b95f9187",
   "metadata": {},
   "source": [
    "# Import"
   ]
  },
  {
   "cell_type": "code",
   "execution_count": 1,
   "id": "80a85ab5",
   "metadata": {
    "ExecuteTime": {
     "end_time": "2022-12-27T12:49:18.984660Z",
     "start_time": "2022-12-27T12:49:17.460992Z"
    }
   },
   "outputs": [],
   "source": [
    "import csv\n",
    "import os\n",
    "import pickle\n",
    "import sys\n",
    "\n",
    "import numpy as np\n",
    "import pandas as pd\n",
    "from sklearn.mixture import GaussianMixture\n",
    "from tqdm import tqdm"
   ]
  },
  {
   "cell_type": "markdown",
   "id": "6f4f62bd",
   "metadata": {},
   "source": [
    "## Add configuration file"
   ]
  },
  {
   "cell_type": "code",
   "execution_count": 2,
   "id": "d5ff7059",
   "metadata": {
    "ExecuteTime": {
     "end_time": "2022-12-27T12:49:18.993155Z",
     "start_time": "2022-12-27T12:49:18.990100Z"
    }
   },
   "outputs": [],
   "source": [
    "sys.path.append(\"/home/jovyan/core/config/\")\n",
    "sys.path.append(\"/home/jovyan/core/util/\")"
   ]
  },
  {
   "cell_type": "code",
   "execution_count": 3,
   "id": "157ce92a",
   "metadata": {
    "ExecuteTime": {
     "end_time": "2022-12-27T12:49:19.069893Z",
     "start_time": "2022-12-27T12:49:18.995200Z"
    }
   },
   "outputs": [],
   "source": [
    "from ALL import config \n",
    "from util import *"
   ]
  },
  {
   "cell_type": "markdown",
   "id": "b07ac6af",
   "metadata": {},
   "source": [
    "## Set condition"
   ]
  },
  {
   "cell_type": "code",
   "execution_count": 4,
   "id": "9d870465",
   "metadata": {
    "ExecuteTime": {
     "end_time": "2022-12-27T12:49:19.076815Z",
     "start_time": "2022-12-27T12:49:19.073368Z"
    }
   },
   "outputs": [],
   "source": [
    "tqdm.pandas()\n",
    "pd.set_option(\"display.max_columns\", 100)\n",
    "pd.set_option(\"display.max_rows\", 50)"
   ]
  },
  {
   "cell_type": "code",
   "execution_count": 5,
   "id": "ce45d384",
   "metadata": {
    "ExecuteTime": {
     "end_time": "2022-12-27T12:49:19.084766Z",
     "start_time": "2022-12-27T12:49:19.078684Z"
    }
   },
   "outputs": [],
   "source": [
    "data_type=\"AgNewsTitle\"\n",
    "vectorize_type = \"doc2vec\""
   ]
  },
  {
   "cell_type": "markdown",
   "id": "52c60a4f",
   "metadata": {},
   "source": [
    "# Read data"
   ]
  },
  {
   "cell_type": "code",
   "execution_count": 6,
   "id": "c81d3638",
   "metadata": {
    "ExecuteTime": {
     "end_time": "2022-12-27T12:49:19.861234Z",
     "start_time": "2022-12-27T12:49:19.086619Z"
    },
    "scrolled": true
   },
   "outputs": [],
   "source": [
    "df = pd.read_csv(\n",
    "    f\"../../Preprocessing/data/{data_type}/master.csv\", index_col=0\n",
    ")"
   ]
  },
  {
   "cell_type": "code",
   "execution_count": 7,
   "id": "95389cd0",
   "metadata": {
    "ExecuteTime": {
     "end_time": "2022-12-27T12:49:19.867363Z",
     "start_time": "2022-12-27T12:49:19.863408Z"
    }
   },
   "outputs": [],
   "source": [
    "with open(f\"../../Preprocessing/data/{data_type}/class.csv\", mode=\"r\") as f:\n",
    "    reader = csv.reader(f)\n",
    "    class_labels = [label for label in reader]"
   ]
  },
  {
   "cell_type": "code",
   "execution_count": 8,
   "id": "fec767ee",
   "metadata": {
    "ExecuteTime": {
     "end_time": "2022-12-27T12:49:19.874782Z",
     "start_time": "2022-12-27T12:49:19.869232Z"
    }
   },
   "outputs": [],
   "source": [
    "max_vector_model_num = config[\"vectorize\"][vectorize_type][\"max_model_num\"]\n",
    "vector_dims = config[\"vectorize\"][vectorize_type][\"dims\"]\n",
    "normalization = config[\"vectorize\"][vectorize_type][\"normalization\"]\n",
    "model_nums = config[\"clustering\"][\"gmm\"][\"max_model_num\"]\n",
    "covariance_types = config[\"clustering\"][\"gmm\"][\"covariance_types\"]"
   ]
  },
  {
   "cell_type": "code",
   "execution_count": 9,
   "id": "8a44baa8",
   "metadata": {
    "ExecuteTime": {
     "end_time": "2022-12-27T12:49:19.882618Z",
     "start_time": "2022-12-27T12:49:19.876689Z"
    }
   },
   "outputs": [],
   "source": [
    "n_components = config[\"data\"][data_type][\"class_num\"]"
   ]
  },
  {
   "cell_type": "markdown",
   "id": "c0d606a3",
   "metadata": {},
   "source": [
    "# Clustering"
   ]
  },
  {
   "cell_type": "code",
   "execution_count": 10,
   "id": "f1eb668d",
   "metadata": {
    "ExecuteTime": {
     "end_time": "2022-12-27T12:49:19.890002Z",
     "start_time": "2022-12-27T12:49:19.884384Z"
    },
    "code_folding": [
     1
    ]
   },
   "outputs": [],
   "source": [
    "def getGMM(vectors, n_components, covariance_type, seed, path):\n",
    "    gmm = GaussianMixture(\n",
    "        n_components=n_components,\n",
    "        covariance_type=covariance_type,\n",
    "        random_state=seed,\n",
    "        max_iter=200,\n",
    "    )\n",
    "    gmm.fit(vectors)\n",
    "    # save model\n",
    "    os.makedirs(os.path.dirname(path), exist_ok=True)\n",
    "    pickle.dump(gmm, open(path, \"wb\"))\n",
    "    pred = gmm.predict(vectors)\n",
    "    return pred"
   ]
  },
  {
   "cell_type": "code",
   "execution_count": null,
   "id": "8ff6c10b",
   "metadata": {
    "ExecuteTime": {
     "start_time": "2022-12-27T12:49:18.671Z"
    },
    "code_folding": []
   },
   "outputs": [
    {
     "name": "stderr",
     "output_type": "stream",
     "text": [
      " 89%|████████▉ | 8/9 [1:24:08<21:02, 1262.95s/it]"
     ]
    }
   ],
   "source": [
    "vectors_path = f\"../data/{data_type}/{vectorize_type}/vector\"\n",
    "models_path = f\"../data/{data_type}/{vectorize_type}/GMM/model\"\n",
    "pred_path = f\"../data/{data_type}/{vectorize_type}/GMM/pred\"\n",
    "for vector_model_num in range(max_vector_model_num):\n",
    "    for vector_dim in tqdm(vector_dims):\n",
    "        for model_num in range(model_nums):\n",
    "            for covariance_type in covariance_types:\n",
    "                vectors = np.load(f\"{vectors_path}/{vector_dim}/{normalization}/{vector_model_num}.npy\")\n",
    "\n",
    "                pred = getGMM(\n",
    "                    vectors,\n",
    "                    seed=model_num,\n",
    "                    n_components=n_components,\n",
    "                    covariance_type=covariance_type,\n",
    "                    path=f\"{models_path}/{vector_dim}/{normalization}/{covariance_type}/{model_num}.sav\",\n",
    "                )\n",
    "\n",
    "                # save prediction\n",
    "                np.save(\n",
    "                    make_filepath(\n",
    "                        f\"{pred_path}/{vector_dim}/{normalization}/{covariance_type}/{model_num}.npy\"\n",
    "                    ),\n",
    "                    pred,\n",
    "                )"
   ]
  },
  {
   "cell_type": "code",
   "execution_count": null,
   "id": "ec49b098",
   "metadata": {
    "ExecuteTime": {
     "start_time": "2022-12-27T12:49:18.838Z"
    }
   },
   "outputs": [],
   "source": [
    "send_line_notify(f\"end {data_type} {vectorize_type}\")"
   ]
  },
  {
   "cell_type": "code",
   "execution_count": null,
   "id": "f53640ea",
   "metadata": {},
   "outputs": [],
   "source": []
  },
  {
   "cell_type": "code",
   "execution_count": null,
   "id": "8493b6ef",
   "metadata": {},
   "outputs": [],
   "source": []
  },
  {
   "cell_type": "code",
   "execution_count": null,
   "id": "e926297f",
   "metadata": {},
   "outputs": [],
   "source": []
  }
 ],
 "metadata": {
  "kernelspec": {
   "display_name": "Python 3 (ipykernel)",
   "language": "python",
   "name": "python3"
  },
  "language_info": {
   "codemirror_mode": {
    "name": "ipython",
    "version": 3
   },
   "file_extension": ".py",
   "mimetype": "text/x-python",
   "name": "python",
   "nbconvert_exporter": "python",
   "pygments_lexer": "ipython3",
   "version": "3.10.8"
  },
  "toc": {
   "base_numbering": 1,
   "nav_menu": {},
   "number_sections": true,
   "sideBar": true,
   "skip_h1_title": false,
   "title_cell": "Table of Contents",
   "title_sidebar": "Contents",
   "toc_cell": false,
   "toc_position": {},
   "toc_section_display": true,
   "toc_window_display": false
  }
 },
 "nbformat": 4,
 "nbformat_minor": 5
}
