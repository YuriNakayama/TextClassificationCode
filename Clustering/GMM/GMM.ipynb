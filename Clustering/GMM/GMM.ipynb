{
 "cells": [
  {
   "cell_type": "markdown",
   "id": "b95f9187",
   "metadata": {},
   "source": [
    "# Import"
   ]
  },
  {
   "cell_type": "code",
   "execution_count": 45,
   "id": "80a85ab5",
   "metadata": {
    "ExecuteTime": {
     "end_time": "2023-01-14T09:07:44.509518Z",
     "start_time": "2023-01-14T09:07:44.505596Z"
    }
   },
   "outputs": [],
   "source": [
    "import csv\n",
    "import os\n",
    "import pickle\n",
    "import sys\n",
    "\n",
    "import numpy as np\n",
    "import pandas as pd\n",
    "from sklearn.metrics import adjusted_mutual_info_score\n",
    "from sklearn.mixture import GaussianMixture\n",
    "from tqdm import tqdm"
   ]
  },
  {
   "cell_type": "markdown",
   "id": "6f4f62bd",
   "metadata": {},
   "source": [
    "## Add configuration file"
   ]
  },
  {
   "cell_type": "code",
   "execution_count": 34,
   "id": "d5ff7059",
   "metadata": {
    "ExecuteTime": {
     "end_time": "2023-01-12T15:34:43.933471Z",
     "start_time": "2023-01-12T15:34:43.929991Z"
    }
   },
   "outputs": [],
   "source": [
    "sys.path.append(\"/home/jovyan/core/config/\")\n",
    "sys.path.append(\"/home/jovyan/core/util/\")"
   ]
  },
  {
   "cell_type": "code",
   "execution_count": 35,
   "id": "157ce92a",
   "metadata": {
    "ExecuteTime": {
     "end_time": "2023-01-12T15:34:44.019816Z",
     "start_time": "2023-01-12T15:34:44.016926Z"
    }
   },
   "outputs": [],
   "source": [
    "from ALL import config \n",
    "from util import *"
   ]
  },
  {
   "cell_type": "markdown",
   "id": "b07ac6af",
   "metadata": {},
   "source": [
    "## Set condition"
   ]
  },
  {
   "cell_type": "code",
   "execution_count": 36,
   "id": "9d870465",
   "metadata": {
    "ExecuteTime": {
     "end_time": "2023-01-12T15:34:44.188029Z",
     "start_time": "2023-01-12T15:34:44.184121Z"
    }
   },
   "outputs": [],
   "source": [
    "tqdm.pandas()\n",
    "pd.set_option(\"display.max_columns\", 100)\n",
    "pd.set_option(\"display.max_rows\", 50)"
   ]
  },
  {
   "cell_type": "code",
   "execution_count": 37,
   "id": "ce45d384",
   "metadata": {
    "ExecuteTime": {
     "end_time": "2023-01-12T15:34:44.270437Z",
     "start_time": "2023-01-12T15:34:44.267353Z"
    }
   },
   "outputs": [],
   "source": [
    "data_type=\"AgNewsTitle\"\n",
    "vectorize_type = \"sentenceBERT\""
   ]
  },
  {
   "cell_type": "markdown",
   "id": "52c60a4f",
   "metadata": {},
   "source": [
    "# Read data"
   ]
  },
  {
   "cell_type": "code",
   "execution_count": 38,
   "id": "c81d3638",
   "metadata": {
    "ExecuteTime": {
     "end_time": "2023-01-12T15:34:45.074803Z",
     "start_time": "2023-01-12T15:34:44.433433Z"
    },
    "scrolled": true
   },
   "outputs": [],
   "source": [
    "df = pd.read_csv(\n",
    "    f\"../../Preprocessing/data/{data_type}/master.csv\", index_col=0\n",
    ")"
   ]
  },
  {
   "cell_type": "code",
   "execution_count": 39,
   "id": "95389cd0",
   "metadata": {
    "ExecuteTime": {
     "end_time": "2023-01-12T15:34:45.081311Z",
     "start_time": "2023-01-12T15:34:45.077347Z"
    }
   },
   "outputs": [],
   "source": [
    "with open(f\"../../Preprocessing/data/{data_type}/class.csv\", mode=\"r\") as f:\n",
    "    reader = csv.reader(f)\n",
    "    class_labels = [label for label in reader]"
   ]
  },
  {
   "cell_type": "code",
   "execution_count": 40,
   "id": "fec767ee",
   "metadata": {
    "ExecuteTime": {
     "end_time": "2023-01-12T15:34:45.090182Z",
     "start_time": "2023-01-12T15:34:45.083243Z"
    }
   },
   "outputs": [],
   "source": [
    "max_vector_model_num = config[\"vectorize\"][vectorize_type][\"max_model_num\"]\n",
    "# vector_dims = config[\"vectorize\"][vectorize_type][\"dims\"]\n",
    "vector_dims = [20]\n",
    "normalization = config[\"vectorize\"][vectorize_type][\"normalization\"]\n",
    "# model_nums = config[\"clustering\"][\"gmm\"][\"max_model_num\"]\n",
    "model_nums = 10\n",
    "# covariance_types = config[\"clustering\"][\"gmm\"][\"covariance_types\"]\n",
    "covariance_types = [\"spherical\"]\n",
    "topic_nums = [2, 4, 8, 16, 32, 64, 128]"
   ]
  },
  {
   "cell_type": "code",
   "execution_count": 41,
   "id": "8a44baa8",
   "metadata": {
    "ExecuteTime": {
     "end_time": "2023-01-12T15:34:45.097381Z",
     "start_time": "2023-01-12T15:34:45.092958Z"
    }
   },
   "outputs": [],
   "source": [
    "# n_components = config[\"data\"][data_type][\"class_num\"]"
   ]
  },
  {
   "cell_type": "markdown",
   "id": "c0d606a3",
   "metadata": {},
   "source": [
    "# Clustering"
   ]
  },
  {
   "cell_type": "code",
   "execution_count": 42,
   "id": "f1eb668d",
   "metadata": {
    "ExecuteTime": {
     "end_time": "2023-01-12T15:34:45.127297Z",
     "start_time": "2023-01-12T15:34:45.123152Z"
    },
    "code_folding": []
   },
   "outputs": [],
   "source": [
    "def getGMM(vectors, n_components, covariance_type, seed, path):\n",
    "    gmm = GaussianMixture(\n",
    "        n_components=n_components,\n",
    "        covariance_type=covariance_type,\n",
    "        random_state=seed,\n",
    "        max_iter=400,\n",
    "        init_params=\"k-means++\",\n",
    "        n_init=3\n",
    "    )\n",
    "    gmm.fit(vectors)\n",
    "    # save model\n",
    "    os.makedirs(os.path.dirname(path), exist_ok=True)\n",
    "    pickle.dump(gmm, open(path, \"wb\"))\n",
    "    pred = gmm.predict(vectors)\n",
    "    return pred"
   ]
  },
  {
   "cell_type": "code",
   "execution_count": 43,
   "id": "8ff6c10b",
   "metadata": {
    "ExecuteTime": {
     "end_time": "2023-01-12T16:29:06.786403Z",
     "start_time": "2023-01-12T15:34:45.513400Z"
    },
    "code_folding": []
   },
   "outputs": [
    {
     "name": "stderr",
     "output_type": "stream",
     "text": [
      "100%|██████████| 1/1 [54:21<00:00, 3261.27s/it]\n"
     ]
    }
   ],
   "source": [
    "vectors_path = f\"../data/{data_type}/{vectorize_type}/vector\"\n",
    "models_path = f\"../data/{data_type}/{vectorize_type}/GMM/model\"\n",
    "pred_path = f\"../data/{data_type}/{vectorize_type}/GMM/pred\"\n",
    "for vector_model_num in range(max_vector_model_num):\n",
    "    for vector_dim in tqdm(vector_dims):\n",
    "        for model_num in range(model_nums):\n",
    "            for covariance_type in covariance_types:\n",
    "                for topic_num in topic_nums:\n",
    "                    vectors = np.load(\n",
    "                        f\"{vectors_path}/{vector_dim}/{normalization}/{vector_model_num}.npy\"\n",
    "                    )\n",
    "\n",
    "                    pred = getGMM(\n",
    "                        vectors,\n",
    "                        seed=model_num,\n",
    "                        n_components=topic_num,\n",
    "                        covariance_type=covariance_type,\n",
    "                        path=f\"{models_path}/{vector_dim}/{normalization}/{covariance_type}/{topic_num}/{model_num}.sav\",\n",
    "                    )\n",
    "\n",
    "                    # save prediction\n",
    "                    np.save(\n",
    "                        make_filepath(\n",
    "                            f\"{pred_path}/{vector_dim}/{normalization}/{covariance_type}/{topic_num}/{model_num}.npy\"\n",
    "                        ),\n",
    "                        pred,\n",
    "                    )"
   ]
  },
  {
   "cell_type": "code",
   "execution_count": 44,
   "id": "ec49b098",
   "metadata": {
    "ExecuteTime": {
     "end_time": "2023-01-12T16:29:07.422690Z",
     "start_time": "2023-01-12T16:29:06.788885Z"
    }
   },
   "outputs": [],
   "source": [
    "send_line_notify(f\"end {data_type} {vectorize_type}\")"
   ]
  },
  {
   "cell_type": "code",
   "execution_count": null,
   "id": "f53640ea",
   "metadata": {},
   "outputs": [],
   "source": []
  },
  {
   "cell_type": "code",
   "execution_count": null,
   "id": "41a7411c",
   "metadata": {},
   "outputs": [],
   "source": []
  },
  {
   "cell_type": "code",
   "execution_count": null,
   "id": "b3d05a89",
   "metadata": {},
   "outputs": [],
   "source": []
  },
  {
   "cell_type": "code",
   "execution_count": null,
   "id": "1a1f6d1d",
   "metadata": {},
   "outputs": [],
   "source": []
  },
  {
   "cell_type": "code",
   "execution_count": null,
   "id": "b1efab5a",
   "metadata": {},
   "outputs": [],
   "source": []
  }
 ],
 "metadata": {
  "kernelspec": {
   "display_name": "Python 3",
   "language": "python",
   "name": "python3"
  },
  "language_info": {
   "codemirror_mode": {
    "name": "ipython",
    "version": 3
   },
   "file_extension": ".py",
   "mimetype": "text/x-python",
   "name": "python",
   "nbconvert_exporter": "python",
   "pygments_lexer": "ipython3",
   "version": "3.10.6"
  },
  "toc": {
   "base_numbering": 1,
   "nav_menu": {},
   "number_sections": true,
   "sideBar": true,
   "skip_h1_title": false,
   "title_cell": "Table of Contents",
   "title_sidebar": "Contents",
   "toc_cell": false,
   "toc_position": {},
   "toc_section_display": true,
   "toc_window_display": false
  },
  "vscode": {
   "interpreter": {
    "hash": "31f2aee4e71d21fbe5cf8b01ff0e069b9275f58929596ceb00d14d90e3e16cd6"
   }
  }
 },
 "nbformat": 4,
 "nbformat_minor": 5
}
