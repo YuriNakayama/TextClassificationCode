{
 "cells": [
  {
   "cell_type": "markdown",
   "id": "b95f9187",
   "metadata": {},
   "source": [
    "# Import"
   ]
  },
  {
   "cell_type": "code",
   "execution_count": 1,
   "id": "80a85ab5",
   "metadata": {
    "ExecuteTime": {
     "end_time": "2022-12-18T13:35:05.987841Z",
     "start_time": "2022-12-18T13:35:05.335665Z"
    }
   },
   "outputs": [],
   "source": [
    "import csv\n",
    "import os\n",
    "import pickle\n",
    "import sys\n",
    "\n",
    "import numpy as np\n",
    "import pandas as pd\n",
    "from sklearn.mixture import GaussianMixture\n",
    "from tqdm import tqdm"
   ]
  },
  {
   "cell_type": "markdown",
   "id": "6f4f62bd",
   "metadata": {},
   "source": [
    "## Add configuration file"
   ]
  },
  {
   "cell_type": "code",
   "execution_count": 2,
   "id": "d5ff7059",
   "metadata": {
    "ExecuteTime": {
     "end_time": "2022-12-18T13:35:05.993350Z",
     "start_time": "2022-12-18T13:35:05.990382Z"
    }
   },
   "outputs": [],
   "source": [
    "sys.path.append(\"/home/jovyan/core/config/\")\n",
    "sys.path.append(\"/home/jovyan/core/util/\")"
   ]
  },
  {
   "cell_type": "code",
   "execution_count": 3,
   "id": "157ce92a",
   "metadata": {
    "ExecuteTime": {
     "end_time": "2022-12-18T13:35:06.033866Z",
     "start_time": "2022-12-18T13:35:05.995511Z"
    }
   },
   "outputs": [],
   "source": [
    "from ALL import config \n",
    "from util import *"
   ]
  },
  {
   "cell_type": "markdown",
   "id": "b07ac6af",
   "metadata": {},
   "source": [
    "## Set condition"
   ]
  },
  {
   "cell_type": "code",
   "execution_count": 4,
   "id": "9d870465",
   "metadata": {
    "ExecuteTime": {
     "end_time": "2022-12-18T13:35:06.041921Z",
     "start_time": "2022-12-18T13:35:06.036957Z"
    }
   },
   "outputs": [],
   "source": [
    "tqdm.pandas()\n",
    "pd.set_option(\"display.max_columns\", 100)\n",
    "pd.set_option(\"display.max_rows\", 50)"
   ]
  },
  {
   "cell_type": "code",
   "execution_count": 5,
   "id": "ce45d384",
   "metadata": {
    "ExecuteTime": {
     "end_time": "2022-12-18T13:35:06.048397Z",
     "start_time": "2022-12-18T13:35:06.043718Z"
    }
   },
   "outputs": [],
   "source": [
    "data_type=\"AgNews\"\n",
    "vectorize_type = \"sentenceBERT\""
   ]
  },
  {
   "cell_type": "markdown",
   "id": "52c60a4f",
   "metadata": {},
   "source": [
    "# Read data"
   ]
  },
  {
   "cell_type": "code",
   "execution_count": 6,
   "id": "c81d3638",
   "metadata": {
    "ExecuteTime": {
     "end_time": "2022-12-18T13:35:06.976984Z",
     "start_time": "2022-12-18T13:35:06.050129Z"
    },
    "scrolled": true
   },
   "outputs": [],
   "source": [
    "df = pd.read_csv(\n",
    "    f\"../../Preprocessing/data/{data_type}/master.csv\", index_col=0\n",
    ")"
   ]
  },
  {
   "cell_type": "code",
   "execution_count": 7,
   "id": "95389cd0",
   "metadata": {
    "ExecuteTime": {
     "end_time": "2022-12-18T13:35:06.984468Z",
     "start_time": "2022-12-18T13:35:06.980517Z"
    }
   },
   "outputs": [],
   "source": [
    "with open(f\"../../Preprocessing/data/{data_type}/class.csv\", mode=\"r\") as f:\n",
    "    reader = csv.reader(f)\n",
    "    class_labels = [label for label in reader]"
   ]
  },
  {
   "cell_type": "code",
   "execution_count": 8,
   "id": "fec767ee",
   "metadata": {
    "ExecuteTime": {
     "end_time": "2022-12-18T13:35:06.994239Z",
     "start_time": "2022-12-18T13:35:06.986630Z"
    }
   },
   "outputs": [],
   "source": [
    "max_vector_model_num = config[\"vectorize\"][vectorize_type][\"max_model_num\"]\n",
    "vector_dims = config[\"vectorize\"][vectorize_type][\"dims\"]\n",
    "model_nums = config[\"clustering\"][\"gmm\"][\"max_model_num\"]\n",
    "covariance_types = config[\"clustering\"][\"gmm\"][\"covariance_types\"]"
   ]
  },
  {
   "cell_type": "code",
   "execution_count": 9,
   "id": "8a44baa8",
   "metadata": {
    "ExecuteTime": {
     "end_time": "2022-12-18T13:35:07.005659Z",
     "start_time": "2022-12-18T13:35:06.996103Z"
    }
   },
   "outputs": [],
   "source": [
    "n_components = config[\"data\"][data_type][\"class_num\"]"
   ]
  },
  {
   "cell_type": "markdown",
   "id": "c0d606a3",
   "metadata": {},
   "source": [
    "# Clustering"
   ]
  },
  {
   "cell_type": "code",
   "execution_count": 10,
   "id": "f1eb668d",
   "metadata": {
    "ExecuteTime": {
     "end_time": "2022-12-18T13:35:07.013618Z",
     "start_time": "2022-12-18T13:35:07.008890Z"
    },
    "code_folding": [
     1
    ]
   },
   "outputs": [],
   "source": [
    "def getGMM(vectors, n_components, covariance_type, seed, path):\n",
    "    gmm = GaussianMixture(\n",
    "        n_components=n_components,\n",
    "        covariance_type=covariance_type,\n",
    "        random_state=seed,\n",
    "        max_iter=200,\n",
    "    )\n",
    "    gmm.fit(vectors)\n",
    "    # save model\n",
    "    os.makedirs(os.path.dirname(path), exist_ok=True)\n",
    "    pickle.dump(gmm, open(path, \"wb\"))\n",
    "    pred = gmm.predict(vectors)\n",
    "    return pred"
   ]
  },
  {
   "cell_type": "code",
   "execution_count": 12,
   "id": "8ff6c10b",
   "metadata": {
    "ExecuteTime": {
     "end_time": "2022-12-18T13:45:27.506379Z",
     "start_time": "2022-12-18T13:44:43.385002Z"
    },
    "code_folding": []
   },
   "outputs": [
    {
     "name": "stderr",
     "output_type": "stream",
     "text": [
      "100%|██████████| 9/9 [00:44<00:00,  4.90s/it]\n"
     ]
    }
   ],
   "source": [
    "vectors_path = f\"../data/{data_type}/{vectorize_type}/vector\"\n",
    "models_path = f\"../data/{data_type}/{vectorize_type}/GMM/model\"\n",
    "pred_path = f\"../data/{data_type}/{vectorize_type}/GMM/pred\"\n",
    "for vector_model_num in range(max_vector_model_num):\n",
    "    for vector_dim in tqdm(vector_dims):\n",
    "        for model_num in range(model_nums):\n",
    "            for covariance_type in covariance_types:\n",
    "                vector_path = (\n",
    "                    f\"{vectors_path}/{vector_dim}/normalized/{vector_model_num}.npy\"\n",
    "                )\n",
    "                vectors = np.load(vector_path)\n",
    "\n",
    "                pred = getGMM(\n",
    "                    vectors,\n",
    "                    seed=model_num,\n",
    "                    n_components=n_components,\n",
    "                    covariance_type=covariance_type,\n",
    "                    path=f\"{models_path}/{vector_dim}/{covariance_type}/{model_num}.sav\",\n",
    "                )\n",
    "\n",
    "                # save prediction\n",
    "                np.save(\n",
    "                    make_filepath(\n",
    "                        f\"{pred_path}/{vector_dim}/{covariance_type}/{model_num}.npy\"\n",
    "                    ),\n",
    "                    pred,\n",
    "                )"
   ]
  },
  {
   "cell_type": "code",
   "execution_count": null,
   "id": "e9cba5f0",
   "metadata": {},
   "outputs": [],
   "source": []
  }
 ],
 "metadata": {
  "kernelspec": {
   "display_name": "Python 3 (ipykernel)",
   "language": "python",
   "name": "python3"
  },
  "language_info": {
   "codemirror_mode": {
    "name": "ipython",
    "version": 3
   },
   "file_extension": ".py",
   "mimetype": "text/x-python",
   "name": "python",
   "nbconvert_exporter": "python",
   "pygments_lexer": "ipython3",
   "version": "3.10.8"
  },
  "toc": {
   "base_numbering": 1,
   "nav_menu": {},
   "number_sections": true,
   "sideBar": true,
   "skip_h1_title": false,
   "title_cell": "Table of Contents",
   "title_sidebar": "Contents",
   "toc_cell": false,
   "toc_position": {},
   "toc_section_display": true,
   "toc_window_display": false
  }
 },
 "nbformat": 4,
 "nbformat_minor": 5
}
