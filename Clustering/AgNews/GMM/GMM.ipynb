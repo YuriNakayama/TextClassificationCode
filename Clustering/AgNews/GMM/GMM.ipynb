{
 "cells": [
  {
   "cell_type": "markdown",
   "id": "b95f9187",
   "metadata": {},
   "source": [
    "# Import"
   ]
  },
  {
   "cell_type": "code",
   "execution_count": 1,
   "id": "80a85ab5",
   "metadata": {
    "ExecuteTime": {
     "end_time": "2022-12-04T17:53:08.783468Z",
     "start_time": "2022-12-04T17:53:04.430614Z"
    }
   },
   "outputs": [
    {
     "name": "stderr",
     "output_type": "stream",
     "text": [
      "<jemalloc>: MADV_DONTNEED does not work (memset will be used instead)\n",
      "<jemalloc>: (This is the expected behaviour if you are running under QEMU)\n"
     ]
    }
   ],
   "source": [
    "import csv\n",
    "import os\n",
    "import pickle\n",
    "import sys\n",
    "\n",
    "import numpy as np\n",
    "import pandas as pd\n",
    "from sklearn.mixture import GaussianMixture\n",
    "from tqdm import tqdm"
   ]
  },
  {
   "cell_type": "markdown",
   "id": "6f4f62bd",
   "metadata": {},
   "source": [
    "## Add configuration file"
   ]
  },
  {
   "cell_type": "code",
   "execution_count": 2,
   "id": "d5ff7059",
   "metadata": {
    "ExecuteTime": {
     "end_time": "2022-12-04T17:53:08.813352Z",
     "start_time": "2022-12-04T17:53:08.796494Z"
    }
   },
   "outputs": [],
   "source": [
    "sys.path.append(\"/home/jovyan/core/config/\")"
   ]
  },
  {
   "cell_type": "code",
   "execution_count": 3,
   "id": "157ce92a",
   "metadata": {
    "ExecuteTime": {
     "end_time": "2022-12-04T17:53:08.877284Z",
     "start_time": "2022-12-04T17:53:08.834675Z"
    }
   },
   "outputs": [],
   "source": [
    "from ALL import config "
   ]
  },
  {
   "cell_type": "markdown",
   "id": "b07ac6af",
   "metadata": {},
   "source": [
    "## Set condition"
   ]
  },
  {
   "cell_type": "code",
   "execution_count": 4,
   "id": "9d870465",
   "metadata": {
    "ExecuteTime": {
     "end_time": "2022-12-04T17:53:08.924449Z",
     "start_time": "2022-12-04T17:53:08.895858Z"
    }
   },
   "outputs": [],
   "source": [
    "tqdm.pandas()\n",
    "pd.set_option(\"display.max_columns\", 100)\n",
    "pd.set_option(\"display.max_rows\", 50)"
   ]
  },
  {
   "cell_type": "markdown",
   "id": "52c60a4f",
   "metadata": {},
   "source": [
    "# Read data"
   ]
  },
  {
   "cell_type": "code",
   "execution_count": 5,
   "id": "c81d3638",
   "metadata": {
    "ExecuteTime": {
     "end_time": "2022-12-04T17:53:15.974529Z",
     "start_time": "2022-12-04T17:53:08.938767Z"
    },
    "scrolled": true
   },
   "outputs": [],
   "source": [
    "ag_news_df = pd.read_csv(\"../../../Preprocessing/data/AgNews/master.csv\", index_col=0)"
   ]
  },
  {
   "cell_type": "code",
   "execution_count": 6,
   "id": "95389cd0",
   "metadata": {
    "ExecuteTime": {
     "end_time": "2022-12-04T17:53:16.012563Z",
     "start_time": "2022-12-04T17:53:15.984291Z"
    }
   },
   "outputs": [],
   "source": [
    "with open(\"../../../Preprocessing/data/AgNews/class.csv\", mode=\"r\") as f:\n",
    "    reader = csv.reader(f)\n",
    "    class_labels = [label for label in reader]"
   ]
  },
  {
   "cell_type": "code",
   "execution_count": 7,
   "id": "fec767ee",
   "metadata": {
    "ExecuteTime": {
     "end_time": "2022-12-04T17:53:16.069091Z",
     "start_time": "2022-12-04T17:53:16.024821Z"
    }
   },
   "outputs": [],
   "source": [
    "vector_dims = config[\"vectorize\"][\"doc2vec\"][\"dims\"]\n",
    "model_nums = config[\"clustering\"][\"gmm\"][\"max_model_num\"]\n",
    "vector_model_num = config[\"vectorize\"][\"doc2vec\"][\"max_model_num\"]\n",
    "covariance_types = config[\"clustering\"][\"gmm\"][\"covariance_types\"]"
   ]
  },
  {
   "cell_type": "code",
   "execution_count": 8,
   "id": "8a44baa8",
   "metadata": {
    "ExecuteTime": {
     "end_time": "2022-12-04T17:53:16.133199Z",
     "start_time": "2022-12-04T17:53:16.080830Z"
    }
   },
   "outputs": [],
   "source": [
    "n_components = 4"
   ]
  },
  {
   "cell_type": "code",
   "execution_count": 9,
   "id": "f1eb668d",
   "metadata": {
    "ExecuteTime": {
     "end_time": "2022-12-04T17:53:16.203339Z",
     "start_time": "2022-12-04T17:53:16.149383Z"
    }
   },
   "outputs": [],
   "source": [
    "def getGMM(vectors, n_components, covariance_type, seed, path):\n",
    "    gmm = GaussianMixture(\n",
    "        n_components=n_components, covariance_type=covariance_type, random_state=seed\n",
    "    )\n",
    "    gmm.fit(vectors)\n",
    "    # save model\n",
    "    os.makedirs(os.path.dirname(path), exist_ok=True)\n",
    "    pickle.dump(gmm, open(path, \"wb\"))\n",
    "    pred = gmm.predict(vectors)\n",
    "    return pred"
   ]
  },
  {
   "cell_type": "code",
   "execution_count": null,
   "id": "8ff6c10b",
   "metadata": {
    "ExecuteTime": {
     "start_time": "2022-12-04T17:53:05.790Z"
    },
    "code_folding": []
   },
   "outputs": [
    {
     "name": "stderr",
     "output_type": "stream",
     "text": [
      " 86%|████████▌ | 12/14 [8:01:01<4:06:11, 7385.97s/it]"
     ]
    }
   ],
   "source": [
    "vectors_path = \"../../data/AgNews/doc2vec/vector/\"\n",
    "models_path = \"../../data/AgNews/doc2vec/GMM/model/\"\n",
    "pred_path = \"../../data/AgNews/doc2vec/GMM/pred/\"\n",
    "for vector_dim in tqdm(vector_dims):\n",
    "    for model_num in range(model_nums):\n",
    "        for covariance_type in covariance_types:\n",
    "            vector_path = (\n",
    "                f\"{vectors_path}{vector_dim}/normalized/{vector_model_num}.csv\"\n",
    "            )\n",
    "            vectors = np.loadtxt(vector_path, delimiter=\",\")\n",
    "\n",
    "            pred = getGMM(\n",
    "                vectors,\n",
    "                seed=model_num,\n",
    "                n_components=n_components,\n",
    "                covariance_type=covariance_type,\n",
    "                path=f\"{models_path}{vector_dim}/{covariance_type}/{model_num}.sav\",\n",
    "            )\n",
    "\n",
    "            # save prediction\n",
    "            os.makedirs(f\"{pred_path}{vector_dim}/{covariance_type}\", exist_ok=True)\n",
    "            with open(\n",
    "                f\"{pred_path}{vector_dim}/{covariance_type}/{model_num}.csv\", \"w\"\n",
    "            ) as f:\n",
    "                writer = csv.writer(f)\n",
    "                writer.writerow(pred)"
   ]
  },
  {
   "cell_type": "code",
   "execution_count": null,
   "id": "027ee276",
   "metadata": {},
   "outputs": [],
   "source": []
  }
 ],
 "metadata": {
  "kernelspec": {
   "display_name": "Python 3 (ipykernel)",
   "language": "python",
   "name": "python3"
  },
  "language_info": {
   "codemirror_mode": {
    "name": "ipython",
    "version": 3
   },
   "file_extension": ".py",
   "mimetype": "text/x-python",
   "name": "python",
   "nbconvert_exporter": "python",
   "pygments_lexer": "ipython3",
   "version": "3.10.6"
  },
  "toc": {
   "base_numbering": 1,
   "nav_menu": {},
   "number_sections": true,
   "sideBar": true,
   "skip_h1_title": false,
   "title_cell": "Table of Contents",
   "title_sidebar": "Contents",
   "toc_cell": false,
   "toc_position": {},
   "toc_section_display": true,
   "toc_window_display": false
  }
 },
 "nbformat": 4,
 "nbformat_minor": 5
}
