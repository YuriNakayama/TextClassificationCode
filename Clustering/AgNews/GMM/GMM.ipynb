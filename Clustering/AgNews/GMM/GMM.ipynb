{
 "cells": [
  {
   "cell_type": "markdown",
   "id": "b95f9187",
   "metadata": {},
   "source": [
    "# Import"
   ]
  },
  {
   "cell_type": "code",
   "execution_count": 11,
   "id": "80a85ab5",
   "metadata": {
    "ExecuteTime": {
     "end_time": "2022-12-05T12:40:37.663620Z",
     "start_time": "2022-12-05T12:40:37.660282Z"
    }
   },
   "outputs": [],
   "source": [
    "import csv\n",
    "import os\n",
    "import pickle\n",
    "import sys\n",
    "\n",
    "import numpy as np\n",
    "import pandas as pd\n",
    "from sklearn.mixture import GaussianMixture\n",
    "from tqdm import tqdm"
   ]
  },
  {
   "cell_type": "markdown",
   "id": "6f4f62bd",
   "metadata": {},
   "source": [
    "## Add configuration file"
   ]
  },
  {
   "cell_type": "code",
   "execution_count": 12,
   "id": "d5ff7059",
   "metadata": {
    "ExecuteTime": {
     "end_time": "2022-12-05T12:40:38.234251Z",
     "start_time": "2022-12-05T12:40:38.231128Z"
    }
   },
   "outputs": [],
   "source": [
    "sys.path.append(\"/home/jovyan/core/config/\")"
   ]
  },
  {
   "cell_type": "code",
   "execution_count": 13,
   "id": "157ce92a",
   "metadata": {
    "ExecuteTime": {
     "end_time": "2022-12-05T12:40:38.317882Z",
     "start_time": "2022-12-05T12:40:38.314546Z"
    }
   },
   "outputs": [],
   "source": [
    "from ALL import config "
   ]
  },
  {
   "cell_type": "markdown",
   "id": "b07ac6af",
   "metadata": {},
   "source": [
    "## Set condition"
   ]
  },
  {
   "cell_type": "code",
   "execution_count": 14,
   "id": "9d870465",
   "metadata": {
    "ExecuteTime": {
     "end_time": "2022-12-05T12:40:38.486240Z",
     "start_time": "2022-12-05T12:40:38.482514Z"
    }
   },
   "outputs": [],
   "source": [
    "tqdm.pandas()\n",
    "pd.set_option(\"display.max_columns\", 100)\n",
    "pd.set_option(\"display.max_rows\", 50)"
   ]
  },
  {
   "cell_type": "markdown",
   "id": "52c60a4f",
   "metadata": {},
   "source": [
    "# Read data"
   ]
  },
  {
   "cell_type": "code",
   "execution_count": 15,
   "id": "c81d3638",
   "metadata": {
    "ExecuteTime": {
     "end_time": "2022-12-05T12:40:40.093284Z",
     "start_time": "2022-12-05T12:40:38.648917Z"
    },
    "scrolled": true
   },
   "outputs": [],
   "source": [
    "ag_news_df = pd.read_csv(\"../../../Preprocessing/data/AgNews/master.csv\", index_col=0)"
   ]
  },
  {
   "cell_type": "code",
   "execution_count": 16,
   "id": "95389cd0",
   "metadata": {
    "ExecuteTime": {
     "end_time": "2022-12-05T12:40:40.099677Z",
     "start_time": "2022-12-05T12:40:40.096271Z"
    }
   },
   "outputs": [],
   "source": [
    "with open(\"../../../Preprocessing/data/AgNews/class.csv\", mode=\"r\") as f:\n",
    "    reader = csv.reader(f)\n",
    "    class_labels = [label for label in reader]"
   ]
  },
  {
   "cell_type": "code",
   "execution_count": 17,
   "id": "fec767ee",
   "metadata": {
    "ExecuteTime": {
     "end_time": "2022-12-05T12:40:40.106669Z",
     "start_time": "2022-12-05T12:40:40.101946Z"
    }
   },
   "outputs": [],
   "source": [
    "vector_dims = config[\"vectorize\"][\"doc2vec\"][\"dims\"]\n",
    "model_nums = config[\"clustering\"][\"gmm\"][\"max_model_num\"]\n",
    "vector_model_num = config[\"vectorize\"][\"doc2vec\"][\"max_model_num\"]\n",
    "covariance_types = config[\"clustering\"][\"gmm\"][\"covariance_types\"]"
   ]
  },
  {
   "cell_type": "code",
   "execution_count": 18,
   "id": "8a44baa8",
   "metadata": {
    "ExecuteTime": {
     "end_time": "2022-12-05T12:40:40.112155Z",
     "start_time": "2022-12-05T12:40:40.109157Z"
    }
   },
   "outputs": [],
   "source": [
    "n_components = 4"
   ]
  },
  {
   "cell_type": "code",
   "execution_count": 19,
   "id": "f1eb668d",
   "metadata": {
    "ExecuteTime": {
     "end_time": "2022-12-05T12:40:40.118125Z",
     "start_time": "2022-12-05T12:40:40.114293Z"
    }
   },
   "outputs": [],
   "source": [
    "def getGMM(vectors, n_components, covariance_type, seed, path):\n",
    "    gmm = GaussianMixture(\n",
    "        n_components=n_components, covariance_type=covariance_type, random_state=seed\n",
    "    )\n",
    "    gmm.fit(vectors)\n",
    "    # save model\n",
    "    os.makedirs(os.path.dirname(path), exist_ok=True)\n",
    "    pickle.dump(gmm, open(path, \"wb\"))\n",
    "    pred = gmm.predict(vectors)\n",
    "    return pred"
   ]
  },
  {
   "cell_type": "code",
   "execution_count": 20,
   "id": "8ff6c10b",
   "metadata": {
    "ExecuteTime": {
     "end_time": "2022-12-05T14:05:04.694682Z",
     "start_time": "2022-12-05T12:40:40.120489Z"
    },
    "code_folding": []
   },
   "outputs": [
    {
     "name": "stderr",
     "output_type": "stream",
     "text": [
      " 86%|████████▌ | 12/14 [20:41<09:09, 274.66s/it]/opt/conda/lib/python3.10/site-packages/sklearn/mixture/_base.py:286: ConvergenceWarning: Initialization 1 did not converge. Try different init parameters, or increase max_iter, tol or check for degenerate data.\n",
      "  warnings.warn(\n",
      " 93%|█████████▎| 13/14 [39:11<08:47, 527.76s/it]/opt/conda/lib/python3.10/site-packages/sklearn/mixture/_base.py:286: ConvergenceWarning: Initialization 1 did not converge. Try different init parameters, or increase max_iter, tol or check for degenerate data.\n",
      "  warnings.warn(\n",
      "100%|██████████| 14/14 [1:24:24<00:00, 361.75s/it] \n"
     ]
    }
   ],
   "source": [
    "vectors_path = \"../../data/AgNews/doc2vec/vector/\"\n",
    "models_path = \"../../data/AgNews/doc2vec/GMM/model/\"\n",
    "pred_path = \"../../data/AgNews/doc2vec/GMM/pred/\"\n",
    "for vector_dim in tqdm(vector_dims):\n",
    "    for model_num in range(model_nums):\n",
    "        for covariance_type in covariance_types:\n",
    "            vector_path = (\n",
    "                f\"{vectors_path}{vector_dim}/normalized/{vector_model_num}.csv\"\n",
    "            )\n",
    "            vectors = np.loadtxt(vector_path, delimiter=\",\")\n",
    "\n",
    "            pred = getGMM(\n",
    "                vectors,\n",
    "                seed=model_num,\n",
    "                n_components=n_components,\n",
    "                covariance_type=covariance_type,\n",
    "                path=f\"{models_path}{vector_dim}/{covariance_type}/{model_num}.sav\",\n",
    "            )\n",
    "\n",
    "            # save prediction\n",
    "            os.makedirs(f\"{pred_path}{vector_dim}/{covariance_type}\", exist_ok=True)\n",
    "            with open(\n",
    "                f\"{pred_path}{vector_dim}/{covariance_type}/{model_num}.csv\", \"w\"\n",
    "            ) as f:\n",
    "                writer = csv.writer(f)\n",
    "                writer.writerow(pred)"
   ]
  },
  {
   "cell_type": "code",
   "execution_count": null,
   "id": "027ee276",
   "metadata": {},
   "outputs": [],
   "source": []
  }
 ],
 "metadata": {
  "kernelspec": {
   "display_name": "Python 3 (ipykernel)",
   "language": "python",
   "name": "python3"
  },
  "language_info": {
   "codemirror_mode": {
    "name": "ipython",
    "version": 3
   },
   "file_extension": ".py",
   "mimetype": "text/x-python",
   "name": "python",
   "nbconvert_exporter": "python",
   "pygments_lexer": "ipython3",
   "version": "3.10.8"
  },
  "toc": {
   "base_numbering": 1,
   "nav_menu": {},
   "number_sections": true,
   "sideBar": true,
   "skip_h1_title": false,
   "title_cell": "Table of Contents",
   "title_sidebar": "Contents",
   "toc_cell": false,
   "toc_position": {},
   "toc_section_display": true,
   "toc_window_display": false
  }
 },
 "nbformat": 4,
 "nbformat_minor": 5
}
