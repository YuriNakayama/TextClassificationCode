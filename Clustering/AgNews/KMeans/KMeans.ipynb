{
 "cells": [
  {
   "cell_type": "markdown",
   "id": "b95f9187",
   "metadata": {},
   "source": [
    "# Import"
   ]
  },
  {
   "cell_type": "code",
   "execution_count": 7,
   "id": "80a85ab5",
   "metadata": {
    "ExecuteTime": {
     "end_time": "2022-12-02T03:03:35.909621Z",
     "start_time": "2022-12-02T03:03:35.886530Z"
    }
   },
   "outputs": [],
   "source": [
    "import csv\n",
    "import os\n",
    "import pickle\n",
    "\n",
    "import numpy as np\n",
    "import pandas as pd\n",
    "from sklearn.cluster import KMeans\n",
    "from tqdm import tqdm"
   ]
  },
  {
   "cell_type": "code",
   "execution_count": 8,
   "id": "9d870465",
   "metadata": {
    "ExecuteTime": {
     "end_time": "2022-12-02T03:03:36.206432Z",
     "start_time": "2022-12-02T03:03:36.182261Z"
    }
   },
   "outputs": [],
   "source": [
    "tqdm.pandas()"
   ]
  },
  {
   "cell_type": "markdown",
   "id": "52c60a4f",
   "metadata": {},
   "source": [
    "# Read data"
   ]
  },
  {
   "cell_type": "code",
   "execution_count": 9,
   "id": "c81d3638",
   "metadata": {
    "ExecuteTime": {
     "end_time": "2022-12-02T03:03:40.418505Z",
     "start_time": "2022-12-02T03:03:36.644718Z"
    },
    "scrolled": true
   },
   "outputs": [],
   "source": [
    "ag_news_df = pd.read_csv(\"../../../Preprocessing/data/AgNews/master.csv\", index_col=0)"
   ]
  },
  {
   "cell_type": "code",
   "execution_count": 10,
   "id": "95389cd0",
   "metadata": {
    "ExecuteTime": {
     "end_time": "2022-12-02T03:03:40.447515Z",
     "start_time": "2022-12-02T03:03:40.427607Z"
    }
   },
   "outputs": [],
   "source": [
    "with open(\"../../../Preprocessing/data/AgNews/class.csv\", mode=\"r\") as f:\n",
    "    reader = csv.reader(f)\n",
    "    class_labels = [label for label in reader]"
   ]
  },
  {
   "cell_type": "code",
   "execution_count": 11,
   "id": "fec767ee",
   "metadata": {
    "ExecuteTime": {
     "end_time": "2022-12-02T03:03:40.492947Z",
     "start_time": "2022-12-02T03:03:40.459370Z"
    }
   },
   "outputs": [],
   "source": [
    "vector_sizes = [2, 3, 4, 6, 7, 8, 9, 10, 20, 40, 80, 160, 320, 640]"
   ]
  },
  {
   "cell_type": "code",
   "execution_count": 12,
   "id": "e73c9732",
   "metadata": {
    "ExecuteTime": {
     "end_time": "2022-12-02T03:03:40.539944Z",
     "start_time": "2022-12-02T03:03:40.509416Z"
    }
   },
   "outputs": [],
   "source": [
    "model_nums = 2\n",
    "vector_model_num = 0"
   ]
  },
  {
   "cell_type": "code",
   "execution_count": 13,
   "id": "f1eb668d",
   "metadata": {
    "ExecuteTime": {
     "end_time": "2022-12-02T03:03:40.586999Z",
     "start_time": "2022-12-02T03:03:40.551030Z"
    }
   },
   "outputs": [],
   "source": [
    "def getKMeans(vectors, seed, path):\n",
    "    model = KMeans(\n",
    "        n_clusters=4, random_state=seed\n",
    "    )\n",
    "    model.fit(vectors)\n",
    "    pickle.dump(model, open(path, \"wb\"))\n",
    "    pred = model.predict(vectors)\n",
    "    return pred"
   ]
  },
  {
   "cell_type": "code",
   "execution_count": 14,
   "id": "8ff6c10b",
   "metadata": {
    "ExecuteTime": {
     "end_time": "2022-12-02T04:34:52.236201Z",
     "start_time": "2022-12-02T03:03:40.598540Z"
    },
    "code_folding": []
   },
   "outputs": [
    {
     "name": "stderr",
     "output_type": "stream",
     "text": [
      "100%|██████████| 14/14 [1:31:11<00:00, 390.82s/it] \n"
     ]
    }
   ],
   "source": [
    "vectors_path = \"../../data/AgNews/doc2vec/vector/\"\n",
    "models_path = \"../../data/AgNews/doc2vec/KMeans/model/\"\n",
    "pred_path = \"../../data/AgNews/doc2vec/KMeans/pred/\"\n",
    "for vector_size in tqdm(vector_sizes):\n",
    "    for model_num in range(model_nums):\n",
    "        vector_path = f\"{vectors_path}{vector_size}/normalized/{vector_model_num}.csv\"\n",
    "        vectors = np.loadtxt(vector_path, delimiter=\",\")\n",
    "        \n",
    "        os.makedirs(f\"{models_path}{vector_size}\", exist_ok=True)\n",
    "        pred = getKMeans(vectors, seed=model_num, path=f\"{models_path}{vector_size}/{model_num}.sav\")\n",
    "        \n",
    "        # save prediction\n",
    "        os.makedirs(f\"{pred_path}{vector_size}\", exist_ok=True)\n",
    "        with open(f\"{pred_path}{vector_size}/{model_num}.csv\", \"w\") as f:\n",
    "            writer = csv.writer(f)\n",
    "            writer.writerow(pred)"
   ]
  },
  {
   "cell_type": "code",
   "execution_count": null,
   "id": "027ee276",
   "metadata": {},
   "outputs": [],
   "source": []
  }
 ],
 "metadata": {
  "kernelspec": {
   "display_name": "Python 3 (ipykernel)",
   "language": "python",
   "name": "python3"
  },
  "language_info": {
   "codemirror_mode": {
    "name": "ipython",
    "version": 3
   },
   "file_extension": ".py",
   "mimetype": "text/x-python",
   "name": "python",
   "nbconvert_exporter": "python",
   "pygments_lexer": "ipython3",
   "version": "3.10.6"
  },
  "toc": {
   "base_numbering": 1,
   "nav_menu": {},
   "number_sections": true,
   "sideBar": true,
   "skip_h1_title": false,
   "title_cell": "Table of Contents",
   "title_sidebar": "Contents",
   "toc_cell": false,
   "toc_position": {},
   "toc_section_display": true,
   "toc_window_display": false
  }
 },
 "nbformat": 4,
 "nbformat_minor": 5
}
