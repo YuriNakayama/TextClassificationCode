{
 "cells": [
  {
   "cell_type": "markdown",
   "id": "b95f9187",
   "metadata": {},
   "source": [
    "# Import"
   ]
  },
  {
   "cell_type": "code",
   "execution_count": 1,
   "id": "80a85ab5",
   "metadata": {
    "ExecuteTime": {
     "end_time": "2022-12-04T07:34:28.956672Z",
     "start_time": "2022-12-04T07:34:25.242592Z"
    }
   },
   "outputs": [
    {
     "name": "stderr",
     "output_type": "stream",
     "text": [
      "<jemalloc>: MADV_DONTNEED does not work (memset will be used instead)\n",
      "<jemalloc>: (This is the expected behaviour if you are running under QEMU)\n"
     ]
    }
   ],
   "source": [
    "import csv\n",
    "import os\n",
    "import pickle\n",
    "import sys\n",
    "\n",
    "import numpy as np\n",
    "import pandas as pd\n",
    "from sklearn.cluster import KMeans\n",
    "from tqdm import tqdm"
   ]
  },
  {
   "cell_type": "markdown",
   "id": "82ebbe22",
   "metadata": {},
   "source": [
    "## Add configuration file"
   ]
  },
  {
   "cell_type": "code",
   "execution_count": 2,
   "id": "2c6f6a3a",
   "metadata": {
    "ExecuteTime": {
     "end_time": "2022-12-04T07:34:28.984876Z",
     "start_time": "2022-12-04T07:34:28.969048Z"
    }
   },
   "outputs": [],
   "source": [
    "sys.path.append(\"/home/jovyan/core/config/\")"
   ]
  },
  {
   "cell_type": "code",
   "execution_count": 3,
   "id": "abf2afd6",
   "metadata": {
    "ExecuteTime": {
     "end_time": "2022-12-04T07:34:29.075789Z",
     "start_time": "2022-12-04T07:34:28.998916Z"
    }
   },
   "outputs": [],
   "source": [
    "from ALL import config "
   ]
  },
  {
   "cell_type": "markdown",
   "id": "28da3700",
   "metadata": {},
   "source": [
    "## Set condition"
   ]
  },
  {
   "cell_type": "code",
   "execution_count": 4,
   "id": "9d870465",
   "metadata": {
    "ExecuteTime": {
     "end_time": "2022-12-04T07:34:29.116888Z",
     "start_time": "2022-12-04T07:34:29.091191Z"
    }
   },
   "outputs": [],
   "source": [
    "tqdm.pandas()\n",
    "pd.set_option(\"display.max_columns\", 100)\n",
    "pd.set_option(\"display.max_rows\", 50)"
   ]
  },
  {
   "cell_type": "markdown",
   "id": "52c60a4f",
   "metadata": {},
   "source": [
    "# Read data"
   ]
  },
  {
   "cell_type": "code",
   "execution_count": 5,
   "id": "c81d3638",
   "metadata": {
    "ExecuteTime": {
     "end_time": "2022-12-04T07:34:33.897385Z",
     "start_time": "2022-12-04T07:34:29.145529Z"
    },
    "scrolled": true
   },
   "outputs": [],
   "source": [
    "ag_news_df = pd.read_csv(\"../../../Preprocessing/data/AgNews/master.csv\", index_col=0)"
   ]
  },
  {
   "cell_type": "code",
   "execution_count": 6,
   "id": "95389cd0",
   "metadata": {
    "ExecuteTime": {
     "end_time": "2022-12-04T07:34:33.952945Z",
     "start_time": "2022-12-04T07:34:33.911441Z"
    }
   },
   "outputs": [],
   "source": [
    "with open(\"../../../Preprocessing/data/AgNews/class.csv\", mode=\"r\") as f:\n",
    "    reader = csv.reader(f)\n",
    "    class_labels = [label for label in reader]"
   ]
  },
  {
   "cell_type": "code",
   "execution_count": 9,
   "id": "6c6d937b",
   "metadata": {
    "ExecuteTime": {
     "end_time": "2022-12-04T07:35:19.108151Z",
     "start_time": "2022-12-04T07:35:19.090834Z"
    }
   },
   "outputs": [],
   "source": [
    "vector_dims = config[\"vectorize\"][\"doc2vec\"][\"dims\"]\n",
    "model_nums = config[\"clustering\"][\"kmeans\"][\"max_model_num\"]\n",
    "vector_model_num = config[\"vectorize\"][\"doc2vec\"][\"max_model_num\"]"
   ]
  },
  {
   "cell_type": "code",
   "execution_count": 10,
   "id": "9848d5bf",
   "metadata": {
    "ExecuteTime": {
     "end_time": "2022-12-04T07:35:19.431167Z",
     "start_time": "2022-12-04T07:35:19.421223Z"
    }
   },
   "outputs": [],
   "source": [
    "n_components = 4"
   ]
  },
  {
   "cell_type": "code",
   "execution_count": 11,
   "id": "f1eb668d",
   "metadata": {
    "ExecuteTime": {
     "end_time": "2022-12-04T07:35:19.856346Z",
     "start_time": "2022-12-04T07:35:19.834626Z"
    }
   },
   "outputs": [],
   "source": [
    "def getKMeans(vectors, n_components, seed, path):\n",
    "    model = KMeans(n_clusters=n_components, random_state=seed)\n",
    "    model.fit(vectors)\n",
    "    # save model\n",
    "    os.makedirs(os.path.dirname(path), exist_ok=True)\n",
    "    pickle.dump(model, open(path, \"wb\"))\n",
    "    pred = model.predict(vectors)\n",
    "    return pred"
   ]
  },
  {
   "cell_type": "code",
   "execution_count": null,
   "id": "8ff6c10b",
   "metadata": {
    "ExecuteTime": {
     "start_time": "2022-12-04T07:35:22.590Z"
    },
    "code_folding": [],
    "scrolled": true
   },
   "outputs": [
    {
     "name": "stderr",
     "output_type": "stream",
     "text": [
      " 43%|████▎     | 6/14 [02:45<03:43, 27.96s/it]"
     ]
    }
   ],
   "source": [
    "vectors_path = \"../../data/AgNews/doc2vec/vector/\"\n",
    "models_path = \"../../data/AgNews/doc2vec/KMeans/model/\"\n",
    "pred_path = \"../../data/AgNews/doc2vec/KMeans/pred/\"\n",
    "for vector_dim in tqdm(vector_dims):\n",
    "    for model_num in range(model_nums):\n",
    "        vector_path = f\"{vectors_path}{vector_dims}/normalized/{vector_model_num}.csv\"\n",
    "        vectors = np.loadtxt(vector_path, delimiter=\",\")\n",
    "\n",
    "        os.makedirs(f\"{models_path}{vector_dims}\", exist_ok=True)\n",
    "        pred = getKMeans(\n",
    "            vectors,\n",
    "            seed=model_num,\n",
    "            n_components=n_components,\n",
    "            path=f\"{models_path}{vector_dims}/{model_num}.sav\",\n",
    "        )\n",
    "\n",
    "        # save prediction\n",
    "        os.makedirs(f\"{pred_path}{vector_dims}\", exist_ok=True)\n",
    "        with open(f\"{pred_path}{vector_dims}/{model_num}.csv\", \"w\") as f:\n",
    "            writer = csv.writer(f)\n",
    "            writer.writerow(pred)"
   ]
  },
  {
   "cell_type": "code",
   "execution_count": null,
   "id": "027ee276",
   "metadata": {},
   "outputs": [],
   "source": []
  }
 ],
 "metadata": {
  "kernelspec": {
   "display_name": "Python 3 (ipykernel)",
   "language": "python",
   "name": "python3"
  },
  "language_info": {
   "codemirror_mode": {
    "name": "ipython",
    "version": 3
   },
   "file_extension": ".py",
   "mimetype": "text/x-python",
   "name": "python",
   "nbconvert_exporter": "python",
   "pygments_lexer": "ipython3",
   "version": "3.10.6"
  },
  "toc": {
   "base_numbering": 1,
   "nav_menu": {},
   "number_sections": true,
   "sideBar": true,
   "skip_h1_title": false,
   "title_cell": "Table of Contents",
   "title_sidebar": "Contents",
   "toc_cell": false,
   "toc_position": {},
   "toc_section_display": true,
   "toc_window_display": false
  }
 },
 "nbformat": 4,
 "nbformat_minor": 5
}
