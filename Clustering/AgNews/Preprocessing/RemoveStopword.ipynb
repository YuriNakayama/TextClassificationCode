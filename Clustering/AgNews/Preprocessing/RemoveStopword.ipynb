{
 "cells": [
  {
   "cell_type": "markdown",
   "id": "b95f9187",
   "metadata": {},
   "source": [
    "# Import"
   ]
  },
  {
   "cell_type": "code",
   "execution_count": 1,
   "id": "80a85ab5",
   "metadata": {
    "ExecuteTime": {
     "end_time": "2022-12-04T08:27:24.977959Z",
     "start_time": "2022-12-04T08:27:16.810159Z"
    }
   },
   "outputs": [
    {
     "name": "stderr",
     "output_type": "stream",
     "text": [
      "<jemalloc>: MADV_DONTNEED does not work (memset will be used instead)\n",
      "<jemalloc>: (This is the expected behaviour if you are running under QEMU)\n"
     ]
    }
   ],
   "source": [
    "import csv\n",
    "import os\n",
    "import pickle\n",
    "import sys\n",
    "\n",
    "import pandas as pd\n",
    "from nltk import word_tokenize\n",
    "from stop_words import get_stop_words\n",
    "from nltk.corpus import stopwords\n",
    "from tqdm import tqdm"
   ]
  },
  {
   "cell_type": "markdown",
   "id": "e6a1d47b",
   "metadata": {},
   "source": [
    "## Add configuration file"
   ]
  },
  {
   "cell_type": "code",
   "execution_count": 2,
   "id": "659ebe42",
   "metadata": {
    "ExecuteTime": {
     "end_time": "2022-12-04T08:27:25.007456Z",
     "start_time": "2022-12-04T08:27:24.990124Z"
    }
   },
   "outputs": [],
   "source": [
    "sys.path.append(\"/home/jovyan/core/config/\")"
   ]
  },
  {
   "cell_type": "code",
   "execution_count": 3,
   "id": "f981dd29",
   "metadata": {
    "ExecuteTime": {
     "end_time": "2022-12-04T08:27:25.118397Z",
     "start_time": "2022-12-04T08:27:25.033349Z"
    }
   },
   "outputs": [],
   "source": [
    "from ALL import config "
   ]
  },
  {
   "cell_type": "markdown",
   "id": "4b711448",
   "metadata": {},
   "source": [
    "## Set condition"
   ]
  },
  {
   "cell_type": "code",
   "execution_count": 4,
   "id": "9d870465",
   "metadata": {
    "ExecuteTime": {
     "end_time": "2022-12-04T08:27:25.185288Z",
     "start_time": "2022-12-04T08:27:25.133650Z"
    }
   },
   "outputs": [],
   "source": [
    "tqdm.pandas()\n",
    "pd.set_option(\"display.max_columns\", 100)\n",
    "pd.set_option(\"display.max_rows\", 50)"
   ]
  },
  {
   "cell_type": "markdown",
   "id": "52c60a4f",
   "metadata": {},
   "source": [
    "# Read data"
   ]
  },
  {
   "cell_type": "code",
   "execution_count": 13,
   "id": "c81d3638",
   "metadata": {
    "ExecuteTime": {
     "end_time": "2022-12-04T08:29:17.366191Z",
     "start_time": "2022-12-04T08:29:08.316150Z"
    },
    "scrolled": true
   },
   "outputs": [],
   "source": [
    "newsgroups_df = pd.read_csv(\n",
    "    \"../../../Preprocessing/data/AgNews/master.csv\", index_col=0\n",
    ").sample(n=1000)"
   ]
  },
  {
   "cell_type": "code",
   "execution_count": 14,
   "id": "95389cd0",
   "metadata": {
    "ExecuteTime": {
     "end_time": "2022-12-04T08:29:20.617055Z",
     "start_time": "2022-12-04T08:29:20.580397Z"
    }
   },
   "outputs": [],
   "source": [
    "with open(\"../../../Preprocessing/data/AgNews/class.csv\", mode=\"r\") as f:\n",
    "    reader = csv.reader(f)\n",
    "    class_labels = [label for label in reader][0]"
   ]
  },
  {
   "cell_type": "markdown",
   "id": "c933011d",
   "metadata": {},
   "source": [
    "# Word tokenize"
   ]
  },
  {
   "cell_type": "code",
   "execution_count": 15,
   "id": "4d9fa698",
   "metadata": {
    "ExecuteTime": {
     "end_time": "2022-12-04T08:29:25.333712Z",
     "start_time": "2022-12-04T08:29:21.081124Z"
    }
   },
   "outputs": [
    {
     "name": "stderr",
     "output_type": "stream",
     "text": [
      "100%|██████████| 1000/1000 [00:04<00:00, 239.03it/s]\n"
     ]
    }
   ],
   "source": [
    "newsgroups_df[\"words\"] = newsgroups_df.text.progress_apply(word_tokenize)"
   ]
  },
  {
   "cell_type": "code",
   "execution_count": 16,
   "id": "bc7400a3",
   "metadata": {
    "ExecuteTime": {
     "end_time": "2022-12-04T08:29:25.428885Z",
     "start_time": "2022-12-04T08:29:25.380626Z"
    }
   },
   "outputs": [],
   "source": [
    "stop_words_add = [\"would\", \"could\", \"should\"]\n",
    "stop_char = [\"==\", \"--\", \"\\'s\", \"''\", \"n't\", \"``\",\"..\", \"...\", \"....\", \"'m\", \"'ve\", \"'d\", \"'ll\", \"\"]\n",
    "stop_words = set(stopwords.words(\"english\") + get_stop_words(\"english\") + stop_words_add + stop_char)"
   ]
  },
  {
   "cell_type": "code",
   "execution_count": 17,
   "id": "c568c628",
   "metadata": {
    "ExecuteTime": {
     "end_time": "2022-12-04T08:29:25.732591Z",
     "start_time": "2022-12-04T08:29:25.487301Z"
    }
   },
   "outputs": [
    {
     "name": "stderr",
     "output_type": "stream",
     "text": [
      "100%|██████████| 1000/1000 [00:00<00:00, 5684.28it/s]\n"
     ]
    }
   ],
   "source": [
    "#     一文字以下の単語とstop_word, stop_charを削除\n",
    "newsgroups_df[\"words_nonstop\"] = newsgroups_df.words.progress_apply(\n",
    "    lambda words: [\n",
    "        word for word in words if word.lower() not in stop_words if len(word) > 1\n",
    "    ]\n",
    ")"
   ]
  },
  {
   "cell_type": "code",
   "execution_count": 18,
   "id": "e43af9cc",
   "metadata": {
    "ExecuteTime": {
     "end_time": "2022-12-04T08:29:25.950154Z",
     "start_time": "2022-12-04T08:29:25.781310Z"
    }
   },
   "outputs": [
    {
     "name": "stderr",
     "output_type": "stream",
     "text": [
      "100%|██████████| 1000/1000 [00:00<00:00, 28892.36it/s]\n",
      "100%|██████████| 1000/1000 [00:00<00:00, 21791.31it/s]\n"
     ]
    }
   ],
   "source": [
    "newsgroups_df.words = newsgroups_df.words.progress_apply(lambda words: \" \".join(words))\n",
    "newsgroups_df.words_nonstop = newsgroups_df.words_nonstop.progress_apply(\n",
    "    lambda words: \" \".join(words)\n",
    ")"
   ]
  },
  {
   "cell_type": "code",
   "execution_count": 19,
   "id": "58668cf5",
   "metadata": {
    "ExecuteTime": {
     "end_time": "2022-12-04T08:29:26.091109Z",
     "start_time": "2022-12-04T08:29:25.969468Z"
    }
   },
   "outputs": [
    {
     "data": {
      "text/html": [
       "<div>\n",
       "<style scoped>\n",
       "    .dataframe tbody tr th:only-of-type {\n",
       "        vertical-align: middle;\n",
       "    }\n",
       "\n",
       "    .dataframe tbody tr th {\n",
       "        vertical-align: top;\n",
       "    }\n",
       "\n",
       "    .dataframe thead th {\n",
       "        text-align: right;\n",
       "    }\n",
       "</style>\n",
       "<table border=\"1\" class=\"dataframe\">\n",
       "  <thead>\n",
       "    <tr style=\"text-align: right;\">\n",
       "      <th></th>\n",
       "      <th>class</th>\n",
       "      <th>title</th>\n",
       "      <th>text</th>\n",
       "      <th>words</th>\n",
       "      <th>words_nonstop</th>\n",
       "    </tr>\n",
       "  </thead>\n",
       "  <tbody>\n",
       "    <tr>\n",
       "      <th>13671</th>\n",
       "      <td>Business</td>\n",
       "      <td>July market commentary</td>\n",
       "      <td>Financial markets had a very tough month, cha...</td>\n",
       "      <td>Financial markets had a very tough month , cha...</td>\n",
       "      <td>Financial markets tough month characterised lo...</td>\n",
       "    </tr>\n",
       "    <tr>\n",
       "      <th>119887</th>\n",
       "      <td>Sports</td>\n",
       "      <td>Wake Forest Hopes to Bounce Back (AP)</td>\n",
       "      <td>AP - Like most of his peers, Wake Forest coach...</td>\n",
       "      <td>AP - Like most of his peers , Wake Forest coac...</td>\n",
       "      <td>AP Like peers Wake Forest coach Skip Prosser w...</td>\n",
       "    </tr>\n",
       "    <tr>\n",
       "      <th>107251</th>\n",
       "      <td>World</td>\n",
       "      <td>Panel Calls for Sweeping U.N. Reform (AP)</td>\n",
       "      <td>AP - A high-level panel called for sweeping re...</td>\n",
       "      <td>AP - A high-level panel called for sweeping re...</td>\n",
       "      <td>AP high-level panel called sweeping reform Uni...</td>\n",
       "    </tr>\n",
       "    <tr>\n",
       "      <th>26240</th>\n",
       "      <td>World</td>\n",
       "      <td>Russian terrorism prompts power grab</td>\n",
       "      <td>MOSCOW - In the aftermath of a wave of terror ...</td>\n",
       "      <td>MOSCOW - In the aftermath of a wave of terror ...</td>\n",
       "      <td>MOSCOW aftermath wave terror attacks President...</td>\n",
       "    </tr>\n",
       "    <tr>\n",
       "      <th>75767</th>\n",
       "      <td>Business</td>\n",
       "      <td>When two become one</td>\n",
       "      <td>Rivalry between the Dutch and British has a lo...</td>\n",
       "      <td>Rivalry between the Dutch and British has a lo...</td>\n",
       "      <td>Rivalry Dutch British long history 1652 1672 t...</td>\n",
       "    </tr>\n",
       "  </tbody>\n",
       "</table>\n",
       "</div>"
      ],
      "text/plain": [
       "           class                                      title  \\\n",
       "13671   Business                     July market commentary   \n",
       "119887    Sports      Wake Forest Hopes to Bounce Back (AP)   \n",
       "107251     World  Panel Calls for Sweeping U.N. Reform (AP)   \n",
       "26240      World       Russian terrorism prompts power grab   \n",
       "75767   Business                        When two become one   \n",
       "\n",
       "                                                     text  \\\n",
       "13671    Financial markets had a very tough month, cha...   \n",
       "119887  AP - Like most of his peers, Wake Forest coach...   \n",
       "107251  AP - A high-level panel called for sweeping re...   \n",
       "26240   MOSCOW - In the aftermath of a wave of terror ...   \n",
       "75767   Rivalry between the Dutch and British has a lo...   \n",
       "\n",
       "                                                    words  \\\n",
       "13671   Financial markets had a very tough month , cha...   \n",
       "119887  AP - Like most of his peers , Wake Forest coac...   \n",
       "107251  AP - A high-level panel called for sweeping re...   \n",
       "26240   MOSCOW - In the aftermath of a wave of terror ...   \n",
       "75767   Rivalry between the Dutch and British has a lo...   \n",
       "\n",
       "                                            words_nonstop  \n",
       "13671   Financial markets tough month characterised lo...  \n",
       "119887  AP Like peers Wake Forest coach Skip Prosser w...  \n",
       "107251  AP high-level panel called sweeping reform Uni...  \n",
       "26240   MOSCOW aftermath wave terror attacks President...  \n",
       "75767   Rivalry Dutch British long history 1652 1672 t...  "
      ]
     },
     "execution_count": 19,
     "metadata": {},
     "output_type": "execute_result"
    }
   ],
   "source": [
    "newsgroups_df.head()"
   ]
  },
  {
   "cell_type": "code",
   "execution_count": null,
   "id": "0a48e3dd",
   "metadata": {},
   "outputs": [],
   "source": []
  }
 ],
 "metadata": {
  "kernelspec": {
   "display_name": "Python 3 (ipykernel)",
   "language": "python",
   "name": "python3"
  },
  "language_info": {
   "codemirror_mode": {
    "name": "ipython",
    "version": 3
   },
   "file_extension": ".py",
   "mimetype": "text/x-python",
   "name": "python",
   "nbconvert_exporter": "python",
   "pygments_lexer": "ipython3",
   "version": "3.10.6"
  },
  "toc": {
   "base_numbering": 1,
   "nav_menu": {},
   "number_sections": true,
   "sideBar": true,
   "skip_h1_title": false,
   "title_cell": "Table of Contents",
   "title_sidebar": "Contents",
   "toc_cell": false,
   "toc_position": {},
   "toc_section_display": true,
   "toc_window_display": false
  }
 },
 "nbformat": 4,
 "nbformat_minor": 5
}
