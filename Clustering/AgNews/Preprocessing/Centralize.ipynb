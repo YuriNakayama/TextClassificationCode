{
 "cells": [
  {
   "cell_type": "markdown",
   "id": "b95f9187",
   "metadata": {},
   "source": [
    "# Import"
   ]
  },
  {
   "cell_type": "code",
   "execution_count": 1,
   "id": "80a85ab5",
   "metadata": {
    "ExecuteTime": {
     "end_time": "2022-12-05T12:11:22.614751Z",
     "start_time": "2022-12-05T12:11:22.308030Z"
    }
   },
   "outputs": [],
   "source": [
    "import csv\n",
    "import os\n",
    "\n",
    "import numpy as np\n",
    "import pandas as pd\n",
    "from glob import glob\n",
    "from tqdm import tqdm"
   ]
  },
  {
   "cell_type": "code",
   "execution_count": 2,
   "id": "9d870465",
   "metadata": {
    "ExecuteTime": {
     "end_time": "2022-12-05T12:11:22.620968Z",
     "start_time": "2022-12-05T12:11:22.617813Z"
    }
   },
   "outputs": [],
   "source": [
    "tqdm.pandas()"
   ]
  },
  {
   "cell_type": "markdown",
   "id": "52c60a4f",
   "metadata": {},
   "source": [
    "# Read data"
   ]
  },
  {
   "cell_type": "code",
   "execution_count": 3,
   "id": "c81d3638",
   "metadata": {
    "ExecuteTime": {
     "end_time": "2022-12-05T12:11:23.664376Z",
     "start_time": "2022-12-05T12:11:22.622838Z"
    },
    "scrolled": true
   },
   "outputs": [],
   "source": [
    "ag_news_df = pd.read_csv(\"../../../Preprocessing/data/AgNews/master.csv\", index_col=0)"
   ]
  },
  {
   "cell_type": "code",
   "execution_count": 4,
   "id": "95389cd0",
   "metadata": {
    "ExecuteTime": {
     "end_time": "2022-12-05T12:11:23.670899Z",
     "start_time": "2022-12-05T12:11:23.667516Z"
    }
   },
   "outputs": [],
   "source": [
    "with open(\"../../../Preprocessing/data/AgNews/class.csv\", mode=\"r\") as f:\n",
    "    reader = csv.reader(f)\n",
    "    class_labels = [label for label in reader]"
   ]
  },
  {
   "cell_type": "code",
   "execution_count": 5,
   "id": "fec767ee",
   "metadata": {
    "ExecuteTime": {
     "end_time": "2022-12-05T12:11:23.686703Z",
     "start_time": "2022-12-05T12:11:23.672820Z"
    }
   },
   "outputs": [],
   "source": [
    "vector_sizes = [2, 3, 4, 6, 7, 8, 9, 10, 20, 40, 80, 160, 320, 640]"
   ]
  },
  {
   "cell_type": "markdown",
   "id": "a2df58ce",
   "metadata": {},
   "source": [
    "# Functions"
   ]
  },
  {
   "cell_type": "code",
   "execution_count": 6,
   "id": "68b65fff",
   "metadata": {
    "ExecuteTime": {
     "end_time": "2022-12-05T12:11:23.701403Z",
     "start_time": "2022-12-05T12:11:23.688644Z"
    }
   },
   "outputs": [],
   "source": [
    "def centralize_array(array):\n",
    "    return array - np.mean(array, axis=0)"
   ]
  },
  {
   "cell_type": "code",
   "execution_count": 7,
   "id": "9479c965",
   "metadata": {
    "ExecuteTime": {
     "end_time": "2022-12-05T12:11:23.718179Z",
     "start_time": "2022-12-05T12:11:23.703650Z"
    }
   },
   "outputs": [],
   "source": [
    "def normarize_array(array):\n",
    "    return array / np.sqrt(np.sum(array * array, axis=1).reshape(-1, 1))"
   ]
  },
  {
   "cell_type": "code",
   "execution_count": 8,
   "id": "033a6224",
   "metadata": {
    "ExecuteTime": {
     "end_time": "2022-12-05T12:11:23.729152Z",
     "start_time": "2022-12-05T12:11:23.721176Z"
    }
   },
   "outputs": [],
   "source": [
    "def normarize_vector(vector):\n",
    "    return vector / np.sqrt(np.sum(vector * vector))"
   ]
  },
  {
   "cell_type": "code",
   "execution_count": 9,
   "id": "b934f994",
   "metadata": {
    "ExecuteTime": {
     "end_time": "2022-12-05T12:11:23.735779Z",
     "start_time": "2022-12-05T12:11:23.730868Z"
    }
   },
   "outputs": [],
   "source": [
    "def get_average_vector(vectors):\n",
    "    sum_vector = np.sum(vectors, axis=0)\n",
    "    return normarize_vector(sum_vector)"
   ]
  },
  {
   "cell_type": "markdown",
   "id": "25d197b9",
   "metadata": {},
   "source": [
    "# Centralize"
   ]
  },
  {
   "cell_type": "code",
   "execution_count": 10,
   "id": "c6680ee2",
   "metadata": {
    "ExecuteTime": {
     "end_time": "2022-12-05T12:18:38.046741Z",
     "start_time": "2022-12-05T12:11:25.124808Z"
    }
   },
   "outputs": [
    {
     "name": "stderr",
     "output_type": "stream",
     "text": [
      "100%|██████████| 14/14 [07:12<00:00, 30.92s/it]\n"
     ]
    }
   ],
   "source": [
    "vectors_path = \"../../../Vectorize/data/AgNews/doc2vec/vector/\"\n",
    "converted_vectors_path = \"../../data/AgNews/doc2vec/vector/\"\n",
    "for vector_size in tqdm(vector_sizes):\n",
    "    vector_path = f\"{vectors_path}{vector_size}/\"\n",
    "    for _path in glob(vector_path + \"*\"):\n",
    "        vector = np.loadtxt(_path, delimiter=\",\")\n",
    "        centralized_vector = centralize_array(vector)\n",
    "        normarized_vector = normarize_array(centralized_vector)\n",
    "\n",
    "        model_num = os.path.splitext(os.path.basename(_path))[0]\n",
    "        converted_vector_path = f\"{converted_vectors_path}/{vector_size}/\"\n",
    "\n",
    "        centralized_path = f\"{converted_vector_path}centralized/\"\n",
    "        os.makedirs(centralized_path, exist_ok=True)\n",
    "        np.savetxt(f\"{centralized_path}{model_num}.csv\", centralized_vector, delimiter=\",\")\n",
    "        \n",
    "        normarized_path = f\"{converted_vector_path}normalized/\"\n",
    "        os.makedirs(normarized_path, exist_ok=True)\n",
    "        np.savetxt(f\"{normarized_path}{model_num}.csv\", normarized_vector, delimiter=\",\")"
   ]
  },
  {
   "cell_type": "code",
   "execution_count": null,
   "id": "7bef18bb",
   "metadata": {},
   "outputs": [],
   "source": []
  },
  {
   "cell_type": "code",
   "execution_count": null,
   "id": "3326a5cc",
   "metadata": {},
   "outputs": [],
   "source": []
  }
 ],
 "metadata": {
  "kernelspec": {
   "display_name": "Python 3 (ipykernel)",
   "language": "python",
   "name": "python3"
  },
  "language_info": {
   "codemirror_mode": {
    "name": "ipython",
    "version": 3
   },
   "file_extension": ".py",
   "mimetype": "text/x-python",
   "name": "python",
   "nbconvert_exporter": "python",
   "pygments_lexer": "ipython3",
   "version": "3.10.8"
  },
  "toc": {
   "base_numbering": 1,
   "nav_menu": {},
   "number_sections": true,
   "sideBar": true,
   "skip_h1_title": false,
   "title_cell": "Table of Contents",
   "title_sidebar": "Contents",
   "toc_cell": false,
   "toc_position": {},
   "toc_section_display": true,
   "toc_window_display": false
  }
 },
 "nbformat": 4,
 "nbformat_minor": 5
}
