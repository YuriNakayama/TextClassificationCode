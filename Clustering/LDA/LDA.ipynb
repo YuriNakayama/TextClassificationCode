{
 "cells": [
  {
   "cell_type": "markdown",
   "id": "b95f9187",
   "metadata": {},
   "source": [
    "# Import"
   ]
  },
  {
   "cell_type": "code",
   "execution_count": 1,
   "id": "80a85ab5",
   "metadata": {
    "ExecuteTime": {
     "end_time": "2022-12-18T13:05:15.843190Z",
     "start_time": "2022-12-18T13:05:15.018174Z"
    }
   },
   "outputs": [
    {
     "name": "stderr",
     "output_type": "stream",
     "text": [
      "/opt/conda/lib/python3.10/site-packages/past/builtins/misc.py:45: DeprecationWarning: the imp module is deprecated in favour of importlib and slated for removal in Python 3.12; see the module's documentation for alternative uses\n",
      "  from imp import reload\n",
      "/opt/conda/lib/python3.10/site-packages/gensim/matutils.py:22: DeprecationWarning: Please use `triu` from the `scipy.linalg` namespace, the `scipy.linalg.special_matrices` namespace is deprecated.\n",
      "  from scipy.linalg.special_matrices import triu\n"
     ]
    }
   ],
   "source": [
    "import csv\n",
    "import os\n",
    "import pickle\n",
    "import sys\n",
    "\n",
    "import numpy as np\n",
    "import pandas as pd\n",
    "import pyLDAvis\n",
    "import pyLDAvis.gensim_models as gensimvis\n",
    "from gensim.corpora.dictionary import Dictionary\n",
    "from gensim.models.ldamodel import LdaModel\n",
    "from smart_open import open\n",
    "from tqdm import tqdm"
   ]
  },
  {
   "cell_type": "markdown",
   "id": "2543f4e4",
   "metadata": {},
   "source": [
    "## Add configuration file"
   ]
  },
  {
   "cell_type": "code",
   "execution_count": 2,
   "id": "b62547de",
   "metadata": {
    "ExecuteTime": {
     "end_time": "2022-12-18T13:05:15.848664Z",
     "start_time": "2022-12-18T13:05:15.845897Z"
    }
   },
   "outputs": [],
   "source": [
    "sys.path.append(\"/home/jovyan/core/config/\")"
   ]
  },
  {
   "cell_type": "code",
   "execution_count": 3,
   "id": "84da401b",
   "metadata": {
    "ExecuteTime": {
     "end_time": "2022-12-18T13:05:15.855061Z",
     "start_time": "2022-12-18T13:05:15.850866Z"
    }
   },
   "outputs": [],
   "source": [
    "from ALL import config "
   ]
  },
  {
   "cell_type": "markdown",
   "id": "9330548e",
   "metadata": {},
   "source": [
    "## Set condition"
   ]
  },
  {
   "cell_type": "code",
   "execution_count": 4,
   "id": "a30f3623",
   "metadata": {
    "ExecuteTime": {
     "end_time": "2022-12-18T13:05:15.862345Z",
     "start_time": "2022-12-18T13:05:15.857690Z"
    }
   },
   "outputs": [],
   "source": [
    "tqdm.pandas()\n",
    "pd.set_option(\"display.max_columns\", 100)\n",
    "pd.set_option(\"display.max_rows\", 50)"
   ]
  },
  {
   "cell_type": "code",
   "execution_count": 5,
   "id": "0f9b2269",
   "metadata": {
    "ExecuteTime": {
     "end_time": "2022-12-18T13:05:15.922208Z",
     "start_time": "2022-12-18T13:05:15.917452Z"
    }
   },
   "outputs": [],
   "source": [
    "data_type=\"AgNewsTitle\""
   ]
  },
  {
   "cell_type": "markdown",
   "id": "52c60a4f",
   "metadata": {},
   "source": [
    "# Read data"
   ]
  },
  {
   "cell_type": "code",
   "execution_count": 6,
   "id": "c81d3638",
   "metadata": {
    "ExecuteTime": {
     "end_time": "2022-12-18T13:05:16.838471Z",
     "start_time": "2022-12-18T13:05:16.219786Z"
    },
    "scrolled": true
   },
   "outputs": [],
   "source": [
    "df = pd.read_csv(\n",
    "    f\"../../Preprocessing/data/{data_type}/master.csv\", index_col=0\n",
    ")"
   ]
  },
  {
   "cell_type": "code",
   "execution_count": 7,
   "id": "95389cd0",
   "metadata": {
    "ExecuteTime": {
     "end_time": "2022-12-18T13:05:18.861076Z",
     "start_time": "2022-12-18T13:05:18.857399Z"
    }
   },
   "outputs": [],
   "source": [
    "with open(f\"../../Preprocessing/data/{data_type}/class.csv\", mode=\"r\") as f:\n",
    "    reader = csv.reader(f)\n",
    "    class_labels = [label for label in reader]"
   ]
  },
  {
   "cell_type": "code",
   "execution_count": 8,
   "id": "10c181b5",
   "metadata": {
    "ExecuteTime": {
     "end_time": "2022-12-18T13:05:19.069197Z",
     "start_time": "2022-12-18T13:05:19.066262Z"
    }
   },
   "outputs": [],
   "source": [
    "model_nums = config[\"clustering\"][\"LDA\"][\"max_model_num\"]"
   ]
  },
  {
   "cell_type": "code",
   "execution_count": 17,
   "id": "d41f65cc",
   "metadata": {
    "ExecuteTime": {
     "end_time": "2022-12-18T13:09:00.081186Z",
     "start_time": "2022-12-18T13:09:00.077903Z"
    }
   },
   "outputs": [],
   "source": [
    "n_conmponents=config[\"data\"][data_type][\"class_num\"]"
   ]
  },
  {
   "cell_type": "markdown",
   "id": "8d660303",
   "metadata": {},
   "source": [
    "# LDA"
   ]
  },
  {
   "cell_type": "code",
   "execution_count": 9,
   "id": "36fc6a58",
   "metadata": {
    "ExecuteTime": {
     "end_time": "2022-12-18T13:05:23.547790Z",
     "start_time": "2022-12-18T13:05:23.540928Z"
    }
   },
   "outputs": [],
   "source": [
    "class Corpus:\n",
    "    def __init__(self, path=None, texts=None):\n",
    "        self.path = path\n",
    "        self.texts = texts\n",
    "        self.dictionary = Dictionary(texts)\n",
    "        self.dictionary.filter_extremes()\n",
    "\n",
    "    def __iter__(self):\n",
    "        if self.path is not None:\n",
    "            for line in open(self.path):\n",
    "                # assume there's one document per line, tokens separated by whitespace\n",
    "                yield self.dictionary.doc2bow(line.lower().split())\n",
    "        else:\n",
    "            for line in self.texts:\n",
    "                yield self.dictionary.doc2bow(line)\n",
    "                \n",
    "    def __len__(self):\n",
    "        return len(self.texts)"
   ]
  },
  {
   "cell_type": "code",
   "execution_count": 10,
   "id": "7e901138",
   "metadata": {
    "ExecuteTime": {
     "end_time": "2022-12-18T13:05:45.019603Z",
     "start_time": "2022-12-18T13:05:42.190100Z"
    }
   },
   "outputs": [
    {
     "name": "stderr",
     "output_type": "stream",
     "text": [
      "100%|██████████| 120000/120000 [00:00<00:00, 336633.89it/s]\n"
     ]
    }
   ],
   "source": [
    "texts = df.words_nonstop.progress_apply(lambda x: x.split(' ') if x is not np.nan else [\"\"]).tolist()\n",
    "corpus = Corpus(texts=texts)\n",
    "dictionary = Dictionary(texts)\n",
    "dictionary.filter_extremes()"
   ]
  },
  {
   "cell_type": "code",
   "execution_count": 11,
   "id": "bf77c727",
   "metadata": {
    "ExecuteTime": {
     "end_time": "2022-12-18T13:06:24.607690Z",
     "start_time": "2022-12-18T13:06:24.393021Z"
    }
   },
   "outputs": [],
   "source": [
    "os.makedirs(os.path.dirname(f\"../data/{data_type}/LDA/\"), exist_ok=True)\n",
    "pickle.dump(dictionary, open(f\"../data/{data_type}/LDA/dictionary.sav\", \"wb\"))\n",
    "pickle.dump(corpus, open(f\"../data/{data_type}/LDA/corpus.sav\", \"wb\"))"
   ]
  },
  {
   "cell_type": "code",
   "execution_count": 12,
   "id": "bcd8b1b9",
   "metadata": {
    "ExecuteTime": {
     "end_time": "2022-12-18T13:06:38.696296Z",
     "start_time": "2022-12-18T13:06:38.693300Z"
    }
   },
   "outputs": [],
   "source": [
    "label = df[\"class\"].to_numpy()"
   ]
  },
  {
   "cell_type": "code",
   "execution_count": 15,
   "id": "d6be3a0f",
   "metadata": {
    "ExecuteTime": {
     "end_time": "2022-12-18T13:07:21.566487Z",
     "start_time": "2022-12-18T13:07:21.561970Z"
    }
   },
   "outputs": [],
   "source": [
    "def getLDA(corpus,dictionary, n_components, seed, path):\n",
    "    lda = LdaModel(\n",
    "        corpus=corpus,\n",
    "        id2word=dictionary,\n",
    "        num_topics=n_components,\n",
    "        alpha=\"auto\",\n",
    "        eval_every=5,\n",
    "        random_state=seed,\n",
    "    )\n",
    "    # save model\n",
    "    os.makedirs(os.path.dirname(path), exist_ok=True)\n",
    "    lda.save(path)\n",
    "    pred = [lda[docBow] for docBow in corpus]\n",
    "    return pred, lda"
   ]
  },
  {
   "cell_type": "code",
   "execution_count": null,
   "id": "d13c343e",
   "metadata": {
    "ExecuteTime": {
     "start_time": "2022-12-18T13:09:02.486Z"
    }
   },
   "outputs": [
    {
     "name": "stderr",
     "output_type": "stream",
     "text": [
      "  7%|▋         | 2/30 [01:28<20:44, 44.43s/it]"
     ]
    }
   ],
   "source": [
    "models_path = f\"../data/{data_type}/LDA/model/\"\n",
    "pred_path = f\"../data/{data_type}/LDA/pred/\"\n",
    "\n",
    "for model_num in tqdm(range(model_nums)):\n",
    "    prob, lda = getLDA(\n",
    "        corpus=corpus,\n",
    "        dictionary=dictionary,\n",
    "        n_components=n_conmponents,\n",
    "        seed=model_num,\n",
    "        path=f\"{models_path}{model_num}\"\n",
    "    )\n",
    "#     save prediction\n",
    "    probDf = pd.DataFrame([dict(row) for row in prob]).fillna(0)\n",
    "    pred = probDf.idxmax(axis=1).to_numpy()\n",
    "    os.makedirs(f\"{pred_path}\", exist_ok=True)\n",
    "    np.save(f\"{pred_path}{model_num}.npy\", pred)"
   ]
  },
  {
   "cell_type": "code",
   "execution_count": null,
   "id": "b18f1f29",
   "metadata": {
    "ExecuteTime": {
     "start_time": "2022-12-18T13:09:04.886Z"
    }
   },
   "outputs": [],
   "source": [
    "pyLDAvis.enable_notebook()\n",
    "\n",
    "vis = gensimvis.prepare(\n",
    "      lda, corpus, dictionary, n_jobs = 1, sort_topics = False\n",
    "      )\n",
    "\n",
    "pyLDAvis.display(vis)"
   ]
  },
  {
   "cell_type": "code",
   "execution_count": null,
   "id": "90e63579",
   "metadata": {},
   "outputs": [],
   "source": []
  },
  {
   "cell_type": "code",
   "execution_count": null,
   "id": "10a0fba4",
   "metadata": {},
   "outputs": [],
   "source": []
  }
 ],
 "metadata": {
  "kernelspec": {
   "display_name": "Python 3 (ipykernel)",
   "language": "python",
   "name": "python3"
  },
  "language_info": {
   "codemirror_mode": {
    "name": "ipython",
    "version": 3
   },
   "file_extension": ".py",
   "mimetype": "text/x-python",
   "name": "python",
   "nbconvert_exporter": "python",
   "pygments_lexer": "ipython3",
   "version": "3.10.8"
  },
  "toc": {
   "base_numbering": 1,
   "nav_menu": {},
   "number_sections": true,
   "sideBar": true,
   "skip_h1_title": false,
   "title_cell": "Table of Contents",
   "title_sidebar": "Contents",
   "toc_cell": false,
   "toc_position": {},
   "toc_section_display": true,
   "toc_window_display": false
  }
 },
 "nbformat": 4,
 "nbformat_minor": 5
}
