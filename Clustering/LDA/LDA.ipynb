{
 "cells": [
  {
   "cell_type": "markdown",
   "id": "4b8821b4",
   "metadata": {},
   "source": [
    "# Import"
   ]
  },
  {
   "cell_type": "code",
   "execution_count": 30,
   "id": "7800f397",
   "metadata": {
    "ExecuteTime": {
     "end_time": "2023-03-02T05:41:40.464619Z",
     "start_time": "2023-03-02T05:41:40.460735Z"
    }
   },
   "outputs": [],
   "source": [
    "import csv\n",
    "import os\n",
    "import pickle\n",
    "import sys\n",
    "\n",
    "import numpy as np\n",
    "import pandas as pd\n",
    "from gensim.corpora.dictionary import Dictionary\n",
    "from gensim.models.ldamodel import LdaModel\n",
    "from smart_open import open\n",
    "from tqdm import tqdm"
   ]
  },
  {
   "cell_type": "markdown",
   "id": "5e853bf1",
   "metadata": {},
   "source": [
    "## Add configuration file"
   ]
  },
  {
   "cell_type": "code",
   "execution_count": 31,
   "id": "a0444199",
   "metadata": {
    "ExecuteTime": {
     "end_time": "2023-03-02T05:41:41.096157Z",
     "start_time": "2023-03-02T05:41:41.092253Z"
    }
   },
   "outputs": [],
   "source": [
    "sys.path.append(\"/home/jovyan/core/config/\")\n",
    "sys.path.append(\"/home/jovyan/core/util/\")"
   ]
  },
  {
   "cell_type": "code",
   "execution_count": 32,
   "id": "9f511fe8",
   "metadata": {
    "ExecuteTime": {
     "end_time": "2023-03-02T05:41:41.113863Z",
     "start_time": "2023-03-02T05:41:41.104297Z"
    }
   },
   "outputs": [],
   "source": [
    "from ALL import config \n",
    "from util import *"
   ]
  },
  {
   "cell_type": "markdown",
   "id": "9c4db7c4",
   "metadata": {},
   "source": [
    "## Set condition"
   ]
  },
  {
   "cell_type": "code",
   "execution_count": 33,
   "id": "499861f3",
   "metadata": {
    "ExecuteTime": {
     "end_time": "2023-03-02T05:41:41.250471Z",
     "start_time": "2023-03-02T05:41:41.243376Z"
    }
   },
   "outputs": [],
   "source": [
    "tqdm.pandas()\n",
    "pd.set_option(\"display.max_columns\", 100)\n",
    "pd.set_option(\"display.max_rows\", 50)"
   ]
  },
  {
   "cell_type": "code",
   "execution_count": 34,
   "id": "52ad08fd",
   "metadata": {
    "ExecuteTime": {
     "end_time": "2023-03-02T05:41:41.331405Z",
     "start_time": "2023-03-02T05:41:41.327137Z"
    }
   },
   "outputs": [],
   "source": [
    "s3 = S3Manager()"
   ]
  },
  {
   "cell_type": "code",
   "execution_count": 35,
   "id": "341aeb4c",
   "metadata": {
    "ExecuteTime": {
     "end_time": "2023-03-02T05:41:41.436260Z",
     "start_time": "2023-03-02T05:41:41.430816Z"
    }
   },
   "outputs": [],
   "source": [
    "data_type = \"TweetTopic\""
   ]
  },
  {
   "cell_type": "code",
   "execution_count": 36,
   "id": "209a8316",
   "metadata": {
    "ExecuteTime": {
     "end_time": "2023-03-02T05:41:41.498394Z",
     "start_time": "2023-03-02T05:41:41.493430Z"
    }
   },
   "outputs": [],
   "source": [
    "model_nums = config[\"clustering\"][\"LDA\"][\"max_model_num\"]"
   ]
  },
  {
   "cell_type": "code",
   "execution_count": 37,
   "id": "e8bdb7ee",
   "metadata": {
    "ExecuteTime": {
     "end_time": "2023-03-02T05:41:41.580525Z",
     "start_time": "2023-03-02T05:41:41.576202Z"
    }
   },
   "outputs": [],
   "source": [
    "n_components = config[\"data\"][data_type_classifier(data_type)][\"class_num\"]"
   ]
  },
  {
   "cell_type": "markdown",
   "id": "e68b8145",
   "metadata": {},
   "source": [
    "# Read data"
   ]
  },
  {
   "cell_type": "code",
   "execution_count": 38,
   "id": "0c02e878",
   "metadata": {
    "ExecuteTime": {
     "end_time": "2023-03-02T05:41:42.287872Z",
     "start_time": "2023-03-02T05:41:41.748590Z"
    }
   },
   "outputs": [],
   "source": [
    "df_path = s3.download(f\"Preprocessing/{data_type}/master.csv\")"
   ]
  },
  {
   "cell_type": "code",
   "execution_count": 39,
   "id": "80bb069f",
   "metadata": {
    "ExecuteTime": {
     "end_time": "2023-03-02T05:41:42.366113Z",
     "start_time": "2023-03-02T05:41:42.291247Z"
    }
   },
   "outputs": [],
   "source": [
    "df = pd.read_csv(df_path[0], index_col=0)"
   ]
  },
  {
   "cell_type": "code",
   "execution_count": 40,
   "id": "791f0d75",
   "metadata": {
    "ExecuteTime": {
     "end_time": "2023-03-02T05:41:42.672105Z",
     "start_time": "2023-03-02T05:41:42.368324Z"
    }
   },
   "outputs": [],
   "source": [
    "labels_path = s3.download(f\"Preprocessing/{data_type}/class.csv\")"
   ]
  },
  {
   "cell_type": "code",
   "execution_count": 41,
   "id": "43fdf00c",
   "metadata": {
    "ExecuteTime": {
     "end_time": "2023-03-02T05:41:42.686696Z",
     "start_time": "2023-03-02T05:41:42.678922Z"
    }
   },
   "outputs": [],
   "source": [
    "with open(labels_path[0], mode=\"r\") as f:\n",
    "    reader = csv.reader(f)\n",
    "    class_labels = [label for label in reader]"
   ]
  },
  {
   "cell_type": "markdown",
   "id": "10feeb73",
   "metadata": {},
   "source": [
    "# LDA"
   ]
  },
  {
   "cell_type": "code",
   "execution_count": 42,
   "id": "bc61a61d",
   "metadata": {
    "ExecuteTime": {
     "end_time": "2023-03-02T05:41:42.702363Z",
     "start_time": "2023-03-02T05:41:42.692892Z"
    }
   },
   "outputs": [],
   "source": [
    "class Corpus:\n",
    "    def __init__(self, path=None, texts=None):\n",
    "        self.path = path\n",
    "        self.texts = texts\n",
    "        self.dictionary = Dictionary(texts)\n",
    "        self.dictionary.filter_extremes()\n",
    "\n",
    "    def __iter__(self):\n",
    "        if self.path is not None:\n",
    "            for line in open(self.path):\n",
    "                # assume there's one document per line, tokens separated by whitespace\n",
    "                yield self.dictionary.doc2bow(line.lower().split())\n",
    "        else:\n",
    "            for line in self.texts:\n",
    "                yield self.dictionary.doc2bow(line)\n",
    "                \n",
    "    def __len__(self):\n",
    "        return len(self.texts)"
   ]
  },
  {
   "cell_type": "code",
   "execution_count": 43,
   "id": "78b5b376",
   "metadata": {
    "ExecuteTime": {
     "end_time": "2023-03-02T05:41:43.173958Z",
     "start_time": "2023-03-02T05:41:42.704544Z"
    }
   },
   "outputs": [
    {
     "name": "stderr",
     "output_type": "stream",
     "text": [
      "100%|██████████| 6997/6997 [00:00<00:00, 281924.98it/s]\n"
     ]
    }
   ],
   "source": [
    "texts = df.words_nonstop.progress_apply(lambda x: x.split(' ') if x is not np.nan else [\"\"]).tolist()\n",
    "corpus = Corpus(texts=texts)\n",
    "dictionary = Dictionary(texts)\n",
    "dictionary.filter_extremes()"
   ]
  },
  {
   "cell_type": "code",
   "execution_count": 44,
   "id": "003f80fb",
   "metadata": {
    "ExecuteTime": {
     "end_time": "2023-03-02T05:41:43.212517Z",
     "start_time": "2023-03-02T05:41:43.176121Z"
    }
   },
   "outputs": [],
   "source": [
    "os.makedirs(os.path.dirname(f\"{root_path_temporary}{data_type}/LDA/\"), exist_ok=True)\n",
    "pickle.dump(dictionary, open(f\"{root_path_temporary}{data_type}/LDA/dictionary.sav\", \"wb\"))\n",
    "pickle.dump(corpus, open(f\"{root_path_temporary}{data_type}/LDA/corpus.sav\", \"wb\"))"
   ]
  },
  {
   "cell_type": "code",
   "execution_count": 45,
   "id": "124ae088",
   "metadata": {
    "ExecuteTime": {
     "end_time": "2023-03-02T05:41:43.219354Z",
     "start_time": "2023-03-02T05:41:43.215755Z"
    }
   },
   "outputs": [],
   "source": [
    "label = df[\"class\"].to_numpy()"
   ]
  },
  {
   "cell_type": "code",
   "execution_count": 46,
   "id": "5f8b40b8",
   "metadata": {
    "ExecuteTime": {
     "end_time": "2023-03-02T05:41:43.229648Z",
     "start_time": "2023-03-02T05:41:43.222438Z"
    }
   },
   "outputs": [],
   "source": [
    "def getLDA(corpus,dictionary, n_components, seed, path):\n",
    "    lda = LdaModel(\n",
    "        corpus=corpus,\n",
    "        id2word=dictionary,\n",
    "        num_topics=n_components,\n",
    "        alpha=\"auto\",\n",
    "        eval_every=5,\n",
    "        random_state=seed,\n",
    "    )\n",
    "    # save model\n",
    "    os.makedirs(os.path.dirname(path), exist_ok=True)\n",
    "    lda.save(path)\n",
    "    pred = [lda[docBow] for docBow in corpus]\n",
    "    return pred, lda"
   ]
  },
  {
   "cell_type": "code",
   "execution_count": 47,
   "id": "daaaa083",
   "metadata": {
    "ExecuteTime": {
     "end_time": "2023-03-02T05:43:19.197007Z",
     "start_time": "2023-03-02T05:41:43.234206Z"
    }
   },
   "outputs": [
    {
     "name": "stderr",
     "output_type": "stream",
     "text": [
      "100%|██████████| 20/20 [01:35<00:00,  4.80s/it]\n"
     ]
    }
   ],
   "source": [
    "models_path = f\"{root_path_temporary}Clustering/{data_type}/LDA/model/\"\n",
    "pred_path = f\"{root_path_temporary}Clustering/{data_type}/LDA/pred/\"\n",
    "prob_path = f\"{root_path_temporary}Clustering/{data_type}/LDA/prob/\"\n",
    "\n",
    "for model_num in tqdm(range(model_nums)):\n",
    "    prob, lda = getLDA(\n",
    "        corpus=corpus,\n",
    "        dictionary=dictionary,\n",
    "        n_components=n_components[0],\n",
    "        seed=model_num,\n",
    "        path=f\"{models_path}{model_num}/{model_num}\"\n",
    "    )\n",
    "#     save prediction\n",
    "    probDf = pd.DataFrame([dict(row) for row in prob]).fillna(0)\n",
    "    \n",
    "    os.makedirs(f\"{prob_path}\", exist_ok=True)\n",
    "    probDf.to_csv(f\"{prob_path}{model_num}.csv\")\n",
    "    \n",
    "    pred = probDf.idxmax(axis=1).to_numpy()\n",
    "    os.makedirs(f\"{pred_path}\", exist_ok=True)\n",
    "    np.save(f\"{pred_path}{model_num}.npy\", pred)"
   ]
  },
  {
   "cell_type": "markdown",
   "id": "8863e7ce",
   "metadata": {},
   "source": [
    "## upload file"
   ]
  },
  {
   "cell_type": "code",
   "execution_count": 48,
   "id": "46958a1e",
   "metadata": {
    "ExecuteTime": {
     "end_time": "2023-03-02T05:43:28.592921Z",
     "start_time": "2023-03-02T05:43:19.200641Z"
    },
    "code_folding": []
   },
   "outputs": [
    {
     "data": {
      "text/plain": [
       "'/home/jovyan/temporary/Clustering/TweetTopic/LDA'"
      ]
     },
     "execution_count": 48,
     "metadata": {},
     "output_type": "execute_result"
    }
   ],
   "source": [
    "s3.upload(\n",
    "    f\"{root_path_temporary}Clustering/{data_type}/LDA\", \n",
    ")"
   ]
  },
  {
   "cell_type": "code",
   "execution_count": 49,
   "id": "67df49db",
   "metadata": {
    "ExecuteTime": {
     "end_time": "2023-03-02T05:43:28.626338Z",
     "start_time": "2023-03-02T05:43:28.596064Z"
    }
   },
   "outputs": [
    {
     "name": "stdout",
     "output_type": "stream",
     "text": [
      "/home/jovyan/temporary/Clustering/TweetTopic/LDA\n",
      "/home/jovyan/temporary/Preprocessing/TweetTopic/master.csv\n",
      "/home/jovyan/temporary/Preprocessing/TweetTopic/class.csv\n"
     ]
    }
   ],
   "source": [
    "s3.delete_local_all()"
   ]
  },
  {
   "cell_type": "code",
   "execution_count": 50,
   "id": "378def6d",
   "metadata": {
    "ExecuteTime": {
     "end_time": "2023-03-02T05:43:29.298218Z",
     "start_time": "2023-03-02T05:43:28.632980Z"
    }
   },
   "outputs": [],
   "source": [
    "send_line_notify(f\"LDA.py {data_type} LDA\")"
   ]
  },
  {
   "cell_type": "code",
   "execution_count": null,
   "id": "75c98644",
   "metadata": {},
   "outputs": [],
   "source": []
  },
  {
   "cell_type": "code",
   "execution_count": null,
   "id": "90e63579",
   "metadata": {},
   "outputs": [],
   "source": []
  },
  {
   "cell_type": "code",
   "execution_count": null,
   "id": "10a0fba4",
   "metadata": {},
   "outputs": [],
   "source": []
  },
  {
   "cell_type": "code",
   "execution_count": null,
   "id": "a4462cd6",
   "metadata": {},
   "outputs": [],
   "source": []
  }
 ],
 "metadata": {
  "kernelspec": {
   "display_name": "Python 3 (ipykernel)",
   "language": "python",
   "name": "python3"
  },
  "language_info": {
   "codemirror_mode": {
    "name": "ipython",
    "version": 3
   },
   "file_extension": ".py",
   "mimetype": "text/x-python",
   "name": "python",
   "nbconvert_exporter": "python",
   "pygments_lexer": "ipython3",
   "version": "3.10.9"
  },
  "toc": {
   "base_numbering": 1,
   "nav_menu": {},
   "number_sections": true,
   "sideBar": true,
   "skip_h1_title": false,
   "title_cell": "Table of Contents",
   "title_sidebar": "Contents",
   "toc_cell": false,
   "toc_position": {},
   "toc_section_display": true,
   "toc_window_display": false
  }
 },
 "nbformat": 4,
 "nbformat_minor": 5
}
