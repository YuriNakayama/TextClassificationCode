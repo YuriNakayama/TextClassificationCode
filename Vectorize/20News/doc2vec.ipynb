{
 "cells": [
  {
   "cell_type": "markdown",
   "id": "b95f9187",
   "metadata": {},
   "source": [
    "# Import"
   ]
  },
  {
   "cell_type": "code",
   "execution_count": 1,
   "id": "80a85ab5",
   "metadata": {
    "ExecuteTime": {
     "end_time": "2022-11-26T01:10:28.955691Z",
     "start_time": "2022-11-26T01:10:25.635593Z"
    }
   },
   "outputs": [
    {
     "name": "stderr",
     "output_type": "stream",
     "text": [
      "<jemalloc>: MADV_DONTNEED does not work (memset will be used instead)\n",
      "<jemalloc>: (This is the expected behaviour if you are running under QEMU)\n"
     ]
    }
   ],
   "source": [
    "import csv\n",
    "import os\n",
    "\n",
    "import numpy as np\n",
    "import pandas as pd\n",
    "from tqdm import tqdm\n",
    "from gensim.models.doc2vec import Doc2Vec, TaggedDocument"
   ]
  },
  {
   "cell_type": "code",
   "execution_count": 2,
   "id": "9d870465",
   "metadata": {
    "ExecuteTime": {
     "end_time": "2022-11-26T01:10:31.574280Z",
     "start_time": "2022-11-26T01:10:31.559794Z"
    }
   },
   "outputs": [],
   "source": [
    "tqdm.pandas()"
   ]
  },
  {
   "cell_type": "markdown",
   "id": "52c60a4f",
   "metadata": {},
   "source": [
    "# Read data"
   ]
  },
  {
   "cell_type": "code",
   "execution_count": 3,
   "id": "c81d3638",
   "metadata": {
    "ExecuteTime": {
     "end_time": "2022-11-26T01:10:54.074135Z",
     "start_time": "2022-11-26T01:10:49.443906Z"
    },
    "scrolled": true
   },
   "outputs": [],
   "source": [
    "newsgroups_df = pd.read_csv(\"../../Preprocessing/data/20News/master.csv\", index_col=0)"
   ]
  },
  {
   "cell_type": "code",
   "execution_count": 4,
   "id": "95389cd0",
   "metadata": {
    "ExecuteTime": {
     "end_time": "2022-11-26T01:10:54.114932Z",
     "start_time": "2022-11-26T01:10:54.084323Z"
    }
   },
   "outputs": [],
   "source": [
    "with open(\"../../Preprocessing/data/20News/class.csv\", mode=\"r\") as f:\n",
    "    reader = csv.reader(f)\n",
    "    class_labels = [label for label in reader]"
   ]
  },
  {
   "cell_type": "code",
   "execution_count": 5,
   "id": "e0201596",
   "metadata": {
    "ExecuteTime": {
     "end_time": "2022-11-26T01:10:55.954849Z",
     "start_time": "2022-11-26T01:10:54.127838Z"
    }
   },
   "outputs": [],
   "source": [
    "documents = [\n",
    "    TaggedDocument(doc.split(\" \"), [i]) for i, doc in enumerate(newsgroups_df.words)\n",
    "]"
   ]
  },
  {
   "cell_type": "code",
   "execution_count": 6,
   "id": "fec767ee",
   "metadata": {
    "ExecuteTime": {
     "end_time": "2022-11-26T01:10:55.985894Z",
     "start_time": "2022-11-26T01:10:55.970490Z"
    }
   },
   "outputs": [],
   "source": [
    "vector_sizes = [2, 3, 4, 6, 7, 8, 9, 10, 20, 40, 80, 160, 320, 640]"
   ]
  },
  {
   "cell_type": "code",
   "execution_count": 7,
   "id": "33180347",
   "metadata": {
    "ExecuteTime": {
     "end_time": "2022-11-26T01:10:56.044025Z",
     "start_time": "2022-11-26T01:10:56.001013Z"
    }
   },
   "outputs": [],
   "source": [
    "def get_doc2vec(texts, vector_size,seed, path):\n",
    "    model = Doc2Vec(\n",
    "        documents,\n",
    "        vector_size=vector_size,\n",
    "        window=5,\n",
    "        min_count=1,\n",
    "        epochs=50,\n",
    "        seed=seed,\n",
    "        workers=os.cpu_count(),\n",
    "    )\n",
    "    model.save(path)\n",
    "    vectors = [model.infer_vector(text) for text in texts]\n",
    "    return vectors"
   ]
  },
  {
   "cell_type": "code",
   "execution_count": 8,
   "id": "e73c9732",
   "metadata": {
    "ExecuteTime": {
     "end_time": "2022-11-26T01:10:56.095867Z",
     "start_time": "2022-11-26T01:10:56.057220Z"
    }
   },
   "outputs": [],
   "source": [
    "model_nums = 1"
   ]
  },
  {
   "cell_type": "code",
   "execution_count": 9,
   "id": "8ff6c10b",
   "metadata": {
    "ExecuteTime": {
     "end_time": "2022-11-27T04:07:41.617277Z",
     "start_time": "2022-11-26T01:10:56.112532Z"
    }
   },
   "outputs": [
    {
     "name": "stderr",
     "output_type": "stream",
     "text": [
      "100%|██████████| 14/14 [26:56:45<00:00, 6928.96s/it]  \n"
     ]
    }
   ],
   "source": [
    "vectors_path = \"../data/20News/doc2vec/vector/\"\n",
    "models_path = \"../data/20News/doc2vec/model/\"\n",
    "for vector_size in tqdm(vector_sizes):\n",
    "    for model_num in range(model_nums):\n",
    "        vector_path = f\"{vectors_path}/{vector_size}/\"\n",
    "        model_path = f\"{models_path}/{vector_size}/\"\n",
    "        os.makedirs(vector_path, exist_ok=True)\n",
    "        os.makedirs(model_path, exist_ok=True)\n",
    "\n",
    "        vectors = get_doc2vec(\n",
    "            newsgroups_df.words.apply(lambda word: word.split(\" \")),\n",
    "            vector_size,\n",
    "            seed=model_num,\n",
    "            path=f\"{model_path}{model_num}.model\",\n",
    "        )\n",
    "\n",
    "        np.savetxt(\n",
    "            f\"{vector_path}{model_num}.csv\",\n",
    "            np.stack(vectors),\n",
    "            delimiter=\",\",\n",
    "        )"
   ]
  },
  {
   "cell_type": "code",
   "execution_count": null,
   "id": "e3750b23",
   "metadata": {},
   "outputs": [],
   "source": []
  },
  {
   "cell_type": "code",
   "execution_count": null,
   "id": "3db069ac",
   "metadata": {},
   "outputs": [],
   "source": []
  },
  {
   "cell_type": "code",
   "execution_count": null,
   "id": "4e66e816",
   "metadata": {},
   "outputs": [],
   "source": []
  },
  {
   "cell_type": "code",
   "execution_count": null,
   "id": "a6cb9410",
   "metadata": {},
   "outputs": [],
   "source": []
  },
  {
   "cell_type": "code",
   "execution_count": null,
   "id": "d00e2c93",
   "metadata": {},
   "outputs": [],
   "source": []
  },
  {
   "cell_type": "code",
   "execution_count": null,
   "id": "0a3ad084",
   "metadata": {},
   "outputs": [],
   "source": []
  }
 ],
 "metadata": {
  "kernelspec": {
   "display_name": "Python 3 (ipykernel)",
   "language": "python",
   "name": "python3"
  },
  "language_info": {
   "codemirror_mode": {
    "name": "ipython",
    "version": 3
   },
   "file_extension": ".py",
   "mimetype": "text/x-python",
   "name": "python",
   "nbconvert_exporter": "python",
   "pygments_lexer": "ipython3",
   "version": "3.10.6"
  },
  "toc": {
   "base_numbering": 1,
   "nav_menu": {},
   "number_sections": true,
   "sideBar": true,
   "skip_h1_title": false,
   "title_cell": "Table of Contents",
   "title_sidebar": "Contents",
   "toc_cell": false,
   "toc_position": {},
   "toc_section_display": true,
   "toc_window_display": false
  }
 },
 "nbformat": 4,
 "nbformat_minor": 5
}
