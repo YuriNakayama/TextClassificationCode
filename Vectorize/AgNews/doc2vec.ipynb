{
 "cells": [
  {
   "cell_type": "markdown",
   "id": "b95f9187",
   "metadata": {},
   "source": [
    "# Import"
   ]
  },
  {
   "cell_type": "code",
   "execution_count": 1,
   "id": "80a85ab5",
   "metadata": {
    "ExecuteTime": {
     "end_time": "2022-11-15T02:47:37.836647Z",
     "start_time": "2022-11-15T02:47:34.607165Z"
    }
   },
   "outputs": [
    {
     "name": "stderr",
     "output_type": "stream",
     "text": [
      "<jemalloc>: MADV_DONTNEED does not work (memset will be used instead)\n",
      "<jemalloc>: (This is the expected behaviour if you are running under QEMU)\n"
     ]
    }
   ],
   "source": [
    "import csv\n",
    "import os\n",
    "\n",
    "import numpy as np\n",
    "import pandas as pd\n",
    "from tqdm import tqdm\n",
    "from gensim.models.doc2vec import Doc2Vec, TaggedDocument"
   ]
  },
  {
   "cell_type": "code",
   "execution_count": 2,
   "id": "9d870465",
   "metadata": {
    "ExecuteTime": {
     "end_time": "2022-11-15T02:47:37.876733Z",
     "start_time": "2022-11-15T02:47:37.854509Z"
    }
   },
   "outputs": [],
   "source": [
    "tqdm.pandas()"
   ]
  },
  {
   "cell_type": "markdown",
   "id": "52c60a4f",
   "metadata": {},
   "source": [
    "# Read data"
   ]
  },
  {
   "cell_type": "code",
   "execution_count": 3,
   "id": "c81d3638",
   "metadata": {
    "ExecuteTime": {
     "end_time": "2022-11-15T02:47:41.759739Z",
     "start_time": "2022-11-15T02:47:37.904567Z"
    },
    "scrolled": true
   },
   "outputs": [],
   "source": [
    "ag_news_df = pd.read_csv(\"../../Preprocessing/data/AgNews/master.csv\", index_col=0)"
   ]
  },
  {
   "cell_type": "code",
   "execution_count": 4,
   "id": "95389cd0",
   "metadata": {
    "ExecuteTime": {
     "end_time": "2022-11-15T02:47:41.791282Z",
     "start_time": "2022-11-15T02:47:41.767222Z"
    }
   },
   "outputs": [],
   "source": [
    "with open(\"../../Preprocessing/data/AgNews/class.csv\", mode=\"r\") as f:\n",
    "    reader = csv.reader(f)\n",
    "    class_labels = [label for label in reader]"
   ]
  },
  {
   "cell_type": "code",
   "execution_count": 5,
   "id": "e0201596",
   "metadata": {
    "ExecuteTime": {
     "end_time": "2022-11-15T02:47:43.460857Z",
     "start_time": "2022-11-15T02:47:41.802333Z"
    }
   },
   "outputs": [],
   "source": [
    "documents = [\n",
    "    TaggedDocument(doc.split(\" \"), [i]) for i, doc in enumerate(ag_news_df.words)\n",
    "]"
   ]
  },
  {
   "cell_type": "code",
   "execution_count": 6,
   "id": "fec767ee",
   "metadata": {
    "ExecuteTime": {
     "end_time": "2022-11-15T02:47:43.481251Z",
     "start_time": "2022-11-15T02:47:43.467653Z"
    }
   },
   "outputs": [],
   "source": [
    "vector_sizes = [2, 3, 4, 6, 7, 8, 9, 10, 20, 40, 80, 160, 320, 640]"
   ]
  },
  {
   "cell_type": "code",
   "execution_count": 7,
   "id": "33180347",
   "metadata": {
    "ExecuteTime": {
     "end_time": "2022-11-15T02:47:43.540107Z",
     "start_time": "2022-11-15T02:47:43.503943Z"
    },
    "code_folding": []
   },
   "outputs": [],
   "source": [
    "def get_doc2vec(texts, vector_size,seed, path):\n",
    "    model = Doc2Vec(\n",
    "        documents,\n",
    "        vector_size=vector_size,\n",
    "        window=5,\n",
    "        min_count=1,\n",
    "        epochs=50,\n",
    "        seed=seed,\n",
    "        workers=os.cpu_count(),\n",
    "    )\n",
    "    model.save(path)\n",
    "    vectors = [model.infer_vector(text) for text in texts]\n",
    "    return vectors"
   ]
  },
  {
   "cell_type": "code",
   "execution_count": 8,
   "id": "e73c9732",
   "metadata": {
    "ExecuteTime": {
     "end_time": "2022-11-15T02:47:43.588235Z",
     "start_time": "2022-11-15T02:47:43.564429Z"
    }
   },
   "outputs": [],
   "source": [
    "model_nums = 1"
   ]
  },
  {
   "cell_type": "code",
   "execution_count": 9,
   "id": "8ff6c10b",
   "metadata": {
    "ExecuteTime": {
     "end_time": "2022-11-16T04:35:35.247055Z",
     "start_time": "2022-11-15T02:47:43.603644Z"
    }
   },
   "outputs": [
    {
     "name": "stderr",
     "output_type": "stream",
     "text": [
      "100%|██████████| 14/14 [25:47:51<00:00, 6633.68s/it]  \n"
     ]
    }
   ],
   "source": [
    "vectors_path = \"../data/AgNews/doc2vec/vector/\"\n",
    "models_path = \"../data/AgNews/doc2vec/model/\"\n",
    "for vector_size in tqdm(vector_sizes):\n",
    "    for model_num in range(model_nums):\n",
    "        vector_path = f\"{vectors_path}/{vector_size}/\"\n",
    "        model_path = f\"{models_path}/{vector_size}/\"\n",
    "        os.makedirs(vector_path, exist_ok=True)\n",
    "        os.makedirs(model_path, exist_ok=True)\n",
    "\n",
    "        vectors = get_doc2vec(\n",
    "            ag_news_df.words.apply(lambda word: word.split(\" \")),\n",
    "            vector_size,\n",
    "            seed=model_num,\n",
    "            path=f\"{model_path}{model_num}.model\",\n",
    "        )\n",
    "\n",
    "        np.savetxt(\n",
    "            f\"{vector_path}{model_num}.csv\",\n",
    "            np.stack(vectors),\n",
    "            delimiter=\",\",\n",
    "        )"
   ]
  },
  {
   "cell_type": "code",
   "execution_count": null,
   "id": "ced0bc20",
   "metadata": {},
   "outputs": [],
   "source": []
  },
  {
   "cell_type": "code",
   "execution_count": null,
   "id": "4db521b4",
   "metadata": {},
   "outputs": [],
   "source": []
  },
  {
   "cell_type": "code",
   "execution_count": null,
   "id": "6b6ed8c3",
   "metadata": {},
   "outputs": [],
   "source": []
  }
 ],
 "metadata": {
  "kernelspec": {
   "display_name": "Python 3 (ipykernel)",
   "language": "python",
   "name": "python3"
  },
  "language_info": {
   "codemirror_mode": {
    "name": "ipython",
    "version": 3
   },
   "file_extension": ".py",
   "mimetype": "text/x-python",
   "name": "python",
   "nbconvert_exporter": "python",
   "pygments_lexer": "ipython3",
   "version": "3.10.8"
  },
  "toc": {
   "base_numbering": 1,
   "nav_menu": {},
   "number_sections": true,
   "sideBar": true,
   "skip_h1_title": false,
   "title_cell": "Table of Contents",
   "title_sidebar": "Contents",
   "toc_cell": false,
   "toc_position": {},
   "toc_section_display": true,
   "toc_window_display": false
  }
 },
 "nbformat": 4,
 "nbformat_minor": 5
}
