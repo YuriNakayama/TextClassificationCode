{
 "cells": [
  {
   "cell_type": "markdown",
   "id": "b95f9187",
   "metadata": {},
   "source": [
    "# Import"
   ]
  },
  {
   "cell_type": "code",
   "execution_count": 3,
   "id": "80a85ab5",
   "metadata": {
    "ExecuteTime": {
     "end_time": "2023-02-08T03:13:19.268224Z",
     "start_time": "2023-02-08T03:13:18.310081Z"
    }
   },
   "outputs": [],
   "source": [
    "import csv\n",
    "import os\n",
    "import sys\n",
    "\n",
    "import numpy as np\n",
    "import pandas as pd\n",
    "from tqdm import tqdm\n",
    "from gensim.models.doc2vec import Doc2Vec, TaggedDocument"
   ]
  },
  {
   "cell_type": "markdown",
   "id": "2543f4e4",
   "metadata": {},
   "source": [
    "## Add configuration file"
   ]
  },
  {
   "cell_type": "code",
   "execution_count": 4,
   "id": "b62547de",
   "metadata": {
    "ExecuteTime": {
     "end_time": "2023-02-08T03:13:19.274363Z",
     "start_time": "2023-02-08T03:13:19.271103Z"
    }
   },
   "outputs": [],
   "source": [
    "sys.path.append(\"/home/jovyan/core/config/\")\n",
    "sys.path.append(\"/home/jovyan/core/util/\")"
   ]
  },
  {
   "cell_type": "code",
   "execution_count": 5,
   "id": "84da401b",
   "metadata": {
    "ExecuteTime": {
     "end_time": "2023-02-08T03:13:19.287370Z",
     "start_time": "2023-02-08T03:13:19.276416Z"
    }
   },
   "outputs": [],
   "source": [
    "from ALL import config \n",
    "from util import *"
   ]
  },
  {
   "cell_type": "markdown",
   "id": "9330548e",
   "metadata": {},
   "source": [
    "## Set condition"
   ]
  },
  {
   "cell_type": "code",
   "execution_count": 6,
   "id": "a30f3623",
   "metadata": {
    "ExecuteTime": {
     "end_time": "2023-02-08T03:13:19.294313Z",
     "start_time": "2023-02-08T03:13:19.290424Z"
    }
   },
   "outputs": [],
   "source": [
    "tqdm.pandas()\n",
    "pd.set_option(\"display.max_columns\", 100)\n",
    "pd.set_option(\"display.max_rows\", 50)"
   ]
  },
  {
   "cell_type": "code",
   "execution_count": 7,
   "id": "3c55632c",
   "metadata": {
    "ExecuteTime": {
     "end_time": "2023-02-08T03:13:19.301522Z",
     "start_time": "2023-02-08T03:13:19.296312Z"
    }
   },
   "outputs": [],
   "source": [
    "data_type=\"AgNewsTitle\""
   ]
  },
  {
   "cell_type": "code",
   "execution_count": 8,
   "id": "6efc510b",
   "metadata": {
    "ExecuteTime": {
     "end_time": "2023-02-08T03:13:19.307378Z",
     "start_time": "2023-02-08T03:13:19.303459Z"
    }
   },
   "outputs": [],
   "source": [
    "s3 = S3Manager()"
   ]
  },
  {
   "cell_type": "markdown",
   "id": "52c60a4f",
   "metadata": {},
   "source": [
    "# Read data"
   ]
  },
  {
   "cell_type": "code",
   "execution_count": 9,
   "id": "d7dcae05",
   "metadata": {
    "ExecuteTime": {
     "end_time": "2023-02-08T03:13:21.194544Z",
     "start_time": "2023-02-08T03:13:19.309257Z"
    }
   },
   "outputs": [],
   "source": [
    "df_path = s3.download(f\"Preprocessing/{data_type}/master.csv\")"
   ]
  },
  {
   "cell_type": "code",
   "execution_count": 10,
   "id": "c81d3638",
   "metadata": {
    "ExecuteTime": {
     "end_time": "2023-02-08T03:13:21.882894Z",
     "start_time": "2023-02-08T03:13:21.197207Z"
    },
    "scrolled": true
   },
   "outputs": [],
   "source": [
    "df = pd.read_csv(df_path, index_col=0)"
   ]
  },
  {
   "cell_type": "code",
   "execution_count": 11,
   "id": "ae147525",
   "metadata": {
    "ExecuteTime": {
     "end_time": "2023-02-08T03:13:21.984375Z",
     "start_time": "2023-02-08T03:13:21.885407Z"
    }
   },
   "outputs": [],
   "source": [
    "labels_path = s3.download(f\"Preprocessing/{data_type}/class.csv\")"
   ]
  },
  {
   "cell_type": "code",
   "execution_count": 12,
   "id": "95389cd0",
   "metadata": {
    "ExecuteTime": {
     "end_time": "2023-02-08T03:13:21.991825Z",
     "start_time": "2023-02-08T03:13:21.987857Z"
    }
   },
   "outputs": [],
   "source": [
    "with open(labels_path, mode=\"r\") as f:\n",
    "    reader = csv.reader(f)\n",
    "    class_labels = [label for label in reader]"
   ]
  },
  {
   "cell_type": "markdown",
   "id": "2975611f",
   "metadata": {},
   "source": [
    "# Vectorize"
   ]
  },
  {
   "cell_type": "code",
   "execution_count": 13,
   "id": "e0201596",
   "metadata": {
    "ExecuteTime": {
     "end_time": "2023-02-08T03:13:22.674200Z",
     "start_time": "2023-02-08T03:13:21.993810Z"
    }
   },
   "outputs": [],
   "source": [
    "documents = [\n",
    "    TaggedDocument(doc.split(\" \"), [i]) for i, doc in enumerate(df.words)\n",
    "]"
   ]
  },
  {
   "cell_type": "code",
   "execution_count": 14,
   "id": "fec767ee",
   "metadata": {
    "ExecuteTime": {
     "end_time": "2023-02-08T03:13:22.681043Z",
     "start_time": "2023-02-08T03:13:22.676185Z"
    }
   },
   "outputs": [],
   "source": [
    "vector_dims = config[\"vectorize\"][\"doc2vec\"][\"dims\"]\n",
    "max_model_num = config[\"vectorize\"][\"doc2vec\"][\"max_model_num\"]"
   ]
  },
  {
   "cell_type": "code",
   "execution_count": 15,
   "id": "33180347",
   "metadata": {
    "ExecuteTime": {
     "end_time": "2023-02-08T03:13:22.687288Z",
     "start_time": "2023-02-08T03:13:22.682956Z"
    },
    "code_folding": []
   },
   "outputs": [],
   "source": [
    "def get_doc2vec(texts, vector_size, seed, path):\n",
    "    model = Doc2Vec(\n",
    "        documents,\n",
    "        vector_size=vector_size,\n",
    "        window=5,\n",
    "        min_count=1,\n",
    "        epochs=50,\n",
    "        seed=seed,\n",
    "        workers=os.cpu_count(),\n",
    "    )\n",
    "    model.save(path)\n",
    "    vectors = [model.infer_vector(text) for text in texts]\n",
    "    return vectors"
   ]
  },
  {
   "cell_type": "code",
   "execution_count": null,
   "id": "8ff6c10b",
   "metadata": {
    "ExecuteTime": {
     "start_time": "2023-02-08T03:13:18.248Z"
    }
   },
   "outputs": [
    {
     "name": "stderr",
     "output_type": "stream",
     "text": [
      " 33%|███▎      | 3/9 [41:56<1:24:05, 840.98s/it]"
     ]
    }
   ],
   "source": [
    "vectors_path = f\"../temporary/Vectorize/{data_type}/doc2vec/vector\"\n",
    "models_path = f\"../temporary/Vectorize/{data_type}/doc2vec/model\"\n",
    "for vector_size in tqdm(vector_dims):\n",
    "    for model_num in range(max_model_num):\n",
    "        vectors = get_doc2vec(\n",
    "            df.words.apply(lambda word: word.split(\" \")),\n",
    "            vector_size,\n",
    "            seed=model_num,\n",
    "            path=make_filepath(f\"{models_path}/{vector_size}/{model_num}.model\"),\n",
    "        )\n",
    "\n",
    "        np.save(\n",
    "            make_filepath(f\"{vectors_path}/{vector_size}/{model_num}.npy\"),\n",
    "            np.stack(vectors),\n",
    "        )"
   ]
  },
  {
   "cell_type": "markdown",
   "id": "c365e762",
   "metadata": {},
   "source": [
    "## upload file"
   ]
  },
  {
   "cell_type": "code",
   "execution_count": null,
   "id": "94b30b88",
   "metadata": {
    "ExecuteTime": {
     "start_time": "2023-02-08T03:13:18.257Z"
    }
   },
   "outputs": [],
   "source": [
    "s3.upload(\n",
    "    f\"../temporary/Vectorize/{data_type}/doc2vec/\", f\"Vectorize/{data_type}/doc2vec\"\n",
    ")"
   ]
  },
  {
   "cell_type": "code",
   "execution_count": null,
   "id": "d28c0e91",
   "metadata": {
    "ExecuteTime": {
     "start_time": "2023-02-08T03:13:18.257Z"
    }
   },
   "outputs": [],
   "source": [
    "s3.delete_local_all()"
   ]
  }
 ],
 "metadata": {
  "kernelspec": {
   "display_name": "Python 3 (ipykernel)",
   "language": "python",
   "name": "python3"
  },
  "language_info": {
   "codemirror_mode": {
    "name": "ipython",
    "version": 3
   },
   "file_extension": ".py",
   "mimetype": "text/x-python",
   "name": "python",
   "nbconvert_exporter": "python",
   "pygments_lexer": "ipython3",
   "version": "3.10.8"
  },
  "toc": {
   "base_numbering": 1,
   "nav_menu": {},
   "number_sections": true,
   "sideBar": true,
   "skip_h1_title": false,
   "title_cell": "Table of Contents",
   "title_sidebar": "Contents",
   "toc_cell": false,
   "toc_position": {},
   "toc_section_display": true,
   "toc_window_display": false
  }
 },
 "nbformat": 4,
 "nbformat_minor": 5
}
