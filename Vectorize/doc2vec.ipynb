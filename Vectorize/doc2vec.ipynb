{
 "cells": [
  {
   "cell_type": "markdown",
   "id": "b95f9187",
   "metadata": {},
   "source": [
    "# Import"
   ]
  },
  {
   "cell_type": "code",
   "execution_count": 9,
   "id": "80a85ab5",
   "metadata": {
    "ExecuteTime": {
     "end_time": "2023-02-09T07:05:03.440335Z",
     "start_time": "2023-02-09T07:05:03.436568Z"
    }
   },
   "outputs": [],
   "source": [
    "import csv\n",
    "import os\n",
    "import sys\n",
    "\n",
    "import numpy as np\n",
    "import pandas as pd\n",
    "from tqdm import tqdm\n",
    "from gensim.models.doc2vec import Doc2Vec, TaggedDocument"
   ]
  },
  {
   "cell_type": "markdown",
   "id": "2543f4e4",
   "metadata": {},
   "source": [
    "## Add configuration file"
   ]
  },
  {
   "cell_type": "code",
   "execution_count": 10,
   "id": "b62547de",
   "metadata": {
    "ExecuteTime": {
     "end_time": "2023-02-09T07:05:04.022718Z",
     "start_time": "2023-02-09T07:05:04.019786Z"
    }
   },
   "outputs": [],
   "source": [
    "sys.path.append(\"/home/jovyan/core/config/\")\n",
    "sys.path.append(\"/home/jovyan/core/util/\")"
   ]
  },
  {
   "cell_type": "code",
   "execution_count": 11,
   "id": "84da401b",
   "metadata": {
    "ExecuteTime": {
     "end_time": "2023-02-09T07:05:04.202008Z",
     "start_time": "2023-02-09T07:05:04.198897Z"
    }
   },
   "outputs": [],
   "source": [
    "from ALL import config \n",
    "from util import *"
   ]
  },
  {
   "cell_type": "markdown",
   "id": "9330548e",
   "metadata": {},
   "source": [
    "## Set condition"
   ]
  },
  {
   "cell_type": "code",
   "execution_count": 12,
   "id": "a30f3623",
   "metadata": {
    "ExecuteTime": {
     "end_time": "2023-02-09T07:05:04.274738Z",
     "start_time": "2023-02-09T07:05:04.270366Z"
    }
   },
   "outputs": [],
   "source": [
    "tqdm.pandas()\n",
    "pd.set_option(\"display.max_columns\", 100)\n",
    "pd.set_option(\"display.max_rows\", 50)"
   ]
  },
  {
   "cell_type": "code",
   "execution_count": 13,
   "id": "3c55632c",
   "metadata": {
    "ExecuteTime": {
     "end_time": "2023-02-09T07:05:04.366257Z",
     "start_time": "2023-02-09T07:05:04.362814Z"
    }
   },
   "outputs": [],
   "source": [
    "data_type=\"AgNews\""
   ]
  },
  {
   "cell_type": "code",
   "execution_count": 14,
   "id": "e100006d",
   "metadata": {
    "ExecuteTime": {
     "end_time": "2023-02-09T07:05:04.440490Z",
     "start_time": "2023-02-09T07:05:04.437484Z"
    }
   },
   "outputs": [],
   "source": [
    "s3 = S3Manager()"
   ]
  },
  {
   "cell_type": "markdown",
   "id": "52c60a4f",
   "metadata": {},
   "source": [
    "# Read data"
   ]
  },
  {
   "cell_type": "code",
   "execution_count": 15,
   "id": "b07374d6",
   "metadata": {
    "ExecuteTime": {
     "end_time": "2023-02-09T07:05:06.190710Z",
     "start_time": "2023-02-09T07:05:04.722689Z"
    }
   },
   "outputs": [],
   "source": [
    "df_path = s3.download(f\"Preprocessing/{data_type}/master.csv\")"
   ]
  },
  {
   "cell_type": "code",
   "execution_count": 16,
   "id": "c81d3638",
   "metadata": {
    "ExecuteTime": {
     "end_time": "2023-02-09T07:05:07.281145Z",
     "start_time": "2023-02-09T07:05:06.193900Z"
    },
    "scrolled": true
   },
   "outputs": [],
   "source": [
    "df = pd.read_csv(df_path[0], index_col=0)"
   ]
  },
  {
   "cell_type": "code",
   "execution_count": 17,
   "id": "ae147525",
   "metadata": {
    "ExecuteTime": {
     "end_time": "2023-02-09T07:05:07.679883Z",
     "start_time": "2023-02-09T07:05:07.283527Z"
    }
   },
   "outputs": [],
   "source": [
    "labels_path = s3.download(f\"Preprocessing/{data_type}/class.csv\")"
   ]
  },
  {
   "cell_type": "code",
   "execution_count": 18,
   "id": "95389cd0",
   "metadata": {
    "ExecuteTime": {
     "end_time": "2023-02-09T07:05:07.686713Z",
     "start_time": "2023-02-09T07:05:07.682144Z"
    }
   },
   "outputs": [],
   "source": [
    "with open(labels_path[0], mode=\"r\") as f:\n",
    "    reader = csv.reader(f)\n",
    "    class_labels = [label for label in reader]"
   ]
  },
  {
   "cell_type": "markdown",
   "id": "9a00668a",
   "metadata": {},
   "source": [
    "# Vectorize"
   ]
  },
  {
   "cell_type": "code",
   "execution_count": 19,
   "id": "e0201596",
   "metadata": {
    "ExecuteTime": {
     "end_time": "2023-02-09T07:05:08.854828Z",
     "start_time": "2023-02-09T07:05:07.690674Z"
    }
   },
   "outputs": [],
   "source": [
    "documents = [\n",
    "    TaggedDocument(doc.split(\" \"), [i]) for i, doc in enumerate(df.words)\n",
    "]"
   ]
  },
  {
   "cell_type": "code",
   "execution_count": 20,
   "id": "fec767ee",
   "metadata": {
    "ExecuteTime": {
     "end_time": "2023-02-09T07:05:08.861133Z",
     "start_time": "2023-02-09T07:05:08.857033Z"
    }
   },
   "outputs": [],
   "source": [
    "vector_dims = config[\"vectorize\"][\"doc2vec\"][\"dims\"]\n",
    "max_model_num = config[\"vectorize\"][\"doc2vec\"][\"max_model_num\"]"
   ]
  },
  {
   "cell_type": "code",
   "execution_count": 21,
   "id": "33180347",
   "metadata": {
    "ExecuteTime": {
     "end_time": "2023-02-09T07:05:08.874850Z",
     "start_time": "2023-02-09T07:05:08.869008Z"
    },
    "code_folding": []
   },
   "outputs": [],
   "source": [
    "def get_doc2vec(texts, vector_size, seed, path):\n",
    "    model = Doc2Vec(\n",
    "        documents,\n",
    "        vector_size=vector_size,\n",
    "        window=5,\n",
    "        min_count=1,\n",
    "        epochs=50,\n",
    "        seed=seed,\n",
    "        workers=os.cpu_count(),\n",
    "    )\n",
    "    model.save(path)\n",
    "    vectors = [model.infer_vector(text) for text in texts]\n",
    "    return vectors"
   ]
  },
  {
   "cell_type": "code",
   "execution_count": null,
   "id": "8ff6c10b",
   "metadata": {
    "ExecuteTime": {
     "start_time": "2023-02-09T07:05:05.175Z"
    }
   },
   "outputs": [
    {
     "name": "stderr",
     "output_type": "stream",
     "text": [
      " 88%|████████▊ | 7/8 [2:42:07<24:30, 1470.83s/it]  "
     ]
    }
   ],
   "source": [
    "vectors_path = f\"../temporary/Vectorize/{data_type}/doc2vec/vector\"\n",
    "models_path = f\"../temporary/Vectorize/{data_type}/doc2vec/model\"\n",
    "for vector_size in tqdm(vector_dims):\n",
    "    for model_num in range(max_model_num):\n",
    "        vectors = get_doc2vec(\n",
    "            df.words.apply(lambda word: word.split(\" \")),\n",
    "            vector_size,\n",
    "            seed=model_num,\n",
    "            path=make_filepath(f\"{models_path}/{vector_size}/{model_num}.model\"),\n",
    "        )\n",
    "\n",
    "        np.save(\n",
    "            make_filepath(f\"{vectors_path}/{vector_size}/{model_num}.npy\"),\n",
    "            np.stack(vectors),\n",
    "        )"
   ]
  },
  {
   "cell_type": "markdown",
   "id": "ab2221f5",
   "metadata": {},
   "source": [
    "## upload file"
   ]
  },
  {
   "cell_type": "code",
   "execution_count": null,
   "id": "92e962a2",
   "metadata": {
    "ExecuteTime": {
     "start_time": "2023-02-09T07:05:05.530Z"
    }
   },
   "outputs": [],
   "source": [
    "s3.upload(\n",
    "    f\"../temporary/Vectorize/{data_type}/doc2vec/\", f\"Vectorize/{data_type}/doc2vec/\"\n",
    ")"
   ]
  },
  {
   "cell_type": "code",
   "execution_count": null,
   "id": "1949f17b",
   "metadata": {
    "ExecuteTime": {
     "start_time": "2023-02-09T07:05:05.702Z"
    }
   },
   "outputs": [],
   "source": [
    "s3.delete_local_all()"
   ]
  },
  {
   "cell_type": "code",
   "execution_count": null,
   "id": "b2c26ed6",
   "metadata": {},
   "outputs": [],
   "source": []
  },
  {
   "cell_type": "code",
   "execution_count": null,
   "id": "0e4a4e28",
   "metadata": {},
   "outputs": [],
   "source": []
  }
 ],
 "metadata": {
  "kernelspec": {
   "display_name": "Python 3 (ipykernel)",
   "language": "python",
   "name": "python3"
  },
  "language_info": {
   "codemirror_mode": {
    "name": "ipython",
    "version": 3
   },
   "file_extension": ".py",
   "mimetype": "text/x-python",
   "name": "python",
   "nbconvert_exporter": "python",
   "pygments_lexer": "ipython3",
   "version": "3.10.8"
  },
  "toc": {
   "base_numbering": 1,
   "nav_menu": {},
   "number_sections": true,
   "sideBar": true,
   "skip_h1_title": false,
   "title_cell": "Table of Contents",
   "title_sidebar": "Contents",
   "toc_cell": false,
   "toc_position": {},
   "toc_section_display": true,
   "toc_window_display": false
  }
 },
 "nbformat": 4,
 "nbformat_minor": 5
}
