{
 "cells": [
  {
   "cell_type": "markdown",
   "id": "b95f9187",
   "metadata": {},
   "source": [
    "# Import"
   ]
  },
  {
   "cell_type": "code",
   "execution_count": 12,
   "id": "80a85ab5",
   "metadata": {
    "ExecuteTime": {
     "end_time": "2022-12-18T05:49:11.902012Z",
     "start_time": "2022-12-18T05:49:11.898640Z"
    }
   },
   "outputs": [],
   "source": [
    "import csv\n",
    "import os\n",
    "import sys\n",
    "\n",
    "import numpy as np\n",
    "import pandas as pd\n",
    "from tqdm import tqdm\n",
    "from gensim.models.doc2vec import Doc2Vec, TaggedDocument"
   ]
  },
  {
   "cell_type": "markdown",
   "id": "2543f4e4",
   "metadata": {},
   "source": [
    "## Add configuration file"
   ]
  },
  {
   "cell_type": "code",
   "execution_count": 2,
   "id": "b62547de",
   "metadata": {
    "ExecuteTime": {
     "end_time": "2022-12-18T03:23:47.069500Z",
     "start_time": "2022-12-18T03:23:47.066735Z"
    }
   },
   "outputs": [],
   "source": [
    "sys.path.append(\"/home/jovyan/core/config/\")\n",
    "sys.path.append(\"/home/jovyan/core/util/\")"
   ]
  },
  {
   "cell_type": "code",
   "execution_count": 3,
   "id": "84da401b",
   "metadata": {
    "ExecuteTime": {
     "end_time": "2022-12-18T03:23:47.080913Z",
     "start_time": "2022-12-18T03:23:47.077201Z"
    }
   },
   "outputs": [],
   "source": [
    "from ALL import config \n",
    "from util import *"
   ]
  },
  {
   "cell_type": "markdown",
   "id": "9330548e",
   "metadata": {},
   "source": [
    "## Set condition"
   ]
  },
  {
   "cell_type": "code",
   "execution_count": 4,
   "id": "a30f3623",
   "metadata": {
    "ExecuteTime": {
     "end_time": "2022-12-18T03:23:47.088847Z",
     "start_time": "2022-12-18T03:23:47.083048Z"
    }
   },
   "outputs": [],
   "source": [
    "tqdm.pandas()\n",
    "pd.set_option(\"display.max_columns\", 100)\n",
    "pd.set_option(\"display.max_rows\", 50)"
   ]
  },
  {
   "cell_type": "code",
   "execution_count": 5,
   "id": "3c55632c",
   "metadata": {
    "ExecuteTime": {
     "end_time": "2022-12-18T03:23:47.098041Z",
     "start_time": "2022-12-18T03:23:47.090776Z"
    }
   },
   "outputs": [],
   "source": [
    "data_type=\"AgNewsTitle\""
   ]
  },
  {
   "cell_type": "markdown",
   "id": "52c60a4f",
   "metadata": {},
   "source": [
    "# Read data"
   ]
  },
  {
   "cell_type": "code",
   "execution_count": 6,
   "id": "c81d3638",
   "metadata": {
    "ExecuteTime": {
     "end_time": "2022-12-18T03:23:47.759955Z",
     "start_time": "2022-12-18T03:23:47.099894Z"
    },
    "scrolled": true
   },
   "outputs": [],
   "source": [
    "df = pd.read_csv(\n",
    "    f\"../Preprocessing/data/{data_type}/master.csv\", index_col=0\n",
    ")"
   ]
  },
  {
   "cell_type": "code",
   "execution_count": 7,
   "id": "95389cd0",
   "metadata": {
    "ExecuteTime": {
     "end_time": "2022-12-18T03:23:47.765732Z",
     "start_time": "2022-12-18T03:23:47.762086Z"
    }
   },
   "outputs": [],
   "source": [
    "with open(f\"../Preprocessing/data/{data_type}/class.csv\", mode=\"r\") as f:\n",
    "    reader = csv.reader(f)\n",
    "    class_labels = [label for label in reader]"
   ]
  },
  {
   "cell_type": "code",
   "execution_count": 8,
   "id": "e0201596",
   "metadata": {
    "ExecuteTime": {
     "end_time": "2022-12-18T03:23:48.391578Z",
     "start_time": "2022-12-18T03:23:47.767835Z"
    }
   },
   "outputs": [],
   "source": [
    "documents = [\n",
    "    TaggedDocument(doc.split(\" \"), [i]) for i, doc in enumerate(df.words)\n",
    "]"
   ]
  },
  {
   "cell_type": "code",
   "execution_count": 9,
   "id": "fec767ee",
   "metadata": {
    "ExecuteTime": {
     "end_time": "2022-12-18T03:23:48.397921Z",
     "start_time": "2022-12-18T03:23:48.395095Z"
    }
   },
   "outputs": [],
   "source": [
    "vector_dims = config[\"vectorize\"][\"doc2vec\"][\"dims\"]\n",
    "max_model_num = config[\"vectorize\"][\"doc2vec\"][\"max_model_num\"]"
   ]
  },
  {
   "cell_type": "code",
   "execution_count": 10,
   "id": "33180347",
   "metadata": {
    "ExecuteTime": {
     "end_time": "2022-12-18T03:23:48.478210Z",
     "start_time": "2022-12-18T03:23:48.474428Z"
    },
    "code_folding": []
   },
   "outputs": [],
   "source": [
    "def get_doc2vec(texts, vector_size,seed, path):\n",
    "    model = Doc2Vec(\n",
    "        documents,\n",
    "        vector_size=vector_size,\n",
    "        window=5,\n",
    "        min_count=1,\n",
    "        epochs=50,\n",
    "        seed=seed,\n",
    "        workers=os.cpu_count(),\n",
    "    )\n",
    "    model.save(path)\n",
    "    vectors = [model.infer_vector(text) for text in texts]\n",
    "    return vectors"
   ]
  },
  {
   "cell_type": "code",
   "execution_count": 11,
   "id": "8ff6c10b",
   "metadata": {
    "ExecuteTime": {
     "end_time": "2022-12-18T05:25:49.016341Z",
     "start_time": "2022-12-18T03:23:48.480382Z"
    }
   },
   "outputs": [
    {
     "name": "stderr",
     "output_type": "stream",
     "text": [
      "100%|██████████| 9/9 [2:02:00<00:00, 813.39s/it]\n"
     ]
    }
   ],
   "source": [
    "vectors_path = f\"data/{data_type}/doc2vec/vector\"\n",
    "models_path = f\"data/{data_type}/doc2vec/model\"\n",
    "for vector_size in tqdm(vector_dims):\n",
    "    for model_num in range(max_model_num):\n",
    "        vectors = get_doc2vec(\n",
    "            df.words.apply(lambda word: word.split(\" \")),\n",
    "            vector_size,\n",
    "            seed=model_num,\n",
    "            path=make_filepath(f\"{models_path}/{vector_size}/{model_num}.model\"),\n",
    "        )\n",
    "\n",
    "        np.savetxt(\n",
    "            make_filepath(f\"{vectors_path}/{vector_size}/{model_num}.csv\"),\n",
    "            np.stack(vectors),\n",
    "            delimiter=\",\",\n",
    "        )"
   ]
  }
 ],
 "metadata": {
  "kernelspec": {
   "display_name": "Python 3 (ipykernel)",
   "language": "python",
   "name": "python3"
  },
  "language_info": {
   "codemirror_mode": {
    "name": "ipython",
    "version": 3
   },
   "file_extension": ".py",
   "mimetype": "text/x-python",
   "name": "python",
   "nbconvert_exporter": "python",
   "pygments_lexer": "ipython3",
   "version": "3.10.8"
  },
  "toc": {
   "base_numbering": 1,
   "nav_menu": {},
   "number_sections": true,
   "sideBar": true,
   "skip_h1_title": false,
   "title_cell": "Table of Contents",
   "title_sidebar": "Contents",
   "toc_cell": false,
   "toc_position": {},
   "toc_section_display": true,
   "toc_window_display": false
  }
 },
 "nbformat": 4,
 "nbformat_minor": 5
}
