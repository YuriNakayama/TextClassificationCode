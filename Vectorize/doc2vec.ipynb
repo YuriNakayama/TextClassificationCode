{
 "cells": [
  {
   "cell_type": "markdown",
   "id": "b95f9187",
   "metadata": {},
   "source": [
    "# Import"
   ]
  },
  {
   "cell_type": "code",
   "execution_count": 1,
   "id": "80a85ab5",
   "metadata": {
    "ExecuteTime": {
     "end_time": "2023-02-09T10:26:55.945899Z",
     "start_time": "2023-02-09T10:26:54.808045Z"
    }
   },
   "outputs": [],
   "source": [
    "import csv\n",
    "import os\n",
    "import sys\n",
    "\n",
    "import numpy as np\n",
    "import pandas as pd\n",
    "from tqdm import tqdm\n",
    "from gensim.models.doc2vec import Doc2Vec, TaggedDocument"
   ]
  },
  {
   "cell_type": "markdown",
   "id": "2543f4e4",
   "metadata": {},
   "source": [
    "## Add configuration file"
   ]
  },
  {
   "cell_type": "code",
   "execution_count": 2,
   "id": "b62547de",
   "metadata": {
    "ExecuteTime": {
     "end_time": "2023-02-09T10:26:55.964913Z",
     "start_time": "2023-02-09T10:26:55.950320Z"
    }
   },
   "outputs": [],
   "source": [
    "sys.path.append(\"/home/jovyan/core/config/\")\n",
    "sys.path.append(\"/home/jovyan/core/util/\")"
   ]
  },
  {
   "cell_type": "code",
   "execution_count": 3,
   "id": "84da401b",
   "metadata": {
    "ExecuteTime": {
     "end_time": "2023-02-09T10:26:55.985952Z",
     "start_time": "2023-02-09T10:26:55.967604Z"
    }
   },
   "outputs": [],
   "source": [
    "from ALL import config \n",
    "from util import *"
   ]
  },
  {
   "cell_type": "markdown",
   "id": "9330548e",
   "metadata": {},
   "source": [
    "## Set condition"
   ]
  },
  {
   "cell_type": "code",
   "execution_count": 4,
   "id": "a30f3623",
   "metadata": {
    "ExecuteTime": {
     "end_time": "2023-02-09T10:26:55.992089Z",
     "start_time": "2023-02-09T10:26:55.988593Z"
    }
   },
   "outputs": [],
   "source": [
    "tqdm.pandas()\n",
    "pd.set_option(\"display.max_columns\", 100)\n",
    "pd.set_option(\"display.max_rows\", 50)"
   ]
  },
  {
   "cell_type": "code",
   "execution_count": 5,
   "id": "3c55632c",
   "metadata": {
    "ExecuteTime": {
     "end_time": "2023-02-09T10:26:55.999616Z",
     "start_time": "2023-02-09T10:26:55.993838Z"
    }
   },
   "outputs": [],
   "source": [
    "data_type=\"AgNewsTitle\""
   ]
  },
  {
   "cell_type": "code",
   "execution_count": 6,
   "id": "8c2c9160",
   "metadata": {
    "ExecuteTime": {
     "end_time": "2023-02-09T10:26:56.010565Z",
     "start_time": "2023-02-09T10:26:56.001380Z"
    }
   },
   "outputs": [],
   "source": [
    "s3 = S3Manager()"
   ]
  },
  {
   "cell_type": "markdown",
   "id": "52c60a4f",
   "metadata": {},
   "source": [
    "# Read data"
   ]
  },
  {
   "cell_type": "code",
   "execution_count": 7,
   "id": "8c00a984",
   "metadata": {
    "ExecuteTime": {
     "end_time": "2023-02-09T10:26:58.211504Z",
     "start_time": "2023-02-09T10:26:56.014178Z"
    }
   },
   "outputs": [],
   "source": [
    "df_path = s3.download(f\"Preprocessing/{data_type}/master.csv\")"
   ]
  },
  {
   "cell_type": "code",
   "execution_count": 8,
   "id": "c81d3638",
   "metadata": {
    "ExecuteTime": {
     "end_time": "2023-02-09T10:26:59.177535Z",
     "start_time": "2023-02-09T10:26:58.213365Z"
    },
    "scrolled": true
   },
   "outputs": [],
   "source": [
    "df = pd.read_csv(df_path[0], index_col=0)"
   ]
  },
  {
   "cell_type": "code",
   "execution_count": 9,
   "id": "ae147525",
   "metadata": {
    "ExecuteTime": {
     "end_time": "2023-02-09T10:26:59.618722Z",
     "start_time": "2023-02-09T10:26:59.182518Z"
    }
   },
   "outputs": [],
   "source": [
    "labels_path = s3.download(f\"Preprocessing/{data_type}/class.csv\")"
   ]
  },
  {
   "cell_type": "code",
   "execution_count": 10,
   "id": "95389cd0",
   "metadata": {
    "ExecuteTime": {
     "end_time": "2023-02-09T10:26:59.631318Z",
     "start_time": "2023-02-09T10:26:59.620609Z"
    }
   },
   "outputs": [],
   "source": [
    "with open(labels_path[0], mode=\"r\") as f:\n",
    "    reader = csv.reader(f)\n",
    "    class_labels = [label for label in reader]"
   ]
  },
  {
   "cell_type": "markdown",
   "id": "52a64d3c",
   "metadata": {},
   "source": [
    "# Vectorize"
   ]
  },
  {
   "cell_type": "code",
   "execution_count": 11,
   "id": "e0201596",
   "metadata": {
    "ExecuteTime": {
     "end_time": "2023-02-09T10:27:00.304614Z",
     "start_time": "2023-02-09T10:26:59.636921Z"
    }
   },
   "outputs": [],
   "source": [
    "documents = [\n",
    "    TaggedDocument(doc.split(\" \"), [i]) for i, doc in enumerate(df.words)\n",
    "]"
   ]
  },
  {
   "cell_type": "code",
   "execution_count": 12,
   "id": "fec767ee",
   "metadata": {
    "ExecuteTime": {
     "end_time": "2023-02-09T10:27:00.322537Z",
     "start_time": "2023-02-09T10:27:00.316438Z"
    }
   },
   "outputs": [],
   "source": [
    "vector_dims = config[\"vectorize\"][\"doc2vec\"][\"dims\"]\n",
    "max_model_num = config[\"vectorize\"][\"doc2vec\"][\"max_model_num\"]"
   ]
  },
  {
   "cell_type": "code",
   "execution_count": 13,
   "id": "33180347",
   "metadata": {
    "ExecuteTime": {
     "end_time": "2023-02-09T10:27:00.338281Z",
     "start_time": "2023-02-09T10:27:00.329197Z"
    },
    "code_folding": []
   },
   "outputs": [],
   "source": [
    "def get_doc2vec(texts, vector_size, seed, path):\n",
    "    model = Doc2Vec(\n",
    "        documents,\n",
    "        vector_size=vector_size,\n",
    "        window=5,\n",
    "        min_count=1,\n",
    "        epochs=50,\n",
    "        seed=seed,\n",
    "        workers=os.cpu_count(),\n",
    "    )\n",
    "    model.save(path)\n",
    "    vectors = [model.infer_vector(text) for text in texts]\n",
    "    return vectors"
   ]
  },
  {
   "cell_type": "code",
   "execution_count": 14,
   "id": "8ff6c10b",
   "metadata": {
    "ExecuteTime": {
     "end_time": "2023-02-09T12:48:19.550272Z",
     "start_time": "2023-02-09T10:27:00.350754Z"
    }
   },
   "outputs": [
    {
     "name": "stderr",
     "output_type": "stream",
     "text": [
      "100%|██████████| 8/8 [2:21:19<00:00, 1059.90s/it]\n"
     ]
    }
   ],
   "source": [
    "vectors_path = f\"../temporary/Vectorize/{data_type}/doc2vec/vector\"\n",
    "models_path = f\"../temporary/Vectorize/{data_type}/doc2vec/model\"\n",
    "for vector_size in tqdm(vector_dims):\n",
    "    for model_num in range(max_model_num):\n",
    "        vectors = get_doc2vec(\n",
    "            df.words.apply(lambda word: word.split(\" \")),\n",
    "            vector_size,\n",
    "            seed=model_num,\n",
    "            path=make_filepath(f\"{models_path}/{vector_size}/{model_num}.model\"),\n",
    "        )\n",
    "\n",
    "        np.save(\n",
    "            make_filepath(f\"{vectors_path}/{vector_size}/{model_num}.npy\"),\n",
    "            np.stack(vectors),\n",
    "        )"
   ]
  },
  {
   "cell_type": "markdown",
   "id": "24855153",
   "metadata": {},
   "source": [
    "## upload file"
   ]
  },
  {
   "cell_type": "code",
   "execution_count": 15,
   "id": "91f1d7f3",
   "metadata": {
    "ExecuteTime": {
     "end_time": "2023-02-09T12:48:42.219792Z",
     "start_time": "2023-02-09T12:48:19.552874Z"
    }
   },
   "outputs": [
    {
     "data": {
      "text/plain": [
       "'../temporary/Vectorize/AgNewsTitle/doc2vec/'"
      ]
     },
     "execution_count": 15,
     "metadata": {},
     "output_type": "execute_result"
    }
   ],
   "source": [
    "s3.upload(\n",
    "    f\"../temporary/Vectorize/{data_type}/doc2vec/\", f\"Vectorize/{data_type}/doc2vec/\"\n",
    ")"
   ]
  },
  {
   "cell_type": "code",
   "execution_count": 16,
   "id": "9918ccb3",
   "metadata": {
    "ExecuteTime": {
     "end_time": "2023-02-09T12:48:42.427599Z",
     "start_time": "2023-02-09T12:48:42.233896Z"
    }
   },
   "outputs": [
    {
     "name": "stdout",
     "output_type": "stream",
     "text": [
      "../temporary/Vectorize/AgNewsTitle/doc2vec/\n",
      "/home/jovyan/temporary/Preprocessing/AgNewsTitle/master.csv\n",
      "/home/jovyan/temporary/Preprocessing/AgNewsTitle/class.csv\n"
     ]
    }
   ],
   "source": [
    "s3.delete_local_all()"
   ]
  },
  {
   "cell_type": "code",
   "execution_count": null,
   "id": "9b5dca37",
   "metadata": {},
   "outputs": [],
   "source": []
  },
  {
   "cell_type": "code",
   "execution_count": null,
   "id": "07eae96a",
   "metadata": {},
   "outputs": [],
   "source": []
  },
  {
   "cell_type": "code",
   "execution_count": null,
   "id": "3fada6f9",
   "metadata": {},
   "outputs": [],
   "source": []
  },
  {
   "cell_type": "code",
   "execution_count": null,
   "id": "b0286f47",
   "metadata": {},
   "outputs": [],
   "source": []
  },
  {
   "cell_type": "code",
   "execution_count": null,
   "id": "6c59195b",
   "metadata": {},
   "outputs": [],
   "source": []
  },
  {
   "cell_type": "code",
   "execution_count": null,
   "id": "0c356506",
   "metadata": {},
   "outputs": [],
   "source": []
  }
 ],
 "metadata": {
  "kernelspec": {
   "display_name": "Python 3 (ipykernel)",
   "language": "python",
   "name": "python3"
  },
  "language_info": {
   "codemirror_mode": {
    "name": "ipython",
    "version": 3
   },
   "file_extension": ".py",
   "mimetype": "text/x-python",
   "name": "python",
   "nbconvert_exporter": "python",
   "pygments_lexer": "ipython3",
   "version": "3.10.8"
  },
  "toc": {
   "base_numbering": 1,
   "nav_menu": {},
   "number_sections": true,
   "sideBar": true,
   "skip_h1_title": false,
   "title_cell": "Table of Contents",
   "title_sidebar": "Contents",
   "toc_cell": false,
   "toc_position": {},
   "toc_section_display": true,
   "toc_window_display": false
  }
 },
 "nbformat": 4,
 "nbformat_minor": 5
}
