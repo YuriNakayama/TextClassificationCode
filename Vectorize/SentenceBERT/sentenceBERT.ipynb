{
 "cells": [
  {
   "cell_type": "markdown",
   "id": "b95f9187",
   "metadata": {},
   "source": [
    "# Import"
   ]
  },
  {
   "cell_type": "code",
   "execution_count": 58,
   "id": "80a85ab5",
   "metadata": {
    "ExecuteTime": {
     "end_time": "2023-02-08T06:57:41.155926Z",
     "start_time": "2023-02-08T06:57:41.152122Z"
    }
   },
   "outputs": [],
   "source": [
    "import csv\n",
    "import os\n",
    "import sys\n",
    "\n",
    "import numpy as np\n",
    "import pandas as pd\n",
    "from tqdm import tqdm\n",
    "from sentence_transformers import SentenceTransformer"
   ]
  },
  {
   "cell_type": "markdown",
   "id": "2543f4e4",
   "metadata": {},
   "source": [
    "## Add configuration file"
   ]
  },
  {
   "cell_type": "code",
   "execution_count": 59,
   "id": "b62547de",
   "metadata": {
    "ExecuteTime": {
     "end_time": "2023-02-08T06:57:41.737511Z",
     "start_time": "2023-02-08T06:57:41.734110Z"
    }
   },
   "outputs": [],
   "source": [
    "sys.path.append(\"/home/jovyan/core/config/\")\n",
    "sys.path.append(\"/home/jovyan/core/util/\")"
   ]
  },
  {
   "cell_type": "code",
   "execution_count": 60,
   "id": "84da401b",
   "metadata": {
    "ExecuteTime": {
     "end_time": "2023-02-08T06:57:41.820385Z",
     "start_time": "2023-02-08T06:57:41.817528Z"
    }
   },
   "outputs": [],
   "source": [
    "from ALL import config \n",
    "from util import *"
   ]
  },
  {
   "cell_type": "markdown",
   "id": "9330548e",
   "metadata": {},
   "source": [
    "## Set condition"
   ]
  },
  {
   "cell_type": "code",
   "execution_count": 61,
   "id": "a30f3623",
   "metadata": {
    "ExecuteTime": {
     "end_time": "2023-02-08T06:57:41.996737Z",
     "start_time": "2023-02-08T06:57:41.993022Z"
    }
   },
   "outputs": [],
   "source": [
    "tqdm.pandas()\n",
    "pd.set_option(\"display.max_columns\", 100)\n",
    "pd.set_option(\"display.max_rows\", 50)"
   ]
  },
  {
   "cell_type": "code",
   "execution_count": 62,
   "id": "ebb7b198",
   "metadata": {
    "ExecuteTime": {
     "end_time": "2023-02-08T06:57:42.072499Z",
     "start_time": "2023-02-08T06:57:42.069747Z"
    }
   },
   "outputs": [],
   "source": [
    "s3 = S3Manager()"
   ]
  },
  {
   "cell_type": "code",
   "execution_count": 63,
   "id": "0f9b2269",
   "metadata": {
    "ExecuteTime": {
     "end_time": "2023-02-08T06:57:42.165477Z",
     "start_time": "2023-02-08T06:57:42.162123Z"
    }
   },
   "outputs": [],
   "source": [
    "data_type = \"AgNewsTitle\""
   ]
  },
  {
   "cell_type": "code",
   "execution_count": 64,
   "id": "32b27ef1",
   "metadata": {
    "ExecuteTime": {
     "end_time": "2023-02-08T06:57:42.237137Z",
     "start_time": "2023-02-08T06:57:42.233958Z"
    }
   },
   "outputs": [],
   "source": [
    "transformer_model = \"sentence-transformers/all-mpnet-base-v2\""
   ]
  },
  {
   "cell_type": "markdown",
   "id": "52c60a4f",
   "metadata": {},
   "source": [
    "# Read data"
   ]
  },
  {
   "cell_type": "code",
   "execution_count": 65,
   "id": "6eb92fbc",
   "metadata": {
    "ExecuteTime": {
     "end_time": "2023-02-08T06:57:43.570240Z",
     "start_time": "2023-02-08T06:57:42.403022Z"
    }
   },
   "outputs": [],
   "source": [
    "df_path = s3.download(f\"Preprocessing/{data_type}/master.csv\")"
   ]
  },
  {
   "cell_type": "code",
   "execution_count": 66,
   "id": "c81d3638",
   "metadata": {
    "ExecuteTime": {
     "end_time": "2023-02-08T06:57:44.419356Z",
     "start_time": "2023-02-08T06:57:43.573270Z"
    },
    "scrolled": true
   },
   "outputs": [],
   "source": [
    "df = pd.read_csv(df_path, index_col=0)"
   ]
  },
  {
   "cell_type": "code",
   "execution_count": 67,
   "id": "258c44a6",
   "metadata": {
    "ExecuteTime": {
     "end_time": "2023-02-08T06:57:44.445051Z",
     "start_time": "2023-02-08T06:57:44.421918Z"
    }
   },
   "outputs": [],
   "source": [
    "# sampling for test\n",
    "# df.sample(n=1000, random_state=0)"
   ]
  },
  {
   "cell_type": "code",
   "execution_count": 68,
   "id": "6bbb6f1d",
   "metadata": {
    "ExecuteTime": {
     "end_time": "2023-02-08T06:57:44.592167Z",
     "start_time": "2023-02-08T06:57:44.448049Z"
    }
   },
   "outputs": [],
   "source": [
    "labels_path = s3.download(f\"Preprocessing/{data_type}/class.csv\")"
   ]
  },
  {
   "cell_type": "code",
   "execution_count": 69,
   "id": "95389cd0",
   "metadata": {
    "ExecuteTime": {
     "end_time": "2023-02-08T06:57:44.598557Z",
     "start_time": "2023-02-08T06:57:44.594414Z"
    }
   },
   "outputs": [],
   "source": [
    "with open(labels_path, mode=\"r\") as f:\n",
    "    reader = csv.reader(f)\n",
    "    class_labels = [label for label in reader]"
   ]
  },
  {
   "cell_type": "code",
   "execution_count": 70,
   "id": "fec767ee",
   "metadata": {
    "ExecuteTime": {
     "end_time": "2023-02-08T06:57:44.611231Z",
     "start_time": "2023-02-08T06:57:44.600700Z"
    }
   },
   "outputs": [],
   "source": [
    "max_model_num = config[\"vectorize\"][\"sentenceBERT\"][\"max_model_num\"]"
   ]
  },
  {
   "cell_type": "markdown",
   "id": "663f3685",
   "metadata": {},
   "source": [
    "# Embedding"
   ]
  },
  {
   "cell_type": "code",
   "execution_count": 71,
   "id": "33180347",
   "metadata": {
    "ExecuteTime": {
     "end_time": "2023-02-08T06:57:44.629735Z",
     "start_time": "2023-02-08T06:57:44.626184Z"
    },
    "code_folding": []
   },
   "outputs": [],
   "source": [
    "def get_sentenceBERT(texts,seed, path):\n",
    "    model = SentenceTransformer(transformer_model)\n",
    "    model.save(path)\n",
    "    vectors = model.encode(texts)\n",
    "    return vectors"
   ]
  },
  {
   "cell_type": "code",
   "execution_count": null,
   "id": "8ff6c10b",
   "metadata": {
    "ExecuteTime": {
     "start_time": "2023-02-08T06:57:43.308Z"
    }
   },
   "outputs": [
    {
     "name": "stderr",
     "output_type": "stream",
     "text": [
      "\r",
      "  0%|          | 0/1 [00:00<?, ?it/s]"
     ]
    },
    {
     "data": {
      "application/vnd.jupyter.widget-view+json": {
       "model_id": "a21ace58ff08421882b9358e574c4dcc",
       "version_major": 2,
       "version_minor": 0
      },
      "text/plain": [
       "Downloading (…)a8e1d/.gitattributes:   0%|          | 0.00/1.18k [00:00<?, ?B/s]"
      ]
     },
     "metadata": {},
     "output_type": "display_data"
    },
    {
     "data": {
      "application/vnd.jupyter.widget-view+json": {
       "model_id": "145e9841809040f3bd677f3e55cc495b",
       "version_major": 2,
       "version_minor": 0
      },
      "text/plain": [
       "Downloading (…)_Pooling/config.json:   0%|          | 0.00/190 [00:00<?, ?B/s]"
      ]
     },
     "metadata": {},
     "output_type": "display_data"
    },
    {
     "data": {
      "application/vnd.jupyter.widget-view+json": {
       "model_id": "af611bbd072f48cfa5622bfa0b3c4ec9",
       "version_major": 2,
       "version_minor": 0
      },
      "text/plain": [
       "Downloading (…)b20bca8e1d/README.md:   0%|          | 0.00/10.6k [00:00<?, ?B/s]"
      ]
     },
     "metadata": {},
     "output_type": "display_data"
    },
    {
     "data": {
      "application/vnd.jupyter.widget-view+json": {
       "model_id": "d5dc19e31dcb435ab9794343e08a6074",
       "version_major": 2,
       "version_minor": 0
      },
      "text/plain": [
       "Downloading (…)0bca8e1d/config.json:   0%|          | 0.00/571 [00:00<?, ?B/s]"
      ]
     },
     "metadata": {},
     "output_type": "display_data"
    },
    {
     "data": {
      "application/vnd.jupyter.widget-view+json": {
       "model_id": "633ccad44810472a809ae3cb2fec129d",
       "version_major": 2,
       "version_minor": 0
      },
      "text/plain": [
       "Downloading (…)ce_transformers.json:   0%|          | 0.00/116 [00:00<?, ?B/s]"
      ]
     },
     "metadata": {},
     "output_type": "display_data"
    },
    {
     "data": {
      "application/vnd.jupyter.widget-view+json": {
       "model_id": "7ebef4dd60064da2920315caf956d030",
       "version_major": 2,
       "version_minor": 0
      },
      "text/plain": [
       "Downloading (…)e1d/data_config.json:   0%|          | 0.00/39.3k [00:00<?, ?B/s]"
      ]
     },
     "metadata": {},
     "output_type": "display_data"
    },
    {
     "data": {
      "application/vnd.jupyter.widget-view+json": {
       "model_id": "43eea15079b9495489d421ab8510d55f",
       "version_major": 2,
       "version_minor": 0
      },
      "text/plain": [
       "Downloading (…)\"pytorch_model.bin\";:   0%|          | 0.00/438M [00:00<?, ?B/s]"
      ]
     },
     "metadata": {},
     "output_type": "display_data"
    },
    {
     "data": {
      "application/vnd.jupyter.widget-view+json": {
       "model_id": "efefd23b078a4198854b30e27ef611cd",
       "version_major": 2,
       "version_minor": 0
      },
      "text/plain": [
       "Downloading (…)nce_bert_config.json:   0%|          | 0.00/53.0 [00:00<?, ?B/s]"
      ]
     },
     "metadata": {},
     "output_type": "display_data"
    },
    {
     "data": {
      "application/vnd.jupyter.widget-view+json": {
       "model_id": "e850354a51f842ec952b0d6ec1294ce5",
       "version_major": 2,
       "version_minor": 0
      },
      "text/plain": [
       "Downloading (…)cial_tokens_map.json:   0%|          | 0.00/239 [00:00<?, ?B/s]"
      ]
     },
     "metadata": {},
     "output_type": "display_data"
    },
    {
     "data": {
      "application/vnd.jupyter.widget-view+json": {
       "model_id": "38e9d236774f491c854a34176c52a847",
       "version_major": 2,
       "version_minor": 0
      },
      "text/plain": [
       "Downloading (…)a8e1d/tokenizer.json:   0%|          | 0.00/466k [00:00<?, ?B/s]"
      ]
     },
     "metadata": {},
     "output_type": "display_data"
    },
    {
     "data": {
      "application/vnd.jupyter.widget-view+json": {
       "model_id": "61670502884e45d5b89a06b76a53d7ee",
       "version_major": 2,
       "version_minor": 0
      },
      "text/plain": [
       "Downloading (…)okenizer_config.json:   0%|          | 0.00/363 [00:00<?, ?B/s]"
      ]
     },
     "metadata": {},
     "output_type": "display_data"
    },
    {
     "data": {
      "application/vnd.jupyter.widget-view+json": {
       "model_id": "d41eaf04f620469a929983d7c03d9933",
       "version_major": 2,
       "version_minor": 0
      },
      "text/plain": [
       "Downloading (…)8e1d/train_script.py:   0%|          | 0.00/13.1k [00:00<?, ?B/s]"
      ]
     },
     "metadata": {},
     "output_type": "display_data"
    },
    {
     "data": {
      "application/vnd.jupyter.widget-view+json": {
       "model_id": "48eb5ae68b5944c8b0df7299444e6a31",
       "version_major": 2,
       "version_minor": 0
      },
      "text/plain": [
       "Downloading (…)b20bca8e1d/vocab.txt:   0%|          | 0.00/232k [00:00<?, ?B/s]"
      ]
     },
     "metadata": {},
     "output_type": "display_data"
    },
    {
     "data": {
      "application/vnd.jupyter.widget-view+json": {
       "model_id": "81c419a76c4c41a8a8f128157e37218b",
       "version_major": 2,
       "version_minor": 0
      },
      "text/plain": [
       "Downloading (…)bca8e1d/modules.json:   0%|          | 0.00/349 [00:00<?, ?B/s]"
      ]
     },
     "metadata": {},
     "output_type": "display_data"
    }
   ],
   "source": [
    "vectors_path = f\"../../temporary/Vectorize/{data_type}/sentenceBERT/{transformer_model}/vector\"\n",
    "models_path = f\"../../temporary/Vectorize/{data_type}/sentenceBERT/{transformer_model}/model\"\n",
    "\n",
    "for model_num in tqdm(range(max_model_num)):\n",
    "    vectors = get_sentenceBERT(\n",
    "        df.text.tolist(),\n",
    "        seed=model_num,\n",
    "        path=make_filepath(f\"{models_path}/{model_num}\"),\n",
    "    )\n",
    "\n",
    "    np.save(\n",
    "        make_filepath(f\"{vectors_path}/raw/{model_num}.npy\"),\n",
    "        np.stack(vectors),\n",
    "    )"
   ]
  },
  {
   "cell_type": "markdown",
   "id": "1583f726",
   "metadata": {},
   "source": [
    "## upload file"
   ]
  },
  {
   "cell_type": "code",
   "execution_count": null,
   "id": "e4116ffa",
   "metadata": {
    "ExecuteTime": {
     "start_time": "2023-02-08T06:57:44.032Z"
    }
   },
   "outputs": [],
   "source": [
    "s3.upload(\n",
    "    f\"../../temporary/Vectorize/{data_type}/sentenceBERT/{transformer_model}/\", \n",
    "    f\"Vectorize/{data_type}/sentenceBERT/{transformer_model}/\"\n",
    ")"
   ]
  },
  {
   "cell_type": "code",
   "execution_count": null,
   "id": "75b9d7e4",
   "metadata": {
    "ExecuteTime": {
     "start_time": "2023-02-08T06:57:44.221Z"
    }
   },
   "outputs": [],
   "source": [
    "s3.delete_local_all()"
   ]
  },
  {
   "cell_type": "code",
   "execution_count": null,
   "id": "db9d6462",
   "metadata": {
    "ExecuteTime": {
     "start_time": "2023-02-08T06:57:44.373Z"
    }
   },
   "outputs": [],
   "source": [
    "send_line_notify(f\"end {data_type} sentenceBERT {transformer_model}\")"
   ]
  },
  {
   "cell_type": "code",
   "execution_count": null,
   "id": "495bc26e",
   "metadata": {},
   "outputs": [],
   "source": []
  },
  {
   "cell_type": "code",
   "execution_count": null,
   "id": "3fedf7af",
   "metadata": {},
   "outputs": [],
   "source": []
  }
 ],
 "metadata": {
  "kernelspec": {
   "display_name": "Python 3 (ipykernel)",
   "language": "python",
   "name": "python3"
  },
  "language_info": {
   "codemirror_mode": {
    "name": "ipython",
    "version": 3
   },
   "file_extension": ".py",
   "mimetype": "text/x-python",
   "name": "python",
   "nbconvert_exporter": "python",
   "pygments_lexer": "ipython3",
   "version": "3.10.8"
  },
  "toc": {
   "base_numbering": 1,
   "nav_menu": {},
   "number_sections": true,
   "sideBar": true,
   "skip_h1_title": false,
   "title_cell": "Table of Contents",
   "title_sidebar": "Contents",
   "toc_cell": false,
   "toc_position": {},
   "toc_section_display": true,
   "toc_window_display": false
  }
 },
 "nbformat": 4,
 "nbformat_minor": 5
}
