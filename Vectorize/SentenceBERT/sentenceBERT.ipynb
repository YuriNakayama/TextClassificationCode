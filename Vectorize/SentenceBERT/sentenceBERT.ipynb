{
 "cells": [
  {
   "cell_type": "markdown",
   "id": "b95f9187",
   "metadata": {},
   "source": [
    "# Import"
   ]
  },
  {
   "cell_type": "code",
   "execution_count": 1,
   "id": "80a85ab5",
   "metadata": {
    "ExecuteTime": {
     "end_time": "2022-12-20T01:07:54.229165Z",
     "start_time": "2022-12-20T01:07:48.440374Z"
    }
   },
   "outputs": [],
   "source": [
    "import csv\n",
    "import os\n",
    "import sys\n",
    "\n",
    "import numpy as np\n",
    "import pandas as pd\n",
    "from tqdm import tqdm\n",
    "from sentence_transformers import SentenceTransformer"
   ]
  },
  {
   "cell_type": "markdown",
   "id": "2543f4e4",
   "metadata": {},
   "source": [
    "## Add configuration file"
   ]
  },
  {
   "cell_type": "code",
   "execution_count": 2,
   "id": "b62547de",
   "metadata": {
    "ExecuteTime": {
     "end_time": "2022-12-20T01:07:54.239605Z",
     "start_time": "2022-12-20T01:07:54.231495Z"
    }
   },
   "outputs": [],
   "source": [
    "sys.path.append(\"/home/jovyan/core/config/\")\n",
    "sys.path.append(\"/home/jovyan/core/util/\")"
   ]
  },
  {
   "cell_type": "code",
   "execution_count": 3,
   "id": "84da401b",
   "metadata": {
    "ExecuteTime": {
     "end_time": "2022-12-20T01:07:54.247351Z",
     "start_time": "2022-12-20T01:07:54.241683Z"
    }
   },
   "outputs": [],
   "source": [
    "from ALL import config \n",
    "from util import *"
   ]
  },
  {
   "cell_type": "markdown",
   "id": "9330548e",
   "metadata": {},
   "source": [
    "## Set condition"
   ]
  },
  {
   "cell_type": "code",
   "execution_count": 4,
   "id": "a30f3623",
   "metadata": {
    "ExecuteTime": {
     "end_time": "2022-12-20T01:07:54.255349Z",
     "start_time": "2022-12-20T01:07:54.249677Z"
    }
   },
   "outputs": [],
   "source": [
    "tqdm.pandas()\n",
    "pd.set_option(\"display.max_columns\", 100)\n",
    "pd.set_option(\"display.max_rows\", 50)"
   ]
  },
  {
   "cell_type": "code",
   "execution_count": 5,
   "id": "0f9b2269",
   "metadata": {
    "ExecuteTime": {
     "end_time": "2022-12-20T01:07:54.262963Z",
     "start_time": "2022-12-20T01:07:54.257443Z"
    }
   },
   "outputs": [],
   "source": [
    "data_type=\"20News\""
   ]
  },
  {
   "cell_type": "markdown",
   "id": "52c60a4f",
   "metadata": {},
   "source": [
    "# Read data"
   ]
  },
  {
   "cell_type": "code",
   "execution_count": 6,
   "id": "c81d3638",
   "metadata": {
    "ExecuteTime": {
     "end_time": "2022-12-20T01:07:55.867835Z",
     "start_time": "2022-12-20T01:07:54.264920Z"
    },
    "scrolled": true
   },
   "outputs": [],
   "source": [
    "df = pd.read_csv(f\"../../Preprocessing/data/{data_type}/master.csv\", index_col=0)"
   ]
  },
  {
   "cell_type": "code",
   "execution_count": 7,
   "id": "95389cd0",
   "metadata": {
    "ExecuteTime": {
     "end_time": "2022-12-20T01:07:55.876415Z",
     "start_time": "2022-12-20T01:07:55.870991Z"
    }
   },
   "outputs": [],
   "source": [
    "with open(f\"../../Preprocessing/data/{data_type}/class.csv\", mode=\"r\") as f:\n",
    "    reader = csv.reader(f)\n",
    "    class_labels = [label for label in reader]"
   ]
  },
  {
   "cell_type": "code",
   "execution_count": 8,
   "id": "fec767ee",
   "metadata": {
    "ExecuteTime": {
     "end_time": "2022-12-20T01:07:55.888254Z",
     "start_time": "2022-12-20T01:07:55.878659Z"
    }
   },
   "outputs": [],
   "source": [
    "max_model_num = config[\"vectorize\"][\"sentenceBERT\"][\"max_model_num\"]"
   ]
  },
  {
   "cell_type": "markdown",
   "id": "663f3685",
   "metadata": {},
   "source": [
    "# Embedding"
   ]
  },
  {
   "cell_type": "code",
   "execution_count": 9,
   "id": "33180347",
   "metadata": {
    "ExecuteTime": {
     "end_time": "2022-12-20T01:07:55.896597Z",
     "start_time": "2022-12-20T01:07:55.892012Z"
    },
    "code_folding": []
   },
   "outputs": [],
   "source": [
    "def get_sentenceBERT(texts,seed, path):\n",
    "    model = SentenceTransformer('sentence-transformers/all-MiniLM-L6-v2')\n",
    "    model.save(path)\n",
    "    vectors = model.encode(texts)\n",
    "    return vectors"
   ]
  },
  {
   "cell_type": "code",
   "execution_count": 10,
   "id": "8ff6c10b",
   "metadata": {
    "ExecuteTime": {
     "end_time": "2022-12-20T01:45:22.234318Z",
     "start_time": "2022-12-20T01:07:55.899700Z"
    }
   },
   "outputs": [
    {
     "name": "stderr",
     "output_type": "stream",
     "text": [
      "100%|██████████| 1/1 [37:26<00:00, 2246.31s/it]\n"
     ]
    }
   ],
   "source": [
    "vectors_path = f\"../data/{data_type}/sentenceBERT/vector/raw\"\n",
    "models_path = f\"../data/{data_type}/sentenceBERT/model\"\n",
    "\n",
    "for model_num in tqdm(range(max_model_num)):\n",
    "    vectors = get_sentenceBERT(\n",
    "        df.text.tolist(),\n",
    "        seed=model_num,\n",
    "        path=make_filepath(f\"{models_path}/{model_num}\"),\n",
    "    )\n",
    "\n",
    "    np.save(\n",
    "        make_filepath(f\"{vectors_path}/{model_num}.npy\"),\n",
    "        np.stack(vectors),\n",
    "    )"
   ]
  },
  {
   "cell_type": "code",
   "execution_count": null,
   "id": "8d251e2c",
   "metadata": {},
   "outputs": [],
   "source": []
  },
  {
   "cell_type": "code",
   "execution_count": null,
   "id": "db9d6462",
   "metadata": {},
   "outputs": [],
   "source": []
  },
  {
   "cell_type": "code",
   "execution_count": null,
   "id": "495bc26e",
   "metadata": {},
   "outputs": [],
   "source": []
  },
  {
   "cell_type": "code",
   "execution_count": null,
   "id": "3fedf7af",
   "metadata": {},
   "outputs": [],
   "source": []
  }
 ],
 "metadata": {
  "kernelspec": {
   "display_name": "Python 3 (ipykernel)",
   "language": "python",
   "name": "python3"
  },
  "language_info": {
   "codemirror_mode": {
    "name": "ipython",
    "version": 3
   },
   "file_extension": ".py",
   "mimetype": "text/x-python",
   "name": "python",
   "nbconvert_exporter": "python",
   "pygments_lexer": "ipython3",
   "version": "3.10.8"
  },
  "toc": {
   "base_numbering": 1,
   "nav_menu": {},
   "number_sections": true,
   "sideBar": true,
   "skip_h1_title": false,
   "title_cell": "Table of Contents",
   "title_sidebar": "Contents",
   "toc_cell": false,
   "toc_position": {},
   "toc_section_display": true,
   "toc_window_display": false
  }
 },
 "nbformat": 4,
 "nbformat_minor": 5
}
