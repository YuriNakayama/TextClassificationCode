{
 "cells": [
  {
   "cell_type": "markdown",
   "id": "b95f9187",
   "metadata": {},
   "source": [
    "# Import"
   ]
  },
  {
   "cell_type": "code",
   "execution_count": 21,
   "id": "80a85ab5",
   "metadata": {
    "ExecuteTime": {
     "end_time": "2022-12-18T03:56:25.135867Z",
     "start_time": "2022-12-18T03:56:25.130635Z"
    }
   },
   "outputs": [],
   "source": [
    "import csv\n",
    "import os\n",
    "import sys\n",
    "\n",
    "import numpy as np\n",
    "import pandas as pd\n",
    "from tqdm import tqdm\n",
    "from sentence_transformers import SentenceTransformer"
   ]
  },
  {
   "cell_type": "markdown",
   "id": "2543f4e4",
   "metadata": {},
   "source": [
    "## Add configuration file"
   ]
  },
  {
   "cell_type": "code",
   "execution_count": 22,
   "id": "b62547de",
   "metadata": {
    "ExecuteTime": {
     "end_time": "2022-12-18T03:56:25.709252Z",
     "start_time": "2022-12-18T03:56:25.706235Z"
    }
   },
   "outputs": [],
   "source": [
    "sys.path.append(\"/home/jovyan/core/config/\")\n",
    "sys.path.append(\"/home/jovyan/core/util/\")"
   ]
  },
  {
   "cell_type": "code",
   "execution_count": 23,
   "id": "84da401b",
   "metadata": {
    "ExecuteTime": {
     "end_time": "2022-12-18T03:56:25.795413Z",
     "start_time": "2022-12-18T03:56:25.792598Z"
    }
   },
   "outputs": [],
   "source": [
    "from ALL import config \n",
    "from util import *"
   ]
  },
  {
   "cell_type": "markdown",
   "id": "9330548e",
   "metadata": {},
   "source": [
    "## Set condition"
   ]
  },
  {
   "cell_type": "code",
   "execution_count": 24,
   "id": "a30f3623",
   "metadata": {
    "ExecuteTime": {
     "end_time": "2022-12-18T03:56:25.959586Z",
     "start_time": "2022-12-18T03:56:25.956061Z"
    }
   },
   "outputs": [],
   "source": [
    "tqdm.pandas()\n",
    "pd.set_option(\"display.max_columns\", 100)\n",
    "pd.set_option(\"display.max_rows\", 50)"
   ]
  },
  {
   "cell_type": "code",
   "execution_count": 25,
   "id": "0f9b2269",
   "metadata": {
    "ExecuteTime": {
     "end_time": "2022-12-18T03:56:26.041478Z",
     "start_time": "2022-12-18T03:56:26.038559Z"
    }
   },
   "outputs": [],
   "source": [
    "data_type=\"AgNews\""
   ]
  },
  {
   "cell_type": "markdown",
   "id": "52c60a4f",
   "metadata": {},
   "source": [
    "# Read data"
   ]
  },
  {
   "cell_type": "code",
   "execution_count": 26,
   "id": "c81d3638",
   "metadata": {
    "ExecuteTime": {
     "end_time": "2022-12-18T03:56:27.097700Z",
     "start_time": "2022-12-18T03:56:26.205867Z"
    },
    "scrolled": true
   },
   "outputs": [],
   "source": [
    "df = pd.read_csv(\n",
    "    f\"../../Preprocessing/data/{data_type}/master.csv\", index_col=0\n",
    ")"
   ]
  },
  {
   "cell_type": "code",
   "execution_count": 27,
   "id": "240d0e15",
   "metadata": {
    "ExecuteTime": {
     "end_time": "2022-12-18T03:56:27.120138Z",
     "start_time": "2022-12-18T03:56:27.100950Z"
    }
   },
   "outputs": [],
   "source": [
    "# limitation for test\n",
    "df = df.sample(1000)"
   ]
  },
  {
   "cell_type": "code",
   "execution_count": 28,
   "id": "95389cd0",
   "metadata": {
    "ExecuteTime": {
     "end_time": "2022-12-18T03:56:27.128495Z",
     "start_time": "2022-12-18T03:56:27.122674Z"
    }
   },
   "outputs": [],
   "source": [
    "with open(f\"../../Preprocessing/data/{data_type}/class.csv\", mode=\"r\") as f:\n",
    "    reader = csv.reader(f)\n",
    "    class_labels = [label for label in reader]"
   ]
  },
  {
   "cell_type": "code",
   "execution_count": 29,
   "id": "fec767ee",
   "metadata": {
    "ExecuteTime": {
     "end_time": "2022-12-18T03:56:27.135039Z",
     "start_time": "2022-12-18T03:56:27.131304Z"
    }
   },
   "outputs": [],
   "source": [
    "max_model_num = config[\"vectorize\"][\"sentenceBERT\"][\"max_model_num\"]"
   ]
  },
  {
   "cell_type": "markdown",
   "id": "663f3685",
   "metadata": {},
   "source": [
    "# Embedding"
   ]
  },
  {
   "cell_type": "code",
   "execution_count": 30,
   "id": "33180347",
   "metadata": {
    "ExecuteTime": {
     "end_time": "2022-12-18T03:56:27.141711Z",
     "start_time": "2022-12-18T03:56:27.137078Z"
    },
    "code_folding": []
   },
   "outputs": [],
   "source": [
    "def get_sentenceBERT(texts,seed, path):\n",
    "    model = SentenceTransformer('sentence-transformers/all-MiniLM-L6-v2')\n",
    "    model.save(path)\n",
    "    vectors = model.encode(texts)\n",
    "    return vectors"
   ]
  },
  {
   "cell_type": "code",
   "execution_count": 31,
   "id": "8ff6c10b",
   "metadata": {
    "ExecuteTime": {
     "end_time": "2022-12-18T03:56:49.393707Z",
     "start_time": "2022-12-18T03:56:27.144068Z"
    }
   },
   "outputs": [],
   "source": [
    "vectors_path = f\"../data/{data_type}/sentenceBERT/vector/raw\"\n",
    "models_path = f\"../data/{data_type}/sentenceBERT/model\"\n",
    "\n",
    "for model_num in range(max_model_num):\n",
    "    vectors = get_sentenceBERT(\n",
    "        df.text.tolist(),\n",
    "        seed=model_num,\n",
    "        path=make_filepath(f\"{models_path}/{model_num}\"),\n",
    "    )\n",
    "\n",
    "    np.save(\n",
    "        make_filepath(f\"{vectors_path}/{model_num}.npy\"),\n",
    "        np.stack(vectors),\n",
    "    )"
   ]
  },
  {
   "cell_type": "code",
   "execution_count": 33,
   "id": "3680cc91",
   "metadata": {
    "ExecuteTime": {
     "end_time": "2022-12-18T05:15:56.556919Z",
     "start_time": "2022-12-18T05:15:56.554093Z"
    }
   },
   "outputs": [],
   "source": [
    "# import shutil\n",
    "# shutil.rmtree('data/AgNews/sentenceBERT/')"
   ]
  },
  {
   "cell_type": "code",
   "execution_count": null,
   "id": "ecb508db",
   "metadata": {},
   "outputs": [],
   "source": []
  }
 ],
 "metadata": {
  "kernelspec": {
   "display_name": "Python 3 (ipykernel)",
   "language": "python",
   "name": "python3"
  },
  "language_info": {
   "codemirror_mode": {
    "name": "ipython",
    "version": 3
   },
   "file_extension": ".py",
   "mimetype": "text/x-python",
   "name": "python",
   "nbconvert_exporter": "python",
   "pygments_lexer": "ipython3",
   "version": "3.10.8"
  },
  "toc": {
   "base_numbering": 1,
   "nav_menu": {},
   "number_sections": true,
   "sideBar": true,
   "skip_h1_title": false,
   "title_cell": "Table of Contents",
   "title_sidebar": "Contents",
   "toc_cell": false,
   "toc_position": {},
   "toc_section_display": true,
   "toc_window_display": false
  }
 },
 "nbformat": 4,
 "nbformat_minor": 5
}
