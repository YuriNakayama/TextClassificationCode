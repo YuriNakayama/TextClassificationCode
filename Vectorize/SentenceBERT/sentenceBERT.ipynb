{
 "cells": [
  {
   "cell_type": "markdown",
   "id": "b95f9187",
   "metadata": {},
   "source": [
    "# Import"
   ]
  },
  {
   "cell_type": "code",
   "execution_count": 1,
   "id": "80a85ab5",
   "metadata": {
    "ExecuteTime": {
     "end_time": "2023-02-09T08:06:19.574795Z",
     "start_time": "2023-02-09T08:06:16.902511Z"
    }
   },
   "outputs": [],
   "source": [
    "import csv\n",
    "import os\n",
    "import sys\n",
    "\n",
    "import numpy as np\n",
    "import pandas as pd\n",
    "from tqdm import tqdm\n",
    "from sentence_transformers import SentenceTransformer"
   ]
  },
  {
   "cell_type": "markdown",
   "id": "2543f4e4",
   "metadata": {},
   "source": [
    "## Add configuration file"
   ]
  },
  {
   "cell_type": "code",
   "execution_count": 2,
   "id": "b62547de",
   "metadata": {
    "ExecuteTime": {
     "end_time": "2023-02-09T08:06:19.581337Z",
     "start_time": "2023-02-09T08:06:19.578056Z"
    }
   },
   "outputs": [],
   "source": [
    "sys.path.append(\"/home/jovyan/core/config/\")\n",
    "sys.path.append(\"/home/jovyan/core/util/\")"
   ]
  },
  {
   "cell_type": "code",
   "execution_count": 3,
   "id": "84da401b",
   "metadata": {
    "ExecuteTime": {
     "end_time": "2023-02-09T08:06:19.692893Z",
     "start_time": "2023-02-09T08:06:19.585669Z"
    }
   },
   "outputs": [],
   "source": [
    "from ALL import config \n",
    "from util import *"
   ]
  },
  {
   "cell_type": "markdown",
   "id": "9330548e",
   "metadata": {},
   "source": [
    "## Set condition"
   ]
  },
  {
   "cell_type": "code",
   "execution_count": 4,
   "id": "a30f3623",
   "metadata": {
    "ExecuteTime": {
     "end_time": "2023-02-09T08:06:19.699644Z",
     "start_time": "2023-02-09T08:06:19.695362Z"
    }
   },
   "outputs": [],
   "source": [
    "tqdm.pandas()\n",
    "pd.set_option(\"display.max_columns\", 100)\n",
    "pd.set_option(\"display.max_rows\", 50)"
   ]
  },
  {
   "cell_type": "code",
   "execution_count": 5,
   "id": "33469657",
   "metadata": {
    "ExecuteTime": {
     "end_time": "2023-02-09T08:06:19.705925Z",
     "start_time": "2023-02-09T08:06:19.702978Z"
    }
   },
   "outputs": [],
   "source": [
    "s3 = S3Manager()"
   ]
  },
  {
   "cell_type": "code",
   "execution_count": 6,
   "id": "0f9b2269",
   "metadata": {
    "ExecuteTime": {
     "end_time": "2023-02-09T08:06:19.712257Z",
     "start_time": "2023-02-09T08:06:19.707840Z"
    }
   },
   "outputs": [],
   "source": [
    "data_type = \"20News\""
   ]
  },
  {
   "cell_type": "code",
   "execution_count": 7,
   "id": "1219372d",
   "metadata": {
    "ExecuteTime": {
     "end_time": "2023-02-09T08:06:19.717589Z",
     "start_time": "2023-02-09T08:06:19.714167Z"
    }
   },
   "outputs": [],
   "source": [
    "transformer_model = \"sentence-transformers/all-mpnet-base-v2\""
   ]
  },
  {
   "cell_type": "markdown",
   "id": "52c60a4f",
   "metadata": {},
   "source": [
    "# Read data"
   ]
  },
  {
   "cell_type": "code",
   "execution_count": 8,
   "id": "28b4e890",
   "metadata": {
    "ExecuteTime": {
     "end_time": "2023-02-09T08:06:22.622520Z",
     "start_time": "2023-02-09T08:06:19.719816Z"
    }
   },
   "outputs": [],
   "source": [
    "df_path = s3.download(f\"Preprocessing/{data_type}/master.csv\")"
   ]
  },
  {
   "cell_type": "code",
   "execution_count": 9,
   "id": "c81d3638",
   "metadata": {
    "ExecuteTime": {
     "end_time": "2023-02-09T08:06:23.413317Z",
     "start_time": "2023-02-09T08:06:22.625055Z"
    },
    "scrolled": true
   },
   "outputs": [],
   "source": [
    "df = pd.read_csv(df_path[0], index_col=0)"
   ]
  },
  {
   "cell_type": "code",
   "execution_count": 10,
   "id": "8fc6d21c",
   "metadata": {
    "ExecuteTime": {
     "end_time": "2023-02-09T08:06:23.418834Z",
     "start_time": "2023-02-09T08:06:23.416080Z"
    }
   },
   "outputs": [],
   "source": [
    "# sampling for test\n",
    "# df.sample(n=1000, random_state=0)"
   ]
  },
  {
   "cell_type": "code",
   "execution_count": 11,
   "id": "bf9bdc13",
   "metadata": {
    "ExecuteTime": {
     "end_time": "2023-02-09T08:06:23.722480Z",
     "start_time": "2023-02-09T08:06:23.420746Z"
    }
   },
   "outputs": [],
   "source": [
    "labels_path = s3.download(f\"Preprocessing/{data_type}/class.csv\")"
   ]
  },
  {
   "cell_type": "code",
   "execution_count": 12,
   "id": "95389cd0",
   "metadata": {
    "ExecuteTime": {
     "end_time": "2023-02-09T08:06:23.728827Z",
     "start_time": "2023-02-09T08:06:23.724933Z"
    }
   },
   "outputs": [],
   "source": [
    "with open(labels_path[0], mode=\"r\") as f:\n",
    "    reader = csv.reader(f)\n",
    "    class_labels = [label for label in reader]"
   ]
  },
  {
   "cell_type": "code",
   "execution_count": 13,
   "id": "fec767ee",
   "metadata": {
    "ExecuteTime": {
     "end_time": "2023-02-09T08:06:23.736823Z",
     "start_time": "2023-02-09T08:06:23.731063Z"
    }
   },
   "outputs": [],
   "source": [
    "max_model_num = config[\"vectorize\"][\"sentenceBERT\"][\"max_model_num\"]"
   ]
  },
  {
   "cell_type": "markdown",
   "id": "663f3685",
   "metadata": {},
   "source": [
    "# Embedding"
   ]
  },
  {
   "cell_type": "code",
   "execution_count": 14,
   "id": "33180347",
   "metadata": {
    "ExecuteTime": {
     "end_time": "2023-02-09T08:06:23.745671Z",
     "start_time": "2023-02-09T08:06:23.742751Z"
    },
    "code_folding": []
   },
   "outputs": [],
   "source": [
    "def get_sentenceBERT(texts,seed, path):\n",
    "    model = SentenceTransformer(transformer_model)\n",
    "    model.save(path)\n",
    "    vectors = model.encode(texts)\n",
    "    return vectors"
   ]
  },
  {
   "cell_type": "code",
   "execution_count": null,
   "id": "8ff6c10b",
   "metadata": {
    "ExecuteTime": {
     "start_time": "2023-02-09T08:06:16.181Z"
    }
   },
   "outputs": [
    {
     "name": "stderr",
     "output_type": "stream",
     "text": [
      "\r",
      "  0%|          | 0/1 [00:00<?, ?it/s]"
     ]
    }
   ],
   "source": [
    "vectors_path = f\"../../temporary/Vectorize/{data_type}/sentenceBERT/{transformer_model}/vector\"\n",
    "models_path = f\"../../temporary/Vectorize/{data_type}/sentenceBERT/{transformer_model}/model\"\n",
    "\n",
    "for model_num in tqdm(range(max_model_num)):\n",
    "    vectors = get_sentenceBERT(\n",
    "        df.text.tolist(),\n",
    "        seed=model_num,\n",
    "        path=make_filepath(f\"{models_path}/{model_num}\"),\n",
    "    )\n",
    "\n",
    "    np.save(\n",
    "        make_filepath(f\"{vectors_path}/raw/{model_num}.npy\"),\n",
    "        np.stack(vectors),\n",
    "    )"
   ]
  },
  {
   "cell_type": "markdown",
   "id": "a4e819fc",
   "metadata": {},
   "source": [
    "## upload file"
   ]
  },
  {
   "cell_type": "code",
   "execution_count": null,
   "id": "e4d2a77b",
   "metadata": {
    "ExecuteTime": {
     "start_time": "2023-02-09T08:06:16.488Z"
    }
   },
   "outputs": [],
   "source": [
    "s3.upload(\n",
    "    f\"../../temporary/Vectorize/{data_type}/sentenceBERT/{transformer_model}/\", \n",
    "    f\"Vectorize/{data_type}/sentenceBERT/{transformer_model}/\"\n",
    ")"
   ]
  },
  {
   "cell_type": "code",
   "execution_count": null,
   "id": "34b0ecfe",
   "metadata": {
    "ExecuteTime": {
     "start_time": "2023-02-09T08:06:16.785Z"
    }
   },
   "outputs": [],
   "source": [
    "s3.delete_local_all()"
   ]
  },
  {
   "cell_type": "code",
   "execution_count": null,
   "id": "db9d6462",
   "metadata": {
    "ExecuteTime": {
     "start_time": "2023-02-09T08:06:17.405Z"
    }
   },
   "outputs": [],
   "source": [
    "send_line_notify(f\"end {data_type} sentenceBERT {transformer_model}\")"
   ]
  },
  {
   "cell_type": "code",
   "execution_count": null,
   "id": "495bc26e",
   "metadata": {},
   "outputs": [],
   "source": []
  },
  {
   "cell_type": "code",
   "execution_count": null,
   "id": "3fedf7af",
   "metadata": {},
   "outputs": [],
   "source": []
  }
 ],
 "metadata": {
  "kernelspec": {
   "display_name": "Python 3 (ipykernel)",
   "language": "python",
   "name": "python3"
  },
  "language_info": {
   "codemirror_mode": {
    "name": "ipython",
    "version": 3
   },
   "file_extension": ".py",
   "mimetype": "text/x-python",
   "name": "python",
   "nbconvert_exporter": "python",
   "pygments_lexer": "ipython3",
   "version": "3.10.8"
  },
  "toc": {
   "base_numbering": 1,
   "nav_menu": {},
   "number_sections": true,
   "sideBar": true,
   "skip_h1_title": false,
   "title_cell": "Table of Contents",
   "title_sidebar": "Contents",
   "toc_cell": false,
   "toc_position": {},
   "toc_section_display": true,
   "toc_window_display": false
  }
 },
 "nbformat": 4,
 "nbformat_minor": 5
}
