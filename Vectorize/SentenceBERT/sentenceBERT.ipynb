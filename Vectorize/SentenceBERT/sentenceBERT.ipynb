{
 "cells": [
  {
   "cell_type": "markdown",
   "id": "b95f9187",
   "metadata": {},
   "source": [
    "# Import"
   ]
  },
  {
   "cell_type": "code",
   "execution_count": 1,
   "id": "80a85ab5",
   "metadata": {
    "ExecuteTime": {
     "end_time": "2023-02-09T12:58:15.054539Z",
     "start_time": "2023-02-09T12:58:09.331064Z"
    }
   },
   "outputs": [],
   "source": [
    "import csv\n",
    "import os\n",
    "import sys\n",
    "\n",
    "import numpy as np\n",
    "import pandas as pd\n",
    "from tqdm import tqdm\n",
    "from sentence_transformers import SentenceTransformer"
   ]
  },
  {
   "cell_type": "markdown",
   "id": "2543f4e4",
   "metadata": {},
   "source": [
    "## Add configuration file"
   ]
  },
  {
   "cell_type": "code",
   "execution_count": 2,
   "id": "b62547de",
   "metadata": {
    "ExecuteTime": {
     "end_time": "2023-02-09T12:58:15.060742Z",
     "start_time": "2023-02-09T12:58:15.057829Z"
    }
   },
   "outputs": [],
   "source": [
    "sys.path.append(\"/home/jovyan/core/config/\")\n",
    "sys.path.append(\"/home/jovyan/core/util/\")"
   ]
  },
  {
   "cell_type": "code",
   "execution_count": 3,
   "id": "84da401b",
   "metadata": {
    "ExecuteTime": {
     "end_time": "2023-02-09T12:58:15.175634Z",
     "start_time": "2023-02-09T12:58:15.062940Z"
    }
   },
   "outputs": [],
   "source": [
    "from ALL import config \n",
    "from util import *"
   ]
  },
  {
   "cell_type": "markdown",
   "id": "9330548e",
   "metadata": {},
   "source": [
    "## Set condition"
   ]
  },
  {
   "cell_type": "code",
   "execution_count": 4,
   "id": "a30f3623",
   "metadata": {
    "ExecuteTime": {
     "end_time": "2023-02-09T12:58:15.183247Z",
     "start_time": "2023-02-09T12:58:15.178898Z"
    }
   },
   "outputs": [],
   "source": [
    "tqdm.pandas()\n",
    "pd.set_option(\"display.max_columns\", 100)\n",
    "pd.set_option(\"display.max_rows\", 50)"
   ]
  },
  {
   "cell_type": "code",
   "execution_count": 5,
   "id": "2c41dd88",
   "metadata": {
    "ExecuteTime": {
     "end_time": "2023-02-09T12:58:15.189126Z",
     "start_time": "2023-02-09T12:58:15.185632Z"
    }
   },
   "outputs": [],
   "source": [
    "s3 = S3Manager()"
   ]
  },
  {
   "cell_type": "code",
   "execution_count": 6,
   "id": "0f9b2269",
   "metadata": {
    "ExecuteTime": {
     "end_time": "2023-02-09T12:58:15.196756Z",
     "start_time": "2023-02-09T12:58:15.191195Z"
    }
   },
   "outputs": [],
   "source": [
    "data_type = \"20News\""
   ]
  },
  {
   "cell_type": "code",
   "execution_count": 7,
   "id": "b336755b",
   "metadata": {
    "ExecuteTime": {
     "end_time": "2023-02-09T12:58:15.204893Z",
     "start_time": "2023-02-09T12:58:15.199120Z"
    }
   },
   "outputs": [],
   "source": [
    "transformer_model = \"sentence-transformers/gtr-t5-large\""
   ]
  },
  {
   "cell_type": "markdown",
   "id": "52c60a4f",
   "metadata": {},
   "source": [
    "# Read data"
   ]
  },
  {
   "cell_type": "code",
   "execution_count": 8,
   "id": "86fc1138",
   "metadata": {
    "ExecuteTime": {
     "end_time": "2023-02-09T12:58:18.085607Z",
     "start_time": "2023-02-09T12:58:15.207361Z"
    }
   },
   "outputs": [],
   "source": [
    "df_path = s3.download(f\"Preprocessing/{data_type}/master.csv\")"
   ]
  },
  {
   "cell_type": "code",
   "execution_count": 9,
   "id": "c81d3638",
   "metadata": {
    "ExecuteTime": {
     "end_time": "2023-02-09T12:58:18.870445Z",
     "start_time": "2023-02-09T12:58:18.087808Z"
    },
    "scrolled": true
   },
   "outputs": [],
   "source": [
    "df = pd.read_csv(df_path[0], index_col=0)"
   ]
  },
  {
   "cell_type": "code",
   "execution_count": 10,
   "id": "cb29428d",
   "metadata": {
    "ExecuteTime": {
     "end_time": "2023-02-09T12:58:18.877429Z",
     "start_time": "2023-02-09T12:58:18.874677Z"
    }
   },
   "outputs": [],
   "source": [
    "# sampling for test\n",
    "# df.sample(n=1000, random_state=0)"
   ]
  },
  {
   "cell_type": "code",
   "execution_count": 11,
   "id": "6025ae2c",
   "metadata": {
    "ExecuteTime": {
     "end_time": "2023-02-09T12:58:19.167164Z",
     "start_time": "2023-02-09T12:58:18.879422Z"
    }
   },
   "outputs": [],
   "source": [
    "labels_path = s3.download(f\"Preprocessing/{data_type}/class.csv\")"
   ]
  },
  {
   "cell_type": "code",
   "execution_count": 12,
   "id": "95389cd0",
   "metadata": {
    "ExecuteTime": {
     "end_time": "2023-02-09T12:58:19.173148Z",
     "start_time": "2023-02-09T12:58:19.169434Z"
    }
   },
   "outputs": [],
   "source": [
    "with open(labels_path[0], mode=\"r\") as f:\n",
    "    reader = csv.reader(f)\n",
    "    class_labels = [label for label in reader]"
   ]
  },
  {
   "cell_type": "code",
   "execution_count": 13,
   "id": "fec767ee",
   "metadata": {
    "ExecuteTime": {
     "end_time": "2023-02-09T12:58:19.180306Z",
     "start_time": "2023-02-09T12:58:19.175246Z"
    }
   },
   "outputs": [],
   "source": [
    "max_model_num = config[\"vectorize\"][\"sentenceBERT\"][\"max_model_num\"]"
   ]
  },
  {
   "cell_type": "markdown",
   "id": "663f3685",
   "metadata": {},
   "source": [
    "# Embedding"
   ]
  },
  {
   "cell_type": "code",
   "execution_count": 14,
   "id": "33180347",
   "metadata": {
    "ExecuteTime": {
     "end_time": "2023-02-09T12:58:19.186749Z",
     "start_time": "2023-02-09T12:58:19.182370Z"
    },
    "code_folding": []
   },
   "outputs": [],
   "source": [
    "def get_sentenceBERT(texts,seed, path):\n",
    "    model = SentenceTransformer(transformer_model)\n",
    "    model.save(path)\n",
    "    vectors = model.encode(texts)\n",
    "    return vectors"
   ]
  },
  {
   "cell_type": "code",
   "execution_count": null,
   "id": "8ff6c10b",
   "metadata": {
    "ExecuteTime": {
     "start_time": "2023-02-09T12:58:11.175Z"
    }
   },
   "outputs": [
    {
     "name": "stderr",
     "output_type": "stream",
     "text": [
      "\r\n",
      "  0%|          | 0/1 [00:00<?, ?it/s]"
     ]
    },
    {
     "data": {
      "application/vnd.jupyter.widget-view+json": {
       "model_id": "5df1f356cf1a40c0ae00eb0428202c1a",
       "version_major": 2,
       "version_minor": 0
      },
      "text/plain": [
       "Downloading (…)071a2/.gitattributes:   0%|          | 0.00/1.18k [00:00<?, ?B/s]"
      ]
     },
     "metadata": {},
     "output_type": "display_data"
    },
    {
     "data": {
      "application/vnd.jupyter.widget-view+json": {
       "model_id": "91060876ba9349a9b5e3ba67191f5768",
       "version_major": 2,
       "version_minor": 0
      },
      "text/plain": [
       "Downloading (…)_Pooling/config.json:   0%|          | 0.00/190 [00:00<?, ?B/s]"
      ]
     },
     "metadata": {},
     "output_type": "display_data"
    },
    {
     "data": {
      "application/vnd.jupyter.widget-view+json": {
       "model_id": "985cbc35ec3d4d4aa6c447933160d7b3",
       "version_major": 2,
       "version_minor": 0
      },
      "text/plain": [
       "Downloading (…)/2_Dense/config.json:   0%|          | 0.00/116 [00:00<?, ?B/s]"
      ]
     },
     "metadata": {},
     "output_type": "display_data"
    },
    {
     "data": {
      "application/vnd.jupyter.widget-view+json": {
       "model_id": "f57d031c23d5405a8e2036b0f8748c4d",
       "version_major": 2,
       "version_minor": 0
      },
      "text/plain": [
       "Downloading (…)\"pytorch_model.bin\";:   0%|          | 0.00/3.15M [00:00<?, ?B/s]"
      ]
     },
     "metadata": {},
     "output_type": "display_data"
    },
    {
     "data": {
      "application/vnd.jupyter.widget-view+json": {
       "model_id": "fecaf3289ef14019ab29cad0910a387d",
       "version_major": 2,
       "version_minor": 0
      },
      "text/plain": [
       "Downloading (…)c5306071a2/README.md:   0%|          | 0.00/1.90k [00:00<?, ?B/s]"
      ]
     },
     "metadata": {},
     "output_type": "display_data"
    },
    {
     "data": {
      "application/vnd.jupyter.widget-view+json": {
       "model_id": "bc05c14886b242bf9894b732271af539",
       "version_major": 2,
       "version_minor": 0
      },
      "text/plain": [
       "Downloading (…)306071a2/config.json:   0%|          | 0.00/1.38k [00:00<?, ?B/s]"
      ]
     },
     "metadata": {},
     "output_type": "display_data"
    },
    {
     "data": {
      "application/vnd.jupyter.widget-view+json": {
       "model_id": "be66cd5ac8f940fa806e8115fc7234ea",
       "version_major": 2,
       "version_minor": 0
      },
      "text/plain": [
       "Downloading (…)ce_transformers.json:   0%|          | 0.00/122 [00:00<?, ?B/s]"
      ]
     },
     "metadata": {},
     "output_type": "display_data"
    },
    {
     "data": {
      "application/vnd.jupyter.widget-view+json": {
       "model_id": "4c887bba4fb04e7d90e22e3b76d75422",
       "version_major": 2,
       "version_minor": 0
      },
      "text/plain": [
       "Downloading (…)\"pytorch_model.bin\";:   0%|          | 0.00/670M [00:00<?, ?B/s]"
      ]
     },
     "metadata": {},
     "output_type": "display_data"
    },
    {
     "data": {
      "application/vnd.jupyter.widget-view+json": {
       "model_id": "4cfa7aef7e72402f8722f9c6a99d8798",
       "version_major": 2,
       "version_minor": 0
      },
      "text/plain": [
       "Downloading (…)nce_bert_config.json:   0%|          | 0.00/53.0 [00:00<?, ?B/s]"
      ]
     },
     "metadata": {},
     "output_type": "display_data"
    },
    {
     "data": {
      "application/vnd.jupyter.widget-view+json": {
       "model_id": "3056379ffa3d4cc8922d9b32cb0a8ac6",
       "version_major": 2,
       "version_minor": 0
      },
      "text/plain": [
       "Downloading (…)cial_tokens_map.json:   0%|          | 0.00/1.79k [00:00<?, ?B/s]"
      ]
     },
     "metadata": {},
     "output_type": "display_data"
    },
    {
     "data": {
      "application/vnd.jupyter.widget-view+json": {
       "model_id": "e4f72732a17344548075f98bdc2d4421",
       "version_major": 2,
       "version_minor": 0
      },
      "text/plain": [
       "Downloading (…)\"spiece.model\";:   0%|          | 0.00/792k [00:00<?, ?B/s]"
      ]
     },
     "metadata": {},
     "output_type": "display_data"
    },
    {
     "data": {
      "application/vnd.jupyter.widget-view+json": {
       "model_id": "17806c62426a423799dce85f1f247c5b",
       "version_major": 2,
       "version_minor": 0
      },
      "text/plain": [
       "Downloading (…)071a2/tokenizer.json:   0%|          | 0.00/1.39M [00:00<?, ?B/s]"
      ]
     },
     "metadata": {},
     "output_type": "display_data"
    },
    {
     "data": {
      "application/vnd.jupyter.widget-view+json": {
       "model_id": "2ca259d2099f4aeb99039200d86362ef",
       "version_major": 2,
       "version_minor": 0
      },
      "text/plain": [
       "Downloading (…)okenizer_config.json:   0%|          | 0.00/1.92k [00:00<?, ?B/s]"
      ]
     },
     "metadata": {},
     "output_type": "display_data"
    },
    {
     "data": {
      "application/vnd.jupyter.widget-view+json": {
       "model_id": "39c3a2f263994557bc0d10f7b6a2907f",
       "version_major": 2,
       "version_minor": 0
      },
      "text/plain": [
       "Downloading (…)06071a2/modules.json:   0%|          | 0.00/461 [00:00<?, ?B/s]"
      ]
     },
     "metadata": {},
     "output_type": "display_data"
    }
   ],
   "source": [
    "vectors_path = f\"../../temporary/Vectorize/{data_type}/sentenceBERT/{transformer_model}/vector\"\n",
    "models_path = f\"../../temporary/Vectorize/{data_type}/sentenceBERT/{transformer_model}/model\"\n",
    "\n",
    "for model_num in tqdm(range(max_model_num)):\n",
    "    vectors = get_sentenceBERT(\n",
    "        df.text.tolist(),\n",
    "        seed=model_num,\n",
    "        path=make_filepath(f\"{models_path}/{model_num}\"),\n",
    "    )\n",
    "\n",
    "    np.save(\n",
    "        make_filepath(f\"{vectors_path}/raw/{model_num}.npy\"),\n",
    "        np.stack(vectors),\n",
    "    )"
   ]
  },
  {
   "cell_type": "markdown",
   "id": "8ac784d1",
   "metadata": {},
   "source": [
    "## upload file"
   ]
  },
  {
   "cell_type": "code",
   "execution_count": null,
   "id": "7c8a4edf",
   "metadata": {
    "ExecuteTime": {
     "start_time": "2023-02-09T12:58:11.344Z"
    }
   },
   "outputs": [],
   "source": [
    "s3.upload(\n",
    "    f\"../../temporary/Vectorize/{data_type}/sentenceBERT/{transformer_model}/\", \n",
    "    f\"Vectorize/{data_type}/sentenceBERT/{transformer_model}/\"\n",
    ")"
   ]
  },
  {
   "cell_type": "code",
   "execution_count": null,
   "id": "1134f2d8",
   "metadata": {
    "ExecuteTime": {
     "start_time": "2023-02-09T12:58:11.428Z"
    }
   },
   "outputs": [],
   "source": [
    "s3.delete_local_all()"
   ]
  },
  {
   "cell_type": "code",
   "execution_count": null,
   "id": "db9d6462",
   "metadata": {
    "ExecuteTime": {
     "start_time": "2023-02-09T12:58:11.513Z"
    }
   },
   "outputs": [],
   "source": [
    "send_line_notify(f\"end {data_type} sentenceBERT {transformer_model}\")"
   ]
  },
  {
   "cell_type": "code",
   "execution_count": null,
   "id": "495bc26e",
   "metadata": {
    "ExecuteTime": {
     "start_time": "2023-02-09T12:58:11.596Z"
    }
   },
   "outputs": [],
   "source": [
    "!free"
   ]
  },
  {
   "cell_type": "code",
   "execution_count": null,
   "id": "3fedf7af",
   "metadata": {
    "ExecuteTime": {
     "start_time": "2023-02-09T12:58:11.679Z"
    }
   },
   "outputs": [],
   "source": [
    "!df"
   ]
  },
  {
   "cell_type": "code",
   "execution_count": null,
   "id": "2b4589fd",
   "metadata": {},
   "outputs": [],
   "source": []
  }
 ],
 "metadata": {
  "kernelspec": {
   "display_name": "Python 3",
   "language": "python",
   "name": "python3"
  },
  "language_info": {
   "codemirror_mode": {
    "name": "ipython",
    "version": 3
   },
   "file_extension": ".py",
   "mimetype": "text/x-python",
   "name": "python",
   "nbconvert_exporter": "python",
   "pygments_lexer": "ipython3",
   "version": "3.10.6"
  },
  "toc": {
   "base_numbering": 1,
   "nav_menu": {},
   "number_sections": true,
   "sideBar": true,
   "skip_h1_title": false,
   "title_cell": "Table of Contents",
   "title_sidebar": "Contents",
   "toc_cell": false,
   "toc_position": {},
   "toc_section_display": true,
   "toc_window_display": false
  },
  "vscode": {
   "interpreter": {
    "hash": "31f2aee4e71d21fbe5cf8b01ff0e069b9275f58929596ceb00d14d90e3e16cd6"
   }
  }
 },
 "nbformat": 4,
 "nbformat_minor": 5
}
