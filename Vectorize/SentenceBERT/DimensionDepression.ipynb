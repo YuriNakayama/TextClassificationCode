{
 "cells": [
  {
   "cell_type": "markdown",
   "id": "b95f9187",
   "metadata": {},
   "source": [
    "# Import"
   ]
  },
  {
   "cell_type": "code",
   "execution_count": 1,
   "id": "80a85ab5",
   "metadata": {
    "ExecuteTime": {
     "end_time": "2022-12-19T06:23:02.502384Z",
     "start_time": "2022-12-19T06:22:57.234417Z"
    }
   },
   "outputs": [],
   "source": [
    "import csv\n",
    "import os\n",
    "import sys\n",
    "\n",
    "import numpy as np\n",
    "import pandas as pd\n",
    "import umap\n",
    "from scipy.sparse.csgraph import connected_components\n",
    "from sklearn.decomposition import PCA\n",
    "from tqdm import tqdm"
   ]
  },
  {
   "cell_type": "markdown",
   "id": "2543f4e4",
   "metadata": {},
   "source": [
    "## Add configuration file"
   ]
  },
  {
   "cell_type": "code",
   "execution_count": 2,
   "id": "b62547de",
   "metadata": {
    "ExecuteTime": {
     "end_time": "2022-12-19T06:23:02.508425Z",
     "start_time": "2022-12-19T06:23:02.505075Z"
    }
   },
   "outputs": [],
   "source": [
    "sys.path.append(\"/home/jovyan/core/config/\")\n",
    "sys.path.append(\"/home/jovyan/core/util/\")"
   ]
  },
  {
   "cell_type": "code",
   "execution_count": 3,
   "id": "84da401b",
   "metadata": {
    "ExecuteTime": {
     "end_time": "2022-12-19T06:23:02.516201Z",
     "start_time": "2022-12-19T06:23:02.510495Z"
    }
   },
   "outputs": [],
   "source": [
    "from ALL import config \n",
    "from util import *"
   ]
  },
  {
   "cell_type": "markdown",
   "id": "9330548e",
   "metadata": {},
   "source": [
    "## Set condition"
   ]
  },
  {
   "cell_type": "code",
   "execution_count": 4,
   "id": "a30f3623",
   "metadata": {
    "ExecuteTime": {
     "end_time": "2022-12-19T06:23:02.522587Z",
     "start_time": "2022-12-19T06:23:02.519000Z"
    }
   },
   "outputs": [],
   "source": [
    "tqdm.pandas()\n",
    "pd.set_option(\"display.max_columns\", 100)\n",
    "pd.set_option(\"display.max_rows\", 50)"
   ]
  },
  {
   "cell_type": "code",
   "execution_count": 5,
   "id": "0f9b2269",
   "metadata": {
    "ExecuteTime": {
     "end_time": "2022-12-19T06:23:02.529977Z",
     "start_time": "2022-12-19T06:23:02.524643Z"
    }
   },
   "outputs": [],
   "source": [
    "data_type=\"AgNews\""
   ]
  },
  {
   "cell_type": "markdown",
   "id": "52c60a4f",
   "metadata": {},
   "source": [
    "# Read data"
   ]
  },
  {
   "cell_type": "code",
   "execution_count": 6,
   "id": "c81d3638",
   "metadata": {
    "ExecuteTime": {
     "end_time": "2022-12-19T06:23:03.482820Z",
     "start_time": "2022-12-19T06:23:02.531731Z"
    },
    "scrolled": true
   },
   "outputs": [],
   "source": [
    "df = pd.read_csv(\n",
    "    f\"../../Preprocessing/data/{data_type}/master.csv\", index_col=0\n",
    ")"
   ]
  },
  {
   "cell_type": "code",
   "execution_count": 7,
   "id": "95389cd0",
   "metadata": {
    "ExecuteTime": {
     "end_time": "2022-12-19T06:23:03.488667Z",
     "start_time": "2022-12-19T06:23:03.484886Z"
    }
   },
   "outputs": [],
   "source": [
    "with open(f\"../../Preprocessing/data/{data_type}/class.csv\", mode=\"r\") as f:\n",
    "    reader = csv.reader(f)\n",
    "    class_labels = [label for label in reader]"
   ]
  },
  {
   "cell_type": "code",
   "execution_count": 8,
   "id": "fec767ee",
   "metadata": {
    "ExecuteTime": {
     "end_time": "2022-12-19T06:23:03.495582Z",
     "start_time": "2022-12-19T06:23:03.490536Z"
    }
   },
   "outputs": [],
   "source": [
    "max_model_num = config[\"vectorize\"][\"sentenceBERT\"][\"max_model_num\"]\n",
    "vector_dims = config[\"vectorize\"][\"sentenceBERT\"][\"dims\"]"
   ]
  },
  {
   "cell_type": "markdown",
   "id": "25280775",
   "metadata": {},
   "source": [
    "# Dimension Depression"
   ]
  },
  {
   "cell_type": "code",
   "execution_count": 9,
   "id": "8ff6c10b",
   "metadata": {
    "ExecuteTime": {
     "end_time": "2022-12-19T06:23:03.660500Z",
     "start_time": "2022-12-19T06:23:03.497718Z"
    }
   },
   "outputs": [
    {
     "name": "stderr",
     "output_type": "stream",
     "text": [
      "100%|██████████| 9/9 [00:00<00:00, 58.49it/s]\n"
     ]
    }
   ],
   "source": [
    "vector_path = f\"../data/{data_type}/sentenceBERT/vector\"\n",
    "\n",
    "for vector_dim in tqdm(vector_dims):\n",
    "    for model_num in range(max_model_num):\n",
    "        vectors = np.load(\n",
    "            f\"{vector_path}/raw/{model_num}.npy\",\n",
    "        )\n",
    "        reduced_vectors = PCA(\n",
    "            n_components=vector_dim, random_state=model_num\n",
    "        ).fit_transform(vectors)\n",
    "\n",
    "        np.save(\n",
    "            make_filepath(f\"{vector_path}/pca/{vector_dim}/{model_num}.npy\"),\n",
    "            reduced_vectors,\n",
    "        )"
   ]
  },
  {
   "cell_type": "code",
   "execution_count": 10,
   "id": "4d3a244b",
   "metadata": {
    "ExecuteTime": {
     "end_time": "2022-12-19T06:24:02.225961Z",
     "start_time": "2022-12-19T06:23:03.663567Z"
    }
   },
   "outputs": [
    {
     "name": "stderr",
     "output_type": "stream",
     "text": [
      "  0%|          | 0/9 [00:00<?, ?it/s]OMP: Info #276: omp_set_nested routine deprecated, please use omp_set_max_active_levels instead.\n",
      "100%|██████████| 9/9 [00:58<00:00,  6.51s/it]\n"
     ]
    }
   ],
   "source": [
    "vector_path = f\"../data/{data_type}/sentenceBERT/vector\"\n",
    "\n",
    "for vector_dim in tqdm(vector_dims):\n",
    "    for model_num in range(max_model_num):\n",
    "        vectors = np.load(\n",
    "            f\"{vector_path}/raw/{model_num}.npy\",\n",
    "        )\n",
    "        reduced_vectors = umap.UMAP(\n",
    "            n_components=vector_dim, random_state=model_num\n",
    "        ).fit_transform(vectors)\n",
    "        np.save(\n",
    "            make_filepath(f\"{vector_path}/umap/{vector_dim}/{model_num}.npy\"),\n",
    "            reduced_vectors,\n",
    "        )"
   ]
  },
  {
   "cell_type": "code",
   "execution_count": null,
   "id": "941001ba",
   "metadata": {},
   "outputs": [],
   "source": []
  }
 ],
 "metadata": {
  "kernelspec": {
   "display_name": "Python 3 (ipykernel)",
   "language": "python",
   "name": "python3"
  },
  "language_info": {
   "codemirror_mode": {
    "name": "ipython",
    "version": 3
   },
   "file_extension": ".py",
   "mimetype": "text/x-python",
   "name": "python",
   "nbconvert_exporter": "python",
   "pygments_lexer": "ipython3",
   "version": "3.10.8"
  },
  "toc": {
   "base_numbering": 1,
   "nav_menu": {},
   "number_sections": true,
   "sideBar": true,
   "skip_h1_title": false,
   "title_cell": "Table of Contents",
   "title_sidebar": "Contents",
   "toc_cell": false,
   "toc_position": {},
   "toc_section_display": true,
   "toc_window_display": false
  }
 },
 "nbformat": 4,
 "nbformat_minor": 5
}
