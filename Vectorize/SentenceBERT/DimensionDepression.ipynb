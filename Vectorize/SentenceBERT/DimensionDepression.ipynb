{
 "cells": [
  {
   "cell_type": "markdown",
   "id": "b95f9187",
   "metadata": {},
   "source": [
    "# Import"
   ]
  },
  {
   "cell_type": "code",
   "execution_count": 19,
   "id": "80a85ab5",
   "metadata": {
    "ExecuteTime": {
     "end_time": "2023-02-09T05:02:02.557081Z",
     "start_time": "2023-02-09T05:02:02.553694Z"
    }
   },
   "outputs": [],
   "source": [
    "import csv\n",
    "import os\n",
    "import sys\n",
    "\n",
    "import numpy as np\n",
    "import pandas as pd\n",
    "import umap\n",
    "from scipy.sparse.csgraph import connected_components\n",
    "from sklearn.decomposition import PCA\n",
    "from tqdm import tqdm"
   ]
  },
  {
   "cell_type": "markdown",
   "id": "2543f4e4",
   "metadata": {},
   "source": [
    "## Add configuration file"
   ]
  },
  {
   "cell_type": "code",
   "execution_count": 20,
   "id": "b62547de",
   "metadata": {
    "ExecuteTime": {
     "end_time": "2023-02-09T05:02:03.135461Z",
     "start_time": "2023-02-09T05:02:03.132154Z"
    }
   },
   "outputs": [],
   "source": [
    "sys.path.append(\"/home/jovyan/core/config/\")\n",
    "sys.path.append(\"/home/jovyan/core/util/\")"
   ]
  },
  {
   "cell_type": "code",
   "execution_count": 21,
   "id": "84da401b",
   "metadata": {
    "ExecuteTime": {
     "end_time": "2023-02-09T05:02:03.220266Z",
     "start_time": "2023-02-09T05:02:03.217208Z"
    }
   },
   "outputs": [],
   "source": [
    "from ALL import config \n",
    "from util import *"
   ]
  },
  {
   "cell_type": "markdown",
   "id": "9330548e",
   "metadata": {},
   "source": [
    "## Set condition"
   ]
  },
  {
   "cell_type": "code",
   "execution_count": 22,
   "id": "a30f3623",
   "metadata": {
    "ExecuteTime": {
     "end_time": "2023-02-09T05:02:03.483367Z",
     "start_time": "2023-02-09T05:02:03.479230Z"
    }
   },
   "outputs": [],
   "source": [
    "tqdm.pandas()\n",
    "pd.set_option(\"display.max_columns\", 100)\n",
    "pd.set_option(\"display.max_rows\", 50)"
   ]
  },
  {
   "cell_type": "code",
   "execution_count": 23,
   "id": "99354526",
   "metadata": {
    "ExecuteTime": {
     "end_time": "2023-02-09T05:02:03.489149Z",
     "start_time": "2023-02-09T05:02:03.486091Z"
    }
   },
   "outputs": [],
   "source": [
    "s3 = S3Manager()"
   ]
  },
  {
   "cell_type": "code",
   "execution_count": 24,
   "id": "0f9b2269",
   "metadata": {
    "ExecuteTime": {
     "end_time": "2023-02-09T05:02:03.556411Z",
     "start_time": "2023-02-09T05:02:03.553270Z"
    }
   },
   "outputs": [],
   "source": [
    "data_type=\"AgNews\""
   ]
  },
  {
   "cell_type": "code",
   "execution_count": 25,
   "id": "eb95a8cf",
   "metadata": {
    "ExecuteTime": {
     "end_time": "2023-02-09T05:02:03.639054Z",
     "start_time": "2023-02-09T05:02:03.636164Z"
    }
   },
   "outputs": [],
   "source": [
    "transformer_model = \"sentence-transformers/all-MiniLM-L6-v2\""
   ]
  },
  {
   "cell_type": "markdown",
   "id": "52c60a4f",
   "metadata": {},
   "source": [
    "# Read data"
   ]
  },
  {
   "cell_type": "code",
   "execution_count": 26,
   "id": "7a2efe1b",
   "metadata": {
    "ExecuteTime": {
     "end_time": "2023-02-09T05:02:05.499737Z",
     "start_time": "2023-02-09T05:02:04.004287Z"
    },
    "scrolled": true
   },
   "outputs": [],
   "source": [
    "df_path = s3.download(f\"Preprocessing/{data_type}/master.csv\")"
   ]
  },
  {
   "cell_type": "code",
   "execution_count": 27,
   "id": "c81d3638",
   "metadata": {
    "ExecuteTime": {
     "end_time": "2023-02-09T05:02:06.495164Z",
     "start_time": "2023-02-09T05:02:05.502515Z"
    },
    "scrolled": true
   },
   "outputs": [],
   "source": [
    "df = pd.read_csv(df_path[0], index_col=0)"
   ]
  },
  {
   "cell_type": "code",
   "execution_count": 28,
   "id": "676ee8df",
   "metadata": {
    "ExecuteTime": {
     "end_time": "2023-02-09T05:02:06.751357Z",
     "start_time": "2023-02-09T05:02:06.497364Z"
    }
   },
   "outputs": [],
   "source": [
    "labels_path = s3.download(f\"Preprocessing/{data_type}/class.csv\")"
   ]
  },
  {
   "cell_type": "code",
   "execution_count": 29,
   "id": "95389cd0",
   "metadata": {
    "ExecuteTime": {
     "end_time": "2023-02-09T05:02:06.757263Z",
     "start_time": "2023-02-09T05:02:06.753535Z"
    }
   },
   "outputs": [],
   "source": [
    "with open(labels_path[0], mode=\"r\") as f:\n",
    "    reader = csv.reader(f)\n",
    "    class_labels = [label for label in reader]"
   ]
  },
  {
   "cell_type": "code",
   "execution_count": 30,
   "id": "746b64d0",
   "metadata": {
    "ExecuteTime": {
     "end_time": "2023-02-09T05:02:11.157041Z",
     "start_time": "2023-02-09T05:02:06.760878Z"
    }
   },
   "outputs": [
    {
     "data": {
      "text/plain": [
       "['/home/jovyan/temporary/Vectorize/AgNews/sentenceBERT/sentence-transformers/all-MiniLM-L6-v2/model/0/1_Pooling/config.json',\n",
       " '/home/jovyan/temporary/Vectorize/AgNews/sentenceBERT/sentence-transformers/all-MiniLM-L6-v2/model/0/README.md',\n",
       " '/home/jovyan/temporary/Vectorize/AgNews/sentenceBERT/sentence-transformers/all-MiniLM-L6-v2/model/0/config.json',\n",
       " '/home/jovyan/temporary/Vectorize/AgNews/sentenceBERT/sentence-transformers/all-MiniLM-L6-v2/model/0/config_sentence_transformers.json',\n",
       " '/home/jovyan/temporary/Vectorize/AgNews/sentenceBERT/sentence-transformers/all-MiniLM-L6-v2/model/0/modules.json',\n",
       " '/home/jovyan/temporary/Vectorize/AgNews/sentenceBERT/sentence-transformers/all-MiniLM-L6-v2/model/0/pytorch_model.bin',\n",
       " '/home/jovyan/temporary/Vectorize/AgNews/sentenceBERT/sentence-transformers/all-MiniLM-L6-v2/model/0/sentence_bert_config.json',\n",
       " '/home/jovyan/temporary/Vectorize/AgNews/sentenceBERT/sentence-transformers/all-MiniLM-L6-v2/model/0/special_tokens_map.json',\n",
       " '/home/jovyan/temporary/Vectorize/AgNews/sentenceBERT/sentence-transformers/all-MiniLM-L6-v2/model/0/tokenizer.json',\n",
       " '/home/jovyan/temporary/Vectorize/AgNews/sentenceBERT/sentence-transformers/all-MiniLM-L6-v2/model/0/tokenizer_config.json',\n",
       " '/home/jovyan/temporary/Vectorize/AgNews/sentenceBERT/sentence-transformers/all-MiniLM-L6-v2/model/0/vocab.txt',\n",
       " '/home/jovyan/temporary/Vectorize/AgNews/sentenceBERT/sentence-transformers/all-MiniLM-L6-v2/vector/raw/0.npy']"
      ]
     },
     "execution_count": 30,
     "metadata": {},
     "output_type": "execute_result"
    }
   ],
   "source": [
    "s3.download(f\"Vectorize/{data_type}/sentenceBERT/{transformer_model}\")"
   ]
  },
  {
   "cell_type": "code",
   "execution_count": 31,
   "id": "fec767ee",
   "metadata": {
    "ExecuteTime": {
     "end_time": "2023-02-09T05:02:11.165185Z",
     "start_time": "2023-02-09T05:02:11.159154Z"
    }
   },
   "outputs": [],
   "source": [
    "max_model_num = config[\"vectorize\"][\"sentenceBERT\"][\"max_model_num\"]\n",
    "vector_dims = config[\"vectorize\"][\"sentenceBERT\"][\"dims\"]"
   ]
  },
  {
   "cell_type": "markdown",
   "id": "25280775",
   "metadata": {},
   "source": [
    "# Dimension Depression"
   ]
  },
  {
   "cell_type": "code",
   "execution_count": 32,
   "id": "8ff6c10b",
   "metadata": {
    "ExecuteTime": {
     "end_time": "2023-02-09T05:02:34.195666Z",
     "start_time": "2023-02-09T05:02:11.167276Z"
    }
   },
   "outputs": [
    {
     "name": "stderr",
     "output_type": "stream",
     "text": [
      "100%|██████████| 10/10 [00:23<00:00,  2.30s/it]\n"
     ]
    }
   ],
   "source": [
    "vector_path = (\n",
    "    f\"../../temporary/Vectorize/{data_type}/sentenceBERT/{transformer_model}/vector\"\n",
    ")\n",
    "\n",
    "for vector_dim in tqdm(vector_dims):\n",
    "    for model_num in range(max_model_num):\n",
    "        vectors = np.load(\n",
    "            f\"{vector_path}/raw/{model_num}.npy\",\n",
    "        )\n",
    "        reduced_vectors = PCA(\n",
    "            n_components=vector_dim, random_state=model_num\n",
    "        ).fit_transform(vectors)\n",
    "\n",
    "        np.save(\n",
    "            make_filepath(f\"{vector_path}/pca/{vector_dim}/{model_num}.npy\"),\n",
    "            reduced_vectors,\n",
    "        )"
   ]
  },
  {
   "cell_type": "code",
   "execution_count": 40,
   "id": "7f38f9e8",
   "metadata": {
    "ExecuteTime": {
     "end_time": "2023-02-09T06:55:51.675835Z",
     "start_time": "2023-02-09T06:55:51.524784Z"
    }
   },
   "outputs": [],
   "source": [
    "np.save(\n",
    "    make_filepath(f\"{vector_path}/pca/{vectors.shape[1]}/{model_num}.npy\"), vectors\n",
    ")"
   ]
  },
  {
   "cell_type": "code",
   "execution_count": 33,
   "id": "4d3a244b",
   "metadata": {
    "ExecuteTime": {
     "end_time": "2023-02-09T06:48:09.475424Z",
     "start_time": "2023-02-09T05:02:34.198212Z"
    }
   },
   "outputs": [
    {
     "name": "stderr",
     "output_type": "stream",
     "text": [
      "100%|██████████| 10/10 [1:45:35<00:00, 633.53s/it] \n"
     ]
    }
   ],
   "source": [
    "vector_path = f\"../../temporary/Vectorize/{data_type}/sentenceBERT/{transformer_model}/vector\"\n",
    "\n",
    "for vector_dim in tqdm(vector_dims):\n",
    "    for model_num in range(max_model_num):\n",
    "        vectors = np.load(\n",
    "            f\"{vector_path}/raw/{model_num}.npy\",\n",
    "        )\n",
    "        reduced_vectors = umap.UMAP(\n",
    "            n_components=vector_dim, random_state=model_num\n",
    "        ).fit_transform(vectors)\n",
    "        np.save(\n",
    "            make_filepath(f\"{vector_path}/umap/{vector_dim}/{model_num}.npy\"),\n",
    "            reduced_vectors,\n",
    "        )"
   ]
  },
  {
   "cell_type": "code",
   "execution_count": 41,
   "id": "87f995c2",
   "metadata": {
    "ExecuteTime": {
     "end_time": "2023-02-09T06:55:53.566030Z",
     "start_time": "2023-02-09T06:55:53.405409Z"
    }
   },
   "outputs": [],
   "source": [
    "np.save(\n",
    "    make_filepath(f\"{vector_path}/umap/{vectors.shape[1]}/{model_num}.npy\"), vectors\n",
    ")"
   ]
  },
  {
   "cell_type": "markdown",
   "id": "67d86904",
   "metadata": {},
   "source": [
    "## upload file"
   ]
  },
  {
   "cell_type": "code",
   "execution_count": 42,
   "id": "f7201c30",
   "metadata": {
    "ExecuteTime": {
     "end_time": "2023-02-09T06:56:16.100651Z",
     "start_time": "2023-02-09T06:56:10.891042Z"
    }
   },
   "outputs": [
    {
     "data": {
      "text/plain": [
       "'../../temporary/Vectorize/AgNews/sentenceBERT/sentence-transformers/all-MiniLM-L6-v2/vector'"
      ]
     },
     "execution_count": 42,
     "metadata": {},
     "output_type": "execute_result"
    }
   ],
   "source": [
    "s3.upload(\n",
    "    f\"../../temporary/Vectorize/{data_type}/sentenceBERT/{transformer_model}/vector\", \n",
    "    f\"Vectorize/{data_type}/sentenceBERT/{transformer_model}/vector\"\n",
    ")"
   ]
  },
  {
   "cell_type": "code",
   "execution_count": 43,
   "id": "1402df39",
   "metadata": {
    "ExecuteTime": {
     "end_time": "2023-02-09T06:56:22.687499Z",
     "start_time": "2023-02-09T06:56:22.606440Z"
    }
   },
   "outputs": [
    {
     "name": "stdout",
     "output_type": "stream",
     "text": [
      "../../temporary/Vectorize/AgNews/sentenceBERT/sentence-transformers/all-MiniLM-L6-v2/vector\n",
      "/home/jovyan/temporary/Preprocessing/AgNews/master.csv\n",
      "/home/jovyan/temporary/Preprocessing/AgNews/class.csv\n",
      "/home/jovyan/temporary/Vectorize/AgNews/sentenceBERT/sentence-transformers/all-MiniLM-L6-v2/model/0/1_Pooling/config.json\n",
      "/home/jovyan/temporary/Vectorize/AgNews/sentenceBERT/sentence-transformers/all-MiniLM-L6-v2/model/0/README.md\n",
      "/home/jovyan/temporary/Vectorize/AgNews/sentenceBERT/sentence-transformers/all-MiniLM-L6-v2/model/0/config.json\n",
      "/home/jovyan/temporary/Vectorize/AgNews/sentenceBERT/sentence-transformers/all-MiniLM-L6-v2/model/0/config_sentence_transformers.json\n",
      "/home/jovyan/temporary/Vectorize/AgNews/sentenceBERT/sentence-transformers/all-MiniLM-L6-v2/model/0/modules.json\n",
      "/home/jovyan/temporary/Vectorize/AgNews/sentenceBERT/sentence-transformers/all-MiniLM-L6-v2/model/0/pytorch_model.bin\n",
      "/home/jovyan/temporary/Vectorize/AgNews/sentenceBERT/sentence-transformers/all-MiniLM-L6-v2/model/0/sentence_bert_config.json\n",
      "/home/jovyan/temporary/Vectorize/AgNews/sentenceBERT/sentence-transformers/all-MiniLM-L6-v2/model/0/special_tokens_map.json\n",
      "/home/jovyan/temporary/Vectorize/AgNews/sentenceBERT/sentence-transformers/all-MiniLM-L6-v2/model/0/tokenizer.json\n",
      "/home/jovyan/temporary/Vectorize/AgNews/sentenceBERT/sentence-transformers/all-MiniLM-L6-v2/model/0/tokenizer_config.json\n",
      "/home/jovyan/temporary/Vectorize/AgNews/sentenceBERT/sentence-transformers/all-MiniLM-L6-v2/model/0/vocab.txt\n",
      "/home/jovyan/temporary/Vectorize/AgNews/sentenceBERT/sentence-transformers/all-MiniLM-L6-v2/vector/raw/0.npy\n"
     ]
    }
   ],
   "source": [
    "s3.delete_local_all()"
   ]
  },
  {
   "cell_type": "code",
   "execution_count": 36,
   "id": "f93a8d0c",
   "metadata": {
    "ExecuteTime": {
     "end_time": "2023-02-09T06:48:24.716509Z",
     "start_time": "2023-02-09T06:48:24.138390Z"
    }
   },
   "outputs": [],
   "source": [
    "send_line_notify(f\"end {data_type} sentenceBERT {transformer_model}\")"
   ]
  },
  {
   "cell_type": "code",
   "execution_count": null,
   "id": "ef5d4e11",
   "metadata": {},
   "outputs": [],
   "source": []
  },
  {
   "cell_type": "code",
   "execution_count": null,
   "id": "14c16727",
   "metadata": {},
   "outputs": [],
   "source": []
  }
 ],
 "metadata": {
  "kernelspec": {
   "display_name": "Python 3 (ipykernel)",
   "language": "python",
   "name": "python3"
  },
  "language_info": {
   "codemirror_mode": {
    "name": "ipython",
    "version": 3
   },
   "file_extension": ".py",
   "mimetype": "text/x-python",
   "name": "python",
   "nbconvert_exporter": "python",
   "pygments_lexer": "ipython3",
   "version": "3.10.8"
  },
  "toc": {
   "base_numbering": 1,
   "nav_menu": {},
   "number_sections": true,
   "sideBar": true,
   "skip_h1_title": false,
   "title_cell": "Table of Contents",
   "title_sidebar": "Contents",
   "toc_cell": false,
   "toc_position": {},
   "toc_section_display": true,
   "toc_window_display": false
  }
 },
 "nbformat": 4,
 "nbformat_minor": 5
}
