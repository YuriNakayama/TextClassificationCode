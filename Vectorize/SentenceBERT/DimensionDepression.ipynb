{
 "cells": [
  {
   "cell_type": "markdown",
   "id": "b95f9187",
   "metadata": {},
   "source": [
    "# Import"
   ]
  },
  {
   "cell_type": "code",
   "execution_count": 58,
   "id": "80a85ab5",
   "metadata": {
    "ExecuteTime": {
     "end_time": "2022-12-18T04:41:19.373682Z",
     "start_time": "2022-12-18T04:41:07.167740Z"
    }
   },
   "outputs": [],
   "source": [
    "import csv\n",
    "import os\n",
    "import sys\n",
    "\n",
    "import numpy as np\n",
    "import pandas as pd\n",
    "import umap\n",
    "from scipy.sparse.csgraph import connected_components\n",
    "from sklearn.decomposition import PCA\n",
    "from tqdm import tqdm"
   ]
  },
  {
   "cell_type": "markdown",
   "id": "2543f4e4",
   "metadata": {},
   "source": [
    "## Add configuration file"
   ]
  },
  {
   "cell_type": "code",
   "execution_count": 37,
   "id": "b62547de",
   "metadata": {
    "ExecuteTime": {
     "end_time": "2022-12-18T03:57:03.923592Z",
     "start_time": "2022-12-18T03:57:03.919990Z"
    }
   },
   "outputs": [],
   "source": [
    "sys.path.append(\"/home/jovyan/core/config/\")\n",
    "sys.path.append(\"/home/jovyan/core/util/\")"
   ]
  },
  {
   "cell_type": "code",
   "execution_count": 38,
   "id": "84da401b",
   "metadata": {
    "ExecuteTime": {
     "end_time": "2022-12-18T03:57:04.005950Z",
     "start_time": "2022-12-18T03:57:04.000670Z"
    }
   },
   "outputs": [],
   "source": [
    "from ALL import config \n",
    "from util import *"
   ]
  },
  {
   "cell_type": "markdown",
   "id": "9330548e",
   "metadata": {},
   "source": [
    "## Set condition"
   ]
  },
  {
   "cell_type": "code",
   "execution_count": 39,
   "id": "a30f3623",
   "metadata": {
    "ExecuteTime": {
     "end_time": "2022-12-18T03:57:04.173915Z",
     "start_time": "2022-12-18T03:57:04.168492Z"
    }
   },
   "outputs": [],
   "source": [
    "tqdm.pandas()\n",
    "pd.set_option(\"display.max_columns\", 100)\n",
    "pd.set_option(\"display.max_rows\", 50)"
   ]
  },
  {
   "cell_type": "code",
   "execution_count": 40,
   "id": "0f9b2269",
   "metadata": {
    "ExecuteTime": {
     "end_time": "2022-12-18T03:57:04.254821Z",
     "start_time": "2022-12-18T03:57:04.251830Z"
    }
   },
   "outputs": [],
   "source": [
    "data_type=\"AgNews\""
   ]
  },
  {
   "cell_type": "markdown",
   "id": "52c60a4f",
   "metadata": {},
   "source": [
    "# Read data"
   ]
  },
  {
   "cell_type": "code",
   "execution_count": 41,
   "id": "c81d3638",
   "metadata": {
    "ExecuteTime": {
     "end_time": "2022-12-18T03:57:05.318518Z",
     "start_time": "2022-12-18T03:57:04.417704Z"
    },
    "scrolled": true
   },
   "outputs": [],
   "source": [
    "df = pd.read_csv(\n",
    "    f\"../../Preprocessing/data/{data_type}/master.csv\", index_col=0\n",
    ")"
   ]
  },
  {
   "cell_type": "code",
   "execution_count": 43,
   "id": "95389cd0",
   "metadata": {
    "ExecuteTime": {
     "end_time": "2022-12-18T03:57:05.349560Z",
     "start_time": "2022-12-18T03:57:05.344114Z"
    }
   },
   "outputs": [],
   "source": [
    "with open(f\"../../Preprocessing/data/{data_type}/class.csv\", mode=\"r\") as f:\n",
    "    reader = csv.reader(f)\n",
    "    class_labels = [label for label in reader]"
   ]
  },
  {
   "cell_type": "code",
   "execution_count": 44,
   "id": "fec767ee",
   "metadata": {
    "ExecuteTime": {
     "end_time": "2022-12-18T03:57:05.558231Z",
     "start_time": "2022-12-18T03:57:05.552577Z"
    }
   },
   "outputs": [],
   "source": [
    "max_model_num = config[\"vectorize\"][\"sentenceBERT\"][\"max_model_num\"]\n",
    "vector_dims = config[\"vectorize\"][\"sentenceBERT\"][\"dims\"]"
   ]
  },
  {
   "cell_type": "markdown",
   "id": "25280775",
   "metadata": {},
   "source": [
    "# Dimension Depression"
   ]
  },
  {
   "cell_type": "code",
   "execution_count": 64,
   "id": "8ff6c10b",
   "metadata": {
    "ExecuteTime": {
     "end_time": "2022-12-18T04:46:25.427499Z",
     "start_time": "2022-12-18T04:46:24.916003Z"
    }
   },
   "outputs": [
    {
     "name": "stderr",
     "output_type": "stream",
     "text": [
      "100%|██████████| 9/9 [00:00<00:00, 17.88it/s]\n"
     ]
    }
   ],
   "source": [
    "vector_path = f\"../data/{data_type}/sentenceBERT/vector\"\n",
    "\n",
    "for vector_dim in tqdm(vector_dims):\n",
    "    for model_num in range(max_model_num):\n",
    "        vectors = np.load(\n",
    "            f\"{vector_path}/raw/{model_num}.npy\",\n",
    "        )\n",
    "        reduced_vectors = PCA(\n",
    "            n_components=vector_dim, random_state=model_num\n",
    "        ).fit_transform(vectors)\n",
    "\n",
    "        np.save(\n",
    "            make_filepath(f\"{vectors_path}/pca/{model_num}.npy\"),\n",
    "            reduced_vectors,\n",
    "        )"
   ]
  },
  {
   "cell_type": "code",
   "execution_count": 65,
   "id": "4d3a244b",
   "metadata": {
    "ExecuteTime": {
     "end_time": "2022-12-18T04:47:20.614811Z",
     "start_time": "2022-12-18T04:46:26.200802Z"
    }
   },
   "outputs": [
    {
     "name": "stderr",
     "output_type": "stream",
     "text": [
      "100%|██████████| 9/9 [00:54<00:00,  6.05s/it]\n"
     ]
    }
   ],
   "source": [
    "vector_path = f\"../data/{data_type}/sentenceBERT/vector\"\n",
    "\n",
    "for vector_dim in tqdm(vector_dims):\n",
    "    for model_num in range(max_model_num):\n",
    "        vectors = np.load(\n",
    "            f\"{vector_path}/raw/{model_num}.npy\",\n",
    "        )\n",
    "        reduced_vectors = umap.UMAP(\n",
    "            n_components=vector_dim, random_state=model_num\n",
    "        ).fit_transform(vectors)\n",
    "        np.save(\n",
    "            make_filepath(f\"{vectors_path}/umap/{model_num}.npy\"),\n",
    "            reduced_vectors,\n",
    "        )"
   ]
  },
  {
   "cell_type": "code",
   "execution_count": 17,
   "id": "3680cc91",
   "metadata": {
    "ExecuteTime": {
     "end_time": "2022-12-18T03:24:58.555468Z",
     "start_time": "2022-12-18T03:24:58.537849Z"
    }
   },
   "outputs": [],
   "source": [
    "# import shutil\n",
    "# shutil.rmtree('data/AgNews/sentenceBERT/')"
   ]
  },
  {
   "cell_type": "code",
   "execution_count": null,
   "id": "941001ba",
   "metadata": {},
   "outputs": [],
   "source": []
  }
 ],
 "metadata": {
  "kernelspec": {
   "display_name": "Python 3 (ipykernel)",
   "language": "python",
   "name": "python3"
  },
  "language_info": {
   "codemirror_mode": {
    "name": "ipython",
    "version": 3
   },
   "file_extension": ".py",
   "mimetype": "text/x-python",
   "name": "python",
   "nbconvert_exporter": "python",
   "pygments_lexer": "ipython3",
   "version": "3.10.8"
  },
  "toc": {
   "base_numbering": 1,
   "nav_menu": {},
   "number_sections": true,
   "sideBar": true,
   "skip_h1_title": false,
   "title_cell": "Table of Contents",
   "title_sidebar": "Contents",
   "toc_cell": false,
   "toc_position": {},
   "toc_section_display": true,
   "toc_window_display": false
  }
 },
 "nbformat": 4,
 "nbformat_minor": 5
}
