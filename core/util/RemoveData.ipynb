{
 "cells": [
  {
   "cell_type": "code",
   "execution_count": 9,
   "id": "e7aa166b",
   "metadata": {
    "ExecuteTime": {
     "end_time": "2022-12-27T10:24:09.412464Z",
     "start_time": "2022-12-27T10:24:09.409781Z"
    }
   },
   "outputs": [],
   "source": [
    "import shutil\n",
    "import os"
   ]
  },
  {
   "cell_type": "code",
   "execution_count": 10,
   "id": "f19c0cc7",
   "metadata": {
    "ExecuteTime": {
     "end_time": "2022-12-27T10:24:09.571851Z",
     "start_time": "2022-12-27T10:24:09.569219Z"
    }
   },
   "outputs": [],
   "source": [
    "path = \"AgNews/doc2vec/vector/\""
   ]
  },
  {
   "cell_type": "code",
   "execution_count": 11,
   "id": "cdf01b22",
   "metadata": {
    "ExecuteTime": {
     "end_time": "2022-12-27T10:24:09.765009Z",
     "start_time": "2022-12-27T10:24:09.762148Z"
    }
   },
   "outputs": [],
   "source": [
    "abs_path = os.path.abspath(path)"
   ]
  },
  {
   "cell_type": "code",
   "execution_count": 12,
   "id": "5ed6e098",
   "metadata": {
    "ExecuteTime": {
     "end_time": "2022-12-27T10:24:10.156346Z",
     "start_time": "2022-12-27T10:24:10.152347Z"
    }
   },
   "outputs": [
    {
     "data": {
      "text/plain": [
       "'/home/jovyan/Clustering/data/AgNews/doc2vec/vector'"
      ]
     },
     "execution_count": 12,
     "metadata": {},
     "output_type": "execute_result"
    }
   ],
   "source": [
    "abs_path"
   ]
  },
  {
   "cell_type": "code",
   "execution_count": null,
   "id": "936ffcff",
   "metadata": {},
   "outputs": [],
   "source": []
  },
  {
   "cell_type": "code",
   "execution_count": 8,
   "id": "6dfa694f",
   "metadata": {
    "ExecuteTime": {
     "end_time": "2022-12-27T08:30:46.642621Z",
     "start_time": "2022-12-27T08:30:46.619150Z"
    }
   },
   "outputs": [],
   "source": [
    "# shutil.rmtree(abs_path)"
   ]
  },
  {
   "cell_type": "code",
   "execution_count": null,
   "id": "d8d204fb",
   "metadata": {},
   "outputs": [],
   "source": []
  }
 ],
 "metadata": {
  "kernelspec": {
   "display_name": "Python 3 (ipykernel)",
   "language": "python",
   "name": "python3"
  },
  "language_info": {
   "codemirror_mode": {
    "name": "ipython",
    "version": 3
   },
   "file_extension": ".py",
   "mimetype": "text/x-python",
   "name": "python",
   "nbconvert_exporter": "python",
   "pygments_lexer": "ipython3",
   "version": "3.10.8"
  },
  "toc": {
   "base_numbering": 1,
   "nav_menu": {},
   "number_sections": true,
   "sideBar": true,
   "skip_h1_title": false,
   "title_cell": "Table of Contents",
   "title_sidebar": "Contents",
   "toc_cell": false,
   "toc_position": {},
   "toc_section_display": true,
   "toc_window_display": false
  }
 },
 "nbformat": 4,
 "nbformat_minor": 5
}
