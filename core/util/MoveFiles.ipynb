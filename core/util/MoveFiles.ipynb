{
 "cells": [
  {
   "cell_type": "code",
   "execution_count": 5,
   "id": "93058d4a",
   "metadata": {
    "ExecuteTime": {
     "end_time": "2023-01-21T06:27:40.823510Z",
     "start_time": "2023-01-21T06:27:40.820780Z"
    }
   },
   "outputs": [],
   "source": [
    "import shutil\n",
    "import os\n",
    "from glob import glob"
   ]
  },
  {
   "cell_type": "code",
   "execution_count": 6,
   "id": "fe98a18f",
   "metadata": {
    "ExecuteTime": {
     "end_time": "2023-01-21T06:27:41.012750Z",
     "start_time": "2023-01-21T06:27:41.009957Z"
    }
   },
   "outputs": [],
   "source": [
    "data_type = \"20News\""
   ]
  },
  {
   "cell_type": "code",
   "execution_count": 7,
   "id": "5409c3f6",
   "metadata": {
    "ExecuteTime": {
     "end_time": "2023-01-21T06:27:41.147079Z",
     "start_time": "2023-01-21T06:27:41.144143Z"
    }
   },
   "outputs": [],
   "source": [
    "source_dir = f\"./{data_type}/sentenceBERT/GMM/dist\""
   ]
  },
  {
   "cell_type": "code",
   "execution_count": 8,
   "id": "5e48f256",
   "metadata": {
    "ExecuteTime": {
     "end_time": "2023-01-21T06:27:41.905035Z",
     "start_time": "2023-01-21T06:27:41.901328Z"
    },
    "scrolled": true
   },
   "outputs": [],
   "source": [
    "directry_list = glob(f\"{source_dir}/*\")"
   ]
  },
  {
   "cell_type": "code",
   "execution_count": 9,
   "id": "6dfb0884",
   "metadata": {
    "ExecuteTime": {
     "end_time": "2023-01-21T06:27:48.922103Z",
     "start_time": "2023-01-21T06:27:48.919432Z"
    }
   },
   "outputs": [],
   "source": [
    "new_folder = \"normalized\""
   ]
  },
  {
   "cell_type": "code",
   "execution_count": 12,
   "id": "26fb96c5",
   "metadata": {
    "ExecuteTime": {
     "end_time": "2023-01-21T06:28:20.138624Z",
     "start_time": "2023-01-21T06:28:20.135257Z"
    }
   },
   "outputs": [],
   "source": [
    "example = os.path.abspath(f\"{directry_list[0]}/{new_folder}\")"
   ]
  },
  {
   "cell_type": "code",
   "execution_count": 13,
   "id": "73b30d72",
   "metadata": {
    "ExecuteTime": {
     "end_time": "2023-01-21T06:28:20.792224Z",
     "start_time": "2023-01-21T06:28:20.787911Z"
    }
   },
   "outputs": [
    {
     "data": {
      "text/plain": [
       "'/home/jovyan/Clustering/data/prob/AgNewsTitle/LDA/pred/24.csv'"
      ]
     },
     "execution_count": 13,
     "metadata": {},
     "output_type": "execute_result"
    }
   ],
   "source": [
    "example"
   ]
  },
  {
   "cell_type": "code",
   "execution_count": 30,
   "id": "108c095c",
   "metadata": {
    "ExecuteTime": {
     "end_time": "2023-01-21T06:40:35.055080Z",
     "start_time": "2023-01-21T06:40:35.049919Z"
    }
   },
   "outputs": [],
   "source": [
    "skipped_files = []\n",
    "for directry in directry_list:\n",
    "    for file in target_files:\n",
    "        os.makedirs(f\"{directry}/{new_folder}\", exist_ok=True)\n",
    "        if os.path.exists(f\"{directry}/{file}\"):\n",
    "            shutil.move(f\"{directry}/{file}\", f\"{directry}/{new_folder}/{file}\")\n",
    "        else:\n",
    "            skipped_files.append(f\"{directry}/{file}\")"
   ]
  },
  {
   "cell_type": "code",
   "execution_count": 31,
   "id": "662ae454",
   "metadata": {
    "ExecuteTime": {
     "end_time": "2023-01-21T06:40:36.202144Z",
     "start_time": "2023-01-21T06:40:36.197771Z"
    },
    "scrolled": true
   },
   "outputs": [
    {
     "data": {
      "text/plain": [
       "['./AgNewsTitle/LDA/pred/24.csv',\n",
       " './AgNewsTitle/LDA/pred/14.csv',\n",
       " './AgNewsTitle/LDA/pred/18.csv',\n",
       " './AgNewsTitle/LDA/pred/5.csv',\n",
       " './AgNewsTitle/LDA/pred/20.csv',\n",
       " './AgNewsTitle/LDA/pred/26.csv',\n",
       " './AgNewsTitle/LDA/pred/0.csv',\n",
       " './AgNewsTitle/LDA/pred/21.csv',\n",
       " './AgNewsTitle/LDA/pred/22.csv',\n",
       " './AgNewsTitle/LDA/pred/1.csv',\n",
       " './AgNewsTitle/LDA/pred/25.csv',\n",
       " './AgNewsTitle/LDA/pred/10.csv',\n",
       " './AgNewsTitle/LDA/pred/19.csv',\n",
       " './AgNewsTitle/LDA/pred/16.csv',\n",
       " './AgNewsTitle/LDA/pred/4.csv',\n",
       " './AgNewsTitle/LDA/pred/17.csv',\n",
       " './AgNewsTitle/LDA/pred/2.csv',\n",
       " './AgNewsTitle/LDA/pred/29.csv',\n",
       " './AgNewsTitle/LDA/pred/11.csv',\n",
       " './AgNewsTitle/LDA/pred/8.csv',\n",
       " './AgNewsTitle/LDA/pred/27.csv',\n",
       " './AgNewsTitle/LDA/pred/3.csv',\n",
       " './AgNewsTitle/LDA/pred/15.csv',\n",
       " './AgNewsTitle/LDA/pred/13.csv',\n",
       " './AgNewsTitle/LDA/pred/12.csv',\n",
       " './AgNewsTitle/LDA/pred/23.csv',\n",
       " './AgNewsTitle/LDA/pred/7.csv',\n",
       " './AgNewsTitle/LDA/pred/6.csv',\n",
       " './AgNewsTitle/LDA/pred/9.csv',\n",
       " './AgNewsTitle/LDA/pred/28.csv']"
      ]
     },
     "execution_count": 31,
     "metadata": {},
     "output_type": "execute_result"
    }
   ],
   "source": [
    "skipped_files"
   ]
  },
  {
   "cell_type": "code",
   "execution_count": null,
   "id": "089baab8",
   "metadata": {},
   "outputs": [],
   "source": []
  }
 ],
 "metadata": {
  "kernelspec": {
   "display_name": "Python 3 (ipykernel)",
   "language": "python",
   "name": "python3"
  },
  "language_info": {
   "codemirror_mode": {
    "name": "ipython",
    "version": 3
   },
   "file_extension": ".py",
   "mimetype": "text/x-python",
   "name": "python",
   "nbconvert_exporter": "python",
   "pygments_lexer": "ipython3",
   "version": "3.10.8"
  },
  "toc": {
   "base_numbering": 1,
   "nav_menu": {},
   "number_sections": true,
   "sideBar": true,
   "skip_h1_title": false,
   "title_cell": "Table of Contents",
   "title_sidebar": "Contents",
   "toc_cell": false,
   "toc_position": {},
   "toc_section_display": true,
   "toc_window_display": false
  }
 },
 "nbformat": 4,
 "nbformat_minor": 5
}
