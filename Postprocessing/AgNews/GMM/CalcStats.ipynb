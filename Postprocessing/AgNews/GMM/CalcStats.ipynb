{
 "cells": [
  {
   "cell_type": "markdown",
   "id": "b95f9187",
   "metadata": {},
   "source": [
    "# Import"
   ]
  },
  {
   "cell_type": "code",
   "execution_count": 1,
   "id": "80a85ab5",
   "metadata": {
    "ExecuteTime": {
     "end_time": "2022-12-02T04:45:19.060564Z",
     "start_time": "2022-12-02T04:45:13.432419Z"
    }
   },
   "outputs": [
    {
     "name": "stderr",
     "output_type": "stream",
     "text": [
      "<jemalloc>: MADV_DONTNEED does not work (memset will be used instead)\n",
      "<jemalloc>: (This is the expected behaviour if you are running under QEMU)\n"
     ]
    }
   ],
   "source": [
    "import csv\n",
    "import os\n",
    "import pickle\n",
    "\n",
    "import numpy as np\n",
    "import pandas as pd\n",
    "from tqdm import tqdm\n",
    "from sklearn.mixture import GaussianMixture\n",
    "from sklearn.metrics import adjusted_mutual_info_score"
   ]
  },
  {
   "cell_type": "code",
   "execution_count": 2,
   "id": "9d870465",
   "metadata": {
    "ExecuteTime": {
     "end_time": "2022-12-02T04:45:19.099633Z",
     "start_time": "2022-12-02T04:45:19.073082Z"
    }
   },
   "outputs": [],
   "source": [
    "tqdm.pandas()"
   ]
  },
  {
   "cell_type": "markdown",
   "id": "52c60a4f",
   "metadata": {},
   "source": [
    "# Read data"
   ]
  },
  {
   "cell_type": "code",
   "execution_count": 3,
   "id": "c81d3638",
   "metadata": {
    "ExecuteTime": {
     "end_time": "2022-12-02T04:45:25.302541Z",
     "start_time": "2022-12-02T04:45:19.112720Z"
    },
    "scrolled": true
   },
   "outputs": [],
   "source": [
    "ag_news_df = pd.read_csv(\"../../../Preprocessing/data/AgNews/master.csv\", index_col=0)"
   ]
  },
  {
   "cell_type": "code",
   "execution_count": 4,
   "id": "95389cd0",
   "metadata": {
    "ExecuteTime": {
     "end_time": "2022-12-02T04:45:25.382219Z",
     "start_time": "2022-12-02T04:45:25.334785Z"
    }
   },
   "outputs": [],
   "source": [
    "with open(\"../../../Preprocessing/data/AgNews/class.csv\", mode=\"r\") as f:\n",
    "    reader = csv.reader(f)\n",
    "    class_labels = [label for label in reader]"
   ]
  },
  {
   "cell_type": "code",
   "execution_count": 5,
   "id": "fec767ee",
   "metadata": {
    "ExecuteTime": {
     "end_time": "2022-12-02T04:45:25.443439Z",
     "start_time": "2022-12-02T04:45:25.403752Z"
    }
   },
   "outputs": [],
   "source": [
    "vector_sizes = [2, 3, 4, 6, 7, 8, 9, 10, 20, 40, 80, 160, 320, 640]"
   ]
  },
  {
   "cell_type": "code",
   "execution_count": 6,
   "id": "2cb7d0e6",
   "metadata": {
    "ExecuteTime": {
     "end_time": "2022-12-02T04:45:25.512346Z",
     "start_time": "2022-12-02T04:45:25.469781Z"
    }
   },
   "outputs": [],
   "source": [
    "label = ag_news_df[\"class\"].to_numpy()"
   ]
  },
  {
   "cell_type": "code",
   "execution_count": 7,
   "id": "e73c9732",
   "metadata": {
    "ExecuteTime": {
     "end_time": "2022-12-02T04:45:25.586524Z",
     "start_time": "2022-12-02T04:45:25.541642Z"
    }
   },
   "outputs": [],
   "source": [
    "model_nums = 2\n",
    "vector_model_num = 0"
   ]
  },
  {
   "cell_type": "code",
   "execution_count": 8,
   "id": "11a9375e",
   "metadata": {
    "ExecuteTime": {
     "end_time": "2022-12-02T04:45:25.684167Z",
     "start_time": "2022-12-02T04:45:25.598686Z"
    }
   },
   "outputs": [],
   "source": [
    "def gmm_value(gmm, vectors, label):\n",
    "    pred = gmm.predict(vectors)\n",
    "    aic = gmm.aic(vectors)\n",
    "    bic = gmm.bic(vectors)\n",
    "    mi = adjusted_mutual_info_score(pred, label)\n",
    "    logl = gmm.score(vectors, label)\n",
    "    return {\"pred\": pred, \"aic\":aic, \"bic\":bic, \"mi\":mi, \"logl\":logl}"
   ]
  },
  {
   "cell_type": "code",
   "execution_count": 9,
   "id": "8ff6c10b",
   "metadata": {
    "ExecuteTime": {
     "end_time": "2022-12-02T04:45:34.583357Z",
     "start_time": "2022-12-02T04:45:25.714893Z"
    },
    "code_folding": []
   },
   "outputs": [
    {
     "name": "stderr",
     "output_type": "stream",
     "text": [
      "  0%|          | 0/14 [00:03<?, ?it/s]\n"
     ]
    },
    {
     "ename": "AttributeError",
     "evalue": "'KMeans' object has no attribute 'aic'",
     "output_type": "error",
     "traceback": [
      "\u001b[0;31m---------------------------------------------------------------------------\u001b[0m",
      "\u001b[0;31mAttributeError\u001b[0m                            Traceback (most recent call last)",
      "Cell \u001b[0;32mIn [9], line 12\u001b[0m\n\u001b[1;32m      9\u001b[0m vectors \u001b[38;5;241m=\u001b[39m np\u001b[38;5;241m.\u001b[39mloadtxt(vector_path, delimiter\u001b[38;5;241m=\u001b[39m\u001b[38;5;124m\"\u001b[39m\u001b[38;5;124m,\u001b[39m\u001b[38;5;124m\"\u001b[39m)\n\u001b[1;32m     11\u001b[0m gmm \u001b[38;5;241m=\u001b[39m pickle\u001b[38;5;241m.\u001b[39mload(\u001b[38;5;28mopen\u001b[39m(\u001b[38;5;124mf\u001b[39m\u001b[38;5;124m\"\u001b[39m\u001b[38;5;132;01m{\u001b[39;00mmodels_path\u001b[38;5;132;01m}\u001b[39;00m\u001b[38;5;132;01m{\u001b[39;00mvector_size\u001b[38;5;132;01m}\u001b[39;00m\u001b[38;5;124m/\u001b[39m\u001b[38;5;132;01m{\u001b[39;00mmodel_num\u001b[38;5;132;01m}\u001b[39;00m\u001b[38;5;124m.sav\u001b[39m\u001b[38;5;124m\"\u001b[39m, \u001b[38;5;124m\"\u001b[39m\u001b[38;5;124mrb\u001b[39m\u001b[38;5;124m\"\u001b[39m))\n\u001b[0;32m---> 12\u001b[0m value \u001b[38;5;241m=\u001b[39m \u001b[43mgmm_value\u001b[49m\u001b[43m(\u001b[49m\u001b[43mgmm\u001b[49m\u001b[43m,\u001b[49m\u001b[43m \u001b[49m\u001b[43mvectors\u001b[49m\u001b[43m,\u001b[49m\u001b[43m \u001b[49m\u001b[43mlabel\u001b[49m\u001b[43m)\u001b[49m\n\u001b[1;32m     13\u001b[0m pred, \u001b[38;5;241m*\u001b[39mstat \u001b[38;5;241m=\u001b[39m value\u001b[38;5;241m.\u001b[39mitems()\n\u001b[1;32m     14\u001b[0m stats\u001b[38;5;241m.\u001b[39mappend(\u001b[38;5;28mdict\u001b[39m(stat))\n",
      "Cell \u001b[0;32mIn [8], line 3\u001b[0m, in \u001b[0;36mgmm_value\u001b[0;34m(gmm, vectors, label)\u001b[0m\n\u001b[1;32m      1\u001b[0m \u001b[38;5;28;01mdef\u001b[39;00m \u001b[38;5;21mgmm_value\u001b[39m(gmm, vectors, label):\n\u001b[1;32m      2\u001b[0m     pred \u001b[38;5;241m=\u001b[39m gmm\u001b[38;5;241m.\u001b[39mpredict(vectors)\n\u001b[0;32m----> 3\u001b[0m     aic \u001b[38;5;241m=\u001b[39m \u001b[43mgmm\u001b[49m\u001b[38;5;241;43m.\u001b[39;49m\u001b[43maic\u001b[49m(vectors)\n\u001b[1;32m      4\u001b[0m     bic \u001b[38;5;241m=\u001b[39m gmm\u001b[38;5;241m.\u001b[39mbic(vectors)\n\u001b[1;32m      5\u001b[0m     mi \u001b[38;5;241m=\u001b[39m adjusted_mutual_info_score(pred, label)\n",
      "\u001b[0;31mAttributeError\u001b[0m: 'KMeans' object has no attribute 'aic'"
     ]
    }
   ],
   "source": [
    "vectors_path = \"../../../Clustering/data/AgNews/doc2vec/vector/\"\n",
    "models_path = \"../../../Clustering/data/AgNews/doc2vec/GMM/model/\"\n",
    "pred_path = \"../../../Clustering/data/AgNews/doc2vec/GMM/pred/\"\n",
    "stats_list = []\n",
    "for model_num in range(model_nums):\n",
    "    stats = []\n",
    "    for vector_size in tqdm(vector_sizes):\n",
    "        vector_path = f\"{vectors_path}{vector_size}/normalized/{vector_model_num}.csv\"\n",
    "        vectors = np.loadtxt(vector_path, delimiter=\",\")\n",
    "        \n",
    "        gmm = pickle.load(open(f\"{models_path}{vector_size}/{model_num}.sav\", \"rb\"))\n",
    "        value = gmm_value(gmm, vectors, label)\n",
    "        pred, *stat = value.items()\n",
    "        stats.append(dict(stat))\n",
    "    stats_list.append(stats)"
   ]
  },
  {
   "cell_type": "code",
   "execution_count": null,
   "id": "41932348",
   "metadata": {
    "ExecuteTime": {
     "end_time": "2022-12-02T04:45:34.620336Z",
     "start_time": "2022-12-02T04:45:34.620235Z"
    }
   },
   "outputs": [],
   "source": [
    "stats_list = [pd.DataFrame(stats, index=vector_sizes) for stats in stats_list]"
   ]
  },
  {
   "cell_type": "code",
   "execution_count": null,
   "id": "d5ce27c3",
   "metadata": {
    "ExecuteTime": {
     "end_time": "2022-12-02T04:45:34.647291Z",
     "start_time": "2022-12-02T04:45:34.646829Z"
    }
   },
   "outputs": [],
   "source": [
    "stats_path = \"../../data/AgNews/doc2vec/GMM/stats/\"\n",
    "for model_num in range(model_nums):\n",
    "    os.makedirs(f\"{stats_path}\", exist_ok=True)\n",
    "    stats_list[model_num].to_csv(f\"{stats_path}{model_num}.csv\")"
   ]
  },
  {
   "cell_type": "code",
   "execution_count": null,
   "id": "80a0f5db",
   "metadata": {
    "ExecuteTime": {
     "end_time": "2022-12-02T04:45:34.669574Z",
     "start_time": "2022-12-02T04:45:34.669486Z"
    }
   },
   "outputs": [],
   "source": [
    "stats_list[0]"
   ]
  },
  {
   "cell_type": "code",
   "execution_count": null,
   "id": "549050e0",
   "metadata": {},
   "outputs": [],
   "source": []
  }
 ],
 "metadata": {
  "kernelspec": {
   "display_name": "Python 3 (ipykernel)",
   "language": "python",
   "name": "python3"
  },
  "language_info": {
   "codemirror_mode": {
    "name": "ipython",
    "version": 3
   },
   "file_extension": ".py",
   "mimetype": "text/x-python",
   "name": "python",
   "nbconvert_exporter": "python",
   "pygments_lexer": "ipython3",
   "version": "3.10.6"
  },
  "toc": {
   "base_numbering": 1,
   "nav_menu": {},
   "number_sections": true,
   "sideBar": true,
   "skip_h1_title": false,
   "title_cell": "Table of Contents",
   "title_sidebar": "Contents",
   "toc_cell": false,
   "toc_position": {},
   "toc_section_display": true,
   "toc_window_display": false
  }
 },
 "nbformat": 4,
 "nbformat_minor": 5
}
