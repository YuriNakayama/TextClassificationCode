{
 "cells": [
  {
   "cell_type": "markdown",
   "id": "b95f9187",
   "metadata": {},
   "source": [
    "# Import"
   ]
  },
  {
   "cell_type": "code",
   "execution_count": 2,
   "id": "80a85ab5",
   "metadata": {
    "ExecuteTime": {
     "end_time": "2022-11-25T05:07:01.256242Z",
     "start_time": "2022-11-25T05:06:57.316640Z"
    }
   },
   "outputs": [
    {
     "name": "stderr",
     "output_type": "stream",
     "text": [
      "<jemalloc>: MADV_DONTNEED does not work (memset will be used instead)\n",
      "<jemalloc>: (This is the expected behaviour if you are running under QEMU)\n"
     ]
    }
   ],
   "source": [
    "import csv\n",
    "import os\n",
    "import pickle\n",
    "\n",
    "import numpy as np\n",
    "import pandas as pd\n",
    "from tqdm import tqdm\n",
    "from sklearn.mixture import GaussianMixture\n",
    "from sklearn.metrics import adjusted_mutual_info_score"
   ]
  },
  {
   "cell_type": "code",
   "execution_count": 3,
   "id": "9d870465",
   "metadata": {
    "ExecuteTime": {
     "end_time": "2022-11-25T05:07:01.279768Z",
     "start_time": "2022-11-25T05:07:01.265855Z"
    }
   },
   "outputs": [],
   "source": [
    "tqdm.pandas()"
   ]
  },
  {
   "cell_type": "markdown",
   "id": "52c60a4f",
   "metadata": {},
   "source": [
    "# Read data"
   ]
  },
  {
   "cell_type": "code",
   "execution_count": 4,
   "id": "c81d3638",
   "metadata": {
    "ExecuteTime": {
     "end_time": "2022-11-25T05:07:05.731234Z",
     "start_time": "2022-11-25T05:07:01.293620Z"
    },
    "scrolled": true
   },
   "outputs": [],
   "source": [
    "ag_news_df = pd.read_csv(\"../../../Preprocessing/data/AgNews/master.csv\", index_col=0)"
   ]
  },
  {
   "cell_type": "code",
   "execution_count": 5,
   "id": "95389cd0",
   "metadata": {
    "ExecuteTime": {
     "end_time": "2022-11-25T05:07:05.768080Z",
     "start_time": "2022-11-25T05:07:05.744495Z"
    }
   },
   "outputs": [],
   "source": [
    "with open(\"../../../Preprocessing/data/AgNews/class.csv\", mode=\"r\") as f:\n",
    "    reader = csv.reader(f)\n",
    "    class_labels = [label for label in reader]"
   ]
  },
  {
   "cell_type": "code",
   "execution_count": 6,
   "id": "fec767ee",
   "metadata": {
    "ExecuteTime": {
     "end_time": "2022-11-25T05:07:05.809593Z",
     "start_time": "2022-11-25T05:07:05.778461Z"
    }
   },
   "outputs": [],
   "source": [
    "vector_sizes = [2, 3, 4, 6, 7, 8, 9, 10, 20, 40, 80, 160, 320, 640]"
   ]
  },
  {
   "cell_type": "code",
   "execution_count": 7,
   "id": "2cb7d0e6",
   "metadata": {
    "ExecuteTime": {
     "end_time": "2022-11-25T05:07:05.854231Z",
     "start_time": "2022-11-25T05:07:05.819911Z"
    }
   },
   "outputs": [],
   "source": [
    "label = ag_news_df[\"class\"].to_numpy()"
   ]
  },
  {
   "cell_type": "code",
   "execution_count": 8,
   "id": "e73c9732",
   "metadata": {
    "ExecuteTime": {
     "end_time": "2022-11-25T05:07:05.893768Z",
     "start_time": "2022-11-25T05:07:05.864709Z"
    }
   },
   "outputs": [],
   "source": [
    "model_nums = 2\n",
    "vector_model_num = 0"
   ]
  },
  {
   "cell_type": "code",
   "execution_count": 12,
   "id": "d5ce27c3",
   "metadata": {
    "ExecuteTime": {
     "end_time": "2022-11-25T05:22:44.857784Z",
     "start_time": "2022-11-25T05:22:44.796413Z"
    }
   },
   "outputs": [],
   "source": [
    "stats_path = \"../../data/20News/doc2vec/GMM/stats/\"\n",
    "stats_list = []\n",
    "for model_num in range(model_nums):\n",
    "    stats_list.append(pd.read_csv(f\"{stats_path}{model_num}.csv\", index_col=0))"
   ]
  },
  {
   "cell_type": "code",
   "execution_count": 16,
   "id": "549050e0",
   "metadata": {
    "ExecuteTime": {
     "end_time": "2022-11-25T05:23:07.312744Z",
     "start_time": "2022-11-25T05:23:07.238508Z"
    }
   },
   "outputs": [
    {
     "data": {
      "text/html": [
       "<div>\n",
       "<style scoped>\n",
       "    .dataframe tbody tr th:only-of-type {\n",
       "        vertical-align: middle;\n",
       "    }\n",
       "\n",
       "    .dataframe tbody tr th {\n",
       "        vertical-align: top;\n",
       "    }\n",
       "\n",
       "    .dataframe thead th {\n",
       "        text-align: right;\n",
       "    }\n",
       "</style>\n",
       "<table border=\"1\" class=\"dataframe\">\n",
       "  <thead>\n",
       "    <tr style=\"text-align: right;\">\n",
       "      <th></th>\n",
       "      <th>aic</th>\n",
       "      <th>bic</th>\n",
       "      <th>mi</th>\n",
       "      <th>logl</th>\n",
       "    </tr>\n",
       "  </thead>\n",
       "  <tbody>\n",
       "    <tr>\n",
       "      <th>2</th>\n",
       "      <td>6.128898e+02</td>\n",
       "      <td>725.768141</td>\n",
       "      <td>0.055175</td>\n",
       "      <td>-0.283445</td>\n",
       "    </tr>\n",
       "    <tr>\n",
       "      <th>3</th>\n",
       "      <td>2.748899e+03</td>\n",
       "      <td>2940.301384</td>\n",
       "      <td>0.076758</td>\n",
       "      <td>-1.335449</td>\n",
       "    </tr>\n",
       "    <tr>\n",
       "      <th>4</th>\n",
       "      <td>3.820416e+03</td>\n",
       "      <td>4109.973853</td>\n",
       "      <td>0.082261</td>\n",
       "      <td>-1.851208</td>\n",
       "    </tr>\n",
       "    <tr>\n",
       "      <th>6</th>\n",
       "      <td>3.300788e+03</td>\n",
       "      <td>3845.549040</td>\n",
       "      <td>0.215590</td>\n",
       "      <td>-1.539394</td>\n",
       "    </tr>\n",
       "    <tr>\n",
       "      <th>7</th>\n",
       "      <td>3.034279e+03</td>\n",
       "      <td>3736.087894</td>\n",
       "      <td>0.208091</td>\n",
       "      <td>-1.374139</td>\n",
       "    </tr>\n",
       "    <tr>\n",
       "      <th>8</th>\n",
       "      <td>2.898096e+03</td>\n",
       "      <td>3776.583935</td>\n",
       "      <td>0.253268</td>\n",
       "      <td>-1.270048</td>\n",
       "    </tr>\n",
       "    <tr>\n",
       "      <th>9</th>\n",
       "      <td>2.383993e+03</td>\n",
       "      <td>3458.791216</td>\n",
       "      <td>0.196153</td>\n",
       "      <td>-0.972996</td>\n",
       "    </tr>\n",
       "    <tr>\n",
       "      <th>10</th>\n",
       "      <td>1.701665e+03</td>\n",
       "      <td>2992.404689</td>\n",
       "      <td>0.255091</td>\n",
       "      <td>-0.587833</td>\n",
       "    </tr>\n",
       "    <tr>\n",
       "      <th>20</th>\n",
       "      <td>-9.165027e+03</td>\n",
       "      <td>-4635.168504</td>\n",
       "      <td>0.191536</td>\n",
       "      <td>5.505513</td>\n",
       "    </tr>\n",
       "    <tr>\n",
       "      <th>40</th>\n",
       "      <td>-4.272200e+04</td>\n",
       "      <td>-25824.595653</td>\n",
       "      <td>0.243516</td>\n",
       "      <td>24.803999</td>\n",
       "    </tr>\n",
       "    <tr>\n",
       "      <th>80</th>\n",
       "      <td>-1.369362e+05</td>\n",
       "      <td>-71746.475856</td>\n",
       "      <td>0.253879</td>\n",
       "      <td>81.751095</td>\n",
       "    </tr>\n",
       "    <tr>\n",
       "      <th>160</th>\n",
       "      <td>-4.487149e+05</td>\n",
       "      <td>-192711.623117</td>\n",
       "      <td>0.243484</td>\n",
       "      <td>276.520431</td>\n",
       "    </tr>\n",
       "    <tr>\n",
       "      <th>320</th>\n",
       "      <td>-1.772176e+06</td>\n",
       "      <td>-757629.793751</td>\n",
       "      <td>0.237315</td>\n",
       "      <td>1092.810844</td>\n",
       "    </tr>\n",
       "    <tr>\n",
       "      <th>640</th>\n",
       "      <td>-4.365204e+06</td>\n",
       "      <td>-325910.177124</td>\n",
       "      <td>0.241696</td>\n",
       "      <td>3005.644903</td>\n",
       "    </tr>\n",
       "  </tbody>\n",
       "</table>\n",
       "</div>"
      ],
      "text/plain": [
       "              aic            bic        mi         logl\n",
       "2    6.128898e+02     725.768141  0.055175    -0.283445\n",
       "3    2.748899e+03    2940.301384  0.076758    -1.335449\n",
       "4    3.820416e+03    4109.973853  0.082261    -1.851208\n",
       "6    3.300788e+03    3845.549040  0.215590    -1.539394\n",
       "7    3.034279e+03    3736.087894  0.208091    -1.374139\n",
       "8    2.898096e+03    3776.583935  0.253268    -1.270048\n",
       "9    2.383993e+03    3458.791216  0.196153    -0.972996\n",
       "10   1.701665e+03    2992.404689  0.255091    -0.587833\n",
       "20  -9.165027e+03   -4635.168504  0.191536     5.505513\n",
       "40  -4.272200e+04  -25824.595653  0.243516    24.803999\n",
       "80  -1.369362e+05  -71746.475856  0.253879    81.751095\n",
       "160 -4.487149e+05 -192711.623117  0.243484   276.520431\n",
       "320 -1.772176e+06 -757629.793751  0.237315  1092.810844\n",
       "640 -4.365204e+06 -325910.177124  0.241696  3005.644903"
      ]
     },
     "execution_count": 16,
     "metadata": {},
     "output_type": "execute_result"
    }
   ],
   "source": [
    "stats_list[0]"
   ]
  },
  {
   "cell_type": "code",
   "execution_count": 17,
   "id": "f4f337c7",
   "metadata": {
    "ExecuteTime": {
     "end_time": "2022-11-25T05:23:17.683406Z",
     "start_time": "2022-11-25T05:23:17.589741Z"
    }
   },
   "outputs": [
    {
     "data": {
      "text/html": [
       "<div>\n",
       "<style scoped>\n",
       "    .dataframe tbody tr th:only-of-type {\n",
       "        vertical-align: middle;\n",
       "    }\n",
       "\n",
       "    .dataframe tbody tr th {\n",
       "        vertical-align: top;\n",
       "    }\n",
       "\n",
       "    .dataframe thead th {\n",
       "        text-align: right;\n",
       "    }\n",
       "</style>\n",
       "<table border=\"1\" class=\"dataframe\">\n",
       "  <thead>\n",
       "    <tr style=\"text-align: right;\">\n",
       "      <th></th>\n",
       "      <th>aic</th>\n",
       "      <th>bic</th>\n",
       "      <th>mi</th>\n",
       "      <th>logl</th>\n",
       "    </tr>\n",
       "  </thead>\n",
       "  <tbody>\n",
       "    <tr>\n",
       "      <th>2</th>\n",
       "      <td>6.144036e+02</td>\n",
       "      <td>727.281957</td>\n",
       "      <td>0.056074</td>\n",
       "      <td>-0.284202</td>\n",
       "    </tr>\n",
       "    <tr>\n",
       "      <th>3</th>\n",
       "      <td>2.904620e+03</td>\n",
       "      <td>3096.022849</td>\n",
       "      <td>0.080312</td>\n",
       "      <td>-1.413310</td>\n",
       "    </tr>\n",
       "    <tr>\n",
       "      <th>4</th>\n",
       "      <td>3.856347e+03</td>\n",
       "      <td>4145.904705</td>\n",
       "      <td>0.073193</td>\n",
       "      <td>-1.869174</td>\n",
       "    </tr>\n",
       "    <tr>\n",
       "      <th>6</th>\n",
       "      <td>3.296569e+03</td>\n",
       "      <td>3841.329842</td>\n",
       "      <td>0.214370</td>\n",
       "      <td>-1.537285</td>\n",
       "    </tr>\n",
       "    <tr>\n",
       "      <th>7</th>\n",
       "      <td>3.027643e+03</td>\n",
       "      <td>3729.451506</td>\n",
       "      <td>0.217768</td>\n",
       "      <td>-1.370821</td>\n",
       "    </tr>\n",
       "    <tr>\n",
       "      <th>8</th>\n",
       "      <td>2.900119e+03</td>\n",
       "      <td>3778.607388</td>\n",
       "      <td>0.256697</td>\n",
       "      <td>-1.271060</td>\n",
       "    </tr>\n",
       "    <tr>\n",
       "      <th>9</th>\n",
       "      <td>2.433023e+03</td>\n",
       "      <td>3507.821487</td>\n",
       "      <td>0.237413</td>\n",
       "      <td>-0.997512</td>\n",
       "    </tr>\n",
       "    <tr>\n",
       "      <th>10</th>\n",
       "      <td>1.903564e+03</td>\n",
       "      <td>3194.303142</td>\n",
       "      <td>0.219405</td>\n",
       "      <td>-0.688782</td>\n",
       "    </tr>\n",
       "    <tr>\n",
       "      <th>20</th>\n",
       "      <td>-9.137457e+03</td>\n",
       "      <td>-4607.598652</td>\n",
       "      <td>0.222752</td>\n",
       "      <td>5.491728</td>\n",
       "    </tr>\n",
       "    <tr>\n",
       "      <th>40</th>\n",
       "      <td>-4.288504e+04</td>\n",
       "      <td>-25987.634515</td>\n",
       "      <td>0.231339</td>\n",
       "      <td>24.885518</td>\n",
       "    </tr>\n",
       "    <tr>\n",
       "      <th>80</th>\n",
       "      <td>-1.369539e+05</td>\n",
       "      <td>-71764.146908</td>\n",
       "      <td>0.252778</td>\n",
       "      <td>81.759930</td>\n",
       "    </tr>\n",
       "    <tr>\n",
       "      <th>160</th>\n",
       "      <td>-4.491053e+05</td>\n",
       "      <td>-193102.092514</td>\n",
       "      <td>0.237248</td>\n",
       "      <td>276.715666</td>\n",
       "    </tr>\n",
       "    <tr>\n",
       "      <th>320</th>\n",
       "      <td>-1.770649e+06</td>\n",
       "      <td>-756102.630647</td>\n",
       "      <td>0.243425</td>\n",
       "      <td>1092.047263</td>\n",
       "    </tr>\n",
       "    <tr>\n",
       "      <th>640</th>\n",
       "      <td>-4.360832e+06</td>\n",
       "      <td>-321538.059808</td>\n",
       "      <td>0.254056</td>\n",
       "      <td>3003.458844</td>\n",
       "    </tr>\n",
       "  </tbody>\n",
       "</table>\n",
       "</div>"
      ],
      "text/plain": [
       "              aic            bic        mi         logl\n",
       "2    6.144036e+02     727.281957  0.056074    -0.284202\n",
       "3    2.904620e+03    3096.022849  0.080312    -1.413310\n",
       "4    3.856347e+03    4145.904705  0.073193    -1.869174\n",
       "6    3.296569e+03    3841.329842  0.214370    -1.537285\n",
       "7    3.027643e+03    3729.451506  0.217768    -1.370821\n",
       "8    2.900119e+03    3778.607388  0.256697    -1.271060\n",
       "9    2.433023e+03    3507.821487  0.237413    -0.997512\n",
       "10   1.903564e+03    3194.303142  0.219405    -0.688782\n",
       "20  -9.137457e+03   -4607.598652  0.222752     5.491728\n",
       "40  -4.288504e+04  -25987.634515  0.231339    24.885518\n",
       "80  -1.369539e+05  -71764.146908  0.252778    81.759930\n",
       "160 -4.491053e+05 -193102.092514  0.237248   276.715666\n",
       "320 -1.770649e+06 -756102.630647  0.243425  1092.047263\n",
       "640 -4.360832e+06 -321538.059808  0.254056  3003.458844"
      ]
     },
     "execution_count": 17,
     "metadata": {},
     "output_type": "execute_result"
    }
   ],
   "source": [
    "stats_list[1]"
   ]
  },
  {
   "cell_type": "code",
   "execution_count": null,
   "id": "a2b9cc43",
   "metadata": {},
   "outputs": [],
   "source": []
  }
 ],
 "metadata": {
  "kernelspec": {
   "display_name": "Python 3 (ipykernel)",
   "language": "python",
   "name": "python3"
  },
  "language_info": {
   "codemirror_mode": {
    "name": "ipython",
    "version": 3
   },
   "file_extension": ".py",
   "mimetype": "text/x-python",
   "name": "python",
   "nbconvert_exporter": "python",
   "pygments_lexer": "ipython3",
   "version": "3.10.6"
  },
  "toc": {
   "base_numbering": 1,
   "nav_menu": {},
   "number_sections": true,
   "sideBar": true,
   "skip_h1_title": false,
   "title_cell": "Table of Contents",
   "title_sidebar": "Contents",
   "toc_cell": false,
   "toc_position": {},
   "toc_section_display": true,
   "toc_window_display": false
  }
 },
 "nbformat": 4,
 "nbformat_minor": 5
}
