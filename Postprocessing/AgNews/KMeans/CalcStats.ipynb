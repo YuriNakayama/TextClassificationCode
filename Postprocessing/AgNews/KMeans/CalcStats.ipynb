{
 "cells": [
  {
   "cell_type": "markdown",
   "id": "b95f9187",
   "metadata": {},
   "source": [
    "# Import"
   ]
  },
  {
   "cell_type": "code",
   "execution_count": 1,
   "id": "80a85ab5",
   "metadata": {
    "ExecuteTime": {
     "end_time": "2022-12-02T04:55:10.932341Z",
     "start_time": "2022-12-02T04:55:05.883471Z"
    }
   },
   "outputs": [
    {
     "name": "stderr",
     "output_type": "stream",
     "text": [
      "<jemalloc>: MADV_DONTNEED does not work (memset will be used instead)\n",
      "<jemalloc>: (This is the expected behaviour if you are running under QEMU)\n"
     ]
    }
   ],
   "source": [
    "import csv\n",
    "import os\n",
    "import pickle\n",
    "\n",
    "import numpy as np\n",
    "import pandas as pd\n",
    "from tqdm import tqdm\n",
    "from sklearn.metrics import adjusted_mutual_info_score"
   ]
  },
  {
   "cell_type": "code",
   "execution_count": 2,
   "id": "9d870465",
   "metadata": {
    "ExecuteTime": {
     "end_time": "2022-12-02T04:55:10.980454Z",
     "start_time": "2022-12-02T04:55:10.956634Z"
    }
   },
   "outputs": [],
   "source": [
    "tqdm.pandas()"
   ]
  },
  {
   "cell_type": "markdown",
   "id": "52c60a4f",
   "metadata": {},
   "source": [
    "# Read data"
   ]
  },
  {
   "cell_type": "code",
   "execution_count": 3,
   "id": "c81d3638",
   "metadata": {
    "ExecuteTime": {
     "end_time": "2022-12-02T04:55:16.717239Z",
     "start_time": "2022-12-02T04:55:10.994379Z"
    },
    "scrolled": true
   },
   "outputs": [],
   "source": [
    "ag_news_df = pd.read_csv(\"../../../Preprocessing/data/AgNews/master.csv\", index_col=0)"
   ]
  },
  {
   "cell_type": "code",
   "execution_count": 4,
   "id": "95389cd0",
   "metadata": {
    "ExecuteTime": {
     "end_time": "2022-12-02T04:55:16.792606Z",
     "start_time": "2022-12-02T04:55:16.746922Z"
    }
   },
   "outputs": [],
   "source": [
    "with open(\"../../../Preprocessing/data/AgNews/class.csv\", mode=\"r\") as f:\n",
    "    reader = csv.reader(f)\n",
    "    class_labels = [label for label in reader]"
   ]
  },
  {
   "cell_type": "code",
   "execution_count": 5,
   "id": "fec767ee",
   "metadata": {
    "ExecuteTime": {
     "end_time": "2022-12-02T04:55:16.833795Z",
     "start_time": "2022-12-02T04:55:16.806842Z"
    }
   },
   "outputs": [],
   "source": [
    "vector_sizes = [2, 3, 4, 6, 7, 8, 9, 10, 20, 40, 80, 160, 320, 640]"
   ]
  },
  {
   "cell_type": "code",
   "execution_count": 6,
   "id": "2cb7d0e6",
   "metadata": {
    "ExecuteTime": {
     "end_time": "2022-12-02T04:55:16.904561Z",
     "start_time": "2022-12-02T04:55:16.848519Z"
    }
   },
   "outputs": [],
   "source": [
    "label = ag_news_df[\"class\"].to_numpy()"
   ]
  },
  {
   "cell_type": "code",
   "execution_count": 7,
   "id": "e73c9732",
   "metadata": {
    "ExecuteTime": {
     "end_time": "2022-12-02T04:55:16.979435Z",
     "start_time": "2022-12-02T04:55:16.926830Z"
    }
   },
   "outputs": [],
   "source": [
    "model_nums = 2\n",
    "vector_model_num = 0"
   ]
  },
  {
   "cell_type": "code",
   "execution_count": 12,
   "id": "11a9375e",
   "metadata": {
    "ExecuteTime": {
     "end_time": "2022-12-02T05:06:57.397633Z",
     "start_time": "2022-12-02T05:06:57.370268Z"
    }
   },
   "outputs": [],
   "source": [
    "def kmeans_value(gmm, vectors, label):\n",
    "    pred = gmm.predict(vectors)\n",
    "    mi = adjusted_mutual_info_score(pred, label)\n",
    "    return {\"pred\": pred, \"mi\":mi}"
   ]
  },
  {
   "cell_type": "code",
   "execution_count": 13,
   "id": "8ff6c10b",
   "metadata": {
    "ExecuteTime": {
     "end_time": "2022-12-02T05:39:16.032375Z",
     "start_time": "2022-12-02T05:06:58.095381Z"
    },
    "code_folding": []
   },
   "outputs": [
    {
     "name": "stderr",
     "output_type": "stream",
     "text": [
      "100%|██████████| 14/14 [16:15<00:00, 69.66s/it] \n",
      "100%|██████████| 14/14 [16:02<00:00, 68.75s/it] \n"
     ]
    }
   ],
   "source": [
    "vectors_path = \"../../../Clustering/data/AgNews/doc2vec/vector/\"\n",
    "models_path = \"../../../Clustering/data/AgNews/doc2vec/KMeans/model/\"\n",
    "pred_path = \"../../../Clustering/data/AgNews/doc2vec/KMeans/pred/\"\n",
    "stats_list = []\n",
    "for model_num in range(model_nums):\n",
    "    stats = []\n",
    "    for vector_size in tqdm(vector_sizes):\n",
    "        vector_path = f\"{vectors_path}{vector_size}/normalized/{vector_model_num}.csv\"\n",
    "        vectors = np.loadtxt(vector_path, delimiter=\",\")\n",
    "        \n",
    "        kmeans = pickle.load(open(f\"{models_path}{vector_size}/{model_num}.sav\", \"rb\"))\n",
    "        value = kmeans_value(kmeans, vectors, label)\n",
    "        pred, *stat = value.items()\n",
    "        stats.append(dict(stat))\n",
    "    stats_list.append(stats)"
   ]
  },
  {
   "cell_type": "code",
   "execution_count": 14,
   "id": "41932348",
   "metadata": {
    "ExecuteTime": {
     "end_time": "2022-12-02T05:40:33.118059Z",
     "start_time": "2022-12-02T05:40:33.003322Z"
    }
   },
   "outputs": [],
   "source": [
    "stats_list = [pd.DataFrame(stats, index=vector_sizes) for stats in stats_list]"
   ]
  },
  {
   "cell_type": "code",
   "execution_count": 15,
   "id": "d5ce27c3",
   "metadata": {
    "ExecuteTime": {
     "end_time": "2022-12-02T05:40:33.340079Z",
     "start_time": "2022-12-02T05:40:33.203351Z"
    }
   },
   "outputs": [],
   "source": [
    "stats_path = \"../../data/AgNews/doc2vec/KMeans/stats/\"\n",
    "for model_num in range(model_nums):\n",
    "    os.makedirs(f\"{stats_path}\", exist_ok=True)\n",
    "    stats_list[model_num].to_csv(f\"{stats_path}{model_num}.csv\")"
   ]
  },
  {
   "cell_type": "code",
   "execution_count": 16,
   "id": "80a0f5db",
   "metadata": {
    "ExecuteTime": {
     "end_time": "2022-12-02T05:40:34.929132Z",
     "start_time": "2022-12-02T05:40:34.740661Z"
    }
   },
   "outputs": [
    {
     "data": {
      "text/html": [
       "<div>\n",
       "<style scoped>\n",
       "    .dataframe tbody tr th:only-of-type {\n",
       "        vertical-align: middle;\n",
       "    }\n",
       "\n",
       "    .dataframe tbody tr th {\n",
       "        vertical-align: top;\n",
       "    }\n",
       "\n",
       "    .dataframe thead th {\n",
       "        text-align: right;\n",
       "    }\n",
       "</style>\n",
       "<table border=\"1\" class=\"dataframe\">\n",
       "  <thead>\n",
       "    <tr style=\"text-align: right;\">\n",
       "      <th></th>\n",
       "      <th>mi</th>\n",
       "    </tr>\n",
       "  </thead>\n",
       "  <tbody>\n",
       "    <tr>\n",
       "      <th>2</th>\n",
       "      <td>0.225923</td>\n",
       "    </tr>\n",
       "    <tr>\n",
       "      <th>3</th>\n",
       "      <td>0.288683</td>\n",
       "    </tr>\n",
       "    <tr>\n",
       "      <th>4</th>\n",
       "      <td>0.395076</td>\n",
       "    </tr>\n",
       "    <tr>\n",
       "      <th>6</th>\n",
       "      <td>0.455027</td>\n",
       "    </tr>\n",
       "    <tr>\n",
       "      <th>7</th>\n",
       "      <td>0.464722</td>\n",
       "    </tr>\n",
       "    <tr>\n",
       "      <th>8</th>\n",
       "      <td>0.456285</td>\n",
       "    </tr>\n",
       "    <tr>\n",
       "      <th>9</th>\n",
       "      <td>0.451079</td>\n",
       "    </tr>\n",
       "    <tr>\n",
       "      <th>10</th>\n",
       "      <td>0.440101</td>\n",
       "    </tr>\n",
       "    <tr>\n",
       "      <th>20</th>\n",
       "      <td>0.267159</td>\n",
       "    </tr>\n",
       "    <tr>\n",
       "      <th>40</th>\n",
       "      <td>0.019844</td>\n",
       "    </tr>\n",
       "    <tr>\n",
       "      <th>80</th>\n",
       "      <td>0.002269</td>\n",
       "    </tr>\n",
       "    <tr>\n",
       "      <th>160</th>\n",
       "      <td>0.003465</td>\n",
       "    </tr>\n",
       "    <tr>\n",
       "      <th>320</th>\n",
       "      <td>0.003605</td>\n",
       "    </tr>\n",
       "    <tr>\n",
       "      <th>640</th>\n",
       "      <td>0.002036</td>\n",
       "    </tr>\n",
       "  </tbody>\n",
       "</table>\n",
       "</div>"
      ],
      "text/plain": [
       "           mi\n",
       "2    0.225923\n",
       "3    0.288683\n",
       "4    0.395076\n",
       "6    0.455027\n",
       "7    0.464722\n",
       "8    0.456285\n",
       "9    0.451079\n",
       "10   0.440101\n",
       "20   0.267159\n",
       "40   0.019844\n",
       "80   0.002269\n",
       "160  0.003465\n",
       "320  0.003605\n",
       "640  0.002036"
      ]
     },
     "execution_count": 16,
     "metadata": {},
     "output_type": "execute_result"
    }
   ],
   "source": [
    "stats_list[0]"
   ]
  },
  {
   "cell_type": "code",
   "execution_count": null,
   "id": "549050e0",
   "metadata": {},
   "outputs": [],
   "source": []
  }
 ],
 "metadata": {
  "kernelspec": {
   "display_name": "Python 3 (ipykernel)",
   "language": "python",
   "name": "python3"
  },
  "language_info": {
   "codemirror_mode": {
    "name": "ipython",
    "version": 3
   },
   "file_extension": ".py",
   "mimetype": "text/x-python",
   "name": "python",
   "nbconvert_exporter": "python",
   "pygments_lexer": "ipython3",
   "version": "3.10.6"
  },
  "toc": {
   "base_numbering": 1,
   "nav_menu": {},
   "number_sections": true,
   "sideBar": true,
   "skip_h1_title": false,
   "title_cell": "Table of Contents",
   "title_sidebar": "Contents",
   "toc_cell": false,
   "toc_position": {},
   "toc_section_display": true,
   "toc_window_display": false
  }
 },
 "nbformat": 4,
 "nbformat_minor": 5
}
