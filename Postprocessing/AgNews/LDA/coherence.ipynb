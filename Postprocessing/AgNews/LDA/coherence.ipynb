{
 "cells": [
  {
   "cell_type": "markdown",
   "id": "b95f9187",
   "metadata": {},
   "source": [
    "# Import"
   ]
  },
  {
   "cell_type": "code",
   "execution_count": 23,
   "id": "80a85ab5",
   "metadata": {
    "ExecuteTime": {
     "end_time": "2022-12-06T05:03:59.872793Z",
     "start_time": "2022-12-06T05:03:59.868408Z"
    }
   },
   "outputs": [
    {
     "name": "stdout",
     "output_type": "stream",
     "text": [
      "The history saving thread hit an unexpected error (OperationalError('database or disk is full')).History will not be written to the database.\n"
     ]
    }
   ],
   "source": [
    "import csv\n",
    "import os\n",
    "import pickle\n",
    "import sys\n",
    "\n",
    "import numpy as np\n",
    "import pandas as pd\n",
    "from gensim.corpora.dictionary import Dictionary\n",
    "from gensim.models.coherencemodel import CoherenceModel\n",
    "from sklearn.mixture import GaussianMixture\n",
    "from smart_open import open\n",
    "from stop_words import get_stop_words\n",
    "from tqdm import tqdm"
   ]
  },
  {
   "cell_type": "markdown",
   "id": "2543f4e4",
   "metadata": {},
   "source": [
    "## Add configuration file"
   ]
  },
  {
   "cell_type": "code",
   "execution_count": 24,
   "id": "b62547de",
   "metadata": {
    "ExecuteTime": {
     "end_time": "2022-12-06T05:04:01.414406Z",
     "start_time": "2022-12-06T05:04:01.411198Z"
    }
   },
   "outputs": [],
   "source": [
    "sys.path.append(\"/home/jovyan/core/config/\")"
   ]
  },
  {
   "cell_type": "code",
   "execution_count": 25,
   "id": "84da401b",
   "metadata": {
    "ExecuteTime": {
     "end_time": "2022-12-06T05:04:01.797898Z",
     "start_time": "2022-12-06T05:04:01.795237Z"
    }
   },
   "outputs": [],
   "source": [
    "from ALL import config "
   ]
  },
  {
   "cell_type": "markdown",
   "id": "9330548e",
   "metadata": {},
   "source": [
    "## Set condition"
   ]
  },
  {
   "cell_type": "code",
   "execution_count": 26,
   "id": "a30f3623",
   "metadata": {
    "ExecuteTime": {
     "end_time": "2022-12-06T05:04:02.437296Z",
     "start_time": "2022-12-06T05:04:02.433346Z"
    }
   },
   "outputs": [],
   "source": [
    "tqdm.pandas()\n",
    "pd.set_option(\"display.max_columns\", 100)\n",
    "pd.set_option(\"display.max_rows\", 50)"
   ]
  },
  {
   "cell_type": "markdown",
   "id": "52c60a4f",
   "metadata": {},
   "source": [
    "# Read data"
   ]
  },
  {
   "cell_type": "code",
   "execution_count": 27,
   "id": "c81d3638",
   "metadata": {
    "ExecuteTime": {
     "end_time": "2022-12-06T05:04:04.233877Z",
     "start_time": "2022-12-06T05:04:03.247266Z"
    },
    "scrolled": true
   },
   "outputs": [],
   "source": [
    "newsgroups_df = pd.read_csv(\"../../../Preprocessing/data/AgNews/master.csv\", index_col=0)"
   ]
  },
  {
   "cell_type": "code",
   "execution_count": 28,
   "id": "95389cd0",
   "metadata": {
    "ExecuteTime": {
     "end_time": "2022-12-06T05:04:04.240431Z",
     "start_time": "2022-12-06T05:04:04.236649Z"
    }
   },
   "outputs": [],
   "source": [
    "with open(\"../../../Preprocessing/data/AgNews/class.csv\", mode=\"r\") as f:\n",
    "    reader = csv.reader(f)\n",
    "    class_labels = [label for label in reader]"
   ]
  },
  {
   "cell_type": "code",
   "execution_count": 29,
   "id": "10c181b5",
   "metadata": {
    "ExecuteTime": {
     "end_time": "2022-12-06T05:04:04.245274Z",
     "start_time": "2022-12-06T05:04:04.242340Z"
    }
   },
   "outputs": [],
   "source": [
    "vector_dims = config[\"vectorize\"][\"doc2vec\"][\"dims\"]\n",
    "model_nums = config[\"clustering\"][\"LDA\"][\"max_model_num\"]"
   ]
  },
  {
   "cell_type": "code",
   "execution_count": 30,
   "id": "ffc386a8",
   "metadata": {
    "ExecuteTime": {
     "end_time": "2022-12-06T05:04:04.425895Z",
     "start_time": "2022-12-06T05:04:04.421669Z"
    }
   },
   "outputs": [],
   "source": [
    "class Corpus:\n",
    "    def __init__(self, path=None, texts=None):\n",
    "        self.path = path\n",
    "        self.texts = texts\n",
    "        self.dictionary = Dictionary(texts)\n",
    "\n",
    "    def __iter__(self):\n",
    "        if self.path is not None:\n",
    "            for line in open(self.path):\n",
    "                # assume there's one document per line, tokens separated by whitespace\n",
    "                yield self.dictionary.doc2bow(line.lower().split())\n",
    "        else:\n",
    "            for line in self.texts:\n",
    "                yield self.dictionary.doc2bow(line)"
   ]
  },
  {
   "cell_type": "code",
   "execution_count": 31,
   "id": "ad348a50",
   "metadata": {
    "ExecuteTime": {
     "end_time": "2022-12-06T05:04:13.000436Z",
     "start_time": "2022-12-06T05:04:04.973164Z"
    }
   },
   "outputs": [
    {
     "name": "stderr",
     "output_type": "stream",
     "text": [
      "100%|██████████| 120000/120000 [00:00<00:00, 155292.01it/s]\n"
     ]
    }
   ],
   "source": [
    "texts = newsgroups_df.words_nonstop.progress_apply(lambda x: x.split(' ')).tolist()\n",
    "corpus = Corpus(texts=texts)\n",
    "dictionary = Dictionary(texts)\n",
    "#     登場頻度80%以上の単語を削除\n",
    "dictionary.filter_extremes()"
   ]
  },
  {
   "cell_type": "code",
   "execution_count": 32,
   "id": "694f0571",
   "metadata": {
    "ExecuteTime": {
     "end_time": "2022-12-06T05:04:13.031039Z",
     "start_time": "2022-12-06T05:04:13.003162Z"
    }
   },
   "outputs": [],
   "source": [
    "label = newsgroups_df[\"class\"].to_numpy()"
   ]
  },
  {
   "cell_type": "code",
   "execution_count": 39,
   "id": "4b381ebf",
   "metadata": {
    "ExecuteTime": {
     "end_time": "2022-12-06T08:43:39.947388Z",
     "start_time": "2022-12-06T08:43:36.645150Z"
    },
    "code_folding": []
   },
   "outputs": [],
   "source": [
    "pred_path = \"../../../Clustering/data/AgNews/LDA/pred/\"\n",
    "\n",
    "coherence = []\n",
    "for model_num in range(model_nums):\n",
    "    coherence = []\n",
    "\n",
    "    pred = np.loadtxt(\n",
    "        f\"{pred_path}{model_num}.csv\", delimiter=\",\"\n",
    "    )\n",
    "\n",
    "    cm = CoherenceModel(\n",
    "        topics=pred.reshape(1, -1),\n",
    "        corpus=corpus,\n",
    "        dictionary=dictionary,\n",
    "        texts=texts,\n",
    "        coherence=\"c_v\",\n",
    "    )\n",
    "    coherence.append(cm.get_coherence())"
   ]
  },
  {
   "cell_type": "code",
   "execution_count": 40,
   "id": "f70d944f",
   "metadata": {
    "ExecuteTime": {
     "end_time": "2022-12-06T08:43:41.682341Z",
     "start_time": "2022-12-06T08:43:41.677792Z"
    }
   },
   "outputs": [
    {
     "data": {
      "text/plain": [
       "[0.8631636190745985]"
      ]
     },
     "execution_count": 40,
     "metadata": {},
     "output_type": "execute_result"
    }
   ],
   "source": [
    "coherence"
   ]
  },
  {
   "cell_type": "code",
   "execution_count": 41,
   "id": "4fdf5e7c",
   "metadata": {
    "ExecuteTime": {
     "end_time": "2022-12-06T08:43:43.591186Z",
     "start_time": "2022-12-06T08:43:43.574860Z"
    }
   },
   "outputs": [
    {
     "ename": "NameError",
     "evalue": "name 'covariance_types' is not defined",
     "output_type": "error",
     "traceback": [
      "\u001b[0;31m---------------------------------------------------------------------------\u001b[0m",
      "\u001b[0;31mNameError\u001b[0m                                 Traceback (most recent call last)",
      "Cell \u001b[0;32mIn [41], line 3\u001b[0m\n\u001b[1;32m      1\u001b[0m coherence_path \u001b[38;5;241m=\u001b[39m \u001b[38;5;124mf\u001b[39m\u001b[38;5;124m\"\u001b[39m\u001b[38;5;124m../../data/AgNews/LDA/coherence.csv\u001b[39m\u001b[38;5;124m\"\u001b[39m\n\u001b[1;32m      2\u001b[0m os\u001b[38;5;241m.\u001b[39mmakedirs(os\u001b[38;5;241m.\u001b[39mpath\u001b[38;5;241m.\u001b[39mdirname(coherence_path), exist_ok\u001b[38;5;241m=\u001b[39m\u001b[38;5;28;01mTrue\u001b[39;00m)\n\u001b[0;32m----> 3\u001b[0m pd\u001b[38;5;241m.\u001b[39mDataFrame(coherence, columns\u001b[38;5;241m=\u001b[39m\u001b[43mcovariance_types\u001b[49m)\u001b[38;5;241m.\u001b[39mto_csv(coherence_path)\n",
      "\u001b[0;31mNameError\u001b[0m: name 'covariance_types' is not defined"
     ]
    }
   ],
   "source": [
    "coherence_path = f\"../../data/AgNews/LDA/coherence.csv\"\n",
    "os.makedirs(os.path.dirname(coherence_path), exist_ok=True)\n",
    "pd.DataFrame(coherence, columns=covariance_types).to_csv(coherence_path)"
   ]
  },
  {
   "cell_type": "code",
   "execution_count": null,
   "id": "ddb26020",
   "metadata": {},
   "outputs": [],
   "source": []
  }
 ],
 "metadata": {
  "kernelspec": {
   "display_name": "Python 3 (ipykernel)",
   "language": "python",
   "name": "python3"
  },
  "language_info": {
   "codemirror_mode": {
    "name": "ipython",
    "version": 3
   },
   "file_extension": ".py",
   "mimetype": "text/x-python",
   "name": "python",
   "nbconvert_exporter": "python",
   "pygments_lexer": "ipython3",
   "version": "3.10.8"
  },
  "toc": {
   "base_numbering": 1,
   "nav_menu": {},
   "number_sections": true,
   "sideBar": true,
   "skip_h1_title": false,
   "title_cell": "Table of Contents",
   "title_sidebar": "Contents",
   "toc_cell": false,
   "toc_position": {},
   "toc_section_display": true,
   "toc_window_display": false
  }
 },
 "nbformat": 4,
 "nbformat_minor": 5
}
