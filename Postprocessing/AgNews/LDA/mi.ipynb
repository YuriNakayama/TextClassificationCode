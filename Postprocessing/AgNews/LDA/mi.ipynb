{
 "cells": [
  {
   "cell_type": "markdown",
   "id": "b95f9187",
   "metadata": {},
   "source": [
    "# Import"
   ]
  },
  {
   "cell_type": "code",
   "execution_count": 11,
   "id": "80a85ab5",
   "metadata": {
    "ExecuteTime": {
     "end_time": "2022-12-13T17:18:43.140985Z",
     "start_time": "2022-12-13T17:18:43.137344Z"
    }
   },
   "outputs": [],
   "source": [
    "import csv\n",
    "import os\n",
    "import pickle\n",
    "import sys\n",
    "\n",
    "import numpy as np\n",
    "import pandas as pd\n",
    "from sklearn.metrics import adjusted_mutual_info_score\n",
    "from tqdm import tqdm"
   ]
  },
  {
   "cell_type": "markdown",
   "id": "2543f4e4",
   "metadata": {},
   "source": [
    "## Add configuration file"
   ]
  },
  {
   "cell_type": "code",
   "execution_count": 13,
   "id": "b62547de",
   "metadata": {
    "ExecuteTime": {
     "end_time": "2022-12-13T17:20:58.297629Z",
     "start_time": "2022-12-13T17:20:58.294303Z"
    }
   },
   "outputs": [],
   "source": [
    "sys.path.append(\"/home/jovyan/core/config/\")\n",
    "sys.path.append(\"/home/jovyan/core/util/\")"
   ]
  },
  {
   "cell_type": "code",
   "execution_count": 14,
   "id": "84da401b",
   "metadata": {
    "ExecuteTime": {
     "end_time": "2022-12-13T17:20:58.582717Z",
     "start_time": "2022-12-13T17:20:58.579084Z"
    }
   },
   "outputs": [],
   "source": [
    "from ALL import config \n",
    "from util import *"
   ]
  },
  {
   "cell_type": "markdown",
   "id": "9330548e",
   "metadata": {},
   "source": [
    "## Set condition"
   ]
  },
  {
   "cell_type": "code",
   "execution_count": 15,
   "id": "a30f3623",
   "metadata": {
    "ExecuteTime": {
     "end_time": "2022-12-13T17:20:59.718657Z",
     "start_time": "2022-12-13T17:20:59.714743Z"
    }
   },
   "outputs": [],
   "source": [
    "tqdm.pandas()\n",
    "pd.set_option(\"display.max_columns\", 100)\n",
    "pd.set_option(\"display.max_rows\", 50)"
   ]
  },
  {
   "cell_type": "markdown",
   "id": "52c60a4f",
   "metadata": {},
   "source": [
    "# Read data"
   ]
  },
  {
   "cell_type": "code",
   "execution_count": 5,
   "id": "c81d3638",
   "metadata": {
    "ExecuteTime": {
     "end_time": "2022-12-13T17:17:27.592171Z",
     "start_time": "2022-12-13T17:17:26.553036Z"
    },
    "scrolled": true
   },
   "outputs": [],
   "source": [
    "newsgroups_df = pd.read_csv(\"../../../Preprocessing/data/AgNews/master.csv\", index_col=0)"
   ]
  },
  {
   "cell_type": "code",
   "execution_count": 6,
   "id": "95389cd0",
   "metadata": {
    "ExecuteTime": {
     "end_time": "2022-12-13T17:17:28.140961Z",
     "start_time": "2022-12-13T17:17:28.137275Z"
    }
   },
   "outputs": [],
   "source": [
    "with open(\"../../../Preprocessing/data/AgNews/class.csv\", mode=\"r\") as f:\n",
    "    reader = csv.reader(f)\n",
    "    class_labels = [label for label in reader]"
   ]
  },
  {
   "cell_type": "code",
   "execution_count": 7,
   "id": "10c181b5",
   "metadata": {
    "ExecuteTime": {
     "end_time": "2022-12-13T17:17:39.328790Z",
     "start_time": "2022-12-13T17:17:39.325752Z"
    }
   },
   "outputs": [],
   "source": [
    "model_nums = config[\"clustering\"][\"LDA\"][\"max_model_num\"]"
   ]
  },
  {
   "cell_type": "code",
   "execution_count": 10,
   "id": "694f0571",
   "metadata": {
    "ExecuteTime": {
     "end_time": "2022-12-13T17:17:52.608727Z",
     "start_time": "2022-12-13T17:17:52.605613Z"
    }
   },
   "outputs": [],
   "source": [
    "label = newsgroups_df[\"class\"].to_numpy()"
   ]
  },
  {
   "cell_type": "code",
   "execution_count": 20,
   "id": "4b381ebf",
   "metadata": {
    "ExecuteTime": {
     "end_time": "2022-12-13T17:22:29.696735Z",
     "start_time": "2022-12-13T17:22:20.201915Z"
    },
    "code_folding": []
   },
   "outputs": [],
   "source": [
    "pred_path = \"../../../Clustering/data/AgNews/LDA/pred/\"\n",
    "\n",
    "mi = {}\n",
    "for model_num in range(model_nums):\n",
    "    pred = np.loadtxt(f\"{pred_path}{model_num}.csv\", delimiter=\",\")\n",
    "    mi[model_num] = adjusted_mutual_info_score(label, pred)"
   ]
  },
  {
   "cell_type": "code",
   "execution_count": 32,
   "id": "4fdf5e7c",
   "metadata": {
    "ExecuteTime": {
     "end_time": "2022-12-13T17:25:16.735328Z",
     "start_time": "2022-12-13T17:25:16.730185Z"
    }
   },
   "outputs": [],
   "source": [
    "mi_path = f\"../../data/AgNews/LDA/mi.csv\"\n",
    "\n",
    "pd.DataFrame(mi.values(), index=mi.keys()).to_csv(make_filepath(mi_path))"
   ]
  },
  {
   "cell_type": "code",
   "execution_count": null,
   "id": "ddb26020",
   "metadata": {},
   "outputs": [],
   "source": []
  }
 ],
 "metadata": {
  "kernelspec": {
   "display_name": "Python 3 (ipykernel)",
   "language": "python",
   "name": "python3"
  },
  "language_info": {
   "codemirror_mode": {
    "name": "ipython",
    "version": 3
   },
   "file_extension": ".py",
   "mimetype": "text/x-python",
   "name": "python",
   "nbconvert_exporter": "python",
   "pygments_lexer": "ipython3",
   "version": "3.10.8"
  },
  "toc": {
   "base_numbering": 1,
   "nav_menu": {},
   "number_sections": true,
   "sideBar": true,
   "skip_h1_title": false,
   "title_cell": "Table of Contents",
   "title_sidebar": "Contents",
   "toc_cell": false,
   "toc_position": {},
   "toc_section_display": true,
   "toc_window_display": false
  }
 },
 "nbformat": 4,
 "nbformat_minor": 5
}
