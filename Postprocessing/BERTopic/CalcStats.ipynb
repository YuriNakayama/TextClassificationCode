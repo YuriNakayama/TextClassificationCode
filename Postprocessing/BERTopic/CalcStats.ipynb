{
 "cells": [
  {
   "cell_type": "markdown",
   "id": "b95f9187",
   "metadata": {},
   "source": [
    "# Import"
   ]
  },
  {
   "cell_type": "code",
   "execution_count": 1,
   "id": "80a85ab5",
   "metadata": {
    "ExecuteTime": {
     "end_time": "2023-02-28T07:34:29.180211Z",
     "start_time": "2023-02-28T07:34:22.416481Z"
    }
   },
   "outputs": [],
   "source": [
    "import csv\n",
    "import os\n",
    "import sys\n",
    "\n",
    "import numpy as np\n",
    "import pandas as pd\n",
    "from bertopic import BERTopic\n",
    "from sklearn.metrics import adjusted_mutual_info_score\n",
    "from tqdm import tqdm"
   ]
  },
  {
   "cell_type": "markdown",
   "id": "2543f4e4",
   "metadata": {},
   "source": [
    "## Add configuration file"
   ]
  },
  {
   "cell_type": "code",
   "execution_count": 2,
   "id": "b62547de",
   "metadata": {
    "ExecuteTime": {
     "end_time": "2023-02-28T07:34:29.187268Z",
     "start_time": "2023-02-28T07:34:29.183129Z"
    }
   },
   "outputs": [],
   "source": [
    "sys.path.append(\"/home/jovyan/core/config/\")\n",
    "sys.path.append(\"/home/jovyan/core/util/\")"
   ]
  },
  {
   "cell_type": "code",
   "execution_count": 3,
   "id": "84da401b",
   "metadata": {
    "ExecuteTime": {
     "end_time": "2023-02-28T07:34:29.759675Z",
     "start_time": "2023-02-28T07:34:29.189457Z"
    }
   },
   "outputs": [],
   "source": [
    "from ALL import config\n",
    "import MultilayerDict as md\n",
    "from util import *"
   ]
  },
  {
   "cell_type": "markdown",
   "id": "9330548e",
   "metadata": {},
   "source": [
    "## Set condition"
   ]
  },
  {
   "cell_type": "code",
   "execution_count": 4,
   "id": "a30f3623",
   "metadata": {
    "ExecuteTime": {
     "end_time": "2023-02-28T07:34:29.767287Z",
     "start_time": "2023-02-28T07:34:29.762119Z"
    }
   },
   "outputs": [],
   "source": [
    "tqdm.pandas()\n",
    "pd.set_option(\"display.max_columns\", 100)\n",
    "pd.set_option(\"display.max_rows\", 50)"
   ]
  },
  {
   "cell_type": "code",
   "execution_count": 5,
   "id": "52475e08",
   "metadata": {
    "ExecuteTime": {
     "end_time": "2023-02-28T07:34:29.776895Z",
     "start_time": "2023-02-28T07:34:29.773998Z"
    }
   },
   "outputs": [],
   "source": [
    "s3 = S3Manager()"
   ]
  },
  {
   "cell_type": "code",
   "execution_count": 6,
   "id": "fa2ddf7e",
   "metadata": {
    "ExecuteTime": {
     "end_time": "2023-02-28T07:34:29.783069Z",
     "start_time": "2023-02-28T07:34:29.778947Z"
    }
   },
   "outputs": [],
   "source": [
    "sampling_nums = [1, 2, 4, 8, 16, 32, 64, 128]"
   ]
  },
  {
   "cell_type": "code",
   "execution_count": 7,
   "id": "ee9bf4ad",
   "metadata": {
    "ExecuteTime": {
     "end_time": "2023-02-28T07:34:29.790111Z",
     "start_time": "2023-02-28T07:34:29.785041Z"
    }
   },
   "outputs": [],
   "source": [
    "# data_types = [f\"20NewsSampled{sampling_num}\" for sampling_num in sampling_nums]\n",
    "data_types = [\"TweetTopic\", \"TweetFinance\"]\n",
    "clustering_model = \"BERTopic\""
   ]
  },
  {
   "cell_type": "code",
   "execution_count": 8,
   "id": "8b74176e",
   "metadata": {
    "ExecuteTime": {
     "end_time": "2023-02-28T07:34:29.800379Z",
     "start_time": "2023-02-28T07:34:29.792764Z"
    }
   },
   "outputs": [],
   "source": [
    "data_type = data_types[0]"
   ]
  },
  {
   "cell_type": "code",
   "execution_count": 9,
   "id": "5860eb60",
   "metadata": {
    "ExecuteTime": {
     "end_time": "2023-02-28T07:34:29.808366Z",
     "start_time": "2023-02-28T07:34:29.803565Z"
    }
   },
   "outputs": [],
   "source": [
    "model_nums = config[\"clustering\"][clustering_model][\"max_model_num\"]\n",
    "topic_nums = {\n",
    "    data_type: config[\"data\"][data_type_classifier(data_type)][\"class_num\"]\n",
    "    for data_type in data_types\n",
    "}"
   ]
  },
  {
   "cell_type": "markdown",
   "id": "52c60a4f",
   "metadata": {},
   "source": [
    "# Read data"
   ]
  },
  {
   "cell_type": "code",
   "execution_count": 10,
   "id": "25a24ba9",
   "metadata": {
    "ExecuteTime": {
     "end_time": "2023-02-28T07:34:31.312534Z",
     "start_time": "2023-02-28T07:34:29.811950Z"
    }
   },
   "outputs": [],
   "source": [
    "df_path = s3.download(f\"Preprocessing/{data_type}/master.csv\")"
   ]
  },
  {
   "cell_type": "code",
   "execution_count": 11,
   "id": "043b8c0b",
   "metadata": {
    "ExecuteTime": {
     "end_time": "2023-02-28T07:34:31.384743Z",
     "start_time": "2023-02-28T07:34:31.315307Z"
    }
   },
   "outputs": [],
   "source": [
    "df = pd.read_csv(df_path[0], index_col=0)"
   ]
  },
  {
   "cell_type": "code",
   "execution_count": 12,
   "id": "6782bdb1",
   "metadata": {
    "ExecuteTime": {
     "end_time": "2023-02-28T07:34:31.759733Z",
     "start_time": "2023-02-28T07:34:31.387073Z"
    }
   },
   "outputs": [],
   "source": [
    "labels_path = s3.download(f\"Preprocessing/{data_type}/class.csv\")"
   ]
  },
  {
   "cell_type": "code",
   "execution_count": 13,
   "id": "2e2aae46",
   "metadata": {
    "ExecuteTime": {
     "end_time": "2023-02-28T07:34:31.774075Z",
     "start_time": "2023-02-28T07:34:31.761614Z"
    }
   },
   "outputs": [],
   "source": [
    "label = df[\"class\"].to_numpy()"
   ]
  },
  {
   "cell_type": "code",
   "execution_count": 14,
   "id": "ffa22ff8",
   "metadata": {
    "ExecuteTime": {
     "end_time": "2023-02-28T07:34:31.795969Z",
     "start_time": "2023-02-28T07:34:31.784218Z"
    }
   },
   "outputs": [],
   "source": [
    "with open(labels_path[0], mode=\"r\") as f:\n",
    "    reader = csv.reader(f)\n",
    "    class_labels = [label for label in reader]"
   ]
  },
  {
   "cell_type": "code",
   "execution_count": 15,
   "id": "d356598f",
   "metadata": {
    "ExecuteTime": {
     "end_time": "2023-02-28T07:34:31.808331Z",
     "start_time": "2023-02-28T07:34:31.801740Z"
    }
   },
   "outputs": [],
   "source": [
    "base_pred_path = f\"Clustering/{data_type}/BERTopic/pred\"\n",
    "base_prob_path = f\"Postprocessing/{data_type}/BERTopic/prob\"\n",
    "base_stats_path = f\"Postprocessing/{data_type}/BERTopic/stats\""
   ]
  },
  {
   "cell_type": "code",
   "execution_count": 16,
   "id": "2e7db3b8",
   "metadata": {
    "ExecuteTime": {
     "end_time": "2023-02-28T07:34:32.144892Z",
     "start_time": "2023-02-28T07:34:31.812414Z"
    }
   },
   "outputs": [
    {
     "data": {
      "text/plain": [
       "['/home/jovyan/temporary/Clustering/TweetTopic/BERTopic/pred/0.npy']"
      ]
     },
     "execution_count": 16,
     "metadata": {},
     "output_type": "execute_result"
    }
   ],
   "source": [
    "s3.download(base_pred_path)"
   ]
  },
  {
   "cell_type": "code",
   "execution_count": 17,
   "id": "5b25aa86",
   "metadata": {
    "ExecuteTime": {
     "end_time": "2023-02-28T07:34:32.422634Z",
     "start_time": "2023-02-28T07:34:32.146680Z"
    }
   },
   "outputs": [
    {
     "data": {
      "text/plain": [
       "['/home/jovyan/temporary/Postprocessing/TweetTopic/BERTopic/prob/0.npy']"
      ]
     },
     "execution_count": 17,
     "metadata": {},
     "output_type": "execute_result"
    }
   ],
   "source": [
    "s3.download(base_prob_path)"
   ]
  },
  {
   "cell_type": "markdown",
   "id": "f6635e87",
   "metadata": {},
   "source": [
    "# Calculate Stats"
   ]
  },
  {
   "cell_type": "code",
   "execution_count": 18,
   "id": "a1730426",
   "metadata": {
    "ExecuteTime": {
     "end_time": "2023-02-28T07:34:32.447934Z",
     "start_time": "2023-02-28T07:34:32.424720Z"
    }
   },
   "outputs": [],
   "source": [
    "for model_num in range(model_nums):\n",
    "    pred = np.load(f\"{root_path_temporary}{base_pred_path}/{model_num}.npy\")\n",
    "    mi = adjusted_mutual_info_score(pred, label)\n",
    "    stats = {\"mi\": mi}\n",
    "    with open(\n",
    "        make_filepath(f\"{root_path_temporary}{base_stats_path}/{model_num}.csv\"), \"w\"\n",
    "    ) as f:\n",
    "        writer = csv.DictWriter(f, stats.keys())\n",
    "        writer.writeheader()\n",
    "        writer.writerow(stats)"
   ]
  },
  {
   "cell_type": "markdown",
   "id": "f3b26352",
   "metadata": {},
   "source": [
    "## upload file"
   ]
  },
  {
   "cell_type": "code",
   "execution_count": 19,
   "id": "a212baf9",
   "metadata": {
    "ExecuteTime": {
     "end_time": "2023-02-28T07:34:32.563466Z",
     "start_time": "2023-02-28T07:34:32.450261Z"
    },
    "scrolled": true
   },
   "outputs": [
    {
     "data": {
      "text/plain": [
       "'/home/jovyan/temporary/Postprocessing/TweetTopic/BERTopic/stats'"
      ]
     },
     "execution_count": 19,
     "metadata": {},
     "output_type": "execute_result"
    }
   ],
   "source": [
    "s3.upload(f\"{root_path_temporary}{base_stats_path}\")"
   ]
  },
  {
   "cell_type": "code",
   "execution_count": 20,
   "id": "0aef5374",
   "metadata": {
    "ExecuteTime": {
     "end_time": "2023-02-28T07:34:32.569787Z",
     "start_time": "2023-02-28T07:34:32.565257Z"
    }
   },
   "outputs": [
    {
     "name": "stdout",
     "output_type": "stream",
     "text": [
      "/home/jovyan/temporary/Postprocessing/TweetTopic/BERTopic/stats\n",
      "/home/jovyan/temporary/Preprocessing/TweetTopic/master.csv\n",
      "/home/jovyan/temporary/Preprocessing/TweetTopic/class.csv\n",
      "/home/jovyan/temporary/Clustering/TweetTopic/BERTopic/pred/0.npy\n",
      "/home/jovyan/temporary/Postprocessing/TweetTopic/BERTopic/prob/0.npy\n"
     ]
    }
   ],
   "source": [
    "s3.delete_local_all()"
   ]
  },
  {
   "cell_type": "code",
   "execution_count": 21,
   "id": "34820958",
   "metadata": {
    "ExecuteTime": {
     "end_time": "2023-02-28T07:34:32.576008Z",
     "start_time": "2023-02-28T07:34:32.571944Z"
    }
   },
   "outputs": [
    {
     "data": {
      "text/plain": [
       "{'mi': 0.2309421558442277}"
      ]
     },
     "execution_count": 21,
     "metadata": {},
     "output_type": "execute_result"
    }
   ],
   "source": [
    "stats"
   ]
  },
  {
   "cell_type": "code",
   "execution_count": null,
   "id": "b172c147",
   "metadata": {},
   "outputs": [],
   "source": []
  },
  {
   "cell_type": "code",
   "execution_count": null,
   "id": "6b6ed6a6",
   "metadata": {},
   "outputs": [],
   "source": []
  }
 ],
 "metadata": {
  "kernelspec": {
   "display_name": "Python 3 (ipykernel)",
   "language": "python",
   "name": "python3"
  },
  "language_info": {
   "codemirror_mode": {
    "name": "ipython",
    "version": 3
   },
   "file_extension": ".py",
   "mimetype": "text/x-python",
   "name": "python",
   "nbconvert_exporter": "python",
   "pygments_lexer": "ipython3",
   "version": "3.10.9"
  },
  "toc": {
   "base_numbering": 1,
   "nav_menu": {},
   "number_sections": true,
   "sideBar": true,
   "skip_h1_title": false,
   "title_cell": "Table of Contents",
   "title_sidebar": "Contents",
   "toc_cell": false,
   "toc_position": {},
   "toc_section_display": true,
   "toc_window_display": false
  }
 },
 "nbformat": 4,
 "nbformat_minor": 5
}
