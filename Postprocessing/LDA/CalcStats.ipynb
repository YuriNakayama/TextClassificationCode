{
 "cells": [
  {
   "cell_type": "markdown",
   "id": "b95f9187",
   "metadata": {},
   "source": [
    "# Import"
   ]
  },
  {
   "cell_type": "code",
   "execution_count": 1,
   "id": "80a85ab5",
   "metadata": {
    "ExecuteTime": {
     "end_time": "2023-03-02T04:53:07.653079Z",
     "start_time": "2023-03-02T04:53:06.607587Z"
    }
   },
   "outputs": [],
   "source": [
    "import csv\n",
    "import os\n",
    "import pickle\n",
    "import sys\n",
    "\n",
    "import numpy as np\n",
    "import pandas as pd\n",
    "from sklearn.metrics import adjusted_mutual_info_score\n",
    "from tqdm import tqdm"
   ]
  },
  {
   "cell_type": "markdown",
   "id": "2543f4e4",
   "metadata": {},
   "source": [
    "## Add configuration file"
   ]
  },
  {
   "cell_type": "code",
   "execution_count": 2,
   "id": "b62547de",
   "metadata": {
    "ExecuteTime": {
     "end_time": "2023-03-02T04:53:07.659075Z",
     "start_time": "2023-03-02T04:53:07.655978Z"
    }
   },
   "outputs": [],
   "source": [
    "sys.path.append(\"/home/jovyan/core/config/\")\n",
    "sys.path.append(\"/home/jovyan/core/util/\")"
   ]
  },
  {
   "cell_type": "code",
   "execution_count": 3,
   "id": "84da401b",
   "metadata": {
    "ExecuteTime": {
     "end_time": "2023-03-02T04:53:07.801744Z",
     "start_time": "2023-03-02T04:53:07.661160Z"
    }
   },
   "outputs": [],
   "source": [
    "from ALL import config \n",
    "from util import *"
   ]
  },
  {
   "cell_type": "markdown",
   "id": "9330548e",
   "metadata": {},
   "source": [
    "## Set condition"
   ]
  },
  {
   "cell_type": "code",
   "execution_count": 7,
   "id": "a30f3623",
   "metadata": {
    "ExecuteTime": {
     "end_time": "2023-03-02T04:54:07.868714Z",
     "start_time": "2023-03-02T04:54:07.860030Z"
    }
   },
   "outputs": [],
   "source": [
    "tqdm.pandas()\n",
    "pd.set_option(\"display.max_columns\", 100)\n",
    "pd.set_option(\"display.max_rows\", 50)"
   ]
  },
  {
   "cell_type": "code",
   "execution_count": 8,
   "id": "52475e08",
   "metadata": {
    "ExecuteTime": {
     "end_time": "2023-03-02T04:54:08.246444Z",
     "start_time": "2023-03-02T04:54:08.238297Z"
    }
   },
   "outputs": [],
   "source": [
    "s3 = S3Manager()"
   ]
  },
  {
   "cell_type": "code",
   "execution_count": 9,
   "id": "fa2ddf7e",
   "metadata": {
    "ExecuteTime": {
     "end_time": "2023-03-02T04:54:08.672882Z",
     "start_time": "2023-03-02T04:54:08.667781Z"
    }
   },
   "outputs": [],
   "source": [
    "sampling_nums = [1, 2, 4, 8, 16, 32, 64, 128]"
   ]
  },
  {
   "cell_type": "code",
   "execution_count": 12,
   "id": "ee9bf4ad",
   "metadata": {
    "ExecuteTime": {
     "end_time": "2023-03-02T04:54:18.512448Z",
     "start_time": "2023-03-02T04:54:18.509570Z"
    }
   },
   "outputs": [],
   "source": [
    "# data_types = [f\"20NewsSampled{sampling_num}\" for sampling_num in sampling_nums]\n",
    "data_types = [\"TweetTopic\", \"TweetFinance\"]\n",
    "clustering_model = \"LDA\""
   ]
  },
  {
   "cell_type": "code",
   "execution_count": 13,
   "id": "8b74176e",
   "metadata": {
    "ExecuteTime": {
     "end_time": "2023-03-02T04:54:19.377050Z",
     "start_time": "2023-03-02T04:54:19.371521Z"
    }
   },
   "outputs": [],
   "source": [
    "data_type = data_types[0]"
   ]
  },
  {
   "cell_type": "code",
   "execution_count": 14,
   "id": "5860eb60",
   "metadata": {
    "ExecuteTime": {
     "end_time": "2023-03-02T04:54:20.468097Z",
     "start_time": "2023-03-02T04:54:20.456882Z"
    }
   },
   "outputs": [],
   "source": [
    "model_nums = config[\"clustering\"][clustering_model][\"max_model_num\"]\n",
    "topic_nums = {\n",
    "    data_type: config[\"data\"][data_type_classifier(data_type)][\"class_num\"]\n",
    "    for data_type in data_types\n",
    "}"
   ]
  },
  {
   "cell_type": "markdown",
   "id": "52c60a4f",
   "metadata": {},
   "source": [
    "# Read data"
   ]
  },
  {
   "cell_type": "code",
   "execution_count": 15,
   "id": "25a24ba9",
   "metadata": {
    "ExecuteTime": {
     "end_time": "2023-03-02T04:54:50.371811Z",
     "start_time": "2023-03-02T04:54:48.695502Z"
    }
   },
   "outputs": [],
   "source": [
    "df_path = s3.download(f\"Preprocessing/{data_type}/master.csv\")"
   ]
  },
  {
   "cell_type": "code",
   "execution_count": 16,
   "id": "043b8c0b",
   "metadata": {
    "ExecuteTime": {
     "end_time": "2023-03-02T04:54:52.911888Z",
     "start_time": "2023-03-02T04:54:52.843033Z"
    }
   },
   "outputs": [],
   "source": [
    "df = pd.read_csv(df_path[0], index_col=0)"
   ]
  },
  {
   "cell_type": "code",
   "execution_count": 17,
   "id": "6782bdb1",
   "metadata": {
    "ExecuteTime": {
     "end_time": "2023-03-02T04:54:54.202223Z",
     "start_time": "2023-03-02T04:54:53.666503Z"
    }
   },
   "outputs": [],
   "source": [
    "labels_path = s3.download(f\"Preprocessing/{data_type}/class.csv\")"
   ]
  },
  {
   "cell_type": "code",
   "execution_count": 18,
   "id": "2e2aae46",
   "metadata": {
    "ExecuteTime": {
     "end_time": "2023-03-02T04:54:54.943662Z",
     "start_time": "2023-03-02T04:54:54.939874Z"
    }
   },
   "outputs": [],
   "source": [
    "label = df[\"class\"].to_numpy()"
   ]
  },
  {
   "cell_type": "code",
   "execution_count": 19,
   "id": "ffa22ff8",
   "metadata": {
    "ExecuteTime": {
     "end_time": "2023-03-02T04:54:55.849032Z",
     "start_time": "2023-03-02T04:54:55.844790Z"
    }
   },
   "outputs": [],
   "source": [
    "with open(labels_path[0], mode=\"r\") as f:\n",
    "    reader = csv.reader(f)\n",
    "    class_labels = [label for label in reader]"
   ]
  },
  {
   "cell_type": "code",
   "execution_count": 28,
   "id": "d356598f",
   "metadata": {
    "ExecuteTime": {
     "end_time": "2023-03-02T05:05:57.132055Z",
     "start_time": "2023-03-02T05:05:57.129077Z"
    }
   },
   "outputs": [],
   "source": [
    "base_pred_path = f\"Clustering/{data_type}/{clustering_model}/pred\"\n",
    "base_prob_path = f\"Clustering/{data_type}/{clustering_model}/prob\"\n",
    "base_stats_path = f\"Postprocessing/{data_type}/{clustering_model}/stats\""
   ]
  },
  {
   "cell_type": "code",
   "execution_count": 29,
   "id": "2e7db3b8",
   "metadata": {
    "ExecuteTime": {
     "end_time": "2023-03-02T05:05:57.955936Z",
     "start_time": "2023-03-02T05:05:57.861443Z"
    }
   },
   "outputs": [
    {
     "data": {
      "text/plain": [
       "[]"
      ]
     },
     "execution_count": 29,
     "metadata": {},
     "output_type": "execute_result"
    }
   ],
   "source": [
    "s3.download(base_pred_path)"
   ]
  },
  {
   "cell_type": "code",
   "execution_count": 30,
   "id": "5b25aa86",
   "metadata": {
    "ExecuteTime": {
     "end_time": "2023-03-02T05:05:58.657977Z",
     "start_time": "2023-03-02T05:05:58.557506Z"
    }
   },
   "outputs": [
    {
     "data": {
      "text/plain": [
       "[]"
      ]
     },
     "execution_count": 30,
     "metadata": {},
     "output_type": "execute_result"
    }
   ],
   "source": [
    "s3.download(base_prob_path)"
   ]
  },
  {
   "cell_type": "markdown",
   "id": "f6635e87",
   "metadata": {},
   "source": [
    "# Calculate Stats"
   ]
  },
  {
   "cell_type": "code",
   "execution_count": 18,
   "id": "a1730426",
   "metadata": {
    "ExecuteTime": {
     "end_time": "2023-02-28T07:34:32.447934Z",
     "start_time": "2023-02-28T07:34:32.424720Z"
    }
   },
   "outputs": [],
   "source": [
    "for model_num in range(model_nums):\n",
    "    pred = np.load(f\"{root_path_temporary}{base_pred_path}/{model_num}.npy\")\n",
    "    mi = adjusted_mutual_info_score(pred, label)\n",
    "    stats = {\"mi\": mi}\n",
    "    with open(\n",
    "        make_filepath(f\"{root_path_temporary}{base_stats_path}/{model_num}.csv\"), \"w\"\n",
    "    ) as f:\n",
    "        writer = csv.DictWriter(f, stats.keys())\n",
    "        writer.writeheader()\n",
    "        writer.writerow(stats)"
   ]
  },
  {
   "cell_type": "markdown",
   "id": "f3b26352",
   "metadata": {},
   "source": [
    "## upload file"
   ]
  },
  {
   "cell_type": "code",
   "execution_count": 19,
   "id": "a212baf9",
   "metadata": {
    "ExecuteTime": {
     "end_time": "2023-02-28T07:34:32.563466Z",
     "start_time": "2023-02-28T07:34:32.450261Z"
    },
    "scrolled": true
   },
   "outputs": [
    {
     "data": {
      "text/plain": [
       "'/home/jovyan/temporary/Postprocessing/TweetTopic/BERTopic/stats'"
      ]
     },
     "execution_count": 19,
     "metadata": {},
     "output_type": "execute_result"
    }
   ],
   "source": [
    "s3.upload(f\"{root_path_temporary}{base_stats_path}\")"
   ]
  },
  {
   "cell_type": "code",
   "execution_count": 20,
   "id": "0aef5374",
   "metadata": {
    "ExecuteTime": {
     "end_time": "2023-02-28T07:34:32.569787Z",
     "start_time": "2023-02-28T07:34:32.565257Z"
    }
   },
   "outputs": [
    {
     "name": "stdout",
     "output_type": "stream",
     "text": [
      "/home/jovyan/temporary/Postprocessing/TweetTopic/BERTopic/stats\n",
      "/home/jovyan/temporary/Preprocessing/TweetTopic/master.csv\n",
      "/home/jovyan/temporary/Preprocessing/TweetTopic/class.csv\n",
      "/home/jovyan/temporary/Clustering/TweetTopic/BERTopic/pred/0.npy\n",
      "/home/jovyan/temporary/Postprocessing/TweetTopic/BERTopic/prob/0.npy\n"
     ]
    }
   ],
   "source": [
    "s3.delete_local_all()"
   ]
  },
  {
   "cell_type": "code",
   "execution_count": 21,
   "id": "34820958",
   "metadata": {
    "ExecuteTime": {
     "end_time": "2023-02-28T07:34:32.576008Z",
     "start_time": "2023-02-28T07:34:32.571944Z"
    }
   },
   "outputs": [
    {
     "data": {
      "text/plain": [
       "{'mi': 0.2309421558442277}"
      ]
     },
     "execution_count": 21,
     "metadata": {},
     "output_type": "execute_result"
    }
   ],
   "source": [
    "stats"
   ]
  },
  {
   "cell_type": "code",
   "execution_count": null,
   "id": "7db5f50a",
   "metadata": {},
   "outputs": [],
   "source": []
  },
  {
   "cell_type": "code",
   "execution_count": null,
   "id": "d2f4c434",
   "metadata": {},
   "outputs": [],
   "source": []
  },
  {
   "cell_type": "code",
   "execution_count": null,
   "id": "da4933b8",
   "metadata": {},
   "outputs": [],
   "source": []
  },
  {
   "cell_type": "code",
   "execution_count": 7,
   "id": "95389cd0",
   "metadata": {
    "ExecuteTime": {
     "end_time": "2022-12-18T10:39:05.012407Z",
     "start_time": "2022-12-18T10:39:05.008578Z"
    }
   },
   "outputs": [],
   "source": [
    "with open(f\"{root_path_temporary}Preprocessing/data/{data_type}/class.csv\", mode=\"r\") as f:\n",
    "    reader = csv.reader(f)\n",
    "    class_labels = [label for label in reader]"
   ]
  },
  {
   "cell_type": "code",
   "execution_count": 8,
   "id": "10c181b5",
   "metadata": {
    "ExecuteTime": {
     "end_time": "2022-12-18T10:39:05.682844Z",
     "start_time": "2022-12-18T10:39:05.680109Z"
    }
   },
   "outputs": [],
   "source": [
    "model_nums = config[\"clustering\"][\"LDA\"][\"max_model_num\"]"
   ]
  },
  {
   "cell_type": "code",
   "execution_count": 10,
   "id": "694f0571",
   "metadata": {
    "ExecuteTime": {
     "end_time": "2022-12-18T10:39:10.735911Z",
     "start_time": "2022-12-18T10:39:10.732650Z"
    }
   },
   "outputs": [],
   "source": [
    "label = df[\"class\"].to_numpy()"
   ]
  },
  {
   "cell_type": "code",
   "execution_count": 13,
   "id": "4b381ebf",
   "metadata": {
    "ExecuteTime": {
     "end_time": "2022-12-18T10:40:19.596430Z",
     "start_time": "2022-12-18T10:40:11.041811Z"
    },
    "code_folding": []
   },
   "outputs": [],
   "source": [
    "pred_path = f\"{root_path_temporary}Clustering/data/{data_type}/LDA/pred/\"\n",
    "\n",
    "mi = {}\n",
    "for model_num in range(model_nums):\n",
    "    pred = np.load(f\"{pred_path}{model_num}.npy\")\n",
    "    mi[model_num] = adjusted_mutual_info_score(label, pred)"
   ]
  },
  {
   "cell_type": "code",
   "execution_count": 18,
   "id": "4fdf5e7c",
   "metadata": {
    "ExecuteTime": {
     "end_time": "2022-12-18T10:44:04.760091Z",
     "start_time": "2022-12-18T10:44:04.755113Z"
    }
   },
   "outputs": [],
   "source": [
    "mi_path = f\"{root_path_temporary}Postprocessing/{data_type}/LDA/mi.csv\"\n",
    "\n",
    "pd.DataFrame(mi.values(), index=mi.keys()).to_csv(make_filepath(mi_path))"
   ]
  },
  {
   "cell_type": "code",
   "execution_count": null,
   "id": "ddb26020",
   "metadata": {},
   "outputs": [],
   "source": []
  }
 ],
 "metadata": {
  "kernelspec": {
   "display_name": "Python 3 (ipykernel)",
   "language": "python",
   "name": "python3"
  },
  "language_info": {
   "codemirror_mode": {
    "name": "ipython",
    "version": 3
   },
   "file_extension": ".py",
   "mimetype": "text/x-python",
   "name": "python",
   "nbconvert_exporter": "python",
   "pygments_lexer": "ipython3",
   "version": "3.10.9"
  },
  "toc": {
   "base_numbering": 1,
   "nav_menu": {},
   "number_sections": true,
   "sideBar": true,
   "skip_h1_title": false,
   "title_cell": "Table of Contents",
   "title_sidebar": "Contents",
   "toc_cell": false,
   "toc_position": {},
   "toc_section_display": true,
   "toc_window_display": false
  }
 },
 "nbformat": 4,
 "nbformat_minor": 5
}
