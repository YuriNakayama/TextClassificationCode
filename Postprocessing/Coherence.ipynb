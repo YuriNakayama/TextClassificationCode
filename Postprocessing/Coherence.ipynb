{
 "cells": [
  {
   "cell_type": "markdown",
   "id": "b95f9187",
   "metadata": {},
   "source": [
    "# Import"
   ]
  },
  {
   "cell_type": "code",
   "execution_count": 1,
   "id": "80a85ab5",
   "metadata": {
    "ExecuteTime": {
     "end_time": "2022-12-20T12:54:59.358643Z",
     "start_time": "2022-12-20T12:54:58.668318Z"
    }
   },
   "outputs": [],
   "source": [
    "import csv\n",
    "import os\n",
    "import pickle\n",
    "import sys\n",
    "\n",
    "import numpy as np\n",
    "import pandas as pd\n",
    "from gensim.corpora.dictionary import Dictionary\n",
    "from gensim.models.coherencemodel import CoherenceModel\n",
    "from smart_open import open\n",
    "from tqdm import tqdm"
   ]
  },
  {
   "cell_type": "markdown",
   "id": "2543f4e4",
   "metadata": {},
   "source": [
    "## Add configuration file"
   ]
  },
  {
   "cell_type": "code",
   "execution_count": 2,
   "id": "fd99f45b",
   "metadata": {
    "ExecuteTime": {
     "end_time": "2022-12-20T12:54:59.364329Z",
     "start_time": "2022-12-20T12:54:59.361193Z"
    }
   },
   "outputs": [],
   "source": [
    "sys.path.append(\"/home/jovyan/core/config/\")\n",
    "sys.path.append(\"/home/jovyan/core/util/\")"
   ]
  },
  {
   "cell_type": "code",
   "execution_count": 3,
   "id": "84da401b",
   "metadata": {
    "ExecuteTime": {
     "end_time": "2022-12-20T12:54:59.371679Z",
     "start_time": "2022-12-20T12:54:59.366461Z"
    }
   },
   "outputs": [],
   "source": [
    "from ALL import config\n",
    "from util import *"
   ]
  },
  {
   "cell_type": "markdown",
   "id": "9330548e",
   "metadata": {},
   "source": [
    "## Set condition"
   ]
  },
  {
   "cell_type": "code",
   "execution_count": 4,
   "id": "a30f3623",
   "metadata": {
    "ExecuteTime": {
     "end_time": "2022-12-20T12:55:01.235735Z",
     "start_time": "2022-12-20T12:55:01.231839Z"
    }
   },
   "outputs": [],
   "source": [
    "tqdm.pandas()\n",
    "pd.set_option(\"display.max_columns\", 100)\n",
    "pd.set_option(\"display.max_rows\", 50)"
   ]
  },
  {
   "cell_type": "code",
   "execution_count": 7,
   "id": "2c862204",
   "metadata": {
    "ExecuteTime": {
     "end_time": "2022-12-20T12:56:04.743943Z",
     "start_time": "2022-12-20T12:56:04.740715Z"
    }
   },
   "outputs": [],
   "source": [
    "data_types = [\"20News\", \"AgNews\", \"AgNewsTitle\"]"
   ]
  },
  {
   "cell_type": "markdown",
   "id": "5b542cf1",
   "metadata": {},
   "source": [
    "# Functions"
   ]
  },
  {
   "cell_type": "code",
   "execution_count": 6,
   "id": "ffc386a8",
   "metadata": {
    "ExecuteTime": {
     "end_time": "2022-12-20T12:55:03.406029Z",
     "start_time": "2022-12-20T12:55:03.401506Z"
    }
   },
   "outputs": [],
   "source": [
    "class Corpus:\n",
    "    def __init__(self, path=None, texts=None):\n",
    "        self.path = path\n",
    "        self.texts = texts\n",
    "        self.dictionary = Dictionary(texts)\n",
    "\n",
    "    def __iter__(self):\n",
    "        if self.path is not None:\n",
    "            for line in open(self.path):\n",
    "                # assume there's one document per line, tokens separated by whitespace\n",
    "                yield self.dictionary.doc2bow(line.lower().split())\n",
    "        else:\n",
    "            for line in self.texts:\n",
    "                yield self.dictionary.doc2bow(line)"
   ]
  },
  {
   "cell_type": "markdown",
   "id": "52c60a4f",
   "metadata": {},
   "source": [
    "# Read data"
   ]
  },
  {
   "cell_type": "code",
   "execution_count": 10,
   "id": "7a8a6eda",
   "metadata": {
    "ExecuteTime": {
     "end_time": "2022-12-20T13:04:38.264383Z",
     "start_time": "2022-12-20T13:04:13.218370Z"
    },
    "cell_style": "center",
    "code_folding": []
   },
   "outputs": [
    {
     "name": "stderr",
     "output_type": "stream",
     "text": [
      "100%|██████████| 18770/18770 [00:00<00:00, 60954.47it/s]\n",
      "100%|██████████| 120000/120000 [00:00<00:00, 171974.29it/s]\n",
      "100%|██████████| 120000/120000 [00:00<00:00, 389089.52it/s]\n"
     ]
    }
   ],
   "source": [
    "for data_type in data_types:\n",
    "    # データ読み込み\n",
    "    df = pd.read_csv(f\"../Preprocessing/data/{data_type}/master.csv\", index_col=0)\n",
    "    label = df[\"class\"].to_numpy()\n",
    "    # コーパスの作成\n",
    "    texts = df.words_nonstop.progress_apply(lambda x: x.split(\" \") if x is not np.nan else [\"\"]).tolist()\n",
    "    corpus = Corpus(texts=texts)\n",
    "    dictionary = Dictionary(texts)\n",
    "    dictionary.filter_extremes()\n",
    "\n",
    "    # coherenceの計算\n",
    "    cm = CoherenceModel(\n",
    "        topics=label.reshape(1, -1),\n",
    "        corpus=corpus,\n",
    "        dictionary=dictionary,\n",
    "        texts=texts,\n",
    "        coherence=\"c_v\",\n",
    "    )\n",
    "    coherence_path = f\"data/{data_type}/coherence.csv\"\n",
    "    os.makedirs(os.path.dirname(coherence_path), exist_ok=True)\n",
    "    pd.DataFrame([cm.get_coherence()]).to_csv(coherence_path)"
   ]
  },
  {
   "cell_type": "code",
   "execution_count": null,
   "id": "2454ca80",
   "metadata": {},
   "outputs": [],
   "source": []
  }
 ],
 "metadata": {
  "kernelspec": {
   "display_name": "Python 3 (ipykernel)",
   "language": "python",
   "name": "python3"
  },
  "language_info": {
   "codemirror_mode": {
    "name": "ipython",
    "version": 3
   },
   "file_extension": ".py",
   "mimetype": "text/x-python",
   "name": "python",
   "nbconvert_exporter": "python",
   "pygments_lexer": "ipython3",
   "version": "3.10.8"
  },
  "toc": {
   "base_numbering": 1,
   "nav_menu": {},
   "number_sections": true,
   "sideBar": true,
   "skip_h1_title": false,
   "title_cell": "Table of Contents",
   "title_sidebar": "Contents",
   "toc_cell": false,
   "toc_position": {},
   "toc_section_display": true,
   "toc_window_display": false
  }
 },
 "nbformat": 4,
 "nbformat_minor": 5
}
