{
 "cells": [
  {
   "cell_type": "markdown",
   "id": "b95f9187",
   "metadata": {},
   "source": [
    "# Import"
   ]
  },
  {
   "cell_type": "code",
   "execution_count": 1,
   "id": "80a85ab5",
   "metadata": {
    "ExecuteTime": {
     "end_time": "2022-12-27T03:54:40.641895Z",
     "start_time": "2022-12-27T03:54:39.348610Z"
    }
   },
   "outputs": [],
   "source": [
    "import csv\n",
    "import os\n",
    "import pickle\n",
    "import sys\n",
    "\n",
    "import matplotlib.pyplot as plt\n",
    "import numpy as np\n",
    "import pandas as pd\n",
    "import scipy.stats as sps\n",
    "from sklearn.metrics import adjusted_mutual_info_score\n",
    "from sklearn.mixture import GaussianMixture\n",
    "from tqdm import tqdm"
   ]
  },
  {
   "cell_type": "markdown",
   "id": "2543f4e4",
   "metadata": {},
   "source": [
    "## Add configuration file"
   ]
  },
  {
   "cell_type": "code",
   "execution_count": 2,
   "id": "b62547de",
   "metadata": {
    "ExecuteTime": {
     "end_time": "2022-12-27T03:54:40.648189Z",
     "start_time": "2022-12-27T03:54:40.645205Z"
    }
   },
   "outputs": [],
   "source": [
    "sys.path.append(\"/home/jovyan/core/config/\")\n",
    "sys.path.append(\"/home/jovyan/core/util/\")\n",
    "sys.path.append(\"../../Visualize/PlotFunction/lineplot/\")\n",
    "sys.path.append(\"../../Visualize/PlotFunction/config/\")"
   ]
  },
  {
   "cell_type": "code",
   "execution_count": 3,
   "id": "84da401b",
   "metadata": {
    "ExecuteTime": {
     "end_time": "2022-12-27T03:54:40.793287Z",
     "start_time": "2022-12-27T03:54:40.656826Z"
    }
   },
   "outputs": [],
   "source": [
    "from ALL import config\n",
    "from line_plot_1 import line_plot_1\n",
    "from line_plot_error_1 import line_plot_error_1\n",
    "from line_plot_error_1_layout import layout\n",
    "from util import *"
   ]
  },
  {
   "cell_type": "markdown",
   "id": "9330548e",
   "metadata": {},
   "source": [
    "## Set condition"
   ]
  },
  {
   "cell_type": "code",
   "execution_count": 4,
   "id": "a30f3623",
   "metadata": {
    "ExecuteTime": {
     "end_time": "2022-12-27T03:54:40.798899Z",
     "start_time": "2022-12-27T03:54:40.795600Z"
    }
   },
   "outputs": [],
   "source": [
    "tqdm.pandas()\n",
    "pd.set_option(\"display.max_columns\", 100)\n",
    "pd.set_option(\"display.max_rows\", 50)"
   ]
  },
  {
   "cell_type": "code",
   "execution_count": 5,
   "id": "1303c666",
   "metadata": {
    "ExecuteTime": {
     "end_time": "2022-12-27T03:54:40.810919Z",
     "start_time": "2022-12-27T03:54:40.801353Z"
    }
   },
   "outputs": [],
   "source": [
    "data_type = \"AgNewsTitle\"\n",
    "vectorize_type = \"sentenceBERT\""
   ]
  },
  {
   "cell_type": "markdown",
   "id": "52c60a4f",
   "metadata": {},
   "source": [
    "# Read data"
   ]
  },
  {
   "cell_type": "code",
   "execution_count": 6,
   "id": "c81d3638",
   "metadata": {
    "ExecuteTime": {
     "end_time": "2022-12-27T03:54:41.456834Z",
     "start_time": "2022-12-27T03:54:40.813070Z"
    },
    "scrolled": true
   },
   "outputs": [],
   "source": [
    "df = pd.read_csv(f\"../../Preprocessing/data/{data_type}/master.csv\", index_col=0)"
   ]
  },
  {
   "cell_type": "code",
   "execution_count": 7,
   "id": "95389cd0",
   "metadata": {
    "ExecuteTime": {
     "end_time": "2022-12-27T03:54:41.462780Z",
     "start_time": "2022-12-27T03:54:41.459377Z"
    }
   },
   "outputs": [],
   "source": [
    "with open(f\"../../Preprocessing/data/{data_type}/class.csv\", mode=\"r\") as f:\n",
    "    reader = csv.reader(f)\n",
    "    class_labels = [label for label in reader]"
   ]
  },
  {
   "cell_type": "code",
   "execution_count": 8,
   "id": "fec767ee",
   "metadata": {
    "ExecuteTime": {
     "end_time": "2022-12-27T03:54:41.469821Z",
     "start_time": "2022-12-27T03:54:41.464968Z"
    }
   },
   "outputs": [],
   "source": [
    "vector_dims = config[\"vectorize\"][vectorize_type][\"dims\"]\n",
    "model_nums = config[\"clustering\"][\"gmm\"][\"max_model_num\"]\n",
    "vector_model_num = config[\"vectorize\"][vectorize_type][\"max_model_num\"]\n",
    "covariance_types = config[\"clustering\"][\"gmm\"][\"covariance_types\"]"
   ]
  },
  {
   "cell_type": "code",
   "execution_count": 9,
   "id": "2cb7d0e6",
   "metadata": {
    "ExecuteTime": {
     "end_time": "2022-12-27T03:54:41.477643Z",
     "start_time": "2022-12-27T03:54:41.471681Z"
    }
   },
   "outputs": [],
   "source": [
    "label = df[\"class\"].to_numpy()"
   ]
  },
  {
   "cell_type": "markdown",
   "id": "fe1b2c45",
   "metadata": {},
   "source": [
    "# Data shaping"
   ]
  },
  {
   "cell_type": "code",
   "execution_count": 10,
   "id": "fc43270b",
   "metadata": {
    "ExecuteTime": {
     "end_time": "2022-12-27T03:54:41.485776Z",
     "start_time": "2022-12-27T03:54:41.479751Z"
    }
   },
   "outputs": [],
   "source": [
    "threshold = 0.95"
   ]
  },
  {
   "cell_type": "code",
   "execution_count": 11,
   "id": "0f252747",
   "metadata": {
    "ExecuteTime": {
     "end_time": "2022-12-27T03:54:41.492831Z",
     "start_time": "2022-12-27T03:54:41.487885Z"
    }
   },
   "outputs": [],
   "source": [
    "dist_path = f\"../../Clustering/data/{data_type}/{vectorize_type}/GMM/dist/\""
   ]
  },
  {
   "cell_type": "code",
   "execution_count": 12,
   "id": "a2b9cc43",
   "metadata": {
    "ExecuteTime": {
     "end_time": "2022-12-27T03:54:50.557608Z",
     "start_time": "2022-12-27T03:54:41.496110Z"
    },
    "scrolled": false
   },
   "outputs": [
    {
     "name": "stderr",
     "output_type": "stream",
     "text": [
      "100%|██████████| 4/4 [00:09<00:00,  2.26s/it]\n"
     ]
    }
   ],
   "source": [
    "# データ型定義\n",
    "low_confirm_index = {\n",
    "    covariance_type: {\n",
    "        vector_dim: {model_num: pd.DataFrame for model_num in range(model_nums)}\n",
    "        for vector_dim in vector_dims\n",
    "    }\n",
    "    for covariance_type in covariance_types\n",
    "}\n",
    "\n",
    "# データ取得\n",
    "for covariance_type in tqdm(covariance_types):\n",
    "    for vector_dim in vector_dims:\n",
    "        for model_num in range(model_nums):\n",
    "            dist = np.load(\n",
    "                f\"{dist_path}{vector_dim}/{covariance_type}/{model_num}.npy\",\n",
    "            )\n",
    "            low_confirm_index[covariance_type][vector_dim][model_num] = df[\n",
    "                dist.min(axis=1) > sps.chi2.ppf(q=threshold, df=vector_dim)\n",
    "            ].index"
   ]
  },
  {
   "cell_type": "code",
   "execution_count": null,
   "id": "0badc911",
   "metadata": {},
   "outputs": [],
   "source": []
  },
  {
   "cell_type": "code",
   "execution_count": null,
   "id": "b2b474ba",
   "metadata": {},
   "outputs": [],
   "source": []
  }
 ],
 "metadata": {
  "kernelspec": {
   "display_name": "Python 3 (ipykernel)",
   "language": "python",
   "name": "python3"
  },
  "language_info": {
   "codemirror_mode": {
    "name": "ipython",
    "version": 3
   },
   "file_extension": ".py",
   "mimetype": "text/x-python",
   "name": "python",
   "nbconvert_exporter": "python",
   "pygments_lexer": "ipython3",
   "version": "3.10.8"
  },
  "toc": {
   "base_numbering": 1,
   "nav_menu": {},
   "number_sections": true,
   "sideBar": true,
   "skip_h1_title": false,
   "title_cell": "Table of Contents",
   "title_sidebar": "Contents",
   "toc_cell": false,
   "toc_position": {},
   "toc_section_display": true,
   "toc_window_display": false
  }
 },
 "nbformat": 4,
 "nbformat_minor": 5
}
