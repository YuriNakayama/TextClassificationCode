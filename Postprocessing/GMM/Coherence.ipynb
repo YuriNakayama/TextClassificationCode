{
 "cells": [
  {
   "cell_type": "markdown",
   "id": "b95f9187",
   "metadata": {},
   "source": [
    "# Import"
   ]
  },
  {
   "cell_type": "code",
   "execution_count": 1,
   "id": "80a85ab5",
   "metadata": {
    "ExecuteTime": {
     "end_time": "2023-02-17T04:46:28.145586Z",
     "start_time": "2023-02-17T04:46:24.946064Z"
    }
   },
   "outputs": [],
   "source": [
    "import csv\n",
    "import os\n",
    "import pickle\n",
    "import sys\n",
    "\n",
    "import numpy as np\n",
    "import pandas as pd\n",
    "from itertools import product\n",
    "from gensim.corpora.dictionary import Dictionary\n",
    "from gensim.models.coherencemodel import CoherenceModel\n",
    "from sklearn.mixture import GaussianMixture\n",
    "from smart_open import open\n",
    "from tqdm import tqdm"
   ]
  },
  {
   "cell_type": "markdown",
   "id": "6f4f62bd",
   "metadata": {},
   "source": [
    "## Add configuration file"
   ]
  },
  {
   "cell_type": "code",
   "execution_count": 2,
   "id": "d5ff7059",
   "metadata": {
    "ExecuteTime": {
     "end_time": "2023-02-17T04:46:28.167308Z",
     "start_time": "2023-02-17T04:46:28.151156Z"
    }
   },
   "outputs": [],
   "source": [
    "sys.path.append(\"/home/jovyan/core/config/\")\n",
    "sys.path.append(\"/home/jovyan/core/util/\")"
   ]
  },
  {
   "cell_type": "code",
   "execution_count": 3,
   "id": "157ce92a",
   "metadata": {
    "ExecuteTime": {
     "end_time": "2023-02-17T04:46:28.201942Z",
     "start_time": "2023-02-17T04:46:28.172409Z"
    }
   },
   "outputs": [],
   "source": [
    "from ALL import config \n",
    "from util import *"
   ]
  },
  {
   "cell_type": "markdown",
   "id": "b07ac6af",
   "metadata": {},
   "source": [
    "## Set condition"
   ]
  },
  {
   "cell_type": "code",
   "execution_count": 4,
   "id": "9d870465",
   "metadata": {
    "ExecuteTime": {
     "end_time": "2023-02-17T04:46:28.215284Z",
     "start_time": "2023-02-17T04:46:28.209344Z"
    }
   },
   "outputs": [],
   "source": [
    "tqdm.pandas()\n",
    "pd.set_option(\"display.max_columns\", 100)\n",
    "pd.set_option(\"display.max_rows\", 50)"
   ]
  },
  {
   "cell_type": "code",
   "execution_count": 5,
   "id": "ee6277a1",
   "metadata": {
    "ExecuteTime": {
     "end_time": "2023-02-17T04:46:28.223660Z",
     "start_time": "2023-02-17T04:46:28.218153Z"
    }
   },
   "outputs": [],
   "source": [
    "s3 = S3Manager()"
   ]
  },
  {
   "cell_type": "code",
   "execution_count": 6,
   "id": "ce45d384",
   "metadata": {
    "ExecuteTime": {
     "end_time": "2023-02-17T04:46:28.236497Z",
     "start_time": "2023-02-17T04:46:28.232553Z"
    }
   },
   "outputs": [],
   "source": [
    "data_type=\"20NewsSampled1\"#sys.argv[1]\n",
    "vectorize_type = \"sentenceBERT\"#sys.argv[2]\n",
    "transformer_model = \"sentence-transformers/all-MiniLM-L6-v2\"#sys.argv[3]"
   ]
  },
  {
   "cell_type": "code",
   "execution_count": 7,
   "id": "41aa2af8",
   "metadata": {
    "ExecuteTime": {
     "end_time": "2023-02-17T04:46:28.254430Z",
     "start_time": "2023-02-17T04:46:28.242127Z"
    }
   },
   "outputs": [],
   "source": [
    "vector_dims = config[\"vectorize\"][vectorize_type][transformer_model][\"dims\"]\n",
    "normalizations = config[\"vectorize\"][vectorize_type][transformer_model][\"normalization\"]\n",
    "vector_model_nums = config[\"vectorize\"][vectorize_type][transformer_model][\"max_model_num\"]\n",
    "\n",
    "model_nums = config[\"clustering\"][\"gmm\"][\"max_model_num\"]\n",
    "covariance_types = config[\"clustering\"][\"gmm\"][\"covariance_types\"]\n",
    "topic_nums = config[\"data\"][data_type_classifier(data_type)][\"class_num\"]\n",
    "depression_type = \"umap\""
   ]
  },
  {
   "cell_type": "markdown",
   "id": "52c60a4f",
   "metadata": {},
   "source": [
    "# Read data"
   ]
  },
  {
   "cell_type": "code",
   "execution_count": 8,
   "id": "25a24ba9",
   "metadata": {
    "ExecuteTime": {
     "end_time": "2023-02-17T04:46:30.684772Z",
     "start_time": "2023-02-17T04:46:28.260955Z"
    }
   },
   "outputs": [],
   "source": [
    "df_path = s3.download(f\"Preprocessing/{data_type}/master.csv\")"
   ]
  },
  {
   "cell_type": "code",
   "execution_count": 9,
   "id": "043b8c0b",
   "metadata": {
    "ExecuteTime": {
     "end_time": "2023-02-17T04:46:31.187603Z",
     "start_time": "2023-02-17T04:46:30.692282Z"
    }
   },
   "outputs": [],
   "source": [
    "df = pd.read_csv(df_path[0], index_col=0)"
   ]
  },
  {
   "cell_type": "code",
   "execution_count": 10,
   "id": "6782bdb1",
   "metadata": {
    "ExecuteTime": {
     "end_time": "2023-02-17T04:46:31.487851Z",
     "start_time": "2023-02-17T04:46:31.193822Z"
    }
   },
   "outputs": [],
   "source": [
    "labels_path = s3.download(f\"Preprocessing/{data_type}/class.csv\")"
   ]
  },
  {
   "cell_type": "code",
   "execution_count": 11,
   "id": "2e2aae46",
   "metadata": {
    "ExecuteTime": {
     "end_time": "2023-02-17T04:46:31.492871Z",
     "start_time": "2023-02-17T04:46:31.489719Z"
    }
   },
   "outputs": [],
   "source": [
    "label = df[\"class\"].to_numpy()"
   ]
  },
  {
   "cell_type": "code",
   "execution_count": 12,
   "id": "ffa22ff8",
   "metadata": {
    "ExecuteTime": {
     "end_time": "2023-02-17T04:46:31.500874Z",
     "start_time": "2023-02-17T04:46:31.494809Z"
    }
   },
   "outputs": [],
   "source": [
    "with open(labels_path[0], mode=\"r\") as f:\n",
    "    reader = csv.reader(f)\n",
    "    class_labels = [label for label in reader]"
   ]
  },
  {
   "cell_type": "code",
   "execution_count": 13,
   "id": "26ebc519",
   "metadata": {
    "ExecuteTime": {
     "end_time": "2023-02-17T04:46:31.507663Z",
     "start_time": "2023-02-17T04:46:31.503146Z"
    }
   },
   "outputs": [],
   "source": [
    "if vectorize_type == \"doc2vec\":\n",
    "    pred_path = f\"Clustering/{data_type}/{vectorize_type}/GMM/pred/\"\n",
    "elif vectorize_type == \"sentenceBERT\":\n",
    "    pred_path = f\"Clustering/{data_type}/{vectorize_type}/{transformer_model}/GMM/pred/\"\n",
    "else:\n",
    "    raise NotImplementedError"
   ]
  },
  {
   "cell_type": "code",
   "execution_count": null,
   "id": "6e25e3d3",
   "metadata": {
    "ExecuteTime": {
     "start_time": "2023-02-17T04:50:34.998Z"
    }
   },
   "outputs": [],
   "source": [
    "s3.download(pred_path)"
   ]
  },
  {
   "cell_type": "markdown",
   "id": "a1816f51",
   "metadata": {},
   "source": [
    "# functions"
   ]
  },
  {
   "cell_type": "code",
   "execution_count": null,
   "id": "ffc386a8",
   "metadata": {
    "ExecuteTime": {
     "start_time": "2023-02-17T04:50:39.458Z"
    }
   },
   "outputs": [],
   "source": [
    "class Corpus:\n",
    "    def __init__(self, path=None, texts=None):\n",
    "        self.path = path\n",
    "        self.texts = texts\n",
    "        self.dictionary = Dictionary(texts)\n",
    "\n",
    "    def __iter__(self):\n",
    "        if self.path is not None:\n",
    "            for line in open(self.path):\n",
    "                # assume there's one document per line, tokens separated by whitespace\n",
    "                yield self.dictionary.doc2bow(line.lower().split())\n",
    "        else:\n",
    "            for line in self.texts:\n",
    "                yield self.dictionary.doc2bow(line)"
   ]
  },
  {
   "cell_type": "markdown",
   "id": "0a511ec3",
   "metadata": {},
   "source": [
    "# Calculate Coherence"
   ]
  },
  {
   "cell_type": "code",
   "execution_count": null,
   "id": "ad348a50",
   "metadata": {
    "ExecuteTime": {
     "start_time": "2023-02-17T04:50:40.840Z"
    },
    "scrolled": false
   },
   "outputs": [],
   "source": [
    "texts = df.words_nonstop.progress_apply(\n",
    "    lambda x: x.split(\" \") if x is not np.nan else [\"\"]\n",
    ").tolist()\n",
    "corpus = Corpus(texts=texts)\n",
    "dictionary = Dictionary(texts)\n",
    "#     登場頻度80%以上の単語を削除\n",
    "dictionary.filter_extremes()"
   ]
  },
  {
   "cell_type": "code",
   "execution_count": null,
   "id": "74fa32c1",
   "metadata": {
    "ExecuteTime": {
     "start_time": "2023-02-17T04:50:41.502Z"
    }
   },
   "outputs": [],
   "source": [
    "if vectorize_type == \"doc2vec\":\n",
    "    coherence_base_path = (\n",
    "        f\"/home/jovyan/temporary/Postprocessing/{data_type}/{vectorize_type}/GMM/coherence\"\n",
    "    )\n",
    "if vectorize_type == \"sentenceBERT\":\n",
    "    coherence_base_path = f\"/home/jovyan/temporary/Postprocessing/{data_type}/{vectorize_type}/{transformer_model}/GMM/coherence\"\n",
    "else:\n",
    "    raise NotImplementedError"
   ]
  },
  {
   "cell_type": "code",
   "execution_count": null,
   "id": "f9f44251",
   "metadata": {
    "ExecuteTime": {
     "start_time": "2023-02-17T04:50:42.058Z"
    }
   },
   "outputs": [],
   "source": [
    "normalizations"
   ]
  },
  {
   "cell_type": "code",
   "execution_count": null,
   "id": "4b381ebf",
   "metadata": {
    "ExecuteTime": {
     "start_time": "2023-02-17T04:50:42.864Z"
    },
    "scrolled": true
   },
   "outputs": [],
   "source": [
    "for vector_dim, normalization, topic_num, covariance_type in tqdm(\n",
    "    product(vector_dims, normalizations, topic_nums, covariance_types)\n",
    "):\n",
    "    for model_num in range(model_nums):\n",
    "        pred = np.load(\n",
    "            f\"{root_path_temporary}{pred_path}{vector_dim}/{normalization}/{topic_num}/{covariance_type}/{model_num}.npy\"\n",
    "        )\n",
    "\n",
    "        cm = CoherenceModel(\n",
    "            topics=pred.reshape(1, -1),\n",
    "            corpus=corpus,\n",
    "            dictionary=dictionary,\n",
    "            texts=texts,\n",
    "            coherence=\"c_v\",\n",
    "        )\n",
    "        coherence = cm.get_coherence()\n",
    "        coherence_path = f\"{coherence_base_path}/{vector_dim}/{normalization}/{topic_num}/{covariance_type}/{model_num}.npy\"\n",
    "\n",
    "        np.save(make_filepath(coherence_path), cm.get_coherence())"
   ]
  },
  {
   "cell_type": "markdown",
   "id": "f3b26352",
   "metadata": {},
   "source": [
    "## upload file"
   ]
  },
  {
   "cell_type": "code",
   "execution_count": null,
   "id": "c341ac1e",
   "metadata": {
    "ExecuteTime": {
     "start_time": "2023-02-17T04:50:44.108Z"
    },
    "scrolled": true
   },
   "outputs": [],
   "source": [
    "s3.upload(value_path)"
   ]
  },
  {
   "cell_type": "code",
   "execution_count": null,
   "id": "0aef5374",
   "metadata": {
    "ExecuteTime": {
     "start_time": "2023-02-17T04:50:45.319Z"
    },
    "scrolled": true
   },
   "outputs": [],
   "source": [
    "s3.delete_local_all()"
   ]
  },
  {
   "cell_type": "code",
   "execution_count": null,
   "id": "57c5a7b2",
   "metadata": {},
   "outputs": [],
   "source": []
  },
  {
   "cell_type": "code",
   "execution_count": null,
   "id": "a735e2b7",
   "metadata": {
    "ExecuteTime": {
     "start_time": "2023-02-17T04:50:46.455Z"
    }
   },
   "outputs": [],
   "source": [
    "send_line_notify(f\"end {data_type} {vectorize_type}\")"
   ]
  },
  {
   "cell_type": "code",
   "execution_count": null,
   "id": "213b5469",
   "metadata": {},
   "outputs": [],
   "source": []
  },
  {
   "cell_type": "code",
   "execution_count": null,
   "id": "5fa10ddc",
   "metadata": {},
   "outputs": [],
   "source": []
  },
  {
   "cell_type": "code",
   "execution_count": null,
   "id": "e239ae12",
   "metadata": {},
   "outputs": [],
   "source": []
  }
 ],
 "metadata": {
  "kernelspec": {
   "display_name": "Python 3 (ipykernel)",
   "language": "python",
   "name": "python3"
  },
  "language_info": {
   "codemirror_mode": {
    "name": "ipython",
    "version": 3
   },
   "file_extension": ".py",
   "mimetype": "text/x-python",
   "name": "python",
   "nbconvert_exporter": "python",
   "pygments_lexer": "ipython3",
   "version": "3.10.9"
  },
  "toc": {
   "base_numbering": 1,
   "nav_menu": {},
   "number_sections": true,
   "sideBar": true,
   "skip_h1_title": false,
   "title_cell": "Table of Contents",
   "title_sidebar": "Contents",
   "toc_cell": false,
   "toc_position": {},
   "toc_section_display": true,
   "toc_window_display": false
  }
 },
 "nbformat": 4,
 "nbformat_minor": 5
}
