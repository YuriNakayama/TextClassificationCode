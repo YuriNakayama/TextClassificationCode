{
 "cells": [
  {
   "cell_type": "markdown",
   "id": "b95f9187",
   "metadata": {},
   "source": [
    "# Import"
   ]
  },
  {
   "cell_type": "code",
   "execution_count": 1,
   "id": "80a85ab5",
   "metadata": {
    "ExecuteTime": {
     "end_time": "2023-01-08T13:45:48.850630Z",
     "start_time": "2023-01-08T13:45:47.783278Z"
    }
   },
   "outputs": [],
   "source": [
    "import csv\n",
    "import os\n",
    "import pickle\n",
    "import sys\n",
    "\n",
    "import numpy as np\n",
    "import pandas as pd\n",
    "from gensim.corpora.dictionary import Dictionary\n",
    "from gensim.models.coherencemodel import CoherenceModel\n",
    "from sklearn.mixture import GaussianMixture\n",
    "from smart_open import open\n",
    "from stop_words import get_stop_words\n",
    "from tqdm import tqdm"
   ]
  },
  {
   "cell_type": "markdown",
   "id": "6f4f62bd",
   "metadata": {},
   "source": [
    "## Add configuration file"
   ]
  },
  {
   "cell_type": "code",
   "execution_count": 2,
   "id": "d5ff7059",
   "metadata": {
    "ExecuteTime": {
     "end_time": "2023-01-08T13:45:48.860533Z",
     "start_time": "2023-01-08T13:45:48.855444Z"
    }
   },
   "outputs": [],
   "source": [
    "sys.path.append(\"/home/jovyan/core/config/\")\n",
    "sys.path.append(\"/home/jovyan/core/util/\")"
   ]
  },
  {
   "cell_type": "code",
   "execution_count": 3,
   "id": "157ce92a",
   "metadata": {
    "ExecuteTime": {
     "end_time": "2023-01-08T13:45:48.871567Z",
     "start_time": "2023-01-08T13:45:48.862472Z"
    }
   },
   "outputs": [],
   "source": [
    "from ALL import config \n",
    "from util import *"
   ]
  },
  {
   "cell_type": "markdown",
   "id": "b07ac6af",
   "metadata": {},
   "source": [
    "## Set condition"
   ]
  },
  {
   "cell_type": "code",
   "execution_count": 4,
   "id": "9d870465",
   "metadata": {
    "ExecuteTime": {
     "end_time": "2023-01-08T13:45:48.879671Z",
     "start_time": "2023-01-08T13:45:48.876513Z"
    }
   },
   "outputs": [],
   "source": [
    "tqdm.pandas()\n",
    "pd.set_option(\"display.max_columns\", 100)\n",
    "pd.set_option(\"display.max_rows\", 50)"
   ]
  },
  {
   "cell_type": "code",
   "execution_count": 5,
   "id": "ce45d384",
   "metadata": {
    "ExecuteTime": {
     "end_time": "2023-01-08T13:45:48.887037Z",
     "start_time": "2023-01-08T13:45:48.882073Z"
    }
   },
   "outputs": [],
   "source": [
    "data_type=\"AgNewsTitle\"\n",
    "vectorize_type = \"sentenceBERT\""
   ]
  },
  {
   "cell_type": "markdown",
   "id": "52c60a4f",
   "metadata": {},
   "source": [
    "# Read data"
   ]
  },
  {
   "cell_type": "code",
   "execution_count": 6,
   "id": "c81d3638",
   "metadata": {
    "ExecuteTime": {
     "end_time": "2023-01-08T13:45:49.665509Z",
     "start_time": "2023-01-08T13:45:48.889523Z"
    },
    "scrolled": true
   },
   "outputs": [],
   "source": [
    "df = pd.read_csv(\n",
    "    f\"../../Preprocessing/data/{data_type}/master.csv\", index_col=0\n",
    ")"
   ]
  },
  {
   "cell_type": "code",
   "execution_count": 7,
   "id": "95389cd0",
   "metadata": {
    "ExecuteTime": {
     "end_time": "2023-01-08T13:45:49.676371Z",
     "start_time": "2023-01-08T13:45:49.671637Z"
    }
   },
   "outputs": [],
   "source": [
    "with open(f\"../../Preprocessing/data/{data_type}/class.csv\", mode=\"r\") as f:\n",
    "    reader = csv.reader(f)\n",
    "    class_labels = [label for label in reader]"
   ]
  },
  {
   "cell_type": "code",
   "execution_count": 8,
   "id": "694f0571",
   "metadata": {
    "ExecuteTime": {
     "end_time": "2023-01-08T13:45:49.685871Z",
     "start_time": "2023-01-08T13:45:49.681938Z"
    }
   },
   "outputs": [],
   "source": [
    "label = df[\"class\"].to_numpy()"
   ]
  },
  {
   "cell_type": "code",
   "execution_count": 9,
   "id": "41aa2af8",
   "metadata": {
    "ExecuteTime": {
     "end_time": "2023-01-08T13:45:49.696472Z",
     "start_time": "2023-01-08T13:45:49.691643Z"
    }
   },
   "outputs": [],
   "source": [
    "# vector_dims = config[\"vectorize\"][\"doc2vec\"][\"dims\"]\n",
    "vector_dims = [384]\n",
    "model_nums = config[\"clustering\"][\"gmm\"][\"max_model_num\"]\n",
    "# vector_model_num = config[\"vectorize\"][\"doc2vec\"][\"max_model_num\"]\n",
    "vector_model_num = config[\"vectorize\"][\"doc2vec\"][\"max_model_num\"]\n",
    "covariance_types = config[\"clustering\"][\"gmm\"][\"covariance_types\"]\n",
    "normalization = config[\"vectorize\"][vectorize_type][\"normalization\"]"
   ]
  },
  {
   "cell_type": "code",
   "execution_count": 10,
   "id": "ffc386a8",
   "metadata": {
    "ExecuteTime": {
     "end_time": "2023-01-08T13:45:49.709287Z",
     "start_time": "2023-01-08T13:45:49.703856Z"
    }
   },
   "outputs": [],
   "source": [
    "class Corpus:\n",
    "    def __init__(self, path=None, texts=None):\n",
    "        self.path = path\n",
    "        self.texts = texts\n",
    "        self.dictionary = Dictionary(texts)\n",
    "\n",
    "    def __iter__(self):\n",
    "        if self.path is not None:\n",
    "            for line in open(self.path):\n",
    "                # assume there's one document per line, tokens separated by whitespace\n",
    "                yield self.dictionary.doc2bow(line.lower().split())\n",
    "        else:\n",
    "            for line in self.texts:\n",
    "                yield self.dictionary.doc2bow(line)"
   ]
  },
  {
   "cell_type": "code",
   "execution_count": 11,
   "id": "ad348a50",
   "metadata": {
    "ExecuteTime": {
     "end_time": "2023-01-08T13:45:53.317340Z",
     "start_time": "2023-01-08T13:45:49.714969Z"
    },
    "scrolled": true
   },
   "outputs": [
    {
     "name": "stderr",
     "output_type": "stream",
     "text": [
      "100%|██████████| 120000/120000 [00:00<00:00, 246198.06it/s]\n"
     ]
    }
   ],
   "source": [
    "texts = df.words_nonstop.progress_apply(\n",
    "    lambda x: x.split(\" \") if x is not np.nan else [\"\"]\n",
    ").tolist()\n",
    "corpus = Corpus(texts=texts)\n",
    "dictionary = Dictionary(texts)\n",
    "#     登場頻度80%以上の単語を削除\n",
    "dictionary.filter_extremes()"
   ]
  },
  {
   "cell_type": "code",
   "execution_count": 12,
   "id": "4b381ebf",
   "metadata": {
    "ExecuteTime": {
     "end_time": "2023-01-08T13:50:13.462075Z",
     "start_time": "2023-01-08T13:45:53.319363Z"
    },
    "scrolled": true
   },
   "outputs": [
    {
     "name": "stderr",
     "output_type": "stream",
     "text": [
      "100%|██████████| 1/1 [04:20<00:00, 260.13s/it]\n"
     ]
    }
   ],
   "source": [
    "pred_path = f\"../../Clustering/data/{data_type}/{vectorize_type}/GMM/pred/\"\n",
    "\n",
    "for vector_dim in tqdm(vector_dims):\n",
    "    coherences = []\n",
    "    for model_num in range(model_nums):\n",
    "        coherence = []\n",
    "        for covariance_type in covariance_types:\n",
    "            pred = np.load(\n",
    "                f\"{pred_path}{vector_dim}/{normalization}/{covariance_type}/{model_num}.npy\"\n",
    "            )\n",
    "\n",
    "            cm = CoherenceModel(\n",
    "                topics=pred.reshape(1, -1),\n",
    "                corpus=corpus,\n",
    "                dictionary=dictionary,\n",
    "                texts=texts,\n",
    "                coherence=\"c_v\",\n",
    "            )\n",
    "            coherence.append(cm.get_coherence())\n",
    "        coherences.append(coherence)\n",
    "        coherence_path = f\"../data/{data_type}/{vectorize_type}/GMM/coherence/{normalization}/{vector_dim}.csv\"\n",
    "        os.makedirs(os.path.dirname(coherence_path), exist_ok=True)\n",
    "        pd.DataFrame(coherences, columns=covariance_types).to_csv(coherence_path)"
   ]
  },
  {
   "cell_type": "code",
   "execution_count": 13,
   "id": "a735e2b7",
   "metadata": {
    "ExecuteTime": {
     "end_time": "2023-01-08T13:50:14.136889Z",
     "start_time": "2023-01-08T13:50:13.465114Z"
    }
   },
   "outputs": [],
   "source": [
    "send_line_notify(f\"end {data_type} {vectorize_type}\")"
   ]
  },
  {
   "cell_type": "code",
   "execution_count": null,
   "id": "213b5469",
   "metadata": {},
   "outputs": [],
   "source": []
  },
  {
   "cell_type": "code",
   "execution_count": null,
   "id": "5fa10ddc",
   "metadata": {},
   "outputs": [],
   "source": []
  },
  {
   "cell_type": "code",
   "execution_count": null,
   "id": "e239ae12",
   "metadata": {},
   "outputs": [],
   "source": []
  }
 ],
 "metadata": {
  "kernelspec": {
   "display_name": "Python 3 (ipykernel)",
   "language": "python",
   "name": "python3"
  },
  "language_info": {
   "codemirror_mode": {
    "name": "ipython",
    "version": 3
   },
   "file_extension": ".py",
   "mimetype": "text/x-python",
   "name": "python",
   "nbconvert_exporter": "python",
   "pygments_lexer": "ipython3",
   "version": "3.10.8"
  },
  "toc": {
   "base_numbering": 1,
   "nav_menu": {},
   "number_sections": true,
   "sideBar": true,
   "skip_h1_title": false,
   "title_cell": "Table of Contents",
   "title_sidebar": "Contents",
   "toc_cell": false,
   "toc_position": {},
   "toc_section_display": true,
   "toc_window_display": false
  }
 },
 "nbformat": 4,
 "nbformat_minor": 5
}
