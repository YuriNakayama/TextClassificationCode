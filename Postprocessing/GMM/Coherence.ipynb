{
 "cells": [
  {
   "cell_type": "markdown",
   "id": "b95f9187",
   "metadata": {},
   "source": [
    "# Import"
   ]
  },
  {
   "cell_type": "code",
   "execution_count": 14,
   "id": "80a85ab5",
   "metadata": {
    "ExecuteTime": {
     "end_time": "2023-01-20T13:19:47.250863Z",
     "start_time": "2023-01-20T13:19:47.247226Z"
    }
   },
   "outputs": [],
   "source": [
    "import csv\n",
    "import os\n",
    "import pickle\n",
    "import sys\n",
    "\n",
    "import numpy as np\n",
    "import pandas as pd\n",
    "from gensim.corpora.dictionary import Dictionary\n",
    "from gensim.models.coherencemodel import CoherenceModel\n",
    "from sklearn.mixture import GaussianMixture\n",
    "from smart_open import open\n",
    "from stop_words import get_stop_words\n",
    "from tqdm import tqdm"
   ]
  },
  {
   "cell_type": "markdown",
   "id": "6f4f62bd",
   "metadata": {},
   "source": [
    "## Add configuration file"
   ]
  },
  {
   "cell_type": "code",
   "execution_count": 15,
   "id": "d5ff7059",
   "metadata": {
    "ExecuteTime": {
     "end_time": "2023-01-20T13:19:47.828163Z",
     "start_time": "2023-01-20T13:19:47.825203Z"
    }
   },
   "outputs": [],
   "source": [
    "sys.path.append(\"/home/jovyan/core/config/\")\n",
    "sys.path.append(\"/home/jovyan/core/util/\")"
   ]
  },
  {
   "cell_type": "code",
   "execution_count": 16,
   "id": "157ce92a",
   "metadata": {
    "ExecuteTime": {
     "end_time": "2023-01-20T13:19:47.908596Z",
     "start_time": "2023-01-20T13:19:47.905478Z"
    }
   },
   "outputs": [],
   "source": [
    "from ALL import config \n",
    "from util import *"
   ]
  },
  {
   "cell_type": "markdown",
   "id": "b07ac6af",
   "metadata": {},
   "source": [
    "## Set condition"
   ]
  },
  {
   "cell_type": "code",
   "execution_count": 17,
   "id": "9d870465",
   "metadata": {
    "ExecuteTime": {
     "end_time": "2023-01-20T13:19:48.075350Z",
     "start_time": "2023-01-20T13:19:48.071296Z"
    }
   },
   "outputs": [],
   "source": [
    "tqdm.pandas()\n",
    "pd.set_option(\"display.max_columns\", 100)\n",
    "pd.set_option(\"display.max_rows\", 50)"
   ]
  },
  {
   "cell_type": "code",
   "execution_count": null,
   "id": "ee6277a1",
   "metadata": {},
   "outputs": [],
   "source": [
    "s3 = S3Manager()"
   ]
  },
  {
   "cell_type": "code",
   "execution_count": 18,
   "id": "ce45d384",
   "metadata": {
    "ExecuteTime": {
     "end_time": "2023-01-20T13:19:48.163569Z",
     "start_time": "2023-01-20T13:19:48.159636Z"
    }
   },
   "outputs": [],
   "source": [
    "data_type=\"AgNews\"#sys.argv[1]\n",
    "vectorize_type = \"sentenceBERT\"#sys.argv[2]\n",
    "transformer_model = \"sentence-transformers/all-MiniLM-L6-v2\"#sys.argv[3]"
   ]
  },
  {
   "cell_type": "code",
   "execution_count": 22,
   "id": "41aa2af8",
   "metadata": {
    "ExecuteTime": {
     "end_time": "2023-01-20T13:19:49.280663Z",
     "start_time": "2023-01-20T13:19:49.275778Z"
    }
   },
   "outputs": [],
   "source": [
    "vector_dims = config[\"vectorize\"][vectorize_type][transformer_model][\"dims\"]\n",
    "normalizations = config[\"vectorize\"][vectorize_type][transformer_model][\"normalization\"]\n",
    "vector_model_nums = config[\"vectorize\"][vectorize_type][transformer_model][\"max_model_num\"]\n",
    "\n",
    "model_nums = config[\"clustering\"][\"gmm\"][\"max_model_num\"]\n",
    "covariance_types = config[\"clustering\"][\"gmm\"][\"covariance_types\"]\n",
    "topic_nums = config[\"data\"][data_type_classifier(data_type)][\"class_num\"]"
   ]
  },
  {
   "cell_type": "markdown",
   "id": "52c60a4f",
   "metadata": {},
   "source": [
    "# Read data"
   ]
  },
  {
   "cell_type": "code",
   "execution_count": 13,
   "id": "25a24ba9",
   "metadata": {
    "ExecuteTime": {
     "end_time": "2023-02-10T10:46:24.066072Z",
     "start_time": "2023-02-10T10:46:14.839340Z"
    }
   },
   "outputs": [],
   "source": [
    "df_path = s3.download(f\"Preprocessing/{data_type}/master.csv\")"
   ]
  },
  {
   "cell_type": "code",
   "execution_count": 14,
   "id": "043b8c0b",
   "metadata": {
    "ExecuteTime": {
     "end_time": "2023-02-10T10:46:30.847418Z",
     "start_time": "2023-02-10T10:46:24.069223Z"
    }
   },
   "outputs": [],
   "source": [
    "df = pd.read_csv(df_path[0], index_col=0)"
   ]
  },
  {
   "cell_type": "code",
   "execution_count": 15,
   "id": "6782bdb1",
   "metadata": {
    "ExecuteTime": {
     "end_time": "2023-02-10T10:46:32.988001Z",
     "start_time": "2023-02-10T10:46:30.919855Z"
    }
   },
   "outputs": [],
   "source": [
    "labels_path = s3.download(f\"Preprocessing/{data_type}/class.csv\")"
   ]
  },
  {
   "cell_type": "code",
   "execution_count": 16,
   "id": "2e2aae46",
   "metadata": {
    "ExecuteTime": {
     "end_time": "2023-02-10T10:46:33.094717Z",
     "start_time": "2023-02-10T10:46:33.027204Z"
    }
   },
   "outputs": [],
   "source": [
    "label = df[\"class\"].to_numpy()"
   ]
  },
  {
   "cell_type": "code",
   "execution_count": 17,
   "id": "ffa22ff8",
   "metadata": {
    "ExecuteTime": {
     "end_time": "2023-02-10T10:46:33.177552Z",
     "start_time": "2023-02-10T10:46:33.132142Z"
    }
   },
   "outputs": [],
   "source": [
    "with open(labels_path[0], mode=\"r\") as f:\n",
    "    reader = csv.reader(f)\n",
    "    class_labels = [label for label in reader]"
   ]
  },
  {
   "cell_type": "code",
   "execution_count": null,
   "id": "26ebc519",
   "metadata": {},
   "outputs": [],
   "source": [
    "if vectorize_type == \"doc2vec\":\n",
    "    pred_path = f\"Clustering/{data_type}/{vectorize_type}/vector\"\n",
    "elif vectorize_type == \"sentenceBERT\":\n",
    "    pred_path = f\"Clustering/{data_type}/{vectorize_type}/{transformer_model}/GMM/pred/\"\n",
    "else:\n",
    "    raise NotImplementedError"
   ]
  },
  {
   "cell_type": "markdown",
   "id": "a1816f51",
   "metadata": {},
   "source": [
    "# functions"
   ]
  },
  {
   "cell_type": "code",
   "execution_count": 23,
   "id": "ffc386a8",
   "metadata": {
    "ExecuteTime": {
     "end_time": "2023-01-20T13:19:49.288198Z",
     "start_time": "2023-01-20T13:19:49.282662Z"
    }
   },
   "outputs": [],
   "source": [
    "class Corpus:\n",
    "    def __init__(self, path=None, texts=None):\n",
    "        self.path = path\n",
    "        self.texts = texts\n",
    "        self.dictionary = Dictionary(texts)\n",
    "\n",
    "    def __iter__(self):\n",
    "        if self.path is not None:\n",
    "            for line in open(self.path):\n",
    "                # assume there's one document per line, tokens separated by whitespace\n",
    "                yield self.dictionary.doc2bow(line.lower().split())\n",
    "        else:\n",
    "            for line in self.texts:\n",
    "                yield self.dictionary.doc2bow(line)"
   ]
  },
  {
   "cell_type": "markdown",
   "id": "0a511ec3",
   "metadata": {},
   "source": [
    "# Calculate Coherence"
   ]
  },
  {
   "cell_type": "code",
   "execution_count": 24,
   "id": "ad348a50",
   "metadata": {
    "ExecuteTime": {
     "end_time": "2023-01-20T13:19:57.055674Z",
     "start_time": "2023-01-20T13:19:49.289999Z"
    },
    "scrolled": true
   },
   "outputs": [
    {
     "name": "stderr",
     "output_type": "stream",
     "text": [
      "100%|██████████| 120000/120000 [00:00<00:00, 164420.18it/s]\n"
     ]
    }
   ],
   "source": [
    "texts = df.words_nonstop.progress_apply(\n",
    "    lambda x: x.split(\" \") if x is not np.nan else [\"\"]\n",
    ").tolist()\n",
    "corpus = Corpus(texts=texts)\n",
    "dictionary = Dictionary(texts)\n",
    "#     登場頻度80%以上の単語を削除\n",
    "dictionary.filter_extremes()"
   ]
  },
  {
   "cell_type": "code",
   "execution_count": 25,
   "id": "4b381ebf",
   "metadata": {
    "ExecuteTime": {
     "end_time": "2023-01-20T13:22:54.520544Z",
     "start_time": "2023-01-20T13:19:57.057976Z"
    },
    "scrolled": true
   },
   "outputs": [
    {
     "name": "stderr",
     "output_type": "stream",
     "text": [
      "100%|██████████| 1/1 [02:57<00:00, 177.45s/it]\n"
     ]
    }
   ],
   "source": [
    "for vector_dim in tqdm(vector_dims):\n",
    "    coherences = []\n",
    "    for model_num in range(model_nums):\n",
    "        coherence = []\n",
    "        for covariance_type in covariance_types:\n",
    "            pred = np.load(\n",
    "                f\"{root_path_temporary}{pred_path}{vector_dim}/{normalization}/{n_component}/{covariance_type}/{model_num}.npy\"\n",
    "            )\n",
    "\n",
    "            cm = CoherenceModel(\n",
    "                topics=pred.reshape(1, -1),\n",
    "                corpus=corpus,\n",
    "                dictionary=dictionary,\n",
    "                texts=texts,\n",
    "                coherence=\"c_v\",\n",
    "            )\n",
    "            coherence.append(cm.get_coherence())\n",
    "        coherences.append(coherence)\n",
    "        coherence_path = f\"../data/{data_type}/{vectorize_type}/GMM/coherence/{normalization}/{vector_dim}.csv\"\n",
    "        pd.DataFrame(coherences, columns=covariance_types).to_csv(make_filepath(coherence_path))"
   ]
  },
  {
   "cell_type": "code",
   "execution_count": 26,
   "id": "a735e2b7",
   "metadata": {
    "ExecuteTime": {
     "end_time": "2023-01-20T13:22:55.096838Z",
     "start_time": "2023-01-20T13:22:54.523038Z"
    }
   },
   "outputs": [],
   "source": [
    "send_line_notify(f\"end {data_type} {vectorize_type}\")"
   ]
  },
  {
   "cell_type": "code",
   "execution_count": null,
   "id": "213b5469",
   "metadata": {},
   "outputs": [],
   "source": []
  },
  {
   "cell_type": "code",
   "execution_count": null,
   "id": "5fa10ddc",
   "metadata": {},
   "outputs": [],
   "source": []
  },
  {
   "cell_type": "code",
   "execution_count": null,
   "id": "e239ae12",
   "metadata": {},
   "outputs": [],
   "source": []
  }
 ],
 "metadata": {
  "kernelspec": {
   "display_name": "Python 3 (ipykernel)",
   "language": "python",
   "name": "python3"
  },
  "language_info": {
   "codemirror_mode": {
    "name": "ipython",
    "version": 3
   },
   "file_extension": ".py",
   "mimetype": "text/x-python",
   "name": "python",
   "nbconvert_exporter": "python",
   "pygments_lexer": "ipython3",
   "version": "3.10.8"
  },
  "toc": {
   "base_numbering": 1,
   "nav_menu": {},
   "number_sections": true,
   "sideBar": true,
   "skip_h1_title": false,
   "title_cell": "Table of Contents",
   "title_sidebar": "Contents",
   "toc_cell": false,
   "toc_position": {},
   "toc_section_display": true,
   "toc_window_display": false
  }
 },
 "nbformat": 4,
 "nbformat_minor": 5
}
