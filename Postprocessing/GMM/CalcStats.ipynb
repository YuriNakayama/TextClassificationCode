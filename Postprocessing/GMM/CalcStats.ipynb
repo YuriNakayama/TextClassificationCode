{
 "cells": [
  {
   "cell_type": "markdown",
   "id": "b95f9187",
   "metadata": {},
   "source": [
    "# Import"
   ]
  },
  {
   "cell_type": "code",
   "execution_count": 1,
   "id": "80a85ab5",
   "metadata": {
    "ExecuteTime": {
     "end_time": "2023-02-10T09:47:38.504915Z",
     "start_time": "2023-02-10T09:47:33.917487Z"
    }
   },
   "outputs": [],
   "source": [
    "import csv\n",
    "import os\n",
    "import pickle\n",
    "import sys\n",
    "\n",
    "import numpy as np\n",
    "import pandas as pd\n",
    "from scipy import linalg, sparse\n",
    "from tqdm import tqdm\n",
    "from sklearn.mixture import GaussianMixture\n",
    "from sklearn.metrics import adjusted_mutual_info_score"
   ]
  },
  {
   "cell_type": "markdown",
   "id": "6f4f62bd",
   "metadata": {},
   "source": [
    "## Add configuration file"
   ]
  },
  {
   "cell_type": "code",
   "execution_count": 2,
   "id": "d5ff7059",
   "metadata": {
    "ExecuteTime": {
     "end_time": "2023-02-10T09:47:38.513723Z",
     "start_time": "2023-02-10T09:47:38.510622Z"
    }
   },
   "outputs": [],
   "source": [
    "sys.path.append(\"/home/jovyan/core/config/\")\n",
    "sys.path.append(\"/home/jovyan/core/util/\")\n",
    "sys.path.append(\"../Function/\")"
   ]
  },
  {
   "cell_type": "code",
   "execution_count": 3,
   "id": "157ce92a",
   "metadata": {
    "ExecuteTime": {
     "end_time": "2023-02-10T09:47:39.410331Z",
     "start_time": "2023-02-10T09:47:38.528806Z"
    }
   },
   "outputs": [],
   "source": [
    "from ALL import config \n",
    "from util import *\n",
    "from extmath import row_norms"
   ]
  },
  {
   "cell_type": "markdown",
   "id": "b07ac6af",
   "metadata": {},
   "source": [
    "## Set condition"
   ]
  },
  {
   "cell_type": "code",
   "execution_count": 4,
   "id": "9d870465",
   "metadata": {
    "ExecuteTime": {
     "end_time": "2023-02-10T09:47:42.047998Z",
     "start_time": "2023-02-10T09:47:41.622067Z"
    }
   },
   "outputs": [],
   "source": [
    "tqdm.pandas()\n",
    "pd.set_option(\"display.max_columns\", 100)\n",
    "pd.set_option(\"display.max_rows\", 50)"
   ]
  },
  {
   "cell_type": "code",
   "execution_count": 10,
   "id": "e76aa43c",
   "metadata": {
    "ExecuteTime": {
     "end_time": "2023-02-10T10:46:12.387782Z",
     "start_time": "2023-02-10T10:46:12.299236Z"
    }
   },
   "outputs": [],
   "source": [
    "s3 = S3Manager()"
   ]
  },
  {
   "cell_type": "code",
   "execution_count": 11,
   "id": "e9e9361c",
   "metadata": {
    "ExecuteTime": {
     "end_time": "2023-02-10T10:46:13.149822Z",
     "start_time": "2023-02-10T10:46:13.114088Z"
    }
   },
   "outputs": [],
   "source": [
    "data_type=\"AgNews\"\n",
    "vectorize_type = \"sentenceBERT\"\n",
    "transformer_model = \"sentence-transformers/all-MiniLM-L6-v2\"#sys.argv[2]"
   ]
  },
  {
   "cell_type": "code",
   "execution_count": 12,
   "id": "fec767ee",
   "metadata": {
    "ExecuteTime": {
     "end_time": "2023-02-10T10:46:13.845872Z",
     "start_time": "2023-02-10T10:46:13.809766Z"
    }
   },
   "outputs": [],
   "source": [
    "vector_dims = config[\"vectorize\"][vectorize_type][\"dims\"]\n",
    "model_nums = config[\"clustering\"][\"gmm\"][\"max_model_num\"]\n",
    "vector_model_nums = config[\"vectorize\"][vectorize_type][\"max_model_num\"]\n",
    "covariance_types = config[\"clustering\"][\"gmm\"][\"covariance_types\"]\n",
    "covariance_types = [\"spherical\"]\n",
    "normalization = config[\"vectorize\"][vectorize_type][\"normalization\"]\n",
    "topic_nums = config[\"data\"][data_type_classifier(data_type)][\"class_num\"]"
   ]
  },
  {
   "cell_type": "markdown",
   "id": "52c60a4f",
   "metadata": {},
   "source": [
    "# Read data"
   ]
  },
  {
   "cell_type": "code",
   "execution_count": 13,
   "id": "25a24ba9",
   "metadata": {
    "ExecuteTime": {
     "end_time": "2023-02-10T10:46:24.066072Z",
     "start_time": "2023-02-10T10:46:14.839340Z"
    }
   },
   "outputs": [],
   "source": [
    "df_path = s3.download(f\"Preprocessing/{data_type}/master.csv\")"
   ]
  },
  {
   "cell_type": "code",
   "execution_count": 14,
   "id": "043b8c0b",
   "metadata": {
    "ExecuteTime": {
     "end_time": "2023-02-10T10:46:30.847418Z",
     "start_time": "2023-02-10T10:46:24.069223Z"
    }
   },
   "outputs": [],
   "source": [
    "df = pd.read_csv(df_path[0], index_col=0)"
   ]
  },
  {
   "cell_type": "code",
   "execution_count": 15,
   "id": "6782bdb1",
   "metadata": {
    "ExecuteTime": {
     "end_time": "2023-02-10T10:46:32.988001Z",
     "start_time": "2023-02-10T10:46:30.919855Z"
    }
   },
   "outputs": [],
   "source": [
    "labels_path = s3.download(f\"Preprocessing/{data_type}/class.csv\")"
   ]
  },
  {
   "cell_type": "code",
   "execution_count": 16,
   "id": "2e2aae46",
   "metadata": {
    "ExecuteTime": {
     "end_time": "2023-02-10T10:46:33.094717Z",
     "start_time": "2023-02-10T10:46:33.027204Z"
    }
   },
   "outputs": [],
   "source": [
    "label = df[\"class\"].to_numpy()"
   ]
  },
  {
   "cell_type": "code",
   "execution_count": 17,
   "id": "ffa22ff8",
   "metadata": {
    "ExecuteTime": {
     "end_time": "2023-02-10T10:46:33.177552Z",
     "start_time": "2023-02-10T10:46:33.132142Z"
    }
   },
   "outputs": [],
   "source": [
    "with open(labels_path[0], mode=\"r\") as f:\n",
    "    reader = csv.reader(f)\n",
    "    class_labels = [label for label in reader]"
   ]
  },
  {
   "cell_type": "code",
   "execution_count": null,
   "id": "766eaea9",
   "metadata": {},
   "outputs": [],
   "source": [
    "if vectorize_type == \"doc2vec\":\n",
    "    vectors_path = f\"../../temporary/Clustering/{data_type}/{vectorize_type}/vector\"\n",
    "    models_path = f\"../../temporary/Clustering/{data_type}/{vectorize_type}/GMM/model/\"\n",
    "elif vectorize_type == \"sentenceBERT\":\n",
    "    vectors_path = f\"../../temporary/Clustering/{data_type}/{vectorize_type}/{transformer_model}/vector\"\n",
    "    models_path = f\"../../temporary/Clustering/{data_type}/{vectorize_type}/{transformer_model}/GMM/model/\"\n",
    "else:\n",
    "    raise NotImplementedError"
   ]
  },
  {
   "cell_type": "code",
   "execution_count": 18,
   "id": "f3b215ca",
   "metadata": {
    "ExecuteTime": {
     "end_time": "2023-02-10T10:47:21.697807Z",
     "start_time": "2023-02-10T10:46:33.179334Z"
    },
    "collapsed": true
   },
   "outputs": [
    {
     "data": {
      "text/plain": [
       "['/home/jovyan/temporary/Vectorize/AgNews/sentenceBERT/sentence-transformers/all-MiniLM-L6-v2/model/0/1_Pooling/config.json',\n",
       " '/home/jovyan/temporary/Vectorize/AgNews/sentenceBERT/sentence-transformers/all-MiniLM-L6-v2/model/0/README.md',\n",
       " '/home/jovyan/temporary/Vectorize/AgNews/sentenceBERT/sentence-transformers/all-MiniLM-L6-v2/model/0/config.json',\n",
       " '/home/jovyan/temporary/Vectorize/AgNews/sentenceBERT/sentence-transformers/all-MiniLM-L6-v2/model/0/config_sentence_transformers.json',\n",
       " '/home/jovyan/temporary/Vectorize/AgNews/sentenceBERT/sentence-transformers/all-MiniLM-L6-v2/model/0/modules.json',\n",
       " '/home/jovyan/temporary/Vectorize/AgNews/sentenceBERT/sentence-transformers/all-MiniLM-L6-v2/model/0/pytorch_model.bin',\n",
       " '/home/jovyan/temporary/Vectorize/AgNews/sentenceBERT/sentence-transformers/all-MiniLM-L6-v2/model/0/sentence_bert_config.json',\n",
       " '/home/jovyan/temporary/Vectorize/AgNews/sentenceBERT/sentence-transformers/all-MiniLM-L6-v2/model/0/special_tokens_map.json',\n",
       " '/home/jovyan/temporary/Vectorize/AgNews/sentenceBERT/sentence-transformers/all-MiniLM-L6-v2/model/0/tokenizer.json',\n",
       " '/home/jovyan/temporary/Vectorize/AgNews/sentenceBERT/sentence-transformers/all-MiniLM-L6-v2/model/0/tokenizer_config.json',\n",
       " '/home/jovyan/temporary/Vectorize/AgNews/sentenceBERT/sentence-transformers/all-MiniLM-L6-v2/model/0/vocab.txt',\n",
       " '/home/jovyan/temporary/Vectorize/AgNews/sentenceBERT/sentence-transformers/all-MiniLM-L6-v2/vector/pca/10/0.npy',\n",
       " '/home/jovyan/temporary/Vectorize/AgNews/sentenceBERT/sentence-transformers/all-MiniLM-L6-v2/vector/pca/128/0.npy',\n",
       " '/home/jovyan/temporary/Vectorize/AgNews/sentenceBERT/sentence-transformers/all-MiniLM-L6-v2/vector/pca/16/0.npy',\n",
       " '/home/jovyan/temporary/Vectorize/AgNews/sentenceBERT/sentence-transformers/all-MiniLM-L6-v2/vector/pca/160/0.npy',\n",
       " '/home/jovyan/temporary/Vectorize/AgNews/sentenceBERT/sentence-transformers/all-MiniLM-L6-v2/vector/pca/2/0.npy',\n",
       " '/home/jovyan/temporary/Vectorize/AgNews/sentenceBERT/sentence-transformers/all-MiniLM-L6-v2/vector/pca/20/0.npy',\n",
       " '/home/jovyan/temporary/Vectorize/AgNews/sentenceBERT/sentence-transformers/all-MiniLM-L6-v2/vector/pca/256/0.npy',\n",
       " '/home/jovyan/temporary/Vectorize/AgNews/sentenceBERT/sentence-transformers/all-MiniLM-L6-v2/vector/pca/32/0.npy',\n",
       " '/home/jovyan/temporary/Vectorize/AgNews/sentenceBERT/sentence-transformers/all-MiniLM-L6-v2/vector/pca/384/0.npy',\n",
       " '/home/jovyan/temporary/Vectorize/AgNews/sentenceBERT/sentence-transformers/all-MiniLM-L6-v2/vector/pca/4/0.npy',\n",
       " '/home/jovyan/temporary/Vectorize/AgNews/sentenceBERT/sentence-transformers/all-MiniLM-L6-v2/vector/pca/40/0.npy',\n",
       " '/home/jovyan/temporary/Vectorize/AgNews/sentenceBERT/sentence-transformers/all-MiniLM-L6-v2/vector/pca/6/0.npy',\n",
       " '/home/jovyan/temporary/Vectorize/AgNews/sentenceBERT/sentence-transformers/all-MiniLM-L6-v2/vector/pca/64/0.npy',\n",
       " '/home/jovyan/temporary/Vectorize/AgNews/sentenceBERT/sentence-transformers/all-MiniLM-L6-v2/vector/pca/8/0.npy',\n",
       " '/home/jovyan/temporary/Vectorize/AgNews/sentenceBERT/sentence-transformers/all-MiniLM-L6-v2/vector/pca/80/0.npy',\n",
       " '/home/jovyan/temporary/Vectorize/AgNews/sentenceBERT/sentence-transformers/all-MiniLM-L6-v2/vector/raw/0.npy',\n",
       " '/home/jovyan/temporary/Vectorize/AgNews/sentenceBERT/sentence-transformers/all-MiniLM-L6-v2/vector/umap/10/0.npy',\n",
       " '/home/jovyan/temporary/Vectorize/AgNews/sentenceBERT/sentence-transformers/all-MiniLM-L6-v2/vector/umap/160/0.npy',\n",
       " '/home/jovyan/temporary/Vectorize/AgNews/sentenceBERT/sentence-transformers/all-MiniLM-L6-v2/vector/umap/2/0.npy',\n",
       " '/home/jovyan/temporary/Vectorize/AgNews/sentenceBERT/sentence-transformers/all-MiniLM-L6-v2/vector/umap/20/0.npy',\n",
       " '/home/jovyan/temporary/Vectorize/AgNews/sentenceBERT/sentence-transformers/all-MiniLM-L6-v2/vector/umap/384/0.npy',\n",
       " '/home/jovyan/temporary/Vectorize/AgNews/sentenceBERT/sentence-transformers/all-MiniLM-L6-v2/vector/umap/4/0.npy',\n",
       " '/home/jovyan/temporary/Vectorize/AgNews/sentenceBERT/sentence-transformers/all-MiniLM-L6-v2/vector/umap/40/0.npy',\n",
       " '/home/jovyan/temporary/Vectorize/AgNews/sentenceBERT/sentence-transformers/all-MiniLM-L6-v2/vector/umap/6/0.npy',\n",
       " '/home/jovyan/temporary/Vectorize/AgNews/sentenceBERT/sentence-transformers/all-MiniLM-L6-v2/vector/umap/8/0.npy',\n",
       " '/home/jovyan/temporary/Vectorize/AgNews/sentenceBERT/sentence-transformers/all-MiniLM-L6-v2/vector/umap/80/0.npy']"
      ]
     },
     "execution_count": 18,
     "metadata": {},
     "output_type": "execute_result"
    }
   ],
   "source": [
    "s3.download(vectors_path)"
   ]
  },
  {
   "cell_type": "code",
   "execution_count": null,
   "id": "5ec0f756",
   "metadata": {},
   "outputs": [],
   "source": [
    "s3.download(models_path)"
   ]
  },
  {
   "cell_type": "markdown",
   "id": "82f0ac98",
   "metadata": {},
   "source": [
    "# functions"
   ]
  },
  {
   "cell_type": "code",
   "execution_count": 19,
   "id": "6bbdf87a",
   "metadata": {
    "ExecuteTime": {
     "end_time": "2023-02-10T10:48:19.807130Z",
     "start_time": "2023-02-10T10:48:19.749658Z"
    },
    "code_folding": [
     0
    ]
   },
   "outputs": [],
   "source": [
    "def _estimate_maharanobis_dist(X, means, precisions_chol, covariance_type):\n",
    "    \"\"\"Estimate the log Gaussian probability.\n",
    "    Parameters\n",
    "    ----------\n",
    "    X : array-like of shape (n_samples, n_features)\n",
    "    means : array-like of shape (n_components, n_features)\n",
    "    precisions_chol : array-like\n",
    "        Cholesky decompositions of the precision matrices.\n",
    "        'full' : shape of (n_components, n_features, n_features)\n",
    "        'tied' : shape of (n_features, n_features)\n",
    "        'diag' : shape of (n_components, n_features)\n",
    "        'spherical' : shape of (n_components,)\n",
    "    covariance_type : {'full', 'tied', 'diag', 'spherical'}\n",
    "    Returns\n",
    "    -------\n",
    "    log_prob : array, shape (n_samples, n_components)\n",
    "    \"\"\"\n",
    "    n_samples, n_features = X.shape\n",
    "    n_components, _ = means.shape\n",
    "    \n",
    "    if covariance_type == \"full\":\n",
    "        log_prob = np.empty((n_samples, n_components))\n",
    "        for k, (mu, prec_chol) in enumerate(zip(means, precisions_chol)):\n",
    "            y = np.dot(X, prec_chol) - np.dot(mu, prec_chol)\n",
    "            log_prob[:, k] = np.sum(np.square(y), axis=1)\n",
    "\n",
    "    elif covariance_type == \"tied\":\n",
    "        log_prob = np.empty((n_samples, n_components))\n",
    "        for k, mu in enumerate(means):\n",
    "            y = np.dot(X, precisions_chol) - np.dot(mu, precisions_chol)\n",
    "            log_prob[:, k] = np.sum(np.square(y), axis=1)\n",
    "\n",
    "    elif covariance_type == \"diag\":\n",
    "        precisions = precisions_chol**2\n",
    "        log_prob = (\n",
    "            np.sum((means**2 * precisions), 1)\n",
    "            - 2.0 * np.dot(X, (means * precisions).T)\n",
    "            + np.dot(X**2, precisions.T)\n",
    "        )\n",
    "\n",
    "    elif covariance_type == \"spherical\":\n",
    "        precisions = precisions_chol**2\n",
    "        log_prob = (\n",
    "            np.sum(means**2, 1) * precisions\n",
    "            - 2 * np.dot(X, means.T * precisions)\n",
    "            + np.outer(row_norms(X, squared=True), precisions)\n",
    "        )\n",
    "    # Since we are using the precision of the Cholesky decomposition,\n",
    "    # `- 0.5 * log_det_precision` becomes `+ log_det_precision_chol`\n",
    "    return log_prob"
   ]
  },
  {
   "cell_type": "code",
   "execution_count": 20,
   "id": "11a9375e",
   "metadata": {
    "ExecuteTime": {
     "end_time": "2023-02-10T10:48:20.550793Z",
     "start_time": "2023-02-10T10:48:20.494966Z"
    },
    "code_folding": [
     0
    ]
   },
   "outputs": [],
   "source": [
    "def gmm_value(gmm, vectors, label):\n",
    "    pred = gmm.predict(vectors)\n",
    "    prob = np.exp(gmm._estimate_weighted_log_prob(vectors))\n",
    "    dist = _estimate_maharanobis_dist(\n",
    "        vectors, gmm.means_, gmm.precisions_cholesky_, gmm.covariance_type\n",
    "    )\n",
    "    aic = gmm.aic(vectors)\n",
    "    bic = gmm.bic(vectors)\n",
    "    mi = adjusted_mutual_info_score(pred, label)\n",
    "    logl = gmm.score(vectors, label)\n",
    "    return {\n",
    "        \"pred\": pred,\n",
    "        \"prob\": prob,\n",
    "        \"dist\": dist,\n",
    "        \"aic\": aic,\n",
    "        \"bic\": bic,\n",
    "        \"mi\": mi,\n",
    "        \"logl\": logl,\n",
    "    }"
   ]
  },
  {
   "cell_type": "code",
   "execution_count": 21,
   "id": "eb41927d",
   "metadata": {
    "ExecuteTime": {
     "end_time": "2023-02-10T10:48:21.236899Z",
     "start_time": "2023-02-10T10:48:21.184801Z"
    }
   },
   "outputs": [],
   "source": [
    "def save_output(output, path):\n",
    "    # save prediction\n",
    "    os.makedirs(os.path.dirname(path), exist_ok=True)\n",
    "    np.save(path, output)"
   ]
  },
  {
   "cell_type": "markdown",
   "id": "656a3d4c",
   "metadata": {},
   "source": [
    "# Calculate Stats"
   ]
  },
  {
   "cell_type": "code",
   "execution_count": null,
   "id": "1c7642dc",
   "metadata": {
    "code_folding": [
     0,
     10,
     14
    ]
   },
   "outputs": [],
   "source": [
    "if vectorize_type == \"doc2vec\":\n",
    "    pred_path = (\n",
    "        f\"../../temporary/Postprocessing/data/{data_type}/{vectorize_type}/GMM/pred/\"\n",
    "    )\n",
    "    prob_path = (\n",
    "        f\"../../temporary/Postprocessing/data/{data_type}/{vectorize_type}/GMM/prob/\"\n",
    "    )\n",
    "    dist_path = (\n",
    "        f\"../../temporary/Postprocessing/data/{data_type}/{vectorize_type}/GMM/dist/\"\n",
    "    )\n",
    "if vectorize_type == \"sentenceBERT\":\n",
    "    pred_path = f\"../../temporary/Postprocessing/data/{data_type}/{vectorize_type}/{transformer_model}/GMM/pred/\"\n",
    "    prob_path = f\"../../temporary/Postprocessing/data/{data_type}/{vectorize_type}/{transformer_model}/GMM/prob/\"\n",
    "    dist_path = f\"../../temporary/Postprocessing/data/{data_type}/{vectorize_type}/{transformer_model}/GMM/dist/\"\n",
    "else:\n",
    "    raise NotImplementedError"
   ]
  },
  {
   "cell_type": "code",
   "execution_count": 51,
   "id": "c6631dc1",
   "metadata": {
    "ExecuteTime": {
     "end_time": "2023-01-13T11:34:58.838507Z",
     "start_time": "2023-01-13T11:34:58.834603Z"
    }
   },
   "outputs": [],
   "source": [
    "stats_lists = {\n",
    "    model_num: {\n",
    "        vector_dim: {\n",
    "            covariance_type: {topic_num: dict() for topic_num in topic_nums}\n",
    "            for covariance_type in covariance_types\n",
    "        }\n",
    "        for vector_dim in vector_dims\n",
    "    }\n",
    "    for model_num in range(model_nums)\n",
    "}"
   ]
  },
  {
   "cell_type": "code",
   "execution_count": 52,
   "id": "8ff6c10b",
   "metadata": {
    "ExecuteTime": {
     "end_time": "2023-01-13T11:36:47.178883Z",
     "start_time": "2023-01-13T11:34:59.700989Z"
    },
    "code_folding": [],
    "scrolled": true
   },
   "outputs": [
    {
     "name": "stderr",
     "output_type": "stream",
     "text": [
      "100%|██████████| 10/10 [01:47<00:00, 10.75s/it]\n"
     ]
    }
   ],
   "source": [
    "for vector_model_num in range(vector_model_nums):\n",
    "    for model_num in tqdm(range(model_nums)):\n",
    "        for vector_dim in vector_dims:\n",
    "            for covariance_type in covariance_types:\n",
    "                for topic_num in topic_nums:\n",
    "                    vectors = np.load(\n",
    "                        f\"{vectors_path}/{vector_dim}/{normalization}/{vector_model_num}.npy\"\n",
    "                    )\n",
    "\n",
    "                    gmm = pickle.load(\n",
    "                        open(\n",
    "                            f\"{models_path}{vector_dim}/{normalization}/{covariance_type}/{topic_num}/{model_num}.sav\",\n",
    "                            \"rb\",\n",
    "                        )\n",
    "                    )\n",
    "                    value = gmm_value(gmm, vectors, label)\n",
    "                    pred, prob, dist, *stat = value.items()\n",
    "                    save_output(\n",
    "                        pred[1],\n",
    "                        f\"{pred_path}{vector_dim}/{normalization}/{covariance_type}/{topic_num}/{model_num}.npy\",\n",
    "                    )\n",
    "                    save_output(\n",
    "                        prob[1],\n",
    "                        f\"{prob_path}{vector_dim}/{normalization}/{covariance_type}/{topic_num}/{model_num}.npy\",\n",
    "                    )\n",
    "                    save_output(\n",
    "                        dist[1],\n",
    "                        f\"{dist_path}{vector_dim}/{normalization}/{covariance_type}/{topic_num}/{model_num}.npy\",\n",
    "                    )\n",
    "                    stats_lists[model_num][vector_dim][covariance_type][\n",
    "                        topic_num\n",
    "                    ] = dict(stat)"
   ]
  },
  {
   "cell_type": "code",
   "execution_count": 74,
   "id": "94f3c185",
   "metadata": {
    "ExecuteTime": {
     "end_time": "2023-01-14T09:24:40.775244Z",
     "start_time": "2023-01-14T09:24:40.522776Z"
    }
   },
   "outputs": [
    {
     "name": "stderr",
     "output_type": "stream",
     "text": [
      "100%|██████████| 10/10 [00:00<00:00, 40.82it/s]\n"
     ]
    }
   ],
   "source": [
    "for vector_model_num in range(vector_model_nums):\n",
    "    for model_num in tqdm(range(model_nums)):\n",
    "        for vector_dim in vector_dims:\n",
    "            for covariance_type in covariance_types:\n",
    "                for topic_num in topic_nums:\n",
    "                    _df = pd.DataFrame(\n",
    "                        stats_lists[model_num][vector_dim][covariance_type]\n",
    "                    )\n",
    "                    stats_df = pd.concat(\n",
    "                        {\n",
    "                            vector_dim: _df.loc[:, topic_num]\n",
    "                            for vector_dim in vector_dims\n",
    "                        },\n",
    "                        axis=1,\n",
    "                    ).T\n",
    "                    stats_path = f\"../data/{data_type}/{vectorize_type}/GMM/stats/{normalization}/{covariance_type}/{topic_num}/{model_num}.csv\"\n",
    "                    os.makedirs(os.path.dirname(stats_path), exist_ok=True)\n",
    "                    stats_df.to_csv(stats_path)"
   ]
  },
  {
   "cell_type": "code",
   "execution_count": null,
   "id": "458eb9fe",
   "metadata": {
    "ExecuteTime": {
     "end_time": "2023-01-13T11:33:18.145901Z",
     "start_time": "2023-01-13T11:33:18.145884Z"
    }
   },
   "outputs": [],
   "source": [
    "send_line_notify(f\"calcStats {data_type} {vectorize_type}\")"
   ]
  },
  {
   "cell_type": "code",
   "execution_count": null,
   "id": "e52c455a",
   "metadata": {
    "ExecuteTime": {
     "end_time": "2023-01-13T11:33:18.144670Z",
     "start_time": "2023-01-13T11:33:18.144651Z"
    },
    "code_folding": [],
    "deletable": false,
    "editable": false,
    "run_control": {
     "frozen": true
    }
   },
   "outputs": [],
   "source": [
    "for model_num in range(model_nums):\n",
    "    for covariance_type in covariance_types:\n",
    "        for topic_num in topic_nums:\n",
    "            stats_df = [\n",
    "                _df.loc[covariance_type, :]\n",
    "                for _df in [\n",
    "                    pd.DataFrame(stats_list, index=covariance_types)\n",
    "                    for stats_list in stats_lists[model_num]\n",
    "                ]\n",
    "            ]\n",
    "            stats_df = pd.concat(stats_df, axis=1).T\n",
    "            stats_df.index = vector_dims\n",
    "\n",
    "            stats_path = f\"../data/{data_type}/{vectorize_type}/GMM/stats/{normalization}/{covariance_type}/{topic_num}/{model_num}.csv\"\n",
    "            os.makedirs(os.path.dirname(stats_path), exist_ok=True)\n",
    "            stats_df.to_csv(stats_path)"
   ]
  },
  {
   "cell_type": "code",
   "execution_count": null,
   "id": "f19c72a7",
   "metadata": {},
   "outputs": [],
   "source": []
  }
 ],
 "metadata": {
  "kernelspec": {
   "display_name": "Python 3 (ipykernel)",
   "language": "python",
   "name": "python3"
  },
  "language_info": {
   "codemirror_mode": {
    "name": "ipython",
    "version": 3
   },
   "file_extension": ".py",
   "mimetype": "text/x-python",
   "name": "python",
   "nbconvert_exporter": "python",
   "pygments_lexer": "ipython3",
   "version": "3.10.8"
  },
  "toc": {
   "base_numbering": 1,
   "nav_menu": {},
   "number_sections": true,
   "sideBar": true,
   "skip_h1_title": false,
   "title_cell": "Table of Contents",
   "title_sidebar": "Contents",
   "toc_cell": false,
   "toc_position": {},
   "toc_section_display": true,
   "toc_window_display": false
  }
 },
 "nbformat": 4,
 "nbformat_minor": 5
}
