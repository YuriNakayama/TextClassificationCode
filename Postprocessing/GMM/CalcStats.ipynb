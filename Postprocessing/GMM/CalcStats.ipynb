{
 "cells": [
  {
   "cell_type": "markdown",
   "id": "b95f9187",
   "metadata": {},
   "source": [
    "# Import"
   ]
  },
  {
   "cell_type": "code",
   "execution_count": 15,
   "id": "80a85ab5",
   "metadata": {
    "ExecuteTime": {
     "end_time": "2022-12-20T05:16:13.916829Z",
     "start_time": "2022-12-20T05:16:13.909966Z"
    }
   },
   "outputs": [],
   "source": [
    "import csv\n",
    "import os\n",
    "import pickle\n",
    "import sys\n",
    "\n",
    "import numpy as np\n",
    "import pandas as pd\n",
    "from scipy import linalg, sparse\n",
    "from tqdm import tqdm\n",
    "from sklearn.mixture import GaussianMixture\n",
    "from sklearn.metrics import adjusted_mutual_info_score"
   ]
  },
  {
   "cell_type": "markdown",
   "id": "6f4f62bd",
   "metadata": {},
   "source": [
    "## Add configuration file"
   ]
  },
  {
   "cell_type": "code",
   "execution_count": 2,
   "id": "d5ff7059",
   "metadata": {
    "ExecuteTime": {
     "end_time": "2022-12-20T04:30:17.070507Z",
     "start_time": "2022-12-20T04:30:17.067400Z"
    }
   },
   "outputs": [],
   "source": [
    "sys.path.append(\"/home/jovyan/core/config/\")\n",
    "sys.path.append(\"/home/jovyan/core/util/\")\n",
    "sys.path.append(\"../Function/\")"
   ]
  },
  {
   "cell_type": "code",
   "execution_count": 3,
   "id": "157ce92a",
   "metadata": {
    "ExecuteTime": {
     "end_time": "2022-12-20T04:30:17.080190Z",
     "start_time": "2022-12-20T04:30:17.072460Z"
    }
   },
   "outputs": [],
   "source": [
    "from ALL import config \n",
    "from util import *\n",
    "from extmath import row_norms"
   ]
  },
  {
   "cell_type": "markdown",
   "id": "b07ac6af",
   "metadata": {},
   "source": [
    "## Set condition"
   ]
  },
  {
   "cell_type": "code",
   "execution_count": 4,
   "id": "9d870465",
   "metadata": {
    "ExecuteTime": {
     "end_time": "2022-12-20T04:30:17.126114Z",
     "start_time": "2022-12-20T04:30:17.122640Z"
    }
   },
   "outputs": [],
   "source": [
    "tqdm.pandas()\n",
    "pd.set_option(\"display.max_columns\", 100)\n",
    "pd.set_option(\"display.max_rows\", 50)"
   ]
  },
  {
   "cell_type": "code",
   "execution_count": 5,
   "id": "e9e9361c",
   "metadata": {
    "ExecuteTime": {
     "end_time": "2022-12-20T04:30:17.209419Z",
     "start_time": "2022-12-20T04:30:17.206430Z"
    }
   },
   "outputs": [],
   "source": [
    "data_type=\"20News\"\n",
    "vectorize_type = \"sentenceBERT\""
   ]
  },
  {
   "cell_type": "code",
   "execution_count": 6,
   "id": "fec767ee",
   "metadata": {
    "ExecuteTime": {
     "end_time": "2022-12-20T04:30:17.296392Z",
     "start_time": "2022-12-20T04:30:17.293192Z"
    }
   },
   "outputs": [],
   "source": [
    "vector_dims = config[\"vectorize\"][vectorize_type][\"dims\"]\n",
    "model_nums = config[\"clustering\"][\"gmm\"][\"max_model_num\"]\n",
    "vector_model_nums = config[\"vectorize\"][vectorize_type][\"max_model_num\"]\n",
    "covariance_types = config[\"clustering\"][\"gmm\"][\"covariance_types\"]"
   ]
  },
  {
   "cell_type": "markdown",
   "id": "52c60a4f",
   "metadata": {},
   "source": [
    "# Read data"
   ]
  },
  {
   "cell_type": "code",
   "execution_count": 7,
   "id": "c81d3638",
   "metadata": {
    "ExecuteTime": {
     "end_time": "2022-12-20T04:30:18.936558Z",
     "start_time": "2022-12-20T04:30:17.457939Z"
    },
    "scrolled": true
   },
   "outputs": [],
   "source": [
    "df = pd.read_csv(\n",
    "    f\"../../Preprocessing/data/{data_type}/master.csv\", index_col=0\n",
    ")"
   ]
  },
  {
   "cell_type": "code",
   "execution_count": 8,
   "id": "95389cd0",
   "metadata": {
    "ExecuteTime": {
     "end_time": "2022-12-20T04:30:18.942611Z",
     "start_time": "2022-12-20T04:30:18.939001Z"
    }
   },
   "outputs": [],
   "source": [
    "with open(f\"../../Preprocessing/data/{data_type}/class.csv\", mode=\"r\") as f:\n",
    "    reader = csv.reader(f)\n",
    "    class_labels = [label for label in reader]"
   ]
  },
  {
   "cell_type": "code",
   "execution_count": 9,
   "id": "2e2aae46",
   "metadata": {
    "ExecuteTime": {
     "end_time": "2022-12-20T04:30:18.948363Z",
     "start_time": "2022-12-20T04:30:18.944715Z"
    }
   },
   "outputs": [],
   "source": [
    "label = df[\"class\"].to_numpy()"
   ]
  },
  {
   "cell_type": "code",
   "execution_count": 10,
   "id": "6bbdf87a",
   "metadata": {
    "ExecuteTime": {
     "end_time": "2022-12-20T04:30:18.958566Z",
     "start_time": "2022-12-20T04:30:18.951369Z"
    },
    "code_folding": [
     0
    ]
   },
   "outputs": [],
   "source": [
    "def _estimate_maharanobis_dist(X, means, precisions_chol, covariance_type):\n",
    "    \"\"\"Estimate the log Gaussian probability.\n",
    "    Parameters\n",
    "    ----------\n",
    "    X : array-like of shape (n_samples, n_features)\n",
    "    means : array-like of shape (n_components, n_features)\n",
    "    precisions_chol : array-like\n",
    "        Cholesky decompositions of the precision matrices.\n",
    "        'full' : shape of (n_components, n_features, n_features)\n",
    "        'tied' : shape of (n_features, n_features)\n",
    "        'diag' : shape of (n_components, n_features)\n",
    "        'spherical' : shape of (n_components,)\n",
    "    covariance_type : {'full', 'tied', 'diag', 'spherical'}\n",
    "    Returns\n",
    "    -------\n",
    "    log_prob : array, shape (n_samples, n_components)\n",
    "    \"\"\"\n",
    "    n_samples, n_features = X.shape\n",
    "    n_components, _ = means.shape\n",
    "    \n",
    "    if covariance_type == \"full\":\n",
    "        log_prob = np.empty((n_samples, n_components))\n",
    "        for k, (mu, prec_chol) in enumerate(zip(means, precisions_chol)):\n",
    "            y = np.dot(X, prec_chol) - np.dot(mu, prec_chol)\n",
    "            log_prob[:, k] = np.sum(np.square(y), axis=1)\n",
    "\n",
    "    elif covariance_type == \"tied\":\n",
    "        log_prob = np.empty((n_samples, n_components))\n",
    "        for k, mu in enumerate(means):\n",
    "            y = np.dot(X, precisions_chol) - np.dot(mu, precisions_chol)\n",
    "            log_prob[:, k] = np.sum(np.square(y), axis=1)\n",
    "\n",
    "    elif covariance_type == \"diag\":\n",
    "        precisions = precisions_chol**2\n",
    "        log_prob = (\n",
    "            np.sum((means**2 * precisions), 1)\n",
    "            - 2.0 * np.dot(X, (means * precisions).T)\n",
    "            + np.dot(X**2, precisions.T)\n",
    "        )\n",
    "\n",
    "    elif covariance_type == \"spherical\":\n",
    "        precisions = precisions_chol**2\n",
    "        log_prob = (\n",
    "            np.sum(means**2, 1) * precisions\n",
    "            - 2 * np.dot(X, means.T * precisions)\n",
    "            + np.outer(row_norms(X, squared=True), precisions)\n",
    "        )\n",
    "    # Since we are using the precision of the Cholesky decomposition,\n",
    "    # `- 0.5 * log_det_precision` becomes `+ log_det_precision_chol`\n",
    "    return log_prob"
   ]
  },
  {
   "cell_type": "code",
   "execution_count": 11,
   "id": "11a9375e",
   "metadata": {
    "ExecuteTime": {
     "end_time": "2022-12-20T04:30:18.969093Z",
     "start_time": "2022-12-20T04:30:18.960309Z"
    },
    "code_folding": []
   },
   "outputs": [],
   "source": [
    "def gmm_value(gmm, vectors, label):\n",
    "    pred = gmm.predict(vectors)\n",
    "    prob = np.exp(gmm._estimate_weighted_log_prob(vectors))\n",
    "    dist = _estimate_maharanobis_dist(\n",
    "        vectors, gmm.means_, gmm.precisions_cholesky_, gmm.covariance_type\n",
    "    )\n",
    "    aic = gmm.aic(vectors)\n",
    "    bic = gmm.bic(vectors)\n",
    "    mi = adjusted_mutual_info_score(pred, label)\n",
    "    logl = gmm.score(vectors, label)\n",
    "    return {\n",
    "        \"pred\": pred,\n",
    "        \"prob\": prob,\n",
    "        \"dist\": dist,\n",
    "        \"aic\": aic,\n",
    "        \"bic\": bic,\n",
    "        \"mi\": mi,\n",
    "        \"logl\": logl,\n",
    "    }"
   ]
  },
  {
   "cell_type": "code",
   "execution_count": 12,
   "id": "eb41927d",
   "metadata": {
    "ExecuteTime": {
     "end_time": "2022-12-20T04:30:18.977092Z",
     "start_time": "2022-12-20T04:30:18.970842Z"
    }
   },
   "outputs": [],
   "source": [
    "def save_output(output, path):\n",
    "    # save prediction\n",
    "    os.makedirs(os.path.dirname(path), exist_ok=True)\n",
    "    np.save(path, output)"
   ]
  },
  {
   "cell_type": "code",
   "execution_count": null,
   "id": "8ff6c10b",
   "metadata": {
    "ExecuteTime": {
     "start_time": "2022-12-20T04:30:18.066Z"
    },
    "code_folding": [],
    "scrolled": true
   },
   "outputs": [
    {
     "name": "stderr",
     "output_type": "stream",
     "text": [
      "  0%|          | 0/30 [00:00<?, ?it/s]/tmp/ipykernel_193833/3184873368.py:3: RuntimeWarning: overflow encountered in exp\n",
      "  prob = np.exp(gmm._estimate_weighted_log_prob(vectors))\n",
      "/tmp/ipykernel_193833/3184873368.py:3: RuntimeWarning: overflow encountered in exp\n",
      "  prob = np.exp(gmm._estimate_weighted_log_prob(vectors))\n",
      "/tmp/ipykernel_193833/3184873368.py:3: RuntimeWarning: overflow encountered in exp\n",
      "  prob = np.exp(gmm._estimate_weighted_log_prob(vectors))\n",
      "  3%|▎         | 1/30 [00:31<15:01, 31.07s/it]/tmp/ipykernel_193833/3184873368.py:3: RuntimeWarning: overflow encountered in exp\n",
      "  prob = np.exp(gmm._estimate_weighted_log_prob(vectors))\n",
      "/tmp/ipykernel_193833/3184873368.py:3: RuntimeWarning: overflow encountered in exp\n",
      "  prob = np.exp(gmm._estimate_weighted_log_prob(vectors))\n",
      "/tmp/ipykernel_193833/3184873368.py:3: RuntimeWarning: overflow encountered in exp\n",
      "  prob = np.exp(gmm._estimate_weighted_log_prob(vectors))\n",
      "/tmp/ipykernel_193833/3184873368.py:3: RuntimeWarning: overflow encountered in exp\n",
      "  prob = np.exp(gmm._estimate_weighted_log_prob(vectors))\n",
      "  7%|▋         | 2/30 [01:13<17:34, 37.67s/it]/tmp/ipykernel_193833/3184873368.py:3: RuntimeWarning: overflow encountered in exp\n",
      "  prob = np.exp(gmm._estimate_weighted_log_prob(vectors))\n",
      "/tmp/ipykernel_193833/3184873368.py:3: RuntimeWarning: overflow encountered in exp\n",
      "  prob = np.exp(gmm._estimate_weighted_log_prob(vectors))\n",
      "/tmp/ipykernel_193833/3184873368.py:3: RuntimeWarning: overflow encountered in exp\n",
      "  prob = np.exp(gmm._estimate_weighted_log_prob(vectors))\n",
      " 10%|█         | 3/30 [01:56<17:59, 39.99s/it]/tmp/ipykernel_193833/3184873368.py:3: RuntimeWarning: overflow encountered in exp\n",
      "  prob = np.exp(gmm._estimate_weighted_log_prob(vectors))\n",
      "/tmp/ipykernel_193833/3184873368.py:3: RuntimeWarning: overflow encountered in exp\n",
      "  prob = np.exp(gmm._estimate_weighted_log_prob(vectors))\n",
      "/tmp/ipykernel_193833/3184873368.py:3: RuntimeWarning: overflow encountered in exp\n",
      "  prob = np.exp(gmm._estimate_weighted_log_prob(vectors))\n",
      " 13%|█▎        | 4/30 [02:37<17:33, 40.52s/it]/tmp/ipykernel_193833/3184873368.py:3: RuntimeWarning: overflow encountered in exp\n",
      "  prob = np.exp(gmm._estimate_weighted_log_prob(vectors))\n",
      "/tmp/ipykernel_193833/3184873368.py:3: RuntimeWarning: overflow encountered in exp\n",
      "  prob = np.exp(gmm._estimate_weighted_log_prob(vectors))\n",
      "/tmp/ipykernel_193833/3184873368.py:3: RuntimeWarning: overflow encountered in exp\n",
      "  prob = np.exp(gmm._estimate_weighted_log_prob(vectors))\n",
      " 17%|█▋        | 5/30 [03:20<17:11, 41.27s/it]/tmp/ipykernel_193833/3184873368.py:3: RuntimeWarning: overflow encountered in exp\n",
      "  prob = np.exp(gmm._estimate_weighted_log_prob(vectors))\n",
      "/tmp/ipykernel_193833/3184873368.py:3: RuntimeWarning: overflow encountered in exp\n",
      "  prob = np.exp(gmm._estimate_weighted_log_prob(vectors))\n",
      "/tmp/ipykernel_193833/3184873368.py:3: RuntimeWarning: overflow encountered in exp\n",
      "  prob = np.exp(gmm._estimate_weighted_log_prob(vectors))\n",
      " 20%|██        | 6/30 [04:02<16:39, 41.66s/it]/tmp/ipykernel_193833/3184873368.py:3: RuntimeWarning: overflow encountered in exp\n",
      "  prob = np.exp(gmm._estimate_weighted_log_prob(vectors))\n",
      "/tmp/ipykernel_193833/3184873368.py:3: RuntimeWarning: overflow encountered in exp\n",
      "  prob = np.exp(gmm._estimate_weighted_log_prob(vectors))\n",
      "/tmp/ipykernel_193833/3184873368.py:3: RuntimeWarning: overflow encountered in exp\n",
      "  prob = np.exp(gmm._estimate_weighted_log_prob(vectors))\n",
      " 23%|██▎       | 7/30 [04:45<16:07, 42.05s/it]/tmp/ipykernel_193833/3184873368.py:3: RuntimeWarning: overflow encountered in exp\n",
      "  prob = np.exp(gmm._estimate_weighted_log_prob(vectors))\n",
      "/tmp/ipykernel_193833/3184873368.py:3: RuntimeWarning: overflow encountered in exp\n",
      "  prob = np.exp(gmm._estimate_weighted_log_prob(vectors))\n",
      "/tmp/ipykernel_193833/3184873368.py:3: RuntimeWarning: overflow encountered in exp\n",
      "  prob = np.exp(gmm._estimate_weighted_log_prob(vectors))\n",
      " 27%|██▋       | 8/30 [05:28<15:31, 42.36s/it]/tmp/ipykernel_193833/3184873368.py:3: RuntimeWarning: overflow encountered in exp\n",
      "  prob = np.exp(gmm._estimate_weighted_log_prob(vectors))\n",
      "/tmp/ipykernel_193833/3184873368.py:3: RuntimeWarning: overflow encountered in exp\n",
      "  prob = np.exp(gmm._estimate_weighted_log_prob(vectors))\n",
      "/tmp/ipykernel_193833/3184873368.py:3: RuntimeWarning: overflow encountered in exp\n",
      "  prob = np.exp(gmm._estimate_weighted_log_prob(vectors))\n",
      " 30%|███       | 9/30 [06:12<14:58, 42.78s/it]/tmp/ipykernel_193833/3184873368.py:3: RuntimeWarning: overflow encountered in exp\n",
      "  prob = np.exp(gmm._estimate_weighted_log_prob(vectors))\n",
      "/tmp/ipykernel_193833/3184873368.py:3: RuntimeWarning: overflow encountered in exp\n",
      "  prob = np.exp(gmm._estimate_weighted_log_prob(vectors))\n",
      "/tmp/ipykernel_193833/3184873368.py:3: RuntimeWarning: overflow encountered in exp\n",
      "  prob = np.exp(gmm._estimate_weighted_log_prob(vectors))\n",
      "/tmp/ipykernel_193833/3184873368.py:3: RuntimeWarning: overflow encountered in exp\n",
      "  prob = np.exp(gmm._estimate_weighted_log_prob(vectors))\n",
      " 33%|███▎      | 10/30 [06:54<14:15, 42.80s/it]/tmp/ipykernel_193833/3184873368.py:3: RuntimeWarning: overflow encountered in exp\n",
      "  prob = np.exp(gmm._estimate_weighted_log_prob(vectors))\n",
      "/tmp/ipykernel_193833/3184873368.py:3: RuntimeWarning: overflow encountered in exp\n",
      "  prob = np.exp(gmm._estimate_weighted_log_prob(vectors))\n",
      "/tmp/ipykernel_193833/3184873368.py:3: RuntimeWarning: overflow encountered in exp\n",
      "  prob = np.exp(gmm._estimate_weighted_log_prob(vectors))\n",
      " 37%|███▋      | 11/30 [07:37<13:33, 42.83s/it]/tmp/ipykernel_193833/3184873368.py:3: RuntimeWarning: overflow encountered in exp\n",
      "  prob = np.exp(gmm._estimate_weighted_log_prob(vectors))\n",
      "/tmp/ipykernel_193833/3184873368.py:3: RuntimeWarning: overflow encountered in exp\n",
      "  prob = np.exp(gmm._estimate_weighted_log_prob(vectors))\n",
      "/tmp/ipykernel_193833/3184873368.py:3: RuntimeWarning: overflow encountered in exp\n",
      "  prob = np.exp(gmm._estimate_weighted_log_prob(vectors))\n",
      "/tmp/ipykernel_193833/3184873368.py:3: RuntimeWarning: overflow encountered in exp\n",
      "  prob = np.exp(gmm._estimate_weighted_log_prob(vectors))\n",
      "/tmp/ipykernel_193833/3184873368.py:3: RuntimeWarning: overflow encountered in exp\n",
      "  prob = np.exp(gmm._estimate_weighted_log_prob(vectors))\n",
      " 50%|█████     | 15/30 [10:29<10:43, 42.88s/it]/tmp/ipykernel_193833/3184873368.py:3: RuntimeWarning: overflow encountered in exp\n",
      "  prob = np.exp(gmm._estimate_weighted_log_prob(vectors))\n",
      "/tmp/ipykernel_193833/3184873368.py:3: RuntimeWarning: overflow encountered in exp\n",
      "  prob = np.exp(gmm._estimate_weighted_log_prob(vectors))\n",
      "/tmp/ipykernel_193833/3184873368.py:3: RuntimeWarning: overflow encountered in exp\n",
      "  prob = np.exp(gmm._estimate_weighted_log_prob(vectors))\n",
      " 53%|█████▎    | 16/30 [11:10<09:53, 42.38s/it]/tmp/ipykernel_193833/3184873368.py:3: RuntimeWarning: overflow encountered in exp\n",
      "  prob = np.exp(gmm._estimate_weighted_log_prob(vectors))\n",
      "/tmp/ipykernel_193833/3184873368.py:3: RuntimeWarning: overflow encountered in exp\n",
      "  prob = np.exp(gmm._estimate_weighted_log_prob(vectors))\n",
      "/tmp/ipykernel_193833/3184873368.py:3: RuntimeWarning: overflow encountered in exp\n",
      "  prob = np.exp(gmm._estimate_weighted_log_prob(vectors))\n",
      " 57%|█████▋    | 17/30 [11:54<09:19, 43.03s/it]/tmp/ipykernel_193833/3184873368.py:3: RuntimeWarning: overflow encountered in exp\n",
      "  prob = np.exp(gmm._estimate_weighted_log_prob(vectors))\n",
      "/tmp/ipykernel_193833/3184873368.py:3: RuntimeWarning: overflow encountered in exp\n",
      "  prob = np.exp(gmm._estimate_weighted_log_prob(vectors))\n",
      "/tmp/ipykernel_193833/3184873368.py:3: RuntimeWarning: overflow encountered in exp\n",
      "  prob = np.exp(gmm._estimate_weighted_log_prob(vectors))\n",
      " 67%|██████▋   | 20/30 [14:05<07:11, 43.19s/it]/tmp/ipykernel_193833/3184873368.py:3: RuntimeWarning: overflow encountered in exp\n",
      "  prob = np.exp(gmm._estimate_weighted_log_prob(vectors))\n",
      "/tmp/ipykernel_193833/3184873368.py:3: RuntimeWarning: overflow encountered in exp\n",
      "  prob = np.exp(gmm._estimate_weighted_log_prob(vectors))\n",
      "/tmp/ipykernel_193833/3184873368.py:3: RuntimeWarning: overflow encountered in exp\n",
      "  prob = np.exp(gmm._estimate_weighted_log_prob(vectors))\n",
      " 70%|███████   | 21/30 [14:49<06:30, 43.42s/it]/tmp/ipykernel_193833/3184873368.py:3: RuntimeWarning: overflow encountered in exp\n",
      "  prob = np.exp(gmm._estimate_weighted_log_prob(vectors))\n"
     ]
    },
    {
     "name": "stderr",
     "output_type": "stream",
     "text": [
      "/tmp/ipykernel_193833/3184873368.py:3: RuntimeWarning: overflow encountered in exp\n",
      "  prob = np.exp(gmm._estimate_weighted_log_prob(vectors))\n",
      "/tmp/ipykernel_193833/3184873368.py:3: RuntimeWarning: overflow encountered in exp\n",
      "  prob = np.exp(gmm._estimate_weighted_log_prob(vectors))\n",
      " 73%|███████▎  | 22/30 [15:32<05:47, 43.39s/it]/tmp/ipykernel_193833/3184873368.py:3: RuntimeWarning: overflow encountered in exp\n",
      "  prob = np.exp(gmm._estimate_weighted_log_prob(vectors))\n",
      "/tmp/ipykernel_193833/3184873368.py:3: RuntimeWarning: overflow encountered in exp\n",
      "  prob = np.exp(gmm._estimate_weighted_log_prob(vectors))\n",
      "/tmp/ipykernel_193833/3184873368.py:3: RuntimeWarning: overflow encountered in exp\n",
      "  prob = np.exp(gmm._estimate_weighted_log_prob(vectors))\n",
      " 77%|███████▋  | 23/30 [16:16<05:04, 43.46s/it]/tmp/ipykernel_193833/3184873368.py:3: RuntimeWarning: overflow encountered in exp\n",
      "  prob = np.exp(gmm._estimate_weighted_log_prob(vectors))\n",
      "/tmp/ipykernel_193833/3184873368.py:3: RuntimeWarning: overflow encountered in exp\n",
      "  prob = np.exp(gmm._estimate_weighted_log_prob(vectors))\n",
      "/tmp/ipykernel_193833/3184873368.py:3: RuntimeWarning: overflow encountered in exp\n",
      "  prob = np.exp(gmm._estimate_weighted_log_prob(vectors))\n",
      " 80%|████████  | 24/30 [17:00<04:21, 43.52s/it]/tmp/ipykernel_193833/3184873368.py:3: RuntimeWarning: overflow encountered in exp\n",
      "  prob = np.exp(gmm._estimate_weighted_log_prob(vectors))\n",
      "/tmp/ipykernel_193833/3184873368.py:3: RuntimeWarning: overflow encountered in exp\n",
      "  prob = np.exp(gmm._estimate_weighted_log_prob(vectors))\n",
      "/tmp/ipykernel_193833/3184873368.py:3: RuntimeWarning: overflow encountered in exp\n",
      "  prob = np.exp(gmm._estimate_weighted_log_prob(vectors))\n",
      " 83%|████████▎ | 25/30 [17:42<03:36, 43.25s/it]/tmp/ipykernel_193833/3184873368.py:3: RuntimeWarning: overflow encountered in exp\n",
      "  prob = np.exp(gmm._estimate_weighted_log_prob(vectors))\n",
      "/tmp/ipykernel_193833/3184873368.py:3: RuntimeWarning: overflow encountered in exp\n",
      "  prob = np.exp(gmm._estimate_weighted_log_prob(vectors))\n",
      "/tmp/ipykernel_193833/3184873368.py:3: RuntimeWarning: overflow encountered in exp\n",
      "  prob = np.exp(gmm._estimate_weighted_log_prob(vectors))\n",
      " 87%|████████▋ | 26/30 [18:25<02:52, 43.08s/it]/tmp/ipykernel_193833/3184873368.py:3: RuntimeWarning: overflow encountered in exp\n",
      "  prob = np.exp(gmm._estimate_weighted_log_prob(vectors))\n",
      "/tmp/ipykernel_193833/3184873368.py:3: RuntimeWarning: overflow encountered in exp\n",
      "  prob = np.exp(gmm._estimate_weighted_log_prob(vectors))\n",
      "/tmp/ipykernel_193833/3184873368.py:3: RuntimeWarning: overflow encountered in exp\n",
      "  prob = np.exp(gmm._estimate_weighted_log_prob(vectors))\n",
      " 90%|█████████ | 27/30 [19:07<02:08, 42.76s/it]/tmp/ipykernel_193833/3184873368.py:3: RuntimeWarning: overflow encountered in exp\n",
      "  prob = np.exp(gmm._estimate_weighted_log_prob(vectors))\n",
      "/tmp/ipykernel_193833/3184873368.py:3: RuntimeWarning: overflow encountered in exp\n",
      "  prob = np.exp(gmm._estimate_weighted_log_prob(vectors))\n",
      "/tmp/ipykernel_193833/3184873368.py:3: RuntimeWarning: overflow encountered in exp\n",
      "  prob = np.exp(gmm._estimate_weighted_log_prob(vectors))\n",
      " 93%|█████████▎| 28/30 [19:50<01:25, 42.99s/it]/tmp/ipykernel_193833/3184873368.py:3: RuntimeWarning: overflow encountered in exp\n",
      "  prob = np.exp(gmm._estimate_weighted_log_prob(vectors))\n",
      "/tmp/ipykernel_193833/3184873368.py:3: RuntimeWarning: overflow encountered in exp\n",
      "  prob = np.exp(gmm._estimate_weighted_log_prob(vectors))\n"
     ]
    }
   ],
   "source": [
    "vectors_path = f\"../../Clustering/data/{data_type}/{vectorize_type}/vector\"\n",
    "models_path = f\"../../Clustering/data/{data_type}/{vectorize_type}/GMM/model/\"\n",
    "pred_path = f\"../../Clustering/data/{data_type}/{vectorize_type}/GMM/pred/\"\n",
    "prob_path = f\"../../Clustering/data/{data_type}/{vectorize_type}/GMM/prob/\"\n",
    "dist_path = f\"../../Clustering/data/{data_type}/{vectorize_type}/GMM/dist/\"\n",
    "stats_lists = []\n",
    "\n",
    "for vector_model_num in range(vector_model_nums):\n",
    "    for model_num in tqdm(range(model_nums)):\n",
    "        stats_list = []\n",
    "        for vector_dim in vector_dims:\n",
    "            stats = []\n",
    "            for covariance_type in covariance_types:\n",
    "                vectors = np.load(\n",
    "                    f\"{vectors_path}/{vector_dim}/normalized/{vector_model_num}.npy\"\n",
    "                )\n",
    "\n",
    "                gmm = pickle.load(\n",
    "                    open(\n",
    "                        f\"{models_path}{vector_dim}/{covariance_type}/{model_num}.sav\", \"rb\"\n",
    "                    )\n",
    "                )\n",
    "                value = gmm_value(gmm, vectors, label)\n",
    "                pred, prob, dist, *stat = value.items()\n",
    "                save_output(\n",
    "                    pred[1], f\"{pred_path}{vector_dim}/{covariance_type}/{model_num}.npy\"\n",
    "                )\n",
    "                save_output(\n",
    "                    prob[1], f\"{prob_path}{vector_dim}/{covariance_type}/{model_num}.npy\"\n",
    "                )\n",
    "                save_output(\n",
    "                    dist[1], f\"{dist_path}{vector_dim}/{covariance_type}/{model_num}.npy\"\n",
    "                )\n",
    "                stats.append(dict(stat))\n",
    "            stats_list.append(stats)\n",
    "        stats_lists.append(stats_list)"
   ]
  },
  {
   "cell_type": "code",
   "execution_count": null,
   "id": "e52c455a",
   "metadata": {
    "ExecuteTime": {
     "start_time": "2022-12-20T04:30:18.772Z"
    }
   },
   "outputs": [],
   "source": [
    "for model_num in range(model_nums):\n",
    "    for covariance_type in covariance_types:\n",
    "        stats_df = [\n",
    "            _df.loc[covariance_type, :]\n",
    "            for _df in [\n",
    "                pd.DataFrame(stats_list, index=covariance_types)\n",
    "                for stats_list in stats_lists[model_num]\n",
    "            ]\n",
    "        ]\n",
    "        stats_df = pd.concat(stats_df, axis=1).T\n",
    "        stats_df.index = vector_dims\n",
    "\n",
    "        \n",
    "        stats_path = f\"../data/{data_type}/{vectorize_type}/GMM/stats/{covariance_type}/{model_num}.csv\"\n",
    "        os.makedirs(os.path.dirname(stats_path), exist_ok=True)\n",
    "        stats_df.to_csv(stats_path)"
   ]
  },
  {
   "cell_type": "code",
   "execution_count": null,
   "id": "458eb9fe",
   "metadata": {},
   "outputs": [],
   "source": []
  },
  {
   "cell_type": "code",
   "execution_count": null,
   "id": "468fd50a",
   "metadata": {},
   "outputs": [],
   "source": []
  },
  {
   "cell_type": "code",
   "execution_count": null,
   "id": "8232a785",
   "metadata": {},
   "outputs": [],
   "source": []
  }
 ],
 "metadata": {
  "kernelspec": {
   "display_name": "Python 3 (ipykernel)",
   "language": "python",
   "name": "python3"
  },
  "language_info": {
   "codemirror_mode": {
    "name": "ipython",
    "version": 3
   },
   "file_extension": ".py",
   "mimetype": "text/x-python",
   "name": "python",
   "nbconvert_exporter": "python",
   "pygments_lexer": "ipython3",
   "version": "3.10.8"
  },
  "toc": {
   "base_numbering": 1,
   "nav_menu": {},
   "number_sections": true,
   "sideBar": true,
   "skip_h1_title": false,
   "title_cell": "Table of Contents",
   "title_sidebar": "Contents",
   "toc_cell": false,
   "toc_position": {},
   "toc_section_display": true,
   "toc_window_display": false
  }
 },
 "nbformat": 4,
 "nbformat_minor": 5
}
