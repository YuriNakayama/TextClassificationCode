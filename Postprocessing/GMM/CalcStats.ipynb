{
 "cells": [
  {
   "cell_type": "markdown",
   "id": "b95f9187",
   "metadata": {},
   "source": [
    "# Import"
   ]
  },
  {
   "cell_type": "code",
   "execution_count": 15,
   "id": "80a85ab5",
   "metadata": {
    "ExecuteTime": {
     "end_time": "2022-12-19T04:32:28.435112Z",
     "start_time": "2022-12-19T04:32:28.431085Z"
    }
   },
   "outputs": [],
   "source": [
    "import csv\n",
    "import os\n",
    "import pickle\n",
    "import sys\n",
    "\n",
    "import numpy as np\n",
    "import pandas as pd\n",
    "from scipy import linalg, sparse\n",
    "from tqdm import tqdm\n",
    "from sklearn.mixture import GaussianMixture\n",
    "from sklearn.metrics import adjusted_mutual_info_score"
   ]
  },
  {
   "cell_type": "markdown",
   "id": "6f4f62bd",
   "metadata": {},
   "source": [
    "## Add configuration file"
   ]
  },
  {
   "cell_type": "code",
   "execution_count": 16,
   "id": "d5ff7059",
   "metadata": {
    "ExecuteTime": {
     "end_time": "2022-12-19T04:32:28.855314Z",
     "start_time": "2022-12-19T04:32:28.851843Z"
    }
   },
   "outputs": [],
   "source": [
    "sys.path.append(\"/home/jovyan/core/config/\")\n",
    "sys.path.append(\"/home/jovyan/core/util/\")\n",
    "sys.path.append(\"../Function/\")"
   ]
  },
  {
   "cell_type": "code",
   "execution_count": 17,
   "id": "157ce92a",
   "metadata": {
    "ExecuteTime": {
     "end_time": "2022-12-19T04:32:29.047024Z",
     "start_time": "2022-12-19T04:32:29.043873Z"
    }
   },
   "outputs": [],
   "source": [
    "from ALL import config \n",
    "from util import *\n",
    "from extmath import row_norms"
   ]
  },
  {
   "cell_type": "markdown",
   "id": "b07ac6af",
   "metadata": {},
   "source": [
    "## Set condition"
   ]
  },
  {
   "cell_type": "code",
   "execution_count": 18,
   "id": "9d870465",
   "metadata": {
    "ExecuteTime": {
     "end_time": "2022-12-19T04:32:29.097420Z",
     "start_time": "2022-12-19T04:32:29.094028Z"
    }
   },
   "outputs": [],
   "source": [
    "tqdm.pandas()\n",
    "pd.set_option(\"display.max_columns\", 100)\n",
    "pd.set_option(\"display.max_rows\", 50)"
   ]
  },
  {
   "cell_type": "code",
   "execution_count": 19,
   "id": "16c2840f",
   "metadata": {
    "ExecuteTime": {
     "end_time": "2022-12-19T04:32:29.207151Z",
     "start_time": "2022-12-19T04:32:29.204254Z"
    }
   },
   "outputs": [],
   "source": [
    "data_type=\"AgNewsTitle\"\n",
    "vectorize_type = \"doc2vec\""
   ]
  },
  {
   "cell_type": "code",
   "execution_count": 20,
   "id": "fec767ee",
   "metadata": {
    "ExecuteTime": {
     "end_time": "2022-12-19T04:32:29.261238Z",
     "start_time": "2022-12-19T04:32:29.257987Z"
    }
   },
   "outputs": [],
   "source": [
    "vector_dims = config[\"vectorize\"][vectorize_type][\"dims\"]\n",
    "model_nums = config[\"clustering\"][\"gmm\"][\"max_model_num\"]\n",
    "vector_model_nums = config[\"vectorize\"][vectorize_type][\"max_model_num\"]\n",
    "covariance_types = config[\"clustering\"][\"gmm\"][\"covariance_types\"]"
   ]
  },
  {
   "cell_type": "markdown",
   "id": "52c60a4f",
   "metadata": {},
   "source": [
    "# Read data"
   ]
  },
  {
   "cell_type": "code",
   "execution_count": 21,
   "id": "c81d3638",
   "metadata": {
    "ExecuteTime": {
     "end_time": "2022-12-19T04:32:30.050597Z",
     "start_time": "2022-12-19T04:32:29.453008Z"
    },
    "scrolled": true
   },
   "outputs": [],
   "source": [
    "df = pd.read_csv(\n",
    "    f\"../../Preprocessing/data/{data_type}/master.csv\", index_col=0\n",
    ")"
   ]
  },
  {
   "cell_type": "code",
   "execution_count": 22,
   "id": "95389cd0",
   "metadata": {
    "ExecuteTime": {
     "end_time": "2022-12-19T04:32:30.056724Z",
     "start_time": "2022-12-19T04:32:30.053072Z"
    }
   },
   "outputs": [],
   "source": [
    "with open(f\"../../Preprocessing/data/{data_type}/class.csv\", mode=\"r\") as f:\n",
    "    reader = csv.reader(f)\n",
    "    class_labels = [label for label in reader]"
   ]
  },
  {
   "cell_type": "code",
   "execution_count": 23,
   "id": "1422af78",
   "metadata": {
    "ExecuteTime": {
     "end_time": "2022-12-19T04:32:30.065990Z",
     "start_time": "2022-12-19T04:32:30.058455Z"
    }
   },
   "outputs": [],
   "source": [
    "label = df[\"class\"].to_numpy()"
   ]
  },
  {
   "cell_type": "code",
   "execution_count": 24,
   "id": "6bbdf87a",
   "metadata": {
    "ExecuteTime": {
     "end_time": "2022-12-19T04:32:30.076373Z",
     "start_time": "2022-12-19T04:32:30.068899Z"
    },
    "code_folding": [
     0
    ]
   },
   "outputs": [],
   "source": [
    "def _estimate_maharanobis_dist(X, means, precisions_chol, covariance_type):\n",
    "    \"\"\"Estimate the log Gaussian probability.\n",
    "    Parameters\n",
    "    ----------\n",
    "    X : array-like of shape (n_samples, n_features)\n",
    "    means : array-like of shape (n_components, n_features)\n",
    "    precisions_chol : array-like\n",
    "        Cholesky decompositions of the precision matrices.\n",
    "        'full' : shape of (n_components, n_features, n_features)\n",
    "        'tied' : shape of (n_features, n_features)\n",
    "        'diag' : shape of (n_components, n_features)\n",
    "        'spherical' : shape of (n_components,)\n",
    "    covariance_type : {'full', 'tied', 'diag', 'spherical'}\n",
    "    Returns\n",
    "    -------\n",
    "    log_prob : array, shape (n_samples, n_components)\n",
    "    \"\"\"\n",
    "    n_samples, n_features = X.shape\n",
    "    n_components, _ = means.shape\n",
    "    \n",
    "    if covariance_type == \"full\":\n",
    "        log_prob = np.empty((n_samples, n_components))\n",
    "        for k, (mu, prec_chol) in enumerate(zip(means, precisions_chol)):\n",
    "            y = np.dot(X, prec_chol) - np.dot(mu, prec_chol)\n",
    "            log_prob[:, k] = np.sum(np.square(y), axis=1)\n",
    "\n",
    "    elif covariance_type == \"tied\":\n",
    "        log_prob = np.empty((n_samples, n_components))\n",
    "        for k, mu in enumerate(means):\n",
    "            y = np.dot(X, precisions_chol) - np.dot(mu, precisions_chol)\n",
    "            log_prob[:, k] = np.sum(np.square(y), axis=1)\n",
    "\n",
    "    elif covariance_type == \"diag\":\n",
    "        precisions = precisions_chol**2\n",
    "        log_prob = (\n",
    "            np.sum((means**2 * precisions), 1)\n",
    "            - 2.0 * np.dot(X, (means * precisions).T)\n",
    "            + np.dot(X**2, precisions.T)\n",
    "        )\n",
    "\n",
    "    elif covariance_type == \"spherical\":\n",
    "        precisions = precisions_chol**2\n",
    "        log_prob = (\n",
    "            np.sum(means**2, 1) * precisions\n",
    "            - 2 * np.dot(X, means.T * precisions)\n",
    "            + np.outer(row_norms(X, squared=True), precisions)\n",
    "        )\n",
    "    # Since we are using the precision of the Cholesky decomposition,\n",
    "    # `- 0.5 * log_det_precision` becomes `+ log_det_precision_chol`\n",
    "    return log_prob"
   ]
  },
  {
   "cell_type": "code",
   "execution_count": 25,
   "id": "11a9375e",
   "metadata": {
    "ExecuteTime": {
     "end_time": "2022-12-19T04:32:30.086619Z",
     "start_time": "2022-12-19T04:32:30.078115Z"
    },
    "code_folding": []
   },
   "outputs": [],
   "source": [
    "def gmm_value(gmm, vectors, label):\n",
    "    pred = gmm.predict(vectors)\n",
    "    prob = np.exp(gmm._estimate_weighted_log_prob(vectors))\n",
    "    dist = _estimate_maharanobis_dist(\n",
    "        vectors, gmm.means_, gmm.precisions_cholesky_, gmm.covariance_type\n",
    "    )\n",
    "    aic = gmm.aic(vectors)\n",
    "    bic = gmm.bic(vectors)\n",
    "    mi = adjusted_mutual_info_score(pred, label)\n",
    "    logl = gmm.score(vectors, label)\n",
    "    return {\n",
    "        \"pred\": pred,\n",
    "        \"prob\": prob,\n",
    "        \"dist\": dist,\n",
    "        \"aic\": aic,\n",
    "        \"bic\": bic,\n",
    "        \"mi\": mi,\n",
    "        \"logl\": logl,\n",
    "    }"
   ]
  },
  {
   "cell_type": "code",
   "execution_count": 26,
   "id": "eb41927d",
   "metadata": {
    "ExecuteTime": {
     "end_time": "2022-12-19T04:32:30.095759Z",
     "start_time": "2022-12-19T04:32:30.088370Z"
    }
   },
   "outputs": [],
   "source": [
    "def save_output(output, path):\n",
    "    # save prediction\n",
    "    os.makedirs(os.path.dirname(path), exist_ok=True)\n",
    "    np.save(path, output)"
   ]
  },
  {
   "cell_type": "code",
   "execution_count": null,
   "id": "8ff6c10b",
   "metadata": {
    "ExecuteTime": {
     "start_time": "2022-12-19T04:32:29.882Z"
    },
    "code_folding": []
   },
   "outputs": [
    {
     "name": "stderr",
     "output_type": "stream",
     "text": [
      " 27%|██▋       | 8/30 [06:42<20:48, 56.77s/it]"
     ]
    }
   ],
   "source": [
    "vectors_path = f\"../../Clustering/data/{data_type}/{vectorize_type}/vector\"\n",
    "models_path = f\"../../Clustering/data/{data_type}/{vectorize_type}/GMM/model/\"\n",
    "pred_path = f\"../../Clustering/data/{data_type}/{vectorize_type}/GMM/pred/\"\n",
    "prob_path = f\"../../Clustering/data/{data_type}/{vectorize_type}/GMM/prob/\"\n",
    "dist_path = f\"../../Clustering/data/{data_type}/{vectorize_type}/GMM/dist/\"\n",
    "stats_lists = []\n",
    "for vector_model_num in range(vector_model_nums):\n",
    "    for model_num in tqdm(range(model_nums)):\n",
    "        stats_list = []\n",
    "        for vector_dim in vector_dims:\n",
    "            stats = []\n",
    "            for covariance_type in covariance_types:\n",
    "                vectors = np.load(\n",
    "                    f\"{vectors_path}/{vector_dim}/normalized/{vector_model_num}.npy\"\n",
    "                )\n",
    "\n",
    "                gmm = pickle.load(\n",
    "                    open(\n",
    "                        f\"{models_path}{vector_dim}/{covariance_type}/{model_num}.sav\", \"rb\"\n",
    "                    )\n",
    "                )\n",
    "                value = gmm_value(gmm, vectors, label)\n",
    "                pred, prob, dist, *stat = value.items()\n",
    "                save_output(\n",
    "                    pred[1], f\"{pred_path}{vector_dim}/{covariance_type}/{model_num}.npy\"\n",
    "                )\n",
    "                save_output(\n",
    "                    prob[1], f\"{prob_path}{vector_dim}/{covariance_type}/{model_num}.npy\"\n",
    "                )\n",
    "                save_output(\n",
    "                    dist[1], f\"{dist_path}{vector_dim}/{covariance_type}/{model_num}.npy\"\n",
    "                )\n",
    "                stats.append(dict(stat))\n",
    "            stats_list.append(stats)\n",
    "        stats_lists.append(stats_list)"
   ]
  },
  {
   "cell_type": "code",
   "execution_count": null,
   "id": "e52c455a",
   "metadata": {
    "ExecuteTime": {
     "start_time": "2022-12-19T04:32:29.964Z"
    }
   },
   "outputs": [],
   "source": [
    "for model_num in range(model_nums):\n",
    "    for covariance_type in covariance_types:\n",
    "        stats_df = [\n",
    "            _df.loc[covariance_type, :]\n",
    "            for _df in [\n",
    "                pd.DataFrame(stats_list, index=covariance_types)\n",
    "                for stats_list in stats_lists[model_num]\n",
    "            ]\n",
    "        ]\n",
    "        stats_df = pd.concat(stats_df, axis=1).T\n",
    "        stats_df.index = vector_dims\n",
    "\n",
    "        \n",
    "        stats_path = f\"../data/{data_type}/{vectorize_type}/GMM/stats/{covariance_type}/{model_num}.csv\"\n",
    "        os.makedirs(os.path.dirname(stats_path), exist_ok=True)\n",
    "        stats_df.to_csv(stats_path)"
   ]
  },
  {
   "cell_type": "code",
   "execution_count": null,
   "id": "458eb9fe",
   "metadata": {},
   "outputs": [],
   "source": []
  },
  {
   "cell_type": "code",
   "execution_count": null,
   "id": "468fd50a",
   "metadata": {},
   "outputs": [],
   "source": []
  },
  {
   "cell_type": "code",
   "execution_count": null,
   "id": "8232a785",
   "metadata": {},
   "outputs": [],
   "source": []
  }
 ],
 "metadata": {
  "kernelspec": {
   "display_name": "Python 3 (ipykernel)",
   "language": "python",
   "name": "python3"
  },
  "language_info": {
   "codemirror_mode": {
    "name": "ipython",
    "version": 3
   },
   "file_extension": ".py",
   "mimetype": "text/x-python",
   "name": "python",
   "nbconvert_exporter": "python",
   "pygments_lexer": "ipython3",
   "version": "3.10.8"
  },
  "toc": {
   "base_numbering": 1,
   "nav_menu": {},
   "number_sections": true,
   "sideBar": true,
   "skip_h1_title": false,
   "title_cell": "Table of Contents",
   "title_sidebar": "Contents",
   "toc_cell": false,
   "toc_position": {},
   "toc_section_display": true,
   "toc_window_display": false
  }
 },
 "nbformat": 4,
 "nbformat_minor": 5
}
