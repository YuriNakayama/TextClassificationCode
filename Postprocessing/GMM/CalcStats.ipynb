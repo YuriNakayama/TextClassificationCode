{
 "cells": [
  {
   "cell_type": "markdown",
   "id": "b95f9187",
   "metadata": {},
   "source": [
    "# Import"
   ]
  },
  {
   "cell_type": "code",
   "execution_count": 1,
   "id": "80a85ab5",
   "metadata": {
    "ExecuteTime": {
     "end_time": "2022-12-18T13:40:51.282215Z",
     "start_time": "2022-12-18T13:40:50.525463Z"
    }
   },
   "outputs": [],
   "source": [
    "import csv\n",
    "import os\n",
    "import pickle\n",
    "import sys\n",
    "\n",
    "import numpy as np\n",
    "import pandas as pd\n",
    "from scipy import linalg, sparse\n",
    "from tqdm import tqdm\n",
    "from sklearn.mixture import GaussianMixture\n",
    "from sklearn.metrics import adjusted_mutual_info_score"
   ]
  },
  {
   "cell_type": "markdown",
   "id": "6f4f62bd",
   "metadata": {},
   "source": [
    "## Add configuration file"
   ]
  },
  {
   "cell_type": "code",
   "execution_count": 2,
   "id": "d5ff7059",
   "metadata": {
    "ExecuteTime": {
     "end_time": "2022-12-18T13:40:52.831082Z",
     "start_time": "2022-12-18T13:40:52.827988Z"
    }
   },
   "outputs": [],
   "source": [
    "sys.path.append(\"/home/jovyan/core/config/\")\n",
    "sys.path.append(\"/home/jovyan/core/util/\")\n",
    "sys.path.append(\"../Function/\")"
   ]
  },
  {
   "cell_type": "code",
   "execution_count": 3,
   "id": "157ce92a",
   "metadata": {
    "ExecuteTime": {
     "end_time": "2022-12-18T13:40:53.026137Z",
     "start_time": "2022-12-18T13:40:53.022036Z"
    }
   },
   "outputs": [],
   "source": [
    "from ALL import config \n",
    "from util import *\n",
    "from extmath import row_norms"
   ]
  },
  {
   "cell_type": "markdown",
   "id": "b07ac6af",
   "metadata": {},
   "source": [
    "## Set condition"
   ]
  },
  {
   "cell_type": "code",
   "execution_count": 4,
   "id": "9d870465",
   "metadata": {
    "ExecuteTime": {
     "end_time": "2022-12-18T13:40:53.356769Z",
     "start_time": "2022-12-18T13:40:53.352923Z"
    }
   },
   "outputs": [],
   "source": [
    "tqdm.pandas()\n",
    "pd.set_option(\"display.max_columns\", 100)\n",
    "pd.set_option(\"display.max_rows\", 50)"
   ]
  },
  {
   "cell_type": "code",
   "execution_count": 5,
   "id": "a294299b",
   "metadata": {
    "ExecuteTime": {
     "end_time": "2022-12-18T13:40:53.577651Z",
     "start_time": "2022-12-18T13:40:53.574749Z"
    }
   },
   "outputs": [],
   "source": [
    "data_type=\"AgNews\"\n",
    "vectorize_type = \"sentenceBERT\""
   ]
  },
  {
   "cell_type": "markdown",
   "id": "52c60a4f",
   "metadata": {},
   "source": [
    "# Read data"
   ]
  },
  {
   "cell_type": "code",
   "execution_count": 6,
   "id": "fec767ee",
   "metadata": {
    "ExecuteTime": {
     "end_time": "2022-12-18T13:40:53.966626Z",
     "start_time": "2022-12-18T13:40:53.962108Z"
    }
   },
   "outputs": [],
   "source": [
    "vector_dims = config[\"vectorize\"][vectorize_type][\"dims\"]\n",
    "model_nums = config[\"clustering\"][\"gmm\"][\"max_model_num\"]\n",
    "vector_model_nums = config[\"vectorize\"][vectorize_type][\"max_model_num\"]\n",
    "covariance_types = config[\"clustering\"][\"gmm\"][\"covariance_types\"]"
   ]
  },
  {
   "cell_type": "code",
   "execution_count": 7,
   "id": "6bbdf87a",
   "metadata": {
    "ExecuteTime": {
     "end_time": "2022-12-18T13:40:55.008669Z",
     "start_time": "2022-12-18T13:40:55.001029Z"
    },
    "code_folding": [
     0
    ]
   },
   "outputs": [],
   "source": [
    "def _estimate_maharanobis_dist(X, means, precisions_chol, covariance_type):\n",
    "    \"\"\"Estimate the log Gaussian probability.\n",
    "    Parameters\n",
    "    ----------\n",
    "    X : array-like of shape (n_samples, n_features)\n",
    "    means : array-like of shape (n_components, n_features)\n",
    "    precisions_chol : array-like\n",
    "        Cholesky decompositions of the precision matrices.\n",
    "        'full' : shape of (n_components, n_features, n_features)\n",
    "        'tied' : shape of (n_features, n_features)\n",
    "        'diag' : shape of (n_components, n_features)\n",
    "        'spherical' : shape of (n_components,)\n",
    "    covariance_type : {'full', 'tied', 'diag', 'spherical'}\n",
    "    Returns\n",
    "    -------\n",
    "    log_prob : array, shape (n_samples, n_components)\n",
    "    \"\"\"\n",
    "    n_samples, n_features = X.shape\n",
    "    n_components, _ = means.shape\n",
    "    \n",
    "    if covariance_type == \"full\":\n",
    "        log_prob = np.empty((n_samples, n_components))\n",
    "        for k, (mu, prec_chol) in enumerate(zip(means, precisions_chol)):\n",
    "            y = np.dot(X, prec_chol) - np.dot(mu, prec_chol)\n",
    "            log_prob[:, k] = np.sum(np.square(y), axis=1)\n",
    "\n",
    "    elif covariance_type == \"tied\":\n",
    "        log_prob = np.empty((n_samples, n_components))\n",
    "        for k, mu in enumerate(means):\n",
    "            y = np.dot(X, precisions_chol) - np.dot(mu, precisions_chol)\n",
    "            log_prob[:, k] = np.sum(np.square(y), axis=1)\n",
    "\n",
    "    elif covariance_type == \"diag\":\n",
    "        precisions = precisions_chol**2\n",
    "        log_prob = (\n",
    "            np.sum((means**2 * precisions), 1)\n",
    "            - 2.0 * np.dot(X, (means * precisions).T)\n",
    "            + np.dot(X**2, precisions.T)\n",
    "        )\n",
    "\n",
    "    elif covariance_type == \"spherical\":\n",
    "        precisions = precisions_chol**2\n",
    "        log_prob = (\n",
    "            np.sum(means**2, 1) * precisions\n",
    "            - 2 * np.dot(X, means.T * precisions)\n",
    "            + np.outer(row_norms(X, squared=True), precisions)\n",
    "        )\n",
    "    # Since we are using the precision of the Cholesky decomposition,\n",
    "    # `- 0.5 * log_det_precision` becomes `+ log_det_precision_chol`\n",
    "    return log_prob"
   ]
  },
  {
   "cell_type": "code",
   "execution_count": 8,
   "id": "11a9375e",
   "metadata": {
    "ExecuteTime": {
     "end_time": "2022-12-18T13:40:55.019012Z",
     "start_time": "2022-12-18T13:40:55.011328Z"
    },
    "code_folding": [
     0
    ]
   },
   "outputs": [],
   "source": [
    "def gmm_value(gmm, vectors, label):\n",
    "    pred = gmm.predict(vectors)\n",
    "    prob = np.exp(gmm._estimate_weighted_log_prob(vectors))\n",
    "    dist = _estimate_maharanobis_dist(\n",
    "        vectors, gmm.means_, gmm.precisions_cholesky_, gmm.covariance_type\n",
    "    )\n",
    "    aic = gmm.aic(vectors)\n",
    "    bic = gmm.bic(vectors)\n",
    "    mi = adjusted_mutual_info_score(pred, label)\n",
    "    logl = gmm.score(vectors, label)\n",
    "    return {\n",
    "        \"pred\": pred,\n",
    "        \"prob\": prob,\n",
    "        \"dist\": dist,\n",
    "        \"aic\": aic,\n",
    "        \"bic\": bic,\n",
    "        \"mi\": mi,\n",
    "        \"logl\": logl,\n",
    "    }"
   ]
  },
  {
   "cell_type": "code",
   "execution_count": 9,
   "id": "eb41927d",
   "metadata": {
    "ExecuteTime": {
     "end_time": "2022-12-18T13:40:56.134532Z",
     "start_time": "2022-12-18T13:40:56.129053Z"
    }
   },
   "outputs": [],
   "source": [
    "def save_output(output, path):\n",
    "    # save prediction\n",
    "    os.makedirs(os.path.dirname(path), exist_ok=True)\n",
    "    np.save(path, output)"
   ]
  },
  {
   "cell_type": "code",
   "execution_count": 10,
   "id": "8ff6c10b",
   "metadata": {
    "ExecuteTime": {
     "end_time": "2022-12-18T13:41:09.509984Z",
     "start_time": "2022-12-18T13:41:09.252730Z"
    },
    "code_folding": []
   },
   "outputs": [
    {
     "name": "stderr",
     "output_type": "stream",
     "text": [
      "  0%|          | 0/30 [00:00<?, ?it/s]\n"
     ]
    },
    {
     "ename": "FileNotFoundError",
     "evalue": "[Errno 2] No such file or directory: '../../Clustering/data/AgNews/sentenceBERT/GMM/model/2/spherical/0.sav'",
     "output_type": "error",
     "traceback": [
      "\u001b[0;31m---------------------------------------------------------------------------\u001b[0m",
      "\u001b[0;31mFileNotFoundError\u001b[0m                         Traceback (most recent call last)",
      "Cell \u001b[0;32mIn[10], line 18\u001b[0m\n\u001b[1;32m     12\u001b[0m \u001b[38;5;28;01mfor\u001b[39;00m covariance_type \u001b[38;5;129;01min\u001b[39;00m covariance_types:\n\u001b[1;32m     13\u001b[0m     vectors \u001b[38;5;241m=\u001b[39m np\u001b[38;5;241m.\u001b[39mload(\n\u001b[1;32m     14\u001b[0m         \u001b[38;5;124mf\u001b[39m\u001b[38;5;124m\"\u001b[39m\u001b[38;5;132;01m{\u001b[39;00mvectors_path\u001b[38;5;132;01m}\u001b[39;00m\u001b[38;5;124m/\u001b[39m\u001b[38;5;132;01m{\u001b[39;00mvector_dim\u001b[38;5;132;01m}\u001b[39;00m\u001b[38;5;124m/normalized/\u001b[39m\u001b[38;5;132;01m{\u001b[39;00mvector_model_num\u001b[38;5;132;01m}\u001b[39;00m\u001b[38;5;124m.npy\u001b[39m\u001b[38;5;124m\"\u001b[39m\n\u001b[1;32m     15\u001b[0m     )\n\u001b[1;32m     17\u001b[0m     gmm \u001b[38;5;241m=\u001b[39m pickle\u001b[38;5;241m.\u001b[39mload(\n\u001b[0;32m---> 18\u001b[0m         \u001b[38;5;28;43mopen\u001b[39;49m\u001b[43m(\u001b[49m\n\u001b[1;32m     19\u001b[0m \u001b[43m            \u001b[49m\u001b[38;5;124;43mf\u001b[39;49m\u001b[38;5;124;43m\"\u001b[39;49m\u001b[38;5;132;43;01m{\u001b[39;49;00m\u001b[43mmodels_path\u001b[49m\u001b[38;5;132;43;01m}\u001b[39;49;00m\u001b[38;5;132;43;01m{\u001b[39;49;00m\u001b[43mvector_dim\u001b[49m\u001b[38;5;132;43;01m}\u001b[39;49;00m\u001b[38;5;124;43m/\u001b[39;49m\u001b[38;5;132;43;01m{\u001b[39;49;00m\u001b[43mcovariance_type\u001b[49m\u001b[38;5;132;43;01m}\u001b[39;49;00m\u001b[38;5;124;43m/\u001b[39;49m\u001b[38;5;132;43;01m{\u001b[39;49;00m\u001b[43mmodel_num\u001b[49m\u001b[38;5;132;43;01m}\u001b[39;49;00m\u001b[38;5;124;43m.sav\u001b[39;49m\u001b[38;5;124;43m\"\u001b[39;49m\u001b[43m,\u001b[49m\u001b[43m \u001b[49m\u001b[38;5;124;43m\"\u001b[39;49m\u001b[38;5;124;43mrb\u001b[39;49m\u001b[38;5;124;43m\"\u001b[39;49m\n\u001b[1;32m     20\u001b[0m \u001b[43m        \u001b[49m\u001b[43m)\u001b[49m\n\u001b[1;32m     21\u001b[0m     )\n\u001b[1;32m     22\u001b[0m     value \u001b[38;5;241m=\u001b[39m gmm_value(gmm, vectors, label)\n\u001b[1;32m     23\u001b[0m     pred, prob, dist, \u001b[38;5;241m*\u001b[39mstat \u001b[38;5;241m=\u001b[39m value\u001b[38;5;241m.\u001b[39mitems()\n",
      "File \u001b[0;32m/opt/conda/lib/python3.10/site-packages/IPython/core/interactiveshell.py:282\u001b[0m, in \u001b[0;36m_modified_open\u001b[0;34m(file, *args, **kwargs)\u001b[0m\n\u001b[1;32m    275\u001b[0m \u001b[38;5;28;01mif\u001b[39;00m file \u001b[38;5;129;01min\u001b[39;00m {\u001b[38;5;241m0\u001b[39m, \u001b[38;5;241m1\u001b[39m, \u001b[38;5;241m2\u001b[39m}:\n\u001b[1;32m    276\u001b[0m     \u001b[38;5;28;01mraise\u001b[39;00m \u001b[38;5;167;01mValueError\u001b[39;00m(\n\u001b[1;32m    277\u001b[0m         \u001b[38;5;124mf\u001b[39m\u001b[38;5;124m\"\u001b[39m\u001b[38;5;124mIPython won\u001b[39m\u001b[38;5;124m'\u001b[39m\u001b[38;5;124mt let you open fd=\u001b[39m\u001b[38;5;132;01m{\u001b[39;00mfile\u001b[38;5;132;01m}\u001b[39;00m\u001b[38;5;124m by default \u001b[39m\u001b[38;5;124m\"\u001b[39m\n\u001b[1;32m    278\u001b[0m         \u001b[38;5;124m\"\u001b[39m\u001b[38;5;124mas it is likely to crash IPython. If you know what you are doing, \u001b[39m\u001b[38;5;124m\"\u001b[39m\n\u001b[1;32m    279\u001b[0m         \u001b[38;5;124m\"\u001b[39m\u001b[38;5;124myou can use builtins\u001b[39m\u001b[38;5;124m'\u001b[39m\u001b[38;5;124m open.\u001b[39m\u001b[38;5;124m\"\u001b[39m\n\u001b[1;32m    280\u001b[0m     )\n\u001b[0;32m--> 282\u001b[0m \u001b[38;5;28;01mreturn\u001b[39;00m \u001b[43mio_open\u001b[49m\u001b[43m(\u001b[49m\u001b[43mfile\u001b[49m\u001b[43m,\u001b[49m\u001b[43m \u001b[49m\u001b[38;5;241;43m*\u001b[39;49m\u001b[43margs\u001b[49m\u001b[43m,\u001b[49m\u001b[43m \u001b[49m\u001b[38;5;241;43m*\u001b[39;49m\u001b[38;5;241;43m*\u001b[39;49m\u001b[43mkwargs\u001b[49m\u001b[43m)\u001b[49m\n",
      "\u001b[0;31mFileNotFoundError\u001b[0m: [Errno 2] No such file or directory: '../../Clustering/data/AgNews/sentenceBERT/GMM/model/2/spherical/0.sav'"
     ]
    }
   ],
   "source": [
    "vectors_path = f\"../../Clustering/data/{data_type}/{vectorize_type}/vector\"\n",
    "models_path = f\"../../Clustering/data/{data_type}/{vectorize_type}/GMM/model/\"\n",
    "pred_path = f\"../../Clustering/data/{data_type}/{vectorize_type}/GMM/pred/\"\n",
    "prob_path = f\"../../Clustering/data/{data_type}/{vectorize_type}/GMM/prob/\"\n",
    "dist_path = f\"../../Clustering/data/{data_type}/{vectorize_type}/GMM/dist/\"\n",
    "stats_lists = []\n",
    "for vector_model_num in range(vector_model_nums):\n",
    "    for model_num in tqdm(range(model_nums)):\n",
    "        stats_list = []\n",
    "        for vector_dim in vector_dims:\n",
    "            stats = []\n",
    "            for covariance_type in covariance_types:\n",
    "                vectors = np.load(\n",
    "                    f\"{vectors_path}/{vector_dim}/normalized/{vector_model_num}.npy\"\n",
    "                )\n",
    "\n",
    "                gmm = pickle.load(\n",
    "                    open(\n",
    "                        f\"{models_path}{vector_dim}/{covariance_type}/{model_num}.sav\", \"rb\"\n",
    "                    )\n",
    "                )\n",
    "                value = gmm_value(gmm, vectors, label)\n",
    "                pred, prob, dist, *stat = value.items()\n",
    "                save_output(\n",
    "                    pred[1], f\"{pred_path}{vector_dim}/{covariance_type}/{model_num}.npy\"\n",
    "                )\n",
    "                save_output(\n",
    "                    prob[1], f\"{prob_path}{vector_dim}/{covariance_type}/{model_num}.npy\"\n",
    "                )\n",
    "                save_output(\n",
    "                    dist[1], f\"{dist_path}{vector_dim}/{covariance_type}/{model_num}.npy\"\n",
    "                )\n",
    "                stats.append(dict(stat))\n",
    "            stats_list.append(stats)\n",
    "        stats_lists.append(stats_list)"
   ]
  },
  {
   "cell_type": "code",
   "execution_count": 11,
   "id": "e52c455a",
   "metadata": {
    "ExecuteTime": {
     "end_time": "2022-12-18T13:41:09.680451Z",
     "start_time": "2022-12-18T13:41:09.659550Z"
    }
   },
   "outputs": [
    {
     "ename": "IndexError",
     "evalue": "list index out of range",
     "output_type": "error",
     "traceback": [
      "\u001b[0;31m---------------------------------------------------------------------------\u001b[0m",
      "\u001b[0;31mIndexError\u001b[0m                                Traceback (most recent call last)",
      "Cell \u001b[0;32mIn[11], line 7\u001b[0m\n\u001b[1;32m      1\u001b[0m \u001b[38;5;28;01mfor\u001b[39;00m model_num \u001b[38;5;129;01min\u001b[39;00m \u001b[38;5;28mrange\u001b[39m(model_nums):\n\u001b[1;32m      2\u001b[0m     \u001b[38;5;28;01mfor\u001b[39;00m covariance_type \u001b[38;5;129;01min\u001b[39;00m covariance_types:\n\u001b[1;32m      3\u001b[0m         stats_df \u001b[38;5;241m=\u001b[39m [\n\u001b[1;32m      4\u001b[0m             _df\u001b[38;5;241m.\u001b[39mloc[covariance_type, :]\n\u001b[1;32m      5\u001b[0m             \u001b[38;5;28;01mfor\u001b[39;00m _df \u001b[38;5;129;01min\u001b[39;00m [\n\u001b[1;32m      6\u001b[0m                 pd\u001b[38;5;241m.\u001b[39mDataFrame(stats_list, index\u001b[38;5;241m=\u001b[39mcovariance_types)\n\u001b[0;32m----> 7\u001b[0m                 \u001b[38;5;28;01mfor\u001b[39;00m stats_list \u001b[38;5;129;01min\u001b[39;00m \u001b[43mstats_lists\u001b[49m\u001b[43m[\u001b[49m\u001b[43mmodel_num\u001b[49m\u001b[43m]\u001b[49m\n\u001b[1;32m      8\u001b[0m             ]\n\u001b[1;32m      9\u001b[0m         ]\n\u001b[1;32m     10\u001b[0m         stats_df \u001b[38;5;241m=\u001b[39m pd\u001b[38;5;241m.\u001b[39mconcat(stats_df, axis\u001b[38;5;241m=\u001b[39m\u001b[38;5;241m1\u001b[39m)\u001b[38;5;241m.\u001b[39mT\n\u001b[1;32m     11\u001b[0m         stats_df\u001b[38;5;241m.\u001b[39mindex \u001b[38;5;241m=\u001b[39m vector_dims\n",
      "\u001b[0;31mIndexError\u001b[0m: list index out of range"
     ]
    }
   ],
   "source": [
    "for model_num in range(model_nums):\n",
    "    for covariance_type in covariance_types:\n",
    "        stats_df = [\n",
    "            _df.loc[covariance_type, :]\n",
    "            for _df in [\n",
    "                pd.DataFrame(stats_list, index=covariance_types)\n",
    "                for stats_list in stats_lists[model_num]\n",
    "            ]\n",
    "        ]\n",
    "        stats_df = pd.concat(stats_df, axis=1).T\n",
    "        stats_df.index = vector_dims\n",
    "\n",
    "        \n",
    "        stats_path = f\"../../data/AgNews/doc2vec/GMM/stats/{covariance_type}/{model_num}.csv\"\n",
    "        os.makedirs(os.path.dirname(stats_path), exist_ok=True)\n",
    "        stats_df.to_csv(stats_path)"
   ]
  },
  {
   "cell_type": "code",
   "execution_count": null,
   "id": "458eb9fe",
   "metadata": {},
   "outputs": [],
   "source": []
  },
  {
   "cell_type": "code",
   "execution_count": null,
   "id": "cab9290c",
   "metadata": {},
   "outputs": [],
   "source": []
  },
  {
   "cell_type": "code",
   "execution_count": null,
   "id": "3749c847",
   "metadata": {},
   "outputs": [],
   "source": []
  },
  {
   "cell_type": "code",
   "execution_count": null,
   "id": "468fd50a",
   "metadata": {},
   "outputs": [],
   "source": []
  },
  {
   "cell_type": "code",
   "execution_count": null,
   "id": "8232a785",
   "metadata": {},
   "outputs": [],
   "source": []
  }
 ],
 "metadata": {
  "kernelspec": {
   "display_name": "Python 3 (ipykernel)",
   "language": "python",
   "name": "python3"
  },
  "language_info": {
   "codemirror_mode": {
    "name": "ipython",
    "version": 3
   },
   "file_extension": ".py",
   "mimetype": "text/x-python",
   "name": "python",
   "nbconvert_exporter": "python",
   "pygments_lexer": "ipython3",
   "version": "3.10.8"
  },
  "toc": {
   "base_numbering": 1,
   "nav_menu": {},
   "number_sections": true,
   "sideBar": true,
   "skip_h1_title": false,
   "title_cell": "Table of Contents",
   "title_sidebar": "Contents",
   "toc_cell": false,
   "toc_position": {},
   "toc_section_display": true,
   "toc_window_display": false
  }
 },
 "nbformat": 4,
 "nbformat_minor": 5
}
