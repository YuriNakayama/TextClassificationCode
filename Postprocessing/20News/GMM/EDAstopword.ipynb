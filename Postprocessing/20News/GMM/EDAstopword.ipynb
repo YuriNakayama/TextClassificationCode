{
 "cells": [
  {
   "cell_type": "markdown",
   "id": "b95f9187",
   "metadata": {},
   "source": [
    "# Import"
   ]
  },
  {
   "cell_type": "code",
   "execution_count": 95,
   "id": "80a85ab5",
   "metadata": {
    "ExecuteTime": {
     "end_time": "2022-12-04T04:41:14.009022Z",
     "start_time": "2022-12-04T04:41:13.973047Z"
    }
   },
   "outputs": [],
   "source": [
    "import csv\n",
    "import os\n",
    "import pickle\n",
    "\n",
    "import numpy as np\n",
    "import pandas as pd\n",
    "from gensim.corpora.dictionary import Dictionary\n",
    "from gensim.models.coherencemodel import CoherenceModel\n",
    "from sklearn.metrics import adjusted_mutual_info_score\n",
    "from sklearn.mixture import GaussianMixture\n",
    "from smart_open import open\n",
    "from stop_words import get_stop_words\n",
    "from tqdm import tqdm"
   ]
  },
  {
   "cell_type": "code",
   "execution_count": 2,
   "id": "9d870465",
   "metadata": {
    "ExecuteTime": {
     "end_time": "2022-12-03T08:47:03.604435Z",
     "start_time": "2022-12-03T08:47:03.579809Z"
    }
   },
   "outputs": [],
   "source": [
    "tqdm.pandas()"
   ]
  },
  {
   "cell_type": "markdown",
   "id": "52c60a4f",
   "metadata": {},
   "source": [
    "# Read data"
   ]
  },
  {
   "cell_type": "code",
   "execution_count": 3,
   "id": "c81d3638",
   "metadata": {
    "ExecuteTime": {
     "end_time": "2022-12-03T08:47:09.118935Z",
     "start_time": "2022-12-03T08:47:03.634765Z"
    },
    "scrolled": true
   },
   "outputs": [],
   "source": [
    "newsgroups_df = pd.read_csv(\"../../../Preprocessing/data/20News/master.csv\", index_col=0)"
   ]
  },
  {
   "cell_type": "code",
   "execution_count": 82,
   "id": "95389cd0",
   "metadata": {
    "ExecuteTime": {
     "end_time": "2022-12-04T04:31:12.231373Z",
     "start_time": "2022-12-04T04:31:12.185479Z"
    }
   },
   "outputs": [],
   "source": [
    "with open(\"../../../Preprocessing/data/20News/class.csv\", mode=\"r\") as f:\n",
    "    reader = csv.reader(f)\n",
    "    class_labels = [label for label in reader][0]"
   ]
  },
  {
   "cell_type": "code",
   "execution_count": 5,
   "id": "fec767ee",
   "metadata": {
    "ExecuteTime": {
     "end_time": "2022-12-03T08:47:09.239127Z",
     "start_time": "2022-12-03T08:47:09.201707Z"
    }
   },
   "outputs": [],
   "source": [
    "vector_sizes = [2, 3, 4, 6, 7, 8, 9, 10, 20, 40, 80, 160, 320, 640]"
   ]
  },
  {
   "cell_type": "code",
   "execution_count": 6,
   "id": "ffc386a8",
   "metadata": {
    "ExecuteTime": {
     "end_time": "2022-12-03T08:47:09.335741Z",
     "start_time": "2022-12-03T08:47:09.261128Z"
    }
   },
   "outputs": [],
   "source": [
    "class Corpus:\n",
    "    def __init__(self, path=None, texts=None):\n",
    "        self.path = path\n",
    "        self.texts = texts\n",
    "        self.dictionary = Dictionary(texts)\n",
    "\n",
    "    def __iter__(self):\n",
    "        if self.path is not None:\n",
    "            for line in open(self.path):\n",
    "                # assume there's one document per line, tokens separated by whitespace\n",
    "                yield self.dictionary.doc2bow(line.lower().split())\n",
    "        else:\n",
    "            for line in self.texts:\n",
    "                yield self.dictionary.doc2bow(line)"
   ]
  },
  {
   "cell_type": "code",
   "execution_count": 54,
   "id": "ad348a50",
   "metadata": {
    "ExecuteTime": {
     "end_time": "2022-12-04T04:23:24.161672Z",
     "start_time": "2022-12-04T04:22:43.283673Z"
    }
   },
   "outputs": [
    {
     "name": "stderr",
     "output_type": "stream",
     "text": [
      "100%|██████████| 18846/18846 [00:01<00:00, 14453.26it/s]\n"
     ]
    }
   ],
   "source": [
    "texts = newsgroups_df.words_nonstop.progress_apply(lambda x: x.split(' ')).tolist()\n",
    "corpus = Corpus(texts=texts)\n",
    "dictionary = Dictionary(texts)"
   ]
  },
  {
   "cell_type": "code",
   "execution_count": 78,
   "id": "694f0571",
   "metadata": {
    "ExecuteTime": {
     "end_time": "2022-12-04T04:27:27.447861Z",
     "start_time": "2022-12-04T04:27:27.425377Z"
    }
   },
   "outputs": [],
   "source": [
    "label = newsgroups_df[\"class\"].to_numpy()"
   ]
  },
  {
   "cell_type": "code",
   "execution_count": 56,
   "id": "356812b5",
   "metadata": {
    "ExecuteTime": {
     "end_time": "2022-12-04T04:23:24.229745Z",
     "start_time": "2022-12-04T04:23:24.193922Z"
    }
   },
   "outputs": [],
   "source": [
    "model_nums = 2\n",
    "vector_model_num = 0"
   ]
  },
  {
   "cell_type": "code",
   "execution_count": 100,
   "id": "bc7400a3",
   "metadata": {
    "ExecuteTime": {
     "end_time": "2022-12-04T04:41:57.081144Z",
     "start_time": "2022-12-04T04:41:57.067125Z"
    }
   },
   "outputs": [],
   "source": [
    "stop_words_add = [\"would\", \"could\", \"should\"]\n",
    "stop_char = [\"==\", \"--\", \"\\'s\", \"''\", \"n't\", \"``\",\"..\", \"...\", \"....\", \"'m\", \"'ve\", \"'d\", \"'ll\", \"\"]\n",
    "stop_words = stop_words + stop_words_add + stop_char"
   ]
  },
  {
   "cell_type": "code",
   "execution_count": 109,
   "id": "9a35f62d",
   "metadata": {
    "ExecuteTime": {
     "end_time": "2022-12-04T05:24:26.102983Z",
     "start_time": "2022-12-04T05:23:08.315383Z"
    },
    "scrolled": true
   },
   "outputs": [
    {
     "name": "stderr",
     "output_type": "stream",
     "text": [
      "100%|██████████| 20/20 [01:17<00:00,  3.89s/it]\n"
     ]
    }
   ],
   "source": [
    "dictionaries = []\n",
    "for class_label in tqdm(class_labels):\n",
    "    localized_df = newsgroups_df[newsgroups_df[\"class\"]==class_label]\n",
    "    texts = localized_df.words_nonstop.apply(lambda x: x.split(' ')).tolist()\n",
    "#     一文字以下の単語とstop_word, stop_charを削除\n",
    "    texts = [[word for word in text if len(word) > 1 if word not in stop_words] for text in texts]\n",
    "    corpus = Corpus(texts=texts)\n",
    "    dictionary = Dictionary(texts)\n",
    "#     登場頻度80%以上の単語を削除\n",
    "    dictionary.filter_extremes(no_above=0.8)\n",
    "    dictionaries.append(dictionary)"
   ]
  },
  {
   "cell_type": "code",
   "execution_count": 108,
   "id": "aab0f698",
   "metadata": {
    "ExecuteTime": {
     "end_time": "2022-12-04T04:53:21.352227Z",
     "start_time": "2022-12-04T04:53:20.011414Z"
    }
   },
   "outputs": [],
   "source": [
    "for i, dictionary in enumerate(dictionaries):\n",
    "    with open(f'./{i}.txt', mode=\"w+\", newline='') as f:\n",
    "        write = csv.writer(f)\n",
    "        write.writerows(dictionary.most_common())"
   ]
  },
  {
   "cell_type": "code",
   "execution_count": null,
   "id": "aea1b8fb",
   "metadata": {},
   "outputs": [],
   "source": []
  }
 ],
 "metadata": {
  "kernelspec": {
   "display_name": "Python 3 (ipykernel)",
   "language": "python",
   "name": "python3"
  },
  "language_info": {
   "codemirror_mode": {
    "name": "ipython",
    "version": 3
   },
   "file_extension": ".py",
   "mimetype": "text/x-python",
   "name": "python",
   "nbconvert_exporter": "python",
   "pygments_lexer": "ipython3",
   "version": "3.10.6"
  },
  "toc": {
   "base_numbering": 1,
   "nav_menu": {},
   "number_sections": true,
   "sideBar": true,
   "skip_h1_title": false,
   "title_cell": "Table of Contents",
   "title_sidebar": "Contents",
   "toc_cell": false,
   "toc_position": {},
   "toc_section_display": true,
   "toc_window_display": false
  }
 },
 "nbformat": 4,
 "nbformat_minor": 5
}
