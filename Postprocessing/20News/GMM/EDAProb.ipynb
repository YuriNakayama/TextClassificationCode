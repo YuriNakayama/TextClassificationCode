{
 "cells": [
  {
   "cell_type": "markdown",
   "id": "b95f9187",
   "metadata": {},
   "source": [
    "# Import"
   ]
  },
  {
   "cell_type": "code",
   "execution_count": 1,
   "id": "80a85ab5",
   "metadata": {
    "ExecuteTime": {
     "end_time": "2022-12-17T03:17:37.619467Z",
     "start_time": "2022-12-17T03:17:31.452903Z"
    }
   },
   "outputs": [],
   "source": [
    "import csv\n",
    "import os\n",
    "import pickle\n",
    "import sys\n",
    "\n",
    "import matplotlib.pyplot as plt\n",
    "import numpy as np\n",
    "import pandas as pd\n",
    "import scipy.stats as sps\n",
    "from sklearn.metrics import adjusted_mutual_info_score\n",
    "from sklearn.mixture import GaussianMixture\n",
    "from tqdm import tqdm"
   ]
  },
  {
   "cell_type": "markdown",
   "id": "2543f4e4",
   "metadata": {},
   "source": [
    "## Add configuration file"
   ]
  },
  {
   "cell_type": "code",
   "execution_count": 2,
   "id": "b62547de",
   "metadata": {
    "ExecuteTime": {
     "end_time": "2022-12-17T03:17:40.081215Z",
     "start_time": "2022-12-17T03:17:40.076960Z"
    }
   },
   "outputs": [],
   "source": [
    "sys.path.append(\"/home/jovyan/core/config/\")"
   ]
  },
  {
   "cell_type": "code",
   "execution_count": 3,
   "id": "84da401b",
   "metadata": {
    "ExecuteTime": {
     "end_time": "2022-12-17T03:17:40.354779Z",
     "start_time": "2022-12-17T03:17:40.346679Z"
    }
   },
   "outputs": [],
   "source": [
    "from ALL import config "
   ]
  },
  {
   "cell_type": "markdown",
   "id": "9330548e",
   "metadata": {},
   "source": [
    "## Set condition"
   ]
  },
  {
   "cell_type": "code",
   "execution_count": 4,
   "id": "a30f3623",
   "metadata": {
    "ExecuteTime": {
     "end_time": "2022-12-17T03:17:40.720571Z",
     "start_time": "2022-12-17T03:17:40.716526Z"
    }
   },
   "outputs": [],
   "source": [
    "tqdm.pandas()\n",
    "pd.set_option(\"display.max_columns\", 100)\n",
    "pd.set_option(\"display.max_rows\", 50)"
   ]
  },
  {
   "cell_type": "markdown",
   "id": "52c60a4f",
   "metadata": {},
   "source": [
    "# Read data"
   ]
  },
  {
   "cell_type": "code",
   "execution_count": 5,
   "id": "c81d3638",
   "metadata": {
    "ExecuteTime": {
     "end_time": "2022-12-17T03:17:43.470490Z",
     "start_time": "2022-12-17T03:17:41.810366Z"
    },
    "scrolled": true
   },
   "outputs": [],
   "source": [
    "news_df = pd.read_csv(\"../../../Preprocessing/data/AgNews/master.csv\", index_col=0)"
   ]
  },
  {
   "cell_type": "code",
   "execution_count": 6,
   "id": "95389cd0",
   "metadata": {
    "ExecuteTime": {
     "end_time": "2022-12-17T03:17:43.476876Z",
     "start_time": "2022-12-17T03:17:43.473200Z"
    }
   },
   "outputs": [],
   "source": [
    "with open(\"../../../Preprocessing/data/AgNews/class.csv\", mode=\"r\") as f:\n",
    "    reader = csv.reader(f)\n",
    "    class_labels = [label for label in reader]"
   ]
  },
  {
   "cell_type": "code",
   "execution_count": 7,
   "id": "fec767ee",
   "metadata": {
    "ExecuteTime": {
     "end_time": "2022-12-17T03:17:44.323890Z",
     "start_time": "2022-12-17T03:17:44.319706Z"
    }
   },
   "outputs": [],
   "source": [
    "vector_dims = config[\"vectorize\"][\"doc2vec\"][\"dims\"]\n",
    "model_nums = config[\"clustering\"][\"gmm\"][\"max_model_num\"]\n",
    "vector_model_num = config[\"vectorize\"][\"doc2vec\"][\"max_model_num\"]\n",
    "covariance_types = config[\"clustering\"][\"gmm\"][\"covariance_types\"]"
   ]
  },
  {
   "cell_type": "code",
   "execution_count": 8,
   "id": "2cb7d0e6",
   "metadata": {
    "ExecuteTime": {
     "end_time": "2022-12-17T03:17:46.006979Z",
     "start_time": "2022-12-17T03:17:46.003950Z"
    }
   },
   "outputs": [],
   "source": [
    "label = news_df[\"class\"].to_numpy()"
   ]
  },
  {
   "cell_type": "code",
   "execution_count": 9,
   "id": "a2b9cc43",
   "metadata": {
    "ExecuteTime": {
     "end_time": "2022-12-17T03:18:31.859075Z",
     "start_time": "2022-12-17T03:18:31.736643Z"
    },
    "scrolled": false
   },
   "outputs": [
    {
     "name": "stderr",
     "output_type": "stream",
     "text": [
      "  0%|          | 0/30 [00:00<?, ?it/s]\n"
     ]
    }
   ],
   "source": [
    "prob_path = \"../../../Clustering/data/AgNews/doc2vec/GMM/prob/\"\n",
    "pred_path  = \"../../../Clustering/data/AgNews/doc2vec/GMM/pred/\"\n",
    "dist_path  = \"../../../Clustering/data/AgNews/doc2vec/GMM/dist/\"\n",
    "models_path = \"../../../Clustering/data/AgNews/doc2vec/GMM/model/\"\n",
    "vectors_path = \"../../../Clustering/data/AgNews/doc2vec/vector/\"\n",
    "\n",
    "for model_num in tqdm(range(model_nums)):\n",
    "    for vector_dim in vector_dims:\n",
    "        for covariance_type in covariance_types:\n",
    "            probs = np.load(\n",
    "                f\"{prob_path}{vector_dim}/{covariance_type}/{model_num}.npy\",\n",
    "            )\n",
    "            pred = np.load(\n",
    "                f\"{prob_path}{vector_dim}/{covariance_type}/{model_num}.npy\",\n",
    "            )\n",
    "            dist = np.load(\n",
    "                f\"{dist_path}{vector_dim}/{covariance_type}/{model_num}.npy\",\n",
    "            )\n",
    "            gmm = pickle.load(\n",
    "                open(\n",
    "                    f\"{models_path}{vector_dim}/{covariance_type}/{model_num}.sav\", \"rb\"\n",
    "                )\n",
    "            )\n",
    "            break\n",
    "        break\n",
    "    break"
   ]
  },
  {
   "cell_type": "code",
   "execution_count": 10,
   "id": "43cb61b0",
   "metadata": {
    "ExecuteTime": {
     "end_time": "2022-12-17T03:18:34.778066Z",
     "start_time": "2022-12-17T03:18:34.775324Z"
    }
   },
   "outputs": [],
   "source": [
    "vector_dim = 160\n",
    "covariance_type = \"tied\"\n",
    "model_num = 0"
   ]
  },
  {
   "cell_type": "code",
   "execution_count": 11,
   "id": "4e480ba9",
   "metadata": {
    "ExecuteTime": {
     "end_time": "2022-12-17T03:18:57.545339Z",
     "start_time": "2022-12-17T03:18:46.643115Z"
    }
   },
   "outputs": [],
   "source": [
    "vector_path = f\"{vectors_path}{vector_dim}/normalized/{vector_model_num}.csv\"\n",
    "vectors = np.loadtxt(vector_path, delimiter=\",\")\n",
    "\n",
    "probs = np.load(\n",
    "    f\"{prob_path}{vector_dim}/{covariance_type}/{model_num}.npy\",\n",
    ")\n",
    "pred = np.load(\n",
    "    f\"{pred_path}{vector_dim}/{covariance_type}/{model_num}.npy\",\n",
    ")\n",
    "dist = np.load(\n",
    "                f\"{dist_path}{vector_dim}/{covariance_type}/{model_num}.npy\",\n",
    "            )\n",
    "\n",
    "gmm = pickle.load(\n",
    "    open(f\"{models_path}{vector_dim}/{covariance_type}/{model_num}.sav\", \"rb\")\n",
    ")"
   ]
  },
  {
   "cell_type": "code",
   "execution_count": 12,
   "id": "a0358db4",
   "metadata": {
    "ExecuteTime": {
     "end_time": "2022-12-17T03:18:59.665317Z",
     "start_time": "2022-12-17T03:18:59.662235Z"
    }
   },
   "outputs": [],
   "source": [
    "threshold = 0.01"
   ]
  },
  {
   "cell_type": "code",
   "execution_count": 13,
   "id": "66e2d4b5",
   "metadata": {
    "ExecuteTime": {
     "end_time": "2022-12-17T03:19:09.917787Z",
     "start_time": "2022-12-17T03:19:09.907008Z"
    },
    "scrolled": false
   },
   "outputs": [
    {
     "data": {
      "text/plain": [
       "190.5164565139585"
      ]
     },
     "execution_count": 13,
     "metadata": {},
     "output_type": "execute_result"
    }
   ],
   "source": [
    "sps.chi2.ppf(q=0.95, df = vector_dim)"
   ]
  },
  {
   "cell_type": "code",
   "execution_count": 19,
   "id": "fceac72c",
   "metadata": {
    "ExecuteTime": {
     "end_time": "2022-12-17T03:21:06.823394Z",
     "start_time": "2022-12-17T03:21:06.803310Z"
    },
    "scrolled": true
   },
   "outputs": [
    {
     "data": {
      "text/html": [
       "<div>\n",
       "<style scoped>\n",
       "    .dataframe tbody tr th:only-of-type {\n",
       "        vertical-align: middle;\n",
       "    }\n",
       "\n",
       "    .dataframe tbody tr th {\n",
       "        vertical-align: top;\n",
       "    }\n",
       "\n",
       "    .dataframe thead th {\n",
       "        text-align: right;\n",
       "    }\n",
       "</style>\n",
       "<table border=\"1\" class=\"dataframe\">\n",
       "  <thead>\n",
       "    <tr style=\"text-align: right;\">\n",
       "      <th></th>\n",
       "      <th>class</th>\n",
       "      <th>title</th>\n",
       "      <th>text</th>\n",
       "      <th>words</th>\n",
       "      <th>words_nonstop</th>\n",
       "    </tr>\n",
       "  </thead>\n",
       "  <tbody>\n",
       "    <tr>\n",
       "      <th>4</th>\n",
       "      <td>Business</td>\n",
       "      <td>Oil prices soar to all-time record, posing new...</td>\n",
       "      <td>AFP - Tearaway world oil prices, toppling reco...</td>\n",
       "      <td>AFP - Tearaway world oil prices , toppling rec...</td>\n",
       "      <td>AFP Tearaway world oil prices toppling records...</td>\n",
       "    </tr>\n",
       "    <tr>\n",
       "      <th>8</th>\n",
       "      <td>Business</td>\n",
       "      <td>Safety Net (Forbes.com)</td>\n",
       "      <td>Forbes.com - After earning a PH.D. in Sociolog...</td>\n",
       "      <td>Forbes.com - After earning a PH.D. in Sociolog...</td>\n",
       "      <td>Forbes.com earning PH.D. Sociology Danny Bazil...</td>\n",
       "    </tr>\n",
       "    <tr>\n",
       "      <th>14</th>\n",
       "      <td>Business</td>\n",
       "      <td>Dollar Falls Broadly on Record Trade Gap</td>\n",
       "      <td>NEW YORK (Reuters) - The dollar tumbled broad...</td>\n",
       "      <td>NEW YORK ( Reuters ) - The dollar tumbled broa...</td>\n",
       "      <td>NEW YORK Reuters dollar tumbled broadly Friday...</td>\n",
       "    </tr>\n",
       "    <tr>\n",
       "      <th>39</th>\n",
       "      <td>Business</td>\n",
       "      <td>Microsoft Corp. 2.0: a kinder corporate culture</td>\n",
       "      <td>Even a genius can mess up. Bill Gates was a br...</td>\n",
       "      <td>Even a genius can mess up . Bill Gates was a b...</td>\n",
       "      <td>Even genius mess Bill Gates brilliant technolo...</td>\n",
       "    </tr>\n",
       "    <tr>\n",
       "      <th>40</th>\n",
       "      <td>Business</td>\n",
       "      <td>Letters</td>\n",
       "      <td>Target the abusers of legal weapons We can all...</td>\n",
       "      <td>Target the abusers of legal weapons We can all...</td>\n",
       "      <td>Target abusers legal weapons share outrage exp...</td>\n",
       "    </tr>\n",
       "    <tr>\n",
       "      <th>...</th>\n",
       "      <td>...</td>\n",
       "      <td>...</td>\n",
       "      <td>...</td>\n",
       "      <td>...</td>\n",
       "      <td>...</td>\n",
       "    </tr>\n",
       "    <tr>\n",
       "      <th>119962</th>\n",
       "      <td>Sports</td>\n",
       "      <td>Stokley flourishing with Colts</td>\n",
       "      <td>He was known as the deceptively fast, glue-fin...</td>\n",
       "      <td>He was known as the deceptively fast , glue-fi...</td>\n",
       "      <td>known deceptively fast glue-fingered wide rece...</td>\n",
       "    </tr>\n",
       "    <tr>\n",
       "      <th>119964</th>\n",
       "      <td>Sports</td>\n",
       "      <td>Brazil: Kidnapped footballer #39;s mother freed</td>\n",
       "      <td>Forty-one days after her dramatic abduction, M...</td>\n",
       "      <td>Forty-one days after her dramatic abduction , ...</td>\n",
       "      <td>Forty-one days dramatic abduction Marina Lima ...</td>\n",
       "    </tr>\n",
       "    <tr>\n",
       "      <th>119988</th>\n",
       "      <td>World</td>\n",
       "      <td>Navy to go on PR 'offensive' to repair battere...</td>\n",
       "      <td>Canadian Press - HALIFAX (CP) - They have beco...</td>\n",
       "      <td>Canadian Press - HALIFAX ( CP ) - They have be...</td>\n",
       "      <td>Canadian Press HALIFAX CP become defining imag...</td>\n",
       "    </tr>\n",
       "    <tr>\n",
       "      <th>119990</th>\n",
       "      <td>World</td>\n",
       "      <td>Barack Obama Gets  #36;1.9 Million Book Deal (AP)</td>\n",
       "      <td>AP - U.S. Sen.-elect Barack Obama, whose 1995 ...</td>\n",
       "      <td>AP - U.S. Sen.-elect Barack Obama , whose 1995...</td>\n",
       "      <td>AP U.S. Sen.-elect Barack Obama whose 1995 boo...</td>\n",
       "    </tr>\n",
       "    <tr>\n",
       "      <th>119998</th>\n",
       "      <td>Sports</td>\n",
       "      <td>Today's NFL games</td>\n",
       "      <td>PITTSBURGH at NY GIANTS Time: 1:30 p.m. Line: ...</td>\n",
       "      <td>PITTSBURGH at NY GIANTS Time : 1:30 p.m. Line ...</td>\n",
       "      <td>PITTSBURGH NY GIANTS Time 1:30 p.m. Line Steel...</td>\n",
       "    </tr>\n",
       "  </tbody>\n",
       "</table>\n",
       "<p>11450 rows × 5 columns</p>\n",
       "</div>"
      ],
      "text/plain": [
       "           class                                              title  \\\n",
       "4       Business  Oil prices soar to all-time record, posing new...   \n",
       "8       Business                            Safety Net (Forbes.com)   \n",
       "14      Business           Dollar Falls Broadly on Record Trade Gap   \n",
       "39      Business    Microsoft Corp. 2.0: a kinder corporate culture   \n",
       "40      Business                                            Letters   \n",
       "...          ...                                                ...   \n",
       "119962    Sports                     Stokley flourishing with Colts   \n",
       "119964    Sports    Brazil: Kidnapped footballer #39;s mother freed   \n",
       "119988     World  Navy to go on PR 'offensive' to repair battere...   \n",
       "119990     World  Barack Obama Gets  #36;1.9 Million Book Deal (AP)   \n",
       "119998    Sports                                  Today's NFL games   \n",
       "\n",
       "                                                     text  \\\n",
       "4       AFP - Tearaway world oil prices, toppling reco...   \n",
       "8       Forbes.com - After earning a PH.D. in Sociolog...   \n",
       "14       NEW YORK (Reuters) - The dollar tumbled broad...   \n",
       "39      Even a genius can mess up. Bill Gates was a br...   \n",
       "40      Target the abusers of legal weapons We can all...   \n",
       "...                                                   ...   \n",
       "119962  He was known as the deceptively fast, glue-fin...   \n",
       "119964  Forty-one days after her dramatic abduction, M...   \n",
       "119988  Canadian Press - HALIFAX (CP) - They have beco...   \n",
       "119990  AP - U.S. Sen.-elect Barack Obama, whose 1995 ...   \n",
       "119998  PITTSBURGH at NY GIANTS Time: 1:30 p.m. Line: ...   \n",
       "\n",
       "                                                    words  \\\n",
       "4       AFP - Tearaway world oil prices , toppling rec...   \n",
       "8       Forbes.com - After earning a PH.D. in Sociolog...   \n",
       "14      NEW YORK ( Reuters ) - The dollar tumbled broa...   \n",
       "39      Even a genius can mess up . Bill Gates was a b...   \n",
       "40      Target the abusers of legal weapons We can all...   \n",
       "...                                                   ...   \n",
       "119962  He was known as the deceptively fast , glue-fi...   \n",
       "119964  Forty-one days after her dramatic abduction , ...   \n",
       "119988  Canadian Press - HALIFAX ( CP ) - They have be...   \n",
       "119990  AP - U.S. Sen.-elect Barack Obama , whose 1995...   \n",
       "119998  PITTSBURGH at NY GIANTS Time : 1:30 p.m. Line ...   \n",
       "\n",
       "                                            words_nonstop  \n",
       "4       AFP Tearaway world oil prices toppling records...  \n",
       "8       Forbes.com earning PH.D. Sociology Danny Bazil...  \n",
       "14      NEW YORK Reuters dollar tumbled broadly Friday...  \n",
       "39      Even genius mess Bill Gates brilliant technolo...  \n",
       "40      Target abusers legal weapons share outrage exp...  \n",
       "...                                                   ...  \n",
       "119962  known deceptively fast glue-fingered wide rece...  \n",
       "119964  Forty-one days dramatic abduction Marina Lima ...  \n",
       "119988  Canadian Press HALIFAX CP become defining imag...  \n",
       "119990  AP U.S. Sen.-elect Barack Obama whose 1995 boo...  \n",
       "119998  PITTSBURGH NY GIANTS Time 1:30 p.m. Line Steel...  \n",
       "\n",
       "[11450 rows x 5 columns]"
      ]
     },
     "execution_count": 19,
     "metadata": {},
     "output_type": "execute_result"
    }
   ],
   "source": [
    "news_df[dist.min(axis=1) > sps.chi2.ppf(q=0.95, df=vector_dim)]"
   ]
  },
  {
   "cell_type": "code",
   "execution_count": 20,
   "id": "132d49b9",
   "metadata": {
    "ExecuteTime": {
     "end_time": "2022-12-17T03:21:07.887023Z",
     "start_time": "2022-12-17T03:21:07.541151Z"
    },
    "scrolled": false
   },
   "outputs": [
    {
     "data": {
      "text/plain": [
       "(array([1.0000e+00, 4.0000e+00, 9.0000e+00, 4.3000e+01, 1.1900e+02,\n",
       "        3.4400e+02, 7.8300e+02, 1.3720e+03, 2.5370e+03, 4.2060e+03,\n",
       "        6.4440e+03, 8.8260e+03, 1.1307e+04, 1.3160e+04, 1.3763e+04,\n",
       "        1.3348e+04, 1.1801e+04, 9.8900e+03, 7.4750e+03, 5.2210e+03,\n",
       "        3.5750e+03, 2.2720e+03, 1.3940e+03, 8.7000e+02, 4.7400e+02,\n",
       "        2.7200e+02, 1.6900e+02, 1.0900e+02, 6.8000e+01, 4.0000e+01,\n",
       "        2.8000e+01, 1.2000e+01, 1.1000e+01, 1.4000e+01, 3.0000e+00,\n",
       "        4.0000e+00, 3.0000e+00, 6.0000e+00, 3.0000e+00, 1.0000e+00,\n",
       "        3.0000e+00, 3.0000e+00, 1.0000e+00, 1.0000e+00, 0.0000e+00,\n",
       "        0.0000e+00, 0.0000e+00, 0.0000e+00, 0.0000e+00, 0.0000e+00,\n",
       "        0.0000e+00, 1.0000e+00, 0.0000e+00, 1.0000e+00, 0.0000e+00,\n",
       "        0.0000e+00, 0.0000e+00, 2.0000e+00, 1.0000e+00, 1.0000e+00,\n",
       "        0.0000e+00, 1.0000e+00, 0.0000e+00, 1.0000e+00, 0.0000e+00,\n",
       "        0.0000e+00, 0.0000e+00, 0.0000e+00, 0.0000e+00, 0.0000e+00,\n",
       "        0.0000e+00, 0.0000e+00, 0.0000e+00, 1.0000e+00, 0.0000e+00,\n",
       "        0.0000e+00, 0.0000e+00, 0.0000e+00, 0.0000e+00, 0.0000e+00,\n",
       "        0.0000e+00, 0.0000e+00, 1.0000e+00, 0.0000e+00, 0.0000e+00,\n",
       "        0.0000e+00, 0.0000e+00, 0.0000e+00, 0.0000e+00, 0.0000e+00,\n",
       "        0.0000e+00, 0.0000e+00, 0.0000e+00, 0.0000e+00, 0.0000e+00,\n",
       "        0.0000e+00, 0.0000e+00, 0.0000e+00, 0.0000e+00, 1.0000e+00]),\n",
       " array([ 60.72936135,  67.36343732,  73.99751328,  80.63158924,\n",
       "         87.26566521,  93.89974117, 100.53381713, 107.1678931 ,\n",
       "        113.80196906, 120.43604502, 127.07012098, 133.70419695,\n",
       "        140.33827291, 146.97234887, 153.60642484, 160.2405008 ,\n",
       "        166.87457676, 173.50865273, 180.14272869, 186.77680465,\n",
       "        193.41088062, 200.04495658, 206.67903254, 213.3131085 ,\n",
       "        219.94718447, 226.58126043, 233.21533639, 239.84941236,\n",
       "        246.48348832, 253.11756428, 259.75164025, 266.38571621,\n",
       "        273.01979217, 279.65386814, 286.2879441 , 292.92202006,\n",
       "        299.55609602, 306.19017199, 312.82424795, 319.45832391,\n",
       "        326.09239988, 332.72647584, 339.3605518 , 345.99462777,\n",
       "        352.62870373, 359.26277969, 365.89685565, 372.53093162,\n",
       "        379.16500758, 385.79908354, 392.43315951, 399.06723547,\n",
       "        405.70131143, 412.3353874 , 418.96946336, 425.60353932,\n",
       "        432.23761529, 438.87169125, 445.50576721, 452.13984317,\n",
       "        458.77391914, 465.4079951 , 472.04207106, 478.67614703,\n",
       "        485.31022299, 491.94429895, 498.57837492, 505.21245088,\n",
       "        511.84652684, 518.48060281, 525.11467877, 531.74875473,\n",
       "        538.38283069, 545.01690666, 551.65098262, 558.28505858,\n",
       "        564.91913455, 571.55321051, 578.18728647, 584.82136244,\n",
       "        591.4554384 , 598.08951436, 604.72359032, 611.35766629,\n",
       "        617.99174225, 624.62581821, 631.25989418, 637.89397014,\n",
       "        644.5280461 , 651.16212207, 657.79619803, 664.43027399,\n",
       "        671.06434996, 677.69842592, 684.33250188, 690.96657784,\n",
       "        697.60065381, 704.23472977, 710.86880573, 717.5028817 ,\n",
       "        724.13695766]),\n",
       " <BarContainer object of 100 artists>)"
      ]
     },
     "execution_count": 20,
     "metadata": {},
     "output_type": "execute_result"
    },
    {
     "data": {
      "image/png": "[encoded data removed]",
      "text/plain": [
       "<Figure size 800x800 with 1 Axes>"
      ]
     },
     "metadata": {},
     "output_type": "display_data"
    }
   ],
   "source": [
    "fig = plt.figure(figsize=(8, 8))\n",
    "ax = fig.add_subplot(111)\n",
    "ax.hist(dist.min(axis=1), bins = 100)"
   ]
  },
  {
   "cell_type": "code",
   "execution_count": null,
   "id": "1307743b",
   "metadata": {},
   "outputs": [],
   "source": []
  }
 ],
 "metadata": {
  "kernelspec": {
   "display_name": "Python 3 (ipykernel)",
   "language": "python",
   "name": "python3"
  },
  "language_info": {
   "codemirror_mode": {
    "name": "ipython",
    "version": 3
   },
   "file_extension": ".py",
   "mimetype": "text/x-python",
   "name": "python",
   "nbconvert_exporter": "python",
   "pygments_lexer": "ipython3",
   "version": "3.10.8"
  },
  "toc": {
   "base_numbering": 1,
   "nav_menu": {},
   "number_sections": true,
   "sideBar": true,
   "skip_h1_title": false,
   "title_cell": "Table of Contents",
   "title_sidebar": "Contents",
   "toc_cell": false,
   "toc_position": {},
   "toc_section_display": true,
   "toc_window_display": false
  }
 },
 "nbformat": 4,
 "nbformat_minor": 5
}
