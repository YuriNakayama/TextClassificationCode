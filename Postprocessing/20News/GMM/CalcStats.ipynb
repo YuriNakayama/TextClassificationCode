{
 "cells": [
  {
   "cell_type": "markdown",
   "id": "b95f9187",
   "metadata": {},
   "source": [
    "# Import"
   ]
  },
  {
   "cell_type": "code",
   "execution_count": 1,
   "id": "80a85ab5",
   "metadata": {
    "ExecuteTime": {
     "end_time": "2022-12-02T07:37:52.994781Z",
     "start_time": "2022-12-02T07:37:49.334849Z"
    }
   },
   "outputs": [
    {
     "name": "stderr",
     "output_type": "stream",
     "text": [
      "<jemalloc>: MADV_DONTNEED does not work (memset will be used instead)\n",
      "<jemalloc>: (This is the expected behaviour if you are running under QEMU)\n"
     ]
    }
   ],
   "source": [
    "import csv\n",
    "import os\n",
    "import pickle\n",
    "\n",
    "import numpy as np\n",
    "import pandas as pd\n",
    "from tqdm import tqdm\n",
    "from sklearn.mixture import GaussianMixture\n",
    "from sklearn.metrics import adjusted_mutual_info_score"
   ]
  },
  {
   "cell_type": "code",
   "execution_count": 2,
   "id": "9d870465",
   "metadata": {
    "ExecuteTime": {
     "end_time": "2022-12-02T07:37:53.017557Z",
     "start_time": "2022-12-02T07:37:53.004713Z"
    }
   },
   "outputs": [],
   "source": [
    "tqdm.pandas()"
   ]
  },
  {
   "cell_type": "markdown",
   "id": "52c60a4f",
   "metadata": {},
   "source": [
    "# Read data"
   ]
  },
  {
   "cell_type": "code",
   "execution_count": 3,
   "id": "c81d3638",
   "metadata": {
    "ExecuteTime": {
     "end_time": "2022-12-02T07:37:58.110520Z",
     "start_time": "2022-12-02T07:37:53.046039Z"
    },
    "scrolled": true
   },
   "outputs": [],
   "source": [
    "newsgroups_df = pd.read_csv(\"../../../Preprocessing/data/20News/master.csv\", index_col=0)"
   ]
  },
  {
   "cell_type": "code",
   "execution_count": 4,
   "id": "95389cd0",
   "metadata": {
    "ExecuteTime": {
     "end_time": "2022-12-02T07:37:58.145169Z",
     "start_time": "2022-12-02T07:37:58.118706Z"
    }
   },
   "outputs": [],
   "source": [
    "with open(\"../../../Preprocessing/data/20News/class.csv\", mode=\"r\") as f:\n",
    "    reader = csv.reader(f)\n",
    "    class_labels = [label for label in reader]"
   ]
  },
  {
   "cell_type": "code",
   "execution_count": 5,
   "id": "fec767ee",
   "metadata": {
    "ExecuteTime": {
     "end_time": "2022-12-02T07:37:58.190051Z",
     "start_time": "2022-12-02T07:37:58.164830Z"
    }
   },
   "outputs": [],
   "source": [
    "vector_sizes = [2, 3, 4, 6, 7, 8, 9, 10, 20, 40, 80, 160, 320, 640]"
   ]
  },
  {
   "cell_type": "code",
   "execution_count": 6,
   "id": "2cb7d0e6",
   "metadata": {
    "ExecuteTime": {
     "end_time": "2022-12-02T07:37:58.232562Z",
     "start_time": "2022-12-02T07:37:58.199379Z"
    }
   },
   "outputs": [],
   "source": [
    "label = newsgroups_df[\"class\"].to_numpy()"
   ]
  },
  {
   "cell_type": "code",
   "execution_count": 7,
   "id": "e73c9732",
   "metadata": {
    "ExecuteTime": {
     "end_time": "2022-12-02T07:37:58.272782Z",
     "start_time": "2022-12-02T07:37:58.245473Z"
    }
   },
   "outputs": [],
   "source": [
    "model_nums = 2\n",
    "vector_model_num = 0"
   ]
  },
  {
   "cell_type": "code",
   "execution_count": 8,
   "id": "11a9375e",
   "metadata": {
    "ExecuteTime": {
     "end_time": "2022-12-02T07:37:58.317239Z",
     "start_time": "2022-12-02T07:37:58.284049Z"
    }
   },
   "outputs": [],
   "source": [
    "def gmm_value(gmm, vectors, label):\n",
    "    pred = gmm.predict(vectors)\n",
    "    aic = gmm.aic(vectors)\n",
    "    bic = gmm.bic(vectors)\n",
    "    mi = adjusted_mutual_info_score(pred, label)\n",
    "    logl = gmm.score(vectors, label)\n",
    "    return {\"pred\": pred, \"aic\":aic, \"bic\":bic, \"mi\":mi, \"logl\":logl}"
   ]
  },
  {
   "cell_type": "code",
   "execution_count": 9,
   "id": "8ff6c10b",
   "metadata": {
    "ExecuteTime": {
     "end_time": "2022-12-02T08:43:13.882811Z",
     "start_time": "2022-12-02T07:37:58.329152Z"
    },
    "code_folding": []
   },
   "outputs": [
    {
     "name": "stderr",
     "output_type": "stream",
     "text": [
      "100%|██████████| 14/14 [32:45<00:00, 140.37s/it]\n",
      "100%|██████████| 14/14 [32:30<00:00, 139.31s/it]\n"
     ]
    }
   ],
   "source": [
    "vectors_path = \"../../../Clustering/data/20News/doc2vec/vector/\"\n",
    "models_path = \"../../../Clustering/data/20News/doc2vec/GMM/model/\"\n",
    "pred_path = \"../../../Clustering/data/20News/doc2vec/GMM/pred/\"\n",
    "stats_list = []\n",
    "for model_num in range(model_nums):\n",
    "    stats = []\n",
    "    for vector_size in tqdm(vector_sizes):\n",
    "        vector_path = f\"{vectors_path}{vector_size}/normalized/{vector_model_num}.csv\"\n",
    "        vectors = np.loadtxt(vector_path, delimiter=\",\")\n",
    "        \n",
    "        gmm = pickle.load(open(f\"{models_path}{vector_size}/{model_num}.sav\", \"rb\"))\n",
    "        value = gmm_value(gmm, vectors, label)\n",
    "        pred, *stat = value.items()\n",
    "        stats.append(dict(stat))\n",
    "    stats_list.append(stats)"
   ]
  },
  {
   "cell_type": "code",
   "execution_count": 13,
   "id": "41932348",
   "metadata": {
    "ExecuteTime": {
     "end_time": "2022-12-02T10:00:57.836135Z",
     "start_time": "2022-12-02T10:00:57.797301Z"
    }
   },
   "outputs": [],
   "source": [
    "stats_list = [pd.DataFrame(stats, index=vector_sizes) for stats in stats_list]"
   ]
  },
  {
   "cell_type": "code",
   "execution_count": 14,
   "id": "d5ce27c3",
   "metadata": {
    "ExecuteTime": {
     "end_time": "2022-12-02T10:01:00.110028Z",
     "start_time": "2022-12-02T10:01:00.038705Z"
    }
   },
   "outputs": [],
   "source": [
    "stats_path = \"../../data/20News/doc2vec/GMM/stats/\"\n",
    "for model_num in range(model_nums):\n",
    "    os.makedirs(f\"{stats_path}\", exist_ok=True)\n",
    "    stats_list[model_num].to_csv(f\"{stats_path}{model_num}.csv\")"
   ]
  },
  {
   "cell_type": "code",
   "execution_count": 15,
   "id": "80a0f5db",
   "metadata": {
    "ExecuteTime": {
     "end_time": "2022-12-02T10:01:00.635002Z",
     "start_time": "2022-12-02T10:01:00.534512Z"
    }
   },
   "outputs": [
    {
     "data": {
      "text/html": [
       "<div>\n",
       "<style scoped>\n",
       "    .dataframe tbody tr th:only-of-type {\n",
       "        vertical-align: middle;\n",
       "    }\n",
       "\n",
       "    .dataframe tbody tr th {\n",
       "        vertical-align: top;\n",
       "    }\n",
       "\n",
       "    .dataframe thead th {\n",
       "        text-align: right;\n",
       "    }\n",
       "</style>\n",
       "<table border=\"1\" class=\"dataframe\">\n",
       "  <thead>\n",
       "    <tr style=\"text-align: right;\">\n",
       "      <th></th>\n",
       "      <th>aic</th>\n",
       "      <th>bic</th>\n",
       "      <th>mi</th>\n",
       "      <th>logl</th>\n",
       "    </tr>\n",
       "  </thead>\n",
       "  <tbody>\n",
       "    <tr>\n",
       "      <th>2</th>\n",
       "      <td>-9.450630e+04</td>\n",
       "      <td>-9.357286e+04</td>\n",
       "      <td>0.111436</td>\n",
       "      <td>2.513645</td>\n",
       "    </tr>\n",
       "    <tr>\n",
       "      <th>3</th>\n",
       "      <td>-1.274552e+04</td>\n",
       "      <td>-1.118455e+04</td>\n",
       "      <td>0.165213</td>\n",
       "      <td>0.348708</td>\n",
       "    </tr>\n",
       "    <tr>\n",
       "      <th>4</th>\n",
       "      <td>-1.132760e+04</td>\n",
       "      <td>-8.982228e+03</td>\n",
       "      <td>0.238775</td>\n",
       "      <td>0.316396</td>\n",
       "    </tr>\n",
       "    <tr>\n",
       "      <th>6</th>\n",
       "      <td>4.141376e+02</td>\n",
       "      <td>4.798965e+03</td>\n",
       "      <td>0.359643</td>\n",
       "      <td>0.018674</td>\n",
       "    </tr>\n",
       "    <tr>\n",
       "      <th>7</th>\n",
       "      <td>-5.892896e+03</td>\n",
       "      <td>-2.530197e+02</td>\n",
       "      <td>0.395102</td>\n",
       "      <td>0.194495</td>\n",
       "    </tr>\n",
       "    <tr>\n",
       "      <th>8</th>\n",
       "      <td>-9.125519e+03</td>\n",
       "      <td>-2.073713e+03</td>\n",
       "      <td>0.392004</td>\n",
       "      <td>0.289810</td>\n",
       "    </tr>\n",
       "    <tr>\n",
       "      <th>9</th>\n",
       "      <td>-2.492829e+04</td>\n",
       "      <td>-1.630767e+04</td>\n",
       "      <td>0.399538</td>\n",
       "      <td>0.719683</td>\n",
       "    </tr>\n",
       "    <tr>\n",
       "      <th>10</th>\n",
       "      <td>-3.320079e+04</td>\n",
       "      <td>-2.285448e+04</td>\n",
       "      <td>0.421546</td>\n",
       "      <td>0.950833</td>\n",
       "    </tr>\n",
       "    <tr>\n",
       "      <th>20</th>\n",
       "      <td>-2.492712e+05</td>\n",
       "      <td>-2.130395e+05</td>\n",
       "      <td>0.456065</td>\n",
       "      <td>6.858463</td>\n",
       "    </tr>\n",
       "    <tr>\n",
       "      <th>40</th>\n",
       "      <td>-9.213421e+05</td>\n",
       "      <td>-7.862753e+05</td>\n",
       "      <td>0.478621</td>\n",
       "      <td>25.357637</td>\n",
       "    </tr>\n",
       "    <tr>\n",
       "      <th>80</th>\n",
       "      <td>-2.714474e+06</td>\n",
       "      <td>-2.193480e+06</td>\n",
       "      <td>0.520528</td>\n",
       "      <td>75.541555</td>\n",
       "    </tr>\n",
       "    <tr>\n",
       "      <th>160</th>\n",
       "      <td>-7.259996e+06</td>\n",
       "      <td>-5.214117e+06</td>\n",
       "      <td>0.529890</td>\n",
       "      <td>206.453208</td>\n",
       "    </tr>\n",
       "    <tr>\n",
       "      <th>320</th>\n",
       "      <td>-1.855269e+07</td>\n",
       "      <td>-1.044493e+07</td>\n",
       "      <td>0.512749</td>\n",
       "      <td>547.063901</td>\n",
       "    </tr>\n",
       "    <tr>\n",
       "      <th>640</th>\n",
       "      <td>-5.296343e+07</td>\n",
       "      <td>-2.068342e+07</td>\n",
       "      <td>0.498058</td>\n",
       "      <td>1623.523964</td>\n",
       "    </tr>\n",
       "  </tbody>\n",
       "</table>\n",
       "</div>"
      ],
      "text/plain": [
       "              aic           bic        mi         logl\n",
       "2   -9.450630e+04 -9.357286e+04  0.111436     2.513645\n",
       "3   -1.274552e+04 -1.118455e+04  0.165213     0.348708\n",
       "4   -1.132760e+04 -8.982228e+03  0.238775     0.316396\n",
       "6    4.141376e+02  4.798965e+03  0.359643     0.018674\n",
       "7   -5.892896e+03 -2.530197e+02  0.395102     0.194495\n",
       "8   -9.125519e+03 -2.073713e+03  0.392004     0.289810\n",
       "9   -2.492829e+04 -1.630767e+04  0.399538     0.719683\n",
       "10  -3.320079e+04 -2.285448e+04  0.421546     0.950833\n",
       "20  -2.492712e+05 -2.130395e+05  0.456065     6.858463\n",
       "40  -9.213421e+05 -7.862753e+05  0.478621    25.357637\n",
       "80  -2.714474e+06 -2.193480e+06  0.520528    75.541555\n",
       "160 -7.259996e+06 -5.214117e+06  0.529890   206.453208\n",
       "320 -1.855269e+07 -1.044493e+07  0.512749   547.063901\n",
       "640 -5.296343e+07 -2.068342e+07  0.498058  1623.523964"
      ]
     },
     "execution_count": 15,
     "metadata": {},
     "output_type": "execute_result"
    }
   ],
   "source": [
    "stats_list[0]"
   ]
  },
  {
   "cell_type": "code",
   "execution_count": null,
   "id": "549050e0",
   "metadata": {},
   "outputs": [],
   "source": []
  }
 ],
 "metadata": {
  "kernelspec": {
   "display_name": "Python 3 (ipykernel)",
   "language": "python",
   "name": "python3"
  },
  "language_info": {
   "codemirror_mode": {
    "name": "ipython",
    "version": 3
   },
   "file_extension": ".py",
   "mimetype": "text/x-python",
   "name": "python",
   "nbconvert_exporter": "python",
   "pygments_lexer": "ipython3",
   "version": "3.10.6"
  },
  "toc": {
   "base_numbering": 1,
   "nav_menu": {},
   "number_sections": true,
   "sideBar": true,
   "skip_h1_title": false,
   "title_cell": "Table of Contents",
   "title_sidebar": "Contents",
   "toc_cell": false,
   "toc_position": {},
   "toc_section_display": true,
   "toc_window_display": false
  }
 },
 "nbformat": 4,
 "nbformat_minor": 5
}
