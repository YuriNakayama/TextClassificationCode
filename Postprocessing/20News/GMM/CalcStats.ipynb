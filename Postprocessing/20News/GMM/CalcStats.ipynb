{
 "cells": [
  {
   "cell_type": "markdown",
   "id": "b95f9187",
   "metadata": {},
   "source": [
    "# Import"
   ]
  },
  {
   "cell_type": "code",
   "execution_count": 1,
   "id": "80a85ab5",
   "metadata": {
    "ExecuteTime": {
     "end_time": "2022-12-02T07:37:52.994781Z",
     "start_time": "2022-12-02T07:37:49.334849Z"
    }
   },
   "outputs": [
    {
     "name": "stderr",
     "output_type": "stream",
     "text": [
      "<jemalloc>: MADV_DONTNEED does not work (memset will be used instead)\n",
      "<jemalloc>: (This is the expected behaviour if you are running under QEMU)\n"
     ]
    }
   ],
   "source": [
    "import csv\n",
    "import os\n",
    "import pickle\n",
    "\n",
    "import numpy as np\n",
    "import pandas as pd\n",
    "from tqdm import tqdm\n",
    "from sklearn.mixture import GaussianMixture\n",
    "from sklearn.metrics import adjusted_mutual_info_score"
   ]
  },
  {
   "cell_type": "code",
   "execution_count": 2,
   "id": "9d870465",
   "metadata": {
    "ExecuteTime": {
     "end_time": "2022-12-02T07:37:53.017557Z",
     "start_time": "2022-12-02T07:37:53.004713Z"
    }
   },
   "outputs": [],
   "source": [
    "tqdm.pandas()"
   ]
  },
  {
   "cell_type": "markdown",
   "id": "52c60a4f",
   "metadata": {},
   "source": [
    "# Read data"
   ]
  },
  {
   "cell_type": "code",
   "execution_count": 3,
   "id": "c81d3638",
   "metadata": {
    "ExecuteTime": {
     "end_time": "2022-12-02T07:37:58.110520Z",
     "start_time": "2022-12-02T07:37:53.046039Z"
    },
    "scrolled": true
   },
   "outputs": [],
   "source": [
    "newsgroups_df = pd.read_csv(\"../../../Preprocessing/data/20News/master.csv\", index_col=0)"
   ]
  },
  {
   "cell_type": "code",
   "execution_count": 4,
   "id": "95389cd0",
   "metadata": {
    "ExecuteTime": {
     "end_time": "2022-12-02T07:37:58.145169Z",
     "start_time": "2022-12-02T07:37:58.118706Z"
    }
   },
   "outputs": [],
   "source": [
    "with open(\"../../../Preprocessing/data/20News/class.csv\", mode=\"r\") as f:\n",
    "    reader = csv.reader(f)\n",
    "    class_labels = [label for label in reader]"
   ]
  },
  {
   "cell_type": "code",
   "execution_count": 5,
   "id": "fec767ee",
   "metadata": {
    "ExecuteTime": {
     "end_time": "2022-12-02T07:37:58.190051Z",
     "start_time": "2022-12-02T07:37:58.164830Z"
    }
   },
   "outputs": [],
   "source": [
    "vector_sizes = [2, 3, 4, 6, 7, 8, 9, 10, 20, 40, 80, 160, 320, 640]"
   ]
  },
  {
   "cell_type": "code",
   "execution_count": 6,
   "id": "2cb7d0e6",
   "metadata": {
    "ExecuteTime": {
     "end_time": "2022-12-02T07:37:58.232562Z",
     "start_time": "2022-12-02T07:37:58.199379Z"
    }
   },
   "outputs": [],
   "source": [
    "label = newsgroups_df[\"class\"].to_numpy()"
   ]
  },
  {
   "cell_type": "code",
   "execution_count": 7,
   "id": "e73c9732",
   "metadata": {
    "ExecuteTime": {
     "end_time": "2022-12-02T07:37:58.272782Z",
     "start_time": "2022-12-02T07:37:58.245473Z"
    }
   },
   "outputs": [],
   "source": [
    "model_nums = 2\n",
    "vector_model_num = 0"
   ]
  },
  {
   "cell_type": "code",
   "execution_count": 8,
   "id": "11a9375e",
   "metadata": {
    "ExecuteTime": {
     "end_time": "2022-12-02T07:37:58.317239Z",
     "start_time": "2022-12-02T07:37:58.284049Z"
    }
   },
   "outputs": [],
   "source": [
    "def gmm_value(gmm, vectors, label):\n",
    "    pred = gmm.predict(vectors)\n",
    "    aic = gmm.aic(vectors)\n",
    "    bic = gmm.bic(vectors)\n",
    "    mi = adjusted_mutual_info_score(pred, label)\n",
    "    logl = gmm.score(vectors, label)\n",
    "    return {\"pred\": pred, \"aic\":aic, \"bic\":bic, \"mi\":mi, \"logl\":logl}"
   ]
  },
  {
   "cell_type": "code",
   "execution_count": 9,
   "id": "8ff6c10b",
   "metadata": {
    "ExecuteTime": {
     "end_time": "2022-12-02T08:43:13.882811Z",
     "start_time": "2022-12-02T07:37:58.329152Z"
    },
    "code_folding": [],
    "scrolled": true
   },
   "outputs": [
    {
     "name": "stderr",
     "output_type": "stream",
     "text": [
      "100%|██████████| 14/14 [32:45<00:00, 140.37s/it]\n",
      "100%|██████████| 14/14 [32:30<00:00, 139.31s/it]\n"
     ]
    }
   ],
   "source": [
    "vectors_path = \"../../../Clustering/data/20News/doc2vec/vector/\"\n",
    "models_path = \"../../../Clustering/data/20News/doc2vec/GMM/model/\"\n",
    "pred_path = \"../../../Clustering/data/20News/doc2vec/GMM/pred/\"\n",
    "stats_list = []\n",
    "for model_num in range(model_nums):\n",
    "    stats = []\n",
    "    for vector_size in tqdm(vector_sizes):\n",
    "        vector_path = f\"{vectors_path}{vector_size}/normalized/{vector_model_num}.csv\"\n",
    "        vectors = np.loadtxt(vector_path, delimiter=\",\")\n",
    "        \n",
    "        gmm = pickle.load(open(f\"{models_path}{vector_size}/{model_num}.sav\", \"rb\"))\n",
    "        value = gmm_value(gmm, vectors, label)\n",
    "        pred, *stat = value.items()\n",
    "        stats.append(dict(stat))\n",
    "    stats_list.append(stats)"
   ]
  },
  {
   "cell_type": "code",
   "execution_count": 13,
   "id": "41932348",
   "metadata": {
    "ExecuteTime": {
     "end_time": "2022-12-02T10:00:57.836135Z",
     "start_time": "2022-12-02T10:00:57.797301Z"
    }
   },
   "outputs": [],
   "source": [
    "stats_list = [pd.DataFrame(stats, index=vector_sizes) for stats in stats_list]"
   ]
  },
  {
   "cell_type": "code",
   "execution_count": 14,
   "id": "d5ce27c3",
   "metadata": {
    "ExecuteTime": {
     "end_time": "2022-12-02T10:01:00.110028Z",
     "start_time": "2022-12-02T10:01:00.038705Z"
    }
   },
   "outputs": [],
   "source": [
    "stats_path = \"../../data/20News/doc2vec/GMM/stats/\"\n",
    "for model_num in range(model_nums):\n",
    "    os.makedirs(f\"{stats_path}\", exist_ok=True)\n",
    "    stats_list[model_num].to_csv(f\"{stats_path}{model_num}.csv\")"
   ]
  },
  {
   "cell_type": "code",
   "execution_count": null,
   "id": "667dbac9",
   "metadata": {},
   "outputs": [],
   "source": []
  }
 ],
 "metadata": {
  "kernelspec": {
   "display_name": "Python 3 (ipykernel)",
   "language": "python",
   "name": "python3"
  },
  "language_info": {
   "codemirror_mode": {
    "name": "ipython",
    "version": 3
   },
   "file_extension": ".py",
   "mimetype": "text/x-python",
   "name": "python",
   "nbconvert_exporter": "python",
   "pygments_lexer": "ipython3",
   "version": "3.10.6"
  },
  "toc": {
   "base_numbering": 1,
   "nav_menu": {},
   "number_sections": true,
   "sideBar": true,
   "skip_h1_title": false,
   "title_cell": "Table of Contents",
   "title_sidebar": "Contents",
   "toc_cell": false,
   "toc_position": {},
   "toc_section_display": true,
   "toc_window_display": false
  }
 },
 "nbformat": 4,
 "nbformat_minor": 5
}
