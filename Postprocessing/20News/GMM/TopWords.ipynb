{
 "cells": [
  {
   "cell_type": "markdown",
   "id": "b95f9187",
   "metadata": {},
   "source": [
    "# Import"
   ]
  },
  {
   "cell_type": "code",
   "execution_count": 1,
   "id": "80a85ab5",
   "metadata": {
    "ExecuteTime": {
     "end_time": "2022-12-04T17:52:21.774271Z",
     "start_time": "2022-12-04T17:52:17.238750Z"
    }
   },
   "outputs": [
    {
     "name": "stderr",
     "output_type": "stream",
     "text": [
      "<jemalloc>: MADV_DONTNEED does not work (memset will be used instead)\n",
      "<jemalloc>: (This is the expected behaviour if you are running under QEMU)\n"
     ]
    }
   ],
   "source": [
    "import csv\n",
    "import os\n",
    "import pickle\n",
    "\n",
    "import numpy as np\n",
    "import pandas as pd\n",
    "from gensim.corpora.dictionary import Dictionary\n",
    "from gensim.models.coherencemodel import CoherenceModel\n",
    "from sklearn.mixture import GaussianMixture\n",
    "from smart_open import open\n",
    "from stop_words import get_stop_words\n",
    "from tqdm import tqdm"
   ]
  },
  {
   "cell_type": "code",
   "execution_count": 2,
   "id": "9d870465",
   "metadata": {
    "ExecuteTime": {
     "end_time": "2022-12-04T17:52:21.802573Z",
     "start_time": "2022-12-04T17:52:21.784572Z"
    }
   },
   "outputs": [],
   "source": [
    "tqdm.pandas()"
   ]
  },
  {
   "cell_type": "markdown",
   "id": "52c60a4f",
   "metadata": {},
   "source": [
    "# Read data"
   ]
  },
  {
   "cell_type": "code",
   "execution_count": null,
   "id": "c81d3638",
   "metadata": {
    "ExecuteTime": {
     "start_time": "2022-12-04T17:52:17.473Z"
    },
    "scrolled": true
   },
   "outputs": [],
   "source": [
    "newsgroups_df = pd.read_csv(\"../../../Preprocessing/data/20News/master.csv\", index_col=0)"
   ]
  },
  {
   "cell_type": "code",
   "execution_count": null,
   "id": "95389cd0",
   "metadata": {
    "ExecuteTime": {
     "start_time": "2022-12-04T17:52:17.557Z"
    }
   },
   "outputs": [],
   "source": [
    "with open(\"../../../Preprocessing/data/20News/class.csv\", mode=\"r\") as f:\n",
    "    reader = csv.reader(f)\n",
    "    class_labels = [label for label in reader]"
   ]
  },
  {
   "cell_type": "code",
   "execution_count": null,
   "id": "fec767ee",
   "metadata": {
    "ExecuteTime": {
     "start_time": "2022-12-04T17:52:17.642Z"
    }
   },
   "outputs": [],
   "source": [
    "vector_sizes = [2, 3, 4, 6, 7, 8, 9, 10, 20, 40, 80, 160, 320, 640]"
   ]
  },
  {
   "cell_type": "code",
   "execution_count": null,
   "id": "ffc386a8",
   "metadata": {
    "ExecuteTime": {
     "start_time": "2022-12-04T17:52:17.725Z"
    }
   },
   "outputs": [],
   "source": [
    "class Corpus:\n",
    "    def __init__(self, path=None, texts=None):\n",
    "        self.path = path\n",
    "        self.texts = texts\n",
    "        self.dictionary = Dictionary(texts)\n",
    "\n",
    "    def __iter__(self):\n",
    "        if self.path is not None:\n",
    "            for line in open(self.path):\n",
    "                # assume there's one document per line, tokens separated by whitespace\n",
    "                yield self.dictionary.doc2bow(line.lower().split())\n",
    "        else:\n",
    "            for line in self.texts:\n",
    "                yield self.dictionary.doc2bow(line)"
   ]
  },
  {
   "cell_type": "code",
   "execution_count": null,
   "id": "9a93c1de",
   "metadata": {
    "ExecuteTime": {
     "start_time": "2022-12-04T17:52:18.144Z"
    }
   },
   "outputs": [],
   "source": [
    "stop_words = get_stop_words(\"english\")\n",
    "stop_words_add = [\"would\", \"could\", \"should\"]\n",
    "stop_char = [\"==\", \"--\", \"\\'s\", \"''\", \"n't\", \"``\",\"..\", \"...\", \"....\", \"'m\", \"'ve\", \"'d\", \"'ll\", \"\"]\n",
    "stop_words = stop_words + stop_words_add + stop_char"
   ]
  },
  {
   "cell_type": "code",
   "execution_count": null,
   "id": "ad348a50",
   "metadata": {
    "ExecuteTime": {
     "start_time": "2022-12-04T17:52:18.370Z"
    }
   },
   "outputs": [],
   "source": [
    "texts = newsgroups_df.words_nonstop.progress_apply(lambda x: x.split(' ')).tolist()\n",
    "#     一文字以下の単語とstop_word, stop_charを削除\n",
    "texts = [[word for word in text if len(word) > 1 if word not in stop_words] for text in texts]\n",
    "corpus = Corpus(texts=texts)\n",
    "dictionary = Dictionary(texts)\n",
    "#     登場頻度80%以上の単語を削除\n",
    "dictionary.filter_extremes(no_above=0.8)"
   ]
  },
  {
   "cell_type": "code",
   "execution_count": null,
   "id": "694f0571",
   "metadata": {
    "ExecuteTime": {
     "start_time": "2022-12-04T17:52:18.589Z"
    }
   },
   "outputs": [],
   "source": [
    "label = newsgroups_df[\"class\"].to_numpy()"
   ]
  },
  {
   "cell_type": "code",
   "execution_count": 10,
   "id": "356812b5",
   "metadata": {
    "ExecuteTime": {
     "end_time": "2022-12-03T08:41:19.681174Z",
     "start_time": "2022-12-03T08:41:19.632890Z"
    }
   },
   "outputs": [],
   "source": [
    "model_nums = 2\n",
    "vector_model_num = 0"
   ]
  },
  {
   "cell_type": "code",
   "execution_count": 11,
   "id": "4b381ebf",
   "metadata": {
    "ExecuteTime": {
     "end_time": "2022-12-03T14:53:37.502009Z",
     "start_time": "2022-12-03T08:41:19.699489Z"
    },
    "scrolled": true
   },
   "outputs": [
    {
     "name": "stderr",
     "output_type": "stream",
     "text": [
      "100%|██████████| 14/14 [1:02:21<00:00, 267.27s/it]\n",
      "100%|██████████| 14/14 [5:09:55<00:00, 1328.28s/it]  \n"
     ]
    }
   ],
   "source": [
    "pred_path_root = \"../../../Clustering/data/20News/doc2vec/GMM/pred/\"\n",
    "\n",
    "top_words = []\n",
    "for model_num in range(model_nums):\n",
    "    coherence = []\n",
    "    for vector_size in tqdm(vector_sizes):\n",
    "        pred_path = f\"{pred_path_root}{vector_size}/normalized/{vector_model_num}.csv\"\n",
    "        \n",
    "        "
   ]
  },
  {
   "cell_type": "code",
   "execution_count": 12,
   "id": "d4f33887",
   "metadata": {
    "ExecuteTime": {
     "end_time": "2022-12-03T14:53:37.702996Z",
     "start_time": "2022-12-03T14:53:37.528397Z"
    }
   },
   "outputs": [
    {
     "data": {
      "text/html": [
       "<div>\n",
       "<style scoped>\n",
       "    .dataframe tbody tr th:only-of-type {\n",
       "        vertical-align: middle;\n",
       "    }\n",
       "\n",
       "    .dataframe tbody tr th {\n",
       "        vertical-align: top;\n",
       "    }\n",
       "\n",
       "    .dataframe thead th {\n",
       "        text-align: right;\n",
       "    }\n",
       "</style>\n",
       "<table border=\"1\" class=\"dataframe\">\n",
       "  <thead>\n",
       "    <tr style=\"text-align: right;\">\n",
       "      <th></th>\n",
       "      <th>0</th>\n",
       "      <th>1</th>\n",
       "      <th>2</th>\n",
       "      <th>3</th>\n",
       "      <th>4</th>\n",
       "      <th>5</th>\n",
       "      <th>6</th>\n",
       "      <th>7</th>\n",
       "      <th>8</th>\n",
       "      <th>9</th>\n",
       "      <th>10</th>\n",
       "      <th>11</th>\n",
       "      <th>12</th>\n",
       "      <th>13</th>\n",
       "    </tr>\n",
       "  </thead>\n",
       "  <tbody>\n",
       "    <tr>\n",
       "      <th>0</th>\n",
       "      <td>0.260099</td>\n",
       "      <td>0.567958</td>\n",
       "      <td>0.469335</td>\n",
       "      <td>0.481532</td>\n",
       "      <td>0.532413</td>\n",
       "      <td>0.412016</td>\n",
       "      <td>0.402025</td>\n",
       "      <td>0.559057</td>\n",
       "      <td>0.434881</td>\n",
       "      <td>0.382951</td>\n",
       "      <td>0.675027</td>\n",
       "      <td>0.452253</td>\n",
       "      <td>0.272288</td>\n",
       "      <td>0.447694</td>\n",
       "    </tr>\n",
       "    <tr>\n",
       "      <th>1</th>\n",
       "      <td>0.541707</td>\n",
       "      <td>0.439913</td>\n",
       "      <td>0.419599</td>\n",
       "      <td>0.526837</td>\n",
       "      <td>0.443053</td>\n",
       "      <td>0.440034</td>\n",
       "      <td>0.493740</td>\n",
       "      <td>0.520011</td>\n",
       "      <td>0.405326</td>\n",
       "      <td>0.606243</td>\n",
       "      <td>0.573800</td>\n",
       "      <td>0.480668</td>\n",
       "      <td>0.630010</td>\n",
       "      <td>0.525632</td>\n",
       "    </tr>\n",
       "  </tbody>\n",
       "</table>\n",
       "</div>"
      ],
      "text/plain": [
       "         0         1         2         3         4         5         6   \\\n",
       "0  0.260099  0.567958  0.469335  0.481532  0.532413  0.412016  0.402025   \n",
       "1  0.541707  0.439913  0.419599  0.526837  0.443053  0.440034  0.493740   \n",
       "\n",
       "         7         8         9         10        11        12        13  \n",
       "0  0.559057  0.434881  0.382951  0.675027  0.452253  0.272288  0.447694  \n",
       "1  0.520011  0.405326  0.606243  0.573800  0.480668  0.630010  0.525632  "
      ]
     },
     "execution_count": 12,
     "metadata": {},
     "output_type": "execute_result"
    }
   ],
   "source": [
    "pd.DataFrame(coherences)"
   ]
  },
  {
   "cell_type": "code",
   "execution_count": null,
   "id": "7d49167f",
   "metadata": {},
   "outputs": [],
   "source": []
  }
 ],
 "metadata": {
  "kernelspec": {
   "display_name": "Python 3 (ipykernel)",
   "language": "python",
   "name": "python3"
  },
  "language_info": {
   "codemirror_mode": {
    "name": "ipython",
    "version": 3
   },
   "file_extension": ".py",
   "mimetype": "text/x-python",
   "name": "python",
   "nbconvert_exporter": "python",
   "pygments_lexer": "ipython3",
   "version": "3.10.6"
  },
  "toc": {
   "base_numbering": 1,
   "nav_menu": {},
   "number_sections": true,
   "sideBar": true,
   "skip_h1_title": false,
   "title_cell": "Table of Contents",
   "title_sidebar": "Contents",
   "toc_cell": false,
   "toc_position": {},
   "toc_section_display": true,
   "toc_window_display": false
  }
 },
 "nbformat": 4,
 "nbformat_minor": 5
}
