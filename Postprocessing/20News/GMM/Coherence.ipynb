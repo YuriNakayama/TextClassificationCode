{
 "cells": [
  {
   "cell_type": "markdown",
   "id": "b95f9187",
   "metadata": {},
   "source": [
    "# Import"
   ]
  },
  {
   "cell_type": "code",
   "execution_count": 1,
   "id": "80a85ab5",
   "metadata": {
    "ExecuteTime": {
     "end_time": "2022-12-05T12:42:26.378193Z",
     "start_time": "2022-12-05T12:42:25.332154Z"
    }
   },
   "outputs": [],
   "source": [
    "import csv\n",
    "import os\n",
    "import pickle\n",
    "import sys\n",
    "\n",
    "import numpy as np\n",
    "import pandas as pd\n",
    "from gensim.corpora.dictionary import Dictionary\n",
    "from gensim.models.coherencemodel import CoherenceModel\n",
    "from sklearn.mixture import GaussianMixture\n",
    "from smart_open import open\n",
    "from stop_words import get_stop_words\n",
    "from tqdm import tqdm"
   ]
  },
  {
   "cell_type": "markdown",
   "id": "2543f4e4",
   "metadata": {},
   "source": [
    "## Add configuration file"
   ]
  },
  {
   "cell_type": "code",
   "execution_count": 2,
   "id": "b62547de",
   "metadata": {
    "ExecuteTime": {
     "end_time": "2022-12-05T12:42:26.386331Z",
     "start_time": "2022-12-05T12:42:26.382143Z"
    }
   },
   "outputs": [],
   "source": [
    "sys.path.append(\"/home/jovyan/core/config/\")"
   ]
  },
  {
   "cell_type": "code",
   "execution_count": 3,
   "id": "84da401b",
   "metadata": {
    "ExecuteTime": {
     "end_time": "2022-12-05T12:42:26.400406Z",
     "start_time": "2022-12-05T12:42:26.395600Z"
    }
   },
   "outputs": [],
   "source": [
    "from ALL import config "
   ]
  },
  {
   "cell_type": "markdown",
   "id": "9330548e",
   "metadata": {},
   "source": [
    "## Set condition"
   ]
  },
  {
   "cell_type": "code",
   "execution_count": 4,
   "id": "a30f3623",
   "metadata": {
    "ExecuteTime": {
     "end_time": "2022-12-05T12:42:26.409037Z",
     "start_time": "2022-12-05T12:42:26.405016Z"
    }
   },
   "outputs": [],
   "source": [
    "tqdm.pandas()\n",
    "pd.set_option(\"display.max_columns\", 100)\n",
    "pd.set_option(\"display.max_rows\", 50)"
   ]
  },
  {
   "cell_type": "markdown",
   "id": "52c60a4f",
   "metadata": {},
   "source": [
    "# Read data"
   ]
  },
  {
   "cell_type": "code",
   "execution_count": 5,
   "id": "c81d3638",
   "metadata": {
    "ExecuteTime": {
     "end_time": "2022-12-05T12:42:27.497589Z",
     "start_time": "2022-12-05T12:42:26.411183Z"
    },
    "scrolled": true
   },
   "outputs": [],
   "source": [
    "newsgroups_df = pd.read_csv(\"../../../Preprocessing/data/20News/master.csv\", index_col=0)"
   ]
  },
  {
   "cell_type": "code",
   "execution_count": 6,
   "id": "95389cd0",
   "metadata": {
    "ExecuteTime": {
     "end_time": "2022-12-05T12:42:27.503943Z",
     "start_time": "2022-12-05T12:42:27.500219Z"
    }
   },
   "outputs": [],
   "source": [
    "with open(\"../../../Preprocessing/data/20News/class.csv\", mode=\"r\") as f:\n",
    "    reader = csv.reader(f)\n",
    "    class_labels = [label for label in reader]"
   ]
  },
  {
   "cell_type": "code",
   "execution_count": 7,
   "id": "c112357f",
   "metadata": {
    "ExecuteTime": {
     "end_time": "2022-12-05T12:42:27.515272Z",
     "start_time": "2022-12-05T12:42:27.509988Z"
    }
   },
   "outputs": [],
   "source": [
    "vector_dims = config[\"vectorize\"][\"doc2vec\"][\"dims\"]\n",
    "model_nums = config[\"clustering\"][\"gmm\"][\"max_model_num\"]\n",
    "vector_model_num = config[\"vectorize\"][\"doc2vec\"][\"max_model_num\"]\n",
    "covariance_types = config[\"clustering\"][\"gmm\"][\"covariance_types\"]"
   ]
  },
  {
   "cell_type": "code",
   "execution_count": 8,
   "id": "ffc386a8",
   "metadata": {
    "ExecuteTime": {
     "end_time": "2022-12-05T12:42:27.527671Z",
     "start_time": "2022-12-05T12:42:27.521872Z"
    }
   },
   "outputs": [],
   "source": [
    "class Corpus:\n",
    "    def __init__(self, path=None, texts=None):\n",
    "        self.path = path\n",
    "        self.texts = texts\n",
    "        self.dictionary = Dictionary(texts)\n",
    "\n",
    "    def __iter__(self):\n",
    "        if self.path is not None:\n",
    "            for line in open(self.path):\n",
    "                # assume there's one document per line, tokens separated by whitespace\n",
    "                yield self.dictionary.doc2bow(line.lower().split())\n",
    "        else:\n",
    "            for line in self.texts:\n",
    "                yield self.dictionary.doc2bow(line)"
   ]
  },
  {
   "cell_type": "code",
   "execution_count": 9,
   "id": "ad348a50",
   "metadata": {
    "ExecuteTime": {
     "end_time": "2022-12-05T12:42:39.567040Z",
     "start_time": "2022-12-05T12:42:27.533944Z"
    }
   },
   "outputs": [
    {
     "name": "stderr",
     "output_type": "stream",
     "text": [
      "100%|██████████| 18846/18846 [00:00<00:00, 39599.39it/s]\n"
     ]
    }
   ],
   "source": [
    "texts = newsgroups_df.words_nonstop.progress_apply(lambda x: x.split(' ')).tolist()\n",
    "corpus = Corpus(texts=texts)\n",
    "dictionary = Dictionary(texts)\n",
    "#     登場頻度80%以上の単語を削除\n",
    "dictionary.filter_extremes()"
   ]
  },
  {
   "cell_type": "code",
   "execution_count": 10,
   "id": "694f0571",
   "metadata": {
    "ExecuteTime": {
     "end_time": "2022-12-05T12:42:39.575179Z",
     "start_time": "2022-12-05T12:42:39.571799Z"
    }
   },
   "outputs": [],
   "source": [
    "label = newsgroups_df[\"class\"].to_numpy()"
   ]
  },
  {
   "cell_type": "code",
   "execution_count": 11,
   "id": "4b381ebf",
   "metadata": {
    "ExecuteTime": {
     "end_time": "2022-12-05T12:51:18.115621Z",
     "start_time": "2022-12-05T12:42:39.577184Z"
    },
    "code_folding": [],
    "scrolled": true
   },
   "outputs": [
    {
     "name": "stderr",
     "output_type": "stream",
     "text": [
      "100%|██████████| 14/14 [08:38<00:00, 37.04s/it]\n"
     ]
    }
   ],
   "source": [
    "vectors_path = \"../../../Clustering/data/20News/doc2vec/vector/\"\n",
    "models_path = \"../../../Clustering/data/20News/doc2vec/GMM/model/\"\n",
    "pred_path = \"../../../Clustering/data/20News/doc2vec/GMM/pred/\"\n",
    "\n",
    "for vector_dim in tqdm(vector_dims):\n",
    "    coherences = []\n",
    "    for model_num in range(model_nums):\n",
    "        coherence = []\n",
    "        for covariance_type in covariance_types:\n",
    "            pred = np.loadtxt(\n",
    "                f\"{pred_path}{vector_dim}/{covariance_type}/{model_num}.csv\", delimiter=\",\"\n",
    "            )\n",
    "\n",
    "            cm = CoherenceModel(\n",
    "                topics=pred.reshape(1, -1),\n",
    "                corpus=corpus,\n",
    "                dictionary=dictionary,\n",
    "                texts=texts,\n",
    "                coherence=\"c_v\",\n",
    "            )\n",
    "            coherence.append(cm.get_coherence())\n",
    "        coherences.append(coherence)\n",
    "    coherence_path = f\"../../data/20News/doc2vec/GMM/coherence/{vector_dim}.csv\"\n",
    "    os.makedirs(os.path.dirname(coherence_path), exist_ok=True)\n",
    "    pd.DataFrame(coherences, columns=covariance_types).to_csv(coherence_path)"
   ]
  },
  {
   "cell_type": "code",
   "execution_count": null,
   "id": "04d18a8c",
   "metadata": {},
   "outputs": [],
   "source": []
  }
 ],
 "metadata": {
  "kernelspec": {
   "display_name": "Python 3 (ipykernel)",
   "language": "python",
   "name": "python3"
  },
  "language_info": {
   "codemirror_mode": {
    "name": "ipython",
    "version": 3
   },
   "file_extension": ".py",
   "mimetype": "text/x-python",
   "name": "python",
   "nbconvert_exporter": "python",
   "pygments_lexer": "ipython3",
   "version": "3.10.8"
  },
  "toc": {
   "base_numbering": 1,
   "nav_menu": {},
   "number_sections": true,
   "sideBar": true,
   "skip_h1_title": false,
   "title_cell": "Table of Contents",
   "title_sidebar": "Contents",
   "toc_cell": false,
   "toc_position": {},
   "toc_section_display": true,
   "toc_window_display": false
  }
 },
 "nbformat": 4,
 "nbformat_minor": 5
}
