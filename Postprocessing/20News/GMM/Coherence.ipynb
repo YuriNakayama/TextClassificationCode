{
 "cells": [
  {
   "cell_type": "markdown",
   "id": "b95f9187",
   "metadata": {},
   "source": [
    "# Import"
   ]
  },
  {
   "cell_type": "code",
   "execution_count": 1,
   "id": "80a85ab5",
   "metadata": {
    "ExecuteTime": {
     "end_time": "2022-11-27T08:58:13.938967Z",
     "start_time": "2022-11-27T08:58:09.892983Z"
    }
   },
   "outputs": [
    {
     "name": "stderr",
     "output_type": "stream",
     "text": [
      "<jemalloc>: MADV_DONTNEED does not work (memset will be used instead)\n",
      "<jemalloc>: (This is the expected behaviour if you are running under QEMU)\n"
     ]
    }
   ],
   "source": [
    "import csv\n",
    "import os\n",
    "import pickle\n",
    "\n",
    "import numpy as np\n",
    "import pandas as pd\n",
    "from tqdm import tqdm\n",
    "from sklearn.mixture import GaussianMixture\n",
    "from sklearn.metrics import adjusted_mutual_info_score\n",
    "from gensim.models.coherencemodel import CoherenceModel\n",
    "from gensim.corpora.dictionary import Dictionary\n",
    "from smart_open import open"
   ]
  },
  {
   "cell_type": "code",
   "execution_count": 2,
   "id": "9d870465",
   "metadata": {
    "ExecuteTime": {
     "end_time": "2022-11-27T08:58:13.974301Z",
     "start_time": "2022-11-27T08:58:13.951092Z"
    }
   },
   "outputs": [],
   "source": [
    "tqdm.pandas()"
   ]
  },
  {
   "cell_type": "markdown",
   "id": "52c60a4f",
   "metadata": {},
   "source": [
    "# Read data"
   ]
  },
  {
   "cell_type": "code",
   "execution_count": 3,
   "id": "c81d3638",
   "metadata": {
    "ExecuteTime": {
     "end_time": "2022-11-27T08:58:18.912631Z",
     "start_time": "2022-11-27T08:58:13.989669Z"
    },
    "scrolled": true
   },
   "outputs": [],
   "source": [
    "newsgroups_df = pd.read_csv(\"../../../Preprocessing/data/20News/master.csv\", index_col=0)"
   ]
  },
  {
   "cell_type": "code",
   "execution_count": 4,
   "id": "95389cd0",
   "metadata": {
    "ExecuteTime": {
     "end_time": "2022-11-27T08:58:18.956585Z",
     "start_time": "2022-11-27T08:58:18.928866Z"
    }
   },
   "outputs": [],
   "source": [
    "with open(\"../../../Preprocessing/data/20News/class.csv\", mode=\"r\") as f:\n",
    "    reader = csv.reader(f)\n",
    "    class_labels = [label for label in reader]"
   ]
  },
  {
   "cell_type": "code",
   "execution_count": 5,
   "id": "fec767ee",
   "metadata": {
    "ExecuteTime": {
     "end_time": "2022-11-27T08:58:19.038386Z",
     "start_time": "2022-11-27T08:58:18.967319Z"
    }
   },
   "outputs": [],
   "source": [
    "vector_sizes = [2, 3, 4, 6, 7, 8, 9, 10, 20, 40, 80, 160, 320, 640]"
   ]
  },
  {
   "cell_type": "code",
   "execution_count": 6,
   "id": "ffc386a8",
   "metadata": {
    "ExecuteTime": {
     "end_time": "2022-11-27T08:58:19.091606Z",
     "start_time": "2022-11-27T08:58:19.051957Z"
    }
   },
   "outputs": [],
   "source": [
    "class Corpus:\n",
    "    def __init__(self, path=None, texts=None):\n",
    "        self.path = path\n",
    "        self.texts = texts\n",
    "        self.dictionary = Dictionary(texts)\n",
    "\n",
    "    def __iter__(self):\n",
    "        if self.path is not None:\n",
    "            for line in open(self.path):\n",
    "                # assume there's one document per line, tokens separated by whitespace\n",
    "                yield self.dictionary.doc2bow(line.lower().split())\n",
    "        else:\n",
    "            for line in self.texts:\n",
    "                yield self.dictionary.doc2bow(line)"
   ]
  },
  {
   "cell_type": "code",
   "execution_count": 7,
   "id": "ad348a50",
   "metadata": {
    "ExecuteTime": {
     "end_time": "2022-11-27T08:59:02.314311Z",
     "start_time": "2022-11-27T08:58:19.101724Z"
    }
   },
   "outputs": [
    {
     "name": "stderr",
     "output_type": "stream",
     "text": [
      "100%|██████████| 18846/18846 [00:01<00:00, 14546.11it/s]\n"
     ]
    }
   ],
   "source": [
    "texts = newsgroups_df.words_nonstop.progress_apply(lambda x: x.split(' ')).tolist()\n",
    "corpus = Corpus(texts=texts)\n",
    "dictionary = Dictionary(texts)"
   ]
  },
  {
   "cell_type": "code",
   "execution_count": 8,
   "id": "694f0571",
   "metadata": {
    "ExecuteTime": {
     "end_time": "2022-11-27T08:59:02.360237Z",
     "start_time": "2022-11-27T08:59:02.333994Z"
    }
   },
   "outputs": [],
   "source": [
    "label = newsgroups_df[\"class\"].to_numpy()"
   ]
  },
  {
   "cell_type": "code",
   "execution_count": 9,
   "id": "356812b5",
   "metadata": {
    "ExecuteTime": {
     "end_time": "2022-11-27T08:59:02.420134Z",
     "start_time": "2022-11-27T08:59:02.378075Z"
    }
   },
   "outputs": [],
   "source": [
    "model_nums = 2\n",
    "vector_model_num = 0"
   ]
  },
  {
   "cell_type": "code",
   "execution_count": 10,
   "id": "4b381ebf",
   "metadata": {
    "ExecuteTime": {
     "end_time": "2022-11-27T09:39:40.768523Z",
     "start_time": "2022-11-27T08:59:02.439892Z"
    },
    "scrolled": true
   },
   "outputs": [
    {
     "name": "stderr",
     "output_type": "stream",
     "text": [
      "100%|██████████| 14/14 [20:48<00:00, 89.19s/it] \n",
      "100%|██████████| 14/14 [19:49<00:00, 84.97s/it] \n"
     ]
    }
   ],
   "source": [
    "vectors_path = \"../../../Clustering/data/20News/doc2vec/vector/\"\n",
    "models_path = \"../../../Clustering/data/20News/doc2vec/GMM/model/\"\n",
    "pred_path = \"../../../Clustering/data/20News/doc2vec/GMM/pred/\"\n",
    "\n",
    "coherences = []\n",
    "for model_num in range(model_nums):\n",
    "    coherence = []\n",
    "    for vector_size in tqdm(vector_sizes):\n",
    "        vector_path = f\"{vectors_path}{vector_size}/normalized/{vector_model_num}.csv\"\n",
    "        vectors = np.loadtxt(vector_path, delimiter=\",\")\n",
    "\n",
    "        gmm = pickle.load(open(f\"{models_path}{vector_size}/{model_num}.sav\", \"rb\"))\n",
    "        pred = gmm.predict(vectors)\n",
    "\n",
    "        cm = CoherenceModel(\n",
    "            topics=pred.reshape(1, -1),\n",
    "            corpus=corpus,\n",
    "            dictionary=dictionary,\n",
    "            texts=texts,\n",
    "            coherence=\"c_v\",\n",
    "        )\n",
    "        coherence.append(cm.get_coherence())\n",
    "    coherences.append(coherence)\n",
    "    "
   ]
  },
  {
   "cell_type": "code",
   "execution_count": 11,
   "id": "d4f33887",
   "metadata": {
    "ExecuteTime": {
     "end_time": "2022-11-27T09:39:40.993816Z",
     "start_time": "2022-11-27T09:39:40.789316Z"
    }
   },
   "outputs": [
    {
     "data": {
      "text/html": [
       "<div>\n",
       "<style scoped>\n",
       "    .dataframe tbody tr th:only-of-type {\n",
       "        vertical-align: middle;\n",
       "    }\n",
       "\n",
       "    .dataframe tbody tr th {\n",
       "        vertical-align: top;\n",
       "    }\n",
       "\n",
       "    .dataframe thead th {\n",
       "        text-align: right;\n",
       "    }\n",
       "</style>\n",
       "<table border=\"1\" class=\"dataframe\">\n",
       "  <thead>\n",
       "    <tr style=\"text-align: right;\">\n",
       "      <th></th>\n",
       "      <th>0</th>\n",
       "      <th>1</th>\n",
       "      <th>2</th>\n",
       "      <th>3</th>\n",
       "      <th>4</th>\n",
       "      <th>5</th>\n",
       "      <th>6</th>\n",
       "      <th>7</th>\n",
       "      <th>8</th>\n",
       "      <th>9</th>\n",
       "      <th>10</th>\n",
       "      <th>11</th>\n",
       "      <th>12</th>\n",
       "      <th>13</th>\n",
       "    </tr>\n",
       "  </thead>\n",
       "  <tbody>\n",
       "    <tr>\n",
       "      <th>0</th>\n",
       "      <td>0.516721</td>\n",
       "      <td>0.553618</td>\n",
       "      <td>0.501803</td>\n",
       "      <td>0.508242</td>\n",
       "      <td>0.524243</td>\n",
       "      <td>0.514786</td>\n",
       "      <td>0.537837</td>\n",
       "      <td>0.513836</td>\n",
       "      <td>0.502633</td>\n",
       "      <td>0.529951</td>\n",
       "      <td>0.502572</td>\n",
       "      <td>0.520165</td>\n",
       "      <td>0.560618</td>\n",
       "      <td>0.512547</td>\n",
       "    </tr>\n",
       "    <tr>\n",
       "      <th>1</th>\n",
       "      <td>0.522438</td>\n",
       "      <td>0.567989</td>\n",
       "      <td>0.535833</td>\n",
       "      <td>0.542723</td>\n",
       "      <td>0.517592</td>\n",
       "      <td>0.550262</td>\n",
       "      <td>0.510531</td>\n",
       "      <td>0.513212</td>\n",
       "      <td>0.505539</td>\n",
       "      <td>0.540728</td>\n",
       "      <td>0.538972</td>\n",
       "      <td>0.559448</td>\n",
       "      <td>0.524159</td>\n",
       "      <td>0.525926</td>\n",
       "    </tr>\n",
       "  </tbody>\n",
       "</table>\n",
       "</div>"
      ],
      "text/plain": [
       "         0         1         2         3         4         5         6   \\\n",
       "0  0.516721  0.553618  0.501803  0.508242  0.524243  0.514786  0.537837   \n",
       "1  0.522438  0.567989  0.535833  0.542723  0.517592  0.550262  0.510531   \n",
       "\n",
       "         7         8         9         10        11        12        13  \n",
       "0  0.513836  0.502633  0.529951  0.502572  0.520165  0.560618  0.512547  \n",
       "1  0.513212  0.505539  0.540728  0.538972  0.559448  0.524159  0.525926  "
      ]
     },
     "execution_count": 11,
     "metadata": {},
     "output_type": "execute_result"
    }
   ],
   "source": [
    "pd.DataFrame(coherences)"
   ]
  },
  {
   "cell_type": "code",
   "execution_count": null,
   "id": "7d49167f",
   "metadata": {},
   "outputs": [],
   "source": []
  }
 ],
 "metadata": {
  "kernelspec": {
   "display_name": "Python 3 (ipykernel)",
   "language": "python",
   "name": "python3"
  },
  "language_info": {
   "codemirror_mode": {
    "name": "ipython",
    "version": 3
   },
   "file_extension": ".py",
   "mimetype": "text/x-python",
   "name": "python",
   "nbconvert_exporter": "python",
   "pygments_lexer": "ipython3",
   "version": "3.10.6"
  },
  "toc": {
   "base_numbering": 1,
   "nav_menu": {},
   "number_sections": true,
   "sideBar": true,
   "skip_h1_title": false,
   "title_cell": "Table of Contents",
   "title_sidebar": "Contents",
   "toc_cell": false,
   "toc_position": {},
   "toc_section_display": true,
   "toc_window_display": false
  }
 },
 "nbformat": 4,
 "nbformat_minor": 5
}
