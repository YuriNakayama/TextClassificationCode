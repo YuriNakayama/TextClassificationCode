{
 "cells": [
  {
   "cell_type": "markdown",
   "id": "b95f9187",
   "metadata": {},
   "source": [
    "# Import"
   ]
  },
  {
   "cell_type": "code",
   "execution_count": 1,
   "id": "80a85ab5",
   "metadata": {
    "ExecuteTime": {
     "end_time": "2022-12-13T17:26:14.406055Z",
     "start_time": "2022-12-13T17:26:13.744496Z"
    }
   },
   "outputs": [],
   "source": [
    "import csv\n",
    "import os\n",
    "import pickle\n",
    "import sys\n",
    "\n",
    "import numpy as np\n",
    "import pandas as pd\n",
    "from sklearn.metrics import adjusted_mutual_info_score\n",
    "from tqdm import tqdm"
   ]
  },
  {
   "cell_type": "markdown",
   "id": "2543f4e4",
   "metadata": {},
   "source": [
    "## Add configuration file"
   ]
  },
  {
   "cell_type": "code",
   "execution_count": 2,
   "id": "b62547de",
   "metadata": {
    "ExecuteTime": {
     "end_time": "2022-12-13T17:26:14.412263Z",
     "start_time": "2022-12-13T17:26:14.408780Z"
    }
   },
   "outputs": [],
   "source": [
    "sys.path.append(\"/home/jovyan/core/config/\")\n",
    "sys.path.append(\"/home/jovyan/core/util/\")"
   ]
  },
  {
   "cell_type": "code",
   "execution_count": 3,
   "id": "84da401b",
   "metadata": {
    "ExecuteTime": {
     "end_time": "2022-12-13T17:26:14.419359Z",
     "start_time": "2022-12-13T17:26:14.414147Z"
    }
   },
   "outputs": [],
   "source": [
    "from ALL import config \n",
    "from util import *"
   ]
  },
  {
   "cell_type": "markdown",
   "id": "9330548e",
   "metadata": {},
   "source": [
    "## Set condition"
   ]
  },
  {
   "cell_type": "code",
   "execution_count": 4,
   "id": "a30f3623",
   "metadata": {
    "ExecuteTime": {
     "end_time": "2022-12-13T17:26:14.806326Z",
     "start_time": "2022-12-13T17:26:14.802403Z"
    }
   },
   "outputs": [],
   "source": [
    "tqdm.pandas()\n",
    "pd.set_option(\"display.max_columns\", 100)\n",
    "pd.set_option(\"display.max_rows\", 50)"
   ]
  },
  {
   "cell_type": "markdown",
   "id": "52c60a4f",
   "metadata": {},
   "source": [
    "# Read data"
   ]
  },
  {
   "cell_type": "code",
   "execution_count": 5,
   "id": "c81d3638",
   "metadata": {
    "ExecuteTime": {
     "end_time": "2022-12-13T17:26:34.918453Z",
     "start_time": "2022-12-13T17:26:34.158874Z"
    },
    "scrolled": true
   },
   "outputs": [],
   "source": [
    "newsgroups_df = pd.read_csv(\"../../../Preprocessing/data/20News/master.csv\", index_col=0)"
   ]
  },
  {
   "cell_type": "code",
   "execution_count": 6,
   "id": "95389cd0",
   "metadata": {
    "ExecuteTime": {
     "end_time": "2022-12-13T17:26:34.924934Z",
     "start_time": "2022-12-13T17:26:34.921079Z"
    }
   },
   "outputs": [],
   "source": [
    "with open(\"../../../Preprocessing/data/20News/class.csv\", mode=\"r\") as f:\n",
    "    reader = csv.reader(f)\n",
    "    class_labels = [label for label in reader]"
   ]
  },
  {
   "cell_type": "code",
   "execution_count": 7,
   "id": "10c181b5",
   "metadata": {
    "ExecuteTime": {
     "end_time": "2022-12-13T17:26:36.544254Z",
     "start_time": "2022-12-13T17:26:36.541250Z"
    }
   },
   "outputs": [],
   "source": [
    "model_nums = config[\"clustering\"][\"LDA\"][\"max_model_num\"]"
   ]
  },
  {
   "cell_type": "code",
   "execution_count": 8,
   "id": "694f0571",
   "metadata": {
    "ExecuteTime": {
     "end_time": "2022-12-13T17:26:37.345255Z",
     "start_time": "2022-12-13T17:26:37.341579Z"
    }
   },
   "outputs": [],
   "source": [
    "label = newsgroups_df[\"class\"].to_numpy()"
   ]
  },
  {
   "cell_type": "code",
   "execution_count": 9,
   "id": "4b381ebf",
   "metadata": {
    "ExecuteTime": {
     "end_time": "2022-12-13T17:26:42.854086Z",
     "start_time": "2022-12-13T17:26:40.867507Z"
    },
    "code_folding": []
   },
   "outputs": [],
   "source": [
    "pred_path = \"../../../Clustering/data/20News/LDA/pred/\"\n",
    "\n",
    "mi = {}\n",
    "for model_num in range(model_nums):\n",
    "    pred = np.loadtxt(f\"{pred_path}{model_num}.csv\", delimiter=\",\")\n",
    "    mi[model_num] = adjusted_mutual_info_score(label, pred)"
   ]
  },
  {
   "cell_type": "code",
   "execution_count": 11,
   "id": "4fdf5e7c",
   "metadata": {
    "ExecuteTime": {
     "end_time": "2022-12-13T17:27:08.788633Z",
     "start_time": "2022-12-13T17:27:08.780783Z"
    }
   },
   "outputs": [],
   "source": [
    "mi_path = f\"../../data/20News/LDA/mi.csv\"\n",
    "\n",
    "pd.DataFrame(mi.values(), index=mi.keys()).to_csv(make_filepath(mi_path))"
   ]
  },
  {
   "cell_type": "code",
   "execution_count": null,
   "id": "ddb26020",
   "metadata": {},
   "outputs": [],
   "source": []
  }
 ],
 "metadata": {
  "kernelspec": {
   "display_name": "Python 3 (ipykernel)",
   "language": "python",
   "name": "python3"
  },
  "language_info": {
   "codemirror_mode": {
    "name": "ipython",
    "version": 3
   },
   "file_extension": ".py",
   "mimetype": "text/x-python",
   "name": "python",
   "nbconvert_exporter": "python",
   "pygments_lexer": "ipython3",
   "version": "3.10.8"
  },
  "toc": {
   "base_numbering": 1,
   "nav_menu": {},
   "number_sections": true,
   "sideBar": true,
   "skip_h1_title": false,
   "title_cell": "Table of Contents",
   "title_sidebar": "Contents",
   "toc_cell": false,
   "toc_position": {},
   "toc_section_display": true,
   "toc_window_display": false
  }
 },
 "nbformat": 4,
 "nbformat_minor": 5
}
