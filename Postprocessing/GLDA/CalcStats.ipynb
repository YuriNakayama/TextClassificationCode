{
 "cells": [
  {
   "cell_type": "markdown",
   "id": "b95f9187",
   "metadata": {},
   "source": [
    "# Import"
   ]
  },
  {
   "cell_type": "code",
   "execution_count": 1,
   "id": "80a85ab5",
   "metadata": {
    "ExecuteTime": {
     "end_time": "2022-12-22T16:36:00.798171Z",
     "start_time": "2022-12-22T16:36:00.093179Z"
    }
   },
   "outputs": [],
   "source": [
    "import csv\n",
    "import os\n",
    "import pickle\n",
    "import sys\n",
    "\n",
    "import numpy as np\n",
    "import pandas as pd\n",
    "from tqdm import tqdm\n",
    "from sklearn.metrics import adjusted_mutual_info_score"
   ]
  },
  {
   "cell_type": "markdown",
   "id": "6f4f62bd",
   "metadata": {},
   "source": [
    "## Add configuration file"
   ]
  },
  {
   "cell_type": "code",
   "execution_count": 2,
   "id": "d5ff7059",
   "metadata": {
    "ExecuteTime": {
     "end_time": "2022-12-22T16:36:00.804263Z",
     "start_time": "2022-12-22T16:36:00.801004Z"
    }
   },
   "outputs": [],
   "source": [
    "sys.path.append(\"/home/jovyan/core/config/\")\n",
    "sys.path.append(\"/home/jovyan/core/util/\")\n",
    "sys.path.append(\"../Function/\")"
   ]
  },
  {
   "cell_type": "code",
   "execution_count": 3,
   "id": "157ce92a",
   "metadata": {
    "ExecuteTime": {
     "end_time": "2022-12-22T16:36:00.813721Z",
     "start_time": "2022-12-22T16:36:00.806013Z"
    }
   },
   "outputs": [],
   "source": [
    "from ALL import config \n",
    "from util import *\n",
    "from extmath import row_norms"
   ]
  },
  {
   "cell_type": "markdown",
   "id": "b07ac6af",
   "metadata": {},
   "source": [
    "## Set condition"
   ]
  },
  {
   "cell_type": "code",
   "execution_count": 4,
   "id": "9d870465",
   "metadata": {
    "ExecuteTime": {
     "end_time": "2022-12-22T16:36:00.820909Z",
     "start_time": "2022-12-22T16:36:00.815580Z"
    }
   },
   "outputs": [],
   "source": [
    "tqdm.pandas()\n",
    "pd.set_option(\"display.max_columns\", 100)\n",
    "pd.set_option(\"display.max_rows\", 50)"
   ]
  },
  {
   "cell_type": "code",
   "execution_count": 5,
   "id": "e9e9361c",
   "metadata": {
    "ExecuteTime": {
     "end_time": "2022-12-22T16:36:00.827978Z",
     "start_time": "2022-12-22T16:36:00.823982Z"
    }
   },
   "outputs": [],
   "source": [
    "data_type=\"20News\""
   ]
  },
  {
   "cell_type": "markdown",
   "id": "52c60a4f",
   "metadata": {},
   "source": [
    "# Read data"
   ]
  },
  {
   "cell_type": "code",
   "execution_count": 6,
   "id": "c81d3638",
   "metadata": {
    "ExecuteTime": {
     "end_time": "2022-12-22T16:36:01.586358Z",
     "start_time": "2022-12-22T16:36:00.832179Z"
    },
    "scrolled": true
   },
   "outputs": [],
   "source": [
    "df = pd.read_csv(\n",
    "    f\"../../Preprocessing/data/{data_type}/master.csv\", index_col=0\n",
    ")"
   ]
  },
  {
   "cell_type": "code",
   "execution_count": 7,
   "id": "95389cd0",
   "metadata": {
    "ExecuteTime": {
     "end_time": "2022-12-22T16:36:01.593315Z",
     "start_time": "2022-12-22T16:36:01.588854Z"
    }
   },
   "outputs": [],
   "source": [
    "with open(f\"../../Preprocessing/data/{data_type}/class.csv\", mode=\"r\") as f:\n",
    "    reader = csv.reader(f)\n",
    "    class_labels = [label for label in reader]"
   ]
  },
  {
   "cell_type": "code",
   "execution_count": 8,
   "id": "41aa2af8",
   "metadata": {
    "ExecuteTime": {
     "end_time": "2022-12-22T16:36:01.602614Z",
     "start_time": "2022-12-22T16:36:01.595444Z"
    }
   },
   "outputs": [],
   "source": [
    "class_num = config[\"data\"][data_type][\"class_num\"]"
   ]
  },
  {
   "cell_type": "code",
   "execution_count": 9,
   "id": "694f0571",
   "metadata": {
    "ExecuteTime": {
     "end_time": "2022-12-22T16:36:01.616319Z",
     "start_time": "2022-12-22T16:36:01.604317Z"
    }
   },
   "outputs": [],
   "source": [
    "label = df[\"class\"].to_numpy()"
   ]
  },
  {
   "cell_type": "code",
   "execution_count": 10,
   "id": "a4b2e756",
   "metadata": {
    "ExecuteTime": {
     "end_time": "2022-12-22T16:36:01.701383Z",
     "start_time": "2022-12-22T16:36:01.620650Z"
    },
    "scrolled": true
   },
   "outputs": [],
   "source": [
    "document_topic = pd.read_csv(\n",
    "    f\"../../Preprocessing/data/{data_type}/GLDA/document_topic.txt\",\n",
    "    header=None,\n",
    "    sep=\" \",\n",
    ")\n",
    "document_topic = document_topic.drop(class_num, axis=1)"
   ]
  },
  {
   "cell_type": "code",
   "execution_count": 11,
   "id": "105c0e7e",
   "metadata": {
    "ExecuteTime": {
     "end_time": "2022-12-22T16:36:01.768320Z",
     "start_time": "2022-12-22T16:36:01.703794Z"
    }
   },
   "outputs": [],
   "source": [
    "pred = document_topic.idxmax(axis=1)"
   ]
  },
  {
   "cell_type": "code",
   "execution_count": 12,
   "id": "27d76180",
   "metadata": {
    "ExecuteTime": {
     "end_time": "2022-12-22T16:36:01.811732Z",
     "start_time": "2022-12-22T16:36:01.770327Z"
    }
   },
   "outputs": [],
   "source": [
    "mi = adjusted_mutual_info_score(pred, label)"
   ]
  },
  {
   "cell_type": "code",
   "execution_count": 13,
   "id": "e52bbf83",
   "metadata": {
    "ExecuteTime": {
     "end_time": "2022-12-22T16:36:01.818768Z",
     "start_time": "2022-12-22T16:36:01.815471Z"
    }
   },
   "outputs": [],
   "source": [
    "stats_df = pd.DataFrame([mi])"
   ]
  },
  {
   "cell_type": "code",
   "execution_count": 14,
   "id": "2688c8f8",
   "metadata": {
    "ExecuteTime": {
     "end_time": "2022-12-22T16:36:01.835968Z",
     "start_time": "2022-12-22T16:36:01.820589Z"
    }
   },
   "outputs": [
    {
     "data": {
      "text/html": [
       "<div>\n",
       "<style scoped>\n",
       "    .dataframe tbody tr th:only-of-type {\n",
       "        vertical-align: middle;\n",
       "    }\n",
       "\n",
       "    .dataframe tbody tr th {\n",
       "        vertical-align: top;\n",
       "    }\n",
       "\n",
       "    .dataframe thead th {\n",
       "        text-align: right;\n",
       "    }\n",
       "</style>\n",
       "<table border=\"1\" class=\"dataframe\">\n",
       "  <thead>\n",
       "    <tr style=\"text-align: right;\">\n",
       "      <th></th>\n",
       "      <th>0</th>\n",
       "    </tr>\n",
       "  </thead>\n",
       "  <tbody>\n",
       "    <tr>\n",
       "      <th>0</th>\n",
       "      <td>0.000096</td>\n",
       "    </tr>\n",
       "  </tbody>\n",
       "</table>\n",
       "</div>"
      ],
      "text/plain": [
       "          0\n",
       "0  0.000096"
      ]
     },
     "execution_count": 14,
     "metadata": {},
     "output_type": "execute_result"
    }
   ],
   "source": [
    "stats_df"
   ]
  },
  {
   "cell_type": "code",
   "execution_count": 15,
   "id": "458eb9fe",
   "metadata": {
    "ExecuteTime": {
     "end_time": "2022-12-22T16:36:01.842125Z",
     "start_time": "2022-12-22T16:36:01.838119Z"
    }
   },
   "outputs": [],
   "source": [
    "stats_path = (\n",
    "    f\"../data/{data_type}/GLDA/mi.csv\"\n",
    ")\n",
    "stats_df.to_csv(make_filepath(stats_path))"
   ]
  },
  {
   "cell_type": "code",
   "execution_count": null,
   "id": "468fd50a",
   "metadata": {},
   "outputs": [],
   "source": []
  },
  {
   "cell_type": "code",
   "execution_count": null,
   "id": "8232a785",
   "metadata": {},
   "outputs": [],
   "source": []
  }
 ],
 "metadata": {
  "kernelspec": {
   "display_name": "Python 3 (ipykernel)",
   "language": "python",
   "name": "python3"
  },
  "language_info": {
   "codemirror_mode": {
    "name": "ipython",
    "version": 3
   },
   "file_extension": ".py",
   "mimetype": "text/x-python",
   "name": "python",
   "nbconvert_exporter": "python",
   "pygments_lexer": "ipython3",
   "version": "3.10.8"
  },
  "toc": {
   "base_numbering": 1,
   "nav_menu": {},
   "number_sections": true,
   "sideBar": true,
   "skip_h1_title": false,
   "title_cell": "Table of Contents",
   "title_sidebar": "Contents",
   "toc_cell": false,
   "toc_position": {},
   "toc_section_display": true,
   "toc_window_display": false
  }
 },
 "nbformat": 4,
 "nbformat_minor": 5
}
