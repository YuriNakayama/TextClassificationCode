{
 "cells": [
  {
   "cell_type": "markdown",
   "id": "b95f9187",
   "metadata": {},
   "source": [
    "# Import"
   ]
  },
  {
   "cell_type": "code",
   "execution_count": 9,
   "id": "80a85ab5",
   "metadata": {
    "ExecuteTime": {
     "end_time": "2023-01-06T09:10:27.064170Z",
     "start_time": "2023-01-06T09:10:27.060561Z"
    }
   },
   "outputs": [],
   "source": [
    "import csv\n",
    "import os\n",
    "import pickle\n",
    "import sys\n",
    "\n",
    "import numpy as np\n",
    "import pandas as pd\n",
    "from tqdm import tqdm\n",
    "from sklearn.metrics import adjusted_mutual_info_score"
   ]
  },
  {
   "cell_type": "markdown",
   "id": "6f4f62bd",
   "metadata": {},
   "source": [
    "## Add configuration file"
   ]
  },
  {
   "cell_type": "code",
   "execution_count": 10,
   "id": "d5ff7059",
   "metadata": {
    "ExecuteTime": {
     "end_time": "2023-01-06T09:10:28.324907Z",
     "start_time": "2023-01-06T09:10:28.321885Z"
    }
   },
   "outputs": [],
   "source": [
    "sys.path.append(\"/home/jovyan/core/config/\")\n",
    "sys.path.append(\"/home/jovyan/core/util/\")\n",
    "sys.path.append(\"../Function/\")"
   ]
  },
  {
   "cell_type": "code",
   "execution_count": 11,
   "id": "157ce92a",
   "metadata": {
    "ExecuteTime": {
     "end_time": "2023-01-06T09:10:28.555666Z",
     "start_time": "2023-01-06T09:10:28.552390Z"
    }
   },
   "outputs": [],
   "source": [
    "from ALL import config \n",
    "from util import *\n",
    "from extmath import row_norms"
   ]
  },
  {
   "cell_type": "markdown",
   "id": "b07ac6af",
   "metadata": {},
   "source": [
    "## Set condition"
   ]
  },
  {
   "cell_type": "code",
   "execution_count": 12,
   "id": "9d870465",
   "metadata": {
    "ExecuteTime": {
     "end_time": "2023-01-06T09:10:28.883588Z",
     "start_time": "2023-01-06T09:10:28.879452Z"
    }
   },
   "outputs": [],
   "source": [
    "tqdm.pandas()\n",
    "pd.set_option(\"display.max_columns\", 100)\n",
    "pd.set_option(\"display.max_rows\", 50)"
   ]
  },
  {
   "cell_type": "code",
   "execution_count": 13,
   "id": "e9e9361c",
   "metadata": {
    "ExecuteTime": {
     "end_time": "2023-01-06T09:10:29.043611Z",
     "start_time": "2023-01-06T09:10:29.040560Z"
    }
   },
   "outputs": [],
   "source": [
    "data_type=\"20News\""
   ]
  },
  {
   "cell_type": "markdown",
   "id": "52c60a4f",
   "metadata": {},
   "source": [
    "# Read data"
   ]
  },
  {
   "cell_type": "code",
   "execution_count": 14,
   "id": "c81d3638",
   "metadata": {
    "ExecuteTime": {
     "end_time": "2023-01-06T09:10:30.105762Z",
     "start_time": "2023-01-06T09:10:29.351369Z"
    },
    "scrolled": true
   },
   "outputs": [],
   "source": [
    "df = pd.read_csv(\n",
    "    f\"../../Preprocessing/data/{data_type}/master.csv\", index_col=0\n",
    ")"
   ]
  },
  {
   "cell_type": "code",
   "execution_count": 15,
   "id": "95389cd0",
   "metadata": {
    "ExecuteTime": {
     "end_time": "2023-01-06T09:10:30.111671Z",
     "start_time": "2023-01-06T09:10:30.108209Z"
    }
   },
   "outputs": [],
   "source": [
    "with open(f\"../../Preprocessing/data/{data_type}/class.csv\", mode=\"r\") as f:\n",
    "    reader = csv.reader(f)\n",
    "    class_labels = [label for label in reader]"
   ]
  },
  {
   "cell_type": "code",
   "execution_count": 16,
   "id": "41aa2af8",
   "metadata": {
    "ExecuteTime": {
     "end_time": "2023-01-06T09:10:30.120268Z",
     "start_time": "2023-01-06T09:10:30.113512Z"
    }
   },
   "outputs": [],
   "source": [
    "class_num = config[\"data\"][data_type][\"class_num\"]"
   ]
  },
  {
   "cell_type": "code",
   "execution_count": 17,
   "id": "694f0571",
   "metadata": {
    "ExecuteTime": {
     "end_time": "2023-01-06T09:10:30.128098Z",
     "start_time": "2023-01-06T09:10:30.122664Z"
    }
   },
   "outputs": [],
   "source": [
    "label = df[\"class\"].to_numpy()"
   ]
  },
  {
   "cell_type": "code",
   "execution_count": 18,
   "id": "a4b2e756",
   "metadata": {
    "ExecuteTime": {
     "end_time": "2023-01-06T09:10:30.313763Z",
     "start_time": "2023-01-06T09:10:30.130148Z"
    },
    "scrolled": true
   },
   "outputs": [],
   "source": [
    "document_topic = pd.read_csv(\n",
    "    f\"../../Preprocessing/data/{data_type}/GLDA/document_topic.txt\",\n",
    "    header=None,\n",
    "    sep=\" \",\n",
    ")\n",
    "document_topic = document_topic.drop(class_num, axis=1)"
   ]
  },
  {
   "cell_type": "code",
   "execution_count": 19,
   "id": "105c0e7e",
   "metadata": {
    "ExecuteTime": {
     "end_time": "2023-01-06T09:10:30.400250Z",
     "start_time": "2023-01-06T09:10:30.330156Z"
    }
   },
   "outputs": [],
   "source": [
    "pred = document_topic.idxmax(axis=1)"
   ]
  },
  {
   "cell_type": "code",
   "execution_count": 20,
   "id": "27d76180",
   "metadata": {
    "ExecuteTime": {
     "end_time": "2023-01-06T09:10:30.912043Z",
     "start_time": "2023-01-06T09:10:30.867885Z"
    }
   },
   "outputs": [],
   "source": [
    "mi = adjusted_mutual_info_score(pred, label)"
   ]
  },
  {
   "cell_type": "code",
   "execution_count": 21,
   "id": "e52bbf83",
   "metadata": {
    "ExecuteTime": {
     "end_time": "2023-01-06T09:10:31.851131Z",
     "start_time": "2023-01-06T09:10:31.847621Z"
    }
   },
   "outputs": [],
   "source": [
    "stats_df = pd.DataFrame([mi])"
   ]
  },
  {
   "cell_type": "code",
   "execution_count": 22,
   "id": "2688c8f8",
   "metadata": {
    "ExecuteTime": {
     "end_time": "2023-01-06T09:10:32.984350Z",
     "start_time": "2023-01-06T09:10:32.970588Z"
    }
   },
   "outputs": [
    {
     "data": {
      "text/html": [
       "<div>\n",
       "<style scoped>\n",
       "    .dataframe tbody tr th:only-of-type {\n",
       "        vertical-align: middle;\n",
       "    }\n",
       "\n",
       "    .dataframe tbody tr th {\n",
       "        vertical-align: top;\n",
       "    }\n",
       "\n",
       "    .dataframe thead th {\n",
       "        text-align: right;\n",
       "    }\n",
       "</style>\n",
       "<table border=\"1\" class=\"dataframe\">\n",
       "  <thead>\n",
       "    <tr style=\"text-align: right;\">\n",
       "      <th></th>\n",
       "      <th>0</th>\n",
       "    </tr>\n",
       "  </thead>\n",
       "  <tbody>\n",
       "    <tr>\n",
       "      <th>0</th>\n",
       "      <td>0.005217</td>\n",
       "    </tr>\n",
       "  </tbody>\n",
       "</table>\n",
       "</div>"
      ],
      "text/plain": [
       "          0\n",
       "0  0.005217"
      ]
     },
     "execution_count": 22,
     "metadata": {},
     "output_type": "execute_result"
    }
   ],
   "source": [
    "stats_df"
   ]
  },
  {
   "cell_type": "code",
   "execution_count": 23,
   "id": "458eb9fe",
   "metadata": {
    "ExecuteTime": {
     "end_time": "2023-01-06T09:10:35.533660Z",
     "start_time": "2023-01-06T09:10:35.529008Z"
    }
   },
   "outputs": [],
   "source": [
    "stats_path = (\n",
    "    f\"../data/{data_type}/GLDA/mi.csv\"\n",
    ")\n",
    "stats_df.to_csv(make_filepath(stats_path))"
   ]
  },
  {
   "cell_type": "code",
   "execution_count": null,
   "id": "468fd50a",
   "metadata": {},
   "outputs": [],
   "source": []
  },
  {
   "cell_type": "code",
   "execution_count": null,
   "id": "8232a785",
   "metadata": {},
   "outputs": [],
   "source": []
  }
 ],
 "metadata": {
  "kernelspec": {
   "display_name": "Python 3 (ipykernel)",
   "language": "python",
   "name": "python3"
  },
  "language_info": {
   "codemirror_mode": {
    "name": "ipython",
    "version": 3
   },
   "file_extension": ".py",
   "mimetype": "text/x-python",
   "name": "python",
   "nbconvert_exporter": "python",
   "pygments_lexer": "ipython3",
   "version": "3.10.8"
  },
  "toc": {
   "base_numbering": 1,
   "nav_menu": {},
   "number_sections": true,
   "sideBar": true,
   "skip_h1_title": false,
   "title_cell": "Table of Contents",
   "title_sidebar": "Contents",
   "toc_cell": false,
   "toc_position": {},
   "toc_section_display": true,
   "toc_window_display": false
  }
 },
 "nbformat": 4,
 "nbformat_minor": 5
}
