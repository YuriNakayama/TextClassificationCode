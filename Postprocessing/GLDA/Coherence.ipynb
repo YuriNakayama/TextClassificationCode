{
 "cells": [
  {
   "cell_type": "markdown",
   "id": "b95f9187",
   "metadata": {},
   "source": [
    "# Import"
   ]
  },
  {
   "cell_type": "code",
   "execution_count": 1,
   "id": "80a85ab5",
   "metadata": {
    "ExecuteTime": {
     "end_time": "2022-12-22T16:35:31.117820Z",
     "start_time": "2022-12-22T16:35:30.416323Z"
    }
   },
   "outputs": [],
   "source": [
    "import csv\n",
    "import os\n",
    "import pickle\n",
    "import sys\n",
    "\n",
    "import numpy as np\n",
    "import pandas as pd\n",
    "from gensim.corpora.dictionary import Dictionary\n",
    "from gensim.models.coherencemodel import CoherenceModel\n",
    "from smart_open import open\n",
    "from tqdm import tqdm"
   ]
  },
  {
   "cell_type": "markdown",
   "id": "6f4f62bd",
   "metadata": {},
   "source": [
    "## Add configuration file"
   ]
  },
  {
   "cell_type": "code",
   "execution_count": 2,
   "id": "d5ff7059",
   "metadata": {
    "ExecuteTime": {
     "end_time": "2022-12-22T16:35:31.123603Z",
     "start_time": "2022-12-22T16:35:31.120779Z"
    }
   },
   "outputs": [],
   "source": [
    "sys.path.append(\"/home/jovyan/core/config/\")\n",
    "sys.path.append(\"/home/jovyan/core/util/\")"
   ]
  },
  {
   "cell_type": "code",
   "execution_count": 3,
   "id": "157ce92a",
   "metadata": {
    "ExecuteTime": {
     "end_time": "2022-12-22T16:35:31.131923Z",
     "start_time": "2022-12-22T16:35:31.125476Z"
    }
   },
   "outputs": [],
   "source": [
    "from ALL import config \n",
    "from util import *"
   ]
  },
  {
   "cell_type": "markdown",
   "id": "b07ac6af",
   "metadata": {},
   "source": [
    "## Set condition"
   ]
  },
  {
   "cell_type": "code",
   "execution_count": 4,
   "id": "9d870465",
   "metadata": {
    "ExecuteTime": {
     "end_time": "2022-12-22T16:35:31.139378Z",
     "start_time": "2022-12-22T16:35:31.133953Z"
    }
   },
   "outputs": [],
   "source": [
    "tqdm.pandas()\n",
    "pd.set_option(\"display.max_columns\", 100)\n",
    "pd.set_option(\"display.max_rows\", 50)"
   ]
  },
  {
   "cell_type": "code",
   "execution_count": 5,
   "id": "ce45d384",
   "metadata": {
    "ExecuteTime": {
     "end_time": "2022-12-22T16:35:33.471710Z",
     "start_time": "2022-12-22T16:35:33.468546Z"
    }
   },
   "outputs": [],
   "source": [
    "data_type=\"AgNews\""
   ]
  },
  {
   "cell_type": "markdown",
   "id": "52c60a4f",
   "metadata": {},
   "source": [
    "# Read data"
   ]
  },
  {
   "cell_type": "code",
   "execution_count": 6,
   "id": "c81d3638",
   "metadata": {
    "ExecuteTime": {
     "end_time": "2022-12-22T16:35:35.219138Z",
     "start_time": "2022-12-22T16:35:34.290996Z"
    },
    "scrolled": true
   },
   "outputs": [],
   "source": [
    "df = pd.read_csv(\n",
    "    f\"../../Preprocessing/data/{data_type}/master.csv\", index_col=0\n",
    ")"
   ]
  },
  {
   "cell_type": "code",
   "execution_count": 7,
   "id": "95389cd0",
   "metadata": {
    "ExecuteTime": {
     "end_time": "2022-12-22T16:35:35.225581Z",
     "start_time": "2022-12-22T16:35:35.222135Z"
    }
   },
   "outputs": [],
   "source": [
    "with open(f\"../../Preprocessing/data/{data_type}/class.csv\", mode=\"r\") as f:\n",
    "    reader = csv.reader(f)\n",
    "    class_labels = [label for label in reader]"
   ]
  },
  {
   "cell_type": "code",
   "execution_count": 8,
   "id": "41aa2af8",
   "metadata": {
    "ExecuteTime": {
     "end_time": "2022-12-22T16:35:35.232372Z",
     "start_time": "2022-12-22T16:35:35.227804Z"
    }
   },
   "outputs": [],
   "source": [
    "class_num = config[\"data\"][data_type][\"class_num\"]"
   ]
  },
  {
   "cell_type": "code",
   "execution_count": 9,
   "id": "694f0571",
   "metadata": {
    "ExecuteTime": {
     "end_time": "2022-12-22T16:35:35.240905Z",
     "start_time": "2022-12-22T16:35:35.235344Z"
    }
   },
   "outputs": [],
   "source": [
    "label = df[\"class\"].to_numpy()"
   ]
  },
  {
   "cell_type": "code",
   "execution_count": 10,
   "id": "670ed918",
   "metadata": {
    "ExecuteTime": {
     "end_time": "2022-12-22T16:35:35.255197Z",
     "start_time": "2022-12-22T16:35:35.243035Z"
    }
   },
   "outputs": [
    {
     "data": {
      "text/plain": [
       "['World', 'Sports', 'Business', 'SciTech']"
      ]
     },
     "execution_count": 10,
     "metadata": {},
     "output_type": "execute_result"
    }
   ],
   "source": [
    "class_labels[0]"
   ]
  },
  {
   "cell_type": "code",
   "execution_count": 11,
   "id": "bde97a36",
   "metadata": {
    "ExecuteTime": {
     "end_time": "2022-12-22T16:35:35.428543Z",
     "start_time": "2022-12-22T16:35:35.351003Z"
    },
    "scrolled": true
   },
   "outputs": [],
   "source": [
    "document_topic = pd.read_csv(\n",
    "    f\"../../Preprocessing/data/{data_type}/GLDA/document_topic.txt\",\n",
    "    header=None,\n",
    "    sep=\" \",\n",
    ")\n",
    "document_topic = document_topic.drop(class_num, axis=1)"
   ]
  },
  {
   "cell_type": "markdown",
   "id": "ca645fa5",
   "metadata": {},
   "source": [
    "# Coherence"
   ]
  },
  {
   "cell_type": "code",
   "execution_count": 12,
   "id": "ffc386a8",
   "metadata": {
    "ExecuteTime": {
     "end_time": "2022-12-22T16:35:36.068101Z",
     "start_time": "2022-12-22T16:35:36.063446Z"
    }
   },
   "outputs": [],
   "source": [
    "class Corpus:\n",
    "    def __init__(self, path=None, texts=None):\n",
    "        self.path = path\n",
    "        self.texts = texts\n",
    "        self.dictionary = Dictionary(texts)\n",
    "\n",
    "    def __iter__(self):\n",
    "        if self.path is not None:\n",
    "            for line in open(self.path):\n",
    "                # assume there's one document per line, tokens separated by whitespace\n",
    "                yield self.dictionary.doc2bow(line.lower().split())\n",
    "        else:\n",
    "            for line in self.texts:\n",
    "                yield self.dictionary.doc2bow(line)"
   ]
  },
  {
   "cell_type": "code",
   "execution_count": 13,
   "id": "ad348a50",
   "metadata": {
    "ExecuteTime": {
     "end_time": "2022-12-22T16:35:44.012642Z",
     "start_time": "2022-12-22T16:35:36.535407Z"
    },
    "scrolled": true
   },
   "outputs": [
    {
     "name": "stderr",
     "output_type": "stream",
     "text": [
      "100%|██████████| 120000/120000 [00:00<00:00, 231254.11it/s]\n"
     ]
    }
   ],
   "source": [
    "texts = df.words_nonstop.progress_apply(\n",
    "    lambda x: x.split(\" \") if x is not np.nan else [\"\"]\n",
    ").tolist()\n",
    "corpus = Corpus(texts=texts)\n",
    "dictionary = Dictionary(texts)\n",
    "#     登場頻度50%以上の単語を削除\n",
    "dictionary.filter_extremes()"
   ]
  },
  {
   "cell_type": "code",
   "execution_count": 14,
   "id": "b174a784",
   "metadata": {
    "ExecuteTime": {
     "end_time": "2022-12-22T16:35:44.392087Z",
     "start_time": "2022-12-22T16:35:44.015400Z"
    }
   },
   "outputs": [],
   "source": [
    "pred = document_topic.idxmax(axis=1)"
   ]
  },
  {
   "cell_type": "code",
   "execution_count": 15,
   "id": "b83f84af",
   "metadata": {
    "ExecuteTime": {
     "end_time": "2022-12-22T16:35:44.406628Z",
     "start_time": "2022-12-22T16:35:44.394210Z"
    }
   },
   "outputs": [
    {
     "data": {
      "text/html": [
       "<div>\n",
       "<style scoped>\n",
       "    .dataframe tbody tr th:only-of-type {\n",
       "        vertical-align: middle;\n",
       "    }\n",
       "\n",
       "    .dataframe tbody tr th {\n",
       "        vertical-align: top;\n",
       "    }\n",
       "\n",
       "    .dataframe thead th {\n",
       "        text-align: right;\n",
       "    }\n",
       "</style>\n",
       "<table border=\"1\" class=\"dataframe\">\n",
       "  <thead>\n",
       "    <tr style=\"text-align: right;\">\n",
       "      <th></th>\n",
       "      <th>0</th>\n",
       "      <th>1</th>\n",
       "      <th>2</th>\n",
       "      <th>3</th>\n",
       "    </tr>\n",
       "  </thead>\n",
       "  <tbody>\n",
       "    <tr>\n",
       "      <th>0</th>\n",
       "      <td>0.375000</td>\n",
       "      <td>0.375000</td>\n",
       "      <td>0.208333</td>\n",
       "      <td>0.041667</td>\n",
       "    </tr>\n",
       "    <tr>\n",
       "      <th>1</th>\n",
       "      <td>0.191176</td>\n",
       "      <td>0.485294</td>\n",
       "      <td>0.132353</td>\n",
       "      <td>0.191176</td>\n",
       "    </tr>\n",
       "    <tr>\n",
       "      <th>2</th>\n",
       "      <td>0.140625</td>\n",
       "      <td>0.578125</td>\n",
       "      <td>0.265625</td>\n",
       "      <td>0.015625</td>\n",
       "    </tr>\n",
       "    <tr>\n",
       "      <th>3</th>\n",
       "      <td>0.078125</td>\n",
       "      <td>0.703125</td>\n",
       "      <td>0.140625</td>\n",
       "      <td>0.078125</td>\n",
       "    </tr>\n",
       "    <tr>\n",
       "      <th>4</th>\n",
       "      <td>0.065789</td>\n",
       "      <td>0.592105</td>\n",
       "      <td>0.328947</td>\n",
       "      <td>0.013158</td>\n",
       "    </tr>\n",
       "    <tr>\n",
       "      <th>...</th>\n",
       "      <td>...</td>\n",
       "      <td>...</td>\n",
       "      <td>...</td>\n",
       "      <td>...</td>\n",
       "    </tr>\n",
       "    <tr>\n",
       "      <th>119995</th>\n",
       "      <td>0.291667</td>\n",
       "      <td>0.291667</td>\n",
       "      <td>0.347222</td>\n",
       "      <td>0.069444</td>\n",
       "    </tr>\n",
       "    <tr>\n",
       "      <th>119996</th>\n",
       "      <td>0.379630</td>\n",
       "      <td>0.231481</td>\n",
       "      <td>0.305556</td>\n",
       "      <td>0.083333</td>\n",
       "    </tr>\n",
       "    <tr>\n",
       "      <th>119997</th>\n",
       "      <td>0.163462</td>\n",
       "      <td>0.471154</td>\n",
       "      <td>0.240385</td>\n",
       "      <td>0.125000</td>\n",
       "    </tr>\n",
       "    <tr>\n",
       "      <th>119998</th>\n",
       "      <td>0.410714</td>\n",
       "      <td>0.315476</td>\n",
       "      <td>0.196429</td>\n",
       "      <td>0.077381</td>\n",
       "    </tr>\n",
       "    <tr>\n",
       "      <th>119999</th>\n",
       "      <td>0.465909</td>\n",
       "      <td>0.102273</td>\n",
       "      <td>0.375000</td>\n",
       "      <td>0.056818</td>\n",
       "    </tr>\n",
       "  </tbody>\n",
       "</table>\n",
       "<p>120000 rows × 4 columns</p>\n",
       "</div>"
      ],
      "text/plain": [
       "               0         1         2         3\n",
       "0       0.375000  0.375000  0.208333  0.041667\n",
       "1       0.191176  0.485294  0.132353  0.191176\n",
       "2       0.140625  0.578125  0.265625  0.015625\n",
       "3       0.078125  0.703125  0.140625  0.078125\n",
       "4       0.065789  0.592105  0.328947  0.013158\n",
       "...          ...       ...       ...       ...\n",
       "119995  0.291667  0.291667  0.347222  0.069444\n",
       "119996  0.379630  0.231481  0.305556  0.083333\n",
       "119997  0.163462  0.471154  0.240385  0.125000\n",
       "119998  0.410714  0.315476  0.196429  0.077381\n",
       "119999  0.465909  0.102273  0.375000  0.056818\n",
       "\n",
       "[120000 rows x 4 columns]"
      ]
     },
     "execution_count": 15,
     "metadata": {},
     "output_type": "execute_result"
    }
   ],
   "source": [
    "document_topic"
   ]
  },
  {
   "cell_type": "code",
   "execution_count": 16,
   "id": "8747825a",
   "metadata": {
    "ExecuteTime": {
     "end_time": "2022-12-22T16:35:44.740606Z",
     "start_time": "2022-12-22T16:35:44.409772Z"
    }
   },
   "outputs": [],
   "source": [
    "import matplotlib.pyplot as plt"
   ]
  },
  {
   "cell_type": "code",
   "execution_count": 17,
   "id": "b23661a5",
   "metadata": {
    "ExecuteTime": {
     "end_time": "2022-12-22T16:35:44.931487Z",
     "start_time": "2022-12-22T16:35:44.742789Z"
    }
   },
   "outputs": [
    {
     "data": {
      "text/plain": [
       "(array([10329.,     0.,     0.,     0.,     0.,     0., 88457.,     0.,\n",
       "            0.,     0.,     0.,     0.,     0., 17547.,     0.,     0.,\n",
       "            0.,     0.,     0.,  3667.]),\n",
       " array([0.  , 0.15, 0.3 , 0.45, 0.6 , 0.75, 0.9 , 1.05, 1.2 , 1.35, 1.5 ,\n",
       "        1.65, 1.8 , 1.95, 2.1 , 2.25, 2.4 , 2.55, 2.7 , 2.85, 3.  ]),\n",
       " <BarContainer object of 20 artists>)"
      ]
     },
     "execution_count": 17,
     "metadata": {},
     "output_type": "execute_result"
    },
    {
     "data": {
      "image/png": "[encoded data removed]",
      "text/plain": [
       "<Figure size 640x480 with 1 Axes>"
      ]
     },
     "metadata": {},
     "output_type": "display_data"
    }
   ],
   "source": [
    "fig = plt.figure()\n",
    "ax = fig.add_subplot(111)\n",
    "plt.hist(pred, bins=20)"
   ]
  },
  {
   "cell_type": "code",
   "execution_count": 18,
   "id": "4b381ebf",
   "metadata": {
    "ExecuteTime": {
     "end_time": "2022-12-22T16:35:46.496521Z",
     "start_time": "2022-12-22T16:35:44.933361Z"
    },
    "code_folding": [],
    "scrolled": true
   },
   "outputs": [],
   "source": [
    "cm = CoherenceModel(\n",
    "    topics=pred.to_numpy().reshape(1, -1),\n",
    "    corpus=corpus,\n",
    "    dictionary=dictionary,\n",
    "    texts=texts,\n",
    "    coherence=\"c_v\",\n",
    ")\n",
    "coherence_df = pd.DataFrame([cm.get_coherence()])"
   ]
  },
  {
   "cell_type": "code",
   "execution_count": 19,
   "id": "2e2fe1c1",
   "metadata": {
    "ExecuteTime": {
     "end_time": "2022-12-22T16:35:46.512543Z",
     "start_time": "2022-12-22T16:35:46.499675Z"
    }
   },
   "outputs": [
    {
     "data": {
      "text/html": [
       "<div>\n",
       "<style scoped>\n",
       "    .dataframe tbody tr th:only-of-type {\n",
       "        vertical-align: middle;\n",
       "    }\n",
       "\n",
       "    .dataframe tbody tr th {\n",
       "        vertical-align: top;\n",
       "    }\n",
       "\n",
       "    .dataframe thead th {\n",
       "        text-align: right;\n",
       "    }\n",
       "</style>\n",
       "<table border=\"1\" class=\"dataframe\">\n",
       "  <thead>\n",
       "    <tr style=\"text-align: right;\">\n",
       "      <th></th>\n",
       "      <th>0</th>\n",
       "    </tr>\n",
       "  </thead>\n",
       "  <tbody>\n",
       "    <tr>\n",
       "      <th>0</th>\n",
       "      <td>0.997736</td>\n",
       "    </tr>\n",
       "  </tbody>\n",
       "</table>\n",
       "</div>"
      ],
      "text/plain": [
       "          0\n",
       "0  0.997736"
      ]
     },
     "execution_count": 19,
     "metadata": {},
     "output_type": "execute_result"
    }
   ],
   "source": [
    "coherence_df"
   ]
  },
  {
   "cell_type": "code",
   "execution_count": 20,
   "id": "a735e2b7",
   "metadata": {
    "ExecuteTime": {
     "end_time": "2022-12-22T16:35:46.535091Z",
     "start_time": "2022-12-22T16:35:46.526143Z"
    }
   },
   "outputs": [],
   "source": [
    "coherence_path = f\"../data/{data_type}/GLDA/coherence.csv\"\n",
    "coherence_df.to_csv(make_filepath(coherence_path))"
   ]
  },
  {
   "cell_type": "code",
   "execution_count": null,
   "id": "213b5469",
   "metadata": {},
   "outputs": [],
   "source": []
  },
  {
   "cell_type": "code",
   "execution_count": null,
   "id": "5fa10ddc",
   "metadata": {},
   "outputs": [],
   "source": []
  }
 ],
 "metadata": {
  "kernelspec": {
   "display_name": "Python 3 (ipykernel)",
   "language": "python",
   "name": "python3"
  },
  "language_info": {
   "codemirror_mode": {
    "name": "ipython",
    "version": 3
   },
   "file_extension": ".py",
   "mimetype": "text/x-python",
   "name": "python",
   "nbconvert_exporter": "python",
   "pygments_lexer": "ipython3",
   "version": "3.10.8"
  },
  "toc": {
   "base_numbering": 1,
   "nav_menu": {},
   "number_sections": true,
   "sideBar": true,
   "skip_h1_title": false,
   "title_cell": "Table of Contents",
   "title_sidebar": "Contents",
   "toc_cell": false,
   "toc_position": {},
   "toc_section_display": true,
   "toc_window_display": false
  }
 },
 "nbformat": 4,
 "nbformat_minor": 5
}
