{
 "cells": [
  {
   "cell_type": "markdown",
   "id": "eee8d6c9",
   "metadata": {},
   "source": [
    "# Import"
   ]
  },
  {
   "cell_type": "code",
   "execution_count": 1,
   "id": "a69e6d2d",
   "metadata": {
    "ExecuteTime": {
     "end_time": "2022-10-30T04:53:08.977082Z",
     "start_time": "2022-10-30T04:53:07.062787Z"
    }
   },
   "outputs": [
    {
     "name": "stderr",
     "output_type": "stream",
     "text": [
      "<jemalloc>: MADV_DONTNEED does not work (memset will be used instead)\n",
      "<jemalloc>: (This is the expected behaviour if you are running under QEMU)\n"
     ]
    }
   ],
   "source": [
    "import tarfile\n",
    "from glob import glob\n",
    "import xmltodict\n",
    "import numpy as np\n",
    "import pandas as pd\n",
    "from tqdm import tqdm"
   ]
  },
  {
   "cell_type": "code",
   "execution_count": 2,
   "id": "f48ab7b1",
   "metadata": {
    "ExecuteTime": {
     "end_time": "2022-10-23T09:15:32.660251Z",
     "start_time": "2022-10-23T09:15:32.645898Z"
    }
   },
   "outputs": [],
   "source": [
    "years = range(1987, 2008)\n",
    "months = range(1, 13)\n",
    "days = range(1, 32)"
   ]
  },
  {
   "cell_type": "code",
   "execution_count": 3,
   "id": "5f601eb1",
   "metadata": {
    "ExecuteTime": {
     "end_time": "2022-10-23T09:15:32.717140Z",
     "start_time": "2022-10-23T09:15:32.673163Z"
    }
   },
   "outputs": [],
   "source": [
    "year = years[18]\n",
    "month = months[0]\n",
    "day = days[0]"
   ]
  },
  {
   "cell_type": "code",
   "execution_count": 4,
   "id": "26a5d9ab",
   "metadata": {
    "ExecuteTime": {
     "end_time": "2022-10-23T09:15:32.765761Z",
     "start_time": "2022-10-23T09:15:32.730923Z"
    }
   },
   "outputs": [],
   "source": [
    "path = f'../data/nyt_corpus/data/{str(year)}/{str(month).zfill(2)}.tgz'"
   ]
  },
  {
   "cell_type": "code",
   "execution_count": 60,
   "id": "bfd9e2ed",
   "metadata": {
    "ExecuteTime": {
     "end_time": "2022-10-22T07:43:33.557904Z",
     "start_time": "2022-10-22T07:42:05.527184Z"
    },
    "scrolled": true
   },
   "outputs": [],
   "source": [
    "with tarfile.open(path, mode='r') as f:\n",
    "    f.extractall(f'../data/nyt_corpus/data/{str(year)}/')"
   ]
  },
  {
   "cell_type": "code",
   "execution_count": 6,
   "id": "e360c84a",
   "metadata": {
    "ExecuteTime": {
     "end_time": "2022-10-23T09:15:40.657019Z",
     "start_time": "2022-10-23T09:15:40.616570Z"
    }
   },
   "outputs": [],
   "source": [
    "file = glob(f'../data/nyt_corpus/data/{str(year)}/{str(month).zfill(2)}/{str(day).zfill(2)}/*')[0]"
   ]
  },
  {
   "cell_type": "code",
   "execution_count": 7,
   "id": "72b1bcbd",
   "metadata": {
    "ExecuteTime": {
     "end_time": "2022-10-23T09:15:40.947722Z",
     "start_time": "2022-10-23T09:15:40.902648Z"
    }
   },
   "outputs": [],
   "source": [
    "with open(file, mode='r') as f:\n",
    "    root = xmltodict.parse(f.read())"
   ]
  },
  {
   "cell_type": "code",
   "execution_count": 8,
   "id": "e38758e0",
   "metadata": {
    "ExecuteTime": {
     "end_time": "2022-10-23T09:15:41.561088Z",
     "start_time": "2022-10-23T09:15:41.464515Z"
    },
    "scrolled": true
   },
   "outputs": [
    {
     "data": {
      "text/plain": [
       "{'nitf': {'@change.date': 'June 10, 2005',\n",
       "  '@change.time': '19:30',\n",
       "  '@version': '-//IPTC//DTD NITF 3.3//EN',\n",
       "  'head': {'title': 'Techniques That Might Smile Upon Mona Lisa',\n",
       "   'meta': [{'@content': '01LISA$01', '@name': 'slug'},\n",
       "    {'@content': '1', '@name': 'publication_day_of_month'},\n",
       "    {'@content': '1', '@name': 'publication_month'},\n",
       "    {'@content': '2005', '@name': 'publication_year'},\n",
       "    {'@content': 'Saturday', '@name': 'publication_day_of_week'},\n",
       "    {'@content': 'The Arts/Cultural Desk', '@name': 'dsk'},\n",
       "    {'@content': '1', '@name': 'print_page_number'},\n",
       "    {'@content': 'E', '@name': 'print_section'},\n",
       "    {'@content': '5', '@name': 'print_column'},\n",
       "    {'@content': 'Technology; Science; Arts', '@name': 'online_sections'},\n",
       "    {'@content': 'http://www.nytimes.com/2005/01/01/arts/design/01lisa.html',\n",
       "     '@name': 'alternate_url'}],\n",
       "   'docdata': {'doc-id': {'@id-string': '1638661'},\n",
       "    'doc.copyright': {'@holder': 'The New York Times', '@year': '2005'},\n",
       "    'identified-content': {'classifier': [{'@class': 'indexing_service',\n",
       "       '@type': 'descriptor',\n",
       "       '#text': 'Art'},\n",
       "      {'@class': 'indexing_service',\n",
       "       '@type': 'descriptor',\n",
       "       '#text': 'Research'},\n",
       "      {'@class': 'indexing_service',\n",
       "       '@type': 'descriptor',\n",
       "       '#text': 'Temperature'},\n",
       "      {'@class': 'indexing_service',\n",
       "       '@type': 'descriptor',\n",
       "       '#text': 'Restoration and Rehabilitation'},\n",
       "      {'@class': 'indexing_service',\n",
       "       '@type': 'descriptor',\n",
       "       '#text': 'Wood and Wood Products'},\n",
       "      {'@class': 'online_producer',\n",
       "       '@type': 'taxonomic_classifier',\n",
       "       '#text': 'Top/News'},\n",
       "      {'@class': 'online_producer',\n",
       "       '@type': 'taxonomic_classifier',\n",
       "       '#text': 'Top/Features/Arts'},\n",
       "      {'@class': 'online_producer',\n",
       "       '@type': 'taxonomic_classifier',\n",
       "       '#text': 'Top/News/Science'},\n",
       "      {'@class': 'online_producer',\n",
       "       '@type': 'taxonomic_classifier',\n",
       "       '#text': 'Top/News/Technology'},\n",
       "      {'@class': 'online_producer',\n",
       "       '@type': 'taxonomic_classifier',\n",
       "       '#text': 'Top/Features/Arts/Art and Design'},\n",
       "      {'@class': 'online_producer',\n",
       "       '@type': 'taxonomic_classifier',\n",
       "       '#text': 'Top/Features/Travel/Guides/Activities and Interests/Art'},\n",
       "      {'@class': 'online_producer',\n",
       "       '@type': 'taxonomic_classifier',\n",
       "       '#text': 'Top/Classifieds/Job Market/Job Categories/Art and Design'},\n",
       "      {'@class': 'online_producer', '@type': 'descriptor', '#text': 'Art'},\n",
       "      {'@class': 'online_producer',\n",
       "       '@type': 'descriptor',\n",
       "       '#text': 'Restoration and Rehabilitation'},\n",
       "      {'@class': 'online_producer',\n",
       "       '@type': 'descriptor',\n",
       "       '#text': 'Science and Technology'},\n",
       "      {'@class': 'online_producer',\n",
       "       '@type': 'general_descriptor',\n",
       "       '#text': 'Science and Technology'},\n",
       "      {'@class': 'online_producer',\n",
       "       '@type': 'general_descriptor',\n",
       "       '#text': 'Wood and Wood Products'},\n",
       "      {'@class': 'online_producer',\n",
       "       '@type': 'general_descriptor',\n",
       "       '#text': 'Restoration and Rehabilitation'},\n",
       "      {'@class': 'online_producer',\n",
       "       '@type': 'general_descriptor',\n",
       "       '#text': 'Temperature'},\n",
       "      {'@class': 'online_producer',\n",
       "       '@type': 'general_descriptor',\n",
       "       '#text': 'Research'},\n",
       "      {'@class': 'online_producer',\n",
       "       '@type': 'general_descriptor',\n",
       "       '#text': 'Art'}],\n",
       "     'org': {'@class': 'indexing_service', '#text': 'Smithsonian Institution'},\n",
       "     'person': [{'@class': 'indexing_service', '#text': 'Olson, Elizabeth'},\n",
       "      {'@class': 'indexing_service', '#text': 'Mecklenburg, Marion'}]}},\n",
       "   'pubdata': {'@date.publication': '20050101T000000',\n",
       "    '@ex-ref': 'http://query.nytimes.com/gst/fullpage.html?res=9902E3D61439F932A35752C0A9639C8B63',\n",
       "    '@item-length': '1485',\n",
       "    '@name': 'The New York Times',\n",
       "    '@unit-of-measure': 'word'}},\n",
       "  'body': {'body.head': {'hedline': {'hl1': 'Techniques That Might Smile Upon Mona Lisa',\n",
       "     'hl2': {'@class': 'online_headline',\n",
       "      '#text': 'Techniques That Might Smile Upon Mona Lisa'}},\n",
       "    'byline': [{'@class': 'print_byline', '#text': 'By ELIZABETH OLSON'},\n",
       "     {'@class': 'normalized_byline', '#text': 'Olson, Elizabeth'}],\n",
       "    'dateline': 'WASHINGTON, Dec. 31',\n",
       "    'abstract': {'p': 'Article on research conducted by Smithsonian Institution engineer and painting conservator Marion Mecklenburg, who is seeking better ways to preserve priceless art works, including those like Mona Lisa that are painted on thin wood panels; Mecklenburg and assistant have found that maintaining strict temperatures and humidity to prevent paintings from buckling and flaking, standard used by museums worldwide, harms rather than helps art works; photo; diagram (M)'}},\n",
       "   'body.content': {'block': [{'@class': 'lead_paragraph',\n",
       "      'p': [\"Art and science don't often intersect, but Marion Mecklenburg, a Smithsonian Institution engineer who is also a painting conservator, is trying to merge them. His purpose: to find better ways to preserve priceless art works, including those like the ''Mona Lisa'' that are painted on thin wood panels.\",\n",
       "       \"After two decades in painting conservation, Mr. Mecklenburg realized that many of the techniques he was using were not effective, so he returned to school to learn the science. With an engineering degree, he returned to the Smithsonian's Center for Materials Research and Education and began devising computer simulations to measure how paintings react under different environmental conditions.\"]},\n",
       "     {'@class': 'online_lead_paragraph',\n",
       "      'p': 'After a 20-year career, the conservator Marion Mecklenburg went back to school -- in engineering -- to improve the preservation of art painted on fragile wood panels.'},\n",
       "     {'@class': 'full_text',\n",
       "      'p': [\"Art and science don't often intersect, but Marion Mecklenburg, a Smithsonian Institution engineer who is also a painting conservator, is trying to merge them. His purpose: to find better ways to preserve priceless art works, including those like the ''Mona Lisa'' that are painted on thin wood panels.\",\n",
       "       \"After two decades in painting conservation, Mr. Mecklenburg realized that many of the techniques he was using were not effective, so he returned to school to learn the science. With an engineering degree, he returned to the Smithsonian's Center for Materials Research and Education and began devising computer simulations to measure how paintings react under different environmental conditions.\",\n",
       "       'His conclusion: some preservation practices adopted in past centuries -- even the last century -- harmed, rather than helped, great works of art.',\n",
       "       'One of the practices he examined was the standard that museums worldwide adhere to: maintaining strict temperatures and humidity to prevent paintings from buckling and flaking.',\n",
       "       \"Earlier this year, Mr. Mecklenburg, 62, began to focus on how varying temperatures and humidity affect wood panels. He began his project shortly after the Louvre disclosed in the spring that the ''Mona Lisa,'' Leonardo da Vinci's early 16th-century masterpiece, was noticeably warped, and that museum curators, along with the French Center for Research and Restoration of Museums, were assessing the damage.\",\n",
       "       \"The ''Mona Lisa'' was painted on a panel of poplar, as were many works in Europe at the time. Serendipitously, poplar -- also known as cottonwood -- was also the wood Mr. Mecklenburg chose to study. Mr. Mecklenburg said his experiments showed that wood panel paintings are more resilient -- weathering changes in temperature and humidity as they did for centuries -- than experts in recent decades have believed.\",\n",
       "       'He examined how much wood changes, including how much it expands or contracts under different temperatures and humidity levels. Assisted by Evan Quasney, a 19-year-old mechanical-engineering student from the University of Michigan, he found that a two-foot-wide wood panel, for example, could bend as much as one and a half inches without breaking, cracking or warping.',\n",
       "       \"''We knew that paintings bent with changes in humidity, but we were not sure how much,'' said Mr. Quasney, who was a Smithsonian intern last summer. ''What we found was that a painting is elastic, like a rubber band, and it can withstand a range of changes in humidity and temperature -- then snap back without cracking or bending.''\",\n",
       "       \"The two men also found that the old masters knew best when it came to preserving their paintings. They often applied a layer of gesso, a mixture of hide glue and calcium carbonate or barium sulfate, as a primer. Used on both sides, the Smithsonian computer analysis found, gesso reduced the panel's tendency to warp with humidity changes.\",\n",
       "       \"The Smithsonian's experiments challenge other established preservation techniques, including battens (sticks of wood like mahogany attached perpendicularly to the panel's grain) or cradling (crisscrossed battens). Adding them, the computer analysis found, weakens the painting more than if it is allowed to bend naturally, and could lead to cracking.\",\n",
       "       \"In the mid-19th century, the ''Mona Lisa'' was braced with wood strips to prevent a crack from worsening, said a Louvre spokeswoman, Aggy Lerolle. Those battens are being examined but are still attached to the painting, she said.\",\n",
       "       \"The Louvre's curators had promised that they would reveal the results of their examination, which they have been conducting on Tuesdays when the museum is closed. Their inquiry has included taking the 30-by-20-inch painting out of its climate-controlled box and subjecting it to a number of tests, including X-rays, infrared photography and emissiography, which examines the oil colors used in different paint layers, a Leonardo expert, Jacques Franck, said in a telephone interview from Paris.\",\n",
       "       \"Not at all bothered by the American findings -- ''We have never heard of the Smithsonian's discoveries,'' Ms. Lerolle said -- the Louvre is planning in April to move the ''Mona Lisa'' to its original, but newly renovated home in the Salle des Etats, where a new glass enclosure will replace the current one, which dates to 1974.\",\n",
       "       \"Undeterred, Mr. Mecklenburg and Mr. Quasney, who worked together at the Smithsonian's suburban Maryland warehouse, say they believe that the recent damage to the ''Mona Lisa'' began when the painting hung on what had been part of the Louvre's outside wall structure.\",\n",
       "       \"''Why would the painting warp in such a specially controlled environment?'' Mr. Mecklenburg recalled thinking. ''There had to be some other influence.''\",\n",
       "       \"Although he has not seen the ''Mona Lisa'' in situ, Mr. Mecklenburg searched the museum's Web site and saw that the painting was hung on an outside wall. That placement left it vulnerable, he says.\",\n",
       "       \"''Water condenses behind the painting on the wall,'' Mr. Mecklenburg said. ''You could spend a million dollars on an air-conditioned space, but it's the wall behind the painting, and unfortunately that wall got cold. When that happens, it's like hanging a painting on the window, which condenses when it's cold.''\",\n",
       "       \"Even though its microclimate keeps the ''Mona Lisa'' at a constant 68 degrees and 55 percent humidity, ''the relative humidity in the air was condensing on the wall because the wall was cooler,'' Mr. Quasney said, ''and dripping into the back of the wall and exposed to the panel and the wood, which was swelling and splitting.''\",\n",
       "       \"Ms. Lerolle said that the painting's bulletproof box now hangs about eight feet from the nearest wall -- she did not have the exact date that it was moved -- and that the museum was reviewing how to protect the painting when it is rehung.\",\n",
       "       \"Mr. Franck, who is a consultant to the Armand Hammer Center of Leonardo Studies, said the warping -- mostly on the upper right hand side behind Mona Lisa's head -- was ''much less pronounced'' this year when he handled the painting at the Louvre's laboratory than it was when he conducted the same examination last year. This might be caused by moving the box away from the outside wall, but no one at the Louvre could confirm that.\",\n",
       "       'Mr. Mecklenburg acknowledges that his findings will be viewed with skepticism in the art world.',\n",
       "       \"Cristina Acidini, the director of one of Italy's main restoration institutes, the Opificio delle Pietre Dure in Florence, said many paintings adjust to their surroundings, especially those in churches, but that the institute still recommends constant temperature controls and humidity ranging from 50 percent to 55 percent.\",\n",
       "       \"''Avoiding shocks, such as moving a painting, is important because that may have the worst effect,'' Ms. Acidini said in a telephone interview. And James Beck, an art history professor at Columbia University, agreed.\",\n",
       "       \"''Paintings are a lot like people,'' he said, ''they get used to a certain comfort range, and if that changes, then they go crazy.''\",\n",
       "       'Dianne Dwyer Modestini, the curator of the Kress Collection -- about 1,650 artworks, including Italian Renaissance paintings, collected by the dime-store magnate Samuel H. Kress, spread over 18 regional museums in the United States -- said her two-decade experience with wood panel paintings indicated that the thickness and particular cut, as well as how it was seasoned, can affect how the wood reacts to differing conditions.',\n",
       "       \"''Nobody can guarantee an ideal range of humidity,'' she said. ''It fluctuates, but when it drops below 40 percent, my experience is that the wood starts to move, and the paint starts to flake off or the panel splits. That's when we get called.''\",\n",
       "       \"Even so, Michele Marincola, professor of conservation at the Institute of Fine Arts at New York University and former conservator of the Cloisters, said she was intrigued by the Smithsonian's findings.\",\n",
       "       \"''It would be great for some other institutions to do studies,'' she said. ''Let's try variable atmospheres that adapt to seasonal changes and put less stress on buildings but demonstrably are safe for the art.''\"]}]}}}}"
      ]
     },
     "execution_count": 8,
     "metadata": {},
     "output_type": "execute_result"
    }
   ],
   "source": [
    "root"
   ]
  },
  {
   "cell_type": "code",
   "execution_count": 10,
   "id": "3b17571e",
   "metadata": {
    "ExecuteTime": {
     "end_time": "2022-10-23T09:16:24.560671Z",
     "start_time": "2022-10-23T09:16:23.830503Z"
    },
    "collapsed": true
   },
   "outputs": [
    {
     "ename": "KeyError",
     "evalue": "\"Key 'body' not found. If specifying a record_path, all elements of data should have the path.\"",
     "output_type": "error",
     "traceback": [
      "\u001b[0;31m---------------------------------------------------------------------------\u001b[0m",
      "\u001b[0;31mKeyError\u001b[0m                                  Traceback (most recent call last)",
      "File \u001b[0;32m/opt/conda/lib/python3.10/site-packages/pandas/io/json/_normalize.py:394\u001b[0m, in \u001b[0;36m_json_normalize.<locals>._pull_field\u001b[0;34m(js, spec, extract_record)\u001b[0m\n\u001b[1;32m    393\u001b[0m             \u001b[38;5;28;01mraise\u001b[39;00m \u001b[38;5;167;01mKeyError\u001b[39;00m(field)\n\u001b[0;32m--> 394\u001b[0m         result \u001b[38;5;241m=\u001b[39m \u001b[43mresult\u001b[49m\u001b[43m[\u001b[49m\u001b[43mfield\u001b[49m\u001b[43m]\u001b[49m\n\u001b[1;32m    395\u001b[0m \u001b[38;5;28;01melse\u001b[39;00m:\n",
      "\u001b[0;31mKeyError\u001b[0m: 'body'",
      "\nThe above exception was the direct cause of the following exception:\n",
      "\u001b[0;31mKeyError\u001b[0m                                  Traceback (most recent call last)",
      "Cell \u001b[0;32mIn [10], line 1\u001b[0m\n\u001b[0;32m----> 1\u001b[0m \u001b[43mpd\u001b[49m\u001b[38;5;241;43m.\u001b[39;49m\u001b[43mjson_normalize\u001b[49m\u001b[43m(\u001b[49m\u001b[43mroot\u001b[49m\u001b[43m,\u001b[49m\u001b[43m \u001b[49m\u001b[43mrecord_path\u001b[49m\u001b[38;5;241;43m=\u001b[39;49m\u001b[43m[\u001b[49m\u001b[43m[\u001b[49m\u001b[38;5;124;43m\"\u001b[39;49m\u001b[38;5;124;43mnitf\u001b[39;49m\u001b[38;5;124;43m\"\u001b[39;49m\u001b[43m,\u001b[49m\u001b[43m \u001b[49m\u001b[38;5;124;43m\"\u001b[39;49m\u001b[38;5;124;43mbody\u001b[39;49m\u001b[38;5;124;43m\"\u001b[39;49m\u001b[43m,\u001b[49m\u001b[43m \u001b[49m\u001b[38;5;124;43m\"\u001b[39;49m\u001b[38;5;124;43mbody\u001b[39;49m\u001b[38;5;124;43m\"\u001b[39;49m\u001b[43m,\u001b[49m\u001b[43m \u001b[49m\u001b[38;5;124;43m\"\u001b[39;49m\u001b[38;5;124;43mcontent\u001b[39;49m\u001b[38;5;124;43m\"\u001b[39;49m\u001b[43m,\u001b[49m\u001b[43m \u001b[49m\u001b[38;5;124;43m\"\u001b[39;49m\u001b[38;5;124;43mblock\u001b[39;49m\u001b[38;5;124;43m\"\u001b[39;49m\u001b[43m]\u001b[49m\u001b[43m]\u001b[49m\u001b[43m)\u001b[49m\n",
      "File \u001b[0;32m/opt/conda/lib/python3.10/site-packages/pandas/io/json/_normalize.py:515\u001b[0m, in \u001b[0;36m_json_normalize\u001b[0;34m(data, record_path, meta, meta_prefix, record_prefix, errors, sep, max_level)\u001b[0m\n\u001b[1;32m    512\u001b[0m                 meta_vals[key]\u001b[38;5;241m.\u001b[39mappend(meta_val)\n\u001b[1;32m    513\u001b[0m             records\u001b[38;5;241m.\u001b[39mextend(recs)\n\u001b[0;32m--> 515\u001b[0m \u001b[43m_recursive_extract\u001b[49m\u001b[43m(\u001b[49m\u001b[43mdata\u001b[49m\u001b[43m,\u001b[49m\u001b[43m \u001b[49m\u001b[43mrecord_path\u001b[49m\u001b[43m,\u001b[49m\u001b[43m \u001b[49m\u001b[43m{\u001b[49m\u001b[43m}\u001b[49m\u001b[43m,\u001b[49m\u001b[43m \u001b[49m\u001b[43mlevel\u001b[49m\u001b[38;5;241;43m=\u001b[39;49m\u001b[38;5;241;43m0\u001b[39;49m\u001b[43m)\u001b[49m\n\u001b[1;32m    517\u001b[0m result \u001b[38;5;241m=\u001b[39m DataFrame(records)\n\u001b[1;32m    519\u001b[0m \u001b[38;5;28;01mif\u001b[39;00m record_prefix \u001b[38;5;129;01mis\u001b[39;00m \u001b[38;5;129;01mnot\u001b[39;00m \u001b[38;5;28;01mNone\u001b[39;00m:\n\u001b[1;32m    520\u001b[0m     \u001b[38;5;66;03m# Incompatible types in assignment (expression has type \"Optional[DataFrame]\",\u001b[39;00m\n\u001b[1;32m    521\u001b[0m     \u001b[38;5;66;03m# variable has type \"DataFrame\")\u001b[39;00m\n",
      "File \u001b[0;32m/opt/conda/lib/python3.10/site-packages/pandas/io/json/_normalize.py:497\u001b[0m, in \u001b[0;36m_json_normalize.<locals>._recursive_extract\u001b[0;34m(data, path, seen_meta, level)\u001b[0m\n\u001b[1;32m    495\u001b[0m \u001b[38;5;28;01melse\u001b[39;00m:\n\u001b[1;32m    496\u001b[0m     \u001b[38;5;28;01mfor\u001b[39;00m obj \u001b[38;5;129;01min\u001b[39;00m data:\n\u001b[0;32m--> 497\u001b[0m         recs \u001b[38;5;241m=\u001b[39m \u001b[43m_pull_records\u001b[49m\u001b[43m(\u001b[49m\u001b[43mobj\u001b[49m\u001b[43m,\u001b[49m\u001b[43m \u001b[49m\u001b[43mpath\u001b[49m\u001b[43m[\u001b[49m\u001b[38;5;241;43m0\u001b[39;49m\u001b[43m]\u001b[49m\u001b[43m)\u001b[49m\n\u001b[1;32m    498\u001b[0m         recs \u001b[38;5;241m=\u001b[39m [\n\u001b[1;32m    499\u001b[0m             nested_to_record(r, sep\u001b[38;5;241m=\u001b[39msep, max_level\u001b[38;5;241m=\u001b[39mmax_level)\n\u001b[1;32m    500\u001b[0m             \u001b[38;5;28;01mif\u001b[39;00m \u001b[38;5;28misinstance\u001b[39m(r, \u001b[38;5;28mdict\u001b[39m)\n\u001b[1;32m    501\u001b[0m             \u001b[38;5;28;01melse\u001b[39;00m r\n\u001b[1;32m    502\u001b[0m             \u001b[38;5;28;01mfor\u001b[39;00m r \u001b[38;5;129;01min\u001b[39;00m recs\n\u001b[1;32m    503\u001b[0m         ]\n\u001b[1;32m    505\u001b[0m         \u001b[38;5;66;03m# For repeating the metadata later\u001b[39;00m\n",
      "File \u001b[0;32m/opt/conda/lib/python3.10/site-packages/pandas/io/json/_normalize.py:419\u001b[0m, in \u001b[0;36m_json_normalize.<locals>._pull_records\u001b[0;34m(js, spec)\u001b[0m\n\u001b[1;32m    413\u001b[0m \u001b[38;5;28;01mdef\u001b[39;00m \u001b[38;5;21m_pull_records\u001b[39m(js: \u001b[38;5;28mdict\u001b[39m[\u001b[38;5;28mstr\u001b[39m, Any], spec: \u001b[38;5;28mlist\u001b[39m \u001b[38;5;241m|\u001b[39m \u001b[38;5;28mstr\u001b[39m) \u001b[38;5;241m-\u001b[39m\u001b[38;5;241m>\u001b[39m \u001b[38;5;28mlist\u001b[39m:\n\u001b[1;32m    414\u001b[0m     \u001b[38;5;124;03m\"\"\"\u001b[39;00m\n\u001b[1;32m    415\u001b[0m \u001b[38;5;124;03m    Internal function to pull field for records, and similar to\u001b[39;00m\n\u001b[1;32m    416\u001b[0m \u001b[38;5;124;03m    _pull_field, but require to return list. And will raise error\u001b[39;00m\n\u001b[1;32m    417\u001b[0m \u001b[38;5;124;03m    if has non iterable value.\u001b[39;00m\n\u001b[1;32m    418\u001b[0m \u001b[38;5;124;03m    \"\"\"\u001b[39;00m\n\u001b[0;32m--> 419\u001b[0m     result \u001b[38;5;241m=\u001b[39m \u001b[43m_pull_field\u001b[49m\u001b[43m(\u001b[49m\u001b[43mjs\u001b[49m\u001b[43m,\u001b[49m\u001b[43m \u001b[49m\u001b[43mspec\u001b[49m\u001b[43m,\u001b[49m\u001b[43m \u001b[49m\u001b[43mextract_record\u001b[49m\u001b[38;5;241;43m=\u001b[39;49m\u001b[38;5;28;43;01mTrue\u001b[39;49;00m\u001b[43m)\u001b[49m\n\u001b[1;32m    421\u001b[0m     \u001b[38;5;66;03m# GH 31507 GH 30145, GH 26284 if result is not list, raise TypeError if not\u001b[39;00m\n\u001b[1;32m    422\u001b[0m     \u001b[38;5;66;03m# null, otherwise return an empty list\u001b[39;00m\n\u001b[1;32m    423\u001b[0m     \u001b[38;5;28;01mif\u001b[39;00m \u001b[38;5;129;01mnot\u001b[39;00m \u001b[38;5;28misinstance\u001b[39m(result, \u001b[38;5;28mlist\u001b[39m):\n",
      "File \u001b[0;32m/opt/conda/lib/python3.10/site-packages/pandas/io/json/_normalize.py:399\u001b[0m, in \u001b[0;36m_json_normalize.<locals>._pull_field\u001b[0;34m(js, spec, extract_record)\u001b[0m\n\u001b[1;32m    397\u001b[0m \u001b[38;5;28;01mexcept\u001b[39;00m \u001b[38;5;167;01mKeyError\u001b[39;00m \u001b[38;5;28;01mas\u001b[39;00m e:\n\u001b[1;32m    398\u001b[0m     \u001b[38;5;28;01mif\u001b[39;00m extract_record:\n\u001b[0;32m--> 399\u001b[0m         \u001b[38;5;28;01mraise\u001b[39;00m \u001b[38;5;167;01mKeyError\u001b[39;00m(\n\u001b[1;32m    400\u001b[0m             \u001b[38;5;124mf\u001b[39m\u001b[38;5;124m\"\u001b[39m\u001b[38;5;124mKey \u001b[39m\u001b[38;5;132;01m{\u001b[39;00me\u001b[38;5;132;01m}\u001b[39;00m\u001b[38;5;124m not found. If specifying a record_path, all elements of \u001b[39m\u001b[38;5;124m\"\u001b[39m\n\u001b[1;32m    401\u001b[0m             \u001b[38;5;124mf\u001b[39m\u001b[38;5;124m\"\u001b[39m\u001b[38;5;124mdata should have the path.\u001b[39m\u001b[38;5;124m\"\u001b[39m\n\u001b[1;32m    402\u001b[0m         ) \u001b[38;5;28;01mfrom\u001b[39;00m \u001b[38;5;21;01me\u001b[39;00m\n\u001b[1;32m    403\u001b[0m     \u001b[38;5;28;01melif\u001b[39;00m errors \u001b[38;5;241m==\u001b[39m \u001b[38;5;124m\"\u001b[39m\u001b[38;5;124mignore\u001b[39m\u001b[38;5;124m\"\u001b[39m:\n\u001b[1;32m    404\u001b[0m         \u001b[38;5;28;01mreturn\u001b[39;00m np\u001b[38;5;241m.\u001b[39mnan\n",
      "\u001b[0;31mKeyError\u001b[0m: \"Key 'body' not found. If specifying a record_path, all elements of data should have the path.\""
     ]
    }
   ],
   "source": [
    "pd.json_normalize(root, record_path=[[\"nitf\", \"body\", \"body\", \"content\", \"block\"]])"
   ]
  },
  {
   "cell_type": "code",
   "execution_count": 18,
   "id": "00ccac40",
   "metadata": {
    "ExecuteTime": {
     "end_time": "2022-10-29T03:47:55.496238Z",
     "start_time": "2022-10-29T03:47:55.350462Z"
    }
   },
   "outputs": [
    {
     "data": {
      "text/plain": [
       "<bound method NDFrame.head of   nitf.@change.date nitf.@change.time              nitf.@version  \\\n",
       "0     June 10, 2005             19:30  -//IPTC//DTD NITF 3.3//EN   \n",
       "\n",
       "                              nitf.head.title  \\\n",
       "0  Techniques That Might Smile Upon Mona Lisa   \n",
       "\n",
       "                                      nitf.head.meta  \\\n",
       "0  [{'@content': '01LISA$01', '@name': 'slug'}, {...   \n",
       "\n",
       "  nitf.head.docdata.doc-id.@id-string nitf.head.docdata.doc.copyright.@holder  \\\n",
       "0                             1638661                      The New York Times   \n",
       "\n",
       "  nitf.head.docdata.doc.copyright.@year  \\\n",
       "0                                  2005   \n",
       "\n",
       "     nitf.head.docdata.identified-content.classifier  \\\n",
       "0  [{'@class': 'indexing_service', '@type': 'desc...   \n",
       "\n",
       "  nitf.head.docdata.identified-content.org.@class  ...  \\\n",
       "0                                indexing_service  ...   \n",
       "\n",
       "  nitf.head.pubdata.@item-length nitf.head.pubdata.@name  \\\n",
       "0                           1485      The New York Times   \n",
       "\n",
       "  nitf.head.pubdata.@unit-of-measure  \\\n",
       "0                               word   \n",
       "\n",
       "              nitf.body.body.head.hedline.hl1  \\\n",
       "0  Techniques That Might Smile Upon Mona Lisa   \n",
       "\n",
       "  nitf.body.body.head.hedline.hl2.@class  \\\n",
       "0                        online_headline   \n",
       "\n",
       "        nitf.body.body.head.hedline.hl2.#text  \\\n",
       "0  Techniques That Might Smile Upon Mona Lisa   \n",
       "\n",
       "                          nitf.body.body.head.byline  \\\n",
       "0  [{'@class': 'print_byline', '#text': 'By ELIZA...   \n",
       "\n",
       "  nitf.body.body.head.dateline  \\\n",
       "0          WASHINGTON, Dec. 31   \n",
       "\n",
       "                      nitf.body.body.head.abstract.p  \\\n",
       "0  Article on research conducted by Smithsonian I...   \n",
       "\n",
       "                        nitf.body.body.content.block  \n",
       "0  [{'@class': 'lead_paragraph', 'p': ['Art and s...  \n",
       "\n",
       "[1 rows x 24 columns]>"
      ]
     },
     "execution_count": 18,
     "metadata": {},
     "output_type": "execute_result"
    }
   ],
   "source": [
    "pd.json_normalize(root).head"
   ]
  },
  {
   "cell_type": "code",
   "execution_count": 16,
   "id": "21c33f69",
   "metadata": {
    "ExecuteTime": {
     "end_time": "2022-10-29T03:18:44.258071Z",
     "start_time": "2022-10-29T03:18:44.193240Z"
    },
    "collapsed": true
   },
   "outputs": [
    {
     "data": {
      "text/html": [
       "<div>\n",
       "<style scoped>\n",
       "    .dataframe tbody tr th:only-of-type {\n",
       "        vertical-align: middle;\n",
       "    }\n",
       "\n",
       "    .dataframe tbody tr th {\n",
       "        vertical-align: top;\n",
       "    }\n",
       "\n",
       "    .dataframe thead th {\n",
       "        text-align: right;\n",
       "    }\n",
       "</style>\n",
       "<table border=\"1\" class=\"dataframe\">\n",
       "  <thead>\n",
       "    <tr style=\"text-align: right;\">\n",
       "      <th></th>\n",
       "      <th>@content</th>\n",
       "      <th>@name</th>\n",
       "    </tr>\n",
       "  </thead>\n",
       "  <tbody>\n",
       "    <tr>\n",
       "      <th>0</th>\n",
       "      <td>01LISA$01</td>\n",
       "      <td>slug</td>\n",
       "    </tr>\n",
       "    <tr>\n",
       "      <th>1</th>\n",
       "      <td>1</td>\n",
       "      <td>publication_day_of_month</td>\n",
       "    </tr>\n",
       "    <tr>\n",
       "      <th>2</th>\n",
       "      <td>1</td>\n",
       "      <td>publication_month</td>\n",
       "    </tr>\n",
       "    <tr>\n",
       "      <th>3</th>\n",
       "      <td>2005</td>\n",
       "      <td>publication_year</td>\n",
       "    </tr>\n",
       "    <tr>\n",
       "      <th>4</th>\n",
       "      <td>Saturday</td>\n",
       "      <td>publication_day_of_week</td>\n",
       "    </tr>\n",
       "    <tr>\n",
       "      <th>5</th>\n",
       "      <td>The Arts/Cultural Desk</td>\n",
       "      <td>dsk</td>\n",
       "    </tr>\n",
       "    <tr>\n",
       "      <th>6</th>\n",
       "      <td>1</td>\n",
       "      <td>print_page_number</td>\n",
       "    </tr>\n",
       "    <tr>\n",
       "      <th>7</th>\n",
       "      <td>E</td>\n",
       "      <td>print_section</td>\n",
       "    </tr>\n",
       "    <tr>\n",
       "      <th>8</th>\n",
       "      <td>5</td>\n",
       "      <td>print_column</td>\n",
       "    </tr>\n",
       "    <tr>\n",
       "      <th>9</th>\n",
       "      <td>Technology; Science; Arts</td>\n",
       "      <td>online_sections</td>\n",
       "    </tr>\n",
       "    <tr>\n",
       "      <th>10</th>\n",
       "      <td>http://www.nytimes.com/2005/01/01/arts/design/...</td>\n",
       "      <td>alternate_url</td>\n",
       "    </tr>\n",
       "  </tbody>\n",
       "</table>\n",
       "</div>"
      ],
      "text/plain": [
       "                                             @content  \\\n",
       "0                                           01LISA$01   \n",
       "1                                                   1   \n",
       "2                                                   1   \n",
       "3                                                2005   \n",
       "4                                            Saturday   \n",
       "5                              The Arts/Cultural Desk   \n",
       "6                                                   1   \n",
       "7                                                   E   \n",
       "8                                                   5   \n",
       "9                           Technology; Science; Arts   \n",
       "10  http://www.nytimes.com/2005/01/01/arts/design/...   \n",
       "\n",
       "                       @name  \n",
       "0                       slug  \n",
       "1   publication_day_of_month  \n",
       "2          publication_month  \n",
       "3           publication_year  \n",
       "4    publication_day_of_week  \n",
       "5                        dsk  \n",
       "6          print_page_number  \n",
       "7              print_section  \n",
       "8               print_column  \n",
       "9            online_sections  \n",
       "10             alternate_url  "
      ]
     },
     "execution_count": 16,
     "metadata": {},
     "output_type": "execute_result"
    }
   ],
   "source": [
    "pd.json_normalize(root, record_path=[[\"nitf\", \"head\", \"meta\"]])"
   ]
  },
  {
   "cell_type": "code",
   "execution_count": 17,
   "id": "5d9df16f",
   "metadata": {
    "ExecuteTime": {
     "end_time": "2022-10-29T03:19:24.700598Z",
     "start_time": "2022-10-29T03:19:24.596046Z"
    }
   },
   "outputs": [
    {
     "data": {
      "text/html": [
       "<div>\n",
       "<style scoped>\n",
       "    .dataframe tbody tr th:only-of-type {\n",
       "        vertical-align: middle;\n",
       "    }\n",
       "\n",
       "    .dataframe tbody tr th {\n",
       "        vertical-align: top;\n",
       "    }\n",
       "\n",
       "    .dataframe thead th {\n",
       "        text-align: right;\n",
       "    }\n",
       "</style>\n",
       "<table border=\"1\" class=\"dataframe\">\n",
       "  <thead>\n",
       "    <tr style=\"text-align: right;\">\n",
       "      <th></th>\n",
       "      <th>@content</th>\n",
       "      <th>@name</th>\n",
       "      <th>nitf.@change.date</th>\n",
       "      <th>nitf.@change.time</th>\n",
       "    </tr>\n",
       "  </thead>\n",
       "  <tbody>\n",
       "    <tr>\n",
       "      <th>0</th>\n",
       "      <td>01LISA$01</td>\n",
       "      <td>slug</td>\n",
       "      <td>June 10, 2005</td>\n",
       "      <td>19:30</td>\n",
       "    </tr>\n",
       "    <tr>\n",
       "      <th>1</th>\n",
       "      <td>1</td>\n",
       "      <td>publication_day_of_month</td>\n",
       "      <td>June 10, 2005</td>\n",
       "      <td>19:30</td>\n",
       "    </tr>\n",
       "    <tr>\n",
       "      <th>2</th>\n",
       "      <td>1</td>\n",
       "      <td>publication_month</td>\n",
       "      <td>June 10, 2005</td>\n",
       "      <td>19:30</td>\n",
       "    </tr>\n",
       "    <tr>\n",
       "      <th>3</th>\n",
       "      <td>2005</td>\n",
       "      <td>publication_year</td>\n",
       "      <td>June 10, 2005</td>\n",
       "      <td>19:30</td>\n",
       "    </tr>\n",
       "    <tr>\n",
       "      <th>4</th>\n",
       "      <td>Saturday</td>\n",
       "      <td>publication_day_of_week</td>\n",
       "      <td>June 10, 2005</td>\n",
       "      <td>19:30</td>\n",
       "    </tr>\n",
       "    <tr>\n",
       "      <th>5</th>\n",
       "      <td>The Arts/Cultural Desk</td>\n",
       "      <td>dsk</td>\n",
       "      <td>June 10, 2005</td>\n",
       "      <td>19:30</td>\n",
       "    </tr>\n",
       "    <tr>\n",
       "      <th>6</th>\n",
       "      <td>1</td>\n",
       "      <td>print_page_number</td>\n",
       "      <td>June 10, 2005</td>\n",
       "      <td>19:30</td>\n",
       "    </tr>\n",
       "    <tr>\n",
       "      <th>7</th>\n",
       "      <td>E</td>\n",
       "      <td>print_section</td>\n",
       "      <td>June 10, 2005</td>\n",
       "      <td>19:30</td>\n",
       "    </tr>\n",
       "    <tr>\n",
       "      <th>8</th>\n",
       "      <td>5</td>\n",
       "      <td>print_column</td>\n",
       "      <td>June 10, 2005</td>\n",
       "      <td>19:30</td>\n",
       "    </tr>\n",
       "    <tr>\n",
       "      <th>9</th>\n",
       "      <td>Technology; Science; Arts</td>\n",
       "      <td>online_sections</td>\n",
       "      <td>June 10, 2005</td>\n",
       "      <td>19:30</td>\n",
       "    </tr>\n",
       "    <tr>\n",
       "      <th>10</th>\n",
       "      <td>http://www.nytimes.com/2005/01/01/arts/design/...</td>\n",
       "      <td>alternate_url</td>\n",
       "      <td>June 10, 2005</td>\n",
       "      <td>19:30</td>\n",
       "    </tr>\n",
       "  </tbody>\n",
       "</table>\n",
       "</div>"
      ],
      "text/plain": [
       "                                             @content  \\\n",
       "0                                           01LISA$01   \n",
       "1                                                   1   \n",
       "2                                                   1   \n",
       "3                                                2005   \n",
       "4                                            Saturday   \n",
       "5                              The Arts/Cultural Desk   \n",
       "6                                                   1   \n",
       "7                                                   E   \n",
       "8                                                   5   \n",
       "9                           Technology; Science; Arts   \n",
       "10  http://www.nytimes.com/2005/01/01/arts/design/...   \n",
       "\n",
       "                       @name nitf.@change.date nitf.@change.time  \n",
       "0                       slug     June 10, 2005             19:30  \n",
       "1   publication_day_of_month     June 10, 2005             19:30  \n",
       "2          publication_month     June 10, 2005             19:30  \n",
       "3           publication_year     June 10, 2005             19:30  \n",
       "4    publication_day_of_week     June 10, 2005             19:30  \n",
       "5                        dsk     June 10, 2005             19:30  \n",
       "6          print_page_number     June 10, 2005             19:30  \n",
       "7              print_section     June 10, 2005             19:30  \n",
       "8               print_column     June 10, 2005             19:30  \n",
       "9            online_sections     June 10, 2005             19:30  \n",
       "10             alternate_url     June 10, 2005             19:30  "
      ]
     },
     "execution_count": 17,
     "metadata": {},
     "output_type": "execute_result"
    }
   ],
   "source": [
    "pd.json_normalize(\n",
    "    root, record_path=[[\"nitf\", \"head\", \"meta\"]], meta=[[\"nitf\", \"@change.date\"], [\"nitf\", \"@change.time\"]]\n",
    ")"
   ]
  },
  {
   "cell_type": "code",
   "execution_count": null,
   "id": "4fb5a9cb",
   "metadata": {},
   "outputs": [],
   "source": []
  }
 ],
 "metadata": {
  "kernelspec": {
   "display_name": "Python 3 (ipykernel)",
   "language": "python",
   "name": "python3"
  },
  "language_info": {
   "codemirror_mode": {
    "name": "ipython",
    "version": 3
   },
   "file_extension": ".py",
   "mimetype": "text/x-python",
   "name": "python",
   "nbconvert_exporter": "python",
   "pygments_lexer": "ipython3",
   "version": "3.10.6"
  },
  "toc": {
   "base_numbering": 1,
   "nav_menu": {},
   "number_sections": true,
   "sideBar": true,
   "skip_h1_title": false,
   "title_cell": "Table of Contents",
   "title_sidebar": "Contents",
   "toc_cell": false,
   "toc_position": {},
   "toc_section_display": true,
   "toc_window_display": false
  }
 },
 "nbformat": 4,
 "nbformat_minor": 5
}
