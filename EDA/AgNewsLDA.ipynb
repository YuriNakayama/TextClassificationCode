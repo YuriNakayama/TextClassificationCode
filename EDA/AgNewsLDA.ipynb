{
 "cells": [
  {
   "cell_type": "code",
   "execution_count": 4,
   "id": "5c07f6aa",
   "metadata": {
    "ExecuteTime": {
     "end_time": "2022-09-30T01:14:46.076017Z",
     "start_time": "2022-09-30T01:14:46.043892Z"
    }
   },
   "outputs": [],
   "source": [
    "from glob import glob\n",
    "\n",
    "import matplotlib.pyplot as plt\n",
    "import numpy as np\n",
    "import pandas as pd\n",
    "import seaborn as sns\n",
    "from gensim.corpora.dictionary import Dictionary\n",
    "from gensim.models.ldamodel import LdaModel\n",
    "from sklearn.cluster import KMeans\n",
    "from sklearn.metrics import adjusted_mutual_info_score\n",
    "from tqdm import tqdm"
   ]
  },
  {
   "cell_type": "code",
   "execution_count": 5,
   "id": "7b421e67",
   "metadata": {
    "ExecuteTime": {
     "end_time": "2022-09-30T01:14:54.821664Z",
     "start_time": "2022-09-30T01:14:53.247238Z"
    }
   },
   "outputs": [],
   "source": [
    "AgNews = pd.read_csv(\n",
    "    \"../data/CharCnn_Keras-master/data/ag_news_csv/train.csv\",\n",
    "    header=None,\n",
    ")"
   ]
  },
  {
   "cell_type": "code",
   "execution_count": 6,
   "id": "dbba9626",
   "metadata": {
    "ExecuteTime": {
     "end_time": "2022-09-30T01:14:54.845576Z",
     "start_time": "2022-09-30T01:14:54.830646Z"
    }
   },
   "outputs": [],
   "source": [
    "AgNews.columns = [\"class\", \"title\", \"description\"]"
   ]
  },
  {
   "cell_type": "code",
   "execution_count": 7,
   "id": "38902051",
   "metadata": {
    "ExecuteTime": {
     "end_time": "2022-09-30T01:14:54.891534Z",
     "start_time": "2022-09-30T01:14:54.855454Z"
    }
   },
   "outputs": [],
   "source": [
    "with open(\"../data/CharCnn_Keras-master/data/ag_news_csv/classes.txt\", mode=\"r\") as f:\n",
    "    classes = f.read().replace('/', '').split(\"\\n\")"
   ]
  },
  {
   "cell_type": "code",
   "execution_count": 10,
   "id": "ac9dd10d",
   "metadata": {
    "ExecuteTime": {
     "end_time": "2022-09-30T01:17:05.132995Z",
     "start_time": "2022-09-30T01:17:04.091063Z"
    }
   },
   "outputs": [],
   "source": [
    "texts = [text.split(' ') for text in AgNews[\"description\"].to_numpy()]"
   ]
  },
  {
   "cell_type": "code",
   "execution_count": 12,
   "id": "70a0c03e",
   "metadata": {
    "ExecuteTime": {
     "end_time": "2022-09-30T01:17:42.876172Z",
     "start_time": "2022-09-30T01:17:19.929978Z"
    },
    "scrolled": true
   },
   "outputs": [],
   "source": [
    "dictionary = Dictionary(texts)"
   ]
  },
  {
   "cell_type": "code",
   "execution_count": 13,
   "id": "a1332a10",
   "metadata": {
    "ExecuteTime": {
     "end_time": "2022-09-30T01:18:26.097788Z",
     "start_time": "2022-09-30T01:18:13.244114Z"
    }
   },
   "outputs": [],
   "source": [
    "corpus = [dictionary.doc2bow(text) for text in texts]"
   ]
  },
  {
   "cell_type": "code",
   "execution_count": 15,
   "id": "961ddb94",
   "metadata": {
    "ExecuteTime": {
     "end_time": "2022-09-30T01:26:10.016830Z",
     "start_time": "2022-09-30T01:19:34.044838Z"
    }
   },
   "outputs": [],
   "source": [
    "lda = LdaModel(corpus, num_topics=4)"
   ]
  },
  {
   "cell_type": "code",
   "execution_count": 16,
   "id": "0e040733",
   "metadata": {
    "ExecuteTime": {
     "end_time": "2022-09-30T01:32:00.269266Z",
     "start_time": "2022-09-30T01:27:56.802998Z"
    }
   },
   "outputs": [],
   "source": [
    "pred = [lda[docBow] for docBow in corpus]"
   ]
  },
  {
   "cell_type": "code",
   "execution_count": 20,
   "id": "6c5e5de9",
   "metadata": {
    "ExecuteTime": {
     "end_time": "2022-09-30T01:33:59.506798Z",
     "start_time": "2022-09-30T01:33:59.281716Z"
    }
   },
   "outputs": [],
   "source": [
    "predDict = [dict(row) for row in pred]"
   ]
  },
  {
   "cell_type": "code",
   "execution_count": 24,
   "id": "4e91c14e",
   "metadata": {
    "ExecuteTime": {
     "end_time": "2022-09-30T01:35:06.762546Z",
     "start_time": "2022-09-30T01:35:05.961609Z"
    }
   },
   "outputs": [],
   "source": [
    "predDf= pd.DataFrame(predDict)\n",
    "predDf = predDf.fillna(0)"
   ]
  },
  {
   "cell_type": "code",
   "execution_count": 29,
   "id": "97fca365",
   "metadata": {
    "ExecuteTime": {
     "end_time": "2022-09-30T01:35:57.704911Z",
     "start_time": "2022-09-30T01:35:57.685223Z"
    }
   },
   "outputs": [],
   "source": [
    "label = AgNews[\"class\"].to_numpy()"
   ]
  },
  {
   "cell_type": "code",
   "execution_count": 31,
   "id": "b472a9b4",
   "metadata": {
    "ExecuteTime": {
     "end_time": "2022-09-30T01:36:20.787753Z",
     "start_time": "2022-09-30T01:36:19.076346Z"
    }
   },
   "outputs": [
    {
     "data": {
      "text/plain": [
       "0.36740950508107223"
      ]
     },
     "execution_count": 31,
     "metadata": {},
     "output_type": "execute_result"
    }
   ],
   "source": [
    "adjusted_mutual_info_score(label, predDf.idxmax(axis=1).to_numpy())"
   ]
  }
 ],
 "metadata": {
  "kernelspec": {
   "display_name": "Python 3 (ipykernel)",
   "language": "python",
   "name": "python3"
  },
  "language_info": {
   "codemirror_mode": {
    "name": "ipython",
    "version": 3
   },
   "file_extension": ".py",
   "mimetype": "text/x-python",
   "name": "python",
   "nbconvert_exporter": "python",
   "pygments_lexer": "ipython3",
   "version": "3.10.6"
  },
  "toc": {
   "base_numbering": 1,
   "nav_menu": {},
   "number_sections": true,
   "sideBar": true,
   "skip_h1_title": false,
   "title_cell": "Table of Contents",
   "title_sidebar": "Contents",
   "toc_cell": false,
   "toc_position": {},
   "toc_section_display": true,
   "toc_window_display": false
  }
 },
 "nbformat": 4,
 "nbformat_minor": 5
}
