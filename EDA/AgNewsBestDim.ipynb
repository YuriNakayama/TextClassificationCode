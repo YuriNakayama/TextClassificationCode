{
 "cells": [
  {
   "cell_type": "code",
   "execution_count": 1,
   "id": "5c07f6aa",
   "metadata": {
    "ExecuteTime": {
     "end_time": "2022-10-03T13:08:19.715397Z",
     "start_time": "2022-10-03T13:08:14.527192Z"
    }
   },
   "outputs": [],
   "source": [
    "import json\n",
    "import os\n",
    "import sys\n",
    "from glob import glob\n",
    "\n",
    "import matplotlib.pyplot as plt\n",
    "import numpy as np\n",
    "import pandas as pd\n",
    "import seaborn as sns\n",
    "from gensim.models.doc2vec import Doc2Vec, TaggedDocument\n",
    "from sklearn.cluster import KMeans\n",
    "from sklearn.metrics import adjusted_mutual_info_score\n",
    "from tqdm import tqdm"
   ]
  },
  {
   "cell_type": "code",
   "execution_count": 2,
   "id": "7b421e67",
   "metadata": {
    "ExecuteTime": {
     "end_time": "2022-10-03T13:08:21.366557Z",
     "start_time": "2022-10-03T13:08:19.737293Z"
    }
   },
   "outputs": [],
   "source": [
    "AgNews = pd.read_csv(\n",
    "    \"../data/CharCnn_Keras-master/data/ag_news_csv/train.csv\",\n",
    "    header=None,\n",
    ")"
   ]
  },
  {
   "cell_type": "code",
   "execution_count": 3,
   "id": "8742c85f",
   "metadata": {
    "ExecuteTime": {
     "end_time": "2022-10-03T13:08:21.392501Z",
     "start_time": "2022-10-03T13:08:21.374975Z"
    }
   },
   "outputs": [],
   "source": [
    "AgNews.columns = [\"class\", \"title\", \"description\"]"
   ]
  },
  {
   "cell_type": "code",
   "execution_count": 4,
   "id": "38902051",
   "metadata": {
    "ExecuteTime": {
     "end_time": "2022-10-03T13:08:21.470411Z",
     "start_time": "2022-10-03T13:08:21.410910Z"
    }
   },
   "outputs": [],
   "source": [
    "with open(\"../data/CharCnn_Keras-master/data/ag_news_csv/classes.txt\", mode=\"r\") as f:\n",
    "    classes = f.read().replace('/', '').split(\"\\n\")"
   ]
  },
  {
   "cell_type": "code",
   "execution_count": 5,
   "id": "da6f577f",
   "metadata": {
    "ExecuteTime": {
     "end_time": "2022-10-03T13:08:21.564970Z",
     "start_time": "2022-10-03T13:08:21.483697Z"
    }
   },
   "outputs": [
    {
     "data": {
      "text/plain": [
       "['World', 'Sports', 'Business', 'SciTech']"
      ]
     },
     "execution_count": 5,
     "metadata": {},
     "output_type": "execute_result"
    }
   ],
   "source": [
    "classes"
   ]
  },
  {
   "cell_type": "code",
   "execution_count": 6,
   "id": "5d4bcc2f",
   "metadata": {
    "ExecuteTime": {
     "end_time": "2022-10-03T13:08:23.718595Z",
     "start_time": "2022-10-03T13:08:21.593023Z"
    }
   },
   "outputs": [],
   "source": [
    "documents = [TaggedDocument(doc.split(' '), [i]) for i, doc in enumerate(AgNews.description)]"
   ]
  },
  {
   "cell_type": "code",
   "execution_count": 7,
   "id": "d8540198",
   "metadata": {
    "ExecuteTime": {
     "end_time": "2022-10-03T13:08:23.743860Z",
     "start_time": "2022-10-03T13:08:23.728119Z"
    }
   },
   "outputs": [],
   "source": [
    "vector_sizes = [2, 3, 4, 6, 7, 8, 9, 10, 20, 40, 80, 160, 320, 640]"
   ]
  },
  {
   "cell_type": "code",
   "execution_count": 8,
   "id": "bce901ee",
   "metadata": {
    "ExecuteTime": {
     "end_time": "2022-10-03T13:08:23.802062Z",
     "start_time": "2022-10-03T13:08:23.757650Z"
    }
   },
   "outputs": [],
   "source": [
    "def get_doc2vec(texts, vector_size, path):\n",
    "    model = Doc2Vec(\n",
    "        documents,\n",
    "        vector_size=vector_size,\n",
    "        window=5,\n",
    "        min_count=1,\n",
    "        epochs=50,\n",
    "        workers=os.cpu_count(),\n",
    "    )\n",
    "    model.save(path)\n",
    "    vectors = [model.infer_vector(text.split(\" \")) for text in texts]\n",
    "    return vectors"
   ]
  },
  {
   "cell_type": "code",
   "execution_count": 9,
   "id": "8f119df5",
   "metadata": {
    "ExecuteTime": {
     "end_time": "2022-10-03T13:08:23.850373Z",
     "start_time": "2022-10-03T13:08:23.815797Z"
    }
   },
   "outputs": [],
   "source": [
    "def get_kmeans(vectors, n_clusters):\n",
    "    mat = np.stack(vectors)\n",
    "    kmeans = KMeans(n_clusters=n_clusters)\n",
    "    pred = kmeans.fit_predict(mat)\n",
    "    return pred"
   ]
  },
  {
   "cell_type": "code",
   "execution_count": 10,
   "id": "f8aad00d",
   "metadata": {
    "ExecuteTime": {
     "end_time": "2022-10-04T14:49:25.970556Z",
     "start_time": "2022-10-03T13:08:23.860814Z"
    }
   },
   "outputs": [
    {
     "name": "stderr",
     "output_type": "stream",
     "text": [
      "100%|██████████| 14/14 [25:41:02<00:00, 6604.43s/it]  \n"
     ]
    }
   ],
   "source": [
    "vector_path = \"./data/vector/\"\n",
    "model_path = \"./data/model/\"\n",
    "for vector_size in tqdm(vector_sizes):\n",
    "    vectors = get_doc2vec(\n",
    "        AgNews.description, vector_size, path=f\"{model_path}doc2vec/{vector_size}.csv\"\n",
    "    )\n",
    "    np.savetxt(\n",
    "        f\"{vector_path}{vector_size}.csv\",\n",
    "        np.stack(vectors),\n",
    "        delimiter=\",\",\n",
    "    )"
   ]
  },
  {
   "cell_type": "code",
   "execution_count": null,
   "id": "6a6a7391",
   "metadata": {},
   "outputs": [],
   "source": []
  },
  {
   "cell_type": "code",
   "execution_count": null,
   "id": "32f19f10",
   "metadata": {},
   "outputs": [],
   "source": []
  },
  {
   "cell_type": "code",
   "execution_count": null,
   "id": "b25fda48",
   "metadata": {
    "ExecuteTime": {
     "start_time": "2022-10-03T13:06:50.783Z"
    },
    "code_folding": []
   },
   "outputs": [],
   "source": [
    "vectors = dict()\n",
    "for vector_size in vector_sizes:\n",
    "    model = Doc2Vec(\n",
    "        documents,\n",
    "        vector_size=vector_size,\n",
    "        window=5,\n",
    "        min_count=1,\n",
    "        workers=os.cpu_count(),\n",
    "    )\n",
    "    vector = dict()\n",
    "    for idx, text in tqdm(enumerate(AgNews.description)):\n",
    "        vector[idx] = model.infer_vector(text.split(\" \"))\n",
    "    vectors[vector_size] = vector"
   ]
  },
  {
   "cell_type": "code",
   "execution_count": null,
   "id": "dd8bb061",
   "metadata": {
    "ExecuteTime": {
     "start_time": "2022-10-03T13:06:50.869Z"
    }
   },
   "outputs": [],
   "source": [
    "preds = dict()\n",
    "for vector_size in tqdm(vector_sizes):\n",
    "    mat = np.vstack(vectors[vector_size].values())\n",
    "    kmeans = KMeans(n_clusters=4)\n",
    "    pred = kmeans.fit_predict(mat)\n",
    "    preds[vector_size] = pred"
   ]
  },
  {
   "cell_type": "code",
   "execution_count": 11,
   "id": "cee21090",
   "metadata": {
    "ExecuteTime": {
     "end_time": "2022-10-03T04:22:42.797815Z",
     "start_time": "2022-10-03T04:21:46.498124Z"
    }
   },
   "outputs": [
    {
     "name": "stderr",
     "output_type": "stream",
     "text": [
      "  0%|          | 0/6 [00:00<?, ?it/s]/opt/conda/lib/python3.10/site-packages/IPython/core/interactiveshell.py:3318: FutureWarning: arrays to stack must be passed as a \"sequence\" type such as list or tuple. Support for non-sequence iterables such as generators is deprecated as of NumPy 1.16 and will raise an error in the future.\n",
      "  if await self.run_code(code, result, async_=asy):\n",
      "100%|██████████| 6/6 [00:56<00:00,  9.38s/it]\n"
     ]
    }
   ],
   "source": [
    "vectorPath = \"./data/vector/\"\n",
    "for vector_size in tqdm(vector_sizes):\n",
    "    np.savetxt(f\"{vectorPath}{vector_size}.csv\", np.stack(vectors[vector_size].values()), delimiter=\",\")"
   ]
  },
  {
   "cell_type": "code",
   "execution_count": null,
   "id": "30641304",
   "metadata": {},
   "outputs": [],
   "source": []
  },
  {
   "cell_type": "code",
   "execution_count": null,
   "id": "ba50932a",
   "metadata": {},
   "outputs": [],
   "source": []
  },
  {
   "cell_type": "code",
   "execution_count": 12,
   "id": "97fca365",
   "metadata": {
    "ExecuteTime": {
     "end_time": "2022-10-03T04:22:42.833981Z",
     "start_time": "2022-10-03T04:22:42.812370Z"
    }
   },
   "outputs": [],
   "source": [
    "label = AgNews[\"class\"].to_numpy()"
   ]
  },
  {
   "cell_type": "code",
   "execution_count": 13,
   "id": "65894b25",
   "metadata": {
    "ExecuteTime": {
     "end_time": "2022-10-03T04:22:48.339297Z",
     "start_time": "2022-10-03T04:22:42.852214Z"
    }
   },
   "outputs": [],
   "source": [
    "MI = dict()\n",
    "for dim, pred in preds.items():\n",
    "    MI[dim] = adjusted_mutual_info_score(label, pred)"
   ]
  },
  {
   "cell_type": "code",
   "execution_count": 14,
   "id": "c88e9630",
   "metadata": {
    "ExecuteTime": {
     "end_time": "2022-10-03T04:22:48.366486Z",
     "start_time": "2022-10-03T04:22:48.348042Z"
    },
    "scrolled": true
   },
   "outputs": [],
   "source": [
    "MI = pd.DataFrame.from_dict(MI, orient=\"index\")\n",
    "MI.columns=[\"MI\"]"
   ]
  },
  {
   "cell_type": "code",
   "execution_count": 15,
   "id": "234942c5",
   "metadata": {
    "ExecuteTime": {
     "end_time": "2022-10-03T04:22:48.476406Z",
     "start_time": "2022-10-03T04:22:48.385515Z"
    }
   },
   "outputs": [],
   "source": [
    "MI.to_csv('./data/MI.csv')"
   ]
  },
  {
   "cell_type": "code",
   "execution_count": null,
   "id": "39a637ee",
   "metadata": {},
   "outputs": [],
   "source": []
  }
 ],
 "metadata": {
  "kernelspec": {
   "display_name": "Python 3 (ipykernel)",
   "language": "python",
   "name": "python3"
  },
  "language_info": {
   "codemirror_mode": {
    "name": "ipython",
    "version": 3
   },
   "file_extension": ".py",
   "mimetype": "text/x-python",
   "name": "python",
   "nbconvert_exporter": "python",
   "pygments_lexer": "ipython3",
   "version": "3.10.6"
  },
  "toc": {
   "base_numbering": 1,
   "nav_menu": {},
   "number_sections": true,
   "sideBar": true,
   "skip_h1_title": false,
   "title_cell": "Table of Contents",
   "title_sidebar": "Contents",
   "toc_cell": false,
   "toc_position": {},
   "toc_section_display": true,
   "toc_window_display": false
  }
 },
 "nbformat": 4,
 "nbformat_minor": 5
}
