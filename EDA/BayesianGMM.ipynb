{
 "cells": [
  {
   "cell_type": "markdown",
   "id": "b95f9187",
   "metadata": {},
   "source": [
    "# Import"
   ]
  },
  {
   "cell_type": "code",
   "execution_count": 26,
   "id": "80a85ab5",
   "metadata": {
    "ExecuteTime": {
     "end_time": "2023-01-10T11:11:55.644797Z",
     "start_time": "2023-01-10T11:11:55.641189Z"
    }
   },
   "outputs": [],
   "source": [
    "import csv\n",
    "import itertools\n",
    "import os\n",
    "import pickle\n",
    "import sys\n",
    "\n",
    "import matplotlib as mpl\n",
    "import matplotlib.pyplot as plt\n",
    "import numpy as np\n",
    "import pandas as pd\n",
    "from scipy import linalg\n",
    "from sklearn.mixture import BayesianGaussianMixture, GaussianMixture\n",
    "from tqdm import tqdm"
   ]
  },
  {
   "cell_type": "markdown",
   "id": "6f4f62bd",
   "metadata": {},
   "source": [
    "## Add configuration file"
   ]
  },
  {
   "cell_type": "code",
   "execution_count": 17,
   "id": "d5ff7059",
   "metadata": {
    "ExecuteTime": {
     "end_time": "2023-01-10T11:11:43.357363Z",
     "start_time": "2023-01-10T11:11:43.354493Z"
    }
   },
   "outputs": [],
   "source": [
    "sys.path.append(\"/home/jovyan/core/config/\")\n",
    "sys.path.append(\"/home/jovyan/core/util/\")"
   ]
  },
  {
   "cell_type": "code",
   "execution_count": 18,
   "id": "157ce92a",
   "metadata": {
    "ExecuteTime": {
     "end_time": "2023-01-10T11:11:43.442058Z",
     "start_time": "2023-01-10T11:11:43.439321Z"
    }
   },
   "outputs": [],
   "source": [
    "from ALL import config \n",
    "from util import *"
   ]
  },
  {
   "cell_type": "markdown",
   "id": "b07ac6af",
   "metadata": {},
   "source": [
    "## Set condition"
   ]
  },
  {
   "cell_type": "code",
   "execution_count": 19,
   "id": "9d870465",
   "metadata": {
    "ExecuteTime": {
     "end_time": "2023-01-10T11:11:43.605685Z",
     "start_time": "2023-01-10T11:11:43.601788Z"
    }
   },
   "outputs": [],
   "source": [
    "tqdm.pandas()\n",
    "pd.set_option(\"display.max_columns\", 100)\n",
    "pd.set_option(\"display.max_rows\", 50)"
   ]
  },
  {
   "cell_type": "markdown",
   "id": "52c60a4f",
   "metadata": {},
   "source": [
    "# Read data"
   ]
  },
  {
   "cell_type": "code",
   "execution_count": 20,
   "id": "fbbac9ec",
   "metadata": {
    "ExecuteTime": {
     "end_time": "2023-01-10T11:11:43.771899Z",
     "start_time": "2023-01-10T11:11:43.768501Z"
    }
   },
   "outputs": [],
   "source": [
    "color_iter = itertools.cycle([\"navy\", \"c\", \"cornflowerblue\", \"gold\", \"darkorange\"])"
   ]
  },
  {
   "cell_type": "code",
   "execution_count": 58,
   "id": "ec74eaaa",
   "metadata": {
    "ExecuteTime": {
     "end_time": "2023-01-10T11:19:13.661580Z",
     "start_time": "2023-01-10T11:19:13.655371Z"
    }
   },
   "outputs": [],
   "source": [
    "def plot_results(X, Y_, means, covariances, index, title):\n",
    "    splot = plt.subplot(2, 1, 1 + index)\n",
    "    for i, (mean, covar, color) in enumerate(zip(means, covariances, color_iter)):\n",
    "        v, w = linalg.eigh(covar)\n",
    "        v = 2.0 * np.sqrt(2.0) * np.sqrt(v)\n",
    "        u = w[0] / linalg.norm(w[0])\n",
    "        # as the DP will not use every component it has access to\n",
    "        # unless it needs it, we shouldn't plot the redundant\n",
    "        # components.\n",
    "        if not np.any(Y_ == i):\n",
    "            continue\n",
    "        plt.scatter(X[Y_ == i, 0], X[Y_ == i, 1], 0.8, color=color)\n",
    "\n",
    "        # Plot an ellipse to show the Gaussian component\n",
    "        angle = np.arctan(u[1] / u[0])\n",
    "        angle = 180.0 * angle / np.pi  # convert to degrees\n",
    "        ell = mpl.patches.Ellipse(mean, v[0], v[1], angle=180.0 + angle, color=color)\n",
    "        ell.set_clip_box(splot.bbox)\n",
    "        ell.set_alpha(0.5)\n",
    "        splot.add_artist(ell)\n",
    "\n",
    "#     plt.xlim(-9.0, 5.0)\n",
    "#     plt.ylim(-3.0, 6.0)\n",
    "    plt.xticks(())\n",
    "    plt.yticks(())\n",
    "    plt.title(title)"
   ]
  },
  {
   "cell_type": "code",
   "execution_count": 109,
   "id": "e0d11eaf",
   "metadata": {
    "ExecuteTime": {
     "end_time": "2023-01-10T11:57:47.881798Z",
     "start_time": "2023-01-10T11:57:47.878656Z"
    }
   },
   "outputs": [],
   "source": [
    "# Number of samples per component\n",
    "n_samples = 50000"
   ]
  },
  {
   "cell_type": "code",
   "execution_count": 110,
   "id": "1457c0db",
   "metadata": {
    "ExecuteTime": {
     "end_time": "2023-01-10T11:57:50.163071Z",
     "start_time": "2023-01-10T11:57:50.152019Z"
    }
   },
   "outputs": [],
   "source": [
    "# Generate random sample, two components\n",
    "np.random.seed(0)\n",
    "C = np.array([[0.0, -0.1], [1.7, 0.4]])\n",
    "X = np.r_[\n",
    "    np.dot(np.random.randn(n_samples, 2), C),\n",
    "    0.7 * np.random.randn(n_samples, 2) + np.array([0, 1]),\n",
    "]\n"
   ]
  },
  {
   "cell_type": "code",
   "execution_count": 111,
   "id": "e8d99335",
   "metadata": {
    "ExecuteTime": {
     "end_time": "2023-01-10T11:57:50.455832Z",
     "start_time": "2023-01-10T11:57:50.447648Z"
    }
   },
   "outputs": [],
   "source": [
    "X_rand = np.random.gamma(5, 1, (n_samples, 2))"
   ]
  },
  {
   "cell_type": "code",
   "execution_count": 112,
   "id": "28be0d8e",
   "metadata": {
    "ExecuteTime": {
     "end_time": "2023-01-10T11:57:55.192281Z",
     "start_time": "2023-01-10T11:57:53.790696Z"
    }
   },
   "outputs": [
    {
     "data": {
      "image/png": "[encoded data removed]",
      "text/plain": [
       "<Figure size 640x480 with 1 Axes>"
      ]
     },
     "metadata": {},
     "output_type": "display_data"
    }
   ],
   "source": [
    "# Fit a Gaussian mixture with EM using five components\n",
    "gmm = GaussianMixture(n_components=5, covariance_type=\"full\").fit(X)\n",
    "plot_results(X, gmm.predict(X), gmm.means_, gmm.covariances_, 0, \"Gaussian Mixture\")"
   ]
  },
  {
   "cell_type": "code",
   "execution_count": 117,
   "id": "59e85b39",
   "metadata": {
    "ExecuteTime": {
     "end_time": "2023-01-10T12:03:00.522533Z",
     "start_time": "2023-01-10T12:02:24.612998Z"
    }
   },
   "outputs": [
    {
     "name": "stderr",
     "output_type": "stream",
     "text": [
      "/opt/conda/lib/python3.10/site-packages/sklearn/mixture/_base.py:286: ConvergenceWarning: Initialization 1 did not converge. Try different init parameters, or increase max_iter, tol or check for degenerate data.\n",
      "  warnings.warn(\n"
     ]
    },
    {
     "ename": "ValueError",
     "evalue": "expected square \"a\" matrix",
     "output_type": "error",
     "traceback": [
      "\u001b[0;31m---------------------------------------------------------------------------\u001b[0m",
      "\u001b[0;31mValueError\u001b[0m                                Traceback (most recent call last)",
      "Cell \u001b[0;32mIn[117], line 13\u001b[0m\n\u001b[1;32m      1\u001b[0m \u001b[38;5;66;03m# Fit a Dirichlet process Gaussian mixture using five components\u001b[39;00m\n\u001b[1;32m      2\u001b[0m dpgmm \u001b[38;5;241m=\u001b[39m BayesianGaussianMixture(\n\u001b[1;32m      3\u001b[0m     n_components\u001b[38;5;241m=\u001b[39m\u001b[38;5;241m10\u001b[39m,\n\u001b[1;32m      4\u001b[0m     weight_concentration_prior_type\u001b[38;5;241m=\u001b[39m\u001b[38;5;124m\"\u001b[39m\u001b[38;5;124mdirichlet_process\u001b[39m\u001b[38;5;124m\"\u001b[39m,\n\u001b[0;32m   (...)\u001b[0m\n\u001b[1;32m     11\u001b[0m     \n\u001b[1;32m     12\u001b[0m )\u001b[38;5;241m.\u001b[39mfit(X_rand)\n\u001b[0;32m---> 13\u001b[0m \u001b[43mplot_results\u001b[49m\u001b[43m(\u001b[49m\n\u001b[1;32m     14\u001b[0m \u001b[43m    \u001b[49m\u001b[43mX_rand\u001b[49m\u001b[43m,\u001b[49m\n\u001b[1;32m     15\u001b[0m \u001b[43m    \u001b[49m\u001b[43mdpgmm\u001b[49m\u001b[38;5;241;43m.\u001b[39;49m\u001b[43mpredict\u001b[49m\u001b[43m(\u001b[49m\u001b[43mX_rand\u001b[49m\u001b[43m)\u001b[49m\u001b[43m,\u001b[49m\n\u001b[1;32m     16\u001b[0m \u001b[43m    \u001b[49m\u001b[43mdpgmm\u001b[49m\u001b[38;5;241;43m.\u001b[39;49m\u001b[43mmeans_\u001b[49m\u001b[43m,\u001b[49m\n\u001b[1;32m     17\u001b[0m \u001b[43m    \u001b[49m\u001b[43mdpgmm\u001b[49m\u001b[38;5;241;43m.\u001b[39;49m\u001b[43mcovariances_\u001b[49m\u001b[43m,\u001b[49m\n\u001b[1;32m     18\u001b[0m \u001b[43m    \u001b[49m\u001b[38;5;241;43m1\u001b[39;49m\u001b[43m,\u001b[49m\n\u001b[1;32m     19\u001b[0m \u001b[43m    \u001b[49m\u001b[38;5;124;43m\"\u001b[39;49m\u001b[38;5;124;43mBayesian Gaussian Mixture with a Dirichlet process prior\u001b[39;49m\u001b[38;5;124;43m\"\u001b[39;49m\u001b[43m,\u001b[49m\n\u001b[1;32m     20\u001b[0m \u001b[43m)\u001b[49m\n\u001b[1;32m     22\u001b[0m plt\u001b[38;5;241m.\u001b[39mshow()\n",
      "Cell \u001b[0;32mIn[58], line 4\u001b[0m, in \u001b[0;36mplot_results\u001b[0;34m(X, Y_, means, covariances, index, title)\u001b[0m\n\u001b[1;32m      2\u001b[0m splot \u001b[38;5;241m=\u001b[39m plt\u001b[38;5;241m.\u001b[39msubplot(\u001b[38;5;241m2\u001b[39m, \u001b[38;5;241m1\u001b[39m, \u001b[38;5;241m1\u001b[39m \u001b[38;5;241m+\u001b[39m index)\n\u001b[1;32m      3\u001b[0m \u001b[38;5;28;01mfor\u001b[39;00m i, (mean, covar, color) \u001b[38;5;129;01min\u001b[39;00m \u001b[38;5;28menumerate\u001b[39m(\u001b[38;5;28mzip\u001b[39m(means, covariances, color_iter)):\n\u001b[0;32m----> 4\u001b[0m     v, w \u001b[38;5;241m=\u001b[39m \u001b[43mlinalg\u001b[49m\u001b[38;5;241;43m.\u001b[39;49m\u001b[43meigh\u001b[49m\u001b[43m(\u001b[49m\u001b[43mcovar\u001b[49m\u001b[43m)\u001b[49m\n\u001b[1;32m      5\u001b[0m     v \u001b[38;5;241m=\u001b[39m \u001b[38;5;241m2.0\u001b[39m \u001b[38;5;241m*\u001b[39m np\u001b[38;5;241m.\u001b[39msqrt(\u001b[38;5;241m2.0\u001b[39m) \u001b[38;5;241m*\u001b[39m np\u001b[38;5;241m.\u001b[39msqrt(v)\n\u001b[1;32m      6\u001b[0m     u \u001b[38;5;241m=\u001b[39m w[\u001b[38;5;241m0\u001b[39m] \u001b[38;5;241m/\u001b[39m linalg\u001b[38;5;241m.\u001b[39mnorm(w[\u001b[38;5;241m0\u001b[39m])\n",
      "File \u001b[0;32m/opt/conda/lib/python3.10/site-packages/scipy/linalg/_decomp.py:449\u001b[0m, in \u001b[0;36meigh\u001b[0;34m(a, b, lower, eigvals_only, overwrite_a, overwrite_b, turbo, eigvals, type, check_finite, subset_by_index, subset_by_value, driver)\u001b[0m\n\u001b[1;32m    447\u001b[0m a1 \u001b[38;5;241m=\u001b[39m _asarray_validated(a, check_finite\u001b[38;5;241m=\u001b[39mcheck_finite)\n\u001b[1;32m    448\u001b[0m \u001b[38;5;28;01mif\u001b[39;00m \u001b[38;5;28mlen\u001b[39m(a1\u001b[38;5;241m.\u001b[39mshape) \u001b[38;5;241m!=\u001b[39m \u001b[38;5;241m2\u001b[39m \u001b[38;5;129;01mor\u001b[39;00m a1\u001b[38;5;241m.\u001b[39mshape[\u001b[38;5;241m0\u001b[39m] \u001b[38;5;241m!=\u001b[39m a1\u001b[38;5;241m.\u001b[39mshape[\u001b[38;5;241m1\u001b[39m]:\n\u001b[0;32m--> 449\u001b[0m     \u001b[38;5;28;01mraise\u001b[39;00m \u001b[38;5;167;01mValueError\u001b[39;00m(\u001b[38;5;124m'\u001b[39m\u001b[38;5;124mexpected square \u001b[39m\u001b[38;5;124m\"\u001b[39m\u001b[38;5;124ma\u001b[39m\u001b[38;5;124m\"\u001b[39m\u001b[38;5;124m matrix\u001b[39m\u001b[38;5;124m'\u001b[39m)\n\u001b[1;32m    450\u001b[0m overwrite_a \u001b[38;5;241m=\u001b[39m overwrite_a \u001b[38;5;129;01mor\u001b[39;00m (_datacopied(a1, a))\n\u001b[1;32m    451\u001b[0m cplx \u001b[38;5;241m=\u001b[39m \u001b[38;5;28;01mTrue\u001b[39;00m \u001b[38;5;28;01mif\u001b[39;00m iscomplexobj(a1) \u001b[38;5;28;01melse\u001b[39;00m \u001b[38;5;28;01mFalse\u001b[39;00m\n",
      "\u001b[0;31mValueError\u001b[0m: expected square \"a\" matrix"
     ]
    },
    {
     "data": {
      "image/png": "[encoded data removed]",
      "text/plain": [
       "<Figure size 640x480 with 1 Axes>"
      ]
     },
     "metadata": {},
     "output_type": "display_data"
    }
   ],
   "source": [
    "# Fit a Dirichlet process Gaussian mixture using five components\n",
    "dpgmm = BayesianGaussianMixture(\n",
    "    n_components=10,\n",
    "    weight_concentration_prior_type=\"dirichlet_process\",\n",
    "    weight_concentration_prior=10e-20,\n",
    "    covariance_type=\"full\",\n",
    "    max_iter=1000,\n",
    "    init_params=\"k-means++\",\n",
    "    n_init=1,\n",
    "#     mean_precision_prior=1,\n",
    "    \n",
    ").fit(X_rand)\n",
    "plot_results(\n",
    "    X_rand,\n",
    "    dpgmm.predict(X_rand),\n",
    "    dpgmm.means_,\n",
    "    dpgmm.covariances_,\n",
    "    1,\n",
    "    \"Bayesian Gaussian Mixture with a Dirichlet process prior\",\n",
    ")\n",
    "\n",
    "plt.show()"
   ]
  },
  {
   "cell_type": "code",
   "execution_count": null,
   "id": "c79c537b",
   "metadata": {
    "ExecuteTime": {
     "end_time": "2023-01-10T12:03:00.524639Z",
     "start_time": "2023-01-10T12:03:00.524621Z"
    }
   },
   "outputs": [],
   "source": [
    "set(dpgmm.predict(X_rand))"
   ]
  },
  {
   "cell_type": "code",
   "execution_count": null,
   "id": "a69aa617",
   "metadata": {},
   "outputs": [],
   "source": []
  }
 ],
 "metadata": {
  "kernelspec": {
   "display_name": "Python 3 (ipykernel)",
   "language": "python",
   "name": "python3"
  },
  "language_info": {
   "codemirror_mode": {
    "name": "ipython",
    "version": 3
   },
   "file_extension": ".py",
   "mimetype": "text/x-python",
   "name": "python",
   "nbconvert_exporter": "python",
   "pygments_lexer": "ipython3",
   "version": "3.10.8"
  },
  "toc": {
   "base_numbering": 1,
   "nav_menu": {},
   "number_sections": true,
   "sideBar": true,
   "skip_h1_title": false,
   "title_cell": "Table of Contents",
   "title_sidebar": "Contents",
   "toc_cell": false,
   "toc_position": {},
   "toc_section_display": true,
   "toc_window_display": false
  }
 },
 "nbformat": 4,
 "nbformat_minor": 5
}
