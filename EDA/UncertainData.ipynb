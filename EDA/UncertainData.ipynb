{
 "cells": [
  {
   "cell_type": "code",
   "execution_count": 1,
   "id": "b98d3725",
   "metadata": {
    "ExecuteTime": {
     "end_time": "2022-12-26T09:32:54.882426Z",
     "start_time": "2022-12-26T09:32:54.259200Z"
    }
   },
   "outputs": [],
   "source": [
    "from sklearn.feature_extraction.text import CountVectorizer\n",
    "import numpy as np\n",
    "import pandas as pd"
   ]
  },
  {
   "cell_type": "code",
   "execution_count": 2,
   "id": "2ac8c00f",
   "metadata": {
    "ExecuteTime": {
     "end_time": "2022-12-26T09:32:54.899090Z",
     "start_time": "2022-12-26T09:32:54.884986Z"
    }
   },
   "outputs": [],
   "source": [
    "df = pd.read_csv(\n",
    "    f\"../Preprocessing/data/20News/master.csv\", index_col=0, nrows=100\n",
    ")"
   ]
  },
  {
   "cell_type": "code",
   "execution_count": 3,
   "id": "dfdc202c",
   "metadata": {
    "ExecuteTime": {
     "end_time": "2022-12-26T09:32:54.903943Z",
     "start_time": "2022-12-26T09:32:54.900874Z"
    }
   },
   "outputs": [],
   "source": [
    "texts = df.text"
   ]
  },
  {
   "cell_type": "code",
   "execution_count": 4,
   "id": "de5a3f62",
   "metadata": {
    "ExecuteTime": {
     "end_time": "2022-12-26T09:32:54.984940Z",
     "start_time": "2022-12-26T09:32:54.949861Z"
    }
   },
   "outputs": [],
   "source": [
    "# texts = open('./data/reuters.titles').read().splitlines()[:50]\n",
    "vec = CountVectorizer(stop_words='english')\n",
    "X = vec.fit_transform(texts).toarray()"
   ]
  },
  {
   "cell_type": "code",
   "execution_count": 5,
   "id": "c5dc2550",
   "metadata": {
    "ExecuteTime": {
     "end_time": "2022-12-26T09:32:55.555262Z",
     "start_time": "2022-12-26T09:32:55.199943Z"
    }
   },
   "outputs": [
    {
     "name": "stderr",
     "output_type": "stream",
     "text": [
      "/opt/conda/lib/python3.10/site-packages/sklearn/utils/deprecation.py:87: FutureWarning: Function get_feature_names is deprecated; get_feature_names is deprecated in 1.0 and will be removed in 1.2. Please use get_feature_names_out instead.\n",
      "  warnings.warn(msg, category=FutureWarning)\n"
     ]
    }
   ],
   "source": [
    "from biterm.utility import vec_to_biterms\n",
    "\n",
    "vocab = np.array(vec.get_feature_names())\n",
    "biterms = vec_to_biterms(X)"
   ]
  },
  {
   "cell_type": "code",
   "execution_count": 6,
   "id": "4959ed13",
   "metadata": {
    "ExecuteTime": {
     "end_time": "2022-12-26T21:34:54.976757Z",
     "start_time": "2022-12-26T09:33:06.096030Z"
    }
   },
   "outputs": [
    {
     "name": "stderr",
     "output_type": "stream",
     "text": [
      "100%|██████████| 100/100 [12:01:23<00:00, 432.83s/it] \n"
     ]
    }
   ],
   "source": [
    "from biterm.btm import oBTM\n",
    "\n",
    "btm = oBTM(num_topics=20, V=vocab)\n",
    "topics = btm.fit_transform(biterms, iterations=100)"
   ]
  },
  {
   "cell_type": "code",
   "execution_count": 11,
   "id": "76a5a8a4",
   "metadata": {
    "ExecuteTime": {
     "end_time": "2022-12-27T03:16:02.532807Z",
     "start_time": "2022-12-27T03:16:02.527563Z"
    }
   },
   "outputs": [
    {
     "data": {
      "text/plain": [
       "array([1., 1., 1., 1., 1., 1., 1., 1., 1., 1., 1., 1., 1., 1., 1., 1., 1.,\n",
       "       1., 1., 1., 1., 1., 1., 1., 1., 1., 1., 1., 1., 1., 1., 1., 1., 1.,\n",
       "       1., 1., 1., 1., 1., 1., 1., 1., 1., 1., 1., 1., 1., 1., 1., 1., 1.,\n",
       "       1., 1., 1., 1., 1., 1., 1., 1., 1., 1., 1., 1., 1., 1., 1., 1., 1.,\n",
       "       1., 1., 1., 1., 1., 1., 1., 1., 1., 1., 1., 1., 1., 1., 1., 1., 1.,\n",
       "       1., 1., 1., 1., 1., 1., 1., 1., 1., 1., 1., 1., 1., 1., 1.])"
      ]
     },
     "execution_count": 11,
     "metadata": {},
     "output_type": "execute_result"
    }
   ],
   "source": [
    "topics.sum(axis=1)"
   ]
  },
  {
   "cell_type": "code",
   "execution_count": null,
   "id": "c1eccb40",
   "metadata": {},
   "outputs": [],
   "source": []
  }
 ],
 "metadata": {
  "kernelspec": {
   "display_name": "Python 3 (ipykernel)",
   "language": "python",
   "name": "python3"
  },
  "language_info": {
   "codemirror_mode": {
    "name": "ipython",
    "version": 3
   },
   "file_extension": ".py",
   "mimetype": "text/x-python",
   "name": "python",
   "nbconvert_exporter": "python",
   "pygments_lexer": "ipython3",
   "version": "3.10.8"
  },
  "toc": {
   "base_numbering": 1,
   "nav_menu": {},
   "number_sections": true,
   "sideBar": true,
   "skip_h1_title": false,
   "title_cell": "Table of Contents",
   "title_sidebar": "Contents",
   "toc_cell": false,
   "toc_position": {},
   "toc_section_display": true,
   "toc_window_display": false
  }
 },
 "nbformat": 4,
 "nbformat_minor": 5
}
