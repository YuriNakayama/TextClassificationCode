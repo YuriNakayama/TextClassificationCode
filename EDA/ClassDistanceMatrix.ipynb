{
 "cells": [
  {
   "cell_type": "markdown",
   "id": "1f0e8e15",
   "metadata": {},
   "source": [
    "# Import"
   ]
  },
  {
   "cell_type": "code",
   "execution_count": 1,
   "id": "092e8d68",
   "metadata": {
    "ExecuteTime": {
     "end_time": "2022-10-14T06:47:44.474520Z",
     "start_time": "2022-10-14T06:47:39.927287Z"
    }
   },
   "outputs": [],
   "source": [
    "from glob import glob\n",
    "\n",
    "import matplotlib.pyplot as plt\n",
    "import numpy as np\n",
    "import pandas as pd\n",
    "import seaborn as sns\n",
    "from sklearn.cluster import KMeans\n",
    "from sklearn.metrics import adjusted_mutual_info_score\n",
    "from sklearn.metrics.pairwise import cosine_similarity\n",
    "from numpy import linalg as LA\n",
    "from tqdm import tqdm"
   ]
  },
  {
   "cell_type": "markdown",
   "id": "212a8d8a",
   "metadata": {},
   "source": [
    "# Functions"
   ]
  },
  {
   "cell_type": "code",
   "execution_count": 2,
   "id": "1c180a42",
   "metadata": {
    "ExecuteTime": {
     "end_time": "2022-10-14T06:47:44.505441Z",
     "start_time": "2022-10-14T06:47:44.483820Z"
    }
   },
   "outputs": [],
   "source": [
    "def centralize_array(array):\n",
    "    return array - np.mean(array, axis=0)"
   ]
  },
  {
   "cell_type": "code",
   "execution_count": 3,
   "id": "08ece123",
   "metadata": {
    "ExecuteTime": {
     "end_time": "2022-10-14T06:47:44.581779Z",
     "start_time": "2022-10-14T06:47:44.518349Z"
    }
   },
   "outputs": [],
   "source": [
    "def normarize_array(array):\n",
    "    return array / np.sqrt(np.sum(array * array, axis=1).reshape(-1, 1))"
   ]
  },
  {
   "cell_type": "code",
   "execution_count": 4,
   "id": "47a505e2",
   "metadata": {
    "ExecuteTime": {
     "end_time": "2022-10-14T06:47:44.643087Z",
     "start_time": "2022-10-14T06:47:44.602945Z"
    }
   },
   "outputs": [],
   "source": [
    "def normarize_vector(vector):\n",
    "    return vector / np.sqrt(np.sum(vector * vector))"
   ]
  },
  {
   "cell_type": "code",
   "execution_count": 5,
   "id": "8f426dbd",
   "metadata": {
    "ExecuteTime": {
     "end_time": "2022-10-14T06:47:44.692927Z",
     "start_time": "2022-10-14T06:47:44.656133Z"
    }
   },
   "outputs": [],
   "source": [
    "def get_average_vector(vectors):\n",
    "    sum_vector = np.sum(vectors, axis=0)\n",
    "    return normarize_vector(sum_vector)"
   ]
  },
  {
   "cell_type": "markdown",
   "id": "a72bf815",
   "metadata": {},
   "source": [
    "# Read data"
   ]
  },
  {
   "cell_type": "code",
   "execution_count": 6,
   "id": "d2412891",
   "metadata": {
    "ExecuteTime": {
     "end_time": "2022-10-14T06:47:46.297179Z",
     "start_time": "2022-10-14T06:47:44.707141Z"
    },
    "scrolled": true
   },
   "outputs": [],
   "source": [
    "ag_news_df = pd.read_csv(\n",
    "    \"../data/CharCnn_Keras-master/data/ag_news_csv/train.csv\",\n",
    "    header=None,\n",
    "    names=[\"class\", \"title\", \"description\"],\n",
    ")"
   ]
  },
  {
   "cell_type": "code",
   "execution_count": 7,
   "id": "68721520",
   "metadata": {
    "ExecuteTime": {
     "end_time": "2022-10-14T06:47:46.321361Z",
     "start_time": "2022-10-14T06:47:46.304794Z"
    }
   },
   "outputs": [],
   "source": [
    "dim_nums = [2, 3, 4, 5, 6, 7, 8, 9, 10, 20, 40, 80, 160, 320, 640]"
   ]
  },
  {
   "cell_type": "code",
   "execution_count": 8,
   "id": "795acf7b",
   "metadata": {
    "ExecuteTime": {
     "end_time": "2022-10-14T06:47:46.368600Z",
     "start_time": "2022-10-14T06:47:46.335240Z"
    }
   },
   "outputs": [],
   "source": [
    "class_nums = range(1, 5)"
   ]
  },
  {
   "cell_type": "code",
   "execution_count": 9,
   "id": "076da8f0",
   "metadata": {
    "ExecuteTime": {
     "end_time": "2022-10-14T06:47:47.965126Z",
     "start_time": "2022-10-14T06:47:46.379848Z"
    }
   },
   "outputs": [],
   "source": [
    "# Read data\n",
    "\n",
    "ag_news_df = pd.read_csv(\n",
    "    \"../data/CharCnn_Keras-master/data/ag_news_csv/train.csv\",\n",
    "    header=None,\n",
    "    names=[\"class\", \"title\", \"description\"],\n",
    ")\n",
    "\n",
    "dim_nums = [2, 3, 4, 5, 6, 7, 8, 9, 10, 20, 40, 80, 160, 320, 640]\n",
    "\n",
    "class_nums = range(1, 5)"
   ]
  },
  {
   "cell_type": "code",
   "execution_count": 10,
   "id": "d6f182f7",
   "metadata": {
    "ExecuteTime": {
     "end_time": "2022-10-14T06:47:50.869592Z",
     "start_time": "2022-10-14T06:47:50.769823Z"
    }
   },
   "outputs": [
    {
     "data": {
      "text/html": [
       "<div>\n",
       "<style scoped>\n",
       "    .dataframe tbody tr th:only-of-type {\n",
       "        vertical-align: middle;\n",
       "    }\n",
       "\n",
       "    .dataframe tbody tr th {\n",
       "        vertical-align: top;\n",
       "    }\n",
       "\n",
       "    .dataframe thead th {\n",
       "        text-align: right;\n",
       "    }\n",
       "</style>\n",
       "<table border=\"1\" class=\"dataframe\">\n",
       "  <thead>\n",
       "    <tr style=\"text-align: right;\">\n",
       "      <th></th>\n",
       "      <th>class</th>\n",
       "      <th>title</th>\n",
       "      <th>description</th>\n",
       "    </tr>\n",
       "  </thead>\n",
       "  <tbody>\n",
       "    <tr>\n",
       "      <th>0</th>\n",
       "      <td>3</td>\n",
       "      <td>Wall St. Bears Claw Back Into the Black (Reuters)</td>\n",
       "      <td>Reuters - Short-sellers, Wall Street's dwindli...</td>\n",
       "    </tr>\n",
       "    <tr>\n",
       "      <th>1</th>\n",
       "      <td>3</td>\n",
       "      <td>Carlyle Looks Toward Commercial Aerospace (Reu...</td>\n",
       "      <td>Reuters - Private investment firm Carlyle Grou...</td>\n",
       "    </tr>\n",
       "    <tr>\n",
       "      <th>2</th>\n",
       "      <td>3</td>\n",
       "      <td>Oil and Economy Cloud Stocks' Outlook (Reuters)</td>\n",
       "      <td>Reuters - Soaring crude prices plus worries\\ab...</td>\n",
       "    </tr>\n",
       "    <tr>\n",
       "      <th>3</th>\n",
       "      <td>3</td>\n",
       "      <td>Iraq Halts Oil Exports from Main Southern Pipe...</td>\n",
       "      <td>Reuters - Authorities have halted oil export\\f...</td>\n",
       "    </tr>\n",
       "    <tr>\n",
       "      <th>4</th>\n",
       "      <td>3</td>\n",
       "      <td>Oil prices soar to all-time record, posing new...</td>\n",
       "      <td>AFP - Tearaway world oil prices, toppling reco...</td>\n",
       "    </tr>\n",
       "    <tr>\n",
       "      <th>...</th>\n",
       "      <td>...</td>\n",
       "      <td>...</td>\n",
       "      <td>...</td>\n",
       "    </tr>\n",
       "    <tr>\n",
       "      <th>119995</th>\n",
       "      <td>1</td>\n",
       "      <td>Pakistan's Musharraf Says Won't Quit as Army C...</td>\n",
       "      <td>KARACHI (Reuters) - Pakistani President Perve...</td>\n",
       "    </tr>\n",
       "    <tr>\n",
       "      <th>119996</th>\n",
       "      <td>2</td>\n",
       "      <td>Renteria signing a top-shelf deal</td>\n",
       "      <td>Red Sox general manager Theo Epstein acknowled...</td>\n",
       "    </tr>\n",
       "    <tr>\n",
       "      <th>119997</th>\n",
       "      <td>2</td>\n",
       "      <td>Saban not going to Dolphins yet</td>\n",
       "      <td>The Miami Dolphins will put their courtship of...</td>\n",
       "    </tr>\n",
       "    <tr>\n",
       "      <th>119998</th>\n",
       "      <td>2</td>\n",
       "      <td>Today's NFL games</td>\n",
       "      <td>PITTSBURGH at NY GIANTS Time: 1:30 p.m. Line: ...</td>\n",
       "    </tr>\n",
       "    <tr>\n",
       "      <th>119999</th>\n",
       "      <td>2</td>\n",
       "      <td>Nets get Carter from Raptors</td>\n",
       "      <td>INDIANAPOLIS -- All-Star Vince Carter was trad...</td>\n",
       "    </tr>\n",
       "  </tbody>\n",
       "</table>\n",
       "<p>120000 rows × 3 columns</p>\n",
       "</div>"
      ],
      "text/plain": [
       "        class                                              title  \\\n",
       "0           3  Wall St. Bears Claw Back Into the Black (Reuters)   \n",
       "1           3  Carlyle Looks Toward Commercial Aerospace (Reu...   \n",
       "2           3    Oil and Economy Cloud Stocks' Outlook (Reuters)   \n",
       "3           3  Iraq Halts Oil Exports from Main Southern Pipe...   \n",
       "4           3  Oil prices soar to all-time record, posing new...   \n",
       "...       ...                                                ...   \n",
       "119995      1  Pakistan's Musharraf Says Won't Quit as Army C...   \n",
       "119996      2                  Renteria signing a top-shelf deal   \n",
       "119997      2                    Saban not going to Dolphins yet   \n",
       "119998      2                                  Today's NFL games   \n",
       "119999      2                       Nets get Carter from Raptors   \n",
       "\n",
       "                                              description  \n",
       "0       Reuters - Short-sellers, Wall Street's dwindli...  \n",
       "1       Reuters - Private investment firm Carlyle Grou...  \n",
       "2       Reuters - Soaring crude prices plus worries\\ab...  \n",
       "3       Reuters - Authorities have halted oil export\\f...  \n",
       "4       AFP - Tearaway world oil prices, toppling reco...  \n",
       "...                                                   ...  \n",
       "119995   KARACHI (Reuters) - Pakistani President Perve...  \n",
       "119996  Red Sox general manager Theo Epstein acknowled...  \n",
       "119997  The Miami Dolphins will put their courtship of...  \n",
       "119998  PITTSBURGH at NY GIANTS Time: 1:30 p.m. Line: ...  \n",
       "119999  INDIANAPOLIS -- All-Star Vince Carter was trad...  \n",
       "\n",
       "[120000 rows x 3 columns]"
      ]
     },
     "execution_count": 10,
     "metadata": {},
     "output_type": "execute_result"
    }
   ],
   "source": [
    "ag_news_df"
   ]
  },
  {
   "cell_type": "markdown",
   "id": "64453e6a",
   "metadata": {},
   "source": [
    "# Get Similarity"
   ]
  },
  {
   "cell_type": "code",
   "execution_count": 11,
   "id": "3ed9f063",
   "metadata": {
    "ExecuteTime": {
     "end_time": "2022-10-13T16:57:15.577171Z",
     "start_time": "2022-10-13T16:57:13.400580Z"
    }
   },
   "outputs": [
    {
     "name": "stderr",
     "output_type": "stream",
     "text": [
      "  0%|          | 0/15 [00:02<?, ?it/s]\n"
     ]
    }
   ],
   "source": [
    "# cosine sim\n",
    "for dim_num in tqdm(dim_nums):\n",
    "    # read vectors\n",
    "    text_vectors = np.loadtxt(f\"./data/vector/{dim_num}.csv\", delimiter=\",\")\n",
    "    # preprocessing\n",
    "    centralized_vectors = centralize_array(text_vectors)\n",
    "    normarized_vectors = normarize_array(centralized_vectors)\n",
    "    # get class distance matrix\n",
    "    break"
   ]
  },
  {
   "cell_type": "code",
   "execution_count": 52,
   "id": "7f3bda64",
   "metadata": {
    "ExecuteTime": {
     "end_time": "2022-10-14T04:24:45.825120Z",
     "start_time": "2022-10-14T04:24:45.795917Z"
    }
   },
   "outputs": [],
   "source": [
    "def euclid_norm(vector_i, vector_j):\n",
    "    vector_diff = vector_i - vector_j\n",
    "    return np.sqrt(np.sum(vector_diff * vector_diff))"
   ]
  },
  {
   "cell_type": "code",
   "execution_count": 62,
   "id": "5ad7b7f2",
   "metadata": {
    "ExecuteTime": {
     "end_time": "2022-10-14T04:30:47.770422Z",
     "start_time": "2022-10-14T04:30:47.743571Z"
    }
   },
   "outputs": [],
   "source": [
    "def get_distance_matrix(vectors_i, vectors_j, distance_func):\n",
    "    mat = list()\n",
    "    for vector_i in vectors_i:\n",
    "        row = list()\n",
    "        for vector_j in vectors_j:\n",
    "            row.append(distance_func(vector_i, vector_j))\n",
    "        mat.append(row)\n",
    "    return np.array(mat)"
   ]
  },
  {
   "cell_type": "code",
   "execution_count": null,
   "id": "9a296cb0",
   "metadata": {
    "ExecuteTime": {
     "start_time": "2022-10-14T04:35:27.639Z"
    }
   },
   "outputs": [],
   "source": [
    "for class_i in class_nums:\n",
    "    for class_j in class_nums:\n",
    "        index_i = ag_news_df[ag_news_df[\"class\"] == class_i].index\n",
    "        index_j = ag_news_df[ag_news_df[\"class\"] == class_j].index\n",
    "        vectors_i = normarized_vectors[index_i]\n",
    "        vectors_j = normarized_vectors[index_j]\n",
    "        distance_matrix = get_distance_matrix(vectors_i, vectors_j, euclid_norm)\n",
    "        class_distance_matrix_i_j = np.sum(\n",
    "            distance_matrix / (len(index_i) * len(index_j))\n",
    "        )\n",
    "        break\n",
    "    break"
   ]
  },
  {
   "cell_type": "code",
   "execution_count": null,
   "id": "5a830e1c",
   "metadata": {},
   "outputs": [],
   "source": [
    "def cross_distance(vectors_i, vectors_j):\n",
    "    "
   ]
  },
  {
   "cell_type": "code",
   "execution_count": null,
   "id": "290bbea4",
   "metadata": {},
   "outputs": [],
   "source": []
  }
 ],
 "metadata": {
  "kernelspec": {
   "display_name": "Python 3 (ipykernel)",
   "language": "python",
   "name": "python3"
  },
  "language_info": {
   "codemirror_mode": {
    "name": "ipython",
    "version": 3
   },
   "file_extension": ".py",
   "mimetype": "text/x-python",
   "name": "python",
   "nbconvert_exporter": "python",
   "pygments_lexer": "ipython3",
   "version": "3.10.6"
  },
  "toc": {
   "base_numbering": 1,
   "nav_menu": {},
   "number_sections": true,
   "sideBar": true,
   "skip_h1_title": false,
   "title_cell": "Table of Contents",
   "title_sidebar": "Contents",
   "toc_cell": false,
   "toc_position": {},
   "toc_section_display": true,
   "toc_window_display": false
  }
 },
 "nbformat": 4,
 "nbformat_minor": 5
}
