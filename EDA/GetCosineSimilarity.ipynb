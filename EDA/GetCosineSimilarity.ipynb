{
 "cells": [
  {
   "cell_type": "markdown",
   "id": "b95f9187",
   "metadata": {},
   "source": [
    "# Import"
   ]
  },
  {
   "cell_type": "code",
   "execution_count": 1,
   "id": "80a85ab5",
   "metadata": {
    "ExecuteTime": {
     "end_time": "2022-10-02T09:09:06.343682Z",
     "start_time": "2022-10-02T09:09:01.780411Z"
    }
   },
   "outputs": [],
   "source": [
    "from glob import glob\n",
    "\n",
    "import matplotlib.pyplot as plt\n",
    "import numpy as np\n",
    "import pandas as pd\n",
    "import seaborn as sns\n",
    "from sklearn.cluster import KMeans\n",
    "from sklearn.metrics import adjusted_mutual_info_score\n",
    "from sklearn.metrics.pairwise import cosine_similarity\n",
    "from numpy import linalg as LA\n",
    "from tqdm import tqdm"
   ]
  },
  {
   "cell_type": "markdown",
   "id": "52c60a4f",
   "metadata": {},
   "source": [
    "# Read data"
   ]
  },
  {
   "cell_type": "code",
   "execution_count": 85,
   "id": "9dd34908",
   "metadata": {
    "ExecuteTime": {
     "end_time": "2022-10-02T09:45:13.303321Z",
     "start_time": "2022-10-02T09:45:07.494132Z"
    }
   },
   "outputs": [],
   "source": [
    "dim_num = 10\n",
    "text_vectors = np.loadtxt(f\"./data/vector/{dim_num}.csv\", delimiter=',')"
   ]
  },
  {
   "cell_type": "code",
   "execution_count": 86,
   "id": "c81d3638",
   "metadata": {
    "ExecuteTime": {
     "end_time": "2022-10-02T09:45:14.837893Z",
     "start_time": "2022-10-02T09:45:13.312369Z"
    },
    "scrolled": true
   },
   "outputs": [],
   "source": [
    "ag_news_df = pd.read_csv(\n",
    "    \"../data/CharCnn_Keras-master/data/ag_news_csv/train.csv\",\n",
    "    header=None,\n",
    "    names=[\"class\", \"title\", \"description\"],\n",
    ")"
   ]
  },
  {
   "cell_type": "markdown",
   "id": "a51a448f",
   "metadata": {},
   "source": [
    "# Functions"
   ]
  },
  {
   "cell_type": "code",
   "execution_count": 87,
   "id": "74410937",
   "metadata": {
    "ExecuteTime": {
     "end_time": "2022-10-02T09:45:14.858232Z",
     "start_time": "2022-10-02T09:45:14.845983Z"
    }
   },
   "outputs": [],
   "source": [
    "def centralize_array(array):\n",
    "    return array - np.mean(array, axis=0)"
   ]
  },
  {
   "cell_type": "code",
   "execution_count": 88,
   "id": "6bac630b",
   "metadata": {
    "ExecuteTime": {
     "end_time": "2022-10-02T09:45:14.915787Z",
     "start_time": "2022-10-02T09:45:14.878574Z"
    }
   },
   "outputs": [],
   "source": [
    "def normarize_array(array):\n",
    "    return array / np.sqrt(np.sum(array * array, axis=1).reshape(-1, 1))"
   ]
  },
  {
   "cell_type": "code",
   "execution_count": 89,
   "id": "c81f894e",
   "metadata": {
    "ExecuteTime": {
     "end_time": "2022-10-02T09:45:14.963291Z",
     "start_time": "2022-10-02T09:45:14.929384Z"
    }
   },
   "outputs": [],
   "source": [
    "def normarize_vector(vector):\n",
    "    return vector / np.sqrt(np.sum(vector * vector))"
   ]
  },
  {
   "cell_type": "code",
   "execution_count": 90,
   "id": "382c59da",
   "metadata": {
    "ExecuteTime": {
     "end_time": "2022-10-02T09:45:15.015954Z",
     "start_time": "2022-10-02T09:45:14.987101Z"
    }
   },
   "outputs": [],
   "source": [
    "def get_average_vector(vectors):\n",
    "    sum_vector = np.sum(vectors, axis=0)\n",
    "    return normarize_vector(sum_vector)"
   ]
  },
  {
   "cell_type": "markdown",
   "id": "3d3f7081",
   "metadata": {},
   "source": [
    "# preprocessing"
   ]
  },
  {
   "cell_type": "code",
   "execution_count": 91,
   "id": "28de0330",
   "metadata": {
    "ExecuteTime": {
     "end_time": "2022-10-02T09:45:16.769112Z",
     "start_time": "2022-10-02T09:45:16.696558Z"
    }
   },
   "outputs": [],
   "source": [
    "centralized_vectors = centralize_array(text_vectors)"
   ]
  },
  {
   "cell_type": "code",
   "execution_count": 93,
   "id": "1e29d204",
   "metadata": {
    "ExecuteTime": {
     "end_time": "2022-10-02T09:45:38.874591Z",
     "start_time": "2022-10-02T09:45:38.799635Z"
    }
   },
   "outputs": [],
   "source": [
    "normarized_vectors = normarize_array(centralized_vectors)"
   ]
  },
  {
   "cell_type": "markdown",
   "id": "1b466925",
   "metadata": {},
   "source": [
    "# get similarity"
   ]
  },
  {
   "cell_type": "markdown",
   "id": "29fdb8eb",
   "metadata": {},
   "source": [
    "## get average vector"
   ]
  },
  {
   "cell_type": "code",
   "execution_count": 95,
   "id": "05b1968c",
   "metadata": {
    "ExecuteTime": {
     "end_time": "2022-10-02T09:46:07.371725Z",
     "start_time": "2022-10-02T09:46:07.355582Z"
    }
   },
   "outputs": [],
   "source": [
    "classes = range(1, 5)"
   ]
  },
  {
   "cell_type": "code",
   "execution_count": 96,
   "id": "68884a3e",
   "metadata": {
    "ExecuteTime": {
     "end_time": "2022-10-02T09:46:07.843654Z",
     "start_time": "2022-10-02T09:46:07.718320Z"
    },
    "code_folding": []
   },
   "outputs": [],
   "source": [
    "average_vectors = dict()\n",
    "for average_class in classes:\n",
    "    class_vectors = normarized_vectors[ag_news_df[ag_news_df[\"class\"] == average_class].index]\n",
    "    average_vectors[average_class] = get_average_vector(class_vectors)"
   ]
  },
  {
   "cell_type": "markdown",
   "id": "79f7c51f",
   "metadata": {},
   "source": [
    "## get cosin similarity of average vector"
   ]
  },
  {
   "cell_type": "code",
   "execution_count": 98,
   "id": "46cdb5f7",
   "metadata": {
    "ExecuteTime": {
     "end_time": "2022-10-02T09:46:55.384418Z",
     "start_time": "2022-10-02T09:46:55.320765Z"
    }
   },
   "outputs": [],
   "source": [
    "cosine_sim_df = pd.DataFrame()\n",
    "for class_x, vector_x in average_vectors.items():\n",
    "    cosine_sims = []\n",
    "    for class_y, vector_y in average_vectors.items():\n",
    "        cosine_sim = cosine_similarity(vector_x.reshape(1, -1), vector_y.reshape(1, -1))\n",
    "        cosine_sims.append(cosine_sim)\n",
    "    cosine_sim_df[class_x] = cosine_sims"
   ]
  },
  {
   "cell_type": "markdown",
   "id": "cc246bfb",
   "metadata": {},
   "source": [
    "## get cosine simirarity of average vector and vectors"
   ]
  },
  {
   "cell_type": "code",
   "execution_count": 99,
   "id": "4881123c",
   "metadata": {
    "ExecuteTime": {
     "end_time": "2022-10-02T09:53:53.828444Z",
     "start_time": "2022-10-02T09:47:06.377032Z"
    },
    "code_folding": []
   },
   "outputs": [
    {
     "name": "stderr",
     "output_type": "stream",
     "text": [
      "100%|██████████| 4/4 [06:47<00:00, 101.85s/it]\n"
     ]
    }
   ],
   "source": [
    "cosine_sims_dicts = dict()\n",
    "for average_class in tqdm(classes):\n",
    "    average_vector = average_vectors[average_class]\n",
    "    cosine_sims_dict = dict()\n",
    "    for vector_class in classes:\n",
    "        cosine_sims = list()\n",
    "        for vector in normarized_vectors[ag_news_df[ag_news_df[\"class\"] == vector_class].index]:\n",
    "            cosine_sim = cosine_similarity(\n",
    "                average_vector.reshape(1, -1), vector.reshape(1, -1)\n",
    "            )\n",
    "            cosine_sims.append(cosine_sim)\n",
    "        cosine_sims_dict[vector_class] = cosine_sims\n",
    "    cosine_sims_dicts[average_class] = cosine_sims_dict"
   ]
  },
  {
   "cell_type": "markdown",
   "id": "9ca2048f",
   "metadata": {},
   "source": [
    "## calc average similarity"
   ]
  },
  {
   "cell_type": "code",
   "execution_count": 100,
   "id": "cec8cac1",
   "metadata": {
    "ExecuteTime": {
     "end_time": "2022-10-02T09:53:56.173774Z",
     "start_time": "2022-10-02T09:53:53.838163Z"
    }
   },
   "outputs": [],
   "source": [
    "average_sims = list()\n",
    "for class_num_ave, cosine_sims_dict in cosine_sims_dicts.items():\n",
    "    average_sim = list()\n",
    "    for class_num_vec, cosine_sims in cosine_sims_dict.items():\n",
    "        cosine_sims = np.stack(cosine_sims).reshape(-1)\n",
    "        average_sim.append(np.average(np.arccos(cosine_sims)))\n",
    "    average_sims.append(average_sim)\n",
    "average_sims = pd.DataFrame(average_sims)"
   ]
  },
  {
   "cell_type": "markdown",
   "id": "20a37365",
   "metadata": {},
   "source": [
    "# show argument"
   ]
  },
  {
   "cell_type": "markdown",
   "id": "472f3480",
   "metadata": {},
   "source": [
    "## argument distribution"
   ]
  },
  {
   "cell_type": "code",
   "execution_count": 101,
   "id": "c949da4d",
   "metadata": {
    "ExecuteTime": {
     "end_time": "2022-10-02T09:53:56.761318Z",
     "start_time": "2022-10-02T09:53:56.180154Z"
    }
   },
   "outputs": [],
   "source": [
    "vecs = dict()\n",
    "for classNum, vectors in cosine_sims_dict.items():\n",
    "    vec = np.stack(vectors)\n",
    "    vecs[classNum] = vec.reshape(-1)"
   ]
  },
  {
   "cell_type": "code",
   "execution_count": 102,
   "id": "0fd5d50a",
   "metadata": {
    "ExecuteTime": {
     "end_time": "2022-10-02T09:54:01.931110Z",
     "start_time": "2022-10-02T09:53:56.772172Z"
    }
   },
   "outputs": [
    {
     "data": {
      "image/png": "[encoded data removed]",
      "text/plain": [
       "<Figure size 800x800 with 4 Axes>"
      ]
     },
     "metadata": {},
     "output_type": "display_data"
    }
   ],
   "source": [
    "fig = plt.figure(figsize=(8, 8))\n",
    "for classNum in range(1, 5):\n",
    "    ax = fig.add_subplot(2, 2, classNum)\n",
    "    sns.histplot(np.arccos(vecs[classNum]), ax=ax)"
   ]
  },
  {
   "cell_type": "markdown",
   "id": "3f3fd124",
   "metadata": {},
   "source": [
    "## show similarity matrix"
   ]
  },
  {
   "cell_type": "code",
   "execution_count": 103,
   "id": "d338a3ff",
   "metadata": {
    "ExecuteTime": {
     "end_time": "2022-10-02T09:54:01.990922Z",
     "start_time": "2022-10-02T09:54:01.937879Z"
    }
   },
   "outputs": [
    {
     "data": {
      "text/html": [
       "<div>\n",
       "<style scoped>\n",
       "    .dataframe tbody tr th:only-of-type {\n",
       "        vertical-align: middle;\n",
       "    }\n",
       "\n",
       "    .dataframe tbody tr th {\n",
       "        vertical-align: top;\n",
       "    }\n",
       "\n",
       "    .dataframe thead th {\n",
       "        text-align: right;\n",
       "    }\n",
       "</style>\n",
       "<table border=\"1\" class=\"dataframe\">\n",
       "  <thead>\n",
       "    <tr style=\"text-align: right;\">\n",
       "      <th></th>\n",
       "      <th>0</th>\n",
       "      <th>1</th>\n",
       "      <th>2</th>\n",
       "      <th>3</th>\n",
       "    </tr>\n",
       "  </thead>\n",
       "  <tbody>\n",
       "    <tr>\n",
       "      <th>0</th>\n",
       "      <td>0.377502</td>\n",
       "      <td>0.538061</td>\n",
       "      <td>0.518705</td>\n",
       "      <td>0.558338</td>\n",
       "    </tr>\n",
       "    <tr>\n",
       "      <th>1</th>\n",
       "      <td>0.534022</td>\n",
       "      <td>0.362556</td>\n",
       "      <td>0.560140</td>\n",
       "      <td>0.545944</td>\n",
       "    </tr>\n",
       "    <tr>\n",
       "      <th>2</th>\n",
       "      <td>0.521869</td>\n",
       "      <td>0.580474</td>\n",
       "      <td>0.398864</td>\n",
       "      <td>0.487446</td>\n",
       "    </tr>\n",
       "    <tr>\n",
       "      <th>3</th>\n",
       "      <td>0.562953</td>\n",
       "      <td>0.556584</td>\n",
       "      <td>0.488297</td>\n",
       "      <td>0.389591</td>\n",
       "    </tr>\n",
       "  </tbody>\n",
       "</table>\n",
       "</div>"
      ],
      "text/plain": [
       "          0         1         2         3\n",
       "0  0.377502  0.538061  0.518705  0.558338\n",
       "1  0.534022  0.362556  0.560140  0.545944\n",
       "2  0.521869  0.580474  0.398864  0.487446\n",
       "3  0.562953  0.556584  0.488297  0.389591"
      ]
     },
     "execution_count": 103,
     "metadata": {},
     "output_type": "execute_result"
    }
   ],
   "source": [
    "average_sims / np.pi"
   ]
  },
  {
   "cell_type": "code",
   "execution_count": 104,
   "id": "b41abb97",
   "metadata": {
    "ExecuteTime": {
     "end_time": "2022-10-02T09:54:03.333800Z",
     "start_time": "2022-10-02T09:54:02.003065Z"
    }
   },
   "outputs": [
    {
     "data": {
      "text/plain": [
       "<AxesSubplot: >"
      ]
     },
     "execution_count": 104,
     "metadata": {},
     "output_type": "execute_result"
    },
    {
     "data": {
      "image/png": "[encoded data removed]",
      "text/plain": [
       "<Figure size 800x600 with 2 Axes>"
      ]
     },
     "metadata": {},
     "output_type": "display_data"
    }
   ],
   "source": [
    "fig = plt.figure(figsize=(8, 6))\n",
    "ax = fig.add_subplot(111)\n",
    "\n",
    "ax.xaxis.tick_top()\n",
    "ax.xaxis.set_ticks_position(\"both\")\n",
    "\n",
    "sns.heatmap(average_sims * 180/ np.pi, vmin=0, vmax=180, annot=True, fmt=\".4g\", ax=ax)"
   ]
  },
  {
   "cell_type": "code",
   "execution_count": 105,
   "id": "bc1e5b86",
   "metadata": {
    "ExecuteTime": {
     "end_time": "2022-10-02T09:54:04.559479Z",
     "start_time": "2022-10-02T09:54:03.340986Z"
    }
   },
   "outputs": [
    {
     "data": {
      "text/plain": [
       "<AxesSubplot: >"
      ]
     },
     "execution_count": 105,
     "metadata": {},
     "output_type": "execute_result"
    },
    {
     "data": {
      "image/png": "[encoded data removed]",
      "text/plain": [
       "<Figure size 800x600 with 2 Axes>"
      ]
     },
     "metadata": {},
     "output_type": "display_data"
    }
   ],
   "source": [
    "fig = plt.figure(figsize=(8, 6))\n",
    "ax = fig.add_subplot(111)\n",
    "\n",
    "ax.xaxis.tick_top()\n",
    "ax.xaxis.set_ticks_position(\"both\")\n",
    "\n",
    "sns.heatmap(1 - average_sims / np.pi, vmin=0, vmax=1, annot=True, fmt=\".4g\", ax=ax)"
   ]
  },
  {
   "cell_type": "markdown",
   "id": "92b8451e",
   "metadata": {},
   "source": [
    "# calc distance between identity matrix and similarity matrix"
   ]
  },
  {
   "cell_type": "code",
   "execution_count": 106,
   "id": "357ac1b4",
   "metadata": {
    "ExecuteTime": {
     "end_time": "2022-10-02T09:54:04.604907Z",
     "start_time": "2022-10-02T09:54:04.566890Z"
    }
   },
   "outputs": [
    {
     "name": "stdout",
     "output_type": "stream",
     "text": [
      "1.831721679570563\n",
      "1.0053747394962615\n",
      "1.777215677483133\n",
      "1.8090753211666917\n"
     ]
    }
   ],
   "source": [
    "norm_dims = [1, 2, \"fro\", np.inf]\n",
    "sim_matrix = 1 - average_sims / np.pi\n",
    "for norm_dim in norm_dims:\n",
    "    print(LA.norm(sim_matrix - np.identity(4), norm_dim))"
   ]
  },
  {
   "cell_type": "code",
   "execution_count": 19,
   "id": "4a87d38e",
   "metadata": {
    "ExecuteTime": {
     "end_time": "2022-10-02T09:01:09.349808Z",
     "start_time": "2022-10-02T09:01:09.312400Z"
    }
   },
   "outputs": [
    {
     "name": "stdout",
     "output_type": "stream",
     "text": [
      "2.2731539145488213\n",
      "1.8014894073471945\n",
      "2.38246719403002\n",
      "2.305811042097262\n"
     ]
    }
   ],
   "source": [
    "norm_dims = [1, 2, \"fro\", np.inf]\n",
    "sim_matrix = 1 - average_sims / np.pi\n",
    "for norm_dim in norm_dims:\n",
    "    print(LA.norm(sim_matrix - np.identity(4), norm_dim))"
   ]
  },
  {
   "cell_type": "code",
   "execution_count": null,
   "id": "5c15d844",
   "metadata": {},
   "outputs": [],
   "source": []
  }
 ],
 "metadata": {
  "kernelspec": {
   "display_name": "Python 3 (ipykernel)",
   "language": "python",
   "name": "python3"
  },
  "language_info": {
   "codemirror_mode": {
    "name": "ipython",
    "version": 3
   },
   "file_extension": ".py",
   "mimetype": "text/x-python",
   "name": "python",
   "nbconvert_exporter": "python",
   "pygments_lexer": "ipython3",
   "version": "3.10.6"
  },
  "toc": {
   "base_numbering": 1,
   "nav_menu": {},
   "number_sections": true,
   "sideBar": true,
   "skip_h1_title": false,
   "title_cell": "Table of Contents",
   "title_sidebar": "Contents",
   "toc_cell": false,
   "toc_position": {},
   "toc_section_display": true,
   "toc_window_display": false
  }
 },
 "nbformat": 4,
 "nbformat_minor": 5
}
