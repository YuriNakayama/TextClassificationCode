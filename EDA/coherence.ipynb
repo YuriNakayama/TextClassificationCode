{
 "cells": [
  {
   "cell_type": "markdown",
   "id": "79844e26",
   "metadata": {},
   "source": [
    "# Import"
   ]
  },
  {
   "cell_type": "code",
   "execution_count": 1,
   "id": "6e6b8f30",
   "metadata": {
    "ExecuteTime": {
     "end_time": "2022-10-28T07:24:59.832965Z",
     "start_time": "2022-10-28T07:24:52.962657Z"
    }
   },
   "outputs": [
    {
     "name": "stderr",
     "output_type": "stream",
     "text": [
      "<jemalloc>: MADV_DONTNEED does not work (memset will be used instead)\n",
      "<jemalloc>: (This is the expected behaviour if you are running under QEMU)\n"
     ]
    }
   ],
   "source": [
    "import csv\n",
    "import itertools\n",
    "from glob import glob\n",
    "\n",
    "import matplotlib.mlab as mlab\n",
    "import matplotlib.pyplot as plt\n",
    "import numpy as np\n",
    "import pandas as pd\n",
    "import seaborn as sns\n",
    "from gensim.corpora import Dictionary\n",
    "from gensim.models.doc2vec import Doc2Vec, TaggedDocument\n",
    "from tqdm import tqdm\n",
    "import os\n",
    "from nltk import word_tokenize\n",
    "from nltk.corpus import stopwords"
   ]
  },
  {
   "cell_type": "code",
   "execution_count": 2,
   "id": "a790114d",
   "metadata": {
    "ExecuteTime": {
     "end_time": "2022-10-28T07:24:59.868071Z",
     "start_time": "2022-10-28T07:24:59.852694Z"
    }
   },
   "outputs": [],
   "source": [
    "tqdm.pandas()"
   ]
  },
  {
   "cell_type": "markdown",
   "id": "90f934a5",
   "metadata": {},
   "source": [
    "# Define functions"
   ]
  },
  {
   "cell_type": "code",
   "execution_count": 3,
   "id": "69eca5b7",
   "metadata": {
    "ExecuteTime": {
     "end_time": "2022-10-28T07:24:59.934716Z",
     "start_time": "2022-10-28T07:24:59.898190Z"
    }
   },
   "outputs": [],
   "source": [
    "def get_corpus(docs):\n",
    "    return [set(doc.split(' ')) for doc in docs]"
   ]
  },
  {
   "cell_type": "code",
   "execution_count": 4,
   "id": "710dcb25",
   "metadata": {
    "ExecuteTime": {
     "end_time": "2022-10-28T07:24:59.987754Z",
     "start_time": "2022-10-28T07:24:59.947608Z"
    }
   },
   "outputs": [],
   "source": [
    "def word_occurences(words, corpus):\n",
    "    return sum([set(words)<=bag_of_words for bag_of_words in corpus])"
   ]
  },
  {
   "cell_type": "code",
   "execution_count": 5,
   "id": "30ef93ac",
   "metadata": {
    "ExecuteTime": {
     "end_time": "2022-10-28T07:25:00.066923Z",
     "start_time": "2022-10-28T07:25:00.002058Z"
    }
   },
   "outputs": [],
   "source": [
    "def norm_pointwise_mutual_information(word_i, word_j, corpus):\n",
    "    log_p_i = np.log(word_occurences([word_i], corpus)/ len(corpus))\n",
    "    log_p_j = np.log(word_occurences([word_j], corpus)/len(corpus))\n",
    "    log_p_ij = np.log(word_occurences([word_i, word_j], corpus)/len(corpus))\n",
    "    return (log_p_i + log_p_j) / log_p_ij - 1"
   ]
  },
  {
   "cell_type": "code",
   "execution_count": 6,
   "id": "8a7f6b95",
   "metadata": {
    "ExecuteTime": {
     "end_time": "2022-10-28T07:25:00.132629Z",
     "start_time": "2022-10-28T07:25:00.080392Z"
    }
   },
   "outputs": [],
   "source": [
    "# def norm_pointwise_mutual_information(prob_i, prob_j, prob_ij):\n",
    "#     log_p_i = np.log(prob_i)\n",
    "#     log_p_j = np.log(prob_j)\n",
    "#     log_p_ij = np.log(prob_ij)\n",
    "#     return (log_p_i + log_p_j) / log_p_ij - 1"
   ]
  },
  {
   "cell_type": "code",
   "execution_count": null,
   "id": "ada2ebc9",
   "metadata": {},
   "outputs": [],
   "source": []
  },
  {
   "cell_type": "code",
   "execution_count": null,
   "id": "f5b1841a",
   "metadata": {},
   "outputs": [],
   "source": []
  },
  {
   "cell_type": "code",
   "execution_count": 7,
   "id": "96f7f2ff",
   "metadata": {
    "ExecuteTime": {
     "end_time": "2022-10-28T07:25:02.076068Z",
     "start_time": "2022-10-28T07:25:00.161218Z"
    }
   },
   "outputs": [],
   "source": [
    "ag_news_df = pd.read_csv(\n",
    "    \"../data/CharCnn_Keras-master/data/ag_news_csv/train.csv\",\n",
    "    header=None,\n",
    "    names=[\"class\", \"title\", \"description\"],\n",
    ")"
   ]
  },
  {
   "cell_type": "code",
   "execution_count": 8,
   "id": "9b9040a4",
   "metadata": {
    "ExecuteTime": {
     "end_time": "2022-10-28T07:27:46.385458Z",
     "start_time": "2022-10-28T07:25:02.084441Z"
    }
   },
   "outputs": [
    {
     "name": "stderr",
     "output_type": "stream",
     "text": [
      "100%|██████████| 120000/120000 [02:44<00:00, 730.69it/s]\n"
     ]
    }
   ],
   "source": [
    "ag_news_df[\"words\"] = ag_news_df.description.progress_apply(word_tokenize)"
   ]
  },
  {
   "cell_type": "code",
   "execution_count": 11,
   "id": "98242973",
   "metadata": {
    "ExecuteTime": {
     "end_time": "2022-10-28T10:27:31.028813Z",
     "start_time": "2022-10-28T07:30:25.798247Z"
    }
   },
   "outputs": [
    {
     "name": "stderr",
     "output_type": "stream",
     "text": [
      "100%|██████████| 120000/120000 [2:57:04<00:00, 11.29it/s]  \n"
     ]
    }
   ],
   "source": [
    "ag_news_df.words = ag_news_df.words.progress_apply(lambda words: [word for word in words if word not in set(stopwords.words('english'))])"
   ]
  },
  {
   "cell_type": "code",
   "execution_count": null,
   "id": "4334fa07",
   "metadata": {
    "ExecuteTime": {
     "end_time": "2022-10-28T07:29:25.255440Z",
     "start_time": "2022-10-28T07:29:25.255333Z"
    }
   },
   "outputs": [],
   "source": [
    "corpus = get_corpus(ag_news_df.description)"
   ]
  },
  {
   "cell_type": "code",
   "execution_count": null,
   "id": "f4468d13",
   "metadata": {
    "ExecuteTime": {
     "end_time": "2022-10-28T07:29:25.265854Z",
     "start_time": "2022-10-28T07:29:25.265776Z"
    }
   },
   "outputs": [],
   "source": [
    "# dictionary = Dictionary([set(doc.split(' ')) for doc in ag_news_df.description])"
   ]
  },
  {
   "cell_type": "code",
   "execution_count": null,
   "id": "3744ee00",
   "metadata": {
    "ExecuteTime": {
     "end_time": "2022-10-28T07:29:25.278375Z",
     "start_time": "2022-10-28T07:29:25.278298Z"
    }
   },
   "outputs": [],
   "source": [
    "count = 1"
   ]
  },
  {
   "cell_type": "code",
   "execution_count": null,
   "id": "9bc2b0f3",
   "metadata": {
    "ExecuteTime": {
     "end_time": "2022-10-28T07:29:25.285604Z",
     "start_time": "2022-10-28T07:29:25.285518Z"
    }
   },
   "outputs": [],
   "source": [
    "dim_nums = [2, 3, 4, 5, 6, 7, 8, 9, 10, 20, 40, 80, 160, 320, 640]"
   ]
  },
  {
   "cell_type": "code",
   "execution_count": null,
   "id": "6b0998dc",
   "metadata": {},
   "outputs": [],
   "source": []
  },
  {
   "cell_type": "code",
   "execution_count": null,
   "id": "e3b1ed95",
   "metadata": {
    "ExecuteTime": {
     "start_time": "2022-10-28T05:42:44.964Z"
    },
    "code_folding": [
     1,
     2
    ]
   },
   "outputs": [
    {
     "name": "stderr",
     "output_type": "stream",
     "text": [
      " 13%|█▎        | 2/15 [04:07<26:43, 123.38s/it]"
     ]
    }
   ],
   "source": [
    "TC_dim = []\n",
    "for dim_num in tqdm(dim_nums):\n",
    "    with open(f\"./data/gmm_pred/{dim_num}/{count}.csv\", \"r\") as f:\n",
    "        reader = csv.reader(f)\n",
    "        preds = np.array([label for label in reader])\n",
    "        \n",
    "    preds = preds.reshape(-1)\n",
    "    preds = np.array([int(label) for label in preds])\n",
    "    \n",
    "    ag_news_df[f\"pred_{dim_num}_{count}\"] = preds\n",
    "    ag_news_df[f\"pred_{dim_num}_{count}\"] = ag_news_df[f\"pred_{dim_num}_{count}\"] + 1\n",
    "    \n",
    "    TC = 0\n",
    "    for label in range(1, 5):\n",
    "        df_class = ag_news_df[ag_news_df[f\"pred_{dim_num}_{count}\"] == label]\n",
    "        dictionary_class = Dictionary([set(doc.split(\" \")) for doc in df_class.description])\n",
    "        common_words = [word for word, count in dictionary_class.most_common(n=10)]\n",
    "        \n",
    "        os.makedirs(f\"./data/gmm_pred_commonword/{dim_num}/\", exist_ok=True)\n",
    "        with open(f\"./data/gmm_pred_commonword/{dim_num}/{count}.csv\", \"a\") as f:\n",
    "            writer = csv.writer(f)\n",
    "            writer.writerow(common_words)\n",
    "\n",
    "\n",
    "        TC_class = 0\n",
    "        for word_i, word_j in itertools.combinations(common_words, 2):\n",
    "            TC_class = TC_class + norm_pointwise_mutual_information(word_i, word_j, corpus)\n",
    "        TC_class = TC_class / len(list(itertools.combinations(common_words, 2)))\n",
    "\n",
    "        TC = TC + TC_class\n",
    "    TC = TC / len(range(1, 5))\n",
    "    TC_dim.append(TC)\n",
    "with open(f\"./data/TC.csv\", \"w\") as f:\n",
    "    writer = csv.writer(f)\n",
    "    writer.writerow(TC_dim)"
   ]
  },
  {
   "cell_type": "code",
   "execution_count": null,
   "id": "c61416d0",
   "metadata": {
    "ExecuteTime": {
     "end_time": "2022-10-28T07:29:25.293426Z",
     "start_time": "2022-10-28T07:29:25.293334Z"
    }
   },
   "outputs": [],
   "source": [
    "ag_news_df.words"
   ]
  },
  {
   "cell_type": "code",
   "execution_count": null,
   "id": "a31340ab",
   "metadata": {
    "ExecuteTime": {
     "end_time": "2022-10-28T07:29:25.300714Z",
     "start_time": "2022-10-28T07:29:25.300623Z"
    }
   },
   "outputs": [],
   "source": [
    "TC_dim_nonstop = []\n",
    "for dim_num in tqdm(dim_nums):\n",
    "    with open(f\"./data/gmm_pred/{dim_num}/{count}.csv\", \"r\") as f:\n",
    "        reader = csv.reader(f)\n",
    "        preds = np.array([label for label in reader])\n",
    "        \n",
    "    preds = preds.reshape(-1)\n",
    "    preds = np.array([int(label) for label in preds])\n",
    "    \n",
    "    ag_news_df[f\"pred_{dim_num}_{count}\"] = preds\n",
    "    ag_news_df[f\"pred_{dim_num}_{count}\"] = ag_news_df[f\"pred_{dim_num}_{count}\"] + 1\n",
    "    \n",
    "    TC = 0\n",
    "    for label in range(1, 5):\n",
    "        df_class = ag_news_df[ag_news_df[f\"pred_{dim_num}_{count}\"] == label]\n",
    "        dictionary_class = Dictionary(df_class.words)\n",
    "        \n",
    "        common_words = [word for word, count in dictionary_class.most_common(n=10)]\n",
    "        \n",
    "        os.makedirs(f\"./data/gmm_pred_commonword_nonstop/{dim_num}/\", exist_ok=True)\n",
    "        with open(f\"./data/gmm_pred_commonword_nonstop/{dim_num}/{count}.csv\", \"a\") as f:\n",
    "            writer = csv.writer(f)\n",
    "            writer.writerow(common_words)\n",
    "\n",
    "        TC_class = 0\n",
    "        for word_i, word_j in itertools.combinations(common_words, 2):\n",
    "            TC_class = TC_class + norm_pointwise_mutual_information(word_i, word_j, corpus)\n",
    "        TC_class = TC_class / len(list(itertools.combinations(common_words, 2)))\n",
    "\n",
    "        TC = TC + TC_class\n",
    "    TC = TC / len(range(1, 5))\n",
    "    TC_dim_nonstop.append(TC)\n",
    "with open(f\"./data/TC_nonstop.csv\", \"w\") as f:\n",
    "    writer = csv.writer(f)\n",
    "    writer.writerow(TC_dim_nonstop)"
   ]
  },
  {
   "cell_type": "code",
   "execution_count": null,
   "id": "ce06107a",
   "metadata": {},
   "outputs": [],
   "source": []
  },
  {
   "cell_type": "code",
   "execution_count": null,
   "id": "9d2d1d7b",
   "metadata": {},
   "outputs": [],
   "source": []
  },
  {
   "cell_type": "code",
   "execution_count": null,
   "id": "e0013d8c",
   "metadata": {},
   "outputs": [],
   "source": []
  },
  {
   "cell_type": "code",
   "execution_count": null,
   "id": "62483e8e",
   "metadata": {},
   "outputs": [],
   "source": []
  },
  {
   "cell_type": "code",
   "execution_count": 62,
   "id": "ef8fa244",
   "metadata": {
    "ExecuteTime": {
     "end_time": "2022-10-27T17:43:54.364144Z",
     "start_time": "2022-10-27T17:43:54.269789Z"
    }
   },
   "outputs": [],
   "source": [
    "df_class = ag_news_df[ag_news_df[f\"pred_{dim_num}_{count}\"]==label]"
   ]
  },
  {
   "cell_type": "code",
   "execution_count": 71,
   "id": "5384106c",
   "metadata": {
    "ExecuteTime": {
     "end_time": "2022-10-27T17:57:50.767171Z",
     "start_time": "2022-10-27T17:57:45.264286Z"
    }
   },
   "outputs": [],
   "source": [
    "dictionary_class = Dictionary([set(doc.split(' ')) for doc in df_class.description])"
   ]
  },
  {
   "cell_type": "code",
   "execution_count": 72,
   "id": "38ebcfc2",
   "metadata": {
    "ExecuteTime": {
     "end_time": "2022-10-27T17:57:51.016654Z",
     "start_time": "2022-10-27T17:57:50.776277Z"
    },
    "scrolled": true
   },
   "outputs": [],
   "source": [
    "common_words = [word for word, count in dictionary_class.most_common(n=10)]"
   ]
  },
  {
   "cell_type": "code",
   "execution_count": 73,
   "id": "0f7d7083",
   "metadata": {
    "ExecuteTime": {
     "end_time": "2022-10-27T17:57:51.050614Z",
     "start_time": "2022-10-27T17:57:51.025836Z"
    }
   },
   "outputs": [
    {
     "data": {
      "text/plain": [
       "['the', 'to', 'of', 'a', 'and', 'in', 'on', '-', 'for', '']"
      ]
     },
     "execution_count": 73,
     "metadata": {},
     "output_type": "execute_result"
    }
   ],
   "source": [
    "common_words"
   ]
  },
  {
   "cell_type": "code",
   "execution_count": 86,
   "id": "023a56cf",
   "metadata": {
    "ExecuteTime": {
     "end_time": "2022-10-28T04:13:53.683436Z",
     "start_time": "2022-10-28T04:13:27.798819Z"
    }
   },
   "outputs": [
    {
     "name": "stderr",
     "output_type": "stream",
     "text": [
      "45it [00:25,  1.74it/s]\n"
     ]
    }
   ],
   "source": [
    "TC = 0\n",
    "for word_i, word_j in tqdm(itertools.combinations(common_words, 2)):\n",
    "    TC = TC + norm_pointwise_mutual_information(word_i, word_j, corpus)\n",
    "TC = TC / len(list(itertools.combinations(common_words, 2)))"
   ]
  },
  {
   "cell_type": "code",
   "execution_count": 87,
   "id": "82078a7b",
   "metadata": {
    "ExecuteTime": {
     "end_time": "2022-10-28T04:13:53.745472Z",
     "start_time": "2022-10-28T04:13:53.710260Z"
    }
   },
   "outputs": [
    {
     "data": {
      "text/plain": [
       "0.024271094345515165"
      ]
     },
     "execution_count": 87,
     "metadata": {},
     "output_type": "execute_result"
    }
   ],
   "source": [
    "TC"
   ]
  },
  {
   "cell_type": "code",
   "execution_count": 7,
   "id": "d7d37d4a",
   "metadata": {
    "ExecuteTime": {
     "end_time": "2022-10-27T16:57:08.604393Z",
     "start_time": "2022-10-27T16:57:08.585012Z"
    }
   },
   "outputs": [],
   "source": [
    "dim_num =2\n",
    "count = 1"
   ]
  },
  {
   "cell_type": "code",
   "execution_count": 37,
   "id": "ef433e86",
   "metadata": {
    "ExecuteTime": {
     "end_time": "2022-10-27T17:03:59.334512Z",
     "start_time": "2022-10-27T17:03:59.110695Z"
    }
   },
   "outputs": [],
   "source": [
    "with open(f\"./data/gmm_pred/{dim_num}/{count}.csv\", \"r\") as f:\n",
    "    reader = csv.reader(f)\n",
    "    preds = np.array([label for label in reader])"
   ]
  },
  {
   "cell_type": "code",
   "execution_count": 38,
   "id": "61481489",
   "metadata": {
    "ExecuteTime": {
     "end_time": "2022-10-27T17:03:59.845858Z",
     "start_time": "2022-10-27T17:03:59.479193Z"
    }
   },
   "outputs": [],
   "source": [
    "preds = preds.reshape(-1)\n",
    "preds = np.array([int(label) for label in preds])"
   ]
  },
  {
   "cell_type": "code",
   "execution_count": 89,
   "id": "1c72ff11",
   "metadata": {
    "ExecuteTime": {
     "end_time": "2022-10-28T04:15:53.672121Z",
     "start_time": "2022-10-28T04:15:53.616084Z"
    }
   },
   "outputs": [],
   "source": [
    "ag_news_df[f\"pred_{dim_num}_{count}\"] = preds\n",
    "ag_news_df[f\"pred_{dim_num}_{count}\"] = ag_news_df[f\"pred_{dim_num}_{count}\"] + 1"
   ]
  },
  {
   "cell_type": "code",
   "execution_count": 91,
   "id": "243d85fe",
   "metadata": {
    "ExecuteTime": {
     "end_time": "2022-10-28T04:20:07.779369Z",
     "start_time": "2022-10-28T04:17:59.419084Z"
    }
   },
   "outputs": [
    {
     "name": "stderr",
     "output_type": "stream",
     "text": [
      "45it [00:24,  1.87it/s]\n",
      "45it [00:24,  1.84it/s]\n",
      "45it [00:24,  1.82it/s]\n",
      "45it [00:23,  1.91it/s]\n"
     ]
    }
   ],
   "source": [
    "TC = 0\n",
    "for label in range(1, 5):\n",
    "    df_class = ag_news_df[ag_news_df[f\"pred_{dim_num}_{count}\"] == label]\n",
    "    dictionary_class = Dictionary([set(doc.split(\" \")) for doc in df_class.description])\n",
    "    common_words = [word for word, count in dictionary_class.most_common(n=10)]\n",
    "\n",
    "    TC_class = 0\n",
    "    for word_i, word_j in tqdm(itertools.combinations(common_words, 2)):\n",
    "        TC_class = TC_class + norm_pointwise_mutual_information(word_i, word_j, corpus)\n",
    "    TC_class = TC_class / len(list(itertools.combinations(common_words, 2)))\n",
    "    \n",
    "    TC = TC + TC_class\n",
    "TC = TC / len(range(1, 5))"
   ]
  },
  {
   "cell_type": "code",
   "execution_count": null,
   "id": "923190c4",
   "metadata": {},
   "outputs": [],
   "source": []
  }
 ],
 "metadata": {
  "kernelspec": {
   "display_name": "Python 3 (ipykernel)",
   "language": "python",
   "name": "python3"
  },
  "language_info": {
   "codemirror_mode": {
    "name": "ipython",
    "version": 3
   },
   "file_extension": ".py",
   "mimetype": "text/x-python",
   "name": "python",
   "nbconvert_exporter": "python",
   "pygments_lexer": "ipython3",
   "version": "3.10.6"
  },
  "toc": {
   "base_numbering": 1,
   "nav_menu": {},
   "number_sections": true,
   "sideBar": true,
   "skip_h1_title": false,
   "title_cell": "Table of Contents",
   "title_sidebar": "Contents",
   "toc_cell": false,
   "toc_position": {},
   "toc_section_display": true,
   "toc_window_display": false
  }
 },
 "nbformat": 4,
 "nbformat_minor": 5
}
