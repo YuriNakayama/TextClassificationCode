{
 "cells": [
  {
   "cell_type": "code",
   "execution_count": 1,
   "id": "293e1129",
   "metadata": {
    "ExecuteTime": {
     "end_time": "2022-12-23T07:34:23.732107Z",
     "start_time": "2022-12-23T07:34:23.652081Z"
    }
   },
   "outputs": [],
   "source": [
    "import requests\n",
    "import os, sys\n",
    "from dotenv import load_dotenv"
   ]
  },
  {
   "cell_type": "code",
   "execution_count": 2,
   "id": "18c708cd",
   "metadata": {
    "ExecuteTime": {
     "end_time": "2022-12-23T07:34:23.915597Z",
     "start_time": "2022-12-23T07:34:23.912860Z"
    }
   },
   "outputs": [],
   "source": [
    "sys.path.append(\"/home/jovyan/\")"
   ]
  },
  {
   "cell_type": "code",
   "execution_count": 3,
   "id": "0265d905",
   "metadata": {
    "ExecuteTime": {
     "end_time": "2022-12-23T07:34:24.361664Z",
     "start_time": "2022-12-23T07:34:24.350542Z"
    }
   },
   "outputs": [
    {
     "data": {
      "text/plain": [
       "True"
      ]
     },
     "execution_count": 3,
     "metadata": {},
     "output_type": "execute_result"
    }
   ],
   "source": [
    "load_dotenv()"
   ]
  },
  {
   "cell_type": "code",
   "execution_count": 4,
   "id": "827b713c",
   "metadata": {
    "ExecuteTime": {
     "end_time": "2022-12-23T07:34:25.044022Z",
     "start_time": "2022-12-23T07:34:25.040158Z"
    }
   },
   "outputs": [],
   "source": [
    "def send_line_notify(notification_message):\n",
    "    \"\"\"\n",
    "    LINEに通知する\n",
    "    \"\"\"\n",
    "    line_notify_token = os.getenv(\"LINE_NOTIFY_TOKEN\")\n",
    "    line_notify_api = \"https://notify-api.line.me/api/notify\"\n",
    "    headers = {\"Authorization\": f\"Bearer {line_notify_token}\"}\n",
    "    data = {\"message\": f\"message: {notification_message}\"}\n",
    "    requests.post(line_notify_api, headers=headers, data=data)"
   ]
  },
  {
   "cell_type": "code",
   "execution_count": 5,
   "id": "fa91448c",
   "metadata": {
    "ExecuteTime": {
     "end_time": "2022-12-23T07:34:26.527606Z",
     "start_time": "2022-12-23T07:34:25.933050Z"
    }
   },
   "outputs": [],
   "source": [
    "send_line_notify(\"てすとてすと\")"
   ]
  },
  {
   "cell_type": "code",
   "execution_count": null,
   "id": "76314fef",
   "metadata": {},
   "outputs": [],
   "source": []
  }
 ],
 "metadata": {
  "kernelspec": {
   "display_name": "base",
   "language": "python",
   "name": "python3"
  },
  "language_info": {
   "codemirror_mode": {
    "name": "ipython",
    "version": 3
   },
   "file_extension": ".py",
   "mimetype": "text/x-python",
   "name": "python",
   "nbconvert_exporter": "python",
   "pygments_lexer": "ipython3",
   "version": "3.10.8"
  },
  "toc": {
   "base_numbering": 1,
   "nav_menu": {},
   "number_sections": true,
   "sideBar": true,
   "skip_h1_title": false,
   "title_cell": "Table of Contents",
   "title_sidebar": "Contents",
   "toc_cell": false,
   "toc_position": {},
   "toc_section_display": true,
   "toc_window_display": false
  },
  "vscode": {
   "interpreter": {
    "hash": "d4d1e4263499bec80672ea0156c357c1ee493ec2b1c70f0acce89fc37c4a6abe"
   }
  }
 },
 "nbformat": 4,
 "nbformat_minor": 5
}
