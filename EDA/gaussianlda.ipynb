{
 "cells": [
  {
   "cell_type": "code",
   "execution_count": 13,
   "id": "84f675e0",
   "metadata": {
    "ExecuteTime": {
     "end_time": "2023-01-09T15:39:19.624219Z",
     "start_time": "2023-01-09T15:39:14.085975Z"
    }
   },
   "outputs": [
    {
     "name": "stdout",
     "output_type": "stream",
     "text": [
      "Collecting git+https://github.com/modusdatascience/choldate.git\n",
      "  Cloning https://github.com/modusdatascience/choldate.git to /tmp/pip-req-build-wk9577hr\n",
      "  Running command git clone --filter=blob:none --quiet https://github.com/modusdatascience/choldate.git /tmp/pip-req-build-wk9577hr\n",
      "  Resolved https://github.com/modusdatascience/choldate.git to commit 0d92a523f8da083031faa0eb187a7b0f287afe69\n",
      "  Preparing metadata (setup.py) ... \u001b[?25ldone\n",
      "\u001b[33mWARNING: Running pip as the 'root' user can result in broken permissions and conflicting behaviour with the system package manager. It is recommended to use a virtual environment instead: https://pip.pypa.io/warnings/venv\u001b[0m\u001b[33m\n",
      "\u001b[0m\u001b[?25h"
     ]
    }
   ],
   "source": [
    "!pip install git+https://github.com/modusdatascience/choldate.git"
   ]
  },
  {
   "cell_type": "code",
   "execution_count": 19,
   "id": "631eeb9b",
   "metadata": {
    "ExecuteTime": {
     "end_time": "2023-01-10T08:26:59.953888Z",
     "start_time": "2023-01-10T08:26:59.938563Z"
    },
    "scrolled": true
   },
   "outputs": [
    {
     "ename": "ModuleNotFoundError",
     "evalue": "No module named 'choldate'",
     "output_type": "error",
     "traceback": [
      "\u001b[0;31m---------------------------------------------------------------------------\u001b[0m",
      "\u001b[0;31mModuleNotFoundError\u001b[0m                       Traceback (most recent call last)",
      "Cell \u001b[0;32mIn[19], line 1\u001b[0m\n\u001b[0;32m----> 1\u001b[0m \u001b[38;5;28;01mimport\u001b[39;00m \u001b[38;5;21;01mcholdate\u001b[39;00m\n",
      "\u001b[0;31mModuleNotFoundError\u001b[0m: No module named 'choldate'"
     ]
    }
   ],
   "source": [
    "import choldate"
   ]
  },
  {
   "cell_type": "code",
   "execution_count": 18,
   "id": "79157e75",
   "metadata": {
    "ExecuteTime": {
     "end_time": "2023-01-09T15:42:28.527822Z",
     "start_time": "2023-01-09T15:42:28.414387Z"
    }
   },
   "outputs": [
    {
     "ename": "ModuleNotFoundError",
     "evalue": "No module named 'choldate'",
     "output_type": "error",
     "traceback": [
      "\u001b[0;31m---------------------------------------------------------------------------\u001b[0m",
      "\u001b[0;31mModuleNotFoundError\u001b[0m                       Traceback (most recent call last)",
      "Cell \u001b[0;32mIn[18], line 2\u001b[0m\n\u001b[1;32m      1\u001b[0m \u001b[38;5;28;01mimport\u001b[39;00m \u001b[38;5;21;01mnumpy\u001b[39;00m \u001b[38;5;28;01mas\u001b[39;00m \u001b[38;5;21;01mnp\u001b[39;00m\n\u001b[0;32m----> 2\u001b[0m \u001b[38;5;28;01mfrom\u001b[39;00m \u001b[38;5;21;01mgaussianlda\u001b[39;00m \u001b[38;5;28;01mimport\u001b[39;00m GaussianLDAAliasTrainer\n",
      "File \u001b[0;32m/opt/conda/lib/python3.10/site-packages/gaussianlda/__init__.py:1\u001b[0m\n\u001b[0;32m----> 1\u001b[0m \u001b[38;5;28;01mfrom\u001b[39;00m \u001b[38;5;21;01mgaussianlda\u001b[39;00m\u001b[38;5;21;01m.\u001b[39;00m\u001b[38;5;21;01mtrainer\u001b[39;00m\u001b[38;5;21;01m.\u001b[39;00m\u001b[38;5;21;01mchol\u001b[39;00m \u001b[38;5;28;01mimport\u001b[39;00m GaussianLDATrainer\n\u001b[1;32m      2\u001b[0m \u001b[38;5;28;01mfrom\u001b[39;00m \u001b[38;5;21;01mgaussianlda\u001b[39;00m\u001b[38;5;21;01m.\u001b[39;00m\u001b[38;5;21;01mtrainer\u001b[39;00m\u001b[38;5;21;01m.\u001b[39;00m\u001b[38;5;21;01mchol_alias\u001b[39;00m \u001b[38;5;28;01mimport\u001b[39;00m GaussianLDAAliasTrainer\n",
      "File \u001b[0;32m/opt/conda/lib/python3.10/site-packages/gaussianlda/trainer/chol.py:28\u001b[0m\n\u001b[1;32m     25\u001b[0m \u001b[38;5;28;01mfrom\u001b[39;00m \u001b[38;5;21;01mscipy\u001b[39;00m\u001b[38;5;21;01m.\u001b[39;00m\u001b[38;5;21;01mspecial\u001b[39;00m \u001b[38;5;28;01mimport\u001b[39;00m gammaln\n\u001b[1;32m     27\u001b[0m \u001b[38;5;28;01mfrom\u001b[39;00m \u001b[38;5;21;01mgaussianlda\u001b[39;00m\u001b[38;5;21;01m.\u001b[39;00m\u001b[38;5;21;01mprior\u001b[39;00m \u001b[38;5;28;01mimport\u001b[39;00m Wishart\n\u001b[0;32m---> 28\u001b[0m \u001b[38;5;28;01mfrom\u001b[39;00m \u001b[38;5;21;01mgaussianlda\u001b[39;00m\u001b[38;5;21;01m.\u001b[39;00m\u001b[38;5;21;01mutils\u001b[39;00m \u001b[38;5;28;01mimport\u001b[39;00m get_logger, get_progress_bar, chol_rank1_downdate, chol_rank1_update\n\u001b[1;32m     31\u001b[0m \u001b[38;5;28;01mclass\u001b[39;00m \u001b[38;5;21;01mGaussianLDATrainer\u001b[39;00m:\n\u001b[1;32m     32\u001b[0m     \u001b[38;5;28;01mdef\u001b[39;00m \u001b[38;5;21m__init__\u001b[39m(\u001b[38;5;28mself\u001b[39m, corpus, vocab_embeddings, vocab, num_tables, alpha, log\u001b[38;5;241m=\u001b[39m\u001b[38;5;28;01mNone\u001b[39;00m, save_path\u001b[38;5;241m=\u001b[39m\u001b[38;5;28;01mNone\u001b[39;00m,\n\u001b[1;32m     33\u001b[0m                  show_topics\u001b[38;5;241m=\u001b[39m\u001b[38;5;28;01mNone\u001b[39;00m, cholesky_decomp\u001b[38;5;241m=\u001b[39m\u001b[38;5;28;01mFalse\u001b[39;00m, num_words_for_formatting\u001b[38;5;241m=\u001b[39m\u001b[38;5;28;01mNone\u001b[39;00m):\n",
      "File \u001b[0;32m/opt/conda/lib/python3.10/site-packages/gaussianlda/utils.py:7\u001b[0m\n\u001b[1;32m      4\u001b[0m \u001b[38;5;28;01mimport\u001b[39;00m \u001b[38;5;21;01mnumpy\u001b[39;00m \u001b[38;5;28;01mas\u001b[39;00m \u001b[38;5;21;01mnp\u001b[39;00m\n\u001b[1;32m      5\u001b[0m \u001b[38;5;28;01mfrom\u001b[39;00m \u001b[38;5;21;01mnumpy\u001b[39;00m\u001b[38;5;21;01m.\u001b[39;00m\u001b[38;5;21;01mrandom\u001b[39;00m \u001b[38;5;28;01mimport\u001b[39;00m default_rng\n\u001b[0;32m----> 7\u001b[0m \u001b[38;5;28;01mfrom\u001b[39;00m \u001b[38;5;21;01mcholdate\u001b[39;00m \u001b[38;5;28;01mimport\u001b[39;00m cholupdate, choldowndate\n\u001b[1;32m     10\u001b[0m \u001b[38;5;28;01mdef\u001b[39;00m \u001b[38;5;21mget_logger\u001b[39m(name):\n\u001b[1;32m     11\u001b[0m     \u001b[38;5;124;03m\"\"\"\u001b[39;00m\n\u001b[1;32m     12\u001b[0m \u001b[38;5;124;03m    Convenience function to make it easier to create new loggers.\u001b[39;00m\n\u001b[1;32m     13\u001b[0m \n\u001b[1;32m     14\u001b[0m \u001b[38;5;124;03m    :param name: logging system logger name\u001b[39;00m\n\u001b[1;32m     15\u001b[0m \u001b[38;5;124;03m    :return:\u001b[39;00m\n\u001b[1;32m     16\u001b[0m \u001b[38;5;124;03m    \"\"\"\u001b[39;00m\n",
      "\u001b[0;31mModuleNotFoundError\u001b[0m: No module named 'choldate'"
     ]
    }
   ],
   "source": [
    "import numpy as np\n",
    "from gaussianlda import GaussianLDAAliasTrainer"
   ]
  },
  {
   "cell_type": "code",
   "execution_count": null,
   "id": "9579721f",
   "metadata": {
    "ExecuteTime": {
     "end_time": "2023-01-09T15:31:16.287050Z",
     "start_time": "2023-01-09T15:31:16.287032Z"
    }
   },
   "outputs": [],
   "source": [
    "\n",
    "# A small vocabulary as a list of words\n",
    "vocab = \"money business bank finance sheep cow goat pig\".split()\n",
    "# A random embedding for each word\n",
    "# Really, you'd want to load something more useful!\n",
    "embeddings = np.random.sample((8, 100), dtype=np.float32)\n",
    "corpus = [\n",
    "    [0, 2, 1, 1, 3, 0, 6, 1],\n",
    "    [3, 1, 1, 3, 7, 0, 1, 2],\n",
    "    [7, 5, 4, 7, 7, 4, 6],\n",
    "    [5, 6, 1, 7, 7, 5, 6, 4],\n",
    "]\n",
    "# Prepare a trainer\n",
    "trainer = GaussianLDAAliasTrainer(\n",
    "    corpus, embeddings, vocab, 2, 0.1, 0.1\n",
    ")\n",
    "# Set training running\n",
    "trainer.sample(10)"
   ]
  },
  {
   "cell_type": "code",
   "execution_count": null,
   "id": "b76b05f4",
   "metadata": {},
   "outputs": [],
   "source": []
  }
 ],
 "metadata": {
  "kernelspec": {
   "display_name": "Python 3 (ipykernel)",
   "language": "python",
   "name": "python3"
  },
  "language_info": {
   "codemirror_mode": {
    "name": "ipython",
    "version": 3
   },
   "file_extension": ".py",
   "mimetype": "text/x-python",
   "name": "python",
   "nbconvert_exporter": "python",
   "pygments_lexer": "ipython3",
   "version": "3.10.8"
  },
  "toc": {
   "base_numbering": 1,
   "nav_menu": {},
   "number_sections": true,
   "sideBar": true,
   "skip_h1_title": false,
   "title_cell": "Table of Contents",
   "title_sidebar": "Contents",
   "toc_cell": false,
   "toc_position": {},
   "toc_section_display": true,
   "toc_window_display": false
  }
 },
 "nbformat": 4,
 "nbformat_minor": 5
}
