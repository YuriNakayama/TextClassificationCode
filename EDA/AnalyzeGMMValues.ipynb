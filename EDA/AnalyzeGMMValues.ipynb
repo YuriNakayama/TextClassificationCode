{
 "cells": [
  {
   "cell_type": "markdown",
   "id": "d7925e10",
   "metadata": {},
   "source": [
    "# Import"
   ]
  },
  {
   "cell_type": "code",
   "execution_count": 1,
   "id": "3f68dc90",
   "metadata": {
    "ExecuteTime": {
     "end_time": "2022-10-21T04:09:05.497283Z",
     "start_time": "2022-10-21T04:08:59.806103Z"
    }
   },
   "outputs": [],
   "source": [
    "from glob import glob\n",
    "\n",
    "import matplotlib.mlab as mlab\n",
    "import matplotlib.pyplot as plt\n",
    "import numpy as np\n",
    "import pandas as pd\n",
    "import seaborn as sns\n",
    "from numpy import linalg as LA\n",
    "from sklearn.cluster import KMeans\n",
    "from sklearn.metrics import adjusted_mutual_info_score\n",
    "from sklearn.metrics.pairwise import cosine_similarity\n",
    "from sklearn.mixture import GaussianMixture\n",
    "from tqdm import tqdm"
   ]
  },
  {
   "cell_type": "code",
   "execution_count": 5,
   "id": "30ded879",
   "metadata": {
    "ExecuteTime": {
     "end_time": "2022-10-21T04:10:01.016623Z",
     "start_time": "2022-10-21T04:10:00.990466Z"
    }
   },
   "outputs": [],
   "source": [
    "model_num = 40"
   ]
  },
  {
   "cell_type": "code",
   "execution_count": 6,
   "id": "f51df4b6",
   "metadata": {
    "ExecuteTime": {
     "end_time": "2022-10-21T04:10:01.652484Z",
     "start_time": "2022-10-21T04:10:01.125547Z"
    }
   },
   "outputs": [],
   "source": [
    "dfs = [pd.read_csv(f\"./data/gmm_score{count}.csv\", index_col= 0) for count in range(model_num)]"
   ]
  },
  {
   "cell_type": "code",
   "execution_count": 14,
   "id": "7b89c4fb",
   "metadata": {
    "ExecuteTime": {
     "end_time": "2022-10-21T04:14:36.222603Z",
     "start_time": "2022-10-21T04:14:36.122204Z"
    }
   },
   "outputs": [],
   "source": [
    "AIC_df = pd.concat([df.T[\"AIC\"] for df in dfs], axis=1)\n",
    "AIC_df.columns = range(model_num)"
   ]
  },
  {
   "cell_type": "code",
   "execution_count": 30,
   "id": "584ad6e6",
   "metadata": {
    "ExecuteTime": {
     "end_time": "2022-10-21T06:09:44.758165Z",
     "start_time": "2022-10-21T06:09:44.639401Z"
    }
   },
   "outputs": [
    {
     "data": {
      "text/html": [
       "<div>\n",
       "<style scoped>\n",
       "    .dataframe tbody tr th:only-of-type {\n",
       "        vertical-align: middle;\n",
       "    }\n",
       "\n",
       "    .dataframe tbody tr th {\n",
       "        vertical-align: top;\n",
       "    }\n",
       "\n",
       "    .dataframe thead th {\n",
       "        text-align: right;\n",
       "    }\n",
       "</style>\n",
       "<table border=\"1\" class=\"dataframe\">\n",
       "  <thead>\n",
       "    <tr style=\"text-align: right;\">\n",
       "      <th></th>\n",
       "      <th>2</th>\n",
       "      <th>3</th>\n",
       "      <th>4</th>\n",
       "      <th>5</th>\n",
       "      <th>6</th>\n",
       "      <th>7</th>\n",
       "      <th>8</th>\n",
       "      <th>9</th>\n",
       "      <th>10</th>\n",
       "      <th>20</th>\n",
       "      <th>40</th>\n",
       "      <th>80</th>\n",
       "      <th>160</th>\n",
       "      <th>320</th>\n",
       "      <th>640</th>\n",
       "    </tr>\n",
       "  </thead>\n",
       "  <tbody>\n",
       "    <tr>\n",
       "      <th>MI</th>\n",
       "      <td>0.191662</td>\n",
       "      <td>0.308586</td>\n",
       "      <td>0.428663</td>\n",
       "      <td>0.192797</td>\n",
       "      <td>0.425272</td>\n",
       "      <td>0.420310</td>\n",
       "      <td>0.417194</td>\n",
       "      <td>0.415491</td>\n",
       "      <td>0.397215</td>\n",
       "      <td>0.177556</td>\n",
       "      <td>8.058427e-03</td>\n",
       "      <td>1.705918e-03</td>\n",
       "      <td>5.856069e-03</td>\n",
       "      <td>4.154992e-03</td>\n",
       "      <td>4.117998e-03</td>\n",
       "    </tr>\n",
       "    <tr>\n",
       "      <th>AIC</th>\n",
       "      <td>397806.301054</td>\n",
       "      <td>546698.692857</td>\n",
       "      <td>606913.899686</td>\n",
       "      <td>653209.653003</td>\n",
       "      <td>684346.297944</td>\n",
       "      <td>680426.300988</td>\n",
       "      <td>653871.745288</td>\n",
       "      <td>619525.218766</td>\n",
       "      <td>565748.055842</td>\n",
       "      <td>-469294.943371</td>\n",
       "      <td>-4.266246e+06</td>\n",
       "      <td>-1.509276e+07</td>\n",
       "      <td>-4.337908e+07</td>\n",
       "      <td>-1.134216e+08</td>\n",
       "      <td>-2.804532e+08</td>\n",
       "    </tr>\n",
       "    <tr>\n",
       "      <th>BIC</th>\n",
       "      <td>397951.729759</td>\n",
       "      <td>546882.902550</td>\n",
       "      <td>607136.890367</td>\n",
       "      <td>653471.424672</td>\n",
       "      <td>684646.850602</td>\n",
       "      <td>680765.634634</td>\n",
       "      <td>654249.859922</td>\n",
       "      <td>619942.114388</td>\n",
       "      <td>566203.732452</td>\n",
       "      <td>-468451.456880</td>\n",
       "      <td>-4.264627e+06</td>\n",
       "      <td>-1.508959e+07</td>\n",
       "      <td>-4.337281e+07</td>\n",
       "      <td>-1.134091e+08</td>\n",
       "      <td>-2.804283e+08</td>\n",
       "    </tr>\n",
       "    <tr>\n",
       "      <th>LogLikelyhood</th>\n",
       "      <td>-1.657401</td>\n",
       "      <td>-2.277753</td>\n",
       "      <td>-2.528616</td>\n",
       "      <td>-2.721482</td>\n",
       "      <td>-2.851185</td>\n",
       "      <td>-2.834818</td>\n",
       "      <td>-2.724141</td>\n",
       "      <td>-2.580997</td>\n",
       "      <td>-2.356892</td>\n",
       "      <td>1.956121</td>\n",
       "      <td>1.777742e+01</td>\n",
       "      <td>6.288922e+01</td>\n",
       "      <td>1.807516e+02</td>\n",
       "      <td>4.726008e+02</td>\n",
       "      <td>1.168576e+03</td>\n",
       "    </tr>\n",
       "  </tbody>\n",
       "</table>\n",
       "</div>"
      ],
      "text/plain": [
       "                           2              3              4              5  \\\n",
       "MI                  0.191662       0.308586       0.428663       0.192797   \n",
       "AIC            397806.301054  546698.692857  606913.899686  653209.653003   \n",
       "BIC            397951.729759  546882.902550  607136.890367  653471.424672   \n",
       "LogLikelyhood      -1.657401      -2.277753      -2.528616      -2.721482   \n",
       "\n",
       "                           6              7              8              9  \\\n",
       "MI                  0.425272       0.420310       0.417194       0.415491   \n",
       "AIC            684346.297944  680426.300988  653871.745288  619525.218766   \n",
       "BIC            684646.850602  680765.634634  654249.859922  619942.114388   \n",
       "LogLikelyhood      -2.851185      -2.834818      -2.724141      -2.580997   \n",
       "\n",
       "                          10             20            40            80  \\\n",
       "MI                  0.397215       0.177556  8.058427e-03  1.705918e-03   \n",
       "AIC            565748.055842 -469294.943371 -4.266246e+06 -1.509276e+07   \n",
       "BIC            566203.732452 -468451.456880 -4.264627e+06 -1.508959e+07   \n",
       "LogLikelyhood      -2.356892       1.956121  1.777742e+01  6.288922e+01   \n",
       "\n",
       "                        160           320           640  \n",
       "MI             5.856069e-03  4.154992e-03  4.117998e-03  \n",
       "AIC           -4.337908e+07 -1.134216e+08 -2.804532e+08  \n",
       "BIC           -4.337281e+07 -1.134091e+08 -2.804283e+08  \n",
       "LogLikelyhood  1.807516e+02  4.726008e+02  1.168576e+03  "
      ]
     },
     "execution_count": 30,
     "metadata": {},
     "output_type": "execute_result"
    }
   ],
   "source": [
    "dfs[0]"
   ]
  },
  {
   "cell_type": "code",
   "execution_count": 39,
   "id": "0b541750",
   "metadata": {
    "ExecuteTime": {
     "end_time": "2022-10-21T06:18:43.786739Z",
     "start_time": "2022-10-21T06:18:43.052192Z"
    }
   },
   "outputs": [
    {
     "data": {
      "text/plain": [
       "<AxesSubplot: >"
      ]
     },
     "execution_count": 39,
     "metadata": {},
     "output_type": "execute_result"
    },
    {
     "data": {
      "image/png": "[encoded data removed]",
      "text/plain": [
       "<Figure size 640x480 with 1 Axes>"
      ]
     },
     "metadata": {},
     "output_type": "display_data"
    }
   ],
   "source": [
    "AIC_df.T.describe().T[\"mean\"].iloc[:11].plot()"
   ]
  },
  {
   "cell_type": "code",
   "execution_count": 29,
   "id": "fe2a8718",
   "metadata": {
    "ExecuteTime": {
     "end_time": "2022-10-21T05:27:56.141404Z",
     "start_time": "2022-10-21T05:27:55.966999Z"
    }
   },
   "outputs": [
    {
     "data": {
      "text/plain": [
       "count      2\n",
       "mean     640\n",
       "std        7\n",
       "min      640\n",
       "25%      640\n",
       "50%      640\n",
       "75%      640\n",
       "max      640\n",
       "dtype: object"
      ]
     },
     "execution_count": 29,
     "metadata": {},
     "output_type": "execute_result"
    }
   ],
   "source": [
    "AIC_df.T.describe().idxmin(axis=1)"
   ]
  },
  {
   "cell_type": "code",
   "execution_count": 26,
   "id": "0a169912",
   "metadata": {
    "ExecuteTime": {
     "end_time": "2022-10-21T05:20:22.035730Z",
     "start_time": "2022-10-21T05:20:21.940030Z"
    }
   },
   "outputs": [],
   "source": [
    "MI_df = pd.concat([df.T[\"MI\"] for df in dfs], axis=1)\n",
    "MI_df.columns = range(model_num)"
   ]
  },
  {
   "cell_type": "code",
   "execution_count": 27,
   "id": "b25ed371",
   "metadata": {
    "ExecuteTime": {
     "end_time": "2022-10-21T05:20:33.648241Z",
     "start_time": "2022-10-21T05:20:33.474265Z"
    }
   },
   "outputs": [
    {
     "data": {
      "text/plain": [
       "count     2\n",
       "mean      4\n",
       "std      20\n",
       "min       4\n",
       "25%       4\n",
       "50%       4\n",
       "75%       4\n",
       "max       4\n",
       "dtype: object"
      ]
     },
     "execution_count": 27,
     "metadata": {},
     "output_type": "execute_result"
    }
   ],
   "source": [
    "MI_df.T.describe().idxmax(axis=1)"
   ]
  },
  {
   "cell_type": "code",
   "execution_count": null,
   "id": "55fe97c4",
   "metadata": {},
   "outputs": [],
   "source": []
  }
 ],
 "metadata": {
  "kernelspec": {
   "display_name": "Python 3 (ipykernel)",
   "language": "python",
   "name": "python3"
  },
  "language_info": {
   "codemirror_mode": {
    "name": "ipython",
    "version": 3
   },
   "file_extension": ".py",
   "mimetype": "text/x-python",
   "name": "python",
   "nbconvert_exporter": "python",
   "pygments_lexer": "ipython3",
   "version": "3.10.6"
  },
  "toc": {
   "base_numbering": 1,
   "nav_menu": {},
   "number_sections": true,
   "sideBar": true,
   "skip_h1_title": false,
   "title_cell": "Table of Contents",
   "title_sidebar": "Contents",
   "toc_cell": false,
   "toc_position": {},
   "toc_section_display": true,
   "toc_window_display": false
  }
 },
 "nbformat": 4,
 "nbformat_minor": 5
}
