{
 "cells": [
  {
   "cell_type": "code",
   "execution_count": 1,
   "id": "090d8719",
   "metadata": {
    "ExecuteTime": {
     "end_time": "2023-02-04T10:29:07.816941Z",
     "start_time": "2023-02-04T10:29:07.655034Z"
    }
   },
   "outputs": [],
   "source": [
    "import logging\n",
    "import os\n",
    "import shutil\n",
    "import sys\n",
    "from typing import List\n",
    "\n",
    "import boto3\n",
    "from botocore.exceptions import ClientError"
   ]
  },
  {
   "cell_type": "markdown",
   "id": "2543f4e4",
   "metadata": {},
   "source": [
    "## Add configuration file"
   ]
  },
  {
   "cell_type": "code",
   "execution_count": 2,
   "id": "f0f02287",
   "metadata": {
    "ExecuteTime": {
     "end_time": "2023-02-04T10:29:07.822821Z",
     "start_time": "2023-02-04T10:29:07.819634Z"
    }
   },
   "outputs": [],
   "source": [
    "sys.path.append(\"/home/jovyan/core/config/\")\n",
    "sys.path.append(\"/home/jovyan/core/util/\")"
   ]
  },
  {
   "cell_type": "code",
   "execution_count": 3,
   "id": "08c511e8",
   "metadata": {
    "ExecuteTime": {
     "end_time": "2023-02-04T10:29:07.874667Z",
     "start_time": "2023-02-04T10:29:07.825265Z"
    }
   },
   "outputs": [],
   "source": [
    "from ALL import config \n",
    "from util import *"
   ]
  },
  {
   "cell_type": "code",
   "execution_count": null,
   "id": "5cbe2603",
   "metadata": {},
   "outputs": [],
   "source": []
  },
  {
   "cell_type": "code",
   "execution_count": 4,
   "id": "b43d85a0",
   "metadata": {
    "ExecuteTime": {
     "end_time": "2023-02-04T10:29:07.879683Z",
     "start_time": "2023-02-04T10:29:07.876665Z"
    }
   },
   "outputs": [],
   "source": [
    "s3_bucket_name =  \"text-classification-nakayama-bucket\"\n",
    "object_name = \"RawData/reuters/cats.txt\"\n",
    "file_path = \"./test.txt\"\n",
    "root_path = \"/home/jovyan\""
   ]
  },
  {
   "cell_type": "code",
   "execution_count": 36,
   "id": "55e2896e",
   "metadata": {
    "ExecuteTime": {
     "end_time": "2023-02-04T10:40:21.967590Z",
     "start_time": "2023-02-04T10:40:21.958963Z"
    },
    "code_folding": [
     1,
     4,
     6,
     16,
     29,
     31,
     54
    ]
   },
   "outputs": [],
   "source": [
    "class S3Manager:\n",
    "    def __init__(self):\n",
    "        self.files = {data_type: {} for data_type in [\"upload\", \"download\"]}\n",
    "\n",
    "    def upload(self, save_file, file_path, object_name=None, bucket=s3_bucket_name):\n",
    "        \"\"\"Upload a file to an S3 bucket\n",
    "\n",
    "        :param file_path: File to upload\n",
    "        :param object_name: S3 object name. If not specified then file_path is used\n",
    "        :param bucket: Bucket to upload to. If not specified then default s3_bucket_name is used\n",
    "        :return: True if file was uploaded, else False\n",
    "        \"\"\"\n",
    "\n",
    "        # If S3 object_name was not specified, use file_path\n",
    "        if object_name is None:\n",
    "            object_name = os.path.basename(file_path)\n",
    "\n",
    "        # Upload the file\n",
    "        _s3_client = boto3.client(\"s3\")\n",
    "        try:\n",
    "            _response = _s3_client.upload_file(file_path, bucket, object_name)\n",
    "        except ClientError as e:\n",
    "            logging.error(e)\n",
    "            return False\n",
    "        self.files[\"upload\"][file_path] = save_file\n",
    "        return file_path\n",
    "\n",
    "    def download(\n",
    "        self, save_file, object_name, file_path=None, s3_bucket_name=s3_bucket_name\n",
    "    ):\n",
    "        \"\"\"Download a file to an S3 bucket\n",
    "\n",
    "        :param file_path: File to upload\n",
    "        :param bucket: Bucket to upload to\n",
    "        :param object_name: S3 object name. If not specified then file_path is used\n",
    "        :return: True if file was uploaded, else False\n",
    "        \"\"\"\n",
    "\n",
    "        # If S3 object_name was not specified, use temporary folder\n",
    "        if file_path is None:\n",
    "            file_path = make_filepath(f\"{root_path}/temporary/{object_name}\")\n",
    "\n",
    "        _s3 = boto3.client(\"s3\")\n",
    "        try:\n",
    "            _s3.download_file(s3_bucket_name, object_name, file_path)\n",
    "        except ClientError as e:\n",
    "            logging.error(e)\n",
    "            return False\n",
    "        self.files[\"download\"][file_path] = save_file\n",
    "        return file_path\n",
    "\n",
    "    def delete_local_all(self):\n",
    "        def _delete_file_or_folder(_path):\n",
    "            if os.path.exists(_path):\n",
    "                if os.path.isfile(_path):\n",
    "                    os.remove(_path)\n",
    "                else:\n",
    "                    shutil.rmtree(_path)\n",
    "                return True\n",
    "            else:\n",
    "                return False\n",
    "\n",
    "        for _type, _file_dict in self.files.items():\n",
    "            if _file_dict:\n",
    "                for _file, _save in _file_dict.items():\n",
    "                    if not _save:\n",
    "                        _delete_file_or_folder(_file)\n",
    "                        print(_file)"
   ]
  },
  {
   "cell_type": "code",
   "execution_count": 37,
   "id": "4a6473ec",
   "metadata": {
    "ExecuteTime": {
     "end_time": "2023-02-04T10:40:22.630424Z",
     "start_time": "2023-02-04T10:40:22.625866Z"
    },
    "code_folding": [
     0
    ]
   },
   "outputs": [],
   "source": [
    "def download(object_name, file_path=None, s3_bucket_name=s3_bucket_name):\n",
    "    \"\"\"Download a file to an S3 bucket\n",
    "\n",
    "    :param file_name: File to upload\n",
    "    :param bucket: Bucket to upload to\n",
    "    :param object_name: S3 object name. If not specified then file_name is used\n",
    "    :return: True if file was uploaded, else False\n",
    "    \"\"\"\n",
    "\n",
    "    # If S3 object_name was not specified, use temporary folder\n",
    "    if file_path is None:\n",
    "        file_path = make_filepath(f\"{root_path}/temporary/{object_name}\")\n",
    "\n",
    "    s3 = boto3.client(\"s3\")\n",
    "    try:\n",
    "        s3.download_file(s3_bucket_name, object_name, file_path)\n",
    "    except ClientError as e:\n",
    "        logging.error(e)\n",
    "        return False\n",
    "    return file_path, a"
   ]
  },
  {
   "cell_type": "code",
   "execution_count": 40,
   "id": "92badcbb",
   "metadata": {
    "ExecuteTime": {
     "end_time": "2023-02-04T10:40:24.340790Z",
     "start_time": "2023-02-04T10:40:24.335883Z"
    }
   },
   "outputs": [],
   "source": [
    "S3 = S3Manager()"
   ]
  },
  {
   "cell_type": "code",
   "execution_count": 41,
   "id": "d7f72882",
   "metadata": {
    "ExecuteTime": {
     "end_time": "2023-02-04T10:40:25.177222Z",
     "start_time": "2023-02-04T10:40:24.952687Z"
    }
   },
   "outputs": [
    {
     "data": {
      "text/plain": [
       "'./test.txt'"
      ]
     },
     "execution_count": 41,
     "metadata": {},
     "output_type": "execute_result"
    }
   ],
   "source": [
    "S3.upload(save_file=False, file_path=file_path)"
   ]
  },
  {
   "cell_type": "code",
   "execution_count": 42,
   "id": "0752ce8b",
   "metadata": {
    "ExecuteTime": {
     "end_time": "2023-02-04T10:40:25.830803Z",
     "start_time": "2023-02-04T10:40:25.653438Z"
    }
   },
   "outputs": [
    {
     "data": {
      "text/plain": [
       "'/home/jovyan/temporary/RawData/reuters/cats.txt'"
      ]
     },
     "execution_count": 42,
     "metadata": {},
     "output_type": "execute_result"
    }
   ],
   "source": [
    "S3.download(save_file=False, object_name=object_name)"
   ]
  },
  {
   "cell_type": "code",
   "execution_count": 43,
   "id": "41b9054d",
   "metadata": {
    "ExecuteTime": {
     "end_time": "2023-02-04T10:40:26.372373Z",
     "start_time": "2023-02-04T10:40:26.368438Z"
    }
   },
   "outputs": [
    {
     "name": "stdout",
     "output_type": "stream",
     "text": [
      "./test.txt\n",
      "/home/jovyan/temporary/RawData/reuters/cats.txt\n"
     ]
    }
   ],
   "source": [
    "S3.delete_local_all()"
   ]
  },
  {
   "cell_type": "markdown",
   "id": "88251e50",
   "metadata": {},
   "source": [
    "# S3のフォルダ内のオブジェクトを取得する関数"
   ]
  },
  {
   "cell_type": "code",
   "execution_count": 38,
   "id": "c665d31d",
   "metadata": {
    "ExecuteTime": {
     "end_time": "2023-02-04T10:40:22.776163Z",
     "start_time": "2023-02-04T10:40:22.768834Z"
    },
    "code_folding": [
     0,
     15
    ]
   },
   "outputs": [],
   "source": [
    "def ls(bucket: str, prefix: str, recursive: bool = False) -> List[str]:\n",
    "    \"\"\"S3上のファイルリスト取得\n",
    "\n",
    "    Args:\n",
    "        bucket (str): バケット名\n",
    "        prefix (str): バケット以降のパス\n",
    "        recursive (bool): 再帰的にパスを取得するかどうか\n",
    "\n",
    "    \"\"\"\n",
    "    paths: List[str] = []\n",
    "    paths = __get_all_keys(\n",
    "        bucket, prefix, recursive=recursive)\n",
    "    return paths\n",
    "\n",
    "\n",
    "def __get_all_keys(bucket: str, prefix: str, keys: List = None, marker: str = '', recursive: bool = False) -> List[str]:\n",
    "    \"\"\"指定した prefix のすべての key の配列を返す\n",
    "\n",
    "    Args:\n",
    "        bucket (str): バケット名\n",
    "        prefix (str): バケット以降のパス\n",
    "        keys (List): 全パス取得用に用いる\n",
    "        marker (str): 全パス取得用に用いる\n",
    "        recursive (bool): 再帰的にパスを取得するかどうか\n",
    "\n",
    "    \"\"\"\n",
    "    s3 = boto3.client('s3')\n",
    "    if recursive:\n",
    "        response = s3.list_objects(\n",
    "            Bucket=bucket, Prefix=prefix, Marker=marker)\n",
    "    else:\n",
    "        response = s3.list_objects(\n",
    "            Bucket=bucket, Prefix=prefix, Marker=marker, Delimiter='/')\n",
    "\n",
    "    # keyがNoneのときは初期化\n",
    "    if keys is None:\n",
    "        keys = []\n",
    "\n",
    "    if 'CommonPrefixes' in response:\n",
    "        # Delimiterが'/'のときはフォルダがKeyに含まれない\n",
    "        keys.extend([content['Prefix']\n",
    "                    for content in response['CommonPrefixes']])\n",
    "    if 'Contents' in response:  # 該当する key がないと response に 'Contents' が含まれない\n",
    "        keys.extend([content['Key'] for content in response['Contents']])\n",
    "        if 'IsTruncated' in response:\n",
    "            return __get_all_keys(bucket=bucket, prefix=prefix, keys=keys, marker=keys[-1], recursive=recursive)\n",
    "    return keys"
   ]
  },
  {
   "cell_type": "code",
   "execution_count": 39,
   "id": "56f1f0ed",
   "metadata": {
    "ExecuteTime": {
     "end_time": "2023-02-04T10:40:23.045145Z",
     "start_time": "2023-02-04T10:40:22.952390Z"
    }
   },
   "outputs": [
    {
     "name": "stdout",
     "output_type": "stream",
     "text": [
      "['Clustering/20News/', 'Clustering/AgNews/', 'Clustering/AgNewsTitle/']\n"
     ]
    }
   ],
   "source": [
    "keys = ls(s3_bucket_name, 'Clustering/', recursive=False)\n",
    "print(keys) # ['folder1/', 'folder1/sample.txt', 'folder1/html/']"
   ]
  }
 ],
 "metadata": {
  "kernelspec": {
   "display_name": "Python 3 (ipykernel)",
   "language": "python",
   "name": "python3"
  },
  "language_info": {
   "codemirror_mode": {
    "name": "ipython",
    "version": 3
   },
   "file_extension": ".py",
   "mimetype": "text/x-python",
   "name": "python",
   "nbconvert_exporter": "python",
   "pygments_lexer": "ipython3",
   "version": "3.10.8"
  },
  "toc": {
   "base_numbering": 1,
   "nav_menu": {},
   "number_sections": true,
   "sideBar": true,
   "skip_h1_title": false,
   "title_cell": "Table of Contents",
   "title_sidebar": "Contents",
   "toc_cell": false,
   "toc_position": {},
   "toc_section_display": true,
   "toc_window_display": false
  }
 },
 "nbformat": 4,
 "nbformat_minor": 5
}
