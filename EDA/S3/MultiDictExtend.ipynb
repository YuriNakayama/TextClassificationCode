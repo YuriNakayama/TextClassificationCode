{
 "cells": [
  {
   "cell_type": "markdown",
   "id": "dc950a53",
   "metadata": {},
   "source": [
    "# Import"
   ]
  },
  {
   "cell_type": "code",
   "execution_count": 60,
   "id": "090d8719",
   "metadata": {
    "ExecuteTime": {
     "end_time": "2023-02-21T08:31:44.300252Z",
     "start_time": "2023-02-21T08:31:44.295127Z"
    }
   },
   "outputs": [],
   "source": [
    "import csv\n",
    "import functools\n",
    "import json\n",
    "import logging\n",
    "import os\n",
    "import shutil\n",
    "import sys\n",
    "from glob import glob\n",
    "from itertools import product\n",
    "from typing import List, Dict\n",
    "\n",
    "import boto3\n",
    "import numpy as np\n",
    "import pandas as pd\n",
    "from botocore.exceptions import ClientError"
   ]
  },
  {
   "cell_type": "markdown",
   "id": "2543f4e4",
   "metadata": {},
   "source": [
    "## Add configuration file"
   ]
  },
  {
   "cell_type": "code",
   "execution_count": 2,
   "id": "f0f02287",
   "metadata": {
    "ExecuteTime": {
     "end_time": "2023-02-21T07:48:22.530439Z",
     "start_time": "2023-02-21T07:48:22.527399Z"
    }
   },
   "outputs": [],
   "source": [
    "sys.path.append(\"/home/jovyan/core/config/\")\n",
    "sys.path.append(\"/home/jovyan/core/util/\")"
   ]
  },
  {
   "cell_type": "code",
   "execution_count": 3,
   "id": "08c511e8",
   "metadata": {
    "ExecuteTime": {
     "end_time": "2023-02-21T07:48:22.975329Z",
     "start_time": "2023-02-21T07:48:22.532832Z"
    }
   },
   "outputs": [],
   "source": [
    "from ALL import config \n",
    "from util import *\n",
    "from MultilayerDict import *"
   ]
  },
  {
   "cell_type": "code",
   "execution_count": null,
   "id": "5cbe2603",
   "metadata": {},
   "outputs": [],
   "source": []
  },
  {
   "cell_type": "code",
   "execution_count": 4,
   "id": "b43d85a0",
   "metadata": {
    "ExecuteTime": {
     "end_time": "2023-02-21T07:48:23.363716Z",
     "start_time": "2023-02-21T07:48:23.360698Z"
    }
   },
   "outputs": [],
   "source": [
    "s3_bucket_name =  \"text-classification-nakayama-bucket\"\n",
    "object_name = \"RawData/reuters/\"\n",
    "root_path = \"/home/jovyan\""
   ]
  },
  {
   "cell_type": "code",
   "execution_count": null,
   "id": "43c6b522",
   "metadata": {},
   "outputs": [],
   "source": []
  },
  {
   "cell_type": "code",
   "execution_count": 107,
   "id": "8b26896c",
   "metadata": {
    "ExecuteTime": {
     "end_time": "2023-02-21T08:57:32.918146Z",
     "start_time": "2023-02-21T08:57:32.914787Z"
    }
   },
   "outputs": [],
   "source": [
    "md = MultilayerDict(names_keys={\"a\": [1], \"b\":[4, 5]})"
   ]
  },
  {
   "cell_type": "code",
   "execution_count": 108,
   "id": "436b1dfa",
   "metadata": {
    "ExecuteTime": {
     "end_time": "2023-02-21T08:57:33.143665Z",
     "start_time": "2023-02-21T08:57:33.140701Z"
    }
   },
   "outputs": [],
   "source": [
    "_md = MultilayerDict(names_keys={\"c\": [2], \"d\": [0]})"
   ]
  },
  {
   "cell_type": "code",
   "execution_count": 109,
   "id": "8b618f82",
   "metadata": {
    "ExecuteTime": {
     "end_time": "2023-02-21T08:57:33.925730Z",
     "start_time": "2023-02-21T08:57:33.922682Z"
    }
   },
   "outputs": [],
   "source": [
    "for _keys in product(*md.names_keys.values()):\n",
    "    md.update(_keys, \"1\")"
   ]
  },
  {
   "cell_type": "code",
   "execution_count": 110,
   "id": "71692721",
   "metadata": {
    "ExecuteTime": {
     "end_time": "2023-02-21T08:57:35.334709Z",
     "start_time": "2023-02-21T08:57:35.330048Z"
    }
   },
   "outputs": [
    {
     "data": {
      "text/plain": [
       "{1: {4: '1', 5: '1'}}"
      ]
     },
     "execution_count": 110,
     "metadata": {},
     "output_type": "execute_result"
    }
   ],
   "source": [
    "md.dict"
   ]
  },
  {
   "cell_type": "code",
   "execution_count": 111,
   "id": "383cd7da",
   "metadata": {
    "ExecuteTime": {
     "end_time": "2023-02-21T08:57:37.443932Z",
     "start_time": "2023-02-21T08:57:37.432624Z"
    }
   },
   "outputs": [],
   "source": [
    "def extend(keys: List[List[int]], mds: List[MultilayerDict]):\n",
    "    if len(keys) != np.prod([len(_keys) for _keys in md.names_keys.values()]):\n",
    "        raise ValueError(\n",
    "            \"The number of MultilayerDict and size of object do not match.\"\n",
    "        )\n",
    "    if len(keys) != len(mds):\n",
    "        raise ValueError(\"number of keys and mds do not match.\")\n",
    "\n",
    "    # dictを延長\n",
    "    for _keys, _md in zip(keys, mds):\n",
    "        md.update(_keys, _md.dict)\n",
    "    # namesを延長\n",
    "    md.names.extend(mds[0].names)\n",
    "    # keysを延長\n",
    "    md.names_keys.update(mds[0].names_keys)"
   ]
  },
  {
   "cell_type": "code",
   "execution_count": 112,
   "id": "da46814d",
   "metadata": {
    "ExecuteTime": {
     "end_time": "2023-02-21T08:57:53.687049Z",
     "start_time": "2023-02-21T08:57:53.681747Z"
    }
   },
   "outputs": [],
   "source": [
    "extend([[1, 4], [1, 5]], [_md, _md])"
   ]
  },
  {
   "cell_type": "code",
   "execution_count": 113,
   "id": "5d15f5bb",
   "metadata": {
    "ExecuteTime": {
     "end_time": "2023-02-21T08:57:54.493713Z",
     "start_time": "2023-02-21T08:57:54.486993Z"
    }
   },
   "outputs": [
    {
     "data": {
      "text/plain": [
       "{1: {4: {2: {0: {}}}, 5: {2: {0: {}}}}}"
      ]
     },
     "execution_count": 113,
     "metadata": {},
     "output_type": "execute_result"
    }
   ],
   "source": [
    "md.dict"
   ]
  },
  {
   "cell_type": "code",
   "execution_count": 114,
   "id": "83692f1a",
   "metadata": {
    "ExecuteTime": {
     "end_time": "2023-02-21T08:57:58.696036Z",
     "start_time": "2023-02-21T08:57:58.689753Z"
    }
   },
   "outputs": [
    {
     "data": {
      "text/plain": [
       "['a', 'b', 'c', 'd']"
      ]
     },
     "execution_count": 114,
     "metadata": {},
     "output_type": "execute_result"
    }
   ],
   "source": [
    "md.names"
   ]
  },
  {
   "cell_type": "code",
   "execution_count": 115,
   "id": "50307b5d",
   "metadata": {
    "ExecuteTime": {
     "end_time": "2023-02-21T08:57:59.607270Z",
     "start_time": "2023-02-21T08:57:59.602294Z"
    }
   },
   "outputs": [
    {
     "data": {
      "text/plain": [
       "{'a': [1], 'b': [4, 5], 'c': [2], 'd': [0]}"
      ]
     },
     "execution_count": 115,
     "metadata": {},
     "output_type": "execute_result"
    }
   ],
   "source": [
    "md.names_keys"
   ]
  },
  {
   "cell_type": "code",
   "execution_count": null,
   "id": "d6fafd49",
   "metadata": {},
   "outputs": [],
   "source": []
  }
 ],
 "metadata": {
  "kernelspec": {
   "display_name": "Python 3 (ipykernel)",
   "language": "python",
   "name": "python3"
  },
  "language_info": {
   "codemirror_mode": {
    "name": "ipython",
    "version": 3
   },
   "file_extension": ".py",
   "mimetype": "text/x-python",
   "name": "python",
   "nbconvert_exporter": "python",
   "pygments_lexer": "ipython3",
   "version": "3.10.9"
  },
  "toc": {
   "base_numbering": 1,
   "nav_menu": {},
   "number_sections": true,
   "sideBar": true,
   "skip_h1_title": false,
   "title_cell": "Table of Contents",
   "title_sidebar": "Contents",
   "toc_cell": false,
   "toc_position": {},
   "toc_section_display": true,
   "toc_window_display": false
  }
 },
 "nbformat": 4,
 "nbformat_minor": 5
}
