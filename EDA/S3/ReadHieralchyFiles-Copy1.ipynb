{
 "cells": [
  {
   "cell_type": "markdown",
   "id": "dc950a53",
   "metadata": {},
   "source": [
    "# Import"
   ]
  },
  {
   "cell_type": "code",
   "execution_count": 26,
   "id": "090d8719",
   "metadata": {
    "ExecuteTime": {
     "end_time": "2023-02-22T12:59:19.837306Z",
     "start_time": "2023-02-22T12:59:19.831853Z"
    }
   },
   "outputs": [],
   "source": [
    "import csv\n",
    "import json\n",
    "import logging\n",
    "import os\n",
    "import shutil\n",
    "import sys\n",
    "from typing import List\n",
    "from glob import glob\n",
    "\n",
    "from itertools import product\n",
    "import boto3\n",
    "import pandas as pd\n",
    "from botocore.exceptions import ClientError"
   ]
  },
  {
   "cell_type": "markdown",
   "id": "2543f4e4",
   "metadata": {},
   "source": [
    "## Add configuration file"
   ]
  },
  {
   "cell_type": "code",
   "execution_count": 27,
   "id": "f0f02287",
   "metadata": {
    "ExecuteTime": {
     "end_time": "2023-02-22T12:59:20.611610Z",
     "start_time": "2023-02-22T12:59:20.607411Z"
    }
   },
   "outputs": [],
   "source": [
    "sys.path.append(\"/home/jovyan/core/config/\")\n",
    "sys.path.append(\"/home/jovyan/core/util/\")"
   ]
  },
  {
   "cell_type": "code",
   "execution_count": 28,
   "id": "08c511e8",
   "metadata": {
    "ExecuteTime": {
     "end_time": "2023-02-22T12:59:20.619019Z",
     "start_time": "2023-02-22T12:59:20.615556Z"
    }
   },
   "outputs": [],
   "source": [
    "from ALL import config \n",
    "from util import *\n",
    "from MultilayerDict import *"
   ]
  },
  {
   "cell_type": "code",
   "execution_count": null,
   "id": "5cbe2603",
   "metadata": {},
   "outputs": [],
   "source": []
  },
  {
   "cell_type": "code",
   "execution_count": 29,
   "id": "b43d85a0",
   "metadata": {
    "ExecuteTime": {
     "end_time": "2023-02-22T12:59:20.851588Z",
     "start_time": "2023-02-22T12:59:20.847934Z"
    }
   },
   "outputs": [],
   "source": [
    "s3_bucket_name =  \"text-classification-nakayama-bucket\"\n",
    "object_name = \"RawData/reuters/\"\n",
    "root_path = \"/home/jovyan\""
   ]
  },
  {
   "cell_type": "code",
   "execution_count": 30,
   "id": "2467098a",
   "metadata": {
    "ExecuteTime": {
     "end_time": "2023-02-22T12:59:20.949755Z",
     "start_time": "2023-02-22T12:59:20.946912Z"
    }
   },
   "outputs": [],
   "source": [
    "d = {\"temporary\": {\"A\": \"doc\", \"B\": \"tes\"}}"
   ]
  },
  {
   "cell_type": "code",
   "execution_count": 31,
   "id": "ba774e60",
   "metadata": {
    "ExecuteTime": {
     "end_time": "2023-02-22T12:59:21.159185Z",
     "start_time": "2023-02-22T12:59:21.155341Z"
    }
   },
   "outputs": [],
   "source": [
    "file_path = \"../../temporary/B/test.csv\"\n",
    "dir_path = \"../../temporary/\""
   ]
  },
  {
   "cell_type": "code",
   "execution_count": 32,
   "id": "7315469a",
   "metadata": {
    "ExecuteTime": {
     "end_time": "2023-02-22T12:59:21.545399Z",
     "start_time": "2023-02-22T12:59:21.394821Z"
    },
    "collapsed": true
   },
   "outputs": [
    {
     "ename": "FileNotFoundError",
     "evalue": "[Errno 2] No such file or directory: '../../temporary/B/test.csv'",
     "output_type": "error",
     "traceback": [
      "\u001b[0;31m---------------------------------------------------------------------------\u001b[0m",
      "\u001b[0;31mFileNotFoundError\u001b[0m                         Traceback (most recent call last)",
      "Cell \u001b[0;32mIn[32], line 1\u001b[0m\n\u001b[0;32m----> 1\u001b[0m f \u001b[38;5;241m=\u001b[39m \u001b[43mpd\u001b[49m\u001b[38;5;241;43m.\u001b[39;49m\u001b[43mread_csv\u001b[49m\u001b[43m(\u001b[49m\u001b[38;5;124;43m\"\u001b[39;49m\u001b[38;5;124;43m../../temporary/B/test.csv\u001b[39;49m\u001b[38;5;124;43m\"\u001b[39;49m\u001b[43m)\u001b[49m\n",
      "File \u001b[0;32m/opt/conda/lib/python3.10/site-packages/pandas/util/_decorators.py:211\u001b[0m, in \u001b[0;36mdeprecate_kwarg.<locals>._deprecate_kwarg.<locals>.wrapper\u001b[0;34m(*args, **kwargs)\u001b[0m\n\u001b[1;32m    209\u001b[0m     \u001b[38;5;28;01melse\u001b[39;00m:\n\u001b[1;32m    210\u001b[0m         kwargs[new_arg_name] \u001b[38;5;241m=\u001b[39m new_arg_value\n\u001b[0;32m--> 211\u001b[0m \u001b[38;5;28;01mreturn\u001b[39;00m \u001b[43mfunc\u001b[49m\u001b[43m(\u001b[49m\u001b[38;5;241;43m*\u001b[39;49m\u001b[43margs\u001b[49m\u001b[43m,\u001b[49m\u001b[43m \u001b[49m\u001b[38;5;241;43m*\u001b[39;49m\u001b[38;5;241;43m*\u001b[39;49m\u001b[43mkwargs\u001b[49m\u001b[43m)\u001b[49m\n",
      "File \u001b[0;32m/opt/conda/lib/python3.10/site-packages/pandas/util/_decorators.py:331\u001b[0m, in \u001b[0;36mdeprecate_nonkeyword_arguments.<locals>.decorate.<locals>.wrapper\u001b[0;34m(*args, **kwargs)\u001b[0m\n\u001b[1;32m    325\u001b[0m \u001b[38;5;28;01mif\u001b[39;00m \u001b[38;5;28mlen\u001b[39m(args) \u001b[38;5;241m>\u001b[39m num_allow_args:\n\u001b[1;32m    326\u001b[0m     warnings\u001b[38;5;241m.\u001b[39mwarn(\n\u001b[1;32m    327\u001b[0m         msg\u001b[38;5;241m.\u001b[39mformat(arguments\u001b[38;5;241m=\u001b[39m_format_argument_list(allow_args)),\n\u001b[1;32m    328\u001b[0m         \u001b[38;5;167;01mFutureWarning\u001b[39;00m,\n\u001b[1;32m    329\u001b[0m         stacklevel\u001b[38;5;241m=\u001b[39mfind_stack_level(),\n\u001b[1;32m    330\u001b[0m     )\n\u001b[0;32m--> 331\u001b[0m \u001b[38;5;28;01mreturn\u001b[39;00m \u001b[43mfunc\u001b[49m\u001b[43m(\u001b[49m\u001b[38;5;241;43m*\u001b[39;49m\u001b[43margs\u001b[49m\u001b[43m,\u001b[49m\u001b[43m \u001b[49m\u001b[38;5;241;43m*\u001b[39;49m\u001b[38;5;241;43m*\u001b[39;49m\u001b[43mkwargs\u001b[49m\u001b[43m)\u001b[49m\n",
      "File \u001b[0;32m/opt/conda/lib/python3.10/site-packages/pandas/io/parsers/readers.py:950\u001b[0m, in \u001b[0;36mread_csv\u001b[0;34m(filepath_or_buffer, sep, delimiter, header, names, index_col, usecols, squeeze, prefix, mangle_dupe_cols, dtype, engine, converters, true_values, false_values, skipinitialspace, skiprows, skipfooter, nrows, na_values, keep_default_na, na_filter, verbose, skip_blank_lines, parse_dates, infer_datetime_format, keep_date_col, date_parser, dayfirst, cache_dates, iterator, chunksize, compression, thousands, decimal, lineterminator, quotechar, quoting, doublequote, escapechar, comment, encoding, encoding_errors, dialect, error_bad_lines, warn_bad_lines, on_bad_lines, delim_whitespace, low_memory, memory_map, float_precision, storage_options)\u001b[0m\n\u001b[1;32m    935\u001b[0m kwds_defaults \u001b[38;5;241m=\u001b[39m _refine_defaults_read(\n\u001b[1;32m    936\u001b[0m     dialect,\n\u001b[1;32m    937\u001b[0m     delimiter,\n\u001b[0;32m   (...)\u001b[0m\n\u001b[1;32m    946\u001b[0m     defaults\u001b[38;5;241m=\u001b[39m{\u001b[38;5;124m\"\u001b[39m\u001b[38;5;124mdelimiter\u001b[39m\u001b[38;5;124m\"\u001b[39m: \u001b[38;5;124m\"\u001b[39m\u001b[38;5;124m,\u001b[39m\u001b[38;5;124m\"\u001b[39m},\n\u001b[1;32m    947\u001b[0m )\n\u001b[1;32m    948\u001b[0m kwds\u001b[38;5;241m.\u001b[39mupdate(kwds_defaults)\n\u001b[0;32m--> 950\u001b[0m \u001b[38;5;28;01mreturn\u001b[39;00m \u001b[43m_read\u001b[49m\u001b[43m(\u001b[49m\u001b[43mfilepath_or_buffer\u001b[49m\u001b[43m,\u001b[49m\u001b[43m \u001b[49m\u001b[43mkwds\u001b[49m\u001b[43m)\u001b[49m\n",
      "File \u001b[0;32m/opt/conda/lib/python3.10/site-packages/pandas/io/parsers/readers.py:605\u001b[0m, in \u001b[0;36m_read\u001b[0;34m(filepath_or_buffer, kwds)\u001b[0m\n\u001b[1;32m    602\u001b[0m _validate_names(kwds\u001b[38;5;241m.\u001b[39mget(\u001b[38;5;124m\"\u001b[39m\u001b[38;5;124mnames\u001b[39m\u001b[38;5;124m\"\u001b[39m, \u001b[38;5;28;01mNone\u001b[39;00m))\n\u001b[1;32m    604\u001b[0m \u001b[38;5;66;03m# Create the parser.\u001b[39;00m\n\u001b[0;32m--> 605\u001b[0m parser \u001b[38;5;241m=\u001b[39m \u001b[43mTextFileReader\u001b[49m\u001b[43m(\u001b[49m\u001b[43mfilepath_or_buffer\u001b[49m\u001b[43m,\u001b[49m\u001b[43m \u001b[49m\u001b[38;5;241;43m*\u001b[39;49m\u001b[38;5;241;43m*\u001b[39;49m\u001b[43mkwds\u001b[49m\u001b[43m)\u001b[49m\n\u001b[1;32m    607\u001b[0m \u001b[38;5;28;01mif\u001b[39;00m chunksize \u001b[38;5;129;01mor\u001b[39;00m iterator:\n\u001b[1;32m    608\u001b[0m     \u001b[38;5;28;01mreturn\u001b[39;00m parser\n",
      "File \u001b[0;32m/opt/conda/lib/python3.10/site-packages/pandas/io/parsers/readers.py:1442\u001b[0m, in \u001b[0;36mTextFileReader.__init__\u001b[0;34m(self, f, engine, **kwds)\u001b[0m\n\u001b[1;32m   1439\u001b[0m     \u001b[38;5;28mself\u001b[39m\u001b[38;5;241m.\u001b[39moptions[\u001b[38;5;124m\"\u001b[39m\u001b[38;5;124mhas_index_names\u001b[39m\u001b[38;5;124m\"\u001b[39m] \u001b[38;5;241m=\u001b[39m kwds[\u001b[38;5;124m\"\u001b[39m\u001b[38;5;124mhas_index_names\u001b[39m\u001b[38;5;124m\"\u001b[39m]\n\u001b[1;32m   1441\u001b[0m \u001b[38;5;28mself\u001b[39m\u001b[38;5;241m.\u001b[39mhandles: IOHandles \u001b[38;5;241m|\u001b[39m \u001b[38;5;28;01mNone\u001b[39;00m \u001b[38;5;241m=\u001b[39m \u001b[38;5;28;01mNone\u001b[39;00m\n\u001b[0;32m-> 1442\u001b[0m \u001b[38;5;28mself\u001b[39m\u001b[38;5;241m.\u001b[39m_engine \u001b[38;5;241m=\u001b[39m \u001b[38;5;28;43mself\u001b[39;49m\u001b[38;5;241;43m.\u001b[39;49m\u001b[43m_make_engine\u001b[49m\u001b[43m(\u001b[49m\u001b[43mf\u001b[49m\u001b[43m,\u001b[49m\u001b[43m \u001b[49m\u001b[38;5;28;43mself\u001b[39;49m\u001b[38;5;241;43m.\u001b[39;49m\u001b[43mengine\u001b[49m\u001b[43m)\u001b[49m\n",
      "File \u001b[0;32m/opt/conda/lib/python3.10/site-packages/pandas/io/parsers/readers.py:1735\u001b[0m, in \u001b[0;36mTextFileReader._make_engine\u001b[0;34m(self, f, engine)\u001b[0m\n\u001b[1;32m   1733\u001b[0m     \u001b[38;5;28;01mif\u001b[39;00m \u001b[38;5;124m\"\u001b[39m\u001b[38;5;124mb\u001b[39m\u001b[38;5;124m\"\u001b[39m \u001b[38;5;129;01mnot\u001b[39;00m \u001b[38;5;129;01min\u001b[39;00m mode:\n\u001b[1;32m   1734\u001b[0m         mode \u001b[38;5;241m+\u001b[39m\u001b[38;5;241m=\u001b[39m \u001b[38;5;124m\"\u001b[39m\u001b[38;5;124mb\u001b[39m\u001b[38;5;124m\"\u001b[39m\n\u001b[0;32m-> 1735\u001b[0m \u001b[38;5;28mself\u001b[39m\u001b[38;5;241m.\u001b[39mhandles \u001b[38;5;241m=\u001b[39m \u001b[43mget_handle\u001b[49m\u001b[43m(\u001b[49m\n\u001b[1;32m   1736\u001b[0m \u001b[43m    \u001b[49m\u001b[43mf\u001b[49m\u001b[43m,\u001b[49m\n\u001b[1;32m   1737\u001b[0m \u001b[43m    \u001b[49m\u001b[43mmode\u001b[49m\u001b[43m,\u001b[49m\n\u001b[1;32m   1738\u001b[0m \u001b[43m    \u001b[49m\u001b[43mencoding\u001b[49m\u001b[38;5;241;43m=\u001b[39;49m\u001b[38;5;28;43mself\u001b[39;49m\u001b[38;5;241;43m.\u001b[39;49m\u001b[43moptions\u001b[49m\u001b[38;5;241;43m.\u001b[39;49m\u001b[43mget\u001b[49m\u001b[43m(\u001b[49m\u001b[38;5;124;43m\"\u001b[39;49m\u001b[38;5;124;43mencoding\u001b[39;49m\u001b[38;5;124;43m\"\u001b[39;49m\u001b[43m,\u001b[49m\u001b[43m \u001b[49m\u001b[38;5;28;43;01mNone\u001b[39;49;00m\u001b[43m)\u001b[49m\u001b[43m,\u001b[49m\n\u001b[1;32m   1739\u001b[0m \u001b[43m    \u001b[49m\u001b[43mcompression\u001b[49m\u001b[38;5;241;43m=\u001b[39;49m\u001b[38;5;28;43mself\u001b[39;49m\u001b[38;5;241;43m.\u001b[39;49m\u001b[43moptions\u001b[49m\u001b[38;5;241;43m.\u001b[39;49m\u001b[43mget\u001b[49m\u001b[43m(\u001b[49m\u001b[38;5;124;43m\"\u001b[39;49m\u001b[38;5;124;43mcompression\u001b[39;49m\u001b[38;5;124;43m\"\u001b[39;49m\u001b[43m,\u001b[49m\u001b[43m \u001b[49m\u001b[38;5;28;43;01mNone\u001b[39;49;00m\u001b[43m)\u001b[49m\u001b[43m,\u001b[49m\n\u001b[1;32m   1740\u001b[0m \u001b[43m    \u001b[49m\u001b[43mmemory_map\u001b[49m\u001b[38;5;241;43m=\u001b[39;49m\u001b[38;5;28;43mself\u001b[39;49m\u001b[38;5;241;43m.\u001b[39;49m\u001b[43moptions\u001b[49m\u001b[38;5;241;43m.\u001b[39;49m\u001b[43mget\u001b[49m\u001b[43m(\u001b[49m\u001b[38;5;124;43m\"\u001b[39;49m\u001b[38;5;124;43mmemory_map\u001b[39;49m\u001b[38;5;124;43m\"\u001b[39;49m\u001b[43m,\u001b[49m\u001b[43m \u001b[49m\u001b[38;5;28;43;01mFalse\u001b[39;49;00m\u001b[43m)\u001b[49m\u001b[43m,\u001b[49m\n\u001b[1;32m   1741\u001b[0m \u001b[43m    \u001b[49m\u001b[43mis_text\u001b[49m\u001b[38;5;241;43m=\u001b[39;49m\u001b[43mis_text\u001b[49m\u001b[43m,\u001b[49m\n\u001b[1;32m   1742\u001b[0m \u001b[43m    \u001b[49m\u001b[43merrors\u001b[49m\u001b[38;5;241;43m=\u001b[39;49m\u001b[38;5;28;43mself\u001b[39;49m\u001b[38;5;241;43m.\u001b[39;49m\u001b[43moptions\u001b[49m\u001b[38;5;241;43m.\u001b[39;49m\u001b[43mget\u001b[49m\u001b[43m(\u001b[49m\u001b[38;5;124;43m\"\u001b[39;49m\u001b[38;5;124;43mencoding_errors\u001b[39;49m\u001b[38;5;124;43m\"\u001b[39;49m\u001b[43m,\u001b[49m\u001b[43m \u001b[49m\u001b[38;5;124;43m\"\u001b[39;49m\u001b[38;5;124;43mstrict\u001b[39;49m\u001b[38;5;124;43m\"\u001b[39;49m\u001b[43m)\u001b[49m\u001b[43m,\u001b[49m\n\u001b[1;32m   1743\u001b[0m \u001b[43m    \u001b[49m\u001b[43mstorage_options\u001b[49m\u001b[38;5;241;43m=\u001b[39;49m\u001b[38;5;28;43mself\u001b[39;49m\u001b[38;5;241;43m.\u001b[39;49m\u001b[43moptions\u001b[49m\u001b[38;5;241;43m.\u001b[39;49m\u001b[43mget\u001b[49m\u001b[43m(\u001b[49m\u001b[38;5;124;43m\"\u001b[39;49m\u001b[38;5;124;43mstorage_options\u001b[39;49m\u001b[38;5;124;43m\"\u001b[39;49m\u001b[43m,\u001b[49m\u001b[43m \u001b[49m\u001b[38;5;28;43;01mNone\u001b[39;49;00m\u001b[43m)\u001b[49m\u001b[43m,\u001b[49m\n\u001b[1;32m   1744\u001b[0m \u001b[43m\u001b[49m\u001b[43m)\u001b[49m\n\u001b[1;32m   1745\u001b[0m \u001b[38;5;28;01massert\u001b[39;00m \u001b[38;5;28mself\u001b[39m\u001b[38;5;241m.\u001b[39mhandles \u001b[38;5;129;01mis\u001b[39;00m \u001b[38;5;129;01mnot\u001b[39;00m \u001b[38;5;28;01mNone\u001b[39;00m\n\u001b[1;32m   1746\u001b[0m f \u001b[38;5;241m=\u001b[39m \u001b[38;5;28mself\u001b[39m\u001b[38;5;241m.\u001b[39mhandles\u001b[38;5;241m.\u001b[39mhandle\n",
      "File \u001b[0;32m/opt/conda/lib/python3.10/site-packages/pandas/io/common.py:856\u001b[0m, in \u001b[0;36mget_handle\u001b[0;34m(path_or_buf, mode, encoding, compression, memory_map, is_text, errors, storage_options)\u001b[0m\n\u001b[1;32m    851\u001b[0m \u001b[38;5;28;01melif\u001b[39;00m \u001b[38;5;28misinstance\u001b[39m(handle, \u001b[38;5;28mstr\u001b[39m):\n\u001b[1;32m    852\u001b[0m     \u001b[38;5;66;03m# Check whether the filename is to be opened in binary mode.\u001b[39;00m\n\u001b[1;32m    853\u001b[0m     \u001b[38;5;66;03m# Binary mode does not support 'encoding' and 'newline'.\u001b[39;00m\n\u001b[1;32m    854\u001b[0m     \u001b[38;5;28;01mif\u001b[39;00m ioargs\u001b[38;5;241m.\u001b[39mencoding \u001b[38;5;129;01mand\u001b[39;00m \u001b[38;5;124m\"\u001b[39m\u001b[38;5;124mb\u001b[39m\u001b[38;5;124m\"\u001b[39m \u001b[38;5;129;01mnot\u001b[39;00m \u001b[38;5;129;01min\u001b[39;00m ioargs\u001b[38;5;241m.\u001b[39mmode:\n\u001b[1;32m    855\u001b[0m         \u001b[38;5;66;03m# Encoding\u001b[39;00m\n\u001b[0;32m--> 856\u001b[0m         handle \u001b[38;5;241m=\u001b[39m \u001b[38;5;28;43mopen\u001b[39;49m\u001b[43m(\u001b[49m\n\u001b[1;32m    857\u001b[0m \u001b[43m            \u001b[49m\u001b[43mhandle\u001b[49m\u001b[43m,\u001b[49m\n\u001b[1;32m    858\u001b[0m \u001b[43m            \u001b[49m\u001b[43mioargs\u001b[49m\u001b[38;5;241;43m.\u001b[39;49m\u001b[43mmode\u001b[49m\u001b[43m,\u001b[49m\n\u001b[1;32m    859\u001b[0m \u001b[43m            \u001b[49m\u001b[43mencoding\u001b[49m\u001b[38;5;241;43m=\u001b[39;49m\u001b[43mioargs\u001b[49m\u001b[38;5;241;43m.\u001b[39;49m\u001b[43mencoding\u001b[49m\u001b[43m,\u001b[49m\n\u001b[1;32m    860\u001b[0m \u001b[43m            \u001b[49m\u001b[43merrors\u001b[49m\u001b[38;5;241;43m=\u001b[39;49m\u001b[43merrors\u001b[49m\u001b[43m,\u001b[49m\n\u001b[1;32m    861\u001b[0m \u001b[43m            \u001b[49m\u001b[43mnewline\u001b[49m\u001b[38;5;241;43m=\u001b[39;49m\u001b[38;5;124;43m\"\u001b[39;49m\u001b[38;5;124;43m\"\u001b[39;49m\u001b[43m,\u001b[49m\n\u001b[1;32m    862\u001b[0m \u001b[43m        \u001b[49m\u001b[43m)\u001b[49m\n\u001b[1;32m    863\u001b[0m     \u001b[38;5;28;01melse\u001b[39;00m:\n\u001b[1;32m    864\u001b[0m         \u001b[38;5;66;03m# Binary mode\u001b[39;00m\n\u001b[1;32m    865\u001b[0m         handle \u001b[38;5;241m=\u001b[39m \u001b[38;5;28mopen\u001b[39m(handle, ioargs\u001b[38;5;241m.\u001b[39mmode)\n",
      "\u001b[0;31mFileNotFoundError\u001b[0m: [Errno 2] No such file or directory: '../../temporary/B/test.csv'"
     ]
    }
   ],
   "source": [
    "f = pd.read_csv(\"../../temporary/B/test.csv\")"
   ]
  },
  {
   "cell_type": "code",
   "execution_count": 33,
   "id": "16abdef2",
   "metadata": {
    "ExecuteTime": {
     "end_time": "2023-02-22T12:59:21.590880Z",
     "start_time": "2023-02-22T12:59:21.582194Z"
    }
   },
   "outputs": [],
   "source": [
    "encoding=\"utf8\"\n",
    "newline=\"\"\n",
    "delimiter=\",\"\n",
    "quotechar=\"|\""
   ]
  },
  {
   "cell_type": "code",
   "execution_count": 37,
   "id": "97ddaa7c",
   "metadata": {
    "ExecuteTime": {
     "end_time": "2023-02-22T12:59:31.232599Z",
     "start_time": "2023-02-22T12:59:31.227553Z"
    },
    "code_folding": [
     0
    ]
   },
   "outputs": [],
   "source": [
    "def _one_dimensional_csv_to_dict(\n",
    "    file_path, encoding=\"utf8\", newline=\"\", delimiter=\",\", quotechar=\"|\"\n",
    "):\n",
    "    with open(file_path, mode=\"r\", encoding=encoding, newline=newline) as _f:\n",
    "        _reader = csv.reader(_f, delimiter=delimiter, quotechar=quotechar)\n",
    "        _dict = dict(_reader)\n",
    "    return _dict"
   ]
  },
  {
   "cell_type": "code",
   "execution_count": 38,
   "id": "9a436851",
   "metadata": {
    "ExecuteTime": {
     "end_time": "2023-02-22T12:59:31.432415Z",
     "start_time": "2023-02-22T12:59:31.427938Z"
    },
    "code_folding": [
     0
    ]
   },
   "outputs": [],
   "source": [
    "def _one_dimensional_json_to_dict(\n",
    "    file_path,\n",
    "    encoding=\"utf8\",\n",
    "    newline=\"\",\n",
    "):\n",
    "    with open(file_path, mode=\"r\", encoding=encoding, newline=newline) as _f:\n",
    "        _dict = json.load(_f)\n",
    "    return _dict"
   ]
  },
  {
   "cell_type": "code",
   "execution_count": 39,
   "id": "40d03832",
   "metadata": {
    "ExecuteTime": {
     "end_time": "2023-02-22T12:59:31.630725Z",
     "start_time": "2023-02-22T12:59:31.623732Z"
    },
    "code_folding": [
     0,
     5
    ]
   },
   "outputs": [],
   "source": [
    "def _make_test(\n",
    "    file_data: pd.DataFrame,\n",
    "    file_num: int = 2,\n",
    "    file_depth: int = 2,\n",
    "    extension: str = \"csv\",\n",
    "):\n",
    "    _file_nums = [str(_file_num) for _file_num in range(file_num)]\n",
    "\n",
    "    for _file_name in product(_file_nums, repeat=file_depth):\n",
    "        _file_path = f\"{root_path_temporary}/test/{'/'.join(_file_name)}/test.{extension}\"\n",
    "        file_data.to_csv(make_filepath(_file_path), index=False)"
   ]
  },
  {
   "cell_type": "code",
   "execution_count": 40,
   "id": "99ed9c7a",
   "metadata": {
    "ExecuteTime": {
     "end_time": "2023-02-22T12:59:31.831744Z",
     "start_time": "2023-02-22T12:59:31.827824Z"
    }
   },
   "outputs": [],
   "source": [
    "test_df = pd.DataFrame([[1, 2,3 ], [2, 3, 4], [5, 6, 7]])"
   ]
  },
  {
   "cell_type": "code",
   "execution_count": 41,
   "id": "302e7817",
   "metadata": {
    "ExecuteTime": {
     "end_time": "2023-02-22T12:59:32.065386Z",
     "start_time": "2023-02-22T12:59:32.048015Z"
    }
   },
   "outputs": [],
   "source": [
    "_make_test(test_df, file_depth=2)"
   ]
  },
  {
   "cell_type": "code",
   "execution_count": 46,
   "id": "b260792d",
   "metadata": {
    "ExecuteTime": {
     "end_time": "2023-02-22T13:00:04.438018Z",
     "start_time": "2023-02-22T13:00:04.433839Z"
    }
   },
   "outputs": [],
   "source": [
    "field_names= [\"a\", \"b\", \"c\"]\n",
    "index=[\"dim1\", \"dim2\", \"dim3\", \"dim4\"]"
   ]
  },
  {
   "cell_type": "code",
   "execution_count": 58,
   "id": "4a3c4f42",
   "metadata": {
    "ExecuteTime": {
     "end_time": "2023-02-22T13:03:09.876233Z",
     "start_time": "2023-02-22T13:03:09.870874Z"
    }
   },
   "outputs": [],
   "source": [
    "names_keys = {\"ind\": index, \"col\": field_names}"
   ]
  },
  {
   "cell_type": "code",
   "execution_count": 59,
   "id": "f1edd4c3",
   "metadata": {
    "ExecuteTime": {
     "end_time": "2023-02-22T13:03:10.088231Z",
     "start_time": "2023-02-22T13:03:10.078896Z"
    }
   },
   "outputs": [],
   "source": [
    "def read_csv(\n",
    "    file_path, names_keys, encoding=\"utf8\", newline=\"\", delimiter=\",\", quotechar=\"|\"\n",
    "):\n",
    "    if len(names_keys) == 2:\n",
    "        with open(file_path, mode=\"r\", encoding=encoding, newline=newline) as _f:\n",
    "            _dict = dict(\n",
    "                zip(\n",
    "                    list(names_keys.values())[0],\n",
    "                    csv.DictReader(\n",
    "                        _f,\n",
    "                        delimiter=delimiter,\n",
    "                        quotechar=quotechar,\n",
    "                        fieldnames=list(names_keys.values())[1],\n",
    "                    ),\n",
    "                )\n",
    "            )\n",
    "        return MultilayerDict(names_keys, _dict)\n",
    "    elif len(names_keys) == 1:\n",
    "        with open(file_path, mode=\"r\", encoding=encoding, newline=newline) as _f:\n",
    "            _dict = csv.DictReader(\n",
    "                        _f,\n",
    "                        delimiter=delimiter,\n",
    "                        quotechar=quotechar,\n",
    "                        fieldnames=list(names_keys.values())[0],\n",
    "                    )\n",
    "        return MultilayerDict(names_keys, _dict)\n",
    "    else:\n",
    "        raise NotImplementedError(\"length of names_keys must be 1 or 2 \")"
   ]
  },
  {
   "cell_type": "code",
   "execution_count": 62,
   "id": "e7566b3f",
   "metadata": {
    "ExecuteTime": {
     "end_time": "2023-02-22T13:05:06.153223Z",
     "start_time": "2023-02-22T13:05:06.147057Z"
    }
   },
   "outputs": [
    {
     "data": {
      "text/plain": [
       "<MultilayerDict.MultilayerDict at 0x7f016a29d930>"
      ]
     },
     "execution_count": 62,
     "metadata": {},
     "output_type": "execute_result"
    }
   ],
   "source": [
    "_two_dimensional_csv_to_dict(\"/home/jovyan/temporary/test/0/0/test.csv\", names_keys)"
   ]
  },
  {
   "cell_type": "code",
   "execution_count": null,
   "id": "270f242e",
   "metadata": {},
   "outputs": [],
   "source": [
    "def read_dirs(dir_path, extension=\"csv\", basis_depth=\"max\"):\n",
    "    # 読み込みディレクトリの中のファイルパスを探索し,ファイルパスからdictのkeyを生成\n",
    "    _path_dirs = {}\n",
    "    _abs_dir_path = os.path.abspath(dir_path)\n",
    "    for _root, _, _file_names in os.walk(_abs_dir_path, followlinks=True):\n",
    "        if _file_names:\n",
    "            for _file_name in _file_names:\n",
    "                _file_path = f\"{_root}/{_file_name}\"\n",
    "                _file_name = os.path.splitext(os.path.basename(_file_name))[0]\n",
    "                _path_dirs[_file_path] = (_file_path.replace(_abs_dir_path, \"\")).split(\n",
    "                    \"/\"\n",
    "                )[1:]\n",
    "    # 最も深いパスを基準にMultilayerDictを生成する\n",
    "    if basis_depth == \"max\":\n",
    "        _depth = max(map(len, _path_dirs.values()))\n",
    "    elif basis_depth == \"min\":\n",
    "        _depth = min(map(len, _path_dirs.values()))\n",
    "    else:\n",
    "        raise NotImplementedError\n",
    "    _names = range(_depth)\n",
    "    _keys = [list(set(_)) for _ in zip(*_path_dirs.values())]\n",
    "    _md = MultilayerDict(dict(zip(_names, _keys)))\n",
    "    # ファイルの読み込み\n",
    "    if extension == \"csv\":\n",
    "        for _path, _dir_list in _path_dirs.items():\n",
    "            md.update(_dir_list, _one_dimensional_csv_to_dict(_path))\n",
    "    elif extension==\"json\":\n",
    "        for _path, _dir_list in _path_dirs.items():\n",
    "            md.update(_dir_list, _one_dimensional_csv_to_dict(_path))\n",
    "    else:\n",
    "        raise NotImplementedError\n",
    "        \n",
    "    return True"
   ]
  },
  {
   "cell_type": "code",
   "execution_count": 47,
   "id": "9fee2b30",
   "metadata": {
    "ExecuteTime": {
     "end_time": "2023-02-16T13:46:36.077531Z",
     "start_time": "2023-02-16T13:46:36.063542Z"
    }
   },
   "outputs": [],
   "source": [
    "_path_dirs = {}\n",
    "_abs_dir_path = os.path.abspath(dir_path)\n",
    "for _root, _, _file_names in os.walk(_abs_dir_path, followlinks=True):\n",
    "    if _file_names:\n",
    "        for _file_name in _file_names:\n",
    "            _file_path = f\"{_root}/{_file_name}\"\n",
    "            _file_name = os.path.splitext(os.path.basename(_file_name))[0]\n",
    "            _path_dirs[_file_path] = (_file_path.replace(_abs_dir_path, \"\")).split(\"/\")[1:]"
   ]
  },
  {
   "cell_type": "code",
   "execution_count": 48,
   "id": "39aea34a",
   "metadata": {
    "ExecuteTime": {
     "end_time": "2023-02-16T13:46:36.438856Z",
     "start_time": "2023-02-16T13:46:36.426812Z"
    }
   },
   "outputs": [],
   "source": [
    "_depth = max(map(len, _path_dirs.values()))\n",
    "_names = range(_depth)"
   ]
  },
  {
   "cell_type": "code",
   "execution_count": 49,
   "id": "ebd68915",
   "metadata": {
    "ExecuteTime": {
     "end_time": "2023-02-16T13:46:36.688515Z",
     "start_time": "2023-02-16T13:46:36.683626Z"
    }
   },
   "outputs": [],
   "source": [
    "_keys = [list(set(_)) for _ in zip(*_path_dirs.values())]"
   ]
  },
  {
   "cell_type": "code",
   "execution_count": 50,
   "id": "97a2b019",
   "metadata": {
    "ExecuteTime": {
     "end_time": "2023-02-16T13:46:36.984441Z",
     "start_time": "2023-02-16T13:46:36.980897Z"
    }
   },
   "outputs": [],
   "source": [
    "md = MultilayerDict(dict(zip(_names, _keys)))"
   ]
  },
  {
   "cell_type": "code",
   "execution_count": 51,
   "id": "68a4e4ee",
   "metadata": {
    "ExecuteTime": {
     "end_time": "2023-02-16T13:46:37.201732Z",
     "start_time": "2023-02-16T13:46:37.196189Z"
    }
   },
   "outputs": [
    {
     "data": {
      "text/plain": [
       "{'A': {'test2.csv': {}, 'test.csv': {}},\n",
       " 'B': {'test2.csv': {}, 'test.csv': {}}}"
      ]
     },
     "execution_count": 51,
     "metadata": {},
     "output_type": "execute_result"
    }
   ],
   "source": [
    "md.dict"
   ]
  },
  {
   "cell_type": "code",
   "execution_count": 52,
   "id": "fad85c79",
   "metadata": {
    "ExecuteTime": {
     "end_time": "2023-02-16T13:46:37.414742Z",
     "start_time": "2023-02-16T13:46:37.405427Z"
    }
   },
   "outputs": [
    {
     "data": {
      "text/plain": [
       "'/home/jovyan/temporary/B/test'"
      ]
     },
     "execution_count": 52,
     "metadata": {},
     "output_type": "execute_result"
    }
   ],
   "source": [
    "_path"
   ]
  },
  {
   "cell_type": "code",
   "execution_count": 53,
   "id": "fbf6755a",
   "metadata": {
    "ExecuteTime": {
     "end_time": "2023-02-16T13:46:38.017114Z",
     "start_time": "2023-02-16T13:46:38.011579Z"
    }
   },
   "outputs": [],
   "source": [
    "for _path, _dir_list in _path_dirs.items():\n",
    "    md.update(_dir_list, one_dimensional_csv_to_dict(_path))"
   ]
  },
  {
   "cell_type": "code",
   "execution_count": 54,
   "id": "54849d03",
   "metadata": {
    "ExecuteTime": {
     "end_time": "2023-02-16T13:46:42.923434Z",
     "start_time": "2023-02-16T13:46:42.918654Z"
    }
   },
   "outputs": [
    {
     "data": {
      "text/plain": [
       "{'A': {'test2.csv': {'a': ' 1', 'b': ' 2'},\n",
       "  'test.csv': {'a': ' 1', 'b': ' 2'}},\n",
       " 'B': {'test2.csv': {'a': ' 1', 'b': ' 2'},\n",
       "  'test.csv': {'a': ' 1', 'b': ' 2'}}}"
      ]
     },
     "execution_count": 54,
     "metadata": {},
     "output_type": "execute_result"
    }
   ],
   "source": [
    "md.dict"
   ]
  },
  {
   "cell_type": "code",
   "execution_count": null,
   "id": "31dc0de3",
   "metadata": {},
   "outputs": [],
   "source": []
  }
 ],
 "metadata": {
  "kernelspec": {
   "display_name": "Python 3 (ipykernel)",
   "language": "python",
   "name": "python3"
  },
  "language_info": {
   "codemirror_mode": {
    "name": "ipython",
    "version": 3
   },
   "file_extension": ".py",
   "mimetype": "text/x-python",
   "name": "python",
   "nbconvert_exporter": "python",
   "pygments_lexer": "ipython3",
   "version": "3.10.9"
  },
  "toc": {
   "base_numbering": 1,
   "nav_menu": {},
   "number_sections": true,
   "sideBar": true,
   "skip_h1_title": false,
   "title_cell": "Table of Contents",
   "title_sidebar": "Contents",
   "toc_cell": false,
   "toc_position": {},
   "toc_section_display": true,
   "toc_window_display": false
  }
 },
 "nbformat": 4,
 "nbformat_minor": 5
}
