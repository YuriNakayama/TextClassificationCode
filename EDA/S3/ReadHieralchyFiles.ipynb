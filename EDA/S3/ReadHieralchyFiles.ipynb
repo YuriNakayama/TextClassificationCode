{
 "cells": [
  {
   "cell_type": "markdown",
   "id": "dc950a53",
   "metadata": {},
   "source": [
    "# Import"
   ]
  },
  {
   "cell_type": "code",
   "execution_count": 1,
   "id": "090d8719",
   "metadata": {
    "ExecuteTime": {
     "end_time": "2023-02-16T13:24:19.893653Z",
     "start_time": "2023-02-16T13:24:19.453556Z"
    }
   },
   "outputs": [],
   "source": [
    "import csv\n",
    "import json\n",
    "import logging\n",
    "import os\n",
    "import shutil\n",
    "import sys\n",
    "from typing import List\n",
    "from glob import glob\n",
    "\n",
    "import boto3\n",
    "import pandas as pd\n",
    "from botocore.exceptions import ClientError"
   ]
  },
  {
   "cell_type": "markdown",
   "id": "2543f4e4",
   "metadata": {},
   "source": [
    "## Add configuration file"
   ]
  },
  {
   "cell_type": "code",
   "execution_count": 2,
   "id": "f0f02287",
   "metadata": {
    "ExecuteTime": {
     "end_time": "2023-02-16T13:24:19.900947Z",
     "start_time": "2023-02-16T13:24:19.897310Z"
    }
   },
   "outputs": [],
   "source": [
    "sys.path.append(\"/home/jovyan/core/config/\")\n",
    "sys.path.append(\"/home/jovyan/core/util/\")"
   ]
  },
  {
   "cell_type": "code",
   "execution_count": 3,
   "id": "08c511e8",
   "metadata": {
    "ExecuteTime": {
     "end_time": "2023-02-16T13:24:20.415920Z",
     "start_time": "2023-02-16T13:24:19.907309Z"
    }
   },
   "outputs": [],
   "source": [
    "from ALL import config \n",
    "from util import *\n",
    "from MultilayerDict import *"
   ]
  },
  {
   "cell_type": "code",
   "execution_count": null,
   "id": "5cbe2603",
   "metadata": {},
   "outputs": [],
   "source": []
  },
  {
   "cell_type": "code",
   "execution_count": 4,
   "id": "b43d85a0",
   "metadata": {
    "ExecuteTime": {
     "end_time": "2023-02-16T13:24:20.425622Z",
     "start_time": "2023-02-16T13:24:20.418432Z"
    }
   },
   "outputs": [],
   "source": [
    "s3_bucket_name =  \"text-classification-nakayama-bucket\"\n",
    "object_name = \"RawData/reuters/\"\n",
    "root_path = \"/home/jovyan\""
   ]
  },
  {
   "cell_type": "code",
   "execution_count": 5,
   "id": "d9431754",
   "metadata": {
    "ExecuteTime": {
     "end_time": "2023-02-16T13:24:20.438597Z",
     "start_time": "2023-02-16T13:24:20.428988Z"
    }
   },
   "outputs": [],
   "source": [
    "d = {\"temporary\": {\"A\": \"doc\", \"B\": \"tes\"}}"
   ]
  },
  {
   "cell_type": "code",
   "execution_count": 6,
   "id": "cb363048",
   "metadata": {
    "ExecuteTime": {
     "end_time": "2023-02-16T13:24:20.446747Z",
     "start_time": "2023-02-16T13:24:20.440821Z"
    }
   },
   "outputs": [],
   "source": [
    "file_path = \"../../temporary/B/test.csv\"\n",
    "dir_path = \"../../temporary/\""
   ]
  },
  {
   "cell_type": "code",
   "execution_count": 7,
   "id": "18057183",
   "metadata": {
    "ExecuteTime": {
     "end_time": "2023-02-16T13:24:20.461783Z",
     "start_time": "2023-02-16T13:24:20.448720Z"
    }
   },
   "outputs": [],
   "source": [
    "f = pd.read_csv(\"../../temporary/B/test.csv\")"
   ]
  },
  {
   "cell_type": "code",
   "execution_count": 8,
   "id": "02203a5a",
   "metadata": {
    "ExecuteTime": {
     "end_time": "2023-02-16T13:24:20.469257Z",
     "start_time": "2023-02-16T13:24:20.466577Z"
    }
   },
   "outputs": [],
   "source": [
    "encoding=\"utf8\"\n",
    "newline=\"\"\n",
    "delimiter=\",\"\n",
    "quotechar=\"|\""
   ]
  },
  {
   "cell_type": "code",
   "execution_count": 9,
   "id": "97ddaa7c",
   "metadata": {
    "ExecuteTime": {
     "end_time": "2023-02-16T13:24:20.483972Z",
     "start_time": "2023-02-16T13:24:20.471652Z"
    },
    "code_folding": [
     0,
     2
    ]
   },
   "outputs": [],
   "source": [
    "def _one_dimensional_csv_to_dict(\n",
    "    file_path, encoding=\"utf8\", newline=\"\", delimiter=\",\", quotechar=\"|\"\n",
    "):\n",
    "    with open(file_path, mode=\"r\", encoding=encoding, newline=newline) as _f:\n",
    "        _reader = csv.reader(_f, delimiter=delimiter, quotechar=quotechar)\n",
    "        _dict = dict(_reader)\n",
    "    return _dict"
   ]
  },
  {
   "cell_type": "code",
   "execution_count": 10,
   "id": "1ab19577",
   "metadata": {
    "ExecuteTime": {
     "end_time": "2023-02-16T13:24:20.490808Z",
     "start_time": "2023-02-16T13:24:20.486459Z"
    },
    "code_folding": [
     0,
     4
    ]
   },
   "outputs": [],
   "source": [
    "def _one_dimensional_json_to_dict(\n",
    "    file_path,\n",
    "    encoding=\"utf8\",\n",
    "    newline=\"\",\n",
    "):\n",
    "    with open(file_path, mode=\"r\", encoding=encoding, newline=newline) as _f:\n",
    "        _dict = json.load(_f)\n",
    "    return _dict"
   ]
  },
  {
   "cell_type": "code",
   "execution_count": 33,
   "id": "ca264d95",
   "metadata": {
    "ExecuteTime": {
     "end_time": "2023-02-16T13:38:20.051678Z",
     "start_time": "2023-02-16T13:38:20.043847Z"
    }
   },
   "outputs": [
    {
     "data": {
      "text/plain": [
       "'../../temporary/'"
      ]
     },
     "execution_count": 33,
     "metadata": {},
     "output_type": "execute_result"
    }
   ],
   "source": [
    "dir_path"
   ]
  },
  {
   "cell_type": "code",
   "execution_count": null,
   "id": "877c988e",
   "metadata": {},
   "outputs": [],
   "source": [
    "def read_dirs(dir_path, extension=\"csv\", basis_depth=\"max\"):\n",
    "    # 読み込みディレクトリの中のファイルパスを探索し,ファイルパスからdictのkeyを生成\n",
    "    _path_dirs = {}\n",
    "    _abs_dir_path = os.path.abspath(dir_path)\n",
    "    for _root, _, _file_names in os.walk(_abs_dir_path, followlinks=True):\n",
    "        if _file_names:\n",
    "            for _file_name in _file_names:\n",
    "                _file_path = f\"{_root}/{_file_name}\"\n",
    "                _file_name = os.path.splitext(os.path.basename(_file_name))[0]\n",
    "                _path_dirs[_file_path] = (_file_path.replace(_abs_dir_path, \"\")).split(\n",
    "                    \"/\"\n",
    "                )[1:]\n",
    "    # 最も深いパスを基準にMultilayerDictを生成する\n",
    "    if basis_depth == \"max\":\n",
    "        _depth = max(map(len, _path_dirs.values()))\n",
    "    elif basis_depth == \"min\":\n",
    "        _depth = min(map(len, _path_dirs.values()))\n",
    "    else:\n",
    "        raise NotImplementedError\n",
    "    _names = range(_depth)\n",
    "    _keys = [list(set(_)) for _ in zip(*_path_dirs.values())]\n",
    "    _md = MultilayerDict(dict(zip(_names, _keys)))\n",
    "    # ファイルの読み込み\n",
    "    if extension == \"csv\":\n",
    "        for _path, _dir_list in _path_dirs.items():\n",
    "            md.update(_dir_list, _one_dimensional_csv_to_dict(_path))\n",
    "    elif extension==\"json\":\n",
    "        for _path, _dir_list in _path_dirs.items():\n",
    "            md.update(_dir_list, _one_dimensional_csv_to_dict(_path))\n",
    "    else:\n",
    "        raise NotImplementedError\n",
    "        \n",
    "    return True"
   ]
  },
  {
   "cell_type": "code",
   "execution_count": 47,
   "id": "a16dbe2a",
   "metadata": {
    "ExecuteTime": {
     "end_time": "2023-02-16T13:46:36.077531Z",
     "start_time": "2023-02-16T13:46:36.063542Z"
    }
   },
   "outputs": [],
   "source": [
    "_path_dirs = {}\n",
    "_abs_dir_path = os.path.abspath(dir_path)\n",
    "for _root, _, _file_names in os.walk(_abs_dir_path, followlinks=True):\n",
    "    if _file_names:\n",
    "        for _file_name in _file_names:\n",
    "            _file_path = f\"{_root}/{_file_name}\"\n",
    "            _file_name = os.path.splitext(os.path.basename(_file_name))[0]\n",
    "            _path_dirs[_file_path] = (_file_path.replace(_abs_dir_path, \"\")).split(\"/\")[1:]"
   ]
  },
  {
   "cell_type": "code",
   "execution_count": 48,
   "id": "aed844e5",
   "metadata": {
    "ExecuteTime": {
     "end_time": "2023-02-16T13:46:36.438856Z",
     "start_time": "2023-02-16T13:46:36.426812Z"
    }
   },
   "outputs": [],
   "source": [
    "_depth = max(map(len, _path_dirs.values()))\n",
    "_names = range(_depth)"
   ]
  },
  {
   "cell_type": "code",
   "execution_count": 49,
   "id": "8db96331",
   "metadata": {
    "ExecuteTime": {
     "end_time": "2023-02-16T13:46:36.688515Z",
     "start_time": "2023-02-16T13:46:36.683626Z"
    }
   },
   "outputs": [],
   "source": [
    "_keys = [list(set(_)) for _ in zip(*_path_dirs.values())]"
   ]
  },
  {
   "cell_type": "code",
   "execution_count": 50,
   "id": "e08738e8",
   "metadata": {
    "ExecuteTime": {
     "end_time": "2023-02-16T13:46:36.984441Z",
     "start_time": "2023-02-16T13:46:36.980897Z"
    }
   },
   "outputs": [],
   "source": [
    "md = MultilayerDict(dict(zip(_names, _keys)))"
   ]
  },
  {
   "cell_type": "code",
   "execution_count": 51,
   "id": "3e9db7d4",
   "metadata": {
    "ExecuteTime": {
     "end_time": "2023-02-16T13:46:37.201732Z",
     "start_time": "2023-02-16T13:46:37.196189Z"
    }
   },
   "outputs": [
    {
     "data": {
      "text/plain": [
       "{'A': {'test2.csv': {}, 'test.csv': {}},\n",
       " 'B': {'test2.csv': {}, 'test.csv': {}}}"
      ]
     },
     "execution_count": 51,
     "metadata": {},
     "output_type": "execute_result"
    }
   ],
   "source": [
    "md.dict"
   ]
  },
  {
   "cell_type": "code",
   "execution_count": 52,
   "id": "90f2e9bd",
   "metadata": {
    "ExecuteTime": {
     "end_time": "2023-02-16T13:46:37.414742Z",
     "start_time": "2023-02-16T13:46:37.405427Z"
    }
   },
   "outputs": [
    {
     "data": {
      "text/plain": [
       "'/home/jovyan/temporary/B/test'"
      ]
     },
     "execution_count": 52,
     "metadata": {},
     "output_type": "execute_result"
    }
   ],
   "source": [
    "_path"
   ]
  },
  {
   "cell_type": "code",
   "execution_count": 53,
   "id": "ad33411c",
   "metadata": {
    "ExecuteTime": {
     "end_time": "2023-02-16T13:46:38.017114Z",
     "start_time": "2023-02-16T13:46:38.011579Z"
    }
   },
   "outputs": [],
   "source": [
    "for _path, _dir_list in _path_dirs.items():\n",
    "    md.update(_dir_list, one_dimensional_csv_to_dict(_path))"
   ]
  },
  {
   "cell_type": "code",
   "execution_count": 54,
   "id": "de7af8f1",
   "metadata": {
    "ExecuteTime": {
     "end_time": "2023-02-16T13:46:42.923434Z",
     "start_time": "2023-02-16T13:46:42.918654Z"
    }
   },
   "outputs": [
    {
     "data": {
      "text/plain": [
       "{'A': {'test2.csv': {'a': ' 1', 'b': ' 2'},\n",
       "  'test.csv': {'a': ' 1', 'b': ' 2'}},\n",
       " 'B': {'test2.csv': {'a': ' 1', 'b': ' 2'},\n",
       "  'test.csv': {'a': ' 1', 'b': ' 2'}}}"
      ]
     },
     "execution_count": 54,
     "metadata": {},
     "output_type": "execute_result"
    }
   ],
   "source": [
    "md.dict"
   ]
  },
  {
   "cell_type": "code",
   "execution_count": null,
   "id": "94b86908",
   "metadata": {},
   "outputs": [],
   "source": []
  }
 ],
 "metadata": {
  "kernelspec": {
   "display_name": "Python 3 (ipykernel)",
   "language": "python",
   "name": "python3"
  },
  "language_info": {
   "codemirror_mode": {
    "name": "ipython",
    "version": 3
   },
   "file_extension": ".py",
   "mimetype": "text/x-python",
   "name": "python",
   "nbconvert_exporter": "python",
   "pygments_lexer": "ipython3",
   "version": "3.10.9"
  },
  "toc": {
   "base_numbering": 1,
   "nav_menu": {},
   "number_sections": true,
   "sideBar": true,
   "skip_h1_title": false,
   "title_cell": "Table of Contents",
   "title_sidebar": "Contents",
   "toc_cell": false,
   "toc_position": {},
   "toc_section_display": true,
   "toc_window_display": false
  }
 },
 "nbformat": 4,
 "nbformat_minor": 5
}
