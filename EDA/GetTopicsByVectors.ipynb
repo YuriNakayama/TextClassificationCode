{
 "cells": [
  {
   "cell_type": "markdown",
   "id": "416df211",
   "metadata": {},
   "source": [
    "# Import"
   ]
  },
  {
   "cell_type": "code",
   "execution_count": 10,
   "id": "d9b1719a",
   "metadata": {
    "ExecuteTime": {
     "end_time": "2022-10-06T17:51:29.558229Z",
     "start_time": "2022-10-06T17:51:29.518525Z"
    }
   },
   "outputs": [],
   "source": [
    "from glob import glob\n",
    "\n",
    "import matplotlib.pyplot as plt\n",
    "import numpy as np\n",
    "import pandas as pd\n",
    "import seaborn as sns\n",
    "from sklearn.cluster import KMeans\n",
    "from sklearn.metrics import adjusted_mutual_info_score\n",
    "from sklearn.metrics.pairwise import cosine_similarity\n",
    "from numpy import linalg as LA\n",
    "from tqdm import tqdm"
   ]
  },
  {
   "cell_type": "markdown",
   "id": "640db692",
   "metadata": {},
   "source": [
    "# Functions"
   ]
  },
  {
   "cell_type": "code",
   "execution_count": 2,
   "id": "f8e9dc1d",
   "metadata": {
    "ExecuteTime": {
     "end_time": "2022-10-06T17:40:53.463508Z",
     "start_time": "2022-10-06T17:40:53.435878Z"
    }
   },
   "outputs": [],
   "source": [
    "def centralize_array(array):\n",
    "    return array - np.mean(array, axis=0)"
   ]
  },
  {
   "cell_type": "code",
   "execution_count": 3,
   "id": "2640d40c",
   "metadata": {
    "ExecuteTime": {
     "end_time": "2022-10-06T17:41:00.030498Z",
     "start_time": "2022-10-06T17:41:00.015379Z"
    }
   },
   "outputs": [],
   "source": [
    "def normarize_array(array):\n",
    "    return array / np.sqrt(np.sum(array * array, axis=1).reshape(-1, 1))"
   ]
  },
  {
   "cell_type": "code",
   "execution_count": 4,
   "id": "292aa665",
   "metadata": {
    "ExecuteTime": {
     "end_time": "2022-10-06T17:41:08.439042Z",
     "start_time": "2022-10-06T17:41:08.420428Z"
    }
   },
   "outputs": [],
   "source": [
    "def normarize_vector(vector):\n",
    "    return vector / np.sqrt(np.sum(vector * vector))"
   ]
  },
  {
   "cell_type": "code",
   "execution_count": 5,
   "id": "5894fcda",
   "metadata": {
    "ExecuteTime": {
     "end_time": "2022-10-06T17:41:12.074906Z",
     "start_time": "2022-10-06T17:41:12.052492Z"
    }
   },
   "outputs": [],
   "source": [
    "def get_average_vector(vectors):\n",
    "    sum_vector = np.sum(vectors, axis=0)\n",
    "    return normarize_vector(sum_vector)"
   ]
  },
  {
   "cell_type": "markdown",
   "id": "3b29e94f",
   "metadata": {},
   "source": [
    "# Read data"
   ]
  },
  {
   "cell_type": "code",
   "execution_count": 6,
   "id": "89c96521",
   "metadata": {
    "ExecuteTime": {
     "end_time": "2022-10-06T17:41:32.911682Z",
     "start_time": "2022-10-06T17:41:31.021991Z"
    }
   },
   "outputs": [],
   "source": [
    "ag_news_df = pd.read_csv(\n",
    "    \"../data/CharCnn_Keras-master/data/ag_news_csv/train.csv\",\n",
    "    header=None,\n",
    "    names=[\"class\", \"title\", \"description\"],\n",
    ")"
   ]
  },
  {
   "cell_type": "code",
   "execution_count": 7,
   "id": "47ebafee",
   "metadata": {
    "ExecuteTime": {
     "end_time": "2022-10-06T17:41:35.817465Z",
     "start_time": "2022-10-06T17:41:35.802038Z"
    }
   },
   "outputs": [],
   "source": [
    "dim_nums = [2, 3, 4, 5, 6, 7, 8, 9, 10, 20, 40, 80, 160, 320, 640]"
   ]
  },
  {
   "cell_type": "code",
   "execution_count": 8,
   "id": "09ebf67a",
   "metadata": {
    "ExecuteTime": {
     "end_time": "2022-10-06T17:41:40.152626Z",
     "start_time": "2022-10-06T17:41:40.140335Z"
    }
   },
   "outputs": [],
   "source": [
    "class_nums = range(1, 5)"
   ]
  },
  {
   "cell_type": "code",
   "execution_count": 9,
   "id": "341681a7",
   "metadata": {
    "ExecuteTime": {
     "end_time": "2022-10-06T17:43:53.723444Z",
     "start_time": "2022-10-06T17:43:53.697027Z"
    }
   },
   "outputs": [],
   "source": [
    "def get_kmeans(vectors, n_clusters):\n",
    "    mat = np.stack(vectors)\n",
    "    kmeans = KMeans(n_clusters=n_clusters)\n",
    "    pred = kmeans.fit_predict(mat)\n",
    "    return pred"
   ]
  },
  {
   "cell_type": "code",
   "execution_count": 13,
   "id": "7d03d4c5",
   "metadata": {
    "ExecuteTime": {
     "end_time": "2022-10-06T17:53:33.695203Z",
     "start_time": "2022-10-06T17:53:33.662285Z"
    }
   },
   "outputs": [],
   "source": [
    "label = ag_news_df[\"class\"].to_numpy()"
   ]
  },
  {
   "cell_type": "code",
   "execution_count": 15,
   "id": "81482788",
   "metadata": {
    "ExecuteTime": {
     "end_time": "2022-10-06T18:18:21.657566Z",
     "start_time": "2022-10-06T17:53:57.406013Z"
    }
   },
   "outputs": [
    {
     "name": "stderr",
     "output_type": "stream",
     "text": [
      "100%|██████████| 15/15 [24:24<00:00, 97.61s/it] \n"
     ]
    }
   ],
   "source": [
    "#cosine sim\n",
    "MI = dict()\n",
    "for dim_num in tqdm(dim_nums):\n",
    "    # read vectors\n",
    "    text_vectors = np.loadtxt(f\"./data/vector/{dim_num}.csv\", delimiter=',')\n",
    "    #preprocessing\n",
    "    centralized_vectors = centralize_array(text_vectors)\n",
    "    normarized_vectors = normarize_array(centralized_vectors)\n",
    "    # get topics by kmeans\n",
    "    pred = get_kmeans(normarized_vectors, 4)\n",
    "    # calc mutual information\n",
    "    MI[dim_num] = adjusted_mutual_info_score(label, pred)"
   ]
  },
  {
   "cell_type": "code",
   "execution_count": 16,
   "id": "99639276",
   "metadata": {
    "ExecuteTime": {
     "end_time": "2022-10-06T18:18:21.709207Z",
     "start_time": "2022-10-06T18:18:21.678956Z"
    }
   },
   "outputs": [],
   "source": [
    "MI = pd.DataFrame.from_dict(MI, orient=\"index\")\n",
    "MI.columns=[\"MI\"]"
   ]
  },
  {
   "cell_type": "code",
   "execution_count": 17,
   "id": "57c9e0ce",
   "metadata": {
    "ExecuteTime": {
     "end_time": "2022-10-06T18:18:21.800877Z",
     "start_time": "2022-10-06T18:18:21.721010Z"
    }
   },
   "outputs": [],
   "source": [
    "MI.to_csv('./data/MI_centralized.csv')"
   ]
  },
  {
   "cell_type": "code",
   "execution_count": 18,
   "id": "d45f0c10",
   "metadata": {
    "ExecuteTime": {
     "end_time": "2022-10-06T18:19:19.871852Z",
     "start_time": "2022-10-06T18:19:19.784758Z"
    }
   },
   "outputs": [
    {
     "data": {
      "text/html": [
       "<div>\n",
       "<style scoped>\n",
       "    .dataframe tbody tr th:only-of-type {\n",
       "        vertical-align: middle;\n",
       "    }\n",
       "\n",
       "    .dataframe tbody tr th {\n",
       "        vertical-align: top;\n",
       "    }\n",
       "\n",
       "    .dataframe thead th {\n",
       "        text-align: right;\n",
       "    }\n",
       "</style>\n",
       "<table border=\"1\" class=\"dataframe\">\n",
       "  <thead>\n",
       "    <tr style=\"text-align: right;\">\n",
       "      <th></th>\n",
       "      <th>MI</th>\n",
       "    </tr>\n",
       "  </thead>\n",
       "  <tbody>\n",
       "    <tr>\n",
       "      <th>2</th>\n",
       "      <td>0.192199</td>\n",
       "    </tr>\n",
       "    <tr>\n",
       "      <th>3</th>\n",
       "      <td>0.302315</td>\n",
       "    </tr>\n",
       "    <tr>\n",
       "      <th>4</th>\n",
       "      <td>0.424370</td>\n",
       "    </tr>\n",
       "    <tr>\n",
       "      <th>5</th>\n",
       "      <td>0.208206</td>\n",
       "    </tr>\n",
       "    <tr>\n",
       "      <th>6</th>\n",
       "      <td>0.427343</td>\n",
       "    </tr>\n",
       "    <tr>\n",
       "      <th>7</th>\n",
       "      <td>0.421215</td>\n",
       "    </tr>\n",
       "    <tr>\n",
       "      <th>8</th>\n",
       "      <td>0.419457</td>\n",
       "    </tr>\n",
       "    <tr>\n",
       "      <th>9</th>\n",
       "      <td>0.419281</td>\n",
       "    </tr>\n",
       "    <tr>\n",
       "      <th>10</th>\n",
       "      <td>0.402986</td>\n",
       "    </tr>\n",
       "    <tr>\n",
       "      <th>20</th>\n",
       "      <td>0.202808</td>\n",
       "    </tr>\n",
       "    <tr>\n",
       "      <th>40</th>\n",
       "      <td>0.005903</td>\n",
       "    </tr>\n",
       "    <tr>\n",
       "      <th>80</th>\n",
       "      <td>0.001592</td>\n",
       "    </tr>\n",
       "    <tr>\n",
       "      <th>160</th>\n",
       "      <td>0.003373</td>\n",
       "    </tr>\n",
       "    <tr>\n",
       "      <th>320</th>\n",
       "      <td>0.003894</td>\n",
       "    </tr>\n",
       "    <tr>\n",
       "      <th>640</th>\n",
       "      <td>0.003784</td>\n",
       "    </tr>\n",
       "  </tbody>\n",
       "</table>\n",
       "</div>"
      ],
      "text/plain": [
       "           MI\n",
       "2    0.192199\n",
       "3    0.302315\n",
       "4    0.424370\n",
       "5    0.208206\n",
       "6    0.427343\n",
       "7    0.421215\n",
       "8    0.419457\n",
       "9    0.419281\n",
       "10   0.402986\n",
       "20   0.202808\n",
       "40   0.005903\n",
       "80   0.001592\n",
       "160  0.003373\n",
       "320  0.003894\n",
       "640  0.003784"
      ]
     },
     "execution_count": 18,
     "metadata": {},
     "output_type": "execute_result"
    }
   ],
   "source": [
    "MI"
   ]
  },
  {
   "cell_type": "code",
   "execution_count": null,
   "id": "4f645d13",
   "metadata": {},
   "outputs": [],
   "source": []
  }
 ],
 "metadata": {
  "kernelspec": {
   "display_name": "Python 3 (ipykernel)",
   "language": "python",
   "name": "python3"
  },
  "language_info": {
   "codemirror_mode": {
    "name": "ipython",
    "version": 3
   },
   "file_extension": ".py",
   "mimetype": "text/x-python",
   "name": "python",
   "nbconvert_exporter": "python",
   "pygments_lexer": "ipython3",
   "version": "3.10.6"
  },
  "toc": {
   "base_numbering": 1,
   "nav_menu": {},
   "number_sections": true,
   "sideBar": true,
   "skip_h1_title": false,
   "title_cell": "Table of Contents",
   "title_sidebar": "Contents",
   "toc_cell": false,
   "toc_position": {},
   "toc_section_display": true,
   "toc_window_display": false
  }
 },
 "nbformat": 4,
 "nbformat_minor": 5
}
