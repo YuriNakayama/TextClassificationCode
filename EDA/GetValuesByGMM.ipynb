{
 "cells": [
  {
   "cell_type": "markdown",
   "id": "79844e26",
   "metadata": {},
   "source": [
    "# Import"
   ]
  },
  {
   "cell_type": "code",
   "execution_count": 1,
   "id": "6e6b8f30",
   "metadata": {
    "ExecuteTime": {
     "end_time": "2022-10-28T05:05:53.502746Z",
     "start_time": "2022-10-28T05:05:44.106343Z"
    }
   },
   "outputs": [
    {
     "name": "stderr",
     "output_type": "stream",
     "text": [
      "<jemalloc>: MADV_DONTNEED does not work (memset will be used instead)\n",
      "<jemalloc>: (This is the expected behaviour if you are running under QEMU)\n"
     ]
    }
   ],
   "source": [
    "import csv\n",
    "import os\n",
    "from glob import glob\n",
    "\n",
    "import matplotlib.mlab as mlab\n",
    "import matplotlib.pyplot as plt\n",
    "import numpy as np\n",
    "import pandas as pd\n",
    "import seaborn as sns\n",
    "from numpy import linalg as LA\n",
    "from sklearn.cluster import KMeans\n",
    "from sklearn.metrics import adjusted_mutual_info_score\n",
    "from sklearn.metrics.pairwise import cosine_similarity\n",
    "from sklearn.mixture import GaussianMixture\n",
    "from tqdm import tqdm"
   ]
  },
  {
   "cell_type": "markdown",
   "id": "a2df58ce",
   "metadata": {},
   "source": [
    "# Functions"
   ]
  },
  {
   "cell_type": "code",
   "execution_count": 2,
   "id": "68b65fff",
   "metadata": {
    "ExecuteTime": {
     "end_time": "2022-10-28T05:05:53.622013Z",
     "start_time": "2022-10-28T05:05:53.581082Z"
    }
   },
   "outputs": [],
   "source": [
    "def centralize_array(array):\n",
    "    return array - np.mean(array, axis=0)"
   ]
  },
  {
   "cell_type": "code",
   "execution_count": 3,
   "id": "9479c965",
   "metadata": {
    "ExecuteTime": {
     "end_time": "2022-10-28T05:05:53.713618Z",
     "start_time": "2022-10-28T05:05:53.668031Z"
    }
   },
   "outputs": [],
   "source": [
    "def normarize_array(array):\n",
    "    return array / np.sqrt(np.sum(array * array, axis=1).reshape(-1, 1))"
   ]
  },
  {
   "cell_type": "code",
   "execution_count": 4,
   "id": "033a6224",
   "metadata": {
    "ExecuteTime": {
     "end_time": "2022-10-28T05:05:53.811101Z",
     "start_time": "2022-10-28T05:05:53.769034Z"
    }
   },
   "outputs": [],
   "source": [
    "def normarize_vector(vector):\n",
    "    return vector / np.sqrt(np.sum(vector * vector))"
   ]
  },
  {
   "cell_type": "code",
   "execution_count": 5,
   "id": "b934f994",
   "metadata": {
    "ExecuteTime": {
     "end_time": "2022-10-28T05:05:53.889270Z",
     "start_time": "2022-10-28T05:05:53.851195Z"
    }
   },
   "outputs": [],
   "source": [
    "def get_average_vector(vectors):\n",
    "    sum_vector = np.sum(vectors, axis=0)\n",
    "    return normarize_vector(sum_vector)"
   ]
  },
  {
   "cell_type": "markdown",
   "id": "c2412f8a",
   "metadata": {},
   "source": [
    "# Read data"
   ]
  },
  {
   "cell_type": "code",
   "execution_count": 6,
   "id": "3fea29b6",
   "metadata": {
    "ExecuteTime": {
     "end_time": "2022-10-28T05:05:56.769790Z",
     "start_time": "2022-10-28T05:05:53.905153Z"
    }
   },
   "outputs": [],
   "source": [
    "ag_news_df = pd.read_csv(\n",
    "    \"../data/CharCnn_Keras-master/data/ag_news_csv/train.csv\",\n",
    "    header=None,\n",
    "    names=[\"class\", \"title\", \"description\"],\n",
    ")"
   ]
  },
  {
   "cell_type": "code",
   "execution_count": 7,
   "id": "88dc49b1",
   "metadata": {
    "ExecuteTime": {
     "end_time": "2022-10-28T05:05:56.855911Z",
     "start_time": "2022-10-28T05:05:56.810269Z"
    }
   },
   "outputs": [],
   "source": [
    "label = ag_news_df[\"class\"].to_numpy()"
   ]
  },
  {
   "cell_type": "code",
   "execution_count": 8,
   "id": "92090ec0",
   "metadata": {
    "ExecuteTime": {
     "end_time": "2022-10-28T05:05:56.926146Z",
     "start_time": "2022-10-28T05:05:56.872766Z"
    }
   },
   "outputs": [],
   "source": [
    "dim_nums = [2, 3, 4, 5, 6, 7, 8, 9, 10, 20, 40, 80, 160, 320, 640]"
   ]
  },
  {
   "cell_type": "code",
   "execution_count": 9,
   "id": "6e0cc787",
   "metadata": {
    "ExecuteTime": {
     "end_time": "2022-10-28T05:05:57.164379Z",
     "start_time": "2022-10-28T05:05:56.943395Z"
    }
   },
   "outputs": [],
   "source": [
    "class_nums = range(1, 5)"
   ]
  },
  {
   "cell_type": "markdown",
   "id": "9019b51a",
   "metadata": {},
   "source": [
    "# "
   ]
  },
  {
   "cell_type": "code",
   "execution_count": 10,
   "id": "e3e47d3a",
   "metadata": {
    "ExecuteTime": {
     "end_time": "2022-10-28T05:05:57.281793Z",
     "start_time": "2022-10-28T05:05:57.192030Z"
    }
   },
   "outputs": [],
   "source": [
    "model_num = 1"
   ]
  },
  {
   "cell_type": "code",
   "execution_count": 11,
   "id": "22a77dde",
   "metadata": {
    "ExecuteTime": {
     "end_time": "2022-10-28T05:23:48.557376Z",
     "start_time": "2022-10-28T05:05:57.295336Z"
    }
   },
   "outputs": [
    {
     "name": "stderr",
     "output_type": "stream",
     "text": [
      "  0%|          | 0/1 [00:00<?, ?it/s]\n",
      "  0%|          | 0/15 [00:00<?, ?it/s]\u001b[A\n",
      "  7%|▋         | 1/15 [00:07<01:45,  7.55s/it]\u001b[A\n",
      " 13%|█▎        | 2/15 [00:16<01:46,  8.19s/it]\u001b[A\n",
      " 20%|██        | 3/15 [00:26<01:51,  9.26s/it]\u001b[A\n",
      " 27%|██▋       | 4/15 [00:35<01:38,  9.00s/it]\u001b[A\n",
      " 33%|███▎      | 5/15 [00:45<01:33,  9.39s/it]\u001b[A\n",
      " 40%|████      | 6/15 [00:55<01:27,  9.77s/it]\u001b[A\n",
      " 47%|████▋     | 7/15 [01:07<01:21, 10.20s/it]\u001b[A\n",
      " 53%|█████▎    | 8/15 [01:19<01:16, 10.95s/it]\u001b[A\n",
      " 60%|██████    | 9/15 [01:30<01:06, 11.05s/it]\u001b[A\n",
      " 67%|██████▋   | 10/15 [01:54<01:14, 14.89s/it]\u001b[A\n",
      " 73%|███████▎  | 11/15 [02:27<01:22, 20.58s/it]\u001b[A\n",
      " 80%|████████  | 12/15 [03:35<01:44, 34.87s/it]\u001b[A\n",
      " 87%|████████▋ | 13/15 [05:55<02:13, 66.88s/it]\u001b[A\n",
      " 93%|█████████▎| 14/15 [09:40<01:54, 114.63s/it]\u001b[A\n",
      "100%|██████████| 15/15 [17:51<00:00, 71.41s/it] \u001b[A\n",
      "100%|██████████| 1/1 [17:51<00:00, 1071.15s/it]\n"
     ]
    }
   ],
   "source": [
    "for count in tqdm(range(model_num)):\n",
    "    MI = dict()\n",
    "    AIC = dict()\n",
    "    BIC = dict()\n",
    "    LogL = dict()\n",
    "    for dim_num in tqdm(dim_nums):\n",
    "        # read vectors\n",
    "        text_vectors = np.loadtxt(\n",
    "            f\"../DistanceMatrix/data/vector/{dim_num}.csv\", delimiter=\",\"\n",
    "        )\n",
    "        # preprocessing\n",
    "        centralized_vectors = centralize_array(text_vectors)\n",
    "        normarized_vectors = normarize_array(centralized_vectors)\n",
    "        # get class distance matrix\n",
    "        gmm = GaussianMixture(\n",
    "            n_components=4, covariance_type=\"spherical\", random_state=count\n",
    "        )\n",
    "        gmm.fit(normarized_vectors)\n",
    "        pred = gmm.predict(normarized_vectors)\n",
    "        # save prediction\n",
    "        os.makedirs(f\"./data/gmm_pred/{dim_num}/\", exist_ok=True)\n",
    "        with open(f\"./data/gmm_pred/{dim_num}/{count}.csv\", \"w\") as f:\n",
    "            writer = csv.writer(f)\n",
    "            writer.writerow(pred)\n",
    "#         # get static values\n",
    "#         MI[dim_num] = adjusted_mutual_info_score(label, pred)\n",
    "#         AIC[dim_num] = gmm.aic(normarized_vectors)\n",
    "#         BIC[dim_num] = gmm.bic(normarized_vectors)\n",
    "#         LogL[dim_num] = gmm.score(normarized_vectors, label)\n",
    "#     scores = pd.DataFrame(\n",
    "#         [MI.values(), AIC.values(), BIC.values(), LogL.values()],\n",
    "#         columns=dim_nums,\n",
    "#         index=[\"MI\", \"AIC\", \"BIC\", \"LogLikelyhood\"],\n",
    "#     )\n",
    "#     scores.to_csv(f\"./data/gmm_score/{count}.csv\")"
   ]
  },
  {
   "cell_type": "code",
   "execution_count": null,
   "id": "7e188d6e",
   "metadata": {},
   "outputs": [],
   "source": []
  }
 ],
 "metadata": {
  "kernelspec": {
   "display_name": "Python 3 (ipykernel)",
   "language": "python",
   "name": "python3"
  },
  "language_info": {
   "codemirror_mode": {
    "name": "ipython",
    "version": 3
   },
   "file_extension": ".py",
   "mimetype": "text/x-python",
   "name": "python",
   "nbconvert_exporter": "python",
   "pygments_lexer": "ipython3",
   "version": "3.10.6"
  },
  "toc": {
   "base_numbering": 1,
   "nav_menu": {},
   "number_sections": true,
   "sideBar": true,
   "skip_h1_title": false,
   "title_cell": "Table of Contents",
   "title_sidebar": "Contents",
   "toc_cell": false,
   "toc_position": {},
   "toc_section_display": true,
   "toc_window_display": false
  }
 },
 "nbformat": 4,
 "nbformat_minor": 5
}
