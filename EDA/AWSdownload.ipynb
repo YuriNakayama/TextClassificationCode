{
 "cells": [
  {
   "cell_type": "code",
   "execution_count": 3,
   "id": "70057d11",
   "metadata": {
    "ExecuteTime": {
     "end_time": "2023-01-28T06:20:12.510784Z",
     "start_time": "2023-01-28T06:20:12.053797Z"
    }
   },
   "outputs": [],
   "source": [
    "import logging\n",
    "import boto3\n",
    "from botocore.exceptions import ClientError\n",
    "import os"
   ]
  },
  {
   "cell_type": "code",
   "execution_count": 4,
   "id": "20411f24",
   "metadata": {
    "ExecuteTime": {
     "end_time": "2023-01-28T06:20:12.518378Z",
     "start_time": "2023-01-28T06:20:12.513518Z"
    }
   },
   "outputs": [],
   "source": [
    "def upload_file(file_name, bucket, object_name=None):\n",
    "    \"\"\"Upload a file to an S3 bucket\n",
    "\n",
    "    :param file_name: File to upload\n",
    "    :param bucket: Bucket to upload to\n",
    "    :param object_name: S3 object name. If not specified then file_name is used\n",
    "    :return: True if file was uploaded, else False\n",
    "    \"\"\"\n",
    "\n",
    "    # If S3 object_name was not specified, use file_name\n",
    "    if object_name is None:\n",
    "        object_name = os.path.basename(file_name)\n",
    "\n",
    "    # Upload the file\n",
    "    s3_client = boto3.client('s3')\n",
    "    try:\n",
    "        response = s3_client.upload_file(file_name, bucket, object_name)\n",
    "    except ClientError as e:\n",
    "        logging.error(e)\n",
    "        return False\n",
    "    return True"
   ]
  },
  {
   "cell_type": "code",
   "execution_count": 5,
   "id": "31ac5c78",
   "metadata": {
    "ExecuteTime": {
     "end_time": "2023-01-28T06:21:47.547501Z",
     "start_time": "2023-01-28T06:21:46.353174Z"
    }
   },
   "outputs": [],
   "source": [
    "s3_client = boto3.client('s3')"
   ]
  },
  {
   "cell_type": "code",
   "execution_count": 6,
   "id": "796a577e",
   "metadata": {
    "ExecuteTime": {
     "end_time": "2023-01-28T06:22:46.648401Z",
     "start_time": "2023-01-28T06:22:46.098267Z"
    }
   },
   "outputs": [
    {
     "data": {
      "text/plain": [
       "True"
      ]
     },
     "execution_count": 6,
     "metadata": {},
     "output_type": "execute_result"
    }
   ],
   "source": [
    "upload_file(\"../data/CharCnn_Keras-master.zip\", \"text-classification-nakayama-bucket\")"
   ]
  },
  {
   "cell_type": "code",
   "execution_count": 9,
   "id": "d354ccfe",
   "metadata": {
    "ExecuteTime": {
     "end_time": "2023-01-28T09:39:58.527631Z",
     "start_time": "2023-01-28T09:39:58.378486Z"
    }
   },
   "outputs": [],
   "source": [
    "object_name=None\n",
    "s3_client.download_file(\"text-classification-nakayama-bucket\",\"BERT.pdf\", \"BERT.pdf\")"
   ]
  },
  {
   "cell_type": "code",
   "execution_count": null,
   "id": "47c2c5d7",
   "metadata": {},
   "outputs": [],
   "source": []
  }
 ],
 "metadata": {
  "kernelspec": {
   "display_name": "Python 3 (ipykernel)",
   "language": "python",
   "name": "python3"
  },
  "language_info": {
   "codemirror_mode": {
    "name": "ipython",
    "version": 3
   },
   "file_extension": ".py",
   "mimetype": "text/x-python",
   "name": "python",
   "nbconvert_exporter": "python",
   "pygments_lexer": "ipython3",
   "version": "3.10.8"
  },
  "toc": {
   "base_numbering": 1,
   "nav_menu": {},
   "number_sections": true,
   "sideBar": true,
   "skip_h1_title": false,
   "title_cell": "Table of Contents",
   "title_sidebar": "Contents",
   "toc_cell": false,
   "toc_position": {},
   "toc_section_display": true,
   "toc_window_display": false
  }
 },
 "nbformat": 4,
 "nbformat_minor": 5
}
