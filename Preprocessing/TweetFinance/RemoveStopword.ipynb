{
 "cells": [
  {
   "cell_type": "markdown",
   "id": "b95f9187",
   "metadata": {},
   "source": [
    "# Import"
   ]
  },
  {
   "cell_type": "code",
   "execution_count": 21,
   "id": "80a85ab5",
   "metadata": {
    "ExecuteTime": {
     "end_time": "2023-02-13T12:29:38.532140Z",
     "start_time": "2023-02-13T12:29:38.526570Z"
    }
   },
   "outputs": [],
   "source": [
    "import csv\n",
    "import os\n",
    "import re\n",
    "import sys\n",
    "\n",
    "import numpy as np\n",
    "import pandas as pd\n",
    "from nltk import download, word_tokenize\n",
    "from nltk.corpus import stopwords\n",
    "from stop_words import get_stop_words\n",
    "from tqdm import tqdm\n",
    "\n",
    "from urlextract import URLExtract"
   ]
  },
  {
   "cell_type": "markdown",
   "id": "2543f4e4",
   "metadata": {},
   "source": [
    "## Add configuration file"
   ]
  },
  {
   "cell_type": "code",
   "execution_count": 22,
   "id": "f0f02287",
   "metadata": {
    "ExecuteTime": {
     "end_time": "2023-02-13T12:29:39.103338Z",
     "start_time": "2023-02-13T12:29:39.099020Z"
    }
   },
   "outputs": [],
   "source": [
    "sys.path.append(\"/home/jovyan/core/config/\")\n",
    "sys.path.append(\"/home/jovyan/core/util/\")"
   ]
  },
  {
   "cell_type": "code",
   "execution_count": 23,
   "id": "08c511e8",
   "metadata": {
    "ExecuteTime": {
     "end_time": "2023-02-13T12:29:39.185983Z",
     "start_time": "2023-02-13T12:29:39.182158Z"
    }
   },
   "outputs": [],
   "source": [
    "from ALL import config \n",
    "from util import *"
   ]
  },
  {
   "cell_type": "markdown",
   "id": "e0cf6da0",
   "metadata": {},
   "source": [
    "## Set condition"
   ]
  },
  {
   "cell_type": "code",
   "execution_count": 24,
   "id": "9d870465",
   "metadata": {
    "ExecuteTime": {
     "end_time": "2023-02-13T12:29:39.352877Z",
     "start_time": "2023-02-13T12:29:39.347929Z"
    }
   },
   "outputs": [],
   "source": [
    "tqdm.pandas()\n",
    "pd.set_option(\"display.max_columns\", 100)\n",
    "pd.set_option(\"display.max_rows\", 50)"
   ]
  },
  {
   "cell_type": "code",
   "execution_count": 25,
   "id": "d3dda19f",
   "metadata": {
    "ExecuteTime": {
     "end_time": "2023-02-13T12:29:39.435247Z",
     "start_time": "2023-02-13T12:29:39.431148Z"
    }
   },
   "outputs": [],
   "source": [
    "s3 = S3Manager()"
   ]
  },
  {
   "cell_type": "markdown",
   "id": "52c60a4f",
   "metadata": {},
   "source": [
    "# Read data"
   ]
  },
  {
   "cell_type": "code",
   "execution_count": 26,
   "id": "623b1f51",
   "metadata": {
    "ExecuteTime": {
     "end_time": "2023-02-13T12:29:40.132688Z",
     "start_time": "2023-02-13T12:29:39.598265Z"
    }
   },
   "outputs": [],
   "source": [
    "df_path = s3.download(\"DataShaping/TweetFinance/master.csv\")"
   ]
  },
  {
   "cell_type": "code",
   "execution_count": 27,
   "id": "7e3df888",
   "metadata": {
    "ExecuteTime": {
     "end_time": "2023-02-13T12:29:40.263044Z",
     "start_time": "2023-02-13T12:29:40.135631Z"
    },
    "scrolled": true
   },
   "outputs": [],
   "source": [
    "df = pd.read_csv(df_path[0], index_col=0)"
   ]
  },
  {
   "cell_type": "code",
   "execution_count": 28,
   "id": "ae147525",
   "metadata": {
    "ExecuteTime": {
     "end_time": "2023-02-13T12:29:40.527289Z",
     "start_time": "2023-02-13T12:29:40.265449Z"
    }
   },
   "outputs": [],
   "source": [
    "labels_path = s3.download(\"DataShaping/TweetFinance/class.csv\")"
   ]
  },
  {
   "cell_type": "code",
   "execution_count": 29,
   "id": "95389cd0",
   "metadata": {
    "ExecuteTime": {
     "end_time": "2023-02-13T12:29:40.534727Z",
     "start_time": "2023-02-13T12:29:40.530259Z"
    }
   },
   "outputs": [],
   "source": [
    "with open(labels_path[0], mode=\"r\") as f:\n",
    "    reader = csv.reader(f)\n",
    "    class_labels = [label for label in reader]"
   ]
  },
  {
   "cell_type": "markdown",
   "id": "3bbf34bf",
   "metadata": {},
   "source": [
    "# Word tokinize"
   ]
  },
  {
   "cell_type": "code",
   "execution_count": 30,
   "id": "68eaaacf",
   "metadata": {
    "ExecuteTime": {
     "end_time": "2023-02-13T12:29:41.057874Z",
     "start_time": "2023-02-13T12:29:40.536660Z"
    }
   },
   "outputs": [
    {
     "name": "stderr",
     "output_type": "stream",
     "text": [
      "[nltk_data] Downloading package punkt to /home/jovyan/nltk_data...\n",
      "[nltk_data]   Unzipping tokenizers/punkt.zip.\n",
      "[nltk_data] Downloading package stopwords to /home/jovyan/nltk_data...\n",
      "[nltk_data]   Unzipping corpora/stopwords.zip.\n"
     ]
    },
    {
     "data": {
      "text/plain": [
       "True"
      ]
     },
     "execution_count": 30,
     "metadata": {},
     "output_type": "execute_result"
    }
   ],
   "source": [
    "download('punkt')\n",
    "download(\"stopwords\")"
   ]
  },
  {
   "cell_type": "markdown",
   "id": "82b720e9",
   "metadata": {},
   "source": [
    "## delete URL"
   ]
  },
  {
   "cell_type": "code",
   "execution_count": 31,
   "id": "323a2481",
   "metadata": {
    "ExecuteTime": {
     "end_time": "2023-02-13T12:29:41.064026Z",
     "start_time": "2023-02-13T12:29:41.059995Z"
    }
   },
   "outputs": [],
   "source": [
    "def format_tweet(tweet):\n",
    "    # mask web urls\n",
    "    urls = extractor.find_urls(tweet)\n",
    "    for url in urls:\n",
    "        tweet = tweet.replace(url, \"{{URL}}\")\n",
    "    # format twitter account\n",
    "    tweet = re.sub(r\"\\b(\\s*)(@[\\S]+)\\b\", r'\\1{\\2@}', tweet)\n",
    "    return tweet"
   ]
  },
  {
   "cell_type": "code",
   "execution_count": 32,
   "id": "f572f268",
   "metadata": {
    "ExecuteTime": {
     "end_time": "2023-02-13T12:30:06.214216Z",
     "start_time": "2023-02-13T12:29:41.066359Z"
    }
   },
   "outputs": [
    {
     "name": "stderr",
     "output_type": "stream",
     "text": [
      "100%|██████████| 21107/21107 [00:25<00:00, 840.33it/s] \n"
     ]
    }
   ],
   "source": [
    "extractor = URLExtract()\n",
    "df[\"text\"] = df.text.progress_apply(format_tweet)"
   ]
  },
  {
   "cell_type": "code",
   "execution_count": 33,
   "id": "fe20e107",
   "metadata": {
    "ExecuteTime": {
     "end_time": "2023-02-13T12:30:10.444508Z",
     "start_time": "2023-02-13T12:30:06.216372Z"
    }
   },
   "outputs": [
    {
     "name": "stderr",
     "output_type": "stream",
     "text": [
      "100%|██████████| 21107/21107 [00:04<00:00, 5003.13it/s]\n"
     ]
    }
   ],
   "source": [
    "df[\"words\"] = df.text.progress_apply(word_tokenize)"
   ]
  },
  {
   "cell_type": "code",
   "execution_count": 34,
   "id": "1b00ac3e",
   "metadata": {
    "ExecuteTime": {
     "end_time": "2023-02-13T12:30:10.452862Z",
     "start_time": "2023-02-13T12:30:10.447185Z"
    },
    "scrolled": true
   },
   "outputs": [],
   "source": [
    "stop_words_add = [\"would\", \"could\", \"should\"]\n",
    "stop_char = [\"==\", \"--\", \"\\'s\", \"''\", \"n't\", \"``\",\"..\", \"...\", \"....\", \"'m\", \"'ve\",\"'re\", \"'d\", \"'ll\", \"\", \"-+\", \"+-\", \"_/\", \"||\", \"__\", \"/|\", \"//\"]\n",
    "stop_words = set(stopwords.words(\"english\") + get_stop_words(\"english\") + stop_words_add + stop_char)"
   ]
  },
  {
   "cell_type": "code",
   "execution_count": 35,
   "id": "ed47adea",
   "metadata": {
    "ExecuteTime": {
     "end_time": "2023-02-13T12:30:10.624874Z",
     "start_time": "2023-02-13T12:30:10.456227Z"
    },
    "scrolled": true
   },
   "outputs": [
    {
     "name": "stderr",
     "output_type": "stream",
     "text": [
      "100%|██████████| 21107/21107 [00:00<00:00, 132514.82it/s]\n"
     ]
    }
   ],
   "source": [
    "#     一文字以下の単語とstop_word, stop_charを削除\n",
    "df[\"words_nonstop\"] = df.words.progress_apply(\n",
    "    lambda words: [\n",
    "        word for word in words if word.lower() not in stop_words if len(word)> 1\n",
    "    ]\n",
    ")"
   ]
  },
  {
   "cell_type": "code",
   "execution_count": 36,
   "id": "44ede6bd",
   "metadata": {
    "ExecuteTime": {
     "end_time": "2023-02-13T12:30:10.766780Z",
     "start_time": "2023-02-13T12:30:10.627163Z"
    }
   },
   "outputs": [
    {
     "name": "stderr",
     "output_type": "stream",
     "text": [
      "100%|██████████| 21107/21107 [00:00<00:00, 363726.35it/s]\n",
      "100%|██████████| 21107/21107 [00:00<00:00, 438222.02it/s]\n"
     ]
    }
   ],
   "source": [
    "df.words = df.words.progress_apply(lambda words: \" \".join(words))\n",
    "df.words_nonstop = df.words_nonstop.progress_apply(\n",
    "    lambda words: \" \".join(words)\n",
    ")"
   ]
  },
  {
   "cell_type": "markdown",
   "id": "8a2b1bc6",
   "metadata": {},
   "source": [
    "# output"
   ]
  },
  {
   "cell_type": "markdown",
   "id": "4dd6d970",
   "metadata": {},
   "source": [
    "## make file"
   ]
  },
  {
   "cell_type": "code",
   "execution_count": 37,
   "id": "00880607",
   "metadata": {
    "ExecuteTime": {
     "end_time": "2023-02-13T12:30:11.154818Z",
     "start_time": "2023-02-13T12:30:10.769207Z"
    }
   },
   "outputs": [],
   "source": [
    "with open(make_filepath(f\"../../temporary/Preprocessing/TweetFinance/class.csv\"), \"w\") as f:\n",
    "    writer = csv.writer(f)\n",
    "    writer.writerow(class_labels)\n",
    "df.to_csv(make_filepath(f\"../../temporary/Preprocessing/TweetFinance/master.csv\"))"
   ]
  },
  {
   "cell_type": "markdown",
   "id": "876bbb63",
   "metadata": {},
   "source": [
    "## upload file"
   ]
  },
  {
   "cell_type": "code",
   "execution_count": 38,
   "id": "8a44bb5f",
   "metadata": {
    "ExecuteTime": {
     "end_time": "2023-02-13T12:30:11.453431Z",
     "start_time": "2023-02-13T12:30:11.157478Z"
    }
   },
   "outputs": [
    {
     "data": {
      "text/plain": [
       "'../../temporary/Preprocessing/TweetFinance'"
      ]
     },
     "execution_count": 38,
     "metadata": {},
     "output_type": "execute_result"
    }
   ],
   "source": [
    "s3.upload(\"../../temporary/Preprocessing/TweetFinance\", \"Preprocessing/TweetFinance/\")"
   ]
  },
  {
   "cell_type": "code",
   "execution_count": 39,
   "id": "b39ce3e8",
   "metadata": {
    "ExecuteTime": {
     "end_time": "2023-02-13T12:30:11.484435Z",
     "start_time": "2023-02-13T12:30:11.455430Z"
    }
   },
   "outputs": [
    {
     "name": "stdout",
     "output_type": "stream",
     "text": [
      "../../temporary/Preprocessing/TweetFinance\n",
      "/home/jovyan/temporary/DataShaping/TweetFinance/master.csv\n",
      "/home/jovyan/temporary/DataShaping/TweetFinance/class.csv\n"
     ]
    }
   ],
   "source": [
    "s3.delete_local_all()"
   ]
  },
  {
   "cell_type": "code",
   "execution_count": 40,
   "id": "f3b396c6",
   "metadata": {
    "ExecuteTime": {
     "end_time": "2023-02-13T12:30:11.538198Z",
     "start_time": "2023-02-13T12:30:11.487230Z"
    }
   },
   "outputs": [],
   "source": [
    "shutil.rmtree(\"../../nltk_data/\")"
   ]
  },
  {
   "cell_type": "code",
   "execution_count": null,
   "id": "42e2c096",
   "metadata": {},
   "outputs": [],
   "source": []
  },
  {
   "cell_type": "code",
   "execution_count": null,
   "id": "4ac769b1",
   "metadata": {},
   "outputs": [],
   "source": []
  },
  {
   "cell_type": "code",
   "execution_count": null,
   "id": "e7cd61b6",
   "metadata": {},
   "outputs": [],
   "source": []
  }
 ],
 "metadata": {
  "kernelspec": {
   "display_name": "Python 3 (ipykernel)",
   "language": "python",
   "name": "python3"
  },
  "language_info": {
   "codemirror_mode": {
    "name": "ipython",
    "version": 3
   },
   "file_extension": ".py",
   "mimetype": "text/x-python",
   "name": "python",
   "nbconvert_exporter": "python",
   "pygments_lexer": "ipython3",
   "version": "3.10.8"
  },
  "toc": {
   "base_numbering": 1,
   "nav_menu": {},
   "number_sections": true,
   "sideBar": true,
   "skip_h1_title": false,
   "title_cell": "Table of Contents",
   "title_sidebar": "Contents",
   "toc_cell": false,
   "toc_position": {},
   "toc_section_display": true,
   "toc_window_display": false
  }
 },
 "nbformat": 4,
 "nbformat_minor": 5
}
