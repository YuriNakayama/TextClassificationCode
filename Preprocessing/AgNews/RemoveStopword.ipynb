{
 "cells": [
  {
   "cell_type": "markdown",
   "id": "b95f9187",
   "metadata": {},
   "source": [
    "# Import"
   ]
  },
  {
   "cell_type": "code",
   "execution_count": 1,
   "id": "80a85ab5",
   "metadata": {
    "ExecuteTime": {
     "end_time": "2022-12-05T01:59:07.529105Z",
     "start_time": "2022-12-05T01:59:06.651039Z"
    }
   },
   "outputs": [],
   "source": [
    "import csv\n",
    "import os\n",
    "\n",
    "import numpy as np\n",
    "import pandas as pd\n",
    "from nltk import word_tokenize\n",
    "from nltk.corpus import stopwords\n",
    "from tqdm import tqdm"
   ]
  },
  {
   "cell_type": "code",
   "execution_count": 2,
   "id": "9d870465",
   "metadata": {
    "ExecuteTime": {
     "end_time": "2022-12-05T01:59:07.535372Z",
     "start_time": "2022-12-05T01:59:07.531758Z"
    }
   },
   "outputs": [],
   "source": [
    "tqdm.pandas()"
   ]
  },
  {
   "cell_type": "markdown",
   "id": "52c60a4f",
   "metadata": {},
   "source": [
    "# Read data"
   ]
  },
  {
   "cell_type": "code",
   "execution_count": 3,
   "id": "c81d3638",
   "metadata": {
    "ExecuteTime": {
     "end_time": "2022-12-05T01:59:07.937918Z",
     "start_time": "2022-12-05T01:59:07.537406Z"
    },
    "scrolled": true
   },
   "outputs": [],
   "source": [
    "ag_news_df = pd.read_csv(\"../../DataShaping/data/AgNews/master.csv\", index_col=0)"
   ]
  },
  {
   "cell_type": "code",
   "execution_count": 4,
   "id": "95389cd0",
   "metadata": {
    "ExecuteTime": {
     "end_time": "2022-12-05T01:59:07.944563Z",
     "start_time": "2022-12-05T01:59:07.941091Z"
    }
   },
   "outputs": [],
   "source": [
    "with open(\"../../DataShaping/data/AgNews/class.csv\", mode=\"r\") as f:\n",
    "    reader = csv.reader(f)\n",
    "    class_labels = [label for label in reader]"
   ]
  },
  {
   "cell_type": "markdown",
   "id": "3bbf34bf",
   "metadata": {},
   "source": [
    "# Word tokinize"
   ]
  },
  {
   "cell_type": "code",
   "execution_count": 5,
   "id": "fe20e107",
   "metadata": {
    "ExecuteTime": {
     "end_time": "2022-12-05T01:59:36.814656Z",
     "start_time": "2022-12-05T01:59:07.946603Z"
    }
   },
   "outputs": [
    {
     "name": "stderr",
     "output_type": "stream",
     "text": [
      "100%|██████████| 120000/120000 [00:28<00:00, 4158.56it/s]\n"
     ]
    }
   ],
   "source": [
    "ag_news_df[\"words\"] = ag_news_df.text.progress_apply(word_tokenize)"
   ]
  },
  {
   "cell_type": "code",
   "execution_count": 6,
   "id": "ed47adea",
   "metadata": {
    "ExecuteTime": {
     "end_time": "2022-12-05T02:06:46.844499Z",
     "start_time": "2022-12-05T01:59:36.817261Z"
    },
    "scrolled": true
   },
   "outputs": [
    {
     "name": "stderr",
     "output_type": "stream",
     "text": [
      "100%|██████████| 120000/120000 [07:10<00:00, 279.06it/s]\n"
     ]
    }
   ],
   "source": [
    "ag_news_df[\"words_nonstop\"] = ag_news_df.words.progress_apply(\n",
    "    lambda words: [\n",
    "        word for word in words if word.lower() not in stopwords.words(\"english\")\n",
    "    ]\n",
    ")"
   ]
  },
  {
   "cell_type": "code",
   "execution_count": 7,
   "id": "44ede6bd",
   "metadata": {
    "ExecuteTime": {
     "end_time": "2022-12-05T02:06:47.546751Z",
     "start_time": "2022-12-05T02:06:46.846758Z"
    }
   },
   "outputs": [
    {
     "name": "stderr",
     "output_type": "stream",
     "text": [
      "100%|██████████| 120000/120000 [00:00<00:00, 426151.88it/s]\n",
      "100%|██████████| 120000/120000 [00:00<00:00, 496381.53it/s]\n"
     ]
    }
   ],
   "source": [
    "ag_news_df.words = ag_news_df.words.progress_apply(lambda words: \" \".join(words))\n",
    "ag_news_df.words_nonstop = ag_news_df.words_nonstop.progress_apply(\n",
    "    lambda words: \" \".join(words)\n",
    ")"
   ]
  },
  {
   "cell_type": "code",
   "execution_count": 8,
   "id": "f2c3d436",
   "metadata": {
    "ExecuteTime": {
     "end_time": "2022-12-05T02:06:49.196971Z",
     "start_time": "2022-12-05T02:06:47.549119Z"
    }
   },
   "outputs": [],
   "source": [
    "file_path = \"../data/AgNews\"\n",
    "os.makedirs(file_path, exist_ok=True)\n",
    "with open(f\"{file_path}/class.csv\", \"w\") as f:\n",
    "    writer = csv.writer(f)\n",
    "    writer.writerows(class_labels)\n",
    "ag_news_df.to_csv(f\"{file_path}/master.csv\")"
   ]
  },
  {
   "cell_type": "code",
   "execution_count": null,
   "id": "c540451e",
   "metadata": {},
   "outputs": [],
   "source": []
  },
  {
   "cell_type": "code",
   "execution_count": null,
   "id": "93376c0f",
   "metadata": {},
   "outputs": [],
   "source": []
  },
  {
   "cell_type": "code",
   "execution_count": null,
   "id": "4458426f",
   "metadata": {},
   "outputs": [],
   "source": []
  },
  {
   "cell_type": "code",
   "execution_count": null,
   "id": "5354d4e0",
   "metadata": {},
   "outputs": [],
   "source": []
  },
  {
   "cell_type": "code",
   "execution_count": null,
   "id": "9d3ac7ce",
   "metadata": {},
   "outputs": [],
   "source": []
  }
 ],
 "metadata": {
  "kernelspec": {
   "display_name": "Python 3 (ipykernel)",
   "language": "python",
   "name": "python3"
  },
  "language_info": {
   "codemirror_mode": {
    "name": "ipython",
    "version": 3
   },
   "file_extension": ".py",
   "mimetype": "text/x-python",
   "name": "python",
   "nbconvert_exporter": "python",
   "pygments_lexer": "ipython3",
   "version": "3.10.8"
  },
  "toc": {
   "base_numbering": 1,
   "nav_menu": {},
   "number_sections": true,
   "sideBar": true,
   "skip_h1_title": false,
   "title_cell": "Table of Contents",
   "title_sidebar": "Contents",
   "toc_cell": false,
   "toc_position": {},
   "toc_section_display": true,
   "toc_window_display": false
  }
 },
 "nbformat": 4,
 "nbformat_minor": 5
}
