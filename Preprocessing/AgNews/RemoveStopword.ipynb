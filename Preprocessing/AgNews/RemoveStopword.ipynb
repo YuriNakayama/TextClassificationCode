{
 "cells": [
  {
   "cell_type": "markdown",
   "id": "b95f9187",
   "metadata": {},
   "source": [
    "# Import"
   ]
  },
  {
   "cell_type": "code",
   "execution_count": 28,
   "id": "80a85ab5",
   "metadata": {
    "ExecuteTime": {
     "end_time": "2022-12-05T08:14:05.905482Z",
     "start_time": "2022-12-05T08:14:05.901680Z"
    }
   },
   "outputs": [],
   "source": [
    "import csv\n",
    "import os\n",
    "import sys\n",
    "\n",
    "import numpy as np\n",
    "import pandas as pd\n",
    "from nltk import word_tokenize\n",
    "from stop_words import get_stop_words\n",
    "from nltk.corpus import stopwords\n",
    "from tqdm import tqdm"
   ]
  },
  {
   "cell_type": "markdown",
   "id": "a9e6c497",
   "metadata": {},
   "source": [
    "## Add configuration file"
   ]
  },
  {
   "cell_type": "code",
   "execution_count": 29,
   "id": "1651ef67",
   "metadata": {
    "ExecuteTime": {
     "end_time": "2022-12-05T08:14:06.493358Z",
     "start_time": "2022-12-05T08:14:06.490107Z"
    }
   },
   "outputs": [],
   "source": [
    "sys.path.append(\"/home/jovyan/core/config/\")"
   ]
  },
  {
   "cell_type": "code",
   "execution_count": 30,
   "id": "a0634fa8",
   "metadata": {
    "ExecuteTime": {
     "end_time": "2022-12-05T08:14:06.567471Z",
     "start_time": "2022-12-05T08:14:06.564734Z"
    }
   },
   "outputs": [],
   "source": [
    "from ALL import config "
   ]
  },
  {
   "cell_type": "markdown",
   "id": "e0cf6da0",
   "metadata": {},
   "source": [
    "## Set condition"
   ]
  },
  {
   "cell_type": "code",
   "execution_count": 31,
   "id": "9d870465",
   "metadata": {
    "ExecuteTime": {
     "end_time": "2022-12-05T08:14:06.733752Z",
     "start_time": "2022-12-05T08:14:06.730043Z"
    }
   },
   "outputs": [],
   "source": [
    "tqdm.pandas()\n",
    "pd.set_option(\"display.max_columns\", 100)\n",
    "pd.set_option(\"display.max_rows\", 50)"
   ]
  },
  {
   "cell_type": "markdown",
   "id": "52c60a4f",
   "metadata": {},
   "source": [
    "# Read data"
   ]
  },
  {
   "cell_type": "code",
   "execution_count": 32,
   "id": "c81d3638",
   "metadata": {
    "ExecuteTime": {
     "end_time": "2022-12-05T08:14:07.313073Z",
     "start_time": "2022-12-05T08:14:06.896116Z"
    },
    "scrolled": true
   },
   "outputs": [],
   "source": [
    "ag_news_df = pd.read_csv(\"../../DataShaping/data/AgNews/master.csv\", index_col=0)"
   ]
  },
  {
   "cell_type": "code",
   "execution_count": 33,
   "id": "95389cd0",
   "metadata": {
    "ExecuteTime": {
     "end_time": "2022-12-05T08:14:07.319452Z",
     "start_time": "2022-12-05T08:14:07.315798Z"
    }
   },
   "outputs": [],
   "source": [
    "with open(\"../../DataShaping/data/AgNews/class.csv\", mode=\"r\") as f:\n",
    "    reader = csv.reader(f)\n",
    "    class_labels = [label for label in reader]"
   ]
  },
  {
   "cell_type": "markdown",
   "id": "3bbf34bf",
   "metadata": {},
   "source": [
    "# Word tokinize"
   ]
  },
  {
   "cell_type": "code",
   "execution_count": 34,
   "id": "fe20e107",
   "metadata": {
    "ExecuteTime": {
     "end_time": "2022-12-05T08:14:36.637584Z",
     "start_time": "2022-12-05T08:14:07.321545Z"
    }
   },
   "outputs": [
    {
     "name": "stderr",
     "output_type": "stream",
     "text": [
      "100%|██████████| 120000/120000 [00:29<00:00, 4094.96it/s]\n"
     ]
    }
   ],
   "source": [
    "ag_news_df[\"words\"] = ag_news_df.text.progress_apply(word_tokenize)"
   ]
  },
  {
   "cell_type": "code",
   "execution_count": 35,
   "id": "1b00ac3e",
   "metadata": {
    "ExecuteTime": {
     "end_time": "2022-12-05T08:14:36.645154Z",
     "start_time": "2022-12-05T08:14:36.640967Z"
    }
   },
   "outputs": [],
   "source": [
    "stop_words_add = [\"would\", \"could\", \"should\"]\n",
    "stop_char = [\"==\", \"--\", \"\\'s\", \"''\", \"n't\", \"``\",\"..\", \"...\", \"....\", \"'m\", \"'ve\",\"'re\", \"'d\", \"'ll\", \"\", \"-+\", \"+-\", \"_/\", \"||\", \"__\", \"/|\", \"//\"]\n",
    "stop_words = set(stopwords.words(\"english\") + get_stop_words(\"english\") + stop_words_add + stop_char)"
   ]
  },
  {
   "cell_type": "code",
   "execution_count": 36,
   "id": "ed47adea",
   "metadata": {
    "ExecuteTime": {
     "end_time": "2022-12-05T08:14:38.213550Z",
     "start_time": "2022-12-05T08:14:36.647139Z"
    },
    "scrolled": true
   },
   "outputs": [
    {
     "name": "stderr",
     "output_type": "stream",
     "text": [
      "100%|██████████| 120000/120000 [00:01<00:00, 77350.11it/s]\n"
     ]
    }
   ],
   "source": [
    "#     一文字以下の単語とstop_word, stop_charを削除\n",
    "ag_news_df[\"words_nonstop\"] = ag_news_df.words.progress_apply(\n",
    "    lambda words: [\n",
    "        word for word in words if word.lower() not in stop_words if len(word)> 1\n",
    "    ]\n",
    ")"
   ]
  },
  {
   "cell_type": "code",
   "execution_count": 37,
   "id": "44ede6bd",
   "metadata": {
    "ExecuteTime": {
     "end_time": "2022-12-05T08:14:38.982605Z",
     "start_time": "2022-12-05T08:14:38.215659Z"
    }
   },
   "outputs": [
    {
     "name": "stderr",
     "output_type": "stream",
     "text": [
      "100%|██████████| 120000/120000 [00:00<00:00, 390098.26it/s]\n",
      "100%|██████████| 120000/120000 [00:00<00:00, 491752.43it/s]\n"
     ]
    }
   ],
   "source": [
    "ag_news_df.words = ag_news_df.words.progress_apply(lambda words: \" \".join(words))\n",
    "ag_news_df.words_nonstop = ag_news_df.words_nonstop.progress_apply(\n",
    "    lambda words: \" \".join(words)\n",
    ")"
   ]
  },
  {
   "cell_type": "code",
   "execution_count": 38,
   "id": "f2c3d436",
   "metadata": {
    "ExecuteTime": {
     "end_time": "2022-12-05T08:14:40.825522Z",
     "start_time": "2022-12-05T08:14:38.984623Z"
    }
   },
   "outputs": [],
   "source": [
    "file_path = \"../data/AgNews\"\n",
    "os.makedirs(file_path, exist_ok=True)\n",
    "with open(f\"{file_path}/class.csv\", \"w\") as f:\n",
    "    writer = csv.writer(f)\n",
    "    writer.writerows(class_labels)\n",
    "ag_news_df.to_csv(f\"{file_path}/master.csv\")"
   ]
  },
  {
   "cell_type": "code",
   "execution_count": null,
   "id": "7b6e44ee",
   "metadata": {},
   "outputs": [],
   "source": []
  },
  {
   "cell_type": "code",
   "execution_count": null,
   "id": "92fa8cf6",
   "metadata": {},
   "outputs": [],
   "source": []
  }
 ],
 "metadata": {
  "kernelspec": {
   "display_name": "Python 3 (ipykernel)",
   "language": "python",
   "name": "python3"
  },
  "language_info": {
   "codemirror_mode": {
    "name": "ipython",
    "version": 3
   },
   "file_extension": ".py",
   "mimetype": "text/x-python",
   "name": "python",
   "nbconvert_exporter": "python",
   "pygments_lexer": "ipython3",
   "version": "3.10.8"
  },
  "toc": {
   "base_numbering": 1,
   "nav_menu": {},
   "number_sections": true,
   "sideBar": true,
   "skip_h1_title": false,
   "title_cell": "Table of Contents",
   "title_sidebar": "Contents",
   "toc_cell": false,
   "toc_position": {},
   "toc_section_display": true,
   "toc_window_display": false
  }
 },
 "nbformat": 4,
 "nbformat_minor": 5
}
