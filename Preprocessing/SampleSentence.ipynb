{
 "cells": [
  {
   "cell_type": "markdown",
   "id": "b95f9187",
   "metadata": {},
   "source": [
    "# Import"
   ]
  },
  {
   "cell_type": "code",
   "execution_count": 1,
   "id": "80a85ab5",
   "metadata": {
    "ExecuteTime": {
     "end_time": "2023-02-09T08:50:28.056943Z",
     "start_time": "2023-02-09T08:50:26.850395Z"
    }
   },
   "outputs": [],
   "source": [
    "import csv\n",
    "import os\n",
    "import random\n",
    "import sys\n",
    "\n",
    "import numpy as np\n",
    "import pandas as pd\n",
    "from nltk import download, word_tokenize\n",
    "from nltk.corpus import stopwords\n",
    "from nltk.tokenize import sent_tokenize\n",
    "from stop_words import get_stop_words\n",
    "from tqdm import tqdm"
   ]
  },
  {
   "cell_type": "markdown",
   "id": "2543f4e4",
   "metadata": {},
   "source": [
    "## Add configuration file"
   ]
  },
  {
   "cell_type": "code",
   "execution_count": 2,
   "id": "f0f02287",
   "metadata": {
    "ExecuteTime": {
     "end_time": "2023-02-09T08:50:28.062208Z",
     "start_time": "2023-02-09T08:50:28.059699Z"
    }
   },
   "outputs": [],
   "source": [
    "sys.path.append(\"/home/jovyan/core/config/\")\n",
    "sys.path.append(\"/home/jovyan/core/util/\")"
   ]
  },
  {
   "cell_type": "code",
   "execution_count": 3,
   "id": "08c511e8",
   "metadata": {
    "ExecuteTime": {
     "end_time": "2023-02-09T08:50:28.396931Z",
     "start_time": "2023-02-09T08:50:28.068057Z"
    }
   },
   "outputs": [],
   "source": [
    "from ALL import config \n",
    "from util import *"
   ]
  },
  {
   "cell_type": "markdown",
   "id": "e0cf6da0",
   "metadata": {},
   "source": [
    "## Set condition"
   ]
  },
  {
   "cell_type": "code",
   "execution_count": 4,
   "id": "9d870465",
   "metadata": {
    "ExecuteTime": {
     "end_time": "2023-02-09T08:50:28.414676Z",
     "start_time": "2023-02-09T08:50:28.403218Z"
    }
   },
   "outputs": [],
   "source": [
    "tqdm.pandas()\n",
    "pd.set_option(\"display.max_columns\", 100)\n",
    "pd.set_option(\"display.max_rows\", 50)"
   ]
  },
  {
   "cell_type": "code",
   "execution_count": 5,
   "id": "86817c2a",
   "metadata": {
    "ExecuteTime": {
     "end_time": "2023-02-09T08:50:28.423903Z",
     "start_time": "2023-02-09T08:50:28.416420Z"
    }
   },
   "outputs": [],
   "source": [
    "s3 = S3Manager()"
   ]
  },
  {
   "cell_type": "code",
   "execution_count": 6,
   "id": "4c82cb3a",
   "metadata": {
    "ExecuteTime": {
     "end_time": "2023-02-09T08:50:29.038257Z",
     "start_time": "2023-02-09T08:50:28.425616Z"
    }
   },
   "outputs": [
    {
     "name": "stderr",
     "output_type": "stream",
     "text": [
      "[nltk_data] Downloading package punkt to /home/jovyan/nltk_data...\n",
      "[nltk_data]   Unzipping tokenizers/punkt.zip.\n"
     ]
    },
    {
     "data": {
      "text/plain": [
       "True"
      ]
     },
     "execution_count": 6,
     "metadata": {},
     "output_type": "execute_result"
    }
   ],
   "source": [
    "download('punkt')"
   ]
  },
  {
   "cell_type": "code",
   "execution_count": 7,
   "id": "42f30e3e",
   "metadata": {
    "ExecuteTime": {
     "end_time": "2023-02-09T08:50:29.054586Z",
     "start_time": "2023-02-09T08:50:29.050576Z"
    }
   },
   "outputs": [],
   "source": [
    "random.seed = 0"
   ]
  },
  {
   "cell_type": "code",
   "execution_count": 8,
   "id": "07ff5843",
   "metadata": {
    "ExecuteTime": {
     "end_time": "2023-02-09T08:50:29.066758Z",
     "start_time": "2023-02-09T08:50:29.062433Z"
    }
   },
   "outputs": [],
   "source": [
    "data_type = \"20News\""
   ]
  },
  {
   "cell_type": "markdown",
   "id": "52c60a4f",
   "metadata": {},
   "source": [
    "# Read data"
   ]
  },
  {
   "cell_type": "code",
   "execution_count": 9,
   "id": "5bf91b89",
   "metadata": {
    "ExecuteTime": {
     "end_time": "2023-02-09T08:50:31.153434Z",
     "start_time": "2023-02-09T08:50:29.073500Z"
    }
   },
   "outputs": [],
   "source": [
    "df_path = s3.download(f\"DataShaping/{data_type}/master.csv\")"
   ]
  },
  {
   "cell_type": "code",
   "execution_count": 10,
   "id": "c81d3638",
   "metadata": {
    "ExecuteTime": {
     "end_time": "2023-02-09T08:50:31.532916Z",
     "start_time": "2023-02-09T08:50:31.155275Z"
    },
    "scrolled": true
   },
   "outputs": [],
   "source": [
    "df = pd.read_csv(df_path[0], index_col=0)"
   ]
  },
  {
   "cell_type": "code",
   "execution_count": 11,
   "id": "511b29b4",
   "metadata": {
    "ExecuteTime": {
     "end_time": "2023-02-09T08:50:31.980568Z",
     "start_time": "2023-02-09T08:50:31.535413Z"
    }
   },
   "outputs": [],
   "source": [
    "labels_path = s3.download(f\"DataShaping/{data_type}/class.csv\")"
   ]
  },
  {
   "cell_type": "code",
   "execution_count": 12,
   "id": "04e7ed11",
   "metadata": {
    "ExecuteTime": {
     "end_time": "2023-02-09T08:50:31.986987Z",
     "start_time": "2023-02-09T08:50:31.982862Z"
    }
   },
   "outputs": [],
   "source": [
    "with open(labels_path[0], mode=\"r\") as f:\n",
    "    reader = csv.reader(f)\n",
    "    class_labels = [label for label in reader]"
   ]
  },
  {
   "cell_type": "code",
   "execution_count": 13,
   "id": "80f38735",
   "metadata": {
    "ExecuteTime": {
     "end_time": "2023-02-09T08:50:31.993031Z",
     "start_time": "2023-02-09T08:50:31.989624Z"
    }
   },
   "outputs": [],
   "source": [
    "sentence_counts = [2, 4, 8, 16, 32, 64, 128]"
   ]
  },
  {
   "cell_type": "markdown",
   "id": "ac368e26",
   "metadata": {},
   "source": [
    "# Split texts"
   ]
  },
  {
   "cell_type": "code",
   "execution_count": 14,
   "id": "2221f692",
   "metadata": {
    "ExecuteTime": {
     "end_time": "2023-02-09T08:50:44.048358Z",
     "start_time": "2023-02-09T08:50:31.995478Z"
    },
    "scrolled": true
   },
   "outputs": [
    {
     "name": "stderr",
     "output_type": "stream",
     "text": [
      "100%|██████████| 18846/18846 [00:12<00:00, 1566.36it/s]\n"
     ]
    }
   ],
   "source": [
    "df[\"sentences\"] = df[\"text\"].progress_apply(lambda x: [sentence for sentence in sent_tokenize(x) if len(sentence.split(\" \")) > 1])"
   ]
  },
  {
   "cell_type": "code",
   "execution_count": 15,
   "id": "e57df341",
   "metadata": {
    "ExecuteTime": {
     "end_time": "2023-02-09T08:50:44.056271Z",
     "start_time": "2023-02-09T08:50:44.052157Z"
    }
   },
   "outputs": [],
   "source": [
    "def sampler(num: int, k: int):\n",
    "    if k > num:\n",
    "        return set(range(num))\n",
    "    else:\n",
    "        return set(random.sample(range(num), k))"
   ]
  },
  {
   "cell_type": "code",
   "execution_count": 16,
   "id": "7b2940ff",
   "metadata": {
    "ExecuteTime": {
     "end_time": "2023-02-09T08:50:54.500156Z",
     "start_time": "2023-02-09T08:50:44.058982Z"
    },
    "scrolled": true
   },
   "outputs": [
    {
     "name": "stderr",
     "output_type": "stream",
     "text": [
      "100%|██████████| 7/7 [00:10<00:00,  1.49s/it]\n"
     ]
    }
   ],
   "source": [
    "for sentence_count in tqdm(sentence_counts):\n",
    "    sampled_sentences = df[\"sentences\"].apply(\n",
    "        lambda x, k: \" \".join([x[_x] for _x in sampler(len(x), k)])\n",
    "        if len(x) > 0\n",
    "        else \"\",\n",
    "        k=sentence_count,\n",
    "    )\n",
    "    sampled_sentences.name = \"sampled_sentences\"\n",
    "    df_sampled = pd.concat([df, sampled_sentences], axis=1)[\n",
    "        [\"text\", \"filenames\", \"class\", \"sampled_sentences\"]\n",
    "    ]\n",
    "    df_sampled = df_sampled.rename(columns={\"text\": \"_text\", \"sampled_sentences\": \"text\"})\n",
    "    \n",
    "    df_sampled.to_csv(\n",
    "        make_filepath(\n",
    "            f\"../temporary/Preprocessing/20NewsSampled{sentence_count}/master.csv\"\n",
    "        )\n",
    "    )\n",
    "    with open(\n",
    "        make_filepath(f\"../temporary/Preprocessing/20NewsSampled{sentence_count}/class.csv\"), \"w\"\n",
    "    ) as f:\n",
    "        writer = csv.writer(f)\n",
    "        writer.writerow(class_labels)"
   ]
  },
  {
   "cell_type": "markdown",
   "id": "8a2b1bc6",
   "metadata": {},
   "source": [
    "# output"
   ]
  },
  {
   "cell_type": "markdown",
   "id": "876bbb63",
   "metadata": {},
   "source": [
    "## upload file"
   ]
  },
  {
   "cell_type": "code",
   "execution_count": 17,
   "id": "8a44bb5f",
   "metadata": {
    "ExecuteTime": {
     "end_time": "2023-02-09T08:51:02.129576Z",
     "start_time": "2023-02-09T08:50:54.525438Z"
    }
   },
   "outputs": [
    {
     "data": {
      "text/plain": [
       "'../temporary/Preprocessing/'"
      ]
     },
     "execution_count": 17,
     "metadata": {},
     "output_type": "execute_result"
    }
   ],
   "source": [
    "s3.upload(\"../temporary/Preprocessing/\", \"Preprocessing/\")"
   ]
  },
  {
   "cell_type": "code",
   "execution_count": 18,
   "id": "b39ce3e8",
   "metadata": {
    "ExecuteTime": {
     "end_time": "2023-02-09T08:51:02.285055Z",
     "start_time": "2023-02-09T08:51:02.131346Z"
    }
   },
   "outputs": [
    {
     "name": "stdout",
     "output_type": "stream",
     "text": [
      "../temporary/Preprocessing/\n",
      "/home/jovyan/temporary/DataShaping/20News/master.csv\n",
      "/home/jovyan/temporary/DataShaping/20News/class.csv\n"
     ]
    }
   ],
   "source": [
    "s3.delete_local_all()"
   ]
  },
  {
   "cell_type": "code",
   "execution_count": 19,
   "id": "f3b396c6",
   "metadata": {
    "ExecuteTime": {
     "end_time": "2023-02-09T08:51:02.334308Z",
     "start_time": "2023-02-09T08:51:02.293031Z"
    }
   },
   "outputs": [],
   "source": [
    "shutil.rmtree(\"../nltk_data/\")"
   ]
  },
  {
   "cell_type": "code",
   "execution_count": null,
   "id": "e1c2444d",
   "metadata": {},
   "outputs": [],
   "source": []
  }
 ],
 "metadata": {
  "kernelspec": {
   "display_name": "Python 3 (ipykernel)",
   "language": "python",
   "name": "python3"
  },
  "language_info": {
   "codemirror_mode": {
    "name": "ipython",
    "version": 3
   },
   "file_extension": ".py",
   "mimetype": "text/x-python",
   "name": "python",
   "nbconvert_exporter": "python",
   "pygments_lexer": "ipython3",
   "version": "3.10.8"
  },
  "toc": {
   "base_numbering": 1,
   "nav_menu": {},
   "number_sections": true,
   "sideBar": true,
   "skip_h1_title": false,
   "title_cell": "Table of Contents",
   "title_sidebar": "Contents",
   "toc_cell": false,
   "toc_position": {},
   "toc_section_display": true,
   "toc_window_display": false
  }
 },
 "nbformat": 4,
 "nbformat_minor": 5
}
