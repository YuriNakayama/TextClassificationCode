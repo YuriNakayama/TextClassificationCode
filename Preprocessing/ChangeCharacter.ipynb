{
 "cells": [
  {
   "cell_type": "markdown",
   "id": "b95f9187",
   "metadata": {},
   "source": [
    "# Import"
   ]
  },
  {
   "cell_type": "code",
   "execution_count": 2,
   "id": "80a85ab5",
   "metadata": {
    "ExecuteTime": {
     "end_time": "2023-02-09T12:23:33.050230Z",
     "start_time": "2023-02-09T12:23:28.074077Z"
    }
   },
   "outputs": [],
   "source": [
    "import csv\n",
    "import os\n",
    "import random\n",
    "import sys\n",
    "\n",
    "import numpy as np\n",
    "import pandas as pd\n",
    "from nltk import download, word_tokenize\n",
    "from nltk.corpus import stopwords\n",
    "from nltk.tokenize import sent_tokenize\n",
    "from stop_words import get_stop_words\n",
    "from tqdm import tqdm"
   ]
  },
  {
   "cell_type": "markdown",
   "id": "2543f4e4",
   "metadata": {},
   "source": [
    "## Add configuration file"
   ]
  },
  {
   "cell_type": "code",
   "execution_count": 2,
   "id": "f0f02287",
   "metadata": {
    "ExecuteTime": {
     "end_time": "2023-02-09T08:35:14.600925Z",
     "start_time": "2023-02-09T08:35:14.596550Z"
    }
   },
   "outputs": [],
   "source": [
    "sys.path.append(\"/home/jovyan/core/config/\")\n",
    "sys.path.append(\"/home/jovyan/core/util/\")"
   ]
  },
  {
   "cell_type": "code",
   "execution_count": 3,
   "id": "08c511e8",
   "metadata": {
    "ExecuteTime": {
     "end_time": "2023-02-09T08:35:14.990715Z",
     "start_time": "2023-02-09T08:35:14.607431Z"
    }
   },
   "outputs": [],
   "source": [
    "from ALL import config \n",
    "from util import *"
   ]
  },
  {
   "cell_type": "markdown",
   "id": "e0cf6da0",
   "metadata": {},
   "source": [
    "## Set condition"
   ]
  },
  {
   "cell_type": "code",
   "execution_count": 4,
   "id": "9d870465",
   "metadata": {
    "ExecuteTime": {
     "end_time": "2023-02-09T08:35:15.003398Z",
     "start_time": "2023-02-09T08:35:14.998229Z"
    }
   },
   "outputs": [],
   "source": [
    "tqdm.pandas()\n",
    "pd.set_option(\"display.max_columns\", 100)\n",
    "pd.set_option(\"display.max_rows\", 50)"
   ]
  },
  {
   "cell_type": "code",
   "execution_count": 5,
   "id": "86817c2a",
   "metadata": {
    "ExecuteTime": {
     "end_time": "2023-02-09T08:35:15.013768Z",
     "start_time": "2023-02-09T08:35:15.009755Z"
    }
   },
   "outputs": [],
   "source": [
    "s3 = S3Manager()"
   ]
  },
  {
   "cell_type": "code",
   "execution_count": 3,
   "id": "4c82cb3a",
   "metadata": {
    "ExecuteTime": {
     "end_time": "2023-02-09T12:23:33.559966Z",
     "start_time": "2023-02-09T12:23:33.053107Z"
    }
   },
   "outputs": [
    {
     "name": "stderr",
     "output_type": "stream",
     "text": [
      "[nltk_data] Downloading package stopwords to /home/jovyan/nltk_data...\n",
      "[nltk_data]   Unzipping corpora/stopwords.zip.\n"
     ]
    },
    {
     "data": {
      "text/plain": [
       "True"
      ]
     },
     "execution_count": 3,
     "metadata": {},
     "output_type": "execute_result"
    }
   ],
   "source": [
    "download('stopwords')"
   ]
  },
  {
   "cell_type": "code",
   "execution_count": 7,
   "id": "3963bba1",
   "metadata": {
    "ExecuteTime": {
     "end_time": "2023-02-09T08:35:15.872268Z",
     "start_time": "2023-02-09T08:35:15.868382Z"
    }
   },
   "outputs": [],
   "source": [
    "random.seed = 0"
   ]
  },
  {
   "cell_type": "code",
   "execution_count": 8,
   "id": "fa4037a9",
   "metadata": {
    "ExecuteTime": {
     "end_time": "2023-02-09T08:35:15.879232Z",
     "start_time": "2023-02-09T08:35:15.875392Z"
    }
   },
   "outputs": [],
   "source": [
    "data_type = \"20News\""
   ]
  },
  {
   "cell_type": "markdown",
   "id": "52c60a4f",
   "metadata": {},
   "source": [
    "# Read data"
   ]
  },
  {
   "cell_type": "code",
   "execution_count": 9,
   "id": "5bf91b89",
   "metadata": {
    "ExecuteTime": {
     "end_time": "2023-02-09T08:35:18.020650Z",
     "start_time": "2023-02-09T08:35:15.881893Z"
    }
   },
   "outputs": [],
   "source": [
    "df_path = s3.download(f\"DataShaping/{data_type}/master.csv\")"
   ]
  },
  {
   "cell_type": "code",
   "execution_count": 10,
   "id": "c81d3638",
   "metadata": {
    "ExecuteTime": {
     "end_time": "2023-02-09T08:35:18.430194Z",
     "start_time": "2023-02-09T08:35:18.024054Z"
    },
    "scrolled": true
   },
   "outputs": [],
   "source": [
    "df = pd.read_csv(df_path[0], index_col=0)"
   ]
  },
  {
   "cell_type": "code",
   "execution_count": 11,
   "id": "511b29b4",
   "metadata": {
    "ExecuteTime": {
     "end_time": "2023-02-09T08:35:18.900872Z",
     "start_time": "2023-02-09T08:35:18.435609Z"
    }
   },
   "outputs": [],
   "source": [
    "labels_path = s3.download(f\"DataShaping/{data_type}/class.csv\")"
   ]
  },
  {
   "cell_type": "code",
   "execution_count": 12,
   "id": "04e7ed11",
   "metadata": {
    "ExecuteTime": {
     "end_time": "2023-02-09T08:35:18.908849Z",
     "start_time": "2023-02-09T08:35:18.905343Z"
    }
   },
   "outputs": [],
   "source": [
    "with open(labels_path[0], mode=\"r\") as f:\n",
    "    reader = csv.reader(f)\n",
    "    class_labels = [label for label in reader]"
   ]
  },
  {
   "cell_type": "code",
   "execution_count": 13,
   "id": "7d5ccd9a",
   "metadata": {
    "ExecuteTime": {
     "end_time": "2023-02-09T08:35:18.919030Z",
     "start_time": "2023-02-09T08:35:18.911061Z"
    }
   },
   "outputs": [],
   "source": [
    "sentence_counts = [2, 4, 8, 16, 32, 64, 128]"
   ]
  },
  {
   "cell_type": "markdown",
   "id": "41860566",
   "metadata": {},
   "source": [
    "# Split texts"
   ]
  },
  {
   "cell_type": "code",
   "execution_count": 14,
   "id": "d4e38573",
   "metadata": {
    "ExecuteTime": {
     "end_time": "2023-02-09T08:35:33.233764Z",
     "start_time": "2023-02-09T08:35:18.921809Z"
    },
    "scrolled": true
   },
   "outputs": [
    {
     "name": "stderr",
     "output_type": "stream",
     "text": [
      "100%|██████████| 18846/18846 [00:14<00:00, 1319.78it/s]\n"
     ]
    }
   ],
   "source": [
    "df[\"sentences\"] = df[\"text\"].progress_apply(lambda x: [sentence for sentence in sent_tokenize(x) if len(sentence.split(\" \")) > 1])"
   ]
  },
  {
   "cell_type": "code",
   "execution_count": 15,
   "id": "3b161422",
   "metadata": {
    "ExecuteTime": {
     "end_time": "2023-02-09T08:35:33.244593Z",
     "start_time": "2023-02-09T08:35:33.236509Z"
    }
   },
   "outputs": [],
   "source": [
    "def sampler(num: int, k: int):\n",
    "    if k > num:\n",
    "        return set(range(num))\n",
    "    else:\n",
    "        return set(random.sample(range(num), k))"
   ]
  },
  {
   "cell_type": "code",
   "execution_count": 16,
   "id": "015919ab",
   "metadata": {
    "ExecuteTime": {
     "end_time": "2023-02-09T08:35:44.758327Z",
     "start_time": "2023-02-09T08:35:33.246969Z"
    },
    "scrolled": true
   },
   "outputs": [
    {
     "name": "stderr",
     "output_type": "stream",
     "text": [
      "100%|██████████| 7/7 [00:11<00:00,  1.64s/it]\n"
     ]
    }
   ],
   "source": [
    "for sentence_count in tqdm(sentence_counts):\n",
    "    sampled_sentences = df[\"sentences\"].apply(\n",
    "        lambda x, k: \" \".join([x[_x] for _x in sampler(len(x), k)])\n",
    "        if len(x) > 0\n",
    "        else \"\",\n",
    "        k=sentence_count,\n",
    "    )\n",
    "    sampled_sentences.name = \"sampled_sentences\"\n",
    "    df_sampled = pd.concat([df, sampled_sentences], axis=1)[\n",
    "        [\"text\", \"filenames\", \"class\", \"sampled_sentences\"]\n",
    "    ]\n",
    "    df_sampled.to_csv(\n",
    "        make_filepath(\n",
    "            f\"../temporary/Preprocessing/20NewsSampled{sentence_count}/master.csv\"\n",
    "        )\n",
    "    )\n",
    "    with open(\n",
    "        make_filepath(f\"../temporary/Preprocessing/20NewsSampled{sentence_count}/class.csv\"), \"w\"\n",
    "    ) as f:\n",
    "        writer = csv.writer(f)\n",
    "        writer.writerow(class_labels)"
   ]
  },
  {
   "cell_type": "markdown",
   "id": "8a2b1bc6",
   "metadata": {},
   "source": [
    "# output"
   ]
  },
  {
   "cell_type": "markdown",
   "id": "876bbb63",
   "metadata": {},
   "source": [
    "## upload file"
   ]
  },
  {
   "cell_type": "code",
   "execution_count": 17,
   "id": "8a44bb5f",
   "metadata": {
    "ExecuteTime": {
     "end_time": "2023-02-09T08:35:52.612168Z",
     "start_time": "2023-02-09T08:35:44.773068Z"
    }
   },
   "outputs": [
    {
     "data": {
      "text/plain": [
       "'../temporary/Preprocessing/'"
      ]
     },
     "execution_count": 17,
     "metadata": {},
     "output_type": "execute_result"
    }
   ],
   "source": [
    "s3.upload(\"../temporary/Preprocessing/\", \"Preprocessing/\")"
   ]
  },
  {
   "cell_type": "code",
   "execution_count": 18,
   "id": "b39ce3e8",
   "metadata": {
    "ExecuteTime": {
     "end_time": "2023-02-09T08:35:52.765067Z",
     "start_time": "2023-02-09T08:35:52.613908Z"
    }
   },
   "outputs": [
    {
     "name": "stdout",
     "output_type": "stream",
     "text": [
      "../temporary/Preprocessing/\n",
      "/home/jovyan/temporary/DataShaping/20News/master.csv\n",
      "/home/jovyan/temporary/DataShaping/20News/class.csv\n"
     ]
    }
   ],
   "source": [
    "s3.delete_local_all()"
   ]
  },
  {
   "cell_type": "code",
   "execution_count": 19,
   "id": "f3b396c6",
   "metadata": {
    "ExecuteTime": {
     "end_time": "2023-02-09T08:35:52.802088Z",
     "start_time": "2023-02-09T08:35:52.771116Z"
    }
   },
   "outputs": [],
   "source": [
    "shutil.rmtree(\"../nltk_data/\")"
   ]
  },
  {
   "cell_type": "code",
   "execution_count": null,
   "id": "1fd20a8d",
   "metadata": {},
   "outputs": [],
   "source": []
  }
 ],
 "metadata": {
  "kernelspec": {
   "display_name": "Python 3 (ipykernel)",
   "language": "python",
   "name": "python3"
  },
  "language_info": {
   "codemirror_mode": {
    "name": "ipython",
    "version": 3
   },
   "file_extension": ".py",
   "mimetype": "text/x-python",
   "name": "python",
   "nbconvert_exporter": "python",
   "pygments_lexer": "ipython3",
   "version": "3.10.9"
  },
  "toc": {
   "base_numbering": 1,
   "nav_menu": {},
   "number_sections": true,
   "sideBar": true,
   "skip_h1_title": false,
   "title_cell": "Table of Contents",
   "title_sidebar": "Contents",
   "toc_cell": false,
   "toc_position": {},
   "toc_section_display": true,
   "toc_window_display": false
  }
 },
 "nbformat": 4,
 "nbformat_minor": 5
}
