{
 "cells": [
  {
   "cell_type": "markdown",
   "id": "b95f9187",
   "metadata": {},
   "source": [
    "# Import"
   ]
  },
  {
   "cell_type": "code",
   "execution_count": 1,
   "id": "80a85ab5",
   "metadata": {
    "ExecuteTime": {
     "end_time": "2022-11-25T16:41:34.413577Z",
     "start_time": "2022-11-25T16:41:30.399579Z"
    }
   },
   "outputs": [
    {
     "name": "stderr",
     "output_type": "stream",
     "text": [
      "<jemalloc>: MADV_DONTNEED does not work (memset will be used instead)\n",
      "<jemalloc>: (This is the expected behaviour if you are running under QEMU)\n"
     ]
    }
   ],
   "source": [
    "import csv\n",
    "import os\n",
    "\n",
    "import numpy as np\n",
    "import pandas as pd\n",
    "from nltk import word_tokenize\n",
    "from nltk.corpus import stopwords\n",
    "from tqdm import tqdm"
   ]
  },
  {
   "cell_type": "code",
   "execution_count": 2,
   "id": "9d870465",
   "metadata": {
    "ExecuteTime": {
     "end_time": "2022-11-25T16:41:35.814954Z",
     "start_time": "2022-11-25T16:41:35.800829Z"
    }
   },
   "outputs": [],
   "source": [
    "tqdm.pandas()"
   ]
  },
  {
   "cell_type": "markdown",
   "id": "52c60a4f",
   "metadata": {},
   "source": [
    "# Read data"
   ]
  },
  {
   "cell_type": "code",
   "execution_count": 3,
   "id": "c81d3638",
   "metadata": {
    "ExecuteTime": {
     "end_time": "2022-11-25T16:41:38.728620Z",
     "start_time": "2022-11-25T16:41:36.732451Z"
    },
    "scrolled": true
   },
   "outputs": [],
   "source": [
    "newsgroups_df = pd.read_csv(\"../../DataShaping/data/20News/master.csv\", index_col=0)"
   ]
  },
  {
   "cell_type": "code",
   "execution_count": 4,
   "id": "95389cd0",
   "metadata": {
    "ExecuteTime": {
     "end_time": "2022-11-25T16:41:38.766489Z",
     "start_time": "2022-11-25T16:41:38.739888Z"
    }
   },
   "outputs": [],
   "source": [
    "with open(\"../../DataShaping/data/20News/class.csv\", mode=\"r\") as f:\n",
    "    reader = csv.reader(f)\n",
    "    class_labels = [label for label in reader]"
   ]
  },
  {
   "cell_type": "markdown",
   "id": "3bbf34bf",
   "metadata": {},
   "source": [
    "# Word tokinize"
   ]
  },
  {
   "cell_type": "code",
   "execution_count": 5,
   "id": "fe20e107",
   "metadata": {
    "ExecuteTime": {
     "end_time": "2022-11-25T16:46:37.075923Z",
     "start_time": "2022-11-25T16:41:38.779985Z"
    }
   },
   "outputs": [
    {
     "name": "stderr",
     "output_type": "stream",
     "text": [
      "100%|██████████| 18846/18846 [04:58<00:00, 63.20it/s] \n"
     ]
    }
   ],
   "source": [
    "newsgroups_df[\"words\"] = newsgroups_df.text.progress_apply(word_tokenize)"
   ]
  },
  {
   "cell_type": "code",
   "execution_count": 6,
   "id": "ed47adea",
   "metadata": {
    "ExecuteTime": {
     "end_time": "2022-11-25T21:53:50.985890Z",
     "start_time": "2022-11-25T16:46:37.099715Z"
    },
    "scrolled": true
   },
   "outputs": [
    {
     "name": "stderr",
     "output_type": "stream",
     "text": [
      "100%|██████████| 18846/18846 [5:07:13<00:00,  1.02it/s]   \n"
     ]
    }
   ],
   "source": [
    "newsgroups_df[\"words_nonstop\"] = newsgroups_df.words.progress_apply(\n",
    "    lambda words: [\n",
    "        word for word in words if word.lower() not in stopwords.words(\"english\")\n",
    "    ]\n",
    ")"
   ]
  },
  {
   "cell_type": "code",
   "execution_count": 7,
   "id": "01e55dcd",
   "metadata": {
    "ExecuteTime": {
     "end_time": "2022-11-25T21:53:53.761236Z",
     "start_time": "2022-11-25T21:53:51.002346Z"
    }
   },
   "outputs": [
    {
     "name": "stderr",
     "output_type": "stream",
     "text": [
      "100%|██████████| 18846/18846 [00:01<00:00, 13086.73it/s]\n",
      "100%|██████████| 18846/18846 [00:00<00:00, 28173.45it/s]\n"
     ]
    }
   ],
   "source": [
    "newsgroups_df.words = newsgroups_df.words.progress_apply(lambda words: \" \".join(words))\n",
    "newsgroups_df.words_nonstop = newsgroups_df.words_nonstop.progress_apply(\n",
    "    lambda words: \" \".join(words)\n",
    ")"
   ]
  },
  {
   "cell_type": "code",
   "execution_count": 8,
   "id": "f2c3d436",
   "metadata": {
    "ExecuteTime": {
     "end_time": "2022-11-25T21:54:31.479942Z",
     "start_time": "2022-11-25T21:53:53.770578Z"
    }
   },
   "outputs": [],
   "source": [
    "file_path = \"../data/20News\"\n",
    "os.makedirs(file_path, exist_ok=True)\n",
    "with open(f\"{file_path}/class.csv\", \"w\") as f:\n",
    "    writer = csv.writer(f)\n",
    "    writer.writerows(class_labels)\n",
    "newsgroups_df.to_csv(f\"{file_path}/master.csv\")"
   ]
  },
  {
   "cell_type": "code",
   "execution_count": null,
   "id": "6543fd90",
   "metadata": {},
   "outputs": [],
   "source": []
  },
  {
   "cell_type": "code",
   "execution_count": null,
   "id": "c84dc658",
   "metadata": {},
   "outputs": [],
   "source": []
  }
 ],
 "metadata": {
  "kernelspec": {
   "display_name": "Python 3 (ipykernel)",
   "language": "python",
   "name": "python3"
  },
  "language_info": {
   "codemirror_mode": {
    "name": "ipython",
    "version": 3
   },
   "file_extension": ".py",
   "mimetype": "text/x-python",
   "name": "python",
   "nbconvert_exporter": "python",
   "pygments_lexer": "ipython3",
   "version": "3.10.6"
  },
  "toc": {
   "base_numbering": 1,
   "nav_menu": {},
   "number_sections": true,
   "sideBar": true,
   "skip_h1_title": false,
   "title_cell": "Table of Contents",
   "title_sidebar": "Contents",
   "toc_cell": false,
   "toc_position": {},
   "toc_section_display": true,
   "toc_window_display": false
  }
 },
 "nbformat": 4,
 "nbformat_minor": 5
}
