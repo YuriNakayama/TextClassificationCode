{
 "cells": [
  {
   "cell_type": "markdown",
   "id": "b95f9187",
   "metadata": {},
   "source": [
    "# Import"
   ]
  },
  {
   "cell_type": "code",
   "execution_count": 3,
   "id": "80a85ab5",
   "metadata": {
    "ExecuteTime": {
     "end_time": "2023-02-07T11:22:28.614880Z",
     "start_time": "2023-02-07T11:22:27.682075Z"
    }
   },
   "outputs": [],
   "source": [
    "import csv\n",
    "import os\n",
    "import sys\n",
    "\n",
    "import numpy as np\n",
    "import pandas as pd\n",
    "from nltk import word_tokenize, download\n",
    "from stop_words import get_stop_words\n",
    "from nltk.corpus import stopwords\n",
    "from tqdm import tqdm"
   ]
  },
  {
   "cell_type": "markdown",
   "id": "2543f4e4",
   "metadata": {},
   "source": [
    "## Add configuration file"
   ]
  },
  {
   "cell_type": "code",
   "execution_count": 4,
   "id": "f0f02287",
   "metadata": {
    "ExecuteTime": {
     "end_time": "2023-02-07T11:22:28.785810Z",
     "start_time": "2023-02-07T11:22:28.782489Z"
    }
   },
   "outputs": [],
   "source": [
    "sys.path.append(\"/home/jovyan/core/config/\")\n",
    "sys.path.append(\"/home/jovyan/core/util/\")"
   ]
  },
  {
   "cell_type": "code",
   "execution_count": 5,
   "id": "08c511e8",
   "metadata": {
    "ExecuteTime": {
     "end_time": "2023-02-07T11:22:29.560405Z",
     "start_time": "2023-02-07T11:22:29.393530Z"
    }
   },
   "outputs": [],
   "source": [
    "from ALL import config \n",
    "from util import *"
   ]
  },
  {
   "cell_type": "markdown",
   "id": "e0cf6da0",
   "metadata": {},
   "source": [
    "## Set condition"
   ]
  },
  {
   "cell_type": "code",
   "execution_count": 6,
   "id": "9d870465",
   "metadata": {
    "ExecuteTime": {
     "end_time": "2023-02-07T11:22:30.464125Z",
     "start_time": "2023-02-07T11:22:30.460179Z"
    }
   },
   "outputs": [],
   "source": [
    "tqdm.pandas()\n",
    "pd.set_option(\"display.max_columns\", 100)\n",
    "pd.set_option(\"display.max_rows\", 50)"
   ]
  },
  {
   "cell_type": "code",
   "execution_count": 7,
   "id": "86817c2a",
   "metadata": {
    "ExecuteTime": {
     "end_time": "2023-02-07T11:22:31.090167Z",
     "start_time": "2023-02-07T11:22:31.087266Z"
    }
   },
   "outputs": [],
   "source": [
    "s3 = S3Manager()"
   ]
  },
  {
   "cell_type": "markdown",
   "id": "52c60a4f",
   "metadata": {},
   "source": [
    "# Read data"
   ]
  },
  {
   "cell_type": "code",
   "execution_count": 8,
   "id": "5bf91b89",
   "metadata": {
    "ExecuteTime": {
     "end_time": "2023-02-07T11:22:57.146079Z",
     "start_time": "2023-02-07T11:22:55.283289Z"
    }
   },
   "outputs": [],
   "source": [
    "df_path = s3.download(\"DataShaping/20News/master.csv\")"
   ]
  },
  {
   "cell_type": "code",
   "execution_count": 9,
   "id": "c81d3638",
   "metadata": {
    "ExecuteTime": {
     "end_time": "2023-02-07T11:23:10.993137Z",
     "start_time": "2023-02-07T11:23:10.652808Z"
    },
    "scrolled": true
   },
   "outputs": [],
   "source": [
    "df = pd.read_csv(df_path, index_col=0)"
   ]
  },
  {
   "cell_type": "code",
   "execution_count": 10,
   "id": "511b29b4",
   "metadata": {
    "ExecuteTime": {
     "end_time": "2023-02-07T11:23:22.565649Z",
     "start_time": "2023-02-07T11:23:22.423790Z"
    }
   },
   "outputs": [],
   "source": [
    "labels_path = s3.download(\"DataShaping/20News/class.csv\")"
   ]
  },
  {
   "cell_type": "code",
   "execution_count": 11,
   "id": "04e7ed11",
   "metadata": {
    "ExecuteTime": {
     "end_time": "2023-02-07T11:23:29.468401Z",
     "start_time": "2023-02-07T11:23:29.464460Z"
    }
   },
   "outputs": [],
   "source": [
    "with open(labels_path, mode=\"r\") as f:\n",
    "    reader = csv.reader(f)\n",
    "    class_labels = [label for label in reader]"
   ]
  },
  {
   "cell_type": "markdown",
   "id": "3bbf34bf",
   "metadata": {},
   "source": [
    "# Word tokenize"
   ]
  },
  {
   "cell_type": "code",
   "execution_count": 14,
   "id": "6cd89091",
   "metadata": {
    "ExecuteTime": {
     "end_time": "2023-02-07T11:29:34.204605Z",
     "start_time": "2023-02-07T11:29:33.629881Z"
    }
   },
   "outputs": [
    {
     "name": "stderr",
     "output_type": "stream",
     "text": [
      "[nltk_data] Downloading package punkt to /home/jovyan/nltk_data...\n",
      "[nltk_data]   Unzipping tokenizers/punkt.zip.\n",
      "[nltk_data] Downloading package stopwords to /home/jovyan/nltk_data...\n",
      "[nltk_data]   Unzipping corpora/stopwords.zip.\n"
     ]
    },
    {
     "data": {
      "text/plain": [
       "True"
      ]
     },
     "execution_count": 14,
     "metadata": {},
     "output_type": "execute_result"
    }
   ],
   "source": [
    "download('punkt')\n",
    "download(\"stopwords\")"
   ]
  },
  {
   "cell_type": "code",
   "execution_count": 15,
   "id": "fe20e107",
   "metadata": {
    "ExecuteTime": {
     "end_time": "2023-02-07T11:30:22.985419Z",
     "start_time": "2023-02-07T11:29:34.207083Z"
    }
   },
   "outputs": [
    {
     "name": "stderr",
     "output_type": "stream",
     "text": [
      "100%|██████████| 18846/18846 [00:48<00:00, 386.42it/s]\n"
     ]
    }
   ],
   "source": [
    "df[\"words\"] = df.text.progress_apply(word_tokenize)"
   ]
  },
  {
   "cell_type": "markdown",
   "id": "383bf1f9",
   "metadata": {},
   "source": [
    "# Remove long text"
   ]
  },
  {
   "cell_type": "code",
   "execution_count": 16,
   "id": "796b4587",
   "metadata": {
    "ExecuteTime": {
     "end_time": "2023-02-07T11:30:23.031556Z",
     "start_time": "2023-02-07T11:30:22.988155Z"
    }
   },
   "outputs": [
    {
     "name": "stderr",
     "output_type": "stream",
     "text": [
      "100%|██████████| 18846/18846 [00:00<00:00, 509493.34it/s]\n"
     ]
    }
   ],
   "source": [
    "df[\"words_length\"] = df.words.progress_apply(lambda x: len(x))"
   ]
  },
  {
   "cell_type": "code",
   "execution_count": 17,
   "id": "970f774d",
   "metadata": {
    "ExecuteTime": {
     "end_time": "2023-02-07T11:30:25.873781Z",
     "start_time": "2023-02-07T11:30:25.860378Z"
    }
   },
   "outputs": [],
   "source": [
    "index = df[df[\"words_length\"] < df[\"words_length\"].quantile(0.996)].index"
   ]
  },
  {
   "cell_type": "code",
   "execution_count": 18,
   "id": "8e86ebc1",
   "metadata": {
    "ExecuteTime": {
     "end_time": "2023-02-07T11:30:26.508163Z",
     "start_time": "2023-02-07T11:30:26.484162Z"
    }
   },
   "outputs": [],
   "source": [
    "df = df.loc[index]"
   ]
  },
  {
   "cell_type": "markdown",
   "id": "9cb07b7c",
   "metadata": {},
   "source": [
    "# Remove stopwords"
   ]
  },
  {
   "cell_type": "code",
   "execution_count": 19,
   "id": "8913c259",
   "metadata": {
    "ExecuteTime": {
     "end_time": "2023-02-07T11:30:46.923342Z",
     "start_time": "2023-02-07T11:30:46.917715Z"
    }
   },
   "outputs": [],
   "source": [
    "stop_words_add = [\"would\", \"could\", \"should\"]\n",
    "stop_char = [\"==\", \"--\", \"\\'s\", \"''\", \"n't\", \"``\",\"..\", \"...\", \"....\", \"'m\", \"'ve\",\"'re\", \"'d\", \"'ll\", \"\", \"-+\", \"+-\", \"_/\", \"||\", \"__\", \"/|\", \"//\"]\n",
    "stop_words = set(stopwords.words(\"english\") + get_stop_words(\"english\") + stop_words_add + stop_char)"
   ]
  },
  {
   "cell_type": "code",
   "execution_count": 20,
   "id": "ed47adea",
   "metadata": {
    "ExecuteTime": {
     "end_time": "2023-02-07T11:30:56.678018Z",
     "start_time": "2023-02-07T11:30:55.366063Z"
    },
    "scrolled": true
   },
   "outputs": [
    {
     "name": "stderr",
     "output_type": "stream",
     "text": [
      "100%|██████████| 18770/18770 [00:01<00:00, 14389.19it/s]\n"
     ]
    }
   ],
   "source": [
    "#     一文字以下の単語とstop_word, stop_charを削除\n",
    "df[\"words_nonstop\"] = df.words.progress_apply(\n",
    "    lambda words: [\n",
    "        word for word in words if word.lower() not in stop_words if len(word)> 1\n",
    "    ]\n",
    ")"
   ]
  },
  {
   "cell_type": "code",
   "execution_count": 21,
   "id": "01e55dcd",
   "metadata": {
    "ExecuteTime": {
     "end_time": "2023-02-07T11:31:04.147848Z",
     "start_time": "2023-02-07T11:31:03.670459Z"
    }
   },
   "outputs": [
    {
     "name": "stderr",
     "output_type": "stream",
     "text": [
      "100%|██████████| 18770/18770 [00:00<00:00, 89943.18it/s]\n",
      "100%|██████████| 18770/18770 [00:00<00:00, 164937.73it/s]\n"
     ]
    }
   ],
   "source": [
    "df.words = df.words.progress_apply(lambda words: \" \".join(words))\n",
    "df.words_nonstop = df.words_nonstop.progress_apply(\n",
    "    lambda words: \" \".join(words)\n",
    ")"
   ]
  },
  {
   "cell_type": "markdown",
   "id": "8a2b1bc6",
   "metadata": {},
   "source": [
    "# output"
   ]
  },
  {
   "cell_type": "markdown",
   "id": "4dd6d970",
   "metadata": {},
   "source": [
    "## make file"
   ]
  },
  {
   "cell_type": "code",
   "execution_count": 22,
   "id": "00880607",
   "metadata": {
    "ExecuteTime": {
     "end_time": "2023-02-07T11:31:45.680215Z",
     "start_time": "2023-02-07T11:31:43.869793Z"
    }
   },
   "outputs": [],
   "source": [
    "with open(make_filepath(f\"../../temporary/Preprocessing/20News/class.csv\"), \"w\") as f:\n",
    "    writer = csv.writer(f)\n",
    "    writer.writerow(class_labels)\n",
    "df.to_csv(make_filepath(f\"../../temporary/DataShaping/20News/master.csv\"))"
   ]
  },
  {
   "cell_type": "markdown",
   "id": "876bbb63",
   "metadata": {},
   "source": [
    "## upload file"
   ]
  },
  {
   "cell_type": "code",
   "execution_count": 23,
   "id": "8a44bb5f",
   "metadata": {
    "ExecuteTime": {
     "end_time": "2023-02-07T11:31:46.583250Z",
     "start_time": "2023-02-07T11:31:46.452846Z"
    }
   },
   "outputs": [
    {
     "data": {
      "text/plain": [
       "'../../temporary/Preprocessing/20News'"
      ]
     },
     "execution_count": 23,
     "metadata": {},
     "output_type": "execute_result"
    }
   ],
   "source": [
    "s3.upload(\"../../temporary/Preprocessing/20News\", \"DataShaping/20News/\")"
   ]
  },
  {
   "cell_type": "code",
   "execution_count": 24,
   "id": "b39ce3e8",
   "metadata": {
    "ExecuteTime": {
     "end_time": "2023-02-07T11:31:47.161347Z",
     "start_time": "2023-02-07T11:31:47.141250Z"
    }
   },
   "outputs": [
    {
     "name": "stdout",
     "output_type": "stream",
     "text": [
      "../../temporary/Preprocessing/20News\n",
      "/home/jovyan//temporary/DataShaping/20News/master.csv\n",
      "/home/jovyan//temporary/DataShaping/20News/class.csv\n"
     ]
    }
   ],
   "source": [
    "s3.delete_local_all()"
   ]
  },
  {
   "cell_type": "code",
   "execution_count": 25,
   "id": "f3b396c6",
   "metadata": {
    "ExecuteTime": {
     "end_time": "2023-02-07T11:31:47.786229Z",
     "start_time": "2023-02-07T11:31:47.769302Z"
    }
   },
   "outputs": [],
   "source": [
    "shutil.rmtree(\"../../nltk_data/\")"
   ]
  }
 ],
 "metadata": {
  "kernelspec": {
   "display_name": "Python 3 (ipykernel)",
   "language": "python",
   "name": "python3"
  },
  "language_info": {
   "codemirror_mode": {
    "name": "ipython",
    "version": 3
   },
   "file_extension": ".py",
   "mimetype": "text/x-python",
   "name": "python",
   "nbconvert_exporter": "python",
   "pygments_lexer": "ipython3",
   "version": "3.10.8"
  },
  "toc": {
   "base_numbering": 1,
   "nav_menu": {},
   "number_sections": true,
   "sideBar": true,
   "skip_h1_title": false,
   "title_cell": "Table of Contents",
   "title_sidebar": "Contents",
   "toc_cell": false,
   "toc_position": {},
   "toc_section_display": true,
   "toc_window_display": false
  }
 },
 "nbformat": 4,
 "nbformat_minor": 5
}
