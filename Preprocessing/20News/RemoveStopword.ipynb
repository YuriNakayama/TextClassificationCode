{
 "cells": [
  {
   "cell_type": "markdown",
   "id": "b95f9187",
   "metadata": {},
   "source": [
    "# Import"
   ]
  },
  {
   "cell_type": "code",
   "execution_count": 30,
   "id": "80a85ab5",
   "metadata": {
    "ExecuteTime": {
     "end_time": "2022-12-05T08:13:22.896312Z",
     "start_time": "2022-12-05T08:13:22.892369Z"
    }
   },
   "outputs": [],
   "source": [
    "import csv\n",
    "import os\n",
    "import sys\n",
    "\n",
    "import numpy as np\n",
    "import pandas as pd\n",
    "from nltk import word_tokenize\n",
    "from nltk.corpus import stopwords\n",
    "from stop_words import get_stop_words\n",
    "from tqdm import tqdm\n",
    "import nltk"
   ]
  },
  {
   "cell_type": "markdown",
   "id": "2543f4e4",
   "metadata": {},
   "source": [
    "## Add configuration file"
   ]
  },
  {
   "cell_type": "code",
   "execution_count": 31,
   "id": "f0f02287",
   "metadata": {
    "ExecuteTime": {
     "end_time": "2022-12-05T08:13:23.474325Z",
     "start_time": "2022-12-05T08:13:23.470964Z"
    }
   },
   "outputs": [],
   "source": [
    "sys.path.append(\"/home/jovyan/core/config/\")"
   ]
  },
  {
   "cell_type": "code",
   "execution_count": 32,
   "id": "08c511e8",
   "metadata": {
    "ExecuteTime": {
     "end_time": "2022-12-05T08:13:23.560838Z",
     "start_time": "2022-12-05T08:13:23.557352Z"
    }
   },
   "outputs": [],
   "source": [
    "from ALL import config "
   ]
  },
  {
   "cell_type": "markdown",
   "id": "9330548e",
   "metadata": {},
   "source": [
    "## Set condition"
   ]
  },
  {
   "cell_type": "code",
   "execution_count": 33,
   "id": "a30f3623",
   "metadata": {
    "ExecuteTime": {
     "end_time": "2022-12-05T08:13:23.726138Z",
     "start_time": "2022-12-05T08:13:23.722242Z"
    }
   },
   "outputs": [],
   "source": [
    "tqdm.pandas()\n",
    "pd.set_option(\"display.max_columns\", 100)\n",
    "pd.set_option(\"display.max_rows\", 50)"
   ]
  },
  {
   "cell_type": "markdown",
   "id": "52c60a4f",
   "metadata": {},
   "source": [
    "# Read data"
   ]
  },
  {
   "cell_type": "code",
   "execution_count": 34,
   "id": "c81d3638",
   "metadata": {
    "ExecuteTime": {
     "end_time": "2022-12-05T08:13:24.205562Z",
     "start_time": "2022-12-05T08:13:23.890267Z"
    },
    "scrolled": true
   },
   "outputs": [],
   "source": [
    "newsgroups_df = pd.read_csv(\"../../DataShaping/data/20News/master.csv\", index_col=0)"
   ]
  },
  {
   "cell_type": "code",
   "execution_count": 35,
   "id": "95389cd0",
   "metadata": {
    "ExecuteTime": {
     "end_time": "2022-12-05T08:13:24.211927Z",
     "start_time": "2022-12-05T08:13:24.208175Z"
    }
   },
   "outputs": [],
   "source": [
    "with open(\"../../DataShaping/data/20News/class.csv\", mode=\"r\") as f:\n",
    "    reader = csv.reader(f)\n",
    "    class_labels = [label for label in reader]"
   ]
  },
  {
   "cell_type": "markdown",
   "id": "3bbf34bf",
   "metadata": {},
   "source": [
    "# Word tokenize"
   ]
  },
  {
   "cell_type": "code",
   "execution_count": 36,
   "id": "fe20e107",
   "metadata": {
    "ExecuteTime": {
     "end_time": "2022-12-05T08:14:12.249008Z",
     "start_time": "2022-12-05T08:13:24.213821Z"
    }
   },
   "outputs": [
    {
     "name": "stderr",
     "output_type": "stream",
     "text": [
      "100%|██████████| 18846/18846 [00:48<00:00, 392.41it/s]\n"
     ]
    }
   ],
   "source": [
    "newsgroups_df[\"words\"] = newsgroups_df.text.progress_apply(word_tokenize)"
   ]
  },
  {
   "cell_type": "code",
   "execution_count": 37,
   "id": "8913c259",
   "metadata": {
    "ExecuteTime": {
     "end_time": "2022-12-05T08:14:12.256392Z",
     "start_time": "2022-12-05T08:14:12.251769Z"
    }
   },
   "outputs": [],
   "source": [
    "stop_words_add = [\"would\", \"could\", \"should\"]\n",
    "stop_char = [\"==\", \"--\", \"\\'s\", \"''\", \"n't\", \"``\",\"..\", \"...\", \"....\", \"'m\", \"'ve\",\"'re\", \"'d\", \"'ll\", \"\", \"-+\", \"+-\", \"_/\", \"||\", \"__\", \"/|\", \"//\"]\n",
    "stop_words = set(stopwords.words(\"english\") + get_stop_words(\"english\") + stop_words_add + stop_char)"
   ]
  },
  {
   "cell_type": "code",
   "execution_count": 38,
   "id": "ed47adea",
   "metadata": {
    "ExecuteTime": {
     "end_time": "2022-12-05T08:14:13.915479Z",
     "start_time": "2022-12-05T08:14:12.258931Z"
    },
    "scrolled": true
   },
   "outputs": [
    {
     "name": "stderr",
     "output_type": "stream",
     "text": [
      "100%|██████████| 18846/18846 [00:01<00:00, 11429.24it/s]\n"
     ]
    }
   ],
   "source": [
    "#     一文字以下の単語とstop_word, stop_charを削除\n",
    "newsgroups_df[\"words_nonstop\"] = newsgroups_df.words.progress_apply(\n",
    "    lambda words: [\n",
    "        word for word in words if word.lower() not in stop_words if len(word) > 1\n",
    "    ]\n",
    ")"
   ]
  },
  {
   "cell_type": "code",
   "execution_count": 39,
   "id": "01e55dcd",
   "metadata": {
    "ExecuteTime": {
     "end_time": "2022-12-05T08:14:14.548434Z",
     "start_time": "2022-12-05T08:14:13.917750Z"
    }
   },
   "outputs": [
    {
     "name": "stderr",
     "output_type": "stream",
     "text": [
      "100%|██████████| 18846/18846 [00:00<00:00, 76917.69it/s]\n",
      "100%|██████████| 18846/18846 [00:00<00:00, 130895.76it/s]\n"
     ]
    }
   ],
   "source": [
    "newsgroups_df.words = newsgroups_df.words.progress_apply(lambda words: \" \".join(words))\n",
    "newsgroups_df.words_nonstop = newsgroups_df.words_nonstop.progress_apply(\n",
    "    lambda words: \" \".join(words)\n",
    ")"
   ]
  },
  {
   "cell_type": "code",
   "execution_count": 40,
   "id": "f2c3d436",
   "metadata": {
    "ExecuteTime": {
     "end_time": "2022-12-05T08:14:16.734640Z",
     "start_time": "2022-12-05T08:14:14.550743Z"
    }
   },
   "outputs": [],
   "source": [
    "file_path = \"../data/20News\"\n",
    "os.makedirs(file_path, exist_ok=True)\n",
    "with open(f\"{file_path}/class.csv\", \"w\") as f:\n",
    "    writer = csv.writer(f)\n",
    "    writer.writerows(class_labels)\n",
    "newsgroups_df.to_csv(f\"{file_path}/master.csv\")"
   ]
  },
  {
   "cell_type": "code",
   "execution_count": null,
   "id": "3a163ace",
   "metadata": {},
   "outputs": [],
   "source": []
  }
 ],
 "metadata": {
  "kernelspec": {
   "display_name": "Python 3 (ipykernel)",
   "language": "python",
   "name": "python3"
  },
  "language_info": {
   "codemirror_mode": {
    "name": "ipython",
    "version": 3
   },
   "file_extension": ".py",
   "mimetype": "text/x-python",
   "name": "python",
   "nbconvert_exporter": "python",
   "pygments_lexer": "ipython3",
   "version": "3.10.8"
  },
  "toc": {
   "base_numbering": 1,
   "nav_menu": {},
   "number_sections": true,
   "sideBar": true,
   "skip_h1_title": false,
   "title_cell": "Table of Contents",
   "title_sidebar": "Contents",
   "toc_cell": false,
   "toc_position": {},
   "toc_section_display": true,
   "toc_window_display": false
  }
 },
 "nbformat": 4,
 "nbformat_minor": 5
}
