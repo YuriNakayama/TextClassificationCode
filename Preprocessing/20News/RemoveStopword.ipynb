{
 "cells": [
  {
   "cell_type": "markdown",
   "id": "b95f9187",
   "metadata": {},
   "source": [
    "# Import"
   ]
  },
  {
   "cell_type": "code",
   "execution_count": 13,
   "id": "80a85ab5",
   "metadata": {
    "ExecuteTime": {
     "end_time": "2022-12-04T08:40:20.443237Z",
     "start_time": "2022-12-04T08:40:20.327300Z"
    }
   },
   "outputs": [],
   "source": [
    "import csv\n",
    "import os\n",
    "import sys\n",
    "\n",
    "import numpy as np\n",
    "import pandas as pd\n",
    "from nltk import word_tokenize\n",
    "from nltk.corpus import stopwords\n",
    "from stop_words import get_stop_words\n",
    "from tqdm import tqdm"
   ]
  },
  {
   "cell_type": "code",
   "execution_count": 14,
   "id": "f0f02287",
   "metadata": {
    "ExecuteTime": {
     "end_time": "2022-12-04T08:40:20.765336Z",
     "start_time": "2022-12-04T08:40:20.740696Z"
    }
   },
   "outputs": [],
   "source": [
    "sys.path.append(\"/home/jovyan/core/config/\")"
   ]
  },
  {
   "cell_type": "code",
   "execution_count": 15,
   "id": "08c511e8",
   "metadata": {
    "ExecuteTime": {
     "end_time": "2022-12-04T08:40:20.865221Z",
     "start_time": "2022-12-04T08:40:20.854147Z"
    }
   },
   "outputs": [],
   "source": [
    "from ALL import config "
   ]
  },
  {
   "cell_type": "markdown",
   "id": "c4f90dd3",
   "metadata": {},
   "source": [
    "## Set condition"
   ]
  },
  {
   "cell_type": "code",
   "execution_count": 16,
   "id": "9d870465",
   "metadata": {
    "ExecuteTime": {
     "end_time": "2022-12-04T08:40:21.025292Z",
     "start_time": "2022-12-04T08:40:20.994301Z"
    }
   },
   "outputs": [],
   "source": [
    "tqdm.pandas()\n",
    "pd.set_option(\"display.max_columns\", 100)\n",
    "pd.set_option(\"display.max_rows\", 50)"
   ]
  },
  {
   "cell_type": "markdown",
   "id": "52c60a4f",
   "metadata": {},
   "source": [
    "# Read data"
   ]
  },
  {
   "cell_type": "code",
   "execution_count": 17,
   "id": "c81d3638",
   "metadata": {
    "ExecuteTime": {
     "end_time": "2022-12-04T08:40:25.884249Z",
     "start_time": "2022-12-04T08:40:21.159398Z"
    },
    "scrolled": true
   },
   "outputs": [],
   "source": [
    "newsgroups_df = pd.read_csv(\"../../DataShaping/data/20News/master.csv\", index_col=0)"
   ]
  },
  {
   "cell_type": "code",
   "execution_count": 18,
   "id": "95389cd0",
   "metadata": {
    "ExecuteTime": {
     "end_time": "2022-12-04T08:40:25.950616Z",
     "start_time": "2022-12-04T08:40:25.906861Z"
    }
   },
   "outputs": [],
   "source": [
    "with open(\"../../DataShaping/data/20News/class.csv\", mode=\"r\") as f:\n",
    "    reader = csv.reader(f)\n",
    "    class_labels = [label for label in reader]"
   ]
  },
  {
   "cell_type": "markdown",
   "id": "3bbf34bf",
   "metadata": {},
   "source": [
    "# Word tokenize"
   ]
  },
  {
   "cell_type": "code",
   "execution_count": 19,
   "id": "fe20e107",
   "metadata": {
    "ExecuteTime": {
     "end_time": "2022-12-04T08:53:39.677616Z",
     "start_time": "2022-12-04T08:40:25.979436Z"
    }
   },
   "outputs": [
    {
     "name": "stderr",
     "output_type": "stream",
     "text": [
      "100%|██████████| 18846/18846 [13:13<00:00, 23.76it/s]\n"
     ]
    }
   ],
   "source": [
    "newsgroups_df[\"words\"] = newsgroups_df.text.progress_apply(word_tokenize)"
   ]
  },
  {
   "cell_type": "code",
   "execution_count": 20,
   "id": "8913c259",
   "metadata": {
    "ExecuteTime": {
     "end_time": "2022-12-04T08:53:39.859303Z",
     "start_time": "2022-12-04T08:53:39.757341Z"
    }
   },
   "outputs": [],
   "source": [
    "stop_words_add = [\"would\", \"could\", \"should\"]\n",
    "stop_char = [\"==\", \"--\", \"\\'s\", \"''\", \"n't\", \"``\",\"..\", \"...\", \"....\", \"'m\", \"'ve\", \"'d\", \"'ll\", \"\"]\n",
    "stop_words = set(stopwords.words(\"english\") + get_stop_words(\"english\") + stop_words_add + stop_char)"
   ]
  },
  {
   "cell_type": "code",
   "execution_count": 21,
   "id": "ed47adea",
   "metadata": {
    "ExecuteTime": {
     "end_time": "2022-12-04T08:54:05.298772Z",
     "start_time": "2022-12-04T08:53:39.880709Z"
    },
    "scrolled": true
   },
   "outputs": [
    {
     "name": "stderr",
     "output_type": "stream",
     "text": [
      "100%|██████████| 18846/18846 [00:25<00:00, 746.20it/s] \n"
     ]
    }
   ],
   "source": [
    "#     一文字以下の単語とstop_word, stop_charを削除\n",
    "newsgroups_df[\"words_nonstop\"] = newsgroups_df.words.progress_apply(\n",
    "    lambda words: [\n",
    "        word for word in words if word.lower() not in stop_words if len(word) > 1\n",
    "    ]\n",
    ")"
   ]
  },
  {
   "cell_type": "code",
   "execution_count": 22,
   "id": "01e55dcd",
   "metadata": {
    "ExecuteTime": {
     "end_time": "2022-12-04T08:54:13.560131Z",
     "start_time": "2022-12-04T08:54:05.369193Z"
    }
   },
   "outputs": [
    {
     "name": "stderr",
     "output_type": "stream",
     "text": [
      "100%|██████████| 18846/18846 [00:04<00:00, 4271.72it/s]\n",
      "100%|██████████| 18846/18846 [00:01<00:00, 11415.55it/s]\n"
     ]
    }
   ],
   "source": [
    "newsgroups_df.words = newsgroups_df.words.progress_apply(lambda words: \" \".join(words))\n",
    "newsgroups_df.words_nonstop = newsgroups_df.words_nonstop.progress_apply(\n",
    "    lambda words: \" \".join(words)\n",
    ")"
   ]
  },
  {
   "cell_type": "code",
   "execution_count": null,
   "id": "f2c3d436",
   "metadata": {
    "ExecuteTime": {
     "start_time": "2022-12-04T08:40:21.959Z"
    }
   },
   "outputs": [],
   "source": [
    "file_path = \"../data/20News\"\n",
    "os.makedirs(file_path, exist_ok=True)\n",
    "with open(f\"{file_path}/class.csv\", \"w\") as f:\n",
    "    writer = csv.writer(f)\n",
    "    writer.writerows(class_labels)\n",
    "newsgroups_df.to_csv(f\"{file_path}/master.csv\")"
   ]
  }
 ],
 "metadata": {
  "kernelspec": {
   "display_name": "Python 3 (ipykernel)",
   "language": "python",
   "name": "python3"
  },
  "language_info": {
   "codemirror_mode": {
    "name": "ipython",
    "version": 3
   },
   "file_extension": ".py",
   "mimetype": "text/x-python",
   "name": "python",
   "nbconvert_exporter": "python",
   "pygments_lexer": "ipython3",
   "version": "3.10.6"
  },
  "toc": {
   "base_numbering": 1,
   "nav_menu": {},
   "number_sections": true,
   "sideBar": true,
   "skip_h1_title": false,
   "title_cell": "Table of Contents",
   "title_sidebar": "Contents",
   "toc_cell": false,
   "toc_position": {},
   "toc_section_display": true,
   "toc_window_display": false
  }
 },
 "nbformat": 4,
 "nbformat_minor": 5
}
