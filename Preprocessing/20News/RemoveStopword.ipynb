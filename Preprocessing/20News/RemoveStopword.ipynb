{
 "cells": [
  {
   "cell_type": "markdown",
   "id": "b95f9187",
   "metadata": {},
   "source": [
    "# Import"
   ]
  },
  {
   "cell_type": "code",
   "execution_count": 3,
   "id": "80a85ab5",
   "metadata": {
    "ExecuteTime": {
     "end_time": "2022-12-21T13:31:55.534836Z",
     "start_time": "2022-12-21T13:31:54.644134Z"
    }
   },
   "outputs": [],
   "source": [
    "import csv\n",
    "import os\n",
    "import sys\n",
    "\n",
    "import numpy as np\n",
    "import pandas as pd\n",
    "from nltk import word_tokenize\n",
    "from nltk.corpus import stopwords\n",
    "from stop_words import get_stop_words\n",
    "from tqdm import tqdm\n",
    "import nltk"
   ]
  },
  {
   "cell_type": "markdown",
   "id": "2543f4e4",
   "metadata": {},
   "source": [
    "## Add configuration file"
   ]
  },
  {
   "cell_type": "code",
   "execution_count": 4,
   "id": "f0f02287",
   "metadata": {
    "ExecuteTime": {
     "end_time": "2022-12-21T13:31:55.540440Z",
     "start_time": "2022-12-21T13:31:55.537592Z"
    }
   },
   "outputs": [],
   "source": [
    "sys.path.append(\"/home/jovyan/core/config/\")\n",
    "sys.path.append(\"/home/jovyan/core/util/\")"
   ]
  },
  {
   "cell_type": "code",
   "execution_count": 5,
   "id": "08c511e8",
   "metadata": {
    "ExecuteTime": {
     "end_time": "2022-12-21T13:31:57.215120Z",
     "start_time": "2022-12-21T13:31:57.209450Z"
    }
   },
   "outputs": [],
   "source": [
    "from ALL import config \n",
    "from util import *"
   ]
  },
  {
   "cell_type": "markdown",
   "id": "9330548e",
   "metadata": {},
   "source": [
    "## Set condition"
   ]
  },
  {
   "cell_type": "code",
   "execution_count": 4,
   "id": "a30f3623",
   "metadata": {
    "ExecuteTime": {
     "end_time": "2022-12-14T10:00:46.289914Z",
     "start_time": "2022-12-14T10:00:46.285158Z"
    }
   },
   "outputs": [],
   "source": [
    "tqdm.pandas()\n",
    "pd.set_option(\"display.max_columns\", 100)\n",
    "pd.set_option(\"display.max_rows\", 50)"
   ]
  },
  {
   "cell_type": "markdown",
   "id": "52c60a4f",
   "metadata": {},
   "source": [
    "# Read data"
   ]
  },
  {
   "cell_type": "code",
   "execution_count": 5,
   "id": "c81d3638",
   "metadata": {
    "ExecuteTime": {
     "end_time": "2022-12-14T10:00:47.411281Z",
     "start_time": "2022-12-14T10:00:46.291984Z"
    },
    "scrolled": true
   },
   "outputs": [],
   "source": [
    "newsgroups_df = pd.read_csv(\"../../DataShaping/data/20News/master.csv\", index_col=0)"
   ]
  },
  {
   "cell_type": "code",
   "execution_count": 6,
   "id": "95389cd0",
   "metadata": {
    "ExecuteTime": {
     "end_time": "2022-12-14T10:00:47.420509Z",
     "start_time": "2022-12-14T10:00:47.413623Z"
    }
   },
   "outputs": [],
   "source": [
    "with open(\"../../DataShaping/data/20News/class.csv\", mode=\"r\") as f:\n",
    "    reader = csv.reader(f)\n",
    "    class_labels = [label for label in reader]"
   ]
  },
  {
   "cell_type": "markdown",
   "id": "3bbf34bf",
   "metadata": {},
   "source": [
    "# Word tokenize"
   ]
  },
  {
   "cell_type": "code",
   "execution_count": 7,
   "id": "fe20e107",
   "metadata": {
    "ExecuteTime": {
     "end_time": "2022-12-14T10:01:35.050162Z",
     "start_time": "2022-12-14T10:00:47.422325Z"
    }
   },
   "outputs": [
    {
     "name": "stderr",
     "output_type": "stream",
     "text": [
      "100%|██████████| 18846/18846 [00:47<00:00, 395.77it/s]\n"
     ]
    }
   ],
   "source": [
    "newsgroups_df[\"words\"] = newsgroups_df.text.progress_apply(word_tokenize)"
   ]
  },
  {
   "cell_type": "markdown",
   "id": "383bf1f9",
   "metadata": {},
   "source": [
    "# Remove long text"
   ]
  },
  {
   "cell_type": "code",
   "execution_count": 8,
   "id": "796b4587",
   "metadata": {
    "ExecuteTime": {
     "end_time": "2022-12-14T10:01:35.094459Z",
     "start_time": "2022-12-14T10:01:35.052364Z"
    }
   },
   "outputs": [
    {
     "name": "stderr",
     "output_type": "stream",
     "text": [
      "100%|██████████| 18846/18846 [00:00<00:00, 521809.92it/s]\n"
     ]
    }
   ],
   "source": [
    "newsgroups_df[\"words_length\"] = newsgroups_df.words.progress_apply(lambda x: len(x))"
   ]
  },
  {
   "cell_type": "code",
   "execution_count": 9,
   "id": "970f774d",
   "metadata": {
    "ExecuteTime": {
     "end_time": "2022-12-14T10:01:35.106792Z",
     "start_time": "2022-12-14T10:01:35.097705Z"
    }
   },
   "outputs": [],
   "source": [
    "index = newsgroups_df[\n",
    "    newsgroups_df[\"words_length\"] < newsgroups_df[\"words_length\"].quantile(0.996)\n",
    "].index"
   ]
  },
  {
   "cell_type": "code",
   "execution_count": 10,
   "id": "8e86ebc1",
   "metadata": {
    "ExecuteTime": {
     "end_time": "2022-12-14T10:01:35.132404Z",
     "start_time": "2022-12-14T10:01:35.108667Z"
    }
   },
   "outputs": [],
   "source": [
    "newsgroups_df = newsgroups_df.loc[index]"
   ]
  },
  {
   "cell_type": "markdown",
   "id": "9cb07b7c",
   "metadata": {},
   "source": [
    "# Remove stopwords"
   ]
  },
  {
   "cell_type": "code",
   "execution_count": 11,
   "id": "8913c259",
   "metadata": {
    "ExecuteTime": {
     "end_time": "2022-12-14T10:01:35.145084Z",
     "start_time": "2022-12-14T10:01:35.134496Z"
    }
   },
   "outputs": [],
   "source": [
    "stop_words_add = [\"would\", \"could\", \"should\"]\n",
    "stop_char = [\"==\", \"--\", \"\\'s\", \"''\", \"n't\", \"``\",\"..\", \"...\", \"....\",\".....\", \"......\", \"'m\", \"'ve\",\"'re\", \"'d\", \"'ll\", \"\", \"-+\", \"+-\", \"_/\", \"||\", \"__\", \"/|\", \"//\"]\n",
    "stop_words = set(stopwords.words(\"english\") + get_stop_words(\"english\") + stop_words_add + stop_char)"
   ]
  },
  {
   "cell_type": "code",
   "execution_count": 12,
   "id": "ed47adea",
   "metadata": {
    "ExecuteTime": {
     "end_time": "2022-12-14T10:01:36.497392Z",
     "start_time": "2022-12-14T10:01:35.147363Z"
    },
    "scrolled": true
   },
   "outputs": [
    {
     "name": "stderr",
     "output_type": "stream",
     "text": [
      "100%|██████████| 18770/18770 [00:01<00:00, 13974.30it/s]\n"
     ]
    }
   ],
   "source": [
    "#     一文字以下の単語とstop_word, stop_charを削除\n",
    "newsgroups_df[\"words_nonstop\"] = newsgroups_df.words.progress_apply(\n",
    "    lambda words: [\n",
    "        word for word in words if word.lower() not in stop_words if len(word) > 1 \n",
    "    ]\n",
    ")"
   ]
  },
  {
   "cell_type": "code",
   "execution_count": 13,
   "id": "01e55dcd",
   "metadata": {
    "ExecuteTime": {
     "end_time": "2022-12-14T10:01:36.970621Z",
     "start_time": "2022-12-14T10:01:36.499787Z"
    }
   },
   "outputs": [
    {
     "name": "stderr",
     "output_type": "stream",
     "text": [
      "100%|██████████| 18770/18770 [00:00<00:00, 91622.39it/s]\n",
      "100%|██████████| 18770/18770 [00:00<00:00, 168613.70it/s]\n"
     ]
    }
   ],
   "source": [
    "newsgroups_df.words = newsgroups_df.words.progress_apply(lambda words: \" \".join(words))\n",
    "newsgroups_df.words_nonstop = newsgroups_df.words_nonstop.progress_apply(\n",
    "    lambda words: \" \".join(words)\n",
    ")"
   ]
  },
  {
   "cell_type": "code",
   "execution_count": 14,
   "id": "f2c3d436",
   "metadata": {
    "ExecuteTime": {
     "end_time": "2022-12-14T10:01:38.856317Z",
     "start_time": "2022-12-14T10:01:36.973035Z"
    }
   },
   "outputs": [],
   "source": [
    "file_path = \"../data/20News\"\n",
    "os.makedirs(file_path, exist_ok=True)\n",
    "with open(f\"{file_path}/class.csv\", \"w\") as f:\n",
    "    writer = csv.writer(f)\n",
    "    writer.writerows(class_labels)\n",
    "newsgroups_df.to_csv(f\"{file_path}/master.csv\")"
   ]
  },
  {
   "cell_type": "code",
   "execution_count": null,
   "id": "3a163ace",
   "metadata": {},
   "outputs": [],
   "source": []
  }
 ],
 "metadata": {
  "kernelspec": {
   "display_name": "Python 3 (ipykernel)",
   "language": "python",
   "name": "python3"
  },
  "language_info": {
   "codemirror_mode": {
    "name": "ipython",
    "version": 3
   },
   "file_extension": ".py",
   "mimetype": "text/x-python",
   "name": "python",
   "nbconvert_exporter": "python",
   "pygments_lexer": "ipython3",
   "version": "3.10.8"
  },
  "toc": {
   "base_numbering": 1,
   "nav_menu": {},
   "number_sections": true,
   "sideBar": true,
   "skip_h1_title": false,
   "title_cell": "Table of Contents",
   "title_sidebar": "Contents",
   "toc_cell": false,
   "toc_position": {},
   "toc_section_display": true,
   "toc_window_display": false
  }
 },
 "nbformat": 4,
 "nbformat_minor": 5
}
