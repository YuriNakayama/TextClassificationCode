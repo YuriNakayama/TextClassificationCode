{
 "cells": [
  {
   "cell_type": "markdown",
   "id": "b95f9187",
   "metadata": {},
   "source": [
    "# Import"
   ]
  },
  {
   "cell_type": "code",
   "execution_count": 21,
   "id": "80a85ab5",
   "metadata": {
    "ExecuteTime": {
     "end_time": "2023-02-07T10:41:57.386194Z",
     "start_time": "2023-02-07T10:41:57.382226Z"
    }
   },
   "outputs": [],
   "source": [
    "import csv\n",
    "import os\n",
    "import sys\n",
    "\n",
    "import numpy as np\n",
    "import pandas as pd\n",
    "from nltk import word_tokenize, download\n",
    "from stop_words import get_stop_words\n",
    "from nltk.corpus import stopwords\n",
    "from tqdm import tqdm"
   ]
  },
  {
   "cell_type": "markdown",
   "id": "2543f4e4",
   "metadata": {},
   "source": [
    "## Add configuration file"
   ]
  },
  {
   "cell_type": "code",
   "execution_count": 7,
   "id": "f0f02287",
   "metadata": {
    "ExecuteTime": {
     "end_time": "2023-02-07T10:35:20.451643Z",
     "start_time": "2023-02-07T10:35:20.448443Z"
    }
   },
   "outputs": [],
   "source": [
    "sys.path.append(\"/home/jovyan/core/config/\")\n",
    "sys.path.append(\"/home/jovyan/core/util/\")"
   ]
  },
  {
   "cell_type": "code",
   "execution_count": 8,
   "id": "08c511e8",
   "metadata": {
    "ExecuteTime": {
     "end_time": "2023-02-07T10:35:20.798510Z",
     "start_time": "2023-02-07T10:35:20.626335Z"
    }
   },
   "outputs": [],
   "source": [
    "from ALL import config \n",
    "from util import *"
   ]
  },
  {
   "cell_type": "markdown",
   "id": "e0cf6da0",
   "metadata": {},
   "source": [
    "## Set condition"
   ]
  },
  {
   "cell_type": "code",
   "execution_count": 9,
   "id": "9d870465",
   "metadata": {
    "ExecuteTime": {
     "end_time": "2023-02-07T10:35:21.293343Z",
     "start_time": "2023-02-07T10:35:21.289038Z"
    }
   },
   "outputs": [],
   "source": [
    "tqdm.pandas()\n",
    "pd.set_option(\"display.max_columns\", 100)\n",
    "pd.set_option(\"display.max_rows\", 50)"
   ]
  },
  {
   "cell_type": "code",
   "execution_count": 10,
   "id": "d3dda19f",
   "metadata": {
    "ExecuteTime": {
     "end_time": "2023-02-07T10:35:21.621507Z",
     "start_time": "2023-02-07T10:35:21.618657Z"
    }
   },
   "outputs": [],
   "source": [
    "s3 = S3Manager()"
   ]
  },
  {
   "cell_type": "markdown",
   "id": "52c60a4f",
   "metadata": {},
   "source": [
    "# Read data"
   ]
  },
  {
   "cell_type": "code",
   "execution_count": 15,
   "id": "623b1f51",
   "metadata": {
    "ExecuteTime": {
     "end_time": "2023-02-07T10:36:25.472411Z",
     "start_time": "2023-02-07T10:36:24.868513Z"
    }
   },
   "outputs": [],
   "source": [
    "df_path = s3.download(\"DataShaping/AgNews/master.csv\")"
   ]
  },
  {
   "cell_type": "code",
   "execution_count": 16,
   "id": "7e3df888",
   "metadata": {
    "ExecuteTime": {
     "end_time": "2023-02-07T10:36:41.767188Z",
     "start_time": "2023-02-07T10:36:41.334708Z"
    }
   },
   "outputs": [],
   "source": [
    "df = pd.read_csv(df_path, index_col=0)"
   ]
  },
  {
   "cell_type": "code",
   "execution_count": 18,
   "id": "ae147525",
   "metadata": {
    "ExecuteTime": {
     "end_time": "2023-02-07T10:41:07.673826Z",
     "start_time": "2023-02-07T10:41:07.566322Z"
    }
   },
   "outputs": [],
   "source": [
    "labels_path = s3.download(\"DataShaping/AgNews/class.csv\")"
   ]
  },
  {
   "cell_type": "code",
   "execution_count": 19,
   "id": "95389cd0",
   "metadata": {
    "ExecuteTime": {
     "end_time": "2023-02-07T10:41:19.968514Z",
     "start_time": "2023-02-07T10:41:19.964670Z"
    }
   },
   "outputs": [],
   "source": [
    "with open(labels_path, mode=\"r\") as f:\n",
    "    reader = csv.reader(f)\n",
    "    class_labels = [label for label in reader]"
   ]
  },
  {
   "cell_type": "markdown",
   "id": "3bbf34bf",
   "metadata": {},
   "source": [
    "# Word tokinize"
   ]
  },
  {
   "cell_type": "code",
   "execution_count": 25,
   "id": "68eaaacf",
   "metadata": {
    "ExecuteTime": {
     "end_time": "2023-02-07T10:42:45.619468Z",
     "start_time": "2023-02-07T10:42:45.529701Z"
    }
   },
   "outputs": [
    {
     "name": "stderr",
     "output_type": "stream",
     "text": [
      "[nltk_data] Downloading package punkt to /home/jovyan/nltk_data...\n",
      "[nltk_data]   Package punkt is already up-to-date!\n",
      "[nltk_data] Downloading package stopwords to /home/jovyan/nltk_data...\n",
      "[nltk_data]   Unzipping corpora/stopwords.zip.\n"
     ]
    },
    {
     "data": {
      "text/plain": [
       "True"
      ]
     },
     "execution_count": 25,
     "metadata": {},
     "output_type": "execute_result"
    }
   ],
   "source": [
    "download('punkt')\n",
    "download(\"stopwords\")"
   ]
  },
  {
   "cell_type": "code",
   "execution_count": 28,
   "id": "fe20e107",
   "metadata": {
    "ExecuteTime": {
     "end_time": "2023-02-07T10:43:30.527685Z",
     "start_time": "2023-02-07T10:43:17.609176Z"
    }
   },
   "outputs": [
    {
     "name": "stderr",
     "output_type": "stream",
     "text": [
      "100%|██████████| 120000/120000 [00:12<00:00, 9315.36it/s]\n"
     ]
    }
   ],
   "source": [
    "df[\"words\"] = df.title.progress_apply(word_tokenize)"
   ]
  },
  {
   "cell_type": "code",
   "execution_count": 29,
   "id": "1b00ac3e",
   "metadata": {
    "ExecuteTime": {
     "end_time": "2023-02-07T10:43:30.534685Z",
     "start_time": "2023-02-07T10:43:30.530699Z"
    },
    "scrolled": true
   },
   "outputs": [],
   "source": [
    "stop_words_add = [\"would\", \"could\", \"should\"]\n",
    "stop_char = [\"==\", \"--\", \"\\'s\", \"''\", \"n't\", \"``\",\"..\", \"...\", \"....\", \"'m\", \"'ve\",\"'re\", \"'d\", \"'ll\", \"\", \"-+\", \"+-\", \"_/\", \"||\", \"__\", \"/|\", \"//\"]\n",
    "stop_words = set(stopwords.words(\"english\") + get_stop_words(\"english\") + stop_words_add + stop_char)"
   ]
  },
  {
   "cell_type": "code",
   "execution_count": 30,
   "id": "ed47adea",
   "metadata": {
    "ExecuteTime": {
     "end_time": "2023-02-07T10:43:30.966697Z",
     "start_time": "2023-02-07T10:43:30.536744Z"
    },
    "scrolled": true
   },
   "outputs": [
    {
     "name": "stderr",
     "output_type": "stream",
     "text": [
      "100%|██████████| 120000/120000 [00:00<00:00, 286070.20it/s]\n"
     ]
    }
   ],
   "source": [
    "#     一文字以下の単語とstop_word, stop_charを削除\n",
    "df[\"words_nonstop\"] = df.words.progress_apply(\n",
    "    lambda words: [\n",
    "        word for word in words if word.lower() not in stop_words if len(word)> 1\n",
    "    ]\n",
    ")"
   ]
  },
  {
   "cell_type": "code",
   "execution_count": 31,
   "id": "44ede6bd",
   "metadata": {
    "ExecuteTime": {
     "end_time": "2023-02-07T10:43:31.438770Z",
     "start_time": "2023-02-07T10:43:30.969406Z"
    }
   },
   "outputs": [
    {
     "name": "stderr",
     "output_type": "stream",
     "text": [
      "100%|██████████| 120000/120000 [00:00<00:00, 583971.06it/s]\n",
      "100%|██████████| 120000/120000 [00:00<00:00, 609822.61it/s]\n"
     ]
    }
   ],
   "source": [
    "df.words = df.words.progress_apply(lambda words: \" \".join(words))\n",
    "df.words_nonstop = df.words_nonstop.progress_apply(\n",
    "    lambda words: \" \".join(words)\n",
    ")"
   ]
  },
  {
   "cell_type": "code",
   "execution_count": 33,
   "id": "ed78335a",
   "metadata": {
    "ExecuteTime": {
     "end_time": "2023-02-07T10:48:57.148328Z",
     "start_time": "2023-02-07T10:48:57.127335Z"
    }
   },
   "outputs": [],
   "source": [
    "df = df.rename(mapper={\"text\": \"_text\", \"title\": \"text\"}, axis=1)\n",
    "# ag_news_df = ag_news_df.drop(ag_news_df[ag_news_df.words_nonstop == \"\"].index)"
   ]
  },
  {
   "cell_type": "markdown",
   "id": "8a2b1bc6",
   "metadata": {},
   "source": [
    "# output"
   ]
  },
  {
   "cell_type": "markdown",
   "id": "4dd6d970",
   "metadata": {},
   "source": [
    "## make file"
   ]
  },
  {
   "cell_type": "code",
   "execution_count": 35,
   "id": "00880607",
   "metadata": {
    "ExecuteTime": {
     "end_time": "2023-02-07T11:04:28.006430Z",
     "start_time": "2023-02-07T11:04:26.975313Z"
    }
   },
   "outputs": [],
   "source": [
    "with open(make_filepath(f\"../../temporary/Preprocessing/AgNewsTitle/class.csv\"), \"w\") as f:\n",
    "    writer = csv.writer(f)\n",
    "    writer.writerow(class_labels)\n",
    "df.to_csv(make_filepath(f\"../../temporary/DataShaping/AgNewsTitle/master.csv\"))"
   ]
  },
  {
   "cell_type": "markdown",
   "id": "876bbb63",
   "metadata": {},
   "source": [
    "## upload file"
   ]
  },
  {
   "cell_type": "code",
   "execution_count": 36,
   "id": "8a44bb5f",
   "metadata": {
    "ExecuteTime": {
     "end_time": "2023-02-07T11:05:00.284477Z",
     "start_time": "2023-02-07T11:05:00.183592Z"
    }
   },
   "outputs": [
    {
     "data": {
      "text/plain": [
       "'../../temporary/Preprocessing/AgNewsTitle'"
      ]
     },
     "execution_count": 36,
     "metadata": {},
     "output_type": "execute_result"
    }
   ],
   "source": [
    "s3.upload(\"../../temporary/Preprocessing/AgNewsTitle\", \"DataShaping/AgNewsTitle/\")"
   ]
  },
  {
   "cell_type": "code",
   "execution_count": 37,
   "id": "b39ce3e8",
   "metadata": {
    "ExecuteTime": {
     "end_time": "2023-02-07T11:05:04.254799Z",
     "start_time": "2023-02-07T11:05:04.246029Z"
    }
   },
   "outputs": [
    {
     "name": "stdout",
     "output_type": "stream",
     "text": [
      "../../temporary/Preprocessing/AgNewsTitle\n",
      "/home/jovyan//temporary/DataShaping/AgNews/master.csv\n",
      "/home/jovyan//temporary/DataShaping/AgNews/class.csv\n"
     ]
    }
   ],
   "source": [
    "s3.delete_local_all()"
   ]
  },
  {
   "cell_type": "code",
   "execution_count": 38,
   "id": "f3b396c6",
   "metadata": {
    "ExecuteTime": {
     "end_time": "2023-02-07T11:05:21.987556Z",
     "start_time": "2023-02-07T11:05:21.971051Z"
    }
   },
   "outputs": [],
   "source": [
    "shutil.rmtree(\"../../nltk_data/\")"
   ]
  }
 ],
 "metadata": {
  "kernelspec": {
   "display_name": "Python 3 (ipykernel)",
   "language": "python",
   "name": "python3"
  },
  "language_info": {
   "codemirror_mode": {
    "name": "ipython",
    "version": 3
   },
   "file_extension": ".py",
   "mimetype": "text/x-python",
   "name": "python",
   "nbconvert_exporter": "python",
   "pygments_lexer": "ipython3",
   "version": "3.10.8"
  },
  "toc": {
   "base_numbering": 1,
   "nav_menu": {},
   "number_sections": true,
   "sideBar": true,
   "skip_h1_title": false,
   "title_cell": "Table of Contents",
   "title_sidebar": "Contents",
   "toc_cell": false,
   "toc_position": {},
   "toc_section_display": true,
   "toc_window_display": false
  }
 },
 "nbformat": 4,
 "nbformat_minor": 5
}
