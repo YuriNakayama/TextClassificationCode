{
 "cells": [
  {
   "cell_type": "markdown",
   "id": "b95f9187",
   "metadata": {},
   "source": [
    "# Import"
   ]
  },
  {
   "cell_type": "code",
   "execution_count": 9,
   "id": "80a85ab5",
   "metadata": {
    "ExecuteTime": {
     "end_time": "2023-02-28T07:22:56.757431Z",
     "start_time": "2023-02-28T07:22:56.725399Z"
    }
   },
   "outputs": [],
   "source": [
    "import csv\n",
    "import os\n",
    "import re\n",
    "import sys\n",
    "\n",
    "import numpy as np\n",
    "import pandas as pd\n",
    "from nltk import download, word_tokenize\n",
    "from nltk.corpus import stopwords\n",
    "from stop_words import get_stop_words\n",
    "from tqdm import tqdm\n",
    "\n",
    "from urlextract import URLExtract"
   ]
  },
  {
   "cell_type": "markdown",
   "id": "2543f4e4",
   "metadata": {},
   "source": [
    "## Add configuration file"
   ]
  },
  {
   "cell_type": "code",
   "execution_count": 10,
   "id": "f0f02287",
   "metadata": {
    "ExecuteTime": {
     "end_time": "2023-02-28T07:23:00.181813Z",
     "start_time": "2023-02-28T07:23:00.177147Z"
    }
   },
   "outputs": [],
   "source": [
    "sys.path.append(\"/home/jovyan/core/config/\")\n",
    "sys.path.append(\"/home/jovyan/core/util/\")"
   ]
  },
  {
   "cell_type": "code",
   "execution_count": 11,
   "id": "08c511e8",
   "metadata": {
    "ExecuteTime": {
     "end_time": "2023-02-28T07:23:00.603750Z",
     "start_time": "2023-02-28T07:23:00.369006Z"
    }
   },
   "outputs": [],
   "source": [
    "from ALL import config \n",
    "from util import *"
   ]
  },
  {
   "cell_type": "markdown",
   "id": "e0cf6da0",
   "metadata": {},
   "source": [
    "## Set condition"
   ]
  },
  {
   "cell_type": "code",
   "execution_count": 12,
   "id": "9d870465",
   "metadata": {
    "ExecuteTime": {
     "end_time": "2023-02-28T07:23:01.684323Z",
     "start_time": "2023-02-28T07:23:01.678414Z"
    }
   },
   "outputs": [],
   "source": [
    "tqdm.pandas()\n",
    "pd.set_option(\"display.max_columns\", 100)\n",
    "pd.set_option(\"display.max_rows\", 50)"
   ]
  },
  {
   "cell_type": "code",
   "execution_count": 13,
   "id": "d3dda19f",
   "metadata": {
    "ExecuteTime": {
     "end_time": "2023-02-28T07:23:01.846014Z",
     "start_time": "2023-02-28T07:23:01.842685Z"
    }
   },
   "outputs": [],
   "source": [
    "s3 = S3Manager()"
   ]
  },
  {
   "cell_type": "markdown",
   "id": "52c60a4f",
   "metadata": {},
   "source": [
    "# Read data"
   ]
  },
  {
   "cell_type": "code",
   "execution_count": 14,
   "id": "623b1f51",
   "metadata": {
    "ExecuteTime": {
     "end_time": "2023-02-28T07:23:05.062071Z",
     "start_time": "2023-02-28T07:23:03.051873Z"
    }
   },
   "outputs": [],
   "source": [
    "df_path = s3.download(\"DataShaping/TweetTopic/master.csv\")"
   ]
  },
  {
   "cell_type": "code",
   "execution_count": 15,
   "id": "7e3df888",
   "metadata": {
    "ExecuteTime": {
     "end_time": "2023-02-28T07:23:05.134479Z",
     "start_time": "2023-02-28T07:23:05.065506Z"
    },
    "scrolled": true
   },
   "outputs": [],
   "source": [
    "df = pd.read_csv(df_path[0], index_col=0)"
   ]
  },
  {
   "cell_type": "code",
   "execution_count": 16,
   "id": "c8bbdfd5",
   "metadata": {
    "ExecuteTime": {
     "end_time": "2023-02-28T07:23:05.140558Z",
     "start_time": "2023-02-28T07:23:05.136513Z"
    }
   },
   "outputs": [],
   "source": [
    "df = df.reset_index(drop=True)"
   ]
  },
  {
   "cell_type": "code",
   "execution_count": 17,
   "id": "ae147525",
   "metadata": {
    "ExecuteTime": {
     "end_time": "2023-02-28T07:23:05.572494Z",
     "start_time": "2023-02-28T07:23:05.305261Z"
    }
   },
   "outputs": [],
   "source": [
    "labels_path = s3.download(\"DataShaping/TweetTopic/class.csv\")"
   ]
  },
  {
   "cell_type": "code",
   "execution_count": 18,
   "id": "95389cd0",
   "metadata": {
    "ExecuteTime": {
     "end_time": "2023-02-28T07:23:06.191242Z",
     "start_time": "2023-02-28T07:23:06.186520Z"
    }
   },
   "outputs": [],
   "source": [
    "with open(labels_path[0], mode=\"r\") as f:\n",
    "    reader = csv.reader(f)\n",
    "    class_labels = [label for label in reader]"
   ]
  },
  {
   "cell_type": "markdown",
   "id": "3bbf34bf",
   "metadata": {},
   "source": [
    "# Word tokinize"
   ]
  },
  {
   "cell_type": "code",
   "execution_count": 19,
   "id": "68eaaacf",
   "metadata": {
    "ExecuteTime": {
     "end_time": "2023-02-28T07:23:08.321990Z",
     "start_time": "2023-02-28T07:23:07.637807Z"
    }
   },
   "outputs": [
    {
     "name": "stderr",
     "output_type": "stream",
     "text": [
      "[nltk_data] Downloading package punkt to /home/jovyan/nltk_data...\n",
      "[nltk_data]   Unzipping tokenizers/punkt.zip.\n",
      "[nltk_data] Downloading package stopwords to /home/jovyan/nltk_data...\n",
      "[nltk_data]   Unzipping corpora/stopwords.zip.\n"
     ]
    },
    {
     "data": {
      "text/plain": [
       "True"
      ]
     },
     "execution_count": 19,
     "metadata": {},
     "output_type": "execute_result"
    }
   ],
   "source": [
    "download('punkt')\n",
    "download(\"stopwords\")"
   ]
  },
  {
   "cell_type": "markdown",
   "id": "82b720e9",
   "metadata": {},
   "source": [
    "## delete URL"
   ]
  },
  {
   "cell_type": "code",
   "execution_count": 20,
   "id": "323a2481",
   "metadata": {
    "ExecuteTime": {
     "end_time": "2023-02-28T07:23:08.591618Z",
     "start_time": "2023-02-28T07:23:08.587437Z"
    }
   },
   "outputs": [],
   "source": [
    "def format_tweet(tweet):\n",
    "    # mask web urls\n",
    "    urls = extractor.find_urls(tweet)\n",
    "    for url in urls:\n",
    "        tweet = tweet.replace(url, \"\")\n",
    "    # format twitter account\n",
    "    tweet = re.sub(r\"\\b(\\s*)(@[\\S]+)\\b\", r'\\1{\\2@}', tweet)\n",
    "    return tweet"
   ]
  },
  {
   "cell_type": "code",
   "execution_count": 21,
   "id": "f572f268",
   "metadata": {
    "ExecuteTime": {
     "end_time": "2023-02-28T07:23:19.907965Z",
     "start_time": "2023-02-28T07:23:09.971819Z"
    }
   },
   "outputs": [
    {
     "name": "stderr",
     "output_type": "stream",
     "text": [
      " 25%|██▍       | 1718/6997 [00:02<00:07, 742.78it/s]"
     ]
    }
   ],
   "source": [
    "extractor = URLExtract()\n",
    "df[\"text\"] = df.text.progress_apply(format_tweet)"
   ]
  },
  {
   "cell_type": "code",
   "execution_count": 22,
   "id": "fe20e107",
   "metadata": {
    "ExecuteTime": {
     "end_time": "2023-02-28T07:23:22.353999Z",
     "start_time": "2023-02-28T07:23:19.910580Z"
    }
   },
   "outputs": [],
   "source": [
    "df[\"words\"] = df.text.progress_apply(word_tokenize)"
   ]
  },
  {
   "cell_type": "code",
   "execution_count": 23,
   "id": "1b00ac3e",
   "metadata": {
    "ExecuteTime": {
     "end_time": "2023-02-28T07:23:22.363671Z",
     "start_time": "2023-02-28T07:23:22.357815Z"
    },
    "scrolled": true
   },
   "outputs": [],
   "source": [
    "stop_words_add = [\"would\", \"could\", \"should\"]\n",
    "stop_char = [\"==\", \"--\", \"\\'s\", \"''\", \"n't\", \"``\",\"..\", \"...\", \"....\", \"'m\", \"'ve\",\"'re\", \"'d\", \"'ll\", \"\", \"-+\", \"+-\", \"_/\", \"||\", \"__\", \"/|\", \"//\", \"{\", \"}\"]\n",
    "stop_words = set(stopwords.words(\"english\") + get_stop_words(\"english\") + stop_words_add + stop_char)"
   ]
  },
  {
   "cell_type": "code",
   "execution_count": 24,
   "id": "ed47adea",
   "metadata": {
    "ExecuteTime": {
     "end_time": "2023-02-28T07:23:22.441700Z",
     "start_time": "2023-02-28T07:23:22.367487Z"
    },
    "scrolled": true
   },
   "outputs": [],
   "source": [
    "#     一文字以下の単語とstop_word, stop_charを削除\n",
    "df[\"words_nonstop\"] = df.words.progress_apply(\n",
    "    lambda words: [\n",
    "        word for word in words if word.lower() not in stop_words if len(word)> 1\n",
    "    ]\n",
    ")"
   ]
  },
  {
   "cell_type": "code",
   "execution_count": 25,
   "id": "44ede6bd",
   "metadata": {
    "ExecuteTime": {
     "end_time": "2023-02-28T07:23:22.493790Z",
     "start_time": "2023-02-28T07:23:22.443718Z"
    }
   },
   "outputs": [],
   "source": [
    "df.words = df.words.progress_apply(lambda words: \" \".join(words))\n",
    "df.words_nonstop = df.words_nonstop.progress_apply(\n",
    "    lambda words: \" \".join(words)\n",
    ")"
   ]
  },
  {
   "cell_type": "markdown",
   "id": "8a2b1bc6",
   "metadata": {},
   "source": [
    "# output"
   ]
  },
  {
   "cell_type": "markdown",
   "id": "4dd6d970",
   "metadata": {},
   "source": [
    "## make file"
   ]
  },
  {
   "cell_type": "code",
   "execution_count": 26,
   "id": "00880607",
   "metadata": {
    "ExecuteTime": {
     "end_time": "2023-02-28T07:23:22.622155Z",
     "start_time": "2023-02-28T07:23:22.496270Z"
    }
   },
   "outputs": [],
   "source": [
    "with open(make_filepath(f\"../../temporary/Preprocessing/TweetTopic/class.csv\"), \"w\") as f:\n",
    "    writer = csv.writer(f)\n",
    "    writer.writerow(class_labels)\n",
    "df.to_csv(make_filepath(f\"../../temporary/Preprocessing/TweetTopic/master.csv\"))"
   ]
  },
  {
   "cell_type": "markdown",
   "id": "876bbb63",
   "metadata": {},
   "source": [
    "## upload file"
   ]
  },
  {
   "cell_type": "code",
   "execution_count": 27,
   "id": "8a44bb5f",
   "metadata": {
    "ExecuteTime": {
     "end_time": "2023-02-28T07:23:22.840521Z",
     "start_time": "2023-02-28T07:23:22.624893Z"
    }
   },
   "outputs": [],
   "source": [
    "s3.upload(\"../../temporary/Preprocessing/TweetTopic\", \"Preprocessing/TweetTopic/\")"
   ]
  },
  {
   "cell_type": "code",
   "execution_count": 28,
   "id": "b39ce3e8",
   "metadata": {
    "ExecuteTime": {
     "end_time": "2023-02-28T07:23:22.853048Z",
     "start_time": "2023-02-28T07:23:22.843004Z"
    }
   },
   "outputs": [],
   "source": [
    "s3.delete_local_all()"
   ]
  },
  {
   "cell_type": "code",
   "execution_count": 29,
   "id": "f3b396c6",
   "metadata": {
    "ExecuteTime": {
     "end_time": "2023-02-28T07:23:22.876599Z",
     "start_time": "2023-02-28T07:23:22.856449Z"
    }
   },
   "outputs": [],
   "source": [
    "shutil.rmtree(\"../../nltk_data/\")"
   ]
  },
  {
   "cell_type": "code",
   "execution_count": null,
   "id": "51c8c937",
   "metadata": {},
   "outputs": [],
   "source": []
  },
  {
   "cell_type": "code",
   "execution_count": null,
   "id": "33f21c58",
   "metadata": {},
   "outputs": [],
   "source": []
  }
 ],
 "metadata": {
  "kernelspec": {
   "display_name": "Python 3 (ipykernel)",
   "language": "python",
   "name": "python3"
  },
  "language_info": {
   "codemirror_mode": {
    "name": "ipython",
    "version": 3
   },
   "file_extension": ".py",
   "mimetype": "text/x-python",
   "name": "python",
   "nbconvert_exporter": "python",
   "pygments_lexer": "ipython3",
   "version": "3.10.9"
  },
  "toc": {
   "base_numbering": 1,
   "nav_menu": {},
   "number_sections": true,
   "sideBar": true,
   "skip_h1_title": false,
   "title_cell": "Table of Contents",
   "title_sidebar": "Contents",
   "toc_cell": false,
   "toc_position": {},
   "toc_section_display": true,
   "toc_window_display": false
  }
 },
 "nbformat": 4,
 "nbformat_minor": 5
}
