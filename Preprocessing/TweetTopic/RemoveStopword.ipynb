{
 "cells": [
  {
   "cell_type": "markdown",
   "id": "b95f9187",
   "metadata": {},
   "source": [
    "# Import"
   ]
  },
  {
   "cell_type": "code",
   "execution_count": 1,
   "id": "80a85ab5",
   "metadata": {
    "ExecuteTime": {
     "end_time": "2023-02-13T12:33:43.735957Z",
     "start_time": "2023-02-13T12:33:42.626641Z"
    }
   },
   "outputs": [],
   "source": [
    "import csv\n",
    "import os\n",
    "import re\n",
    "import sys\n",
    "\n",
    "import numpy as np\n",
    "import pandas as pd\n",
    "from nltk import download, word_tokenize\n",
    "from nltk.corpus import stopwords\n",
    "from stop_words import get_stop_words\n",
    "from tqdm import tqdm\n",
    "\n",
    "from urlextract import URLExtract"
   ]
  },
  {
   "cell_type": "markdown",
   "id": "2543f4e4",
   "metadata": {},
   "source": [
    "## Add configuration file"
   ]
  },
  {
   "cell_type": "code",
   "execution_count": 2,
   "id": "f0f02287",
   "metadata": {
    "ExecuteTime": {
     "end_time": "2023-02-13T12:33:43.744610Z",
     "start_time": "2023-02-13T12:33:43.741836Z"
    }
   },
   "outputs": [],
   "source": [
    "sys.path.append(\"/home/jovyan/core/config/\")\n",
    "sys.path.append(\"/home/jovyan/core/util/\")"
   ]
  },
  {
   "cell_type": "code",
   "execution_count": 3,
   "id": "08c511e8",
   "metadata": {
    "ExecuteTime": {
     "end_time": "2023-02-13T12:33:43.905711Z",
     "start_time": "2023-02-13T12:33:43.746609Z"
    }
   },
   "outputs": [],
   "source": [
    "from ALL import config \n",
    "from util import *"
   ]
  },
  {
   "cell_type": "markdown",
   "id": "e0cf6da0",
   "metadata": {},
   "source": [
    "## Set condition"
   ]
  },
  {
   "cell_type": "code",
   "execution_count": 4,
   "id": "9d870465",
   "metadata": {
    "ExecuteTime": {
     "end_time": "2023-02-13T12:33:43.913971Z",
     "start_time": "2023-02-13T12:33:43.909681Z"
    }
   },
   "outputs": [],
   "source": [
    "tqdm.pandas()\n",
    "pd.set_option(\"display.max_columns\", 100)\n",
    "pd.set_option(\"display.max_rows\", 50)"
   ]
  },
  {
   "cell_type": "code",
   "execution_count": 5,
   "id": "d3dda19f",
   "metadata": {
    "ExecuteTime": {
     "end_time": "2023-02-13T12:33:43.921299Z",
     "start_time": "2023-02-13T12:33:43.916921Z"
    }
   },
   "outputs": [],
   "source": [
    "s3 = S3Manager()"
   ]
  },
  {
   "cell_type": "markdown",
   "id": "52c60a4f",
   "metadata": {},
   "source": [
    "# Read data"
   ]
  },
  {
   "cell_type": "code",
   "execution_count": 6,
   "id": "623b1f51",
   "metadata": {
    "ExecuteTime": {
     "end_time": "2023-02-13T12:33:45.411112Z",
     "start_time": "2023-02-13T12:33:43.923865Z"
    }
   },
   "outputs": [],
   "source": [
    "df_path = s3.download(\"DataShaping/TweetTopic/master.csv\")"
   ]
  },
  {
   "cell_type": "code",
   "execution_count": 7,
   "id": "7e3df888",
   "metadata": {
    "ExecuteTime": {
     "end_time": "2023-02-13T12:33:45.484904Z",
     "start_time": "2023-02-13T12:33:45.413535Z"
    },
    "scrolled": true
   },
   "outputs": [],
   "source": [
    "df = pd.read_csv(df_path[0], index_col=0)"
   ]
  },
  {
   "cell_type": "code",
   "execution_count": 8,
   "id": "ae147525",
   "metadata": {
    "ExecuteTime": {
     "end_time": "2023-02-13T12:33:45.754298Z",
     "start_time": "2023-02-13T12:33:45.487266Z"
    }
   },
   "outputs": [],
   "source": [
    "labels_path = s3.download(\"DataShaping/TweetTopic/class.csv\")"
   ]
  },
  {
   "cell_type": "code",
   "execution_count": 9,
   "id": "95389cd0",
   "metadata": {
    "ExecuteTime": {
     "end_time": "2023-02-13T12:33:45.762751Z",
     "start_time": "2023-02-13T12:33:45.758166Z"
    }
   },
   "outputs": [],
   "source": [
    "with open(labels_path[0], mode=\"r\") as f:\n",
    "    reader = csv.reader(f)\n",
    "    class_labels = [label for label in reader]"
   ]
  },
  {
   "cell_type": "markdown",
   "id": "3bbf34bf",
   "metadata": {},
   "source": [
    "# Word tokinize"
   ]
  },
  {
   "cell_type": "code",
   "execution_count": 10,
   "id": "68eaaacf",
   "metadata": {
    "ExecuteTime": {
     "end_time": "2023-02-13T12:33:46.593618Z",
     "start_time": "2023-02-13T12:33:45.765356Z"
    }
   },
   "outputs": [
    {
     "name": "stderr",
     "output_type": "stream",
     "text": [
      "[nltk_data] Downloading package punkt to /home/jovyan/nltk_data...\n",
      "[nltk_data]   Unzipping tokenizers/punkt.zip.\n",
      "[nltk_data] Downloading package stopwords to /home/jovyan/nltk_data...\n",
      "[nltk_data]   Unzipping corpora/stopwords.zip.\n"
     ]
    },
    {
     "data": {
      "text/plain": [
       "True"
      ]
     },
     "execution_count": 10,
     "metadata": {},
     "output_type": "execute_result"
    }
   ],
   "source": [
    "download('punkt')\n",
    "download(\"stopwords\")"
   ]
  },
  {
   "cell_type": "markdown",
   "id": "82b720e9",
   "metadata": {},
   "source": [
    "## delete URL"
   ]
  },
  {
   "cell_type": "code",
   "execution_count": 11,
   "id": "323a2481",
   "metadata": {
    "ExecuteTime": {
     "end_time": "2023-02-13T12:33:46.600647Z",
     "start_time": "2023-02-13T12:33:46.595821Z"
    }
   },
   "outputs": [],
   "source": [
    "def format_tweet(tweet):\n",
    "    # mask web urls\n",
    "    urls = extractor.find_urls(tweet)\n",
    "    for url in urls:\n",
    "        tweet = tweet.replace(url, \"\")\n",
    "    # format twitter account\n",
    "    tweet = re.sub(r\"\\b(\\s*)(@[\\S]+)\\b\", r'\\1{\\2@}', tweet)\n",
    "    return tweet"
   ]
  },
  {
   "cell_type": "code",
   "execution_count": 12,
   "id": "f572f268",
   "metadata": {
    "ExecuteTime": {
     "end_time": "2023-02-13T12:33:58.604702Z",
     "start_time": "2023-02-13T12:33:46.604936Z"
    }
   },
   "outputs": [
    {
     "name": "stderr",
     "output_type": "stream",
     "text": [
      "100%|██████████| 6997/6997 [00:11<00:00, 591.07it/s]\n"
     ]
    }
   ],
   "source": [
    "extractor = URLExtract()\n",
    "df[\"text\"] = df.text.progress_apply(format_tweet)"
   ]
  },
  {
   "cell_type": "code",
   "execution_count": 13,
   "id": "fe20e107",
   "metadata": {
    "ExecuteTime": {
     "end_time": "2023-02-13T12:34:00.908492Z",
     "start_time": "2023-02-13T12:33:58.626280Z"
    }
   },
   "outputs": [
    {
     "name": "stderr",
     "output_type": "stream",
     "text": [
      "100%|██████████| 6997/6997 [00:02<00:00, 3078.09it/s]\n"
     ]
    }
   ],
   "source": [
    "df[\"words\"] = df.text.progress_apply(word_tokenize)"
   ]
  },
  {
   "cell_type": "code",
   "execution_count": 14,
   "id": "1b00ac3e",
   "metadata": {
    "ExecuteTime": {
     "end_time": "2023-02-13T12:34:00.917499Z",
     "start_time": "2023-02-13T12:34:00.910777Z"
    },
    "scrolled": true
   },
   "outputs": [],
   "source": [
    "stop_words_add = [\"would\", \"could\", \"should\"]\n",
    "stop_char = [\"==\", \"--\", \"\\'s\", \"''\", \"n't\", \"``\",\"..\", \"...\", \"....\", \"'m\", \"'ve\",\"'re\", \"'d\", \"'ll\", \"\", \"-+\", \"+-\", \"_/\", \"||\", \"__\", \"/|\", \"//\", \"{\", \"}\"]\n",
    "stop_words = set(stopwords.words(\"english\") + get_stop_words(\"english\") + stop_words_add + stop_char)"
   ]
  },
  {
   "cell_type": "code",
   "execution_count": 15,
   "id": "ed47adea",
   "metadata": {
    "ExecuteTime": {
     "end_time": "2023-02-13T12:34:01.005688Z",
     "start_time": "2023-02-13T12:34:00.919443Z"
    },
    "scrolled": true
   },
   "outputs": [
    {
     "name": "stderr",
     "output_type": "stream",
     "text": [
      "100%|██████████| 6997/6997 [00:00<00:00, 92067.84it/s]\n"
     ]
    }
   ],
   "source": [
    "#     一文字以下の単語とstop_word, stop_charを削除\n",
    "df[\"words_nonstop\"] = df.words.progress_apply(\n",
    "    lambda words: [\n",
    "        word for word in words if word.lower() not in stop_words if len(word)> 1\n",
    "    ]\n",
    ")"
   ]
  },
  {
   "cell_type": "code",
   "execution_count": 16,
   "id": "44ede6bd",
   "metadata": {
    "ExecuteTime": {
     "end_time": "2023-02-13T12:34:01.068644Z",
     "start_time": "2023-02-13T12:34:01.007977Z"
    }
   },
   "outputs": [
    {
     "name": "stderr",
     "output_type": "stream",
     "text": [
      "100%|██████████| 6997/6997 [00:00<00:00, 295973.47it/s]\n",
      "100%|██████████| 6997/6997 [00:00<00:00, 417425.90it/s]\n"
     ]
    }
   ],
   "source": [
    "df.words = df.words.progress_apply(lambda words: \" \".join(words))\n",
    "df.words_nonstop = df.words_nonstop.progress_apply(\n",
    "    lambda words: \" \".join(words)\n",
    ")"
   ]
  },
  {
   "cell_type": "markdown",
   "id": "8a2b1bc6",
   "metadata": {},
   "source": [
    "# output"
   ]
  },
  {
   "cell_type": "markdown",
   "id": "4dd6d970",
   "metadata": {},
   "source": [
    "## make file"
   ]
  },
  {
   "cell_type": "code",
   "execution_count": 17,
   "id": "00880607",
   "metadata": {
    "ExecuteTime": {
     "end_time": "2023-02-13T12:34:01.253914Z",
     "start_time": "2023-02-13T12:34:01.070950Z"
    }
   },
   "outputs": [],
   "source": [
    "with open(make_filepath(f\"../../temporary/Preprocessing/TweetTopic/class.csv\"), \"w\") as f:\n",
    "    writer = csv.writer(f)\n",
    "    writer.writerow(class_labels)\n",
    "df.to_csv(make_filepath(f\"../../temporary/Preprocessing/TweetTopic/master.csv\"))"
   ]
  },
  {
   "cell_type": "markdown",
   "id": "876bbb63",
   "metadata": {},
   "source": [
    "## upload file"
   ]
  },
  {
   "cell_type": "code",
   "execution_count": 18,
   "id": "8a44bb5f",
   "metadata": {
    "ExecuteTime": {
     "end_time": "2023-02-13T12:34:01.491108Z",
     "start_time": "2023-02-13T12:34:01.256122Z"
    }
   },
   "outputs": [
    {
     "data": {
      "text/plain": [
       "'../../temporary/Preprocessing/TweetTopic'"
      ]
     },
     "execution_count": 18,
     "metadata": {},
     "output_type": "execute_result"
    }
   ],
   "source": [
    "s3.upload(\"../../temporary/Preprocessing/TweetTopic\", \"Preprocessing/TweetTopic/\")"
   ]
  },
  {
   "cell_type": "code",
   "execution_count": 19,
   "id": "b39ce3e8",
   "metadata": {
    "ExecuteTime": {
     "end_time": "2023-02-13T12:34:01.512163Z",
     "start_time": "2023-02-13T12:34:01.493223Z"
    }
   },
   "outputs": [
    {
     "name": "stdout",
     "output_type": "stream",
     "text": [
      "../../temporary/Preprocessing/TweetTopic\n",
      "/home/jovyan/temporary/DataShaping/TweetTopic/master.csv\n",
      "/home/jovyan/temporary/DataShaping/TweetTopic/class.csv\n"
     ]
    }
   ],
   "source": [
    "s3.delete_local_all()"
   ]
  },
  {
   "cell_type": "code",
   "execution_count": 20,
   "id": "f3b396c6",
   "metadata": {
    "ExecuteTime": {
     "end_time": "2023-02-13T12:34:01.620181Z",
     "start_time": "2023-02-13T12:34:01.516096Z"
    }
   },
   "outputs": [],
   "source": [
    "shutil.rmtree(\"../../nltk_data/\")"
   ]
  },
  {
   "cell_type": "code",
   "execution_count": null,
   "id": "51c8c937",
   "metadata": {},
   "outputs": [],
   "source": []
  },
  {
   "cell_type": "code",
   "execution_count": null,
   "id": "33f21c58",
   "metadata": {},
   "outputs": [],
   "source": []
  }
 ],
 "metadata": {
  "kernelspec": {
   "display_name": "Python 3 (ipykernel)",
   "language": "python",
   "name": "python3"
  },
  "language_info": {
   "codemirror_mode": {
    "name": "ipython",
    "version": 3
   },
   "file_extension": ".py",
   "mimetype": "text/x-python",
   "name": "python",
   "nbconvert_exporter": "python",
   "pygments_lexer": "ipython3",
   "version": "3.10.8"
  },
  "toc": {
   "base_numbering": 1,
   "nav_menu": {},
   "number_sections": true,
   "sideBar": true,
   "skip_h1_title": false,
   "title_cell": "Table of Contents",
   "title_sidebar": "Contents",
   "toc_cell": false,
   "toc_position": {},
   "toc_section_display": true,
   "toc_window_display": false
  }
 },
 "nbformat": 4,
 "nbformat_minor": 5
}
