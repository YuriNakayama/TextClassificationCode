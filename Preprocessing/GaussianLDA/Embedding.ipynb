{
 "cells": [
  {
   "cell_type": "markdown",
   "id": "b95f9187",
   "metadata": {},
   "source": [
    "# Import"
   ]
  },
  {
   "cell_type": "code",
   "execution_count": 26,
   "id": "80a85ab5",
   "metadata": {
    "ExecuteTime": {
     "end_time": "2022-12-21T13:51:19.456771Z",
     "start_time": "2022-12-21T13:51:19.451652Z"
    }
   },
   "outputs": [],
   "source": [
    "import csv\n",
    "import os\n",
    "import sys\n",
    "\n",
    "import numpy as np\n",
    "import pandas as pd\n",
    "import gensim.downloader as api\n",
    "from tqdm import tqdm"
   ]
  },
  {
   "cell_type": "markdown",
   "id": "2543f4e4",
   "metadata": {},
   "source": [
    "## Add configuration file"
   ]
  },
  {
   "cell_type": "code",
   "execution_count": 17,
   "id": "f0f02287",
   "metadata": {
    "ExecuteTime": {
     "end_time": "2022-12-21T13:43:18.523358Z",
     "start_time": "2022-12-21T13:43:18.519844Z"
    }
   },
   "outputs": [],
   "source": [
    "sys.path.append(\"/home/jovyan/core/config/\")\n",
    "sys.path.append(\"/home/jovyan/core/util/\")"
   ]
  },
  {
   "cell_type": "code",
   "execution_count": 18,
   "id": "08c511e8",
   "metadata": {
    "ExecuteTime": {
     "end_time": "2022-12-21T13:43:18.603488Z",
     "start_time": "2022-12-21T13:43:18.600443Z"
    }
   },
   "outputs": [],
   "source": [
    "from ALL import config \n",
    "from util import *"
   ]
  },
  {
   "cell_type": "markdown",
   "id": "9330548e",
   "metadata": {},
   "source": [
    "## Set condition"
   ]
  },
  {
   "cell_type": "code",
   "execution_count": 19,
   "id": "a30f3623",
   "metadata": {
    "ExecuteTime": {
     "end_time": "2022-12-21T13:43:18.769865Z",
     "start_time": "2022-12-21T13:43:18.766179Z"
    }
   },
   "outputs": [],
   "source": [
    "tqdm.pandas()\n",
    "pd.set_option(\"display.max_columns\", 100)\n",
    "pd.set_option(\"display.max_rows\", 50)"
   ]
  },
  {
   "cell_type": "code",
   "execution_count": 20,
   "id": "c5789e28",
   "metadata": {
    "ExecuteTime": {
     "end_time": "2022-12-21T13:43:18.854881Z",
     "start_time": "2022-12-21T13:43:18.851505Z"
    }
   },
   "outputs": [],
   "source": [
    "data_type = \"20News\""
   ]
  },
  {
   "cell_type": "markdown",
   "id": "52c60a4f",
   "metadata": {},
   "source": [
    "# Read data"
   ]
  },
  {
   "cell_type": "code",
   "execution_count": 21,
   "id": "04a00f31",
   "metadata": {
    "ExecuteTime": {
     "end_time": "2022-12-21T13:43:19.952438Z",
     "start_time": "2022-12-21T13:43:19.945454Z"
    }
   },
   "outputs": [],
   "source": [
    "with open(make_filepath(f\"../data/{data_type}/GLDA/vocab.txt\"), \"r\") as f:\n",
    "    vocab = f.readlines()"
   ]
  },
  {
   "cell_type": "code",
   "execution_count": 23,
   "id": "b6dc34cc",
   "metadata": {
    "ExecuteTime": {
     "end_time": "2022-12-21T13:44:15.033217Z",
     "start_time": "2022-12-21T13:44:15.025987Z"
    }
   },
   "outputs": [],
   "source": [
    "vocab = [word.rstrip('\\n') for word in vocab]"
   ]
  },
  {
   "cell_type": "code",
   "execution_count": 27,
   "id": "d7e66d29",
   "metadata": {
    "ExecuteTime": {
     "end_time": "2022-12-21T13:59:57.791556Z",
     "start_time": "2022-12-21T13:57:58.376663Z"
    }
   },
   "outputs": [
    {
     "name": "stdout",
     "output_type": "stream",
     "text": [
      "[==================================================] 100.0% 376.1/376.1MB downloaded\n"
     ]
    }
   ],
   "source": [
    "model = api.load(\"glove-wiki-gigaword-300\")"
   ]
  },
  {
   "cell_type": "code",
   "execution_count": 28,
   "id": "50ead269",
   "metadata": {
    "ExecuteTime": {
     "end_time": "2022-12-21T13:59:58.894782Z",
     "start_time": "2022-12-21T13:59:58.372907Z"
    }
   },
   "outputs": [],
   "source": [
    "model.save(make_filepath(f\"../data/{data_type}/GLDA/word2vec.model\"))"
   ]
  },
  {
   "cell_type": "code",
   "execution_count": 38,
   "id": "b0571c08",
   "metadata": {
    "ExecuteTime": {
     "end_time": "2022-12-21T14:10:51.481733Z",
     "start_time": "2022-12-21T14:10:51.236036Z"
    }
   },
   "outputs": [],
   "source": [
    "vectors = model.vectors_for_all(vocab)"
   ]
  },
  {
   "cell_type": "code",
   "execution_count": 59,
   "id": "b04551ea",
   "metadata": {
    "ExecuteTime": {
     "end_time": "2022-12-21T14:21:05.829993Z",
     "start_time": "2022-12-21T14:21:05.747738Z"
    },
    "scrolled": true
   },
   "outputs": [
    {
     "name": "stderr",
     "output_type": "stream",
     "text": [
      "100%|██████████| 34725/34725 [00:00<00:00, 457831.56it/s]\n"
     ]
    }
   ],
   "source": [
    "count = 0\n",
    "for word in tqdm(vocab):\n",
    "    if  word in model.key_to_index:\n",
    "        model[word]\n",
    "    else:\n",
    "        count = count + 1"
   ]
  },
  {
   "cell_type": "code",
   "execution_count": null,
   "id": "c8356df0",
   "metadata": {},
   "outputs": [],
   "source": []
  }
 ],
 "metadata": {
  "kernelspec": {
   "display_name": "Python 3 (ipykernel)",
   "language": "python",
   "name": "python3"
  },
  "language_info": {
   "codemirror_mode": {
    "name": "ipython",
    "version": 3
   },
   "file_extension": ".py",
   "mimetype": "text/x-python",
   "name": "python",
   "nbconvert_exporter": "python",
   "pygments_lexer": "ipython3",
   "version": "3.10.8"
  },
  "toc": {
   "base_numbering": 1,
   "nav_menu": {},
   "number_sections": true,
   "sideBar": true,
   "skip_h1_title": false,
   "title_cell": "Table of Contents",
   "title_sidebar": "Contents",
   "toc_cell": false,
   "toc_position": {},
   "toc_section_display": true,
   "toc_window_display": false
  }
 },
 "nbformat": 4,
 "nbformat_minor": 5
}
