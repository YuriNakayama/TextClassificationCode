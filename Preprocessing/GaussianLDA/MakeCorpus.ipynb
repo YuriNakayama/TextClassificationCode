{
 "cells": [
  {
   "cell_type": "markdown",
   "id": "b95f9187",
   "metadata": {},
   "source": [
    "# Import"
   ]
  },
  {
   "cell_type": "code",
   "execution_count": 1,
   "id": "80a85ab5",
   "metadata": {
    "ExecuteTime": {
     "end_time": "2022-12-22T14:32:30.357287Z",
     "start_time": "2022-12-22T14:32:25.173948Z"
    }
   },
   "outputs": [],
   "source": [
    "import csv\n",
    "import os\n",
    "import random\n",
    "import sys\n",
    "\n",
    "import gensim.downloader as api\n",
    "import numpy as np\n",
    "import pandas as pd\n",
    "import umap\n",
    "from gensim.corpora.dictionary import Dictionary\n",
    "from gensim.models import KeyedVectors\n",
    "from sklearn.decomposition import PCA\n",
    "from tqdm import tqdm"
   ]
  },
  {
   "cell_type": "markdown",
   "id": "2543f4e4",
   "metadata": {},
   "source": [
    "## Add configuration file"
   ]
  },
  {
   "cell_type": "code",
   "execution_count": 2,
   "id": "f0f02287",
   "metadata": {
    "ExecuteTime": {
     "end_time": "2022-12-22T14:32:30.365324Z",
     "start_time": "2022-12-22T14:32:30.362485Z"
    }
   },
   "outputs": [],
   "source": [
    "sys.path.append(\"/home/jovyan/core/config/\")\n",
    "sys.path.append(\"/home/jovyan/core/util/\")"
   ]
  },
  {
   "cell_type": "code",
   "execution_count": 3,
   "id": "08c511e8",
   "metadata": {
    "ExecuteTime": {
     "end_time": "2022-12-22T14:32:30.373351Z",
     "start_time": "2022-12-22T14:32:30.367119Z"
    }
   },
   "outputs": [],
   "source": [
    "from ALL import config \n",
    "from util import *"
   ]
  },
  {
   "cell_type": "code",
   "execution_count": 4,
   "id": "b3b760b9",
   "metadata": {
    "ExecuteTime": {
     "end_time": "2022-12-22T14:32:30.379960Z",
     "start_time": "2022-12-22T14:32:30.376723Z"
    }
   },
   "outputs": [],
   "source": [
    "random.seed(0)"
   ]
  },
  {
   "cell_type": "markdown",
   "id": "9330548e",
   "metadata": {},
   "source": [
    "## Set condition"
   ]
  },
  {
   "cell_type": "code",
   "execution_count": 5,
   "id": "a30f3623",
   "metadata": {
    "ExecuteTime": {
     "end_time": "2022-12-22T14:32:30.389161Z",
     "start_time": "2022-12-22T14:32:30.381721Z"
    }
   },
   "outputs": [],
   "source": [
    "tqdm.pandas()\n",
    "pd.set_option(\"display.max_columns\", 100)\n",
    "pd.set_option(\"display.max_rows\", 50)"
   ]
  },
  {
   "cell_type": "code",
   "execution_count": 6,
   "id": "2f478903",
   "metadata": {
    "ExecuteTime": {
     "end_time": "2022-12-22T14:32:30.395024Z",
     "start_time": "2022-12-22T14:32:30.391011Z"
    }
   },
   "outputs": [],
   "source": [
    "data_type = \"AgNews\""
   ]
  },
  {
   "cell_type": "markdown",
   "id": "52c60a4f",
   "metadata": {},
   "source": [
    "# Read data"
   ]
  },
  {
   "cell_type": "code",
   "execution_count": 7,
   "id": "c81d3638",
   "metadata": {
    "ExecuteTime": {
     "end_time": "2022-12-22T14:32:31.452173Z",
     "start_time": "2022-12-22T14:32:30.396974Z"
    },
    "scrolled": true
   },
   "outputs": [],
   "source": [
    "df = pd.read_csv(\n",
    "    f\"../data/{data_type}/master.csv\", index_col=0\n",
    ")"
   ]
  },
  {
   "cell_type": "markdown",
   "id": "3bbf34bf",
   "metadata": {},
   "source": [
    "# Make Corpus"
   ]
  },
  {
   "cell_type": "code",
   "execution_count": 8,
   "id": "aa4542ca",
   "metadata": {
    "ExecuteTime": {
     "end_time": "2022-12-22T14:32:31.460505Z",
     "start_time": "2022-12-22T14:32:31.454590Z"
    }
   },
   "outputs": [],
   "source": [
    "class Corpus:\n",
    "    def __init__(self, dictionary, path=None, texts=None):\n",
    "        self.path = path\n",
    "        self.texts = texts\n",
    "        self.dictionary = dictionary\n",
    "\n",
    "    def __iter__(self):\n",
    "        if self.path is not None:\n",
    "            for line in open(self.path):\n",
    "                # assume there's one document per line, tokens separated by whitespace\n",
    "                yield self.dictionary.doc2bow(line.lower().split())\n",
    "        else:\n",
    "            for line in self.texts:\n",
    "                yield self.dictionary.doc2bow(line)\n",
    "                \n",
    "    def __len__(self):\n",
    "        return len(self.texts)"
   ]
  },
  {
   "cell_type": "code",
   "execution_count": 9,
   "id": "5cc9fc6c",
   "metadata": {
    "ExecuteTime": {
     "end_time": "2022-12-22T14:32:35.580619Z",
     "start_time": "2022-12-22T14:32:31.462749Z"
    },
    "scrolled": true
   },
   "outputs": [],
   "source": [
    "texts = df.words_nonstop.apply(lambda x: x.lower().split(' ') if x is not np.nan else [\"\"]).tolist()\n",
    "dictionary = Dictionary(texts)\n",
    "dictionary.filter_extremes()"
   ]
  },
  {
   "cell_type": "markdown",
   "id": "fb0136dc",
   "metadata": {},
   "source": [
    "# Load Model"
   ]
  },
  {
   "cell_type": "code",
   "execution_count": 12,
   "id": "454b5e1c",
   "metadata": {
    "ExecuteTime": {
     "end_time": "2022-12-21T17:09:14.234629Z",
     "start_time": "2022-12-21T17:09:13.692523Z"
    },
    "deletable": false,
    "editable": false,
    "run_control": {
     "frozen": true
    }
   },
   "outputs": [],
   "source": [
    "# download and save\n",
    "model = api.load(\"glove-wiki-gigaword-300\")\n",
    "model.save(make_filepath(f\"../data/GLDA/word2vec.model\"))"
   ]
  },
  {
   "cell_type": "code",
   "execution_count": 10,
   "id": "53338c24",
   "metadata": {
    "ExecuteTime": {
     "end_time": "2022-12-22T14:32:39.998419Z",
     "start_time": "2022-12-22T14:32:35.583195Z"
    }
   },
   "outputs": [],
   "source": [
    "model = KeyedVectors.load(f\"../data/GLDA/word2vec.model\")"
   ]
  },
  {
   "cell_type": "markdown",
   "id": "2408d9d0",
   "metadata": {},
   "source": [
    "# Tokenize"
   ]
  },
  {
   "cell_type": "markdown",
   "id": "5bf17f1d",
   "metadata": {},
   "source": [
    "## Corpus"
   ]
  },
  {
   "cell_type": "code",
   "execution_count": 11,
   "id": "48b44a6e",
   "metadata": {
    "ExecuteTime": {
     "end_time": "2022-12-22T14:32:40.020912Z",
     "start_time": "2022-12-22T14:32:40.000453Z"
    }
   },
   "outputs": [],
   "source": [
    "token2id = {\n",
    "    _token: _id\n",
    "    for _token, _id in dictionary.token2id.items()\n",
    "    if _token in model.key_to_index\n",
    "}"
   ]
  },
  {
   "cell_type": "code",
   "execution_count": 12,
   "id": "e5ba166d",
   "metadata": {
    "ExecuteTime": {
     "end_time": "2022-12-22T14:32:40.031118Z",
     "start_time": "2022-12-22T14:32:40.022867Z"
    }
   },
   "outputs": [],
   "source": [
    "token2id = {_token: _id for _id, _token in enumerate(token2id.keys())}"
   ]
  },
  {
   "cell_type": "code",
   "execution_count": 13,
   "id": "95f51e0c",
   "metadata": {
    "ExecuteTime": {
     "end_time": "2022-12-22T14:32:41.392952Z",
     "start_time": "2022-12-22T14:32:40.035225Z"
    }
   },
   "outputs": [],
   "source": [
    "tokenized_documents = [\n",
    "    [str(token2id[word]) for word in text if word in token2id.keys()] for text in texts\n",
    "]"
   ]
  },
  {
   "cell_type": "code",
   "execution_count": 14,
   "id": "dc34601d",
   "metadata": {
    "ExecuteTime": {
     "end_time": "2022-12-22T14:32:41.421169Z",
     "start_time": "2022-12-22T14:32:41.395197Z"
    }
   },
   "outputs": [],
   "source": [
    "tokenized_documents = [\n",
    "    document if len(document) != 0 else str(random.randrange(len(token2id)))\n",
    "    for document in tokenized_documents\n",
    "]"
   ]
  },
  {
   "cell_type": "code",
   "execution_count": 15,
   "id": "d38b429f",
   "metadata": {
    "ExecuteTime": {
     "end_time": "2022-12-22T14:32:41.570073Z",
     "start_time": "2022-12-22T14:32:41.423422Z"
    }
   },
   "outputs": [],
   "source": [
    "tokenized_documents = [\" \".join(documents) for documents in tokenized_documents]"
   ]
  },
  {
   "cell_type": "code",
   "execution_count": 16,
   "id": "3476aa51",
   "metadata": {
    "ExecuteTime": {
     "end_time": "2022-12-22T14:32:41.692636Z",
     "start_time": "2022-12-22T14:32:41.572115Z"
    },
    "code_folding": []
   },
   "outputs": [],
   "source": [
    "with open(make_filepath(f\"../data/{data_type}/GLDA/corpus.txt\"), \"w\") as f:\n",
    "    for document in tokenized_documents:\n",
    "        print(document, file=f)"
   ]
  },
  {
   "cell_type": "markdown",
   "id": "d314d35a",
   "metadata": {},
   "source": [
    "## Vocab"
   ]
  },
  {
   "cell_type": "code",
   "execution_count": 17,
   "id": "991cbf0c",
   "metadata": {
    "ExecuteTime": {
     "end_time": "2022-12-22T14:32:41.702864Z",
     "start_time": "2022-12-22T14:32:41.695244Z"
    }
   },
   "outputs": [],
   "source": [
    "id2token = {v:k for k, v in token2id.items()}"
   ]
  },
  {
   "cell_type": "code",
   "execution_count": 18,
   "id": "c9ea69a3",
   "metadata": {
    "ExecuteTime": {
     "end_time": "2022-12-22T14:32:41.729666Z",
     "start_time": "2022-12-22T14:32:41.704700Z"
    },
    "code_folding": []
   },
   "outputs": [],
   "source": [
    "with open(make_filepath(f\"../data/{data_type}/GLDA/vocab.txt\"), \"w\") as f:\n",
    "    for word in id2token.values():\n",
    "        print(word, file=f)"
   ]
  },
  {
   "cell_type": "code",
   "execution_count": 19,
   "id": "9f46d38b",
   "metadata": {
    "ExecuteTime": {
     "end_time": "2022-12-22T14:32:41.777419Z",
     "start_time": "2022-12-22T14:32:41.731845Z"
    }
   },
   "outputs": [],
   "source": [
    "vectorized_vocab = {k: model[v] for k, v in id2token.items()}"
   ]
  },
  {
   "cell_type": "code",
   "execution_count": 20,
   "id": "631de439",
   "metadata": {
    "ExecuteTime": {
     "end_time": "2022-12-22T14:32:41.819689Z",
     "start_time": "2022-12-22T14:32:41.779273Z"
    }
   },
   "outputs": [
    {
     "name": "stderr",
     "output_type": "stream",
     "text": [
      "/opt/conda/lib/python3.10/site-packages/IPython/core/interactiveshell.py:3373: FutureWarning: arrays to stack must be passed as a \"sequence\" type such as list or tuple. Support for non-sequence iterables such as generators is deprecated as of NumPy 1.16 and will raise an error in the future.\n",
      "  if await self.run_code(code, result, async_=asy):\n"
     ]
    }
   ],
   "source": [
    "vectors = np.stack(vectorized_vocab.values())"
   ]
  },
  {
   "cell_type": "code",
   "execution_count": 21,
   "id": "02f71d38",
   "metadata": {
    "ExecuteTime": {
     "end_time": "2022-12-22T14:32:41.826769Z",
     "start_time": "2022-12-22T14:32:41.822067Z"
    },
    "scrolled": false
   },
   "outputs": [],
   "source": [
    "# reduced_vectors = umap.UMAP(n_components=100, random_state=0).fit_transform(vectors)"
   ]
  },
  {
   "cell_type": "code",
   "execution_count": 22,
   "id": "6c84cfb6",
   "metadata": {
    "ExecuteTime": {
     "end_time": "2022-12-22T14:32:41.834769Z",
     "start_time": "2022-12-22T14:32:41.828496Z"
    }
   },
   "outputs": [],
   "source": [
    "reduced_vectors = vectors"
   ]
  },
  {
   "cell_type": "code",
   "execution_count": 23,
   "id": "4c6f893b",
   "metadata": {
    "ExecuteTime": {
     "end_time": "2022-12-22T14:32:41.849827Z",
     "start_time": "2022-12-22T14:32:41.836558Z"
    }
   },
   "outputs": [
    {
     "data": {
      "text/plain": [
       "(25023, 300)"
      ]
     },
     "execution_count": 23,
     "metadata": {},
     "output_type": "execute_result"
    }
   ],
   "source": [
    "reduced_vectors.shape"
   ]
  },
  {
   "cell_type": "code",
   "execution_count": 24,
   "id": "07b92b22",
   "metadata": {
    "ExecuteTime": {
     "end_time": "2022-12-22T14:32:57.694620Z",
     "start_time": "2022-12-22T14:32:50.477122Z"
    }
   },
   "outputs": [],
   "source": [
    "np.savetxt(\n",
    "    make_filepath(f\"../data/{data_type}/GLDA/vectorized_vocab.txt\"),\n",
    "    reduced_vectors,\n",
    "    delimiter=\" \",\n",
    "    newline=\"\\n\",\n",
    ")"
   ]
  },
  {
   "cell_type": "code",
   "execution_count": null,
   "id": "5c91b098",
   "metadata": {},
   "outputs": [],
   "source": []
  },
  {
   "cell_type": "code",
   "execution_count": null,
   "id": "807dc938",
   "metadata": {},
   "outputs": [],
   "source": []
  }
 ],
 "metadata": {
  "kernelspec": {
   "display_name": "Python 3 (ipykernel)",
   "language": "python",
   "name": "python3"
  },
  "language_info": {
   "codemirror_mode": {
    "name": "ipython",
    "version": 3
   },
   "file_extension": ".py",
   "mimetype": "text/x-python",
   "name": "python",
   "nbconvert_exporter": "python",
   "pygments_lexer": "ipython3",
   "version": "3.10.8"
  },
  "toc": {
   "base_numbering": 1,
   "nav_menu": {},
   "number_sections": true,
   "sideBar": true,
   "skip_h1_title": false,
   "title_cell": "Table of Contents",
   "title_sidebar": "Contents",
   "toc_cell": false,
   "toc_position": {},
   "toc_section_display": true,
   "toc_window_display": false
  }
 },
 "nbformat": 4,
 "nbformat_minor": 5
}
