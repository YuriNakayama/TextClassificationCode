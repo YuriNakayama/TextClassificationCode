{
 "cells": [
  {
   "cell_type": "markdown",
   "id": "b95f9187",
   "metadata": {},
   "source": [
    "# Import"
   ]
  },
  {
   "cell_type": "code",
   "execution_count": 1,
   "id": "80a85ab5",
   "metadata": {
    "ExecuteTime": {
     "end_time": "2022-12-22T17:08:50.470397Z",
     "start_time": "2022-12-22T17:08:45.291066Z"
    }
   },
   "outputs": [],
   "source": [
    "import csv\n",
    "import os\n",
    "import random\n",
    "import sys\n",
    "\n",
    "import gensim.downloader as api\n",
    "import numpy as np\n",
    "import pandas as pd\n",
    "import umap\n",
    "from gensim.corpora.dictionary import Dictionary\n",
    "from gensim.models import KeyedVectors\n",
    "from sklearn.decomposition import PCA\n",
    "from tqdm import tqdm"
   ]
  },
  {
   "cell_type": "markdown",
   "id": "2543f4e4",
   "metadata": {},
   "source": [
    "## Add configuration file"
   ]
  },
  {
   "cell_type": "code",
   "execution_count": 2,
   "id": "f0f02287",
   "metadata": {
    "ExecuteTime": {
     "end_time": "2022-12-22T17:08:50.476352Z",
     "start_time": "2022-12-22T17:08:50.473219Z"
    }
   },
   "outputs": [],
   "source": [
    "sys.path.append(\"/home/jovyan/core/config/\")\n",
    "sys.path.append(\"/home/jovyan/core/util/\")"
   ]
  },
  {
   "cell_type": "code",
   "execution_count": 3,
   "id": "08c511e8",
   "metadata": {
    "ExecuteTime": {
     "end_time": "2022-12-22T17:08:50.484723Z",
     "start_time": "2022-12-22T17:08:50.480966Z"
    }
   },
   "outputs": [],
   "source": [
    "from ALL import config \n",
    "from util import *"
   ]
  },
  {
   "cell_type": "code",
   "execution_count": 4,
   "id": "a9e53c89",
   "metadata": {
    "ExecuteTime": {
     "end_time": "2022-12-22T17:08:50.490614Z",
     "start_time": "2022-12-22T17:08:50.487907Z"
    }
   },
   "outputs": [],
   "source": [
    "random.seed(0)"
   ]
  },
  {
   "cell_type": "markdown",
   "id": "9330548e",
   "metadata": {},
   "source": [
    "## Set condition"
   ]
  },
  {
   "cell_type": "code",
   "execution_count": 5,
   "id": "a30f3623",
   "metadata": {
    "ExecuteTime": {
     "end_time": "2022-12-22T17:08:50.499025Z",
     "start_time": "2022-12-22T17:08:50.492816Z"
    }
   },
   "outputs": [],
   "source": [
    "tqdm.pandas()\n",
    "pd.set_option(\"display.max_columns\", 100)\n",
    "pd.set_option(\"display.max_rows\", 50)"
   ]
  },
  {
   "cell_type": "code",
   "execution_count": 6,
   "id": "755ee487",
   "metadata": {
    "ExecuteTime": {
     "end_time": "2022-12-22T17:08:50.505738Z",
     "start_time": "2022-12-22T17:08:50.503176Z"
    }
   },
   "outputs": [],
   "source": [
    "data_type = \"20News\""
   ]
  },
  {
   "cell_type": "markdown",
   "id": "52c60a4f",
   "metadata": {},
   "source": [
    "# Read data"
   ]
  },
  {
   "cell_type": "code",
   "execution_count": 7,
   "id": "c81d3638",
   "metadata": {
    "ExecuteTime": {
     "end_time": "2022-12-22T17:08:51.273900Z",
     "start_time": "2022-12-22T17:08:50.507821Z"
    },
    "scrolled": true
   },
   "outputs": [],
   "source": [
    "df = pd.read_csv(\n",
    "    f\"../data/{data_type}/master.csv\", index_col=0\n",
    ")"
   ]
  },
  {
   "cell_type": "markdown",
   "id": "3bbf34bf",
   "metadata": {},
   "source": [
    "# Make Corpus"
   ]
  },
  {
   "cell_type": "code",
   "execution_count": 8,
   "id": "8c6e02e6",
   "metadata": {
    "ExecuteTime": {
     "end_time": "2022-12-22T17:08:51.281072Z",
     "start_time": "2022-12-22T17:08:51.276418Z"
    }
   },
   "outputs": [],
   "source": [
    "class Corpus:\n",
    "    def __init__(self, dictionary, path=None, texts=None):\n",
    "        self.path = path\n",
    "        self.texts = texts\n",
    "        self.dictionary = dictionary\n",
    "\n",
    "    def __iter__(self):\n",
    "        if self.path is not None:\n",
    "            for line in open(self.path):\n",
    "                # assume there's one document per line, tokens separated by whitespace\n",
    "                yield self.dictionary.doc2bow(line.lower().split())\n",
    "        else:\n",
    "            for line in self.texts:\n",
    "                yield self.dictionary.doc2bow(line)\n",
    "                \n",
    "    def __len__(self):\n",
    "        return len(self.texts)"
   ]
  },
  {
   "cell_type": "code",
   "execution_count": 9,
   "id": "36d71c1d",
   "metadata": {
    "ExecuteTime": {
     "end_time": "2022-12-22T17:08:55.072904Z",
     "start_time": "2022-12-22T17:08:51.283206Z"
    },
    "scrolled": true
   },
   "outputs": [],
   "source": [
    "texts = df.words_nonstop.apply(lambda x: x.lower().split(' ') if x is not np.nan else [\"\"]).tolist()\n",
    "dictionary = Dictionary(texts)\n",
    "dictionary.filter_extremes()"
   ]
  },
  {
   "cell_type": "markdown",
   "id": "cb3568fb",
   "metadata": {},
   "source": [
    "# Load Model"
   ]
  },
  {
   "cell_type": "code",
   "execution_count": 12,
   "id": "dc470095",
   "metadata": {
    "ExecuteTime": {
     "end_time": "2022-12-21T17:09:14.234629Z",
     "start_time": "2022-12-21T17:09:13.692523Z"
    },
    "deletable": false,
    "editable": false,
    "run_control": {
     "frozen": true
    }
   },
   "outputs": [],
   "source": [
    "# download and save\n",
    "model = api.load(\"glove-wiki-gigaword-300\")\n",
    "model.save(make_filepath(f\"../data/GLDA/word2vec.model\"))"
   ]
  },
  {
   "cell_type": "code",
   "execution_count": 10,
   "id": "5a1fefde",
   "metadata": {
    "ExecuteTime": {
     "end_time": "2022-12-22T17:08:55.440977Z",
     "start_time": "2022-12-22T17:08:55.075229Z"
    }
   },
   "outputs": [],
   "source": [
    "model = KeyedVectors.load(f\"../data/GLDA/word2vec.model\")"
   ]
  },
  {
   "cell_type": "markdown",
   "id": "47e65431",
   "metadata": {},
   "source": [
    "# Tokenize"
   ]
  },
  {
   "cell_type": "markdown",
   "id": "350123e4",
   "metadata": {},
   "source": [
    "## Corpus"
   ]
  },
  {
   "cell_type": "code",
   "execution_count": 11,
   "id": "c4d911b4",
   "metadata": {
    "ExecuteTime": {
     "end_time": "2022-12-22T17:08:55.465346Z",
     "start_time": "2022-12-22T17:08:55.443460Z"
    }
   },
   "outputs": [],
   "source": [
    "token2id = {\n",
    "    _token: _id\n",
    "    for _token, _id in dictionary.token2id.items()\n",
    "    if _token in model.key_to_index\n",
    "}"
   ]
  },
  {
   "cell_type": "code",
   "execution_count": 12,
   "id": "d09523c9",
   "metadata": {
    "ExecuteTime": {
     "end_time": "2022-12-22T17:08:55.478205Z",
     "start_time": "2022-12-22T17:08:55.469337Z"
    }
   },
   "outputs": [],
   "source": [
    "token2id = {_token: _id for _id, _token in enumerate(token2id.keys())}"
   ]
  },
  {
   "cell_type": "code",
   "execution_count": 13,
   "id": "ebfb1c20",
   "metadata": {
    "ExecuteTime": {
     "end_time": "2022-12-22T17:08:56.531976Z",
     "start_time": "2022-12-22T17:08:55.480138Z"
    }
   },
   "outputs": [],
   "source": [
    "tokenized_documents = [\n",
    "    [str(token2id[word]) for word in text if word in token2id.keys()] for text in texts\n",
    "]"
   ]
  },
  {
   "cell_type": "code",
   "execution_count": 14,
   "id": "dabe8efc",
   "metadata": {
    "ExecuteTime": {
     "end_time": "2022-12-22T17:08:56.542015Z",
     "start_time": "2022-12-22T17:08:56.534089Z"
    }
   },
   "outputs": [],
   "source": [
    "tokenized_documents = [\n",
    "    document if len(document) != 0 else str(random.randrange(len(token2id)))\n",
    "    for document in tokenized_documents\n",
    "]"
   ]
  },
  {
   "cell_type": "code",
   "execution_count": 15,
   "id": "bd25c9c4",
   "metadata": {
    "ExecuteTime": {
     "end_time": "2022-12-22T17:08:56.657032Z",
     "start_time": "2022-12-22T17:08:56.544249Z"
    }
   },
   "outputs": [],
   "source": [
    "tokenized_documents = [\" \".join(documents) for documents in tokenized_documents]"
   ]
  },
  {
   "cell_type": "code",
   "execution_count": 16,
   "id": "c6ea88d6",
   "metadata": {
    "ExecuteTime": {
     "end_time": "2022-12-22T17:08:56.717586Z",
     "start_time": "2022-12-22T17:08:56.659220Z"
    },
    "code_folding": []
   },
   "outputs": [],
   "source": [
    "with open(make_filepath(f\"../data/{data_type}/GLDA/corpus.txt\"), \"w\") as f:\n",
    "    for document in tokenized_documents:\n",
    "        print(document, file=f)"
   ]
  },
  {
   "cell_type": "markdown",
   "id": "20123805",
   "metadata": {},
   "source": [
    "## Vocab"
   ]
  },
  {
   "cell_type": "code",
   "execution_count": 17,
   "id": "5b1cccda",
   "metadata": {
    "ExecuteTime": {
     "end_time": "2022-12-22T17:08:56.727473Z",
     "start_time": "2022-12-22T17:08:56.719729Z"
    }
   },
   "outputs": [],
   "source": [
    "id2token = {v:k for k, v in token2id.items()}"
   ]
  },
  {
   "cell_type": "code",
   "execution_count": 18,
   "id": "0e284277",
   "metadata": {
    "ExecuteTime": {
     "end_time": "2022-12-22T17:08:56.751594Z",
     "start_time": "2022-12-22T17:08:56.729366Z"
    },
    "code_folding": []
   },
   "outputs": [],
   "source": [
    "with open(make_filepath(f\"../data/{data_type}/GLDA/vocab.txt\"), \"w\") as f:\n",
    "    for word in id2token.values():\n",
    "        print(word, file=f)"
   ]
  },
  {
   "cell_type": "code",
   "execution_count": 19,
   "id": "7595deef",
   "metadata": {
    "ExecuteTime": {
     "end_time": "2022-12-22T17:08:56.803147Z",
     "start_time": "2022-12-22T17:08:56.753691Z"
    }
   },
   "outputs": [],
   "source": [
    "vectorized_vocab = {k: model[v] for k, v in id2token.items()}"
   ]
  },
  {
   "cell_type": "code",
   "execution_count": 20,
   "id": "0d7cbe86",
   "metadata": {
    "ExecuteTime": {
     "end_time": "2022-12-22T17:08:56.848159Z",
     "start_time": "2022-12-22T17:08:56.805080Z"
    }
   },
   "outputs": [
    {
     "name": "stderr",
     "output_type": "stream",
     "text": [
      "/opt/conda/lib/python3.10/site-packages/IPython/core/interactiveshell.py:3373: FutureWarning: arrays to stack must be passed as a \"sequence\" type such as list or tuple. Support for non-sequence iterables such as generators is deprecated as of NumPy 1.16 and will raise an error in the future.\n",
      "  if await self.run_code(code, result, async_=asy):\n"
     ]
    }
   ],
   "source": [
    "vectors = np.stack(vectorized_vocab.values())"
   ]
  },
  {
   "cell_type": "code",
   "execution_count": 21,
   "id": "6d085dc6",
   "metadata": {
    "ExecuteTime": {
     "end_time": "2022-12-22T17:08:56.854086Z",
     "start_time": "2022-12-22T17:08:56.850145Z"
    },
    "scrolled": false
   },
   "outputs": [],
   "source": [
    "# reduced_vectors = umap.UMAP(n_components=100, random_state=0).fit_transform(vectors)"
   ]
  },
  {
   "cell_type": "code",
   "execution_count": 22,
   "id": "5ed0ac8b",
   "metadata": {
    "ExecuteTime": {
     "end_time": "2022-12-22T17:08:56.860789Z",
     "start_time": "2022-12-22T17:08:56.855913Z"
    }
   },
   "outputs": [],
   "source": [
    "reduced_vectors = vectors"
   ]
  },
  {
   "cell_type": "code",
   "execution_count": 23,
   "id": "dc5f5eff",
   "metadata": {
    "ExecuteTime": {
     "end_time": "2022-12-22T17:08:56.875000Z",
     "start_time": "2022-12-22T17:08:56.863107Z"
    }
   },
   "outputs": [
    {
     "data": {
      "text/plain": [
       "(26880, 300)"
      ]
     },
     "execution_count": 23,
     "metadata": {},
     "output_type": "execute_result"
    }
   ],
   "source": [
    "reduced_vectors.shape"
   ]
  },
  {
   "cell_type": "code",
   "execution_count": 24,
   "id": "7c512f8c",
   "metadata": {
    "ExecuteTime": {
     "end_time": "2022-12-22T17:09:04.645893Z",
     "start_time": "2022-12-22T17:08:56.877287Z"
    }
   },
   "outputs": [],
   "source": [
    "np.savetxt(\n",
    "    make_filepath(f\"../data/{data_type}/GLDA/vectorized_vocab.txt\"),\n",
    "    reduced_vectors,\n",
    "    delimiter=\" \",\n",
    "    newline=\"\\n\",\n",
    ")"
   ]
  },
  {
   "cell_type": "code",
   "execution_count": null,
   "id": "ce970261",
   "metadata": {},
   "outputs": [],
   "source": []
  },
  {
   "cell_type": "code",
   "execution_count": null,
   "id": "4273c491",
   "metadata": {},
   "outputs": [],
   "source": []
  }
 ],
 "metadata": {
  "kernelspec": {
   "display_name": "Python 3 (ipykernel)",
   "language": "python",
   "name": "python3"
  },
  "language_info": {
   "codemirror_mode": {
    "name": "ipython",
    "version": 3
   },
   "file_extension": ".py",
   "mimetype": "text/x-python",
   "name": "python",
   "nbconvert_exporter": "python",
   "pygments_lexer": "ipython3",
   "version": "3.10.8"
  },
  "toc": {
   "base_numbering": 1,
   "nav_menu": {},
   "number_sections": true,
   "sideBar": true,
   "skip_h1_title": false,
   "title_cell": "Table of Contents",
   "title_sidebar": "Contents",
   "toc_cell": false,
   "toc_position": {},
   "toc_section_display": true,
   "toc_window_display": false
  }
 },
 "nbformat": 4,
 "nbformat_minor": 5
}
