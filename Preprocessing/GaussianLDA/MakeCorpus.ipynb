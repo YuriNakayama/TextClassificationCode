{
 "cells": [
  {
   "cell_type": "markdown",
   "id": "b95f9187",
   "metadata": {},
   "source": [
    "# Import"
   ]
  },
  {
   "cell_type": "code",
   "execution_count": 1,
   "id": "80a85ab5",
   "metadata": {
    "ExecuteTime": {
     "end_time": "2022-12-21T16:49:20.385904Z",
     "start_time": "2022-12-21T16:49:19.679792Z"
    }
   },
   "outputs": [],
   "source": [
    "import csv\n",
    "import os\n",
    "import sys\n",
    "\n",
    "import gensim.downloader as api\n",
    "import numpy as np\n",
    "import pandas as pd\n",
    "from gensim.corpora.dictionary import Dictionary\n",
    "from gensim.models import KeyedVectors\n",
    "from tqdm import tqdm"
   ]
  },
  {
   "cell_type": "markdown",
   "id": "2543f4e4",
   "metadata": {},
   "source": [
    "## Add configuration file"
   ]
  },
  {
   "cell_type": "code",
   "execution_count": 2,
   "id": "f0f02287",
   "metadata": {
    "ExecuteTime": {
     "end_time": "2022-12-21T16:49:20.391632Z",
     "start_time": "2022-12-21T16:49:20.388794Z"
    }
   },
   "outputs": [],
   "source": [
    "sys.path.append(\"/home/jovyan/core/config/\")\n",
    "sys.path.append(\"/home/jovyan/core/util/\")"
   ]
  },
  {
   "cell_type": "code",
   "execution_count": 3,
   "id": "08c511e8",
   "metadata": {
    "ExecuteTime": {
     "end_time": "2022-12-21T16:49:20.401107Z",
     "start_time": "2022-12-21T16:49:20.395847Z"
    }
   },
   "outputs": [],
   "source": [
    "from ALL import config \n",
    "from util import *"
   ]
  },
  {
   "cell_type": "markdown",
   "id": "9330548e",
   "metadata": {},
   "source": [
    "## Set condition"
   ]
  },
  {
   "cell_type": "code",
   "execution_count": 4,
   "id": "a30f3623",
   "metadata": {
    "ExecuteTime": {
     "end_time": "2022-12-21T16:49:20.409382Z",
     "start_time": "2022-12-21T16:49:20.404094Z"
    }
   },
   "outputs": [],
   "source": [
    "tqdm.pandas()\n",
    "pd.set_option(\"display.max_columns\", 100)\n",
    "pd.set_option(\"display.max_rows\", 50)"
   ]
  },
  {
   "cell_type": "code",
   "execution_count": 5,
   "id": "0fd1cee8",
   "metadata": {
    "ExecuteTime": {
     "end_time": "2022-12-21T16:49:20.417885Z",
     "start_time": "2022-12-21T16:49:20.411020Z"
    }
   },
   "outputs": [],
   "source": [
    "data_type = \"20News\""
   ]
  },
  {
   "cell_type": "markdown",
   "id": "52c60a4f",
   "metadata": {},
   "source": [
    "# Read data"
   ]
  },
  {
   "cell_type": "code",
   "execution_count": 6,
   "id": "c81d3638",
   "metadata": {
    "ExecuteTime": {
     "end_time": "2022-12-21T16:49:21.179116Z",
     "start_time": "2022-12-21T16:49:20.420266Z"
    },
    "scrolled": true
   },
   "outputs": [],
   "source": [
    "df = pd.read_csv(\n",
    "    f\"../data/{data_type}/master.csv\", index_col=0\n",
    ")"
   ]
  },
  {
   "cell_type": "code",
   "execution_count": 7,
   "id": "95389cd0",
   "metadata": {
    "ExecuteTime": {
     "end_time": "2022-12-21T16:49:21.186197Z",
     "start_time": "2022-12-21T16:49:21.181186Z"
    }
   },
   "outputs": [],
   "source": [
    "with open(\"../../DataShaping/data/20News/class.csv\", mode=\"r\") as f:\n",
    "    reader = csv.reader(f)\n",
    "    class_labels = [label for label in reader]"
   ]
  },
  {
   "cell_type": "markdown",
   "id": "3bbf34bf",
   "metadata": {},
   "source": [
    "# Make Corpus"
   ]
  },
  {
   "cell_type": "code",
   "execution_count": 8,
   "id": "586e7ab8",
   "metadata": {
    "ExecuteTime": {
     "end_time": "2022-12-21T16:49:21.194768Z",
     "start_time": "2022-12-21T16:49:21.188021Z"
    }
   },
   "outputs": [],
   "source": [
    "class Corpus:\n",
    "    def __init__(self, dictionary, path=None, texts=None):\n",
    "        self.path = path\n",
    "        self.texts = texts\n",
    "        self.dictionary = dictionary\n",
    "\n",
    "    def __iter__(self):\n",
    "        if self.path is not None:\n",
    "            for line in open(self.path):\n",
    "                # assume there's one document per line, tokens separated by whitespace\n",
    "                yield self.dictionary.doc2bow(line.lower().split())\n",
    "        else:\n",
    "            for line in self.texts:\n",
    "                yield self.dictionary.doc2bow(line)\n",
    "                \n",
    "    def __len__(self):\n",
    "        return len(self.texts)"
   ]
  },
  {
   "cell_type": "code",
   "execution_count": 9,
   "id": "7bd69eb0",
   "metadata": {
    "ExecuteTime": {
     "end_time": "2022-12-21T16:49:24.879825Z",
     "start_time": "2022-12-21T16:49:21.196723Z"
    },
    "scrolled": true
   },
   "outputs": [],
   "source": [
    "texts = df.words_nonstop.apply(lambda x: x.lower().split(' ') if x is not np.nan else [\"\"]).tolist()\n",
    "dictionary = Dictionary(texts)\n",
    "dictionary.filter_extremes()"
   ]
  },
  {
   "cell_type": "markdown",
   "id": "9fdb485f",
   "metadata": {},
   "source": [
    "# Load Model"
   ]
  },
  {
   "cell_type": "code",
   "execution_count": 16,
   "id": "37d665e3",
   "metadata": {
    "ExecuteTime": {
     "end_time": "2022-12-21T14:30:05.156816Z",
     "start_time": "2022-12-21T14:28:43.307479Z"
    },
    "deletable": false,
    "editable": false,
    "run_control": {
     "frozen": true
    }
   },
   "outputs": [],
   "source": [
    "# download and save\n",
    "model = api.load(\"glove-wiki-gigaword-300\")\n",
    "model.save(make_filepath(f\"../data/{data_type}/GLDA/word2vec.model\"))"
   ]
  },
  {
   "cell_type": "code",
   "execution_count": 10,
   "id": "821afad6",
   "metadata": {
    "ExecuteTime": {
     "end_time": "2022-12-21T16:49:25.256060Z",
     "start_time": "2022-12-21T16:49:24.883321Z"
    }
   },
   "outputs": [],
   "source": [
    "model = KeyedVectors.load(f\"../data/{data_type}/GLDA/word2vec.model\")"
   ]
  },
  {
   "cell_type": "markdown",
   "id": "4d0b7a5d",
   "metadata": {},
   "source": [
    "# Tokenize"
   ]
  },
  {
   "cell_type": "markdown",
   "id": "1f445346",
   "metadata": {},
   "source": [
    "## Corpus"
   ]
  },
  {
   "cell_type": "code",
   "execution_count": 11,
   "id": "c3f3ac65",
   "metadata": {
    "ExecuteTime": {
     "end_time": "2022-12-21T16:49:25.467007Z",
     "start_time": "2022-12-21T16:49:25.446382Z"
    }
   },
   "outputs": [],
   "source": [
    "token2id = {_token: _id for _token, _id in dictionary.token2id.items() if _token in model.key_to_index}"
   ]
  },
  {
   "cell_type": "code",
   "execution_count": 12,
   "id": "53052dbd",
   "metadata": {
    "ExecuteTime": {
     "end_time": "2022-12-21T16:49:25.476996Z",
     "start_time": "2022-12-21T16:49:25.468785Z"
    }
   },
   "outputs": [],
   "source": [
    "token2id = {_token: _id for _id, _token in enumerate(token2id.keys())}"
   ]
  },
  {
   "cell_type": "code",
   "execution_count": 16,
   "id": "d7ff0ddc",
   "metadata": {
    "ExecuteTime": {
     "end_time": "2022-12-21T16:49:36.453374Z",
     "start_time": "2022-12-21T16:49:35.391695Z"
    }
   },
   "outputs": [],
   "source": [
    "tokenized_documents = [\n",
    "    [str(token2id[word]) for word in text if word in token2id.keys()] for text in texts\n",
    "]"
   ]
  },
  {
   "cell_type": "code",
   "execution_count": 17,
   "id": "a712e5f9",
   "metadata": {
    "ExecuteTime": {
     "end_time": "2022-12-21T16:49:37.553015Z",
     "start_time": "2022-12-21T16:49:37.441730Z"
    }
   },
   "outputs": [],
   "source": [
    "tokenized_documents = [\" \".join(documents) for documents in tokenized_documents]"
   ]
  },
  {
   "cell_type": "code",
   "execution_count": 18,
   "id": "288e228d",
   "metadata": {
    "ExecuteTime": {
     "end_time": "2022-12-21T16:49:38.152750Z",
     "start_time": "2022-12-21T16:49:38.082753Z"
    }
   },
   "outputs": [],
   "source": [
    "with open(make_filepath(f\"../data/{data_type}/GLDA/corpus.txt\"), \"w\") as f:\n",
    "    for document in tokenized_documents:\n",
    "        print(document, file=f)"
   ]
  },
  {
   "cell_type": "markdown",
   "id": "5b4f32e7",
   "metadata": {},
   "source": [
    "## Vocab"
   ]
  },
  {
   "cell_type": "code",
   "execution_count": 19,
   "id": "6a331dce",
   "metadata": {
    "ExecuteTime": {
     "end_time": "2022-12-21T16:49:39.031011Z",
     "start_time": "2022-12-21T16:49:39.022419Z"
    }
   },
   "outputs": [],
   "source": [
    "id2token = {v:k for k, v in token2id.items()}"
   ]
  },
  {
   "cell_type": "code",
   "execution_count": 20,
   "id": "e6b0e0cd",
   "metadata": {
    "ExecuteTime": {
     "end_time": "2022-12-21T16:49:39.227940Z",
     "start_time": "2022-12-21T16:49:39.204607Z"
    },
    "code_folding": []
   },
   "outputs": [],
   "source": [
    "with open(make_filepath(f\"../data/{data_type}/GLDA/vocab.txt\"), \"w\") as f:\n",
    "    for word in id2token.values():\n",
    "        print(word, file=f)"
   ]
  },
  {
   "cell_type": "code",
   "execution_count": 21,
   "id": "5f4a939a",
   "metadata": {
    "ExecuteTime": {
     "end_time": "2022-12-21T16:49:39.424254Z",
     "start_time": "2022-12-21T16:49:39.373770Z"
    }
   },
   "outputs": [],
   "source": [
    "vectorized_vocab = {k: model[v] for k, v in id2token.items()}"
   ]
  },
  {
   "cell_type": "code",
   "execution_count": 22,
   "id": "fb6c43b1",
   "metadata": {
    "ExecuteTime": {
     "end_time": "2022-12-21T16:49:39.533853Z",
     "start_time": "2022-12-21T16:49:39.489585Z"
    }
   },
   "outputs": [
    {
     "name": "stderr",
     "output_type": "stream",
     "text": [
      "/opt/conda/lib/python3.10/site-packages/IPython/core/interactiveshell.py:3373: FutureWarning: arrays to stack must be passed as a \"sequence\" type such as list or tuple. Support for non-sequence iterables such as generators is deprecated as of NumPy 1.16 and will raise an error in the future.\n",
      "  if await self.run_code(code, result, async_=asy):\n"
     ]
    }
   ],
   "source": [
    "vectors = np.stack(vectorized_vocab.values())"
   ]
  },
  {
   "cell_type": "code",
   "execution_count": 23,
   "id": "bc4ba27f",
   "metadata": {
    "ExecuteTime": {
     "end_time": "2022-12-21T16:49:39.612867Z",
     "start_time": "2022-12-21T16:49:39.608422Z"
    }
   },
   "outputs": [
    {
     "data": {
      "text/plain": [
       "(26880, 300)"
      ]
     },
     "execution_count": 23,
     "metadata": {},
     "output_type": "execute_result"
    }
   ],
   "source": [
    "vectors.shape"
   ]
  },
  {
   "cell_type": "code",
   "execution_count": 24,
   "id": "ff785ac5",
   "metadata": {
    "ExecuteTime": {
     "end_time": "2022-12-21T16:49:47.743757Z",
     "start_time": "2022-12-21T16:49:39.815084Z"
    }
   },
   "outputs": [],
   "source": [
    "np.savetxt(\n",
    "    make_filepath(f\"../data/{data_type}/GLDA/vectorized_vocab.txt\"),\n",
    "    vectors,\n",
    "    delimiter=\" \",\n",
    "    newline=\"\\n\",\n",
    ")"
   ]
  },
  {
   "cell_type": "code",
   "execution_count": null,
   "id": "78c1b779",
   "metadata": {},
   "outputs": [],
   "source": []
  },
  {
   "cell_type": "code",
   "execution_count": null,
   "id": "63561370",
   "metadata": {},
   "outputs": [],
   "source": []
  }
 ],
 "metadata": {
  "kernelspec": {
   "display_name": "Python 3 (ipykernel)",
   "language": "python",
   "name": "python3"
  },
  "language_info": {
   "codemirror_mode": {
    "name": "ipython",
    "version": 3
   },
   "file_extension": ".py",
   "mimetype": "text/x-python",
   "name": "python",
   "nbconvert_exporter": "python",
   "pygments_lexer": "ipython3",
   "version": "3.10.8"
  },
  "toc": {
   "base_numbering": 1,
   "nav_menu": {},
   "number_sections": true,
   "sideBar": true,
   "skip_h1_title": false,
   "title_cell": "Table of Contents",
   "title_sidebar": "Contents",
   "toc_cell": false,
   "toc_position": {},
   "toc_section_display": true,
   "toc_window_display": false
  }
 },
 "nbformat": 4,
 "nbformat_minor": 5
}
