{
 "cells": [
  {
   "cell_type": "markdown",
   "id": "b95f9187",
   "metadata": {},
   "source": [
    "# Import"
   ]
  },
  {
   "cell_type": "code",
   "execution_count": 1,
   "id": "80a85ab5",
   "metadata": {
    "ExecuteTime": {
     "end_time": "2022-12-21T14:47:49.438820Z",
     "start_time": "2022-12-21T14:47:48.762635Z"
    }
   },
   "outputs": [],
   "source": [
    "import csv\n",
    "import os\n",
    "import sys\n",
    "\n",
    "import gensim.downloader as api\n",
    "import numpy as np\n",
    "import pandas as pd\n",
    "from gensim.corpora.dictionary import Dictionary\n",
    "from gensim.models import KeyedVectors\n",
    "from tqdm import tqdm"
   ]
  },
  {
   "cell_type": "markdown",
   "id": "2543f4e4",
   "metadata": {},
   "source": [
    "## Add configuration file"
   ]
  },
  {
   "cell_type": "code",
   "execution_count": 2,
   "id": "f0f02287",
   "metadata": {
    "ExecuteTime": {
     "end_time": "2022-12-21T14:47:49.445588Z",
     "start_time": "2022-12-21T14:47:49.441660Z"
    }
   },
   "outputs": [],
   "source": [
    "sys.path.append(\"/home/jovyan/core/config/\")\n",
    "sys.path.append(\"/home/jovyan/core/util/\")"
   ]
  },
  {
   "cell_type": "code",
   "execution_count": 3,
   "id": "08c511e8",
   "metadata": {
    "ExecuteTime": {
     "end_time": "2022-12-21T14:47:49.453255Z",
     "start_time": "2022-12-21T14:47:49.447456Z"
    }
   },
   "outputs": [],
   "source": [
    "from ALL import config \n",
    "from util import *"
   ]
  },
  {
   "cell_type": "markdown",
   "id": "9330548e",
   "metadata": {},
   "source": [
    "## Set condition"
   ]
  },
  {
   "cell_type": "code",
   "execution_count": 4,
   "id": "a30f3623",
   "metadata": {
    "ExecuteTime": {
     "end_time": "2022-12-21T14:47:49.461182Z",
     "start_time": "2022-12-21T14:47:49.455103Z"
    }
   },
   "outputs": [],
   "source": [
    "tqdm.pandas()\n",
    "pd.set_option(\"display.max_columns\", 100)\n",
    "pd.set_option(\"display.max_rows\", 50)"
   ]
  },
  {
   "cell_type": "code",
   "execution_count": 5,
   "id": "d0c6c70a",
   "metadata": {
    "ExecuteTime": {
     "end_time": "2022-12-21T14:47:49.474773Z",
     "start_time": "2022-12-21T14:47:49.464241Z"
    }
   },
   "outputs": [],
   "source": [
    "data_type = \"20News\""
   ]
  },
  {
   "cell_type": "markdown",
   "id": "52c60a4f",
   "metadata": {},
   "source": [
    "# Read data"
   ]
  },
  {
   "cell_type": "code",
   "execution_count": 6,
   "id": "c81d3638",
   "metadata": {
    "ExecuteTime": {
     "end_time": "2022-12-21T14:47:50.236063Z",
     "start_time": "2022-12-21T14:47:49.479008Z"
    },
    "scrolled": true
   },
   "outputs": [],
   "source": [
    "df = pd.read_csv(\n",
    "    f\"../data/{data_type}/master.csv\", index_col=0\n",
    ")"
   ]
  },
  {
   "cell_type": "code",
   "execution_count": 7,
   "id": "95389cd0",
   "metadata": {
    "ExecuteTime": {
     "end_time": "2022-12-21T14:47:50.241671Z",
     "start_time": "2022-12-21T14:47:50.238427Z"
    }
   },
   "outputs": [],
   "source": [
    "with open(\"../../DataShaping/data/20News/class.csv\", mode=\"r\") as f:\n",
    "    reader = csv.reader(f)\n",
    "    class_labels = [label for label in reader]"
   ]
  },
  {
   "cell_type": "markdown",
   "id": "3bbf34bf",
   "metadata": {},
   "source": [
    "# Make Corpus"
   ]
  },
  {
   "cell_type": "code",
   "execution_count": 8,
   "id": "69378881",
   "metadata": {
    "ExecuteTime": {
     "end_time": "2022-12-21T14:47:50.250820Z",
     "start_time": "2022-12-21T14:47:50.243416Z"
    }
   },
   "outputs": [],
   "source": [
    "class Corpus:\n",
    "    def __init__(self, dictionary, path=None, texts=None):\n",
    "        self.path = path\n",
    "        self.texts = texts\n",
    "        self.dictionary = dictionary\n",
    "\n",
    "    def __iter__(self):\n",
    "        if self.path is not None:\n",
    "            for line in open(self.path):\n",
    "                # assume there's one document per line, tokens separated by whitespace\n",
    "                yield self.dictionary.doc2bow(line.lower().split())\n",
    "        else:\n",
    "            for line in self.texts:\n",
    "                yield self.dictionary.doc2bow(line)\n",
    "                \n",
    "    def __len__(self):\n",
    "        return len(self.texts)"
   ]
  },
  {
   "cell_type": "code",
   "execution_count": 9,
   "id": "1eba9091",
   "metadata": {
    "ExecuteTime": {
     "end_time": "2022-12-21T14:47:53.918630Z",
     "start_time": "2022-12-21T14:47:50.253055Z"
    },
    "scrolled": true
   },
   "outputs": [],
   "source": [
    "texts = df.words_nonstop.apply(lambda x: x.lower().split(' ') if x is not np.nan else [\"\"]).tolist()\n",
    "dictionary = Dictionary(texts)\n",
    "dictionary.filter_extremes()\n",
    "corpus = Corpus(texts=texts, dictionary=dictionary)"
   ]
  },
  {
   "cell_type": "markdown",
   "id": "fbb7c0c2",
   "metadata": {},
   "source": [
    "# Load Model"
   ]
  },
  {
   "cell_type": "code",
   "execution_count": 16,
   "id": "e6778a59",
   "metadata": {
    "ExecuteTime": {
     "end_time": "2022-12-21T14:30:05.156816Z",
     "start_time": "2022-12-21T14:28:43.307479Z"
    },
    "deletable": false,
    "editable": false,
    "run_control": {
     "frozen": true
    }
   },
   "outputs": [],
   "source": [
    "# download and save\n",
    "model = api.load(\"glove-wiki-gigaword-300\")\n",
    "model.save(make_filepath(f\"../data/{data_type}/GLDA/word2vec.model\"))"
   ]
  },
  {
   "cell_type": "code",
   "execution_count": 10,
   "id": "6baad6f0",
   "metadata": {
    "ExecuteTime": {
     "end_time": "2022-12-21T14:47:54.289138Z",
     "start_time": "2022-12-21T14:47:53.920642Z"
    }
   },
   "outputs": [],
   "source": [
    "model = KeyedVectors.load(f\"../data/{data_type}/GLDA/word2vec.model\")"
   ]
  },
  {
   "cell_type": "code",
   "execution_count": 11,
   "id": "5c662139",
   "metadata": {
    "ExecuteTime": {
     "end_time": "2022-12-21T14:47:54.313677Z",
     "start_time": "2022-12-21T14:47:54.292869Z"
    }
   },
   "outputs": [],
   "source": [
    "vocab = {v: k for k, v in dictionary.token2id.items() if k in model.key_to_index}"
   ]
  },
  {
   "cell_type": "code",
   "execution_count": 12,
   "id": "4de6eef3",
   "metadata": {
    "ExecuteTime": {
     "end_time": "2022-12-21T14:47:56.718875Z",
     "start_time": "2022-12-21T14:47:54.315579Z"
    }
   },
   "outputs": [],
   "source": [
    "tokenized_documents = []\n",
    "for document in corpus:\n",
    "    tokenized_document = []\n",
    "    for word, count in document:\n",
    "        tokenized_document.extend([str(word)]* count)\n",
    "    tokenized_documents.append(\" \".join(tokenized_document))"
   ]
  },
  {
   "cell_type": "code",
   "execution_count": 13,
   "id": "777f558b",
   "metadata": {
    "ExecuteTime": {
     "end_time": "2022-12-21T14:47:56.974621Z",
     "start_time": "2022-12-21T14:47:56.923194Z"
    }
   },
   "outputs": [],
   "source": [
    "vectorized_vocab = {k: model[v] for k, v in vocab.items()}"
   ]
  },
  {
   "cell_type": "code",
   "execution_count": 14,
   "id": "2dc6fd54",
   "metadata": {
    "ExecuteTime": {
     "end_time": "2022-12-21T14:47:57.025081Z",
     "start_time": "2022-12-21T14:47:56.976339Z"
    }
   },
   "outputs": [
    {
     "name": "stderr",
     "output_type": "stream",
     "text": [
      "/opt/conda/lib/python3.10/site-packages/IPython/core/interactiveshell.py:3373: FutureWarning: arrays to stack must be passed as a \"sequence\" type such as list or tuple. Support for non-sequence iterables such as generators is deprecated as of NumPy 1.16 and will raise an error in the future.\n",
      "  if await self.run_code(code, result, async_=asy):\n"
     ]
    }
   ],
   "source": [
    "vectors = np.stack(vectorized_vocab.values())"
   ]
  },
  {
   "cell_type": "code",
   "execution_count": 20,
   "id": "ec55692c",
   "metadata": {
    "ExecuteTime": {
     "end_time": "2022-12-21T14:56:24.462616Z",
     "start_time": "2022-12-21T14:56:24.458106Z"
    }
   },
   "outputs": [
    {
     "data": {
      "text/plain": [
       "(26880, 300)"
      ]
     },
     "execution_count": 20,
     "metadata": {},
     "output_type": "execute_result"
    }
   ],
   "source": [
    "vectors.shape"
   ]
  },
  {
   "cell_type": "code",
   "execution_count": 18,
   "id": "bc03decc",
   "metadata": {
    "ExecuteTime": {
     "end_time": "2022-12-21T14:50:19.412327Z",
     "start_time": "2022-12-21T14:50:11.437375Z"
    }
   },
   "outputs": [],
   "source": [
    "np.savetxt(\n",
    "    make_filepath(f\"../data/{data_type}/GLDA/vectorized_vocab.txt\"),\n",
    "    vectors,\n",
    "    delimiter=\" \",\n",
    "    newline=\"\\n\",\n",
    ")"
   ]
  },
  {
   "cell_type": "code",
   "execution_count": 16,
   "id": "5a06d3bd",
   "metadata": {
    "ExecuteTime": {
     "end_time": "2022-12-21T14:48:04.944776Z",
     "start_time": "2022-12-21T14:48:04.921734Z"
    },
    "code_folding": []
   },
   "outputs": [],
   "source": [
    "with open(make_filepath(f\"../data/{data_type}/GLDA/vocab.txt\"), \"w\") as f:\n",
    "    for word in vocab.values():\n",
    "        print(word, file=f)"
   ]
  },
  {
   "cell_type": "code",
   "execution_count": 17,
   "id": "7b376a72",
   "metadata": {
    "ExecuteTime": {
     "end_time": "2022-12-21T14:48:05.018789Z",
     "start_time": "2022-12-21T14:48:04.947034Z"
    }
   },
   "outputs": [],
   "source": [
    "with open(make_filepath(f\"../data/{data_type}/GLDA/corpus.txt\"), \"w\") as f:\n",
    "    for document in tokenized_documents:\n",
    "        print(document, file=f)"
   ]
  },
  {
   "cell_type": "code",
   "execution_count": null,
   "id": "a29d82a2",
   "metadata": {},
   "outputs": [],
   "source": []
  },
  {
   "cell_type": "code",
   "execution_count": null,
   "id": "d081d72c",
   "metadata": {},
   "outputs": [],
   "source": []
  }
 ],
 "metadata": {
  "kernelspec": {
   "display_name": "Python 3 (ipykernel)",
   "language": "python",
   "name": "python3"
  },
  "language_info": {
   "codemirror_mode": {
    "name": "ipython",
    "version": 3
   },
   "file_extension": ".py",
   "mimetype": "text/x-python",
   "name": "python",
   "nbconvert_exporter": "python",
   "pygments_lexer": "ipython3",
   "version": "3.10.8"
  },
  "toc": {
   "base_numbering": 1,
   "nav_menu": {},
   "number_sections": true,
   "sideBar": true,
   "skip_h1_title": false,
   "title_cell": "Table of Contents",
   "title_sidebar": "Contents",
   "toc_cell": false,
   "toc_position": {},
   "toc_section_display": true,
   "toc_window_display": false
  }
 },
 "nbformat": 4,
 "nbformat_minor": 5
}
