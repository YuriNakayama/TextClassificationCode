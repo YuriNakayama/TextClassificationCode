{
 "cells": [
  {
   "cell_type": "markdown",
   "id": "ec218eb0",
   "metadata": {},
   "source": [
    "# import"
   ]
  },
  {
   "cell_type": "code",
   "execution_count": 1,
   "id": "5c07f6aa",
   "metadata": {
    "ExecuteTime": {
     "end_time": "2023-02-13T11:52:32.860311Z",
     "start_time": "2023-02-13T11:52:31.978924Z"
    },
    "scrolled": true
   },
   "outputs": [],
   "source": [
    "import csv\n",
    "import sys\n",
    "\n",
    "import numpy as np\n",
    "import pandas as pd\n",
    "from datasets import (get_dataset_split_names, load_dataset,\n",
    "                      load_dataset_builder)"
   ]
  },
  {
   "cell_type": "markdown",
   "id": "2543f4e4",
   "metadata": {},
   "source": [
    "## Add configuration file"
   ]
  },
  {
   "cell_type": "code",
   "execution_count": 2,
   "id": "f0f02287",
   "metadata": {
    "ExecuteTime": {
     "end_time": "2023-02-13T11:52:32.866858Z",
     "start_time": "2023-02-13T11:52:32.863226Z"
    }
   },
   "outputs": [],
   "source": [
    "sys.path.append(\"/home/jovyan/core/config/\")\n",
    "sys.path.append(\"/home/jovyan/core/util/\")"
   ]
  },
  {
   "cell_type": "code",
   "execution_count": 3,
   "id": "08c511e8",
   "metadata": {
    "ExecuteTime": {
     "end_time": "2023-02-13T11:52:32.979102Z",
     "start_time": "2023-02-13T11:52:32.869818Z"
    }
   },
   "outputs": [],
   "source": [
    "from ALL import config \n",
    "from util import *"
   ]
  },
  {
   "cell_type": "markdown",
   "id": "dcba4e90",
   "metadata": {},
   "source": [
    "## Setting"
   ]
  },
  {
   "cell_type": "code",
   "execution_count": 4,
   "id": "658f00f6",
   "metadata": {
    "ExecuteTime": {
     "end_time": "2023-02-13T11:52:32.991613Z",
     "start_time": "2023-02-13T11:52:32.983468Z"
    }
   },
   "outputs": [],
   "source": [
    "pd.set_option('display.max_rows', 100)\n",
    "pd.set_option('display.max_columns', 100)"
   ]
  },
  {
   "cell_type": "code",
   "execution_count": 5,
   "id": "29b1a8ac",
   "metadata": {
    "ExecuteTime": {
     "end_time": "2023-02-13T11:52:33.001049Z",
     "start_time": "2023-02-13T11:52:32.995713Z"
    }
   },
   "outputs": [],
   "source": [
    "s3 = S3Manager()"
   ]
  },
  {
   "cell_type": "markdown",
   "id": "bca4a291",
   "metadata": {},
   "source": [
    "# Read data"
   ]
  },
  {
   "cell_type": "code",
   "execution_count": 6,
   "id": "dc1ae792",
   "metadata": {
    "ExecuteTime": {
     "end_time": "2023-02-13T11:52:33.406637Z",
     "start_time": "2023-02-13T11:52:33.003598Z"
    },
    "scrolled": true
   },
   "outputs": [],
   "source": [
    "split = get_dataset_split_names(\"cardiffnlp/tweet_topic_single\")"
   ]
  },
  {
   "cell_type": "code",
   "execution_count": 7,
   "id": "55102a5f",
   "metadata": {
    "ExecuteTime": {
     "end_time": "2023-02-13T11:52:33.769517Z",
     "start_time": "2023-02-13T11:52:33.408959Z"
    }
   },
   "outputs": [
    {
     "name": "stderr",
     "output_type": "stream",
     "text": [
      "Found cached dataset tweet_topic_single (/home/jovyan/.cache/huggingface/datasets/cardiffnlp___tweet_topic_single/tweet_topic_single/1.0.4/832eaa087889d9f4bc549869b44e0acb85a78364dfb3d2bc0bdf23a7224cf2ce)\n"
     ]
    },
    {
     "data": {
      "application/vnd.jupyter.widget-view+json": {
       "model_id": "40a443315eda489ebfc4d23ebb17d38f",
       "version_major": 2,
       "version_minor": 0
      },
      "text/plain": [
       "  0%|          | 0/13 [00:00<?, ?it/s]"
      ]
     },
     "metadata": {},
     "output_type": "display_data"
    }
   ],
   "source": [
    "datasets = load_dataset(\"cardiffnlp/tweet_topic_single\", split = split)"
   ]
  },
  {
   "cell_type": "code",
   "execution_count": 8,
   "id": "809c0d9e",
   "metadata": {
    "ExecuteTime": {
     "end_time": "2023-02-13T11:52:33.828433Z",
     "start_time": "2023-02-13T11:52:33.772002Z"
    }
   },
   "outputs": [],
   "source": [
    "df = pd.concat([dataset.to_pandas() for dataset in datasets])"
   ]
  },
  {
   "cell_type": "code",
   "execution_count": 9,
   "id": "b4fa5d7d",
   "metadata": {
    "ExecuteTime": {
     "end_time": "2023-02-13T11:52:33.868721Z",
     "start_time": "2023-02-13T11:52:33.833239Z"
    },
    "scrolled": true
   },
   "outputs": [],
   "source": [
    "df = df.drop_duplicates()"
   ]
  },
  {
   "cell_type": "code",
   "execution_count": 10,
   "id": "1c49ec99",
   "metadata": {
    "ExecuteTime": {
     "end_time": "2023-02-13T11:52:33.875866Z",
     "start_time": "2023-02-13T11:52:33.871260Z"
    },
    "scrolled": true
   },
   "outputs": [],
   "source": [
    "df = df.rename(columns={\"label_name\": \"class\"})"
   ]
  },
  {
   "cell_type": "code",
   "execution_count": 11,
   "id": "6370275c",
   "metadata": {
    "ExecuteTime": {
     "end_time": "2023-02-13T11:52:34.190396Z",
     "start_time": "2023-02-13T11:52:33.877985Z"
    }
   },
   "outputs": [],
   "source": [
    "ds_builder = load_dataset_builder(\"cardiffnlp/tweet_topic_single\")"
   ]
  },
  {
   "cell_type": "code",
   "execution_count": 12,
   "id": "e46a394b",
   "metadata": {
    "ExecuteTime": {
     "end_time": "2023-02-13T11:52:34.274243Z",
     "start_time": "2023-02-13T11:52:34.269476Z"
    },
    "scrolled": true
   },
   "outputs": [],
   "source": [
    "class_labels = ds_builder.info.features[\"label\"].names"
   ]
  },
  {
   "cell_type": "markdown",
   "id": "8a2b1bc6",
   "metadata": {},
   "source": [
    "# output"
   ]
  },
  {
   "cell_type": "markdown",
   "id": "4dd6d970",
   "metadata": {},
   "source": [
    "## make file"
   ]
  },
  {
   "cell_type": "code",
   "execution_count": 13,
   "id": "00880607",
   "metadata": {
    "ExecuteTime": {
     "end_time": "2023-02-13T11:52:36.500907Z",
     "start_time": "2023-02-13T11:52:36.347014Z"
    }
   },
   "outputs": [],
   "source": [
    "with open(make_filepath(f\"../../temporary/DataShaping/TweetTopic/class.csv\"), \"w\") as f:\n",
    "    writer = csv.writer(f)\n",
    "    writer.writerow(class_labels)\n",
    "df.to_csv(make_filepath(f\"../../temporary/DataShaping/TweetTopic/master.csv\"))"
   ]
  },
  {
   "cell_type": "markdown",
   "id": "876bbb63",
   "metadata": {},
   "source": [
    "## upload file"
   ]
  },
  {
   "cell_type": "code",
   "execution_count": 15,
   "id": "8a44bb5f",
   "metadata": {
    "ExecuteTime": {
     "end_time": "2023-02-13T11:52:48.116494Z",
     "start_time": "2023-02-13T11:52:47.903271Z"
    }
   },
   "outputs": [
    {
     "data": {
      "text/plain": [
       "'../../temporary/DataShaping/TweetTopic'"
      ]
     },
     "execution_count": 15,
     "metadata": {},
     "output_type": "execute_result"
    }
   ],
   "source": [
    "s3.upload(\"../../temporary/DataShaping/TweetTopic\", \"DataShaping/TweetTopic/\")"
   ]
  },
  {
   "cell_type": "code",
   "execution_count": 16,
   "id": "b39ce3e8",
   "metadata": {
    "ExecuteTime": {
     "end_time": "2023-02-13T11:52:49.648190Z",
     "start_time": "2023-02-13T11:52:49.630699Z"
    }
   },
   "outputs": [
    {
     "name": "stdout",
     "output_type": "stream",
     "text": [
      "../../temporary/DataShaping/TweetTopic\n"
     ]
    }
   ],
   "source": [
    "s3.delete_local_all()"
   ]
  },
  {
   "cell_type": "code",
   "execution_count": null,
   "id": "f7fb1d6c",
   "metadata": {},
   "outputs": [],
   "source": []
  },
  {
   "cell_type": "code",
   "execution_count": null,
   "id": "e81a91c4",
   "metadata": {},
   "outputs": [],
   "source": []
  }
 ],
 "metadata": {
  "kernelspec": {
   "display_name": "Python 3 (ipykernel)",
   "language": "python",
   "name": "python3"
  },
  "language_info": {
   "codemirror_mode": {
    "name": "ipython",
    "version": 3
   },
   "file_extension": ".py",
   "mimetype": "text/x-python",
   "name": "python",
   "nbconvert_exporter": "python",
   "pygments_lexer": "ipython3",
   "version": "3.10.8"
  },
  "toc": {
   "base_numbering": 1,
   "nav_menu": {},
   "number_sections": true,
   "sideBar": true,
   "skip_h1_title": false,
   "title_cell": "Table of Contents",
   "title_sidebar": "Contents",
   "toc_cell": false,
   "toc_position": {},
   "toc_section_display": true,
   "toc_window_display": false
  }
 },
 "nbformat": 4,
 "nbformat_minor": 5
}
