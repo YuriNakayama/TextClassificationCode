{
 "cells": [
  {
   "cell_type": "markdown",
   "id": "53b3706a",
   "metadata": {},
   "source": [
    "# import"
   ]
  },
  {
   "cell_type": "code",
   "execution_count": 1,
   "id": "5c07f6aa",
   "metadata": {
    "ExecuteTime": {
     "end_time": "2023-02-07T10:09:02.878070Z",
     "start_time": "2023-02-07T10:09:02.586561Z"
    }
   },
   "outputs": [],
   "source": [
    "import csv\n",
    "import sys\n",
    "\n",
    "import numpy as np\n",
    "import pandas as pd\n",
    "from tqdm import tqdm"
   ]
  },
  {
   "cell_type": "markdown",
   "id": "2543f4e4",
   "metadata": {},
   "source": [
    "## Add configuration file"
   ]
  },
  {
   "cell_type": "code",
   "execution_count": 2,
   "id": "f0f02287",
   "metadata": {
    "ExecuteTime": {
     "end_time": "2023-02-07T10:09:02.883898Z",
     "start_time": "2023-02-07T10:09:02.881023Z"
    }
   },
   "outputs": [],
   "source": [
    "sys.path.append(\"/home/jovyan/core/config/\")\n",
    "sys.path.append(\"/home/jovyan/core/util/\")"
   ]
  },
  {
   "cell_type": "code",
   "execution_count": 3,
   "id": "08c511e8",
   "metadata": {
    "ExecuteTime": {
     "end_time": "2023-02-07T10:09:03.044432Z",
     "start_time": "2023-02-07T10:09:02.888482Z"
    }
   },
   "outputs": [],
   "source": [
    "from ALL import config \n",
    "from util import *"
   ]
  },
  {
   "cell_type": "markdown",
   "id": "bcec3adb",
   "metadata": {},
   "source": [
    "## Setting"
   ]
  },
  {
   "cell_type": "code",
   "execution_count": 4,
   "id": "658f00f6",
   "metadata": {
    "ExecuteTime": {
     "end_time": "2023-02-07T10:09:03.050668Z",
     "start_time": "2023-02-07T10:09:03.047742Z"
    }
   },
   "outputs": [],
   "source": [
    "pd.set_option('display.max_rows', 100)\n",
    "pd.set_option('display.max_columns', 100)"
   ]
  },
  {
   "cell_type": "code",
   "execution_count": 5,
   "id": "29b1a8ac",
   "metadata": {
    "ExecuteTime": {
     "end_time": "2023-02-07T10:09:03.057787Z",
     "start_time": "2023-02-07T10:09:03.052804Z"
    }
   },
   "outputs": [],
   "source": [
    "s3 = S3Manager()"
   ]
  },
  {
   "cell_type": "markdown",
   "id": "81811916",
   "metadata": {},
   "source": [
    "# Read data "
   ]
  },
  {
   "cell_type": "code",
   "execution_count": 6,
   "id": "b78c14be",
   "metadata": {
    "ExecuteTime": {
     "end_time": "2023-02-07T10:09:04.752872Z",
     "start_time": "2023-02-07T10:09:03.059880Z"
    }
   },
   "outputs": [],
   "source": [
    "df_path = s3.download(\n",
    "    \"RawData/CharCnn_Keras-master/data/ag_news_csv/train.csv\",\n",
    ")"
   ]
  },
  {
   "cell_type": "code",
   "execution_count": 7,
   "id": "c22ff6c5",
   "metadata": {
    "ExecuteTime": {
     "end_time": "2023-02-07T10:09:04.859501Z",
     "start_time": "2023-02-07T10:09:04.754996Z"
    }
   },
   "outputs": [],
   "source": [
    "label_path = s3.download(\n",
    "    \"RawData/CharCnn_Keras-master/data/ag_news_csv/classes.txt\",\n",
    ")"
   ]
  },
  {
   "cell_type": "code",
   "execution_count": 8,
   "id": "7b421e67",
   "metadata": {
    "ExecuteTime": {
     "end_time": "2023-02-07T10:09:05.321268Z",
     "start_time": "2023-02-07T10:09:04.938626Z"
    }
   },
   "outputs": [],
   "source": [
    "df = pd.read_csv(\n",
    "    df_path,\n",
    "    header=None,\n",
    "    names=[\"class\", \"title\", \"text\"],\n",
    ")"
   ]
  },
  {
   "cell_type": "code",
   "execution_count": 9,
   "id": "a9b5bbc3",
   "metadata": {
    "ExecuteTime": {
     "end_time": "2023-02-07T10:09:05.326241Z",
     "start_time": "2023-02-07T10:09:05.323480Z"
    }
   },
   "outputs": [],
   "source": [
    "# # small data for test\n",
    "# ag_news_df = ag_news_df.head(100)"
   ]
  },
  {
   "cell_type": "code",
   "execution_count": 10,
   "id": "38902051",
   "metadata": {
    "ExecuteTime": {
     "end_time": "2023-02-07T10:09:05.332112Z",
     "start_time": "2023-02-07T10:09:05.328360Z"
    }
   },
   "outputs": [],
   "source": [
    "with open(label_path, mode=\"r\") as f:\n",
    "    class_labels = f.read().replace('/', '').split(\"\\n\")"
   ]
  },
  {
   "cell_type": "code",
   "execution_count": 11,
   "id": "da6f577f",
   "metadata": {
    "ExecuteTime": {
     "end_time": "2023-02-07T10:09:05.340689Z",
     "start_time": "2023-02-07T10:09:05.335341Z"
    }
   },
   "outputs": [],
   "source": [
    "classes = {\n",
    "    num: label for label, num in zip(class_labels, range(1, len(class_labels) + 1))\n",
    "}"
   ]
  },
  {
   "cell_type": "code",
   "execution_count": 12,
   "id": "4b411eb1",
   "metadata": {
    "ExecuteTime": {
     "end_time": "2023-02-07T10:09:05.355710Z",
     "start_time": "2023-02-07T10:09:05.342824Z"
    }
   },
   "outputs": [],
   "source": [
    "df[\"class\"] = df[\"class\"].replace(classes)"
   ]
  },
  {
   "cell_type": "markdown",
   "id": "8a2b1bc6",
   "metadata": {},
   "source": [
    "# output"
   ]
  },
  {
   "cell_type": "markdown",
   "id": "4dd6d970",
   "metadata": {},
   "source": [
    "## make file"
   ]
  },
  {
   "cell_type": "code",
   "execution_count": 13,
   "id": "00880607",
   "metadata": {
    "ExecuteTime": {
     "end_time": "2023-02-07T10:09:06.124103Z",
     "start_time": "2023-02-07T10:09:05.357756Z"
    }
   },
   "outputs": [],
   "source": [
    "with open(make_filepath(f\"../../temporary/DataShaping/AgNews/class.csv\"), \"w\") as f:\n",
    "    writer = csv.writer(f)\n",
    "    writer.writerow(class_labels)\n",
    "df.to_csv(make_filepath(f\"../../temporary/DataShaping/AgNews/master.csv\"))"
   ]
  },
  {
   "cell_type": "markdown",
   "id": "876bbb63",
   "metadata": {},
   "source": [
    "## upload file"
   ]
  },
  {
   "cell_type": "code",
   "execution_count": 14,
   "id": "bc97d2f5",
   "metadata": {
    "ExecuteTime": {
     "end_time": "2023-02-07T10:09:06.849792Z",
     "start_time": "2023-02-07T10:09:06.126242Z"
    }
   },
   "outputs": [
    {
     "data": {
      "text/plain": [
       "'../../temporary/DataShaping/AgNews'"
      ]
     },
     "execution_count": 14,
     "metadata": {},
     "output_type": "execute_result"
    }
   ],
   "source": [
    "s3.upload(\"../../temporary/DataShaping/AgNews\", \"DataShaping/AgNews/\")"
   ]
  },
  {
   "cell_type": "code",
   "execution_count": 15,
   "id": "a9532249",
   "metadata": {
    "ExecuteTime": {
     "end_time": "2023-02-07T10:09:06.867567Z",
     "start_time": "2023-02-07T10:09:06.852940Z"
    }
   },
   "outputs": [
    {
     "name": "stdout",
     "output_type": "stream",
     "text": [
      "../../temporary/DataShaping/AgNews\n",
      "/home/jovyan//temporary/RawData/CharCnn_Keras-master/data/ag_news_csv/train.csv\n",
      "/home/jovyan//temporary/RawData/CharCnn_Keras-master/data/ag_news_csv/classes.txt\n"
     ]
    }
   ],
   "source": [
    "s3.delete_local_all()"
   ]
  }
 ],
 "metadata": {
  "kernelspec": {
   "display_name": "Python 3 (ipykernel)",
   "language": "python",
   "name": "python3"
  },
  "language_info": {
   "codemirror_mode": {
    "name": "ipython",
    "version": 3
   },
   "file_extension": ".py",
   "mimetype": "text/x-python",
   "name": "python",
   "nbconvert_exporter": "python",
   "pygments_lexer": "ipython3",
   "version": "3.10.8"
  },
  "toc": {
   "base_numbering": 1,
   "nav_menu": {},
   "number_sections": true,
   "sideBar": true,
   "skip_h1_title": false,
   "title_cell": "Table of Contents",
   "title_sidebar": "Contents",
   "toc_cell": false,
   "toc_position": {},
   "toc_section_display": true,
   "toc_window_display": false
  }
 },
 "nbformat": 4,
 "nbformat_minor": 5
}
