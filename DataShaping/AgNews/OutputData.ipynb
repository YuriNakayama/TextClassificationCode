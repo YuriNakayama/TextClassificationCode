{
 "cells": [
  {
   "cell_type": "markdown",
   "id": "53b3706a",
   "metadata": {},
   "source": [
    "# import"
   ]
  },
  {
   "cell_type": "code",
   "execution_count": 9,
   "id": "5c07f6aa",
   "metadata": {
    "ExecuteTime": {
     "end_time": "2022-11-14T11:53:19.464062Z",
     "start_time": "2022-11-14T11:53:19.427409Z"
    }
   },
   "outputs": [],
   "source": [
    "import csv\n",
    "import os\n",
    "import sys\n",
    "import itertools\n",
    "\n",
    "import numpy as np\n",
    "import pandas as pd\n",
    "from tqdm import tqdm"
   ]
  },
  {
   "cell_type": "code",
   "execution_count": 10,
   "id": "861b19ee",
   "metadata": {
    "ExecuteTime": {
     "end_time": "2022-11-14T11:53:19.597523Z",
     "start_time": "2022-11-14T11:53:19.580428Z"
    }
   },
   "outputs": [],
   "source": [
    "pd.set_option('display.max_rows', 100)"
   ]
  },
  {
   "cell_type": "markdown",
   "id": "81811916",
   "metadata": {},
   "source": [
    "# Read data "
   ]
  },
  {
   "cell_type": "code",
   "execution_count": 11,
   "id": "7b421e67",
   "metadata": {
    "ExecuteTime": {
     "end_time": "2022-11-14T11:53:22.859682Z",
     "start_time": "2022-11-14T11:53:21.010138Z"
    }
   },
   "outputs": [],
   "source": [
    "ag_news_df = pd.read_csv(\n",
    "    \"../../data/CharCnn_Keras-master/data/ag_news_csv/train.csv\",\n",
    "    header=None,\n",
    "    names=[\"class\", \"title\", \"text\"],\n",
    ")"
   ]
  },
  {
   "cell_type": "code",
   "execution_count": 12,
   "id": "a9b5bbc3",
   "metadata": {
    "ExecuteTime": {
     "end_time": "2022-11-14T11:53:22.879948Z",
     "start_time": "2022-11-14T11:53:22.868651Z"
    }
   },
   "outputs": [],
   "source": [
    "# # small data for test\n",
    "# ag_news_df = ag_news_df.head(100)"
   ]
  },
  {
   "cell_type": "code",
   "execution_count": 13,
   "id": "38902051",
   "metadata": {
    "ExecuteTime": {
     "end_time": "2022-11-14T11:53:22.931456Z",
     "start_time": "2022-11-14T11:53:22.897264Z"
    }
   },
   "outputs": [],
   "source": [
    "with open(\"../../data/CharCnn_Keras-master/data/ag_news_csv/classes.txt\", mode=\"r\") as f:\n",
    "    class_labels = f.read().replace('/', '').split(\"\\n\")"
   ]
  },
  {
   "cell_type": "code",
   "execution_count": 14,
   "id": "da6f577f",
   "metadata": {
    "ExecuteTime": {
     "end_time": "2022-11-14T11:53:24.949039Z",
     "start_time": "2022-11-14T11:53:24.930698Z"
    }
   },
   "outputs": [],
   "source": [
    "classes = {\n",
    "    num: label for label, num in zip(class_labels, range(1, len(class_labels) + 1))\n",
    "}"
   ]
  },
  {
   "cell_type": "code",
   "execution_count": 15,
   "id": "4b411eb1",
   "metadata": {
    "ExecuteTime": {
     "end_time": "2022-11-14T11:53:27.948689Z",
     "start_time": "2022-11-14T11:53:27.861939Z"
    }
   },
   "outputs": [],
   "source": [
    "ag_news_df[\"class\"] = ag_news_df[\"class\"].replace(classes)"
   ]
  },
  {
   "cell_type": "code",
   "execution_count": 16,
   "id": "ccfa01a2",
   "metadata": {
    "ExecuteTime": {
     "end_time": "2022-11-14T11:53:40.893836Z",
     "start_time": "2022-11-14T11:53:28.693887Z"
    }
   },
   "outputs": [],
   "source": [
    "file_path = \"../data/AgNews\"\n",
    "os.makedirs(file_path, exist_ok=True)\n",
    "with open(f\"{file_path}/class.csv\", \"w\") as f:\n",
    "    writer = csv.writer(f)\n",
    "    writer.writerow(class_labels)\n",
    "ag_news_df.to_csv(f\"{file_path}/master.csv\")"
   ]
  },
  {
   "cell_type": "code",
   "execution_count": null,
   "id": "10a4b189",
   "metadata": {},
   "outputs": [],
   "source": []
  },
  {
   "cell_type": "code",
   "execution_count": null,
   "id": "23ca78f1",
   "metadata": {},
   "outputs": [],
   "source": []
  }
 ],
 "metadata": {
  "kernelspec": {
   "display_name": "Python 3 (ipykernel)",
   "language": "python",
   "name": "python3"
  },
  "language_info": {
   "codemirror_mode": {
    "name": "ipython",
    "version": 3
   },
   "file_extension": ".py",
   "mimetype": "text/x-python",
   "name": "python",
   "nbconvert_exporter": "python",
   "pygments_lexer": "ipython3",
   "version": "3.10.6"
  },
  "toc": {
   "base_numbering": 1,
   "nav_menu": {},
   "number_sections": true,
   "sideBar": true,
   "skip_h1_title": false,
   "title_cell": "Table of Contents",
   "title_sidebar": "Contents",
   "toc_cell": false,
   "toc_position": {},
   "toc_section_display": true,
   "toc_window_display": false
  }
 },
 "nbformat": 4,
 "nbformat_minor": 5
}
