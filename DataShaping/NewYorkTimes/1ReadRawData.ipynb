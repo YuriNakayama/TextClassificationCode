{
 "cells": [
  {
   "cell_type": "markdown",
   "id": "ec218eb0",
   "metadata": {},
   "source": [
    "# import"
   ]
  },
  {
   "cell_type": "code",
   "execution_count": 2,
   "id": "5c07f6aa",
   "metadata": {
    "ExecuteTime": {
     "end_time": "2022-10-29T16:50:01.146511Z",
     "start_time": "2022-10-29T16:50:01.100151Z"
    }
   },
   "outputs": [],
   "source": [
    "import csv\n",
    "import os\n",
    "import sys\n",
    "from glob import glob\n",
    "import tarfile\n",
    "from concurrent.futures import ProcessPoolExecutor\n",
    "from multiprocessing import Pool\n",
    "\n",
    "import numpy as np\n",
    "import pandas as pd\n",
    "from tqdm import tqdm"
   ]
  },
  {
   "cell_type": "code",
   "execution_count": 29,
   "id": "658f00f6",
   "metadata": {
    "ExecuteTime": {
     "end_time": "2022-10-29T16:35:37.624660Z",
     "start_time": "2022-10-29T16:35:37.601125Z"
    }
   },
   "outputs": [],
   "source": [
    "pd.set_option('display.max_rows', 100)"
   ]
  },
  {
   "cell_type": "markdown",
   "id": "bca4a291",
   "metadata": {},
   "source": [
    "# Read data"
   ]
  },
  {
   "cell_type": "code",
   "execution_count": 6,
   "id": "771c54ae",
   "metadata": {
    "ExecuteTime": {
     "end_time": "2022-10-29T16:55:19.268594Z",
     "start_time": "2022-10-29T16:55:19.224913Z"
    },
    "scrolled": true
   },
   "outputs": [],
   "source": [
    "raw_files = glob(\"../../data/nyt_corpus/data/*/*.tgz\")"
   ]
  },
  {
   "cell_type": "code",
   "execution_count": 7,
   "id": "f244b1f3",
   "metadata": {
    "ExecuteTime": {
     "end_time": "2022-10-29T16:55:19.444573Z",
     "start_time": "2022-10-29T16:55:19.407520Z"
    }
   },
   "outputs": [],
   "source": [
    "def unpack(file):\n",
    "    with tarfile.open(file, mode=\"r:gz\") as f:\n",
    "        year = file.split(\"/\")[-2]\n",
    "        f.extractall(f\"../data/NewYorkTimes/raw/{year}/\")"
   ]
  },
  {
   "cell_type": "code",
   "execution_count": 8,
   "id": "c0bec372",
   "metadata": {
    "ExecuteTime": {
     "end_time": "2022-10-29T20:26:55.114933Z",
     "start_time": "2022-10-29T16:55:19.867030Z"
    }
   },
   "outputs": [
    {
     "name": "stderr",
     "output_type": "stream",
     "text": [
      "  0%|          | 0/246 [00:00<?, ?it/s]\n"
     ]
    }
   ],
   "source": [
    "with ProcessPoolExecutor(max_workers=4) as executor:\n",
    "    tqdm(executor.map(unpack, raw_files), total=len(files))"
   ]
  }
 ],
 "metadata": {
  "kernelspec": {
   "display_name": "Python 3 (ipykernel)",
   "language": "python",
   "name": "python3"
  },
  "language_info": {
   "codemirror_mode": {
    "name": "ipython",
    "version": 3
   },
   "file_extension": ".py",
   "mimetype": "text/x-python",
   "name": "python",
   "nbconvert_exporter": "python",
   "pygments_lexer": "ipython3",
   "version": "3.10.6"
  },
  "toc": {
   "base_numbering": 1,
   "nav_menu": {},
   "number_sections": true,
   "sideBar": true,
   "skip_h1_title": false,
   "title_cell": "Table of Contents",
   "title_sidebar": "Contents",
   "toc_cell": false,
   "toc_position": {},
   "toc_section_display": true,
   "toc_window_display": false
  }
 },
 "nbformat": 4,
 "nbformat_minor": 5
}
