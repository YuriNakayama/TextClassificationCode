{
 "cells": [
  {
   "cell_type": "markdown",
   "id": "ec218eb0",
   "metadata": {},
   "source": [
    "# import"
   ]
  },
  {
   "cell_type": "code",
   "execution_count": 1,
   "id": "5c07f6aa",
   "metadata": {
    "ExecuteTime": {
     "end_time": "2022-11-26T05:16:54.011275Z",
     "start_time": "2022-11-26T05:16:51.948781Z"
    },
    "scrolled": true
   },
   "outputs": [
    {
     "name": "stderr",
     "output_type": "stream",
     "text": [
      "<jemalloc>: MADV_DONTNEED does not work (memset will be used instead)\n",
      "<jemalloc>: (This is the expected behaviour if you are running under QEMU)\n"
     ]
    }
   ],
   "source": [
    "import csv\n",
    "import os\n",
    "import sys\n",
    "from concurrent.futures import ProcessPoolExecutor\n",
    "from glob import glob, iglob\n",
    "\n",
    "import numpy as np\n",
    "import pandas as pd\n",
    "import xmltodict\n",
    "from tqdm import tqdm\n",
    "from functools import reduce"
   ]
  },
  {
   "cell_type": "code",
   "execution_count": 2,
   "id": "658f00f6",
   "metadata": {
    "ExecuteTime": {
     "end_time": "2022-11-26T05:16:54.037996Z",
     "start_time": "2022-11-26T05:16:54.022472Z"
    }
   },
   "outputs": [],
   "source": [
    "pd.set_option('display.max_rows', 100)\n",
    "pd.set_option('display.max_columns', 100)"
   ]
  },
  {
   "cell_type": "code",
   "execution_count": 3,
   "id": "37bf8bd4",
   "metadata": {
    "ExecuteTime": {
     "end_time": "2022-11-26T05:16:54.095923Z",
     "start_time": "2022-11-26T05:16:54.053346Z"
    }
   },
   "outputs": [],
   "source": [
    "tqdm.pandas()"
   ]
  },
  {
   "cell_type": "markdown",
   "id": "bca4a291",
   "metadata": {},
   "source": [
    "# Read data"
   ]
  },
  {
   "cell_type": "code",
   "execution_count": 4,
   "id": "47afe2bb",
   "metadata": {
    "ExecuteTime": {
     "end_time": "2022-11-26T05:16:54.456641Z",
     "start_time": "2022-11-26T05:16:54.428552Z"
    }
   },
   "outputs": [],
   "source": [
    "path = glob(\"../../data/NewYorkTimes/parsed/*\")[0]"
   ]
  },
  {
   "cell_type": "code",
   "execution_count": 5,
   "id": "0333011a",
   "metadata": {
    "ExecuteTime": {
     "end_time": "2022-11-26T05:16:54.572656Z",
     "start_time": "2022-11-26T05:16:54.511982Z"
    }
   },
   "outputs": [
    {
     "data": {
      "text/plain": [
       "'../../data/NewYorkTimes/parsed/1987.csv'"
      ]
     },
     "execution_count": 5,
     "metadata": {},
     "output_type": "execute_result"
    }
   ],
   "source": [
    "path"
   ]
  },
  {
   "cell_type": "code",
   "execution_count": 6,
   "id": "644a8e3f",
   "metadata": {
    "ExecuteTime": {
     "end_time": "2022-11-26T05:17:25.075183Z",
     "start_time": "2022-11-26T05:16:54.608122Z"
    }
   },
   "outputs": [],
   "source": [
    "df = pd.read_csv(path, index_col=0)"
   ]
  },
  {
   "cell_type": "code",
   "execution_count": 7,
   "id": "5cd13b12",
   "metadata": {
    "ExecuteTime": {
     "end_time": "2022-11-26T05:17:25.645546Z",
     "start_time": "2022-11-26T05:17:25.095016Z"
    }
   },
   "outputs": [
    {
     "data": {
      "text/plain": [
       "nitf.head.meta                           0\n",
       "nitf.head.pubdata.@date.publication      0\n",
       "full_text                                0\n",
       "classifier                             342\n",
       "dtype: int64"
      ]
     },
     "execution_count": 7,
     "metadata": {},
     "output_type": "execute_result"
    }
   ],
   "source": [
    "df.isna().sum()"
   ]
  },
  {
   "cell_type": "code",
   "execution_count": 8,
   "id": "1905d086",
   "metadata": {
    "ExecuteTime": {
     "end_time": "2022-11-26T05:17:26.207615Z",
     "start_time": "2022-11-26T05:17:25.664112Z"
    }
   },
   "outputs": [],
   "source": [
    "df = df.dropna()"
   ]
  },
  {
   "cell_type": "code",
   "execution_count": 9,
   "id": "af6f33ec",
   "metadata": {
    "ExecuteTime": {
     "end_time": "2022-11-26T05:17:27.267554Z",
     "start_time": "2022-11-26T05:17:26.221021Z"
    }
   },
   "outputs": [
    {
     "name": "stderr",
     "output_type": "stream",
     "text": [
      "100%|██████████| 105760/105760 [00:00<00:00, 111909.62it/s]\n"
     ]
    }
   ],
   "source": [
    "df.classifier = df.classifier.progress_apply(lambda x: x.split('%'))"
   ]
  },
  {
   "cell_type": "code",
   "execution_count": 10,
   "id": "56d4a612",
   "metadata": {
    "ExecuteTime": {
     "end_time": "2022-11-26T05:17:28.326590Z",
     "start_time": "2022-11-26T05:17:27.276083Z"
    }
   },
   "outputs": [
    {
     "name": "stderr",
     "output_type": "stream",
     "text": [
      "100%|██████████| 105760/105760 [00:01<00:00, 103914.74it/s]\n"
     ]
    }
   ],
   "source": [
    "classes = df.classifier.progress_apply(lambda x: set(x))"
   ]
  },
  {
   "cell_type": "code",
   "execution_count": 11,
   "id": "49550c16",
   "metadata": {
    "ExecuteTime": {
     "end_time": "2022-11-26T05:17:28.364550Z",
     "start_time": "2022-11-26T05:17:28.336582Z"
    }
   },
   "outputs": [],
   "source": [
    "classes = classes.tolist()"
   ]
  },
  {
   "cell_type": "code",
   "execution_count": 12,
   "id": "3d09ca9b",
   "metadata": {
    "ExecuteTime": {
     "end_time": "2022-11-26T05:17:38.794203Z",
     "start_time": "2022-11-26T05:17:28.377805Z"
    }
   },
   "outputs": [],
   "source": [
    "classes = reduce(lambda total, x: total | x,classes, set())"
   ]
  },
  {
   "cell_type": "code",
   "execution_count": 13,
   "id": "5d87489d",
   "metadata": {
    "ExecuteTime": {
     "end_time": "2022-11-26T05:17:38.825712Z",
     "start_time": "2022-11-26T05:17:38.802986Z"
    }
   },
   "outputs": [],
   "source": [
    "classes_sep = [c.split(\"/\") for c in classes]"
   ]
  },
  {
   "cell_type": "code",
   "execution_count": 32,
   "id": "b80abb65",
   "metadata": {
    "ExecuteTime": {
     "end_time": "2022-11-26T08:43:35.491612Z",
     "start_time": "2022-11-26T08:43:35.474922Z"
    }
   },
   "outputs": [],
   "source": [
    "layer_num = 3"
   ]
  },
  {
   "cell_type": "code",
   "execution_count": 33,
   "id": "796fb584",
   "metadata": {
    "ExecuteTime": {
     "end_time": "2022-11-26T08:43:36.017382Z",
     "start_time": "2022-11-26T08:43:35.999374Z"
    },
    "scrolled": true
   },
   "outputs": [],
   "source": [
    "layerd_labels = list(filter(lambda x: len(x)==layer_num, classes_sep))"
   ]
  },
  {
   "cell_type": "code",
   "execution_count": 34,
   "id": "0b059361",
   "metadata": {
    "ExecuteTime": {
     "end_time": "2022-11-26T08:43:36.485964Z",
     "start_time": "2022-11-26T08:43:36.466180Z"
    }
   },
   "outputs": [],
   "source": [
    "layerd_labels = [\"/\".join(label) for label in layerd_labels]"
   ]
  },
  {
   "cell_type": "code",
   "execution_count": 36,
   "id": "ca0351a4",
   "metadata": {
    "ExecuteTime": {
     "end_time": "2022-11-26T08:44:16.952813Z",
     "start_time": "2022-11-26T08:44:15.456579Z"
    }
   },
   "outputs": [
    {
     "name": "stderr",
     "output_type": "stream",
     "text": [
      "100%|██████████| 105760/105760 [00:01<00:00, 72749.15it/s]\n"
     ]
    }
   ],
   "source": [
    "df[f\"classifier_{layer_num}\"] = df[\"classifier\"].progress_apply(\n",
    "    lambda x: set(x) & set(layerd_labels)\n",
    ")"
   ]
  },
  {
   "cell_type": "code",
   "execution_count": 47,
   "id": "6fb59121",
   "metadata": {
    "ExecuteTime": {
     "end_time": "2022-11-26T09:28:30.688678Z",
     "start_time": "2022-11-26T09:28:30.657269Z"
    }
   },
   "outputs": [
    {
     "data": {
      "text/plain": [
       "25"
      ]
     },
     "execution_count": 47,
     "metadata": {},
     "output_type": "execute_result"
    }
   ],
   "source": [
    "len(layerd_labels)"
   ]
  },
  {
   "cell_type": "code",
   "execution_count": 46,
   "id": "1946294f",
   "metadata": {
    "ExecuteTime": {
     "end_time": "2022-11-26T09:26:51.787697Z",
     "start_time": "2022-11-26T09:26:51.657931Z"
    }
   },
   "outputs": [
    {
     "data": {
      "text/html": [
       "<div>\n",
       "<style scoped>\n",
       "    .dataframe tbody tr th:only-of-type {\n",
       "        vertical-align: middle;\n",
       "    }\n",
       "\n",
       "    .dataframe tbody tr th {\n",
       "        vertical-align: top;\n",
       "    }\n",
       "\n",
       "    .dataframe thead th {\n",
       "        text-align: right;\n",
       "    }\n",
       "</style>\n",
       "<table border=\"1\" class=\"dataframe\">\n",
       "  <thead>\n",
       "    <tr style=\"text-align: right;\">\n",
       "      <th></th>\n",
       "      <th>nitf.head.meta</th>\n",
       "      <th>nitf.head.pubdata.@date.publication</th>\n",
       "      <th>full_text</th>\n",
       "      <th>classifier</th>\n",
       "      <th>classifier_3</th>\n",
       "    </tr>\n",
       "  </thead>\n",
       "  <tbody>\n",
       "    <tr>\n",
       "      <th>0</th>\n",
       "      <td>[{'@content': '1', '@name': 'publication_day_o...</td>\n",
       "      <td>19870101T000000</td>\n",
       "      <td>LEAD: *3*** COMPANY REPORTS ** *3*AAR CORP (NY...</td>\n",
       "      <td>[Top/News/Business]</td>\n",
       "      <td>{Top/News/Business}</td>\n",
       "    </tr>\n",
       "    <tr>\n",
       "      <th>0</th>\n",
       "      <td>[{'@content': '1', '@name': 'publication_day_o...</td>\n",
       "      <td>19870101T000000</td>\n",
       "      <td>LEAD: *3*** COMPANY REPORTS ** *3*AMERICAN CYT...</td>\n",
       "      <td>[Top/News/Business]</td>\n",
       "      <td>{Top/News/Business}</td>\n",
       "    </tr>\n",
       "    <tr>\n",
       "      <th>0</th>\n",
       "      <td>[{'@content': '1', '@name': 'publication_day_o...</td>\n",
       "      <td>19870101T000000</td>\n",
       "      <td>LEAD: *3*** COMPANY REPORTS ** *3*APPLIED POWE...</td>\n",
       "      <td>[Top/News/Business]</td>\n",
       "      <td>{Top/News/Business}</td>\n",
       "    </tr>\n",
       "    <tr>\n",
       "      <th>0</th>\n",
       "      <td>[{'@content': '1', '@name': 'publication_day_o...</td>\n",
       "      <td>19870101T000000</td>\n",
       "      <td>LEAD: *3*** COMPANY REPORTS ** *3*BARRETT RESO...</td>\n",
       "      <td>[Top/News/Business]</td>\n",
       "      <td>{Top/News/Business}</td>\n",
       "    </tr>\n",
       "    <tr>\n",
       "      <th>0</th>\n",
       "      <td>[{'@content': '1', '@name': 'publication_day_o...</td>\n",
       "      <td>19870101T000000</td>\n",
       "      <td>LEAD: *3*** COMPANY REPORTS ** *3*CANAVERAL IN...</td>\n",
       "      <td>[Top/News/Business]</td>\n",
       "      <td>{Top/News/Business}</td>\n",
       "    </tr>\n",
       "    <tr>\n",
       "      <th>...</th>\n",
       "      <td>...</td>\n",
       "      <td>...</td>\n",
       "      <td>...</td>\n",
       "      <td>...</td>\n",
       "      <td>...</td>\n",
       "    </tr>\n",
       "    <tr>\n",
       "      <th>0</th>\n",
       "      <td>[{'@content': '31', '@name': 'publication_day_...</td>\n",
       "      <td>19871231T000000</td>\n",
       "      <td>LEAD: John McEnroe said yesterday that he woul...</td>\n",
       "      <td>[Top/News, Top/News/Sports, Top/News/Sports/Te...</td>\n",
       "      <td>{Top/News/Sports}</td>\n",
       "    </tr>\n",
       "    <tr>\n",
       "      <th>0</th>\n",
       "      <td>[{'@content': '31', '@name': 'publication_day_...</td>\n",
       "      <td>19871231T000000</td>\n",
       "      <td>LEAD: A Federal judge in Minneapolis yesterday...</td>\n",
       "      <td>[Top/News, Top/News/Sports, Top/News/Sports/Pr...</td>\n",
       "      <td>{Top/News/Sports}</td>\n",
       "    </tr>\n",
       "    <tr>\n",
       "      <th>0</th>\n",
       "      <td>[{'@content': '31', '@name': 'publication_day_...</td>\n",
       "      <td>19871231T000000</td>\n",
       "      <td>LEAD: Damage hearings in the 1985 baseball col...</td>\n",
       "      <td>[Top/News, Top/News/Sports, Top/News/Sports/Ba...</td>\n",
       "      <td>{Top/News/Sports}</td>\n",
       "    </tr>\n",
       "    <tr>\n",
       "      <th>0</th>\n",
       "      <td>[{'@content': '31', '@name': 'publication_day_...</td>\n",
       "      <td>19871231T000000</td>\n",
       "      <td>LEAD: Don Nelson, now an executive with the Go...</td>\n",
       "      <td>[Top/News, Top/News/Sports, Top/News/Sports/Pr...</td>\n",
       "      <td>{Top/News/Sports}</td>\n",
       "    </tr>\n",
       "    <tr>\n",
       "      <th>0</th>\n",
       "      <td>[{'@content': '31', '@name': 'publication_day_...</td>\n",
       "      <td>19871231T000000</td>\n",
       "      <td>LEAD: Richard Schultz, the executive director ...</td>\n",
       "      <td>[Top/News, Top/News/Sports, Top/News/Sports/Co...</td>\n",
       "      <td>{Top/News/Sports}</td>\n",
       "    </tr>\n",
       "  </tbody>\n",
       "</table>\n",
       "<p>105760 rows × 5 columns</p>\n",
       "</div>"
      ],
      "text/plain": [
       "                                       nitf.head.meta  \\\n",
       "0   [{'@content': '1', '@name': 'publication_day_o...   \n",
       "0   [{'@content': '1', '@name': 'publication_day_o...   \n",
       "0   [{'@content': '1', '@name': 'publication_day_o...   \n",
       "0   [{'@content': '1', '@name': 'publication_day_o...   \n",
       "0   [{'@content': '1', '@name': 'publication_day_o...   \n",
       "..                                                ...   \n",
       "0   [{'@content': '31', '@name': 'publication_day_...   \n",
       "0   [{'@content': '31', '@name': 'publication_day_...   \n",
       "0   [{'@content': '31', '@name': 'publication_day_...   \n",
       "0   [{'@content': '31', '@name': 'publication_day_...   \n",
       "0   [{'@content': '31', '@name': 'publication_day_...   \n",
       "\n",
       "   nitf.head.pubdata.@date.publication  \\\n",
       "0                      19870101T000000   \n",
       "0                      19870101T000000   \n",
       "0                      19870101T000000   \n",
       "0                      19870101T000000   \n",
       "0                      19870101T000000   \n",
       "..                                 ...   \n",
       "0                      19871231T000000   \n",
       "0                      19871231T000000   \n",
       "0                      19871231T000000   \n",
       "0                      19871231T000000   \n",
       "0                      19871231T000000   \n",
       "\n",
       "                                            full_text  \\\n",
       "0   LEAD: *3*** COMPANY REPORTS ** *3*AAR CORP (NY...   \n",
       "0   LEAD: *3*** COMPANY REPORTS ** *3*AMERICAN CYT...   \n",
       "0   LEAD: *3*** COMPANY REPORTS ** *3*APPLIED POWE...   \n",
       "0   LEAD: *3*** COMPANY REPORTS ** *3*BARRETT RESO...   \n",
       "0   LEAD: *3*** COMPANY REPORTS ** *3*CANAVERAL IN...   \n",
       "..                                                ...   \n",
       "0   LEAD: John McEnroe said yesterday that he woul...   \n",
       "0   LEAD: A Federal judge in Minneapolis yesterday...   \n",
       "0   LEAD: Damage hearings in the 1985 baseball col...   \n",
       "0   LEAD: Don Nelson, now an executive with the Go...   \n",
       "0   LEAD: Richard Schultz, the executive director ...   \n",
       "\n",
       "                                           classifier         classifier_3  \n",
       "0                                 [Top/News/Business]  {Top/News/Business}  \n",
       "0                                 [Top/News/Business]  {Top/News/Business}  \n",
       "0                                 [Top/News/Business]  {Top/News/Business}  \n",
       "0                                 [Top/News/Business]  {Top/News/Business}  \n",
       "0                                 [Top/News/Business]  {Top/News/Business}  \n",
       "..                                                ...                  ...  \n",
       "0   [Top/News, Top/News/Sports, Top/News/Sports/Te...    {Top/News/Sports}  \n",
       "0   [Top/News, Top/News/Sports, Top/News/Sports/Pr...    {Top/News/Sports}  \n",
       "0   [Top/News, Top/News/Sports, Top/News/Sports/Ba...    {Top/News/Sports}  \n",
       "0   [Top/News, Top/News/Sports, Top/News/Sports/Pr...    {Top/News/Sports}  \n",
       "0   [Top/News, Top/News/Sports, Top/News/Sports/Co...    {Top/News/Sports}  \n",
       "\n",
       "[105760 rows x 5 columns]"
      ]
     },
     "execution_count": 46,
     "metadata": {},
     "output_type": "execute_result"
    }
   ],
   "source": [
    "df"
   ]
  },
  {
   "cell_type": "code",
   "execution_count": null,
   "id": "8580531b",
   "metadata": {},
   "outputs": [],
   "source": []
  }
 ],
 "metadata": {
  "kernelspec": {
   "display_name": "Python 3 (ipykernel)",
   "language": "python",
   "name": "python3"
  },
  "language_info": {
   "codemirror_mode": {
    "name": "ipython",
    "version": 3
   },
   "file_extension": ".py",
   "mimetype": "text/x-python",
   "name": "python",
   "nbconvert_exporter": "python",
   "pygments_lexer": "ipython3",
   "version": "3.10.6"
  },
  "toc": {
   "base_numbering": 1,
   "nav_menu": {},
   "number_sections": true,
   "sideBar": true,
   "skip_h1_title": false,
   "title_cell": "Table of Contents",
   "title_sidebar": "Contents",
   "toc_cell": false,
   "toc_position": {},
   "toc_section_display": true,
   "toc_window_display": false
  }
 },
 "nbformat": 4,
 "nbformat_minor": 5
}
