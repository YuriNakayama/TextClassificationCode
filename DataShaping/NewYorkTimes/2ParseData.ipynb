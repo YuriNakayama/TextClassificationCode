{
 "cells": [
  {
   "cell_type": "markdown",
   "id": "ec218eb0",
   "metadata": {},
   "source": [
    "# import"
   ]
  },
  {
   "cell_type": "code",
   "execution_count": 1,
   "id": "5c07f6aa",
   "metadata": {
    "ExecuteTime": {
     "end_time": "2022-11-18T15:30:29.977403Z",
     "start_time": "2022-11-18T15:30:28.214212Z"
    },
    "scrolled": true
   },
   "outputs": [
    {
     "name": "stderr",
     "output_type": "stream",
     "text": [
      "<jemalloc>: MADV_DONTNEED does not work (memset will be used instead)\n",
      "<jemalloc>: (This is the expected behaviour if you are running under QEMU)\n"
     ]
    }
   ],
   "source": [
    "import csv\n",
    "import os\n",
    "import sys\n",
    "from concurrent.futures import ProcessPoolExecutor\n",
    "from glob import glob, iglob\n",
    "\n",
    "import numpy as np\n",
    "import pandas as pd\n",
    "import xmltodict\n",
    "from tqdm import tqdm"
   ]
  },
  {
   "cell_type": "code",
   "execution_count": null,
   "id": "f5027fac",
   "metadata": {},
   "outputs": [],
   "source": []
  },
  {
   "cell_type": "code",
   "execution_count": 2,
   "id": "658f00f6",
   "metadata": {
    "ExecuteTime": {
     "end_time": "2022-11-18T15:30:30.012493Z",
     "start_time": "2022-11-18T15:30:29.986016Z"
    }
   },
   "outputs": [],
   "source": [
    "pd.set_option('display.max_rows', 100)\n",
    "pd.set_option('display.max_columns', 100)"
   ]
  },
  {
   "cell_type": "markdown",
   "id": "bca4a291",
   "metadata": {},
   "source": [
    "# Read data"
   ]
  },
  {
   "cell_type": "code",
   "execution_count": 3,
   "id": "c9adf432",
   "metadata": {
    "ExecuteTime": {
     "end_time": "2022-11-18T15:30:30.063323Z",
     "start_time": "2022-11-18T15:30:30.025788Z"
    }
   },
   "outputs": [],
   "source": [
    "def safe_get(dictionary, key):\n",
    "    value = dictionary.get(key, {})\n",
    "    return value if type(value)==dict else {}"
   ]
  },
  {
   "cell_type": "code",
   "execution_count": 4,
   "id": "d1b076a0",
   "metadata": {
    "ExecuteTime": {
     "end_time": "2022-11-18T15:30:30.118918Z",
     "start_time": "2022-11-18T15:30:30.083501Z"
    }
   },
   "outputs": [],
   "source": [
    "def recursive_get(dictionary, keys):\n",
    "    for i, key in enumerate(keys):\n",
    "        if i != len(keys) - 1:\n",
    "            dictionary = safe_get(dictionary, key)\n",
    "        else:\n",
    "            dictionary = dictionary.get(key, {})\n",
    "    return dictionary"
   ]
  },
  {
   "cell_type": "code",
   "execution_count": 5,
   "id": "ac9960a3",
   "metadata": {
    "ExecuteTime": {
     "end_time": "2022-11-18T15:30:30.175415Z",
     "start_time": "2022-11-18T15:30:30.143022Z"
    }
   },
   "outputs": [],
   "source": [
    "years_path = glob(\"../data/NewYorkTimes/raw/*\")"
   ]
  },
  {
   "cell_type": "code",
   "execution_count": 6,
   "id": "7e86d58d",
   "metadata": {
    "ExecuteTime": {
     "end_time": "2022-11-18T15:30:30.238695Z",
     "start_time": "2022-11-18T15:30:30.191414Z"
    },
    "code_folding": []
   },
   "outputs": [],
   "source": [
    "def parse_xml(root):\n",
    "    dataset = pd.json_normalize(\n",
    "        root,\n",
    "        errors=\"ignore\",\n",
    "    )\n",
    "    return_df = dataset.loc[: ,[\"nitf.head.meta\", \"nitf.head.pubdata.@date.publication\"]]\n",
    "\n",
    "    # full_text\n",
    "    full_text = pd.DataFrame(\n",
    "        root.get(\"nitf\", {}).get(\"body\", {}).get(\"body.content\", {}).get(\"block\", {})\n",
    "    )\n",
    "    value = full_text.loc[full_text[\"@class\"] == \"full_text\", \"p\"].to_numpy()\n",
    "    full_text_value = \" \".join(value[0]) if type(value[0]) == list else value[0]\n",
    "    return_df[\"full_text\"] = full_text_value\n",
    "\n",
    "    # classifier\n",
    "    classifier_keys = [\"nitf\", \"head\", \"docdata\", \"identified-content\", \"classifier\"]\n",
    "    classifier = pd.json_normalize(recursive_get(root, classifier_keys))\n",
    "    classifier_value = classifier.loc[\n",
    "        (classifier[\"@class\"] == \"online_producer\")\n",
    "        & (classifier[\"@type\"] == \"taxonomic_classifier\"),\n",
    "        \"#text\",\n",
    "    ]\n",
    "    classifier_value_joined = \"%\".join(classifier_value.tolist())\n",
    "    return_df[\"classifier\"] = classifier_value_joined\n",
    "\n",
    "    return return_df"
   ]
  },
  {
   "cell_type": "code",
   "execution_count": null,
   "id": "13cb7144",
   "metadata": {
    "ExecuteTime": {
     "start_time": "2022-11-18T15:30:31.008Z"
    }
   },
   "outputs": [
    {
     "name": "stderr",
     "output_type": "stream",
     "text": [
      " 90%|█████████ | 19/21 [13:57:41<1:35:55, 2877.59s/it]"
     ]
    }
   ],
   "source": [
    "dfs = []\n",
    "for year_path in tqdm(years_path):\n",
    "    dataset = []\n",
    "    for file in iglob(f\"{year_path}/*/*/*.xml\"):\n",
    "        with open(file, mode=\"r\") as f:\n",
    "            root = xmltodict.parse(f.read())\n",
    "        try:\n",
    "            dataset.append(parse_xml(root))\n",
    "        except:\n",
    "            continue\n",
    "    df = pd.concat(dataset)\n",
    "    df.to_csv(f\"../data/NewYorkTimes/parsed/{year_path.split('/')[-1]}.csv\")\n",
    "    dfs.append(df)"
   ]
  },
  {
   "cell_type": "code",
   "execution_count": null,
   "id": "fb9b7ed2",
   "metadata": {
    "ExecuteTime": {
     "start_time": "2022-11-18T16:28:03.237Z"
    }
   },
   "outputs": [],
   "source": [
    "dfs = pd.concat(dfs)"
   ]
  },
  {
   "cell_type": "code",
   "execution_count": null,
   "id": "780a22ec",
   "metadata": {
    "ExecuteTime": {
     "start_time": "2022-11-18T16:28:03.547Z"
    }
   },
   "outputs": [],
   "source": [
    "dfs.isna().sum()"
   ]
  },
  {
   "cell_type": "code",
   "execution_count": null,
   "id": "4417d525",
   "metadata": {
    "ExecuteTime": {
     "start_time": "2022-11-18T16:28:03.811Z"
    }
   },
   "outputs": [],
   "source": [
    "dfs.to_csv(\"temp.csv\")"
   ]
  },
  {
   "cell_type": "code",
   "execution_count": null,
   "id": "ebaebc43",
   "metadata": {},
   "outputs": [],
   "source": []
  }
 ],
 "metadata": {
  "kernelspec": {
   "display_name": "Python 3 (ipykernel)",
   "language": "python",
   "name": "python3"
  },
  "language_info": {
   "codemirror_mode": {
    "name": "ipython",
    "version": 3
   },
   "file_extension": ".py",
   "mimetype": "text/x-python",
   "name": "python",
   "nbconvert_exporter": "python",
   "pygments_lexer": "ipython3",
   "version": "3.10.6"
  },
  "toc": {
   "base_numbering": 1,
   "nav_menu": {},
   "number_sections": true,
   "sideBar": true,
   "skip_h1_title": false,
   "title_cell": "Table of Contents",
   "title_sidebar": "Contents",
   "toc_cell": false,
   "toc_position": {},
   "toc_section_display": true,
   "toc_window_display": false
  }
 },
 "nbformat": 4,
 "nbformat_minor": 5
}
