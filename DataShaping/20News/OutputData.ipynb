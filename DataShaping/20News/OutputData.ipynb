{
 "cells": [
  {
   "cell_type": "markdown",
   "id": "ec218eb0",
   "metadata": {},
   "source": [
    "# import"
   ]
  },
  {
   "cell_type": "code",
   "execution_count": 1,
   "id": "5c07f6aa",
   "metadata": {
    "ExecuteTime": {
     "end_time": "2022-12-16T15:06:31.148578Z",
     "start_time": "2022-12-16T15:06:30.342521Z"
    },
    "scrolled": true
   },
   "outputs": [],
   "source": [
    "import csv\n",
    "import os\n",
    "import sys\n",
    "from concurrent.futures import ProcessPoolExecutor\n",
    "from glob import glob, iglob\n",
    "\n",
    "import numpy as np\n",
    "import pandas as pd\n",
    "from sklearn.datasets import fetch_20newsgroups\n",
    "from tqdm import tqdm"
   ]
  },
  {
   "cell_type": "code",
   "execution_count": 2,
   "id": "658f00f6",
   "metadata": {
    "ExecuteTime": {
     "end_time": "2022-12-16T15:06:31.154381Z",
     "start_time": "2022-12-16T15:06:31.151578Z"
    }
   },
   "outputs": [],
   "source": [
    "pd.set_option('display.max_rows', 100)\n",
    "pd.set_option('display.max_columns', 100)"
   ]
  },
  {
   "cell_type": "markdown",
   "id": "bca4a291",
   "metadata": {},
   "source": [
    "# Read data"
   ]
  },
  {
   "cell_type": "code",
   "execution_count": 3,
   "id": "a283eb18",
   "metadata": {
    "ExecuteTime": {
     "end_time": "2022-12-16T15:06:31.632073Z",
     "start_time": "2022-12-16T15:06:31.156169Z"
    }
   },
   "outputs": [],
   "source": [
    "newsgroups_train = fetch_20newsgroups(subset='all')"
   ]
  },
  {
   "cell_type": "code",
   "execution_count": 4,
   "id": "f79ea8c3",
   "metadata": {
    "ExecuteTime": {
     "end_time": "2022-12-16T15:06:31.637971Z",
     "start_time": "2022-12-16T15:06:31.634636Z"
    }
   },
   "outputs": [],
   "source": [
    "classes = {num:label for num, label in enumerate(newsgroups_train.target_names)}"
   ]
  },
  {
   "cell_type": "code",
   "execution_count": 5,
   "id": "9674e18e",
   "metadata": {
    "ExecuteTime": {
     "end_time": "2022-12-16T15:06:31.748664Z",
     "start_time": "2022-12-16T15:06:31.743431Z"
    }
   },
   "outputs": [],
   "source": [
    "class_labels = classes.values()"
   ]
  },
  {
   "cell_type": "code",
   "execution_count": 6,
   "id": "525d230d",
   "metadata": {
    "ExecuteTime": {
     "end_time": "2022-12-16T15:06:32.425759Z",
     "start_time": "2022-12-16T15:06:32.422739Z"
    }
   },
   "outputs": [],
   "source": [
    "newsgroups_dict = {\n",
    "    \"text\":newsgroups_train.data,\n",
    "    \"filenames\":newsgroups_train.filenames,\n",
    "    \"class\":newsgroups_train.target,\n",
    "}"
   ]
  },
  {
   "cell_type": "code",
   "execution_count": 7,
   "id": "e108d6a8",
   "metadata": {
    "ExecuteTime": {
     "end_time": "2022-12-16T15:06:33.775178Z",
     "start_time": "2022-12-16T15:06:33.358410Z"
    }
   },
   "outputs": [],
   "source": [
    "newsgroups_df = pd.DataFrame(newsgroups_dict.values(), index=newsgroups_dict.keys()).T"
   ]
  },
  {
   "cell_type": "code",
   "execution_count": 10,
   "id": "c748ae8e",
   "metadata": {
    "ExecuteTime": {
     "end_time": "2022-12-09T16:06:49.207932Z",
     "start_time": "2022-12-09T16:06:49.179561Z"
    }
   },
   "outputs": [],
   "source": [
    "newsgroups_df[\"class\"] = newsgroups_df[\"class\"].replace(classes)"
   ]
  },
  {
   "cell_type": "code",
   "execution_count": 11,
   "id": "00880607",
   "metadata": {
    "ExecuteTime": {
     "end_time": "2022-12-09T16:06:50.765495Z",
     "start_time": "2022-12-09T16:06:49.999956Z"
    }
   },
   "outputs": [],
   "source": [
    "file_path = \"../data/20News\"\n",
    "os.makedirs(file_path, exist_ok=True)\n",
    "with open(f\"{file_path}/class.csv\", \"w\") as f:\n",
    "    writer = csv.writer(f)\n",
    "    writer.writerow(class_labels)\n",
    "newsgroups_df.to_csv(f\"{file_path}/master.csv\")"
   ]
  },
  {
   "cell_type": "code",
   "execution_count": null,
   "id": "f3b396c6",
   "metadata": {},
   "outputs": [],
   "source": []
  }
 ],
 "metadata": {
  "kernelspec": {
   "display_name": "Python 3 (ipykernel)",
   "language": "python",
   "name": "python3"
  },
  "language_info": {
   "codemirror_mode": {
    "name": "ipython",
    "version": 3
   },
   "file_extension": ".py",
   "mimetype": "text/x-python",
   "name": "python",
   "nbconvert_exporter": "python",
   "pygments_lexer": "ipython3",
   "version": "3.10.8"
  },
  "toc": {
   "base_numbering": 1,
   "nav_menu": {},
   "number_sections": true,
   "sideBar": true,
   "skip_h1_title": false,
   "title_cell": "Table of Contents",
   "title_sidebar": "Contents",
   "toc_cell": false,
   "toc_position": {},
   "toc_section_display": true,
   "toc_window_display": false
  }
 },
 "nbformat": 4,
 "nbformat_minor": 5
}
