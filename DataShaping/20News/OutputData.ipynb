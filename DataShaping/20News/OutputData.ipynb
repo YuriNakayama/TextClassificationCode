{
 "cells": [
  {
   "cell_type": "markdown",
   "id": "ec218eb0",
   "metadata": {},
   "source": [
    "# import"
   ]
  },
  {
   "cell_type": "code",
   "execution_count": 1,
   "id": "5c07f6aa",
   "metadata": {
    "ExecuteTime": {
     "end_time": "2023-02-05T14:42:44.560031Z",
     "start_time": "2023-02-05T14:42:43.791028Z"
    },
    "scrolled": true
   },
   "outputs": [],
   "source": [
    "import csv\n",
    "import sys\n",
    "\n",
    "import numpy as np\n",
    "import pandas as pd\n",
    "from sklearn.datasets import fetch_20newsgroups"
   ]
  },
  {
   "cell_type": "markdown",
   "id": "2543f4e4",
   "metadata": {},
   "source": [
    "## Add configuration file"
   ]
  },
  {
   "cell_type": "code",
   "execution_count": 2,
   "id": "f0f02287",
   "metadata": {
    "ExecuteTime": {
     "end_time": "2023-02-05T14:42:44.566074Z",
     "start_time": "2023-02-05T14:42:44.563113Z"
    }
   },
   "outputs": [],
   "source": [
    "sys.path.append(\"/home/jovyan/core/config/\")\n",
    "sys.path.append(\"/home/jovyan/core/util/\")"
   ]
  },
  {
   "cell_type": "code",
   "execution_count": 3,
   "id": "08c511e8",
   "metadata": {
    "ExecuteTime": {
     "end_time": "2023-02-05T14:42:44.730487Z",
     "start_time": "2023-02-05T14:42:44.567909Z"
    }
   },
   "outputs": [],
   "source": [
    "from ALL import config \n",
    "from util import *"
   ]
  },
  {
   "cell_type": "markdown",
   "id": "dcba4e90",
   "metadata": {},
   "source": [
    "## Setting"
   ]
  },
  {
   "cell_type": "code",
   "execution_count": 4,
   "id": "658f00f6",
   "metadata": {
    "ExecuteTime": {
     "end_time": "2023-02-05T14:42:44.739848Z",
     "start_time": "2023-02-05T14:42:44.736933Z"
    }
   },
   "outputs": [],
   "source": [
    "pd.set_option('display.max_rows', 100)\n",
    "pd.set_option('display.max_columns', 100)"
   ]
  },
  {
   "cell_type": "code",
   "execution_count": 5,
   "id": "29b1a8ac",
   "metadata": {
    "ExecuteTime": {
     "end_time": "2023-02-05T14:42:44.745282Z",
     "start_time": "2023-02-05T14:42:44.741863Z"
    }
   },
   "outputs": [],
   "source": [
    "s3 = S3Manager()"
   ]
  },
  {
   "cell_type": "markdown",
   "id": "bca4a291",
   "metadata": {},
   "source": [
    "# Read data"
   ]
  },
  {
   "cell_type": "code",
   "execution_count": 6,
   "id": "a283eb18",
   "metadata": {
    "ExecuteTime": {
     "end_time": "2023-02-05T14:42:45.092191Z",
     "start_time": "2023-02-05T14:42:44.747398Z"
    }
   },
   "outputs": [],
   "source": [
    "newsgroups_train = fetch_20newsgroups(subset='all')"
   ]
  },
  {
   "cell_type": "code",
   "execution_count": 7,
   "id": "f79ea8c3",
   "metadata": {
    "ExecuteTime": {
     "end_time": "2023-02-05T14:42:45.097678Z",
     "start_time": "2023-02-05T14:42:45.094827Z"
    }
   },
   "outputs": [],
   "source": [
    "classes = {num:label for num, label in enumerate(newsgroups_train.target_names)}"
   ]
  },
  {
   "cell_type": "code",
   "execution_count": 8,
   "id": "9674e18e",
   "metadata": {
    "ExecuteTime": {
     "end_time": "2023-02-05T14:42:45.103647Z",
     "start_time": "2023-02-05T14:42:45.099848Z"
    }
   },
   "outputs": [],
   "source": [
    "class_labels = classes.values()"
   ]
  },
  {
   "cell_type": "code",
   "execution_count": 9,
   "id": "525d230d",
   "metadata": {
    "ExecuteTime": {
     "end_time": "2023-02-05T14:42:45.109682Z",
     "start_time": "2023-02-05T14:42:45.105560Z"
    }
   },
   "outputs": [],
   "source": [
    "newsgroups_dict = {\n",
    "    \"text\":newsgroups_train.data,\n",
    "    \"filenames\":newsgroups_train.filenames,\n",
    "    \"class\":newsgroups_train.target,\n",
    "}"
   ]
  },
  {
   "cell_type": "code",
   "execution_count": 10,
   "id": "e108d6a8",
   "metadata": {
    "ExecuteTime": {
     "end_time": "2023-02-05T14:42:45.584906Z",
     "start_time": "2023-02-05T14:42:45.112844Z"
    }
   },
   "outputs": [],
   "source": [
    "df = pd.DataFrame(newsgroups_dict.values(), index=newsgroups_dict.keys()).T"
   ]
  },
  {
   "cell_type": "code",
   "execution_count": 11,
   "id": "c748ae8e",
   "metadata": {
    "ExecuteTime": {
     "end_time": "2023-02-05T14:42:45.630615Z",
     "start_time": "2023-02-05T14:42:45.603000Z"
    }
   },
   "outputs": [],
   "source": [
    "df[\"class\"] = df[\"class\"].replace(classes)"
   ]
  },
  {
   "cell_type": "markdown",
   "id": "8a2b1bc6",
   "metadata": {},
   "source": [
    "# output"
   ]
  },
  {
   "cell_type": "markdown",
   "id": "4dd6d970",
   "metadata": {},
   "source": [
    "## make file"
   ]
  },
  {
   "cell_type": "code",
   "execution_count": 12,
   "id": "00880607",
   "metadata": {
    "ExecuteTime": {
     "end_time": "2023-02-05T14:42:47.629213Z",
     "start_time": "2023-02-05T14:42:46.796559Z"
    }
   },
   "outputs": [],
   "source": [
    "with open(make_filepath(f\"../../temporary/DataShaping/20News/class.csv\"), \"w\") as f:\n",
    "    writer = csv.writer(f)\n",
    "    writer.writerow(class_labels)\n",
    "df.to_csv(make_filepath(f\"../../temporary/DataShaping/20News/master.csv\"))"
   ]
  },
  {
   "cell_type": "markdown",
   "id": "876bbb63",
   "metadata": {},
   "source": [
    "## upload file"
   ]
  },
  {
   "cell_type": "code",
   "execution_count": 18,
   "id": "8a44bb5f",
   "metadata": {
    "ExecuteTime": {
     "end_time": "2023-02-05T14:43:53.377578Z",
     "start_time": "2023-02-05T14:43:52.572024Z"
    }
   },
   "outputs": [
    {
     "data": {
      "text/plain": [
       "'../../temporary/DataShaping/20News'"
      ]
     },
     "execution_count": 18,
     "metadata": {},
     "output_type": "execute_result"
    }
   ],
   "source": [
    "s3.upload(\"../../temporary/DataShaping/20News\", \"DataShaping/20News/\")"
   ]
  },
  {
   "cell_type": "code",
   "execution_count": 20,
   "id": "b39ce3e8",
   "metadata": {
    "ExecuteTime": {
     "end_time": "2023-02-05T14:46:27.793567Z",
     "start_time": "2023-02-05T14:46:27.783981Z"
    }
   },
   "outputs": [
    {
     "name": "stdout",
     "output_type": "stream",
     "text": [
      "../../temporary/DataShaping/20News\n"
     ]
    }
   ],
   "source": [
    "s3.delete_local_all()"
   ]
  },
  {
   "cell_type": "code",
   "execution_count": null,
   "id": "f3b396c6",
   "metadata": {},
   "outputs": [],
   "source": [
    "shutil.rmtree(\"../../scikit_learn_data/\")"
   ]
  },
  {
   "cell_type": "code",
   "execution_count": null,
   "id": "b772b12c",
   "metadata": {},
   "outputs": [],
   "source": []
  }
 ],
 "metadata": {
  "kernelspec": {
   "display_name": "Python 3 (ipykernel)",
   "language": "python",
   "name": "python3"
  },
  "language_info": {
   "codemirror_mode": {
    "name": "ipython",
    "version": 3
   },
   "file_extension": ".py",
   "mimetype": "text/x-python",
   "name": "python",
   "nbconvert_exporter": "python",
   "pygments_lexer": "ipython3",
   "version": "3.10.8"
  },
  "toc": {
   "base_numbering": 1,
   "nav_menu": {},
   "number_sections": true,
   "sideBar": true,
   "skip_h1_title": false,
   "title_cell": "Table of Contents",
   "title_sidebar": "Contents",
   "toc_cell": false,
   "toc_position": {},
   "toc_section_display": true,
   "toc_window_display": false
  }
 },
 "nbformat": 4,
 "nbformat_minor": 5
}
