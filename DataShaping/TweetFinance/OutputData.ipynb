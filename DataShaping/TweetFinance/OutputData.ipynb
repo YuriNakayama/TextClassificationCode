{
 "cells": [
  {
   "cell_type": "markdown",
   "id": "ec218eb0",
   "metadata": {},
   "source": [
    "# import"
   ]
  },
  {
   "cell_type": "code",
   "execution_count": 1,
   "id": "5c07f6aa",
   "metadata": {
    "ExecuteTime": {
     "end_time": "2023-02-13T11:54:57.623495Z",
     "start_time": "2023-02-13T11:54:56.782188Z"
    },
    "scrolled": true
   },
   "outputs": [],
   "source": [
    "import csv\n",
    "import sys\n",
    "\n",
    "import numpy as np\n",
    "import pandas as pd\n",
    "from datasets import (get_dataset_split_names, load_dataset,\n",
    "                      load_dataset_builder)"
   ]
  },
  {
   "cell_type": "markdown",
   "id": "2543f4e4",
   "metadata": {},
   "source": [
    "## Add configuration file"
   ]
  },
  {
   "cell_type": "code",
   "execution_count": 2,
   "id": "f0f02287",
   "metadata": {
    "ExecuteTime": {
     "end_time": "2023-02-13T11:54:58.443777Z",
     "start_time": "2023-02-13T11:54:58.437836Z"
    }
   },
   "outputs": [],
   "source": [
    "sys.path.append(\"/home/jovyan/core/config/\")\n",
    "sys.path.append(\"/home/jovyan/core/util/\")"
   ]
  },
  {
   "cell_type": "code",
   "execution_count": 3,
   "id": "08c511e8",
   "metadata": {
    "ExecuteTime": {
     "end_time": "2023-02-13T11:54:59.183959Z",
     "start_time": "2023-02-13T11:54:59.079516Z"
    }
   },
   "outputs": [],
   "source": [
    "from ALL import config \n",
    "from util import *"
   ]
  },
  {
   "cell_type": "markdown",
   "id": "dcba4e90",
   "metadata": {},
   "source": [
    "## Setting"
   ]
  },
  {
   "cell_type": "code",
   "execution_count": 4,
   "id": "658f00f6",
   "metadata": {
    "ExecuteTime": {
     "end_time": "2023-02-13T11:54:59.977635Z",
     "start_time": "2023-02-13T11:54:59.973287Z"
    }
   },
   "outputs": [],
   "source": [
    "pd.set_option('display.max_rows', 100)\n",
    "pd.set_option('display.max_columns', 100)"
   ]
  },
  {
   "cell_type": "code",
   "execution_count": 5,
   "id": "29b1a8ac",
   "metadata": {
    "ExecuteTime": {
     "end_time": "2023-02-13T11:55:00.232621Z",
     "start_time": "2023-02-13T11:55:00.224283Z"
    }
   },
   "outputs": [],
   "source": [
    "s3 = S3Manager()"
   ]
  },
  {
   "cell_type": "markdown",
   "id": "bca4a291",
   "metadata": {},
   "source": [
    "# Read data"
   ]
  },
  {
   "cell_type": "code",
   "execution_count": 6,
   "id": "f3c9cc11",
   "metadata": {
    "ExecuteTime": {
     "end_time": "2023-02-13T11:55:18.467526Z",
     "start_time": "2023-02-13T11:55:17.899818Z"
    },
    "scrolled": true
   },
   "outputs": [
    {
     "data": {
      "application/vnd.jupyter.widget-view+json": {
       "model_id": "1b99db8823814003acf7b486d43f494d",
       "version_major": 2,
       "version_minor": 0
      },
      "text/plain": [
       "Downloading readme:   0%|          | 0.00/2.15k [00:00<?, ?B/s]"
      ]
     },
     "metadata": {},
     "output_type": "display_data"
    },
    {
     "name": "stderr",
     "output_type": "stream",
     "text": [
      "Using custom data configuration zeroshot--twitter-financial-news-topic-7546d9df5195ffd4\n"
     ]
    }
   ],
   "source": [
    "split = get_dataset_split_names(\"zeroshot/twitter-financial-news-topic\")"
   ]
  },
  {
   "cell_type": "code",
   "execution_count": 7,
   "id": "075a5876",
   "metadata": {
    "ExecuteTime": {
     "end_time": "2023-02-13T11:55:25.823149Z",
     "start_time": "2023-02-13T11:55:24.525986Z"
    },
    "collapsed": true
   },
   "outputs": [
    {
     "name": "stderr",
     "output_type": "stream",
     "text": [
      "Using custom data configuration zeroshot--twitter-financial-news-topic-7546d9df5195ffd4\n"
     ]
    },
    {
     "name": "stdout",
     "output_type": "stream",
     "text": [
      "Downloading and preparing dataset csv/zeroshot--twitter-financial-news-topic to /home/jovyan/.cache/huggingface/datasets/zeroshot___csv/zeroshot--twitter-financial-news-topic-7546d9df5195ffd4/0.0.0/6b34fb8fcf56f7c8ba51dc895bfa2bfbe43546f190a60fcf74bb5e8afdcc2317...\n"
     ]
    },
    {
     "data": {
      "application/vnd.jupyter.widget-view+json": {
       "model_id": "ecf1e86889944a1c8f70b1e6fddb010d",
       "version_major": 2,
       "version_minor": 0
      },
      "text/plain": [
       "Downloading data files:   0%|          | 0/2 [00:00<?, ?it/s]"
      ]
     },
     "metadata": {},
     "output_type": "display_data"
    },
    {
     "data": {
      "application/vnd.jupyter.widget-view+json": {
       "model_id": "6fe08ed214884cc2b3e9323c7e343209",
       "version_major": 2,
       "version_minor": 0
      },
      "text/plain": [
       "Downloading data:   0%|          | 0.00/2.39M [00:00<?, ?B/s]"
      ]
     },
     "metadata": {},
     "output_type": "display_data"
    },
    {
     "data": {
      "application/vnd.jupyter.widget-view+json": {
       "model_id": "2ef895c8bed04d1c846b38168d5b34df",
       "version_major": 2,
       "version_minor": 0
      },
      "text/plain": [
       "Downloading data:   0%|          | 0.00/580k [00:00<?, ?B/s]"
      ]
     },
     "metadata": {},
     "output_type": "display_data"
    },
    {
     "data": {
      "application/vnd.jupyter.widget-view+json": {
       "model_id": "39d8f0f0169f4d3882ad8bf59012a771",
       "version_major": 2,
       "version_minor": 0
      },
      "text/plain": [
       "Extracting data files:   0%|          | 0/2 [00:00<?, ?it/s]"
      ]
     },
     "metadata": {},
     "output_type": "display_data"
    },
    {
     "data": {
      "application/vnd.jupyter.widget-view+json": {
       "model_id": "",
       "version_major": 2,
       "version_minor": 0
      },
      "text/plain": [
       "Generating train split: 0 examples [00:00, ? examples/s]"
      ]
     },
     "metadata": {},
     "output_type": "display_data"
    },
    {
     "name": "stderr",
     "output_type": "stream",
     "text": [
      "/opt/conda/lib/python3.10/site-packages/datasets/download/streaming_download_manager.py:776: FutureWarning: the 'mangle_dupe_cols' keyword is deprecated and will be removed in a future version. Please take steps to stop the use of 'mangle_dupe_cols'\n",
      "  return pd.read_csv(xopen(filepath_or_buffer, \"rb\", use_auth_token=use_auth_token), **kwargs)\n"
     ]
    },
    {
     "data": {
      "application/vnd.jupyter.widget-view+json": {
       "model_id": "",
       "version_major": 2,
       "version_minor": 0
      },
      "text/plain": [
       "Generating validation split: 0 examples [00:00, ? examples/s]"
      ]
     },
     "metadata": {},
     "output_type": "display_data"
    },
    {
     "name": "stdout",
     "output_type": "stream",
     "text": [
      "Dataset csv downloaded and prepared to /home/jovyan/.cache/huggingface/datasets/zeroshot___csv/zeroshot--twitter-financial-news-topic-7546d9df5195ffd4/0.0.0/6b34fb8fcf56f7c8ba51dc895bfa2bfbe43546f190a60fcf74bb5e8afdcc2317. Subsequent calls will reuse this data.\n"
     ]
    },
    {
     "name": "stderr",
     "output_type": "stream",
     "text": [
      "/opt/conda/lib/python3.10/site-packages/datasets/download/streaming_download_manager.py:776: FutureWarning: the 'mangle_dupe_cols' keyword is deprecated and will be removed in a future version. Please take steps to stop the use of 'mangle_dupe_cols'\n",
      "  return pd.read_csv(xopen(filepath_or_buffer, \"rb\", use_auth_token=use_auth_token), **kwargs)\n"
     ]
    },
    {
     "data": {
      "application/vnd.jupyter.widget-view+json": {
       "model_id": "8ba9109bb349405fa8dc87ed87b85974",
       "version_major": 2,
       "version_minor": 0
      },
      "text/plain": [
       "  0%|          | 0/2 [00:00<?, ?it/s]"
      ]
     },
     "metadata": {},
     "output_type": "display_data"
    }
   ],
   "source": [
    "datasets = load_dataset(\"zeroshot/twitter-financial-news-topic\", split = split)"
   ]
  },
  {
   "cell_type": "code",
   "execution_count": 8,
   "id": "326b58b5",
   "metadata": {
    "ExecuteTime": {
     "end_time": "2023-02-13T11:55:40.521105Z",
     "start_time": "2023-02-13T11:55:40.497815Z"
    }
   },
   "outputs": [],
   "source": [
    "df = pd.concat([dataset.to_pandas() for dataset in datasets])"
   ]
  },
  {
   "cell_type": "code",
   "execution_count": 9,
   "id": "77239189",
   "metadata": {
    "ExecuteTime": {
     "end_time": "2023-02-13T11:55:41.756115Z",
     "start_time": "2023-02-13T11:55:41.738742Z"
    },
    "scrolled": true
   },
   "outputs": [],
   "source": [
    "df = df.drop_duplicates()"
   ]
  },
  {
   "cell_type": "code",
   "execution_count": 12,
   "id": "2f535861",
   "metadata": {
    "ExecuteTime": {
     "end_time": "2023-02-13T11:55:56.744189Z",
     "start_time": "2023-02-13T11:55:56.737520Z"
    },
    "scrolled": true
   },
   "outputs": [],
   "source": [
    "df = df.rename(columns={\"label\": \"class\"})"
   ]
  },
  {
   "cell_type": "code",
   "execution_count": 18,
   "id": "6370275c",
   "metadata": {
    "ExecuteTime": {
     "end_time": "2023-02-13T11:58:42.836319Z",
     "start_time": "2023-02-13T11:58:42.375991Z"
    }
   },
   "outputs": [
    {
     "name": "stderr",
     "output_type": "stream",
     "text": [
      "Using custom data configuration zeroshot--twitter-financial-news-topic-7546d9df5195ffd4\n"
     ]
    }
   ],
   "source": [
    "ds_builder = load_dataset_builder(\"zeroshot/twitter-financial-news-topic\")"
   ]
  },
  {
   "cell_type": "code",
   "execution_count": 32,
   "id": "148e5eb5",
   "metadata": {
    "ExecuteTime": {
     "end_time": "2023-02-13T12:04:08.551611Z",
     "start_time": "2023-02-13T12:04:08.546498Z"
    }
   },
   "outputs": [],
   "source": [
    "topics = {\n",
    "    0: \"Analyst Update\",\n",
    "    1: \"Fed | Central Banks\",\n",
    "    2: \"Company | Product News\",\n",
    "    3: \"Treasuries | Corporate Debt\",\n",
    "    4: \"Dividend\",\n",
    "    5: \"Earnings\",\n",
    "    6: \"Energy | Oil\",\n",
    "    7: \"Financials\",\n",
    "    8: \"Currencies\",\n",
    "    9: \"General News | Opinion\",\n",
    "    10: \"Gold | Metals | Materials\",\n",
    "    11: \"IPO\",\n",
    "    12: \"Legal | Regulation\",\n",
    "    13: \"M&A | Investments\",\n",
    "    14: \"Macro\",\n",
    "    15: \"Markets\",\n",
    "    16: \"Politics\",\n",
    "    17: \"Personnel Change\",\n",
    "    18: \"Stock Commentary\",\n",
    "    19: \"Stock Movement\",\n",
    "}"
   ]
  },
  {
   "cell_type": "code",
   "execution_count": 34,
   "id": "ebc7849b",
   "metadata": {
    "ExecuteTime": {
     "end_time": "2023-02-13T12:04:34.845474Z",
     "start_time": "2023-02-13T12:04:34.832012Z"
    }
   },
   "outputs": [],
   "source": [
    "df[\"class\"] = df[\"class\"].replace(topics)"
   ]
  },
  {
   "cell_type": "code",
   "execution_count": 35,
   "id": "e46a394b",
   "metadata": {
    "ExecuteTime": {
     "end_time": "2023-02-13T12:05:08.527888Z",
     "start_time": "2023-02-13T12:05:08.522300Z"
    },
    "scrolled": true
   },
   "outputs": [],
   "source": [
    "class_labels = topics.values()"
   ]
  },
  {
   "cell_type": "markdown",
   "id": "8a2b1bc6",
   "metadata": {
    "heading_collapsed": true
   },
   "source": [
    "# output"
   ]
  },
  {
   "cell_type": "markdown",
   "id": "4dd6d970",
   "metadata": {
    "hidden": true
   },
   "source": [
    "## make file"
   ]
  },
  {
   "cell_type": "code",
   "execution_count": 36,
   "id": "00880607",
   "metadata": {
    "ExecuteTime": {
     "end_time": "2023-02-13T12:05:26.199408Z",
     "start_time": "2023-02-13T12:05:25.858375Z"
    },
    "hidden": true
   },
   "outputs": [],
   "source": [
    "with open(make_filepath(f\"../../temporary/DataShaping/TweetFinance/class.csv\"), \"w\") as f:\n",
    "    writer = csv.writer(f)\n",
    "    writer.writerow(class_labels)\n",
    "df.to_csv(make_filepath(f\"../../temporary/DataShaping/TweetFinance/master.csv\"))"
   ]
  },
  {
   "cell_type": "markdown",
   "id": "876bbb63",
   "metadata": {
    "hidden": true
   },
   "source": [
    "## upload file"
   ]
  },
  {
   "cell_type": "code",
   "execution_count": 37,
   "id": "8a44bb5f",
   "metadata": {
    "ExecuteTime": {
     "end_time": "2023-02-13T12:05:41.253046Z",
     "start_time": "2023-02-13T12:05:39.877114Z"
    },
    "hidden": true
   },
   "outputs": [
    {
     "data": {
      "text/plain": [
       "'../../temporary/DataShaping/TweetFinance'"
      ]
     },
     "execution_count": 37,
     "metadata": {},
     "output_type": "execute_result"
    }
   ],
   "source": [
    "s3.upload(\"../../temporary/DataShaping/TweetFinance\", \"DataShaping/TweetFinance/\")"
   ]
  },
  {
   "cell_type": "code",
   "execution_count": 38,
   "id": "b39ce3e8",
   "metadata": {
    "ExecuteTime": {
     "end_time": "2023-02-13T12:05:42.788341Z",
     "start_time": "2023-02-13T12:05:42.773068Z"
    },
    "hidden": true
   },
   "outputs": [
    {
     "name": "stdout",
     "output_type": "stream",
     "text": [
      "../../temporary/DataShaping/TweetFinance\n"
     ]
    }
   ],
   "source": [
    "s3.delete_local_all()"
   ]
  },
  {
   "cell_type": "code",
   "execution_count": null,
   "id": "3e6f765b",
   "metadata": {
    "hidden": true
   },
   "outputs": [],
   "source": []
  },
  {
   "cell_type": "code",
   "execution_count": null,
   "id": "a54b1075",
   "metadata": {
    "hidden": true
   },
   "outputs": [],
   "source": []
  }
 ],
 "metadata": {
  "kernelspec": {
   "display_name": "Python 3 (ipykernel)",
   "language": "python",
   "name": "python3"
  },
  "language_info": {
   "codemirror_mode": {
    "name": "ipython",
    "version": 3
   },
   "file_extension": ".py",
   "mimetype": "text/x-python",
   "name": "python",
   "nbconvert_exporter": "python",
   "pygments_lexer": "ipython3",
   "version": "3.10.8"
  },
  "toc": {
   "base_numbering": 1,
   "nav_menu": {},
   "number_sections": true,
   "sideBar": true,
   "skip_h1_title": false,
   "title_cell": "Table of Contents",
   "title_sidebar": "Contents",
   "toc_cell": false,
   "toc_position": {},
   "toc_section_display": true,
   "toc_window_display": false
  }
 },
 "nbformat": 4,
 "nbformat_minor": 5
}
